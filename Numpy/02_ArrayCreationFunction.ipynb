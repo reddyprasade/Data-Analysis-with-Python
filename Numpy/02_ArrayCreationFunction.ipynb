{
 "cells": [
  {
   "cell_type": "markdown",
   "metadata": {},
   "source": [
    "# Array Creation Function"
   ]
  },
  {
   "cell_type": "code",
   "execution_count": null,
   "metadata": {},
   "outputs": [],
   "source": [
    "# import numpy \n",
    "import numpy as np "
   ]
  },
  {
   "cell_type": "markdown",
   "metadata": {},
   "source": [
    "## Generate arrays using `zeros()`\n",
    "- Returns an array of given shape and type filled with zeros \n",
    "- **Syntax:** `np.zeros(shape, dtype)`\n",
    "    - shape - integer or sequence of integers\n",
    "    - dtype - data type(default: float)"
   ]
  },
  {
   "cell_type": "code",
   "execution_count": null,
   "metadata": {},
   "outputs": [],
   "source": [
    "# 1D array of length 3 with all values 0 \n",
    "Z1 = np.zeros(3)\n",
    "print(Z1)"
   ]
  },
  {
   "cell_type": "code",
   "execution_count": null,
   "metadata": {},
   "outputs": [],
   "source": [
    "# 2D array of 3x4 with all values 0 \n",
    "Z2 = np.zeros((3,4))\n",
    "print(Z2)"
   ]
  },
  {
   "cell_type": "markdown",
   "metadata": {},
   "source": [
    "## Generate arrays using `ones()`\n",
    "- Returns an array of given shape and type filled with ones \n",
    "- **Syntax:** `np.ones(shape, dtype)`\n",
    "    - shape - integer or sequence of integers \n",
    "    - dtype - data type(default: float) "
   ]
  },
  {
   "cell_type": "code",
   "execution_count": null,
   "metadata": {},
   "outputs": [],
   "source": [
    "# 1D array of length 3 with all values 1\n",
    "A1 = np.ones(3)  \n",
    "print(A1) "
   ]
  },
  {
   "cell_type": "markdown",
   "metadata": {},
   "source": [
    "__Note__\n",
    "- Rows = 3 \n",
    "- Columns = 4 "
   ]
  },
  {
   "cell_type": "code",
   "execution_count": null,
   "metadata": {},
   "outputs": [],
   "source": [
    "# 2D array of 3x4 with all values 1\n",
    "A2 = np.ones((3,4))\n",
    "A2\n",
    "print(A2) "
   ]
  },
  {
   "cell_type": "markdown",
   "metadata": {},
   "source": [
    "## Generate arrays using `arange()`\n",
    "- Returns equally spaced numbers with in the given range based on step size. \n",
    "- **Syntax:** `np.arange(start, stop, step)`\n",
    "    - start- starts of interval range \n",
    "    - stop - end of interval range '\n",
    "    - step - step size of interval "
   ]
  },
  {
   "cell_type": "code",
   "execution_count": null,
   "metadata": {},
   "outputs": [],
   "source": [
    "# not specify start and step \n",
    "A1 = np.arange(10)\n",
    "print(A1)"
   ]
  },
  {
   "cell_type": "code",
   "execution_count": null,
   "metadata": {},
   "outputs": [],
   "source": [
    "# specifying start and step \n",
    "A2 = np.arange(start=1, stop=10, step=2)\n",
    "print(A2)"
   ]
  },
  {
   "cell_type": "code",
   "execution_count": null,
   "metadata": {},
   "outputs": [],
   "source": [
    "# another way \n",
    "A3 = np.arange(10, 25, 2)\n",
    "print(A3)"
   ]
  },
  {
   "cell_type": "markdown",
   "metadata": {},
   "source": [
    "## Generate arrays using `linspace()`\n",
    "- Returns equally spaced numbers within the given range based on the sample number. \n",
    "- **Syntax:**  `np.linspace(start, stop, num, dtype, retstep)`\n",
    "    - start-start of interval range \n",
    "    - stop-end of the interval range \n",
    "    - num- number of samples to be generated \n",
    "    - dtype-type of output array \n",
    "    - retstep-return the samples, step values "
   ]
  },
  {
   "cell_type": "code",
   "execution_count": null,
   "metadata": {},
   "outputs": [],
   "source": [
    "# array of evenly spaced values 0 to 2, here sample size = 9\n",
    "L1 = np.linspace(0,2,9)\n",
    "print(L1)"
   ]
  },
  {
   "cell_type": "code",
   "execution_count": null,
   "metadata": {},
   "outputs": [],
   "source": [
    "# Array of 6 evenly divided values from 0 to 100\n",
    "L2 = np.linspace(0, 100, 6)\n",
    "print(L2) "
   ]
  },
  {
   "cell_type": "code",
   "execution_count": null,
   "metadata": {},
   "outputs": [],
   "source": [
    "# Array of 1 to 5\n",
    "L3 = np.linspace(start=1, stop=5, endpoint=True, retstep=False)\n",
    "print(L3) "
   ]
  },
  {
   "cell_type": "code",
   "execution_count": null,
   "metadata": {},
   "outputs": [],
   "source": [
    "# Array of 1 to 5\n",
    "L4 = np.linspace(start=1, stop=5, endpoint=True, retstep=True)\n",
    "print(L4) "
   ]
  },
  {
   "cell_type": "markdown",
   "metadata": {},
   "source": [
    "__Specifying Endpoint__\n",
    "- `endpoint=True`, inlcude 5 \n",
    "- `endpoint=False`,exclude 5 \n",
    "\n",
    "__Specifying Retstep__\n",
    "- `retstep=False`, doesn't return the step value\n",
    "- `endpoint=False`, returns the samples as well step value "
   ]
  },
  {
   "cell_type": "markdown",
   "metadata": {},
   "source": [
    "## Generate arrays using `logspace()`\n",
    "- Returns equally spaced numbers within the given range based on the log scale. \n",
    "- **Syntax:**  `np.logspace(start, stop, num, endpoint, base, dtype, retstep)`\n",
    "    - start- start of the sequence \n",
    "    - stop- end of the sequence  \n",
    "    - num- number of samples to be generated(default: 50)  \n",
    "    - dtype- type of output array \n",
    "    - retstep- return the samples, step values \n",
    "    - endpoint - if true, stop is the last sample \n",
    "    - base - base of the log space(default: 10.0) "
   ]
  },
  {
   "cell_type": "code",
   "execution_count": null,
   "metadata": {},
   "outputs": [],
   "source": [
    "# generate an array with 5 samples with base 10.0 \n",
    "np.logspace(1, 10, num=5, endpoint=True)"
   ]
  },
  {
   "cell_type": "code",
   "execution_count": null,
   "metadata": {},
   "outputs": [],
   "source": [
    "# generate an array with 5 samples with base 2.0\n",
    "np.logspace(1, 10, num=5, endpoint=True, base=2.0)"
   ]
  },
  {
   "cell_type": "markdown",
   "metadata": {},
   "source": [
    "## Generate constant arrays using `full()` \n",
    "- Return a new array of given shape and type, filled with `fill_value`. \n",
    "- **Syntax:** `np.full(shape,fill_value, dtype)`\n",
    "    - shape - Shape of the new array, e.g., ``(2, 3)`` or ``2``.\n",
    "    - fill_value - Fill value(scaler).\n",
    "    - dtype - The desired data-type for the array"
   ]
  },
  {
   "cell_type": "code",
   "execution_count": null,
   "metadata": {},
   "outputs": [],
   "source": [
    "# generate 2x2 constant array, constant = 7\n",
    "C = np.full((2, 2), 7)\n",
    "print(C)"
   ]
  },
  {
   "cell_type": "markdown",
   "metadata": {},
   "source": [
    "## Creating identity matrix using `eye()`\n",
    "- An array where all elements are equal to zero, except for the `k`-th\n",
    "  diagonal, whose values are equal to one\n",
    "- **Syntax:** `np.eye(N, M, k, dtype)`\n",
    "    - N : Number of rows(int) in the output\n",
    "    - M : Number of columns in the output. If None, defaults to `N`.\n",
    "    - k : Index of the diagonal: 0 (the default) refers to the main diagonal,\n",
    "      a positive value refers to an upper diagonal, and a negative value\n",
    "      to a lower diagonal\n",
    "    - dtype: Data-type of the returned array."
   ]
  },
  {
   "cell_type": "code",
   "execution_count": null,
   "metadata": {},
   "outputs": [],
   "source": [
    "# generate 2x2 identity matrix \n",
    "I = np.eye(2)\n",
    "print(I) "
   ]
  },
  {
   "cell_type": "markdown",
   "metadata": {},
   "source": [
    "## Generate arrays using random.rand() \n",
    "- Returns an array of given shape filled with random values. \n",
    "- **Syntax:** `np.random.rand(shape)`\n",
    "    - shape - integer or sequence of integer "
   ]
  },
  {
   "cell_type": "code",
   "execution_count": null,
   "metadata": {},
   "outputs": [],
   "source": [
    "# create an array with randomly generated 5 values \n",
    "R = np.random.rand(5)\n",
    "print(R)"
   ]
  },
  {
   "cell_type": "code",
   "execution_count": null,
   "metadata": {},
   "outputs": [],
   "source": [
    "# generate 2x2 array of random values \n",
    "R1 = np.random.random((2, 2))\n",
    "print(R1)"
   ]
  },
  {
   "cell_type": "code",
   "execution_count": null,
   "metadata": {},
   "outputs": [],
   "source": [
    "# generate 4x5 array of random floats between 0-1\n",
    "R2 = np.random.rand(4,5)\n",
    "print(R2)"
   ]
  },
  {
   "cell_type": "code",
   "execution_count": null,
   "metadata": {},
   "outputs": [],
   "source": [
    "# generate 6x7 array of random floats between 0-100\n",
    "R3 = np.random.rand(6,7)*100\n",
    "print(R3)"
   ]
  },
  {
   "cell_type": "code",
   "execution_count": null,
   "metadata": {},
   "outputs": [],
   "source": [
    "# generate 2x3 array of random ints between 0-4\n",
    "R4 = np.random.randint(5, size=(2,3))\n",
    "print(R4)"
   ]
  },
  {
   "cell_type": "markdown",
   "metadata": {},
   "source": [
    "## Generate empty arrays using `empty()`\n",
    "- Return a new array of given shape and type, without initializing entries.\n",
    "- **Syntax:** `np.empty(shape, dtype)`\n",
    "    - shape - integer or tuple of integer\n",
    "    - dtype - data-type\n"
   ]
  },
  {
   "cell_type": "code",
   "execution_count": null,
   "metadata": {},
   "outputs": [],
   "source": [
    "# generate an empty array \n",
    "E1 = np.empty(2) \n",
    "print(E1)"
   ]
  },
  {
   "cell_type": "code",
   "execution_count": null,
   "metadata": {},
   "outputs": [],
   "source": [
    "# 2x2 empty array\n",
    "E2 = np.empty((2, 2)) \n",
    "print(E2)"
   ]
  },
  {
   "cell_type": "markdown",
   "metadata": {},
   "source": [
    "## Arrays using specific data type \n",
    "- float16\n",
    "- float32 \n",
    "- int8\n",
    "\n",
    "__SEE MORE__\n",
    "- https://numpy.org/devdocs/user/basics.types.html"
   ]
  },
  {
   "cell_type": "code",
   "execution_count": null,
   "metadata": {},
   "outputs": [],
   "source": [
    "# generate an array of floats \n",
    "D = np.ones((2, 3, 4), dtype=np.float16)\n",
    "D"
   ]
  }
 ],
 "metadata": {
  "author": "me ",
  "kernelspec": {
   "display_name": "Python 3",
   "language": "python",
   "name": "python3"
  },
  "language_info": {
   "codemirror_mode": {
    "name": "ipython",
    "version": 3
   },
   "file_extension": ".py",
   "mimetype": "text/x-python",
   "name": "python",
   "nbconvert_exporter": "python",
   "pygments_lexer": "ipython3",
   "version": "3.8.3"
  },
  "latex_envs": {
   "LaTeX_envs_menu_present": true,
   "autoclose": false,
   "autocomplete": true,
   "bibliofile": "biblio.bib",
   "cite_by": "apalike",
   "current_citInitial": 1,
   "eqLabelWithNumbers": true,
   "eqNumInitial": 1,
   "hotkeys": {
    "equation": "Ctrl-E",
    "itemize": "Ctrl-I"
   },
   "labels_anchors": false,
   "latex_user_defs": false,
   "report_style_numbering": false,
   "user_envs_cfg": false
  },
  "toc": {
   "base_numbering": 1,
   "nav_menu": {},
   "number_sections": true,
   "sideBar": true,
   "skip_h1_title": false,
   "title_cell": "Table of Contents",
   "title_sidebar": "Contents",
   "toc_cell": true,
   "toc_position": {},
   "toc_section_display": true,
   "toc_window_display": false
  }
 },
 "nbformat": 4,
 "nbformat_minor": 2
}
