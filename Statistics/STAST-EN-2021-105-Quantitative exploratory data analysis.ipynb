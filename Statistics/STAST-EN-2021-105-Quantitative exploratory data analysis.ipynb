{
  "cells":[
    {
      "cell_type":"markdown",
      "source":[
        "# Quantitative exploratory data analysis\n",
        "* Univariate EDA for a quantitative variable is a way to make preliminary assessments about the population distribution of he variable using the data of the observed sample.\n",
        "* The characteristics of the population distribution of a quantitative variable are its center, spread, modality (number of peaks in the pdf), shape (including “heaviness of the tails”), and outliers. \n",
        "* Our observed data represent just one sample out of an infinite number of possible samples. \n",
        "* The characteristics of our randomly observed sample are not inherently interesting, except to the degree that they represent the population that it came from.\n",
        "* What we observe in the sample of measurements for a particular variable that  we select for our particular experiment is the “sample distribution”.\n",
        "* We need to recognize that this would be different each time we might repeat the same experiment, due to selection of a different random sample, a different treatment randomization, and different random (incompletely controlled) experimental conditions. \n",
        "* In addition we can calculate “sample statistics” from the data, such as sample mean, sample variance, sample standard deviation, sample skewness and sample kurtosis.\n",
        "* These again would vary for each repetition of the experiment, so they don’t represent any deep truth, but rather represent some uncertain information about the underlying population distribution and its parameters, which are what we really care about.\n",
        "\n",
        "<b>\n",
        "\n",
        "1. Introduction to summary statistics: The sample mean and median\n",
        "    1. Computing means\n",
        "2. Percentiles, outliers, and box plots\n",
        "    1. Compute percentiles\n",
        "    2. Comparing percentiles to ECDF\n",
        "    3. Box-and-whisker plot\n",
        "3. Variance and standard deviation\n",
        "    1. Computing the variance\n",
        "    2. The standard deviation and the variance\n",
        "4. Covariance and the Pearson correlation coefficient\n",
        "    1. Scatter plots\n",
        "    2. Computing the covariance\n",
        "    3. Computing the Pearson correlation coefficient\n",
        "\n",
        "\n",
        "<\/b>"
      ],
      "metadata":{
        
      }
    },
    {
      "cell_type":"code",
      "source":[
        "import pandas as pd\n",
        "import numpy as np\n",
        "import matplotlib.pyplot as plt\n",
        "import seaborn as sns"
      ],
      "execution_count":1,
      "outputs":[
        
      ],
      "metadata":{
        
      }
    },
    {
      "cell_type":"code",
      "source":[
        "path = \"https:\/\/raw.githubusercontent.com\/reddyprasade\/Data-Analysis-with-Python\/main\/Statistics\/Data\/iris_lables.csv\""
      ],
      "execution_count":12,
      "outputs":[
        
      ],
      "metadata":{
        
      }
    },
    {
      "cell_type":"code",
      "source":[
        "sns.set()\n",
        "\n",
        "df = pd.read_csv(path)\n",
        "renamed_columns = ['sepal length (cm)', 'sepal width (cm)', \n",
        "                   'petal length (cm)', 'petal width (cm)', 'species']\n",
        "df.columns = renamed_columns\n",
        "\n",
        "\n",
        "versicolor_petal_length = df[df['species'] == 'Versicolor']['petal length (cm)']\n",
        "setosa_petal_length = df[df['species'] == 'Setosa']['petal length (cm)']\n",
        "virginica_petal_length = df[df['species'] == 'Virginica']['petal length (cm)']\n",
        "versicolor_petal_width = df[df['species'] == 'Versicolor']['petal width (cm)']"
      ],
      "execution_count":13,
      "outputs":[
        
      ],
      "metadata":{
        
      }
    },
    {
      "cell_type":"code",
      "source":[
        "df.columns = renamed_columns\n",
        "df.head()"
      ],
      "execution_count":14,
      "outputs":[
        {
          "data":{
            "text\/html":[
              "<div>\n",
              "<style scoped>\n",
              "    .dataframe tbody tr th:only-of-type {\n",
              "        vertical-align: middle;\n",
              "    }\n",
              "\n",
              "    .dataframe tbody tr th {\n",
              "        vertical-align: top;\n",
              "    }\n",
              "\n",
              "    .dataframe thead th {\n",
              "        text-align: right;\n",
              "    }\n",
              "<\/style>\n",
              "<table border=\"1\" class=\"dataframe\">\n",
              "  <thead>\n",
              "    <tr style=\"text-align: right;\">\n",
              "      <th><\/th>\n",
              "      <th>sepal length (cm)<\/th>\n",
              "      <th>sepal width (cm)<\/th>\n",
              "      <th>petal length (cm)<\/th>\n",
              "      <th>petal width (cm)<\/th>\n",
              "      <th>species<\/th>\n",
              "    <\/tr>\n",
              "  <\/thead>\n",
              "  <tbody>\n",
              "    <tr>\n",
              "      <th>0<\/th>\n",
              "      <td>5.1<\/td>\n",
              "      <td>3.5<\/td>\n",
              "      <td>1.4<\/td>\n",
              "      <td>0.2<\/td>\n",
              "      <td>Setosa<\/td>\n",
              "    <\/tr>\n",
              "    <tr>\n",
              "      <th>1<\/th>\n",
              "      <td>4.9<\/td>\n",
              "      <td>3.0<\/td>\n",
              "      <td>1.4<\/td>\n",
              "      <td>0.2<\/td>\n",
              "      <td>Setosa<\/td>\n",
              "    <\/tr>\n",
              "    <tr>\n",
              "      <th>2<\/th>\n",
              "      <td>4.7<\/td>\n",
              "      <td>3.2<\/td>\n",
              "      <td>1.3<\/td>\n",
              "      <td>0.2<\/td>\n",
              "      <td>Setosa<\/td>\n",
              "    <\/tr>\n",
              "    <tr>\n",
              "      <th>3<\/th>\n",
              "      <td>4.6<\/td>\n",
              "      <td>3.1<\/td>\n",
              "      <td>1.5<\/td>\n",
              "      <td>0.2<\/td>\n",
              "      <td>Setosa<\/td>\n",
              "    <\/tr>\n",
              "    <tr>\n",
              "      <th>4<\/th>\n",
              "      <td>5.0<\/td>\n",
              "      <td>3.6<\/td>\n",
              "      <td>1.4<\/td>\n",
              "      <td>0.2<\/td>\n",
              "      <td>Setosa<\/td>\n",
              "    <\/tr>\n",
              "  <\/tbody>\n",
              "<\/table>\n",
              "<\/div>"
            ]
          },
          "metadata":{
            
          },
          "output_type":"display_data"
        }
      ],
      "metadata":{
        
      }
    },
    {
      "cell_type":"code",
      "source":[
        "df.tail()"
      ],
      "execution_count":15,
      "outputs":[
        {
          "data":{
            "text\/html":[
              "<div>\n",
              "<style scoped>\n",
              "    .dataframe tbody tr th:only-of-type {\n",
              "        vertical-align: middle;\n",
              "    }\n",
              "\n",
              "    .dataframe tbody tr th {\n",
              "        vertical-align: top;\n",
              "    }\n",
              "\n",
              "    .dataframe thead th {\n",
              "        text-align: right;\n",
              "    }\n",
              "<\/style>\n",
              "<table border=\"1\" class=\"dataframe\">\n",
              "  <thead>\n",
              "    <tr style=\"text-align: right;\">\n",
              "      <th><\/th>\n",
              "      <th>sepal length (cm)<\/th>\n",
              "      <th>sepal width (cm)<\/th>\n",
              "      <th>petal length (cm)<\/th>\n",
              "      <th>petal width (cm)<\/th>\n",
              "      <th>species<\/th>\n",
              "    <\/tr>\n",
              "  <\/thead>\n",
              "  <tbody>\n",
              "    <tr>\n",
              "      <th>145<\/th>\n",
              "      <td>6.7<\/td>\n",
              "      <td>3.0<\/td>\n",
              "      <td>5.2<\/td>\n",
              "      <td>2.3<\/td>\n",
              "      <td>Virginica<\/td>\n",
              "    <\/tr>\n",
              "    <tr>\n",
              "      <th>146<\/th>\n",
              "      <td>6.3<\/td>\n",
              "      <td>2.5<\/td>\n",
              "      <td>5.0<\/td>\n",
              "      <td>1.9<\/td>\n",
              "      <td>Virginica<\/td>\n",
              "    <\/tr>\n",
              "    <tr>\n",
              "      <th>147<\/th>\n",
              "      <td>6.5<\/td>\n",
              "      <td>3.0<\/td>\n",
              "      <td>5.2<\/td>\n",
              "      <td>2.0<\/td>\n",
              "      <td>Virginica<\/td>\n",
              "    <\/tr>\n",
              "    <tr>\n",
              "      <th>148<\/th>\n",
              "      <td>6.2<\/td>\n",
              "      <td>3.4<\/td>\n",
              "      <td>5.4<\/td>\n",
              "      <td>2.3<\/td>\n",
              "      <td>Virginica<\/td>\n",
              "    <\/tr>\n",
              "    <tr>\n",
              "      <th>149<\/th>\n",
              "      <td>5.9<\/td>\n",
              "      <td>3.0<\/td>\n",
              "      <td>5.1<\/td>\n",
              "      <td>1.8<\/td>\n",
              "      <td>Virginica<\/td>\n",
              "    <\/tr>\n",
              "  <\/tbody>\n",
              "<\/table>\n",
              "<\/div>"
            ]
          },
          "metadata":{
            
          },
          "output_type":"display_data"
        }
      ],
      "metadata":{
        
      }
    },
    {
      "cell_type":"code",
      "source":[
        "df.info()"
      ],
      "execution_count":16,
      "outputs":[
        {
          "name":"stdout",
          "text":[
            "<class 'pandas.core.frame.DataFrame'>\n",
            "RangeIndex: 150 entries, 0 to 149\n",
            "Data columns (total 5 columns):\n",
            " #   Column             Non-Null Count  Dtype  \n",
            "---  ------             --------------  -----  \n",
            " 0   sepal length (cm)  150 non-null    float64\n",
            " 1   sepal width (cm)   150 non-null    float64\n",
            " 2   petal length (cm)  150 non-null    float64\n",
            " 3   petal width (cm)   150 non-null    float64\n",
            " 4   species            150 non-null    object \n",
            "dtypes: float64(4), object(1)\n",
            "memory usage: 6.0+ KB\n"
          ],
          "output_type":"stream"
        }
      ],
      "metadata":{
        
      }
    },
    {
      "cell_type":"code",
      "source":[
        "df.describe()"
      ],
      "execution_count":17,
      "outputs":[
        {
          "data":{
            "text\/html":[
              "<div>\n",
              "<style scoped>\n",
              "    .dataframe tbody tr th:only-of-type {\n",
              "        vertical-align: middle;\n",
              "    }\n",
              "\n",
              "    .dataframe tbody tr th {\n",
              "        vertical-align: top;\n",
              "    }\n",
              "\n",
              "    .dataframe thead th {\n",
              "        text-align: right;\n",
              "    }\n",
              "<\/style>\n",
              "<table border=\"1\" class=\"dataframe\">\n",
              "  <thead>\n",
              "    <tr style=\"text-align: right;\">\n",
              "      <th><\/th>\n",
              "      <th>sepal length (cm)<\/th>\n",
              "      <th>sepal width (cm)<\/th>\n",
              "      <th>petal length (cm)<\/th>\n",
              "      <th>petal width (cm)<\/th>\n",
              "    <\/tr>\n",
              "  <\/thead>\n",
              "  <tbody>\n",
              "    <tr>\n",
              "      <th>count<\/th>\n",
              "      <td>150.000000<\/td>\n",
              "      <td>150.000000<\/td>\n",
              "      <td>150.000000<\/td>\n",
              "      <td>150.000000<\/td>\n",
              "    <\/tr>\n",
              "    <tr>\n",
              "      <th>mean<\/th>\n",
              "      <td>5.843333<\/td>\n",
              "      <td>3.057333<\/td>\n",
              "      <td>3.758000<\/td>\n",
              "      <td>1.199333<\/td>\n",
              "    <\/tr>\n",
              "    <tr>\n",
              "      <th>std<\/th>\n",
              "      <td>0.828066<\/td>\n",
              "      <td>0.435866<\/td>\n",
              "      <td>1.765298<\/td>\n",
              "      <td>0.762238<\/td>\n",
              "    <\/tr>\n",
              "    <tr>\n",
              "      <th>min<\/th>\n",
              "      <td>4.300000<\/td>\n",
              "      <td>2.000000<\/td>\n",
              "      <td>1.000000<\/td>\n",
              "      <td>0.100000<\/td>\n",
              "    <\/tr>\n",
              "    <tr>\n",
              "      <th>25%<\/th>\n",
              "      <td>5.100000<\/td>\n",
              "      <td>2.800000<\/td>\n",
              "      <td>1.600000<\/td>\n",
              "      <td>0.300000<\/td>\n",
              "    <\/tr>\n",
              "    <tr>\n",
              "      <th>50%<\/th>\n",
              "      <td>5.800000<\/td>\n",
              "      <td>3.000000<\/td>\n",
              "      <td>4.350000<\/td>\n",
              "      <td>1.300000<\/td>\n",
              "    <\/tr>\n",
              "    <tr>\n",
              "      <th>75%<\/th>\n",
              "      <td>6.400000<\/td>\n",
              "      <td>3.300000<\/td>\n",
              "      <td>5.100000<\/td>\n",
              "      <td>1.800000<\/td>\n",
              "    <\/tr>\n",
              "    <tr>\n",
              "      <th>max<\/th>\n",
              "      <td>7.900000<\/td>\n",
              "      <td>4.400000<\/td>\n",
              "      <td>6.900000<\/td>\n",
              "      <td>2.500000<\/td>\n",
              "    <\/tr>\n",
              "  <\/tbody>\n",
              "<\/table>\n",
              "<\/div>"
            ]
          },
          "metadata":{
            
          },
          "output_type":"display_data"
        }
      ],
      "metadata":{
        
      }
    },
    {
      "cell_type":"code",
      "source":[
        "df.isnull().sum()"
      ],
      "execution_count":18,
      "outputs":[
        {
          "data":{
            "text\/plain":[
              "sepal length (cm)    0\n",
              "sepal width (cm)     0\n",
              "petal length (cm)    0\n",
              "petal width (cm)     0\n",
              "species              0\n",
              "dtype: int64"
            ]
          },
          "metadata":{
            
          },
          "output_type":"display_data"
        }
      ],
      "metadata":{
        
      }
    },
    {
      "cell_type":"markdown",
      "source":[
        "1. Introduction to summary statistics: The sample mean and median\n",
        "    1. Mean\n",
        "    2. Median\n",
        "    3. Variance\n",
        "    4. Stand Devation\n",
        "The mean of all measurements gives an indication of the typical magnitude of a measurement. It is computed using np.mean(). "
      ],
      "metadata":{
        
      }
    },
    {
      "cell_type":"code",
      "source":[
        "# compute the mean: mean_length_vers\n",
        "mean_length_vers = np.mean(setosa_petal_length)\n",
        "\n",
        "# Print the result with some nice formatting\n",
        "print('I. Setosa:', mean_length_vers, 'cm')"
      ],
      "execution_count":20,
      "outputs":[
        {
          "name":"stdout",
          "text":[
            "I. Setosa: 1.4620000000000002 cm\n"
          ],
          "output_type":"stream"
        }
      ],
      "metadata":{
        
      }
    },
    {
      "cell_type":"code",
      "source":[
        "# compute the mean: mean_length_vers\n",
        "mean_length_vers = np.mean(versicolor_petal_length)\n",
        "\n",
        "# Print the result with some nice formatting\n",
        "print('I. versicolor:', mean_length_vers, 'cm')"
      ],
      "execution_count":21,
      "outputs":[
        {
          "name":"stdout",
          "text":[
            "I. versicolor: 4.26 cm\n"
          ],
          "output_type":"stream"
        }
      ],
      "metadata":{
        
      }
    },
    {
      "cell_type":"code",
      "source":[
        "\n",
        "std_length_vers = np.std(versicolor_petal_length)\n",
        "\n",
        "# Print the result with some nice formatting\n",
        "print('I. versicolor:', std_length_vers, 'cm')"
      ],
      "execution_count":22,
      "outputs":[
        {
          "name":"stdout",
          "text":[
            "I. versicolor: 0.4651881339845204 cm\n"
          ],
          "output_type":"stream"
        }
      ],
      "metadata":{
        
      }
    },
    {
      "cell_type":"code",
      "source":[
        "\n",
        "var_length_vers = np.var(versicolor_petal_length)\n",
        "\n",
        "# Print the result with some nice formatting\n",
        "print('I. versicolor:', var_length_vers, 'cm')"
      ],
      "execution_count":23,
      "outputs":[
        {
          "name":"stdout",
          "text":[
            "I. versicolor: 0.21640000000000012 cm\n"
          ],
          "output_type":"stream"
        }
      ],
      "metadata":{
        
      }
    },
    {
      "cell_type":"code",
      "source":[
        "\n",
        "median_length_vers = np.median(versicolor_petal_length)\n",
        "\n",
        "# Print the result with some nice formatting\n",
        "print('I. versicolor:', median_length_vers, 'cm')"
      ],
      "execution_count":24,
      "outputs":[
        {
          "name":"stdout",
          "text":[
            "I. versicolor: 4.35 cm\n"
          ],
          "output_type":"stream"
        }
      ],
      "metadata":{
        
      }
    },
    {
      "cell_type":"markdown",
      "source":[
        "## Percentiles, outliers, and box plots"
      ],
      "metadata":{
        
      }
    },
    {
      "cell_type":"markdown",
      "source":[
        "### Compute percentiles\n",
        "In this exercise, you will compute the percentiles of petal length of Iris versicolor.\n"
      ],
      "metadata":{
        
      }
    },
    {
      "cell_type":"code",
      "source":[
        "# Specify array of percentiles: percentiles\n",
        "percentiles = np.array([2.5, 25, 50, 75, 97.5])\n",
        "\n",
        "# Compute percentiles: ptiles_vers\n",
        "ptiles_vers = np.percentile(versicolor_petal_length, percentiles)\n",
        "\n",
        "# Print the result\n",
        "print(ptiles_vers)"
      ],
      "execution_count":25,
      "outputs":[
        {
          "name":"stdout",
          "text":[
            "[3.3    4.     4.35   4.6    4.9775]\n"
          ],
          "output_type":"stream"
        }
      ],
      "metadata":{
        
      }
    },
    {
      "cell_type":"markdown",
      "source":[
        "### Comparing percentiles to ECDF\n",
        "To see how the percentiles relate to the ECDF, you will plot the percentiles of Iris versicolor petal lengths you calculated in the last exercise on the ECDF plot you generated in chapter 1. \n",
        "\n",
        " Note that to ensure the Y-axis of the ECDF plot remains between 0 and 1, you will need to rescale the percentiles array accordingly - in this case, dividing it by 100."
      ],
      "metadata":{
        
      }
    },
    {
      "cell_type":"code",
      "source":[
        "def ecdf(data):\n",
        "    \"\"\"Compute ECDF for a one-dimensional array of measurements.\"\"\"\n",
        "    # Number of data points: n\n",
        "    n= len(data)\n",
        "    #x data foe ecdf\n",
        "    x = np.sort(data)\n",
        "    # y data for ecdf\n",
        "    y = np.arange(1,n+1)\/n\n",
        "\n",
        "    return x,y"
      ],
      "execution_count":26,
      "outputs":[
        
      ],
      "metadata":{
        
      }
    },
    {
      "cell_type":"code",
      "source":[
        "x_vers ,y_vers  = ecdf(versicolor_petal_length)"
      ],
      "execution_count":27,
      "outputs":[
        
      ],
      "metadata":{
        
      }
    },
    {
      "cell_type":"code",
      "source":[
        "# Plot the ECDF\n",
        "plt.figure(figsize=(20,9))\n",
        "_ = plt.plot(x_vers, y_vers, '.')\n",
        "_ = plt.xlabel('petal length (cm)')\n",
        "_ = plt.ylabel('ECDF')\n",
        "\n",
        "_ = plt.plot(ptiles_vers,percentiles\/100, marker='D', color='red', linestyle='none')"
      ],
      "execution_count":31,
      "outputs":[
        {
          "data":{
            "image\/png":"[encoded data removed]"
          },
          "metadata":{
            "image\/png":{
              "width":0,
              "height":0
            }
          },
          "output_type":"display_data"
        }
      ],
      "metadata":{
        
      }
    },
    {
      "cell_type":"markdown",
      "source":[
        "### Box-and-whisker plot\n",
        "Making a box plot for the petal lengths is unnecessary because the iris data set is not too large and the bee swarm plot works fine. However, it is always good to get some practice. Make a box plot of the iris petal lengths. You have a pandas DataFrame, df, which contains the petal length data, in your namespace. Inspect the data frame df in the IPython shell using ```df.head()``` to make sure you know what the pertinent columns are.\n",
        "\n",
        "For your reference, the code used to produce the box plot in the video is provided below:\n",
        "```python\n",
        "_ = sns.boxplot(x='east_west', y='dem_share', data=df_all_states)\n",
        "_ = plt.xlabel('region')\n",
        "_ = plt.ylabel('percent of vote for Obama')\n",
        "```\n",
        "In the IPython Shell, you can use ```sns.boxplot?``` or ```help(sns.boxplot)``` for more details on how to make box plots using seaborn."
      ],
      "metadata":{
        
      }
    },
    {
      "cell_type":"code",
      "source":[
        "plt.Figure(figsize=(20,9))\n",
        "_ = sns.boxplot(x='species', y='petal length (cm)', data=df)\n",
        "_ = plt.xlabel('species')\n",
        "_ = plt.ylabel('petal length (cm)')"
      ],
      "execution_count":34,
      "outputs":[
        
      ],
      "metadata":{
        
      }
    },
    {
      "cell_type":"markdown",
      "source":[
        "## Variance and standard deviation\n",
        "\n",
        "$$ variance = \\dfrac{1}{n}\\sum^{n}_{i=1}(x_i - \\bar{x})^2 $$"
      ],
      "metadata":{
        
      }
    },
    {
      "cell_type":"markdown",
      "source":[
        "### Computing the variance\n",
        "It is important to have some understanding of what commonly-used functions are doing under the hood. Though you may already know how to compute variances, this is a beginner course that does not assume so. In this exercise, we will explicitly compute the variance of the petal length of Iris veriscolor using the equations discussed in the videos. We will then use ```np.var()``` to compute it."
      ],
      "metadata":{
        
      }
    },
    {
      "cell_type":"code",
      "source":[
        "# Array of differnces to mean: differences\n",
        "differences = np.array(versicolor_petal_length - np.mean(versicolor_petal_length))\n",
        "differences"
      ],
      "execution_count":35,
      "outputs":[
        
      ],
      "metadata":{
        
      }
    },
    {
      "cell_type":"code",
      "source":[
        "# Square the differences: diff_sq\n",
        "diff_sq = differences ** 2\n",
        "diff_sq"
      ],
      "execution_count":37,
      "outputs":[
        
      ],
      "metadata":{
        
      }
    },
    {
      "cell_type":"code",
      "source":[
        "# Compute the mean square differences: variance_explicit\n",
        "variance_explicit = np.mean(diff_sq)\n",
        "variance_explicit"
      ],
      "execution_count":39,
      "outputs":[
        {
          "data":{
            "text\/plain":[
              "0.21640000000000004"
            ]
          },
          "metadata":{
            
          },
          "output_type":"display_data"
        }
      ],
      "metadata":{
        
      }
    },
    {
      "cell_type":"code",
      "source":[
        "# Compute the variance using NumPy: variance_np\n",
        "variance_np = np.var(differences)\n",
        "variance_np"
      ],
      "execution_count":40,
      "outputs":[
        {
          "data":{
            "text\/plain":[
              "0.21640000000000004"
            ]
          },
          "metadata":{
            
          },
          "output_type":"display_data"
        }
      ],
      "metadata":{
        
      }
    },
    {
      "cell_type":"markdown",
      "source":[
        "### The standard deviation and the variance\n",
        "As mentioned in the video, the standard deviation is the square root of the variance. You will see this for yourself by computing the standard deviation using ```np.std()``` and comparing it to what you get by computing the variance with ```np.var()``` and then computing the square root."
      ],
      "metadata":{
        
      }
    },
    {
      "cell_type":"code",
      "source":[
        "# Compute the variance: variance\n",
        "variance = np.var(versicolor_petal_length)\n",
        "\n",
        "# Print the square root of the variance\n",
        "print(np.sqrt(variance))\n",
        "\n",
        "# Print the standard deviation\n",
        "print(np.std(versicolor_petal_length))"
      ],
      "execution_count":41,
      "outputs":[
        {
          "name":"stdout",
          "text":[
            "0.4651881339845204\n",
            "0.4651881339845204\n"
          ],
          "output_type":"stream"
        }
      ],
      "metadata":{
        
      }
    },
    {
      "cell_type":"markdown",
      "source":[
        "## Covariance and the Pearson correlation coefficient\n",
        "\n",
        "$$ covariance = \\dfrac{1}{n}\\sum^{n}_{i=1}(x_i - \\bar{x})(y_i - \\bar{y})$$\n",
        "$$ \\begin{align} \\rho &= \\text{Pearson correlation} = \\dfrac{\\text{covariance}}{(\\text{std of x})(\\text{std of y})} \\\\ &= \\dfrac{\\text{variability due to codependence}}{\\text{independent variability}} \\end{align}$$"
      ],
      "metadata":{
        
      }
    },
    {
      "cell_type":"markdown",
      "source":[
        "### Scatter plots\n",
        "When you made bee swarm plots, box plots, and ECDF plots in previous exercises, you compared the petal lengths of different species of iris. But what if you want to compare two properties of a single species? This is exactly what we will do in this exercise. We will make a scatter plot of the petal length and width measurements of Anderson's Iris versicolor flowers. If the flower scales (that is, it preserves its proportion as it grows), we would expect the length and width to be correlated.\n",
        "\n",
        "For your reference, the code used to produce the scatter plot in the video is provided below:\n",
        "```python\n",
        "_ = plt.plot(total_votes\/1000, dem_share, marker='.', linestyle='none')\n",
        "_ = plt.xlabel('total votes (thousands)')\n",
        "_ = plt.ylabel('percent of vote for Obama')\n",
        "```"
      ],
      "metadata":{
        
      }
    },
    {
      "cell_type":"code",
      "source":[
        "# Make a scatter plot\n",
        "_ = plt.plot(versicolor_petal_length, versicolor_petal_width, marker='.', linestyle='none')\n",
        "\n",
        "# Label the axes\n",
        "_ = plt.xlabel('petal length')\n",
        "_ = plt.ylabel('petal width')"
      ],
      "execution_count":42,
      "outputs":[
        {
          "data":{
            "image\/png":"[encoded data removed]"
          },
          "metadata":{
            "image\/png":{
              "width":0,
              "height":0
            }
          },
          "output_type":"display_data"
        }
      ],
      "metadata":{
        
      }
    },
    {
      "cell_type":"markdown",
      "source":[
        "### Computing the covariance\n",
        "The covariance may be computed using the Numpy function ```np.cov()```. For example, we have two sets of data ```x``` and ```y```, ```np.cov(x, y)``` returns a 2D array where entries ```[0,1]``` and ```[1,0]``` are the covariances. Entry ```[0,0]``` is the variance of the data in x, and entry ```[1,1]``` is the variance of the data in y. This 2D output array is called the covariance matrix, since it organizes the self- and covariance."
      ],
      "metadata":{
        
      }
    },
    {
      "cell_type":"code",
      "source":[
        "# Compute the covariance matrix: covariance_matrix\n",
        "covariance_matrix = np.cov(versicolor_petal_length, versicolor_petal_width)\n",
        "\n",
        "# Print covariance matrix\n",
        "print(covariance_matrix)\n",
        "\n",
        "# Extract covariance of length and width of petals: petal_cov\n",
        "petal_cov = covariance_matrix[0, 1]\n",
        "\n",
        "# Print the length\/width covariance\n",
        "print(petal_cov)"
      ],
      "execution_count":43,
      "outputs":[
        {
          "name":"stdout",
          "text":[
            "[[0.22081633 0.07310204]\n",
            " [0.07310204 0.03910612]]\n",
            "0.07310204081632653\n"
          ],
          "output_type":"stream"
        }
      ],
      "metadata":{
        
      }
    },
    {
      "cell_type":"markdown",
      "source":[
        "### Computing the Pearson correlation coefficient\n",
        "In this exercise, you will write a function, ```pearson_r(x, y)``` that takes in two arrays and returns the Pearson correlation coefficient. You will then use this function to compute it for the petal lengths and widths of I. versicolor."
      ],
      "metadata":{
        
      }
    },
    {
      "cell_type":"code",
      "source":[
        "def pearson_r(x, y):\n",
        "    \"\"\"Compute Pearson correlation coefficient between two arrays\n",
        "    \n",
        "    Args:\n",
        "        x: arrays\n",
        "        y: arrays\n",
        "        \n",
        "    returns:\n",
        "        r: int\n",
        "    \"\"\"\n",
        "    # Compute correlation matrix: corr_mat\n",
        "    coor_mat = np.corrcoef(x,y)\n",
        "\n",
        "    # return entry[0,1]\n",
        "    return coor_mat[0,1]"
      ],
      "execution_count":44,
      "outputs":[
        
      ],
      "metadata":{
        
      }
    },
    {
      "cell_type":"code",
      "source":[
        "r = pearson_r(versicolor_petal_length,versicolor_petal_width)\n",
        "print(r)"
      ],
      "execution_count":45,
      "outputs":[
        {
          "name":"stdout",
          "text":[
            "0.7866680885228169\n"
          ],
          "output_type":"stream"
        }
      ],
      "metadata":{
        
      }
    },
    {
      "cell_type":"code",
      "source":[
        "pearson_r(versicolor_petal_length,virginica_petal_length)"
      ],
      "execution_count":46,
      "outputs":[
        {
          "data":{
            "text\/plain":[
              "-0.08782058063891776"
            ]
          },
          "metadata":{
            
          },
          "output_type":"display_data"
        }
      ],
      "metadata":{
        
      }
    },
    {
      "cell_type":"code",
      "source":[
        
      ],
      "execution_count":null,
      "outputs":[
        
      ],
      "metadata":{
        
      }
    }
  ],
  "metadata":{
    
  },
  "nbformat":4,
  "nbformat_minor":0
}