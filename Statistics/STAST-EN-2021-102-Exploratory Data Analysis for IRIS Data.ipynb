{
  "cells":[
    {
      "cell_type":"markdown",
      "source":[
        "# Business Problem:\n",
        "[Problem](https:\/\/en.wikipedia.org\/wiki\/Iris_flower_data_set#:~:text=Fisher%27s%20Iris%20data%20%20%20%20Dataset%20order,%20%201.5%20%2061%20more%20rows%20)"
      ],
      "metadata":{
        
      }
    },
    {
      "cell_type":"markdown",
      "source":[
        "# Data Collection:\n",
        "\n",
        "[Data](https:\/\/raw.githubusercontent.com\/reddyprasade\/Data-Sets-For-Machine-Learnig-and-Data-Science\/master\/DataSets\/iris.data)"
      ],
      "metadata":{
        
      }
    },
    {
      "cell_type":"code",
      "source":[
        "import numpy as np\n",
        "import pandas as pd \n",
        "import seaborn as sns\n",
        "import matplotlib.pyplot as plt"
      ],
      "execution_count":null,
      "outputs":[
        
      ],
      "metadata":{
        
      }
    },
    {
      "cell_type":"code",
      "source":[
        "url = \"https:\/\/raw.githubusercontent.com\/reddyprasade\/Data-Sets-For-Machine-Learnig-and-Data-Science\/master\/DataSets\/iris.data\""
      ],
      "execution_count":null,
      "outputs":[
        
      ],
      "metadata":{
        
      }
    },
    {
      "cell_type":"code",
      "source":[
        "df = pd.read_csv(url)\n",
        "df.head()"
      ],
      "execution_count":null,
      "outputs":[
        
      ],
      "metadata":{
        
      }
    },
    {
      "cell_type":"code",
      "source":[
        "df.tail()"
      ],
      "execution_count":null,
      "outputs":[
        
      ],
      "metadata":{
        
      }
    },
    {
      "cell_type":"code",
      "source":[
        "df.info()"
      ],
      "execution_count":null,
      "outputs":[
        
      ],
      "metadata":{
        
      }
    },
    {
      "cell_type":"markdown",
      "source":[
        "![](https:\/\/miro.medium.com\/max\/875\/1*Ax8pt56OKazn8Lr3SXnK_g.png)"
      ],
      "metadata":{
        
      }
    },
    {
      "cell_type":"code",
      "source":[
        "df.describe()"
      ],
      "execution_count":null,
      "outputs":[
        
      ],
      "metadata":{
        
      }
    },
    {
      "cell_type":"code",
      "source":[
        "df.isnull().sum()"
      ],
      "execution_count":null,
      "outputs":[
        
      ],
      "metadata":{
        
      }
    },
    {
      "cell_type":"code",
      "source":[
        "df[df.duplicated()]"
      ],
      "execution_count":null,
      "outputs":[
        
      ],
      "metadata":{
        
      }
    },
    {
      "cell_type":"code",
      "source":[
        "df['Flower_name'].value_counts()"
      ],
      "execution_count":null,
      "outputs":[
        
      ],
      "metadata":{
        
      }
    },
    {
      "cell_type":"code",
      "source":[
        "sns.__version__"
      ],
      "execution_count":null,
      "outputs":[
        
      ],
      "metadata":{
        
      }
    },
    {
      "cell_type":"code",
      "source":[
        "plt.title('Species Count')\n",
        "sns.countplot(df['Flower_name'],data=df)"
      ],
      "execution_count":null,
      "outputs":[
        
      ],
      "metadata":{
        
      }
    },
    {
      "cell_type":"code",
      "source":[
        "df.columns"
      ],
      "execution_count":null,
      "outputs":[
        
      ],
      "metadata":{
        
      }
    },
    {
      "cell_type":"code",
      "source":[
        "plt.figure(figsize=(30,15))\n",
        "plt.title(\"Comparison between various species based on sapel length and width\")\n",
        "sns.scatterplot(df['Sepal_Len'],df['Sepal_Width'],hue=df['Flower_name'],s=200)"
      ],
      "execution_count":null,
      "outputs":[
        
      ],
      "metadata":{
        
      }
    },
    {
      "cell_type":"code",
      "source":[
        "plt.figure(figsize=(30,15))\n",
        "plt.title(\"Comparison between various species based on petal length and width\")\n",
        "sns.scatterplot(df['Patel_Len'],df['Petal_width'],hue=df['Flower_name'],s=200)"
      ],
      "execution_count":null,
      "outputs":[
        
      ],
      "metadata":{
        
      }
    },
    {
      "cell_type":"markdown",
      "source":[
        "**Bi-variate Analysis**"
      ],
      "metadata":{
        
      }
    },
    {
      "cell_type":"code",
      "source":[
        "sns.pairplot(df,hue='Flower_name',height=4)"
      ],
      "execution_count":null,
      "outputs":[
        
      ],
      "metadata":{
        
      }
    },
    {
      "cell_type":"code",
      "source":[
        "correlation = df.corr()\n",
        "correlation"
      ],
      "execution_count":null,
      "outputs":[
        
      ],
      "metadata":{
        
      }
    },
    {
      "cell_type":"code",
      "source":[
        "plt.figure(figsize=(30,15))\n",
        "sns.heatmap(correlation,annot=True)\n",
        "plt.show()"
      ],
      "execution_count":null,
      "outputs":[
        
      ],
      "metadata":{
        
      }
    },
    {
      "cell_type":"code",
      "source":[
        "df.groupby(['Flower_name']).agg(['mean','median'])"
      ],
      "execution_count":null,
      "outputs":[
        
      ],
      "metadata":{
        
      }
    },
    {
      "cell_type":"markdown",
      "source":[
        "## Data distribution"
      ],
      "metadata":{
        
      }
    },
    {
      "cell_type":"code",
      "source":[
        "# ['Sepal_Len', 'Sepal_Width', 'Patel_Len', 'Petal_width', 'Flower_name']\n",
        "fig, axes = plt.subplots(2, 2, figsize=(16,9))\n",
        "sns.boxplot(y='Petal_width',x='Flower_name',data=df,ax = axes[0,0])\n",
        "\n",
        "sns.boxplot(y='Patel_Len',x='Flower_name',data=df,ax = axes[0,1])\n",
        "\n",
        "sns.boxplot(y='Sepal_Len',x='Flower_name',data=df,ax = axes[1,0])\n",
        "\n",
        "sns.boxplot(y='Sepal_Width',x='Flower_name',data=df,ax = axes[1,1])"
      ],
      "execution_count":null,
      "outputs":[
        
      ],
      "metadata":{
        
      }
    },
    {
      "cell_type":"code",
      "source":[
        "sns.displot(data=df,x='Sepal_Width')"
      ],
      "execution_count":null,
      "outputs":[
        
      ],
      "metadata":{
        
      }
    },
    {
      "cell_type":"code",
      "source":[
        "sns.violinplot( y='Sepal_Width', x='Flower_name', data=df, orient='v',inner='quartile')\n",
        "plt.show()"
      ],
      "execution_count":null,
      "outputs":[
        
      ],
      "metadata":{
        
      }
    },
    {
      "cell_type":"code",
      "source":[
        
      ],
      "execution_count":null,
      "outputs":[
        
      ],
      "metadata":{
        
      }
    }
  ],
  "metadata":{
    
  },
  "nbformat":4,
  "nbformat_minor":0
}