{
  "cells":[
    {
      "cell_type":"markdown",
      "source":[
        "# EDA \n",
        "* **Approach** \n",
        "    * EDA (Exploratory Data Analysis)\n",
        "    * These questions and related questions are dealt with in this section. \n",
        "    * This section answers these questions and provides the necessary frame of reference for EDA assumptions, principles, and techniques.\n",
        "    * Exploratory Data Analysis (EDA) is an approach\/philosophy for data analysis that employs a variety of techniques (mostly graphical) to\n",
        " \n",
        "        * Maximize insight into a data set;\n",
        "        * Uncover underlying structure;\n",
        "        * Extract important variables;\n",
        "        * Detect outliers and anomalies;\n",
        "        * Test underlying assumptions;\n",
        "        * Develop parsimonious models; and\n",
        "        * Determine optimal factor settings.\n",
        "* **Focus:**\n",
        "    * The EDA approach is precisely that--an approach--not a set of techniques, but an attitude\/philosophy about how a data analysis should be carried out.\n",
        "* **Philosophy**\t\n",
        "    * EDA is not identical to statistical graphics although the two terms are used almost interchangeably.\n",
        "    * Statistical graphics(Hist,Scatter,line) is a collection of techniques--all graphically based and all focusing on one data characterization aspect.\n",
        "    * EDA encompasses a larger venue; EDA is an approach to data analysis that postpones the usual assumptions about what kind of model the data follow with the more direct approach of allowing the data itself to reveal its underlying structure and model.\n",
        "    * EDA is not a mere collection of techniques; EDA is a philosophy as to how we dissect a data set; what we look for; how we look; and how we interpret.\n",
        "    * It is true that EDA heavily uses the collection of techniques that we call \"statistical graphics\", but it is not identical to statistical graphics per se.\n",
        "* **Techniques**\n",
        "    * Most EDA techniques are graphical in nature with a few **quantitative techniques**(Linear programming,Probability decision theory,Game theory,Queuing theory,Simulation,Network techniques).\n",
        "    *  The reason for the heavy reliance on graphics is that by its very nature the main role of EDA is to open-mindedly explore, and graphics gives the analysts unparalleled power to do so, enticing the data to reveal its structural secrets, and being always ready to gain some new, often unsuspected, insight into the data.\n",
        "    *  In combination with the natural pattern-recognition capabilities that we all possess, graphics provides, of course, unparalleled power to carry this out.\n",
        "    *  The particular graphical techniques employed in EDA are often quite simple, consisting of various techniques of:\n",
        "        *  Plotting the raw data (such as data traces, histograms, bihistograms, probability plots, lag plots, block plots, and Youden plots.\n",
        "        *  Plotting simple statistics such as mean plots, standard deviation plots, box plots, and main effects plots of the raw data.\n",
        "        *  Positioning such plots so as to maximize our natural pattern-recognition abilities, such as using multiple plots per page."
      ],
      "metadata":{
        
      }
    },
    {
      "cell_type":"markdown",
      "source":[
        "- What is exploratory data analysis? \n",
        "- How did it begin? \n",
        "- How and where did it originate? \n",
        "- How is it differentiated from other data analysis approaches, such as classical and Bayesian? \n",
        "- Is EDA the same as statistical graphics? \n",
        "- What role does statistical graphics play in EDA? \n",
        "- Is statistical graphics identical to EDA?"
      ],
      "metadata":{
        
      }
    },
    {
      "cell_type":"markdown",
      "source":[
        "## How Does Exploratory Data Analysis differ from Classical Data Analysis?\n",
        "\n",
        "1. **Data Analysis Approaches**\n",
        "    1. EDA is a data analysis approach. What other data analysis approaches exist and how does EDA differ from these other approaches? Three popular data analysis approaches are:\n",
        "        1. Classical\n",
        "        2. Exploratory (EDA)\n",
        "        3. Bayesian\n",
        "2. **Paradigms for Analysis Techniques**\n",
        "    1. These three approaches are similar in that they all start with a general science\/engineering problem and all yield science\/engineering conclusions. The difference is the sequence and focus of the intermediate steps.\n",
        "        1. For classical analysis, the sequence is\n",
        "          \n",
        "                `Problem => Data => Model => Analysis => Conclusions`\n",
        "\n",
        "        2. For EDA, the sequence is\n",
        "        \n",
        "                `Problem => Data => Analysis => Model => Conclusions`\n",
        "\n",
        "        3. For Bayesian, the sequence is\n",
        "                \n",
        "                `Problem => Data => Model => Prior Distribution => Analysis => Conclusions`\n",
        "                \n",
        "3. **Method of dealing with underlying model for the data distinguishes the 3 approaches**\n",
        "    1. Thus for classical analysis, the data collection is followed by the imposition of a model (normality, linearity, etc.) and the analysis, estimation, and testing that follows are focused on the parameters of that model. \n",
        "    2. For EDA, the data collection is not followed by a model imposition; rather it is followed immediately by analysis with a goal of inferring what model would be appropriate. \n",
        "    3. Finally, for a Bayesian analysis, the analyst attempts to incorporate scientific\/engineering knowledge\/expertise into the analysis by imposing a data-independent distribution on the parameters of the selected model; the analysis thus consists of formally combining both the prior distribution on the parameters and the collected data to jointly make inferences and\/or test assumptions about the model parameters.\n",
        "    4. In the real world, data analysts freely mix elements of all of the above three approaches (and other approaches). The above distinctions were made to emphasize the major differences among the three approaches.\n",
        "   \n",
        "4. **Model:**\n",
        "    1. **Classical:**\n",
        "        1. The classical approach imposes models (both deterministic and probabilistic) on the data.\n",
        "        2. Deterministic models include, for example, **regression models** and **analysis of variance (ANOVA) models**.\n",
        "        3. The most common probabilistic model assumes that the errors about the deterministic model are normally distributed--this assumption affects the validity of the ANOVA F tests.\n",
        "        4. The two approaches differ substantially in focus. For classical analysis, the **focus is on the model--estimating parameters** of the **model and generating predicted values from the model**.\n",
        "        5. Classical techniques are generally quantitative in nature. They include **ANOVA, t tests, chi-squared tests, and F tests.**\n",
        "        6. \n",
        "    2. **Exploratory:**\n",
        "        1. The Exploratory Data Analysis approach does not impose deterministic or probabilistic models on the data. \n",
        "        2. On the contrary, the EDA approach allows the data to suggest admissible models that best fit the data.\n",
        "        3. For exploratory data analysis, the focus is on the data--**its structure, outliers, and models suggested by the data**.\n",
        "        4. EDA techniques are generally graphical. They include **scatter plots, character plots, box plots, histograms, bihistograms, probability plots, residual plots, and mean plots**.\n",
        "        5. "
      ],
      "metadata":{
        
      }
    },
    {
      "cell_type":"code",
      "source":[
        
      ],
      "execution_count":0,
      "outputs":[
        
      ],
      "metadata":{
        
      }
    },
    {
      "cell_type":"code",
      "source":[
        
      ],
      "execution_count":0,
      "outputs":[
        
      ],
      "metadata":{
        
      }
    }
  ],
  "metadata":{
    
  },
  "nbformat":4,
  "nbformat_minor":0
}