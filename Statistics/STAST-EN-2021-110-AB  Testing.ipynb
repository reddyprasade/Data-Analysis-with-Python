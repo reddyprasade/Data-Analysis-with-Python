{
 "cells": [
  {
   "cell_type": "markdown",
   "source": "# A/B Testing",
   "metadata": {
    "tags": [],
    "cell_id": "00000-ad2c4f62-361d-4981-b114-a90d5de26999",
    "deepnote_cell_type": "text-cell-h1"
   }
  },
  {
   "cell_type": "markdown",
   "source": "* A/B testing relies on **classic statistical test for statistical significance**.\n* Often, we want to know whether the difference of the CTR of the two web designs are entirely due to random chance, or statistically significant. \n* Therefore, we want to check what is the probability of observing a difference equally or more extreme than the one you observed, given that we assume the difference is entirely due to chance, i.e, the p-value.\n* **A/B Testing:**\n    * is often used by organizations to see if a change in strategy gives difference, hopefully better, results.\n    * The null hypothesis of an A/B test is often: the test statistic is impervious to the change. A low p-value implies that the change in strategy lead to a change in performance.\n\n* **Example:** `The vote for the Civil Rights Act in 1964`\n\nThe Civil Rights Act of 1964 was one of the most important pieces of legislation ever passed in the USA. Excluding `present` and `abstain` votes, **153 House Democrats** and **136 Republicans** voted yea. \n\nHowever, **91 Democrats** and **35 Republicans** voted nay. Did party affiliation make a difference in the vote?\n\n\n\n",
   "metadata": {
    "tags": [],
    "cell_id": "00001-2ec70334-a76a-4214-8651-d97555ebf540",
    "deepnote_cell_type": "markdown"
   }
  },
  {
   "cell_type": "code",
   "metadata": {
    "tags": [],
    "cell_id": "00002-f4c2ffa1-e192-455d-b165-b8ae543a776c",
    "deepnote_to_be_reexecuted": false,
    "source_hash": "35374e32",
    "execution_start": 1624330146144,
    "execution_millis": 257,
    "deepnote_cell_type": "code"
   },
   "source": "import numpy as np\nimport pandas as pd\nimport matplotlib.pyplot as plt",
   "execution_count": null,
   "outputs": []
  },
  {
   "cell_type": "code",
   "metadata": {
    "tags": [],
    "cell_id": "00003-94bc4556-45b3-422f-ab1f-62054cdcb0e9",
    "deepnote_to_be_reexecuted": false,
    "source_hash": "a85b2158",
    "execution_start": 1624330146403,
    "execution_millis": 4,
    "deepnote_cell_type": "code"
   },
   "source": "# Construct arrays of data: dems, reps\ndems = np.array([True] * 153 + [False] * 91)\nreps = np.array([True] * 136 + [False] * 35)",
   "execution_count": null,
   "outputs": []
  },
  {
   "cell_type": "code",
   "metadata": {
    "tags": [],
    "cell_id": "00004-aa226ca7-c528-4b74-baae-435116ad161d",
    "deepnote_to_be_reexecuted": false,
    "source_hash": "5b3594b9",
    "execution_start": 1624330332392,
    "execution_millis": 6,
    "deepnote_cell_type": "code"
   },
   "source": "# Write a function to resample the data with permutation\ndef permutation_sample(data1, data2):\n    \"\"\"Generate a permutation sample from two data sets.\"\"\"\n\n    # Concatenate the data sets: data\n    data = np.concatenate((data1, data2)) #needs to be put in a tuple\n\n    # Permute the concatenated array: permuted_data\n    permuted_data = np.random.permutation(data)\n\n    # Split the permuted array into two: perm_sample_1, perm_sample_2\n    perm_sample_1 = permuted_data[:len(data1)]\n    perm_sample_2 = permuted_data[len(data1):]\n\n    return perm_sample_1, perm_sample_2\n\n# Visualize Permutated sample distribution\nfor _ in range(50):\n    # Generate permutation samples\n    perm_sample_1, perm_sample_2 = permutation_sample(rain_june, rain_november)\n\n    # Compute ECDFs\n    x_1, y_1 = ecdf(perm_sample_1)\n    x_2, y_2 = ecdf(perm_sample_2)\n\n    # Plot ECDFs of permutation sample\n    _ = plt.plot(x_1, y_1, marker='.', linestyle='none',\n                 color='red', alpha=0.02)\n    _ = plt.plot(x_2, y_2, marker='.', linestyle='none',\n                 color='blue', alpha=0.02)\n\n# Create and plot ECDFs from original data\nx_1, y_1 = ecdf(rain_june)\nx_2, y_2 = ecdf(rain_november)\n_ = plt.plot(x_1, y_1, marker='.', linestyle='none', color='red')\n_ = plt.plot(x_2, y_2, marker='.', linestyle='none', color='blue')\n\n# Label axes, set margin, and show plot\nplt.margins(0.02)\n_ = plt.xlabel('monthly rainfall (mm)')\n_ = plt.ylabel('ECDF')\nplt.show()",
   "execution_count": null,
   "outputs": [
    {
     "output_type": "error",
     "ename": "NameError",
     "evalue": "name 'rain_june' is not defined",
     "traceback": [
      "\u001b[0;31m---------------------------------------------------------------------------\u001b[0m",
      "\u001b[0;31mNameError\u001b[0m                                 Traceback (most recent call last)",
      "\u001b[0;32m<ipython-input-4-8ceba3dd1e4f>\u001b[0m in \u001b[0;36m<module>\u001b[0;34m\u001b[0m\n\u001b[1;32m     18\u001b[0m \u001b[0;32mfor\u001b[0m \u001b[0m_\u001b[0m \u001b[0;32min\u001b[0m \u001b[0mrange\u001b[0m\u001b[0;34m(\u001b[0m\u001b[0;36m50\u001b[0m\u001b[0;34m)\u001b[0m\u001b[0;34m:\u001b[0m\u001b[0;34m\u001b[0m\u001b[0;34m\u001b[0m\u001b[0m\n\u001b[1;32m     19\u001b[0m     \u001b[0;31m# Generate permutation samples\u001b[0m\u001b[0;34m\u001b[0m\u001b[0;34m\u001b[0m\u001b[0;34m\u001b[0m\u001b[0m\n\u001b[0;32m---> 20\u001b[0;31m     \u001b[0mperm_sample_1\u001b[0m\u001b[0;34m,\u001b[0m \u001b[0mperm_sample_2\u001b[0m \u001b[0;34m=\u001b[0m \u001b[0mpermutation_sample\u001b[0m\u001b[0;34m(\u001b[0m\u001b[0mrain_june\u001b[0m\u001b[0;34m,\u001b[0m \u001b[0mrain_november\u001b[0m\u001b[0;34m)\u001b[0m\u001b[0;34m\u001b[0m\u001b[0;34m\u001b[0m\u001b[0m\n\u001b[0m\u001b[1;32m     21\u001b[0m \u001b[0;34m\u001b[0m\u001b[0m\n\u001b[1;32m     22\u001b[0m     \u001b[0;31m# Compute ECDFs\u001b[0m\u001b[0;34m\u001b[0m\u001b[0;34m\u001b[0m\u001b[0;34m\u001b[0m\u001b[0m\n",
      "\u001b[0;31mNameError\u001b[0m: name 'rain_june' is not defined"
     ]
    }
   ]
  },
  {
   "cell_type": "code",
   "metadata": {
    "tags": [],
    "cell_id": "00004-da455357-5e04-4a3a-85d4-bf3ff9d1d239",
    "deepnote_to_be_reexecuted": false,
    "source_hash": "e055ae9e",
    "execution_start": 1624330333764,
    "execution_millis": 0,
    "deepnote_cell_type": "code"
   },
   "source": "def draw_perm_reps(data_1, data_2, func, size=1):\n    \"\"\"Generate multiple permutation replicates.\"\"\"\n\n    # Initialize array of replicates: perm_replicates\n    perm_replicates = np.empty(size)\n\n    for i in range(size):\n        # Generate permutation sample\n        perm_sample_1, perm_sample_2 = permutation_sample(data_1, data_2)\n\n        # Compute the test statistic\n        perm_replicates[i] = func(perm_sample_1, perm_sample_2)\n\n    return perm_replicates",
   "execution_count": null,
   "outputs": []
  },
  {
   "cell_type": "code",
   "metadata": {
    "tags": [],
    "cell_id": "00005-aafa1da4-832f-4bef-a579-78474028a62d",
    "deepnote_to_be_reexecuted": false,
    "source_hash": "3da3d675",
    "execution_start": 1624330334417,
    "execution_millis": 0,
    "deepnote_cell_type": "code"
   },
   "source": "# Two inputs are required to use the below draw_perm_reps() function, but the second is not used.\ndef  frac_yea_dems(dems,reps):\n    \"\"\"\n    Compute Fraction of Democrats yea votes\n    \"\"\"\n\n    frac = np.sum(dems)/len(dems)\n    return frac",
   "execution_count": null,
   "outputs": []
  },
  {
   "cell_type": "code",
   "metadata": {
    "tags": [],
    "cell_id": "00005-4e3c3362-be92-4049-adaa-ec528fa4dbb4",
    "deepnote_to_be_reexecuted": false,
    "source_hash": "69a2439f",
    "execution_start": 1624330335481,
    "execution_millis": 235,
    "deepnote_cell_type": "code"
   },
   "source": "# Acquire permutation samples: perm_replicates\nperm_replicates = draw_perm_reps(dems, reps, frac_yea_dems, 10000)",
   "execution_count": null,
   "outputs": []
  },
  {
   "cell_type": "code",
   "metadata": {
    "tags": [],
    "cell_id": "00007-438ea7d5-0b78-4143-8041-6916aa327395",
    "deepnote_to_be_reexecuted": false,
    "source_hash": "68067449",
    "execution_start": 1624330392456,
    "execution_millis": 1,
    "deepnote_cell_type": "code"
   },
   "source": "p_values  = np.sum(perm_replicates <= 153/244) / len(perm_replicates)",
   "execution_count": null,
   "outputs": []
  },
  {
   "cell_type": "code",
   "metadata": {
    "tags": [],
    "cell_id": "00009-d497c1fd-0194-49e3-b08d-e8f8f005edec",
    "deepnote_to_be_reexecuted": false,
    "source_hash": "140c0448",
    "execution_start": 1624330411840,
    "execution_millis": 10,
    "deepnote_cell_type": "code"
   },
   "source": "print('p-value =', p_values)",
   "execution_count": null,
   "outputs": [
    {
     "name": "stdout",
     "text": "p-value = 0.0001\n",
     "output_type": "stream"
    }
   ]
  },
  {
   "cell_type": "markdown",
   "source": "To answer this question, you will evaluate the hypothesis that the party of a House member has no bearing on his or her vote. You will use the fraction of Democrats voting in favor as your test statistic and evaluate the probability of observing a fraction of Democrats voting in favor at least as small as the observed fraction of 153/244. (That’s right, at least as small as. In 1964, it was the Democrats who were less progressive on civil rights issues.) To do this, permute the party labels of the House voters and then arbitrarily divide them into “Democrats” and “Republicans” and compute the fraction of Democrats voting yea.",
   "metadata": {
    "tags": [],
    "cell_id": "00010-783fccfa-5379-402e-a360-dc09554b6f9c",
    "deepnote_cell_type": "markdown"
   }
  },
  {
   "cell_type": "code",
   "metadata": {
    "tags": [],
    "cell_id": "00010-f9e6b361-6888-4b65-b60e-2c6fb18ac360",
    "deepnote_to_be_reexecuted": false,
    "source_hash": "b623e53d",
    "execution_start": 1624330335756,
    "deepnote_cell_type": "code"
   },
   "source": "",
   "execution_count": null,
   "outputs": []
  },
  {
   "cell_type": "code",
   "metadata": {
    "tags": [],
    "cell_id": "00011-e7a8b191-e9c4-49bd-a936-a7dc5214bb0a",
    "deepnote_to_be_reexecuted": false,
    "source_hash": "b623e53d",
    "execution_start": 1624330335794,
    "execution_millis": 6,
    "deepnote_cell_type": "code"
   },
   "source": "",
   "execution_count": null,
   "outputs": []
  },
  {
   "cell_type": "code",
   "metadata": {
    "tags": [],
    "cell_id": "00012-8179d152-3108-43ab-b98a-c04856c1627c",
    "deepnote_to_be_reexecuted": false,
    "source_hash": "b623e53d",
    "execution_start": 1624330335768,
    "deepnote_cell_type": "code"
   },
   "source": "",
   "execution_count": null,
   "outputs": []
  },
  {
   "cell_type": "code",
   "metadata": {
    "tags": [],
    "cell_id": "00013-c03aefbb-119f-46ff-8f9f-05c04bcfffe2",
    "deepnote_to_be_reexecuted": false,
    "source_hash": "b623e53d",
    "execution_start": 1624330335770,
    "deepnote_cell_type": "code"
   },
   "source": "",
   "execution_count": null,
   "outputs": []
  },
  {
   "cell_type": "code",
   "metadata": {
    "tags": [],
    "cell_id": "00014-e0d3f8b7-11b9-4262-9355-725134a3190a",
    "deepnote_to_be_reexecuted": false,
    "source_hash": "b623e53d",
    "execution_start": 1624330335790,
    "deepnote_cell_type": "code"
   },
   "source": "",
   "execution_count": null,
   "outputs": []
  },
  {
   "cell_type": "code",
   "metadata": {
    "tags": [],
    "cell_id": "00015-7f4cd748-4154-4ac2-8873-94e817a48085",
    "deepnote_to_be_reexecuted": false,
    "source_hash": "b623e53d",
    "execution_start": 1624330335790,
    "deepnote_cell_type": "code"
   },
   "source": "",
   "execution_count": null,
   "outputs": []
  },
  {
   "cell_type": "code",
   "metadata": {
    "tags": [],
    "cell_id": "00016-78d6b925-dead-401d-ad19-6bb0e6b3f3ef",
    "deepnote_to_be_reexecuted": false,
    "source_hash": "b623e53d",
    "execution_start": 1624330335790,
    "deepnote_cell_type": "code"
   },
   "source": "",
   "execution_count": null,
   "outputs": []
  },
  {
   "cell_type": "code",
   "metadata": {
    "tags": [],
    "cell_id": "00017-0e3be543-391d-4e09-80ec-67dcb3b8410b",
    "deepnote_to_be_reexecuted": false,
    "source_hash": "b623e53d",
    "execution_start": 1624330335791,
    "deepnote_cell_type": "code"
   },
   "source": "",
   "execution_count": null,
   "outputs": []
  },
  {
   "cell_type": "code",
   "metadata": {
    "tags": [],
    "cell_id": "00018-330a089d-8966-493b-a838-eeff928d6a26",
    "deepnote_to_be_reexecuted": false,
    "source_hash": "b623e53d",
    "execution_start": 1624330335791,
    "deepnote_cell_type": "code"
   },
   "source": "",
   "execution_count": null,
   "outputs": []
  },
  {
   "cell_type": "code",
   "metadata": {
    "tags": [],
    "cell_id": "00019-ac34ef18-02c4-42a0-b500-3bb699198a27",
    "deepnote_to_be_reexecuted": false,
    "source_hash": "b623e53d",
    "execution_start": 1624330335793,
    "deepnote_cell_type": "code"
   },
   "source": "",
   "execution_count": null,
   "outputs": []
  },
  {
   "cell_type": "code",
   "metadata": {
    "tags": [],
    "cell_id": "00020-700a53db-ca69-4acb-aed2-5f417486ac8b",
    "deepnote_cell_type": "code"
   },
   "source": "",
   "execution_count": null,
   "outputs": []
  },
  {
   "cell_type": "markdown",
   "source": "<a style='text-decoration:none;line-height:16px;display:flex;color:#5B5B62;padding:10px;justify-content:end;' href='https://deepnote.com?utm_source=created-in-deepnote-cell&projectId=f5f90ba1-3290-463e-8fc6-44108f4fa21b' target=\"_blank\">\n<img alt='Created in deepnote.com' style='display:inline;max-height:16px;margin:0px;margin-right:7.5px;' src='data:image/svg+xml;base64,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' > </img>\nCreated in <span style='font-weight:600;margin-left:4px;'>Deepnote</span></a>",
   "metadata": {
    "tags": [],
    "created_in_deepnote_cell": true,
    "deepnote_cell_type": "markdown"
   }
  }
 ],
 "nbformat": 4,
 "nbformat_minor": 2,
 "metadata": {
  "orig_nbformat": 2,
  "deepnote": {
   "is_reactive": false
  },
  "deepnote_notebook_id": "ff58362d-b293-4fe3-bbbf-a7f23868e056",
  "deepnote_execution_queue": []
 }
}