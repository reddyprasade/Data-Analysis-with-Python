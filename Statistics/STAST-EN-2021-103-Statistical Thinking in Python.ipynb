{
  "cells":[
    {
      "cell_type":"markdown",
      "source":[
        "## EDA ON STATISTICAL THINKING IN PYTHON \n",
        "1. we are Going Learn how to think and analyze statistically with Python.\n",
        "2. The process of organizing, ploting, and summarizing a data set.\n",
        "3. “Exploratory data analysis can never be the whole story, but nothing else can serve as the foundation stone.”(John Tukey)\n",
        "4. We usually use `matplotlib.pyplot` and `seaborn` to draw easy graphs to help our understanding of the dataset.\n",
        "\n",
        "**Key Takeaways:**\n",
        "- Use Seaborn style to make the graph look prettier.\n",
        "- Always attach labels to the axes."
      ],
      "metadata":{
        
      }
    },
    {
      "cell_type":"code",
      "source":[
        "import numpy as np\n",
        "import pandas as pd \n",
        "import matplotlib.pyplot as plt\n",
        "import seaborn as sns"
      ],
      "execution_count":3,
      "outputs":[
        
      ],
      "metadata":{
        
      }
    },
    {
      "cell_type":"code",
      "source":[
        "path = \"https:\/\/raw.githubusercontent.com\/reddyprasade\/Data-Analysis-with-Python\/main\/Statistics\/Data\/2008_swing_states.csv\""
      ],
      "execution_count":4,
      "outputs":[
        
      ],
      "metadata":{
        
      }
    },
    {
      "cell_type":"code",
      "source":[
        "df_swing = pd.read_csv(path)\n",
        "df_swing"
      ],
      "execution_count":5,
      "outputs":[
        {
          "data":{
            "text\/html":[
              "<div>\n",
              "<style scoped>\n",
              "    .dataframe tbody tr th:only-of-type {\n",
              "        vertical-align: middle;\n",
              "    }\n",
              "\n",
              "    .dataframe tbody tr th {\n",
              "        vertical-align: top;\n",
              "    }\n",
              "\n",
              "    .dataframe thead th {\n",
              "        text-align: right;\n",
              "    }\n",
              "<\/style>\n",
              "<table border=\"1\" class=\"dataframe\">\n",
              "  <thead>\n",
              "    <tr style=\"text-align: right;\">\n",
              "      <th><\/th>\n",
              "      <th>state<\/th>\n",
              "      <th>county<\/th>\n",
              "      <th>total_votes<\/th>\n",
              "      <th>dem_votes<\/th>\n",
              "      <th>rep_votes<\/th>\n",
              "      <th>dem_share<\/th>\n",
              "    <\/tr>\n",
              "  <\/thead>\n",
              "  <tbody>\n",
              "    <tr>\n",
              "      <th>0<\/th>\n",
              "      <td>PA<\/td>\n",
              "      <td>Erie County<\/td>\n",
              "      <td>127691<\/td>\n",
              "      <td>75775<\/td>\n",
              "      <td>50351<\/td>\n",
              "      <td>60.08<\/td>\n",
              "    <\/tr>\n",
              "    <tr>\n",
              "      <th>1<\/th>\n",
              "      <td>PA<\/td>\n",
              "      <td>Bradford County<\/td>\n",
              "      <td>25787<\/td>\n",
              "      <td>10306<\/td>\n",
              "      <td>15057<\/td>\n",
              "      <td>40.64<\/td>\n",
              "    <\/tr>\n",
              "    <tr>\n",
              "      <th>2<\/th>\n",
              "      <td>PA<\/td>\n",
              "      <td>Tioga County<\/td>\n",
              "      <td>17984<\/td>\n",
              "      <td>6390<\/td>\n",
              "      <td>11326<\/td>\n",
              "      <td>36.07<\/td>\n",
              "    <\/tr>\n",
              "    <tr>\n",
              "      <th>3<\/th>\n",
              "      <td>PA<\/td>\n",
              "      <td>McKean County<\/td>\n",
              "      <td>15947<\/td>\n",
              "      <td>6465<\/td>\n",
              "      <td>9224<\/td>\n",
              "      <td>41.21<\/td>\n",
              "    <\/tr>\n",
              "    <tr>\n",
              "      <th>4<\/th>\n",
              "      <td>PA<\/td>\n",
              "      <td>Potter County<\/td>\n",
              "      <td>7507<\/td>\n",
              "      <td>2300<\/td>\n",
              "      <td>5109<\/td>\n",
              "      <td>31.04<\/td>\n",
              "    <\/tr>\n",
              "    <tr>\n",
              "      <th>...<\/th>\n",
              "      <td>...<\/td>\n",
              "      <td>...<\/td>\n",
              "      <td>...<\/td>\n",
              "      <td>...<\/td>\n",
              "      <td>...<\/td>\n",
              "      <td>...<\/td>\n",
              "    <\/tr>\n",
              "    <tr>\n",
              "      <th>217<\/th>\n",
              "      <td>OH<\/td>\n",
              "      <td>Hamilton County<\/td>\n",
              "      <td>425086<\/td>\n",
              "      <td>225213<\/td>\n",
              "      <td>195530<\/td>\n",
              "      <td>53.53<\/td>\n",
              "    <\/tr>\n",
              "    <tr>\n",
              "      <th>218<\/th>\n",
              "      <td>OH<\/td>\n",
              "      <td>Highland County<\/td>\n",
              "      <td>19186<\/td>\n",
              "      <td>6856<\/td>\n",
              "      <td>11907<\/td>\n",
              "      <td>36.54<\/td>\n",
              "    <\/tr>\n",
              "    <tr>\n",
              "      <th>219<\/th>\n",
              "      <td>OH<\/td>\n",
              "      <td>Hocking County<\/td>\n",
              "      <td>12961<\/td>\n",
              "      <td>6259<\/td>\n",
              "      <td>6364<\/td>\n",
              "      <td>49.58<\/td>\n",
              "    <\/tr>\n",
              "    <tr>\n",
              "      <th>220<\/th>\n",
              "      <td>OH<\/td>\n",
              "      <td>Licking County<\/td>\n",
              "      <td>82356<\/td>\n",
              "      <td>33932<\/td>\n",
              "      <td>46918<\/td>\n",
              "      <td>41.97<\/td>\n",
              "    <\/tr>\n",
              "    <tr>\n",
              "      <th>221<\/th>\n",
              "      <td>OH<\/td>\n",
              "      <td>Madison County<\/td>\n",
              "      <td>17454<\/td>\n",
              "      <td>6532<\/td>\n",
              "      <td>10606<\/td>\n",
              "      <td>38.11<\/td>\n",
              "    <\/tr>\n",
              "  <\/tbody>\n",
              "<\/table>\n",
              "<p>222 rows × 6 columns<\/p>\n",
              "<\/div>"
            ]
          },
          "metadata":{
            
          },
          "output_type":"display_data"
        }
      ],
      "metadata":{
        
      }
    },
    {
      "cell_type":"code",
      "source":[
        "df_swing.head()"
      ],
      "execution_count":6,
      "outputs":[
        {
          "data":{
            "text\/html":[
              "<div>\n",
              "<style scoped>\n",
              "    .dataframe tbody tr th:only-of-type {\n",
              "        vertical-align: middle;\n",
              "    }\n",
              "\n",
              "    .dataframe tbody tr th {\n",
              "        vertical-align: top;\n",
              "    }\n",
              "\n",
              "    .dataframe thead th {\n",
              "        text-align: right;\n",
              "    }\n",
              "<\/style>\n",
              "<table border=\"1\" class=\"dataframe\">\n",
              "  <thead>\n",
              "    <tr style=\"text-align: right;\">\n",
              "      <th><\/th>\n",
              "      <th>state<\/th>\n",
              "      <th>county<\/th>\n",
              "      <th>total_votes<\/th>\n",
              "      <th>dem_votes<\/th>\n",
              "      <th>rep_votes<\/th>\n",
              "      <th>dem_share<\/th>\n",
              "    <\/tr>\n",
              "  <\/thead>\n",
              "  <tbody>\n",
              "    <tr>\n",
              "      <th>0<\/th>\n",
              "      <td>PA<\/td>\n",
              "      <td>Erie County<\/td>\n",
              "      <td>127691<\/td>\n",
              "      <td>75775<\/td>\n",
              "      <td>50351<\/td>\n",
              "      <td>60.08<\/td>\n",
              "    <\/tr>\n",
              "    <tr>\n",
              "      <th>1<\/th>\n",
              "      <td>PA<\/td>\n",
              "      <td>Bradford County<\/td>\n",
              "      <td>25787<\/td>\n",
              "      <td>10306<\/td>\n",
              "      <td>15057<\/td>\n",
              "      <td>40.64<\/td>\n",
              "    <\/tr>\n",
              "    <tr>\n",
              "      <th>2<\/th>\n",
              "      <td>PA<\/td>\n",
              "      <td>Tioga County<\/td>\n",
              "      <td>17984<\/td>\n",
              "      <td>6390<\/td>\n",
              "      <td>11326<\/td>\n",
              "      <td>36.07<\/td>\n",
              "    <\/tr>\n",
              "    <tr>\n",
              "      <th>3<\/th>\n",
              "      <td>PA<\/td>\n",
              "      <td>McKean County<\/td>\n",
              "      <td>15947<\/td>\n",
              "      <td>6465<\/td>\n",
              "      <td>9224<\/td>\n",
              "      <td>41.21<\/td>\n",
              "    <\/tr>\n",
              "    <tr>\n",
              "      <th>4<\/th>\n",
              "      <td>PA<\/td>\n",
              "      <td>Potter County<\/td>\n",
              "      <td>7507<\/td>\n",
              "      <td>2300<\/td>\n",
              "      <td>5109<\/td>\n",
              "      <td>31.04<\/td>\n",
              "    <\/tr>\n",
              "  <\/tbody>\n",
              "<\/table>\n",
              "<\/div>"
            ]
          },
          "metadata":{
            
          },
          "output_type":"display_data"
        }
      ],
      "metadata":{
        
      }
    },
    {
      "cell_type":"code",
      "source":[
        "df_swing.tail()"
      ],
      "execution_count":7,
      "outputs":[
        {
          "data":{
            "text\/html":[
              "<div>\n",
              "<style scoped>\n",
              "    .dataframe tbody tr th:only-of-type {\n",
              "        vertical-align: middle;\n",
              "    }\n",
              "\n",
              "    .dataframe tbody tr th {\n",
              "        vertical-align: top;\n",
              "    }\n",
              "\n",
              "    .dataframe thead th {\n",
              "        text-align: right;\n",
              "    }\n",
              "<\/style>\n",
              "<table border=\"1\" class=\"dataframe\">\n",
              "  <thead>\n",
              "    <tr style=\"text-align: right;\">\n",
              "      <th><\/th>\n",
              "      <th>state<\/th>\n",
              "      <th>county<\/th>\n",
              "      <th>total_votes<\/th>\n",
              "      <th>dem_votes<\/th>\n",
              "      <th>rep_votes<\/th>\n",
              "      <th>dem_share<\/th>\n",
              "    <\/tr>\n",
              "  <\/thead>\n",
              "  <tbody>\n",
              "    <tr>\n",
              "      <th>217<\/th>\n",
              "      <td>OH<\/td>\n",
              "      <td>Hamilton County<\/td>\n",
              "      <td>425086<\/td>\n",
              "      <td>225213<\/td>\n",
              "      <td>195530<\/td>\n",
              "      <td>53.53<\/td>\n",
              "    <\/tr>\n",
              "    <tr>\n",
              "      <th>218<\/th>\n",
              "      <td>OH<\/td>\n",
              "      <td>Highland County<\/td>\n",
              "      <td>19186<\/td>\n",
              "      <td>6856<\/td>\n",
              "      <td>11907<\/td>\n",
              "      <td>36.54<\/td>\n",
              "    <\/tr>\n",
              "    <tr>\n",
              "      <th>219<\/th>\n",
              "      <td>OH<\/td>\n",
              "      <td>Hocking County<\/td>\n",
              "      <td>12961<\/td>\n",
              "      <td>6259<\/td>\n",
              "      <td>6364<\/td>\n",
              "      <td>49.58<\/td>\n",
              "    <\/tr>\n",
              "    <tr>\n",
              "      <th>220<\/th>\n",
              "      <td>OH<\/td>\n",
              "      <td>Licking County<\/td>\n",
              "      <td>82356<\/td>\n",
              "      <td>33932<\/td>\n",
              "      <td>46918<\/td>\n",
              "      <td>41.97<\/td>\n",
              "    <\/tr>\n",
              "    <tr>\n",
              "      <th>221<\/th>\n",
              "      <td>OH<\/td>\n",
              "      <td>Madison County<\/td>\n",
              "      <td>17454<\/td>\n",
              "      <td>6532<\/td>\n",
              "      <td>10606<\/td>\n",
              "      <td>38.11<\/td>\n",
              "    <\/tr>\n",
              "  <\/tbody>\n",
              "<\/table>\n",
              "<\/div>"
            ]
          },
          "metadata":{
            
          },
          "output_type":"display_data"
        }
      ],
      "metadata":{
        
      }
    },
    {
      "cell_type":"code",
      "source":[
        "df_swing.info()"
      ],
      "execution_count":8,
      "outputs":[
        {
          "name":"stdout",
          "text":[
            "<class 'pandas.core.frame.DataFrame'>\n",
            "RangeIndex: 222 entries, 0 to 221\n",
            "Data columns (total 6 columns):\n",
            " #   Column       Non-Null Count  Dtype  \n",
            "---  ------       --------------  -----  \n",
            " 0   state        222 non-null    object \n",
            " 1   county       222 non-null    object \n",
            " 2   total_votes  222 non-null    int64  \n",
            " 3   dem_votes    222 non-null    int64  \n",
            " 4   rep_votes    222 non-null    int64  \n",
            " 5   dem_share    222 non-null    float64\n",
            "dtypes: float64(1), int64(3), object(2)\n",
            "memory usage: 10.5+ KB\n"
          ],
          "output_type":"stream"
        }
      ],
      "metadata":{
        
      }
    },
    {
      "cell_type":"code",
      "source":[
        "df_swing.dtypes"
      ],
      "execution_count":9,
      "outputs":[
        {
          "data":{
            "text\/plain":[
              "state           object\n",
              "county          object\n",
              "total_votes      int64\n",
              "dem_votes        int64\n",
              "rep_votes        int64\n",
              "dem_share      float64\n",
              "dtype: object"
            ]
          },
          "metadata":{
            
          },
          "output_type":"display_data"
        }
      ],
      "metadata":{
        
      }
    },
    {
      "cell_type":"code",
      "source":[
        "df_swing.describe().T"
      ],
      "execution_count":10,
      "outputs":[
        {
          "data":{
            "text\/html":[
              "<div>\n",
              "<style scoped>\n",
              "    .dataframe tbody tr th:only-of-type {\n",
              "        vertical-align: middle;\n",
              "    }\n",
              "\n",
              "    .dataframe tbody tr th {\n",
              "        vertical-align: top;\n",
              "    }\n",
              "\n",
              "    .dataframe thead th {\n",
              "        text-align: right;\n",
              "    }\n",
              "<\/style>\n",
              "<table border=\"1\" class=\"dataframe\">\n",
              "  <thead>\n",
              "    <tr style=\"text-align: right;\">\n",
              "      <th><\/th>\n",
              "      <th>count<\/th>\n",
              "      <th>mean<\/th>\n",
              "      <th>std<\/th>\n",
              "      <th>min<\/th>\n",
              "      <th>25%<\/th>\n",
              "      <th>50%<\/th>\n",
              "      <th>75%<\/th>\n",
              "      <th>max<\/th>\n",
              "    <\/tr>\n",
              "  <\/thead>\n",
              "  <tbody>\n",
              "    <tr>\n",
              "      <th>total_votes<\/th>\n",
              "      <td>222.0<\/td>\n",
              "      <td>90424.513514<\/td>\n",
              "      <td>142285.290653<\/td>\n",
              "      <td>2245.0<\/td>\n",
              "      <td>16537.2500<\/td>\n",
              "      <td>32491.000<\/td>\n",
              "      <td>95516.750<\/td>\n",
              "      <td>863486.00<\/td>\n",
              "    <\/tr>\n",
              "    <tr>\n",
              "      <th>dem_votes<\/th>\n",
              "      <td>222.0<\/td>\n",
              "      <td>47214.283784<\/td>\n",
              "      <td>88913.077046<\/td>\n",
              "      <td>642.0<\/td>\n",
              "      <td>6337.5000<\/td>\n",
              "      <td>14392.000<\/td>\n",
              "      <td>41623.000<\/td>\n",
              "      <td>595980.00<\/td>\n",
              "    <\/tr>\n",
              "    <tr>\n",
              "      <th>rep_votes<\/th>\n",
              "      <td>222.0<\/td>\n",
              "      <td>42236.567568<\/td>\n",
              "      <td>56208.862490<\/td>\n",
              "      <td>1323.0<\/td>\n",
              "      <td>9203.7500<\/td>\n",
              "      <td>18050.500<\/td>\n",
              "      <td>50651.750<\/td>\n",
              "      <td>360551.00<\/td>\n",
              "    <\/tr>\n",
              "    <tr>\n",
              "      <th>dem_share<\/th>\n",
              "      <td>222.0<\/td>\n",
              "      <td>43.764414<\/td>\n",
              "      <td>10.712770<\/td>\n",
              "      <td>6.8<\/td>\n",
              "      <td>37.3025<\/td>\n",
              "      <td>43.185<\/td>\n",
              "      <td>49.925<\/td>\n",
              "      <td>83.56<\/td>\n",
              "    <\/tr>\n",
              "  <\/tbody>\n",
              "<\/table>\n",
              "<\/div>"
            ]
          },
          "metadata":{
            
          },
          "output_type":"display_data"
        }
      ],
      "metadata":{
        
      }
    },
    {
      "cell_type":"code",
      "source":[
        "_ = plt.hist(df_swing['dem_share'])\n",
        "_ = plt.xlabel('percent of vote for Obama')  \n",
        "_ = plt.ylabel('number of counties')\n",
        "plt.show()"
      ],
      "execution_count":11,
      "outputs":[
        {
          "data":{
            "image\/png":"[encoded data removed]"
          },
          "metadata":{
            "image\/png":{
              "width":0,
              "height":0
            }
          },
          "output_type":"display_data"
        }
      ],
      "metadata":{
        
      }
    },
    {
      "cell_type":"code",
      "source":[
        "sns.displot(df_swing['dem_share'])\n",
        "_ = plt.xlabel('percent of vote for Obama')  \n",
        "_ = plt.ylabel('number of counties')\n",
        "plt.show()"
      ],
      "execution_count":12,
      "outputs":[
        {
          "data":{
            "image\/png":"[encoded data removed]"
          },
          "metadata":{
            "image\/png":{
              "width":0,
              "height":0
            }
          },
          "output_type":"display_data"
        }
      ],
      "metadata":{
        
      }
    },
    {
      "cell_type":"code",
      "source":[
        "bin_edges = [0, 10, 20, 30, 40, 50,60, 70, 80, 90, 100]\n",
        "_ = plt.hist(df_swing['dem_share'], bins=bin_edges)\n",
        "plt.show()"
      ],
      "execution_count":13,
      "outputs":[
        {
          "data":{
            "image\/png":"[encoded data removed]"
          },
          "metadata":{
            "image\/png":{
              "width":0,
              "height":0
            }
          },
          "output_type":"display_data"
        }
      ],
      "metadata":{
        
      }
    },
    {
      "cell_type":"code",
      "source":[
        
      ],
      "execution_count":0,
      "outputs":[
        
      ],
      "metadata":{
        
      }
    }
  ],
  "metadata":{
    
  },
  "nbformat":4,
  "nbformat_minor":0
}