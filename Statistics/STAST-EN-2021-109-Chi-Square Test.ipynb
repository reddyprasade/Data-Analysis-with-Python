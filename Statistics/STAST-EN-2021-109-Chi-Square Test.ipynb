{
 "cells": [
  {
   "cell_type": "markdown",
   "source": "# Chi-Square Test",
   "metadata": {
    "tags": [],
    "cell_id": "00001-80f17c73-8898-41a7-bf80-5142cc7eaa50",
    "deepnote_cell_type": "text-cell-h1"
   }
  },
  {
   "cell_type": "markdown",
   "source": "### Table of Contents\n* What are Categorical Variables?\n* What is a Chi-Square Test and Why Do We Use It?\n* Assumptions of the Chi-Square Test\n* Types of Chi-Square Tests (With implementation in R)\n* Chi-Square Goodness of Fit Test\n* Chi-Square Test of Association between Two Variables",
   "metadata": {
    "tags": [],
    "cell_id": "00003-043787a3-afa8-46af-b99f-57332fa930e2",
    "deepnote_cell_type": "markdown"
   }
  },
  {
   "cell_type": "markdown",
   "source": "### Case study:\n\n\nLet's Start with our Case Study, i want you to think of your favorite restaurant right now. let's Say you can predict a certain number of people arriving for lunch five days a week.At the end of the week, you observe that the expected footfall was different from the actual footfall.\n\nSo, how will you check the statistical significance between the observed and the expected footfall values? Remember this is a categorical variable – ‘Days of the week’ – with 5 categories [Monday, Tuesday, Wednesday, Thursday, Friday].",
   "metadata": {
    "tags": [],
    "cell_id": "00003-97386ab8-b525-4bfb-8a61-f1ba97005a55",
    "deepnote_cell_type": "markdown"
   }
  },
  {
   "cell_type": "markdown",
   "source": "## What are Categorical Variables?\n\n* Categorical variables fall into a particular category of those variables that can be divided into finite categories. \n* These categories are generally names or labels. \n* Labels may Present in both **Feature(X, Independent, Input)** and Target(Ouput/Dependent/y)\n* These variables are also called qualitative variables as they depict the quality or characteristics of that particular variable.\n* I’m sure you’ve encountered categorial variables before, even if you might not have intuitively recognized them.\n\n\n**For example:**\n\nthe category `Movie Genre` in a list of movies could contain the categorical variables – `Action`, `Fantasy`, `Comedy`, `Romance`, etc.\n\n\n\n###  Two types of categorical variables:\n1. Nominal Variable\n2. Ordinal Variable",
   "metadata": {
    "tags": [],
    "cell_id": "00001-c671bdba-c90f-4a22-89b9-1b4e9b73d70c",
    "deepnote_cell_type": "markdown"
   }
  },
  {
   "cell_type": "markdown",
   "source": "#### Nominal Variable:\n*  A nominal variable has **no natural ordering** to its categories.\n* They have two or more categories.\n* For example:\n    * Marital Status (Single, Married, Divorcee)\n    * Gender (Male, Female, Transgender)\n\n#### Ordinal Variable:\n* A variable for which the categories can be placed in an order. \n* Ordinal Variable are in **Natural ordering** to its categories.\n* Ordinal data is a categorical, statistical data type where the variables have natural, ordered categories and the distances between the categories is not known.\n* For Example:\n    * Customer Satisfaction (Excellent, Very Good, Good, Average, Bad)\n    * Movie Rating",
   "metadata": {
    "tags": [],
    "cell_id": "00004-cbc68d32-a7bd-4b41-92f0-ce8d92006f04",
    "deepnote_cell_type": "markdown"
   }
  },
  {
   "cell_type": "markdown",
   "source": "## What is a Chi-Square Test and Why Do We Use It?\n\n* `A Chi-Square test is a test of statistical significance for categorical variables.`\n* Chi-square test in hypothesis testing is used to test the hypothesis about the distribution of observations/frequencies in different categories.\n\n\n### \n",
   "metadata": {
    "tags": [],
    "cell_id": "00004-734cce77-0eb1-42dc-8fb7-93fd0471f2ca",
    "deepnote_cell_type": "markdown"
   }
  },
  {
   "cell_type": "markdown",
   "source": "### Assumptions of the Chi-Square Test\n\n* Just like any other statistical test, the chi-square test comes with a few assumptions of its own:\n    * The $x^2$ assumes that the data for the study is obtained through random selection, i.e., they are randomly pick from the population.\n    *  The categories are mutually exclusive i.e. each subject fits in only one category. \n        **Example:** the number of people who lunched in your restaurant on Monday can’t be filled in the Tuesday category\n    * The data should be in the form of frequencies or counts of a particular category and not in percentages.\n    * The data should not consist of paired samples or groups or we can say the observations should be independent of each other.\n    * When more than **20% of the expected frequencies** have a value of **less than 5** then Chi-square cannot be used.\n    * To tackle this problem: Either one should combine the categories only if it is relevant or obtain more data.\n",
   "metadata": {
    "tags": [],
    "cell_id": "00006-71d10d5e-80ee-4b98-ba79-792b819a893b",
    "deepnote_cell_type": "markdown"
   }
  },
  {
   "cell_type": "code",
   "source": "url = \"https://raw.githubusercontent.com/reddyprasade/DataSet-for-ML-and-Data-Science/master/DataSets/day.csv\"",
   "metadata": {
    "tags": [],
    "cell_id": "00007-8a1d1d64-3ba6-4f08-bc68-e74503788848",
    "deepnote_to_be_reexecuted": false,
    "source_hash": "77c0a08d",
    "execution_start": 1623898209666,
    "deepnote_cell_type": "code"
   },
   "outputs": [],
   "execution_count": 1
  },
  {
   "cell_type": "code",
   "source": "import numpy as np\nimport pandas as pd\nimport seaborn as sns\nimport matplotlib.pyplot as plt",
   "metadata": {
    "tags": [],
    "cell_id": "00008-2d932d3d-cf12-4a39-bffc-5ce0103acd39",
    "deepnote_to_be_reexecuted": false,
    "source_hash": "34ad2d5b",
    "execution_start": 1623898209710,
    "execution_millis": 2516,
    "deepnote_cell_type": "code"
   },
   "outputs": [],
   "execution_count": 2
  },
  {
   "cell_type": "code",
   "source": "df = pd.read_csv(url)\ndf.head()",
   "metadata": {
    "tags": [],
    "cell_id": "00009-b1bcc31f-c3f7-455a-8e3b-18dac97972d6",
    "deepnote_to_be_reexecuted": false,
    "source_hash": "dab9fa60",
    "execution_start": 1623898240354,
    "execution_millis": 116,
    "deepnote_cell_type": "code"
   },
   "outputs": [
    {
     "output_type": "execute_result",
     "execution_count": 3,
     "data": {
      "application/vnd.deepnote.dataframe.v2+json": {
       "row_count": 5,
       "column_count": 16,
       "columns": [
        {
         "name": "instant",
         "dtype": "int64",
         "stats": {
          "unique_count": 5,
          "nan_count": 0,
          "min": "1",
          "max": "5",
          "histogram": [
           {
            "bin_start": 1,
            "bin_end": 1.4,
            "count": 1
           },
           {
            "bin_start": 1.4,
            "bin_end": 1.8,
            "count": 0
           },
           {
            "bin_start": 1.8,
            "bin_end": 2.2,
            "count": 1
           },
           {
            "bin_start": 2.2,
            "bin_end": 2.6,
            "count": 0
           },
           {
            "bin_start": 2.6,
            "bin_end": 3,
            "count": 0
           },
           {
            "bin_start": 3,
            "bin_end": 3.4000000000000004,
            "count": 1
           },
           {
            "bin_start": 3.4000000000000004,
            "bin_end": 3.8000000000000003,
            "count": 0
           },
           {
            "bin_start": 3.8000000000000003,
            "bin_end": 4.2,
            "count": 1
           },
           {
            "bin_start": 4.2,
            "bin_end": 4.6,
            "count": 0
           },
           {
            "bin_start": 4.6,
            "bin_end": 5,
            "count": 1
           }
          ]
         }
        },
        {
         "name": "dteday",
         "dtype": "object",
         "stats": {
          "unique_count": 5,
          "nan_count": 0,
          "categories": [
           {
            "name": "2011-01-01",
            "count": 1
           },
           {
            "name": "2011-01-02",
            "count": 1
           },
           {
            "name": "3 others",
            "count": 3
           }
          ]
         }
        },
        {
         "name": "season",
         "dtype": "int64",
         "stats": {
          "unique_count": 1,
          "nan_count": 0,
          "min": "1",
          "max": "1",
          "histogram": [
           {
            "bin_start": 0.5,
            "bin_end": 0.6,
            "count": 0
           },
           {
            "bin_start": 0.6,
            "bin_end": 0.7,
            "count": 0
           },
           {
            "bin_start": 0.7,
            "bin_end": 0.8,
            "count": 0
           },
           {
            "bin_start": 0.8,
            "bin_end": 0.9,
            "count": 0
           },
           {
            "bin_start": 0.9,
            "bin_end": 1,
            "count": 0
           },
           {
            "bin_start": 1,
            "bin_end": 1.1,
            "count": 5
           },
           {
            "bin_start": 1.1,
            "bin_end": 1.2000000000000002,
            "count": 0
           },
           {
            "bin_start": 1.2000000000000002,
            "bin_end": 1.3,
            "count": 0
           },
           {
            "bin_start": 1.3,
            "bin_end": 1.4,
            "count": 0
           },
           {
            "bin_start": 1.4,
            "bin_end": 1.5,
            "count": 0
           }
          ]
         }
        },
        {
         "name": "yr",
         "dtype": "int64",
         "stats": {
          "unique_count": 1,
          "nan_count": 0,
          "min": "0",
          "max": "0",
          "histogram": [
           {
            "bin_start": -0.5,
            "bin_end": -0.4,
            "count": 0
           },
           {
            "bin_start": -0.4,
            "bin_end": -0.3,
            "count": 0
           },
           {
            "bin_start": -0.3,
            "bin_end": -0.19999999999999996,
            "count": 0
           },
           {
            "bin_start": -0.19999999999999996,
            "bin_end": -0.09999999999999998,
            "count": 0
           },
           {
            "bin_start": -0.09999999999999998,
            "bin_end": 0,
            "count": 0
           },
           {
            "bin_start": 0,
            "bin_end": 0.10000000000000009,
            "count": 5
           },
           {
            "bin_start": 0.10000000000000009,
            "bin_end": 0.20000000000000007,
            "count": 0
           },
           {
            "bin_start": 0.20000000000000007,
            "bin_end": 0.30000000000000004,
            "count": 0
           },
           {
            "bin_start": 0.30000000000000004,
            "bin_end": 0.4,
            "count": 0
           },
           {
            "bin_start": 0.4,
            "bin_end": 0.5,
            "count": 0
           }
          ]
         }
        },
        {
         "name": "mnth",
         "dtype": "int64",
         "stats": {
          "unique_count": 1,
          "nan_count": 0,
          "min": "1",
          "max": "1",
          "histogram": [
           {
            "bin_start": 0.5,
            "bin_end": 0.6,
            "count": 0
           },
           {
            "bin_start": 0.6,
            "bin_end": 0.7,
            "count": 0
           },
           {
            "bin_start": 0.7,
            "bin_end": 0.8,
            "count": 0
           },
           {
            "bin_start": 0.8,
            "bin_end": 0.9,
            "count": 0
           },
           {
            "bin_start": 0.9,
            "bin_end": 1,
            "count": 0
           },
           {
            "bin_start": 1,
            "bin_end": 1.1,
            "count": 5
           },
           {
            "bin_start": 1.1,
            "bin_end": 1.2000000000000002,
            "count": 0
           },
           {
            "bin_start": 1.2000000000000002,
            "bin_end": 1.3,
            "count": 0
           },
           {
            "bin_start": 1.3,
            "bin_end": 1.4,
            "count": 0
           },
           {
            "bin_start": 1.4,
            "bin_end": 1.5,
            "count": 0
           }
          ]
         }
        },
        {
         "name": "holiday",
         "dtype": "int64",
         "stats": {
          "unique_count": 1,
          "nan_count": 0,
          "min": "0",
          "max": "0",
          "histogram": [
           {
            "bin_start": -0.5,
            "bin_end": -0.4,
            "count": 0
           },
           {
            "bin_start": -0.4,
            "bin_end": -0.3,
            "count": 0
           },
           {
            "bin_start": -0.3,
            "bin_end": -0.19999999999999996,
            "count": 0
           },
           {
            "bin_start": -0.19999999999999996,
            "bin_end": -0.09999999999999998,
            "count": 0
           },
           {
            "bin_start": -0.09999999999999998,
            "bin_end": 0,
            "count": 0
           },
           {
            "bin_start": 0,
            "bin_end": 0.10000000000000009,
            "count": 5
           },
           {
            "bin_start": 0.10000000000000009,
            "bin_end": 0.20000000000000007,
            "count": 0
           },
           {
            "bin_start": 0.20000000000000007,
            "bin_end": 0.30000000000000004,
            "count": 0
           },
           {
            "bin_start": 0.30000000000000004,
            "bin_end": 0.4,
            "count": 0
           },
           {
            "bin_start": 0.4,
            "bin_end": 0.5,
            "count": 0
           }
          ]
         }
        },
        {
         "name": "weekday",
         "dtype": "int64",
         "stats": {
          "unique_count": 5,
          "nan_count": 0,
          "min": "0",
          "max": "6",
          "histogram": [
           {
            "bin_start": 0,
            "bin_end": 0.6,
            "count": 1
           },
           {
            "bin_start": 0.6,
            "bin_end": 1.2,
            "count": 1
           },
           {
            "bin_start": 1.2,
            "bin_end": 1.7999999999999998,
            "count": 0
           },
           {
            "bin_start": 1.7999999999999998,
            "bin_end": 2.4,
            "count": 1
           },
           {
            "bin_start": 2.4,
            "bin_end": 3,
            "count": 0
           },
           {
            "bin_start": 3,
            "bin_end": 3.5999999999999996,
            "count": 1
           },
           {
            "bin_start": 3.5999999999999996,
            "bin_end": 4.2,
            "count": 0
           },
           {
            "bin_start": 4.2,
            "bin_end": 4.8,
            "count": 0
           },
           {
            "bin_start": 4.8,
            "bin_end": 5.3999999999999995,
            "count": 0
           },
           {
            "bin_start": 5.3999999999999995,
            "bin_end": 6,
            "count": 1
           }
          ]
         }
        },
        {
         "name": "workingday",
         "dtype": "int64",
         "stats": {
          "unique_count": 2,
          "nan_count": 0,
          "min": "0",
          "max": "1",
          "histogram": [
           {
            "bin_start": 0,
            "bin_end": 0.1,
            "count": 2
           },
           {
            "bin_start": 0.1,
            "bin_end": 0.2,
            "count": 0
           },
           {
            "bin_start": 0.2,
            "bin_end": 0.30000000000000004,
            "count": 0
           },
           {
            "bin_start": 0.30000000000000004,
            "bin_end": 0.4,
            "count": 0
           },
           {
            "bin_start": 0.4,
            "bin_end": 0.5,
            "count": 0
           },
           {
            "bin_start": 0.5,
            "bin_end": 0.6000000000000001,
            "count": 0
           },
           {
            "bin_start": 0.6000000000000001,
            "bin_end": 0.7000000000000001,
            "count": 0
           },
           {
            "bin_start": 0.7000000000000001,
            "bin_end": 0.8,
            "count": 0
           },
           {
            "bin_start": 0.8,
            "bin_end": 0.9,
            "count": 0
           },
           {
            "bin_start": 0.9,
            "bin_end": 1,
            "count": 3
           }
          ]
         }
        },
        {
         "name": "weathersit",
         "dtype": "int64",
         "stats": {
          "unique_count": 2,
          "nan_count": 0,
          "min": "1",
          "max": "2",
          "histogram": [
           {
            "bin_start": 1,
            "bin_end": 1.1,
            "count": 3
           },
           {
            "bin_start": 1.1,
            "bin_end": 1.2,
            "count": 0
           },
           {
            "bin_start": 1.2,
            "bin_end": 1.3,
            "count": 0
           },
           {
            "bin_start": 1.3,
            "bin_end": 1.4,
            "count": 0
           },
           {
            "bin_start": 1.4,
            "bin_end": 1.5,
            "count": 0
           },
           {
            "bin_start": 1.5,
            "bin_end": 1.6,
            "count": 0
           },
           {
            "bin_start": 1.6,
            "bin_end": 1.7000000000000002,
            "count": 0
           },
           {
            "bin_start": 1.7000000000000002,
            "bin_end": 1.8,
            "count": 0
           },
           {
            "bin_start": 1.8,
            "bin_end": 1.9,
            "count": 0
           },
           {
            "bin_start": 1.9,
            "bin_end": 2,
            "count": 2
           }
          ]
         }
        },
        {
         "name": "temp",
         "dtype": "float64",
         "stats": {
          "unique_count": 5,
          "nan_count": 0,
          "min": "0.196364",
          "max": "0.363478",
          "histogram": [
           {
            "bin_start": 0.196364,
            "bin_end": 0.21307540000000003,
            "count": 2
           },
           {
            "bin_start": 0.21307540000000003,
            "bin_end": 0.2297868,
            "count": 1
           },
           {
            "bin_start": 0.2297868,
            "bin_end": 0.2464982,
            "count": 0
           },
           {
            "bin_start": 0.2464982,
            "bin_end": 0.26320960000000004,
            "count": 0
           },
           {
            "bin_start": 0.26320960000000004,
            "bin_end": 0.27992100000000003,
            "count": 0
           },
           {
            "bin_start": 0.27992100000000003,
            "bin_end": 0.2966324,
            "count": 0
           },
           {
            "bin_start": 0.2966324,
            "bin_end": 0.3133438,
            "count": 0
           },
           {
            "bin_start": 0.3133438,
            "bin_end": 0.3300552,
            "count": 0
           },
           {
            "bin_start": 0.3300552,
            "bin_end": 0.34676660000000004,
            "count": 1
           },
           {
            "bin_start": 0.34676660000000004,
            "bin_end": 0.363478,
            "count": 1
           }
          ]
         }
        },
        {
         "name": "atemp",
         "dtype": "float64",
         "stats": {
          "unique_count": 5,
          "nan_count": 0,
          "min": "0.189405",
          "max": "0.363625",
          "histogram": [
           {
            "bin_start": 0.189405,
            "bin_end": 0.20682699999999998,
            "count": 1
           },
           {
            "bin_start": 0.20682699999999998,
            "bin_end": 0.22424899999999998,
            "count": 1
           },
           {
            "bin_start": 0.22424899999999998,
            "bin_end": 0.241671,
            "count": 1
           },
           {
            "bin_start": 0.241671,
            "bin_end": 0.259093,
            "count": 0
           },
           {
            "bin_start": 0.259093,
            "bin_end": 0.27651499999999996,
            "count": 0
           },
           {
            "bin_start": 0.27651499999999996,
            "bin_end": 0.293937,
            "count": 0
           },
           {
            "bin_start": 0.293937,
            "bin_end": 0.311359,
            "count": 0
           },
           {
            "bin_start": 0.311359,
            "bin_end": 0.328781,
            "count": 0
           },
           {
            "bin_start": 0.328781,
            "bin_end": 0.346203,
            "count": 0
           },
           {
            "bin_start": 0.346203,
            "bin_end": 0.363625,
            "count": 2
           }
          ]
         }
        },
        {
         "name": "hum",
         "dtype": "float64",
         "stats": {
          "unique_count": 5,
          "nan_count": 0,
          "min": "0.436957",
          "max": "0.805833",
          "histogram": [
           {
            "bin_start": 0.436957,
            "bin_end": 0.4738446,
            "count": 2
           },
           {
            "bin_start": 0.4738446,
            "bin_end": 0.5107322,
            "count": 0
           },
           {
            "bin_start": 0.5107322,
            "bin_end": 0.5476198,
            "count": 0
           },
           {
            "bin_start": 0.5476198,
            "bin_end": 0.5845074,
            "count": 0
           },
           {
            "bin_start": 0.5845074,
            "bin_end": 0.621395,
            "count": 1
           },
           {
            "bin_start": 0.621395,
            "bin_end": 0.6582826,
            "count": 0
           },
           {
            "bin_start": 0.6582826,
            "bin_end": 0.6951702,
            "count": 0
           },
           {
            "bin_start": 0.6951702,
            "bin_end": 0.7320578,
            "count": 1
           },
           {
            "bin_start": 0.7320578,
            "bin_end": 0.7689454,
            "count": 0
           },
           {
            "bin_start": 0.7689454,
            "bin_end": 0.805833,
            "count": 1
           }
          ]
         }
        },
        {
         "name": "windspeed",
         "dtype": "float64",
         "stats": {
          "unique_count": 5,
          "nan_count": 0,
          "min": "0.160296",
          "max": "0.248539",
          "histogram": [
           {
            "bin_start": 0.160296,
            "bin_end": 0.1691203,
            "count": 2
           },
           {
            "bin_start": 0.1691203,
            "bin_end": 0.1779446,
            "count": 0
           },
           {
            "bin_start": 0.1779446,
            "bin_end": 0.18676890000000002,
            "count": 0
           },
           {
            "bin_start": 0.18676890000000002,
            "bin_end": 0.1955932,
            "count": 1
           },
           {
            "bin_start": 0.1955932,
            "bin_end": 0.2044175,
            "count": 0
           },
           {
            "bin_start": 0.2044175,
            "bin_end": 0.2132418,
            "count": 0
           },
           {
            "bin_start": 0.2132418,
            "bin_end": 0.22206610000000002,
            "count": 0
           },
           {
            "bin_start": 0.22206610000000002,
            "bin_end": 0.2308904,
            "count": 0
           },
           {
            "bin_start": 0.2308904,
            "bin_end": 0.2397147,
            "count": 0
           },
           {
            "bin_start": 0.2397147,
            "bin_end": 0.248539,
            "count": 2
           }
          ]
         }
        },
        {
         "name": "casual",
         "dtype": "int64",
         "stats": {
          "unique_count": 5,
          "nan_count": 0,
          "min": "82",
          "max": "331",
          "histogram": [
           {
            "bin_start": 82,
            "bin_end": 106.9,
            "count": 1
           },
           {
            "bin_start": 106.9,
            "bin_end": 131.8,
            "count": 3
           },
           {
            "bin_start": 131.8,
            "bin_end": 156.7,
            "count": 0
           },
           {
            "bin_start": 156.7,
            "bin_end": 181.6,
            "count": 0
           },
           {
            "bin_start": 181.6,
            "bin_end": 206.5,
            "count": 0
           },
           {
            "bin_start": 206.5,
            "bin_end": 231.39999999999998,
            "count": 0
           },
           {
            "bin_start": 231.39999999999998,
            "bin_end": 256.29999999999995,
            "count": 0
           },
           {
            "bin_start": 256.29999999999995,
            "bin_end": 281.2,
            "count": 0
           },
           {
            "bin_start": 281.2,
            "bin_end": 306.1,
            "count": 0
           },
           {
            "bin_start": 306.1,
            "bin_end": 331,
            "count": 1
           }
          ]
         }
        },
        {
         "name": "registered",
         "dtype": "int64",
         "stats": {
          "unique_count": 5,
          "nan_count": 0,
          "min": "654",
          "max": "1518",
          "histogram": [
           {
            "bin_start": 654,
            "bin_end": 740.4,
            "count": 2
           },
           {
            "bin_start": 740.4,
            "bin_end": 826.8,
            "count": 0
           },
           {
            "bin_start": 826.8,
            "bin_end": 913.2,
            "count": 0
           },
           {
            "bin_start": 913.2,
            "bin_end": 999.6,
            "count": 0
           },
           {
            "bin_start": 999.6,
            "bin_end": 1086,
            "count": 0
           },
           {
            "bin_start": 1086,
            "bin_end": 1172.4,
            "count": 0
           },
           {
            "bin_start": 1172.4,
            "bin_end": 1258.8000000000002,
            "count": 1
           },
           {
            "bin_start": 1258.8000000000002,
            "bin_end": 1345.2,
            "count": 0
           },
           {
            "bin_start": 1345.2,
            "bin_end": 1431.6,
            "count": 0
           },
           {
            "bin_start": 1431.6,
            "bin_end": 1518,
            "count": 2
           }
          ]
         }
        },
        {
         "name": "cnt",
         "dtype": "int64",
         "stats": {
          "unique_count": 5,
          "nan_count": 0,
          "min": "801",
          "max": "1600",
          "histogram": [
           {
            "bin_start": 801,
            "bin_end": 880.9,
            "count": 1
           },
           {
            "bin_start": 880.9,
            "bin_end": 960.8,
            "count": 0
           },
           {
            "bin_start": 960.8,
            "bin_end": 1040.7,
            "count": 1
           },
           {
            "bin_start": 1040.7,
            "bin_end": 1120.6,
            "count": 0
           },
           {
            "bin_start": 1120.6,
            "bin_end": 1200.5,
            "count": 0
           },
           {
            "bin_start": 1200.5,
            "bin_end": 1280.4,
            "count": 0
           },
           {
            "bin_start": 1280.4,
            "bin_end": 1360.3000000000002,
            "count": 1
           },
           {
            "bin_start": 1360.3000000000002,
            "bin_end": 1440.2,
            "count": 0
           },
           {
            "bin_start": 1440.2,
            "bin_end": 1520.1,
            "count": 0
           },
           {
            "bin_start": 1520.1,
            "bin_end": 1600,
            "count": 2
           }
          ]
         }
        },
        {
         "name": "_deepnote_index_column",
         "dtype": "int64"
        }
       ],
       "rows_top": [
        {
         "instant": 1,
         "dteday": "2011-01-01",
         "season": 1,
         "yr": 0,
         "mnth": 1,
         "holiday": 0,
         "weekday": 6,
         "workingday": 0,
         "weathersit": 2,
         "temp": 0.344167,
         "atemp": 0.363625,
         "hum": 0.805833,
         "windspeed": 0.160446,
         "casual": 331,
         "registered": 654,
         "cnt": 985,
         "_deepnote_index_column": 0
        },
        {
         "instant": 2,
         "dteday": "2011-01-02",
         "season": 1,
         "yr": 0,
         "mnth": 1,
         "holiday": 0,
         "weekday": 0,
         "workingday": 0,
         "weathersit": 2,
         "temp": 0.363478,
         "atemp": 0.353739,
         "hum": 0.696087,
         "windspeed": 0.248539,
         "casual": 131,
         "registered": 670,
         "cnt": 801,
         "_deepnote_index_column": 1
        },
        {
         "instant": 3,
         "dteday": "2011-01-03",
         "season": 1,
         "yr": 0,
         "mnth": 1,
         "holiday": 0,
         "weekday": 1,
         "workingday": 1,
         "weathersit": 1,
         "temp": 0.196364,
         "atemp": 0.189405,
         "hum": 0.437273,
         "windspeed": 0.248309,
         "casual": 120,
         "registered": 1229,
         "cnt": 1349,
         "_deepnote_index_column": 2
        },
        {
         "instant": 4,
         "dteday": "2011-01-04",
         "season": 1,
         "yr": 0,
         "mnth": 1,
         "holiday": 0,
         "weekday": 2,
         "workingday": 1,
         "weathersit": 1,
         "temp": 0.2,
         "atemp": 0.212122,
         "hum": 0.590435,
         "windspeed": 0.160296,
         "casual": 108,
         "registered": 1454,
         "cnt": 1562,
         "_deepnote_index_column": 3
        },
        {
         "instant": 5,
         "dteday": "2011-01-05",
         "season": 1,
         "yr": 0,
         "mnth": 1,
         "holiday": 0,
         "weekday": 3,
         "workingday": 1,
         "weathersit": 1,
         "temp": 0.226957,
         "atemp": 0.22927,
         "hum": 0.436957,
         "windspeed": 0.1869,
         "casual": 82,
         "registered": 1518,
         "cnt": 1600,
         "_deepnote_index_column": 4
        }
       ],
       "rows_bottom": null
      },
      "text/plain": "   instant      dteday  season  yr  mnth  holiday  weekday  workingday  \\\n0        1  2011-01-01       1   0     1        0        6           0   \n1        2  2011-01-02       1   0     1        0        0           0   \n2        3  2011-01-03       1   0     1        0        1           1   \n3        4  2011-01-04       1   0     1        0        2           1   \n4        5  2011-01-05       1   0     1        0        3           1   \n\n   weathersit      temp     atemp       hum  windspeed  casual  registered  \\\n0           2  0.344167  0.363625  0.805833   0.160446     331         654   \n1           2  0.363478  0.353739  0.696087   0.248539     131         670   \n2           1  0.196364  0.189405  0.437273   0.248309     120        1229   \n3           1  0.200000  0.212122  0.590435   0.160296     108        1454   \n4           1  0.226957  0.229270  0.436957   0.186900      82        1518   \n\n    cnt  \n0   985  \n1   801  \n2  1349  \n3  1562  \n4  1600  ",
      "text/html": "<div>\n<style scoped>\n    .dataframe tbody tr th:only-of-type {\n        vertical-align: middle;\n    }\n\n    .dataframe tbody tr th {\n        vertical-align: top;\n    }\n\n    .dataframe thead th {\n        text-align: right;\n    }\n</style>\n<table border=\"1\" class=\"dataframe\">\n  <thead>\n    <tr style=\"text-align: right;\">\n      <th></th>\n      <th>instant</th>\n      <th>dteday</th>\n      <th>season</th>\n      <th>yr</th>\n      <th>mnth</th>\n      <th>holiday</th>\n      <th>weekday</th>\n      <th>workingday</th>\n      <th>weathersit</th>\n      <th>temp</th>\n      <th>atemp</th>\n      <th>hum</th>\n      <th>windspeed</th>\n      <th>casual</th>\n      <th>registered</th>\n      <th>cnt</th>\n    </tr>\n  </thead>\n  <tbody>\n    <tr>\n      <th>0</th>\n      <td>1</td>\n      <td>2011-01-01</td>\n      <td>1</td>\n      <td>0</td>\n      <td>1</td>\n      <td>0</td>\n      <td>6</td>\n      <td>0</td>\n      <td>2</td>\n      <td>0.344167</td>\n      <td>0.363625</td>\n      <td>0.805833</td>\n      <td>0.160446</td>\n      <td>331</td>\n      <td>654</td>\n      <td>985</td>\n    </tr>\n    <tr>\n      <th>1</th>\n      <td>2</td>\n      <td>2011-01-02</td>\n      <td>1</td>\n      <td>0</td>\n      <td>1</td>\n      <td>0</td>\n      <td>0</td>\n      <td>0</td>\n      <td>2</td>\n      <td>0.363478</td>\n      <td>0.353739</td>\n      <td>0.696087</td>\n      <td>0.248539</td>\n      <td>131</td>\n      <td>670</td>\n      <td>801</td>\n    </tr>\n    <tr>\n      <th>2</th>\n      <td>3</td>\n      <td>2011-01-03</td>\n      <td>1</td>\n      <td>0</td>\n      <td>1</td>\n      <td>0</td>\n      <td>1</td>\n      <td>1</td>\n      <td>1</td>\n      <td>0.196364</td>\n      <td>0.189405</td>\n      <td>0.437273</td>\n      <td>0.248309</td>\n      <td>120</td>\n      <td>1229</td>\n      <td>1349</td>\n    </tr>\n    <tr>\n      <th>3</th>\n      <td>4</td>\n      <td>2011-01-04</td>\n      <td>1</td>\n      <td>0</td>\n      <td>1</td>\n      <td>0</td>\n      <td>2</td>\n      <td>1</td>\n      <td>1</td>\n      <td>0.200000</td>\n      <td>0.212122</td>\n      <td>0.590435</td>\n      <td>0.160296</td>\n      <td>108</td>\n      <td>1454</td>\n      <td>1562</td>\n    </tr>\n    <tr>\n      <th>4</th>\n      <td>5</td>\n      <td>2011-01-05</td>\n      <td>1</td>\n      <td>0</td>\n      <td>1</td>\n      <td>0</td>\n      <td>3</td>\n      <td>1</td>\n      <td>1</td>\n      <td>0.226957</td>\n      <td>0.229270</td>\n      <td>0.436957</td>\n      <td>0.186900</td>\n      <td>82</td>\n      <td>1518</td>\n      <td>1600</td>\n    </tr>\n  </tbody>\n</table>\n</div>"
     },
     "metadata": {}
    }
   ],
   "execution_count": 3
  },
  {
   "cell_type": "code",
   "source": "df.columns",
   "metadata": {
    "tags": [],
    "cell_id": "00010-614bb845-44d5-4d09-be77-189dd3516f98",
    "deepnote_to_be_reexecuted": false,
    "source_hash": "25d43fa0",
    "execution_start": 1623898316211,
    "execution_millis": 9,
    "deepnote_cell_type": "code"
   },
   "outputs": [
    {
     "output_type": "execute_result",
     "execution_count": 4,
     "data": {
      "text/plain": "Index(['instant', 'dteday', 'season', 'yr', 'mnth', 'holiday', 'weekday',\n       'workingday', 'weathersit', 'temp', 'atemp', 'hum', 'windspeed',\n       'casual', 'registered', 'cnt'],\n      dtype='object')"
     },
     "metadata": {}
    }
   ],
   "execution_count": 4
  },
  {
   "cell_type": "code",
   "source": "categorical_col = ['season', 'yr', 'mnth', 'holiday', 'weekday', 'workingday',\n       'weathersit']",
   "metadata": {
    "tags": [],
    "cell_id": "00011-7d35ec4b-05d0-47e2-b2f6-6d099ce2ddb6",
    "deepnote_to_be_reexecuted": false,
    "source_hash": "b4bb4d7f",
    "execution_start": 1623898321127,
    "execution_millis": 3,
    "deepnote_cell_type": "code"
   },
   "outputs": [],
   "execution_count": 5
  },
  {
   "cell_type": "code",
   "source": "chisqt = pd.crosstab(df.holiday,df.weathersit,margins=True)",
   "metadata": {
    "tags": [],
    "cell_id": "00012-101c5bc7-44a0-4d13-9095-37163868e00f",
    "deepnote_to_be_reexecuted": false,
    "source_hash": "afe71423",
    "execution_start": 1623898426877,
    "execution_millis": 40,
    "deepnote_cell_type": "code"
   },
   "outputs": [],
   "execution_count": 6
  },
  {
   "cell_type": "code",
   "source": "chisqt",
   "metadata": {
    "tags": [],
    "cell_id": "00013-1553a740-2a9b-4edf-9240-d56ea9b853a6",
    "deepnote_to_be_reexecuted": false,
    "source_hash": "99270b4b",
    "execution_start": 1623898431229,
    "execution_millis": 13,
    "deepnote_cell_type": "code"
   },
   "outputs": [
    {
     "output_type": "execute_result",
     "execution_count": 7,
     "data": {
      "application/vnd.deepnote.dataframe.v2+json": {
       "row_count": 3,
       "column_count": 4,
       "columns": [
        {
         "name": 1,
         "dtype": "int64",
         "stats": {
          "unique_count": 3,
          "nan_count": 0,
          "min": "15",
          "max": "463",
          "histogram": [
           {
            "bin_start": 15,
            "bin_end": 59.8,
            "count": 1
           },
           {
            "bin_start": 59.8,
            "bin_end": 104.6,
            "count": 0
           },
           {
            "bin_start": 104.6,
            "bin_end": 149.39999999999998,
            "count": 0
           },
           {
            "bin_start": 149.39999999999998,
            "bin_end": 194.2,
            "count": 0
           },
           {
            "bin_start": 194.2,
            "bin_end": 239,
            "count": 0
           },
           {
            "bin_start": 239,
            "bin_end": 283.79999999999995,
            "count": 0
           },
           {
            "bin_start": 283.79999999999995,
            "bin_end": 328.59999999999997,
            "count": 0
           },
           {
            "bin_start": 328.59999999999997,
            "bin_end": 373.4,
            "count": 0
           },
           {
            "bin_start": 373.4,
            "bin_end": 418.2,
            "count": 0
           },
           {
            "bin_start": 418.2,
            "bin_end": 463,
            "count": 2
           }
          ]
         }
        },
        {
         "name": 2,
         "dtype": "int64",
         "stats": {
          "unique_count": 3,
          "nan_count": 0,
          "min": "6",
          "max": "247",
          "histogram": [
           {
            "bin_start": 6,
            "bin_end": 30.1,
            "count": 1
           },
           {
            "bin_start": 30.1,
            "bin_end": 54.2,
            "count": 0
           },
           {
            "bin_start": 54.2,
            "bin_end": 78.30000000000001,
            "count": 0
           },
           {
            "bin_start": 78.30000000000001,
            "bin_end": 102.4,
            "count": 0
           },
           {
            "bin_start": 102.4,
            "bin_end": 126.5,
            "count": 0
           },
           {
            "bin_start": 126.5,
            "bin_end": 150.60000000000002,
            "count": 0
           },
           {
            "bin_start": 150.60000000000002,
            "bin_end": 174.70000000000002,
            "count": 0
           },
           {
            "bin_start": 174.70000000000002,
            "bin_end": 198.8,
            "count": 0
           },
           {
            "bin_start": 198.8,
            "bin_end": 222.9,
            "count": 0
           },
           {
            "bin_start": 222.9,
            "bin_end": 247,
            "count": 2
           }
          ]
         }
        },
        {
         "name": 3,
         "dtype": "int64",
         "stats": {
          "unique_count": 2,
          "nan_count": 0,
          "min": "0",
          "max": "21",
          "histogram": [
           {
            "bin_start": 0,
            "bin_end": 2.1,
            "count": 1
           },
           {
            "bin_start": 2.1,
            "bin_end": 4.2,
            "count": 0
           },
           {
            "bin_start": 4.2,
            "bin_end": 6.300000000000001,
            "count": 0
           },
           {
            "bin_start": 6.300000000000001,
            "bin_end": 8.4,
            "count": 0
           },
           {
            "bin_start": 8.4,
            "bin_end": 10.5,
            "count": 0
           },
           {
            "bin_start": 10.5,
            "bin_end": 12.600000000000001,
            "count": 0
           },
           {
            "bin_start": 12.600000000000001,
            "bin_end": 14.700000000000001,
            "count": 0
           },
           {
            "bin_start": 14.700000000000001,
            "bin_end": 16.8,
            "count": 0
           },
           {
            "bin_start": 16.8,
            "bin_end": 18.900000000000002,
            "count": 0
           },
           {
            "bin_start": 18.900000000000002,
            "bin_end": 21,
            "count": 2
           }
          ]
         }
        },
        {
         "name": "All",
         "dtype": "int64",
         "stats": {
          "unique_count": 3,
          "nan_count": 0,
          "min": "21",
          "max": "731",
          "histogram": [
           {
            "bin_start": 21,
            "bin_end": 92,
            "count": 1
           },
           {
            "bin_start": 92,
            "bin_end": 163,
            "count": 0
           },
           {
            "bin_start": 163,
            "bin_end": 234,
            "count": 0
           },
           {
            "bin_start": 234,
            "bin_end": 305,
            "count": 0
           },
           {
            "bin_start": 305,
            "bin_end": 376,
            "count": 0
           },
           {
            "bin_start": 376,
            "bin_end": 447,
            "count": 0
           },
           {
            "bin_start": 447,
            "bin_end": 518,
            "count": 0
           },
           {
            "bin_start": 518,
            "bin_end": 589,
            "count": 0
           },
           {
            "bin_start": 589,
            "bin_end": 660,
            "count": 0
           },
           {
            "bin_start": 660,
            "bin_end": 731,
            "count": 2
           }
          ]
         }
        },
        {
         "name": "_deepnote_index_column",
         "dtype": "object"
        }
       ],
       "rows_top": [
        {
         "1": 448,
         "2": 241,
         "3": 21,
         "All": 710,
         "_deepnote_index_column": "0"
        },
        {
         "1": 15,
         "2": 6,
         "3": 0,
         "All": 21,
         "_deepnote_index_column": "1"
        },
        {
         "1": 463,
         "2": 247,
         "3": 21,
         "All": 731,
         "_deepnote_index_column": "All"
        }
       ],
       "rows_bottom": null
      },
      "text/plain": "weathersit    1    2   3  All\nholiday                      \n0           448  241  21  710\n1            15    6   0   21\nAll         463  247  21  731",
      "text/html": "<div>\n<style scoped>\n    .dataframe tbody tr th:only-of-type {\n        vertical-align: middle;\n    }\n\n    .dataframe tbody tr th {\n        vertical-align: top;\n    }\n\n    .dataframe thead th {\n        text-align: right;\n    }\n</style>\n<table border=\"1\" class=\"dataframe\">\n  <thead>\n    <tr style=\"text-align: right;\">\n      <th>weathersit</th>\n      <th>1</th>\n      <th>2</th>\n      <th>3</th>\n      <th>All</th>\n    </tr>\n    <tr>\n      <th>holiday</th>\n      <th></th>\n      <th></th>\n      <th></th>\n      <th></th>\n    </tr>\n  </thead>\n  <tbody>\n    <tr>\n      <th>0</th>\n      <td>448</td>\n      <td>241</td>\n      <td>21</td>\n      <td>710</td>\n    </tr>\n    <tr>\n      <th>1</th>\n      <td>15</td>\n      <td>6</td>\n      <td>0</td>\n      <td>21</td>\n    </tr>\n    <tr>\n      <th>All</th>\n      <td>463</td>\n      <td>247</td>\n      <td>21</td>\n      <td>731</td>\n    </tr>\n  </tbody>\n</table>\n</div>"
     },
     "metadata": {}
    }
   ],
   "execution_count": 7
  },
  {
   "cell_type": "code",
   "source": "from scipy.stats import chi2_contingency #  chi2_contingency() function on the table and get the statistics, p-value and degree of freedom values",
   "metadata": {
    "tags": [],
    "cell_id": "00014-46d3d571-79d2-41b0-b93b-f0644395b867",
    "deepnote_to_be_reexecuted": false,
    "source_hash": "68d0d874",
    "execution_start": 1623898500228,
    "execution_millis": 4,
    "deepnote_cell_type": "code"
   },
   "outputs": [],
   "execution_count": 8
  },
  {
   "cell_type": "code",
   "source": "chisqt.iloc[0][0:5]",
   "metadata": {
    "tags": [],
    "cell_id": "00015-8fc04769-d3b1-4283-a6d6-485db0978e6b",
    "deepnote_to_be_reexecuted": false,
    "source_hash": "845a0e50",
    "execution_start": 1623898617236,
    "execution_millis": 6,
    "deepnote_cell_type": "code"
   },
   "outputs": [
    {
     "output_type": "execute_result",
     "execution_count": 11,
     "data": {
      "text/plain": "weathersit\n1      448\n2      241\n3       21\nAll    710\nName: 0, dtype: int64"
     },
     "metadata": {}
    }
   ],
   "execution_count": 11
  },
  {
   "cell_type": "code",
   "source": "value = np.array([chisqt.iloc[0][0:5].values,\n                chisqt.iloc[1][0:5].values \n])",
   "metadata": {
    "tags": [],
    "cell_id": "00015-8cd13697-d49f-46b9-8177-f92e24f1f33a",
    "deepnote_to_be_reexecuted": false,
    "source_hash": "a209fb7b",
    "execution_start": 1623898699176,
    "execution_millis": 3,
    "deepnote_cell_type": "code"
   },
   "outputs": [],
   "execution_count": 14
  },
  {
   "cell_type": "code",
   "source": "chi2_contingency(value)[0:3]\n\n# 0.79 is the p-value\n# 1.02 is the statistical value\n# 3 is Dof ",
   "metadata": {
    "tags": [],
    "cell_id": "00017-5fd5e7b7-0e38-4d1e-92f9-2bcbf07407bc",
    "deepnote_to_be_reexecuted": false,
    "source_hash": "b6116954",
    "execution_start": 1623898760356,
    "execution_millis": 11,
    "deepnote_cell_type": "code"
   },
   "outputs": [
    {
     "output_type": "execute_result",
     "execution_count": 16,
     "data": {
      "text/plain": "(1.0187958822970438, 0.796704036292652, 3)"
     },
     "metadata": {}
    }
   ],
   "execution_count": 16
  },
  {
   "cell_type": "markdown",
   "source": "From above, 0.79 is the p-value, 1.02 is the statistical value and 3 is the degree of freedom. As the p-value is greater than 0.05, we accept the NULL hypothesis and assume that the variables ‘holiday’ and ‘weathersit’ are independent of each other.",
   "metadata": {
    "tags": [],
    "cell_id": "00018-0f96c1fd-19f5-4e48-912b-1fa9757e6389",
    "deepnote_cell_type": "text-cell-p"
   }
  },
  {
   "cell_type": "code",
   "source": "",
   "metadata": {
    "tags": [],
    "cell_id": "00018-f0d8dc0e-badd-4f8b-83a4-3efca7c40287",
    "deepnote_cell_type": "code"
   },
   "outputs": [],
   "execution_count": null
  },
  {
   "cell_type": "markdown",
   "source": "<a style='text-decoration:none;line-height:16px;display:flex;color:#5B5B62;padding:10px;justify-content:end;' href='https://deepnote.com?utm_source=created-in-deepnote-cell&projectId=f5f90ba1-3290-463e-8fc6-44108f4fa21b' target=\"_blank\">\n<img alt='Created in deepnote.com' style='display:inline;max-height:16px;margin:0px;margin-right:7.5px;' src='data:image/svg+xml;base64,PD94bWwgdmVyc2lvbj0iMS4wIiBlbmNvZGluZz0iVVRGLTgiPz4KPHN2ZyB3aWR0aD0iODBweCIgaGVpZ2h0PSI4MHB4IiB2aWV3Qm94PSIwIDAgODAgODAiIHZlcnNpb249IjEuMSIgeG1sbnM9Imh0dHA6Ly93d3cudzMub3JnLzIwMDAvc3ZnIiB4bWxuczp4bGluaz0iaHR0cDovL3d3dy53My5vcmcvMTk5OS94bGluayI+CiAgICA8IS0tIEdlbmVyYXRvcjogU2tldGNoIDU0LjEgKDc2NDkwKSAtIGh0dHBzOi8vc2tldGNoYXBwLmNvbSAtLT4KICAgIDx0aXRsZT5Hcm91cCAzPC90aXRsZT4KICAgIDxkZXNjPkNyZWF0ZWQgd2l0aCBTa2V0Y2guPC9kZXNjPgogICAgPGcgaWQ9IkxhbmRpbmciIHN0cm9rZT0ibm9uZSIgc3Ryb2tlLXdpZHRoPSIxIiBmaWxsPSJub25lIiBmaWxsLXJ1bGU9ImV2ZW5vZGQiPgogICAgICAgIDxnIGlkPSJBcnRib2FyZCIgdHJhbnNmb3JtPSJ0cmFuc2xhdGUoLTEyMzUuMDAwMDAwLCAtNzkuMDAwMDAwKSI+CiAgICAgICAgICAgIDxnIGlkPSJHcm91cC0zIiB0cmFuc2Zvcm09InRyYW5zbGF0ZSgxMjM1LjAwMDAwMCwgNzkuMDAwMDAwKSI+CiAgICAgICAgICAgICAgICA8cG9seWdvbiBpZD0iUGF0aC0yMCIgZmlsbD0iIzAyNjVCNCIgcG9pbnRzPSIyLjM3NjIzNzYyIDgwIDM4LjA0NzY2NjcgODAgNTcuODIxNzgyMiA3My44MDU3NTkyIDU3LjgyMTc4MjIgMzIuNzU5MjczOSAzOS4xNDAyMjc4IDMxLjY4MzE2ODMiPjwvcG9seWdvbj4KICAgICAgICAgICAgICAgIDxwYXRoIGQ9Ik0zNS4wMDc3MTgsODAgQzQyLjkwNjIwMDcsNzYuNDU0OTM1OCA0Ny41NjQ5MTY3LDcxLjU0MjI2NzEgNDguOTgzODY2LDY1LjI2MTk5MzkgQzUxLjExMjI4OTksNTUuODQxNTg0MiA0MS42NzcxNzk1LDQ5LjIxMjIyODQgMjUuNjIzOTg0Niw0OS4yMTIyMjg0IEMyNS40ODQ5Mjg5LDQ5LjEyNjg0NDggMjkuODI2MTI5Niw0My4yODM4MjQ4IDM4LjY0NzU4NjksMzEuNjgzMTY4MyBMNzIuODcxMjg3MSwzMi41NTQ0MjUgTDY1LjI4MDk3Myw2Ny42NzYzNDIxIEw1MS4xMTIyODk5LDc3LjM3NjE0NCBMMzUuMDA3NzE4LDgwIFoiIGlkPSJQYXRoLTIyIiBmaWxsPSIjMDAyODY4Ij48L3BhdGg+CiAgICAgICAgICAgICAgICA8cGF0aCBkPSJNMCwzNy43MzA0NDA1IEwyNy4xMTQ1MzcsMC4yNTcxMTE0MzYgQzYyLjM3MTUxMjMsLTEuOTkwNzE3MDEgODAsMTAuNTAwMzkyNyA4MCwzNy43MzA0NDA1IEM4MCw2NC45NjA0ODgyIDY0Ljc3NjUwMzgsNzkuMDUwMzQxNCAzNC4zMjk1MTEzLDgwIEM0Ny4wNTUzNDg5LDc3LjU2NzA4MDggNTMuNDE4MjY3Nyw3MC4zMTM2MTAzIDUzLjQxODI2NzcsNTguMjM5NTg4NSBDNTMuNDE4MjY3Nyw0MC4xMjg1NTU3IDM2LjMwMzk1NDQsMzcuNzMwNDQwNSAyNS4yMjc0MTcsMzcuNzMwNDQwNSBDMTcuODQzMDU4NiwzNy43MzA0NDA1IDkuNDMzOTE5NjYsMzcuNzMwNDQwNSAwLDM3LjczMDQ0MDUgWiIgaWQ9IlBhdGgtMTkiIGZpbGw9IiMzNzkzRUYiPjwvcGF0aD4KICAgICAgICAgICAgPC9nPgogICAgICAgIDwvZz4KICAgIDwvZz4KPC9zdmc+' > </img>\nCreated in <span style='font-weight:600;margin-left:4px;'>Deepnote</span></a>",
   "metadata": {
    "tags": [],
    "created_in_deepnote_cell": true,
    "deepnote_cell_type": "markdown"
   }
  }
 ],
 "nbformat": 4,
 "nbformat_minor": 2,
 "metadata": {
  "orig_nbformat": 2,
  "deepnote": {
   "is_reactive": false
  },
  "deepnote_notebook_id": "0d63bbbe-c06f-4261-8b53-b9ea6d9ca78e",
  "deepnote_execution_queue": []
 }
}