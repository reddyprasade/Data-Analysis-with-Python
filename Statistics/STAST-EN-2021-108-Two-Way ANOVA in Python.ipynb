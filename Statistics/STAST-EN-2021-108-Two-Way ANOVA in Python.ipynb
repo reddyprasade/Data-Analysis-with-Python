{
 "cells": [
  {
   "cell_type": "markdown",
   "source": "# Two-Way ANOVA in Python",
   "metadata": {
    "tags": [],
    "cell_id": "00000-0a6b820d-ac03-47c6-ae60-eefdd09c89cf",
    "deepnote_cell_type": "text-cell-h1"
   }
  },
  {
   "cell_type": "code",
   "metadata": {
    "tags": [],
    "cell_id": "00000-cd3767cb-8ddb-4f29-bba0-61642bc457d6",
    "deepnote_to_be_reexecuted": false,
    "source_hash": "fd96d2ba",
    "execution_start": 1623723136433,
    "execution_millis": 1890,
    "deepnote_cell_type": "code"
   },
   "source": "# Start writing code here...\nimport numpy as np\nimport pandas as pd\nimport matplotlib.pyplot as plt\nimport seaborn as sns",
   "execution_count": 1,
   "outputs": []
  },
  {
   "cell_type": "markdown",
   "source": "A two-way ANOVA is used to determine whether or not there is a statistically significant difference between the means of three or more independent groups that have been split on two factors.\n\nThe purpose of a two-way ANOVA is to determine how two factors impact a response variable, and to determine whether or not there is an interaction between the two factors on the response variable.",
   "metadata": {
    "tags": [],
    "cell_id": "00002-78764d26-0811-4f56-93d3-2676ce45b3e2",
    "deepnote_cell_type": "markdown"
   }
  },
  {
   "cell_type": "markdown",
   "source": "**Example:** A botanist wants to know whether or not plant growth is influenced by sunlight exposure and watering frequency. I am plants 30 seeds and lets them grow for two months under different conditions for sunlight exposure and watering frequency. \nAfter two months he recods that  height of each plant, in `inches`\n\n\n|Sunlight|Water|Height(inc)|\n|--------|-----|-----------|\n",
   "metadata": {
    "tags": [],
    "cell_id": "00003-64e1845c-e914-4247-916e-a25941c1dc17",
    "deepnote_cell_type": "markdown"
   }
  },
  {
   "cell_type": "markdown",
   "source": "Use the following steps to perform a two-way ANOVA to determine if watering frequency and sunlight exposure have a significant effect on plant growth, and to determine if there is any interaction effect between watering frequency and sunlight exposure.",
   "metadata": {
    "tags": [],
    "cell_id": "00004-00475950-0c1b-4c0b-8aaa-4dab44a09391",
    "deepnote_cell_type": "markdown"
   }
  },
  {
   "cell_type": "markdown",
   "source": "**Step-1** Enter the data.\nFirst, we’ll create a pandas DataFrame that contains the following three variables:\n\n* **water:** how frequently each plant was watered: daily or weekly\n* **sun:** how much sunlight exposure each plant received: low, medium, or high\n* **height:** the height of each plant (in inches) after two months\n",
   "metadata": {
    "tags": [],
    "cell_id": "00005-cd8b88db-912c-42c0-bede-8f713e34f2ef",
    "deepnote_cell_type": "markdown"
   }
  },
  {
   "cell_type": "code",
   "source": "df = pd.DataFrame({\n    \"water\": np.repeat(['daily','weekly'],15),\n    \"sun\": np.tile(np.repeat(['low', 'med', 'high'],5),2),\n    \"height\": [6, 6, 6, 5, 6, 5, 5, 6, 4, 5,6, 6, 7, 8, 7, 3, 4, 4, 4, 5,4, 4, 4, 4, 4, 5, 6, 6, 7, 8]\n})",
   "metadata": {
    "tags": [],
    "cell_id": "00002-2cbb9a9e-f8e3-46ea-9d20-0f7df45fada9",
    "deepnote_to_be_reexecuted": false,
    "source_hash": "d51182ac",
    "execution_start": 1623724356994,
    "execution_millis": 1,
    "deepnote_cell_type": "code"
   },
   "outputs": [],
   "execution_count": 9
  },
  {
   "cell_type": "code",
   "source": "df",
   "metadata": {
    "tags": [],
    "cell_id": "00007-3ea06c23-cc3a-4a72-8cc5-3b6fed03bac7",
    "deepnote_to_be_reexecuted": false,
    "source_hash": "f804c160",
    "execution_start": 1623724358020,
    "execution_millis": 10,
    "deepnote_cell_type": "code"
   },
   "outputs": [
    {
     "output_type": "execute_result",
     "execution_count": 10,
     "data": {
      "application/vnd.deepnote.dataframe.v2+json": {
       "row_count": 30,
       "column_count": 3,
       "columns": [
        {
         "name": "water",
         "dtype": "object",
         "stats": {
          "unique_count": 2,
          "nan_count": 0,
          "categories": [
           {
            "name": "daily",
            "count": 15
           },
           {
            "name": "weekly",
            "count": 15
           }
          ]
         }
        },
        {
         "name": "sun",
         "dtype": "object",
         "stats": {
          "unique_count": 3,
          "nan_count": 0,
          "categories": [
           {
            "name": "low",
            "count": 10
           },
           {
            "name": "med",
            "count": 10
           },
           {
            "name": "high",
            "count": 10
           }
          ]
         }
        },
        {
         "name": "height",
         "dtype": "int64",
         "stats": {
          "unique_count": 6,
          "nan_count": 0,
          "min": "3",
          "max": "8",
          "histogram": [
           {
            "bin_start": 3,
            "bin_end": 3.5,
            "count": 1
           },
           {
            "bin_start": 3.5,
            "bin_end": 4,
            "count": 0
           },
           {
            "bin_start": 4,
            "bin_end": 4.5,
            "count": 9
           },
           {
            "bin_start": 4.5,
            "bin_end": 5,
            "count": 0
           },
           {
            "bin_start": 5,
            "bin_end": 5.5,
            "count": 6
           },
           {
            "bin_start": 5.5,
            "bin_end": 6,
            "count": 0
           },
           {
            "bin_start": 6,
            "bin_end": 6.5,
            "count": 9
           },
           {
            "bin_start": 6.5,
            "bin_end": 7,
            "count": 0
           },
           {
            "bin_start": 7,
            "bin_end": 7.5,
            "count": 3
           },
           {
            "bin_start": 7.5,
            "bin_end": 8,
            "count": 2
           }
          ]
         }
        },
        {
         "name": "_deepnote_index_column",
         "dtype": "int64"
        }
       ],
       "rows_top": [
        {
         "water": "daily",
         "sun": "low",
         "height": 6,
         "_deepnote_index_column": 0
        },
        {
         "water": "daily",
         "sun": "low",
         "height": 6,
         "_deepnote_index_column": 1
        },
        {
         "water": "daily",
         "sun": "low",
         "height": 6,
         "_deepnote_index_column": 2
        },
        {
         "water": "daily",
         "sun": "low",
         "height": 5,
         "_deepnote_index_column": 3
        },
        {
         "water": "daily",
         "sun": "low",
         "height": 6,
         "_deepnote_index_column": 4
        },
        {
         "water": "daily",
         "sun": "med",
         "height": 5,
         "_deepnote_index_column": 5
        },
        {
         "water": "daily",
         "sun": "med",
         "height": 5,
         "_deepnote_index_column": 6
        },
        {
         "water": "daily",
         "sun": "med",
         "height": 6,
         "_deepnote_index_column": 7
        },
        {
         "water": "daily",
         "sun": "med",
         "height": 4,
         "_deepnote_index_column": 8
        },
        {
         "water": "daily",
         "sun": "med",
         "height": 5,
         "_deepnote_index_column": 9
        },
        {
         "water": "daily",
         "sun": "high",
         "height": 6,
         "_deepnote_index_column": 10
        },
        {
         "water": "daily",
         "sun": "high",
         "height": 6,
         "_deepnote_index_column": 11
        },
        {
         "water": "daily",
         "sun": "high",
         "height": 7,
         "_deepnote_index_column": 12
        },
        {
         "water": "daily",
         "sun": "high",
         "height": 8,
         "_deepnote_index_column": 13
        },
        {
         "water": "daily",
         "sun": "high",
         "height": 7,
         "_deepnote_index_column": 14
        },
        {
         "water": "weekly",
         "sun": "low",
         "height": 3,
         "_deepnote_index_column": 15
        },
        {
         "water": "weekly",
         "sun": "low",
         "height": 4,
         "_deepnote_index_column": 16
        },
        {
         "water": "weekly",
         "sun": "low",
         "height": 4,
         "_deepnote_index_column": 17
        },
        {
         "water": "weekly",
         "sun": "low",
         "height": 4,
         "_deepnote_index_column": 18
        },
        {
         "water": "weekly",
         "sun": "low",
         "height": 5,
         "_deepnote_index_column": 19
        },
        {
         "water": "weekly",
         "sun": "med",
         "height": 4,
         "_deepnote_index_column": 20
        },
        {
         "water": "weekly",
         "sun": "med",
         "height": 4,
         "_deepnote_index_column": 21
        },
        {
         "water": "weekly",
         "sun": "med",
         "height": 4,
         "_deepnote_index_column": 22
        },
        {
         "water": "weekly",
         "sun": "med",
         "height": 4,
         "_deepnote_index_column": 23
        },
        {
         "water": "weekly",
         "sun": "med",
         "height": 4,
         "_deepnote_index_column": 24
        },
        {
         "water": "weekly",
         "sun": "high",
         "height": 5,
         "_deepnote_index_column": 25
        },
        {
         "water": "weekly",
         "sun": "high",
         "height": 6,
         "_deepnote_index_column": 26
        },
        {
         "water": "weekly",
         "sun": "high",
         "height": 6,
         "_deepnote_index_column": 27
        },
        {
         "water": "weekly",
         "sun": "high",
         "height": 7,
         "_deepnote_index_column": 28
        },
        {
         "water": "weekly",
         "sun": "high",
         "height": 8,
         "_deepnote_index_column": 29
        }
       ],
       "rows_bottom": null
      },
      "text/plain": "     water   sun  height\n0    daily   low       6\n1    daily   low       6\n2    daily   low       6\n3    daily   low       5\n4    daily   low       6\n5    daily   med       5\n6    daily   med       5\n7    daily   med       6\n8    daily   med       4\n9    daily   med       5\n10   daily  high       6\n11   daily  high       6\n12   daily  high       7\n13   daily  high       8\n14   daily  high       7\n15  weekly   low       3\n16  weekly   low       4\n17  weekly   low       4\n18  weekly   low       4\n19  weekly   low       5\n20  weekly   med       4\n21  weekly   med       4\n22  weekly   med       4\n23  weekly   med       4\n24  weekly   med       4\n25  weekly  high       5\n26  weekly  high       6\n27  weekly  high       6\n28  weekly  high       7\n29  weekly  high       8",
      "text/html": "<div>\n<style scoped>\n    .dataframe tbody tr th:only-of-type {\n        vertical-align: middle;\n    }\n\n    .dataframe tbody tr th {\n        vertical-align: top;\n    }\n\n    .dataframe thead th {\n        text-align: right;\n    }\n</style>\n<table border=\"1\" class=\"dataframe\">\n  <thead>\n    <tr style=\"text-align: right;\">\n      <th></th>\n      <th>water</th>\n      <th>sun</th>\n      <th>height</th>\n    </tr>\n  </thead>\n  <tbody>\n    <tr>\n      <th>0</th>\n      <td>daily</td>\n      <td>low</td>\n      <td>6</td>\n    </tr>\n    <tr>\n      <th>1</th>\n      <td>daily</td>\n      <td>low</td>\n      <td>6</td>\n    </tr>\n    <tr>\n      <th>2</th>\n      <td>daily</td>\n      <td>low</td>\n      <td>6</td>\n    </tr>\n    <tr>\n      <th>3</th>\n      <td>daily</td>\n      <td>low</td>\n      <td>5</td>\n    </tr>\n    <tr>\n      <th>4</th>\n      <td>daily</td>\n      <td>low</td>\n      <td>6</td>\n    </tr>\n    <tr>\n      <th>5</th>\n      <td>daily</td>\n      <td>med</td>\n      <td>5</td>\n    </tr>\n    <tr>\n      <th>6</th>\n      <td>daily</td>\n      <td>med</td>\n      <td>5</td>\n    </tr>\n    <tr>\n      <th>7</th>\n      <td>daily</td>\n      <td>med</td>\n      <td>6</td>\n    </tr>\n    <tr>\n      <th>8</th>\n      <td>daily</td>\n      <td>med</td>\n      <td>4</td>\n    </tr>\n    <tr>\n      <th>9</th>\n      <td>daily</td>\n      <td>med</td>\n      <td>5</td>\n    </tr>\n    <tr>\n      <th>10</th>\n      <td>daily</td>\n      <td>high</td>\n      <td>6</td>\n    </tr>\n    <tr>\n      <th>11</th>\n      <td>daily</td>\n      <td>high</td>\n      <td>6</td>\n    </tr>\n    <tr>\n      <th>12</th>\n      <td>daily</td>\n      <td>high</td>\n      <td>7</td>\n    </tr>\n    <tr>\n      <th>13</th>\n      <td>daily</td>\n      <td>high</td>\n      <td>8</td>\n    </tr>\n    <tr>\n      <th>14</th>\n      <td>daily</td>\n      <td>high</td>\n      <td>7</td>\n    </tr>\n    <tr>\n      <th>15</th>\n      <td>weekly</td>\n      <td>low</td>\n      <td>3</td>\n    </tr>\n    <tr>\n      <th>16</th>\n      <td>weekly</td>\n      <td>low</td>\n      <td>4</td>\n    </tr>\n    <tr>\n      <th>17</th>\n      <td>weekly</td>\n      <td>low</td>\n      <td>4</td>\n    </tr>\n    <tr>\n      <th>18</th>\n      <td>weekly</td>\n      <td>low</td>\n      <td>4</td>\n    </tr>\n    <tr>\n      <th>19</th>\n      <td>weekly</td>\n      <td>low</td>\n      <td>5</td>\n    </tr>\n    <tr>\n      <th>20</th>\n      <td>weekly</td>\n      <td>med</td>\n      <td>4</td>\n    </tr>\n    <tr>\n      <th>21</th>\n      <td>weekly</td>\n      <td>med</td>\n      <td>4</td>\n    </tr>\n    <tr>\n      <th>22</th>\n      <td>weekly</td>\n      <td>med</td>\n      <td>4</td>\n    </tr>\n    <tr>\n      <th>23</th>\n      <td>weekly</td>\n      <td>med</td>\n      <td>4</td>\n    </tr>\n    <tr>\n      <th>24</th>\n      <td>weekly</td>\n      <td>med</td>\n      <td>4</td>\n    </tr>\n    <tr>\n      <th>25</th>\n      <td>weekly</td>\n      <td>high</td>\n      <td>5</td>\n    </tr>\n    <tr>\n      <th>26</th>\n      <td>weekly</td>\n      <td>high</td>\n      <td>6</td>\n    </tr>\n    <tr>\n      <th>27</th>\n      <td>weekly</td>\n      <td>high</td>\n      <td>6</td>\n    </tr>\n    <tr>\n      <th>28</th>\n      <td>weekly</td>\n      <td>high</td>\n      <td>7</td>\n    </tr>\n    <tr>\n      <th>29</th>\n      <td>weekly</td>\n      <td>high</td>\n      <td>8</td>\n    </tr>\n  </tbody>\n</table>\n</div>"
     },
     "metadata": {}
    }
   ],
   "execution_count": 10
  },
  {
   "cell_type": "code",
   "source": "",
   "metadata": {
    "cell_id": "00008-2c568aa5-059b-4fb7-a412-9a4293898ecd",
    "deepnote_variable_name": "df",
    "deepnote_visualization_spec": {
     "$schema": "https://vega.github.io/schema/vega-lite/v4.json",
     "mark": {
      "type": "bar",
      "tooltip": {
       "content": "data"
      }
     },
     "height": 220,
     "autosize": {
      "type": "fit"
     },
     "data": {
      "name": "placeholder"
     },
     "encoding": {
      "x": {
       "field": "water",
       "type": "nominal",
       "sort": "ascending",
       "scale": {
        "type": "linear",
        "zero": false
       }
      },
      "y": {
       "field": "sun",
       "type": "nominal",
       "sort": "ascending",
       "scale": {
        "type": "linear",
        "zero": true
       }
      },
      "color": {
       "field": "COUNT(*)",
       "type": "quantitative",
       "sort": "ascending",
       "aggregate": "count",
       "scale": {
        "type": "linear",
        "zero": false
       }
      }
     }
    },
    "deepnote_to_be_reexecuted": false,
    "source_hash": "37ed4309",
    "execution_start": 1623724455221,
    "execution_millis": 61,
    "deepnote_cell_type": "visualization"
   },
   "outputs": [
    {
     "output_type": "execute_result",
     "execution_count": 13,
     "data": {
      "text/html": "\n<div id=\"altair-viz-55287a859d0640008daaac9972226eea\"></div>\n<script type=\"text/javascript\">\n  (function(spec, embedOpt){\n    let outputDiv = document.currentScript.previousElementSibling;\n    if (outputDiv.id !== \"altair-viz-55287a859d0640008daaac9972226eea\") {\n      outputDiv = document.getElementById(\"altair-viz-55287a859d0640008daaac9972226eea\");\n    }\n    const paths = {\n      \"vega\": \"https://cdn.jsdelivr.net/npm//vega@5?noext\",\n      \"vega-lib\": \"https://cdn.jsdelivr.net/npm//vega-lib?noext\",\n      \"vega-lite\": \"https://cdn.jsdelivr.net/npm//vega-lite@4.8.1?noext\",\n      \"vega-embed\": \"https://cdn.jsdelivr.net/npm//vega-embed@6?noext\",\n    };\n\n    function loadScript(lib) {\n      return new Promise(function(resolve, reject) {\n        var s = document.createElement('script');\n        s.src = paths[lib];\n        s.async = true;\n        s.onload = () => resolve(paths[lib]);\n        s.onerror = () => reject(`Error loading script: ${paths[lib]}`);\n        document.getElementsByTagName(\"head\")[0].appendChild(s);\n      });\n    }\n\n    function showError(err) {\n      outputDiv.innerHTML = `<div class=\"error\" style=\"color:red;\">${err}</div>`;\n      throw err;\n    }\n\n    function displayChart(vegaEmbed) {\n      vegaEmbed(outputDiv, spec, embedOpt)\n        .catch(err => showError(`Javascript Error: ${err.message}<br>This usually means there's a typo in your chart specification. See the javascript console for the full traceback.`));\n    }\n\n    if(typeof define === \"function\" && define.amd) {\n      requirejs.config({paths});\n      require([\"vega-embed\"], displayChart, err => showError(`Error loading script: ${err.message}`));\n    } else if (typeof vegaEmbed === \"function\") {\n      displayChart(vegaEmbed);\n    } else {\n      loadScript(\"vega\")\n        .then(() => loadScript(\"vega-lite\"))\n        .then(() => loadScript(\"vega-embed\"))\n        .catch(showError)\n        .then(() => displayChart(vegaEmbed));\n    }\n  })({\"config\": {\"view\": {\"continuousWidth\": 400, \"continuousHeight\": 300}, \"area\": {\"fill\": \"#51C0E9\"}, \"axis\": {\"labelFont\": \"Inter, sans-serif\", \"labelFontSize\": 12, \"labelFontWeight\": \"normal\", \"labelLimit\": 60, \"labelOverlap\": \"greedy\", \"titleFont\": \"Inter, sans-serif\", \"titleFontSize\": 12, \"titleFontWeight\": \"bold\"}, \"background\": \"#ffffff\", \"legend\": {\"labelFont\": \"Inter, sans-serif\", \"labelFontSize\": 12, \"titleFont\": \"Inter, sans-serif\", \"titleFontSize\": 12, \"titleFontWeight\": \"bold\"}, \"line\": {\"stroke\": \"#51C0E9\", \"strokeWidth\": 2}, \"rect\": {\"fill\": \"#51C0E9\"}, \"title\": {\"anchor\": \"start\", \"color\": \"#000000\", \"font\": \"Inter, sans-serif\", \"fontSize\": 22, \"fontWeight\": \"normal\"}}, \"data\": {\"name\": \"data-2fd7f2169aa3eb0abf2b61883b54da0d\"}, \"mark\": {\"type\": \"bar\", \"tooltip\": {\"content\": \"data\"}}, \"autosize\": {\"type\": \"fit\"}, \"encoding\": {\"color\": {\"type\": \"quantitative\", \"aggregate\": \"count\", \"field\": \"COUNT(*)\", \"scale\": {\"type\": \"linear\", \"zero\": false}, \"sort\": \"ascending\"}, \"x\": {\"type\": \"nominal\", \"field\": \"water\", \"scale\": {\"type\": \"linear\", \"zero\": false}, \"sort\": \"ascending\"}, \"y\": {\"type\": \"nominal\", \"field\": \"sun\", \"scale\": {\"type\": \"linear\", \"zero\": true}, \"sort\": \"ascending\"}}, \"height\": 300, \"width\": \"container\", \"$schema\": \"https://vega.github.io/schema/vega-lite/v4.json\", \"datasets\": {\"data-2fd7f2169aa3eb0abf2b61883b54da0d\": [{\"water\": \"daily\", \"sun\": \"low\", \"height\": 6}, {\"water\": \"daily\", \"sun\": \"low\", \"height\": 6}, {\"water\": \"daily\", \"sun\": \"low\", \"height\": 6}, {\"water\": \"daily\", \"sun\": \"low\", \"height\": 5}, {\"water\": \"daily\", \"sun\": \"low\", \"height\": 6}, {\"water\": \"daily\", \"sun\": \"med\", \"height\": 5}, {\"water\": \"daily\", \"sun\": \"med\", \"height\": 5}, {\"water\": \"daily\", \"sun\": \"med\", \"height\": 6}, {\"water\": \"daily\", \"sun\": \"med\", \"height\": 4}, {\"water\": \"daily\", \"sun\": \"med\", \"height\": 5}, {\"water\": \"daily\", \"sun\": \"high\", \"height\": 6}, {\"water\": \"daily\", \"sun\": \"high\", \"height\": 6}, {\"water\": \"daily\", \"sun\": \"high\", \"height\": 7}, {\"water\": \"daily\", \"sun\": \"high\", \"height\": 8}, {\"water\": \"daily\", \"sun\": \"high\", \"height\": 7}, {\"water\": \"weekly\", \"sun\": \"low\", \"height\": 3}, {\"water\": \"weekly\", \"sun\": \"low\", \"height\": 4}, {\"water\": \"weekly\", \"sun\": \"low\", \"height\": 4}, {\"water\": \"weekly\", \"sun\": \"low\", \"height\": 4}, {\"water\": \"weekly\", \"sun\": \"low\", \"height\": 5}, {\"water\": \"weekly\", \"sun\": \"med\", \"height\": 4}, {\"water\": \"weekly\", \"sun\": \"med\", \"height\": 4}, {\"water\": \"weekly\", \"sun\": \"med\", \"height\": 4}, {\"water\": \"weekly\", \"sun\": \"med\", \"height\": 4}, {\"water\": \"weekly\", \"sun\": \"med\", \"height\": 4}, {\"water\": \"weekly\", \"sun\": \"high\", \"height\": 5}, {\"water\": \"weekly\", \"sun\": \"high\", \"height\": 6}, {\"water\": \"weekly\", \"sun\": \"high\", \"height\": 6}, {\"water\": \"weekly\", \"sun\": \"high\", \"height\": 7}, {\"water\": \"weekly\", \"sun\": \"high\", \"height\": 8}]}}, {\"actions\": false, \"mode\": \"vega-lite\"});\n</script>",
      "text/plain": "alt.Chart(...)"
     },
     "metadata": {}
    }
   ],
   "execution_count": 13
  },
  {
   "cell_type": "code",
   "source": "",
   "metadata": {
    "cell_id": "00008-331a8142-d3b7-4474-b0d0-b48573eb1cda",
    "deepnote_variable_name": "df",
    "deepnote_visualization_spec": {
     "$schema": "https://vega.github.io/schema/vega-lite/v4.json",
     "mark": {
      "type": "bar",
      "tooltip": {
       "content": "data"
      }
     },
     "height": 220,
     "autosize": {
      "type": "fit"
     },
     "data": {
      "name": "placeholder"
     },
     "encoding": {
      "x": {
       "field": "water",
       "type": "nominal",
       "sort": "ascending",
       "scale": {
        "type": "linear",
        "zero": false
       }
      },
      "y": {
       "field": "sun",
       "type": "nominal",
       "sort": "ascending",
       "scale": {
        "type": "linear",
        "zero": true
       }
      },
      "color": {
       "field": "",
       "type": "nominal",
       "sort": "ascending",
       "scale": {
        "type": "linear",
        "zero": false
       }
      }
     }
    },
    "deepnote_to_be_reexecuted": false,
    "source_hash": "d886fc2e",
    "execution_start": 1623724695521,
    "execution_millis": 109,
    "deepnote_cell_type": "visualization"
   },
   "outputs": [
    {
     "output_type": "execute_result",
     "execution_count": 18,
     "data": {
      "text/html": "\n<div id=\"altair-viz-1d557b6d8975410fa2852abdb20c6065\"></div>\n<script type=\"text/javascript\">\n  (function(spec, embedOpt){\n    let outputDiv = document.currentScript.previousElementSibling;\n    if (outputDiv.id !== \"altair-viz-1d557b6d8975410fa2852abdb20c6065\") {\n      outputDiv = document.getElementById(\"altair-viz-1d557b6d8975410fa2852abdb20c6065\");\n    }\n    const paths = {\n      \"vega\": \"https://cdn.jsdelivr.net/npm//vega@5?noext\",\n      \"vega-lib\": \"https://cdn.jsdelivr.net/npm//vega-lib?noext\",\n      \"vega-lite\": \"https://cdn.jsdelivr.net/npm//vega-lite@4.8.1?noext\",\n      \"vega-embed\": \"https://cdn.jsdelivr.net/npm//vega-embed@6?noext\",\n    };\n\n    function loadScript(lib) {\n      return new Promise(function(resolve, reject) {\n        var s = document.createElement('script');\n        s.src = paths[lib];\n        s.async = true;\n        s.onload = () => resolve(paths[lib]);\n        s.onerror = () => reject(`Error loading script: ${paths[lib]}`);\n        document.getElementsByTagName(\"head\")[0].appendChild(s);\n      });\n    }\n\n    function showError(err) {\n      outputDiv.innerHTML = `<div class=\"error\" style=\"color:red;\">${err}</div>`;\n      throw err;\n    }\n\n    function displayChart(vegaEmbed) {\n      vegaEmbed(outputDiv, spec, embedOpt)\n        .catch(err => showError(`Javascript Error: ${err.message}<br>This usually means there's a typo in your chart specification. See the javascript console for the full traceback.`));\n    }\n\n    if(typeof define === \"function\" && define.amd) {\n      requirejs.config({paths});\n      require([\"vega-embed\"], displayChart, err => showError(`Error loading script: ${err.message}`));\n    } else if (typeof vegaEmbed === \"function\") {\n      displayChart(vegaEmbed);\n    } else {\n      loadScript(\"vega\")\n        .then(() => loadScript(\"vega-lite\"))\n        .then(() => loadScript(\"vega-embed\"))\n        .catch(showError)\n        .then(() => displayChart(vegaEmbed));\n    }\n  })({\"config\": {\"view\": {\"continuousWidth\": 400, \"continuousHeight\": 300}, \"area\": {\"fill\": \"#51C0E9\"}, \"axis\": {\"labelFont\": \"Inter, sans-serif\", \"labelFontSize\": 12, \"labelFontWeight\": \"normal\", \"labelLimit\": 60, \"labelOverlap\": \"greedy\", \"titleFont\": \"Inter, sans-serif\", \"titleFontSize\": 12, \"titleFontWeight\": \"bold\"}, \"background\": \"#ffffff\", \"legend\": {\"labelFont\": \"Inter, sans-serif\", \"labelFontSize\": 12, \"titleFont\": \"Inter, sans-serif\", \"titleFontSize\": 12, \"titleFontWeight\": \"bold\"}, \"line\": {\"stroke\": \"#51C0E9\", \"strokeWidth\": 2}, \"rect\": {\"fill\": \"#51C0E9\"}, \"title\": {\"anchor\": \"start\", \"color\": \"#000000\", \"font\": \"Inter, sans-serif\", \"fontSize\": 22, \"fontWeight\": \"normal\"}}, \"data\": {\"name\": \"data-2fd7f2169aa3eb0abf2b61883b54da0d\"}, \"mark\": {\"type\": \"bar\", \"tooltip\": {\"content\": \"data\"}}, \"autosize\": {\"type\": \"fit\"}, \"encoding\": {\"color\": {\"type\": \"nominal\", \"field\": \"\", \"scale\": {\"type\": \"linear\", \"zero\": false}, \"sort\": \"ascending\"}, \"x\": {\"type\": \"nominal\", \"field\": \"water\", \"scale\": {\"type\": \"linear\", \"zero\": false}, \"sort\": \"ascending\"}, \"y\": {\"type\": \"nominal\", \"field\": \"sun\", \"scale\": {\"type\": \"linear\", \"zero\": true}, \"sort\": \"ascending\"}}, \"height\": 300, \"width\": \"container\", \"$schema\": \"https://vega.github.io/schema/vega-lite/v4.json\", \"datasets\": {\"data-2fd7f2169aa3eb0abf2b61883b54da0d\": [{\"water\": \"daily\", \"sun\": \"low\", \"height\": 6}, {\"water\": \"daily\", \"sun\": \"low\", \"height\": 6}, {\"water\": \"daily\", \"sun\": \"low\", \"height\": 6}, {\"water\": \"daily\", \"sun\": \"low\", \"height\": 5}, {\"water\": \"daily\", \"sun\": \"low\", \"height\": 6}, {\"water\": \"daily\", \"sun\": \"med\", \"height\": 5}, {\"water\": \"daily\", \"sun\": \"med\", \"height\": 5}, {\"water\": \"daily\", \"sun\": \"med\", \"height\": 6}, {\"water\": \"daily\", \"sun\": \"med\", \"height\": 4}, {\"water\": \"daily\", \"sun\": \"med\", \"height\": 5}, {\"water\": \"daily\", \"sun\": \"high\", \"height\": 6}, {\"water\": \"daily\", \"sun\": \"high\", \"height\": 6}, {\"water\": \"daily\", \"sun\": \"high\", \"height\": 7}, {\"water\": \"daily\", \"sun\": \"high\", \"height\": 8}, {\"water\": \"daily\", \"sun\": \"high\", \"height\": 7}, {\"water\": \"weekly\", \"sun\": \"low\", \"height\": 3}, {\"water\": \"weekly\", \"sun\": \"low\", \"height\": 4}, {\"water\": \"weekly\", \"sun\": \"low\", \"height\": 4}, {\"water\": \"weekly\", \"sun\": \"low\", \"height\": 4}, {\"water\": \"weekly\", \"sun\": \"low\", \"height\": 5}, {\"water\": \"weekly\", \"sun\": \"med\", \"height\": 4}, {\"water\": \"weekly\", \"sun\": \"med\", \"height\": 4}, {\"water\": \"weekly\", \"sun\": \"med\", \"height\": 4}, {\"water\": \"weekly\", \"sun\": \"med\", \"height\": 4}, {\"water\": \"weekly\", \"sun\": \"med\", \"height\": 4}, {\"water\": \"weekly\", \"sun\": \"high\", \"height\": 5}, {\"water\": \"weekly\", \"sun\": \"high\", \"height\": 6}, {\"water\": \"weekly\", \"sun\": \"high\", \"height\": 6}, {\"water\": \"weekly\", \"sun\": \"high\", \"height\": 7}, {\"water\": \"weekly\", \"sun\": \"high\", \"height\": 8}]}}, {\"actions\": false, \"mode\": \"vega-lite\"});\n</script>",
      "text/plain": "alt.Chart(...)"
     },
     "metadata": {}
    }
   ],
   "execution_count": 18
  },
  {
   "cell_type": "markdown",
   "source": "## Step 2: Perform the two-way ANOVA.",
   "metadata": {
    "tags": [],
    "cell_id": "00010-ce1568a9-2609-4d65-b385-cdbd3a4543f9",
    "deepnote_cell_type": "text-cell-h2"
   }
  },
  {
   "cell_type": "code",
   "source": "import statsmodels.api as sm\nfrom statsmodels.formula.api import ols\n",
   "metadata": {
    "tags": [],
    "cell_id": "00008-ed436fa8-5545-4980-a3b3-4a1a058f416d",
    "deepnote_to_be_reexecuted": false,
    "source_hash": "f2f51b92",
    "execution_start": 1623724559637,
    "execution_millis": 577,
    "deepnote_cell_type": "code"
   },
   "outputs": [],
   "execution_count": 16
  },
  {
   "cell_type": "code",
   "source": "#perform two-way ANOVA Ordinary Least Squares\nmodel = ols('height ~ C(water)+C(sun)+C(water):C(sun)',data=df).fit()",
   "metadata": {
    "tags": [],
    "cell_id": "00010-0a510871-06f3-4e4f-97c9-8a97b1ab070c",
    "deepnote_to_be_reexecuted": false,
    "source_hash": "8a4f736e",
    "execution_start": 1623724671772,
    "execution_millis": 14,
    "deepnote_cell_type": "code"
   },
   "outputs": [],
   "execution_count": 17
  },
  {
   "cell_type": "code",
   "source": "sm.stats.anova_lm(model,typ=2)",
   "metadata": {
    "tags": [],
    "cell_id": "00012-ed13f368-fe2c-4903-b89e-365846c73835",
    "deepnote_to_be_reexecuted": false,
    "source_hash": "a1ff7da2",
    "execution_start": 1623724892338,
    "execution_millis": 6,
    "deepnote_cell_type": "code"
   },
   "outputs": [
    {
     "output_type": "execute_result",
     "execution_count": 22,
     "data": {
      "application/vnd.deepnote.dataframe.v2+json": {
       "row_count": 4,
       "column_count": 4,
       "columns": [
        {
         "name": "sum_sq",
         "dtype": "float64",
         "stats": {
          "unique_count": 4,
          "nan_count": 0,
          "min": "2.46666666666667",
          "max": "24.866666666666642",
          "histogram": [
           {
            "bin_start": 2.46666666666667,
            "bin_end": 4.706666666666667,
            "count": 1
           },
           {
            "bin_start": 4.706666666666667,
            "bin_end": 6.946666666666665,
            "count": 0
           },
           {
            "bin_start": 6.946666666666665,
            "bin_end": 9.186666666666662,
            "count": 1
           },
           {
            "bin_start": 9.186666666666662,
            "bin_end": 11.42666666666666,
            "count": 0
           },
           {
            "bin_start": 11.42666666666666,
            "bin_end": 13.666666666666659,
            "count": 1
           },
           {
            "bin_start": 13.666666666666659,
            "bin_end": 15.906666666666656,
            "count": 0
           },
           {
            "bin_start": 15.906666666666656,
            "bin_end": 18.14666666666665,
            "count": 0
           },
           {
            "bin_start": 18.14666666666665,
            "bin_end": 20.38666666666665,
            "count": 0
           },
           {
            "bin_start": 20.38666666666665,
            "bin_end": 22.626666666666647,
            "count": 0
           },
           {
            "bin_start": 22.626666666666647,
            "bin_end": 24.866666666666642,
            "count": 1
           }
          ]
         }
        },
        {
         "name": "df",
         "dtype": "float64",
         "stats": {
          "unique_count": 3,
          "nan_count": 0,
          "min": "1.0",
          "max": "24.0",
          "histogram": [
           {
            "bin_start": 1,
            "bin_end": 3.3,
            "count": 3
           },
           {
            "bin_start": 3.3,
            "bin_end": 5.6,
            "count": 0
           },
           {
            "bin_start": 5.6,
            "bin_end": 7.8999999999999995,
            "count": 0
           },
           {
            "bin_start": 7.8999999999999995,
            "bin_end": 10.2,
            "count": 0
           },
           {
            "bin_start": 10.2,
            "bin_end": 12.5,
            "count": 0
           },
           {
            "bin_start": 12.5,
            "bin_end": 14.799999999999999,
            "count": 0
           },
           {
            "bin_start": 14.799999999999999,
            "bin_end": 17.099999999999998,
            "count": 0
           },
           {
            "bin_start": 17.099999999999998,
            "bin_end": 19.4,
            "count": 0
           },
           {
            "bin_start": 19.4,
            "bin_end": 21.7,
            "count": 0
           },
           {
            "bin_start": 21.7,
            "bin_end": 24,
            "count": 1
           }
          ]
         }
        },
        {
         "name": "F",
         "dtype": "float64",
         "stats": {
          "unique_count": 3,
          "nan_count": 1,
          "min": "2.312500000000003",
          "max": "23.31249999999998",
          "histogram": [
           {
            "bin_start": 2.312500000000003,
            "bin_end": 4.4125000000000005,
            "count": 1
           },
           {
            "bin_start": 4.4125000000000005,
            "bin_end": 6.5124999999999975,
            "count": 0
           },
           {
            "bin_start": 6.5124999999999975,
            "bin_end": 8.612499999999995,
            "count": 0
           },
           {
            "bin_start": 8.612499999999995,
            "bin_end": 10.712499999999993,
            "count": 0
           },
           {
            "bin_start": 10.712499999999993,
            "bin_end": 12.812499999999991,
            "count": 0
           },
           {
            "bin_start": 12.812499999999991,
            "bin_end": 14.912499999999987,
            "count": 0
           },
           {
            "bin_start": 14.912499999999987,
            "bin_end": 17.012499999999985,
            "count": 1
           },
           {
            "bin_start": 17.012499999999985,
            "bin_end": 19.112499999999983,
            "count": 0
           },
           {
            "bin_start": 19.112499999999983,
            "bin_end": 21.21249999999998,
            "count": 0
           },
           {
            "bin_start": 21.21249999999998,
            "bin_end": 23.31249999999998,
            "count": 1
           }
          ]
         }
        },
        {
         "name": "PR(>F)",
         "dtype": "float64",
         "stats": {
          "unique_count": 3,
          "nan_count": 1,
          "min": "2.3715559258582735e-06",
          "max": "0.12066712248670274",
          "histogram": [
           {
            "bin_start": 0.0000023715559258582735,
            "bin_end": 0.012068846649003546,
            "count": 2
           },
           {
            "bin_start": 0.012068846649003546,
            "bin_end": 0.024135321742081235,
            "count": 0
           },
           {
            "bin_start": 0.024135321742081235,
            "bin_end": 0.036201796835158916,
            "count": 0
           },
           {
            "bin_start": 0.036201796835158916,
            "bin_end": 0.04826827192823661,
            "count": 0
           },
           {
            "bin_start": 0.04826827192823661,
            "bin_end": 0.0603347470213143,
            "count": 0
           },
           {
            "bin_start": 0.0603347470213143,
            "bin_end": 0.07240122211439198,
            "count": 0
           },
           {
            "bin_start": 0.07240122211439198,
            "bin_end": 0.08446769720746967,
            "count": 0
           },
           {
            "bin_start": 0.08446769720746967,
            "bin_end": 0.09653417230054737,
            "count": 0
           },
           {
            "bin_start": 0.09653417230054737,
            "bin_end": 0.10860064739362506,
            "count": 0
           },
           {
            "bin_start": 0.10860064739362506,
            "bin_end": 0.12066712248670274,
            "count": 1
           }
          ]
         }
        },
        {
         "name": "_deepnote_index_column",
         "dtype": "object"
        }
       ],
       "rows_top": [
        {
         "sum_sq": 8.533333333333365,
         "df": 1,
         "F": 16.00000000000006,
         "PR(>F)": 0.000526908072781695,
         "_deepnote_index_column": "C(water)"
        },
        {
         "sum_sq": 24.866666666666642,
         "df": 2,
         "F": 23.31249999999998,
         "PR(>F)": 0.0000023715559258582735,
         "_deepnote_index_column": "C(sun)"
        },
        {
         "sum_sq": 2.46666666666667,
         "df": 2,
         "F": 2.312500000000003,
         "PR(>F)": 0.12066712248670274,
         "_deepnote_index_column": "C(water):C(sun)"
        },
        {
         "sum_sq": 12.799999999999999,
         "df": 24,
         "F": "nan",
         "PR(>F)": "nan",
         "_deepnote_index_column": "Residual"
        }
       ],
       "rows_bottom": null
      },
      "text/plain": "                    sum_sq    df        F    PR(>F)\nC(water)          8.533333   1.0  16.0000  0.000527\nC(sun)           24.866667   2.0  23.3125  0.000002\nC(water):C(sun)   2.466667   2.0   2.3125  0.120667\nResidual         12.800000  24.0      NaN       NaN",
      "text/html": "<div>\n<style scoped>\n    .dataframe tbody tr th:only-of-type {\n        vertical-align: middle;\n    }\n\n    .dataframe tbody tr th {\n        vertical-align: top;\n    }\n\n    .dataframe thead th {\n        text-align: right;\n    }\n</style>\n<table border=\"1\" class=\"dataframe\">\n  <thead>\n    <tr style=\"text-align: right;\">\n      <th></th>\n      <th>sum_sq</th>\n      <th>df</th>\n      <th>F</th>\n      <th>PR(&gt;F)</th>\n    </tr>\n  </thead>\n  <tbody>\n    <tr>\n      <th>C(water)</th>\n      <td>8.533333</td>\n      <td>1.0</td>\n      <td>16.0000</td>\n      <td>0.000527</td>\n    </tr>\n    <tr>\n      <th>C(sun)</th>\n      <td>24.866667</td>\n      <td>2.0</td>\n      <td>23.3125</td>\n      <td>0.000002</td>\n    </tr>\n    <tr>\n      <th>C(water):C(sun)</th>\n      <td>2.466667</td>\n      <td>2.0</td>\n      <td>2.3125</td>\n      <td>0.120667</td>\n    </tr>\n    <tr>\n      <th>Residual</th>\n      <td>12.800000</td>\n      <td>24.0</td>\n      <td>NaN</td>\n      <td>NaN</td>\n    </tr>\n  </tbody>\n</table>\n</div>"
     },
     "metadata": {}
    }
   ],
   "execution_count": 22
  },
  {
   "cell_type": "code",
   "source": "",
   "metadata": {
    "cell_id": "00013-e336f3d9-fa69-4bdd-8e11-246f76571d2c",
    "deepnote_variable_name": "df",
    "deepnote_visualization_spec": {
     "$schema": "https://vega.github.io/schema/vega-lite/v4.json",
     "mark": {
      "type": "area",
      "tooltip": {
       "content": "data"
      }
     },
     "height": 220,
     "autosize": {
      "type": "fit"
     },
     "data": {
      "name": "placeholder"
     },
     "encoding": {
      "x": {
       "field": "height",
       "type": "quantitative",
       "sort": "ascending",
       "scale": {
        "type": "linear",
        "zero": false
       }
      },
      "y": {
       "field": "sun",
       "type": "nominal",
       "sort": "ascending",
       "scale": {
        "type": "linear",
        "zero": true
       }
      },
      "color": {
       "field": "",
       "type": "nominal",
       "sort": "ascending",
       "scale": {
        "type": "linear",
        "zero": false
       }
      }
     }
    },
    "deepnote_to_be_reexecuted": false,
    "source_hash": "2229b11b",
    "execution_start": 1623724928957,
    "execution_millis": 101,
    "deepnote_cell_type": "visualization"
   },
   "outputs": [
    {
     "output_type": "execute_result",
     "execution_count": 25,
     "data": {
      "text/html": "\n<div id=\"altair-viz-a3d3b707689d49b485d9608313405ca3\"></div>\n<script type=\"text/javascript\">\n  (function(spec, embedOpt){\n    let outputDiv = document.currentScript.previousElementSibling;\n    if (outputDiv.id !== \"altair-viz-a3d3b707689d49b485d9608313405ca3\") {\n      outputDiv = document.getElementById(\"altair-viz-a3d3b707689d49b485d9608313405ca3\");\n    }\n    const paths = {\n      \"vega\": \"https://cdn.jsdelivr.net/npm//vega@5?noext\",\n      \"vega-lib\": \"https://cdn.jsdelivr.net/npm//vega-lib?noext\",\n      \"vega-lite\": \"https://cdn.jsdelivr.net/npm//vega-lite@4.8.1?noext\",\n      \"vega-embed\": \"https://cdn.jsdelivr.net/npm//vega-embed@6?noext\",\n    };\n\n    function loadScript(lib) {\n      return new Promise(function(resolve, reject) {\n        var s = document.createElement('script');\n        s.src = paths[lib];\n        s.async = true;\n        s.onload = () => resolve(paths[lib]);\n        s.onerror = () => reject(`Error loading script: ${paths[lib]}`);\n        document.getElementsByTagName(\"head\")[0].appendChild(s);\n      });\n    }\n\n    function showError(err) {\n      outputDiv.innerHTML = `<div class=\"error\" style=\"color:red;\">${err}</div>`;\n      throw err;\n    }\n\n    function displayChart(vegaEmbed) {\n      vegaEmbed(outputDiv, spec, embedOpt)\n        .catch(err => showError(`Javascript Error: ${err.message}<br>This usually means there's a typo in your chart specification. See the javascript console for the full traceback.`));\n    }\n\n    if(typeof define === \"function\" && define.amd) {\n      requirejs.config({paths});\n      require([\"vega-embed\"], displayChart, err => showError(`Error loading script: ${err.message}`));\n    } else if (typeof vegaEmbed === \"function\") {\n      displayChart(vegaEmbed);\n    } else {\n      loadScript(\"vega\")\n        .then(() => loadScript(\"vega-lite\"))\n        .then(() => loadScript(\"vega-embed\"))\n        .catch(showError)\n        .then(() => displayChart(vegaEmbed));\n    }\n  })({\"config\": {\"view\": {\"continuousWidth\": 400, \"continuousHeight\": 300}, \"area\": {\"fill\": \"#51C0E9\"}, \"axis\": {\"labelFont\": \"Inter, sans-serif\", \"labelFontSize\": 12, \"labelFontWeight\": \"normal\", \"labelLimit\": 60, \"labelOverlap\": \"greedy\", \"titleFont\": \"Inter, sans-serif\", \"titleFontSize\": 12, \"titleFontWeight\": \"bold\"}, \"background\": \"#ffffff\", \"legend\": {\"labelFont\": \"Inter, sans-serif\", \"labelFontSize\": 12, \"titleFont\": \"Inter, sans-serif\", \"titleFontSize\": 12, \"titleFontWeight\": \"bold\"}, \"line\": {\"stroke\": \"#51C0E9\", \"strokeWidth\": 2}, \"rect\": {\"fill\": \"#51C0E9\"}, \"title\": {\"anchor\": \"start\", \"color\": \"#000000\", \"font\": \"Inter, sans-serif\", \"fontSize\": 22, \"fontWeight\": \"normal\"}}, \"data\": {\"name\": \"data-2fd7f2169aa3eb0abf2b61883b54da0d\"}, \"mark\": {\"type\": \"area\", \"tooltip\": {\"content\": \"data\"}}, \"autosize\": {\"type\": \"fit\"}, \"encoding\": {\"color\": {\"type\": \"nominal\", \"field\": \"\", \"scale\": {\"type\": \"linear\", \"zero\": false}, \"sort\": \"ascending\"}, \"x\": {\"type\": \"quantitative\", \"field\": \"height\", \"scale\": {\"type\": \"linear\", \"zero\": false}, \"sort\": \"ascending\"}, \"y\": {\"type\": \"nominal\", \"field\": \"sun\", \"scale\": {\"type\": \"linear\", \"zero\": true}, \"sort\": \"ascending\"}}, \"height\": 300, \"width\": \"container\", \"$schema\": \"https://vega.github.io/schema/vega-lite/v4.json\", \"datasets\": {\"data-2fd7f2169aa3eb0abf2b61883b54da0d\": [{\"water\": \"daily\", \"sun\": \"low\", \"height\": 6}, {\"water\": \"daily\", \"sun\": \"low\", \"height\": 6}, {\"water\": \"daily\", \"sun\": \"low\", \"height\": 6}, {\"water\": \"daily\", \"sun\": \"low\", \"height\": 5}, {\"water\": \"daily\", \"sun\": \"low\", \"height\": 6}, {\"water\": \"daily\", \"sun\": \"med\", \"height\": 5}, {\"water\": \"daily\", \"sun\": \"med\", \"height\": 5}, {\"water\": \"daily\", \"sun\": \"med\", \"height\": 6}, {\"water\": \"daily\", \"sun\": \"med\", \"height\": 4}, {\"water\": \"daily\", \"sun\": \"med\", \"height\": 5}, {\"water\": \"daily\", \"sun\": \"high\", \"height\": 6}, {\"water\": \"daily\", \"sun\": \"high\", \"height\": 6}, {\"water\": \"daily\", \"sun\": \"high\", \"height\": 7}, {\"water\": \"daily\", \"sun\": \"high\", \"height\": 8}, {\"water\": \"daily\", \"sun\": \"high\", \"height\": 7}, {\"water\": \"weekly\", \"sun\": \"low\", \"height\": 3}, {\"water\": \"weekly\", \"sun\": \"low\", \"height\": 4}, {\"water\": \"weekly\", \"sun\": \"low\", \"height\": 4}, {\"water\": \"weekly\", \"sun\": \"low\", \"height\": 4}, {\"water\": \"weekly\", \"sun\": \"low\", \"height\": 5}, {\"water\": \"weekly\", \"sun\": \"med\", \"height\": 4}, {\"water\": \"weekly\", \"sun\": \"med\", \"height\": 4}, {\"water\": \"weekly\", \"sun\": \"med\", \"height\": 4}, {\"water\": \"weekly\", \"sun\": \"med\", \"height\": 4}, {\"water\": \"weekly\", \"sun\": \"med\", \"height\": 4}, {\"water\": \"weekly\", \"sun\": \"high\", \"height\": 5}, {\"water\": \"weekly\", \"sun\": \"high\", \"height\": 6}, {\"water\": \"weekly\", \"sun\": \"high\", \"height\": 6}, {\"water\": \"weekly\", \"sun\": \"high\", \"height\": 7}, {\"water\": \"weekly\", \"sun\": \"high\", \"height\": 8}]}}, {\"actions\": false, \"mode\": \"vega-lite\"});\n</script>",
      "text/plain": "alt.Chart(...)"
     },
     "metadata": {}
    }
   ],
   "execution_count": 25
  },
  {
   "cell_type": "markdown",
   "source": "## Step 3: Interpret the results.",
   "metadata": {
    "tags": [],
    "cell_id": "00015-539d0382-b8b1-4aab-88ea-7f6e2fe74a17",
    "deepnote_cell_type": "text-cell-h2"
   }
  },
  {
   "cell_type": "markdown",
   "source": "Least Squares Means for effect GROUP\n                   Pr &gt; |t| for H0: LSMean(i)=LSMean(j)",
   "metadata": {
    "tags": [],
    "cell_id": "00016-50d49518-3de1-4353-9c18-f18f0a4e10c5",
    "deepnote_cell_type": "text-cell-p"
   }
  },
  {
   "cell_type": "markdown",
   "source": "We can see the following p-values for each of the factors in the table:\n* water: **p-value** = .000527\n* sun: **p_value** = 0000002\n* water*sun = 0.12066712248670274",
   "metadata": {
    "tags": [],
    "cell_id": "00017-55700887-1f4e-4e3d-b127-62e3f980c724",
    "deepnote_cell_type": "markdown"
   }
  },
  {
   "cell_type": "markdown",
   "source": "Since the p-values for water and sun are both less than .05, this means that both factors have a statistically significant effect on plant height.\n\n\nAnd since the p-value for the interaction effect (.120667) is not less than .05, this tells us that there is no significant interaction effect between sunlight exposure and watering frequency.",
   "metadata": {
    "tags": [],
    "cell_id": "00018-222c5d07-d4a0-4eb6-a097-80fd9bcba3d2",
    "deepnote_cell_type": "markdown"
   }
  },
  {
   "cell_type": "markdown",
   "source": "### Two-way ANOVA with interactive effects\nOnce again, you're going to look at our dataset of **Olympic athletes**. As in previous exercises, you'll be looking at the variation in **athlete Weight**. You're going to look at athletes of either Sex competing in one of two Events: the 100 meter and 10,000 meter run. Have a look at these data in the boxplots below.\n\n![](https://lh3.googleusercontent.com/ji3zeKi-oJZzi-hFuRnvUrG8WX63L_7kXzGXevl0K34fizJSdKXyIoS4-WzwsUeRQbuBiXHqAZAzAU17Rv4jbU6pIPolWBnO1MKuc4u-suVO9cMYDpmu-fe5APvFuemqdu3Vu3HEsyQ7vY7vWkZKi45o0R_4kuUbogHVphAocWVJ9IW7bZFI18q_Kq1fA_fuPIk7ScbatQw=w512)\n\nThis dataset is provided in your workspace as `athletes`. An ANOVA will allow you to work out which of these variables affect `Weight` and whether an interactive effect is present. `pandas`, `statsmodels`, and `plotnine` have been loaded into the workspace as `pd`, `sm`, and `p9`, respectively.",
   "metadata": {
    "tags": [],
    "cell_id": "00019-24d5bb45-bea1-4217-9e18-879f45a350c7",
    "deepnote_cell_type": "markdown"
   }
  },
  {
   "cell_type": "code",
   "source": "# Start Create your Data by using above Example",
   "metadata": {
    "tags": [],
    "cell_id": "00020-f8955e8e-bbfa-4adb-a306-b17bff0fcc27",
    "deepnote_cell_type": "code"
   },
   "outputs": [],
   "execution_count": null
  },
  {
   "cell_type": "code",
   "source": "# Run the ANOVA\nmodel = sm.api.formula.ols('Weight ~ ____ + ____ + ____:____', data = ____).fit()\n\n# Extract our table\naov_table = sm.api.stats.anova_lm(____, typ=2)\n\n# Print the table\nprint(____)",
   "metadata": {
    "tags": [],
    "cell_id": "00013-89d18889-137d-4b9c-8d02-7a6ffe60e22f",
    "deepnote_cell_type": "code"
   },
   "outputs": [],
   "execution_count": null
  },
  {
   "cell_type": "markdown",
   "source": "<a style='text-decoration:none;line-height:16px;display:flex;color:#5B5B62;padding:10px;justify-content:end;' href='https://deepnote.com?utm_source=created-in-deepnote-cell&projectId=f5f90ba1-3290-463e-8fc6-44108f4fa21b' target=\"_blank\">\n<img alt='Created in deepnote.com' style='display:inline;max-height:16px;margin:0px;margin-right:7.5px;' src='data:image/svg+xml;base64,PD94bWwgdmVyc2lvbj0iMS4wIiBlbmNvZGluZz0iVVRGLTgiPz4KPHN2ZyB3aWR0aD0iODBweCIgaGVpZ2h0PSI4MHB4IiB2aWV3Qm94PSIwIDAgODAgODAiIHZlcnNpb249IjEuMSIgeG1sbnM9Imh0dHA6Ly93d3cudzMub3JnLzIwMDAvc3ZnIiB4bWxuczp4bGluaz0iaHR0cDovL3d3dy53My5vcmcvMTk5OS94bGluayI+CiAgICA8IS0tIEdlbmVyYXRvcjogU2tldGNoIDU0LjEgKDc2NDkwKSAtIGh0dHBzOi8vc2tldGNoYXBwLmNvbSAtLT4KICAgIDx0aXRsZT5Hcm91cCAzPC90aXRsZT4KICAgIDxkZXNjPkNyZWF0ZWQgd2l0aCBTa2V0Y2guPC9kZXNjPgogICAgPGcgaWQ9IkxhbmRpbmciIHN0cm9rZT0ibm9uZSIgc3Ryb2tlLXdpZHRoPSIxIiBmaWxsPSJub25lIiBmaWxsLXJ1bGU9ImV2ZW5vZGQiPgogICAgICAgIDxnIGlkPSJBcnRib2FyZCIgdHJhbnNmb3JtPSJ0cmFuc2xhdGUoLTEyMzUuMDAwMDAwLCAtNzkuMDAwMDAwKSI+CiAgICAgICAgICAgIDxnIGlkPSJHcm91cC0zIiB0cmFuc2Zvcm09InRyYW5zbGF0ZSgxMjM1LjAwMDAwMCwgNzkuMDAwMDAwKSI+CiAgICAgICAgICAgICAgICA8cG9seWdvbiBpZD0iUGF0aC0yMCIgZmlsbD0iIzAyNjVCNCIgcG9pbnRzPSIyLjM3NjIzNzYyIDgwIDM4LjA0NzY2NjcgODAgNTcuODIxNzgyMiA3My44MDU3NTkyIDU3LjgyMTc4MjIgMzIuNzU5MjczOSAzOS4xNDAyMjc4IDMxLjY4MzE2ODMiPjwvcG9seWdvbj4KICAgICAgICAgICAgICAgIDxwYXRoIGQ9Ik0zNS4wMDc3MTgsODAgQzQyLjkwNjIwMDcsNzYuNDU0OTM1OCA0Ny41NjQ5MTY3LDcxLjU0MjI2NzEgNDguOTgzODY2LDY1LjI2MTk5MzkgQzUxLjExMjI4OTksNTUuODQxNTg0MiA0MS42NzcxNzk1LDQ5LjIxMjIyODQgMjUuNjIzOTg0Niw0OS4yMTIyMjg0IEMyNS40ODQ5Mjg5LDQ5LjEyNjg0NDggMjkuODI2MTI5Niw0My4yODM4MjQ4IDM4LjY0NzU4NjksMzEuNjgzMTY4MyBMNzIuODcxMjg3MSwzMi41NTQ0MjUgTDY1LjI4MDk3Myw2Ny42NzYzNDIxIEw1MS4xMTIyODk5LDc3LjM3NjE0NCBMMzUuMDA3NzE4LDgwIFoiIGlkPSJQYXRoLTIyIiBmaWxsPSIjMDAyODY4Ij48L3BhdGg+CiAgICAgICAgICAgICAgICA8cGF0aCBkPSJNMCwzNy43MzA0NDA1IEwyNy4xMTQ1MzcsMC4yNTcxMTE0MzYgQzYyLjM3MTUxMjMsLTEuOTkwNzE3MDEgODAsMTAuNTAwMzkyNyA4MCwzNy43MzA0NDA1IEM4MCw2NC45NjA0ODgyIDY0Ljc3NjUwMzgsNzkuMDUwMzQxNCAzNC4zMjk1MTEzLDgwIEM0Ny4wNTUzNDg5LDc3LjU2NzA4MDggNTMuNDE4MjY3Nyw3MC4zMTM2MTAzIDUzLjQxODI2NzcsNTguMjM5NTg4NSBDNTMuNDE4MjY3Nyw0MC4xMjg1NTU3IDM2LjMwMzk1NDQsMzcuNzMwNDQwNSAyNS4yMjc0MTcsMzcuNzMwNDQwNSBDMTcuODQzMDU4NiwzNy43MzA0NDA1IDkuNDMzOTE5NjYsMzcuNzMwNDQwNSAwLDM3LjczMDQ0MDUgWiIgaWQ9IlBhdGgtMTkiIGZpbGw9IiMzNzkzRUYiPjwvcGF0aD4KICAgICAgICAgICAgPC9nPgogICAgICAgIDwvZz4KICAgIDwvZz4KPC9zdmc+' > </img>\nCreated in <span style='font-weight:600;margin-left:4px;'>Deepnote</span></a>",
   "metadata": {
    "tags": [],
    "created_in_deepnote_cell": true,
    "deepnote_cell_type": "markdown"
   }
  }
 ],
 "nbformat": 4,
 "nbformat_minor": 2,
 "metadata": {
  "orig_nbformat": 2,
  "deepnote": {
   "is_reactive": false
  },
  "deepnote_notebook_id": "df281b96-2444-4298-9382-9597f5f9cbb9",
  "deepnote_execution_queue": []
 }
}