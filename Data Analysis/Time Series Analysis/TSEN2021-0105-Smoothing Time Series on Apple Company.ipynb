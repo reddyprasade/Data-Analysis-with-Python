{
 "cells": [
  {
   "cell_type": "code",
   "source": "import numpy as np\nimport pandas as pd\nimport matplotlib.pyplot as plt",
   "metadata": {
    "tags": [],
    "cell_id": "00000-fec1584a-395a-42fb-bb1a-312af7e245ee",
    "deepnote_to_be_reexecuted": false,
    "source_hash": "35374e32",
    "execution_start": 1628566159928,
    "execution_millis": 4,
    "deepnote_cell_type": "code"
   },
   "outputs": [],
   "execution_count": 22
  },
  {
   "cell_type": "code",
   "source": "appl = pd.read_csv(\"https://raw.githubusercontent.com/reddyprasade/Data-Analysis-with-Python/main/Data%20Analysis/Time%20Series%20Analysis/Date/AAPL.csv\")\nappl.head()",
   "metadata": {
    "tags": [],
    "cell_id": "00001-016f267c-dfe1-4a0c-b3c7-45f2abb5e409",
    "deepnote_to_be_reexecuted": false,
    "source_hash": "2f89a55c",
    "execution_start": 1628566246066,
    "execution_millis": 208,
    "deepnote_cell_type": "code"
   },
   "outputs": [
    {
     "output_type": "execute_result",
     "execution_count": 23,
     "data": {
      "application/vnd.deepnote.dataframe.v2+json": {
       "row_count": 5,
       "column_count": 7,
       "columns": [
        {
         "name": "Date",
         "dtype": "object",
         "stats": {
          "unique_count": 5,
          "nan_count": 0,
          "categories": [
           {
            "name": "1980-12-12",
            "count": 1
           },
           {
            "name": "1980-12-15",
            "count": 1
           },
           {
            "name": "3 others",
            "count": 3
           }
          ]
         }
        },
        {
         "name": "Open",
         "dtype": "float64",
         "stats": {
          "unique_count": 5,
          "nan_count": 0,
          "min": "0.453125",
          "max": "0.513393",
          "histogram": [
           {
            "bin_start": 0.453125,
            "bin_end": 0.4591518,
            "count": 1
           },
           {
            "bin_start": 0.4591518,
            "bin_end": 0.4651786,
            "count": 1
           },
           {
            "bin_start": 0.4651786,
            "bin_end": 0.4712054,
            "count": 0
           },
           {
            "bin_start": 0.4712054,
            "bin_end": 0.4772322,
            "count": 1
           },
           {
            "bin_start": 0.4772322,
            "bin_end": 0.483259,
            "count": 0
           },
           {
            "bin_start": 0.483259,
            "bin_end": 0.4892858,
            "count": 1
           },
           {
            "bin_start": 0.4892858,
            "bin_end": 0.4953126,
            "count": 0
           },
           {
            "bin_start": 0.4953126,
            "bin_end": 0.5013394,
            "count": 0
           },
           {
            "bin_start": 0.5013394,
            "bin_end": 0.5073662,
            "count": 0
           },
           {
            "bin_start": 0.5073662,
            "bin_end": 0.513393,
            "count": 1
           }
          ]
         }
        },
        {
         "name": "High",
         "dtype": "float64",
         "stats": {
          "unique_count": 5,
          "nan_count": 0,
          "min": "0.453125",
          "max": "0.515625",
          "histogram": [
           {
            "bin_start": 0.453125,
            "bin_end": 0.459375,
            "count": 1
           },
           {
            "bin_start": 0.459375,
            "bin_end": 0.465625,
            "count": 1
           },
           {
            "bin_start": 0.465625,
            "bin_end": 0.471875,
            "count": 0
           },
           {
            "bin_start": 0.471875,
            "bin_end": 0.478125,
            "count": 1
           },
           {
            "bin_start": 0.478125,
            "bin_end": 0.484375,
            "count": 0
           },
           {
            "bin_start": 0.484375,
            "bin_end": 0.490625,
            "count": 1
           },
           {
            "bin_start": 0.490625,
            "bin_end": 0.496875,
            "count": 0
           },
           {
            "bin_start": 0.496875,
            "bin_end": 0.503125,
            "count": 0
           },
           {
            "bin_start": 0.503125,
            "bin_end": 0.509375,
            "count": 0
           },
           {
            "bin_start": 0.509375,
            "bin_end": 0.515625,
            "count": 1
           }
          ]
         }
        },
        {
         "name": "Low",
         "dtype": "float64",
         "stats": {
          "unique_count": 5,
          "nan_count": 0,
          "min": "0.450893",
          "max": "0.513393",
          "histogram": [
           {
            "bin_start": 0.450893,
            "bin_end": 0.45714299999999997,
            "count": 1
           },
           {
            "bin_start": 0.45714299999999997,
            "bin_end": 0.463393,
            "count": 1
           },
           {
            "bin_start": 0.463393,
            "bin_end": 0.469643,
            "count": 0
           },
           {
            "bin_start": 0.469643,
            "bin_end": 0.475893,
            "count": 1
           },
           {
            "bin_start": 0.475893,
            "bin_end": 0.482143,
            "count": 0
           },
           {
            "bin_start": 0.482143,
            "bin_end": 0.48839299999999997,
            "count": 1
           },
           {
            "bin_start": 0.48839299999999997,
            "bin_end": 0.494643,
            "count": 0
           },
           {
            "bin_start": 0.494643,
            "bin_end": 0.500893,
            "count": 0
           },
           {
            "bin_start": 0.500893,
            "bin_end": 0.507143,
            "count": 0
           },
           {
            "bin_start": 0.507143,
            "bin_end": 0.513393,
            "count": 1
           }
          ]
         }
        },
        {
         "name": "Close",
         "dtype": "float64",
         "stats": {
          "unique_count": 5,
          "nan_count": 0,
          "min": "0.450893",
          "max": "0.513393",
          "histogram": [
           {
            "bin_start": 0.450893,
            "bin_end": 0.45714299999999997,
            "count": 1
           },
           {
            "bin_start": 0.45714299999999997,
            "bin_end": 0.463393,
            "count": 1
           },
           {
            "bin_start": 0.463393,
            "bin_end": 0.469643,
            "count": 0
           },
           {
            "bin_start": 0.469643,
            "bin_end": 0.475893,
            "count": 1
           },
           {
            "bin_start": 0.475893,
            "bin_end": 0.482143,
            "count": 0
           },
           {
            "bin_start": 0.482143,
            "bin_end": 0.48839299999999997,
            "count": 1
           },
           {
            "bin_start": 0.48839299999999997,
            "bin_end": 0.494643,
            "count": 0
           },
           {
            "bin_start": 0.494643,
            "bin_end": 0.500893,
            "count": 0
           },
           {
            "bin_start": 0.500893,
            "bin_end": 0.507143,
            "count": 0
           },
           {
            "bin_start": 0.507143,
            "bin_end": 0.513393,
            "count": 1
           }
          ]
         }
        },
        {
         "name": "Adj Close",
         "dtype": "float64",
         "stats": {
          "unique_count": 5,
          "nan_count": 0,
          "min": "0.356296",
          "max": "0.405683",
          "histogram": [
           {
            "bin_start": 0.356296,
            "bin_end": 0.3612347,
            "count": 1
           },
           {
            "bin_start": 0.3612347,
            "bin_end": 0.3661734,
            "count": 1
           },
           {
            "bin_start": 0.3661734,
            "bin_end": 0.3711121,
            "count": 0
           },
           {
            "bin_start": 0.3711121,
            "bin_end": 0.3760508,
            "count": 1
           },
           {
            "bin_start": 0.3760508,
            "bin_end": 0.3809895,
            "count": 0
           },
           {
            "bin_start": 0.3809895,
            "bin_end": 0.3859282,
            "count": 1
           },
           {
            "bin_start": 0.3859282,
            "bin_end": 0.3908669,
            "count": 0
           },
           {
            "bin_start": 0.3908669,
            "bin_end": 0.39580560000000004,
            "count": 0
           },
           {
            "bin_start": 0.39580560000000004,
            "bin_end": 0.4007443,
            "count": 0
           },
           {
            "bin_start": 0.4007443,
            "bin_end": 0.405683,
            "count": 1
           }
          ]
         }
        },
        {
         "name": "Volume",
         "dtype": "float64",
         "stats": {
          "unique_count": 5,
          "nan_count": 0,
          "min": "18362400.0",
          "max": "117258400.0",
          "histogram": [
           {
            "bin_start": 18362400,
            "bin_end": 28252000,
            "count": 3
           },
           {
            "bin_start": 28252000,
            "bin_end": 38141600,
            "count": 0
           },
           {
            "bin_start": 38141600,
            "bin_end": 48031200,
            "count": 1
           },
           {
            "bin_start": 48031200,
            "bin_end": 57920800,
            "count": 0
           },
           {
            "bin_start": 57920800,
            "bin_end": 67810400,
            "count": 0
           },
           {
            "bin_start": 67810400,
            "bin_end": 77700000,
            "count": 0
           },
           {
            "bin_start": 77700000,
            "bin_end": 87589600,
            "count": 0
           },
           {
            "bin_start": 87589600,
            "bin_end": 97479200,
            "count": 0
           },
           {
            "bin_start": 97479200,
            "bin_end": 107368800,
            "count": 0
           },
           {
            "bin_start": 107368800,
            "bin_end": 117258400,
            "count": 1
           }
          ]
         }
        },
        {
         "name": "_deepnote_index_column",
         "dtype": "int64"
        }
       ],
       "rows_top": [
        {
         "Date": "1980-12-12",
         "Open": 0.513393,
         "High": 0.515625,
         "Low": 0.513393,
         "Close": 0.513393,
         "Adj Close": 0.405683,
         "Volume": 117258400,
         "_deepnote_index_column": 0
        },
        {
         "Date": "1980-12-15",
         "Open": 0.488839,
         "High": 0.488839,
         "Low": 0.486607,
         "Close": 0.486607,
         "Adj Close": 0.384517,
         "Volume": 43971200,
         "_deepnote_index_column": 1
        },
        {
         "Date": "1980-12-16",
         "Open": 0.453125,
         "High": 0.453125,
         "Low": 0.450893,
         "Close": 0.450893,
         "Adj Close": 0.356296,
         "Volume": 26432000,
         "_deepnote_index_column": 2
        },
        {
         "Date": "1980-12-17",
         "Open": 0.462054,
         "High": 0.464286,
         "Low": 0.462054,
         "Close": 0.462054,
         "Adj Close": 0.365115,
         "Volume": 21610400,
         "_deepnote_index_column": 3
        },
        {
         "Date": "1980-12-18",
         "Open": 0.475446,
         "High": 0.477679,
         "Low": 0.475446,
         "Close": 0.475446,
         "Adj Close": 0.375698,
         "Volume": 18362400,
         "_deepnote_index_column": 4
        }
       ],
       "rows_bottom": null
      },
      "text/plain": "         Date      Open      High       Low     Close  Adj Close       Volume\n0  1980-12-12  0.513393  0.515625  0.513393  0.513393   0.405683  117258400.0\n1  1980-12-15  0.488839  0.488839  0.486607  0.486607   0.384517   43971200.0\n2  1980-12-16  0.453125  0.453125  0.450893  0.450893   0.356296   26432000.0\n3  1980-12-17  0.462054  0.464286  0.462054  0.462054   0.365115   21610400.0\n4  1980-12-18  0.475446  0.477679  0.475446  0.475446   0.375698   18362400.0",
      "text/html": "<div>\n<style scoped>\n    .dataframe tbody tr th:only-of-type {\n        vertical-align: middle;\n    }\n\n    .dataframe tbody tr th {\n        vertical-align: top;\n    }\n\n    .dataframe thead th {\n        text-align: right;\n    }\n</style>\n<table border=\"1\" class=\"dataframe\">\n  <thead>\n    <tr style=\"text-align: right;\">\n      <th></th>\n      <th>Date</th>\n      <th>Open</th>\n      <th>High</th>\n      <th>Low</th>\n      <th>Close</th>\n      <th>Adj Close</th>\n      <th>Volume</th>\n    </tr>\n  </thead>\n  <tbody>\n    <tr>\n      <th>0</th>\n      <td>1980-12-12</td>\n      <td>0.513393</td>\n      <td>0.515625</td>\n      <td>0.513393</td>\n      <td>0.513393</td>\n      <td>0.405683</td>\n      <td>117258400.0</td>\n    </tr>\n    <tr>\n      <th>1</th>\n      <td>1980-12-15</td>\n      <td>0.488839</td>\n      <td>0.488839</td>\n      <td>0.486607</td>\n      <td>0.486607</td>\n      <td>0.384517</td>\n      <td>43971200.0</td>\n    </tr>\n    <tr>\n      <th>2</th>\n      <td>1980-12-16</td>\n      <td>0.453125</td>\n      <td>0.453125</td>\n      <td>0.450893</td>\n      <td>0.450893</td>\n      <td>0.356296</td>\n      <td>26432000.0</td>\n    </tr>\n    <tr>\n      <th>3</th>\n      <td>1980-12-17</td>\n      <td>0.462054</td>\n      <td>0.464286</td>\n      <td>0.462054</td>\n      <td>0.462054</td>\n      <td>0.365115</td>\n      <td>21610400.0</td>\n    </tr>\n    <tr>\n      <th>4</th>\n      <td>1980-12-18</td>\n      <td>0.475446</td>\n      <td>0.477679</td>\n      <td>0.475446</td>\n      <td>0.475446</td>\n      <td>0.375698</td>\n      <td>18362400.0</td>\n    </tr>\n  </tbody>\n</table>\n</div>"
     },
     "metadata": {}
    }
   ],
   "execution_count": 23
  },
  {
   "cell_type": "code",
   "source": "appl.tail()",
   "metadata": {
    "tags": [],
    "cell_id": "00002-e5b55dfd-8b78-4a37-b7cf-9ba0316e6c22",
    "deepnote_to_be_reexecuted": false,
    "source_hash": "79ba70e0",
    "execution_start": 1628566258048,
    "execution_millis": 29,
    "deepnote_cell_type": "code"
   },
   "outputs": [
    {
     "output_type": "execute_result",
     "execution_count": 24,
     "data": {
      "application/vnd.deepnote.dataframe.v2+json": {
       "row_count": 5,
       "column_count": 7,
       "columns": [
        {
         "name": "Date",
         "dtype": "object",
         "stats": {
          "unique_count": 5,
          "nan_count": 0,
          "categories": [
           {
            "name": "2020-05-18",
            "count": 1
           },
           {
            "name": "2020-05-19",
            "count": 1
           },
           {
            "name": "3 others",
            "count": 3
           }
          ]
         }
        },
        {
         "name": "Open",
         "dtype": "float64",
         "stats": {
          "unique_count": 5,
          "nan_count": 0,
          "min": "313.170013",
          "max": "318.660004",
          "histogram": [
           {
            "bin_start": 313.170013,
            "bin_end": 313.7190121,
            "count": 1
           },
           {
            "bin_start": 313.7190121,
            "bin_end": 314.2680112,
            "count": 0
           },
           {
            "bin_start": 314.2680112,
            "bin_end": 314.8170103,
            "count": 0
           },
           {
            "bin_start": 314.8170103,
            "bin_end": 315.3660094,
            "count": 1
           },
           {
            "bin_start": 315.3660094,
            "bin_end": 315.9150085,
            "count": 1
           },
           {
            "bin_start": 315.9150085,
            "bin_end": 316.4640076,
            "count": 0
           },
           {
            "bin_start": 316.4640076,
            "bin_end": 317.0130067,
            "count": 1
           },
           {
            "bin_start": 317.0130067,
            "bin_end": 317.5620058,
            "count": 0
           },
           {
            "bin_start": 317.5620058,
            "bin_end": 318.1110049,
            "count": 0
           },
           {
            "bin_start": 318.1110049,
            "bin_end": 318.660004,
            "count": 1
           }
          ]
         }
        },
        {
         "name": "High",
         "dtype": "float64",
         "stats": {
          "unique_count": 5,
          "nan_count": 0,
          "min": "316.5",
          "max": "320.890015",
          "histogram": [
           {
            "bin_start": 316.5,
            "bin_end": 316.9390015,
            "count": 1
           },
           {
            "bin_start": 316.9390015,
            "bin_end": 317.378003,
            "count": 0
           },
           {
            "bin_start": 317.378003,
            "bin_end": 317.8170045,
            "count": 0
           },
           {
            "bin_start": 317.8170045,
            "bin_end": 318.256006,
            "count": 0
           },
           {
            "bin_start": 318.256006,
            "bin_end": 318.6950075,
            "count": 1
           },
           {
            "bin_start": 318.6950075,
            "bin_end": 319.134009,
            "count": 0
           },
           {
            "bin_start": 319.134009,
            "bin_end": 319.5730105,
            "count": 2
           },
           {
            "bin_start": 319.5730105,
            "bin_end": 320.012012,
            "count": 0
           },
           {
            "bin_start": 320.012012,
            "bin_end": 320.4510135,
            "count": 0
           },
           {
            "bin_start": 320.4510135,
            "bin_end": 320.890015,
            "count": 1
           }
          ]
         }
        },
        {
         "name": "Low",
         "dtype": "float64",
         "stats": {
          "unique_count": 5,
          "nan_count": 0,
          "min": "310.320007",
          "max": "316.519989",
          "histogram": [
           {
            "bin_start": 310.320007,
            "bin_end": 310.9400052,
            "count": 1
           },
           {
            "bin_start": 310.9400052,
            "bin_end": 311.56000339999997,
            "count": 0
           },
           {
            "bin_start": 311.56000339999997,
            "bin_end": 312.18000159999997,
            "count": 0
           },
           {
            "bin_start": 312.18000159999997,
            "bin_end": 312.79999979999997,
            "count": 0
           },
           {
            "bin_start": 312.79999979999997,
            "bin_end": 313.41999799999996,
            "count": 1
           },
           {
            "bin_start": 313.41999799999996,
            "bin_end": 314.0399962,
            "count": 0
           },
           {
            "bin_start": 314.0399962,
            "bin_end": 314.6599944,
            "count": 0
           },
           {
            "bin_start": 314.6599944,
            "bin_end": 315.2799926,
            "count": 0
           },
           {
            "bin_start": 315.2799926,
            "bin_end": 315.8999908,
            "count": 2
           },
           {
            "bin_start": 315.8999908,
            "bin_end": 316.519989,
            "count": 1
           }
          ]
         }
        },
        {
         "name": "Close",
         "dtype": "float64",
         "stats": {
          "unique_count": 5,
          "nan_count": 0,
          "min": "313.140015",
          "max": "319.230011",
          "histogram": [
           {
            "bin_start": 313.140015,
            "bin_end": 313.7490146,
            "count": 1
           },
           {
            "bin_start": 313.7490146,
            "bin_end": 314.3580142,
            "count": 0
           },
           {
            "bin_start": 314.3580142,
            "bin_end": 314.9670138,
            "count": 1
           },
           {
            "bin_start": 314.9670138,
            "bin_end": 315.5760134,
            "count": 0
           },
           {
            "bin_start": 315.5760134,
            "bin_end": 316.185013,
            "count": 0
           },
           {
            "bin_start": 316.185013,
            "bin_end": 316.7940126,
            "count": 0
           },
           {
            "bin_start": 316.7940126,
            "bin_end": 317.4030122,
            "count": 1
           },
           {
            "bin_start": 317.4030122,
            "bin_end": 318.0120118,
            "count": 0
           },
           {
            "bin_start": 318.0120118,
            "bin_end": 318.6210114,
            "count": 0
           },
           {
            "bin_start": 318.6210114,
            "bin_end": 319.230011,
            "count": 2
           }
          ]
         }
        },
        {
         "name": "Adj Close",
         "dtype": "float64",
         "stats": {
          "unique_count": 5,
          "nan_count": 0,
          "min": "313.140015",
          "max": "319.230011",
          "histogram": [
           {
            "bin_start": 313.140015,
            "bin_end": 313.7490146,
            "count": 1
           },
           {
            "bin_start": 313.7490146,
            "bin_end": 314.3580142,
            "count": 0
           },
           {
            "bin_start": 314.3580142,
            "bin_end": 314.9670138,
            "count": 1
           },
           {
            "bin_start": 314.9670138,
            "bin_end": 315.5760134,
            "count": 0
           },
           {
            "bin_start": 315.5760134,
            "bin_end": 316.185013,
            "count": 0
           },
           {
            "bin_start": 316.185013,
            "bin_end": 316.7940126,
            "count": 0
           },
           {
            "bin_start": 316.7940126,
            "bin_end": 317.4030122,
            "count": 1
           },
           {
            "bin_start": 317.4030122,
            "bin_end": 318.0120118,
            "count": 0
           },
           {
            "bin_start": 318.0120118,
            "bin_end": 318.6210114,
            "count": 0
           },
           {
            "bin_start": 318.6210114,
            "bin_end": 319.230011,
            "count": 2
           }
          ]
         }
        },
        {
         "name": "Volume",
         "dtype": "float64",
         "stats": {
          "unique_count": 5,
          "nan_count": 0,
          "min": "20430600.0",
          "max": "33843100.0",
          "histogram": [
           {
            "bin_start": 20430600,
            "bin_end": 21771850,
            "count": 1
           },
           {
            "bin_start": 21771850,
            "bin_end": 23113100,
            "count": 0
           },
           {
            "bin_start": 23113100,
            "bin_end": 24454350,
            "count": 0
           },
           {
            "bin_start": 24454350,
            "bin_end": 25795600,
            "count": 2
           },
           {
            "bin_start": 25795600,
            "bin_end": 27136850,
            "count": 0
           },
           {
            "bin_start": 27136850,
            "bin_end": 28478100,
            "count": 1
           },
           {
            "bin_start": 28478100,
            "bin_end": 29819350,
            "count": 0
           },
           {
            "bin_start": 29819350,
            "bin_end": 31160600,
            "count": 0
           },
           {
            "bin_start": 31160600,
            "bin_end": 32501850,
            "count": 0
           },
           {
            "bin_start": 32501850,
            "bin_end": 33843100,
            "count": 1
           }
          ]
         }
        },
        {
         "name": "_deepnote_index_column",
         "dtype": "int64"
        }
       ],
       "rows_top": [
        {
         "Date": "2020-05-18",
         "Open": 313.170013,
         "High": 316.5,
         "Low": 310.320007,
         "Close": 314.959991,
         "Adj Close": 314.959991,
         "Volume": 33843100,
         "_deepnote_index_column": 9941
        },
        {
         "Date": "2020-05-19",
         "Open": 315.029999,
         "High": 318.519989,
         "Low": 313.01001,
         "Close": 313.140015,
         "Adj Close": 313.140015,
         "Volume": 25432400,
         "_deepnote_index_column": 9942
        },
        {
         "Date": "2020-05-20",
         "Open": 316.679993,
         "High": 319.519989,
         "Low": 316.519989,
         "Close": 319.230011,
         "Adj Close": 319.230011,
         "Volume": 27876200,
         "_deepnote_index_column": 9943
        },
        {
         "Date": "2020-05-21",
         "Open": 318.660004,
         "High": 320.890015,
         "Low": 315.869995,
         "Close": 316.850006,
         "Adj Close": 316.850006,
         "Volume": 25672200,
         "_deepnote_index_column": 9944
        },
        {
         "Date": "2020-05-22",
         "Open": 315.769989,
         "High": 319.230011,
         "Low": 315.350006,
         "Close": 318.890015,
         "Adj Close": 318.890015,
         "Volume": 20430600,
         "_deepnote_index_column": 9945
        }
       ],
       "rows_bottom": null
      },
      "text/plain": "            Date        Open        High         Low       Close   Adj Close  \\\n9941  2020-05-18  313.170013  316.500000  310.320007  314.959991  314.959991   \n9942  2020-05-19  315.029999  318.519989  313.010010  313.140015  313.140015   \n9943  2020-05-20  316.679993  319.519989  316.519989  319.230011  319.230011   \n9944  2020-05-21  318.660004  320.890015  315.869995  316.850006  316.850006   \n9945  2020-05-22  315.769989  319.230011  315.350006  318.890015  318.890015   \n\n          Volume  \n9941  33843100.0  \n9942  25432400.0  \n9943  27876200.0  \n9944  25672200.0  \n9945  20430600.0  ",
      "text/html": "<div>\n<style scoped>\n    .dataframe tbody tr th:only-of-type {\n        vertical-align: middle;\n    }\n\n    .dataframe tbody tr th {\n        vertical-align: top;\n    }\n\n    .dataframe thead th {\n        text-align: right;\n    }\n</style>\n<table border=\"1\" class=\"dataframe\">\n  <thead>\n    <tr style=\"text-align: right;\">\n      <th></th>\n      <th>Date</th>\n      <th>Open</th>\n      <th>High</th>\n      <th>Low</th>\n      <th>Close</th>\n      <th>Adj Close</th>\n      <th>Volume</th>\n    </tr>\n  </thead>\n  <tbody>\n    <tr>\n      <th>9941</th>\n      <td>2020-05-18</td>\n      <td>313.170013</td>\n      <td>316.500000</td>\n      <td>310.320007</td>\n      <td>314.959991</td>\n      <td>314.959991</td>\n      <td>33843100.0</td>\n    </tr>\n    <tr>\n      <th>9942</th>\n      <td>2020-05-19</td>\n      <td>315.029999</td>\n      <td>318.519989</td>\n      <td>313.010010</td>\n      <td>313.140015</td>\n      <td>313.140015</td>\n      <td>25432400.0</td>\n    </tr>\n    <tr>\n      <th>9943</th>\n      <td>2020-05-20</td>\n      <td>316.679993</td>\n      <td>319.519989</td>\n      <td>316.519989</td>\n      <td>319.230011</td>\n      <td>319.230011</td>\n      <td>27876200.0</td>\n    </tr>\n    <tr>\n      <th>9944</th>\n      <td>2020-05-21</td>\n      <td>318.660004</td>\n      <td>320.890015</td>\n      <td>315.869995</td>\n      <td>316.850006</td>\n      <td>316.850006</td>\n      <td>25672200.0</td>\n    </tr>\n    <tr>\n      <th>9945</th>\n      <td>2020-05-22</td>\n      <td>315.769989</td>\n      <td>319.230011</td>\n      <td>315.350006</td>\n      <td>318.890015</td>\n      <td>318.890015</td>\n      <td>20430600.0</td>\n    </tr>\n  </tbody>\n</table>\n</div>"
     },
     "metadata": {}
    }
   ],
   "execution_count": 24
  },
  {
   "cell_type": "markdown",
   "source": "<h2 align='center'>or</h2>",
   "metadata": {
    "tags": [],
    "cell_id": "00003-c2302597-32d5-4f4f-9298-5a8a9c94ef81",
    "deepnote_cell_type": "markdown"
   }
  },
  {
   "cell_type": "code",
   "source": "import pandas_datareader.data as web",
   "metadata": {
    "tags": [],
    "cell_id": "00003-cdbea9b3-9890-4fb2-9c45-f25be2d3bd33",
    "deepnote_to_be_reexecuted": false,
    "source_hash": "46ee1ef7",
    "execution_start": 1628566429659,
    "execution_millis": 2,
    "deepnote_cell_type": "code"
   },
   "outputs": [],
   "execution_count": 27
  },
  {
   "cell_type": "code",
   "source": "df = web.DataReader('AAPL', 'yahoo', start='1980-12-12', end='2021-08-10')\ndf.head()",
   "metadata": {
    "tags": [],
    "cell_id": "00005-2037da8c-9a81-4d22-8433-15d354b90f4b",
    "deepnote_to_be_reexecuted": false,
    "source_hash": "91f33d4b",
    "execution_start": 1628566511300,
    "execution_millis": 1019,
    "deepnote_cell_type": "code"
   },
   "outputs": [
    {
     "output_type": "execute_result",
     "execution_count": 28,
     "data": {
      "application/vnd.deepnote.dataframe.v2+json": {
       "row_count": 5,
       "column_count": 6,
       "columns": [
        {
         "name": "High",
         "dtype": "float64",
         "stats": {
          "unique_count": 5,
          "nan_count": 0,
          "min": "0.1132809966802597",
          "max": "0.1289059966802597",
          "histogram": [
           {
            "bin_start": 0.1132809966802597,
            "bin_end": 0.1148434966802597,
            "count": 1
           },
           {
            "bin_start": 0.1148434966802597,
            "bin_end": 0.11640599668025971,
            "count": 1
           },
           {
            "bin_start": 0.11640599668025971,
            "bin_end": 0.1179684966802597,
            "count": 0
           },
           {
            "bin_start": 0.1179684966802597,
            "bin_end": 0.11953099668025971,
            "count": 1
           },
           {
            "bin_start": 0.11953099668025971,
            "bin_end": 0.1210934966802597,
            "count": 0
           },
           {
            "bin_start": 0.1210934966802597,
            "bin_end": 0.1226559966802597,
            "count": 1
           },
           {
            "bin_start": 0.1226559966802597,
            "bin_end": 0.12421849668025971,
            "count": 0
           },
           {
            "bin_start": 0.12421849668025971,
            "bin_end": 0.12578099668025972,
            "count": 0
           },
           {
            "bin_start": 0.12578099668025972,
            "bin_end": 0.1273434966802597,
            "count": 0
           },
           {
            "bin_start": 0.1273434966802597,
            "bin_end": 0.1289059966802597,
            "count": 1
           }
          ]
         }
        },
        {
         "name": "Low",
         "dtype": "float64",
         "stats": {
          "unique_count": 5,
          "nan_count": 0,
          "min": "0.11272300034761429",
          "max": "0.1283479928970337",
          "histogram": [
           {
            "bin_start": 0.11272300034761429,
            "bin_end": 0.11428549960255623,
            "count": 1
           },
           {
            "bin_start": 0.11428549960255623,
            "bin_end": 0.11584799885749816,
            "count": 1
           },
           {
            "bin_start": 0.11584799885749816,
            "bin_end": 0.11741049811244011,
            "count": 0
           },
           {
            "bin_start": 0.11741049811244011,
            "bin_end": 0.11897299736738205,
            "count": 1
           },
           {
            "bin_start": 0.11897299736738205,
            "bin_end": 0.12053549662232399,
            "count": 0
           },
           {
            "bin_start": 0.12053549662232399,
            "bin_end": 0.12209799587726593,
            "count": 1
           },
           {
            "bin_start": 0.12209799587726593,
            "bin_end": 0.12366049513220786,
            "count": 0
           },
           {
            "bin_start": 0.12366049513220786,
            "bin_end": 0.12522299438714982,
            "count": 0
           },
           {
            "bin_start": 0.12522299438714982,
            "bin_end": 0.12678549364209174,
            "count": 0
           },
           {
            "bin_start": 0.12678549364209174,
            "bin_end": 0.1283479928970337,
            "count": 1
           }
          ]
         }
        },
        {
         "name": "Open",
         "dtype": "float64",
         "stats": {
          "unique_count": 5,
          "nan_count": 0,
          "min": "0.1132809966802597",
          "max": "0.1283479928970337",
          "histogram": [
           {
            "bin_start": 0.1132809966802597,
            "bin_end": 0.11478769630193711,
            "count": 1
           },
           {
            "bin_start": 0.11478769630193711,
            "bin_end": 0.1162943959236145,
            "count": 1
           },
           {
            "bin_start": 0.1162943959236145,
            "bin_end": 0.1178010955452919,
            "count": 0
           },
           {
            "bin_start": 0.1178010955452919,
            "bin_end": 0.1193077951669693,
            "count": 1
           },
           {
            "bin_start": 0.1193077951669693,
            "bin_end": 0.1208144947886467,
            "count": 0
           },
           {
            "bin_start": 0.1208144947886467,
            "bin_end": 0.1223211944103241,
            "count": 1
           },
           {
            "bin_start": 0.1223211944103241,
            "bin_end": 0.12382789403200149,
            "count": 0
           },
           {
            "bin_start": 0.12382789403200149,
            "bin_end": 0.12533459365367888,
            "count": 0
           },
           {
            "bin_start": 0.12533459365367888,
            "bin_end": 0.1268412932753563,
            "count": 0
           },
           {
            "bin_start": 0.1268412932753563,
            "bin_end": 0.1283479928970337,
            "count": 1
           }
          ]
         }
        },
        {
         "name": "Close",
         "dtype": "float64",
         "stats": {
          "unique_count": 5,
          "nan_count": 0,
          "min": "0.11272300034761429",
          "max": "0.1283479928970337",
          "histogram": [
           {
            "bin_start": 0.11272300034761429,
            "bin_end": 0.11428549960255623,
            "count": 1
           },
           {
            "bin_start": 0.11428549960255623,
            "bin_end": 0.11584799885749816,
            "count": 1
           },
           {
            "bin_start": 0.11584799885749816,
            "bin_end": 0.11741049811244011,
            "count": 0
           },
           {
            "bin_start": 0.11741049811244011,
            "bin_end": 0.11897299736738205,
            "count": 1
           },
           {
            "bin_start": 0.11897299736738205,
            "bin_end": 0.12053549662232399,
            "count": 0
           },
           {
            "bin_start": 0.12053549662232399,
            "bin_end": 0.12209799587726593,
            "count": 1
           },
           {
            "bin_start": 0.12209799587726593,
            "bin_end": 0.12366049513220786,
            "count": 0
           },
           {
            "bin_start": 0.12366049513220786,
            "bin_end": 0.12522299438714982,
            "count": 0
           },
           {
            "bin_start": 0.12522299438714982,
            "bin_end": 0.12678549364209174,
            "count": 0
           },
           {
            "bin_start": 0.12678549364209174,
            "bin_end": 0.1283479928970337,
            "count": 1
           }
          ]
         }
        },
        {
         "name": "Volume",
         "dtype": "float64",
         "stats": {
          "unique_count": 5,
          "nan_count": 0,
          "min": "73449600.0",
          "max": "469033600.0",
          "histogram": [
           {
            "bin_start": 73449600,
            "bin_end": 113008000,
            "count": 3
           },
           {
            "bin_start": 113008000,
            "bin_end": 152566400,
            "count": 0
           },
           {
            "bin_start": 152566400,
            "bin_end": 192124800,
            "count": 1
           },
           {
            "bin_start": 192124800,
            "bin_end": 231683200,
            "count": 0
           },
           {
            "bin_start": 231683200,
            "bin_end": 271241600,
            "count": 0
           },
           {
            "bin_start": 271241600,
            "bin_end": 310800000,
            "count": 0
           },
           {
            "bin_start": 310800000,
            "bin_end": 350358400,
            "count": 0
           },
           {
            "bin_start": 350358400,
            "bin_end": 389916800,
            "count": 0
           },
           {
            "bin_start": 389916800,
            "bin_end": 429475200,
            "count": 0
           },
           {
            "bin_start": 429475200,
            "bin_end": 469033600,
            "count": 1
           }
          ]
         }
        },
        {
         "name": "Adj Close",
         "dtype": "float64",
         "stats": {
          "unique_count": 5,
          "nan_count": 0,
          "min": "0.08835308998823166",
          "max": "0.10060006380081177",
          "histogram": [
           {
            "bin_start": 0.08835308998823166,
            "bin_end": 0.08957778736948967,
            "count": 1
           },
           {
            "bin_start": 0.08957778736948967,
            "bin_end": 0.09080248475074768,
            "count": 1
           },
           {
            "bin_start": 0.09080248475074768,
            "bin_end": 0.0920271821320057,
            "count": 0
           },
           {
            "bin_start": 0.0920271821320057,
            "bin_end": 0.0932518795132637,
            "count": 1
           },
           {
            "bin_start": 0.0932518795132637,
            "bin_end": 0.09447657689452171,
            "count": 0
           },
           {
            "bin_start": 0.09447657689452171,
            "bin_end": 0.09570127427577972,
            "count": 1
           },
           {
            "bin_start": 0.09570127427577972,
            "bin_end": 0.09692597165703773,
            "count": 0
           },
           {
            "bin_start": 0.09692597165703773,
            "bin_end": 0.09815066903829575,
            "count": 0
           },
           {
            "bin_start": 0.09815066903829575,
            "bin_end": 0.09937536641955376,
            "count": 0
           },
           {
            "bin_start": 0.09937536641955376,
            "bin_end": 0.10060006380081177,
            "count": 1
           }
          ]
         }
        },
        {
         "name": "_deepnote_index_column",
         "dtype": "datetime64[ns]"
        }
       ],
       "rows_top": [
        {
         "High": 0.1289059966802597,
         "Low": 0.1283479928970337,
         "Open": 0.1283479928970337,
         "Close": 0.1283479928970337,
         "Volume": 469033600,
         "Adj Close": 0.10060006380081177,
         "_deepnote_index_column": "1980-12-12T00:00:00.000000"
        },
        {
         "High": 0.12221000343561172,
         "Low": 0.12165199965238571,
         "Open": 0.12221000343561172,
         "Close": 0.12165199965238571,
         "Volume": 175884800,
         "Adj Close": 0.0953516811132431,
         "_deepnote_index_column": "1980-12-15T00:00:00.000000"
        },
        {
         "High": 0.1132809966802597,
         "Low": 0.11272300034761429,
         "Open": 0.1132809966802597,
         "Close": 0.11272300034761429,
         "Volume": 105728000,
         "Adj Close": 0.08835308998823166,
         "_deepnote_index_column": "1980-12-16T00:00:00.000000"
        },
        {
         "High": 0.11607100069522858,
         "Low": 0.11551299691200256,
         "Open": 0.11551299691200256,
         "Close": 0.11551299691200256,
         "Volume": 86441600,
         "Adj Close": 0.09053992480039597,
         "_deepnote_index_column": "1980-12-17T00:00:00.000000"
        },
        {
         "High": 0.11941999942064285,
         "Low": 0.11886200308799744,
         "Open": 0.11886200308799744,
         "Close": 0.11886200308799744,
         "Volume": 73449600,
         "Adj Close": 0.0931648463010788,
         "_deepnote_index_column": "1980-12-18T00:00:00.000000"
        }
       ],
       "rows_bottom": null
      },
      "text/plain": "                High       Low      Open     Close       Volume  Adj Close\nDate                                                                      \n1980-12-12  0.128906  0.128348  0.128348  0.128348  469033600.0   0.100600\n1980-12-15  0.122210  0.121652  0.122210  0.121652  175884800.0   0.095352\n1980-12-16  0.113281  0.112723  0.113281  0.112723  105728000.0   0.088353\n1980-12-17  0.116071  0.115513  0.115513  0.115513   86441600.0   0.090540\n1980-12-18  0.119420  0.118862  0.118862  0.118862   73449600.0   0.093165",
      "text/html": "<div>\n<style scoped>\n    .dataframe tbody tr th:only-of-type {\n        vertical-align: middle;\n    }\n\n    .dataframe tbody tr th {\n        vertical-align: top;\n    }\n\n    .dataframe thead th {\n        text-align: right;\n    }\n</style>\n<table border=\"1\" class=\"dataframe\">\n  <thead>\n    <tr style=\"text-align: right;\">\n      <th></th>\n      <th>High</th>\n      <th>Low</th>\n      <th>Open</th>\n      <th>Close</th>\n      <th>Volume</th>\n      <th>Adj Close</th>\n    </tr>\n    <tr>\n      <th>Date</th>\n      <th></th>\n      <th></th>\n      <th></th>\n      <th></th>\n      <th></th>\n      <th></th>\n    </tr>\n  </thead>\n  <tbody>\n    <tr>\n      <th>1980-12-12</th>\n      <td>0.128906</td>\n      <td>0.128348</td>\n      <td>0.128348</td>\n      <td>0.128348</td>\n      <td>469033600.0</td>\n      <td>0.100600</td>\n    </tr>\n    <tr>\n      <th>1980-12-15</th>\n      <td>0.122210</td>\n      <td>0.121652</td>\n      <td>0.122210</td>\n      <td>0.121652</td>\n      <td>175884800.0</td>\n      <td>0.095352</td>\n    </tr>\n    <tr>\n      <th>1980-12-16</th>\n      <td>0.113281</td>\n      <td>0.112723</td>\n      <td>0.113281</td>\n      <td>0.112723</td>\n      <td>105728000.0</td>\n      <td>0.088353</td>\n    </tr>\n    <tr>\n      <th>1980-12-17</th>\n      <td>0.116071</td>\n      <td>0.115513</td>\n      <td>0.115513</td>\n      <td>0.115513</td>\n      <td>86441600.0</td>\n      <td>0.090540</td>\n    </tr>\n    <tr>\n      <th>1980-12-18</th>\n      <td>0.119420</td>\n      <td>0.118862</td>\n      <td>0.118862</td>\n      <td>0.118862</td>\n      <td>73449600.0</td>\n      <td>0.093165</td>\n    </tr>\n  </tbody>\n</table>\n</div>"
     },
     "metadata": {}
    }
   ],
   "execution_count": 28
  },
  {
   "cell_type": "code",
   "source": "def moving_avarage_smoothing(X,k):\n    S = np.zeros(X.shape[0])\n    for t in range(X.shape[0]):\n        if t < k:\n            S[t] = np.mean(X[:t+1])\n        else:\n            S[t] = np.sum(X[t-k:t])/k\n    return S",
   "metadata": {
    "tags": [],
    "cell_id": "00006-2321b7d6-189d-40ba-8f91-758f08f5991a",
    "deepnote_to_be_reexecuted": false,
    "source_hash": "f8b498cf",
    "execution_start": 1628566634191,
    "execution_millis": 3,
    "deepnote_cell_type": "code"
   },
   "outputs": [],
   "execution_count": 33
  },
  {
   "cell_type": "code",
   "source": "def exponential_smoothing(X,α):\n    S = np.zeros(X.shape[0])\n    S[0] = X[0]\n    for t in range(1,X.shape[0]):\n        S[t] = α * X[t-1] + (1- α) * S[t-1]\n    return S",
   "metadata": {
    "tags": [],
    "cell_id": "00007-1c574f94-e8ee-40a9-8802-9e573f66f869",
    "deepnote_to_be_reexecuted": false,
    "source_hash": "bb1980bc",
    "execution_start": 1628566660207,
    "execution_millis": 0,
    "deepnote_cell_type": "code"
   },
   "outputs": [],
   "execution_count": 35
  },
  {
   "cell_type": "code",
   "source": "def double_exponential_smoothing(X,α,β):\n    S,A,B = (np.zeros( X.shape[0] ) for i in range(3))\n    S[0] = X[0]\n    for t in range(1,X.shape[0]):\n        A[t] = α * X[t] + (1- α) * S[t-1]\n        B[t] = β * (A[t] - A[t-1]) + (1 - β) * B[t-1]\n        S[t] = A[t] + B[t]\n    return S",
   "metadata": {
    "tags": [],
    "cell_id": "00008-9692bf8e-ff34-4e78-ae8e-49d5e083a155",
    "deepnote_to_be_reexecuted": false,
    "source_hash": "c7b16d1a",
    "execution_start": 1628566691229,
    "execution_millis": 2,
    "deepnote_cell_type": "code"
   },
   "outputs": [],
   "execution_count": 36
  },
  {
   "cell_type": "code",
   "source": "def triple_exponential_smoothing(X,L,α,β,γ,ϕ):\n    \n    def sig_ϕ(ϕ,m):\n        return np.sum(np.array([np.power(ϕ,i) for i in range(m+1)]))\n    \n    \n    C, S, B, F = (np.zeros( X.shape[0] ) for i in range(4))\n    S[0], F[0] = X[0], X[0]\n    B[0] = np.mean( X[L:2*L] - X[:L] ) / L\n    m = 12\n    sig_ϕ = sig_ϕ(ϕ,m)\n    for t in range(1, X.shape[0]):\n        S[t] = α * (X[t] - C[t % L]) + (1 - α) * (S[t-1] + ϕ * B[t-1])\n        B[t] = β * (S[t] - S[t-1]) + (1-β) * ϕ * B[t-1]\n        C[t % L] = γ * (X[t] - S[t]) + (1 - γ) * C[t % L]\n        F[t] = S[t] + sig_ϕ * B[t] + C[t % L]\n    return S",
   "metadata": {
    "tags": [],
    "cell_id": "00009-c19ed279-4bf9-40d1-8330-37f8ca5636dc",
    "deepnote_to_be_reexecuted": false,
    "source_hash": "3c7d38f1",
    "execution_start": 1628566740233,
    "execution_millis": 3,
    "deepnote_cell_type": "code"
   },
   "outputs": [],
   "execution_count": 37
  },
  {
   "cell_type": "code",
   "source": "#smoothing techiniques\ntime_series = np.array(appl['High'])[5400:]\nm_a_s = moving_avarage_smoothing(time_series,12)\ne_s = exponential_smoothing(time_series,0.3)\nd_e_s = double_exponential_smoothing(time_series,0.5,0.1)\nt_e_s = triple_exponential_smoothing(time_series,12,0.1,0.1,0.1,0.5)",
   "metadata": {
    "tags": [],
    "cell_id": "00010-1e494aaf-c153-46c7-85fb-bf7d10edfa52",
    "deepnote_to_be_reexecuted": false,
    "source_hash": "cf35c0df",
    "execution_start": 1628566936792,
    "execution_millis": 32,
    "deepnote_cell_type": "code"
   },
   "outputs": [],
   "execution_count": 38
  },
  {
   "cell_type": "code",
   "source": "# plotting the Data \nfig = plt.figure(figsize=(30,15))\n\nax = fig.add_subplot(1,1,1)\nax = plt.gca()\nax.set_facecolor(\"#fff\")\n\n\nplt.title(\"Apple Inc Dec-12-1980 to Aug-10-2021\")\nplt.xlabel(\">----Time---->\")\nplt.ylabel(\">-----Share Price---->\")\n\n\nplt.plot(time_series,linewidth = 2, label='Actual Data',color='#ddf')\nplt.plot(e_s,linewidth = 1, label='exponential_smoothing',color='#88CCEE')\nplt.plot(m_a_s,linewidth = 1, label='Moving average',color='#44AA99')\nplt.plot(d_e_s,linewidth=1,label=\"double_exponential_smoothing\",color=\"#117733\")\nplt.plot(t_e_s,linewidth=1,label=\"triple_exponential_smoothing\",color=\"red\")\n\n\nplt.legend(fontsize=9)\nplt.show()",
   "metadata": {
    "tags": [],
    "cell_id": "00011-bda89abe-9928-4fda-9c2e-fc8002df3ab9",
    "deepnote_to_be_reexecuted": false,
    "source_hash": "456e146d",
    "execution_start": 1628567453407,
    "execution_millis": 455,
    "deepnote_cell_type": "code"
   },
   "outputs": [
    {
     "data": {
      "text/plain": "<Figure size 2160x1080 with 1 Axes>",
      "image/png": "[encoded data removed]"
     },
     "metadata": {
      "needs_background": "light",
      "image/png": {
       "width": 1728,
       "height": 876
      }
     },
     "output_type": "display_data"
    }
   ],
   "execution_count": 45
  },
  {
   "cell_type": "code",
   "source": "",
   "metadata": {
    "tags": [],
    "cell_id": "00012-3a755370-8429-4ca9-a1dd-44286c73cd86",
    "deepnote_cell_type": "code"
   },
   "outputs": [],
   "execution_count": null
  },
  {
   "cell_type": "markdown",
   "source": "<a style='text-decoration:none;line-height:16px;display:flex;color:#5B5B62;padding:10px;justify-content:end;' href='https://deepnote.com?utm_source=created-in-deepnote-cell&projectId=f5f90ba1-3290-463e-8fc6-44108f4fa21b' target=\"_blank\">\n<img alt='Created in deepnote.com' style='display:inline;max-height:16px;margin:0px;margin-right:7.5px;' src='data:image/svg+xml;base64,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' > </img>\nCreated in <span style='font-weight:600;margin-left:4px;'>Deepnote</span></a>",
   "metadata": {
    "tags": [],
    "created_in_deepnote_cell": true,
    "deepnote_cell_type": "markdown"
   }
  }
 ],
 "nbformat": 4,
 "nbformat_minor": 2,
 "metadata": {
  "orig_nbformat": 2,
  "deepnote": {
   "is_reactive": false
  },
  "deepnote_notebook_id": "67509eb3-5ea1-4b14-9a90-d25ce5e9ef38",
  "deepnote_execution_queue": []
 }
}