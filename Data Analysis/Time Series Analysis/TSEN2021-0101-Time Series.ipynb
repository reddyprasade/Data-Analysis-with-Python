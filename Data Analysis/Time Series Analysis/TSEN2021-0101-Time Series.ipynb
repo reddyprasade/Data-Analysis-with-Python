{
 "cells": [
  {
   "cell_type": "markdown",
   "source": "# Time Series: ",
   "metadata": {
    "tags": [],
    "cell_id": "00000-e913b8ab-861c-45e8-992c-4bd24f97dc7b",
    "deepnote_cell_type": "markdown"
   }
  },
  {
   "cell_type": "markdown",
   "source": "* An ordered sequence of values of a variable at equally spaced in between the time intervals is Calleds Time Series.\n* **Applications:** The usage of time series models is twofold:\n    * Obtain an understanding of the underlying forces and structure that produced the observed data \n    * Fit a model and proceed to forecasting, monitoring or even feedback and feedforward control.\n* Time Series Analysis is used for many applications such as:\n    * Economic Forecasting\n    * Sales Forecasting\n    * Budgetary Analysis\n    * Stock Market Analysis\n    * Yield Projections\n    * Process and Quality Control\n    * Inventory Studies\n    * Workload Projections\n    * Utility Studies\n    * Census Analysis",
   "metadata": {
    "tags": [],
    "cell_id": "00001-30f32bcf-af36-4fd8-9592-b866455d0efe",
    "deepnote_cell_type": "markdown"
   }
  },
  {
   "cell_type": "code",
   "metadata": {
    "tags": [],
    "cell_id": "00003-f8c13563-1113-4e1e-85c0-06ac95ea9ef6",
    "deepnote_to_be_reexecuted": false,
    "source_hash": "35374e32",
    "execution_start": 1627266412692,
    "execution_millis": 1887,
    "deepnote_cell_type": "code"
   },
   "source": "import numpy as np\nimport pandas as pd\nimport matplotlib.pyplot as plt",
   "execution_count": null,
   "outputs": []
  },
  {
   "cell_type": "code",
   "metadata": {
    "tags": [],
    "cell_id": "00010-cfc84fcc-96ab-4540-ba10-90c6026b5a75",
    "deepnote_to_be_reexecuted": false,
    "source_hash": "1c4e2e56",
    "execution_start": 1627266414589,
    "execution_millis": 223,
    "deepnote_cell_type": "code"
   },
   "source": "Data = pd.read_csv(\"Data/GOOG.csv\") # we Take From 2016 to 2021 5 years of Data\nData.head()",
   "execution_count": null,
   "outputs": [
    {
     "output_type": "execute_result",
     "execution_count": 2,
     "data": {
      "application/vnd.deepnote.dataframe.v2+json": {
       "row_count": 5,
       "column_count": 7,
       "columns": [
        {
         "name": "Date",
         "dtype": "object",
         "stats": {
          "unique_count": 5,
          "nan_count": 0,
          "categories": [
           {
            "name": "2016-07-25",
            "count": 1
           },
           {
            "name": "2016-07-26",
            "count": 1
           },
           {
            "name": "3 others",
            "count": 3
           }
          ]
         }
        },
        {
         "name": "Open",
         "dtype": "float64",
         "stats": {
          "unique_count": 5,
          "nan_count": 0,
          "min": "738.280029",
          "max": "772.710022",
          "histogram": [
           {
            "bin_start": 738.280029,
            "bin_end": 741.7230283,
            "count": 3
           },
           {
            "bin_start": 741.7230283,
            "bin_end": 745.1660276,
            "count": 0
           },
           {
            "bin_start": 745.1660276,
            "bin_end": 748.6090269,
            "count": 1
           },
           {
            "bin_start": 748.6090269,
            "bin_end": 752.0520262,
            "count": 0
           },
           {
            "bin_start": 752.0520262,
            "bin_end": 755.4950255,
            "count": 0
           },
           {
            "bin_start": 755.4950255,
            "bin_end": 758.9380248,
            "count": 0
           },
           {
            "bin_start": 758.9380248,
            "bin_end": 762.3810241,
            "count": 0
           },
           {
            "bin_start": 762.3810241,
            "bin_end": 765.8240234,
            "count": 0
           },
           {
            "bin_start": 765.8240234,
            "bin_end": 769.2670227,
            "count": 0
           },
           {
            "bin_start": 769.2670227,
            "bin_end": 772.710022,
            "count": 1
           }
          ]
         }
        },
        {
         "name": "High",
         "dtype": "float64",
         "stats": {
          "unique_count": 5,
          "nan_count": 0,
          "min": "741.690002",
          "max": "778.549988",
          "histogram": [
           {
            "bin_start": 741.690002,
            "bin_end": 745.3760006,
            "count": 3
           },
           {
            "bin_start": 745.3760006,
            "bin_end": 749.0619992000001,
            "count": 1
           },
           {
            "bin_start": 749.0619992000001,
            "bin_end": 752.7479978,
            "count": 0
           },
           {
            "bin_start": 752.7479978,
            "bin_end": 756.4339964000001,
            "count": 0
           },
           {
            "bin_start": 756.4339964000001,
            "bin_end": 760.119995,
            "count": 0
           },
           {
            "bin_start": 760.119995,
            "bin_end": 763.8059936,
            "count": 0
           },
           {
            "bin_start": 763.8059936,
            "bin_end": 767.4919922,
            "count": 0
           },
           {
            "bin_start": 767.4919922,
            "bin_end": 771.1779908,
            "count": 0
           },
           {
            "bin_start": 771.1779908,
            "bin_end": 774.8639894,
            "count": 0
           },
           {
            "bin_start": 774.8639894,
            "bin_end": 778.549988,
            "count": 1
           }
          ]
         }
        },
        {
         "name": "Low",
         "dtype": "float64",
         "stats": {
          "unique_count": 5,
          "nan_count": 0,
          "min": "734.27002",
          "max": "766.77002",
          "histogram": [
           {
            "bin_start": 734.27002,
            "bin_end": 737.52002,
            "count": 3
           },
           {
            "bin_start": 737.52002,
            "bin_end": 740.77002,
            "count": 1
           },
           {
            "bin_start": 740.77002,
            "bin_end": 744.02002,
            "count": 0
           },
           {
            "bin_start": 744.02002,
            "bin_end": 747.27002,
            "count": 0
           },
           {
            "bin_start": 747.27002,
            "bin_end": 750.52002,
            "count": 0
           },
           {
            "bin_start": 750.52002,
            "bin_end": 753.77002,
            "count": 0
           },
           {
            "bin_start": 753.77002,
            "bin_end": 757.02002,
            "count": 0
           },
           {
            "bin_start": 757.02002,
            "bin_end": 760.27002,
            "count": 0
           },
           {
            "bin_start": 760.27002,
            "bin_end": 763.52002,
            "count": 0
           },
           {
            "bin_start": 763.52002,
            "bin_end": 766.77002,
            "count": 1
           }
          ]
         }
        },
        {
         "name": "Close",
         "dtype": "float64",
         "stats": {
          "unique_count": 5,
          "nan_count": 0,
          "min": "738.419983",
          "max": "768.789978",
          "histogram": [
           {
            "bin_start": 738.419983,
            "bin_end": 741.4569825,
            "count": 2
           },
           {
            "bin_start": 741.4569825,
            "bin_end": 744.493982,
            "count": 1
           },
           {
            "bin_start": 744.493982,
            "bin_end": 747.5309815,
            "count": 1
           },
           {
            "bin_start": 747.5309815,
            "bin_end": 750.567981,
            "count": 0
           },
           {
            "bin_start": 750.567981,
            "bin_end": 753.6049805,
            "count": 0
           },
           {
            "bin_start": 753.6049805,
            "bin_end": 756.64198,
            "count": 0
           },
           {
            "bin_start": 756.64198,
            "bin_end": 759.6789795,
            "count": 0
           },
           {
            "bin_start": 759.6789795,
            "bin_end": 762.7159790000001,
            "count": 0
           },
           {
            "bin_start": 762.7159790000001,
            "bin_end": 765.7529785,
            "count": 0
           },
           {
            "bin_start": 765.7529785,
            "bin_end": 768.789978,
            "count": 1
           }
          ]
         }
        },
        {
         "name": "Adj Close",
         "dtype": "float64",
         "stats": {
          "unique_count": 5,
          "nan_count": 0,
          "min": "738.419983",
          "max": "768.789978",
          "histogram": [
           {
            "bin_start": 738.419983,
            "bin_end": 741.4569825,
            "count": 2
           },
           {
            "bin_start": 741.4569825,
            "bin_end": 744.493982,
            "count": 1
           },
           {
            "bin_start": 744.493982,
            "bin_end": 747.5309815,
            "count": 1
           },
           {
            "bin_start": 747.5309815,
            "bin_end": 750.567981,
            "count": 0
           },
           {
            "bin_start": 750.567981,
            "bin_end": 753.6049805,
            "count": 0
           },
           {
            "bin_start": 753.6049805,
            "bin_end": 756.64198,
            "count": 0
           },
           {
            "bin_start": 756.64198,
            "bin_end": 759.6789795,
            "count": 0
           },
           {
            "bin_start": 759.6789795,
            "bin_end": 762.7159790000001,
            "count": 0
           },
           {
            "bin_start": 762.7159790000001,
            "bin_end": 765.7529785,
            "count": 0
           },
           {
            "bin_start": 765.7529785,
            "bin_end": 768.789978,
            "count": 1
           }
          ]
         }
        },
        {
         "name": "Volume",
         "dtype": "int64",
         "stats": {
          "unique_count": 5,
          "nan_count": 0,
          "min": "1032400",
          "max": "3841500",
          "histogram": [
           {
            "bin_start": 1032400,
            "bin_end": 1313310,
            "count": 2
           },
           {
            "bin_start": 1313310,
            "bin_end": 1594220,
            "count": 1
           },
           {
            "bin_start": 1594220,
            "bin_end": 1875130,
            "count": 0
           },
           {
            "bin_start": 1875130,
            "bin_end": 2156040,
            "count": 0
           },
           {
            "bin_start": 2156040,
            "bin_end": 2436950,
            "count": 0
           },
           {
            "bin_start": 2436950,
            "bin_end": 2717860,
            "count": 0
           },
           {
            "bin_start": 2717860,
            "bin_end": 2998770,
            "count": 0
           },
           {
            "bin_start": 2998770,
            "bin_end": 3279680,
            "count": 0
           },
           {
            "bin_start": 3279680,
            "bin_end": 3560590,
            "count": 1
           },
           {
            "bin_start": 3560590,
            "bin_end": 3841500,
            "count": 1
           }
          ]
         }
        },
        {
         "name": "_deepnote_index_column",
         "dtype": "int64"
        }
       ],
       "rows_top": [
        {
         "Date": "2016-07-25",
         "Open": 740.669983,
         "High": 742.609985,
         "Low": 737.5,
         "Close": 739.77002,
         "Adj Close": 739.77002,
         "Volume": 1032400,
         "_deepnote_index_column": 0
        },
        {
         "Date": "2016-07-26",
         "Open": 739.039978,
         "High": 741.690002,
         "Low": 734.27002,
         "Close": 738.419983,
         "Adj Close": 738.419983,
         "Volume": 1186700,
         "_deepnote_index_column": 1
        },
        {
         "Date": "2016-07-27",
         "Open": 738.280029,
         "High": 744.460022,
         "Low": 737,
         "Close": 741.77002,
         "Adj Close": 741.77002,
         "Volume": 1512500,
         "_deepnote_index_column": 2
        },
        {
         "Date": "2016-07-28",
         "Open": 747.039978,
         "High": 748.650024,
         "Low": 739.299988,
         "Close": 745.909973,
         "Adj Close": 745.909973,
         "Volume": 3530200,
         "_deepnote_index_column": 3
        },
        {
         "Date": "2016-07-29",
         "Open": 772.710022,
         "High": 778.549988,
         "Low": 766.77002,
         "Close": 768.789978,
         "Adj Close": 768.789978,
         "Volume": 3841500,
         "_deepnote_index_column": 4
        }
       ],
       "rows_bottom": null
      },
      "text/plain": "         Date        Open        High         Low       Close   Adj Close  \\\n0  2016-07-25  740.669983  742.609985  737.500000  739.770020  739.770020   \n1  2016-07-26  739.039978  741.690002  734.270020  738.419983  738.419983   \n2  2016-07-27  738.280029  744.460022  737.000000  741.770020  741.770020   \n3  2016-07-28  747.039978  748.650024  739.299988  745.909973  745.909973   \n4  2016-07-29  772.710022  778.549988  766.770020  768.789978  768.789978   \n\n    Volume  \n0  1032400  \n1  1186700  \n2  1512500  \n3  3530200  \n4  3841500  ",
      "text/html": "<div>\n<style scoped>\n    .dataframe tbody tr th:only-of-type {\n        vertical-align: middle;\n    }\n\n    .dataframe tbody tr th {\n        vertical-align: top;\n    }\n\n    .dataframe thead th {\n        text-align: right;\n    }\n</style>\n<table border=\"1\" class=\"dataframe\">\n  <thead>\n    <tr style=\"text-align: right;\">\n      <th></th>\n      <th>Date</th>\n      <th>Open</th>\n      <th>High</th>\n      <th>Low</th>\n      <th>Close</th>\n      <th>Adj Close</th>\n      <th>Volume</th>\n    </tr>\n  </thead>\n  <tbody>\n    <tr>\n      <th>0</th>\n      <td>2016-07-25</td>\n      <td>740.669983</td>\n      <td>742.609985</td>\n      <td>737.500000</td>\n      <td>739.770020</td>\n      <td>739.770020</td>\n      <td>1032400</td>\n    </tr>\n    <tr>\n      <th>1</th>\n      <td>2016-07-26</td>\n      <td>739.039978</td>\n      <td>741.690002</td>\n      <td>734.270020</td>\n      <td>738.419983</td>\n      <td>738.419983</td>\n      <td>1186700</td>\n    </tr>\n    <tr>\n      <th>2</th>\n      <td>2016-07-27</td>\n      <td>738.280029</td>\n      <td>744.460022</td>\n      <td>737.000000</td>\n      <td>741.770020</td>\n      <td>741.770020</td>\n      <td>1512500</td>\n    </tr>\n    <tr>\n      <th>3</th>\n      <td>2016-07-28</td>\n      <td>747.039978</td>\n      <td>748.650024</td>\n      <td>739.299988</td>\n      <td>745.909973</td>\n      <td>745.909973</td>\n      <td>3530200</td>\n    </tr>\n    <tr>\n      <th>4</th>\n      <td>2016-07-29</td>\n      <td>772.710022</td>\n      <td>778.549988</td>\n      <td>766.770020</td>\n      <td>768.789978</td>\n      <td>768.789978</td>\n      <td>3841500</td>\n    </tr>\n  </tbody>\n</table>\n</div>"
     },
     "metadata": {}
    }
   ]
  },
  {
   "cell_type": "markdown",
   "source": "Pandas was developed in the context of financial modeling, so as you might expect, it contains a fairly extensive set of tools for working with dates, times, and time-indexed data. Date and time data comes in a few flavors, which we will discuss here",
   "metadata": {
    "tags": [],
    "cell_id": "00004-ff0fb50c-ec60-4999-af87-7e500d6bea19",
    "deepnote_cell_type": "markdown"
   }
  },
  {
   "cell_type": "markdown",
   "source": "<ul>\n    <li><b>Time stamps:</b> At particular moments in time What happend (Agu 15 1947 at 7:30 AM)</li>\n    <li><b>Time intervals:</b>Time intervals and periods reference a length of time between a particular beginning and end point (In the year of 1947 What happend Hear we will get 24 Hr)</li>\n    <li><b>Time deltas :</b>Time deltas or durations reference an exact length of time (e.g., a duration of 22.56 seconds)</li>\n</ul>",
   "metadata": {
    "tags": [],
    "cell_id": "00005-8d276681-f441-49c9-81ce-c3a21b6daef7",
    "deepnote_cell_type": "markdown"
   }
  },
  {
   "cell_type": "markdown",
   "source": "### Python",
   "metadata": {
    "tags": [],
    "is_collapsed": false,
    "cell_id": "00006-cf2d5dd4-3e8b-44a1-aa9b-3e94456b5d0a",
    "deepnote_cell_type": "text-cell-h3"
   }
  },
  {
   "cell_type": "code",
   "metadata": {
    "tags": [],
    "cell_id": "00002-778e9ef9-65b4-4969-a21d-e290162f3c4f",
    "deepnote_to_be_reexecuted": false,
    "source_hash": "8f01c635",
    "execution_start": 1627266414807,
    "execution_millis": 0,
    "deepnote_cell_type": "code"
   },
   "source": "from datetime import datetime",
   "execution_count": null,
   "outputs": []
  },
  {
   "cell_type": "code",
   "metadata": {
    "tags": [],
    "cell_id": "00008-b51e4a22-feb2-43db-b2f4-4b89306e8a41",
    "deepnote_to_be_reexecuted": false,
    "source_hash": "6d9ee144",
    "execution_start": 1627266414808,
    "execution_millis": 68,
    "deepnote_cell_type": "code"
   },
   "source": "datetime(year=2021,month=7,day=4)",
   "execution_count": null,
   "outputs": [
    {
     "output_type": "execute_result",
     "execution_count": 4,
     "data": {
      "text/plain": "datetime.datetime(2021, 7, 4, 0, 0)"
     },
     "metadata": {}
    }
   ]
  },
  {
   "cell_type": "code",
   "metadata": {
    "tags": [],
    "cell_id": "00009-c2c2c2bb-7e8f-42ea-a5c4-0d241ec04782",
    "deepnote_to_be_reexecuted": false,
    "source_hash": "41aad4c",
    "execution_start": 1627266414870,
    "execution_millis": 1,
    "deepnote_cell_type": "code"
   },
   "source": "from dateutil import parser",
   "execution_count": null,
   "outputs": []
  },
  {
   "cell_type": "code",
   "metadata": {
    "tags": [],
    "cell_id": "00010-04c01c78-31c8-4e06-9901-0d00e100017a",
    "deepnote_to_be_reexecuted": false,
    "source_hash": "7a4ee6cb",
    "execution_start": 1627266414871,
    "execution_millis": 0,
    "deepnote_cell_type": "code"
   },
   "source": "date = parser.parse(\"15th of July,1947\")\ndate",
   "execution_count": null,
   "outputs": [
    {
     "output_type": "execute_result",
     "execution_count": 6,
     "data": {
      "text/plain": "datetime.datetime(1947, 7, 15, 0, 0)"
     },
     "metadata": {}
    }
   ]
  },
  {
   "cell_type": "code",
   "metadata": {
    "tags": [],
    "cell_id": "00011-daf5177e-78b9-4a06-a197-11134e723290",
    "deepnote_to_be_reexecuted": false,
    "source_hash": "24d2ad4b",
    "execution_start": 1627266414915,
    "execution_millis": 1,
    "deepnote_cell_type": "code"
   },
   "source": "date.strftime('%a')",
   "execution_count": null,
   "outputs": []
  },
  {
   "cell_type": "code",
   "metadata": {
    "tags": [],
    "cell_id": "00012-a512748f-c19d-452b-8ee7-9271864cf679",
    "deepnote_to_be_reexecuted": false,
    "source_hash": "812ed57a",
    "execution_start": 1627266414920,
    "execution_millis": 3,
    "deepnote_cell_type": "code"
   },
   "source": "date.strftime('%A')",
   "execution_count": null,
   "outputs": [
    {
     "output_type": "execute_result",
     "execution_count": 8,
     "data": {
      "text/plain": "'Tuesday'"
     },
     "metadata": {}
    }
   ]
  },
  {
   "cell_type": "code",
   "metadata": {
    "tags": [],
    "cell_id": "00013-ba38fc05-da47-41d3-b128-a0bd184b86a0",
    "deepnote_to_be_reexecuted": false,
    "source_hash": "4e077040",
    "execution_start": 1627266414990,
    "execution_millis": 256649769,
    "deepnote_cell_type": "code"
   },
   "source": "date.strftime('%W')",
   "execution_count": null,
   "outputs": [
    {
     "output_type": "execute_result",
     "execution_count": 9,
     "data": {
      "text/plain": "'28'"
     },
     "metadata": {}
    }
   ]
  },
  {
   "cell_type": "code",
   "metadata": {
    "tags": [],
    "cell_id": "00014-0efa4d82-78b3-49e7-8437-f024e8a0c4fe",
    "deepnote_to_be_reexecuted": false,
    "source_hash": "edf68d7f",
    "execution_start": 1627266414991,
    "execution_millis": 256630365,
    "deepnote_cell_type": "code"
   },
   "source": "date.strftime('%w')",
   "execution_count": null,
   "outputs": [
    {
     "output_type": "execute_result",
     "execution_count": 10,
     "data": {
      "text/plain": "'2'"
     },
     "metadata": {}
    }
   ]
  },
  {
   "cell_type": "markdown",
   "source": "## Datetime in Numpy",
   "metadata": {
    "tags": [],
    "cell_id": "00015-0986e37e-5200-48a0-ad6f-a00ef288a0e5",
    "deepnote_cell_type": "markdown"
   }
  },
  {
   "cell_type": "code",
   "metadata": {
    "tags": [],
    "cell_id": "00014-6ad3c050-b909-4a6c-8fe6-e2381894eb43",
    "deepnote_to_be_reexecuted": false,
    "source_hash": "b2a8d848",
    "execution_start": 1627266415035,
    "execution_millis": 256516162,
    "deepnote_cell_type": "code"
   },
   "source": "date = np.array(\"2021-07-23\",dtype=np.datetime64)\ndate",
   "execution_count": null,
   "outputs": [
    {
     "output_type": "execute_result",
     "execution_count": 11,
     "data": {
      "text/plain": "array('2021-07-23', dtype='datetime64[D]')"
     },
     "metadata": {}
    }
   ]
  },
  {
   "cell_type": "code",
   "metadata": {
    "tags": [],
    "cell_id": "00017-d3211c95-d9ea-4907-b11a-1c4f82557909",
    "deepnote_to_be_reexecuted": false,
    "source_hash": "70248c0c",
    "execution_start": 1627266415064,
    "execution_millis": 256487657,
    "deepnote_cell_type": "code"
   },
   "source": "date+np.arange(25)",
   "execution_count": null,
   "outputs": [
    {
     "output_type": "execute_result",
     "execution_count": 12,
     "data": {
      "text/plain": "array(['2021-07-23', '2021-07-24', '2021-07-25', '2021-07-26',\n       '2021-07-27', '2021-07-28', '2021-07-29', '2021-07-30',\n       '2021-07-31', '2021-08-01', '2021-08-02', '2021-08-03',\n       '2021-08-04', '2021-08-05', '2021-08-06', '2021-08-07',\n       '2021-08-08', '2021-08-09', '2021-08-10', '2021-08-11',\n       '2021-08-12', '2021-08-13', '2021-08-14', '2021-08-15',\n       '2021-08-16'], dtype='datetime64[D]')"
     },
     "metadata": {}
    }
   ]
  },
  {
   "cell_type": "code",
   "metadata": {
    "tags": [],
    "cell_id": "00018-9c14b65f-7803-451b-83bf-3ef577681a4d",
    "deepnote_to_be_reexecuted": false,
    "source_hash": "9cc709ad",
    "execution_start": 1627266415122,
    "execution_millis": 256449276,
    "deepnote_cell_type": "code"
   },
   "source": "np.datetime64('2015-07-04')",
   "execution_count": null,
   "outputs": [
    {
     "output_type": "execute_result",
     "execution_count": 13,
     "data": {
      "text/plain": "numpy.datetime64('2015-07-04')"
     },
     "metadata": {}
    }
   ]
  },
  {
   "cell_type": "code",
   "metadata": {
    "tags": [],
    "cell_id": "00019-97d852a5-5f07-4d06-939f-bc9ab2af4f48",
    "deepnote_to_be_reexecuted": false,
    "source_hash": "205c7947",
    "execution_start": 1627266415122,
    "execution_millis": 256432228,
    "deepnote_cell_type": "code"
   },
   "source": "np.datetime64('2015-07-04 12:00')",
   "execution_count": null,
   "outputs": [
    {
     "output_type": "execute_result",
     "execution_count": 14,
     "data": {
      "text/plain": "numpy.datetime64('2015-07-04T12:00')"
     },
     "metadata": {}
    }
   ]
  },
  {
   "cell_type": "code",
   "metadata": {
    "tags": [],
    "cell_id": "00020-56daabbf-2adf-455e-8b25-e31bd24d7b4e",
    "deepnote_to_be_reexecuted": false,
    "source_hash": "79c92618",
    "execution_start": 1627266415151,
    "execution_millis": 256404322,
    "deepnote_cell_type": "code"
   },
   "source": "np.datetime64('2015-07-04 12:59:59.50', 'ns')",
   "execution_count": null,
   "outputs": [
    {
     "output_type": "execute_result",
     "execution_count": 15,
     "data": {
      "text/plain": "numpy.datetime64('2015-07-04T12:59:59.500000000')"
     },
     "metadata": {}
    }
   ]
  },
  {
   "cell_type": "markdown",
   "source": "|Code    | Meaning     | Time span (relative) | Time span (absolute)   |\n|--------|-------------|----------------------|------------------------|\n| ``Y``  | Year\t       | ± 9.2e18 years       | [9.2e18 BC, 9.2e18 AD] |\n| ``M``  | Month       | ± 7.6e17 years       | [7.6e17 BC, 7.6e17 AD] |\n| ``W``  | Week\t       | ± 1.7e17 years       | [1.7e17 BC, 1.7e17 AD] |\n| ``D``  | Day         | ± 2.5e16 years       | [2.5e16 BC, 2.5e16 AD] |\n| ``h``  | Hour        | ± 1.0e15 years       | [1.0e15 BC, 1.0e15 AD] |\n| ``m``  | Minute      | ± 1.7e13 years       | [1.7e13 BC, 1.7e13 AD] |\n| ``s``  | Second      | ± 2.9e12 years       | [ 2.9e9 BC, 2.9e9 AD]  |\n| ``ms`` | Millisecond | ± 2.9e9 years        | [ 2.9e6 BC, 2.9e6 AD]  |\n| ``us`` | Microsecond | ± 2.9e6 years        | [290301 BC, 294241 AD] |\n| ``ns`` | Nanosecond  | ± 292 years          | [ 1678 AD, 2262 AD]    |\n| ``ps`` | Picosecond  | ± 106 days           | [ 1969 AD, 1970 AD]    |\n| ``fs`` | Femtosecond | ± 2.6 hours          | [ 1969 AD, 1970 AD]    |\n| ``as`` | Attosecond  | ± 9.2 seconds        | [ 1969 AD, 1970 AD]    |",
   "metadata": {
    "tags": [],
    "cell_id": "00021-17efa8dc-b945-482b-ad7f-ab61e4835e63",
    "deepnote_cell_type": "markdown"
   }
  },
  {
   "cell_type": "code",
   "metadata": {
    "tags": [],
    "cell_id": "00021-3f4c4aff-abfe-4492-8209-3763ab06d340",
    "deepnote_to_be_reexecuted": false,
    "source_hash": "9b82ee11",
    "execution_start": 1627266986203,
    "execution_millis": 2,
    "deepnote_cell_type": "code"
   },
   "source": "import pandas as pd",
   "execution_count": null,
   "outputs": []
  },
  {
   "cell_type": "code",
   "metadata": {
    "tags": [],
    "cell_id": "00021-bab6d66a-1c10-49b2-a459-ee56672ecffa",
    "deepnote_to_be_reexecuted": false,
    "source_hash": "a0491167",
    "execution_start": 1627267120629,
    "execution_millis": 3,
    "deepnote_cell_type": "code"
   },
   "source": "date = pd.to_datetime(\"4th of July, 2021\")",
   "execution_count": null,
   "outputs": []
  },
  {
   "cell_type": "code",
   "metadata": {
    "tags": [],
    "cell_id": "00024-34a042bd-566d-42e4-b968-b3e2790dc8a6",
    "deepnote_to_be_reexecuted": false,
    "source_hash": "ca43769e",
    "execution_start": 1627267122680,
    "execution_millis": 11,
    "deepnote_cell_type": "code"
   },
   "source": "date",
   "execution_count": null,
   "outputs": [
    {
     "output_type": "execute_result",
     "execution_count": 18,
     "data": {
      "text/plain": "Timestamp('2021-07-04 00:00:00')"
     },
     "metadata": {}
    }
   ]
  },
  {
   "cell_type": "code",
   "metadata": {
    "tags": [],
    "cell_id": "00025-ea668701-aee1-447f-8edf-cd83c0e7325a",
    "deepnote_to_be_reexecuted": false,
    "source_hash": "19e09d07",
    "execution_start": 1627267142192,
    "execution_millis": 22,
    "deepnote_cell_type": "code"
   },
   "source": "date.strftime(\"%a\") # We will Get the Stort from the data",
   "execution_count": null,
   "outputs": [
    {
     "output_type": "execute_result",
     "execution_count": 19,
     "data": {
      "text/plain": "'Sun'"
     },
     "metadata": {}
    }
   ]
  },
  {
   "cell_type": "code",
   "metadata": {
    "tags": [],
    "cell_id": "00026-30ddaf49-c834-42d8-977b-ded7804d9f44",
    "deepnote_to_be_reexecuted": false,
    "source_hash": "17c13f6a",
    "execution_start": 1627267184601,
    "execution_millis": 10,
    "deepnote_cell_type": "code"
   },
   "source": "date.strftime(\"%A\") # Long time of the data",
   "execution_count": null,
   "outputs": [
    {
     "output_type": "execute_result",
     "execution_count": 21,
     "data": {
      "text/plain": "'Sunday'"
     },
     "metadata": {}
    }
   ]
  },
  {
   "cell_type": "code",
   "metadata": {
    "tags": [],
    "cell_id": "00027-939ffa8e-67d5-43c0-8ded-1709f04f2b50",
    "deepnote_to_be_reexecuted": false,
    "source_hash": "c4395065",
    "execution_start": 1627267191738,
    "execution_millis": 21,
    "deepnote_cell_type": "code"
   },
   "source": "date.strftime(\"%d\") # which Day it is ",
   "execution_count": null,
   "outputs": [
    {
     "output_type": "execute_result",
     "execution_count": 22,
     "data": {
      "text/plain": "'04'"
     },
     "metadata": {}
    }
   ]
  },
  {
   "cell_type": "code",
   "metadata": {
    "tags": [],
    "cell_id": "00028-4470f23a-5fc8-4e96-94f8-12426e30b6d4",
    "deepnote_to_be_reexecuted": false,
    "source_hash": "c1de3a",
    "execution_start": 1627267216235,
    "execution_millis": 9,
    "deepnote_cell_type": "code"
   },
   "source": "date.strftime(\"%D\") # Complite Date",
   "execution_count": null,
   "outputs": [
    {
     "output_type": "execute_result",
     "execution_count": 23,
     "data": {
      "text/plain": "'07/04/21'"
     },
     "metadata": {}
    }
   ]
  },
  {
   "cell_type": "code",
   "metadata": {
    "tags": [],
    "cell_id": "00029-8ba288c6-5928-4f84-95cf-542eb18cc738",
    "deepnote_to_be_reexecuted": false,
    "source_hash": "34b8c9e6",
    "execution_start": 1627267269568,
    "execution_millis": 8,
    "deepnote_cell_type": "code"
   },
   "source": "date + pd.to_timedelta(np.arange(25),'D')",
   "execution_count": null,
   "outputs": [
    {
     "output_type": "execute_result",
     "execution_count": 24,
     "data": {
      "text/plain": "DatetimeIndex(['2021-07-04', '2021-07-05', '2021-07-06', '2021-07-07',\n               '2021-07-08', '2021-07-09', '2021-07-10', '2021-07-11',\n               '2021-07-12', '2021-07-13', '2021-07-14', '2021-07-15',\n               '2021-07-16', '2021-07-17', '2021-07-18', '2021-07-19',\n               '2021-07-20', '2021-07-21', '2021-07-22', '2021-07-23',\n               '2021-07-24', '2021-07-25', '2021-07-26', '2021-07-27',\n               '2021-07-28'],\n              dtype='datetime64[ns]', freq=None)"
     },
     "metadata": {}
    }
   ]
  },
  {
   "cell_type": "code",
   "metadata": {
    "tags": [],
    "cell_id": "00030-4e849abc-4a80-42a3-bd90-06f841b1e56f",
    "deepnote_to_be_reexecuted": false,
    "source_hash": "e9992bbf",
    "execution_start": 1627267370958,
    "execution_millis": 8,
    "deepnote_cell_type": "code"
   },
   "source": "index = pd.DatetimeIndex(['2014-07-04', '2014-08-04',\n                          '2015-07-04', '2015-08-04'])\n\ndata = pd.Series([0,1,2,3],index=index)\ndata",
   "execution_count": null,
   "outputs": [
    {
     "output_type": "execute_result",
     "execution_count": 25,
     "data": {
      "text/plain": "2014-07-04    0\n2014-08-04    1\n2015-07-04    2\n2015-08-04    3\ndtype: int64"
     },
     "metadata": {}
    }
   ]
  },
  {
   "cell_type": "code",
   "metadata": {
    "tags": [],
    "cell_id": "00031-26e822bb-0230-48c1-a450-23a678b1dfa9",
    "deepnote_to_be_reexecuted": false,
    "source_hash": "cf78f696",
    "execution_start": 1627267411334,
    "execution_millis": 5,
    "deepnote_cell_type": "code"
   },
   "source": "data['2014-07-04':'2015-07-04']",
   "execution_count": null,
   "outputs": [
    {
     "output_type": "execute_result",
     "execution_count": 26,
     "data": {
      "text/plain": "2014-07-04    0\n2014-08-04    1\n2015-07-04    2\ndtype: int64"
     },
     "metadata": {}
    }
   ]
  },
  {
   "cell_type": "code",
   "metadata": {
    "tags": [],
    "cell_id": "00032-54cadc68-aba3-44b0-b48f-5a76cf9ee54d",
    "deepnote_to_be_reexecuted": false,
    "source_hash": "b9536bcd",
    "execution_start": 1627267432826,
    "execution_millis": 5,
    "deepnote_cell_type": "code"
   },
   "source": "data['2015']",
   "execution_count": null,
   "outputs": [
    {
     "output_type": "execute_result",
     "execution_count": 28,
     "data": {
      "text/plain": "2015-07-04    2\n2015-08-04    3\ndtype: int64"
     },
     "metadata": {}
    }
   ]
  },
  {
   "cell_type": "code",
   "metadata": {
    "tags": [],
    "cell_id": "00033-c68d9d09-e053-44d2-9164-ae6061947354",
    "deepnote_to_be_reexecuted": false,
    "source_hash": "9d639d67",
    "execution_start": 1627267471827,
    "execution_millis": 13,
    "deepnote_cell_type": "code"
   },
   "source": "dates = pd.to_datetime([datetime(2015, 7, 3), '4th of July, 2015',\n                       '2015-Jul-6', '07-07-2015', '20150708'])\ndates",
   "execution_count": null,
   "outputs": [
    {
     "output_type": "execute_result",
     "execution_count": 29,
     "data": {
      "text/plain": "DatetimeIndex(['2015-07-03', '2015-07-04', '2015-07-06', '2015-07-07',\n               '2015-07-08'],\n              dtype='datetime64[ns]', freq=None)"
     },
     "metadata": {}
    }
   ]
  },
  {
   "cell_type": "code",
   "metadata": {
    "tags": [],
    "cell_id": "00034-314fa2fb-d55c-48e3-b2e3-97865fc1ded4",
    "deepnote_to_be_reexecuted": false,
    "source_hash": "551f6cac",
    "execution_start": 1627267514811,
    "execution_millis": 12,
    "deepnote_cell_type": "code"
   },
   "source": "dates.to_period('D')",
   "execution_count": null,
   "outputs": [
    {
     "output_type": "execute_result",
     "execution_count": 30,
     "data": {
      "text/plain": "PeriodIndex(['2015-07-03', '2015-07-04', '2015-07-06', '2015-07-07',\n             '2015-07-08'],\n            dtype='period[D]', freq='D')"
     },
     "metadata": {}
    }
   ]
  },
  {
   "cell_type": "code",
   "metadata": {
    "tags": [],
    "cell_id": "00035-e7177e1d-7018-4c34-a388-e635126a0dba",
    "deepnote_to_be_reexecuted": false,
    "source_hash": "18492541",
    "execution_start": 1627267552614,
    "execution_millis": 8,
    "deepnote_cell_type": "code"
   },
   "source": "dates-dates[0]",
   "execution_count": null,
   "outputs": [
    {
     "output_type": "execute_result",
     "execution_count": 31,
     "data": {
      "text/plain": "TimedeltaIndex(['0 days', '1 days', '3 days', '4 days', '5 days'], dtype='timedelta64[ns]', freq=None)"
     },
     "metadata": {}
    }
   ]
  },
  {
   "cell_type": "code",
   "metadata": {
    "tags": [],
    "cell_id": "00036-25ac0e57-14f1-4ffb-9e0a-9d6b65b06cab",
    "deepnote_to_be_reexecuted": false,
    "source_hash": "78b87b44",
    "execution_start": 1627267622862,
    "execution_millis": 6,
    "deepnote_cell_type": "code"
   },
   "source": "pd.date_range('2015-07-26','2021-07-26')",
   "execution_count": null,
   "outputs": [
    {
     "output_type": "execute_result",
     "execution_count": 32,
     "data": {
      "text/plain": "DatetimeIndex(['2015-07-26', '2015-07-27', '2015-07-28', '2015-07-29',\n               '2015-07-30', '2015-07-31', '2015-08-01', '2015-08-02',\n               '2015-08-03', '2015-08-04',\n               ...\n               '2021-07-17', '2021-07-18', '2021-07-19', '2021-07-20',\n               '2021-07-21', '2021-07-22', '2021-07-23', '2021-07-24',\n               '2021-07-25', '2021-07-26'],\n              dtype='datetime64[ns]', length=2193, freq='D')"
     },
     "metadata": {}
    }
   ]
  },
  {
   "cell_type": "code",
   "metadata": {
    "tags": [],
    "cell_id": "00037-d88ea2e6-c0cd-466d-84c1-3a258e9bc5e6",
    "deepnote_to_be_reexecuted": false,
    "source_hash": "13e9c07c",
    "execution_start": 1627267658742,
    "execution_millis": 13,
    "deepnote_cell_type": "code"
   },
   "source": "pd.date_range('2021-07-03', periods=8)",
   "execution_count": null,
   "outputs": [
    {
     "output_type": "execute_result",
     "execution_count": 33,
     "data": {
      "text/plain": "DatetimeIndex(['2021-07-03', '2021-07-04', '2021-07-05', '2021-07-06',\n               '2021-07-07', '2021-07-08', '2021-07-09', '2021-07-10'],\n              dtype='datetime64[ns]', freq='D')"
     },
     "metadata": {}
    }
   ]
  },
  {
   "cell_type": "code",
   "metadata": {
    "tags": [],
    "cell_id": "00038-e1f7e308-9d7f-4bdc-b2ed-186e96630bd3",
    "deepnote_to_be_reexecuted": false,
    "source_hash": "5b3dc3df",
    "execution_start": 1627267702518,
    "execution_millis": 6,
    "deepnote_cell_type": "code"
   },
   "source": "pd.date_range('2021-07-03', periods=24,freq='H')",
   "execution_count": null,
   "outputs": [
    {
     "output_type": "execute_result",
     "execution_count": 35,
     "data": {
      "text/plain": "DatetimeIndex(['2021-07-03 00:00:00', '2021-07-03 01:00:00',\n               '2021-07-03 02:00:00', '2021-07-03 03:00:00',\n               '2021-07-03 04:00:00', '2021-07-03 05:00:00',\n               '2021-07-03 06:00:00', '2021-07-03 07:00:00',\n               '2021-07-03 08:00:00', '2021-07-03 09:00:00',\n               '2021-07-03 10:00:00', '2021-07-03 11:00:00',\n               '2021-07-03 12:00:00', '2021-07-03 13:00:00',\n               '2021-07-03 14:00:00', '2021-07-03 15:00:00',\n               '2021-07-03 16:00:00', '2021-07-03 17:00:00',\n               '2021-07-03 18:00:00', '2021-07-03 19:00:00',\n               '2021-07-03 20:00:00', '2021-07-03 21:00:00',\n               '2021-07-03 22:00:00', '2021-07-03 23:00:00'],\n              dtype='datetime64[ns]', freq='H')"
     },
     "metadata": {}
    }
   ]
  },
  {
   "cell_type": "code",
   "metadata": {
    "tags": [],
    "cell_id": "00039-6bc0ccf9-e57b-461c-920f-020a1fdc8bcd",
    "deepnote_to_be_reexecuted": false,
    "source_hash": "765120c4",
    "execution_start": 1627267717734,
    "execution_millis": 14,
    "deepnote_cell_type": "code"
   },
   "source": "pd.date_range('2021-07-03', periods=24,freq='M')",
   "execution_count": null,
   "outputs": [
    {
     "output_type": "execute_result",
     "execution_count": 36,
     "data": {
      "text/plain": "DatetimeIndex(['2021-07-31', '2021-08-31', '2021-09-30', '2021-10-31',\n               '2021-11-30', '2021-12-31', '2022-01-31', '2022-02-28',\n               '2022-03-31', '2022-04-30', '2022-05-31', '2022-06-30',\n               '2022-07-31', '2022-08-31', '2022-09-30', '2022-10-31',\n               '2022-11-30', '2022-12-31', '2023-01-31', '2023-02-28',\n               '2023-03-31', '2023-04-30', '2023-05-31', '2023-06-30'],\n              dtype='datetime64[ns]', freq='M')"
     },
     "metadata": {}
    }
   ]
  },
  {
   "cell_type": "code",
   "metadata": {
    "tags": [],
    "cell_id": "00040-6bfd0f31-1ba0-4838-8587-60ac23757845",
    "deepnote_to_be_reexecuted": false,
    "source_hash": "abf747d7",
    "execution_start": 1627267752744,
    "execution_millis": 9,
    "deepnote_cell_type": "code"
   },
   "source": "pd.period_range('2021-07-03', periods=24,freq='M')",
   "execution_count": null,
   "outputs": [
    {
     "output_type": "execute_result",
     "execution_count": 37,
     "data": {
      "text/plain": "PeriodIndex(['2021-07', '2021-08', '2021-09', '2021-10', '2021-11', '2021-12',\n             '2022-01', '2022-02', '2022-03', '2022-04', '2022-05', '2022-06',\n             '2022-07', '2022-08', '2022-09', '2022-10', '2022-11', '2022-12',\n             '2023-01', '2023-02', '2023-03', '2023-04', '2023-05', '2023-06'],\n            dtype='period[M]', freq='M')"
     },
     "metadata": {}
    }
   ]
  },
  {
   "cell_type": "code",
   "metadata": {
    "tags": [],
    "cell_id": "00041-e8759b90-550e-4569-8a38-f414373b7eaf",
    "deepnote_to_be_reexecuted": false,
    "source_hash": "2da169bd",
    "execution_start": 1627267766462,
    "execution_millis": 8,
    "deepnote_cell_type": "code"
   },
   "source": "pd.timedelta_range(0, periods=10, freq='H')",
   "execution_count": null,
   "outputs": [
    {
     "output_type": "execute_result",
     "execution_count": 38,
     "data": {
      "text/plain": "TimedeltaIndex(['0 days 00:00:00', '0 days 01:00:00', '0 days 02:00:00',\n                '0 days 03:00:00', '0 days 04:00:00', '0 days 05:00:00',\n                '0 days 06:00:00', '0 days 07:00:00', '0 days 08:00:00',\n                '0 days 09:00:00'],\n               dtype='timedelta64[ns]', freq='H')"
     },
     "metadata": {}
    }
   ]
  },
  {
   "cell_type": "markdown",
   "source": "| Code   | Description         | Code   | Description          |\n|--------|---------------------|--------|----------------------|\n| ``D``  | Calendar day        | ``B``  | Business day         |\n| ``W``  | Weekly              |        |                      |\n| ``M``  | Month end           | ``BM`` | Business month end   |\n| ``Q``  | Quarter end         | ``BQ`` | Business quarter end |\n| ``A``  | Year end            | ``BA`` | Business year end    |\n| ``H``  | Hours               | ``BH`` | Business hours       |\n| ``T``  | Minutes             |        |                      |\n| ``S``  | Seconds             |        |                      |\n| ``L``  | Milliseonds         |        |                      |\n| ``U``  | Microseconds        |        |                      |\n| ``N``  | nanoseconds         |        |                      |",
   "metadata": {
    "tags": [],
    "cell_id": "00042-b4247816-1b80-4e9c-8b81-1c9b9c1bd289",
    "deepnote_cell_type": "markdown"
   }
  },
  {
   "cell_type": "code",
   "metadata": {
    "tags": [],
    "cell_id": "00044-6e943fd4-be64-4e49-a7e7-57816c1b53a1",
    "deepnote_cell_type": "code"
   },
   "source": "",
   "execution_count": null,
   "outputs": []
  },
  {
   "cell_type": "markdown",
   "source": "<a style='text-decoration:none;line-height:16px;display:flex;color:#5B5B62;padding:10px;justify-content:end;' href='https://deepnote.com?utm_source=created-in-deepnote-cell&projectId=f5f90ba1-3290-463e-8fc6-44108f4fa21b' target=\"_blank\">\n<img alt='Created in deepnote.com' style='display:inline;max-height:16px;margin:0px;margin-right:7.5px;' src='data:image/svg+xml;base64,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' > </img>\nCreated in <span style='font-weight:600;margin-left:4px;'>Deepnote</span></a>",
   "metadata": {
    "tags": [],
    "created_in_deepnote_cell": true,
    "deepnote_cell_type": "markdown"
   }
  }
 ],
 "nbformat": 4,
 "nbformat_minor": 2,
 "metadata": {
  "orig_nbformat": 2,
  "deepnote": {
   "is_reactive": false
  },
  "deepnote_notebook_id": "27ee4a4b-5709-4b2a-bc41-be8a40487579",
  "deepnote_execution_queue": []
 }
}