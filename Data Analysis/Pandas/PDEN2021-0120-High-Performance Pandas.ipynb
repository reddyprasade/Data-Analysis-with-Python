{
 "cells": [
  {
   "cell_type": "markdown",
   "source": "# High-Performance Pandas / Enhancing performance:",
   "metadata": {
    "tags": [],
    "cell_id": "00000-0724a0e8-dc37-4d97-b79e-e969535e4ab7",
    "deepnote_cell_type": "markdown"
   }
  },
  {
   "cell_type": "code",
   "metadata": {
    "tags": [],
    "cell_id": "00000-bd5dbab7-b845-41a1-a70e-703a2a6250c2",
    "deepnote_to_be_reexecuted": false,
    "source_hash": "f6e180ab",
    "execution_start": 1626921622367,
    "execution_millis": 1389,
    "deepnote_cell_type": "code"
   },
   "source": "# Start writing code here...\nimport numpy as np\nimport pandas as pd\nimport seaborn as sns\nimport matplotlib.pyplot as plt",
   "outputs": [],
   "execution_count": null
  },
  {
   "cell_type": "code",
   "source": "df = pd.DataFrame({\n    \"a\": np.random.randn(1000),\n    \"b\": np.random.randn(1000),\n    \"N\": np.random.randint(100, 1000, (1000)),\n     \"x\": \"x\",\n})\ndf.head()",
   "metadata": {
    "tags": [],
    "cell_id": "00002-230bfd4a-dd71-4c97-9c28-8692e2ecf53d",
    "deepnote_to_be_reexecuted": false,
    "source_hash": "b8b0fa68",
    "execution_start": 1626921653811,
    "execution_millis": 32,
    "deepnote_cell_type": "code"
   },
   "outputs": [
    {
     "output_type": "execute_result",
     "execution_count": 3,
     "data": {
      "application/vnd.deepnote.dataframe.v2+json": {
       "row_count": 5,
       "column_count": 4,
       "columns": [
        {
         "name": "a",
         "dtype": "float64",
         "stats": {
          "unique_count": 5,
          "nan_count": 0,
          "min": "-0.6979547535037174",
          "max": "0.8216763471711861",
          "histogram": [
           {
            "bin_start": -0.6979547535037174,
            "bin_end": -0.5459916434362271,
            "count": 1
           },
           {
            "bin_start": -0.5459916434362271,
            "bin_end": -0.39402853336873667,
            "count": 0
           },
           {
            "bin_start": -0.39402853336873667,
            "bin_end": -0.2420654233012463,
            "count": 0
           },
           {
            "bin_start": -0.2420654233012463,
            "bin_end": -0.09010231323375595,
            "count": 0
           },
           {
            "bin_start": -0.09010231323375595,
            "bin_end": 0.061860796833734355,
            "count": 0
           },
           {
            "bin_start": 0.061860796833734355,
            "bin_end": 0.21382390690122477,
            "count": 0
           },
           {
            "bin_start": 0.21382390690122477,
            "bin_end": 0.3657870169687152,
            "count": 2
           },
           {
            "bin_start": 0.3657870169687152,
            "bin_end": 0.5177501270362055,
            "count": 0
           },
           {
            "bin_start": 0.5177501270362055,
            "bin_end": 0.6697132371036958,
            "count": 0
           },
           {
            "bin_start": 0.6697132371036958,
            "bin_end": 0.8216763471711861,
            "count": 2
           }
          ]
         }
        },
        {
         "name": "b",
         "dtype": "float64",
         "stats": {
          "unique_count": 5,
          "nan_count": 0,
          "min": "-1.6347451145982164",
          "max": "2.4577677766821258",
          "histogram": [
           {
            "bin_start": -1.6347451145982164,
            "bin_end": -1.2254938254701822,
            "count": 1
           },
           {
            "bin_start": -1.2254938254701822,
            "bin_end": -0.8162425363421479,
            "count": 0
           },
           {
            "bin_start": -0.8162425363421479,
            "bin_end": -0.4069912472141137,
            "count": 1
           },
           {
            "bin_start": -0.4069912472141137,
            "bin_end": 0.0022600419139204853,
            "count": 0
           },
           {
            "bin_start": 0.0022600419139204853,
            "bin_end": 0.4115113310419547,
            "count": 0
           },
           {
            "bin_start": 0.4115113310419547,
            "bin_end": 0.8207626201699889,
            "count": 1
           },
           {
            "bin_start": 0.8207626201699889,
            "bin_end": 1.2300139092980231,
            "count": 0
           },
           {
            "bin_start": 1.2300139092980231,
            "bin_end": 1.6392651984260573,
            "count": 0
           },
           {
            "bin_start": 1.6392651984260573,
            "bin_end": 2.0485164875540915,
            "count": 1
           },
           {
            "bin_start": 2.0485164875540915,
            "bin_end": 2.4577677766821258,
            "count": 1
           }
          ]
         }
        },
        {
         "name": "N",
         "dtype": "int64",
         "stats": {
          "unique_count": 5,
          "nan_count": 0,
          "min": "174",
          "max": "938",
          "histogram": [
           {
            "bin_start": 174,
            "bin_end": 250.4,
            "count": 1
           },
           {
            "bin_start": 250.4,
            "bin_end": 326.8,
            "count": 0
           },
           {
            "bin_start": 326.8,
            "bin_end": 403.20000000000005,
            "count": 1
           },
           {
            "bin_start": 403.20000000000005,
            "bin_end": 479.6,
            "count": 0
           },
           {
            "bin_start": 479.6,
            "bin_end": 556,
            "count": 1
           },
           {
            "bin_start": 556,
            "bin_end": 632.4000000000001,
            "count": 0
           },
           {
            "bin_start": 632.4000000000001,
            "bin_end": 708.8000000000001,
            "count": 0
           },
           {
            "bin_start": 708.8000000000001,
            "bin_end": 785.2,
            "count": 0
           },
           {
            "bin_start": 785.2,
            "bin_end": 861.6,
            "count": 0
           },
           {
            "bin_start": 861.6,
            "bin_end": 938,
            "count": 2
           }
          ]
         }
        },
        {
         "name": "x",
         "dtype": "object",
         "stats": {
          "unique_count": 1,
          "nan_count": 0,
          "categories": [
           {
            "name": "x",
            "count": 5
           }
          ]
         }
        },
        {
         "name": "_deepnote_index_column",
         "dtype": "int64"
        }
       ],
       "rows_top": [
        {
         "a": -0.6979547535037174,
         "b": -0.7903699624149391,
         "N": 881,
         "x": "x",
         "_deepnote_index_column": 0
        },
        {
         "a": 0.2420370196173357,
         "b": 2.0482574932824056,
         "N": 552,
         "x": "x",
         "_deepnote_index_column": 1
        },
        {
         "a": 0.29702847157067475,
         "b": 0.44908637279651453,
         "N": 364,
         "x": "x",
         "_deepnote_index_column": 2
        },
        {
         "a": 0.8216763471711861,
         "b": -1.6347451145982164,
         "N": 174,
         "x": "x",
         "_deepnote_index_column": 3
        },
        {
         "a": 0.7611756970932206,
         "b": 2.4577677766821258,
         "N": 938,
         "x": "x",
         "_deepnote_index_column": 4
        }
       ],
       "rows_bottom": null
      },
      "text/plain": "          a         b    N  x\n0 -0.697955 -0.790370  881  x\n1  0.242037  2.048257  552  x\n2  0.297028  0.449086  364  x\n3  0.821676 -1.634745  174  x\n4  0.761176  2.457768  938  x",
      "text/html": "<div>\n<style scoped>\n    .dataframe tbody tr th:only-of-type {\n        vertical-align: middle;\n    }\n\n    .dataframe tbody tr th {\n        vertical-align: top;\n    }\n\n    .dataframe thead th {\n        text-align: right;\n    }\n</style>\n<table border=\"1\" class=\"dataframe\">\n  <thead>\n    <tr style=\"text-align: right;\">\n      <th></th>\n      <th>a</th>\n      <th>b</th>\n      <th>N</th>\n      <th>x</th>\n    </tr>\n  </thead>\n  <tbody>\n    <tr>\n      <th>0</th>\n      <td>-0.697955</td>\n      <td>-0.790370</td>\n      <td>881</td>\n      <td>x</td>\n    </tr>\n    <tr>\n      <th>1</th>\n      <td>0.242037</td>\n      <td>2.048257</td>\n      <td>552</td>\n      <td>x</td>\n    </tr>\n    <tr>\n      <th>2</th>\n      <td>0.297028</td>\n      <td>0.449086</td>\n      <td>364</td>\n      <td>x</td>\n    </tr>\n    <tr>\n      <th>3</th>\n      <td>0.821676</td>\n      <td>-1.634745</td>\n      <td>174</td>\n      <td>x</td>\n    </tr>\n    <tr>\n      <th>4</th>\n      <td>0.761176</td>\n      <td>2.457768</td>\n      <td>938</td>\n      <td>x</td>\n    </tr>\n  </tbody>\n</table>\n</div>"
     },
     "metadata": {}
    }
   ],
   "execution_count": null
  },
  {
   "cell_type": "code",
   "source": "def f(x):\n    return x * (x-1)",
   "metadata": {
    "tags": [],
    "cell_id": "00003-c843b8e4-7a0c-484c-b48d-7143efe532a0",
    "deepnote_to_be_reexecuted": false,
    "source_hash": "220b48e3",
    "execution_start": 1626922501711,
    "execution_millis": 0,
    "deepnote_cell_type": "code"
   },
   "outputs": [],
   "execution_count": null
  },
  {
   "cell_type": "code",
   "source": "def integrate_f(a, b, N):\n    s = 0 \n    dx = (b-a)/N\n    for i in range(N):\n        s+=f(a+i*dx)\n    return s*dx",
   "metadata": {
    "tags": [],
    "cell_id": "00004-ecd3c1b8-87c8-44da-aa6b-82805d021222",
    "deepnote_to_be_reexecuted": false,
    "source_hash": "932218ec",
    "execution_start": 1626922502170,
    "execution_millis": 3,
    "deepnote_cell_type": "code"
   },
   "outputs": [],
   "execution_count": null
  },
  {
   "cell_type": "code",
   "source": "%timeit df.apply(lambda x: integrate_f(x['a'],x['b'],x['N']),axis=1)",
   "metadata": {
    "tags": [],
    "cell_id": "00005-e3155855-ec1c-4290-b326-c5b99298af76",
    "deepnote_to_be_reexecuted": false,
    "source_hash": "fee4cd07",
    "execution_start": 1626922502736,
    "execution_millis": 14307,
    "deepnote_cell_type": "code"
   },
   "outputs": [
    {
     "name": "stdout",
     "text": "177 ms ± 2.97 ms per loop (mean ± std. dev. of 7 runs, 10 loops each)\n",
     "output_type": "stream"
    }
   ],
   "execution_count": null
  },
  {
   "cell_type": "code",
   "source": "%prun df.apply(lambda x: integrate_f(x['a'],x['b'],x['N']),axis=1)",
   "metadata": {
    "tags": [],
    "cell_id": "00006-4c32738c-2bb0-4d9d-b360-b471500bc055",
    "deepnote_to_be_reexecuted": false,
    "source_hash": "1441aafb",
    "execution_start": 1626922520505,
    "execution_millis": 311,
    "deepnote_cell_type": "code"
   },
   "outputs": [
    {
     "name": "stdout",
     "text": " ",
     "output_type": "stream"
    }
   ],
   "execution_count": null
  },
  {
   "cell_type": "code",
   "source": "import Cython",
   "metadata": {
    "tags": [],
    "cell_id": "00008-ecbb8ab2-31bf-4563-b609-0077b5d407cf",
    "deepnote_to_be_reexecuted": false,
    "source_hash": "41ceb4dc",
    "execution_start": 1626922522206,
    "execution_millis": 5,
    "deepnote_cell_type": "code"
   },
   "outputs": [],
   "execution_count": null
  },
  {
   "cell_type": "code",
   "source": "Cython.__version__",
   "metadata": {
    "tags": [],
    "cell_id": "00008-f4e8d7b5-22a8-4262-8ae9-e6e39113621d",
    "deepnote_to_be_reexecuted": false,
    "source_hash": "577a742e",
    "execution_start": 1626923313785,
    "execution_millis": 8,
    "deepnote_cell_type": "code"
   },
   "outputs": [
    {
     "output_type": "execute_result",
     "execution_count": 36,
     "data": {
      "text/plain": "'0.29.24'"
     },
     "metadata": {}
    }
   ],
   "execution_count": null
  },
  {
   "cell_type": "code",
   "source": "%load_ext Cython",
   "metadata": {
    "tags": [],
    "cell_id": "00008-2f7df483-48f4-402a-ad09-6961c5a06d7a",
    "deepnote_to_be_reexecuted": false,
    "source_hash": "d59b2387",
    "execution_start": 1626922523127,
    "execution_millis": 6,
    "deepnote_cell_type": "code"
   },
   "outputs": [
    {
     "name": "stdout",
     "text": "The Cython extension is already loaded. To reload it, use:\n  %reload_ext Cython\n",
     "output_type": "stream"
    }
   ],
   "execution_count": null
  },
  {
   "cell_type": "code",
   "source": "%%cython\ndef f_plain(x):\n    return x(x-1)\n\ndef integrate_f_plain(a,b,N):\n    s = 0 \n    dx = (b-a)/N\n    for i in range(N):\n        s += f_plain(a + i * dx)\n    return s * dx",
   "metadata": {
    "tags": [],
    "cell_id": "00009-365c2b42-b64e-4b1b-ab7e-a2fbcf660ae4",
    "deepnote_to_be_reexecuted": false,
    "source_hash": "b525439f",
    "execution_start": 1626922630587,
    "execution_millis": 585,
    "deepnote_cell_type": "code"
   },
   "outputs": [],
   "execution_count": null
  },
  {
   "cell_type": "code",
   "source": "%timeit df.apply(lambda x: integrate_f_plain(x[\"a\"], x[\"b\"], x[\"N\"]),axis=1)",
   "metadata": {
    "tags": [],
    "cell_id": "00010-39abff92-693c-4a09-a553-01f5838990c0",
    "deepnote_to_be_reexecuted": false,
    "source_hash": "1d80341",
    "execution_start": 1626922579980,
    "execution_millis": 49,
    "deepnote_cell_type": "code"
   },
   "outputs": [
    {
     "output_type": "error",
     "ename": "TypeError",
     "evalue": "'float' object is not callable",
     "traceback": [
      "\u001b[0;31m---------------------------------------------------------------------------\u001b[0m",
      "\u001b[0;31mTypeError\u001b[0m                                 Traceback (most recent call last)",
      "\u001b[0;32m/tmp/ipykernel_126/1882358162.py\u001b[0m in \u001b[0;36m<module>\u001b[0;34m\u001b[0m\n\u001b[0;32m----> 1\u001b[0;31m \u001b[0mget_ipython\u001b[0m\u001b[0;34m(\u001b[0m\u001b[0;34m)\u001b[0m\u001b[0;34m.\u001b[0m\u001b[0mrun_line_magic\u001b[0m\u001b[0;34m(\u001b[0m\u001b[0;34m'timeit'\u001b[0m\u001b[0;34m,\u001b[0m \u001b[0;34m'df.apply(lambda x: integrate_f_plain(x[\"a\"], x[\"b\"], x[\"N\"]),axis=1)'\u001b[0m\u001b[0;34m)\u001b[0m\u001b[0;34m\u001b[0m\u001b[0;34m\u001b[0m\u001b[0m\n\u001b[0m",
      "\u001b[0;32m/shared-libs/python3.7/py-core/lib/python3.7/site-packages/IPython/core/interactiveshell.py\u001b[0m in \u001b[0;36mrun_line_magic\u001b[0;34m(self, magic_name, line, _stack_depth)\u001b[0m\n\u001b[1;32m   2346\u001b[0m                 \u001b[0mkwargs\u001b[0m\u001b[0;34m[\u001b[0m\u001b[0;34m'local_ns'\u001b[0m\u001b[0;34m]\u001b[0m \u001b[0;34m=\u001b[0m \u001b[0mself\u001b[0m\u001b[0;34m.\u001b[0m\u001b[0mget_local_scope\u001b[0m\u001b[0;34m(\u001b[0m\u001b[0mstack_depth\u001b[0m\u001b[0;34m)\u001b[0m\u001b[0;34m\u001b[0m\u001b[0;34m\u001b[0m\u001b[0m\n\u001b[1;32m   2347\u001b[0m             \u001b[0;32mwith\u001b[0m \u001b[0mself\u001b[0m\u001b[0;34m.\u001b[0m\u001b[0mbuiltin_trap\u001b[0m\u001b[0;34m:\u001b[0m\u001b[0;34m\u001b[0m\u001b[0;34m\u001b[0m\u001b[0m\n\u001b[0;32m-> 2348\u001b[0;31m                 \u001b[0mresult\u001b[0m \u001b[0;34m=\u001b[0m \u001b[0mfn\u001b[0m\u001b[0;34m(\u001b[0m\u001b[0;34m*\u001b[0m\u001b[0margs\u001b[0m\u001b[0;34m,\u001b[0m \u001b[0;34m**\u001b[0m\u001b[0mkwargs\u001b[0m\u001b[0;34m)\u001b[0m\u001b[0;34m\u001b[0m\u001b[0;34m\u001b[0m\u001b[0m\n\u001b[0m\u001b[1;32m   2349\u001b[0m             \u001b[0;32mreturn\u001b[0m \u001b[0mresult\u001b[0m\u001b[0;34m\u001b[0m\u001b[0;34m\u001b[0m\u001b[0m\n\u001b[1;32m   2350\u001b[0m \u001b[0;34m\u001b[0m\u001b[0m\n",
      "\u001b[0;32m/shared-libs/python3.7/py-core/lib/python3.7/site-packages/decorator.py\u001b[0m in \u001b[0;36mfun\u001b[0;34m(*args, **kw)\u001b[0m\n\u001b[1;32m    230\u001b[0m             \u001b[0;32mif\u001b[0m \u001b[0;32mnot\u001b[0m \u001b[0mkwsyntax\u001b[0m\u001b[0;34m:\u001b[0m\u001b[0;34m\u001b[0m\u001b[0;34m\u001b[0m\u001b[0m\n\u001b[1;32m    231\u001b[0m                 \u001b[0margs\u001b[0m\u001b[0;34m,\u001b[0m \u001b[0mkw\u001b[0m \u001b[0;34m=\u001b[0m \u001b[0mfix\u001b[0m\u001b[0;34m(\u001b[0m\u001b[0margs\u001b[0m\u001b[0;34m,\u001b[0m \u001b[0mkw\u001b[0m\u001b[0;34m,\u001b[0m \u001b[0msig\u001b[0m\u001b[0;34m)\u001b[0m\u001b[0;34m\u001b[0m\u001b[0;34m\u001b[0m\u001b[0m\n\u001b[0;32m--> 232\u001b[0;31m             \u001b[0;32mreturn\u001b[0m \u001b[0mcaller\u001b[0m\u001b[0;34m(\u001b[0m\u001b[0mfunc\u001b[0m\u001b[0;34m,\u001b[0m \u001b[0;34m*\u001b[0m\u001b[0;34m(\u001b[0m\u001b[0mextras\u001b[0m \u001b[0;34m+\u001b[0m \u001b[0margs\u001b[0m\u001b[0;34m)\u001b[0m\u001b[0;34m,\u001b[0m \u001b[0;34m**\u001b[0m\u001b[0mkw\u001b[0m\u001b[0;34m)\u001b[0m\u001b[0;34m\u001b[0m\u001b[0;34m\u001b[0m\u001b[0m\n\u001b[0m\u001b[1;32m    233\u001b[0m     \u001b[0mfun\u001b[0m\u001b[0;34m.\u001b[0m\u001b[0m__name__\u001b[0m \u001b[0;34m=\u001b[0m \u001b[0mfunc\u001b[0m\u001b[0;34m.\u001b[0m\u001b[0m__name__\u001b[0m\u001b[0;34m\u001b[0m\u001b[0;34m\u001b[0m\u001b[0m\n\u001b[1;32m    234\u001b[0m     \u001b[0mfun\u001b[0m\u001b[0;34m.\u001b[0m\u001b[0m__doc__\u001b[0m \u001b[0;34m=\u001b[0m \u001b[0mfunc\u001b[0m\u001b[0;34m.\u001b[0m\u001b[0m__doc__\u001b[0m\u001b[0;34m\u001b[0m\u001b[0;34m\u001b[0m\u001b[0m\n",
      "\u001b[0;32m/shared-libs/python3.7/py-core/lib/python3.7/site-packages/IPython/core/magic.py\u001b[0m in \u001b[0;36m<lambda>\u001b[0;34m(f, *a, **k)\u001b[0m\n\u001b[1;32m    185\u001b[0m     \u001b[0;31m# but it's overkill for just that one bit of state.\u001b[0m\u001b[0;34m\u001b[0m\u001b[0;34m\u001b[0m\u001b[0;34m\u001b[0m\u001b[0m\n\u001b[1;32m    186\u001b[0m     \u001b[0;32mdef\u001b[0m \u001b[0mmagic_deco\u001b[0m\u001b[0;34m(\u001b[0m\u001b[0marg\u001b[0m\u001b[0;34m)\u001b[0m\u001b[0;34m:\u001b[0m\u001b[0;34m\u001b[0m\u001b[0;34m\u001b[0m\u001b[0m\n\u001b[0;32m--> 187\u001b[0;31m         \u001b[0mcall\u001b[0m \u001b[0;34m=\u001b[0m \u001b[0;32mlambda\u001b[0m \u001b[0mf\u001b[0m\u001b[0;34m,\u001b[0m \u001b[0;34m*\u001b[0m\u001b[0ma\u001b[0m\u001b[0;34m,\u001b[0m \u001b[0;34m**\u001b[0m\u001b[0mk\u001b[0m\u001b[0;34m:\u001b[0m \u001b[0mf\u001b[0m\u001b[0;34m(\u001b[0m\u001b[0;34m*\u001b[0m\u001b[0ma\u001b[0m\u001b[0;34m,\u001b[0m \u001b[0;34m**\u001b[0m\u001b[0mk\u001b[0m\u001b[0;34m)\u001b[0m\u001b[0;34m\u001b[0m\u001b[0;34m\u001b[0m\u001b[0m\n\u001b[0m\u001b[1;32m    188\u001b[0m \u001b[0;34m\u001b[0m\u001b[0m\n\u001b[1;32m    189\u001b[0m         \u001b[0;32mif\u001b[0m \u001b[0mcallable\u001b[0m\u001b[0;34m(\u001b[0m\u001b[0marg\u001b[0m\u001b[0;34m)\u001b[0m\u001b[0;34m:\u001b[0m\u001b[0;34m\u001b[0m\u001b[0;34m\u001b[0m\u001b[0m\n",
      "\u001b[0;32m/shared-libs/python3.7/py-core/lib/python3.7/site-packages/IPython/core/magics/execution.py\u001b[0m in \u001b[0;36mtimeit\u001b[0;34m(self, line, cell, local_ns)\u001b[0m\n\u001b[1;32m   1167\u001b[0m             \u001b[0;32mfor\u001b[0m \u001b[0mindex\u001b[0m \u001b[0;32min\u001b[0m \u001b[0mrange\u001b[0m\u001b[0;34m(\u001b[0m\u001b[0;36m0\u001b[0m\u001b[0;34m,\u001b[0m \u001b[0;36m10\u001b[0m\u001b[0;34m)\u001b[0m\u001b[0;34m:\u001b[0m\u001b[0;34m\u001b[0m\u001b[0;34m\u001b[0m\u001b[0m\n\u001b[1;32m   1168\u001b[0m                 \u001b[0mnumber\u001b[0m \u001b[0;34m=\u001b[0m \u001b[0;36m10\u001b[0m \u001b[0;34m**\u001b[0m \u001b[0mindex\u001b[0m\u001b[0;34m\u001b[0m\u001b[0;34m\u001b[0m\u001b[0m\n\u001b[0;32m-> 1169\u001b[0;31m                 \u001b[0mtime_number\u001b[0m \u001b[0;34m=\u001b[0m \u001b[0mtimer\u001b[0m\u001b[0;34m.\u001b[0m\u001b[0mtimeit\u001b[0m\u001b[0;34m(\u001b[0m\u001b[0mnumber\u001b[0m\u001b[0;34m)\u001b[0m\u001b[0;34m\u001b[0m\u001b[0;34m\u001b[0m\u001b[0m\n\u001b[0m\u001b[1;32m   1170\u001b[0m                 \u001b[0;32mif\u001b[0m \u001b[0mtime_number\u001b[0m \u001b[0;34m>=\u001b[0m \u001b[0;36m0.2\u001b[0m\u001b[0;34m:\u001b[0m\u001b[0;34m\u001b[0m\u001b[0;34m\u001b[0m\u001b[0m\n\u001b[1;32m   1171\u001b[0m                     \u001b[0;32mbreak\u001b[0m\u001b[0;34m\u001b[0m\u001b[0;34m\u001b[0m\u001b[0m\n",
      "\u001b[0;32m/shared-libs/python3.7/py-core/lib/python3.7/site-packages/IPython/core/magics/execution.py\u001b[0m in \u001b[0;36mtimeit\u001b[0;34m(self, number)\u001b[0m\n\u001b[1;32m    167\u001b[0m         \u001b[0mgc\u001b[0m\u001b[0;34m.\u001b[0m\u001b[0mdisable\u001b[0m\u001b[0;34m(\u001b[0m\u001b[0;34m)\u001b[0m\u001b[0;34m\u001b[0m\u001b[0;34m\u001b[0m\u001b[0m\n\u001b[1;32m    168\u001b[0m         \u001b[0;32mtry\u001b[0m\u001b[0;34m:\u001b[0m\u001b[0;34m\u001b[0m\u001b[0;34m\u001b[0m\u001b[0m\n\u001b[0;32m--> 169\u001b[0;31m             \u001b[0mtiming\u001b[0m \u001b[0;34m=\u001b[0m \u001b[0mself\u001b[0m\u001b[0;34m.\u001b[0m\u001b[0minner\u001b[0m\u001b[0;34m(\u001b[0m\u001b[0mit\u001b[0m\u001b[0;34m,\u001b[0m \u001b[0mself\u001b[0m\u001b[0;34m.\u001b[0m\u001b[0mtimer\u001b[0m\u001b[0;34m)\u001b[0m\u001b[0;34m\u001b[0m\u001b[0;34m\u001b[0m\u001b[0m\n\u001b[0m\u001b[1;32m    170\u001b[0m         \u001b[0;32mfinally\u001b[0m\u001b[0;34m:\u001b[0m\u001b[0;34m\u001b[0m\u001b[0;34m\u001b[0m\u001b[0m\n\u001b[1;32m    171\u001b[0m             \u001b[0;32mif\u001b[0m \u001b[0mgcold\u001b[0m\u001b[0;34m:\u001b[0m\u001b[0;34m\u001b[0m\u001b[0;34m\u001b[0m\u001b[0m\n",
      "\u001b[0;32m<magic-timeit>\u001b[0m in \u001b[0;36minner\u001b[0;34m(_it, _timer)\u001b[0m\n",
      "\u001b[0;32m/shared-libs/python3.7/py/lib/python3.7/site-packages/pandas/core/frame.py\u001b[0m in \u001b[0;36mapply\u001b[0;34m(self, func, axis, raw, result_type, args, **kwds)\u001b[0m\n\u001b[1;32m   7766\u001b[0m             \u001b[0mkwds\u001b[0m\u001b[0;34m=\u001b[0m\u001b[0mkwds\u001b[0m\u001b[0;34m,\u001b[0m\u001b[0;34m\u001b[0m\u001b[0;34m\u001b[0m\u001b[0m\n\u001b[1;32m   7767\u001b[0m         )\n\u001b[0;32m-> 7768\u001b[0;31m         \u001b[0;32mreturn\u001b[0m \u001b[0mop\u001b[0m\u001b[0;34m.\u001b[0m\u001b[0mget_result\u001b[0m\u001b[0;34m(\u001b[0m\u001b[0;34m)\u001b[0m\u001b[0;34m\u001b[0m\u001b[0;34m\u001b[0m\u001b[0m\n\u001b[0m\u001b[1;32m   7769\u001b[0m \u001b[0;34m\u001b[0m\u001b[0m\n\u001b[1;32m   7770\u001b[0m     \u001b[0;32mdef\u001b[0m \u001b[0mapplymap\u001b[0m\u001b[0;34m(\u001b[0m\u001b[0mself\u001b[0m\u001b[0;34m,\u001b[0m \u001b[0mfunc\u001b[0m\u001b[0;34m,\u001b[0m \u001b[0mna_action\u001b[0m\u001b[0;34m:\u001b[0m \u001b[0mOptional\u001b[0m\u001b[0;34m[\u001b[0m\u001b[0mstr\u001b[0m\u001b[0;34m]\u001b[0m \u001b[0;34m=\u001b[0m \u001b[0;32mNone\u001b[0m\u001b[0;34m)\u001b[0m \u001b[0;34m->\u001b[0m \u001b[0mDataFrame\u001b[0m\u001b[0;34m:\u001b[0m\u001b[0;34m\u001b[0m\u001b[0;34m\u001b[0m\u001b[0m\n",
      "\u001b[0;32m/shared-libs/python3.7/py/lib/python3.7/site-packages/pandas/core/apply.py\u001b[0m in \u001b[0;36mget_result\u001b[0;34m(self)\u001b[0m\n\u001b[1;32m    183\u001b[0m             \u001b[0;32mreturn\u001b[0m \u001b[0mself\u001b[0m\u001b[0;34m.\u001b[0m\u001b[0mapply_raw\u001b[0m\u001b[0;34m(\u001b[0m\u001b[0;34m)\u001b[0m\u001b[0;34m\u001b[0m\u001b[0;34m\u001b[0m\u001b[0m\n\u001b[1;32m    184\u001b[0m \u001b[0;34m\u001b[0m\u001b[0m\n\u001b[0;32m--> 185\u001b[0;31m         \u001b[0;32mreturn\u001b[0m \u001b[0mself\u001b[0m\u001b[0;34m.\u001b[0m\u001b[0mapply_standard\u001b[0m\u001b[0;34m(\u001b[0m\u001b[0;34m)\u001b[0m\u001b[0;34m\u001b[0m\u001b[0;34m\u001b[0m\u001b[0m\n\u001b[0m\u001b[1;32m    186\u001b[0m \u001b[0;34m\u001b[0m\u001b[0m\n\u001b[1;32m    187\u001b[0m     \u001b[0;32mdef\u001b[0m \u001b[0mapply_empty_result\u001b[0m\u001b[0;34m(\u001b[0m\u001b[0mself\u001b[0m\u001b[0;34m)\u001b[0m\u001b[0;34m:\u001b[0m\u001b[0;34m\u001b[0m\u001b[0;34m\u001b[0m\u001b[0m\n",
      "\u001b[0;32m/shared-libs/python3.7/py/lib/python3.7/site-packages/pandas/core/apply.py\u001b[0m in \u001b[0;36mapply_standard\u001b[0;34m(self)\u001b[0m\n\u001b[1;32m    274\u001b[0m \u001b[0;34m\u001b[0m\u001b[0m\n\u001b[1;32m    275\u001b[0m     \u001b[0;32mdef\u001b[0m \u001b[0mapply_standard\u001b[0m\u001b[0;34m(\u001b[0m\u001b[0mself\u001b[0m\u001b[0;34m)\u001b[0m\u001b[0;34m:\u001b[0m\u001b[0;34m\u001b[0m\u001b[0;34m\u001b[0m\u001b[0m\n\u001b[0;32m--> 276\u001b[0;31m         \u001b[0mresults\u001b[0m\u001b[0;34m,\u001b[0m \u001b[0mres_index\u001b[0m \u001b[0;34m=\u001b[0m \u001b[0mself\u001b[0m\u001b[0;34m.\u001b[0m\u001b[0mapply_series_generator\u001b[0m\u001b[0;34m(\u001b[0m\u001b[0;34m)\u001b[0m\u001b[0;34m\u001b[0m\u001b[0;34m\u001b[0m\u001b[0m\n\u001b[0m\u001b[1;32m    277\u001b[0m \u001b[0;34m\u001b[0m\u001b[0m\n\u001b[1;32m    278\u001b[0m         \u001b[0;31m# wrap results\u001b[0m\u001b[0;34m\u001b[0m\u001b[0;34m\u001b[0m\u001b[0;34m\u001b[0m\u001b[0m\n",
      "\u001b[0;32m/shared-libs/python3.7/py/lib/python3.7/site-packages/pandas/core/apply.py\u001b[0m in \u001b[0;36mapply_series_generator\u001b[0;34m(self)\u001b[0m\n\u001b[1;32m    288\u001b[0m             \u001b[0;32mfor\u001b[0m \u001b[0mi\u001b[0m\u001b[0;34m,\u001b[0m \u001b[0mv\u001b[0m \u001b[0;32min\u001b[0m \u001b[0menumerate\u001b[0m\u001b[0;34m(\u001b[0m\u001b[0mseries_gen\u001b[0m\u001b[0;34m)\u001b[0m\u001b[0;34m:\u001b[0m\u001b[0;34m\u001b[0m\u001b[0;34m\u001b[0m\u001b[0m\n\u001b[1;32m    289\u001b[0m                 \u001b[0;31m# ignore SettingWithCopy here in case the user mutates\u001b[0m\u001b[0;34m\u001b[0m\u001b[0;34m\u001b[0m\u001b[0;34m\u001b[0m\u001b[0m\n\u001b[0;32m--> 290\u001b[0;31m                 \u001b[0mresults\u001b[0m\u001b[0;34m[\u001b[0m\u001b[0mi\u001b[0m\u001b[0;34m]\u001b[0m \u001b[0;34m=\u001b[0m \u001b[0mself\u001b[0m\u001b[0;34m.\u001b[0m\u001b[0mf\u001b[0m\u001b[0;34m(\u001b[0m\u001b[0mv\u001b[0m\u001b[0;34m)\u001b[0m\u001b[0;34m\u001b[0m\u001b[0;34m\u001b[0m\u001b[0m\n\u001b[0m\u001b[1;32m    291\u001b[0m                 \u001b[0;32mif\u001b[0m \u001b[0misinstance\u001b[0m\u001b[0;34m(\u001b[0m\u001b[0mresults\u001b[0m\u001b[0;34m[\u001b[0m\u001b[0mi\u001b[0m\u001b[0;34m]\u001b[0m\u001b[0;34m,\u001b[0m \u001b[0mABCSeries\u001b[0m\u001b[0;34m)\u001b[0m\u001b[0;34m:\u001b[0m\u001b[0;34m\u001b[0m\u001b[0;34m\u001b[0m\u001b[0m\n\u001b[1;32m    292\u001b[0m                     \u001b[0;31m# If we have a view on v, we need to make a copy because\u001b[0m\u001b[0;34m\u001b[0m\u001b[0;34m\u001b[0m\u001b[0;34m\u001b[0m\u001b[0m\n",
      "\u001b[0;32m<magic-timeit>\u001b[0m in \u001b[0;36m<lambda>\u001b[0;34m(x)\u001b[0m\n",
      "\u001b[0;32m_cython_magic_69d324cc6366833df35425c6ed3ab730.pyx\u001b[0m in \u001b[0;36m_cython_magic_69d324cc6366833df35425c6ed3ab730.integrate_f_plain\u001b[0;34m()\u001b[0m\n",
      "\u001b[0;32m_cython_magic_69d324cc6366833df35425c6ed3ab730.pyx\u001b[0m in \u001b[0;36m_cython_magic_69d324cc6366833df35425c6ed3ab730.f_plain\u001b[0;34m()\u001b[0m\n",
      "\u001b[0;31mTypeError\u001b[0m: 'float' object is not callable"
     ]
    }
   ],
   "execution_count": null
  },
  {
   "cell_type": "code",
   "source": "rng = np.random.RandomState(42)\nx = rng.rand(1000000)\ny = rng.rand(1000000)",
   "metadata": {
    "tags": [],
    "cell_id": "00011-1e9f1b76-d3da-4a13-86d1-a8afb4c5e674",
    "deepnote_to_be_reexecuted": false,
    "source_hash": "c813d020",
    "execution_start": 1626923524687,
    "execution_millis": 1,
    "deepnote_cell_type": "code"
   },
   "outputs": [],
   "execution_count": null
  },
  {
   "cell_type": "code",
   "source": "%timeit x+y",
   "metadata": {
    "tags": [],
    "cell_id": "00013-ea5d5b56-5745-4801-a699-63982ef5497d",
    "deepnote_to_be_reexecuted": false,
    "source_hash": "d12f1a9d",
    "execution_start": 1626923535828,
    "execution_millis": 11876,
    "deepnote_cell_type": "code"
   },
   "outputs": [
    {
     "name": "stdout",
     "text": "1.46 ms ± 9.07 µs per loop (mean ± std. dev. of 7 runs, 1000 loops each)\n",
     "output_type": "stream"
    }
   ],
   "execution_count": null
  },
  {
   "cell_type": "code",
   "source": "%timeit np.fromiter((xi + yi for xi,yi in zip(x,y)),dtype =x.dtype,count = len(x))",
   "metadata": {
    "tags": [],
    "cell_id": "00014-a9f93c05-e02f-4a90-8502-25a42640f6db",
    "deepnote_to_be_reexecuted": false,
    "source_hash": "e9a4ec91",
    "execution_start": 1626923650753,
    "execution_millis": 4333,
    "deepnote_cell_type": "code"
   },
   "outputs": [
    {
     "name": "stdout",
     "text": "542 ms ± 15.6 ms per loop (mean ± std. dev. of 7 runs, 1 loop each)\n",
     "output_type": "stream"
    }
   ],
   "execution_count": null
  },
  {
   "cell_type": "code",
   "source": "mask = (x > 0.5) & (y < 0.5)\nmask",
   "metadata": {
    "tags": [],
    "cell_id": "00015-97045815-a6b7-4861-a9ce-3c1836dd6110",
    "deepnote_to_be_reexecuted": false,
    "source_hash": "94f72341",
    "execution_start": 1626923711980,
    "execution_millis": 8,
    "deepnote_cell_type": "code"
   },
   "outputs": [
    {
     "output_type": "execute_result",
     "execution_count": 41,
     "data": {
      "text/plain": "array([False,  True,  True, ..., False, False, False])"
     },
     "metadata": {}
    }
   ],
   "execution_count": null
  },
  {
   "cell_type": "code",
   "source": "tmp1 = (x > 0.5)\ntmp2 = (y < 0.5)\nmask = tmp1 & tmp2",
   "metadata": {
    "tags": [],
    "cell_id": "00016-02323eed-9fea-4ff4-b0a0-7f7682142551",
    "deepnote_to_be_reexecuted": false,
    "source_hash": "f8883202",
    "execution_start": 1626923746736,
    "execution_millis": 2,
    "deepnote_cell_type": "code"
   },
   "outputs": [],
   "execution_count": null
  },
  {
   "cell_type": "code",
   "source": "mask",
   "metadata": {
    "tags": [],
    "cell_id": "00017-8c70313d-02c5-41ee-bd4f-e68ec047c38e",
    "deepnote_to_be_reexecuted": false,
    "source_hash": "2f8135c0",
    "execution_start": 1626923749899,
    "execution_millis": 12,
    "deepnote_cell_type": "code"
   },
   "outputs": [
    {
     "output_type": "execute_result",
     "execution_count": 43,
     "data": {
      "text/plain": "array([False,  True,  True, ..., False, False, False])"
     },
     "metadata": {}
    }
   ],
   "execution_count": null
  },
  {
   "cell_type": "code",
   "source": "import numexpr\n",
   "metadata": {
    "tags": [],
    "cell_id": "00018-2dca8b9e-b0a5-40b8-93d8-4d67b66bb760",
    "deepnote_to_be_reexecuted": false,
    "source_hash": "59d799e1",
    "execution_start": 1626923817998,
    "execution_millis": 9,
    "deepnote_cell_type": "code"
   },
   "outputs": [],
   "execution_count": null
  },
  {
   "cell_type": "code",
   "source": "%timeit\nmask_numexpr = numexpr.evaluate(\"(x > 0.5) & (y < 0.5)\")\nnp.allclose(mask,mask_numexpr)",
   "metadata": {
    "tags": [],
    "cell_id": "00019-7eedc0f3-23ea-4b46-a33f-7426c2f6bad2",
    "deepnote_to_be_reexecuted": false,
    "source_hash": "11a3012",
    "execution_start": 1626923872663,
    "execution_millis": 4,
    "deepnote_cell_type": "code"
   },
   "outputs": [
    {
     "output_type": "execute_result",
     "execution_count": 47,
     "data": {
      "text/plain": "True"
     },
     "metadata": {}
    }
   ],
   "execution_count": null
  },
  {
   "cell_type": "markdown",
   "source": "## Pandas Eval and Query",
   "metadata": {
    "tags": [],
    "cell_id": "00020-93b32755-6ff7-43f6-affd-b892e0d6b6d5",
    "deepnote_cell_type": "markdown"
   }
  },
  {
   "cell_type": "code",
   "source": "nrows, ncols = 100000, 100\nrng = np.random.RandomState(42)\ndf1, df2, df3, df4 = (pd.DataFrame(rng.rand(nrows, ncols))\n                      for i in range(4))",
   "metadata": {
    "tags": [],
    "cell_id": "00020-036de383-3dbb-4c18-ac31-5e678661838b",
    "deepnote_to_be_reexecuted": false,
    "source_hash": "1ca30fc7",
    "execution_start": 1626923960931,
    "execution_millis": 397,
    "deepnote_cell_type": "code"
   },
   "outputs": [],
   "execution_count": null
  },
  {
   "cell_type": "code",
   "source": "%timeit df1 + df2 + df3 + df4 ",
   "metadata": {
    "tags": [],
    "cell_id": "00020-d6c2dd6b-52a8-41cc-bcc6-d0e4be7e2d1e",
    "deepnote_to_be_reexecuted": false,
    "source_hash": "f0011c28",
    "execution_start": 1626923982765,
    "execution_millis": 12995,
    "deepnote_cell_type": "code"
   },
   "outputs": [
    {
     "name": "stdout",
     "text": "161 ms ± 2.21 ms per loop (mean ± std. dev. of 7 runs, 10 loops each)\n",
     "output_type": "stream"
    }
   ],
   "execution_count": null
  },
  {
   "cell_type": "code",
   "source": "%timeit pd.eval('df1 + df2 + df3 + df4')",
   "metadata": {
    "tags": [],
    "cell_id": "00023-f13be15a-fcd1-4f26-b5b2-d8bf648fece9",
    "deepnote_to_be_reexecuted": false,
    "source_hash": "d5e9a923",
    "execution_start": 1626924001208,
    "execution_millis": 5920,
    "deepnote_cell_type": "code"
   },
   "outputs": [
    {
     "name": "stdout",
     "text": "73 ms ± 3.26 ms per loop (mean ± std. dev. of 7 runs, 10 loops each)\n",
     "output_type": "stream"
    }
   ],
   "execution_count": null
  },
  {
   "cell_type": "code",
   "source": "np.allclose(df1 + df2 + df3 + df4,\n            pd.eval('df1 + df2 + df3 + df4'))",
   "metadata": {
    "tags": [],
    "cell_id": "00024-c2e16650-fee9-47d4-bb32-48465f487e16",
    "deepnote_to_be_reexecuted": false,
    "source_hash": "b5a6562",
    "execution_start": 1626924056287,
    "execution_millis": 266,
    "deepnote_cell_type": "code"
   },
   "outputs": [
    {
     "output_type": "execute_result",
     "execution_count": 51,
     "data": {
      "text/plain": "True"
     },
     "metadata": {}
    }
   ],
   "execution_count": null
  },
  {
   "cell_type": "code",
   "source": "df1, df2, df3, df4, df5 = (pd.DataFrame(rng.randint(0, 1000, (100, 3)))\n                           for i in range(5))",
   "metadata": {
    "tags": [],
    "cell_id": "00025-b7f2082d-70ae-4a17-8a7b-dbdc5ca740f9",
    "deepnote_to_be_reexecuted": false,
    "source_hash": "19982cfe",
    "execution_start": 1626924077500,
    "execution_millis": 4,
    "deepnote_cell_type": "code"
   },
   "outputs": [],
   "execution_count": null
  },
  {
   "cell_type": "code",
   "source": "%timeit result1 = -df1 * df2 / (df3 + df4) - df5",
   "metadata": {
    "tags": [],
    "cell_id": "00026-4cdfd07e-a4c0-45f9-8e5a-cf611dba2534",
    "deepnote_to_be_reexecuted": false,
    "source_hash": "49b6bd44",
    "execution_start": 1626924129097,
    "execution_millis": 7905,
    "deepnote_cell_type": "code"
   },
   "outputs": [
    {
     "name": "stdout",
     "text": "1.13 ms ± 43.8 µs per loop (mean ± std. dev. of 7 runs, 1000 loops each)\n",
     "output_type": "stream"
    }
   ],
   "execution_count": null
  },
  {
   "cell_type": "code",
   "source": "%timeit result2 = pd.eval('-df1 * df2 / (df3 + df4) - df5')",
   "metadata": {
    "tags": [],
    "cell_id": "00027-bfc9d41b-055b-40e5-95db-e6d4cecc4e1e",
    "deepnote_to_be_reexecuted": false,
    "source_hash": "70b767d3",
    "execution_start": 1626924220184,
    "execution_millis": 5085,
    "deepnote_cell_type": "code"
   },
   "outputs": [
    {
     "name": "stdout",
     "text": "6.47 ms ± 108 µs per loop (mean ± std. dev. of 7 runs, 100 loops each)\n",
     "output_type": "stream"
    }
   ],
   "execution_count": null
  },
  {
   "cell_type": "code",
   "source": "df = pd.DataFrame(rng.rand(1000, 3), columns=['A', 'B', 'C'])\ndf.head()",
   "metadata": {
    "tags": [],
    "cell_id": "00029-b3002d5f-0d91-40ce-bff7-13965b7485f6",
    "deepnote_to_be_reexecuted": false,
    "source_hash": "95ea709f",
    "execution_start": 1626924277347,
    "execution_millis": 4,
    "deepnote_cell_type": "code"
   },
   "outputs": [
    {
     "output_type": "execute_result",
     "execution_count": 59,
     "data": {
      "application/vnd.deepnote.dataframe.v2+json": {
       "row_count": 5,
       "column_count": 3,
       "columns": [
        {
         "name": "A",
         "dtype": "float64",
         "stats": {
          "unique_count": 5,
          "nan_count": 0,
          "min": "0.06908746390859155",
          "max": "0.6779449742671186",
          "histogram": [
           {
            "bin_start": 0.06908746390859155,
            "bin_end": 0.12997321494444425,
            "count": 1
           },
           {
            "bin_start": 0.12997321494444425,
            "bin_end": 0.19085896598029697,
            "count": 0
           },
           {
            "bin_start": 0.19085896598029697,
            "bin_end": 0.2517447170161497,
            "count": 0
           },
           {
            "bin_start": 0.2517447170161497,
            "bin_end": 0.3126304680520024,
            "count": 1
           },
           {
            "bin_start": 0.3126304680520024,
            "bin_end": 0.3735162190878551,
            "count": 0
           },
           {
            "bin_start": 0.3735162190878551,
            "bin_end": 0.43440197012370785,
            "count": 1
           },
           {
            "bin_start": 0.43440197012370785,
            "bin_end": 0.49528772115956055,
            "count": 0
           },
           {
            "bin_start": 0.49528772115956055,
            "bin_end": 0.5561734721954132,
            "count": 0
           },
           {
            "bin_start": 0.5561734721954132,
            "bin_end": 0.6170592232312659,
            "count": 1
           },
           {
            "bin_start": 0.6170592232312659,
            "bin_end": 0.6779449742671186,
            "count": 1
           }
          ]
         }
        },
        {
         "name": "B",
         "dtype": "float64",
         "stats": {
          "unique_count": 5,
          "nan_count": 0,
          "min": "0.23561451342528195",
          "max": "0.8080554784869688",
          "histogram": [
           {
            "bin_start": 0.23561451342528195,
            "bin_end": 0.29285860993145063,
            "count": 2
           },
           {
            "bin_start": 0.29285860993145063,
            "bin_end": 0.3501027064376193,
            "count": 0
           },
           {
            "bin_start": 0.3501027064376193,
            "bin_end": 0.407346802943788,
            "count": 1
           },
           {
            "bin_start": 0.407346802943788,
            "bin_end": 0.4645908994499567,
            "count": 1
           },
           {
            "bin_start": 0.4645908994499567,
            "bin_end": 0.5218349959561254,
            "count": 0
           },
           {
            "bin_start": 0.5218349959561254,
            "bin_end": 0.579079092462294,
            "count": 0
           },
           {
            "bin_start": 0.579079092462294,
            "bin_end": 0.6363231889684627,
            "count": 0
           },
           {
            "bin_start": 0.6363231889684627,
            "bin_end": 0.6935672854746314,
            "count": 0
           },
           {
            "bin_start": 0.6935672854746314,
            "bin_end": 0.7508113819808001,
            "count": 0
           },
           {
            "bin_start": 0.7508113819808001,
            "bin_end": 0.8080554784869688,
            "count": 1
           }
          ]
         }
        },
        {
         "name": "C",
         "dtype": "float64",
         "stats": {
          "unique_count": 5,
          "nan_count": 0,
          "min": "0.0699384690397411",
          "max": "0.652323804856081",
          "histogram": [
           {
            "bin_start": 0.0699384690397411,
            "bin_end": 0.1281770026213751,
            "count": 1
           },
           {
            "bin_start": 0.1281770026213751,
            "bin_end": 0.18641553620300907,
            "count": 1
           },
           {
            "bin_start": 0.18641553620300907,
            "bin_end": 0.24465406978464305,
            "count": 0
           },
           {
            "bin_start": 0.24465406978464305,
            "bin_end": 0.30289260336627705,
            "count": 0
           },
           {
            "bin_start": 0.30289260336627705,
            "bin_end": 0.36113113694791105,
            "count": 1
           },
           {
            "bin_start": 0.36113113694791105,
            "bin_end": 0.419369670529545,
            "count": 0
           },
           {
            "bin_start": 0.419369670529545,
            "bin_end": 0.477608204111179,
            "count": 0
           },
           {
            "bin_start": 0.477608204111179,
            "bin_end": 0.535846737692813,
            "count": 0
           },
           {
            "bin_start": 0.535846737692813,
            "bin_end": 0.594085271274447,
            "count": 1
           },
           {
            "bin_start": 0.594085271274447,
            "bin_end": 0.652323804856081,
            "count": 1
           }
          ]
         }
        },
        {
         "name": "_deepnote_index_column",
         "dtype": "int64"
        }
       ],
       "rows_top": [
        {
         "A": 0.37550648147116295,
         "B": 0.40693855946430657,
         "C": 0.0699384690397411,
         "_deepnote_index_column": 0
        },
        {
         "A": 0.06908746390859155,
         "B": 0.23561451342528195,
         "C": 0.15437357443070843,
         "_deepnote_index_column": 1
        },
        {
         "A": 0.6779449742671186,
         "B": 0.43383925350266284,
         "C": 0.652323804856081,
         "_deepnote_index_column": 2
        },
        {
         "A": 0.2640379425528989,
         "B": 0.8080554784869688,
         "C": 0.34719653754430246,
         "_deepnote_index_column": 3
        },
        {
         "A": 0.5891605930594996,
         "B": 0.25241848781913967,
         "C": 0.5577893287857852,
         "_deepnote_index_column": 4
        }
       ],
       "rows_bottom": null
      },
      "text/plain": "          A         B         C\n0  0.375506  0.406939  0.069938\n1  0.069087  0.235615  0.154374\n2  0.677945  0.433839  0.652324\n3  0.264038  0.808055  0.347197\n4  0.589161  0.252418  0.557789",
      "text/html": "<div>\n<style scoped>\n    .dataframe tbody tr th:only-of-type {\n        vertical-align: middle;\n    }\n\n    .dataframe tbody tr th {\n        vertical-align: top;\n    }\n\n    .dataframe thead th {\n        text-align: right;\n    }\n</style>\n<table border=\"1\" class=\"dataframe\">\n  <thead>\n    <tr style=\"text-align: right;\">\n      <th></th>\n      <th>A</th>\n      <th>B</th>\n      <th>C</th>\n    </tr>\n  </thead>\n  <tbody>\n    <tr>\n      <th>0</th>\n      <td>0.375506</td>\n      <td>0.406939</td>\n      <td>0.069938</td>\n    </tr>\n    <tr>\n      <th>1</th>\n      <td>0.069087</td>\n      <td>0.235615</td>\n      <td>0.154374</td>\n    </tr>\n    <tr>\n      <th>2</th>\n      <td>0.677945</td>\n      <td>0.433839</td>\n      <td>0.652324</td>\n    </tr>\n    <tr>\n      <th>3</th>\n      <td>0.264038</td>\n      <td>0.808055</td>\n      <td>0.347197</td>\n    </tr>\n    <tr>\n      <th>4</th>\n      <td>0.589161</td>\n      <td>0.252418</td>\n      <td>0.557789</td>\n    </tr>\n  </tbody>\n</table>\n</div>"
     },
     "metadata": {}
    }
   ],
   "execution_count": null
  },
  {
   "cell_type": "code",
   "source": "q1 = df.query(\"A<0.5 and B<0.5\")\nq2 = df.query(\"B>0.5 and C>0.5\")",
   "metadata": {
    "tags": [],
    "cell_id": "00029-29b92697-4e13-4080-9931-8c826e71fc0a",
    "deepnote_to_be_reexecuted": false,
    "source_hash": "cfefe852",
    "execution_start": 1626924403152,
    "execution_millis": 3,
    "deepnote_cell_type": "code"
   },
   "outputs": [],
   "execution_count": null
  },
  {
   "cell_type": "code",
   "source": "",
   "metadata": {
    "tags": [],
    "cell_id": "00030-547ca76a-0bef-4e33-86bd-ddec8a05bc1f",
    "deepnote_cell_type": "code"
   },
   "outputs": [],
   "execution_count": null
  },
  {
   "cell_type": "markdown",
   "source": "<a style='text-decoration:none;line-height:16px;display:flex;color:#5B5B62;padding:10px;justify-content:end;' href='https://deepnote.com?utm_source=created-in-deepnote-cell&projectId=f5f90ba1-3290-463e-8fc6-44108f4fa21b' target=\"_blank\">\n<img alt='Created in deepnote.com' style='display:inline;max-height:16px;margin:0px;margin-right:7.5px;' src='data:image/svg+xml;base64,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' > </img>\nCreated in <span style='font-weight:600;margin-left:4px;'>Deepnote</span></a>",
   "metadata": {
    "tags": [],
    "created_in_deepnote_cell": true,
    "deepnote_cell_type": "markdown"
   }
  }
 ],
 "nbformat": 4,
 "nbformat_minor": 2,
 "metadata": {
  "orig_nbformat": 2,
  "deepnote": {
   "is_reactive": false
  },
  "deepnote_notebook_id": "b1125907-7f19-42dd-9397-1e930b140599",
  "deepnote_execution_queue": []
 }
}