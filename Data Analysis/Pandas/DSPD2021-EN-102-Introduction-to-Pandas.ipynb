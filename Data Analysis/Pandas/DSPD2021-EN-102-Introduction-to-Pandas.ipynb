{
  "cells": [
    {
      "cell_type": "markdown",
      "source": [
        "<img src ='https://lh3.googleusercontent.com/-zJITVL-36ys/XdtR50hOknI/AAAAAAAAklE/eh54Ao2NWKkfDbSzwQedGrSuaHrRVc2vgCK8BGAsYHg/s0/2019-11-24.png'>"
      ],
      "metadata": {}
    },
    {
      "cell_type": "code",
      "source": [
        "## Intoducation to Pandas\n",
        "\n",
        "* Pandas is Fundemental package for **Explore data analysis**,*Select the data*,*Manipulating data*.\n",
        "* Pandas is a popular Python package for data science, and with good reason.\n",
        "* It offers powerful, expressive and flexible data structures that make data manipulation and analysis easy, among many other things.\n",
        "* Pandas is a Python package providing fast, flexible, and expressive data structures designed to make working with “relational” or “labeled” data both easy and intuitive.\n",
        "* Pandas is Used for **high-level building block** for doing practical, real-world data analysis in Python.\n",
        "* Broader goal of becoming the most powerful and flexible open source data analysis/manipulation tool available in any language.\n",
        "\n",
        "#### Different kinds of data\n",
        "\n",
        "* Tabular data (SQL,Excel spreadsheet), Structer Data\n",
        "* Ordered and unordered (Time series data)\n",
        "* Arbitrary matrix data (homogeneously typed or heterogeneous) A Data Which has with row and column labels\n",
        "* Any other form of observational / statistical data sets. \n",
        "        * Statistics (collection, organization, analysis, interpretation, and presentation of data)\n",
        "        * Statistics(Past + Present = Feature) \n",
        "        * The data need **not be labeled** at all to be placed into a **pandas data structure** \n",
        "\n",
        "### Type of Data Structures:\n",
        "\n",
        "* **1-Dimensional** data in **Numpy** is called **Vectors** same thing in **Pandas** we have  **Series**.\n",
        "* **2-Dimensional** data in **Numpy**  is call it as **Matrix / 2-D Array** same thing in **Pandas** we have **DataFrame**\n",
        "\n",
        "\n",
        "* **Python Data Structure**\n",
        "        * list\n",
        "        * Tuple\n",
        "        * Set\n",
        "        * Dict\n",
        "* **Numpy**\n",
        "        * Scalar\n",
        "        * Vector\n",
        "        * Matrix\n",
        "        * Arrays\n",
        "                * 1-D,2-D,.............N-D\n",
        "* **Pandas Data Structer**\n",
        "        * Series\n",
        "        * DataFrame"
      ],
      "outputs": [],
      "execution_count": null,
      "metadata": {
        "collapsed": true,
        "jupyter": {
          "source_hidden": false,
          "outputs_hidden": false
        },
        "nteract": {
          "transient": {
            "deleting": false
          }
        }
      }
    },
    {
      "cell_type": "markdown",
      "source": [
        "In the previous chapter, \n",
        "* We done into detail on NumPy and its ``ndarray`` object, which provides efficient storage and manipulation of dense typed arrays in Python.\n",
        "\n",
        "* Here we'll build on this knowledge by looking in detail at the data structures provided by the Pandas library.\n",
        "* Pandas is a newer package built on top of NumPy, and provides an efficient implementation of a ``DataFrame``.\n",
        "``DataFrame``s are essentially multidimensional arrays with attached row and column labels, and often with heterogeneous types and/or missing data.\n",
        "* As well as offering a convenient storage interface for labeled data, Pandas implements a number of powerful data operations familiar to users of both database frameworks and spreadsheet programs.\n",
        "\n",
        "\n",
        "### Features of Pandas\n",
        "* DataFrame object for data manipulation with integrated indexing.\n",
        "* Tools for reading and writing data between in-memory data structures and different file formats.\n",
        "* Data alignment and integrated handling of missing data.\n",
        "* Reshaping and pivoting of data sets.\n",
        "* Label-based slicing, fancy indexing, and subsetting of large data sets.\n",
        "* Data structure column insertion and deletion.\n",
        "* Group by engine allowing split-apply-combine operations on data sets.\n",
        "* Data set merging and joining.\n",
        "* Hierarchical axis indexing to work with high-dimensional data in a lower-dimensional data structure.\n",
        "* Time series-functionality: Date range generation[4] and frequency conversion, moving window statistics, moving window linear regressions, date shifting and lagging.\n",
        "* Provides data filtration.\n"
      ],
      "metadata": {}
    },
    {
      "cell_type": "markdown",
      "source": [
        "## Installing and Using Pandas\n",
        "\n",
        "Installation of Pandas on your system requires NumPy to be installed, and if building the library from source, requires the appropriate tools to compile the C and Cython sources on which Pandas is built.\n",
        "Details on this installation can be found in the [Pandas documentation](http://pandas.pydata.org/).\n",
        "If you followed the advice outlined in the [Preface](00.00-Preface.ipynb) and used the Anaconda stack, you already have Pandas installed.\n",
        "\n",
        "Once Pandas is installed, you can import it and check the version:\n",
        "\n",
        "### Python version support\n",
        "\n",
        "1. Officially Python 3.7.1 and above, 3.8, and 3.9. Latest Veersion of Pandas\n",
        "\n",
        "### Install Pandas\n",
        "- **PyPI**\n",
        "    - !pip install pandas (Windows)\n",
        "    - sudo pip3 install pandas(Linux,Mac)\n",
        "- **Anaconda distribution**\n",
        "    - The easiest way to install pandas is to install it as part of the **Anaconda distribution** \n",
        "    - Anaconda distribution, a cross platform distribution for data analysis and scientific computing.\n",
        "- Instructions for installing from source, **PyPI**, **ActivePython**, various Linux distributions, or a development version are also provided.\n"
      ],
      "metadata": {}
    },
    {
      "cell_type": "code",
      "source": [
        "!pip install pandas"
      ],
      "outputs": [
        {
          "output_type": "stream",
          "name": "stdout",
          "text": [
            "Requirement already satisfied: pandas in c:\\users\\reddy\\appdata\\local\\programs\\python\\python36\\lib\\site-packages (1.0.3)\n",
            "Requirement already satisfied: pytz>=2017.2 in c:\\users\\reddy\\appdata\\local\\programs\\python\\python36\\lib\\site-packages (from pandas) (2020.1)\n",
            "Requirement already satisfied: numpy>=1.13.3 in c:\\users\\reddy\\appdata\\local\\programs\\python\\python36\\lib\\site-packages (from pandas) (1.18.4)\n",
            "Requirement already satisfied: python-dateutil>=2.6.1 in c:\\users\\reddy\\appdata\\local\\programs\\python\\python36\\lib\\site-packages (from pandas) (2.8.1)\n",
            "Requirement already satisfied: six>=1.5 in c:\\users\\reddy\\appdata\\local\\programs\\python\\python36\\lib\\site-packages (from python-dateutil>=2.6.1->pandas) (1.14.0)\n"
          ]
        }
      ],
      "execution_count": 1,
      "metadata": {}
    },
    {
      "cell_type": "code",
      "source": [
        "!pip install pandas-profiling[notebook,html]   "
      ],
      "outputs": [
        {
          "output_type": "stream",
          "name": "stdout",
          "text": [
            "Requirement already satisfied: pandas-profiling[html,notebook] in c:\\users\\reddy\\appdata\\local\\programs\\python\\python36\\lib\\site-packages (2.8.0)\n",
            "Requirement already satisfied: visions[type_image_path]==0.4.4 in c:\\users\\reddy\\appdata\\local\\programs\\python\\python36\\lib\\site-packages (from pandas-profiling[html,notebook]) (0.4.4)\n",
            "Requirement already satisfied: numpy>=1.16.0 in c:\\users\\reddy\\appdata\\local\\programs\\python\\python36\\lib\\site-packages (from pandas-profiling[html,notebook]) (1.18.4)\n",
            "Requirement already satisfied: tqdm>=4.43.0 in c:\\users\\reddy\\appdata\\local\\programs\\python\\python36\\lib\\site-packages (from pandas-profiling[html,notebook]) (4.46.0)\n",
            "Requirement already satisfied: joblib in c:\\users\\reddy\\appdata\\local\\programs\\python\\python36\\lib\\site-packages (from pandas-profiling[html,notebook]) (0.15.1)\n",
            "Requirement already satisfied: tangled-up-in-unicode>=0.0.6 in c:\\users\\reddy\\appdata\\local\\programs\\python\\python36\\lib\\site-packages (from pandas-profiling[html,notebook]) (0.0.6)\n",
            "Requirement already satisfied: matplotlib>=3.2.0 in c:\\users\\reddy\\appdata\\local\\programs\\python\\python36\\lib\\site-packages (from pandas-profiling[html,notebook]) (3.2.1)"
          ]
        },
        {
          "output_type": "stream",
          "name": "stderr",
          "text": [
            "  WARNING: pandas-profiling 2.8.0 does not provide the extra 'html'\n"
          ]
        },
        {
          "output_type": "stream",
          "name": "stdout",
          "text": [
            "\n",
            "Requirement already satisfied: phik>=0.9.10 in c:\\users\\reddy\\appdata\\local\\programs\\python\\python36\\lib\\site-packages (from pandas-profiling[html,notebook]) (0.9.12)\n",
            "Requirement already satisfied: confuse>=1.0.0 in c:\\users\\reddy\\appdata\\local\\programs\\python\\python36\\lib\\site-packages (from pandas-profiling[html,notebook]) (1.1.0)\n",
            "Requirement already satisfied: requests>=2.23.0 in c:\\users\\reddy\\appdata\\local\\programs\\python\\python36\\lib\\site-packages (from pandas-profiling[html,notebook]) (2.23.0)\n",
            "Requirement already satisfied: ipywidgets>=7.5.1 in c:\\users\\reddy\\appdata\\local\\programs\\python\\python36\\lib\\site-packages (from pandas-profiling[html,notebook]) (7.5.1)\n",
            "Requirement already satisfied: htmlmin>=0.1.12 in c:\\users\\reddy\\appdata\\local\\programs\\python\\python36\\lib\\site-packages (from pandas-profiling[html,notebook]) (0.1.12)\n",
            "Requirement already satisfied: jinja2>=2.11.1 in c:\\users\\reddy\\appdata\\local\\programs\\python\\python36\\lib\\site-packages (from pandas-profiling[html,notebook]) (2.11.2)\n",
            "Requirement already satisfied: missingno>=0.4.2 in c:\\users\\reddy\\appdata\\local\\programs\\python\\python36\\lib\\site-packages (from pandas-profiling[html,notebook]) (0.4.2)\n",
            "Requirement already satisfied: scipy>=1.4.1 in c:\\users\\reddy\\appdata\\local\\programs\\python\\python36\\lib\\site-packages (from pandas-profiling[html,notebook]) (1.4.1)\n",
            "Requirement already satisfied: pandas!=1.0.0,!=1.0.1,!=1.0.2,>=0.25.3 in c:\\users\\reddy\\appdata\\local\\programs\\python\\python36\\lib\\site-packages (from pandas-profiling[html,notebook]) (1.0.3)\n",
            "Requirement already satisfied: astropy>=4.0 in c:\\users\\reddy\\appdata\\local\\programs\\python\\python36\\lib\\site-packages (from pandas-profiling[html,notebook]) (4.0.1.post1)\n",
            "Requirement already satisfied: jupyter-client>=6.0.0; extra == \"notebook\" in c:\\users\\reddy\\appdata\\local\\programs\\python\\python36\\lib\\site-packages (from pandas-profiling[html,notebook]) (6.1.3)\n",
            "Requirement already satisfied: jupyter-core>=4.6.3; extra == \"notebook\" in c:\\users\\reddy\\appdata\\local\\programs\\python\\python36\\lib\\site-packages (from pandas-profiling[html,notebook]) (4.6.3)\n",
            "Requirement already satisfied: networkx>=2.4 in c:\\users\\reddy\\appdata\\local\\programs\\python\\python36\\lib\\site-packages (from visions[type_image_path]==0.4.4->pandas-profiling[html,notebook]) (2.4)\n",
            "Requirement already satisfied: attrs>=19.3.0 in c:\\users\\reddy\\appdata\\local\\programs\\python\\python36\\lib\\site-packages (from visions[type_image_path]==0.4.4->pandas-profiling[html,notebook]) (19.3.0)\n",
            "Requirement already satisfied: Pillow; extra == \"type_image_path\" in c:\\users\\reddy\\appdata\\local\\programs\\python\\python36\\lib\\site-packages (from visions[type_image_path]==0.4.4->pandas-profiling[html,notebook]) (7.1.2)\n",
            "Requirement already satisfied: imagehash; extra == \"type_image_path\" in c:\\users\\reddy\\appdata\\local\\programs\\python\\python36\\lib\\site-packages (from visions[type_image_path]==0.4.4->pandas-profiling[html,notebook]) (4.1.0)\n",
            "Requirement already satisfied: cycler>=0.10 in c:\\users\\reddy\\appdata\\local\\programs\\python\\python36\\lib\\site-packages (from matplotlib>=3.2.0->pandas-profiling[html,notebook]) (0.10.0)\n",
            "Requirement already satisfied: python-dateutil>=2.1 in c:\\users\\reddy\\appdata\\local\\programs\\python\\python36\\lib\\site-packages (from matplotlib>=3.2.0->pandas-profiling[html,notebook]) (2.8.1)\n",
            "Requirement already satisfied: kiwisolver>=1.0.1 in c:\\users\\reddy\\appdata\\local\\programs\\python\\python36\\lib\\site-packages (from matplotlib>=3.2.0->pandas-profiling[html,notebook]) (1.2.0)\n",
            "Requirement already satisfied: pyparsing!=2.0.4,!=2.1.2,!=2.1.6,>=2.0.1 in c:\\users\\reddy\\appdata\\local\\programs\\python\\python36\\lib\\site-packages (from matplotlib>=3.2.0->pandas-profiling[html,notebook]) (2.4.7)\n",
            "Requirement already satisfied: numba>=0.38.1 in c:\\users\\reddy\\appdata\\local\\programs\\python\\python36\\lib\\site-packages (from phik>=0.9.10->pandas-profiling[html,notebook]) (0.49.1)\n",
            "Requirement already satisfied: pyyaml in c:\\users\\reddy\\appdata\\local\\programs\\python\\python36\\lib\\site-packages (from confuse>=1.0.0->pandas-profiling[html,notebook]) (5.3.1)\n",
            "Requirement already satisfied: chardet<4,>=3.0.2 in c:\\users\\reddy\\appdata\\local\\programs\\python\\python36\\lib\\site-packages (from requests>=2.23.0->pandas-profiling[html,notebook]) (3.0.4)\n",
            "Requirement already satisfied: urllib3!=1.25.0,!=1.25.1,<1.26,>=1.21.1 in c:\\users\\reddy\\appdata\\local\\programs\\python\\python36\\lib\\site-packages (from requests>=2.23.0->pandas-profiling[html,notebook]) (1.25.9)\n",
            "Requirement already satisfied: idna<3,>=2.5 in c:\\users\\reddy\\appdata\\local\\programs\\python\\python36\\lib\\site-packages (from requests>=2.23.0->pandas-profiling[html,notebook]) (2.9)\n",
            "Requirement already satisfied: certifi>=2017.4.17 in c:\\users\\reddy\\appdata\\local\\programs\\python\\python36\\lib\\site-packages (from requests>=2.23.0->pandas-profiling[html,notebook]) (2020.4.5.1)\n",
            "Requirement already satisfied: ipykernel>=4.5.1 in c:\\users\\reddy\\appdata\\local\\programs\\python\\python36\\lib\\site-packages (from ipywidgets>=7.5.1->pandas-profiling[html,notebook]) (5.2.1)\n",
            "Requirement already satisfied: ipython>=4.0.0; python_version >= \"3.3\" in c:\\users\\reddy\\appdata\\local\\programs\\python\\python36\\lib\\site-packages (from ipywidgets>=7.5.1->pandas-profiling[html,notebook]) (7.14.0)\n",
            "Requirement already satisfied: traitlets>=4.3.1 in c:\\users\\reddy\\appdata\\local\\programs\\python\\python36\\lib\\site-packages (from ipywidgets>=7.5.1->pandas-profiling[html,notebook]) (4.3.3)\n",
            "Requirement already satisfied: widgetsnbextension~=3.5.0 in c:\\users\\reddy\\appdata\\local\\programs\\python\\python36\\lib\\site-packages (from ipywidgets>=7.5.1->pandas-profiling[html,notebook]) (3.5.1)\n",
            "Requirement already satisfied: nbformat>=4.2.0 in c:\\users\\reddy\\appdata\\local\\programs\\python\\python36\\lib\\site-packages (from ipywidgets>=7.5.1->pandas-profiling[html,notebook]) (5.0.6)\n",
            "Requirement already satisfied: MarkupSafe>=0.23 in c:\\users\\reddy\\appdata\\local\\programs\\python\\python36\\lib\\site-packages (from jinja2>=2.11.1->pandas-profiling[html,notebook]) (1.1.1)\n",
            "Requirement already satisfied: seaborn in c:\\users\\reddy\\appdata\\local\\programs\\python\\python36\\lib\\site-packages (from missingno>=0.4.2->pandas-profiling[html,notebook]) (0.10.1)\n",
            "Requirement already satisfied: pytz>=2017.2 in c:\\users\\reddy\\appdata\\local\\programs\\python\\python36\\lib\\site-packages (from pandas!=1.0.0,!=1.0.1,!=1.0.2,>=0.25.3->pandas-profiling[html,notebook]) (2020.1)\n",
            "Requirement already satisfied: pyzmq>=13 in c:\\users\\reddy\\appdata\\local\\programs\\python\\python36\\lib\\site-packages (from jupyter-client>=6.0.0; extra == \"notebook\"->pandas-profiling[html,notebook]) (19.0.1)\n",
            "Requirement already satisfied: tornado>=4.1 in c:\\users\\reddy\\appdata\\local\\programs\\python\\python36\\lib\\site-packages (from jupyter-client>=6.0.0; extra == \"notebook\"->pandas-profiling[html,notebook]) (6.0.4)\n",
            "Requirement already satisfied: pywin32>=1.0; sys_platform == \"win32\" in c:\\users\\reddy\\appdata\\local\\programs\\python\\python36\\lib\\site-packages (from jupyter-core>=4.6.3; extra == \"notebook\"->pandas-profiling[html,notebook]) (227)\n",
            "Requirement already satisfied: decorator>=4.3.0 in c:\\users\\reddy\\appdata\\local\\programs\\python\\python36\\lib\\site-packages (from networkx>=2.4->visions[type_image_path]==0.4.4->pandas-profiling[html,notebook]) (4.4.2)\n",
            "Requirement already satisfied: six in c:\\users\\reddy\\appdata\\local\\programs\\python\\python36\\lib\\site-packages (from imagehash; extra == \"type_image_path\"->visions[type_image_path]==0.4.4->pandas-profiling[html,notebook]) (1.14.0)\n",
            "Requirement already satisfied: PyWavelets in c:\\users\\reddy\\appdata\\local\\programs\\python\\python36\\lib\\site-packages (from imagehash; extra == \"type_image_path\"->visions[type_image_path]==0.4.4->pandas-profiling[html,notebook]) (1.1.1)\n",
            "Requirement already satisfied: llvmlite<=0.33.0.dev0,>=0.31.0.dev0 in c:\\users\\reddy\\appdata\\local\\programs\\python\\python36\\lib\\site-packages (from numba>=0.38.1->phik>=0.9.10->pandas-profiling[html,notebook]) (0.32.1)\n",
            "Requirement already satisfied: setuptools in c:\\users\\reddy\\appdata\\local\\programs\\python\\python36\\lib\\site-packages (from numba>=0.38.1->phik>=0.9.10->pandas-profiling[html,notebook]) (46.4.0)\n",
            "Requirement already satisfied: backcall in c:\\users\\reddy\\appdata\\local\\programs\\python\\python36\\lib\\site-packages (from ipython>=4.0.0; python_version >= \"3.3\"->ipywidgets>=7.5.1->pandas-profiling[html,notebook]) (0.1.0)\n",
            "Requirement already satisfied: prompt-toolkit!=3.0.0,!=3.0.1,<3.1.0,>=2.0.0 in c:\\users\\reddy\\appdata\\local\\programs\\python\\python36\\lib\\site-packages (from ipython>=4.0.0; python_version >= \"3.3\"->ipywidgets>=7.5.1->pandas-profiling[html,notebook]) (3.0.5)\n",
            "Requirement already satisfied: pickleshare in c:\\users\\reddy\\appdata\\local\\programs\\python\\python36\\lib\\site-packages (from ipython>=4.0.0; python_version >= \"3.3\"->ipywidgets>=7.5.1->pandas-profiling[html,notebook]) (0.7.5)\n",
            "Requirement already satisfied: jedi>=0.10 in c:\\users\\reddy\\appdata\\local\\programs\\python\\python36\\lib\\site-packages (from ipython>=4.0.0; python_version >= \"3.3\"->ipywidgets>=7.5.1->pandas-profiling[html,notebook]) (0.17.0)\n",
            "Requirement already satisfied: colorama; sys_platform == \"win32\" in c:\\users\\reddy\\appdata\\local\\programs\\python\\python36\\lib\\site-packages (from ipython>=4.0.0; python_version >= \"3.3\"->ipywidgets>=7.5.1->pandas-profiling[html,notebook]) (0.4.3)\n",
            "Requirement already satisfied: pygments in c:\\users\\reddy\\appdata\\local\\programs\\python\\python36\\lib\\site-packages (from ipython>=4.0.0; python_version >= \"3.3\"->ipywidgets>=7.5.1->pandas-profiling[html,notebook]) (2.6.1)\n",
            "Requirement already satisfied: ipython-genutils in c:\\users\\reddy\\appdata\\local\\programs\\python\\python36\\lib\\site-packages (from traitlets>=4.3.1->ipywidgets>=7.5.1->pandas-profiling[html,notebook]) (0.2.0)\n",
            "Requirement already satisfied: notebook>=4.4.1 in c:\\users\\reddy\\appdata\\local\\programs\\python\\python36\\lib\\site-packages (from widgetsnbextension~=3.5.0->ipywidgets>=7.5.1->pandas-profiling[html,notebook]) (6.0.3)\n",
            "Requirement already satisfied: jsonschema!=2.5.0,>=2.4 in c:\\users\\reddy\\appdata\\local\\programs\\python\\python36\\lib\\site-packages (from nbformat>=4.2.0->ipywidgets>=7.5.1->pandas-profiling[html,notebook]) (3.2.0)\n",
            "Requirement already satisfied: wcwidth in c:\\users\\reddy\\appdata\\local\\programs\\python\\python36\\lib\\site-packages (from prompt-toolkit!=3.0.0,!=3.0.1,<3.1.0,>=2.0.0->ipython>=4.0.0; python_version >= \"3.3\"->ipywidgets>=7.5.1->pandas-profiling[html,notebook]) (0.1.9)\n",
            "Requirement already satisfied: parso>=0.7.0 in c:\\users\\reddy\\appdata\\local\\programs\\python\\python36\\lib\\site-packages (from jedi>=0.10->ipython>=4.0.0; python_version >= \"3.3\"->ipywidgets>=7.5.1->pandas-profiling[html,notebook]) (0.7.0)\n",
            "Requirement already satisfied: nbconvert in c:\\users\\reddy\\appdata\\local\\programs\\python\\python36\\lib\\site-packages (from notebook>=4.4.1->widgetsnbextension~=3.5.0->ipywidgets>=7.5.1->pandas-profiling[html,notebook]) (5.6.1)\n",
            "Requirement already satisfied: Send2Trash in c:\\users\\reddy\\appdata\\local\\programs\\python\\python36\\lib\\site-packages (from notebook>=4.4.1->widgetsnbextension~=3.5.0->ipywidgets>=7.5.1->pandas-profiling[html,notebook]) (1.5.0)\n",
            "Requirement already satisfied: prometheus-client in c:\\users\\reddy\\appdata\\local\\programs\\python\\python36\\lib\\site-packages (from notebook>=4.4.1->widgetsnbextension~=3.5.0->ipywidgets>=7.5.1->pandas-profiling[html,notebook]) (0.7.1)\n",
            "Requirement already satisfied: terminado>=0.8.1 in c:\\users\\reddy\\appdata\\local\\programs\\python\\python36\\lib\\site-packages (from notebook>=4.4.1->widgetsnbextension~=3.5.0->ipywidgets>=7.5.1->pandas-profiling[html,notebook]) (0.8.3)\n",
            "Requirement already satisfied: pyrsistent>=0.14.0 in c:\\users\\reddy\\appdata\\local\\programs\\python\\python36\\lib\\site-packages (from jsonschema!=2.5.0,>=2.4->nbformat>=4.2.0->ipywidgets>=7.5.1->pandas-profiling[html,notebook]) (0.16.0)\n",
            "Requirement already satisfied: importlib-metadata; python_version < \"3.8\" in c:\\users\\reddy\\appdata\\local\\programs\\python\\python36\\lib\\site-packages (from jsonschema!=2.5.0,>=2.4->nbformat>=4.2.0->ipywidgets>=7.5.1->pandas-profiling[html,notebook]) (1.6.0)\n",
            "Requirement already satisfied: entrypoints>=0.2.2 in c:\\users\\reddy\\appdata\\local\\programs\\python\\python36\\lib\\site-packages (from nbconvert->notebook>=4.4.1->widgetsnbextension~=3.5.0->ipywidgets>=7.5.1->pandas-profiling[html,notebook]) (0.3)\n",
            "Requirement already satisfied: pandocfilters>=1.4.1 in c:\\users\\reddy\\appdata\\local\\programs\\python\\python36\\lib\\site-packages (from nbconvert->notebook>=4.4.1->widgetsnbextension~=3.5.0->ipywidgets>=7.5.1->pandas-profiling[html,notebook]) (1.4.2)\n",
            "Requirement already satisfied: defusedxml in c:\\users\\reddy\\appdata\\local\\programs\\python\\python36\\lib\\site-packages (from nbconvert->notebook>=4.4.1->widgetsnbextension~=3.5.0->ipywidgets>=7.5.1->pandas-profiling[html,notebook]) (0.6.0)\n",
            "Requirement already satisfied: bleach in c:\\users\\reddy\\appdata\\local\\programs\\python\\python36\\lib\\site-packages (from nbconvert->notebook>=4.4.1->widgetsnbextension~=3.5.0->ipywidgets>=7.5.1->pandas-profiling[html,notebook]) (3.1.5)\n",
            "Requirement already satisfied: testpath in c:\\users\\reddy\\appdata\\local\\programs\\python\\python36\\lib\\site-packages (from nbconvert->notebook>=4.4.1->widgetsnbextension~=3.5.0->ipywidgets>=7.5.1->pandas-profiling[html,notebook]) (0.4.4)\n",
            "Requirement already satisfied: mistune<2,>=0.8.1 in c:\\users\\reddy\\appdata\\local\\programs\\python\\python36\\lib\\site-packages (from nbconvert->notebook>=4.4.1->widgetsnbextension~=3.5.0->ipywidgets>=7.5.1->pandas-profiling[html,notebook]) (0.8.4)\n",
            "Requirement already satisfied: pywinpty>=0.5; os_name == \"nt\" in c:\\users\\reddy\\appdata\\local\\programs\\python\\python36\\lib\\site-packages (from terminado>=0.8.1->notebook>=4.4.1->widgetsnbextension~=3.5.0->ipywidgets>=7.5.1->pandas-profiling[html,notebook]) (0.5.7)\n",
            "Requirement already satisfied: zipp>=0.5 in c:\\users\\reddy\\appdata\\local\\programs\\python\\python36\\lib\\site-packages (from importlib-metadata; python_version < \"3.8\"->jsonschema!=2.5.0,>=2.4->nbformat>=4.2.0->ipywidgets>=7.5.1->pandas-profiling[html,notebook]) (3.1.0)\n",
            "Requirement already satisfied: webencodings in c:\\users\\reddy\\appdata\\local\\programs\\python\\python36\\lib\\site-packages (from bleach->nbconvert->notebook>=4.4.1->widgetsnbextension~=3.5.0->ipywidgets>=7.5.1->pandas-profiling[html,notebook]) (0.5.1)\n",
            "Requirement already satisfied: packaging in c:\\users\\reddy\\appdata\\local\\programs\\python\\python36\\lib\\site-packages (from bleach->nbconvert->notebook>=4.4.1->widgetsnbextension~=3.5.0->ipywidgets>=7.5.1->pandas-profiling[html,notebook]) (20.3)\n"
          ]
        }
      ],
      "execution_count": 8,
      "metadata": {}
    },
    {
      "cell_type": "code",
      "source": [
        "import pandas\n",
        "pandas.__version__"
      ],
      "outputs": [
        {
          "output_type": "execute_result",
          "execution_count": 9,
          "data": {
            "text/plain": "'1.0.3'"
          },
          "metadata": {}
        }
      ],
      "execution_count": 9,
      "metadata": {}
    },
    {
      "cell_type": "markdown",
      "source": [
        "Just as we generally import NumPy under the alias ``np``, we will import Pandas under the alias ``pd``:"
      ],
      "metadata": {}
    },
    {
      "cell_type": "code",
      "source": [
        "import pandas as pd"
      ],
      "outputs": [],
      "execution_count": 10,
      "metadata": {}
    },
    {
      "cell_type": "code",
      "source": [
        "pd.__version__"
      ],
      "outputs": [
        {
          "output_type": "execute_result",
          "execution_count": 11,
          "data": {
            "text/plain": "'1.0.3'"
          },
          "metadata": {}
        }
      ],
      "execution_count": 11,
      "metadata": {}
    },
    {
      "cell_type": "markdown",
      "source": [
        "This import convention will be used throughout the remainder of this book."
      ],
      "metadata": {}
    },
    {
      "cell_type": "code",
      "source": [
        "import pandas_profiling as pp  # Generating the Report "
      ],
      "outputs": [],
      "execution_count": 12,
      "metadata": {}
    },
    {
      "cell_type": "code",
      "source": [
        "pp.__version__"
      ],
      "outputs": [
        {
          "output_type": "execute_result",
          "execution_count": 7,
          "data": {
            "text/plain": "'2.8.0'"
          },
          "metadata": {}
        }
      ],
      "execution_count": 7,
      "metadata": {}
    },
    {
      "cell_type": "markdown",
      "source": [
        "## Reminder about Built-In Documentation\n",
        "\n",
        "As you read through this chapter, don't forget that IPython gives you the ability to quickly explore the contents of a package (by using the tab-completion feature) as well as the documentation of various functions (using the ``?`` character). (Refer back to [Help and Documentation in IPython](01.01-Help-And-Documentation.ipynb) if you need a refresher on this.)\n",
        "\n",
        "For example, to display all the contents of the pandas namespace, you can type\n",
        "\n",
        "```ipython\n",
        "In [3]: pd.<TAB>\n",
        "```\n",
        "\n",
        "And to display Pandas's built-in documentation, you can use this:\n",
        "\n",
        "```ipython\n",
        "In [4]: pd?\n",
        "```\n",
        "\n",
        "More detailed documentation, along with tutorials and other resources, can be found at http://pandas.pydata.org/.\n",
        "\n",
        "\n"
      ],
      "metadata": {}
    },
    {
      "cell_type": "code",
      "source": [],
      "outputs": [],
      "execution_count": null,
      "metadata": {}
    }
  ],
  "metadata": {
    "anaconda-cloud": {},
    "kernelspec": {
      "display_name": "Python 3",
      "language": "python",
      "name": "python3"
    },
    "language_info": {
      "codemirror_mode": {
        "name": "ipython",
        "version": 3
      },
      "file_extension": ".py",
      "mimetype": "text/x-python",
      "name": "python",
      "nbconvert_exporter": "python",
      "pygments_lexer": "ipython3",
      "version": "3.6.8"
    },
    "nteract": {
      "version": "0.28.0"
    }
  },
  "nbformat": 4,
  "nbformat_minor": 4
}
