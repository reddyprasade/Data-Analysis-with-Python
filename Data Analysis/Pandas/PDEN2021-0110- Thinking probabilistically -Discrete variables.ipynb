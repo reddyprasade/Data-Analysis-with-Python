{
  "cells":[
    {
      "cell_type":"markdown",
      "source":[
        "# Thinking probabilistically - Discrete variables\n",
        "\n",
        "\n",
        "<b>\n",
        "\n",
        "+ Random number generators and hacker statistics\n",
        "    + Generating random numbers using the np.random module\n",
        "    + The np.random module and Bernoulli trials\n",
        "    + How many defaults might we expect?\n",
        "    + Will the bank fail?\n",
        "+ Probability distributions and stories: The Binomial distribution\n",
        "    + Sampling out of the Binomial distribution\n",
        "    + Plotting the Binomial PMF\n",
        "+ Poisson processes and the Poisson distribution\n",
        "    + Relationship between Binomial and Poisson distributions\n",
        "    + Was 2015 anomalous?"
      ],
      "metadata":{
        
      }
    },
    {
      "cell_type":"code",
      "source":[
        "import numpy as np\n",
        "import pandas as pd \n",
        "import seaborn as sns\n",
        "import matplotlib.pyplot as plt"
      ],
      "execution_count":1,
      "outputs":[
        
      ],
      "metadata":{
        
      }
    },
    {
      "cell_type":"code",
      "source":[
        "url = \"https:\/\/raw.githubusercontent.com\/reddyprasade\/Data-Analysis-with-Python\/main\/Statistics\/Data\/iris_lables.csv\""
      ],
      "execution_count":2,
      "outputs":[
        
      ],
      "metadata":{
        
      }
    },
    {
      "cell_type":"code",
      "source":[
        "df = pd.read_csv(url)\n",
        "df"
      ],
      "execution_count":3,
      "outputs":[
        {
          "data":{
            "text\/html":[
              "<div>\n",
              "<style scoped>\n",
              "    .dataframe tbody tr th:only-of-type {\n",
              "        vertical-align: middle;\n",
              "    }\n",
              "\n",
              "    .dataframe tbody tr th {\n",
              "        vertical-align: top;\n",
              "    }\n",
              "\n",
              "    .dataframe thead th {\n",
              "        text-align: right;\n",
              "    }\n",
              "<\/style>\n",
              "<table border=\"1\" class=\"dataframe\">\n",
              "  <thead>\n",
              "    <tr style=\"text-align: right;\">\n",
              "      <th><\/th>\n",
              "      <th>sepal.length<\/th>\n",
              "      <th>sepal.width<\/th>\n",
              "      <th>petal.length<\/th>\n",
              "      <th>petal.width<\/th>\n",
              "      <th>variety<\/th>\n",
              "    <\/tr>\n",
              "  <\/thead>\n",
              "  <tbody>\n",
              "    <tr>\n",
              "      <th>0<\/th>\n",
              "      <td>5.1<\/td>\n",
              "      <td>3.5<\/td>\n",
              "      <td>1.4<\/td>\n",
              "      <td>0.2<\/td>\n",
              "      <td>Setosa<\/td>\n",
              "    <\/tr>\n",
              "    <tr>\n",
              "      <th>1<\/th>\n",
              "      <td>4.9<\/td>\n",
              "      <td>3.0<\/td>\n",
              "      <td>1.4<\/td>\n",
              "      <td>0.2<\/td>\n",
              "      <td>Setosa<\/td>\n",
              "    <\/tr>\n",
              "    <tr>\n",
              "      <th>2<\/th>\n",
              "      <td>4.7<\/td>\n",
              "      <td>3.2<\/td>\n",
              "      <td>1.3<\/td>\n",
              "      <td>0.2<\/td>\n",
              "      <td>Setosa<\/td>\n",
              "    <\/tr>\n",
              "    <tr>\n",
              "      <th>3<\/th>\n",
              "      <td>4.6<\/td>\n",
              "      <td>3.1<\/td>\n",
              "      <td>1.5<\/td>\n",
              "      <td>0.2<\/td>\n",
              "      <td>Setosa<\/td>\n",
              "    <\/tr>\n",
              "    <tr>\n",
              "      <th>4<\/th>\n",
              "      <td>5.0<\/td>\n",
              "      <td>3.6<\/td>\n",
              "      <td>1.4<\/td>\n",
              "      <td>0.2<\/td>\n",
              "      <td>Setosa<\/td>\n",
              "    <\/tr>\n",
              "    <tr>\n",
              "      <th>...<\/th>\n",
              "      <td>...<\/td>\n",
              "      <td>...<\/td>\n",
              "      <td>...<\/td>\n",
              "      <td>...<\/td>\n",
              "      <td>...<\/td>\n",
              "    <\/tr>\n",
              "    <tr>\n",
              "      <th>145<\/th>\n",
              "      <td>6.7<\/td>\n",
              "      <td>3.0<\/td>\n",
              "      <td>5.2<\/td>\n",
              "      <td>2.3<\/td>\n",
              "      <td>Virginica<\/td>\n",
              "    <\/tr>\n",
              "    <tr>\n",
              "      <th>146<\/th>\n",
              "      <td>6.3<\/td>\n",
              "      <td>2.5<\/td>\n",
              "      <td>5.0<\/td>\n",
              "      <td>1.9<\/td>\n",
              "      <td>Virginica<\/td>\n",
              "    <\/tr>\n",
              "    <tr>\n",
              "      <th>147<\/th>\n",
              "      <td>6.5<\/td>\n",
              "      <td>3.0<\/td>\n",
              "      <td>5.2<\/td>\n",
              "      <td>2.0<\/td>\n",
              "      <td>Virginica<\/td>\n",
              "    <\/tr>\n",
              "    <tr>\n",
              "      <th>148<\/th>\n",
              "      <td>6.2<\/td>\n",
              "      <td>3.4<\/td>\n",
              "      <td>5.4<\/td>\n",
              "      <td>2.3<\/td>\n",
              "      <td>Virginica<\/td>\n",
              "    <\/tr>\n",
              "    <tr>\n",
              "      <th>149<\/th>\n",
              "      <td>5.9<\/td>\n",
              "      <td>3.0<\/td>\n",
              "      <td>5.1<\/td>\n",
              "      <td>1.8<\/td>\n",
              "      <td>Virginica<\/td>\n",
              "    <\/tr>\n",
              "  <\/tbody>\n",
              "<\/table>\n",
              "<p>150 rows × 5 columns<\/p>\n",
              "<\/div>"
            ]
          },
          "metadata":{
            
          },
          "output_type":"display_data"
        }
      ],
      "metadata":{
        
      }
    },
    {
      "cell_type":"code",
      "source":[
        "renamed_columns = ['sepal length (cm)', 'sepal width (cm)', \n",
        "                   'petal length (cm)', 'petal width (cm)', 'species']\n",
        "df.columns = renamed_columns\n",
        "versicolor_petal_length = df[df['species'] == 'Versicolor']['petal length (cm)']\n",
        "setosa_petal_length = df[df['species'] == 'Setosa']['petal length (cm)']\n",
        "virginica_petal_length = df[df['species'] == 'Virginica']['petal length (cm)']\n",
        "versicolor_petal_width = df[df['species'] == 'Versicolor']['petal width (cm)']"
      ],
      "execution_count":5,
      "outputs":[
        
      ],
      "metadata":{
        
      }
    },
    {
      "cell_type":"code",
      "source":[
        "df.head()"
      ],
      "execution_count":6,
      "outputs":[
        
      ],
      "metadata":{
        
      }
    },
    {
      "cell_type":"code",
      "source":[
        "df.tail()"
      ],
      "execution_count":7,
      "outputs":[
        
      ],
      "metadata":{
        
      }
    },
    {
      "cell_type":"markdown",
      "source":[
        "<div class=\"text_cell_render border-box-sizing rendered_html\">\n",
        "<h2 id=\"Random-number-generators-and-hacker-statistics\">\n",
        "<a class=\"anchor\" href=\"#Random-number-generators-and-hacker-statistics\" aria-hidden=\"true\"><span class=\"octicon octicon-link\"><\/span><\/a>Random number generators and hacker statistics<a class=\"anchor-link\" href=\"#Random-number-generators-and-hacker-statistics\"><i class=\"fas fa-link fa-xs\"><\/i><\/a>\n",
        "<\/h2>\n",
        "<ul>\n",
        "<li>\n",
        "<p>Hacker statistic<\/p>\n",
        "<ul>\n",
        "<li>Uses simulated repeated measurements to compute probabilities<\/li>\n",
        "<li>E.g. Coin Flips<\/li>\n",
        "<\/ul>\n",
        "<\/li>\n",
        "<li>\n",
        "<p>np.random module<\/p>\n",
        "<ul>\n",
        "<li>Suite of functions based on random number generation<\/li>\n",
        "<li>\n",
        "<code>np.random.random()<\/code>: draw a number between 0 and 1<\/li>\n",
        "<\/ul>\n",
        "<\/li>\n",
        "<li>\n",
        "<p>Bernoulli trial<\/p>\n",
        "<ul>\n",
        "<li>An experiment that has two options, \"success\" (True) and \"failure\" (False).<\/li>\n",
        "<\/ul>\n",
        "<\/li>\n",
        "<li>\n",
        "<p>Random number seed<\/p>\n",
        "<ul>\n",
        "<li>Integer fed into random number generating algorithm<\/li>\n",
        "<li>Manually seed random number generator if you need reproducibility<\/li>\n",
        "<li>Specified using <code>np.random.seed()<\/code>\n",
        "<\/li>\n",
        "<\/ul>\n",
        "<\/li>\n",
        "<li>\n",
        "<p>Hacker stats probabilities<\/p>\n",
        "<ul>\n",
        "<li>Determine how to simulate data<\/li>\n",
        "<li>Simulate many many times<\/li>\n",
        "<li>Probability is approximately fraction of trials with the outcome of interest<\/li>\n",
        "<\/ul>\n",
        "<\/li>\n",
        "<\/ul>\n",
        "\n",
        "<\/div>"
      ],
      "metadata":{
        
      }
    },
    {
      "cell_type":"markdown",
      "source":[
        "<div class=\"text_cell_render border-box-sizing rendered_html\">\n",
        "<h3 id=\"Generating-random-numbers-using-the-np.random-module\">\n",
        "<a class=\"anchor\" href=\"#Generating-random-numbers-using-the-np.random-module\" aria-hidden=\"true\"><span class=\"octicon octicon-link\"><\/span><\/a>Generating random numbers using the np.random module<a class=\"anchor-link\" href=\"#Generating-random-numbers-using-the-np.random-module\"><i class=\"fas fa-link fa-xs\"><\/i><\/a>\n",
        "<\/h3>\n",
        "<p>We will be hammering the np.random module for the rest of this course and its sequel. Actually, you will probably call functions from this module more than any other while wearing your hacker statistician hat. Let's start by taking its simplest function, <code>np.random.random()<\/code> for a test spin. The function returns a random number between zero and one. Call <code>np.random.random()<\/code> a few times in the IPython shell. You should see numbers jumping around between zero and one.<\/p>\n",
        "<p>In this exercise, we'll generate lots of random numbers between zero and one, and then plot a histogram of the results. If the numbers are truly random, all bars in the histogram should be of (close to) equal height.<\/p>\n",
        "<p>You may have noticed that, in the video, Justin generated 4 random numbers by passing the keyword argument <code>size=4<\/code> to <code>np.random.random()<\/code>. Such an approach is more efficient than a for loop: in this exercise, however, you will write a for loop to experience hacker statistics as the practice of repeating an experiment over and over again.<\/p>\n",
        "\n",
        "<\/div>"
      ],
      "metadata":{
        
      }
    },
    {
      "cell_type":"code",
      "source":[
        "np.random.seed(42)\n",
        "\n",
        "# Initialize random numbers: random_numbers\n",
        "random_numbers = np.empty(100000)\n",
        "\n",
        "# Generate random numbers by looping over range(100000)\n",
        "for i in range(100000):\n",
        "    random_numbers[i] = np.random.random()\n",
        "# Plot a histogram Uniform\n",
        "_ = plt.hist(random_numbers)"
      ],
      "execution_count":8,
      "outputs":[
        {
          "data":{
            "image\/png":"[encoded data removed]"
          },
          "metadata":{
            "image\/png":{
              "width":0,
              "height":0
            }
          },
          "output_type":"display_data"
        }
      ],
      "metadata":{
        
      }
    },
    {
      "cell_type":"markdown",
      "source":[
        "<div class=\"text_cell_render border-box-sizing rendered_html\">\n",
        "<h3 id=\"The-np.random-module-and-Bernoulli-trials\">\n",
        "<a class=\"anchor\" href=\"#The-np.random-module-and-Bernoulli-trials\" aria-hidden=\"true\"><span class=\"octicon octicon-link\"><\/span><\/a>The np.random module and Bernoulli trials<a class=\"anchor-link\" href=\"#The-np.random-module-and-Bernoulli-trials\"><i class=\"fas fa-link fa-xs\"><\/i><\/a>\n",
        "<\/h3>\n",
        "<p>You can think of a Bernoulli trial as a flip of a possibly biased coin. Specifically, each coin flip has a probability p of landing heads (success) and probability 1−p of landing tails (failure). In this exercise, you will write a function to perform n Bernoulli trials, <code>perform_bernoulli_trials(n, p)<\/code>, which returns the number of successes out of n Bernoulli trials, each of which has probability p of success. To perform each Bernoulli trial, use the <code>np.random.random()<\/code> function, which returns a random number between zero and one.<\/p>\n",
        "\n",
        "<\/div>"
      ],
      "metadata":{
        
      }
    },
    {
      "cell_type":"code",
      "source":[
        "def perform_bernoulli_trials(n,p):\n",
        "\n",
        "    \"\"\"\n",
        "    Let p be the probability of success in a Bernoulli trial, and q be the probability of failure.\n",
        "    Perform n Bernoulli trials with success probability p and return number of successes\n",
        "    \"\"\"\n",
        "\n",
        "    # Initialize number of successes: n_successes\n",
        "    n_success  = 0\n",
        "\n",
        "    # Perform no of Trails\n",
        "    for i in range(n):\n",
        "        \n",
        "        #  Choose random number between zero and one: random_number\n",
        "        random_number = np.random.random()\n",
        "\n",
        "        # If less than p, it`s a success so add one to n_success\n",
        "        if random_number<p:\n",
        "            n_success +=1\n",
        "    return n_success"
      ],
      "execution_count":9,
      "outputs":[
        
      ],
      "metadata":{
        
      }
    },
    {
      "cell_type":"markdown",
      "source":[
        "<div class=\"text_cell_render border-box-sizing rendered_html\">\n",
        "<h3 id=\"How-many-defaults-might-we-expect?\">\n",
        "<a class=\"anchor\" href=\"#How-many-defaults-might-we-expect?\" aria-hidden=\"true\"><span class=\"octicon octicon-link\"><\/span><\/a>How many defaults might we expect?<a class=\"anchor-link\" href=\"#How-many-defaults-might-we-expect?\"><i class=\"fas fa-link fa-xs\"><\/i><\/a>\n",
        "<\/h3>\n",
        "<p>Let's say a bank made 100 mortgage loans. It is possible that anywhere between 0 and 100 of the loans will be defaulted upon. You would like to know the probability of getting a given number of defaults, given that the probability of a default is p = 0.05. To investigate this, you will do a simulation. You will perform 100 Bernoulli trials using the <code>perform_bernoulli_trials()<\/code> function you wrote in the previous exercise and record how many defaults we get. Here, a success is a default. (Remember that the word \"success\" just means that the Bernoulli trial evaluates to True, i.e., did the loan recipient default?) You will do this for another 100 Bernoulli trials. And again and again until we have tried it 1000 times. Then, you will plot a histogram describing the probability of the number of defaults.<\/p>\n",
        "\n",
        "<\/div>"
      ],
      "metadata":{
        
      }
    },
    {
      "cell_type":"code",
      "source":[
        "np.random.seed(42)\n",
        "\n",
        "# Initialize the number of defaults: n_defaults\n",
        "n_defaults = np.empty(1000)\n",
        "\n",
        "# Compute the number of defaults\n",
        "for i in range(1000):\n",
        "    n_defaults[i] = perform_bernoulli_trials(100, 0.05)\n",
        "\n",
        "\n",
        "# Plot the histogram with default number of bins; label your axes\n",
        "_ = plt.hist(n_defaults, density=True)\n",
        "_ = plt.xlabel('number of defaults out of 100 loans')\n",
        "_ = plt.ylabel('probability')"
      ],
      "execution_count":11,
      "outputs":[
        
      ],
      "metadata":{
        
      }
    },
    {
      "cell_type":"markdown",
      "source":[
        "<div class=\"text_cell_render border-box-sizing rendered_html\">\n",
        "<h3 id=\"Will-the-bank-fail?\">\n",
        "<a class=\"anchor\" href=\"#Will-the-bank-fail?\" aria-hidden=\"true\"><span class=\"octicon octicon-link\"><\/span><\/a>Will the bank fail?<a class=\"anchor-link\" href=\"#Will-the-bank-fail?\"><i class=\"fas fa-link fa-xs\"><\/i><\/a>\n",
        "<\/h3>\n",
        "<p>Plot the number of defaults you got from the previous exercise, in your namespace as n_defaults, as a CDF.<\/p>\n",
        "<p>If interest rates are such that the bank will lose money if 10 or more of its loans are defaulted upon, what is the probability that the bank will lose money?<\/p>\n",
        "\n",
        "<\/div>"
      ],
      "metadata":{
        
      }
    },
    {
      "cell_type":"code",
      "source":[
        "def ecdf(data):\n",
        "    \"\"\"Compute ECDF for a one-dimensional array of measurements.\"\"\"\n",
        "    # Number of data points: n\n",
        "    n = len(data)\n",
        "\n",
        "    # x-data for the ECDF: x\n",
        "    x = np.sort(data)\n",
        "\n",
        "    # y-data for the ECDF: y\n",
        "    y = np.arange(1, n + 1) \/ n\n",
        "\n",
        "    return x, y"
      ],
      "execution_count":12,
      "outputs":[
        
      ],
      "metadata":{
        
      }
    },
    {
      "cell_type":"code",
      "source":[
        "x, y = ecdf(n_defaults)\n",
        "\n",
        "# Plot the ECDF with labeled axes\n",
        "_ = plt.plot(x, y, marker='.', linestyle='none')\n",
        "_ = plt.xlabel('x')\n",
        "_ = plt.ylabel('y')"
      ],
      "execution_count":13,
      "outputs":[
        {
          "data":{
            "image\/png":"[encoded data removed]"
          },
          "metadata":{
            "image\/png":{
              "width":0,
              "height":0
            }
          },
          "output_type":"display_data"
        }
      ],
      "metadata":{
        
      }
    },
    {
      "cell_type":"code",
      "source":[
        "# Compute the number of 100-loan simulations with 10 or more defaults: n_lose_money\n",
        "n_lose_money = np.sum(n_defaults>=10)\n",
        "\n",
        "# Compute and print probability of losing money\n",
        "print('Probability of losing money =',n_lose_money\/len(n_defaults))"
      ],
      "execution_count":14,
      "outputs":[
        {
          "name":"stdout",
          "text":[
            "Probability of losing money = 0.022\n"
          ],
          "output_type":"stream"
        }
      ],
      "metadata":{
        
      }
    },
    {
      "cell_type":"markdown",
      "source":[
        "<div class=\"text_cell_render border-box-sizing rendered_html\">\n",
        "<h2 id=\"Probability-distributions-and-stories:-The-Binomial-distribution\">\n",
        "<a class=\"anchor\" href=\"#Probability-distributions-and-stories:-The-Binomial-distribution\" aria-hidden=\"true\"><span class=\"octicon octicon-link\"><\/span><\/a>Probability distributions and stories: The Binomial distribution<a class=\"anchor-link\" href=\"#Probability-distributions-and-stories:-The-Binomial-distribution\"><i class=\"fas fa-link fa-xs\"><\/i><\/a>\n",
        "<\/h2>\n",
        "<ul>\n",
        "<li>Probability mass function (PMF)<ul>\n",
        "<li>The set of probabilities of discrete outcomes<\/li>\n",
        "<\/ul>\n",
        "<\/li>\n",
        "<li>Probability distribution<ul>\n",
        "<li>A mathmatical description of outcomes<\/li>\n",
        "<\/ul>\n",
        "<\/li>\n",
        "<li>Binomial distribution<ul>\n",
        "<li>The number r of successes in n Bernoulli trials with probability p of success, is Binomially distributed<\/li>\n",
        "<li>The number r of heads in 4 coin flips with probability 0.5 of heads, is Binomially distributed<\/li>\n",
        "<\/ul>\n",
        "<\/li>\n",
        "<\/ul>\n",
        "\n",
        "<\/div>\n",
        "\n",
        "\n",
        "<div class=\"text_cell_render border-box-sizing rendered_html\">\n",
        "<h3 id=\"Sampling-out-of-the-Binomial-distribution\">\n",
        "<a class=\"anchor\" href=\"#Sampling-out-of-the-Binomial-distribution\" aria-hidden=\"true\"><span class=\"octicon octicon-link\"><\/span><\/a>Sampling out of the Binomial distribution<a class=\"anchor-link\" href=\"#Sampling-out-of-the-Binomial-distribution\"><i class=\"fas fa-link fa-xs\"><\/i><\/a>\n",
        "<\/h3>\n",
        "<p>Compute the probability mass function for the number of defaults we would expect for 100 loans as in the last section, but instead of simulating all of the Bernoulli trials, perform the sampling using <code>np.random.binomial()<\/code>. This is identical to the calculation you did in the last set of exercises using your custom-written <code>perform_bernoulli_trials()<\/code> function, but far more computationally efficient. Given this extra efficiency, we will take 10,000 samples instead of 1000. After taking the samples, plot the CDF as last time. This CDF that you are plotting is that of the Binomial distribution.<\/p>\n",
        "<p>Note: For this exercise and all going forward, the random number generator is pre-seeded for you (with <code>np.random.seed(42)<\/code>) to save you typing that each time.<\/p>\n",
        "\n",
        "<\/div>"
      ],
      "metadata":{
        
      }
    },
    {
      "cell_type":"code",
      "source":[
        "np.random.seed(42)\n",
        "n_defaults = np.random.binomial(n=100, p=0.05, size=10000)\n",
        "\n",
        "# Compute CDF: x, y\n",
        "x, y = ecdf(n_defaults)"
      ],
      "execution_count":15,
      "outputs":[
        
      ],
      "metadata":{
        
      }
    },
    {
      "cell_type":"code",
      "source":[
        "# Plot the CDF with axis labels\n",
        "_ = plt.plot(x, y, marker='.', linestyle='none')\n",
        "_ = plt.xlabel('x')\n",
        "_ = plt.ylabel('y')"
      ],
      "execution_count":16,
      "outputs":[
        
      ],
      "metadata":{
        
      }
    },
    {
      "cell_type":"markdown",
      "source":[
        "<div class=\"text_cell_render border-box-sizing rendered_html\">\n",
        "<h3 id=\"Plotting-the-Binomial-PMF\">\n",
        "<a class=\"anchor\" href=\"#Plotting-the-Binomial-PMF\" aria-hidden=\"true\"><span class=\"octicon octicon-link\"><\/span><\/a>Plotting the Binomial PMF<a class=\"anchor-link\" href=\"#Plotting-the-Binomial-PMF\"><i class=\"fas fa-link fa-xs\"><\/i><\/a>\n",
        "<\/h3>\n",
        "<p>Plotting a nice looking PMF requires a bit of matplotlib trickery that we will not go into here. Instead, we will plot the PMF of the Binomial distribution as a histogram with skills you have already learned. The trick is setting up the edges of the bins to pass to <code>plt.hist()<\/code> via the <code>bins<\/code> keyword argument. We want the bins centered on the integers. So, the edges of the bins should be -0.5, 0.5, 1.5, 2.5, ... up to <code>max(n_defaults) + 1.5<\/code>. You can generate an array like this using <code>np.arange()<\/code> and then subtracting 0.5 from the array.<\/p>\n",
        "<p>You have already sampled out of the Binomial distribution during your exercises on loan defaults, and the resulting samples are in the NumPy array <code>n_defaults<\/code>.<\/p>\n",
        "\n",
        "<\/div>"
      ],
      "metadata":{
        
      }
    },
    {
      "cell_type":"code",
      "source":[
        "# Compute bin edges: bins\n",
        "bins = np.arange(0, max(n_defaults) + 2) - 0.5\n",
        "# Generate histogram\n",
        "_ = plt.hist(n_defaults, bins=bins, density=True)\n",
        "\n",
        "# Label axes\n",
        "_ = plt.xlabel('x')\n",
        "_ = plt.ylabel('y')"
      ],
      "execution_count":17,
      "outputs":[
        {
          "data":{
            "image\/png":"[encoded data removed]"
          },
          "metadata":{
            "image\/png":{
              "width":0,
              "height":0
            }
          },
          "output_type":"display_data"
        }
      ],
      "metadata":{
        
      }
    },
    {
      "cell_type":"markdown",
      "source":[
        "## Poisson processes and the Poisson distribution\n",
        "- Poisson process\n",
        "    - The timing of the next event is completely independent of when the previous event happened\n",
        "- Example\n",
        "    - Natural births in a given hospital\n",
        "    - Hit on a website during a given hour\n",
        "    - Meteor strikes\n",
        "    - Molecular collisions in a gas\n",
        "    - Aviation incidents\n",
        "    - Buses in Poissonville\n",
        "- Poisson Distribution\n",
        "    - The number r of arrivals of a Poisson process in a given time interval with average rate of? arrivals per interval is Poisson distributed.\n",
        "    - The number r of hits on a website in one hour with an average hit rate of 6 hits per hour is Poisson distributed.\n",
        "    - Limit of the Binomial distribution for low probability of success and large number of trials\n",
        "    "
      ],
      "metadata":{
        
      }
    },
    {
      "cell_type":"markdown",
      "source":[
        "### Relationship between Binomial and Poisson distributions\n",
        "You just heard that the Poisson distribution is a limit of the Binomial distribution for rare events. This makes sense if you think about the stories. Say we do a Bernoulli trial every minute for an hour, each with a success probability of 0.1. We would do 60 trials, and the number of successes is Binomially distributed, and we would expect to get about 6 successes. This is just like the Poisson story we discussed in the video, where we get on average 6 hits on a website per hour. So, the Poisson distribution with arrival rate equal to np approximates a Binomial distribution for n Bernoulli trials with probability p of success (with n large and p small). Importantly, the Poisson distribution is often simpler to work with because it has only one parameter instead of two for the Binomial distribution.\n",
        "\n",
        "Let's explore these two distributions computationally. You will compute the mean and standard deviation of samples from a Poisson distribution with an arrival rate of 10. Then, you will compute the mean and standard deviation of samples from a Binomial distribution with parameters n and p such that np=10."
      ],
      "metadata":{
        
      }
    },
    {
      "cell_type":"code",
      "source":[
        "# Draw 10,000 samples out of Poisson distribution: samples_poisson\n",
        "samples_poisson = np.random.poisson(10, 10000)\n",
        "\n",
        "# Print the mean and standard deviation\n",
        "print('Poisson:     ', np.mean(samples_poisson), np.std(samples_poisson))\n",
        "\n",
        "# Specify values of n and p to consider for Binomial: n, p\n",
        "n = [20, 100, 1000]\n",
        "p = [0.5, 0.1, 0.01]\n",
        "\n",
        "# Draw 10,000 samples for each n,p pair: samples_binomial\n",
        "for i in range(3):\n",
        "    samples_binomial = np.random.binomial(n[i], p[i], size=10000)\n",
        "    \n",
        "    # Print results\n",
        "    print('n = ', n[i], 'Binom:', np.mean(samples_binomial), np.std(samples_binomial))"
      ],
      "execution_count":18,
      "outputs":[
        {
          "name":"stdout",
          "text":[
            "Poisson:      9.9732 3.1276319732347027\n",
            "n =  20 Binom: 9.9999 2.243858282066851\n",
            "n =  100 Binom: 9.9957 2.998346462635698\n",
            "n =  1000 Binom: 9.997 3.124162447761\n"
          ],
          "output_type":"stream"
        }
      ],
      "metadata":{
        
      }
    },
    {
      "cell_type":"markdown",
      "source":[
        "### Was 2015 anomalous?\n",
        "1990 and 2015 featured the most no-hitters of any season of baseball (there were seven). Given that there are on average 251\/115 no-hitters per season, what is the probability of having seven or more in a season?"
      ],
      "metadata":{
        
      }
    },
    {
      "cell_type":"code",
      "source":[
        "\n",
        "# Draw 10,000 samples out of Poisson distribution: n_nohitters\n",
        "n_nohitters = np.random.poisson(251\/115, 10000)\n",
        "\n",
        "# Compute number of samples that are seven or greater: n_large\n",
        "n_large = np.sum(n_nohitters >= 7)\n",
        "\n",
        "# compute probability of getting seven or more: p_large\n",
        "p_large = n_large \/ 10000\n",
        "\n",
        "# Print the result\n",
        "print('Probability of seven or more no-hitters:', p_large)"
      ],
      "execution_count":19,
      "outputs":[
        {
          "name":"stdout",
          "text":[
            "Probability of seven or more no-hitters: 0.0067\n"
          ],
          "output_type":"stream"
        }
      ],
      "metadata":{
        
      }
    },
    {
      "cell_type":"code",
      "source":[
        
      ],
      "execution_count":null,
      "outputs":[
        
      ],
      "metadata":{
        
      }
    }
  ],
  "metadata":{
    
  },
  "nbformat":4,
  "nbformat_minor":0
}