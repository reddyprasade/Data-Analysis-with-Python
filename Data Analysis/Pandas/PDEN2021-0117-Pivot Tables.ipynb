{
 "cells": [
  {
   "cell_type": "markdown",
   "source": "## Pivot table",
   "metadata": {
    "tags": [],
    "cell_id": "00000-d3f05b15-c703-4d70-96e8-a02e36b4f6a5",
    "is_collapsed": false,
    "deepnote_cell_type": "text-cell-h2"
   }
  },
  {
   "cell_type": "markdown",
   "source": "We have seen how the ``GroupBy`` abstraction lets us explore relationships within a dataset.\nA *pivot table* is a similar operation that is commonly seen in spreadsheets and other programs that operate on tabular data.\nThe pivot table takes simple column-wise data as input, and groups the entries into a two-dimensional table that provides a multidimensional summarization of the data.\nThe difference between pivot tables and ``GroupBy`` can sometimes cause confusion; it helps me to think of pivot tables as essentially a *multidimensional* version of ``GroupBy`` aggregation.\nThat is, you split-apply-combine, but both the split and the combine happen across not a one-dimensional index, but across a two-dimensional grid.",
   "metadata": {
    "tags": [],
    "cell_id": "00001-b0df1a96-9223-4e53-bbf1-2063270b11d0",
    "deepnote_cell_type": "markdown"
   }
  },
  {
   "cell_type": "code",
   "metadata": {
    "tags": [],
    "cell_id": "00000-8dc4d8d3-ab87-47ab-bf86-ac310bcb990f",
    "deepnote_to_be_reexecuted": false,
    "source_hash": "fd96d2ba",
    "execution_start": 1626665238424,
    "execution_millis": 3788,
    "deepnote_cell_type": "code"
   },
   "source": "# Start writing code here...\nimport numpy as np\nimport pandas as pd\nimport matplotlib.pyplot as plt\nimport seaborn as sns",
   "outputs": [],
   "execution_count": null
  },
  {
   "cell_type": "code",
   "metadata": {
    "tags": [],
    "cell_id": "00003-62bbb57c-7855-412f-9177-c9ee8fe13b90",
    "deepnote_to_be_reexecuted": false,
    "source_hash": "aa1ccc62",
    "execution_start": 1626663859914,
    "execution_millis": 399,
    "deepnote_cell_type": "code"
   },
   "source": "titanic = sns.load_dataset(\"titanic\")",
   "outputs": [],
   "execution_count": null
  },
  {
   "cell_type": "code",
   "metadata": {
    "tags": [],
    "cell_id": "00004-8f04fb54-c71d-46c2-adf6-bad3a54e8774",
    "deepnote_to_be_reexecuted": false,
    "source_hash": "6a379207",
    "execution_start": 1626663860327,
    "execution_millis": 233,
    "deepnote_cell_type": "code"
   },
   "source": "titanic.head()",
   "outputs": [
    {
     "output_type": "execute_result",
     "execution_count": 3,
     "data": {
      "application/vnd.deepnote.dataframe.v2+json": {
       "row_count": 5,
       "column_count": 15,
       "columns": [
        {
         "name": "survived",
         "dtype": "int64",
         "stats": {
          "unique_count": 2,
          "nan_count": 0,
          "min": "0",
          "max": "1",
          "histogram": [
           {
            "bin_start": 0,
            "bin_end": 0.1,
            "count": 2
           },
           {
            "bin_start": 0.1,
            "bin_end": 0.2,
            "count": 0
           },
           {
            "bin_start": 0.2,
            "bin_end": 0.30000000000000004,
            "count": 0
           },
           {
            "bin_start": 0.30000000000000004,
            "bin_end": 0.4,
            "count": 0
           },
           {
            "bin_start": 0.4,
            "bin_end": 0.5,
            "count": 0
           },
           {
            "bin_start": 0.5,
            "bin_end": 0.6000000000000001,
            "count": 0
           },
           {
            "bin_start": 0.6000000000000001,
            "bin_end": 0.7000000000000001,
            "count": 0
           },
           {
            "bin_start": 0.7000000000000001,
            "bin_end": 0.8,
            "count": 0
           },
           {
            "bin_start": 0.8,
            "bin_end": 0.9,
            "count": 0
           },
           {
            "bin_start": 0.9,
            "bin_end": 1,
            "count": 3
           }
          ]
         }
        },
        {
         "name": "pclass",
         "dtype": "int64",
         "stats": {
          "unique_count": 2,
          "nan_count": 0,
          "min": "1",
          "max": "3",
          "histogram": [
           {
            "bin_start": 1,
            "bin_end": 1.2,
            "count": 2
           },
           {
            "bin_start": 1.2,
            "bin_end": 1.4,
            "count": 0
           },
           {
            "bin_start": 1.4,
            "bin_end": 1.6,
            "count": 0
           },
           {
            "bin_start": 1.6,
            "bin_end": 1.8,
            "count": 0
           },
           {
            "bin_start": 1.8,
            "bin_end": 2,
            "count": 0
           },
           {
            "bin_start": 2,
            "bin_end": 2.2,
            "count": 0
           },
           {
            "bin_start": 2.2,
            "bin_end": 2.4000000000000004,
            "count": 0
           },
           {
            "bin_start": 2.4000000000000004,
            "bin_end": 2.6,
            "count": 0
           },
           {
            "bin_start": 2.6,
            "bin_end": 2.8,
            "count": 0
           },
           {
            "bin_start": 2.8,
            "bin_end": 3,
            "count": 3
           }
          ]
         }
        },
        {
         "name": "sex",
         "dtype": "object",
         "stats": {
          "unique_count": 2,
          "nan_count": 0,
          "categories": [
           {
            "name": "female",
            "count": 3
           },
           {
            "name": "male",
            "count": 2
           }
          ]
         }
        },
        {
         "name": "age",
         "dtype": "float64",
         "stats": {
          "unique_count": 4,
          "nan_count": 0,
          "min": "22.0",
          "max": "38.0",
          "histogram": [
           {
            "bin_start": 22,
            "bin_end": 23.6,
            "count": 1
           },
           {
            "bin_start": 23.6,
            "bin_end": 25.2,
            "count": 0
           },
           {
            "bin_start": 25.2,
            "bin_end": 26.8,
            "count": 1
           },
           {
            "bin_start": 26.8,
            "bin_end": 28.4,
            "count": 0
           },
           {
            "bin_start": 28.4,
            "bin_end": 30,
            "count": 0
           },
           {
            "bin_start": 30,
            "bin_end": 31.6,
            "count": 0
           },
           {
            "bin_start": 31.6,
            "bin_end": 33.2,
            "count": 0
           },
           {
            "bin_start": 33.2,
            "bin_end": 34.8,
            "count": 0
           },
           {
            "bin_start": 34.8,
            "bin_end": 36.4,
            "count": 2
           },
           {
            "bin_start": 36.4,
            "bin_end": 38,
            "count": 1
           }
          ]
         }
        },
        {
         "name": "sibsp",
         "dtype": "int64",
         "stats": {
          "unique_count": 2,
          "nan_count": 0,
          "min": "0",
          "max": "1",
          "histogram": [
           {
            "bin_start": 0,
            "bin_end": 0.1,
            "count": 2
           },
           {
            "bin_start": 0.1,
            "bin_end": 0.2,
            "count": 0
           },
           {
            "bin_start": 0.2,
            "bin_end": 0.30000000000000004,
            "count": 0
           },
           {
            "bin_start": 0.30000000000000004,
            "bin_end": 0.4,
            "count": 0
           },
           {
            "bin_start": 0.4,
            "bin_end": 0.5,
            "count": 0
           },
           {
            "bin_start": 0.5,
            "bin_end": 0.6000000000000001,
            "count": 0
           },
           {
            "bin_start": 0.6000000000000001,
            "bin_end": 0.7000000000000001,
            "count": 0
           },
           {
            "bin_start": 0.7000000000000001,
            "bin_end": 0.8,
            "count": 0
           },
           {
            "bin_start": 0.8,
            "bin_end": 0.9,
            "count": 0
           },
           {
            "bin_start": 0.9,
            "bin_end": 1,
            "count": 3
           }
          ]
         }
        },
        {
         "name": "parch",
         "dtype": "int64",
         "stats": {
          "unique_count": 1,
          "nan_count": 0,
          "min": "0",
          "max": "0",
          "histogram": [
           {
            "bin_start": -0.5,
            "bin_end": -0.4,
            "count": 0
           },
           {
            "bin_start": -0.4,
            "bin_end": -0.3,
            "count": 0
           },
           {
            "bin_start": -0.3,
            "bin_end": -0.19999999999999996,
            "count": 0
           },
           {
            "bin_start": -0.19999999999999996,
            "bin_end": -0.09999999999999998,
            "count": 0
           },
           {
            "bin_start": -0.09999999999999998,
            "bin_end": 0,
            "count": 0
           },
           {
            "bin_start": 0,
            "bin_end": 0.10000000000000009,
            "count": 5
           },
           {
            "bin_start": 0.10000000000000009,
            "bin_end": 0.20000000000000007,
            "count": 0
           },
           {
            "bin_start": 0.20000000000000007,
            "bin_end": 0.30000000000000004,
            "count": 0
           },
           {
            "bin_start": 0.30000000000000004,
            "bin_end": 0.4,
            "count": 0
           },
           {
            "bin_start": 0.4,
            "bin_end": 0.5,
            "count": 0
           }
          ]
         }
        },
        {
         "name": "fare",
         "dtype": "float64",
         "stats": {
          "unique_count": 5,
          "nan_count": 0,
          "min": "7.25",
          "max": "71.2833",
          "histogram": [
           {
            "bin_start": 7.25,
            "bin_end": 13.65333,
            "count": 3
           },
           {
            "bin_start": 13.65333,
            "bin_end": 20.05666,
            "count": 0
           },
           {
            "bin_start": 20.05666,
            "bin_end": 26.459989999999998,
            "count": 0
           },
           {
            "bin_start": 26.459989999999998,
            "bin_end": 32.86332,
            "count": 0
           },
           {
            "bin_start": 32.86332,
            "bin_end": 39.26665,
            "count": 0
           },
           {
            "bin_start": 39.26665,
            "bin_end": 45.669979999999995,
            "count": 0
           },
           {
            "bin_start": 45.669979999999995,
            "bin_end": 52.07331,
            "count": 0
           },
           {
            "bin_start": 52.07331,
            "bin_end": 58.476639999999996,
            "count": 1
           },
           {
            "bin_start": 58.476639999999996,
            "bin_end": 64.87996999999999,
            "count": 0
           },
           {
            "bin_start": 64.87996999999999,
            "bin_end": 71.2833,
            "count": 1
           }
          ]
         }
        },
        {
         "name": "embarked",
         "dtype": "object",
         "stats": {
          "unique_count": 2,
          "nan_count": 0,
          "categories": [
           {
            "name": "S",
            "count": 4
           },
           {
            "name": "C",
            "count": 1
           }
          ]
         }
        },
        {
         "name": "class",
         "dtype": "category",
         "stats": {
          "unique_count": 2,
          "nan_count": 0,
          "categories": [
           {
            "name": "Third",
            "count": 3
           },
           {
            "name": "First",
            "count": 2
           }
          ]
         }
        },
        {
         "name": "who",
         "dtype": "object",
         "stats": {
          "unique_count": 2,
          "nan_count": 0,
          "categories": [
           {
            "name": "woman",
            "count": 3
           },
           {
            "name": "man",
            "count": 2
           }
          ]
         }
        },
        {
         "name": "adult_male",
         "dtype": "bool",
         "stats": {
          "unique_count": 2,
          "nan_count": 0,
          "categories": [
           {
            "name": "False",
            "count": 3
           },
           {
            "name": "True",
            "count": 2
           }
          ]
         }
        },
        {
         "name": "deck",
         "dtype": "category",
         "stats": {
          "unique_count": 1,
          "nan_count": 3,
          "categories": [
           {
            "name": "C",
            "count": 2
           },
           {
            "name": "Missing",
            "count": 3
           }
          ]
         }
        },
        {
         "name": "embark_town",
         "dtype": "object",
         "stats": {
          "unique_count": 2,
          "nan_count": 0,
          "categories": [
           {
            "name": "Southampton",
            "count": 4
           },
           {
            "name": "Cherbourg",
            "count": 1
           }
          ]
         }
        },
        {
         "name": "alive",
         "dtype": "object",
         "stats": {
          "unique_count": 2,
          "nan_count": 0,
          "categories": [
           {
            "name": "yes",
            "count": 3
           },
           {
            "name": "no",
            "count": 2
           }
          ]
         }
        },
        {
         "name": "alone",
         "dtype": "bool",
         "stats": {
          "unique_count": 2,
          "nan_count": 0,
          "categories": [
           {
            "name": "False",
            "count": 3
           },
           {
            "name": "True",
            "count": 2
           }
          ]
         }
        },
        {
         "name": "_deepnote_index_column",
         "dtype": "int64"
        }
       ],
       "rows_top": [
        {
         "survived": 0,
         "pclass": 3,
         "sex": "male",
         "age": 22,
         "sibsp": 1,
         "parch": 0,
         "fare": 7.25,
         "embarked": "S",
         "class": "Third",
         "who": "man",
         "adult_male": "True",
         "deck": "nan",
         "embark_town": "Southampton",
         "alive": "no",
         "alone": "False",
         "_deepnote_index_column": 0
        },
        {
         "survived": 1,
         "pclass": 1,
         "sex": "female",
         "age": 38,
         "sibsp": 1,
         "parch": 0,
         "fare": 71.2833,
         "embarked": "C",
         "class": "First",
         "who": "woman",
         "adult_male": "False",
         "deck": "C",
         "embark_town": "Cherbourg",
         "alive": "yes",
         "alone": "False",
         "_deepnote_index_column": 1
        },
        {
         "survived": 1,
         "pclass": 3,
         "sex": "female",
         "age": 26,
         "sibsp": 0,
         "parch": 0,
         "fare": 7.925,
         "embarked": "S",
         "class": "Third",
         "who": "woman",
         "adult_male": "False",
         "deck": "nan",
         "embark_town": "Southampton",
         "alive": "yes",
         "alone": "True",
         "_deepnote_index_column": 2
        },
        {
         "survived": 1,
         "pclass": 1,
         "sex": "female",
         "age": 35,
         "sibsp": 1,
         "parch": 0,
         "fare": 53.1,
         "embarked": "S",
         "class": "First",
         "who": "woman",
         "adult_male": "False",
         "deck": "C",
         "embark_town": "Southampton",
         "alive": "yes",
         "alone": "False",
         "_deepnote_index_column": 3
        },
        {
         "survived": 0,
         "pclass": 3,
         "sex": "male",
         "age": 35,
         "sibsp": 0,
         "parch": 0,
         "fare": 8.05,
         "embarked": "S",
         "class": "Third",
         "who": "man",
         "adult_male": "True",
         "deck": "nan",
         "embark_town": "Southampton",
         "alive": "no",
         "alone": "True",
         "_deepnote_index_column": 4
        }
       ],
       "rows_bottom": null
      },
      "text/plain": "   survived  pclass     sex   age  sibsp  parch     fare embarked  class  \\\n0         0       3    male  22.0      1      0   7.2500        S  Third   \n1         1       1  female  38.0      1      0  71.2833        C  First   \n2         1       3  female  26.0      0      0   7.9250        S  Third   \n3         1       1  female  35.0      1      0  53.1000        S  First   \n4         0       3    male  35.0      0      0   8.0500        S  Third   \n\n     who  adult_male deck  embark_town alive  alone  \n0    man        True  NaN  Southampton    no  False  \n1  woman       False    C    Cherbourg   yes  False  \n2  woman       False  NaN  Southampton   yes   True  \n3  woman       False    C  Southampton   yes  False  \n4    man        True  NaN  Southampton    no   True  ",
      "text/html": "<div>\n<style scoped>\n    .dataframe tbody tr th:only-of-type {\n        vertical-align: middle;\n    }\n\n    .dataframe tbody tr th {\n        vertical-align: top;\n    }\n\n    .dataframe thead th {\n        text-align: right;\n    }\n</style>\n<table border=\"1\" class=\"dataframe\">\n  <thead>\n    <tr style=\"text-align: right;\">\n      <th></th>\n      <th>survived</th>\n      <th>pclass</th>\n      <th>sex</th>\n      <th>age</th>\n      <th>sibsp</th>\n      <th>parch</th>\n      <th>fare</th>\n      <th>embarked</th>\n      <th>class</th>\n      <th>who</th>\n      <th>adult_male</th>\n      <th>deck</th>\n      <th>embark_town</th>\n      <th>alive</th>\n      <th>alone</th>\n    </tr>\n  </thead>\n  <tbody>\n    <tr>\n      <th>0</th>\n      <td>0</td>\n      <td>3</td>\n      <td>male</td>\n      <td>22.0</td>\n      <td>1</td>\n      <td>0</td>\n      <td>7.2500</td>\n      <td>S</td>\n      <td>Third</td>\n      <td>man</td>\n      <td>True</td>\n      <td>NaN</td>\n      <td>Southampton</td>\n      <td>no</td>\n      <td>False</td>\n    </tr>\n    <tr>\n      <th>1</th>\n      <td>1</td>\n      <td>1</td>\n      <td>female</td>\n      <td>38.0</td>\n      <td>1</td>\n      <td>0</td>\n      <td>71.2833</td>\n      <td>C</td>\n      <td>First</td>\n      <td>woman</td>\n      <td>False</td>\n      <td>C</td>\n      <td>Cherbourg</td>\n      <td>yes</td>\n      <td>False</td>\n    </tr>\n    <tr>\n      <th>2</th>\n      <td>1</td>\n      <td>3</td>\n      <td>female</td>\n      <td>26.0</td>\n      <td>0</td>\n      <td>0</td>\n      <td>7.9250</td>\n      <td>S</td>\n      <td>Third</td>\n      <td>woman</td>\n      <td>False</td>\n      <td>NaN</td>\n      <td>Southampton</td>\n      <td>yes</td>\n      <td>True</td>\n    </tr>\n    <tr>\n      <th>3</th>\n      <td>1</td>\n      <td>1</td>\n      <td>female</td>\n      <td>35.0</td>\n      <td>1</td>\n      <td>0</td>\n      <td>53.1000</td>\n      <td>S</td>\n      <td>First</td>\n      <td>woman</td>\n      <td>False</td>\n      <td>C</td>\n      <td>Southampton</td>\n      <td>yes</td>\n      <td>False</td>\n    </tr>\n    <tr>\n      <th>4</th>\n      <td>0</td>\n      <td>3</td>\n      <td>male</td>\n      <td>35.0</td>\n      <td>0</td>\n      <td>0</td>\n      <td>8.0500</td>\n      <td>S</td>\n      <td>Third</td>\n      <td>man</td>\n      <td>True</td>\n      <td>NaN</td>\n      <td>Southampton</td>\n      <td>no</td>\n      <td>True</td>\n    </tr>\n  </tbody>\n</table>\n</div>"
     },
     "metadata": {}
    }
   ],
   "execution_count": null
  },
  {
   "cell_type": "code",
   "metadata": {
    "tags": [],
    "cell_id": "00005-e339a27a-5b6c-4022-af38-b7a83491d367",
    "deepnote_to_be_reexecuted": false,
    "source_hash": "b0b9b7d3",
    "execution_start": 1626663860650,
    "execution_millis": 18,
    "deepnote_cell_type": "code"
   },
   "source": "titanic.groupby('sex')[['survived']].mean()",
   "outputs": [
    {
     "output_type": "execute_result",
     "execution_count": 4,
     "data": {
      "application/vnd.deepnote.dataframe.v2+json": {
       "row_count": 2,
       "column_count": 1,
       "columns": [
        {
         "name": "survived",
         "dtype": "float64",
         "stats": {
          "unique_count": 2,
          "nan_count": 0,
          "min": "0.18890814558058924",
          "max": "0.7420382165605095",
          "histogram": [
           {
            "bin_start": 0.18890814558058924,
            "bin_end": 0.24422115267858127,
            "count": 1
           },
           {
            "bin_start": 0.24422115267858127,
            "bin_end": 0.29953415977657327,
            "count": 0
           },
           {
            "bin_start": 0.29953415977657327,
            "bin_end": 0.3548471668745653,
            "count": 0
           },
           {
            "bin_start": 0.3548471668745653,
            "bin_end": 0.41016017397255733,
            "count": 0
           },
           {
            "bin_start": 0.41016017397255733,
            "bin_end": 0.46547318107054936,
            "count": 0
           },
           {
            "bin_start": 0.46547318107054936,
            "bin_end": 0.5207861881685414,
            "count": 0
           },
           {
            "bin_start": 0.5207861881685414,
            "bin_end": 0.5760991952665334,
            "count": 0
           },
           {
            "bin_start": 0.5760991952665334,
            "bin_end": 0.6314122023645254,
            "count": 0
           },
           {
            "bin_start": 0.6314122023645254,
            "bin_end": 0.6867252094625175,
            "count": 0
           },
           {
            "bin_start": 0.6867252094625175,
            "bin_end": 0.7420382165605095,
            "count": 1
           }
          ]
         }
        },
        {
         "name": "_deepnote_index_column",
         "dtype": "object"
        }
       ],
       "rows_top": [
        {
         "survived": 0.7420382165605095,
         "_deepnote_index_column": "female"
        },
        {
         "survived": 0.18890814558058924,
         "_deepnote_index_column": "male"
        }
       ],
       "rows_bottom": null
      },
      "text/plain": "        survived\nsex             \nfemale  0.742038\nmale    0.188908",
      "text/html": "<div>\n<style scoped>\n    .dataframe tbody tr th:only-of-type {\n        vertical-align: middle;\n    }\n\n    .dataframe tbody tr th {\n        vertical-align: top;\n    }\n\n    .dataframe thead th {\n        text-align: right;\n    }\n</style>\n<table border=\"1\" class=\"dataframe\">\n  <thead>\n    <tr style=\"text-align: right;\">\n      <th></th>\n      <th>survived</th>\n    </tr>\n    <tr>\n      <th>sex</th>\n      <th></th>\n    </tr>\n  </thead>\n  <tbody>\n    <tr>\n      <th>female</th>\n      <td>0.742038</td>\n    </tr>\n    <tr>\n      <th>male</th>\n      <td>0.188908</td>\n    </tr>\n  </tbody>\n</table>\n</div>"
     },
     "metadata": {}
    }
   ],
   "execution_count": null
  },
  {
   "cell_type": "code",
   "source": "titanic.groupby(['sex','class'])['survived'].agg('mean').unstack()",
   "metadata": {
    "tags": [],
    "cell_id": "00006-3be8a675-2028-44d8-94ab-3ddcb06410eb",
    "deepnote_to_be_reexecuted": false,
    "source_hash": "8ba6bd8e",
    "execution_start": 1626663860692,
    "execution_millis": 78,
    "deepnote_cell_type": "code"
   },
   "outputs": [
    {
     "output_type": "execute_result",
     "execution_count": 5,
     "data": {
      "application/vnd.deepnote.dataframe.v2+json": {
       "row_count": 2,
       "column_count": 3,
       "columns": [
        {
         "name": "First",
         "dtype": "float64",
         "stats": {
          "unique_count": 2,
          "nan_count": 0,
          "min": "0.36885245901639346",
          "max": "0.9680851063829787",
          "histogram": [
           {
            "bin_start": 0.36885245901639346,
            "bin_end": 0.428775723753052,
            "count": 1
           },
           {
            "bin_start": 0.428775723753052,
            "bin_end": 0.4886989884897105,
            "count": 0
           },
           {
            "bin_start": 0.4886989884897105,
            "bin_end": 0.548622253226369,
            "count": 0
           },
           {
            "bin_start": 0.548622253226369,
            "bin_end": 0.6085455179630276,
            "count": 0
           },
           {
            "bin_start": 0.6085455179630276,
            "bin_end": 0.668468782699686,
            "count": 0
           },
           {
            "bin_start": 0.668468782699686,
            "bin_end": 0.7283920474363446,
            "count": 0
           },
           {
            "bin_start": 0.7283920474363446,
            "bin_end": 0.7883153121730031,
            "count": 0
           },
           {
            "bin_start": 0.7883153121730031,
            "bin_end": 0.8482385769096616,
            "count": 0
           },
           {
            "bin_start": 0.8482385769096616,
            "bin_end": 0.9081618416463202,
            "count": 0
           },
           {
            "bin_start": 0.9081618416463202,
            "bin_end": 0.9680851063829787,
            "count": 1
           }
          ]
         }
        },
        {
         "name": "Second",
         "dtype": "float64",
         "stats": {
          "unique_count": 2,
          "nan_count": 0,
          "min": "0.1574074074074074",
          "max": "0.9210526315789473",
          "histogram": [
           {
            "bin_start": 0.1574074074074074,
            "bin_end": 0.2337719298245614,
            "count": 1
           },
           {
            "bin_start": 0.2337719298245614,
            "bin_end": 0.3101364522417154,
            "count": 0
           },
           {
            "bin_start": 0.3101364522417154,
            "bin_end": 0.3865009746588694,
            "count": 0
           },
           {
            "bin_start": 0.3865009746588694,
            "bin_end": 0.4628654970760234,
            "count": 0
           },
           {
            "bin_start": 0.4628654970760234,
            "bin_end": 0.5392300194931774,
            "count": 0
           },
           {
            "bin_start": 0.5392300194931774,
            "bin_end": 0.6155945419103314,
            "count": 0
           },
           {
            "bin_start": 0.6155945419103314,
            "bin_end": 0.6919590643274854,
            "count": 0
           },
           {
            "bin_start": 0.6919590643274854,
            "bin_end": 0.7683235867446394,
            "count": 0
           },
           {
            "bin_start": 0.7683235867446394,
            "bin_end": 0.8446881091617934,
            "count": 0
           },
           {
            "bin_start": 0.8446881091617934,
            "bin_end": 0.9210526315789473,
            "count": 1
           }
          ]
         }
        },
        {
         "name": "Third",
         "dtype": "float64",
         "stats": {
          "unique_count": 2,
          "nan_count": 0,
          "min": "0.13544668587896252",
          "max": "0.5",
          "histogram": [
           {
            "bin_start": 0.13544668587896252,
            "bin_end": 0.17190201729106627,
            "count": 1
           },
           {
            "bin_start": 0.17190201729106627,
            "bin_end": 0.20835734870317002,
            "count": 0
           },
           {
            "bin_start": 0.20835734870317002,
            "bin_end": 0.24481268011527377,
            "count": 0
           },
           {
            "bin_start": 0.24481268011527377,
            "bin_end": 0.2812680115273775,
            "count": 0
           },
           {
            "bin_start": 0.2812680115273775,
            "bin_end": 0.31772334293948123,
            "count": 0
           },
           {
            "bin_start": 0.31772334293948123,
            "bin_end": 0.354178674351585,
            "count": 0
           },
           {
            "bin_start": 0.354178674351585,
            "bin_end": 0.39063400576368873,
            "count": 0
           },
           {
            "bin_start": 0.39063400576368873,
            "bin_end": 0.4270893371757925,
            "count": 0
           },
           {
            "bin_start": 0.4270893371757925,
            "bin_end": 0.4635446685878963,
            "count": 0
           },
           {
            "bin_start": 0.4635446685878963,
            "bin_end": 0.5,
            "count": 1
           }
          ]
         }
        },
        {
         "name": "_deepnote_index_column",
         "dtype": "object"
        }
       ],
       "rows_top": [
        {
         "First": 0.9680851063829787,
         "Second": 0.9210526315789473,
         "Third": 0.5,
         "_deepnote_index_column": "female"
        },
        {
         "First": 0.36885245901639346,
         "Second": 0.1574074074074074,
         "Third": 0.13544668587896252,
         "_deepnote_index_column": "male"
        }
       ],
       "rows_bottom": null
      },
      "text/plain": "class      First    Second     Third\nsex                                 \nfemale  0.968085  0.921053  0.500000\nmale    0.368852  0.157407  0.135447",
      "text/html": "<div>\n<style scoped>\n    .dataframe tbody tr th:only-of-type {\n        vertical-align: middle;\n    }\n\n    .dataframe tbody tr th {\n        vertical-align: top;\n    }\n\n    .dataframe thead th {\n        text-align: right;\n    }\n</style>\n<table border=\"1\" class=\"dataframe\">\n  <thead>\n    <tr style=\"text-align: right;\">\n      <th>class</th>\n      <th>First</th>\n      <th>Second</th>\n      <th>Third</th>\n    </tr>\n    <tr>\n      <th>sex</th>\n      <th></th>\n      <th></th>\n      <th></th>\n    </tr>\n  </thead>\n  <tbody>\n    <tr>\n      <th>female</th>\n      <td>0.968085</td>\n      <td>0.921053</td>\n      <td>0.500000</td>\n    </tr>\n    <tr>\n      <th>male</th>\n      <td>0.368852</td>\n      <td>0.157407</td>\n      <td>0.135447</td>\n    </tr>\n  </tbody>\n</table>\n</div>"
     },
     "metadata": {}
    }
   ],
   "execution_count": null
  },
  {
   "cell_type": "code",
   "source": "titanic.groupby(['sex','class'])[['survived']].agg('mean')",
   "metadata": {
    "tags": [],
    "cell_id": "00007-9ec73ca8-311e-45c9-8db0-af54588342b9",
    "deepnote_to_be_reexecuted": false,
    "source_hash": "2def418a",
    "execution_start": 1626663860821,
    "execution_millis": 92,
    "deepnote_cell_type": "code"
   },
   "outputs": [
    {
     "output_type": "execute_result",
     "execution_count": 6,
     "data": {
      "application/vnd.deepnote.dataframe.v2+json": {
       "row_count": 6,
       "column_count": 1,
       "columns": [
        {
         "name": "survived",
         "dtype": "float64",
         "stats": {
          "unique_count": 6,
          "nan_count": 0,
          "min": "0.13544668587896252",
          "max": "0.9680851063829787",
          "histogram": [
           {
            "bin_start": 0.13544668587896252,
            "bin_end": 0.21871052792936416,
            "count": 2
           },
           {
            "bin_start": 0.21871052792936416,
            "bin_end": 0.3019743699797658,
            "count": 0
           },
           {
            "bin_start": 0.3019743699797658,
            "bin_end": 0.3852382120301674,
            "count": 1
           },
           {
            "bin_start": 0.3852382120301674,
            "bin_end": 0.46850205408056905,
            "count": 0
           },
           {
            "bin_start": 0.46850205408056905,
            "bin_end": 0.5517658961309706,
            "count": 1
           },
           {
            "bin_start": 0.5517658961309706,
            "bin_end": 0.6350297381813723,
            "count": 0
           },
           {
            "bin_start": 0.6350297381813723,
            "bin_end": 0.718293580231774,
            "count": 0
           },
           {
            "bin_start": 0.718293580231774,
            "bin_end": 0.8015574222821755,
            "count": 0
           },
           {
            "bin_start": 0.8015574222821755,
            "bin_end": 0.8848212643325772,
            "count": 0
           },
           {
            "bin_start": 0.8848212643325772,
            "bin_end": 0.9680851063829787,
            "count": 2
           }
          ]
         }
        },
        {
         "name": "_deepnote_index_column",
         "dtype": "object"
        }
       ],
       "rows_top": [
        {
         "survived": 0.9680851063829787,
         "_deepnote_index_column": "('female', 'First')"
        },
        {
         "survived": 0.9210526315789473,
         "_deepnote_index_column": "('female', 'Second')"
        },
        {
         "survived": 0.5,
         "_deepnote_index_column": "('female', 'Third')"
        },
        {
         "survived": 0.36885245901639346,
         "_deepnote_index_column": "('male', 'First')"
        },
        {
         "survived": 0.1574074074074074,
         "_deepnote_index_column": "('male', 'Second')"
        },
        {
         "survived": 0.13544668587896252,
         "_deepnote_index_column": "('male', 'Third')"
        }
       ],
       "rows_bottom": null
      },
      "text/plain": "               survived\nsex    class           \nfemale First   0.968085\n       Second  0.921053\n       Third   0.500000\nmale   First   0.368852\n       Second  0.157407\n       Third   0.135447",
      "text/html": "<div>\n<style scoped>\n    .dataframe tbody tr th:only-of-type {\n        vertical-align: middle;\n    }\n\n    .dataframe tbody tr th {\n        vertical-align: top;\n    }\n\n    .dataframe thead th {\n        text-align: right;\n    }\n</style>\n<table border=\"1\" class=\"dataframe\">\n  <thead>\n    <tr style=\"text-align: right;\">\n      <th></th>\n      <th></th>\n      <th>survived</th>\n    </tr>\n    <tr>\n      <th>sex</th>\n      <th>class</th>\n      <th></th>\n    </tr>\n  </thead>\n  <tbody>\n    <tr>\n      <th rowspan=\"3\" valign=\"top\">female</th>\n      <th>First</th>\n      <td>0.968085</td>\n    </tr>\n    <tr>\n      <th>Second</th>\n      <td>0.921053</td>\n    </tr>\n    <tr>\n      <th>Third</th>\n      <td>0.500000</td>\n    </tr>\n    <tr>\n      <th rowspan=\"3\" valign=\"top\">male</th>\n      <th>First</th>\n      <td>0.368852</td>\n    </tr>\n    <tr>\n      <th>Second</th>\n      <td>0.157407</td>\n    </tr>\n    <tr>\n      <th>Third</th>\n      <td>0.135447</td>\n    </tr>\n  </tbody>\n</table>\n</div>"
     },
     "metadata": {}
    }
   ],
   "execution_count": null
  },
  {
   "cell_type": "markdown",
   "source": "df.pivot_table(data, values=None, index=None, columns=None, aggfunc='mean', fill_value=None, margins=False, dropna=True, margins_name='All', observed=False, sort=True)",
   "metadata": {
    "tags": [],
    "cell_id": "00008-36c91dc1-8741-419b-9746-72aa7cff8360",
    "deepnote_cell_type": "markdown"
   }
  },
  {
   "cell_type": "code",
   "source": "titanic.pivot_table('survived',index='sex',columns='class')",
   "metadata": {
    "tags": [],
    "cell_id": "00008-f0668c44-e3fe-48f5-855f-63e4ca2cfe41",
    "deepnote_to_be_reexecuted": false,
    "source_hash": "5277d414",
    "execution_start": 1626663860910,
    "execution_millis": 153,
    "deepnote_cell_type": "code"
   },
   "outputs": [
    {
     "output_type": "execute_result",
     "execution_count": 7,
     "data": {
      "application/vnd.deepnote.dataframe.v2+json": {
       "row_count": 2,
       "column_count": 3,
       "columns": [
        {
         "name": "First",
         "dtype": "float64",
         "stats": {
          "unique_count": 2,
          "nan_count": 0,
          "min": "0.36885245901639346",
          "max": "0.9680851063829787",
          "histogram": [
           {
            "bin_start": 0.36885245901639346,
            "bin_end": 0.428775723753052,
            "count": 1
           },
           {
            "bin_start": 0.428775723753052,
            "bin_end": 0.4886989884897105,
            "count": 0
           },
           {
            "bin_start": 0.4886989884897105,
            "bin_end": 0.548622253226369,
            "count": 0
           },
           {
            "bin_start": 0.548622253226369,
            "bin_end": 0.6085455179630276,
            "count": 0
           },
           {
            "bin_start": 0.6085455179630276,
            "bin_end": 0.668468782699686,
            "count": 0
           },
           {
            "bin_start": 0.668468782699686,
            "bin_end": 0.7283920474363446,
            "count": 0
           },
           {
            "bin_start": 0.7283920474363446,
            "bin_end": 0.7883153121730031,
            "count": 0
           },
           {
            "bin_start": 0.7883153121730031,
            "bin_end": 0.8482385769096616,
            "count": 0
           },
           {
            "bin_start": 0.8482385769096616,
            "bin_end": 0.9081618416463202,
            "count": 0
           },
           {
            "bin_start": 0.9081618416463202,
            "bin_end": 0.9680851063829787,
            "count": 1
           }
          ]
         }
        },
        {
         "name": "Second",
         "dtype": "float64",
         "stats": {
          "unique_count": 2,
          "nan_count": 0,
          "min": "0.1574074074074074",
          "max": "0.9210526315789473",
          "histogram": [
           {
            "bin_start": 0.1574074074074074,
            "bin_end": 0.2337719298245614,
            "count": 1
           },
           {
            "bin_start": 0.2337719298245614,
            "bin_end": 0.3101364522417154,
            "count": 0
           },
           {
            "bin_start": 0.3101364522417154,
            "bin_end": 0.3865009746588694,
            "count": 0
           },
           {
            "bin_start": 0.3865009746588694,
            "bin_end": 0.4628654970760234,
            "count": 0
           },
           {
            "bin_start": 0.4628654970760234,
            "bin_end": 0.5392300194931774,
            "count": 0
           },
           {
            "bin_start": 0.5392300194931774,
            "bin_end": 0.6155945419103314,
            "count": 0
           },
           {
            "bin_start": 0.6155945419103314,
            "bin_end": 0.6919590643274854,
            "count": 0
           },
           {
            "bin_start": 0.6919590643274854,
            "bin_end": 0.7683235867446394,
            "count": 0
           },
           {
            "bin_start": 0.7683235867446394,
            "bin_end": 0.8446881091617934,
            "count": 0
           },
           {
            "bin_start": 0.8446881091617934,
            "bin_end": 0.9210526315789473,
            "count": 1
           }
          ]
         }
        },
        {
         "name": "Third",
         "dtype": "float64",
         "stats": {
          "unique_count": 2,
          "nan_count": 0,
          "min": "0.13544668587896252",
          "max": "0.5",
          "histogram": [
           {
            "bin_start": 0.13544668587896252,
            "bin_end": 0.17190201729106627,
            "count": 1
           },
           {
            "bin_start": 0.17190201729106627,
            "bin_end": 0.20835734870317002,
            "count": 0
           },
           {
            "bin_start": 0.20835734870317002,
            "bin_end": 0.24481268011527377,
            "count": 0
           },
           {
            "bin_start": 0.24481268011527377,
            "bin_end": 0.2812680115273775,
            "count": 0
           },
           {
            "bin_start": 0.2812680115273775,
            "bin_end": 0.31772334293948123,
            "count": 0
           },
           {
            "bin_start": 0.31772334293948123,
            "bin_end": 0.354178674351585,
            "count": 0
           },
           {
            "bin_start": 0.354178674351585,
            "bin_end": 0.39063400576368873,
            "count": 0
           },
           {
            "bin_start": 0.39063400576368873,
            "bin_end": 0.4270893371757925,
            "count": 0
           },
           {
            "bin_start": 0.4270893371757925,
            "bin_end": 0.4635446685878963,
            "count": 0
           },
           {
            "bin_start": 0.4635446685878963,
            "bin_end": 0.5,
            "count": 1
           }
          ]
         }
        },
        {
         "name": "_deepnote_index_column",
         "dtype": "object"
        }
       ],
       "rows_top": [
        {
         "First": 0.9680851063829787,
         "Second": 0.9210526315789473,
         "Third": 0.5,
         "_deepnote_index_column": "female"
        },
        {
         "First": 0.36885245901639346,
         "Second": 0.1574074074074074,
         "Third": 0.13544668587896252,
         "_deepnote_index_column": "male"
        }
       ],
       "rows_bottom": null
      },
      "text/plain": "class      First    Second     Third\nsex                                 \nfemale  0.968085  0.921053  0.500000\nmale    0.368852  0.157407  0.135447",
      "text/html": "<div>\n<style scoped>\n    .dataframe tbody tr th:only-of-type {\n        vertical-align: middle;\n    }\n\n    .dataframe tbody tr th {\n        vertical-align: top;\n    }\n\n    .dataframe thead th {\n        text-align: right;\n    }\n</style>\n<table border=\"1\" class=\"dataframe\">\n  <thead>\n    <tr style=\"text-align: right;\">\n      <th>class</th>\n      <th>First</th>\n      <th>Second</th>\n      <th>Third</th>\n    </tr>\n    <tr>\n      <th>sex</th>\n      <th></th>\n      <th></th>\n      <th></th>\n    </tr>\n  </thead>\n  <tbody>\n    <tr>\n      <th>female</th>\n      <td>0.968085</td>\n      <td>0.921053</td>\n      <td>0.500000</td>\n    </tr>\n    <tr>\n      <th>male</th>\n      <td>0.368852</td>\n      <td>0.157407</td>\n      <td>0.135447</td>\n    </tr>\n  </tbody>\n</table>\n</div>"
     },
     "metadata": {}
    }
   ],
   "execution_count": null
  },
  {
   "cell_type": "code",
   "source": "age_cut = pd.cut(titanic['age'],[0,18,50,100])\ntitanic.pivot_table('survived',['sex',age_cut],'class')",
   "metadata": {
    "tags": [],
    "cell_id": "00010-2c18e591-1c29-46d8-91d1-d4037d3438ce",
    "deepnote_to_be_reexecuted": false,
    "source_hash": "ad28c023",
    "execution_start": 1626663861059,
    "execution_millis": 150,
    "deepnote_cell_type": "code"
   },
   "outputs": [
    {
     "output_type": "execute_result",
     "execution_count": 8,
     "data": {
      "application/vnd.deepnote.dataframe.v2+json": {
       "row_count": 6,
       "column_count": 3,
       "columns": [
        {
         "name": "First",
         "dtype": "float64",
         "stats": {
          "unique_count": 6,
          "nan_count": 0,
          "min": "0.19230769230769232",
          "max": "1.0",
          "histogram": [
           {
            "bin_start": 0.19230769230769232,
            "bin_end": 0.2730769230769231,
            "count": 1
           },
           {
            "bin_start": 0.2730769230769231,
            "bin_end": 0.35384615384615387,
            "count": 0
           },
           {
            "bin_start": 0.35384615384615387,
            "bin_end": 0.4346153846153846,
            "count": 0
           },
           {
            "bin_start": 0.4346153846153846,
            "bin_end": 0.5153846153846154,
            "count": 1
           },
           {
            "bin_start": 0.5153846153846154,
            "bin_end": 0.5961538461538461,
            "count": 0
           },
           {
            "bin_start": 0.5961538461538461,
            "bin_end": 0.676923076923077,
            "count": 0
           },
           {
            "bin_start": 0.676923076923077,
            "bin_end": 0.7576923076923077,
            "count": 0
           },
           {
            "bin_start": 0.7576923076923077,
            "bin_end": 0.8384615384615385,
            "count": 1
           },
           {
            "bin_start": 0.8384615384615385,
            "bin_end": 0.9192307692307693,
            "count": 1
           },
           {
            "bin_start": 0.9192307692307693,
            "bin_end": 1,
            "count": 2
           }
          ]
         }
        },
        {
         "name": "Second",
         "dtype": "float64",
         "stats": {
          "unique_count": 6,
          "nan_count": 0,
          "min": "0.06944444444444445",
          "max": "1.0",
          "histogram": [
           {
            "bin_start": 0.06944444444444445,
            "bin_end": 0.1625,
            "count": 2
           },
           {
            "bin_start": 0.1625,
            "bin_end": 0.25555555555555554,
            "count": 0
           },
           {
            "bin_start": 0.25555555555555554,
            "bin_end": 0.3486111111111111,
            "count": 0
           },
           {
            "bin_start": 0.3486111111111111,
            "bin_end": 0.44166666666666665,
            "count": 0
           },
           {
            "bin_start": 0.44166666666666665,
            "bin_end": 0.5347222222222222,
            "count": 0
           },
           {
            "bin_start": 0.5347222222222222,
            "bin_end": 0.6277777777777778,
            "count": 1
           },
           {
            "bin_start": 0.6277777777777778,
            "bin_end": 0.7208333333333333,
            "count": 1
           },
           {
            "bin_start": 0.7208333333333333,
            "bin_end": 0.8138888888888889,
            "count": 0
           },
           {
            "bin_start": 0.8138888888888889,
            "bin_end": 0.9069444444444444,
            "count": 0
           },
           {
            "bin_start": 0.9069444444444444,
            "bin_end": 1,
            "count": 2
           }
          ]
         }
        },
        {
         "name": "Third",
         "dtype": "float64",
         "stats": {
          "unique_count": 6,
          "nan_count": 0,
          "min": "0.0",
          "max": "1.0",
          "histogram": [
           {
            "bin_start": 0,
            "bin_end": 0.1,
            "count": 1
           },
           {
            "bin_start": 0.1,
            "bin_end": 0.2,
            "count": 1
           },
           {
            "bin_start": 0.2,
            "bin_end": 0.30000000000000004,
            "count": 1
           },
           {
            "bin_start": 0.30000000000000004,
            "bin_end": 0.4,
            "count": 0
           },
           {
            "bin_start": 0.4,
            "bin_end": 0.5,
            "count": 1
           },
           {
            "bin_start": 0.5,
            "bin_end": 0.6000000000000001,
            "count": 1
           },
           {
            "bin_start": 0.6000000000000001,
            "bin_end": 0.7000000000000001,
            "count": 0
           },
           {
            "bin_start": 0.7000000000000001,
            "bin_end": 0.8,
            "count": 0
           },
           {
            "bin_start": 0.8,
            "bin_end": 0.9,
            "count": 0
           },
           {
            "bin_start": 0.9,
            "bin_end": 1,
            "count": 1
           }
          ]
         }
        },
        {
         "name": "_deepnote_index_column",
         "dtype": "object"
        }
       ],
       "rows_top": [
        {
         "First": 0.9090909090909091,
         "Second": 1,
         "Third": 0.5116279069767442,
         "_deepnote_index_column": "('female', Interval(0, 18, closed='right'))"
        },
        {
         "First": 0.9672131147540983,
         "Second": 0.9122807017543859,
         "Third": 0.41379310344827586,
         "_deepnote_index_column": "('female', Interval(18, 50, closed='right'))"
        },
        {
         "First": 1,
         "Second": 0.6666666666666666,
         "Third": 1,
         "_deepnote_index_column": "('female', Interval(50, 100, closed='right'))"
        },
        {
         "First": 0.8,
         "Second": 0.6,
         "Third": 0.21568627450980393,
         "_deepnote_index_column": "('male', Interval(0, 18, closed='right'))"
        },
        {
         "First": 0.44285714285714284,
         "Second": 0.06944444444444445,
         "Third": 0.13989637305699482,
         "_deepnote_index_column": "('male', Interval(18, 50, closed='right'))"
        },
        {
         "First": 0.19230769230769232,
         "Second": 0.08333333333333333,
         "Third": 0,
         "_deepnote_index_column": "('male', Interval(50, 100, closed='right'))"
        }
       ],
       "rows_bottom": null
      },
      "text/plain": "class                First    Second     Third\nsex    age                                    \nfemale (0, 18]    0.909091  1.000000  0.511628\n       (18, 50]   0.967213  0.912281  0.413793\n       (50, 100]  1.000000  0.666667  1.000000\nmale   (0, 18]    0.800000  0.600000  0.215686\n       (18, 50]   0.442857  0.069444  0.139896\n       (50, 100]  0.192308  0.083333  0.000000",
      "text/html": "<div>\n<style scoped>\n    .dataframe tbody tr th:only-of-type {\n        vertical-align: middle;\n    }\n\n    .dataframe tbody tr th {\n        vertical-align: top;\n    }\n\n    .dataframe thead th {\n        text-align: right;\n    }\n</style>\n<table border=\"1\" class=\"dataframe\">\n  <thead>\n    <tr style=\"text-align: right;\">\n      <th></th>\n      <th>class</th>\n      <th>First</th>\n      <th>Second</th>\n      <th>Third</th>\n    </tr>\n    <tr>\n      <th>sex</th>\n      <th>age</th>\n      <th></th>\n      <th></th>\n      <th></th>\n    </tr>\n  </thead>\n  <tbody>\n    <tr>\n      <th rowspan=\"3\" valign=\"top\">female</th>\n      <th>(0, 18]</th>\n      <td>0.909091</td>\n      <td>1.000000</td>\n      <td>0.511628</td>\n    </tr>\n    <tr>\n      <th>(18, 50]</th>\n      <td>0.967213</td>\n      <td>0.912281</td>\n      <td>0.413793</td>\n    </tr>\n    <tr>\n      <th>(50, 100]</th>\n      <td>1.000000</td>\n      <td>0.666667</td>\n      <td>1.000000</td>\n    </tr>\n    <tr>\n      <th rowspan=\"3\" valign=\"top\">male</th>\n      <th>(0, 18]</th>\n      <td>0.800000</td>\n      <td>0.600000</td>\n      <td>0.215686</td>\n    </tr>\n    <tr>\n      <th>(18, 50]</th>\n      <td>0.442857</td>\n      <td>0.069444</td>\n      <td>0.139896</td>\n    </tr>\n    <tr>\n      <th>(50, 100]</th>\n      <td>0.192308</td>\n      <td>0.083333</td>\n      <td>0.000000</td>\n    </tr>\n  </tbody>\n</table>\n</div>"
     },
     "metadata": {}
    }
   ],
   "execution_count": null
  },
  {
   "cell_type": "code",
   "source": "fare = pd.qcut(titanic['fare'], 2)\ntitanic.pivot_table('survived', ['sex', age_cut,'class'], [fare])",
   "metadata": {
    "tags": [],
    "cell_id": "00013-6977872f-1981-4d64-a5a1-1711c5a5ab48",
    "deepnote_to_be_reexecuted": false,
    "source_hash": "10fea32b",
    "execution_start": 1626664609693,
    "execution_millis": 47,
    "deepnote_cell_type": "code"
   },
   "outputs": [
    {
     "output_type": "execute_result",
     "execution_count": 11,
     "data": {
      "application/vnd.deepnote.dataframe.v2+json": {
       "error": "Traceback (most recent call last):\n  File \"/shared-libs/python3.7/py/lib/python3.7/site-packages/pandas/core/indexes/interval.py\", line 637, in get_loc\n    mask = op_left(self.left, key) & op_right(key, self.right)\n  File \"/shared-libs/python3.7/py/lib/python3.7/site-packages/pandas/core/ops/common.py\", line 65, in new_method\n    return method(self, other)\n  File \"/shared-libs/python3.7/py/lib/python3.7/site-packages/pandas/core/arraylike.py\", line 37, in __lt__\n    return self._cmp_method(other, operator.lt)\n  File \"/shared-libs/python3.7/py/lib/python3.7/site-packages/pandas/core/indexes/base.py\", line 5639, in _cmp_method\n    result = ops.comparison_op(self._values, other, op)\n  File \"/shared-libs/python3.7/py/lib/python3.7/site-packages/pandas/core/ops/array_ops.py\", line 240, in comparison_op\n    return invalid_comparison(lvalues, rvalues, op)\n  File \"/shared-libs/python3.7/py/lib/python3.7/site-packages/pandas/core/ops/invalid.py\", line 34, in invalid_comparison\n    raise TypeError(f\"Invalid comparison between dtype={left.dtype} and {typ}\")\nTypeError: Invalid comparison between dtype=float64 and str\n\nThe above exception was the direct cause of the following exception:\n\nTraceback (most recent call last):\n  File \"/shared-libs/python3.7/py/lib/python3.7/site-packages/pandas/core/generic.py\", line 3826, in _set_item\n    loc = self._info_axis.get_loc(key)\n  File \"/shared-libs/python3.7/py/lib/python3.7/site-packages/pandas/core/indexes/interval.py\", line 640, in get_loc\n    raise KeyError(key) from err\nKeyError: '_deepnote_index_column'\n\nDuring handling of the above exception, another exception occurred:\n\nTraceback (most recent call last):\n  File \"/shared-libs/code/variable_explorer.py\", line 165, in dataframe_formatter\n    return {MIME_TYPE: describe_pd_dataframe(df)}\n  File \"/shared-libs/code/variable_explorer_helpers.py\", line 178, in describe_pd_dataframe\n    df_analyzed[\"_deepnote_index_column\"] = df_analyzed.index\n  File \"/shared-libs/python3.7/py/lib/python3.7/site-packages/pandas/core/frame.py\", line 3163, in __setitem__\n    self._set_item(key, value)\n  File \"/shared-libs/python3.7/py/lib/python3.7/site-packages/pandas/core/frame.py\", line 3243, in _set_item\n    NDFrame._set_item(self, key, value)\n  File \"/shared-libs/python3.7/py/lib/python3.7/site-packages/pandas/core/generic.py\", line 3829, in _set_item\n    self._mgr.insert(len(self._info_axis), key, value)\n  File \"/shared-libs/python3.7/py/lib/python3.7/site-packages/pandas/core/internals/managers.py\", line 1197, in insert\n    new_axis = self.items.insert(loc, item)\n  File \"/shared-libs/python3.7/py/lib/python3.7/site-packages/pandas/core/indexes/interval.py\", line 900, in insert\n    left_insert, right_insert = self._data._validate_scalar(item)\n  File \"/shared-libs/python3.7/py/lib/python3.7/site-packages/pandas/core/arrays/interval.py\", line 945, in _validate_scalar\n    \"can only insert Interval objects and NA into an IntervalArray\"\nTypeError: can only insert Interval objects and NA into an IntervalArray\n"
      },
      "text/plain": "fare                     (-0.001, 14.454]  (14.454, 512.329]\nsex    age       class                                      \nfemale (0, 18]   First                NaN           0.909091\n                 Second          1.000000           1.000000\n                 Third           0.714286           0.318182\n       (18, 50]  First                NaN           0.967213\n                 Second          0.916667           0.909091\n                 Third           0.428571           0.391304\n       (50, 100] First                NaN           1.000000\n                 Second          0.000000           1.000000\n                 Third           1.000000                NaN\nmale   (0, 18]   First                NaN           0.800000\n                 Second          0.000000           0.818182\n                 Third           0.260870           0.178571\n       (18, 50]  First           0.000000           0.469697\n                 Second          0.095238           0.033333\n                 Third           0.131737           0.192308\n       (50, 100] First                NaN           0.192308\n                 Second          0.111111           0.000000\n                 Third           0.000000                NaN",
      "text/html": "<div>\n<style scoped>\n    .dataframe tbody tr th:only-of-type {\n        vertical-align: middle;\n    }\n\n    .dataframe tbody tr th {\n        vertical-align: top;\n    }\n\n    .dataframe thead th {\n        text-align: right;\n    }\n</style>\n<table border=\"1\" class=\"dataframe\">\n  <thead>\n    <tr style=\"text-align: right;\">\n      <th></th>\n      <th></th>\n      <th>fare</th>\n      <th>(-0.001, 14.454]</th>\n      <th>(14.454, 512.329]</th>\n    </tr>\n    <tr>\n      <th>sex</th>\n      <th>age</th>\n      <th>class</th>\n      <th></th>\n      <th></th>\n    </tr>\n  </thead>\n  <tbody>\n    <tr>\n      <th rowspan=\"9\" valign=\"top\">female</th>\n      <th rowspan=\"3\" valign=\"top\">(0, 18]</th>\n      <th>First</th>\n      <td>NaN</td>\n      <td>0.909091</td>\n    </tr>\n    <tr>\n      <th>Second</th>\n      <td>1.000000</td>\n      <td>1.000000</td>\n    </tr>\n    <tr>\n      <th>Third</th>\n      <td>0.714286</td>\n      <td>0.318182</td>\n    </tr>\n    <tr>\n      <th rowspan=\"3\" valign=\"top\">(18, 50]</th>\n      <th>First</th>\n      <td>NaN</td>\n      <td>0.967213</td>\n    </tr>\n    <tr>\n      <th>Second</th>\n      <td>0.916667</td>\n      <td>0.909091</td>\n    </tr>\n    <tr>\n      <th>Third</th>\n      <td>0.428571</td>\n      <td>0.391304</td>\n    </tr>\n    <tr>\n      <th rowspan=\"3\" valign=\"top\">(50, 100]</th>\n      <th>First</th>\n      <td>NaN</td>\n      <td>1.000000</td>\n    </tr>\n    <tr>\n      <th>Second</th>\n      <td>0.000000</td>\n      <td>1.000000</td>\n    </tr>\n    <tr>\n      <th>Third</th>\n      <td>1.000000</td>\n      <td>NaN</td>\n    </tr>\n    <tr>\n      <th rowspan=\"9\" valign=\"top\">male</th>\n      <th rowspan=\"3\" valign=\"top\">(0, 18]</th>\n      <th>First</th>\n      <td>NaN</td>\n      <td>0.800000</td>\n    </tr>\n    <tr>\n      <th>Second</th>\n      <td>0.000000</td>\n      <td>0.818182</td>\n    </tr>\n    <tr>\n      <th>Third</th>\n      <td>0.260870</td>\n      <td>0.178571</td>\n    </tr>\n    <tr>\n      <th rowspan=\"3\" valign=\"top\">(18, 50]</th>\n      <th>First</th>\n      <td>0.000000</td>\n      <td>0.469697</td>\n    </tr>\n    <tr>\n      <th>Second</th>\n      <td>0.095238</td>\n      <td>0.033333</td>\n    </tr>\n    <tr>\n      <th>Third</th>\n      <td>0.131737</td>\n      <td>0.192308</td>\n    </tr>\n    <tr>\n      <th rowspan=\"3\" valign=\"top\">(50, 100]</th>\n      <th>First</th>\n      <td>NaN</td>\n      <td>0.192308</td>\n    </tr>\n    <tr>\n      <th>Second</th>\n      <td>0.111111</td>\n      <td>0.000000</td>\n    </tr>\n    <tr>\n      <th>Third</th>\n      <td>0.000000</td>\n      <td>NaN</td>\n    </tr>\n  </tbody>\n</table>\n</div>"
     },
     "metadata": {}
    }
   ],
   "execution_count": null
  },
  {
   "cell_type": "code",
   "source": "titanic.pivot_table(index='sex', columns='class',\n                    aggfunc={'survived':sum,'fare':'mean'})",
   "metadata": {
    "tags": [],
    "cell_id": "00014-a3617f4c-8184-4ee2-9277-97603dcf3ee1",
    "deepnote_to_be_reexecuted": false,
    "source_hash": "f58b71d7",
    "execution_start": 1626664703985,
    "execution_millis": 67,
    "deepnote_cell_type": "code"
   },
   "outputs": [
    {
     "output_type": "execute_result",
     "execution_count": 13,
     "data": {
      "application/vnd.deepnote.dataframe.v2+json": {
       "row_count": 2,
       "column_count": 6,
       "columns": [
        {
         "name": [
          "fare",
          "First"
         ],
         "dtype": "float64",
         "stats": {
          "unique_count": 2,
          "nan_count": 0,
          "min": "67.22612704918033",
          "max": "106.12579787234041",
          "histogram": [
           {
            "bin_start": 67.22612704918033,
            "bin_end": 71.11609413149634,
            "count": 1
           },
           {
            "bin_start": 71.11609413149634,
            "bin_end": 75.00606121381234,
            "count": 0
           },
           {
            "bin_start": 75.00606121381234,
            "bin_end": 78.89602829612835,
            "count": 0
           },
           {
            "bin_start": 78.89602829612835,
            "bin_end": 82.78599537844437,
            "count": 0
           },
           {
            "bin_start": 82.78599537844437,
            "bin_end": 86.67596246076037,
            "count": 0
           },
           {
            "bin_start": 86.67596246076037,
            "bin_end": 90.56592954307638,
            "count": 0
           },
           {
            "bin_start": 90.56592954307638,
            "bin_end": 94.45589662539238,
            "count": 0
           },
           {
            "bin_start": 94.45589662539238,
            "bin_end": 98.34586370770839,
            "count": 0
           },
           {
            "bin_start": 98.34586370770839,
            "bin_end": 102.23583079002441,
            "count": 0
           },
           {
            "bin_start": 102.23583079002441,
            "bin_end": 106.12579787234041,
            "count": 1
           }
          ]
         }
        },
        {
         "name": [
          "fare",
          "Second"
         ],
         "dtype": "float64",
         "stats": {
          "unique_count": 2,
          "nan_count": 0,
          "min": "19.74178240740741",
          "max": "21.97012105263158",
          "histogram": [
           {
            "bin_start": 19.74178240740741,
            "bin_end": 19.964616271929827,
            "count": 1
           },
           {
            "bin_start": 19.964616271929827,
            "bin_end": 20.187450136452245,
            "count": 0
           },
           {
            "bin_start": 20.187450136452245,
            "bin_end": 20.41028400097466,
            "count": 0
           },
           {
            "bin_start": 20.41028400097466,
            "bin_end": 20.633117865497077,
            "count": 0
           },
           {
            "bin_start": 20.633117865497077,
            "bin_end": 20.855951730019495,
            "count": 0
           },
           {
            "bin_start": 20.855951730019495,
            "bin_end": 21.078785594541912,
            "count": 0
           },
           {
            "bin_start": 21.078785594541912,
            "bin_end": 21.30161945906433,
            "count": 0
           },
           {
            "bin_start": 21.30161945906433,
            "bin_end": 21.524453323586744,
            "count": 0
           },
           {
            "bin_start": 21.524453323586744,
            "bin_end": 21.747287188109162,
            "count": 0
           },
           {
            "bin_start": 21.747287188109162,
            "bin_end": 21.97012105263158,
            "count": 1
           }
          ]
         }
        },
        {
         "name": [
          "fare",
          "Third"
         ],
         "dtype": "float64",
         "stats": {
          "unique_count": 2,
          "nan_count": 0,
          "min": "12.661632564841513",
          "max": "16.118809722222224",
          "histogram": [
           {
            "bin_start": 12.661632564841513,
            "bin_end": 13.007350280579583,
            "count": 1
           },
           {
            "bin_start": 13.007350280579583,
            "bin_end": 13.353067996317655,
            "count": 0
           },
           {
            "bin_start": 13.353067996317655,
            "bin_end": 13.698785712055727,
            "count": 0
           },
           {
            "bin_start": 13.698785712055727,
            "bin_end": 14.044503427793797,
            "count": 0
           },
           {
            "bin_start": 14.044503427793797,
            "bin_end": 14.390221143531868,
            "count": 0
           },
           {
            "bin_start": 14.390221143531868,
            "bin_end": 14.73593885926994,
            "count": 0
           },
           {
            "bin_start": 14.73593885926994,
            "bin_end": 15.081656575008012,
            "count": 0
           },
           {
            "bin_start": 15.081656575008012,
            "bin_end": 15.427374290746082,
            "count": 0
           },
           {
            "bin_start": 15.427374290746082,
            "bin_end": 15.773092006484152,
            "count": 0
           },
           {
            "bin_start": 15.773092006484152,
            "bin_end": 16.118809722222224,
            "count": 1
           }
          ]
         }
        },
        {
         "name": [
          "survived",
          "First"
         ],
         "dtype": "int64",
         "stats": {
          "unique_count": 2,
          "nan_count": 0,
          "min": "45",
          "max": "91",
          "histogram": [
           {
            "bin_start": 45,
            "bin_end": 49.6,
            "count": 1
           },
           {
            "bin_start": 49.6,
            "bin_end": 54.2,
            "count": 0
           },
           {
            "bin_start": 54.2,
            "bin_end": 58.8,
            "count": 0
           },
           {
            "bin_start": 58.8,
            "bin_end": 63.4,
            "count": 0
           },
           {
            "bin_start": 63.4,
            "bin_end": 68,
            "count": 0
           },
           {
            "bin_start": 68,
            "bin_end": 72.6,
            "count": 0
           },
           {
            "bin_start": 72.6,
            "bin_end": 77.19999999999999,
            "count": 0
           },
           {
            "bin_start": 77.19999999999999,
            "bin_end": 81.8,
            "count": 0
           },
           {
            "bin_start": 81.8,
            "bin_end": 86.4,
            "count": 0
           },
           {
            "bin_start": 86.4,
            "bin_end": 91,
            "count": 1
           }
          ]
         }
        },
        {
         "name": [
          "survived",
          "Second"
         ],
         "dtype": "int64",
         "stats": {
          "unique_count": 2,
          "nan_count": 0,
          "min": "17",
          "max": "70",
          "histogram": [
           {
            "bin_start": 17,
            "bin_end": 22.3,
            "count": 1
           },
           {
            "bin_start": 22.3,
            "bin_end": 27.6,
            "count": 0
           },
           {
            "bin_start": 27.6,
            "bin_end": 32.9,
            "count": 0
           },
           {
            "bin_start": 32.9,
            "bin_end": 38.2,
            "count": 0
           },
           {
            "bin_start": 38.2,
            "bin_end": 43.5,
            "count": 0
           },
           {
            "bin_start": 43.5,
            "bin_end": 48.8,
            "count": 0
           },
           {
            "bin_start": 48.8,
            "bin_end": 54.1,
            "count": 0
           },
           {
            "bin_start": 54.1,
            "bin_end": 59.4,
            "count": 0
           },
           {
            "bin_start": 59.4,
            "bin_end": 64.69999999999999,
            "count": 0
           },
           {
            "bin_start": 64.69999999999999,
            "bin_end": 70,
            "count": 1
           }
          ]
         }
        },
        {
         "name": [
          "survived",
          "Third"
         ],
         "dtype": "int64",
         "stats": {
          "unique_count": 2,
          "nan_count": 0,
          "min": "47",
          "max": "72",
          "histogram": [
           {
            "bin_start": 47,
            "bin_end": 49.5,
            "count": 1
           },
           {
            "bin_start": 49.5,
            "bin_end": 52,
            "count": 0
           },
           {
            "bin_start": 52,
            "bin_end": 54.5,
            "count": 0
           },
           {
            "bin_start": 54.5,
            "bin_end": 57,
            "count": 0
           },
           {
            "bin_start": 57,
            "bin_end": 59.5,
            "count": 0
           },
           {
            "bin_start": 59.5,
            "bin_end": 62,
            "count": 0
           },
           {
            "bin_start": 62,
            "bin_end": 64.5,
            "count": 0
           },
           {
            "bin_start": 64.5,
            "bin_end": 67,
            "count": 0
           },
           {
            "bin_start": 67,
            "bin_end": 69.5,
            "count": 0
           },
           {
            "bin_start": 69.5,
            "bin_end": 72,
            "count": 1
           }
          ]
         }
        },
        {
         "name": "_deepnote_index_column",
         "dtype": "object"
        }
       ],
       "rows_top": [
        {
         "('fare', 'First')": 106.12579787234041,
         "('fare', 'Second')": 21.97012105263158,
         "('fare', 'Third')": 16.118809722222224,
         "('survived', 'First')": 91,
         "('survived', 'Second')": 70,
         "('survived', 'Third')": 72,
         "_deepnote_index_column": "female"
        },
        {
         "('fare', 'First')": 67.22612704918033,
         "('fare', 'Second')": 19.74178240740741,
         "('fare', 'Third')": 12.661632564841513,
         "('survived', 'First')": 45,
         "('survived', 'Second')": 17,
         "('survived', 'Third')": 47,
         "_deepnote_index_column": "male"
        }
       ],
       "rows_bottom": null
      },
      "text/plain": "              fare                       survived             \nclass        First     Second      Third    First Second Third\nsex                                                           \nfemale  106.125798  21.970121  16.118810       91     70    72\nmale     67.226127  19.741782  12.661633       45     17    47",
      "text/html": "<div>\n<style scoped>\n    .dataframe tbody tr th:only-of-type {\n        vertical-align: middle;\n    }\n\n    .dataframe tbody tr th {\n        vertical-align: top;\n    }\n\n    .dataframe thead tr th {\n        text-align: left;\n    }\n\n    .dataframe thead tr:last-of-type th {\n        text-align: right;\n    }\n</style>\n<table border=\"1\" class=\"dataframe\">\n  <thead>\n    <tr>\n      <th></th>\n      <th colspan=\"3\" halign=\"left\">fare</th>\n      <th colspan=\"3\" halign=\"left\">survived</th>\n    </tr>\n    <tr>\n      <th>class</th>\n      <th>First</th>\n      <th>Second</th>\n      <th>Third</th>\n      <th>First</th>\n      <th>Second</th>\n      <th>Third</th>\n    </tr>\n    <tr>\n      <th>sex</th>\n      <th></th>\n      <th></th>\n      <th></th>\n      <th></th>\n      <th></th>\n      <th></th>\n    </tr>\n  </thead>\n  <tbody>\n    <tr>\n      <th>female</th>\n      <td>106.125798</td>\n      <td>21.970121</td>\n      <td>16.118810</td>\n      <td>91</td>\n      <td>70</td>\n      <td>72</td>\n    </tr>\n    <tr>\n      <th>male</th>\n      <td>67.226127</td>\n      <td>19.741782</td>\n      <td>12.661633</td>\n      <td>45</td>\n      <td>17</td>\n      <td>47</td>\n    </tr>\n  </tbody>\n</table>\n</div>"
     },
     "metadata": {}
    }
   ],
   "execution_count": null
  },
  {
   "cell_type": "code",
   "source": "titanic.pivot_table(index='sex', columns='class',margins=True)",
   "metadata": {
    "tags": [],
    "cell_id": "00015-0b83418c-38f9-4d94-b214-5b0afa87769d",
    "deepnote_to_be_reexecuted": false,
    "source_hash": "7c1ecd19",
    "execution_start": 1626664757563,
    "execution_millis": 231,
    "deepnote_cell_type": "code"
   },
   "outputs": [
    {
     "output_type": "execute_result",
     "execution_count": 14,
     "data": {
      "application/vnd.deepnote.dataframe.v2+json": {
       "row_count": 3,
       "column_count": 32,
       "columns": [
        {
         "name": [
          "adult_male",
          "First"
         ],
         "dtype": "float64",
         "stats": {
          "unique_count": 3,
          "nan_count": 0,
          "min": "0.0",
          "max": "0.9754098360655737",
          "histogram": [
           {
            "bin_start": 0,
            "bin_end": 0.09754098360655737,
            "count": 1
           },
           {
            "bin_start": 0.09754098360655737,
            "bin_end": 0.19508196721311474,
            "count": 0
           },
           {
            "bin_start": 0.19508196721311474,
            "bin_end": 0.2926229508196721,
            "count": 0
           },
           {
            "bin_start": 0.2926229508196721,
            "bin_end": 0.3901639344262295,
            "count": 0
           },
           {
            "bin_start": 0.3901639344262295,
            "bin_end": 0.48770491803278687,
            "count": 0
           },
           {
            "bin_start": 0.48770491803278687,
            "bin_end": 0.5852459016393442,
            "count": 1
           },
           {
            "bin_start": 0.5852459016393442,
            "bin_end": 0.6827868852459016,
            "count": 0
           },
           {
            "bin_start": 0.6827868852459016,
            "bin_end": 0.780327868852459,
            "count": 0
           },
           {
            "bin_start": 0.780327868852459,
            "bin_end": 0.8778688524590164,
            "count": 0
           },
           {
            "bin_start": 0.8778688524590164,
            "bin_end": 0.9754098360655737,
            "count": 1
           }
          ]
         }
        },
        {
         "name": [
          "adult_male",
          "Second"
         ],
         "dtype": "float64",
         "stats": {
          "unique_count": 3,
          "nan_count": 0,
          "min": "0.0",
          "max": "0.9166666666666666",
          "histogram": [
           {
            "bin_start": 0,
            "bin_end": 0.09166666666666666,
            "count": 1
           },
           {
            "bin_start": 0.09166666666666666,
            "bin_end": 0.18333333333333332,
            "count": 0
           },
           {
            "bin_start": 0.18333333333333332,
            "bin_end": 0.27499999999999997,
            "count": 1
           },
           {
            "bin_start": 0.27499999999999997,
            "bin_end": 0.36666666666666664,
            "count": 0
           },
           {
            "bin_start": 0.36666666666666664,
            "bin_end": 0.4583333333333333,
            "count": 0
           },
           {
            "bin_start": 0.4583333333333333,
            "bin_end": 0.5499999999999999,
            "count": 0
           },
           {
            "bin_start": 0.5499999999999999,
            "bin_end": 0.6416666666666666,
            "count": 0
           },
           {
            "bin_start": 0.6416666666666666,
            "bin_end": 0.7333333333333333,
            "count": 0
           },
           {
            "bin_start": 0.7333333333333333,
            "bin_end": 0.825,
            "count": 0
           },
           {
            "bin_start": 0.825,
            "bin_end": 0.9166666666666666,
            "count": 1
           }
          ]
         }
        },
        {
         "name": [
          "adult_male",
          "Third"
         ],
         "dtype": "float64",
         "stats": {
          "unique_count": 3,
          "nan_count": 0,
          "min": "0.0",
          "max": "0.9193083573487032",
          "histogram": [
           {
            "bin_start": 0,
            "bin_end": 0.09193083573487032,
            "count": 1
           },
           {
            "bin_start": 0.09193083573487032,
            "bin_end": 0.18386167146974064,
            "count": 0
           },
           {
            "bin_start": 0.18386167146974064,
            "bin_end": 0.27579250720461096,
            "count": 0
           },
           {
            "bin_start": 0.27579250720461096,
            "bin_end": 0.3677233429394813,
            "count": 0
           },
           {
            "bin_start": 0.3677233429394813,
            "bin_end": 0.4596541786743516,
            "count": 1
           },
           {
            "bin_start": 0.4596541786743516,
            "bin_end": 0.5515850144092219,
            "count": 0
           },
           {
            "bin_start": 0.5515850144092219,
            "bin_end": 0.6435158501440923,
            "count": 0
           },
           {
            "bin_start": 0.6435158501440923,
            "bin_end": 0.7354466858789626,
            "count": 0
           },
           {
            "bin_start": 0.7354466858789626,
            "bin_end": 0.8273775216138328,
            "count": 0
           },
           {
            "bin_start": 0.8273775216138328,
            "bin_end": 0.9193083573487032,
            "count": 1
           }
          ]
         }
        },
        {
         "name": [
          "adult_male",
          "All"
         ],
         "dtype": "float64",
         "stats": {
          "unique_count": 3,
          "nan_count": 0,
          "min": "0.0",
          "max": "0.925531914893617",
          "histogram": [
           {
            "bin_start": 0,
            "bin_end": 0.0925531914893617,
            "count": 1
           },
           {
            "bin_start": 0.0925531914893617,
            "bin_end": 0.1851063829787234,
            "count": 0
           },
           {
            "bin_start": 0.1851063829787234,
            "bin_end": 0.2776595744680851,
            "count": 0
           },
           {
            "bin_start": 0.2776595744680851,
            "bin_end": 0.3702127659574468,
            "count": 0
           },
           {
            "bin_start": 0.3702127659574468,
            "bin_end": 0.4627659574468085,
            "count": 0
           },
           {
            "bin_start": 0.4627659574468085,
            "bin_end": 0.5553191489361702,
            "count": 1
           },
           {
            "bin_start": 0.5553191489361702,
            "bin_end": 0.6478723404255319,
            "count": 0
           },
           {
            "bin_start": 0.6478723404255319,
            "bin_end": 0.7404255319148936,
            "count": 0
           },
           {
            "bin_start": 0.7404255319148936,
            "bin_end": 0.8329787234042553,
            "count": 0
           },
           {
            "bin_start": 0.8329787234042553,
            "bin_end": 0.925531914893617,
            "count": 1
           }
          ]
         }
        },
        {
         "name": [
          "age",
          "First"
         ],
         "dtype": "float64",
         "stats": {
          "unique_count": 3,
          "nan_count": 0,
          "min": "34.61176470588235",
          "max": "41.28138613861386",
          "histogram": [
           {
            "bin_start": 34.61176470588235,
            "bin_end": 35.278726849155504,
            "count": 1
           },
           {
            "bin_start": 35.278726849155504,
            "bin_end": 35.94568899242865,
            "count": 0
           },
           {
            "bin_start": 35.94568899242865,
            "bin_end": 36.6126511357018,
            "count": 0
           },
           {
            "bin_start": 36.6126511357018,
            "bin_end": 37.279613278974956,
            "count": 0
           },
           {
            "bin_start": 37.279613278974956,
            "bin_end": 37.9465754222481,
            "count": 1
           },
           {
            "bin_start": 37.9465754222481,
            "bin_end": 38.613537565521256,
            "count": 0
           },
           {
            "bin_start": 38.613537565521256,
            "bin_end": 39.28049970879441,
            "count": 0
           },
           {
            "bin_start": 39.28049970879441,
            "bin_end": 39.94746185206756,
            "count": 0
           },
           {
            "bin_start": 39.94746185206756,
            "bin_end": 40.61442399534071,
            "count": 0
           },
           {
            "bin_start": 40.61442399534071,
            "bin_end": 41.28138613861386,
            "count": 1
           }
          ]
         }
        },
        {
         "name": [
          "age",
          "Second"
         ],
         "dtype": "float64",
         "stats": {
          "unique_count": 3,
          "nan_count": 0,
          "min": "25.266666666666666",
          "max": "30.74070707070707",
          "histogram": [
           {
            "bin_start": 25.266666666666666,
            "bin_end": 25.814070707070705,
            "count": 1
           },
           {
            "bin_start": 25.814070707070705,
            "bin_end": 26.361474747474748,
            "count": 0
           },
           {
            "bin_start": 26.361474747474748,
            "bin_end": 26.908878787878788,
            "count": 0
           },
           {
            "bin_start": 26.908878787878788,
            "bin_end": 27.456282828282827,
            "count": 0
           },
           {
            "bin_start": 27.456282828282827,
            "bin_end": 28.00368686868687,
            "count": 0
           },
           {
            "bin_start": 28.00368686868687,
            "bin_end": 28.55109090909091,
            "count": 0
           },
           {
            "bin_start": 28.55109090909091,
            "bin_end": 29.09849494949495,
            "count": 1
           },
           {
            "bin_start": 29.09849494949495,
            "bin_end": 29.64589898989899,
            "count": 0
           },
           {
            "bin_start": 29.64589898989899,
            "bin_end": 30.19330303030303,
            "count": 0
           },
           {
            "bin_start": 30.19330303030303,
            "bin_end": 30.74070707070707,
            "count": 1
           }
          ]
         }
        },
        {
         "name": [
          "age",
          "Third"
         ],
         "dtype": "float64",
         "stats": {
          "unique_count": 3,
          "nan_count": 0,
          "min": "21.0",
          "max": "26.507588932806325",
          "histogram": [
           {
            "bin_start": 21,
            "bin_end": 21.550758893280634,
            "count": 1
           },
           {
            "bin_start": 21.550758893280634,
            "bin_end": 22.101517786561264,
            "count": 1
           },
           {
            "bin_start": 22.101517786561264,
            "bin_end": 22.652276679841897,
            "count": 0
           },
           {
            "bin_start": 22.652276679841897,
            "bin_end": 23.20303557312253,
            "count": 0
           },
           {
            "bin_start": 23.20303557312253,
            "bin_end": 23.753794466403164,
            "count": 0
           },
           {
            "bin_start": 23.753794466403164,
            "bin_end": 24.304553359683794,
            "count": 0
           },
           {
            "bin_start": 24.304553359683794,
            "bin_end": 24.855312252964428,
            "count": 0
           },
           {
            "bin_start": 24.855312252964428,
            "bin_end": 25.40607114624506,
            "count": 0
           },
           {
            "bin_start": 25.40607114624506,
            "bin_end": 25.95683003952569,
            "count": 0
           },
           {
            "bin_start": 25.95683003952569,
            "bin_end": 26.507588932806325,
            "count": 1
           }
          ]
         }
        },
        {
         "name": [
          "age",
          "All"
         ],
         "dtype": "float64",
         "stats": {
          "unique_count": 3,
          "nan_count": 0,
          "min": "32.67613636363637",
          "max": "38.38212765957447",
          "histogram": [
           {
            "bin_start": 32.67613636363637,
            "bin_end": 33.246735493230176,
            "count": 1
           },
           {
            "bin_start": 33.246735493230176,
            "bin_end": 33.817334622823985,
            "count": 0
           },
           {
            "bin_start": 33.817334622823985,
            "bin_end": 34.3879337524178,
            "count": 0
           },
           {
            "bin_start": 34.3879337524178,
            "bin_end": 34.95853288201161,
            "count": 0
           },
           {
            "bin_start": 34.95853288201161,
            "bin_end": 35.52913201160542,
            "count": 0
           },
           {
            "bin_start": 35.52913201160542,
            "bin_end": 36.09973114119923,
            "count": 1
           },
           {
            "bin_start": 36.09973114119923,
            "bin_end": 36.67033027079304,
            "count": 0
           },
           {
            "bin_start": 36.67033027079304,
            "bin_end": 37.240929400386854,
            "count": 0
           },
           {
            "bin_start": 37.240929400386854,
            "bin_end": 37.81152852998066,
            "count": 0
           },
           {
            "bin_start": 37.81152852998066,
            "bin_end": 38.38212765957447,
            "count": 1
           }
          ]
         }
        },
        {
         "name": [
          "alone",
          "First"
         ],
         "dtype": "float64",
         "stats": {
          "unique_count": 3,
          "nan_count": 0,
          "min": "0.3617021276595745",
          "max": "0.6147540983606558",
          "histogram": [
           {
            "bin_start": 0.3617021276595745,
            "bin_end": 0.38700732472968263,
            "count": 1
           },
           {
            "bin_start": 0.38700732472968263,
            "bin_end": 0.4123125217997907,
            "count": 1
           },
           {
            "bin_start": 0.4123125217997907,
            "bin_end": 0.43761771886989886,
            "count": 0
           },
           {
            "bin_start": 0.43761771886989886,
            "bin_end": 0.462922915940007,
            "count": 0
           },
           {
            "bin_start": 0.462922915940007,
            "bin_end": 0.48822811301011515,
            "count": 0
           },
           {
            "bin_start": 0.48822811301011515,
            "bin_end": 0.5135333100802233,
            "count": 0
           },
           {
            "bin_start": 0.5135333100802233,
            "bin_end": 0.5388385071503314,
            "count": 0
           },
           {
            "bin_start": 0.5388385071503314,
            "bin_end": 0.5641437042204395,
            "count": 0
           },
           {
            "bin_start": 0.5641437042204395,
            "bin_end": 0.5894489012905476,
            "count": 0
           },
           {
            "bin_start": 0.5894489012905476,
            "bin_end": 0.6147540983606558,
            "count": 1
           }
          ]
         }
        },
        {
         "name": [
          "alone",
          "Second"
         ],
         "dtype": "float64",
         "stats": {
          "unique_count": 2,
          "nan_count": 0,
          "min": "0.42105263157894735",
          "max": "0.6666666666666666",
          "histogram": [
           {
            "bin_start": 0.42105263157894735,
            "bin_end": 0.4456140350877193,
            "count": 1
           },
           {
            "bin_start": 0.4456140350877193,
            "bin_end": 0.4701754385964912,
            "count": 0
           },
           {
            "bin_start": 0.4701754385964912,
            "bin_end": 0.49473684210526314,
            "count": 0
           },
           {
            "bin_start": 0.49473684210526314,
            "bin_end": 0.519298245614035,
            "count": 0
           },
           {
            "bin_start": 0.519298245614035,
            "bin_end": 0.5438596491228069,
            "count": 0
           },
           {
            "bin_start": 0.5438596491228069,
            "bin_end": 0.5684210526315789,
            "count": 0
           },
           {
            "bin_start": 0.5684210526315789,
            "bin_end": 0.5929824561403508,
            "count": 0
           },
           {
            "bin_start": 0.5929824561403508,
            "bin_end": 0.6175438596491227,
            "count": 0
           },
           {
            "bin_start": 0.6175438596491227,
            "bin_end": 0.6421052631578947,
            "count": 0
           },
           {
            "bin_start": 0.6421052631578947,
            "bin_end": 0.6666666666666666,
            "count": 2
           }
          ]
         }
        },
        {
         "name": [
          "alone",
          "Third"
         ],
         "dtype": "float64",
         "stats": {
          "unique_count": 3,
          "nan_count": 0,
          "min": "0.4",
          "max": "0.760806916426513",
          "histogram": [
           {
            "bin_start": 0.4,
            "bin_end": 0.43608069164265134,
            "count": 2
           },
           {
            "bin_start": 0.43608069164265134,
            "bin_end": 0.4721613832853026,
            "count": 0
           },
           {
            "bin_start": 0.4721613832853026,
            "bin_end": 0.5082420749279539,
            "count": 0
           },
           {
            "bin_start": 0.5082420749279539,
            "bin_end": 0.5443227665706052,
            "count": 0
           },
           {
            "bin_start": 0.5443227665706052,
            "bin_end": 0.5804034582132565,
            "count": 0
           },
           {
            "bin_start": 0.5804034582132565,
            "bin_end": 0.6164841498559078,
            "count": 0
           },
           {
            "bin_start": 0.6164841498559078,
            "bin_end": 0.6525648414985591,
            "count": 0
           },
           {
            "bin_start": 0.6525648414985591,
            "bin_end": 0.6886455331412105,
            "count": 0
           },
           {
            "bin_start": 0.6886455331412105,
            "bin_end": 0.7247262247838617,
            "count": 0
           },
           {
            "bin_start": 0.7247262247838617,
            "bin_end": 0.760806916426513,
            "count": 1
           }
          ]
         }
        },
        {
         "name": [
          "alone",
          "All"
         ],
         "dtype": "float64",
         "stats": {
          "unique_count": 3,
          "nan_count": 0,
          "min": "0.36363636363636365",
          "max": "0.48936170212765956",
          "histogram": [
           {
            "bin_start": 0.36363636363636365,
            "bin_end": 0.37620889748549324,
            "count": 1
           },
           {
            "bin_start": 0.37620889748549324,
            "bin_end": 0.38878143133462284,
            "count": 0
           },
           {
            "bin_start": 0.38878143133462284,
            "bin_end": 0.40135396518375244,
            "count": 0
           },
           {
            "bin_start": 0.40135396518375244,
            "bin_end": 0.41392649903288203,
            "count": 0
           },
           {
            "bin_start": 0.41392649903288203,
            "bin_end": 0.42649903288201163,
            "count": 0
           },
           {
            "bin_start": 0.42649903288201163,
            "bin_end": 0.4390715667311412,
            "count": 1
           },
           {
            "bin_start": 0.4390715667311412,
            "bin_end": 0.45164410058027077,
            "count": 0
           },
           {
            "bin_start": 0.45164410058027077,
            "bin_end": 0.46421663442940037,
            "count": 0
           },
           {
            "bin_start": 0.46421663442940037,
            "bin_end": 0.47678916827852996,
            "count": 0
           },
           {
            "bin_start": 0.47678916827852996,
            "bin_end": 0.48936170212765956,
            "count": 1
           }
          ]
         }
        },
        {
         "name": [
          "fare",
          "First"
         ],
         "dtype": "float64",
         "stats": {
          "unique_count": 3,
          "nan_count": 0,
          "min": "67.22612704918033",
          "max": "106.12579787234041",
          "histogram": [
           {
            "bin_start": 67.22612704918033,
            "bin_end": 71.11609413149634,
            "count": 1
           },
           {
            "bin_start": 71.11609413149634,
            "bin_end": 75.00606121381234,
            "count": 0
           },
           {
            "bin_start": 75.00606121381234,
            "bin_end": 78.89602829612835,
            "count": 0
           },
           {
            "bin_start": 78.89602829612835,
            "bin_end": 82.78599537844437,
            "count": 0
           },
           {
            "bin_start": 82.78599537844437,
            "bin_end": 86.67596246076037,
            "count": 0
           },
           {
            "bin_start": 86.67596246076037,
            "bin_end": 90.56592954307638,
            "count": 1
           },
           {
            "bin_start": 90.56592954307638,
            "bin_end": 94.45589662539238,
            "count": 0
           },
           {
            "bin_start": 94.45589662539238,
            "bin_end": 98.34586370770839,
            "count": 0
           },
           {
            "bin_start": 98.34586370770839,
            "bin_end": 102.23583079002441,
            "count": 0
           },
           {
            "bin_start": 102.23583079002441,
            "bin_end": 106.12579787234041,
            "count": 1
           }
          ]
         }
        },
        {
         "name": [
          "fare",
          "Second"
         ],
         "dtype": "float64",
         "stats": {
          "unique_count": 3,
          "nan_count": 0,
          "min": "18.444446666666668",
          "max": "21.97012105263158",
          "histogram": [
           {
            "bin_start": 18.444446666666668,
            "bin_end": 18.79701410526316,
            "count": 1
           },
           {
            "bin_start": 18.79701410526316,
            "bin_end": 19.14958154385965,
            "count": 0
           },
           {
            "bin_start": 19.14958154385965,
            "bin_end": 19.50214898245614,
            "count": 0
           },
           {
            "bin_start": 19.50214898245614,
            "bin_end": 19.854716421052633,
            "count": 1
           },
           {
            "bin_start": 19.854716421052633,
            "bin_end": 20.207283859649124,
            "count": 0
           },
           {
            "bin_start": 20.207283859649124,
            "bin_end": 20.559851298245615,
            "count": 0
           },
           {
            "bin_start": 20.559851298245615,
            "bin_end": 20.912418736842106,
            "count": 0
           },
           {
            "bin_start": 20.912418736842106,
            "bin_end": 21.264986175438597,
            "count": 0
           },
           {
            "bin_start": 21.264986175438597,
            "bin_end": 21.61755361403509,
            "count": 0
           },
           {
            "bin_start": 21.61755361403509,
            "bin_end": 21.97012105263158,
            "count": 1
           }
          ]
         }
        },
        {
         "name": [
          "fare",
          "Third"
         ],
         "dtype": "float64",
         "stats": {
          "unique_count": 3,
          "nan_count": 0,
          "min": "11.0275",
          "max": "16.118809722222224",
          "histogram": [
           {
            "bin_start": 11.0275,
            "bin_end": 11.536630972222222,
            "count": 1
           },
           {
            "bin_start": 11.536630972222222,
            "bin_end": 12.045761944444445,
            "count": 0
           },
           {
            "bin_start": 12.045761944444445,
            "bin_end": 12.554892916666667,
            "count": 0
           },
           {
            "bin_start": 12.554892916666667,
            "bin_end": 13.06402388888889,
            "count": 1
           },
           {
            "bin_start": 13.06402388888889,
            "bin_end": 13.573154861111112,
            "count": 0
           },
           {
            "bin_start": 13.573154861111112,
            "bin_end": 14.082285833333334,
            "count": 0
           },
           {
            "bin_start": 14.082285833333334,
            "bin_end": 14.591416805555557,
            "count": 0
           },
           {
            "bin_start": 14.591416805555557,
            "bin_end": 15.100547777777779,
            "count": 0
           },
           {
            "bin_start": 15.100547777777779,
            "bin_end": 15.60967875,
            "count": 0
           },
           {
            "bin_start": 15.60967875,
            "bin_end": 16.118809722222224,
            "count": 1
           }
          ]
         }
        },
        {
         "name": [
          "fare",
          "All"
         ],
         "dtype": "float64",
         "stats": {
          "unique_count": 3,
          "nan_count": 0,
          "min": "69.48204893617023",
          "max": "89.00089999999999",
          "histogram": [
           {
            "bin_start": 69.48204893617023,
            "bin_end": 71.4339340425532,
            "count": 1
           },
           {
            "bin_start": 71.4339340425532,
            "bin_end": 73.38581914893618,
            "count": 0
           },
           {
            "bin_start": 73.38581914893618,
            "bin_end": 75.33770425531915,
            "count": 0
           },
           {
            "bin_start": 75.33770425531915,
            "bin_end": 77.28958936170213,
            "count": 0
           },
           {
            "bin_start": 77.28958936170213,
            "bin_end": 79.2414744680851,
            "count": 1
           },
           {
            "bin_start": 79.2414744680851,
            "bin_end": 81.19335957446808,
            "count": 0
           },
           {
            "bin_start": 81.19335957446808,
            "bin_end": 83.14524468085106,
            "count": 0
           },
           {
            "bin_start": 83.14524468085106,
            "bin_end": 85.09712978723404,
            "count": 0
           },
           {
            "bin_start": 85.09712978723404,
            "bin_end": 87.04901489361701,
            "count": 0
           },
           {
            "bin_start": 87.04901489361701,
            "bin_end": 89.00089999999999,
            "count": 1
           }
          ]
         }
        },
        {
         "name": [
          "parch",
          "First"
         ],
         "dtype": "float64",
         "stats": {
          "unique_count": 3,
          "nan_count": 0,
          "min": "0.2786885245901639",
          "max": "0.4713375796178344",
          "histogram": [
           {
            "bin_start": 0.2786885245901639,
            "bin_end": 0.29795343009293096,
            "count": 1
           },
           {
            "bin_start": 0.29795343009293096,
            "bin_end": 0.317218335595698,
            "count": 0
           },
           {
            "bin_start": 0.317218335595698,
            "bin_end": 0.33648324109846506,
            "count": 0
           },
           {
            "bin_start": 0.33648324109846506,
            "bin_end": 0.3557481466012321,
            "count": 0
           },
           {
            "bin_start": 0.3557481466012321,
            "bin_end": 0.37501305210399916,
            "count": 0
           },
           {
            "bin_start": 0.37501305210399916,
            "bin_end": 0.3942779576067662,
            "count": 0
           },
           {
            "bin_start": 0.3942779576067662,
            "bin_end": 0.41354286310953325,
            "count": 0
           },
           {
            "bin_start": 0.41354286310953325,
            "bin_end": 0.4328077686123003,
            "count": 0
           },
           {
            "bin_start": 0.4328077686123003,
            "bin_end": 0.45207267411506735,
            "count": 0
           },
           {
            "bin_start": 0.45207267411506735,
            "bin_end": 0.4713375796178344,
            "count": 2
           }
          ]
         }
        },
        {
         "name": [
          "parch",
          "Second"
         ],
         "dtype": "float64",
         "stats": {
          "unique_count": 3,
          "nan_count": 0,
          "min": "0.2222222222222222",
          "max": "0.6052631578947368",
          "histogram": [
           {
            "bin_start": 0.2222222222222222,
            "bin_end": 0.26052631578947366,
            "count": 1
           },
           {
            "bin_start": 0.26052631578947366,
            "bin_end": 0.2988304093567251,
            "count": 0
           },
           {
            "bin_start": 0.2988304093567251,
            "bin_end": 0.3371345029239766,
            "count": 0
           },
           {
            "bin_start": 0.3371345029239766,
            "bin_end": 0.37543859649122807,
            "count": 0
           },
           {
            "bin_start": 0.37543859649122807,
            "bin_end": 0.4137426900584795,
            "count": 1
           },
           {
            "bin_start": 0.4137426900584795,
            "bin_end": 0.45204678362573103,
            "count": 0
           },
           {
            "bin_start": 0.45204678362573103,
            "bin_end": 0.4903508771929825,
            "count": 0
           },
           {
            "bin_start": 0.4903508771929825,
            "bin_end": 0.5286549707602339,
            "count": 0
           },
           {
            "bin_start": 0.5286549707602339,
            "bin_end": 0.5669590643274853,
            "count": 0
           },
           {
            "bin_start": 0.5669590643274853,
            "bin_end": 0.6052631578947368,
            "count": 1
           }
          ]
         }
        },
        {
         "name": [
          "parch",
          "Third"
         ],
         "dtype": "float64",
         "stats": {
          "unique_count": 3,
          "nan_count": 0,
          "min": "0.22478386167146974",
          "max": "0.7986111111111112",
          "histogram": [
           {
            "bin_start": 0.22478386167146974,
            "bin_end": 0.28216658661543387,
            "count": 1
           },
           {
            "bin_start": 0.28216658661543387,
            "bin_end": 0.33954931155939805,
            "count": 0
           },
           {
            "bin_start": 0.33954931155939805,
            "bin_end": 0.3969320365033622,
            "count": 0
           },
           {
            "bin_start": 0.3969320365033622,
            "bin_end": 0.4543147614473263,
            "count": 0
           },
           {
            "bin_start": 0.4543147614473263,
            "bin_end": 0.5116974863912904,
            "count": 0
           },
           {
            "bin_start": 0.5116974863912904,
            "bin_end": 0.5690802113352547,
            "count": 0
           },
           {
            "bin_start": 0.5690802113352547,
            "bin_end": 0.6264629362792188,
            "count": 0
           },
           {
            "bin_start": 0.6264629362792188,
            "bin_end": 0.6838456612231829,
            "count": 0
           },
           {
            "bin_start": 0.6838456612231829,
            "bin_end": 0.7412283861671471,
            "count": 1
           },
           {
            "bin_start": 0.7412283861671471,
            "bin_end": 0.7986111111111112,
            "count": 1
           }
          ]
         }
        },
        {
         "name": [
          "parch",
          "All"
         ],
         "dtype": "float64",
         "stats": {
          "unique_count": 3,
          "nan_count": 0,
          "min": "0.4148936170212766",
          "max": "0.5454545454545454",
          "histogram": [
           {
            "bin_start": 0.4148936170212766,
            "bin_end": 0.42794970986460346,
            "count": 1
           },
           {
            "bin_start": 0.42794970986460346,
            "bin_end": 0.44100580270793033,
            "count": 0
           },
           {
            "bin_start": 0.44100580270793033,
            "bin_end": 0.4540618955512572,
            "count": 0
           },
           {
            "bin_start": 0.4540618955512572,
            "bin_end": 0.4671179883945841,
            "count": 0
           },
           {
            "bin_start": 0.4671179883945841,
            "bin_end": 0.480174081237911,
            "count": 1
           },
           {
            "bin_start": 0.480174081237911,
            "bin_end": 0.49323017408123787,
            "count": 0
           },
           {
            "bin_start": 0.49323017408123787,
            "bin_end": 0.5062862669245648,
            "count": 0
           },
           {
            "bin_start": 0.5062862669245648,
            "bin_end": 0.5193423597678917,
            "count": 0
           },
           {
            "bin_start": 0.5193423597678917,
            "bin_end": 0.5323984526112185,
            "count": 0
           },
           {
            "bin_start": 0.5323984526112185,
            "bin_end": 0.5454545454545454,
            "count": 1
           }
          ]
         }
        },
        {
         "name": [
          "pclass",
          "First"
         ],
         "dtype": "int64",
         "stats": {
          "unique_count": 1,
          "nan_count": 0,
          "min": "1",
          "max": "1",
          "histogram": [
           {
            "bin_start": 0.5,
            "bin_end": 0.6,
            "count": 0
           },
           {
            "bin_start": 0.6,
            "bin_end": 0.7,
            "count": 0
           },
           {
            "bin_start": 0.7,
            "bin_end": 0.8,
            "count": 0
           },
           {
            "bin_start": 0.8,
            "bin_end": 0.9,
            "count": 0
           },
           {
            "bin_start": 0.9,
            "bin_end": 1,
            "count": 0
           },
           {
            "bin_start": 1,
            "bin_end": 1.1,
            "count": 3
           },
           {
            "bin_start": 1.1,
            "bin_end": 1.2000000000000002,
            "count": 0
           },
           {
            "bin_start": 1.2000000000000002,
            "bin_end": 1.3,
            "count": 0
           },
           {
            "bin_start": 1.3,
            "bin_end": 1.4,
            "count": 0
           },
           {
            "bin_start": 1.4,
            "bin_end": 1.5,
            "count": 0
           }
          ]
         }
        },
        {
         "name": [
          "pclass",
          "Second"
         ],
         "dtype": "int64",
         "stats": {
          "unique_count": 1,
          "nan_count": 0,
          "min": "2",
          "max": "2",
          "histogram": [
           {
            "bin_start": 1.5,
            "bin_end": 1.6,
            "count": 0
           },
           {
            "bin_start": 1.6,
            "bin_end": 1.7,
            "count": 0
           },
           {
            "bin_start": 1.7,
            "bin_end": 1.8,
            "count": 0
           },
           {
            "bin_start": 1.8,
            "bin_end": 1.9,
            "count": 0
           },
           {
            "bin_start": 1.9,
            "bin_end": 2,
            "count": 0
           },
           {
            "bin_start": 2,
            "bin_end": 2.1,
            "count": 3
           },
           {
            "bin_start": 2.1,
            "bin_end": 2.2,
            "count": 0
           },
           {
            "bin_start": 2.2,
            "bin_end": 2.3,
            "count": 0
           },
           {
            "bin_start": 2.3,
            "bin_end": 2.4,
            "count": 0
           },
           {
            "bin_start": 2.4,
            "bin_end": 2.5,
            "count": 0
           }
          ]
         }
        },
        {
         "name": [
          "pclass",
          "Third"
         ],
         "dtype": "int64",
         "stats": {
          "unique_count": 1,
          "nan_count": 0,
          "min": "3",
          "max": "3",
          "histogram": [
           {
            "bin_start": 2.5,
            "bin_end": 2.6,
            "count": 0
           },
           {
            "bin_start": 2.6,
            "bin_end": 2.7,
            "count": 0
           },
           {
            "bin_start": 2.7,
            "bin_end": 2.8,
            "count": 0
           },
           {
            "bin_start": 2.8,
            "bin_end": 2.9,
            "count": 0
           },
           {
            "bin_start": 2.9,
            "bin_end": 3,
            "count": 0
           },
           {
            "bin_start": 3,
            "bin_end": 3.1,
            "count": 3
           },
           {
            "bin_start": 3.1,
            "bin_end": 3.2,
            "count": 0
           },
           {
            "bin_start": 3.2,
            "bin_end": 3.3,
            "count": 0
           },
           {
            "bin_start": 3.3,
            "bin_end": 3.4,
            "count": 0
           },
           {
            "bin_start": 3.4,
            "bin_end": 3.5,
            "count": 0
           }
          ]
         }
        },
        {
         "name": [
          "pclass",
          "All"
         ],
         "dtype": "float64",
         "stats": {
          "unique_count": 3,
          "nan_count": 0,
          "min": "1.1702127659574468",
          "max": "1.2159090909090908",
          "histogram": [
           {
            "bin_start": 1.1702127659574468,
            "bin_end": 1.1747823984526113,
            "count": 1
           },
           {
            "bin_start": 1.1747823984526113,
            "bin_end": 1.1793520309477756,
            "count": 0
           },
           {
            "bin_start": 1.1793520309477756,
            "bin_end": 1.18392166344294,
            "count": 0
           },
           {
            "bin_start": 1.18392166344294,
            "bin_end": 1.1884912959381044,
            "count": 0
           },
           {
            "bin_start": 1.1884912959381044,
            "bin_end": 1.193060928433269,
            "count": 1
           },
           {
            "bin_start": 1.193060928433269,
            "bin_end": 1.1976305609284332,
            "count": 0
           },
           {
            "bin_start": 1.1976305609284332,
            "bin_end": 1.2022001934235975,
            "count": 0
           },
           {
            "bin_start": 1.2022001934235975,
            "bin_end": 1.206769825918762,
            "count": 0
           },
           {
            "bin_start": 1.206769825918762,
            "bin_end": 1.2113394584139265,
            "count": 0
           },
           {
            "bin_start": 1.2113394584139265,
            "bin_end": 1.2159090909090908,
            "count": 1
           }
          ]
         }
        },
        {
         "name": [
          "sibsp",
          "First"
         ],
         "dtype": "float64",
         "stats": {
          "unique_count": 3,
          "nan_count": 0,
          "min": "0.3114754098360656",
          "max": "0.5531914893617021",
          "histogram": [
           {
            "bin_start": 0.3114754098360656,
            "bin_end": 0.33564701778862926,
            "count": 1
           },
           {
            "bin_start": 0.33564701778862926,
            "bin_end": 0.3598186257411929,
            "count": 0
           },
           {
            "bin_start": 0.3598186257411929,
            "bin_end": 0.38399023369375657,
            "count": 0
           },
           {
            "bin_start": 0.38399023369375657,
            "bin_end": 0.4081618416463202,
            "count": 0
           },
           {
            "bin_start": 0.4081618416463202,
            "bin_end": 0.43233344959888387,
            "count": 0
           },
           {
            "bin_start": 0.43233344959888387,
            "bin_end": 0.45650505755144755,
            "count": 0
           },
           {
            "bin_start": 0.45650505755144755,
            "bin_end": 0.4806766655040112,
            "count": 0
           },
           {
            "bin_start": 0.4806766655040112,
            "bin_end": 0.5048482734565749,
            "count": 1
           },
           {
            "bin_start": 0.5048482734565749,
            "bin_end": 0.5290198814091385,
            "count": 0
           },
           {
            "bin_start": 0.5290198814091385,
            "bin_end": 0.5531914893617021,
            "count": 1
           }
          ]
         }
        },
        {
         "name": [
          "sibsp",
          "Second"
         ],
         "dtype": "float64",
         "stats": {
          "unique_count": 3,
          "nan_count": 0,
          "min": "0.3425925925925926",
          "max": "0.4868421052631579",
          "histogram": [
           {
            "bin_start": 0.3425925925925926,
            "bin_end": 0.3570175438596491,
            "count": 1
           },
           {
            "bin_start": 0.3570175438596491,
            "bin_end": 0.3714424951267057,
            "count": 0
           },
           {
            "bin_start": 0.3714424951267057,
            "bin_end": 0.3858674463937622,
            "count": 0
           },
           {
            "bin_start": 0.3858674463937622,
            "bin_end": 0.40029239766081876,
            "count": 1
           },
           {
            "bin_start": 0.40029239766081876,
            "bin_end": 0.41471734892787526,
            "count": 0
           },
           {
            "bin_start": 0.41471734892787526,
            "bin_end": 0.4291423001949318,
            "count": 0
           },
           {
            "bin_start": 0.4291423001949318,
            "bin_end": 0.44356725146198833,
            "count": 0
           },
           {
            "bin_start": 0.44356725146198833,
            "bin_end": 0.45799220272904484,
            "count": 0
           },
           {
            "bin_start": 0.45799220272904484,
            "bin_end": 0.4724171539961014,
            "count": 0
           },
           {
            "bin_start": 0.4724171539961014,
            "bin_end": 0.4868421052631579,
            "count": 1
           }
          ]
         }
        },
        {
         "name": [
          "sibsp",
          "Third"
         ],
         "dtype": "float64",
         "stats": {
          "unique_count": 3,
          "nan_count": 0,
          "min": "0.2",
          "max": "0.8958333333333334",
          "histogram": [
           {
            "bin_start": 0.2,
            "bin_end": 0.26958333333333334,
            "count": 1
           },
           {
            "bin_start": 0.26958333333333334,
            "bin_end": 0.33916666666666667,
            "count": 0
           },
           {
            "bin_start": 0.33916666666666667,
            "bin_end": 0.40875,
            "count": 0
           },
           {
            "bin_start": 0.40875,
            "bin_end": 0.47833333333333333,
            "count": 0
           },
           {
            "bin_start": 0.47833333333333333,
            "bin_end": 0.5479166666666666,
            "count": 1
           },
           {
            "bin_start": 0.5479166666666666,
            "bin_end": 0.6174999999999999,
            "count": 0
           },
           {
            "bin_start": 0.6174999999999999,
            "bin_end": 0.6870833333333333,
            "count": 0
           },
           {
            "bin_start": 0.6870833333333333,
            "bin_end": 0.7566666666666666,
            "count": 0
           },
           {
            "bin_start": 0.7566666666666666,
            "bin_end": 0.8262499999999999,
            "count": 0
           },
           {
            "bin_start": 0.8262499999999999,
            "bin_end": 0.8958333333333334,
            "count": 1
           }
          ]
         }
        },
        {
         "name": [
          "sibsp",
          "All"
         ],
         "dtype": "float64",
         "stats": {
          "unique_count": 3,
          "nan_count": 0,
          "min": "0.40425531914893614",
          "max": "0.5340909090909091",
          "histogram": [
           {
            "bin_start": 0.40425531914893614,
            "bin_end": 0.41723887814313343,
            "count": 1
           },
           {
            "bin_start": 0.41723887814313343,
            "bin_end": 0.4302224371373307,
            "count": 0
           },
           {
            "bin_start": 0.4302224371373307,
            "bin_end": 0.443205996131528,
            "count": 0
           },
           {
            "bin_start": 0.443205996131528,
            "bin_end": 0.4561895551257253,
            "count": 0
           },
           {
            "bin_start": 0.4561895551257253,
            "bin_end": 0.4691731141199226,
            "count": 1
           },
           {
            "bin_start": 0.4691731141199226,
            "bin_end": 0.4821566731141199,
            "count": 0
           },
           {
            "bin_start": 0.4821566731141199,
            "bin_end": 0.4951402321083172,
            "count": 0
           },
           {
            "bin_start": 0.4951402321083172,
            "bin_end": 0.5081237911025145,
            "count": 0
           },
           {
            "bin_start": 0.5081237911025145,
            "bin_end": 0.5211073500967117,
            "count": 0
           },
           {
            "bin_start": 0.5211073500967117,
            "bin_end": 0.5340909090909091,
            "count": 1
           }
          ]
         }
        },
        {
         "name": [
          "survived",
          "First"
         ],
         "dtype": "float64",
         "stats": {
          "unique_count": 3,
          "nan_count": 0,
          "min": "0.36885245901639346",
          "max": "0.9680851063829787",
          "histogram": [
           {
            "bin_start": 0.36885245901639346,
            "bin_end": 0.428775723753052,
            "count": 1
           },
           {
            "bin_start": 0.428775723753052,
            "bin_end": 0.4886989884897105,
            "count": 0
           },
           {
            "bin_start": 0.4886989884897105,
            "bin_end": 0.548622253226369,
            "count": 0
           },
           {
            "bin_start": 0.548622253226369,
            "bin_end": 0.6085455179630276,
            "count": 0
           },
           {
            "bin_start": 0.6085455179630276,
            "bin_end": 0.668468782699686,
            "count": 0
           },
           {
            "bin_start": 0.668468782699686,
            "bin_end": 0.7283920474363446,
            "count": 1
           },
           {
            "bin_start": 0.7283920474363446,
            "bin_end": 0.7883153121730031,
            "count": 0
           },
           {
            "bin_start": 0.7883153121730031,
            "bin_end": 0.8482385769096616,
            "count": 0
           },
           {
            "bin_start": 0.8482385769096616,
            "bin_end": 0.9081618416463202,
            "count": 0
           },
           {
            "bin_start": 0.9081618416463202,
            "bin_end": 0.9680851063829787,
            "count": 1
           }
          ]
         }
        },
        {
         "name": [
          "survived",
          "Second"
         ],
         "dtype": "float64",
         "stats": {
          "unique_count": 3,
          "nan_count": 0,
          "min": "0.1574074074074074",
          "max": "0.9210526315789473",
          "histogram": [
           {
            "bin_start": 0.1574074074074074,
            "bin_end": 0.2337719298245614,
            "count": 1
           },
           {
            "bin_start": 0.2337719298245614,
            "bin_end": 0.3101364522417154,
            "count": 0
           },
           {
            "bin_start": 0.3101364522417154,
            "bin_end": 0.3865009746588694,
            "count": 0
           },
           {
            "bin_start": 0.3865009746588694,
            "bin_end": 0.4628654970760234,
            "count": 0
           },
           {
            "bin_start": 0.4628654970760234,
            "bin_end": 0.5392300194931774,
            "count": 0
           },
           {
            "bin_start": 0.5392300194931774,
            "bin_end": 0.6155945419103314,
            "count": 0
           },
           {
            "bin_start": 0.6155945419103314,
            "bin_end": 0.6919590643274854,
            "count": 0
           },
           {
            "bin_start": 0.6919590643274854,
            "bin_end": 0.7683235867446394,
            "count": 0
           },
           {
            "bin_start": 0.7683235867446394,
            "bin_end": 0.8446881091617934,
            "count": 1
           },
           {
            "bin_start": 0.8446881091617934,
            "bin_end": 0.9210526315789473,
            "count": 1
           }
          ]
         }
        },
        {
         "name": [
          "survived",
          "Third"
         ],
         "dtype": "float64",
         "stats": {
          "unique_count": 2,
          "nan_count": 0,
          "min": "0.13544668587896252",
          "max": "0.5",
          "histogram": [
           {
            "bin_start": 0.13544668587896252,
            "bin_end": 0.17190201729106627,
            "count": 1
           },
           {
            "bin_start": 0.17190201729106627,
            "bin_end": 0.20835734870317002,
            "count": 0
           },
           {
            "bin_start": 0.20835734870317002,
            "bin_end": 0.24481268011527377,
            "count": 0
           },
           {
            "bin_start": 0.24481268011527377,
            "bin_end": 0.2812680115273775,
            "count": 0
           },
           {
            "bin_start": 0.2812680115273775,
            "bin_end": 0.31772334293948123,
            "count": 0
           },
           {
            "bin_start": 0.31772334293948123,
            "bin_end": 0.354178674351585,
            "count": 0
           },
           {
            "bin_start": 0.354178674351585,
            "bin_end": 0.39063400576368873,
            "count": 0
           },
           {
            "bin_start": 0.39063400576368873,
            "bin_end": 0.4270893371757925,
            "count": 0
           },
           {
            "bin_start": 0.4270893371757925,
            "bin_end": 0.4635446685878963,
            "count": 0
           },
           {
            "bin_start": 0.4635446685878963,
            "bin_end": 0.5,
            "count": 2
           }
          ]
         }
        },
        {
         "name": [
          "survived",
          "All"
         ],
         "dtype": "float64",
         "stats": {
          "unique_count": 3,
          "nan_count": 0,
          "min": "0.43617021276595747",
          "max": "0.9318181818181818",
          "histogram": [
           {
            "bin_start": 0.43617021276595747,
            "bin_end": 0.4857350096711799,
            "count": 1
           },
           {
            "bin_start": 0.4857350096711799,
            "bin_end": 0.5352998065764023,
            "count": 0
           },
           {
            "bin_start": 0.5352998065764023,
            "bin_end": 0.5848646034816247,
            "count": 0
           },
           {
            "bin_start": 0.5848646034816247,
            "bin_end": 0.6344294003868471,
            "count": 0
           },
           {
            "bin_start": 0.6344294003868471,
            "bin_end": 0.6839941972920696,
            "count": 1
           },
           {
            "bin_start": 0.6839941972920696,
            "bin_end": 0.7335589941972921,
            "count": 0
           },
           {
            "bin_start": 0.7335589941972921,
            "bin_end": 0.7831237911025145,
            "count": 0
           },
           {
            "bin_start": 0.7831237911025145,
            "bin_end": 0.8326885880077369,
            "count": 0
           },
           {
            "bin_start": 0.8326885880077369,
            "bin_end": 0.8822533849129593,
            "count": 0
           },
           {
            "bin_start": 0.8822533849129593,
            "bin_end": 0.9318181818181818,
            "count": 1
           }
          ]
         }
        },
        {
         "name": "_deepnote_index_column",
         "dtype": "object"
        }
       ],
       "rows_top": [
        {
         "('adult_male', 'First')": 0,
         "('adult_male', 'Second')": 0,
         "('adult_male', 'Third')": 0,
         "('adult_male', 'All')": 0,
         "('age', 'First')": 34.61176470588235,
         "('age', 'Second')": 28.722972972972972,
         "('age', 'Third')": 21.75,
         "('age', 'All')": 32.67613636363637,
         "('alone', 'First')": 0.3617021276595745,
         "('alone', 'Second')": 0.42105263157894735,
         "('alone', 'Third')": 0.4166666666666667,
         "('alone', 'All')": 0.36363636363636365,
         "('fare', 'First')": 106.12579787234041,
         "('fare', 'Second')": 21.97012105263158,
         "('fare', 'Third')": 16.118809722222224,
         "('fare', 'All')": 89.00089999999999,
         "('parch', 'First')": 0.4574468085106383,
         "('parch', 'Second')": 0.6052631578947368,
         "('parch', 'Third')": 0.7986111111111112,
         "('parch', 'All')": 0.5454545454545454,
         "('pclass', 'First')": 1,
         "('pclass', 'Second')": 2,
         "('pclass', 'Third')": 3,
         "('pclass', 'All')": 1.2159090909090908,
         "('sibsp', 'First')": 0.5531914893617021,
         "('sibsp', 'Second')": 0.4868421052631579,
         "('sibsp', 'Third')": 0.8958333333333334,
         "('sibsp', 'All')": 0.5340909090909091,
         "('survived', 'First')": 0.9680851063829787,
         "('survived', 'Second')": 0.9210526315789473,
         "('survived', 'Third')": 0.5,
         "('survived', 'All')": 0.9318181818181818,
         "_deepnote_index_column": "female"
        },
        {
         "('adult_male', 'First')": 0.9754098360655737,
         "('adult_male', 'Second')": 0.9166666666666666,
         "('adult_male', 'Third')": 0.9193083573487032,
         "('adult_male', 'All')": 0.925531914893617,
         "('age', 'First')": 41.28138613861386,
         "('age', 'Second')": 30.74070707070707,
         "('age', 'Third')": 26.507588932806325,
         "('age', 'All')": 38.38212765957447,
         "('alone', 'First')": 0.6147540983606558,
         "('alone', 'Second')": 0.6666666666666666,
         "('alone', 'Third')": 0.760806916426513,
         "('alone', 'All')": 0.48936170212765956,
         "('fare', 'First')": 67.22612704918033,
         "('fare', 'Second')": 19.74178240740741,
         "('fare', 'Third')": 12.661632564841513,
         "('fare', 'All')": 69.48204893617023,
         "('parch', 'First')": 0.2786885245901639,
         "('parch', 'Second')": 0.2222222222222222,
         "('parch', 'Third')": 0.22478386167146974,
         "('parch', 'All')": 0.4148936170212766,
         "('pclass', 'First')": 1,
         "('pclass', 'Second')": 2,
         "('pclass', 'Third')": 3,
         "('pclass', 'All')": 1.1702127659574468,
         "('sibsp', 'First')": 0.3114754098360656,
         "('sibsp', 'Second')": 0.3425925925925926,
         "('sibsp', 'Third')": 0.49855907780979825,
         "('sibsp', 'All')": 0.40425531914893614,
         "('survived', 'First')": 0.36885245901639346,
         "('survived', 'Second')": 0.1574074074074074,
         "('survived', 'Third')": 0.13544668587896252,
         "('survived', 'All')": 0.43617021276595747,
         "_deepnote_index_column": "male"
        },
        {
         "('adult_male', 'First')": 0.5095541401273885,
         "('adult_male', 'Second')": 0.2,
         "('adult_male', 'Third')": 0.4,
         "('adult_male', 'All')": 0.47802197802197804,
         "('age', 'First')": 37.54407643312102,
         "('age', 'Second')": 25.266666666666666,
         "('age', 'Third')": 21,
         "('age', 'All')": 35.62318681318681,
         "('alone', 'First')": 0.40764331210191085,
         "('alone', 'Second')": 0.6666666666666666,
         "('alone', 'Third')": 0.4,
         "('alone', 'All')": 0.42857142857142855,
         "('fare', 'First')": 89.02197515923565,
         "('fare', 'Second')": 18.444446666666668,
         "('fare', 'Third')": 11.0275,
         "('fare', 'All')": 78.91973516483515,
         "('parch', 'First')": 0.4713375796178344,
         "('parch', 'Second')": 0.4,
         "('parch', 'Third')": 0.7,
         "('parch', 'All')": 0.47802197802197804,
         "('pclass', 'First')": 1,
         "('pclass', 'Second')": 2,
         "('pclass', 'Third')": 3,
         "('pclass', 'All')": 1.1923076923076923,
         "('sibsp', 'First')": 0.49044585987261147,
         "('sibsp', 'Second')": 0.4,
         "('sibsp', 'Third')": 0.2,
         "('sibsp', 'All')": 0.46703296703296704,
         "('survived', 'First')": 0.6751592356687898,
         "('survived', 'Second')": 0.8,
         "('survived', 'Third')": 0.5,
         "('survived', 'All')": 0.6758241758241759,
         "_deepnote_index_column": "All"
        }
       ],
       "rows_bottom": null
      },
      "text/plain": "       adult_male                                      age             \\\nclass       First    Second     Third       All      First     Second   \nsex                                                                     \nfemale   0.000000  0.000000  0.000000  0.000000  34.611765  28.722973   \nmale     0.975410  0.916667  0.919308  0.925532  41.281386  30.740707   \nAll      0.509554  0.200000  0.400000  0.478022  37.544076  25.266667   \n\n                                 alone            ... pclass            \\\nclass       Third        All     First    Second  ...  Third       All   \nsex                                               ...                    \nfemale  21.750000  32.676136  0.361702  0.421053  ...      3  1.215909   \nmale    26.507589  38.382128  0.614754  0.666667  ...      3  1.170213   \nAll     21.000000  35.623187  0.407643  0.666667  ...      3  1.192308   \n\n           sibsp                                survived                      \\\nclass      First    Second     Third       All     First    Second     Third   \nsex                                                                            \nfemale  0.553191  0.486842  0.895833  0.534091  0.968085  0.921053  0.500000   \nmale    0.311475  0.342593  0.498559  0.404255  0.368852  0.157407  0.135447   \nAll     0.490446  0.400000  0.200000  0.467033  0.675159  0.800000  0.500000   \n\n                  \nclass        All  \nsex               \nfemale  0.931818  \nmale    0.436170  \nAll     0.675824  \n\n[3 rows x 32 columns]",
      "text/html": "<div>\n<style scoped>\n    .dataframe tbody tr th:only-of-type {\n        vertical-align: middle;\n    }\n\n    .dataframe tbody tr th {\n        vertical-align: top;\n    }\n\n    .dataframe thead tr th {\n        text-align: left;\n    }\n\n    .dataframe thead tr:last-of-type th {\n        text-align: right;\n    }\n</style>\n<table border=\"1\" class=\"dataframe\">\n  <thead>\n    <tr>\n      <th></th>\n      <th colspan=\"4\" halign=\"left\">adult_male</th>\n      <th colspan=\"4\" halign=\"left\">age</th>\n      <th colspan=\"2\" halign=\"left\">alone</th>\n      <th>...</th>\n      <th colspan=\"2\" halign=\"left\">pclass</th>\n      <th colspan=\"4\" halign=\"left\">sibsp</th>\n      <th colspan=\"4\" halign=\"left\">survived</th>\n    </tr>\n    <tr>\n      <th>class</th>\n      <th>First</th>\n      <th>Second</th>\n      <th>Third</th>\n      <th>All</th>\n      <th>First</th>\n      <th>Second</th>\n      <th>Third</th>\n      <th>All</th>\n      <th>First</th>\n      <th>Second</th>\n      <th>...</th>\n      <th>Third</th>\n      <th>All</th>\n      <th>First</th>\n      <th>Second</th>\n      <th>Third</th>\n      <th>All</th>\n      <th>First</th>\n      <th>Second</th>\n      <th>Third</th>\n      <th>All</th>\n    </tr>\n    <tr>\n      <th>sex</th>\n      <th></th>\n      <th></th>\n      <th></th>\n      <th></th>\n      <th></th>\n      <th></th>\n      <th></th>\n      <th></th>\n      <th></th>\n      <th></th>\n      <th></th>\n      <th></th>\n      <th></th>\n      <th></th>\n      <th></th>\n      <th></th>\n      <th></th>\n      <th></th>\n      <th></th>\n      <th></th>\n      <th></th>\n    </tr>\n  </thead>\n  <tbody>\n    <tr>\n      <th>female</th>\n      <td>0.000000</td>\n      <td>0.000000</td>\n      <td>0.000000</td>\n      <td>0.000000</td>\n      <td>34.611765</td>\n      <td>28.722973</td>\n      <td>21.750000</td>\n      <td>32.676136</td>\n      <td>0.361702</td>\n      <td>0.421053</td>\n      <td>...</td>\n      <td>3</td>\n      <td>1.215909</td>\n      <td>0.553191</td>\n      <td>0.486842</td>\n      <td>0.895833</td>\n      <td>0.534091</td>\n      <td>0.968085</td>\n      <td>0.921053</td>\n      <td>0.500000</td>\n      <td>0.931818</td>\n    </tr>\n    <tr>\n      <th>male</th>\n      <td>0.975410</td>\n      <td>0.916667</td>\n      <td>0.919308</td>\n      <td>0.925532</td>\n      <td>41.281386</td>\n      <td>30.740707</td>\n      <td>26.507589</td>\n      <td>38.382128</td>\n      <td>0.614754</td>\n      <td>0.666667</td>\n      <td>...</td>\n      <td>3</td>\n      <td>1.170213</td>\n      <td>0.311475</td>\n      <td>0.342593</td>\n      <td>0.498559</td>\n      <td>0.404255</td>\n      <td>0.368852</td>\n      <td>0.157407</td>\n      <td>0.135447</td>\n      <td>0.436170</td>\n    </tr>\n    <tr>\n      <th>All</th>\n      <td>0.509554</td>\n      <td>0.200000</td>\n      <td>0.400000</td>\n      <td>0.478022</td>\n      <td>37.544076</td>\n      <td>25.266667</td>\n      <td>21.000000</td>\n      <td>35.623187</td>\n      <td>0.407643</td>\n      <td>0.666667</td>\n      <td>...</td>\n      <td>3</td>\n      <td>1.192308</td>\n      <td>0.490446</td>\n      <td>0.400000</td>\n      <td>0.200000</td>\n      <td>0.467033</td>\n      <td>0.675159</td>\n      <td>0.800000</td>\n      <td>0.500000</td>\n      <td>0.675824</td>\n    </tr>\n  </tbody>\n</table>\n<p>3 rows × 32 columns</p>\n</div>"
     },
     "metadata": {}
    }
   ],
   "execution_count": null
  },
  {
   "cell_type": "code",
   "source": "births = pd.read_csv(\"https://raw.githubusercontent.com/reddyprasade/DataSet-for-ML-and-Data-Science/master/DataSets/births.csv\")\nbirths.head()",
   "metadata": {
    "tags": [],
    "cell_id": "00017-47c0ad5c-106f-40a2-b60b-464f37842188",
    "deepnote_to_be_reexecuted": false,
    "source_hash": "67e3d6ba",
    "execution_start": 1626665243553,
    "execution_millis": 156,
    "deepnote_cell_type": "code"
   },
   "outputs": [
    {
     "output_type": "execute_result",
     "execution_count": 5,
     "data": {
      "application/vnd.deepnote.dataframe.v2+json": {
       "row_count": 5,
       "column_count": 5,
       "columns": [
        {
         "name": "year",
         "dtype": "int64",
         "stats": {
          "unique_count": 1,
          "nan_count": 0,
          "min": "1969",
          "max": "1969",
          "histogram": [
           {
            "bin_start": 1968.5,
            "bin_end": 1968.6,
            "count": 0
           },
           {
            "bin_start": 1968.6,
            "bin_end": 1968.7,
            "count": 0
           },
           {
            "bin_start": 1968.7,
            "bin_end": 1968.8,
            "count": 0
           },
           {
            "bin_start": 1968.8,
            "bin_end": 1968.9,
            "count": 0
           },
           {
            "bin_start": 1968.9,
            "bin_end": 1969,
            "count": 0
           },
           {
            "bin_start": 1969,
            "bin_end": 1969.1,
            "count": 5
           },
           {
            "bin_start": 1969.1,
            "bin_end": 1969.2,
            "count": 0
           },
           {
            "bin_start": 1969.2,
            "bin_end": 1969.3,
            "count": 0
           },
           {
            "bin_start": 1969.3,
            "bin_end": 1969.4,
            "count": 0
           },
           {
            "bin_start": 1969.4,
            "bin_end": 1969.5,
            "count": 0
           }
          ]
         }
        },
        {
         "name": "month",
         "dtype": "int64",
         "stats": {
          "unique_count": 1,
          "nan_count": 0,
          "min": "1",
          "max": "1",
          "histogram": [
           {
            "bin_start": 0.5,
            "bin_end": 0.6,
            "count": 0
           },
           {
            "bin_start": 0.6,
            "bin_end": 0.7,
            "count": 0
           },
           {
            "bin_start": 0.7,
            "bin_end": 0.8,
            "count": 0
           },
           {
            "bin_start": 0.8,
            "bin_end": 0.9,
            "count": 0
           },
           {
            "bin_start": 0.9,
            "bin_end": 1,
            "count": 0
           },
           {
            "bin_start": 1,
            "bin_end": 1.1,
            "count": 5
           },
           {
            "bin_start": 1.1,
            "bin_end": 1.2000000000000002,
            "count": 0
           },
           {
            "bin_start": 1.2000000000000002,
            "bin_end": 1.3,
            "count": 0
           },
           {
            "bin_start": 1.3,
            "bin_end": 1.4,
            "count": 0
           },
           {
            "bin_start": 1.4,
            "bin_end": 1.5,
            "count": 0
           }
          ]
         }
        },
        {
         "name": "day",
         "dtype": "float64",
         "stats": {
          "unique_count": 3,
          "nan_count": 0,
          "min": "1.0",
          "max": "3.0",
          "histogram": [
           {
            "bin_start": 1,
            "bin_end": 1.2,
            "count": 2
           },
           {
            "bin_start": 1.2,
            "bin_end": 1.4,
            "count": 0
           },
           {
            "bin_start": 1.4,
            "bin_end": 1.6,
            "count": 0
           },
           {
            "bin_start": 1.6,
            "bin_end": 1.8,
            "count": 0
           },
           {
            "bin_start": 1.8,
            "bin_end": 2,
            "count": 0
           },
           {
            "bin_start": 2,
            "bin_end": 2.2,
            "count": 2
           },
           {
            "bin_start": 2.2,
            "bin_end": 2.4000000000000004,
            "count": 0
           },
           {
            "bin_start": 2.4000000000000004,
            "bin_end": 2.6,
            "count": 0
           },
           {
            "bin_start": 2.6,
            "bin_end": 2.8,
            "count": 0
           },
           {
            "bin_start": 2.8,
            "bin_end": 3,
            "count": 1
           }
          ]
         }
        },
        {
         "name": "gender",
         "dtype": "object",
         "stats": {
          "unique_count": 2,
          "nan_count": 0,
          "categories": [
           {
            "name": "F",
            "count": 3
           },
           {
            "name": "M",
            "count": 2
           }
          ]
         }
        },
        {
         "name": "births",
         "dtype": "int64",
         "stats": {
          "unique_count": 4,
          "nan_count": 0,
          "min": "4046",
          "max": "4548",
          "histogram": [
           {
            "bin_start": 4046,
            "bin_end": 4096.2,
            "count": 1
           },
           {
            "bin_start": 4096.2,
            "bin_end": 4146.4,
            "count": 0
           },
           {
            "bin_start": 4146.4,
            "bin_end": 4196.6,
            "count": 0
           },
           {
            "bin_start": 4196.6,
            "bin_end": 4246.8,
            "count": 0
           },
           {
            "bin_start": 4246.8,
            "bin_end": 4297,
            "count": 0
           },
           {
            "bin_start": 4297,
            "bin_end": 4347.2,
            "count": 0
           },
           {
            "bin_start": 4347.2,
            "bin_end": 4397.4,
            "count": 0
           },
           {
            "bin_start": 4397.4,
            "bin_end": 4447.6,
            "count": 1
           },
           {
            "bin_start": 4447.6,
            "bin_end": 4497.8,
            "count": 1
           },
           {
            "bin_start": 4497.8,
            "bin_end": 4548,
            "count": 2
           }
          ]
         }
        },
        {
         "name": "_deepnote_index_column",
         "dtype": "int64"
        }
       ],
       "rows_top": [
        {
         "year": 1969,
         "month": 1,
         "day": 1,
         "gender": "F",
         "births": 4046,
         "_deepnote_index_column": 0
        },
        {
         "year": 1969,
         "month": 1,
         "day": 1,
         "gender": "M",
         "births": 4440,
         "_deepnote_index_column": 1
        },
        {
         "year": 1969,
         "month": 1,
         "day": 2,
         "gender": "F",
         "births": 4454,
         "_deepnote_index_column": 2
        },
        {
         "year": 1969,
         "month": 1,
         "day": 2,
         "gender": "M",
         "births": 4548,
         "_deepnote_index_column": 3
        },
        {
         "year": 1969,
         "month": 1,
         "day": 3,
         "gender": "F",
         "births": 4548,
         "_deepnote_index_column": 4
        }
       ],
       "rows_bottom": null
      },
      "text/plain": "   year  month  day gender  births\n0  1969      1  1.0      F    4046\n1  1969      1  1.0      M    4440\n2  1969      1  2.0      F    4454\n3  1969      1  2.0      M    4548\n4  1969      1  3.0      F    4548",
      "text/html": "<div>\n<style scoped>\n    .dataframe tbody tr th:only-of-type {\n        vertical-align: middle;\n    }\n\n    .dataframe tbody tr th {\n        vertical-align: top;\n    }\n\n    .dataframe thead th {\n        text-align: right;\n    }\n</style>\n<table border=\"1\" class=\"dataframe\">\n  <thead>\n    <tr style=\"text-align: right;\">\n      <th></th>\n      <th>year</th>\n      <th>month</th>\n      <th>day</th>\n      <th>gender</th>\n      <th>births</th>\n    </tr>\n  </thead>\n  <tbody>\n    <tr>\n      <th>0</th>\n      <td>1969</td>\n      <td>1</td>\n      <td>1.0</td>\n      <td>F</td>\n      <td>4046</td>\n    </tr>\n    <tr>\n      <th>1</th>\n      <td>1969</td>\n      <td>1</td>\n      <td>1.0</td>\n      <td>M</td>\n      <td>4440</td>\n    </tr>\n    <tr>\n      <th>2</th>\n      <td>1969</td>\n      <td>1</td>\n      <td>2.0</td>\n      <td>F</td>\n      <td>4454</td>\n    </tr>\n    <tr>\n      <th>3</th>\n      <td>1969</td>\n      <td>1</td>\n      <td>2.0</td>\n      <td>M</td>\n      <td>4548</td>\n    </tr>\n    <tr>\n      <th>4</th>\n      <td>1969</td>\n      <td>1</td>\n      <td>3.0</td>\n      <td>F</td>\n      <td>4548</td>\n    </tr>\n  </tbody>\n</table>\n</div>"
     },
     "metadata": {}
    }
   ],
   "execution_count": null
  },
  {
   "cell_type": "code",
   "source": "births['decade'] = 10 * (births['year']//10)",
   "metadata": {
    "tags": [],
    "cell_id": "00018-40f4acb3-d082-4556-8d4c-39f677c7a09e",
    "deepnote_to_be_reexecuted": false,
    "source_hash": "ce0f104a",
    "execution_start": 1626665244665,
    "execution_millis": 15,
    "deepnote_cell_type": "code"
   },
   "outputs": [],
   "execution_count": null
  },
  {
   "cell_type": "code",
   "source": "births.head()",
   "metadata": {
    "tags": [],
    "cell_id": "00016-38dc5580-6de0-45bc-81f0-2750e438c9d1",
    "deepnote_to_be_reexecuted": false,
    "source_hash": "70fa749a",
    "execution_start": 1626665258061,
    "execution_millis": 4,
    "deepnote_cell_type": "code"
   },
   "outputs": [
    {
     "output_type": "execute_result",
     "execution_count": 7,
     "data": {
      "application/vnd.deepnote.dataframe.v2+json": {
       "row_count": 5,
       "column_count": 6,
       "columns": [
        {
         "name": "year",
         "dtype": "int64",
         "stats": {
          "unique_count": 1,
          "nan_count": 0,
          "min": "1969",
          "max": "1969",
          "histogram": [
           {
            "bin_start": 1968.5,
            "bin_end": 1968.6,
            "count": 0
           },
           {
            "bin_start": 1968.6,
            "bin_end": 1968.7,
            "count": 0
           },
           {
            "bin_start": 1968.7,
            "bin_end": 1968.8,
            "count": 0
           },
           {
            "bin_start": 1968.8,
            "bin_end": 1968.9,
            "count": 0
           },
           {
            "bin_start": 1968.9,
            "bin_end": 1969,
            "count": 0
           },
           {
            "bin_start": 1969,
            "bin_end": 1969.1,
            "count": 5
           },
           {
            "bin_start": 1969.1,
            "bin_end": 1969.2,
            "count": 0
           },
           {
            "bin_start": 1969.2,
            "bin_end": 1969.3,
            "count": 0
           },
           {
            "bin_start": 1969.3,
            "bin_end": 1969.4,
            "count": 0
           },
           {
            "bin_start": 1969.4,
            "bin_end": 1969.5,
            "count": 0
           }
          ]
         }
        },
        {
         "name": "month",
         "dtype": "int64",
         "stats": {
          "unique_count": 1,
          "nan_count": 0,
          "min": "1",
          "max": "1",
          "histogram": [
           {
            "bin_start": 0.5,
            "bin_end": 0.6,
            "count": 0
           },
           {
            "bin_start": 0.6,
            "bin_end": 0.7,
            "count": 0
           },
           {
            "bin_start": 0.7,
            "bin_end": 0.8,
            "count": 0
           },
           {
            "bin_start": 0.8,
            "bin_end": 0.9,
            "count": 0
           },
           {
            "bin_start": 0.9,
            "bin_end": 1,
            "count": 0
           },
           {
            "bin_start": 1,
            "bin_end": 1.1,
            "count": 5
           },
           {
            "bin_start": 1.1,
            "bin_end": 1.2000000000000002,
            "count": 0
           },
           {
            "bin_start": 1.2000000000000002,
            "bin_end": 1.3,
            "count": 0
           },
           {
            "bin_start": 1.3,
            "bin_end": 1.4,
            "count": 0
           },
           {
            "bin_start": 1.4,
            "bin_end": 1.5,
            "count": 0
           }
          ]
         }
        },
        {
         "name": "day",
         "dtype": "float64",
         "stats": {
          "unique_count": 3,
          "nan_count": 0,
          "min": "1.0",
          "max": "3.0",
          "histogram": [
           {
            "bin_start": 1,
            "bin_end": 1.2,
            "count": 2
           },
           {
            "bin_start": 1.2,
            "bin_end": 1.4,
            "count": 0
           },
           {
            "bin_start": 1.4,
            "bin_end": 1.6,
            "count": 0
           },
           {
            "bin_start": 1.6,
            "bin_end": 1.8,
            "count": 0
           },
           {
            "bin_start": 1.8,
            "bin_end": 2,
            "count": 0
           },
           {
            "bin_start": 2,
            "bin_end": 2.2,
            "count": 2
           },
           {
            "bin_start": 2.2,
            "bin_end": 2.4000000000000004,
            "count": 0
           },
           {
            "bin_start": 2.4000000000000004,
            "bin_end": 2.6,
            "count": 0
           },
           {
            "bin_start": 2.6,
            "bin_end": 2.8,
            "count": 0
           },
           {
            "bin_start": 2.8,
            "bin_end": 3,
            "count": 1
           }
          ]
         }
        },
        {
         "name": "gender",
         "dtype": "object",
         "stats": {
          "unique_count": 2,
          "nan_count": 0,
          "categories": [
           {
            "name": "F",
            "count": 3
           },
           {
            "name": "M",
            "count": 2
           }
          ]
         }
        },
        {
         "name": "births",
         "dtype": "int64",
         "stats": {
          "unique_count": 4,
          "nan_count": 0,
          "min": "4046",
          "max": "4548",
          "histogram": [
           {
            "bin_start": 4046,
            "bin_end": 4096.2,
            "count": 1
           },
           {
            "bin_start": 4096.2,
            "bin_end": 4146.4,
            "count": 0
           },
           {
            "bin_start": 4146.4,
            "bin_end": 4196.6,
            "count": 0
           },
           {
            "bin_start": 4196.6,
            "bin_end": 4246.8,
            "count": 0
           },
           {
            "bin_start": 4246.8,
            "bin_end": 4297,
            "count": 0
           },
           {
            "bin_start": 4297,
            "bin_end": 4347.2,
            "count": 0
           },
           {
            "bin_start": 4347.2,
            "bin_end": 4397.4,
            "count": 0
           },
           {
            "bin_start": 4397.4,
            "bin_end": 4447.6,
            "count": 1
           },
           {
            "bin_start": 4447.6,
            "bin_end": 4497.8,
            "count": 1
           },
           {
            "bin_start": 4497.8,
            "bin_end": 4548,
            "count": 2
           }
          ]
         }
        },
        {
         "name": "decade",
         "dtype": "int64",
         "stats": {
          "unique_count": 1,
          "nan_count": 0,
          "min": "1960",
          "max": "1960",
          "histogram": [
           {
            "bin_start": 1959.5,
            "bin_end": 1959.6,
            "count": 0
           },
           {
            "bin_start": 1959.6,
            "bin_end": 1959.7,
            "count": 0
           },
           {
            "bin_start": 1959.7,
            "bin_end": 1959.8,
            "count": 0
           },
           {
            "bin_start": 1959.8,
            "bin_end": 1959.9,
            "count": 0
           },
           {
            "bin_start": 1959.9,
            "bin_end": 1960,
            "count": 0
           },
           {
            "bin_start": 1960,
            "bin_end": 1960.1,
            "count": 5
           },
           {
            "bin_start": 1960.1,
            "bin_end": 1960.2,
            "count": 0
           },
           {
            "bin_start": 1960.2,
            "bin_end": 1960.3,
            "count": 0
           },
           {
            "bin_start": 1960.3,
            "bin_end": 1960.4,
            "count": 0
           },
           {
            "bin_start": 1960.4,
            "bin_end": 1960.5,
            "count": 0
           }
          ]
         }
        },
        {
         "name": "_deepnote_index_column",
         "dtype": "int64"
        }
       ],
       "rows_top": [
        {
         "year": 1969,
         "month": 1,
         "day": 1,
         "gender": "F",
         "births": 4046,
         "decade": 1960,
         "_deepnote_index_column": 0
        },
        {
         "year": 1969,
         "month": 1,
         "day": 1,
         "gender": "M",
         "births": 4440,
         "decade": 1960,
         "_deepnote_index_column": 1
        },
        {
         "year": 1969,
         "month": 1,
         "day": 2,
         "gender": "F",
         "births": 4454,
         "decade": 1960,
         "_deepnote_index_column": 2
        },
        {
         "year": 1969,
         "month": 1,
         "day": 2,
         "gender": "M",
         "births": 4548,
         "decade": 1960,
         "_deepnote_index_column": 3
        },
        {
         "year": 1969,
         "month": 1,
         "day": 3,
         "gender": "F",
         "births": 4548,
         "decade": 1960,
         "_deepnote_index_column": 4
        }
       ],
       "rows_bottom": null
      },
      "text/plain": "   year  month  day gender  births  decade\n0  1969      1  1.0      F    4046    1960\n1  1969      1  1.0      M    4440    1960\n2  1969      1  2.0      F    4454    1960\n3  1969      1  2.0      M    4548    1960\n4  1969      1  3.0      F    4548    1960",
      "text/html": "<div>\n<style scoped>\n    .dataframe tbody tr th:only-of-type {\n        vertical-align: middle;\n    }\n\n    .dataframe tbody tr th {\n        vertical-align: top;\n    }\n\n    .dataframe thead th {\n        text-align: right;\n    }\n</style>\n<table border=\"1\" class=\"dataframe\">\n  <thead>\n    <tr style=\"text-align: right;\">\n      <th></th>\n      <th>year</th>\n      <th>month</th>\n      <th>day</th>\n      <th>gender</th>\n      <th>births</th>\n      <th>decade</th>\n    </tr>\n  </thead>\n  <tbody>\n    <tr>\n      <th>0</th>\n      <td>1969</td>\n      <td>1</td>\n      <td>1.0</td>\n      <td>F</td>\n      <td>4046</td>\n      <td>1960</td>\n    </tr>\n    <tr>\n      <th>1</th>\n      <td>1969</td>\n      <td>1</td>\n      <td>1.0</td>\n      <td>M</td>\n      <td>4440</td>\n      <td>1960</td>\n    </tr>\n    <tr>\n      <th>2</th>\n      <td>1969</td>\n      <td>1</td>\n      <td>2.0</td>\n      <td>F</td>\n      <td>4454</td>\n      <td>1960</td>\n    </tr>\n    <tr>\n      <th>3</th>\n      <td>1969</td>\n      <td>1</td>\n      <td>2.0</td>\n      <td>M</td>\n      <td>4548</td>\n      <td>1960</td>\n    </tr>\n    <tr>\n      <th>4</th>\n      <td>1969</td>\n      <td>1</td>\n      <td>3.0</td>\n      <td>F</td>\n      <td>4548</td>\n      <td>1960</td>\n    </tr>\n  </tbody>\n</table>\n</div>"
     },
     "metadata": {}
    }
   ],
   "execution_count": null
  },
  {
   "cell_type": "code",
   "source": "births.pivot_table('births',index='decade',columns='gender',aggfunc='sum')",
   "metadata": {
    "tags": [],
    "cell_id": "00017-cc90b7cf-73bc-476d-b0e3-269487be8fef",
    "deepnote_to_be_reexecuted": false,
    "source_hash": "b7823a5f",
    "execution_start": 1626665316792,
    "execution_millis": 46,
    "deepnote_cell_type": "code"
   },
   "outputs": [
    {
     "output_type": "execute_result",
     "execution_count": 8,
     "data": {
      "application/vnd.deepnote.dataframe.v2+json": {
       "row_count": 5,
       "column_count": 2,
       "columns": [
        {
         "name": "F",
         "dtype": "int64",
         "stats": {
          "unique_count": 5,
          "nan_count": 0,
          "min": "1753634",
          "max": "19479454",
          "histogram": [
           {
            "bin_start": 1753634,
            "bin_end": 3526216,
            "count": 1
           },
           {
            "bin_start": 3526216,
            "bin_end": 5298798,
            "count": 0
           },
           {
            "bin_start": 5298798,
            "bin_end": 7071380,
            "count": 0
           },
           {
            "bin_start": 7071380,
            "bin_end": 8843962,
            "count": 0
           },
           {
            "bin_start": 8843962,
            "bin_end": 10616544,
            "count": 0
           },
           {
            "bin_start": 10616544,
            "bin_end": 12389126,
            "count": 0
           },
           {
            "bin_start": 12389126,
            "bin_end": 14161708,
            "count": 0
           },
           {
            "bin_start": 14161708,
            "bin_end": 15934290,
            "count": 0
           },
           {
            "bin_start": 15934290,
            "bin_end": 17706872,
            "count": 1
           },
           {
            "bin_start": 17706872,
            "bin_end": 19479454,
            "count": 3
           }
          ]
         }
        },
        {
         "name": "M",
         "dtype": "int64",
         "stats": {
          "unique_count": 5,
          "nan_count": 0,
          "min": "1846572",
          "max": "20420553",
          "histogram": [
           {
            "bin_start": 1846572,
            "bin_end": 3703970.1,
            "count": 1
           },
           {
            "bin_start": 3703970.1,
            "bin_end": 5561368.2,
            "count": 0
           },
           {
            "bin_start": 5561368.2,
            "bin_end": 7418766.300000001,
            "count": 0
           },
           {
            "bin_start": 7418766.300000001,
            "bin_end": 9276164.4,
            "count": 0
           },
           {
            "bin_start": 9276164.4,
            "bin_end": 11133562.5,
            "count": 0
           },
           {
            "bin_start": 11133562.5,
            "bin_end": 12990960.600000001,
            "count": 0
           },
           {
            "bin_start": 12990960.600000001,
            "bin_end": 14848358.700000001,
            "count": 0
           },
           {
            "bin_start": 14848358.700000001,
            "bin_end": 16705756.8,
            "count": 0
           },
           {
            "bin_start": 16705756.8,
            "bin_end": 18563154.9,
            "count": 1
           },
           {
            "bin_start": 18563154.9,
            "bin_end": 20420553,
            "count": 3
           }
          ]
         }
        },
        {
         "name": "_deepnote_index_column",
         "dtype": "int64"
        }
       ],
       "rows_top": [
        {
         "F": 1753634,
         "M": 1846572,
         "_deepnote_index_column": 1960
        },
        {
         "F": 16263075,
         "M": 17121550,
         "_deepnote_index_column": 1970
        },
        {
         "F": 18310351,
         "M": 19243452,
         "_deepnote_index_column": 1980
        },
        {
         "F": 19479454,
         "M": 20420553,
         "_deepnote_index_column": 1990
        },
        {
         "F": 18229309,
         "M": 19106428,
         "_deepnote_index_column": 2000
        }
       ],
       "rows_bottom": null
      },
      "text/plain": "gender         F         M\ndecade                    \n1960     1753634   1846572\n1970    16263075  17121550\n1980    18310351  19243452\n1990    19479454  20420553\n2000    18229309  19106428",
      "text/html": "<div>\n<style scoped>\n    .dataframe tbody tr th:only-of-type {\n        vertical-align: middle;\n    }\n\n    .dataframe tbody tr th {\n        vertical-align: top;\n    }\n\n    .dataframe thead th {\n        text-align: right;\n    }\n</style>\n<table border=\"1\" class=\"dataframe\">\n  <thead>\n    <tr style=\"text-align: right;\">\n      <th>gender</th>\n      <th>F</th>\n      <th>M</th>\n    </tr>\n    <tr>\n      <th>decade</th>\n      <th></th>\n      <th></th>\n    </tr>\n  </thead>\n  <tbody>\n    <tr>\n      <th>1960</th>\n      <td>1753634</td>\n      <td>1846572</td>\n    </tr>\n    <tr>\n      <th>1970</th>\n      <td>16263075</td>\n      <td>17121550</td>\n    </tr>\n    <tr>\n      <th>1980</th>\n      <td>18310351</td>\n      <td>19243452</td>\n    </tr>\n    <tr>\n      <th>1990</th>\n      <td>19479454</td>\n      <td>20420553</td>\n    </tr>\n    <tr>\n      <th>2000</th>\n      <td>18229309</td>\n      <td>19106428</td>\n    </tr>\n  </tbody>\n</table>\n</div>"
     },
     "metadata": {}
    }
   ],
   "execution_count": null
  },
  {
   "cell_type": "code",
   "source": "births.pivot_table('births',index='decade',columns='gender',aggfunc='sum').plot()",
   "metadata": {
    "tags": [],
    "cell_id": "00018-9a63966b-88b4-4b7c-9a2d-d55e41fdd46e",
    "deepnote_to_be_reexecuted": false,
    "source_hash": "366b941f",
    "execution_start": 1626665374098,
    "execution_millis": 437,
    "deepnote_cell_type": "code"
   },
   "outputs": [
    {
     "output_type": "execute_result",
     "execution_count": 9,
     "data": {
      "text/plain": "<AxesSubplot:xlabel='decade'>"
     },
     "metadata": {}
    },
    {
     "data": {
      "text/plain": "<Figure size 432x288 with 1 Axes>",
      "image/png": "[encoded data removed]"
     },
     "metadata": {
      "needs_background": "light",
      "image/png": {
       "width": 378,
       "height": 273
      }
     },
     "output_type": "display_data"
    }
   ],
   "execution_count": null
  },
  {
   "cell_type": "code",
   "source": "births.pivot_table('births',index='year',columns='gender',aggfunc='sum').plot()",
   "metadata": {
    "tags": [],
    "cell_id": "00019-0219a374-83d7-4b42-b943-06b37bdb03fc",
    "deepnote_to_be_reexecuted": false,
    "source_hash": "62a28d49",
    "execution_start": 1626665396286,
    "execution_millis": 270,
    "deepnote_cell_type": "code"
   },
   "outputs": [
    {
     "output_type": "execute_result",
     "execution_count": 11,
     "data": {
      "text/plain": "<AxesSubplot:xlabel='year'>"
     },
     "metadata": {}
    },
    {
     "data": {
      "text/plain": "<Figure size 432x288 with 1 Axes>",
      "image/png": "[encoded data removed]"
     },
     "metadata": {
      "needs_background": "light",
      "image/png": {
       "width": 372,
       "height": 273
      }
     },
     "output_type": "display_data"
    }
   ],
   "execution_count": null
  },
  {
   "cell_type": "code",
   "source": "",
   "metadata": {
    "tags": [],
    "cell_id": "00020-e179ef9c-05f1-419f-b8cc-ad1c9cd5cc0c",
    "deepnote_cell_type": "code"
   },
   "outputs": [],
   "execution_count": null
  },
  {
   "cell_type": "markdown",
   "source": "<a style='text-decoration:none;line-height:16px;display:flex;color:#5B5B62;padding:10px;justify-content:end;' href='https://deepnote.com?utm_source=created-in-deepnote-cell&projectId=f5f90ba1-3290-463e-8fc6-44108f4fa21b' target=\"_blank\">\n<img alt='Created in deepnote.com' style='display:inline;max-height:16px;margin:0px;margin-right:7.5px;' src='data:image/svg+xml;base64,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' > </img>\nCreated in <span style='font-weight:600;margin-left:4px;'>Deepnote</span></a>",
   "metadata": {
    "tags": [],
    "created_in_deepnote_cell": true,
    "deepnote_cell_type": "markdown"
   }
  }
 ],
 "nbformat": 4,
 "nbformat_minor": 2,
 "metadata": {
  "orig_nbformat": 2,
  "deepnote": {
   "is_reactive": false
  },
  "deepnote_notebook_id": "e77e47ef-349f-496e-957a-12feda44e7c8",
  "deepnote_execution_queue": []
 }
}