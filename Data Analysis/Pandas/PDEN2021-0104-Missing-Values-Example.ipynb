{
  "cells":[
    {
      "cell_type":"code",
      "source":[
        "import numpy as np\n",
        "import pandas as pd \n",
        "import matplotlib.pyplot as plt"
      ],
      "execution_count":1,
      "outputs":[
        
      ],
      "metadata":{
        
      }
    },
    {
      "cell_type":"code",
      "source":[
        "df = pd.DataFrame({\n",
        "    'Part': ['Monitor', 'CPU', None, 'Mouse', None, 'Extensions', 'Table', 'Chair', 'Wifi'],\n",
        "    'Feature': ['LED', 'i7', 'RGB', 'Wireless', 'Zebronics', None, 'Urban Clap', 'Apex Chairs', 'Airtel'],\n",
        "    'Price': [12000, 3500, None, 1200, None, 250, 7000, 12000, 799]\n",
        "})\n",
        "df"
      ],
      "execution_count":2,
      "outputs":[
        {
          "data":{
            "text\/html":[
              "<div>\n",
              "<style scoped>\n",
              "    .dataframe tbody tr th:only-of-type {\n",
              "        vertical-align: middle;\n",
              "    }\n",
              "\n",
              "    .dataframe tbody tr th {\n",
              "        vertical-align: top;\n",
              "    }\n",
              "\n",
              "    .dataframe thead th {\n",
              "        text-align: right;\n",
              "    }\n",
              "<\/style>\n",
              "<table border=\"1\" class=\"dataframe\">\n",
              "  <thead>\n",
              "    <tr style=\"text-align: right;\">\n",
              "      <th><\/th>\n",
              "      <th>Part<\/th>\n",
              "      <th>Feature<\/th>\n",
              "      <th>Price<\/th>\n",
              "    <\/tr>\n",
              "  <\/thead>\n",
              "  <tbody>\n",
              "    <tr>\n",
              "      <th>0<\/th>\n",
              "      <td>Monitor<\/td>\n",
              "      <td>LED<\/td>\n",
              "      <td>12000.0<\/td>\n",
              "    <\/tr>\n",
              "    <tr>\n",
              "      <th>1<\/th>\n",
              "      <td>CPU<\/td>\n",
              "      <td>i7<\/td>\n",
              "      <td>3500.0<\/td>\n",
              "    <\/tr>\n",
              "    <tr>\n",
              "      <th>2<\/th>\n",
              "      <td>None<\/td>\n",
              "      <td>RGB<\/td>\n",
              "      <td>NaN<\/td>\n",
              "    <\/tr>\n",
              "    <tr>\n",
              "      <th>3<\/th>\n",
              "      <td>Mouse<\/td>\n",
              "      <td>Wireless<\/td>\n",
              "      <td>1200.0<\/td>\n",
              "    <\/tr>\n",
              "    <tr>\n",
              "      <th>4<\/th>\n",
              "      <td>None<\/td>\n",
              "      <td>Zebronics<\/td>\n",
              "      <td>NaN<\/td>\n",
              "    <\/tr>\n",
              "    <tr>\n",
              "      <th>5<\/th>\n",
              "      <td>Extensions<\/td>\n",
              "      <td>None<\/td>\n",
              "      <td>250.0<\/td>\n",
              "    <\/tr>\n",
              "    <tr>\n",
              "      <th>6<\/th>\n",
              "      <td>Table<\/td>\n",
              "      <td>Urban Clap<\/td>\n",
              "      <td>7000.0<\/td>\n",
              "    <\/tr>\n",
              "    <tr>\n",
              "      <th>7<\/th>\n",
              "      <td>Chair<\/td>\n",
              "      <td>Apex Chairs<\/td>\n",
              "      <td>12000.0<\/td>\n",
              "    <\/tr>\n",
              "    <tr>\n",
              "      <th>8<\/th>\n",
              "      <td>Wifi<\/td>\n",
              "      <td>Airtel<\/td>\n",
              "      <td>799.0<\/td>\n",
              "    <\/tr>\n",
              "  <\/tbody>\n",
              "<\/table>\n",
              "<\/div>"
            ]
          },
          "metadata":{
            
          },
          "output_type":"display_data"
        }
      ],
      "metadata":{
        
      }
    },
    {
      "cell_type":"code",
      "source":[
        "df.isna() # where and all we have true there we have Null values"
      ],
      "execution_count":3,
      "outputs":[
        {
          "data":{
            "text\/html":[
              "<div>\n",
              "<style scoped>\n",
              "    .dataframe tbody tr th:only-of-type {\n",
              "        vertical-align: middle;\n",
              "    }\n",
              "\n",
              "    .dataframe tbody tr th {\n",
              "        vertical-align: top;\n",
              "    }\n",
              "\n",
              "    .dataframe thead th {\n",
              "        text-align: right;\n",
              "    }\n",
              "<\/style>\n",
              "<table border=\"1\" class=\"dataframe\">\n",
              "  <thead>\n",
              "    <tr style=\"text-align: right;\">\n",
              "      <th><\/th>\n",
              "      <th>Part<\/th>\n",
              "      <th>Feature<\/th>\n",
              "      <th>Price<\/th>\n",
              "    <\/tr>\n",
              "  <\/thead>\n",
              "  <tbody>\n",
              "    <tr>\n",
              "      <th>0<\/th>\n",
              "      <td>False<\/td>\n",
              "      <td>False<\/td>\n",
              "      <td>False<\/td>\n",
              "    <\/tr>\n",
              "    <tr>\n",
              "      <th>1<\/th>\n",
              "      <td>False<\/td>\n",
              "      <td>False<\/td>\n",
              "      <td>False<\/td>\n",
              "    <\/tr>\n",
              "    <tr>\n",
              "      <th>2<\/th>\n",
              "      <td>True<\/td>\n",
              "      <td>False<\/td>\n",
              "      <td>True<\/td>\n",
              "    <\/tr>\n",
              "    <tr>\n",
              "      <th>3<\/th>\n",
              "      <td>False<\/td>\n",
              "      <td>False<\/td>\n",
              "      <td>False<\/td>\n",
              "    <\/tr>\n",
              "    <tr>\n",
              "      <th>4<\/th>\n",
              "      <td>True<\/td>\n",
              "      <td>False<\/td>\n",
              "      <td>True<\/td>\n",
              "    <\/tr>\n",
              "    <tr>\n",
              "      <th>5<\/th>\n",
              "      <td>False<\/td>\n",
              "      <td>True<\/td>\n",
              "      <td>False<\/td>\n",
              "    <\/tr>\n",
              "    <tr>\n",
              "      <th>6<\/th>\n",
              "      <td>False<\/td>\n",
              "      <td>False<\/td>\n",
              "      <td>False<\/td>\n",
              "    <\/tr>\n",
              "    <tr>\n",
              "      <th>7<\/th>\n",
              "      <td>False<\/td>\n",
              "      <td>False<\/td>\n",
              "      <td>False<\/td>\n",
              "    <\/tr>\n",
              "    <tr>\n",
              "      <th>8<\/th>\n",
              "      <td>False<\/td>\n",
              "      <td>False<\/td>\n",
              "      <td>False<\/td>\n",
              "    <\/tr>\n",
              "  <\/tbody>\n",
              "<\/table>\n",
              "<\/div>"
            ]
          },
          "metadata":{
            
          },
          "output_type":"display_data"
        }
      ],
      "metadata":{
        
      }
    },
    {
      "cell_type":"code",
      "source":[
        "df.isna().sum()"
      ],
      "execution_count":5,
      "outputs":[
        {
          "data":{
            "text\/plain":[
              "Part       2\n",
              "Feature    1\n",
              "Price      2\n",
              "dtype: int64"
            ]
          },
          "metadata":{
            
          },
          "output_type":"display_data"
        }
      ],
      "metadata":{
        
      }
    },
    {
      "cell_type":"code",
      "source":[
        "df.dropna()"
      ],
      "execution_count":6,
      "outputs":[
        {
          "data":{
            "text\/html":[
              "<div>\n",
              "<style scoped>\n",
              "    .dataframe tbody tr th:only-of-type {\n",
              "        vertical-align: middle;\n",
              "    }\n",
              "\n",
              "    .dataframe tbody tr th {\n",
              "        vertical-align: top;\n",
              "    }\n",
              "\n",
              "    .dataframe thead th {\n",
              "        text-align: right;\n",
              "    }\n",
              "<\/style>\n",
              "<table border=\"1\" class=\"dataframe\">\n",
              "  <thead>\n",
              "    <tr style=\"text-align: right;\">\n",
              "      <th><\/th>\n",
              "      <th>Part<\/th>\n",
              "      <th>Feature<\/th>\n",
              "      <th>Price<\/th>\n",
              "    <\/tr>\n",
              "  <\/thead>\n",
              "  <tbody>\n",
              "    <tr>\n",
              "      <th>0<\/th>\n",
              "      <td>Monitor<\/td>\n",
              "      <td>LED<\/td>\n",
              "      <td>12000.0<\/td>\n",
              "    <\/tr>\n",
              "    <tr>\n",
              "      <th>1<\/th>\n",
              "      <td>CPU<\/td>\n",
              "      <td>i7<\/td>\n",
              "      <td>3500.0<\/td>\n",
              "    <\/tr>\n",
              "    <tr>\n",
              "      <th>3<\/th>\n",
              "      <td>Mouse<\/td>\n",
              "      <td>Wireless<\/td>\n",
              "      <td>1200.0<\/td>\n",
              "    <\/tr>\n",
              "    <tr>\n",
              "      <th>6<\/th>\n",
              "      <td>Table<\/td>\n",
              "      <td>Urban Clap<\/td>\n",
              "      <td>7000.0<\/td>\n",
              "    <\/tr>\n",
              "    <tr>\n",
              "      <th>7<\/th>\n",
              "      <td>Chair<\/td>\n",
              "      <td>Apex Chairs<\/td>\n",
              "      <td>12000.0<\/td>\n",
              "    <\/tr>\n",
              "    <tr>\n",
              "      <th>8<\/th>\n",
              "      <td>Wifi<\/td>\n",
              "      <td>Airtel<\/td>\n",
              "      <td>799.0<\/td>\n",
              "    <\/tr>\n",
              "  <\/tbody>\n",
              "<\/table>\n",
              "<\/div>"
            ]
          },
          "metadata":{
            
          },
          "output_type":"display_data"
        }
      ],
      "metadata":{
        
      }
    },
    {
      "cell_type":"code",
      "source":[
        "df.dtypes"
      ],
      "execution_count":8,
      "outputs":[
        {
          "data":{
            "text\/plain":[
              "Part        object\n",
              "Feature     object\n",
              "Price      float64\n",
              "dtype: object"
            ]
          },
          "metadata":{
            
          },
          "output_type":"display_data"
        }
      ],
      "metadata":{
        
      }
    },
    {
      "cell_type":"code",
      "source":[
        "df.replace(to_replace=\"12000.0\",value=\"13,000\")\n",
        "df"
      ],
      "execution_count":9,
      "outputs":[
        {
          "data":{
            "text\/html":[
              "<div>\n",
              "<style scoped>\n",
              "    .dataframe tbody tr th:only-of-type {\n",
              "        vertical-align: middle;\n",
              "    }\n",
              "\n",
              "    .dataframe tbody tr th {\n",
              "        vertical-align: top;\n",
              "    }\n",
              "\n",
              "    .dataframe thead th {\n",
              "        text-align: right;\n",
              "    }\n",
              "<\/style>\n",
              "<table border=\"1\" class=\"dataframe\">\n",
              "  <thead>\n",
              "    <tr style=\"text-align: right;\">\n",
              "      <th><\/th>\n",
              "      <th>Part<\/th>\n",
              "      <th>Feature<\/th>\n",
              "      <th>Price<\/th>\n",
              "    <\/tr>\n",
              "  <\/thead>\n",
              "  <tbody>\n",
              "    <tr>\n",
              "      <th>0<\/th>\n",
              "      <td>Monitor<\/td>\n",
              "      <td>LED<\/td>\n",
              "      <td>12000.0<\/td>\n",
              "    <\/tr>\n",
              "    <tr>\n",
              "      <th>1<\/th>\n",
              "      <td>CPU<\/td>\n",
              "      <td>i7<\/td>\n",
              "      <td>3500.0<\/td>\n",
              "    <\/tr>\n",
              "    <tr>\n",
              "      <th>2<\/th>\n",
              "      <td>None<\/td>\n",
              "      <td>RGB<\/td>\n",
              "      <td>NaN<\/td>\n",
              "    <\/tr>\n",
              "    <tr>\n",
              "      <th>3<\/th>\n",
              "      <td>Mouse<\/td>\n",
              "      <td>Wireless<\/td>\n",
              "      <td>1200.0<\/td>\n",
              "    <\/tr>\n",
              "    <tr>\n",
              "      <th>4<\/th>\n",
              "      <td>None<\/td>\n",
              "      <td>Zebronics<\/td>\n",
              "      <td>NaN<\/td>\n",
              "    <\/tr>\n",
              "    <tr>\n",
              "      <th>5<\/th>\n",
              "      <td>Extensions<\/td>\n",
              "      <td>None<\/td>\n",
              "      <td>250.0<\/td>\n",
              "    <\/tr>\n",
              "    <tr>\n",
              "      <th>6<\/th>\n",
              "      <td>Table<\/td>\n",
              "      <td>Urban Clap<\/td>\n",
              "      <td>7000.0<\/td>\n",
              "    <\/tr>\n",
              "    <tr>\n",
              "      <th>7<\/th>\n",
              "      <td>Chair<\/td>\n",
              "      <td>Apex Chairs<\/td>\n",
              "      <td>12000.0<\/td>\n",
              "    <\/tr>\n",
              "    <tr>\n",
              "      <th>8<\/th>\n",
              "      <td>Wifi<\/td>\n",
              "      <td>Airtel<\/td>\n",
              "      <td>799.0<\/td>\n",
              "    <\/tr>\n",
              "  <\/tbody>\n",
              "<\/table>\n",
              "<\/div>"
            ]
          },
          "metadata":{
            
          },
          "output_type":"display_data"
        }
      ],
      "metadata":{
        
      }
    },
    {
      "cell_type":"markdown",
      "source":[
        "# **About this Dataset**\n",
        "### Background\n",
        "A building permit is an official approval document issued by a governmental agency that allows you or your contractor to proceed with a construction or remodeling project on one's property. For more details go to https:\/\/www.thespruce.com\/what-is-a-building-permit-1398344. Each city or county has its own office related to buildings, that can do multiple functions like issuing permits, inspecting buildings to enforce safety measures, modifying rules to accommodate needs of the growing population etc. For the city of San Francisco, permit issuing is taken care by www.sfdbi.org\/\n",
        "\n",
        "Why is this important: In the recent past, several posts and blogs highlighted that main discrepancy in demand and supply in real estate industry is due to delays in issuing building permits. Refer:\n",
        "https:\/\/www.trulia.com\/blog\/trends\/elasticity-2016\/ - Introduces concept of elasticity, and nice scatterplot of various cities. A good data story!\n",
        "https:\/\/biv.com\/article\/2014\/11\/city-building-permit-delays-costing-developers-tim\n",
        "\n",
        "### Content\n",
        "The data was downloaded for the dates ranging from Jan 1st, 2013 to Feb 25th, 2018 using the filter in San Francisco open data portal. This is the exact link: https:\/\/data.sfgov.org\/Housing-and-Buildings\/Building-Permits\/i98e-djp9\/data\n",
        "There are 43 columns and close to 200k records in the downloaded version (kept here). Description is separately uploaded as dictionary."
      ],
      "metadata":{
        
      }
    },
    {
      "cell_type":"code",
      "source":[
        "# read in all our data\n",
        "sf_permits = pd.read_csv(\"Building_Permits.csv\",low_memory=False)\n",
        "\n",
        "# set seed for reproducibility\n",
        "np.random.seed(0) "
      ],
      "execution_count":11,
      "outputs":[
        
      ],
      "metadata":{
        
      }
    },
    {
      "cell_type":"code",
      "source":[
        "sf_permits.head()"
      ],
      "execution_count":18,
      "outputs":[
        {
          "data":{
            "text\/html":[
              "<div>\n",
              "<style scoped>\n",
              "    .dataframe tbody tr th:only-of-type {\n",
              "        vertical-align: middle;\n",
              "    }\n",
              "\n",
              "    .dataframe tbody tr th {\n",
              "        vertical-align: top;\n",
              "    }\n",
              "\n",
              "    .dataframe thead th {\n",
              "        text-align: right;\n",
              "    }\n",
              "<\/style>\n",
              "<table border=\"1\" class=\"dataframe\">\n",
              "  <thead>\n",
              "    <tr style=\"text-align: right;\">\n",
              "      <th><\/th>\n",
              "      <th>Permit Number<\/th>\n",
              "      <th>Permit Type<\/th>\n",
              "      <th>Permit Type Definition<\/th>\n",
              "      <th>Permit Creation Date<\/th>\n",
              "      <th>Block<\/th>\n",
              "      <th>Lot<\/th>\n",
              "      <th>Street Number<\/th>\n",
              "      <th>Street Number Suffix<\/th>\n",
              "      <th>Street Name<\/th>\n",
              "      <th>Street Suffix<\/th>\n",
              "      <th>...<\/th>\n",
              "      <th>Existing Construction Type<\/th>\n",
              "      <th>Existing Construction Type Description<\/th>\n",
              "      <th>Proposed Construction Type<\/th>\n",
              "      <th>Proposed Construction Type Description<\/th>\n",
              "      <th>Site Permit<\/th>\n",
              "      <th>Supervisor District<\/th>\n",
              "      <th>Neighborhoods - Analysis Boundaries<\/th>\n",
              "      <th>Zipcode<\/th>\n",
              "      <th>Location<\/th>\n",
              "      <th>Record ID<\/th>\n",
              "    <\/tr>\n",
              "  <\/thead>\n",
              "  <tbody>\n",
              "    <tr>\n",
              "      <th>0<\/th>\n",
              "      <td>201505065519<\/td>\n",
              "      <td>4<\/td>\n",
              "      <td>sign - erect<\/td>\n",
              "      <td>05\/06\/2015<\/td>\n",
              "      <td>0326<\/td>\n",
              "      <td>023<\/td>\n",
              "      <td>140<\/td>\n",
              "      <td>NaN<\/td>\n",
              "      <td>Ellis<\/td>\n",
              "      <td>St<\/td>\n",
              "      <td>...<\/td>\n",
              "      <td>3.0<\/td>\n",
              "      <td>constr type 3<\/td>\n",
              "      <td>NaN<\/td>\n",
              "      <td>NaN<\/td>\n",
              "      <td>NaN<\/td>\n",
              "      <td>3.0<\/td>\n",
              "      <td>Tenderloin<\/td>\n",
              "      <td>94102.0<\/td>\n",
              "      <td>(37.785719256680785, -122.40852313194863)<\/td>\n",
              "      <td>1380611233945<\/td>\n",
              "    <\/tr>\n",
              "    <tr>\n",
              "      <th>1<\/th>\n",
              "      <td>201604195146<\/td>\n",
              "      <td>4<\/td>\n",
              "      <td>sign - erect<\/td>\n",
              "      <td>04\/19\/2016<\/td>\n",
              "      <td>0306<\/td>\n",
              "      <td>007<\/td>\n",
              "      <td>440<\/td>\n",
              "      <td>NaN<\/td>\n",
              "      <td>Geary<\/td>\n",
              "      <td>St<\/td>\n",
              "      <td>...<\/td>\n",
              "      <td>3.0<\/td>\n",
              "      <td>constr type 3<\/td>\n",
              "      <td>NaN<\/td>\n",
              "      <td>NaN<\/td>\n",
              "      <td>NaN<\/td>\n",
              "      <td>3.0<\/td>\n",
              "      <td>Tenderloin<\/td>\n",
              "      <td>94102.0<\/td>\n",
              "      <td>(37.78733980600732, -122.41063199757738)<\/td>\n",
              "      <td>1420164406718<\/td>\n",
              "    <\/tr>\n",
              "    <tr>\n",
              "      <th>2<\/th>\n",
              "      <td>201605278609<\/td>\n",
              "      <td>3<\/td>\n",
              "      <td>additions alterations or repairs<\/td>\n",
              "      <td>05\/27\/2016<\/td>\n",
              "      <td>0595<\/td>\n",
              "      <td>203<\/td>\n",
              "      <td>1647<\/td>\n",
              "      <td>NaN<\/td>\n",
              "      <td>Pacific<\/td>\n",
              "      <td>Av<\/td>\n",
              "      <td>...<\/td>\n",
              "      <td>1.0<\/td>\n",
              "      <td>constr type 1<\/td>\n",
              "      <td>1.0<\/td>\n",
              "      <td>constr type 1<\/td>\n",
              "      <td>NaN<\/td>\n",
              "      <td>3.0<\/td>\n",
              "      <td>Russian Hill<\/td>\n",
              "      <td>94109.0<\/td>\n",
              "      <td>(37.7946573324287, -122.42232562979227)<\/td>\n",
              "      <td>1424856504716<\/td>\n",
              "    <\/tr>\n",
              "    <tr>\n",
              "      <th>3<\/th>\n",
              "      <td>201611072166<\/td>\n",
              "      <td>8<\/td>\n",
              "      <td>otc alterations permit<\/td>\n",
              "      <td>11\/07\/2016<\/td>\n",
              "      <td>0156<\/td>\n",
              "      <td>011<\/td>\n",
              "      <td>1230<\/td>\n",
              "      <td>NaN<\/td>\n",
              "      <td>Pacific<\/td>\n",
              "      <td>Av<\/td>\n",
              "      <td>...<\/td>\n",
              "      <td>5.0<\/td>\n",
              "      <td>wood frame (5)<\/td>\n",
              "      <td>5.0<\/td>\n",
              "      <td>wood frame (5)<\/td>\n",
              "      <td>NaN<\/td>\n",
              "      <td>3.0<\/td>\n",
              "      <td>Nob Hill<\/td>\n",
              "      <td>94109.0<\/td>\n",
              "      <td>(37.79595867909168, -122.41557405519474)<\/td>\n",
              "      <td>1443574295566<\/td>\n",
              "    <\/tr>\n",
              "    <tr>\n",
              "      <th>4<\/th>\n",
              "      <td>201611283529<\/td>\n",
              "      <td>6<\/td>\n",
              "      <td>demolitions<\/td>\n",
              "      <td>11\/28\/2016<\/td>\n",
              "      <td>0342<\/td>\n",
              "      <td>001<\/td>\n",
              "      <td>950<\/td>\n",
              "      <td>NaN<\/td>\n",
              "      <td>Market<\/td>\n",
              "      <td>St<\/td>\n",
              "      <td>...<\/td>\n",
              "      <td>3.0<\/td>\n",
              "      <td>constr type 3<\/td>\n",
              "      <td>NaN<\/td>\n",
              "      <td>NaN<\/td>\n",
              "      <td>NaN<\/td>\n",
              "      <td>6.0<\/td>\n",
              "      <td>Tenderloin<\/td>\n",
              "      <td>94102.0<\/td>\n",
              "      <td>(37.78315261897309, -122.40950883997789)<\/td>\n",
              "      <td>144548169992<\/td>\n",
              "    <\/tr>\n",
              "  <\/tbody>\n",
              "<\/table>\n",
              "<p>5 rows × 43 columns<\/p>\n",
              "<\/div>"
            ]
          },
          "metadata":{
            
          },
          "output_type":"display_data"
        }
      ],
      "metadata":{
        
      }
    },
    {
      "cell_type":"markdown",
      "source":[
        "# How many missing data points do we have?\n",
        "\n",
        "* What percentage of the values in the dataset are missing?\n",
        "* Your answer should be a number between 0 and 100.\n",
        "* (If 1\/4 of the values in the dataset are missing, the answer is 25.)"
      ],
      "metadata":{
        
      }
    },
    {
      "cell_type":"code",
      "source":[
        "sf_permits.shape"
      ],
      "execution_count":13,
      "outputs":[
        {
          "data":{
            "text\/plain":[
              "(198900, 43)"
            ]
          },
          "metadata":{
            
          },
          "output_type":"display_data"
        }
      ],
      "metadata":{
        
      }
    },
    {
      "cell_type":"code",
      "source":[
        "total_cells = np.product(sf_permits.shape)\n",
        "total_null = sf_permits.isnull().sum()\n",
        "percent_missing = (total_null.sum()\/total_cells)* 100\n",
        "percent_missing"
      ],
      "execution_count":17,
      "outputs":[
        {
          "data":{
            "text\/plain":[
              "26.26002315058403"
            ]
          },
          "metadata":{
            
          },
          "output_type":"display_data"
        }
      ],
      "metadata":{
        
      }
    },
    {
      "cell_type":"code",
      "source":[
        "total_null"
      ],
      "execution_count":19,
      "outputs":[
        {
          "data":{
            "text\/plain":[
              "Permit Number                                  0\n",
              "Permit Type                                    0\n",
              "Permit Type Definition                         0\n",
              "Permit Creation Date                           0\n",
              "Block                                          0\n",
              "Lot                                            0\n",
              "Street Number                                  0\n",
              "Street Number Suffix                      196684\n",
              "Street Name                                    0\n",
              "Street Suffix                               2768\n",
              "Unit                                      169421\n",
              "Unit Suffix                               196939\n",
              "Description                                  290\n",
              "Current Status                                 0\n",
              "Current Status Date                            0\n",
              "Filed Date                                     0\n",
              "Issued Date                                14940\n",
              "Completed Date                            101709\n",
              "First Construction Document Date           14946\n",
              "Structural Notification                   191978\n",
              "Number of Existing Stories                 42784\n",
              "Number of Proposed Stories                 42868\n",
              "Voluntary Soft-Story Retrofit             198865\n",
              "Fire Only Permit                          180073\n",
              "Permit Expiration Date                     51880\n",
              "Estimated Cost                             38066\n",
              "Revised Cost                                6066\n",
              "Existing Use                               41114\n",
              "Existing Units                             51538\n",
              "Proposed Use                               42439\n",
              "Proposed Units                             50911\n",
              "Plansets                                   37309\n",
              "TIDF Compliance                           198898\n",
              "Existing Construction Type                 43366\n",
              "Existing Construction Type Description     43366\n",
              "Proposed Construction Type                 43162\n",
              "Proposed Construction Type Description     43162\n",
              "Site Permit                               193541\n",
              "Supervisor District                         1717\n",
              "Neighborhoods - Analysis Boundaries         1725\n",
              "Zipcode                                     1716\n",
              "Location                                    1700\n",
              "Record ID                                      0\n",
              "dtype: int64"
            ]
          },
          "metadata":{
            
          },
          "output_type":"display_data"
        }
      ],
      "metadata":{
        
      }
    },
    {
      "cell_type":"markdown",
      "source":[
        "###  Figure out why the data is missing\n",
        "\n",
        "* Look the Columns \"Street Number Suffix\" and \"Zipcode\"  from the San Francisco Building Permits dataset. Both of these contain missing values.\n",
        "* Which if either are missing because they don't exist?\n",
        "* Which, if either, are missing because they weren't recorded?"
      ],
      "metadata":{
        
      }
    },
    {
      "cell_type":"code",
      "source":[
        "sf_permits[['Street Number Suffix','Zipcode','Street Number']].head()"
      ],
      "execution_count":22,
      "outputs":[
        {
          "data":{
            "text\/html":[
              "<div>\n",
              "<style scoped>\n",
              "    .dataframe tbody tr th:only-of-type {\n",
              "        vertical-align: middle;\n",
              "    }\n",
              "\n",
              "    .dataframe tbody tr th {\n",
              "        vertical-align: top;\n",
              "    }\n",
              "\n",
              "    .dataframe thead th {\n",
              "        text-align: right;\n",
              "    }\n",
              "<\/style>\n",
              "<table border=\"1\" class=\"dataframe\">\n",
              "  <thead>\n",
              "    <tr style=\"text-align: right;\">\n",
              "      <th><\/th>\n",
              "      <th>Street Number Suffix<\/th>\n",
              "      <th>Zipcode<\/th>\n",
              "      <th>Street Number<\/th>\n",
              "    <\/tr>\n",
              "  <\/thead>\n",
              "  <tbody>\n",
              "    <tr>\n",
              "      <th>0<\/th>\n",
              "      <td>NaN<\/td>\n",
              "      <td>94102.0<\/td>\n",
              "      <td>140<\/td>\n",
              "    <\/tr>\n",
              "    <tr>\n",
              "      <th>1<\/th>\n",
              "      <td>NaN<\/td>\n",
              "      <td>94102.0<\/td>\n",
              "      <td>440<\/td>\n",
              "    <\/tr>\n",
              "    <tr>\n",
              "      <th>2<\/th>\n",
              "      <td>NaN<\/td>\n",
              "      <td>94109.0<\/td>\n",
              "      <td>1647<\/td>\n",
              "    <\/tr>\n",
              "    <tr>\n",
              "      <th>3<\/th>\n",
              "      <td>NaN<\/td>\n",
              "      <td>94109.0<\/td>\n",
              "      <td>1230<\/td>\n",
              "    <\/tr>\n",
              "    <tr>\n",
              "      <th>4<\/th>\n",
              "      <td>NaN<\/td>\n",
              "      <td>94102.0<\/td>\n",
              "      <td>950<\/td>\n",
              "    <\/tr>\n",
              "  <\/tbody>\n",
              "<\/table>\n",
              "<\/div>"
            ]
          },
          "metadata":{
            
          },
          "output_type":"display_data"
        }
      ],
      "metadata":{
        
      }
    },
    {
      "cell_type":"code",
      "source":[
        "sf_permits[['Street Number Suffix','Zipcode','Street Number']].tail()\n",
        "\n",
        "\n",
        "## If a value in the \"Street Number Suffix\" column is missing, it is likely because it does not exist. If a value in the \"Zipcode\" column is missing, it was not recorded."
      ],
      "execution_count":23,
      "outputs":[
        {
          "data":{
            "text\/html":[
              "<div>\n",
              "<style scoped>\n",
              "    .dataframe tbody tr th:only-of-type {\n",
              "        vertical-align: middle;\n",
              "    }\n",
              "\n",
              "    .dataframe tbody tr th {\n",
              "        vertical-align: top;\n",
              "    }\n",
              "\n",
              "    .dataframe thead th {\n",
              "        text-align: right;\n",
              "    }\n",
              "<\/style>\n",
              "<table border=\"1\" class=\"dataframe\">\n",
              "  <thead>\n",
              "    <tr style=\"text-align: right;\">\n",
              "      <th><\/th>\n",
              "      <th>Street Number Suffix<\/th>\n",
              "      <th>Zipcode<\/th>\n",
              "      <th>Street Number<\/th>\n",
              "    <\/tr>\n",
              "  <\/thead>\n",
              "  <tbody>\n",
              "    <tr>\n",
              "      <th>198895<\/th>\n",
              "      <td>NaN<\/td>\n",
              "      <td>NaN<\/td>\n",
              "      <td>1228<\/td>\n",
              "    <\/tr>\n",
              "    <tr>\n",
              "      <th>198896<\/th>\n",
              "      <td>NaN<\/td>\n",
              "      <td>NaN<\/td>\n",
              "      <td>580<\/td>\n",
              "    <\/tr>\n",
              "    <tr>\n",
              "      <th>198897<\/th>\n",
              "      <td>NaN<\/td>\n",
              "      <td>NaN<\/td>\n",
              "      <td>1568<\/td>\n",
              "    <\/tr>\n",
              "    <tr>\n",
              "      <th>198898<\/th>\n",
              "      <td>NaN<\/td>\n",
              "      <td>NaN<\/td>\n",
              "      <td>795<\/td>\n",
              "    <\/tr>\n",
              "    <tr>\n",
              "      <th>198899<\/th>\n",
              "      <td>NaN<\/td>\n",
              "      <td>NaN<\/td>\n",
              "      <td>838<\/td>\n",
              "    <\/tr>\n",
              "  <\/tbody>\n",
              "<\/table>\n",
              "<\/div>"
            ]
          },
          "metadata":{
            
          },
          "output_type":"display_data"
        }
      ],
      "metadata":{
        
      }
    },
    {
      "cell_type":"code",
      "source":[
        "sf_permits.dropna() # Drop missing values: rows"
      ],
      "execution_count":24,
      "outputs":[
        {
          "data":{
            "text\/html":[
              "<div>\n",
              "<style scoped>\n",
              "    .dataframe tbody tr th:only-of-type {\n",
              "        vertical-align: middle;\n",
              "    }\n",
              "\n",
              "    .dataframe tbody tr th {\n",
              "        vertical-align: top;\n",
              "    }\n",
              "\n",
              "    .dataframe thead th {\n",
              "        text-align: right;\n",
              "    }\n",
              "<\/style>\n",
              "<table border=\"1\" class=\"dataframe\">\n",
              "  <thead>\n",
              "    <tr style=\"text-align: right;\">\n",
              "      <th><\/th>\n",
              "      <th>Permit Number<\/th>\n",
              "      <th>Permit Type<\/th>\n",
              "      <th>Permit Type Definition<\/th>\n",
              "      <th>Permit Creation Date<\/th>\n",
              "      <th>Block<\/th>\n",
              "      <th>Lot<\/th>\n",
              "      <th>Street Number<\/th>\n",
              "      <th>Street Number Suffix<\/th>\n",
              "      <th>Street Name<\/th>\n",
              "      <th>Street Suffix<\/th>\n",
              "      <th>...<\/th>\n",
              "      <th>Existing Construction Type<\/th>\n",
              "      <th>Existing Construction Type Description<\/th>\n",
              "      <th>Proposed Construction Type<\/th>\n",
              "      <th>Proposed Construction Type Description<\/th>\n",
              "      <th>Site Permit<\/th>\n",
              "      <th>Supervisor District<\/th>\n",
              "      <th>Neighborhoods - Analysis Boundaries<\/th>\n",
              "      <th>Zipcode<\/th>\n",
              "      <th>Location<\/th>\n",
              "      <th>Record ID<\/th>\n",
              "    <\/tr>\n",
              "  <\/thead>\n",
              "  <tbody>\n",
              "  <\/tbody>\n",
              "<\/table>\n",
              "<p>0 rows × 43 columns<\/p>\n",
              "<\/div>"
            ]
          },
          "metadata":{
            
          },
          "output_type":"display_data"
        }
      ],
      "metadata":{
        
      }
    },
    {
      "cell_type":"markdown",
      "source":[
        "## Drop missing values: columns\n",
        "Now try removing all the columns with empty values.\n",
        "* Create a new DataFrame called sf_permits_with_na_dropped that has all of the columns with empty values removed."
      ],
      "metadata":{
        
      }
    },
    {
      "cell_type":"code",
      "source":[
        "sf_permits_with_na_dropped= sf_permits.dropna(axis=1) # we are Droping all the Null Values by Colums wise "
      ],
      "execution_count":25,
      "outputs":[
        
      ],
      "metadata":{
        
      }
    },
    {
      "cell_type":"code",
      "source":[
        "sf_permits_with_na_dropped.shape"
      ],
      "execution_count":28,
      "outputs":[
        {
          "data":{
            "text\/plain":[
              "(198900, 12)"
            ]
          },
          "metadata":{
            
          },
          "output_type":"display_data"
        }
      ],
      "metadata":{
        
      }
    },
    {
      "cell_type":"markdown",
      "source":[
        "How many columns were removed from the original sf_permits DataFrame? Use this number to set the value of the dropped_columns variable below."
      ],
      "metadata":{
        
      }
    },
    {
      "cell_type":"code",
      "source":[
        "dropped_columns = sf_permits.shape[1]-sf_permits_with_na_dropped.shape[1]\n",
        "dropped_columns"
      ],
      "execution_count":29,
      "outputs":[
        {
          "data":{
            "text\/plain":[
              "31"
            ]
          },
          "metadata":{
            
          },
          "output_type":"display_data"
        }
      ],
      "metadata":{
        
      }
    },
    {
      "cell_type":"markdown",
      "source":[
        "###  Fill in missing values automatically\n",
        "\n",
        "+ Try replacing all the `NaN`'s in the sf_permits data with the one that comes directly after it and then replacing any remaining `NaN's` with 0.\n",
        "+ Set the result  to a new DataFrame sf_permits_with_na_imputed"
      ],
      "metadata":{
        
      }
    },
    {
      "cell_type":"code",
      "source":[
        "sf_permits_with_na_imputed =sf_permits.fillna(method ='bfill',axis=0).fillna(0)"
      ],
      "execution_count":30,
      "outputs":[
        
      ],
      "metadata":{
        
      }
    },
    {
      "cell_type":"code",
      "source":[
        "sf_permits_with_na_imputed.head()"
      ],
      "execution_count":31,
      "outputs":[
        {
          "data":{
            "text\/html":[
              "<div>\n",
              "<style scoped>\n",
              "    .dataframe tbody tr th:only-of-type {\n",
              "        vertical-align: middle;\n",
              "    }\n",
              "\n",
              "    .dataframe tbody tr th {\n",
              "        vertical-align: top;\n",
              "    }\n",
              "\n",
              "    .dataframe thead th {\n",
              "        text-align: right;\n",
              "    }\n",
              "<\/style>\n",
              "<table border=\"1\" class=\"dataframe\">\n",
              "  <thead>\n",
              "    <tr style=\"text-align: right;\">\n",
              "      <th><\/th>\n",
              "      <th>Permit Number<\/th>\n",
              "      <th>Permit Type<\/th>\n",
              "      <th>Permit Type Definition<\/th>\n",
              "      <th>Permit Creation Date<\/th>\n",
              "      <th>Block<\/th>\n",
              "      <th>Lot<\/th>\n",
              "      <th>Street Number<\/th>\n",
              "      <th>Street Number Suffix<\/th>\n",
              "      <th>Street Name<\/th>\n",
              "      <th>Street Suffix<\/th>\n",
              "      <th>...<\/th>\n",
              "      <th>Existing Construction Type<\/th>\n",
              "      <th>Existing Construction Type Description<\/th>\n",
              "      <th>Proposed Construction Type<\/th>\n",
              "      <th>Proposed Construction Type Description<\/th>\n",
              "      <th>Site Permit<\/th>\n",
              "      <th>Supervisor District<\/th>\n",
              "      <th>Neighborhoods - Analysis Boundaries<\/th>\n",
              "      <th>Zipcode<\/th>\n",
              "      <th>Location<\/th>\n",
              "      <th>Record ID<\/th>\n",
              "    <\/tr>\n",
              "  <\/thead>\n",
              "  <tbody>\n",
              "    <tr>\n",
              "      <th>0<\/th>\n",
              "      <td>201505065519<\/td>\n",
              "      <td>4<\/td>\n",
              "      <td>sign - erect<\/td>\n",
              "      <td>05\/06\/2015<\/td>\n",
              "      <td>0326<\/td>\n",
              "      <td>023<\/td>\n",
              "      <td>140<\/td>\n",
              "      <td>A<\/td>\n",
              "      <td>Ellis<\/td>\n",
              "      <td>St<\/td>\n",
              "      <td>...<\/td>\n",
              "      <td>3.0<\/td>\n",
              "      <td>constr type 3<\/td>\n",
              "      <td>1.0<\/td>\n",
              "      <td>constr type 1<\/td>\n",
              "      <td>Y<\/td>\n",
              "      <td>3.0<\/td>\n",
              "      <td>Tenderloin<\/td>\n",
              "      <td>94102.0<\/td>\n",
              "      <td>(37.785719256680785, -122.40852313194863)<\/td>\n",
              "      <td>1380611233945<\/td>\n",
              "    <\/tr>\n",
              "    <tr>\n",
              "      <th>1<\/th>\n",
              "      <td>201604195146<\/td>\n",
              "      <td>4<\/td>\n",
              "      <td>sign - erect<\/td>\n",
              "      <td>04\/19\/2016<\/td>\n",
              "      <td>0306<\/td>\n",
              "      <td>007<\/td>\n",
              "      <td>440<\/td>\n",
              "      <td>A<\/td>\n",
              "      <td>Geary<\/td>\n",
              "      <td>St<\/td>\n",
              "      <td>...<\/td>\n",
              "      <td>3.0<\/td>\n",
              "      <td>constr type 3<\/td>\n",
              "      <td>1.0<\/td>\n",
              "      <td>constr type 1<\/td>\n",
              "      <td>Y<\/td>\n",
              "      <td>3.0<\/td>\n",
              "      <td>Tenderloin<\/td>\n",
              "      <td>94102.0<\/td>\n",
              "      <td>(37.78733980600732, -122.41063199757738)<\/td>\n",
              "      <td>1420164406718<\/td>\n",
              "    <\/tr>\n",
              "    <tr>\n",
              "      <th>2<\/th>\n",
              "      <td>201605278609<\/td>\n",
              "      <td>3<\/td>\n",
              "      <td>additions alterations or repairs<\/td>\n",
              "      <td>05\/27\/2016<\/td>\n",
              "      <td>0595<\/td>\n",
              "      <td>203<\/td>\n",
              "      <td>1647<\/td>\n",
              "      <td>A<\/td>\n",
              "      <td>Pacific<\/td>\n",
              "      <td>Av<\/td>\n",
              "      <td>...<\/td>\n",
              "      <td>1.0<\/td>\n",
              "      <td>constr type 1<\/td>\n",
              "      <td>1.0<\/td>\n",
              "      <td>constr type 1<\/td>\n",
              "      <td>Y<\/td>\n",
              "      <td>3.0<\/td>\n",
              "      <td>Russian Hill<\/td>\n",
              "      <td>94109.0<\/td>\n",
              "      <td>(37.7946573324287, -122.42232562979227)<\/td>\n",
              "      <td>1424856504716<\/td>\n",
              "    <\/tr>\n",
              "    <tr>\n",
              "      <th>3<\/th>\n",
              "      <td>201611072166<\/td>\n",
              "      <td>8<\/td>\n",
              "      <td>otc alterations permit<\/td>\n",
              "      <td>11\/07\/2016<\/td>\n",
              "      <td>0156<\/td>\n",
              "      <td>011<\/td>\n",
              "      <td>1230<\/td>\n",
              "      <td>A<\/td>\n",
              "      <td>Pacific<\/td>\n",
              "      <td>Av<\/td>\n",
              "      <td>...<\/td>\n",
              "      <td>5.0<\/td>\n",
              "      <td>wood frame (5)<\/td>\n",
              "      <td>5.0<\/td>\n",
              "      <td>wood frame (5)<\/td>\n",
              "      <td>Y<\/td>\n",
              "      <td>3.0<\/td>\n",
              "      <td>Nob Hill<\/td>\n",
              "      <td>94109.0<\/td>\n",
              "      <td>(37.79595867909168, -122.41557405519474)<\/td>\n",
              "      <td>1443574295566<\/td>\n",
              "    <\/tr>\n",
              "    <tr>\n",
              "      <th>4<\/th>\n",
              "      <td>201611283529<\/td>\n",
              "      <td>6<\/td>\n",
              "      <td>demolitions<\/td>\n",
              "      <td>11\/28\/2016<\/td>\n",
              "      <td>0342<\/td>\n",
              "      <td>001<\/td>\n",
              "      <td>950<\/td>\n",
              "      <td>A<\/td>\n",
              "      <td>Market<\/td>\n",
              "      <td>St<\/td>\n",
              "      <td>...<\/td>\n",
              "      <td>3.0<\/td>\n",
              "      <td>constr type 3<\/td>\n",
              "      <td>1.0<\/td>\n",
              "      <td>constr type 1<\/td>\n",
              "      <td>Y<\/td>\n",
              "      <td>6.0<\/td>\n",
              "      <td>Tenderloin<\/td>\n",
              "      <td>94102.0<\/td>\n",
              "      <td>(37.78315261897309, -122.40950883997789)<\/td>\n",
              "      <td>144548169992<\/td>\n",
              "    <\/tr>\n",
              "  <\/tbody>\n",
              "<\/table>\n",
              "<p>5 rows × 43 columns<\/p>\n",
              "<\/div>"
            ]
          },
          "metadata":{
            
          },
          "output_type":"display_data"
        }
      ],
      "metadata":{
        
      }
    },
    {
      "cell_type":"code",
      "source":[
        "sf_permits_with_na_imputed.tail()"
      ],
      "execution_count":33,
      "outputs":[
        {
          "data":{
            "text\/html":[
              "<div>\n",
              "<style scoped>\n",
              "    .dataframe tbody tr th:only-of-type {\n",
              "        vertical-align: middle;\n",
              "    }\n",
              "\n",
              "    .dataframe tbody tr th {\n",
              "        vertical-align: top;\n",
              "    }\n",
              "\n",
              "    .dataframe thead th {\n",
              "        text-align: right;\n",
              "    }\n",
              "<\/style>\n",
              "<table border=\"1\" class=\"dataframe\">\n",
              "  <thead>\n",
              "    <tr style=\"text-align: right;\">\n",
              "      <th><\/th>\n",
              "      <th>Permit Number<\/th>\n",
              "      <th>Permit Type<\/th>\n",
              "      <th>Permit Type Definition<\/th>\n",
              "      <th>Permit Creation Date<\/th>\n",
              "      <th>Block<\/th>\n",
              "      <th>Lot<\/th>\n",
              "      <th>Street Number<\/th>\n",
              "      <th>Street Number Suffix<\/th>\n",
              "      <th>Street Name<\/th>\n",
              "      <th>Street Suffix<\/th>\n",
              "      <th>...<\/th>\n",
              "      <th>Existing Construction Type<\/th>\n",
              "      <th>Existing Construction Type Description<\/th>\n",
              "      <th>Proposed Construction Type<\/th>\n",
              "      <th>Proposed Construction Type Description<\/th>\n",
              "      <th>Site Permit<\/th>\n",
              "      <th>Supervisor District<\/th>\n",
              "      <th>Neighborhoods - Analysis Boundaries<\/th>\n",
              "      <th>Zipcode<\/th>\n",
              "      <th>Location<\/th>\n",
              "      <th>Record ID<\/th>\n",
              "    <\/tr>\n",
              "  <\/thead>\n",
              "  <tbody>\n",
              "    <tr>\n",
              "      <th>198895<\/th>\n",
              "      <td>M862628<\/td>\n",
              "      <td>8<\/td>\n",
              "      <td>otc alterations permit<\/td>\n",
              "      <td>12\/05\/2017<\/td>\n",
              "      <td>0113<\/td>\n",
              "      <td>017A<\/td>\n",
              "      <td>1228<\/td>\n",
              "      <td>0<\/td>\n",
              "      <td>Montgomery<\/td>\n",
              "      <td>St<\/td>\n",
              "      <td>...<\/td>\n",
              "      <td>5.0<\/td>\n",
              "      <td>wood frame (5)<\/td>\n",
              "      <td>5.0<\/td>\n",
              "      <td>wood frame (5)<\/td>\n",
              "      <td>0<\/td>\n",
              "      <td>0.0<\/td>\n",
              "      <td>0<\/td>\n",
              "      <td>0.0<\/td>\n",
              "      <td>0<\/td>\n",
              "      <td>1489337276729<\/td>\n",
              "    <\/tr>\n",
              "    <tr>\n",
              "      <th>198896<\/th>\n",
              "      <td>201712055595<\/td>\n",
              "      <td>8<\/td>\n",
              "      <td>otc alterations permit<\/td>\n",
              "      <td>12\/05\/2017<\/td>\n",
              "      <td>0271<\/td>\n",
              "      <td>014<\/td>\n",
              "      <td>580<\/td>\n",
              "      <td>0<\/td>\n",
              "      <td>Bush<\/td>\n",
              "      <td>St<\/td>\n",
              "      <td>...<\/td>\n",
              "      <td>5.0<\/td>\n",
              "      <td>wood frame (5)<\/td>\n",
              "      <td>5.0<\/td>\n",
              "      <td>wood frame (5)<\/td>\n",
              "      <td>0<\/td>\n",
              "      <td>0.0<\/td>\n",
              "      <td>0<\/td>\n",
              "      <td>0.0<\/td>\n",
              "      <td>0<\/td>\n",
              "      <td>1489462354993<\/td>\n",
              "    <\/tr>\n",
              "    <tr>\n",
              "      <th>198897<\/th>\n",
              "      <td>M863507<\/td>\n",
              "      <td>8<\/td>\n",
              "      <td>otc alterations permit<\/td>\n",
              "      <td>12\/06\/2017<\/td>\n",
              "      <td>4318<\/td>\n",
              "      <td>019<\/td>\n",
              "      <td>1568<\/td>\n",
              "      <td>0<\/td>\n",
              "      <td>Indiana<\/td>\n",
              "      <td>St<\/td>\n",
              "      <td>...<\/td>\n",
              "      <td>0.0<\/td>\n",
              "      <td>0<\/td>\n",
              "      <td>0.0<\/td>\n",
              "      <td>0<\/td>\n",
              "      <td>0<\/td>\n",
              "      <td>0.0<\/td>\n",
              "      <td>0<\/td>\n",
              "      <td>0.0<\/td>\n",
              "      <td>0<\/td>\n",
              "      <td>1489539379952<\/td>\n",
              "    <\/tr>\n",
              "    <tr>\n",
              "      <th>198898<\/th>\n",
              "      <td>M863747<\/td>\n",
              "      <td>8<\/td>\n",
              "      <td>otc alterations permit<\/td>\n",
              "      <td>12\/06\/2017<\/td>\n",
              "      <td>0298<\/td>\n",
              "      <td>029<\/td>\n",
              "      <td>795<\/td>\n",
              "      <td>0<\/td>\n",
              "      <td>Sutter<\/td>\n",
              "      <td>St<\/td>\n",
              "      <td>...<\/td>\n",
              "      <td>0.0<\/td>\n",
              "      <td>0<\/td>\n",
              "      <td>0.0<\/td>\n",
              "      <td>0<\/td>\n",
              "      <td>0<\/td>\n",
              "      <td>0.0<\/td>\n",
              "      <td>0<\/td>\n",
              "      <td>0.0<\/td>\n",
              "      <td>0<\/td>\n",
              "      <td>1489608233656<\/td>\n",
              "    <\/tr>\n",
              "    <tr>\n",
              "      <th>198899<\/th>\n",
              "      <td>M864287<\/td>\n",
              "      <td>8<\/td>\n",
              "      <td>otc alterations permit<\/td>\n",
              "      <td>12\/07\/2017<\/td>\n",
              "      <td>0160<\/td>\n",
              "      <td>006<\/td>\n",
              "      <td>838<\/td>\n",
              "      <td>0<\/td>\n",
              "      <td>Pacific<\/td>\n",
              "      <td>Av<\/td>\n",
              "      <td>...<\/td>\n",
              "      <td>0.0<\/td>\n",
              "      <td>0<\/td>\n",
              "      <td>0.0<\/td>\n",
              "      <td>0<\/td>\n",
              "      <td>0<\/td>\n",
              "      <td>0.0<\/td>\n",
              "      <td>0<\/td>\n",
              "      <td>0.0<\/td>\n",
              "      <td>0<\/td>\n",
              "      <td>1489796283803<\/td>\n",
              "    <\/tr>\n",
              "  <\/tbody>\n",
              "<\/table>\n",
              "<p>5 rows × 43 columns<\/p>\n",
              "<\/div>"
            ]
          },
          "metadata":{
            
          },
          "output_type":"display_data"
        }
      ],
      "metadata":{
        
      }
    },
    {
      "cell_type":"code",
      "source":[
        "sf_permits_with_na_imputed.isna().sum()"
      ],
      "execution_count":32,
      "outputs":[
        {
          "data":{
            "text\/plain":[
              "Permit Number                             0\n",
              "Permit Type                               0\n",
              "Permit Type Definition                    0\n",
              "Permit Creation Date                      0\n",
              "Block                                     0\n",
              "Lot                                       0\n",
              "Street Number                             0\n",
              "Street Number Suffix                      0\n",
              "Street Name                               0\n",
              "Street Suffix                             0\n",
              "Unit                                      0\n",
              "Unit Suffix                               0\n",
              "Description                               0\n",
              "Current Status                            0\n",
              "Current Status Date                       0\n",
              "Filed Date                                0\n",
              "Issued Date                               0\n",
              "Completed Date                            0\n",
              "First Construction Document Date          0\n",
              "Structural Notification                   0\n",
              "Number of Existing Stories                0\n",
              "Number of Proposed Stories                0\n",
              "Voluntary Soft-Story Retrofit             0\n",
              "Fire Only Permit                          0\n",
              "Permit Expiration Date                    0\n",
              "Estimated Cost                            0\n",
              "Revised Cost                              0\n",
              "Existing Use                              0\n",
              "Existing Units                            0\n",
              "Proposed Use                              0\n",
              "Proposed Units                            0\n",
              "Plansets                                  0\n",
              "TIDF Compliance                           0\n",
              "Existing Construction Type                0\n",
              "Existing Construction Type Description    0\n",
              "Proposed Construction Type                0\n",
              "Proposed Construction Type Description    0\n",
              "Site Permit                               0\n",
              "Supervisor District                       0\n",
              "Neighborhoods - Analysis Boundaries       0\n",
              "Zipcode                                   0\n",
              "Location                                  0\n",
              "Record ID                                 0\n",
              "dtype: int64"
            ]
          },
          "metadata":{
            
          },
          "output_type":"display_data"
        }
      ],
      "metadata":{
        
      }
    },
    {
      "cell_type":"code",
      "source":[
        "sf_permits_with_na_imputed.to_csv(\"Final_Building_Permits.csv\")"
      ],
      "execution_count":34,
      "outputs":[
        
      ],
      "metadata":{
        
      }
    },
    {
      "cell_type":"code",
      "source":[
        
      ],
      "execution_count":null,
      "outputs":[
        
      ],
      "metadata":{
        
      }
    }
  ],
  "metadata":{
    
  },
  "nbformat":4,
  "nbformat_minor":0
}