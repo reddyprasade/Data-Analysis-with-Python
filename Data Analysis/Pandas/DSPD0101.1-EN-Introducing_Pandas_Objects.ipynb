{
  "nbformat": 4,
  "nbformat_minor": 0,
  "metadata": {
    "anaconda-cloud": {},
    "kernelspec": {
      "display_name": "Python 3",
      "language": "python",
      "name": "python3"
    },
    "language_info": {
      "codemirror_mode": {
        "name": "ipython",
        "version": 3
      },
      "file_extension": ".py",
      "mimetype": "text/x-python",
      "name": "python",
      "nbconvert_exporter": "python",
      "pygments_lexer": "ipython3",
      "version": "3.5.1"
    },
    "colab": {
      "name": "03.01-Introducing-Pandas-Objects.ipynb",
      "provenance": []
    }
  },
  "cells": [
    {
      "cell_type": "markdown",
      "metadata": {
        "id": "_U1WHZ0Uw84F"
      },
      "source": [
        "# Introducing Pandas Objects"
      ]
    },
    {
      "cell_type": "markdown",
      "metadata": {
        "id": "pGpO2F_aw84F"
      },
      "source": [
        "At the very basic level, Pandas objects can be thought of as enhanced versions of NumPy structured arrays in which the rows and columns are identified with labels rather than simple integer indices.\n",
        "As we will see during the course of this chapter, Pandas provides a host of useful tools, methods, and functionality on top of the basic data structures, but nearly everything that follows will require an understanding of what these structures are.\n",
        "Thus, before we go any further, let's introduce these three fundamental Pandas data structures: the ``Series``, ``DataFrame``, and ``Index``.\n",
        "\n",
        "We will start our code sessions with the standard NumPy and Pandas imports:"
      ]
    },
    {
      "cell_type": "code",
      "metadata": {
        "collapsed": true,
        "id": "gnYa0fWzw84G"
      },
      "source": [
        "import numpy as np\n",
        "import pandas as pd"
      ],
      "execution_count": null,
      "outputs": []
    },
    {
      "cell_type": "markdown",
      "metadata": {
        "id": "qHiwz19Tw84G"
      },
      "source": [
        "## The Pandas Series Object\n",
        "\n",
        "A Pandas ``Series`` is a one-dimensional array of indexed data.\n",
        "It can be created from a list or array as follows:"
      ]
    },
    {
      "cell_type": "code",
      "metadata": {
        "id": "PP--KECcw84H",
        "outputId": "66d5fce0-1f98-4d8e-c5ca-2aeb6e54c4c4"
      },
      "source": [
        "data = pd.Series([0.25, 0.5, 0.75, 1.0])\n",
        "data"
      ],
      "execution_count": null,
      "outputs": [
        {
          "output_type": "execute_result",
          "data": {
            "text/plain": [
              "0    0.25\n",
              "1    0.50\n",
              "2    0.75\n",
              "3    1.00\n",
              "dtype: float64"
            ]
          },
          "metadata": {
            "tags": []
          },
          "execution_count": 2
        }
      ]
    },
    {
      "cell_type": "markdown",
      "metadata": {
        "id": "GGj4afrPw84I"
      },
      "source": [
        "As we see in the output, the ``Series`` wraps both a sequence of values and a sequence of indices, which we can access with the ``values`` and ``index`` attributes.\n",
        "The ``values`` are simply a familiar NumPy array:"
      ]
    },
    {
      "cell_type": "code",
      "metadata": {
        "id": "ZmWhbFytw84J",
        "outputId": "e3831a6e-c6fd-47f7-87f8-8e1ffc27e429"
      },
      "source": [
        "data.values"
      ],
      "execution_count": null,
      "outputs": [
        {
          "output_type": "execute_result",
          "data": {
            "text/plain": [
              "array([ 0.25,  0.5 ,  0.75,  1.  ])"
            ]
          },
          "metadata": {
            "tags": []
          },
          "execution_count": 3
        }
      ]
    },
    {
      "cell_type": "markdown",
      "metadata": {
        "id": "F8TVg8XLw84J"
      },
      "source": [
        "The ``index`` is an array-like object of type ``pd.Index``, which we'll discuss in more detail momentarily."
      ]
    },
    {
      "cell_type": "code",
      "metadata": {
        "id": "oOfKHHQBw84K",
        "outputId": "6f5af153-9bbb-4597-95b7-5dbc7d616b29"
      },
      "source": [
        "data.index"
      ],
      "execution_count": null,
      "outputs": [
        {
          "output_type": "execute_result",
          "data": {
            "text/plain": [
              "RangeIndex(start=0, stop=4, step=1)"
            ]
          },
          "metadata": {
            "tags": []
          },
          "execution_count": 4
        }
      ]
    },
    {
      "cell_type": "markdown",
      "metadata": {
        "id": "xKkMCuacw84K"
      },
      "source": [
        "Like with a NumPy array, data can be accessed by the associated index via the familiar Python square-bracket notation:"
      ]
    },
    {
      "cell_type": "code",
      "metadata": {
        "id": "W3BhYbN2w84K",
        "outputId": "7b9d2660-1ca2-49ee-ddb6-db6342f45e4e"
      },
      "source": [
        "data[1]"
      ],
      "execution_count": null,
      "outputs": [
        {
          "output_type": "execute_result",
          "data": {
            "text/plain": [
              "0.5"
            ]
          },
          "metadata": {
            "tags": []
          },
          "execution_count": 5
        }
      ]
    },
    {
      "cell_type": "code",
      "metadata": {
        "id": "YvVQO3iWw84L",
        "outputId": "ba55c6c7-91d0-40de-b40e-11b242f12667"
      },
      "source": [
        "data[1:3]"
      ],
      "execution_count": null,
      "outputs": [
        {
          "output_type": "execute_result",
          "data": {
            "text/plain": [
              "1    0.50\n",
              "2    0.75\n",
              "dtype: float64"
            ]
          },
          "metadata": {
            "tags": []
          },
          "execution_count": 6
        }
      ]
    },
    {
      "cell_type": "markdown",
      "metadata": {
        "id": "eoCUColOw84L"
      },
      "source": [
        "As we will see, though, the Pandas ``Series`` is much more general and flexible than the one-dimensional NumPy array that it emulates."
      ]
    },
    {
      "cell_type": "markdown",
      "metadata": {
        "id": "9MyX4Iqvw84L"
      },
      "source": [
        "### ``Series`` as generalized NumPy array"
      ]
    },
    {
      "cell_type": "markdown",
      "metadata": {
        "id": "BI1iTPnZw84M"
      },
      "source": [
        "From what we've seen so far, it may look like the ``Series`` object is basically interchangeable with a one-dimensional NumPy array.\n",
        "The essential difference is the presence of the index: while the Numpy Array has an *implicitly defined* integer index used to access the values, the Pandas ``Series`` has an *explicitly defined* index associated with the values.\n",
        "\n",
        "This explicit index definition gives the ``Series`` object additional capabilities. For example, the index need not be an integer, but can consist of values of any desired type.\n",
        "For example, if we wish, we can use strings as an index:"
      ]
    },
    {
      "cell_type": "code",
      "metadata": {
        "id": "F6xrJ4uMw84M",
        "outputId": "a4607c16-933f-4496-d089-60fcbb037dc1"
      },
      "source": [
        "data = pd.Series([0.25, 0.5, 0.75, 1.0],\n",
        "                 index=['a', 'b', 'c', 'd'])\n",
        "data"
      ],
      "execution_count": null,
      "outputs": [
        {
          "output_type": "execute_result",
          "data": {
            "text/plain": [
              "a    0.25\n",
              "b    0.50\n",
              "c    0.75\n",
              "d    1.00\n",
              "dtype: float64"
            ]
          },
          "metadata": {
            "tags": []
          },
          "execution_count": 7
        }
      ]
    },
    {
      "cell_type": "markdown",
      "metadata": {
        "id": "FQEGArryw84M"
      },
      "source": [
        "And the item access works as expected:"
      ]
    },
    {
      "cell_type": "code",
      "metadata": {
        "id": "M5Qf4noUw84N",
        "outputId": "e602d1ae-8f27-4dd2-a1fd-ed181b6d007c"
      },
      "source": [
        "data['b']"
      ],
      "execution_count": null,
      "outputs": [
        {
          "output_type": "execute_result",
          "data": {
            "text/plain": [
              "0.5"
            ]
          },
          "metadata": {
            "tags": []
          },
          "execution_count": 8
        }
      ]
    },
    {
      "cell_type": "markdown",
      "metadata": {
        "id": "4NwK3evIw84N"
      },
      "source": [
        "We can even use non-contiguous or non-sequential indices:"
      ]
    },
    {
      "cell_type": "code",
      "metadata": {
        "id": "mtgTp5n3w84N",
        "outputId": "9e4ec524-c90c-4a7d-bf98-a07b8c39339c"
      },
      "source": [
        "data = pd.Series([0.25, 0.5, 0.75, 1.0],\n",
        "                 index=[2, 5, 3, 7])\n",
        "data"
      ],
      "execution_count": null,
      "outputs": [
        {
          "output_type": "execute_result",
          "data": {
            "text/plain": [
              "2    0.25\n",
              "5    0.50\n",
              "3    0.75\n",
              "7    1.00\n",
              "dtype: float64"
            ]
          },
          "metadata": {
            "tags": []
          },
          "execution_count": 9
        }
      ]
    },
    {
      "cell_type": "code",
      "metadata": {
        "id": "epdkD51pw84O",
        "outputId": "baca73c8-daf4-475a-e136-dd0e2fe8e028"
      },
      "source": [
        "data[5]"
      ],
      "execution_count": null,
      "outputs": [
        {
          "output_type": "execute_result",
          "data": {
            "text/plain": [
              "0.5"
            ]
          },
          "metadata": {
            "tags": []
          },
          "execution_count": 10
        }
      ]
    },
    {
      "cell_type": "markdown",
      "metadata": {
        "id": "Kb29y4Rnw84O"
      },
      "source": [
        "### Series as specialized dictionary\n",
        "\n",
        "In this way, you can think of a Pandas ``Series`` a bit like a specialization of a Python dictionary.\n",
        "A dictionary is a structure that maps arbitrary keys to a set of arbitrary values, and a ``Series`` is a structure which maps typed keys to a set of typed values.\n",
        "This typing is important: just as the type-specific compiled code behind a NumPy array makes it more efficient than a Python list for certain operations, the type information of a Pandas ``Series`` makes it much more efficient than Python dictionaries for certain operations.\n",
        "\n",
        "The ``Series``-as-dictionary analogy can be made even more clear by constructing a ``Series`` object directly from a Python dictionary:"
      ]
    },
    {
      "cell_type": "code",
      "metadata": {
        "id": "ZFmMbuxZw84P",
        "outputId": "d66185f9-0d02-434c-8ca4-b15710b34fa8"
      },
      "source": [
        "population_dict = {'California': 38332521,\n",
        "                   'Texas': 26448193,\n",
        "                   'New York': 19651127,\n",
        "                   'Florida': 19552860,\n",
        "                   'Illinois': 12882135}\n",
        "population = pd.Series(population_dict)\n",
        "population"
      ],
      "execution_count": null,
      "outputs": [
        {
          "output_type": "execute_result",
          "data": {
            "text/plain": [
              "California    38332521\n",
              "Florida       19552860\n",
              "Illinois      12882135\n",
              "New York      19651127\n",
              "Texas         26448193\n",
              "dtype: int64"
            ]
          },
          "metadata": {
            "tags": []
          },
          "execution_count": 11
        }
      ]
    },
    {
      "cell_type": "markdown",
      "metadata": {
        "id": "QMaul7v4w84P"
      },
      "source": [
        "By default, a ``Series`` will be created where the index is drawn from the sorted keys.\n",
        "From here, typical dictionary-style item access can be performed:"
      ]
    },
    {
      "cell_type": "code",
      "metadata": {
        "id": "sDSkbZRAw84P",
        "outputId": "83446db8-3015-49ec-f91e-914e44d9b0da"
      },
      "source": [
        "population['California']"
      ],
      "execution_count": null,
      "outputs": [
        {
          "output_type": "execute_result",
          "data": {
            "text/plain": [
              "38332521"
            ]
          },
          "metadata": {
            "tags": []
          },
          "execution_count": 12
        }
      ]
    },
    {
      "cell_type": "markdown",
      "metadata": {
        "id": "VHVKiqQTw84Q"
      },
      "source": [
        "Unlike a dictionary, though, the ``Series`` also supports array-style operations such as slicing:"
      ]
    },
    {
      "cell_type": "code",
      "metadata": {
        "id": "dImkguvpw84Q",
        "outputId": "6d7731bd-d412-48a8-9482-3456cfc65819"
      },
      "source": [
        "population['California':'Illinois']"
      ],
      "execution_count": null,
      "outputs": [
        {
          "output_type": "execute_result",
          "data": {
            "text/plain": [
              "California    38332521\n",
              "Florida       19552860\n",
              "Illinois      12882135\n",
              "dtype: int64"
            ]
          },
          "metadata": {
            "tags": []
          },
          "execution_count": 13
        }
      ]
    },
    {
      "cell_type": "markdown",
      "metadata": {
        "id": "9k9Ee1rhw84Q"
      },
      "source": [
        "We'll discuss some of the quirks of Pandas indexing and slicing in [Data Indexing and Selection](03.02-Data-Indexing-and-Selection.ipynb)."
      ]
    },
    {
      "cell_type": "markdown",
      "metadata": {
        "id": "06k6o_Luw84R"
      },
      "source": [
        "### Constructing Series objects\n",
        "\n",
        "We've already seen a few ways of constructing a Pandas ``Series`` from scratch; all of them are some version of the following:\n",
        "\n",
        "```python\n",
        ">>> pd.Series(data, index=index)\n",
        "```\n",
        "\n",
        "where ``index`` is an optional argument, and ``data`` can be one of many entities.\n",
        "\n",
        "For example, ``data`` can be a list or NumPy array, in which case ``index`` defaults to an integer sequence:"
      ]
    },
    {
      "cell_type": "code",
      "metadata": {
        "id": "6icvvRP3w84R",
        "outputId": "a164b893-b86d-4d72-c8ce-d1058a9455f1"
      },
      "source": [
        "pd.Series([2, 4, 6])"
      ],
      "execution_count": null,
      "outputs": [
        {
          "output_type": "execute_result",
          "data": {
            "text/plain": [
              "0    2\n",
              "1    4\n",
              "2    6\n",
              "dtype: int64"
            ]
          },
          "metadata": {
            "tags": []
          },
          "execution_count": 14
        }
      ]
    },
    {
      "cell_type": "markdown",
      "metadata": {
        "id": "yzFgl5kDw84R"
      },
      "source": [
        "``data`` can be a scalar, which is repeated to fill the specified index:"
      ]
    },
    {
      "cell_type": "code",
      "metadata": {
        "id": "SVug0WGjw84R",
        "outputId": "c958e887-e16e-4c3f-b88d-4f8d050840a9"
      },
      "source": [
        "pd.Series(5, index=[100, 200, 300])"
      ],
      "execution_count": null,
      "outputs": [
        {
          "output_type": "execute_result",
          "data": {
            "text/plain": [
              "100    5\n",
              "200    5\n",
              "300    5\n",
              "dtype: int64"
            ]
          },
          "metadata": {
            "tags": []
          },
          "execution_count": 15
        }
      ]
    },
    {
      "cell_type": "markdown",
      "metadata": {
        "id": "H3KiZhS6w84S"
      },
      "source": [
        "``data`` can be a dictionary, in which ``index`` defaults to the sorted dictionary keys:"
      ]
    },
    {
      "cell_type": "code",
      "metadata": {
        "id": "B13p2B1Cw84S",
        "outputId": "907981ef-504d-41a7-9731-48be77a59abd"
      },
      "source": [
        "pd.Series({2:'a', 1:'b', 3:'c'})"
      ],
      "execution_count": null,
      "outputs": [
        {
          "output_type": "execute_result",
          "data": {
            "text/plain": [
              "1    b\n",
              "2    a\n",
              "3    c\n",
              "dtype: object"
            ]
          },
          "metadata": {
            "tags": []
          },
          "execution_count": 16
        }
      ]
    },
    {
      "cell_type": "markdown",
      "metadata": {
        "id": "Gt14L6v6w84S"
      },
      "source": [
        "In each case, the index can be explicitly set if a different result is preferred:"
      ]
    },
    {
      "cell_type": "code",
      "metadata": {
        "id": "HczN-k28w84S",
        "outputId": "1ae7cde7-808a-42a4-e986-8623b8d6dfaa"
      },
      "source": [
        "pd.Series({2:'a', 1:'b', 3:'c'}, index=[3, 2])"
      ],
      "execution_count": null,
      "outputs": [
        {
          "output_type": "execute_result",
          "data": {
            "text/plain": [
              "3    c\n",
              "2    a\n",
              "dtype: object"
            ]
          },
          "metadata": {
            "tags": []
          },
          "execution_count": 17
        }
      ]
    },
    {
      "cell_type": "markdown",
      "metadata": {
        "id": "dIH0F0N_w84T"
      },
      "source": [
        "Notice that in this case, the ``Series`` is populated only with the explicitly identified keys."
      ]
    },
    {
      "cell_type": "markdown",
      "metadata": {
        "id": "XyTamDMQw84T"
      },
      "source": [
        "## The Pandas DataFrame Object\n",
        "\n",
        "The next fundamental structure in Pandas is the ``DataFrame``.\n",
        "Like the ``Series`` object discussed in the previous section, the ``DataFrame`` can be thought of either as a generalization of a NumPy array, or as a specialization of a Python dictionary.\n",
        "We'll now take a look at each of these perspectives."
      ]
    },
    {
      "cell_type": "markdown",
      "metadata": {
        "id": "vzRfwcmIw84T"
      },
      "source": [
        "### DataFrame as a generalized NumPy array\n",
        "If a ``Series`` is an analog of a one-dimensional array with flexible indices, a ``DataFrame`` is an analog of a two-dimensional array with both flexible row indices and flexible column names.\n",
        "Just as you might think of a two-dimensional array as an ordered sequence of aligned one-dimensional columns, you can think of a ``DataFrame`` as a sequence of aligned ``Series`` objects.\n",
        "Here, by \"aligned\" we mean that they share the same index.\n",
        "\n",
        "To demonstrate this, let's first construct a new ``Series`` listing the area of each of the five states discussed in the previous section:"
      ]
    },
    {
      "cell_type": "code",
      "metadata": {
        "id": "QM0IeDwHw84U",
        "outputId": "591a9626-f8be-44cc-ab28-8ccd5995c803"
      },
      "source": [
        "area_dict = {'California': 423967, 'Texas': 695662, 'New York': 141297,\n",
        "             'Florida': 170312, 'Illinois': 149995}\n",
        "area = pd.Series(area_dict)\n",
        "area"
      ],
      "execution_count": null,
      "outputs": [
        {
          "output_type": "execute_result",
          "data": {
            "text/plain": [
              "California    423967\n",
              "Florida       170312\n",
              "Illinois      149995\n",
              "New York      141297\n",
              "Texas         695662\n",
              "dtype: int64"
            ]
          },
          "metadata": {
            "tags": []
          },
          "execution_count": 18
        }
      ]
    },
    {
      "cell_type": "markdown",
      "metadata": {
        "id": "UlGYr8Ajw84U"
      },
      "source": [
        "Now that we have this along with the ``population`` Series from before, we can use a dictionary to construct a single two-dimensional object containing this information:"
      ]
    },
    {
      "cell_type": "code",
      "metadata": {
        "id": "y4w9LvDKw84V",
        "outputId": "50e64cca-44cc-47e5-d471-9925b868df4d"
      },
      "source": [
        "states = pd.DataFrame({'population': population,\n",
        "                       'area': area})\n",
        "states"
      ],
      "execution_count": null,
      "outputs": [
        {
          "output_type": "execute_result",
          "data": {
            "text/html": [
              "<div>\n",
              "<table border=\"1\" class=\"dataframe\">\n",
              "  <thead>\n",
              "    <tr style=\"text-align: right;\">\n",
              "      <th></th>\n",
              "      <th>area</th>\n",
              "      <th>population</th>\n",
              "    </tr>\n",
              "  </thead>\n",
              "  <tbody>\n",
              "    <tr>\n",
              "      <th>California</th>\n",
              "      <td>423967</td>\n",
              "      <td>38332521</td>\n",
              "    </tr>\n",
              "    <tr>\n",
              "      <th>Florida</th>\n",
              "      <td>170312</td>\n",
              "      <td>19552860</td>\n",
              "    </tr>\n",
              "    <tr>\n",
              "      <th>Illinois</th>\n",
              "      <td>149995</td>\n",
              "      <td>12882135</td>\n",
              "    </tr>\n",
              "    <tr>\n",
              "      <th>New York</th>\n",
              "      <td>141297</td>\n",
              "      <td>19651127</td>\n",
              "    </tr>\n",
              "    <tr>\n",
              "      <th>Texas</th>\n",
              "      <td>695662</td>\n",
              "      <td>26448193</td>\n",
              "    </tr>\n",
              "  </tbody>\n",
              "</table>\n",
              "</div>"
            ],
            "text/plain": [
              "              area  population\n",
              "California  423967    38332521\n",
              "Florida     170312    19552860\n",
              "Illinois    149995    12882135\n",
              "New York    141297    19651127\n",
              "Texas       695662    26448193"
            ]
          },
          "metadata": {
            "tags": []
          },
          "execution_count": 19
        }
      ]
    },
    {
      "cell_type": "markdown",
      "metadata": {
        "id": "7gsZblBxw84V"
      },
      "source": [
        "Like the ``Series`` object, the ``DataFrame`` has an ``index`` attribute that gives access to the index labels:"
      ]
    },
    {
      "cell_type": "code",
      "metadata": {
        "id": "gDJyWlBUw84V",
        "outputId": "a9f134e1-0699-4a11-b0a0-9a9f6169c159"
      },
      "source": [
        "states.index"
      ],
      "execution_count": null,
      "outputs": [
        {
          "output_type": "execute_result",
          "data": {
            "text/plain": [
              "Index(['California', 'Florida', 'Illinois', 'New York', 'Texas'], dtype='object')"
            ]
          },
          "metadata": {
            "tags": []
          },
          "execution_count": 20
        }
      ]
    },
    {
      "cell_type": "markdown",
      "metadata": {
        "id": "T2WOBAtHw84V"
      },
      "source": [
        "Additionally, the ``DataFrame`` has a ``columns`` attribute, which is an ``Index`` object holding the column labels:"
      ]
    },
    {
      "cell_type": "code",
      "metadata": {
        "id": "sYaWwS_mw84W",
        "outputId": "b419cf13-cab6-4c03-83c1-0f1c12492578"
      },
      "source": [
        "states.columns"
      ],
      "execution_count": null,
      "outputs": [
        {
          "output_type": "execute_result",
          "data": {
            "text/plain": [
              "Index(['area', 'population'], dtype='object')"
            ]
          },
          "metadata": {
            "tags": []
          },
          "execution_count": 21
        }
      ]
    },
    {
      "cell_type": "markdown",
      "metadata": {
        "id": "7pnSy3yow84W"
      },
      "source": [
        "Thus the ``DataFrame`` can be thought of as a generalization of a two-dimensional NumPy array, where both the rows and columns have a generalized index for accessing the data."
      ]
    },
    {
      "cell_type": "markdown",
      "metadata": {
        "id": "wpxzZmPrw84W"
      },
      "source": [
        "### DataFrame as specialized dictionary\n",
        "\n",
        "Similarly, we can also think of a ``DataFrame`` as a specialization of a dictionary.\n",
        "Where a dictionary maps a key to a value, a ``DataFrame`` maps a column name to a ``Series`` of column data.\n",
        "For example, asking for the ``'area'`` attribute returns the ``Series`` object containing the areas we saw earlier:"
      ]
    },
    {
      "cell_type": "code",
      "metadata": {
        "id": "3GtTnyYBw84X",
        "outputId": "97beb664-da45-43b5-da11-eb129bd5fcb1"
      },
      "source": [
        "states['area']"
      ],
      "execution_count": null,
      "outputs": [
        {
          "output_type": "execute_result",
          "data": {
            "text/plain": [
              "California    423967\n",
              "Florida       170312\n",
              "Illinois      149995\n",
              "New York      141297\n",
              "Texas         695662\n",
              "Name: area, dtype: int64"
            ]
          },
          "metadata": {
            "tags": []
          },
          "execution_count": 22
        }
      ]
    },
    {
      "cell_type": "markdown",
      "metadata": {
        "id": "y00ZRSy3w84X"
      },
      "source": [
        "Notice the potential point of confusion here: in a two-dimesnional NumPy array, ``data[0]`` will return the first *row*. For a ``DataFrame``, ``data['col0']`` will return the first *column*.\n",
        "Because of this, it is probably better to think about ``DataFrame``s as generalized dictionaries rather than generalized arrays, though both ways of looking at the situation can be useful.\n",
        "We'll explore more flexible means of indexing ``DataFrame``s in [Data Indexing and Selection](03.02-Data-Indexing-and-Selection.ipynb)."
      ]
    },
    {
      "cell_type": "markdown",
      "metadata": {
        "id": "adUvLoL8w84X"
      },
      "source": [
        "### Constructing DataFrame objects\n",
        "\n",
        "A Pandas ``DataFrame`` can be constructed in a variety of ways.\n",
        "Here we'll give several examples."
      ]
    },
    {
      "cell_type": "markdown",
      "metadata": {
        "id": "N8sH_dkAw84Y"
      },
      "source": [
        "#### From a single Series object\n",
        "\n",
        "A ``DataFrame`` is a collection of ``Series`` objects, and a single-column ``DataFrame`` can be constructed from a single ``Series``:"
      ]
    },
    {
      "cell_type": "code",
      "metadata": {
        "id": "NbE49wvcw84Y",
        "outputId": "e9e5da03-fa11-49d6-f8d2-065c71d4a43a"
      },
      "source": [
        "pd.DataFrame(population, columns=['population'])"
      ],
      "execution_count": null,
      "outputs": [
        {
          "output_type": "execute_result",
          "data": {
            "text/html": [
              "<div>\n",
              "<table border=\"1\" class=\"dataframe\">\n",
              "  <thead>\n",
              "    <tr style=\"text-align: right;\">\n",
              "      <th></th>\n",
              "      <th>population</th>\n",
              "    </tr>\n",
              "  </thead>\n",
              "  <tbody>\n",
              "    <tr>\n",
              "      <th>California</th>\n",
              "      <td>38332521</td>\n",
              "    </tr>\n",
              "    <tr>\n",
              "      <th>Florida</th>\n",
              "      <td>19552860</td>\n",
              "    </tr>\n",
              "    <tr>\n",
              "      <th>Illinois</th>\n",
              "      <td>12882135</td>\n",
              "    </tr>\n",
              "    <tr>\n",
              "      <th>New York</th>\n",
              "      <td>19651127</td>\n",
              "    </tr>\n",
              "    <tr>\n",
              "      <th>Texas</th>\n",
              "      <td>26448193</td>\n",
              "    </tr>\n",
              "  </tbody>\n",
              "</table>\n",
              "</div>"
            ],
            "text/plain": [
              "            population\n",
              "California    38332521\n",
              "Florida       19552860\n",
              "Illinois      12882135\n",
              "New York      19651127\n",
              "Texas         26448193"
            ]
          },
          "metadata": {
            "tags": []
          },
          "execution_count": 23
        }
      ]
    },
    {
      "cell_type": "markdown",
      "metadata": {
        "id": "hlZNN_DSw84Y"
      },
      "source": [
        "#### From a list of dicts\n",
        "\n",
        "Any list of dictionaries can be made into a ``DataFrame``.\n",
        "We'll use a simple list comprehension to create some data:"
      ]
    },
    {
      "cell_type": "code",
      "metadata": {
        "id": "FIAgJbCtw84Z",
        "outputId": "62a6faca-e80e-48d6-80d3-076423634d09"
      },
      "source": [
        "data = [{'a': i, 'b': 2 * i}\n",
        "        for i in range(3)]\n",
        "pd.DataFrame(data)"
      ],
      "execution_count": null,
      "outputs": [
        {
          "output_type": "execute_result",
          "data": {
            "text/html": [
              "<div>\n",
              "<table border=\"1\" class=\"dataframe\">\n",
              "  <thead>\n",
              "    <tr style=\"text-align: right;\">\n",
              "      <th></th>\n",
              "      <th>a</th>\n",
              "      <th>b</th>\n",
              "    </tr>\n",
              "  </thead>\n",
              "  <tbody>\n",
              "    <tr>\n",
              "      <th>0</th>\n",
              "      <td>0</td>\n",
              "      <td>0</td>\n",
              "    </tr>\n",
              "    <tr>\n",
              "      <th>1</th>\n",
              "      <td>1</td>\n",
              "      <td>2</td>\n",
              "    </tr>\n",
              "    <tr>\n",
              "      <th>2</th>\n",
              "      <td>2</td>\n",
              "      <td>4</td>\n",
              "    </tr>\n",
              "  </tbody>\n",
              "</table>\n",
              "</div>"
            ],
            "text/plain": [
              "   a  b\n",
              "0  0  0\n",
              "1  1  2\n",
              "2  2  4"
            ]
          },
          "metadata": {
            "tags": []
          },
          "execution_count": 24
        }
      ]
    },
    {
      "cell_type": "markdown",
      "metadata": {
        "id": "QXKhOpdxw84Z"
      },
      "source": [
        "Even if some keys in the dictionary are missing, Pandas will fill them in with ``NaN`` (i.e., \"not a number\") values:"
      ]
    },
    {
      "cell_type": "code",
      "metadata": {
        "id": "zUxkq5Pnw84Z",
        "outputId": "7081933d-1f27-4308-8053-7fb268e30cdb"
      },
      "source": [
        "pd.DataFrame([{'a': 1, 'b': 2}, {'b': 3, 'c': 4}])"
      ],
      "execution_count": null,
      "outputs": [
        {
          "output_type": "execute_result",
          "data": {
            "text/html": [
              "<div>\n",
              "<table border=\"1\" class=\"dataframe\">\n",
              "  <thead>\n",
              "    <tr style=\"text-align: right;\">\n",
              "      <th></th>\n",
              "      <th>a</th>\n",
              "      <th>b</th>\n",
              "      <th>c</th>\n",
              "    </tr>\n",
              "  </thead>\n",
              "  <tbody>\n",
              "    <tr>\n",
              "      <th>0</th>\n",
              "      <td>1.0</td>\n",
              "      <td>2</td>\n",
              "      <td>NaN</td>\n",
              "    </tr>\n",
              "    <tr>\n",
              "      <th>1</th>\n",
              "      <td>NaN</td>\n",
              "      <td>3</td>\n",
              "      <td>4.0</td>\n",
              "    </tr>\n",
              "  </tbody>\n",
              "</table>\n",
              "</div>"
            ],
            "text/plain": [
              "     a  b    c\n",
              "0  1.0  2  NaN\n",
              "1  NaN  3  4.0"
            ]
          },
          "metadata": {
            "tags": []
          },
          "execution_count": 25
        }
      ]
    },
    {
      "cell_type": "markdown",
      "metadata": {
        "id": "UgI42eEJw84a"
      },
      "source": [
        "#### From a dictionary of Series objects\n",
        "\n",
        "As we saw before, a ``DataFrame`` can be constructed from a dictionary of ``Series`` objects as well:"
      ]
    },
    {
      "cell_type": "code",
      "metadata": {
        "id": "ZI0zQ8y2w84a",
        "outputId": "f28a779c-cbd0-4250-f82a-7ade71a9f2df"
      },
      "source": [
        "pd.DataFrame({'population': population,\n",
        "              'area': area})"
      ],
      "execution_count": null,
      "outputs": [
        {
          "output_type": "execute_result",
          "data": {
            "text/html": [
              "<div>\n",
              "<table border=\"1\" class=\"dataframe\">\n",
              "  <thead>\n",
              "    <tr style=\"text-align: right;\">\n",
              "      <th></th>\n",
              "      <th>area</th>\n",
              "      <th>population</th>\n",
              "    </tr>\n",
              "  </thead>\n",
              "  <tbody>\n",
              "    <tr>\n",
              "      <th>California</th>\n",
              "      <td>423967</td>\n",
              "      <td>38332521</td>\n",
              "    </tr>\n",
              "    <tr>\n",
              "      <th>Florida</th>\n",
              "      <td>170312</td>\n",
              "      <td>19552860</td>\n",
              "    </tr>\n",
              "    <tr>\n",
              "      <th>Illinois</th>\n",
              "      <td>149995</td>\n",
              "      <td>12882135</td>\n",
              "    </tr>\n",
              "    <tr>\n",
              "      <th>New York</th>\n",
              "      <td>141297</td>\n",
              "      <td>19651127</td>\n",
              "    </tr>\n",
              "    <tr>\n",
              "      <th>Texas</th>\n",
              "      <td>695662</td>\n",
              "      <td>26448193</td>\n",
              "    </tr>\n",
              "  </tbody>\n",
              "</table>\n",
              "</div>"
            ],
            "text/plain": [
              "              area  population\n",
              "California  423967    38332521\n",
              "Florida     170312    19552860\n",
              "Illinois    149995    12882135\n",
              "New York    141297    19651127\n",
              "Texas       695662    26448193"
            ]
          },
          "metadata": {
            "tags": []
          },
          "execution_count": 26
        }
      ]
    },
    {
      "cell_type": "markdown",
      "metadata": {
        "id": "w7wFOHt8w84a"
      },
      "source": [
        "#### From a two-dimensional NumPy array\n",
        "\n",
        "Given a two-dimensional array of data, we can create a ``DataFrame`` with any specified column and index names.\n",
        "If omitted, an integer index will be used for each:"
      ]
    },
    {
      "cell_type": "code",
      "metadata": {
        "id": "l3lH2_pdw84a",
        "outputId": "438f777d-ca84-49ea-9f55-eaa8c599812a"
      },
      "source": [
        "pd.DataFrame(np.random.rand(3, 2),\n",
        "             columns=['foo', 'bar'],\n",
        "             index=['a', 'b', 'c'])"
      ],
      "execution_count": null,
      "outputs": [
        {
          "output_type": "execute_result",
          "data": {
            "text/html": [
              "<div>\n",
              "<table border=\"1\" class=\"dataframe\">\n",
              "  <thead>\n",
              "    <tr style=\"text-align: right;\">\n",
              "      <th></th>\n",
              "      <th>foo</th>\n",
              "      <th>bar</th>\n",
              "    </tr>\n",
              "  </thead>\n",
              "  <tbody>\n",
              "    <tr>\n",
              "      <th>a</th>\n",
              "      <td>0.865257</td>\n",
              "      <td>0.213169</td>\n",
              "    </tr>\n",
              "    <tr>\n",
              "      <th>b</th>\n",
              "      <td>0.442759</td>\n",
              "      <td>0.108267</td>\n",
              "    </tr>\n",
              "    <tr>\n",
              "      <th>c</th>\n",
              "      <td>0.047110</td>\n",
              "      <td>0.905718</td>\n",
              "    </tr>\n",
              "  </tbody>\n",
              "</table>\n",
              "</div>"
            ],
            "text/plain": [
              "        foo       bar\n",
              "a  0.865257  0.213169\n",
              "b  0.442759  0.108267\n",
              "c  0.047110  0.905718"
            ]
          },
          "metadata": {
            "tags": []
          },
          "execution_count": 27
        }
      ]
    },
    {
      "cell_type": "markdown",
      "metadata": {
        "id": "5inbhPsIw84b"
      },
      "source": [
        "#### From a NumPy structured array\n",
        "\n",
        "We covered structured arrays in [Structured Data: NumPy's Structured Arrays](02.09-Structured-Data-NumPy.ipynb).\n",
        "A Pandas ``DataFrame`` operates much like a structured array, and can be created directly from one:"
      ]
    },
    {
      "cell_type": "code",
      "metadata": {
        "id": "vVT5_H5mw84b",
        "outputId": "e16633cc-478e-4558-dea0-4cac4cd2b897"
      },
      "source": [
        "A = np.zeros(3, dtype=[('A', 'i8'), ('B', 'f8')])\n",
        "A"
      ],
      "execution_count": null,
      "outputs": [
        {
          "output_type": "execute_result",
          "data": {
            "text/plain": [
              "array([(0, 0.0), (0, 0.0), (0, 0.0)], \n",
              "      dtype=[('A', '<i8'), ('B', '<f8')])"
            ]
          },
          "metadata": {
            "tags": []
          },
          "execution_count": 28
        }
      ]
    },
    {
      "cell_type": "code",
      "metadata": {
        "id": "WYdtIWKqw84b",
        "outputId": "3b3ca999-5b23-4d4e-b59e-1dd68acabeff"
      },
      "source": [
        "pd.DataFrame(A)"
      ],
      "execution_count": null,
      "outputs": [
        {
          "output_type": "execute_result",
          "data": {
            "text/html": [
              "<div>\n",
              "<table border=\"1\" class=\"dataframe\">\n",
              "  <thead>\n",
              "    <tr style=\"text-align: right;\">\n",
              "      <th></th>\n",
              "      <th>A</th>\n",
              "      <th>B</th>\n",
              "    </tr>\n",
              "  </thead>\n",
              "  <tbody>\n",
              "    <tr>\n",
              "      <th>0</th>\n",
              "      <td>0</td>\n",
              "      <td>0.0</td>\n",
              "    </tr>\n",
              "    <tr>\n",
              "      <th>1</th>\n",
              "      <td>0</td>\n",
              "      <td>0.0</td>\n",
              "    </tr>\n",
              "    <tr>\n",
              "      <th>2</th>\n",
              "      <td>0</td>\n",
              "      <td>0.0</td>\n",
              "    </tr>\n",
              "  </tbody>\n",
              "</table>\n",
              "</div>"
            ],
            "text/plain": [
              "   A    B\n",
              "0  0  0.0\n",
              "1  0  0.0\n",
              "2  0  0.0"
            ]
          },
          "metadata": {
            "tags": []
          },
          "execution_count": 29
        }
      ]
    },
    {
      "cell_type": "markdown",
      "metadata": {
        "id": "m5m9jRCOw84c"
      },
      "source": [
        "## The Pandas Index Object\n",
        "\n",
        "We have seen here that both the ``Series`` and ``DataFrame`` objects contain an explicit *index* that lets you reference and modify data.\n",
        "This ``Index`` object is an interesting structure in itself, and it can be thought of either as an *immutable array* or as an *ordered set* (technically a multi-set, as ``Index`` objects may contain repeated values).\n",
        "Those views have some interesting consequences in the operations available on ``Index`` objects.\n",
        "As a simple example, let's construct an ``Index`` from a list of integers:"
      ]
    },
    {
      "cell_type": "code",
      "metadata": {
        "id": "taTVjie0w84c",
        "outputId": "b75a7f95-2e54-4cff-c1c3-32840868d7f0"
      },
      "source": [
        "ind = pd.Index([2, 3, 5, 7, 11])\n",
        "ind"
      ],
      "execution_count": null,
      "outputs": [
        {
          "output_type": "execute_result",
          "data": {
            "text/plain": [
              "Int64Index([2, 3, 5, 7, 11], dtype='int64')"
            ]
          },
          "metadata": {
            "tags": []
          },
          "execution_count": 30
        }
      ]
    },
    {
      "cell_type": "markdown",
      "metadata": {
        "id": "qFvHO7Sbw84c"
      },
      "source": [
        "### Index as immutable array\n",
        "\n",
        "The ``Index`` in many ways operates like an array.\n",
        "For example, we can use standard Python indexing notation to retrieve values or slices:"
      ]
    },
    {
      "cell_type": "code",
      "metadata": {
        "id": "lJwsgQPcw84c",
        "outputId": "18d0aef7-c4d8-418c-f949-4a7858282abf"
      },
      "source": [
        "ind[1]"
      ],
      "execution_count": null,
      "outputs": [
        {
          "output_type": "execute_result",
          "data": {
            "text/plain": [
              "3"
            ]
          },
          "metadata": {
            "tags": []
          },
          "execution_count": 31
        }
      ]
    },
    {
      "cell_type": "code",
      "metadata": {
        "id": "P7yCw6kQw84d",
        "outputId": "aeaa8759-bc48-4530-b522-3ec8fa040486"
      },
      "source": [
        "ind[::2]"
      ],
      "execution_count": null,
      "outputs": [
        {
          "output_type": "execute_result",
          "data": {
            "text/plain": [
              "Int64Index([2, 5, 11], dtype='int64')"
            ]
          },
          "metadata": {
            "tags": []
          },
          "execution_count": 32
        }
      ]
    },
    {
      "cell_type": "markdown",
      "metadata": {
        "id": "LW50a6Czw84d"
      },
      "source": [
        "``Index`` objects also have many of the attributes familiar from NumPy arrays:"
      ]
    },
    {
      "cell_type": "code",
      "metadata": {
        "id": "d0nanrBOw84d",
        "outputId": "ab438e28-bad2-45ba-85ad-7f79359a455e"
      },
      "source": [
        "print(ind.size, ind.shape, ind.ndim, ind.dtype)"
      ],
      "execution_count": null,
      "outputs": [
        {
          "output_type": "stream",
          "text": [
            "5 (5,) 1 int64\n"
          ],
          "name": "stdout"
        }
      ]
    },
    {
      "cell_type": "markdown",
      "metadata": {
        "id": "MRuuaTtuw84d"
      },
      "source": [
        "One difference between ``Index`` objects and NumPy arrays is that indices are immutable–that is, they cannot be modified via the normal means:"
      ]
    },
    {
      "cell_type": "code",
      "metadata": {
        "id": "6Y0EfzxJw84e",
        "outputId": "18571414-7c41-48f4-99f1-982f4cf2e2ff"
      },
      "source": [
        "ind[1] = 0"
      ],
      "execution_count": null,
      "outputs": [
        {
          "output_type": "error",
          "ename": "TypeError",
          "evalue": "Index does not support mutable operations",
          "traceback": [
            "\u001b[0;31m---------------------------------------------------------------------------\u001b[0m",
            "\u001b[0;31mTypeError\u001b[0m                                 Traceback (most recent call last)",
            "\u001b[0;32m<ipython-input-34-40e631c82e8a>\u001b[0m in \u001b[0;36m<module>\u001b[0;34m()\u001b[0m\n\u001b[0;32m----> 1\u001b[0;31m \u001b[0mind\u001b[0m\u001b[0;34m[\u001b[0m\u001b[0;36m1\u001b[0m\u001b[0;34m]\u001b[0m \u001b[0;34m=\u001b[0m \u001b[0;36m0\u001b[0m\u001b[0;34m\u001b[0m\u001b[0m\n\u001b[0m",
            "\u001b[0;32m/Users/jakevdp/anaconda/lib/python3.5/site-packages/pandas/indexes/base.py\u001b[0m in \u001b[0;36m__setitem__\u001b[0;34m(self, key, value)\u001b[0m\n\u001b[1;32m   1243\u001b[0m \u001b[0;34m\u001b[0m\u001b[0m\n\u001b[1;32m   1244\u001b[0m     \u001b[0;32mdef\u001b[0m \u001b[0m__setitem__\u001b[0m\u001b[0;34m(\u001b[0m\u001b[0mself\u001b[0m\u001b[0;34m,\u001b[0m \u001b[0mkey\u001b[0m\u001b[0;34m,\u001b[0m \u001b[0mvalue\u001b[0m\u001b[0;34m)\u001b[0m\u001b[0;34m:\u001b[0m\u001b[0;34m\u001b[0m\u001b[0m\n\u001b[0;32m-> 1245\u001b[0;31m         \u001b[0;32mraise\u001b[0m \u001b[0mTypeError\u001b[0m\u001b[0;34m(\u001b[0m\u001b[0;34m\"Index does not support mutable operations\"\u001b[0m\u001b[0;34m)\u001b[0m\u001b[0;34m\u001b[0m\u001b[0m\n\u001b[0m\u001b[1;32m   1246\u001b[0m \u001b[0;34m\u001b[0m\u001b[0m\n\u001b[1;32m   1247\u001b[0m     \u001b[0;32mdef\u001b[0m \u001b[0m__getitem__\u001b[0m\u001b[0;34m(\u001b[0m\u001b[0mself\u001b[0m\u001b[0;34m,\u001b[0m \u001b[0mkey\u001b[0m\u001b[0;34m)\u001b[0m\u001b[0;34m:\u001b[0m\u001b[0;34m\u001b[0m\u001b[0m\n",
            "\u001b[0;31mTypeError\u001b[0m: Index does not support mutable operations"
          ]
        }
      ]
    },
    {
      "cell_type": "markdown",
      "metadata": {
        "id": "3QsZnGDyw84e"
      },
      "source": [
        "This immutability makes it safer to share indices between multiple ``DataFrame``s and arrays, without the potential for side effects from inadvertent index modification."
      ]
    },
    {
      "cell_type": "markdown",
      "metadata": {
        "id": "MDRSrJ24w84e"
      },
      "source": [
        "### Index as ordered set\n",
        "\n",
        "Pandas objects are designed to facilitate operations such as joins across datasets, which depend on many aspects of set arithmetic.\n",
        "The ``Index`` object follows many of the conventions used by Python's built-in ``set`` data structure, so that unions, intersections, differences, and other combinations can be computed in a familiar way:"
      ]
    },
    {
      "cell_type": "code",
      "metadata": {
        "id": "85c7GWZxw84e"
      },
      "source": [
        "indA = pd.Index([1, 3, 5, 7, 9])\n",
        "indB = pd.Index([2, 3, 5, 7, 11])"
      ],
      "execution_count": null,
      "outputs": []
    },
    {
      "cell_type": "code",
      "metadata": {
        "id": "CEsMLRK3w84f",
        "outputId": "48ddad26-606c-4bb2-830b-c8183e4c35d5"
      },
      "source": [
        "indA & indB  # intersection"
      ],
      "execution_count": null,
      "outputs": [
        {
          "output_type": "execute_result",
          "data": {
            "text/plain": [
              "Int64Index([3, 5, 7], dtype='int64')"
            ]
          },
          "metadata": {
            "tags": []
          },
          "execution_count": 36
        }
      ]
    },
    {
      "cell_type": "code",
      "metadata": {
        "id": "5sjC4Sj_w84f",
        "outputId": "2f3b7566-8eae-4417-f5ea-ec618216af74"
      },
      "source": [
        "indA | indB  # union"
      ],
      "execution_count": null,
      "outputs": [
        {
          "output_type": "execute_result",
          "data": {
            "text/plain": [
              "Int64Index([1, 2, 3, 5, 7, 9, 11], dtype='int64')"
            ]
          },
          "metadata": {
            "tags": []
          },
          "execution_count": 37
        }
      ]
    },
    {
      "cell_type": "code",
      "metadata": {
        "id": "_KipKq_7w84f",
        "outputId": "24153c99-507d-4801-de69-5cc6899e8f0d"
      },
      "source": [
        "indA ^ indB  # symmetric difference"
      ],
      "execution_count": null,
      "outputs": [
        {
          "output_type": "execute_result",
          "data": {
            "text/plain": [
              "Int64Index([1, 2, 9, 11], dtype='int64')"
            ]
          },
          "metadata": {
            "tags": []
          },
          "execution_count": 38
        }
      ]
    },
    {
      "cell_type": "markdown",
      "metadata": {
        "id": "QmfJSzNEw84g"
      },
      "source": [
        "These operations may also be accessed via object methods, for example ``indA.intersection(indB)``."
      ]
    }
  ]
}
