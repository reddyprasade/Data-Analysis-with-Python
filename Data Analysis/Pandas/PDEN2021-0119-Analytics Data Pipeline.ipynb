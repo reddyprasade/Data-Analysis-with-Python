{
 "cells": [
  {
   "cell_type": "markdown",
   "source": "# Analytics Data Pipeline",
   "metadata": {
    "tags": [],
    "cell_id": "00000-543490a5-dcfe-4484-b1d5-267a3bce473f",
    "deepnote_cell_type": "markdown"
   }
  },
  {
   "cell_type": "code",
   "metadata": {
    "tags": [],
    "cell_id": "00000-d61417f7-6167-48c8-b5f1-380b119a64a3",
    "deepnote_to_be_reexecuted": false,
    "source_hash": "f6e180ab",
    "execution_start": 1626748935263,
    "execution_millis": 2,
    "deepnote_cell_type": "code"
   },
   "source": "# Start writing code here...\nimport numpy as np\nimport pandas as pd\nimport seaborn as sns\nimport matplotlib.pyplot as plt",
   "outputs": [],
   "execution_count": null
  },
  {
   "cell_type": "code",
   "source": "from genpipes import declare, compose\nfrom collections.abc import Iterable",
   "metadata": {
    "tags": [],
    "cell_id": "00003-a6fe25a9-ec6c-465b-b4d2-ed366dad842f",
    "deepnote_to_be_reexecuted": false,
    "source_hash": "3e2fae55",
    "execution_start": 1626748935273,
    "execution_millis": 1,
    "deepnote_cell_type": "code"
   },
   "outputs": [],
   "execution_count": null
  },
  {
   "cell_type": "code",
   "source": "@declare.generator()\n@declare.datasource(inputs = [\"https://raw.githubusercontent.com/reddyprasade/DataSet-for-ML-and-Data-Science/master/DataSets/Advertising.csv\"])\ndef data_to_be_processed(path:str) -> pd.DataFrame:\n    df = pd.read_csv(path)\n    print(df.head())\n    return df",
   "metadata": {
    "tags": [],
    "cell_id": "00003-14073942-e9df-4ccc-9ef7-4e91293c9edf",
    "deepnote_to_be_reexecuted": false,
    "source_hash": "fdfcd382",
    "execution_start": 1626749088759,
    "execution_millis": 1,
    "deepnote_cell_type": "code"
   },
   "outputs": [],
   "execution_count": null
  },
  {
   "cell_type": "code",
   "source": "pipe = compose.Pipeline(steps=[\n    (\"fetching datasource from some csv file\",data_to_be_processed,{}),\n])",
   "metadata": {
    "tags": [],
    "cell_id": "00005-6d0775cc-f404-4b70-b5d2-bee46912acbb",
    "deepnote_to_be_reexecuted": false,
    "source_hash": "88e46dbf",
    "execution_start": 1626749089575,
    "execution_millis": 3,
    "deepnote_cell_type": "code"
   },
   "outputs": [],
   "execution_count": null
  },
  {
   "cell_type": "code",
   "source": "output = pipe.run()",
   "metadata": {
    "tags": [],
    "cell_id": "00006-48ebb667-a3ec-4e8a-8ca1-bace5ea6e273",
    "deepnote_to_be_reexecuted": false,
    "source_hash": "37d58c65",
    "execution_start": 1626749090146,
    "execution_millis": 39,
    "deepnote_cell_type": "code"
   },
   "outputs": [
    {
     "name": "stdout",
     "text": "   Unnamed: 0     TV  Radio  Newspaper  Sales\n0           1  230.1   37.8       69.2   22.1\n1           2   44.5   39.3       45.1   10.4\n2           3   17.2   45.9       69.3    9.3\n3           4  151.5   41.3       58.5   18.5\n4           5  180.8   10.8       58.4   12.9\n   Unnamed: 0     TV  Radio  Newspaper  Sales\n0           1  230.1   37.8       69.2   22.1\n1           2   44.5   39.3       45.1   10.4\n2           3   17.2   45.9       69.3    9.3\n3           4  151.5   41.3       58.5   18.5\n4           5  180.8   10.8       58.4   12.9\n",
     "output_type": "stream"
    }
   ],
   "execution_count": null
  },
  {
   "cell_type": "code",
   "source": "@declare.datasource(inputs=[\"https://raw.githubusercontent.com/reddyprasade/DataSet-for-ML-and-Data-Science/master/DataSets/state-abbrevs.csv\"])\ndef data_one(path:str) -> pd.DataFrame:\n    df = pd.read_csv(path)\n    return df\n\n@declare.datasource(inputs=[\"https://raw.githubusercontent.com/reddyprasade/DataSet-for-ML-and-Data-Science/master/DataSets/state-areas.csv\"])\ndef data_two(path:str) -> pd.DataFrame:\n    df = pd.read_csv(path)\n    return df",
   "metadata": {
    "tags": [],
    "cell_id": "00006-16604915-7263-4306-b192-528be4b351ff",
    "deepnote_to_be_reexecuted": false,
    "source_hash": "d257dde3",
    "execution_start": 1626749265743,
    "execution_millis": 1,
    "deepnote_cell_type": "code"
   },
   "outputs": [],
   "execution_count": null
  },
  {
   "cell_type": "code",
   "source": "from typing import Callable\n\n@declare.generator(inputs=[data_one, data_two])\ndef merging_data(input_one:Callable, input_two:Callable) -> pd.DataFrame:\n    df_one = input_one()\n    df_two = input_two()\n    df_merged = df_one.merge(df_two)\n    print(df_merged)\n    return df_merged",
   "metadata": {
    "tags": [],
    "cell_id": "00007-58594062-fa46-4d71-9390-a105dcb2778b",
    "deepnote_to_be_reexecuted": false,
    "source_hash": "bb20e306",
    "execution_start": 1626749857524,
    "execution_millis": 1,
    "deepnote_cell_type": "code"
   },
   "outputs": [],
   "execution_count": null
  },
  {
   "cell_type": "code",
   "source": "empty_stream = () # use to feed the generator decorated function\n\ngen_one = merging_data(empty_stream)\ngen_two = merging_data(empty_stream)\n\n# multiple consuming\nconsumer_one = next(gen_one)\nconsumer_two = next(gen_two)\n\nassert consumer_one.equals(consumer_two) # True",
   "metadata": {
    "tags": [],
    "cell_id": "00007-2959911b-dace-49ff-94de-8c60ab5fab16",
    "deepnote_to_be_reexecuted": false,
    "source_hash": "81612306",
    "execution_start": 1626749857925,
    "execution_millis": 431,
    "deepnote_cell_type": "code"
   },
   "outputs": [
    {
     "name": "stdout",
     "text": "                   state abbreviation  area (sq. mi)\n0                Alabama           AL          52423\n1                 Alaska           AK         656425\n2                Arizona           AZ         114006\n3               Arkansas           AR          53182\n4             California           CA         163707\n5               Colorado           CO         104100\n6            Connecticut           CT           5544\n7               Delaware           DE           1954\n8   District of Columbia           DC             68\n9                Florida           FL          65758\n10               Georgia           GA          59441\n11                Hawaii           HI          10932\n12                 Idaho           ID          83574\n13              Illinois           IL          57918\n14               Indiana           IN          36420\n15                  Iowa           IA          56276\n16                Kansas           KS          82282\n17              Kentucky           KY          40411\n18             Louisiana           LA          51843\n19                 Maine           ME          35387\n20               Montana           MT         147046\n21              Nebraska           NE          77358\n22                Nevada           NV         110567\n23         New Hampshire           NH           9351\n24            New Jersey           NJ           8722\n25            New Mexico           NM         121593\n26              New York           NY          54475\n27        North Carolina           NC          53821\n28          North Dakota           ND          70704\n29                  Ohio           OH          44828\n30              Oklahoma           OK          69903\n31                Oregon           OR          98386\n32              Maryland           MD          12407\n33         Massachusetts           MA          10555\n34              Michigan           MI          96810\n35             Minnesota           MN          86943\n36           Mississippi           MS          48434\n37              Missouri           MO          69709\n38          Pennsylvania           PA          46058\n39          Rhode Island           RI           1545\n40        South Carolina           SC          32007\n41          South Dakota           SD          77121\n42             Tennessee           TN          42146\n43                 Texas           TX         268601\n44                  Utah           UT          84904\n45               Vermont           VT           9615\n46              Virginia           VA          42769\n47            Washington           WA          71303\n48         West Virginia           WV          24231\n49             Wisconsin           WI          65503\n50               Wyoming           WY          97818\n                   state abbreviation  area (sq. mi)\n0                Alabama           AL          52423\n1                 Alaska           AK         656425\n2                Arizona           AZ         114006\n3               Arkansas           AR          53182\n4             California           CA         163707\n5               Colorado           CO         104100\n6            Connecticut           CT           5544\n7               Delaware           DE           1954\n8   District of Columbia           DC             68\n9                Florida           FL          65758\n10               Georgia           GA          59441\n11                Hawaii           HI          10932\n12                 Idaho           ID          83574\n13              Illinois           IL          57918\n14               Indiana           IN          36420\n15                  Iowa           IA          56276\n16                Kansas           KS          82282\n17              Kentucky           KY          40411\n18             Louisiana           LA          51843\n19                 Maine           ME          35387\n20               Montana           MT         147046\n21              Nebraska           NE          77358\n22                Nevada           NV         110567\n23         New Hampshire           NH           9351\n24            New Jersey           NJ           8722\n25            New Mexico           NM         121593\n26              New York           NY          54475\n27        North Carolina           NC          53821\n28          North Dakota           ND          70704\n29                  Ohio           OH          44828\n30              Oklahoma           OK          69903\n31                Oregon           OR          98386\n32              Maryland           MD          12407\n33         Massachusetts           MA          10555\n34              Michigan           MI          96810\n35             Minnesota           MN          86943\n36           Mississippi           MS          48434\n37              Missouri           MO          69709\n38          Pennsylvania           PA          46058\n39          Rhode Island           RI           1545\n40        South Carolina           SC          32007\n41          South Dakota           SD          77121\n42             Tennessee           TN          42146\n43                 Texas           TX         268601\n44                  Utah           UT          84904\n45               Vermont           VT           9615\n46              Virginia           VA          42769\n47            Washington           WA          71303\n48         West Virginia           WV          24231\n49             Wisconsin           WI          65503\n50               Wyoming           WY          97818\n                   state abbreviation  area (sq. mi)\n0                Alabama           AL          52423\n1                 Alaska           AK         656425\n2                Arizona           AZ         114006\n3               Arkansas           AR          53182\n4             California           CA         163707\n5               Colorado           CO         104100\n6            Connecticut           CT           5544\n7               Delaware           DE           1954\n8   District of Columbia           DC             68\n9                Florida           FL          65758\n10               Georgia           GA          59441\n11                Hawaii           HI          10932\n12                 Idaho           ID          83574\n13              Illinois           IL          57918\n14               Indiana           IN          36420\n15                  Iowa           IA          56276\n16                Kansas           KS          82282\n17              Kentucky           KY          40411\n18             Louisiana           LA          51843\n19                 Maine           ME          35387\n20               Montana           MT         147046\n21              Nebraska           NE          77358\n22                Nevada           NV         110567\n23         New Hampshire           NH           9351\n24            New Jersey           NJ           8722\n25            New Mexico           NM         121593\n26              New York           NY          54475\n27        North Carolina           NC          53821\n28          North Dakota           ND          70704\n29                  Ohio           OH          44828\n30              Oklahoma           OK          69903\n31                Oregon           OR          98386\n32              Maryland           MD          12407\n33         Massachusetts           MA          10555\n34              Michigan           MI          96810\n35             Minnesota           MN          86943\n36           Mississippi           MS          48434\n37              Missouri           MO          69709\n38          Pennsylvania           PA          46058\n39          Rhode Island           RI           1545\n40        South Carolina           SC          32007\n41          South Dakota           SD          77121\n42             Tennessee           TN          42146\n43                 Texas           TX         268601\n44                  Utah           UT          84904\n45               Vermont           VT           9615\n46              Virginia           VA          42769\n47            Washington           WA          71303\n48         West Virginia           WV          24231\n49             Wisconsin           WI          65503\n50               Wyoming           WY          97818\n                   state abbreviation  area (sq. mi)\n0                Alabama           AL          52423\n1                 Alaska           AK         656425\n2                Arizona           AZ         114006\n3               Arkansas           AR          53182\n4             California           CA         163707\n5               Colorado           CO         104100\n6            Connecticut           CT           5544\n7               Delaware           DE           1954\n8   District of Columbia           DC             68\n9                Florida           FL          65758\n10               Georgia           GA          59441\n11                Hawaii           HI          10932\n12                 Idaho           ID          83574\n13              Illinois           IL          57918\n14               Indiana           IN          36420\n15                  Iowa           IA          56276\n16                Kansas           KS          82282\n17              Kentucky           KY          40411\n18             Louisiana           LA          51843\n19                 Maine           ME          35387\n20               Montana           MT         147046\n21              Nebraska           NE          77358\n22                Nevada           NV         110567\n23         New Hampshire           NH           9351\n24            New Jersey           NJ           8722\n25            New Mexico           NM         121593\n26              New York           NY          54475\n27        North Carolina           NC          53821\n28          North Dakota           ND          70704\n29                  Ohio           OH          44828\n30              Oklahoma           OK          69903\n31                Oregon           OR          98386\n32              Maryland           MD          12407\n33         Massachusetts           MA          10555\n34              Michigan           MI          96810\n35             Minnesota           MN          86943\n36           Mississippi           MS          48434\n37              Missouri           MO          69709\n38          Pennsylvania           PA          46058\n39          Rhode Island           RI           1545\n40        South Carolina           SC          32007\n41          South Dakota           SD          77121\n42             Tennessee           TN          42146\n43                 Texas           TX         268601\n44                  Utah           UT          84904\n45               Vermont           VT           9615\n46              Virginia           VA          42769\n47            Washington           WA          71303\n48         West Virginia           WV          24231\n49             Wisconsin           WI          65503\n50               Wyoming           WY          97818\n",
     "output_type": "stream"
    }
   ],
   "execution_count": null
  },
  {
   "cell_type": "code",
   "source": "ids = [11, 22, 33, 44, 55, 66, 77]\ncountries = ['Seattle', 'London', 'Lahore', 'Berlin', 'Abuja']",
   "metadata": {
    "tags": [],
    "cell_id": "00009-90c68550-7503-4c4b-a789-4d8d8d2feefc",
    "deepnote_to_be_reexecuted": false,
    "source_hash": "1bf29685",
    "execution_start": 1626750509348,
    "execution_millis": 0,
    "deepnote_cell_type": "code"
   },
   "outputs": [],
   "execution_count": null
  },
  {
   "cell_type": "code",
   "source": "df = pd.DataFrame(list(zip(ids, countries)),\n                  columns=['Ids', 'Cities'])\ndf",
   "metadata": {
    "tags": [],
    "cell_id": "00010-3b9b1f82-34f8-4b7c-9708-e5da6b39dd4a",
    "deepnote_to_be_reexecuted": false,
    "source_hash": "f89a2940",
    "execution_start": 1626750527143,
    "execution_millis": 38,
    "deepnote_cell_type": "code"
   },
   "outputs": [
    {
     "output_type": "execute_result",
     "execution_count": 38,
     "data": {
      "application/vnd.deepnote.dataframe.v2+json": {
       "row_count": 5,
       "column_count": 2,
       "columns": [
        {
         "name": "Ids",
         "dtype": "int64",
         "stats": {
          "unique_count": 5,
          "nan_count": 0,
          "min": "11",
          "max": "55",
          "histogram": [
           {
            "bin_start": 11,
            "bin_end": 15.4,
            "count": 1
           },
           {
            "bin_start": 15.4,
            "bin_end": 19.8,
            "count": 0
           },
           {
            "bin_start": 19.8,
            "bin_end": 24.200000000000003,
            "count": 1
           },
           {
            "bin_start": 24.200000000000003,
            "bin_end": 28.6,
            "count": 0
           },
           {
            "bin_start": 28.6,
            "bin_end": 33,
            "count": 0
           },
           {
            "bin_start": 33,
            "bin_end": 37.400000000000006,
            "count": 1
           },
           {
            "bin_start": 37.400000000000006,
            "bin_end": 41.800000000000004,
            "count": 0
           },
           {
            "bin_start": 41.800000000000004,
            "bin_end": 46.2,
            "count": 1
           },
           {
            "bin_start": 46.2,
            "bin_end": 50.6,
            "count": 0
           },
           {
            "bin_start": 50.6,
            "bin_end": 55,
            "count": 1
           }
          ]
         }
        },
        {
         "name": "Cities",
         "dtype": "object",
         "stats": {
          "unique_count": 5,
          "nan_count": 0,
          "categories": [
           {
            "name": "Seattle",
            "count": 1
           },
           {
            "name": "London",
            "count": 1
           },
           {
            "name": "3 others",
            "count": 3
           }
          ]
         }
        },
        {
         "name": "_deepnote_index_column",
         "dtype": "int64"
        }
       ],
       "rows_top": [
        {
         "Ids": 11,
         "Cities": "Seattle",
         "_deepnote_index_column": 0
        },
        {
         "Ids": 22,
         "Cities": "London",
         "_deepnote_index_column": 1
        },
        {
         "Ids": 33,
         "Cities": "Lahore",
         "_deepnote_index_column": 2
        },
        {
         "Ids": 44,
         "Cities": "Berlin",
         "_deepnote_index_column": 3
        },
        {
         "Ids": 55,
         "Cities": "Abuja",
         "_deepnote_index_column": 4
        }
       ],
       "rows_bottom": null
      },
      "text/plain": "   Ids   Cities\n0   11  Seattle\n1   22   London\n2   33   Lahore\n3   44   Berlin\n4   55    Abuja",
      "text/html": "<div>\n<style scoped>\n    .dataframe tbody tr th:only-of-type {\n        vertical-align: middle;\n    }\n\n    .dataframe tbody tr th {\n        vertical-align: top;\n    }\n\n    .dataframe thead th {\n        text-align: right;\n    }\n</style>\n<table border=\"1\" class=\"dataframe\">\n  <thead>\n    <tr style=\"text-align: right;\">\n      <th></th>\n      <th>Ids</th>\n      <th>Cities</th>\n    </tr>\n  </thead>\n  <tbody>\n    <tr>\n      <th>0</th>\n      <td>11</td>\n      <td>Seattle</td>\n    </tr>\n    <tr>\n      <th>1</th>\n      <td>22</td>\n      <td>London</td>\n    </tr>\n    <tr>\n      <th>2</th>\n      <td>33</td>\n      <td>Lahore</td>\n    </tr>\n    <tr>\n      <th>3</th>\n      <td>44</td>\n      <td>Berlin</td>\n    </tr>\n    <tr>\n      <th>4</th>\n      <td>55</td>\n      <td>Abuja</td>\n    </tr>\n  </tbody>\n</table>\n</div>"
     },
     "metadata": {}
    }
   ],
   "execution_count": null
  },
  {
   "cell_type": "code",
   "source": "pd.get_dummies(df)",
   "metadata": {
    "tags": [],
    "cell_id": "00011-2bf13aed-830e-4b92-ab5d-ef4c83dc4c52",
    "deepnote_to_be_reexecuted": false,
    "source_hash": "6222fa4b",
    "execution_start": 1626750553989,
    "execution_millis": 42,
    "deepnote_cell_type": "code"
   },
   "outputs": [
    {
     "output_type": "execute_result",
     "execution_count": 39,
     "data": {
      "application/vnd.deepnote.dataframe.v2+json": {
       "row_count": 5,
       "column_count": 6,
       "columns": [
        {
         "name": "Ids",
         "dtype": "int64",
         "stats": {
          "unique_count": 5,
          "nan_count": 0,
          "min": "11",
          "max": "55",
          "histogram": [
           {
            "bin_start": 11,
            "bin_end": 15.4,
            "count": 1
           },
           {
            "bin_start": 15.4,
            "bin_end": 19.8,
            "count": 0
           },
           {
            "bin_start": 19.8,
            "bin_end": 24.200000000000003,
            "count": 1
           },
           {
            "bin_start": 24.200000000000003,
            "bin_end": 28.6,
            "count": 0
           },
           {
            "bin_start": 28.6,
            "bin_end": 33,
            "count": 0
           },
           {
            "bin_start": 33,
            "bin_end": 37.400000000000006,
            "count": 1
           },
           {
            "bin_start": 37.400000000000006,
            "bin_end": 41.800000000000004,
            "count": 0
           },
           {
            "bin_start": 41.800000000000004,
            "bin_end": 46.2,
            "count": 1
           },
           {
            "bin_start": 46.2,
            "bin_end": 50.6,
            "count": 0
           },
           {
            "bin_start": 50.6,
            "bin_end": 55,
            "count": 1
           }
          ]
         }
        },
        {
         "name": "Cities_Abuja",
         "dtype": "uint8",
         "stats": {
          "unique_count": 2,
          "nan_count": 0,
          "min": "0",
          "max": "1",
          "histogram": [
           {
            "bin_start": 0,
            "bin_end": 0.1,
            "count": 4
           },
           {
            "bin_start": 0.1,
            "bin_end": 0.2,
            "count": 0
           },
           {
            "bin_start": 0.2,
            "bin_end": 0.30000000000000004,
            "count": 0
           },
           {
            "bin_start": 0.30000000000000004,
            "bin_end": 0.4,
            "count": 0
           },
           {
            "bin_start": 0.4,
            "bin_end": 0.5,
            "count": 0
           },
           {
            "bin_start": 0.5,
            "bin_end": 0.6000000000000001,
            "count": 0
           },
           {
            "bin_start": 0.6000000000000001,
            "bin_end": 0.7000000000000001,
            "count": 0
           },
           {
            "bin_start": 0.7000000000000001,
            "bin_end": 0.8,
            "count": 0
           },
           {
            "bin_start": 0.8,
            "bin_end": 0.9,
            "count": 0
           },
           {
            "bin_start": 0.9,
            "bin_end": 1,
            "count": 1
           }
          ]
         }
        },
        {
         "name": "Cities_Berlin",
         "dtype": "uint8",
         "stats": {
          "unique_count": 2,
          "nan_count": 0,
          "min": "0",
          "max": "1",
          "histogram": [
           {
            "bin_start": 0,
            "bin_end": 0.1,
            "count": 4
           },
           {
            "bin_start": 0.1,
            "bin_end": 0.2,
            "count": 0
           },
           {
            "bin_start": 0.2,
            "bin_end": 0.30000000000000004,
            "count": 0
           },
           {
            "bin_start": 0.30000000000000004,
            "bin_end": 0.4,
            "count": 0
           },
           {
            "bin_start": 0.4,
            "bin_end": 0.5,
            "count": 0
           },
           {
            "bin_start": 0.5,
            "bin_end": 0.6000000000000001,
            "count": 0
           },
           {
            "bin_start": 0.6000000000000001,
            "bin_end": 0.7000000000000001,
            "count": 0
           },
           {
            "bin_start": 0.7000000000000001,
            "bin_end": 0.8,
            "count": 0
           },
           {
            "bin_start": 0.8,
            "bin_end": 0.9,
            "count": 0
           },
           {
            "bin_start": 0.9,
            "bin_end": 1,
            "count": 1
           }
          ]
         }
        },
        {
         "name": "Cities_Lahore",
         "dtype": "uint8",
         "stats": {
          "unique_count": 2,
          "nan_count": 0,
          "min": "0",
          "max": "1",
          "histogram": [
           {
            "bin_start": 0,
            "bin_end": 0.1,
            "count": 4
           },
           {
            "bin_start": 0.1,
            "bin_end": 0.2,
            "count": 0
           },
           {
            "bin_start": 0.2,
            "bin_end": 0.30000000000000004,
            "count": 0
           },
           {
            "bin_start": 0.30000000000000004,
            "bin_end": 0.4,
            "count": 0
           },
           {
            "bin_start": 0.4,
            "bin_end": 0.5,
            "count": 0
           },
           {
            "bin_start": 0.5,
            "bin_end": 0.6000000000000001,
            "count": 0
           },
           {
            "bin_start": 0.6000000000000001,
            "bin_end": 0.7000000000000001,
            "count": 0
           },
           {
            "bin_start": 0.7000000000000001,
            "bin_end": 0.8,
            "count": 0
           },
           {
            "bin_start": 0.8,
            "bin_end": 0.9,
            "count": 0
           },
           {
            "bin_start": 0.9,
            "bin_end": 1,
            "count": 1
           }
          ]
         }
        },
        {
         "name": "Cities_London",
         "dtype": "uint8",
         "stats": {
          "unique_count": 2,
          "nan_count": 0,
          "min": "0",
          "max": "1",
          "histogram": [
           {
            "bin_start": 0,
            "bin_end": 0.1,
            "count": 4
           },
           {
            "bin_start": 0.1,
            "bin_end": 0.2,
            "count": 0
           },
           {
            "bin_start": 0.2,
            "bin_end": 0.30000000000000004,
            "count": 0
           },
           {
            "bin_start": 0.30000000000000004,
            "bin_end": 0.4,
            "count": 0
           },
           {
            "bin_start": 0.4,
            "bin_end": 0.5,
            "count": 0
           },
           {
            "bin_start": 0.5,
            "bin_end": 0.6000000000000001,
            "count": 0
           },
           {
            "bin_start": 0.6000000000000001,
            "bin_end": 0.7000000000000001,
            "count": 0
           },
           {
            "bin_start": 0.7000000000000001,
            "bin_end": 0.8,
            "count": 0
           },
           {
            "bin_start": 0.8,
            "bin_end": 0.9,
            "count": 0
           },
           {
            "bin_start": 0.9,
            "bin_end": 1,
            "count": 1
           }
          ]
         }
        },
        {
         "name": "Cities_Seattle",
         "dtype": "uint8",
         "stats": {
          "unique_count": 2,
          "nan_count": 0,
          "min": "0",
          "max": "1",
          "histogram": [
           {
            "bin_start": 0,
            "bin_end": 0.1,
            "count": 4
           },
           {
            "bin_start": 0.1,
            "bin_end": 0.2,
            "count": 0
           },
           {
            "bin_start": 0.2,
            "bin_end": 0.30000000000000004,
            "count": 0
           },
           {
            "bin_start": 0.30000000000000004,
            "bin_end": 0.4,
            "count": 0
           },
           {
            "bin_start": 0.4,
            "bin_end": 0.5,
            "count": 0
           },
           {
            "bin_start": 0.5,
            "bin_end": 0.6000000000000001,
            "count": 0
           },
           {
            "bin_start": 0.6000000000000001,
            "bin_end": 0.7000000000000001,
            "count": 0
           },
           {
            "bin_start": 0.7000000000000001,
            "bin_end": 0.8,
            "count": 0
           },
           {
            "bin_start": 0.8,
            "bin_end": 0.9,
            "count": 0
           },
           {
            "bin_start": 0.9,
            "bin_end": 1,
            "count": 1
           }
          ]
         }
        },
        {
         "name": "_deepnote_index_column",
         "dtype": "int64"
        }
       ],
       "rows_top": [
        {
         "Ids": 11,
         "Cities_Abuja": 0,
         "Cities_Berlin": 0,
         "Cities_Lahore": 0,
         "Cities_London": 0,
         "Cities_Seattle": 1,
         "_deepnote_index_column": 0
        },
        {
         "Ids": 22,
         "Cities_Abuja": 0,
         "Cities_Berlin": 0,
         "Cities_Lahore": 0,
         "Cities_London": 1,
         "Cities_Seattle": 0,
         "_deepnote_index_column": 1
        },
        {
         "Ids": 33,
         "Cities_Abuja": 0,
         "Cities_Berlin": 0,
         "Cities_Lahore": 1,
         "Cities_London": 0,
         "Cities_Seattle": 0,
         "_deepnote_index_column": 2
        },
        {
         "Ids": 44,
         "Cities_Abuja": 0,
         "Cities_Berlin": 1,
         "Cities_Lahore": 0,
         "Cities_London": 0,
         "Cities_Seattle": 0,
         "_deepnote_index_column": 3
        },
        {
         "Ids": 55,
         "Cities_Abuja": 1,
         "Cities_Berlin": 0,
         "Cities_Lahore": 0,
         "Cities_London": 0,
         "Cities_Seattle": 0,
         "_deepnote_index_column": 4
        }
       ],
       "rows_bottom": null
      },
      "text/plain": "   Ids  Cities_Abuja  Cities_Berlin  Cities_Lahore  Cities_London  \\\n0   11             0              0              0              0   \n1   22             0              0              0              1   \n2   33             0              0              1              0   \n3   44             0              1              0              0   \n4   55             1              0              0              0   \n\n   Cities_Seattle  \n0               1  \n1               0  \n2               0  \n3               0  \n4               0  ",
      "text/html": "<div>\n<style scoped>\n    .dataframe tbody tr th:only-of-type {\n        vertical-align: middle;\n    }\n\n    .dataframe tbody tr th {\n        vertical-align: top;\n    }\n\n    .dataframe thead th {\n        text-align: right;\n    }\n</style>\n<table border=\"1\" class=\"dataframe\">\n  <thead>\n    <tr style=\"text-align: right;\">\n      <th></th>\n      <th>Ids</th>\n      <th>Cities_Abuja</th>\n      <th>Cities_Berlin</th>\n      <th>Cities_Lahore</th>\n      <th>Cities_London</th>\n      <th>Cities_Seattle</th>\n    </tr>\n  </thead>\n  <tbody>\n    <tr>\n      <th>0</th>\n      <td>11</td>\n      <td>0</td>\n      <td>0</td>\n      <td>0</td>\n      <td>0</td>\n      <td>1</td>\n    </tr>\n    <tr>\n      <th>1</th>\n      <td>22</td>\n      <td>0</td>\n      <td>0</td>\n      <td>0</td>\n      <td>1</td>\n      <td>0</td>\n    </tr>\n    <tr>\n      <th>2</th>\n      <td>33</td>\n      <td>0</td>\n      <td>0</td>\n      <td>1</td>\n      <td>0</td>\n      <td>0</td>\n    </tr>\n    <tr>\n      <th>3</th>\n      <td>44</td>\n      <td>0</td>\n      <td>1</td>\n      <td>0</td>\n      <td>0</td>\n      <td>0</td>\n    </tr>\n    <tr>\n      <th>4</th>\n      <td>55</td>\n      <td>1</td>\n      <td>0</td>\n      <td>0</td>\n      <td>0</td>\n      <td>0</td>\n    </tr>\n  </tbody>\n</table>\n</div>"
     },
     "metadata": {}
    }
   ],
   "execution_count": null
  },
  {
   "cell_type": "markdown",
   "source": "## pdpipe",
   "metadata": {
    "tags": [],
    "cell_id": "00009-61218c89-251f-469c-99ab-758372b74d51",
    "deepnote_cell_type": "markdown"
   }
  },
  {
   "cell_type": "code",
   "source": "import pdpipe as pdp",
   "metadata": {
    "tags": [],
    "cell_id": "00011-d1c5520e-e322-4d34-adf5-964b9f7d0da8",
    "deepnote_to_be_reexecuted": false,
    "source_hash": "dc49152f",
    "execution_start": 1626750073029,
    "execution_millis": 1223,
    "deepnote_cell_type": "code"
   },
   "outputs": [],
   "execution_count": null
  },
  {
   "cell_type": "markdown",
   "source": "",
   "metadata": {
    "tags": [],
    "cell_id": "00011-40c2f751-1e84-4c04-ae40-71f407372bc6",
    "deepnote_cell_type": "markdown"
   }
  },
  {
   "cell_type": "code",
   "source": "",
   "metadata": {
    "tags": [],
    "cell_id": "00011-7ed78d15-0921-4861-9b55-53fbc62c901f",
    "deepnote_cell_type": "code"
   },
   "outputs": [],
   "execution_count": null
  },
  {
   "cell_type": "markdown",
   "source": "<a style='text-decoration:none;line-height:16px;display:flex;color:#5B5B62;padding:10px;justify-content:end;' href='https://deepnote.com?utm_source=created-in-deepnote-cell&projectId=f5f90ba1-3290-463e-8fc6-44108f4fa21b' target=\"_blank\">\n<img alt='Created in deepnote.com' style='display:inline;max-height:16px;margin:0px;margin-right:7.5px;' src='data:image/svg+xml;base64,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' > </img>\nCreated in <span style='font-weight:600;margin-left:4px;'>Deepnote</span></a>",
   "metadata": {
    "tags": [],
    "created_in_deepnote_cell": true,
    "deepnote_cell_type": "markdown"
   }
  }
 ],
 "nbformat": 4,
 "nbformat_minor": 2,
 "metadata": {
  "orig_nbformat": 2,
  "deepnote": {
   "is_reactive": false
  },
  "deepnote_notebook_id": "ce3fc7b6-16f7-445f-b4d6-e7b733c229ff",
  "deepnote_execution_queue": []
 }
}