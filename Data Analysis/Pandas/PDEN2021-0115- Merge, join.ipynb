{
 "cells": [
  {
   "cell_type": "code",
   "metadata": {
    "tags": [],
    "cell_id": "00000-53a453ec-9463-40d8-aadc-2dc2c662a17a",
    "deepnote_to_be_reexecuted": false,
    "source_hash": "70e05992",
    "execution_start": 1626055961336,
    "execution_millis": 1941,
    "deepnote_cell_type": "code"
   },
   "source": "# Start writing code here...\nimport numpy as np\nimport pandas as pd \nimport seaborn as sns\nimport matplotlib.pyplot as plt",
   "outputs": [],
   "execution_count": null
  },
  {
   "cell_type": "markdown",
   "source": "### Join\n\n* Join of data in to one is Joins \n* We have different types of Join consepts Such as \n  * Inner Join or Natural join\n  * Outer Join or Full outer join\n  * Left Join or Left outer join\n  * Right Join or Right outer join",
   "metadata": {
    "tags": [],
    "cell_id": "00001-836e0b19-aba2-4654-aa9c-19f89bf07b85",
    "deepnote_cell_type": "markdown"
   }
  },
  {
   "cell_type": "markdown",
   "source": "pd.merge(\n    left,\n    right,\n    how=\"inner\",\n    on=None,\n    left_on=None,\n    right_on=None,\n    left_index=False,\n    right_index=False,\n    sort=True,\n    suffixes=(\"_x\", \"_y\"),\n    copy=True,\n    indicator=False,\n    validate=None,\n)",
   "metadata": {
    "tags": [],
    "cell_id": "00002-55bcbd28-25a8-4446-b2c1-4a66344307aa",
    "deepnote_cell_type": "text-cell-p"
   }
  },
  {
   "cell_type": "code",
   "metadata": {
    "tags": [],
    "cell_id": "00001-363e4d9e-3437-4a86-9093-afe9e4efb41a",
    "deepnote_to_be_reexecuted": false,
    "source_hash": "7fdcb6ae",
    "execution_start": 1626055963313,
    "execution_millis": 9,
    "deepnote_cell_type": "code"
   },
   "source": "d1 = {'Customer_id':pd.Series([1,2,3,4,5,6]),\n  'Product':pd.Series(['Oven','Oven','Oven','Television','Television','Television'])}\nd1",
   "outputs": [
    {
     "output_type": "execute_result",
     "execution_count": 2,
     "data": {
      "text/plain": "{'Customer_id': 0    1\n 1    2\n 2    3\n 3    4\n 4    5\n 5    6\n dtype: int64,\n 'Product': 0          Oven\n 1          Oven\n 2          Oven\n 3    Television\n 4    Television\n 5    Television\n dtype: object}"
     },
     "metadata": {}
    }
   ],
   "execution_count": null
  },
  {
   "cell_type": "code",
   "metadata": {
    "tags": [],
    "cell_id": "00003-a15bb14b-385c-4b01-b3cb-8637182d3472",
    "deepnote_to_be_reexecuted": false,
    "source_hash": "402a925b",
    "execution_start": 1626055963332,
    "execution_millis": 343873533,
    "deepnote_cell_type": "code"
   },
   "source": "df1 = pd.DataFrame(d1)",
   "outputs": [],
   "execution_count": null
  },
  {
   "cell_type": "code",
   "metadata": {
    "tags": [],
    "cell_id": "00005-1b9b5102-ee93-46ad-8758-fc4854915f43",
    "deepnote_to_be_reexecuted": false,
    "source_hash": "c0143fff",
    "execution_start": 1626055963375,
    "execution_millis": 6,
    "deepnote_cell_type": "code"
   },
   "source": "d2 = {'Customer_id':pd.Series([2,4,6,7,8]),\n    'State':pd.Series(['California','California','Texas','New York','Indiana'])}\ndf2 = pd.DataFrame(d2)\ndf2 # y",
   "outputs": [
    {
     "output_type": "execute_result",
     "execution_count": 4,
     "data": {
      "application/vnd.deepnote.dataframe.v2+json": {
       "row_count": 5,
       "column_count": 2,
       "columns": [
        {
         "name": "Customer_id",
         "dtype": "int64",
         "stats": {
          "unique_count": 5,
          "nan_count": 0,
          "min": "2",
          "max": "8",
          "histogram": [
           {
            "bin_start": 2,
            "bin_end": 2.6,
            "count": 1
           },
           {
            "bin_start": 2.6,
            "bin_end": 3.2,
            "count": 0
           },
           {
            "bin_start": 3.2,
            "bin_end": 3.8,
            "count": 0
           },
           {
            "bin_start": 3.8,
            "bin_end": 4.4,
            "count": 1
           },
           {
            "bin_start": 4.4,
            "bin_end": 5,
            "count": 0
           },
           {
            "bin_start": 5,
            "bin_end": 5.6,
            "count": 0
           },
           {
            "bin_start": 5.6,
            "bin_end": 6.2,
            "count": 1
           },
           {
            "bin_start": 6.2,
            "bin_end": 6.8,
            "count": 0
           },
           {
            "bin_start": 6.8,
            "bin_end": 7.3999999999999995,
            "count": 1
           },
           {
            "bin_start": 7.3999999999999995,
            "bin_end": 8,
            "count": 1
           }
          ]
         }
        },
        {
         "name": "State",
         "dtype": "object",
         "stats": {
          "unique_count": 4,
          "nan_count": 0,
          "categories": [
           {
            "name": "California",
            "count": 2
           },
           {
            "name": "Texas",
            "count": 1
           },
           {
            "name": "2 others",
            "count": 2
           }
          ]
         }
        },
        {
         "name": "_deepnote_index_column",
         "dtype": "int64"
        }
       ],
       "rows_top": [
        {
         "Customer_id": 2,
         "State": "California",
         "_deepnote_index_column": 0
        },
        {
         "Customer_id": 4,
         "State": "California",
         "_deepnote_index_column": 1
        },
        {
         "Customer_id": 6,
         "State": "Texas",
         "_deepnote_index_column": 2
        },
        {
         "Customer_id": 7,
         "State": "New York",
         "_deepnote_index_column": 3
        },
        {
         "Customer_id": 8,
         "State": "Indiana",
         "_deepnote_index_column": 4
        }
       ],
       "rows_bottom": null
      },
      "text/plain": "   Customer_id       State\n0            2  California\n1            4  California\n2            6       Texas\n3            7    New York\n4            8     Indiana",
      "text/html": "<div>\n<style scoped>\n    .dataframe tbody tr th:only-of-type {\n        vertical-align: middle;\n    }\n\n    .dataframe tbody tr th {\n        vertical-align: top;\n    }\n\n    .dataframe thead th {\n        text-align: right;\n    }\n</style>\n<table border=\"1\" class=\"dataframe\">\n  <thead>\n    <tr style=\"text-align: right;\">\n      <th></th>\n      <th>Customer_id</th>\n      <th>State</th>\n    </tr>\n  </thead>\n  <tbody>\n    <tr>\n      <th>0</th>\n      <td>2</td>\n      <td>California</td>\n    </tr>\n    <tr>\n      <th>1</th>\n      <td>4</td>\n      <td>California</td>\n    </tr>\n    <tr>\n      <th>2</th>\n      <td>6</td>\n      <td>Texas</td>\n    </tr>\n    <tr>\n      <th>3</th>\n      <td>7</td>\n      <td>New York</td>\n    </tr>\n    <tr>\n      <th>4</th>\n      <td>8</td>\n      <td>Indiana</td>\n    </tr>\n  </tbody>\n</table>\n</div>"
     },
     "metadata": {}
    }
   ],
   "execution_count": null
  },
  {
   "cell_type": "code",
   "metadata": {
    "tags": [],
    "cell_id": "00006-43ab0eeb-7d15-4209-b277-332a3a7530dc",
    "deepnote_to_be_reexecuted": false,
    "source_hash": "e6747284",
    "execution_start": 1626055963376,
    "execution_millis": 50,
    "deepnote_cell_type": "code"
   },
   "source": "df1 # X ",
   "outputs": [
    {
     "output_type": "execute_result",
     "execution_count": 5,
     "data": {
      "application/vnd.deepnote.dataframe.v2+json": {
       "row_count": 6,
       "column_count": 2,
       "columns": [
        {
         "name": "Customer_id",
         "dtype": "int64",
         "stats": {
          "unique_count": 6,
          "nan_count": 0,
          "min": "1",
          "max": "6",
          "histogram": [
           {
            "bin_start": 1,
            "bin_end": 1.5,
            "count": 1
           },
           {
            "bin_start": 1.5,
            "bin_end": 2,
            "count": 0
           },
           {
            "bin_start": 2,
            "bin_end": 2.5,
            "count": 1
           },
           {
            "bin_start": 2.5,
            "bin_end": 3,
            "count": 0
           },
           {
            "bin_start": 3,
            "bin_end": 3.5,
            "count": 1
           },
           {
            "bin_start": 3.5,
            "bin_end": 4,
            "count": 0
           },
           {
            "bin_start": 4,
            "bin_end": 4.5,
            "count": 1
           },
           {
            "bin_start": 4.5,
            "bin_end": 5,
            "count": 0
           },
           {
            "bin_start": 5,
            "bin_end": 5.5,
            "count": 1
           },
           {
            "bin_start": 5.5,
            "bin_end": 6,
            "count": 1
           }
          ]
         }
        },
        {
         "name": "Product",
         "dtype": "object",
         "stats": {
          "unique_count": 2,
          "nan_count": 0,
          "categories": [
           {
            "name": "Oven",
            "count": 3
           },
           {
            "name": "Television",
            "count": 3
           }
          ]
         }
        },
        {
         "name": "_deepnote_index_column",
         "dtype": "int64"
        }
       ],
       "rows_top": [
        {
         "Customer_id": 1,
         "Product": "Oven",
         "_deepnote_index_column": 0
        },
        {
         "Customer_id": 2,
         "Product": "Oven",
         "_deepnote_index_column": 1
        },
        {
         "Customer_id": 3,
         "Product": "Oven",
         "_deepnote_index_column": 2
        },
        {
         "Customer_id": 4,
         "Product": "Television",
         "_deepnote_index_column": 3
        },
        {
         "Customer_id": 5,
         "Product": "Television",
         "_deepnote_index_column": 4
        },
        {
         "Customer_id": 6,
         "Product": "Television",
         "_deepnote_index_column": 5
        }
       ],
       "rows_bottom": null
      },
      "text/plain": "   Customer_id     Product\n0            1        Oven\n1            2        Oven\n2            3        Oven\n3            4  Television\n4            5  Television\n5            6  Television",
      "text/html": "<div>\n<style scoped>\n    .dataframe tbody tr th:only-of-type {\n        vertical-align: middle;\n    }\n\n    .dataframe tbody tr th {\n        vertical-align: top;\n    }\n\n    .dataframe thead th {\n        text-align: right;\n    }\n</style>\n<table border=\"1\" class=\"dataframe\">\n  <thead>\n    <tr style=\"text-align: right;\">\n      <th></th>\n      <th>Customer_id</th>\n      <th>Product</th>\n    </tr>\n  </thead>\n  <tbody>\n    <tr>\n      <th>0</th>\n      <td>1</td>\n      <td>Oven</td>\n    </tr>\n    <tr>\n      <th>1</th>\n      <td>2</td>\n      <td>Oven</td>\n    </tr>\n    <tr>\n      <th>2</th>\n      <td>3</td>\n      <td>Oven</td>\n    </tr>\n    <tr>\n      <th>3</th>\n      <td>4</td>\n      <td>Television</td>\n    </tr>\n    <tr>\n      <th>4</th>\n      <td>5</td>\n      <td>Television</td>\n    </tr>\n    <tr>\n      <th>5</th>\n      <td>6</td>\n      <td>Television</td>\n    </tr>\n  </tbody>\n</table>\n</div>"
     },
     "metadata": {}
    }
   ],
   "execution_count": null
  },
  {
   "cell_type": "code",
   "metadata": {
    "tags": [],
    "cell_id": "00007-91ebbb64-7ff6-4dac-b5e4-85c3000d59d2",
    "deepnote_to_be_reexecuted": false,
    "source_hash": "2d1e767d",
    "execution_start": 1626055963421,
    "execution_millis": 22,
    "deepnote_cell_type": "code"
   },
   "source": "# To keep only rows that match from the data frames, specify the argument how=‘inner’.\n\ninner_join_df = pd.merge(df1,df2,on=\"Customer_id\",how=\"inner\")\ninner_join_df",
   "outputs": [
    {
     "output_type": "execute_result",
     "execution_count": 6,
     "data": {
      "application/vnd.deepnote.dataframe.v2+json": {
       "row_count": 3,
       "column_count": 3,
       "columns": [
        {
         "name": "Customer_id",
         "dtype": "int64",
         "stats": {
          "unique_count": 3,
          "nan_count": 0,
          "min": "2",
          "max": "6",
          "histogram": [
           {
            "bin_start": 2,
            "bin_end": 2.4,
            "count": 1
           },
           {
            "bin_start": 2.4,
            "bin_end": 2.8,
            "count": 0
           },
           {
            "bin_start": 2.8,
            "bin_end": 3.2,
            "count": 0
           },
           {
            "bin_start": 3.2,
            "bin_end": 3.6,
            "count": 0
           },
           {
            "bin_start": 3.6,
            "bin_end": 4,
            "count": 0
           },
           {
            "bin_start": 4,
            "bin_end": 4.4,
            "count": 1
           },
           {
            "bin_start": 4.4,
            "bin_end": 4.800000000000001,
            "count": 0
           },
           {
            "bin_start": 4.800000000000001,
            "bin_end": 5.2,
            "count": 0
           },
           {
            "bin_start": 5.2,
            "bin_end": 5.6,
            "count": 0
           },
           {
            "bin_start": 5.6,
            "bin_end": 6,
            "count": 1
           }
          ]
         }
        },
        {
         "name": "Product",
         "dtype": "object",
         "stats": {
          "unique_count": 2,
          "nan_count": 0,
          "categories": [
           {
            "name": "Television",
            "count": 2
           },
           {
            "name": "Oven",
            "count": 1
           }
          ]
         }
        },
        {
         "name": "State",
         "dtype": "object",
         "stats": {
          "unique_count": 2,
          "nan_count": 0,
          "categories": [
           {
            "name": "California",
            "count": 2
           },
           {
            "name": "Texas",
            "count": 1
           }
          ]
         }
        },
        {
         "name": "_deepnote_index_column",
         "dtype": "int64"
        }
       ],
       "rows_top": [
        {
         "Customer_id": 2,
         "Product": "Oven",
         "State": "California",
         "_deepnote_index_column": 0
        },
        {
         "Customer_id": 4,
         "Product": "Television",
         "State": "California",
         "_deepnote_index_column": 1
        },
        {
         "Customer_id": 6,
         "Product": "Television",
         "State": "Texas",
         "_deepnote_index_column": 2
        }
       ],
       "rows_bottom": null
      },
      "text/plain": "   Customer_id     Product       State\n0            2        Oven  California\n1            4  Television  California\n2            6  Television       Texas",
      "text/html": "<div>\n<style scoped>\n    .dataframe tbody tr th:only-of-type {\n        vertical-align: middle;\n    }\n\n    .dataframe tbody tr th {\n        vertical-align: top;\n    }\n\n    .dataframe thead th {\n        text-align: right;\n    }\n</style>\n<table border=\"1\" class=\"dataframe\">\n  <thead>\n    <tr style=\"text-align: right;\">\n      <th></th>\n      <th>Customer_id</th>\n      <th>Product</th>\n      <th>State</th>\n    </tr>\n  </thead>\n  <tbody>\n    <tr>\n      <th>0</th>\n      <td>2</td>\n      <td>Oven</td>\n      <td>California</td>\n    </tr>\n    <tr>\n      <th>1</th>\n      <td>4</td>\n      <td>Television</td>\n      <td>California</td>\n    </tr>\n    <tr>\n      <th>2</th>\n      <td>6</td>\n      <td>Television</td>\n      <td>Texas</td>\n    </tr>\n  </tbody>\n</table>\n</div>"
     },
     "metadata": {}
    }
   ],
   "execution_count": null
  },
  {
   "cell_type": "code",
   "metadata": {
    "tags": [],
    "cell_id": "00007-d9fa8062-8dab-4141-baaa-b0bd7f673dca",
    "deepnote_to_be_reexecuted": false,
    "source_hash": "a12cfafa",
    "execution_start": 1626055963437,
    "execution_millis": 45,
    "deepnote_cell_type": "code"
   },
   "source": "# Outer Join or Full outer join:To keep all rows from both data frames, specify how=‘outer’.\noutter_join_df = pd.merge(df1,df2,on=\"Customer_id\",how=\"outer\")\noutter_join_df",
   "outputs": [
    {
     "output_type": "execute_result",
     "execution_count": 7,
     "data": {
      "application/vnd.deepnote.dataframe.v2+json": {
       "row_count": 8,
       "column_count": 3,
       "columns": [
        {
         "name": "Customer_id",
         "dtype": "int64",
         "stats": {
          "unique_count": 8,
          "nan_count": 0,
          "min": "1",
          "max": "8",
          "histogram": [
           {
            "bin_start": 1,
            "bin_end": 1.7,
            "count": 1
           },
           {
            "bin_start": 1.7,
            "bin_end": 2.4,
            "count": 1
           },
           {
            "bin_start": 2.4,
            "bin_end": 3.0999999999999996,
            "count": 1
           },
           {
            "bin_start": 3.0999999999999996,
            "bin_end": 3.8,
            "count": 0
           },
           {
            "bin_start": 3.8,
            "bin_end": 4.5,
            "count": 1
           },
           {
            "bin_start": 4.5,
            "bin_end": 5.199999999999999,
            "count": 1
           },
           {
            "bin_start": 5.199999999999999,
            "bin_end": 5.8999999999999995,
            "count": 0
           },
           {
            "bin_start": 5.8999999999999995,
            "bin_end": 6.6,
            "count": 1
           },
           {
            "bin_start": 6.6,
            "bin_end": 7.3,
            "count": 1
           },
           {
            "bin_start": 7.3,
            "bin_end": 8,
            "count": 1
           }
          ]
         }
        },
        {
         "name": "Product",
         "dtype": "object",
         "stats": {
          "unique_count": 2,
          "nan_count": 2,
          "categories": [
           {
            "name": "Oven",
            "count": 3
           },
           {
            "name": "Television",
            "count": 3
           },
           {
            "name": "Missing",
            "count": 2
           }
          ]
         }
        },
        {
         "name": "State",
         "dtype": "object",
         "stats": {
          "unique_count": 4,
          "nan_count": 3,
          "categories": [
           {
            "name": "California",
            "count": 2
           },
           {
            "name": "3 others",
            "count": 3
           },
           {
            "name": "Missing",
            "count": 3
           }
          ]
         }
        },
        {
         "name": "_deepnote_index_column",
         "dtype": "int64"
        }
       ],
       "rows_top": [
        {
         "Customer_id": 1,
         "Product": "Oven",
         "State": "nan",
         "_deepnote_index_column": 0
        },
        {
         "Customer_id": 2,
         "Product": "Oven",
         "State": "California",
         "_deepnote_index_column": 1
        },
        {
         "Customer_id": 3,
         "Product": "Oven",
         "State": "nan",
         "_deepnote_index_column": 2
        },
        {
         "Customer_id": 4,
         "Product": "Television",
         "State": "California",
         "_deepnote_index_column": 3
        },
        {
         "Customer_id": 5,
         "Product": "Television",
         "State": "nan",
         "_deepnote_index_column": 4
        },
        {
         "Customer_id": 6,
         "Product": "Television",
         "State": "Texas",
         "_deepnote_index_column": 5
        },
        {
         "Customer_id": 7,
         "Product": "nan",
         "State": "New York",
         "_deepnote_index_column": 6
        },
        {
         "Customer_id": 8,
         "Product": "nan",
         "State": "Indiana",
         "_deepnote_index_column": 7
        }
       ],
       "rows_bottom": null
      },
      "text/plain": "   Customer_id     Product       State\n0            1        Oven         NaN\n1            2        Oven  California\n2            3        Oven         NaN\n3            4  Television  California\n4            5  Television         NaN\n5            6  Television       Texas\n6            7         NaN    New York\n7            8         NaN     Indiana",
      "text/html": "<div>\n<style scoped>\n    .dataframe tbody tr th:only-of-type {\n        vertical-align: middle;\n    }\n\n    .dataframe tbody tr th {\n        vertical-align: top;\n    }\n\n    .dataframe thead th {\n        text-align: right;\n    }\n</style>\n<table border=\"1\" class=\"dataframe\">\n  <thead>\n    <tr style=\"text-align: right;\">\n      <th></th>\n      <th>Customer_id</th>\n      <th>Product</th>\n      <th>State</th>\n    </tr>\n  </thead>\n  <tbody>\n    <tr>\n      <th>0</th>\n      <td>1</td>\n      <td>Oven</td>\n      <td>NaN</td>\n    </tr>\n    <tr>\n      <th>1</th>\n      <td>2</td>\n      <td>Oven</td>\n      <td>California</td>\n    </tr>\n    <tr>\n      <th>2</th>\n      <td>3</td>\n      <td>Oven</td>\n      <td>NaN</td>\n    </tr>\n    <tr>\n      <th>3</th>\n      <td>4</td>\n      <td>Television</td>\n      <td>California</td>\n    </tr>\n    <tr>\n      <th>4</th>\n      <td>5</td>\n      <td>Television</td>\n      <td>NaN</td>\n    </tr>\n    <tr>\n      <th>5</th>\n      <td>6</td>\n      <td>Television</td>\n      <td>Texas</td>\n    </tr>\n    <tr>\n      <th>6</th>\n      <td>7</td>\n      <td>NaN</td>\n      <td>New York</td>\n    </tr>\n    <tr>\n      <th>7</th>\n      <td>8</td>\n      <td>NaN</td>\n      <td>Indiana</td>\n    </tr>\n  </tbody>\n</table>\n</div>"
     },
     "metadata": {}
    }
   ],
   "execution_count": null
  },
  {
   "cell_type": "code",
   "metadata": {
    "tags": [],
    "cell_id": "00008-331e255d-93b2-4e8a-88f9-026941bcfea9",
    "deepnote_to_be_reexecuted": false,
    "source_hash": "63fe5659",
    "execution_start": 1626055963478,
    "execution_millis": 35,
    "deepnote_cell_type": "code"
   },
   "source": "# Left Join or Left outer join:\n#To include all the rows of your data frame x and only those from y that match, specify how=‘left’.\n# left join in python\n\nleft_join_df= pd.merge(df1, df2, on='Customer_id', how='left')\nleft_join_df ",
   "outputs": [
    {
     "output_type": "execute_result",
     "execution_count": 8,
     "data": {
      "application/vnd.deepnote.dataframe.v2+json": {
       "row_count": 6,
       "column_count": 3,
       "columns": [
        {
         "name": "Customer_id",
         "dtype": "int64",
         "stats": {
          "unique_count": 6,
          "nan_count": 0,
          "min": "1",
          "max": "6",
          "histogram": [
           {
            "bin_start": 1,
            "bin_end": 1.5,
            "count": 1
           },
           {
            "bin_start": 1.5,
            "bin_end": 2,
            "count": 0
           },
           {
            "bin_start": 2,
            "bin_end": 2.5,
            "count": 1
           },
           {
            "bin_start": 2.5,
            "bin_end": 3,
            "count": 0
           },
           {
            "bin_start": 3,
            "bin_end": 3.5,
            "count": 1
           },
           {
            "bin_start": 3.5,
            "bin_end": 4,
            "count": 0
           },
           {
            "bin_start": 4,
            "bin_end": 4.5,
            "count": 1
           },
           {
            "bin_start": 4.5,
            "bin_end": 5,
            "count": 0
           },
           {
            "bin_start": 5,
            "bin_end": 5.5,
            "count": 1
           },
           {
            "bin_start": 5.5,
            "bin_end": 6,
            "count": 1
           }
          ]
         }
        },
        {
         "name": "Product",
         "dtype": "object",
         "stats": {
          "unique_count": 2,
          "nan_count": 0,
          "categories": [
           {
            "name": "Oven",
            "count": 3
           },
           {
            "name": "Television",
            "count": 3
           }
          ]
         }
        },
        {
         "name": "State",
         "dtype": "object",
         "stats": {
          "unique_count": 2,
          "nan_count": 3,
          "categories": [
           {
            "name": "California",
            "count": 2
           },
           {
            "name": "Texas",
            "count": 1
           },
           {
            "name": "Missing",
            "count": 3
           }
          ]
         }
        },
        {
         "name": "_deepnote_index_column",
         "dtype": "int64"
        }
       ],
       "rows_top": [
        {
         "Customer_id": 1,
         "Product": "Oven",
         "State": "nan",
         "_deepnote_index_column": 0
        },
        {
         "Customer_id": 2,
         "Product": "Oven",
         "State": "California",
         "_deepnote_index_column": 1
        },
        {
         "Customer_id": 3,
         "Product": "Oven",
         "State": "nan",
         "_deepnote_index_column": 2
        },
        {
         "Customer_id": 4,
         "Product": "Television",
         "State": "California",
         "_deepnote_index_column": 3
        },
        {
         "Customer_id": 5,
         "Product": "Television",
         "State": "nan",
         "_deepnote_index_column": 4
        },
        {
         "Customer_id": 6,
         "Product": "Television",
         "State": "Texas",
         "_deepnote_index_column": 5
        }
       ],
       "rows_bottom": null
      },
      "text/plain": "   Customer_id     Product       State\n0            1        Oven         NaN\n1            2        Oven  California\n2            3        Oven         NaN\n3            4  Television  California\n4            5  Television         NaN\n5            6  Television       Texas",
      "text/html": "<div>\n<style scoped>\n    .dataframe tbody tr th:only-of-type {\n        vertical-align: middle;\n    }\n\n    .dataframe tbody tr th {\n        vertical-align: top;\n    }\n\n    .dataframe thead th {\n        text-align: right;\n    }\n</style>\n<table border=\"1\" class=\"dataframe\">\n  <thead>\n    <tr style=\"text-align: right;\">\n      <th></th>\n      <th>Customer_id</th>\n      <th>Product</th>\n      <th>State</th>\n    </tr>\n  </thead>\n  <tbody>\n    <tr>\n      <th>0</th>\n      <td>1</td>\n      <td>Oven</td>\n      <td>NaN</td>\n    </tr>\n    <tr>\n      <th>1</th>\n      <td>2</td>\n      <td>Oven</td>\n      <td>California</td>\n    </tr>\n    <tr>\n      <th>2</th>\n      <td>3</td>\n      <td>Oven</td>\n      <td>NaN</td>\n    </tr>\n    <tr>\n      <th>3</th>\n      <td>4</td>\n      <td>Television</td>\n      <td>California</td>\n    </tr>\n    <tr>\n      <th>4</th>\n      <td>5</td>\n      <td>Television</td>\n      <td>NaN</td>\n    </tr>\n    <tr>\n      <th>5</th>\n      <td>6</td>\n      <td>Television</td>\n      <td>Texas</td>\n    </tr>\n  </tbody>\n</table>\n</div>"
     },
     "metadata": {}
    }
   ],
   "execution_count": null
  },
  {
   "cell_type": "code",
   "metadata": {
    "tags": [],
    "cell_id": "00009-3d7fe2f7-f4c5-4a06-8871-cb85b3511d8b",
    "deepnote_to_be_reexecuted": false,
    "source_hash": "63194140",
    "execution_start": 1626055963556,
    "execution_millis": 8,
    "deepnote_cell_type": "code"
   },
   "source": "# right join in python pandas\n\nright_join_df= pd.merge(df1, df2, on='Customer_id', how='right')\nright_join_df ",
   "outputs": [
    {
     "output_type": "execute_result",
     "execution_count": 9,
     "data": {
      "application/vnd.deepnote.dataframe.v2+json": {
       "row_count": 5,
       "column_count": 3,
       "columns": [
        {
         "name": "Customer_id",
         "dtype": "int64",
         "stats": {
          "unique_count": 5,
          "nan_count": 0,
          "min": "2",
          "max": "8",
          "histogram": [
           {
            "bin_start": 2,
            "bin_end": 2.6,
            "count": 1
           },
           {
            "bin_start": 2.6,
            "bin_end": 3.2,
            "count": 0
           },
           {
            "bin_start": 3.2,
            "bin_end": 3.8,
            "count": 0
           },
           {
            "bin_start": 3.8,
            "bin_end": 4.4,
            "count": 1
           },
           {
            "bin_start": 4.4,
            "bin_end": 5,
            "count": 0
           },
           {
            "bin_start": 5,
            "bin_end": 5.6,
            "count": 0
           },
           {
            "bin_start": 5.6,
            "bin_end": 6.2,
            "count": 1
           },
           {
            "bin_start": 6.2,
            "bin_end": 6.8,
            "count": 0
           },
           {
            "bin_start": 6.8,
            "bin_end": 7.3999999999999995,
            "count": 1
           },
           {
            "bin_start": 7.3999999999999995,
            "bin_end": 8,
            "count": 1
           }
          ]
         }
        },
        {
         "name": "Product",
         "dtype": "object",
         "stats": {
          "unique_count": 2,
          "nan_count": 2,
          "categories": [
           {
            "name": "Television",
            "count": 2
           },
           {
            "name": "Oven",
            "count": 1
           },
           {
            "name": "Missing",
            "count": 2
           }
          ]
         }
        },
        {
         "name": "State",
         "dtype": "object",
         "stats": {
          "unique_count": 4,
          "nan_count": 0,
          "categories": [
           {
            "name": "California",
            "count": 2
           },
           {
            "name": "Texas",
            "count": 1
           },
           {
            "name": "2 others",
            "count": 2
           }
          ]
         }
        },
        {
         "name": "_deepnote_index_column",
         "dtype": "int64"
        }
       ],
       "rows_top": [
        {
         "Customer_id": 2,
         "Product": "Oven",
         "State": "California",
         "_deepnote_index_column": 0
        },
        {
         "Customer_id": 4,
         "Product": "Television",
         "State": "California",
         "_deepnote_index_column": 1
        },
        {
         "Customer_id": 6,
         "Product": "Television",
         "State": "Texas",
         "_deepnote_index_column": 2
        },
        {
         "Customer_id": 7,
         "Product": "nan",
         "State": "New York",
         "_deepnote_index_column": 3
        },
        {
         "Customer_id": 8,
         "Product": "nan",
         "State": "Indiana",
         "_deepnote_index_column": 4
        }
       ],
       "rows_bottom": null
      },
      "text/plain": "   Customer_id     Product       State\n0            2        Oven  California\n1            4  Television  California\n2            6  Television       Texas\n3            7         NaN    New York\n4            8         NaN     Indiana",
      "text/html": "<div>\n<style scoped>\n    .dataframe tbody tr th:only-of-type {\n        vertical-align: middle;\n    }\n\n    .dataframe tbody tr th {\n        vertical-align: top;\n    }\n\n    .dataframe thead th {\n        text-align: right;\n    }\n</style>\n<table border=\"1\" class=\"dataframe\">\n  <thead>\n    <tr style=\"text-align: right;\">\n      <th></th>\n      <th>Customer_id</th>\n      <th>Product</th>\n      <th>State</th>\n    </tr>\n  </thead>\n  <tbody>\n    <tr>\n      <th>0</th>\n      <td>2</td>\n      <td>Oven</td>\n      <td>California</td>\n    </tr>\n    <tr>\n      <th>1</th>\n      <td>4</td>\n      <td>Television</td>\n      <td>California</td>\n    </tr>\n    <tr>\n      <th>2</th>\n      <td>6</td>\n      <td>Television</td>\n      <td>Texas</td>\n    </tr>\n    <tr>\n      <th>3</th>\n      <td>7</td>\n      <td>NaN</td>\n      <td>New York</td>\n    </tr>\n    <tr>\n      <th>4</th>\n      <td>8</td>\n      <td>NaN</td>\n      <td>Indiana</td>\n    </tr>\n  </tbody>\n</table>\n</div>"
     },
     "metadata": {}
    }
   ],
   "execution_count": null
  },
  {
   "cell_type": "code",
   "metadata": {
    "tags": [],
    "cell_id": "00010-eeba27fb-6650-4ac3-b3a2-402c84ca4b16",
    "deepnote_to_be_reexecuted": false,
    "source_hash": "2adf6da",
    "execution_start": 1626055963556,
    "execution_millis": 53,
    "deepnote_cell_type": "code"
   },
   "source": "left = pd.DataFrame({\n        \"key\": [\"K0\", \"K1\", \"K2\", \"K3\"],\n        \"A\": [\"A0\", \"A1\", \"A2\", \"A3\"],\n        \"B\": [\"B0\", \"B1\", \"B2\", \"B3\"],\n})\nleft",
   "outputs": [
    {
     "output_type": "execute_result",
     "execution_count": 10,
     "data": {
      "application/vnd.deepnote.dataframe.v2+json": {
       "row_count": 4,
       "column_count": 3,
       "columns": [
        {
         "name": "key",
         "dtype": "object",
         "stats": {
          "unique_count": 4,
          "nan_count": 0,
          "categories": [
           {
            "name": "K0",
            "count": 1
           },
           {
            "name": "K1",
            "count": 1
           },
           {
            "name": "2 others",
            "count": 2
           }
          ]
         }
        },
        {
         "name": "A",
         "dtype": "object",
         "stats": {
          "unique_count": 4,
          "nan_count": 0,
          "categories": [
           {
            "name": "A0",
            "count": 1
           },
           {
            "name": "A1",
            "count": 1
           },
           {
            "name": "2 others",
            "count": 2
           }
          ]
         }
        },
        {
         "name": "B",
         "dtype": "object",
         "stats": {
          "unique_count": 4,
          "nan_count": 0,
          "categories": [
           {
            "name": "B0",
            "count": 1
           },
           {
            "name": "B1",
            "count": 1
           },
           {
            "name": "2 others",
            "count": 2
           }
          ]
         }
        },
        {
         "name": "_deepnote_index_column",
         "dtype": "int64"
        }
       ],
       "rows_top": [
        {
         "key": "K0",
         "A": "A0",
         "B": "B0",
         "_deepnote_index_column": 0
        },
        {
         "key": "K1",
         "A": "A1",
         "B": "B1",
         "_deepnote_index_column": 1
        },
        {
         "key": "K2",
         "A": "A2",
         "B": "B2",
         "_deepnote_index_column": 2
        },
        {
         "key": "K3",
         "A": "A3",
         "B": "B3",
         "_deepnote_index_column": 3
        }
       ],
       "rows_bottom": null
      },
      "text/plain": "  key   A   B\n0  K0  A0  B0\n1  K1  A1  B1\n2  K2  A2  B2\n3  K3  A3  B3",
      "text/html": "<div>\n<style scoped>\n    .dataframe tbody tr th:only-of-type {\n        vertical-align: middle;\n    }\n\n    .dataframe tbody tr th {\n        vertical-align: top;\n    }\n\n    .dataframe thead th {\n        text-align: right;\n    }\n</style>\n<table border=\"1\" class=\"dataframe\">\n  <thead>\n    <tr style=\"text-align: right;\">\n      <th></th>\n      <th>key</th>\n      <th>A</th>\n      <th>B</th>\n    </tr>\n  </thead>\n  <tbody>\n    <tr>\n      <th>0</th>\n      <td>K0</td>\n      <td>A0</td>\n      <td>B0</td>\n    </tr>\n    <tr>\n      <th>1</th>\n      <td>K1</td>\n      <td>A1</td>\n      <td>B1</td>\n    </tr>\n    <tr>\n      <th>2</th>\n      <td>K2</td>\n      <td>A2</td>\n      <td>B2</td>\n    </tr>\n    <tr>\n      <th>3</th>\n      <td>K3</td>\n      <td>A3</td>\n      <td>B3</td>\n    </tr>\n  </tbody>\n</table>\n</div>"
     },
     "metadata": {}
    }
   ],
   "execution_count": null
  },
  {
   "cell_type": "code",
   "metadata": {
    "tags": [],
    "cell_id": "00012-27c1b9f1-49c4-4a87-b690-43eea96f095b",
    "deepnote_to_be_reexecuted": false,
    "source_hash": "ead05b6a",
    "execution_start": 1626055963601,
    "execution_millis": 1,
    "deepnote_cell_type": "code"
   },
   "source": "right = pd.DataFrame({\n     \"key\": [\"K0\", \"K1\", \"K2\", \"K3\"],\n     \"C\": [\"C0\", \"C1\", \"C2\", \"C3\"],\n     \"D\": [\"D0\", \"D1\", \"D2\", \"D3\"],\n})",
   "outputs": [],
   "execution_count": null
  },
  {
   "cell_type": "code",
   "metadata": {
    "tags": [],
    "cell_id": "00013-7117f7ba-9b39-4dd5-9e4c-bd745eef7c66",
    "deepnote_to_be_reexecuted": false,
    "source_hash": "65b24ea6",
    "execution_start": 1626055963644,
    "execution_millis": 43,
    "deepnote_cell_type": "code"
   },
   "source": "resuilt = pd.merge(left,right)\nresuilt",
   "outputs": [
    {
     "output_type": "execute_result",
     "execution_count": 12,
     "data": {
      "application/vnd.deepnote.dataframe.v2+json": {
       "row_count": 4,
       "column_count": 5,
       "columns": [
        {
         "name": "key",
         "dtype": "object",
         "stats": {
          "unique_count": 4,
          "nan_count": 0,
          "categories": [
           {
            "name": "K0",
            "count": 1
           },
           {
            "name": "K1",
            "count": 1
           },
           {
            "name": "2 others",
            "count": 2
           }
          ]
         }
        },
        {
         "name": "A",
         "dtype": "object",
         "stats": {
          "unique_count": 4,
          "nan_count": 0,
          "categories": [
           {
            "name": "A0",
            "count": 1
           },
           {
            "name": "A1",
            "count": 1
           },
           {
            "name": "2 others",
            "count": 2
           }
          ]
         }
        },
        {
         "name": "B",
         "dtype": "object",
         "stats": {
          "unique_count": 4,
          "nan_count": 0,
          "categories": [
           {
            "name": "B0",
            "count": 1
           },
           {
            "name": "B1",
            "count": 1
           },
           {
            "name": "2 others",
            "count": 2
           }
          ]
         }
        },
        {
         "name": "C",
         "dtype": "object",
         "stats": {
          "unique_count": 4,
          "nan_count": 0,
          "categories": [
           {
            "name": "C0",
            "count": 1
           },
           {
            "name": "C1",
            "count": 1
           },
           {
            "name": "2 others",
            "count": 2
           }
          ]
         }
        },
        {
         "name": "D",
         "dtype": "object",
         "stats": {
          "unique_count": 4,
          "nan_count": 0,
          "categories": [
           {
            "name": "D0",
            "count": 1
           },
           {
            "name": "D1",
            "count": 1
           },
           {
            "name": "2 others",
            "count": 2
           }
          ]
         }
        },
        {
         "name": "_deepnote_index_column",
         "dtype": "int64"
        }
       ],
       "rows_top": [
        {
         "key": "K0",
         "A": "A0",
         "B": "B0",
         "C": "C0",
         "D": "D0",
         "_deepnote_index_column": 0
        },
        {
         "key": "K1",
         "A": "A1",
         "B": "B1",
         "C": "C1",
         "D": "D1",
         "_deepnote_index_column": 1
        },
        {
         "key": "K2",
         "A": "A2",
         "B": "B2",
         "C": "C2",
         "D": "D2",
         "_deepnote_index_column": 2
        },
        {
         "key": "K3",
         "A": "A3",
         "B": "B3",
         "C": "C3",
         "D": "D3",
         "_deepnote_index_column": 3
        }
       ],
       "rows_bottom": null
      },
      "text/plain": "  key   A   B   C   D\n0  K0  A0  B0  C0  D0\n1  K1  A1  B1  C1  D1\n2  K2  A2  B2  C2  D2\n3  K3  A3  B3  C3  D3",
      "text/html": "<div>\n<style scoped>\n    .dataframe tbody tr th:only-of-type {\n        vertical-align: middle;\n    }\n\n    .dataframe tbody tr th {\n        vertical-align: top;\n    }\n\n    .dataframe thead th {\n        text-align: right;\n    }\n</style>\n<table border=\"1\" class=\"dataframe\">\n  <thead>\n    <tr style=\"text-align: right;\">\n      <th></th>\n      <th>key</th>\n      <th>A</th>\n      <th>B</th>\n      <th>C</th>\n      <th>D</th>\n    </tr>\n  </thead>\n  <tbody>\n    <tr>\n      <th>0</th>\n      <td>K0</td>\n      <td>A0</td>\n      <td>B0</td>\n      <td>C0</td>\n      <td>D0</td>\n    </tr>\n    <tr>\n      <th>1</th>\n      <td>K1</td>\n      <td>A1</td>\n      <td>B1</td>\n      <td>C1</td>\n      <td>D1</td>\n    </tr>\n    <tr>\n      <th>2</th>\n      <td>K2</td>\n      <td>A2</td>\n      <td>B2</td>\n      <td>C2</td>\n      <td>D2</td>\n    </tr>\n    <tr>\n      <th>3</th>\n      <td>K3</td>\n      <td>A3</td>\n      <td>B3</td>\n      <td>C3</td>\n      <td>D3</td>\n    </tr>\n  </tbody>\n</table>\n</div>"
     },
     "metadata": {}
    }
   ],
   "execution_count": null
  },
  {
   "cell_type": "code",
   "metadata": {
    "tags": [],
    "cell_id": "00014-b173d278-e3c9-4aa0-b677-a9f3c2785e17",
    "deepnote_to_be_reexecuted": false,
    "source_hash": "66c201e",
    "execution_start": 1626055963671,
    "execution_millis": 189,
    "deepnote_cell_type": "code"
   },
   "source": "result = pd.merge(left, right, on=\"key\")\nresult",
   "outputs": [
    {
     "output_type": "execute_result",
     "execution_count": 13,
     "data": {
      "application/vnd.deepnote.dataframe.v2+json": {
       "row_count": 4,
       "column_count": 5,
       "columns": [
        {
         "name": "key",
         "dtype": "object",
         "stats": {
          "unique_count": 4,
          "nan_count": 0,
          "categories": [
           {
            "name": "K0",
            "count": 1
           },
           {
            "name": "K1",
            "count": 1
           },
           {
            "name": "2 others",
            "count": 2
           }
          ]
         }
        },
        {
         "name": "A",
         "dtype": "object",
         "stats": {
          "unique_count": 4,
          "nan_count": 0,
          "categories": [
           {
            "name": "A0",
            "count": 1
           },
           {
            "name": "A1",
            "count": 1
           },
           {
            "name": "2 others",
            "count": 2
           }
          ]
         }
        },
        {
         "name": "B",
         "dtype": "object",
         "stats": {
          "unique_count": 4,
          "nan_count": 0,
          "categories": [
           {
            "name": "B0",
            "count": 1
           },
           {
            "name": "B1",
            "count": 1
           },
           {
            "name": "2 others",
            "count": 2
           }
          ]
         }
        },
        {
         "name": "C",
         "dtype": "object",
         "stats": {
          "unique_count": 4,
          "nan_count": 0,
          "categories": [
           {
            "name": "C0",
            "count": 1
           },
           {
            "name": "C1",
            "count": 1
           },
           {
            "name": "2 others",
            "count": 2
           }
          ]
         }
        },
        {
         "name": "D",
         "dtype": "object",
         "stats": {
          "unique_count": 4,
          "nan_count": 0,
          "categories": [
           {
            "name": "D0",
            "count": 1
           },
           {
            "name": "D1",
            "count": 1
           },
           {
            "name": "2 others",
            "count": 2
           }
          ]
         }
        },
        {
         "name": "_deepnote_index_column",
         "dtype": "int64"
        }
       ],
       "rows_top": [
        {
         "key": "K0",
         "A": "A0",
         "B": "B0",
         "C": "C0",
         "D": "D0",
         "_deepnote_index_column": 0
        },
        {
         "key": "K1",
         "A": "A1",
         "B": "B1",
         "C": "C1",
         "D": "D1",
         "_deepnote_index_column": 1
        },
        {
         "key": "K2",
         "A": "A2",
         "B": "B2",
         "C": "C2",
         "D": "D2",
         "_deepnote_index_column": 2
        },
        {
         "key": "K3",
         "A": "A3",
         "B": "B3",
         "C": "C3",
         "D": "D3",
         "_deepnote_index_column": 3
        }
       ],
       "rows_bottom": null
      },
      "text/plain": "  key   A   B   C   D\n0  K0  A0  B0  C0  D0\n1  K1  A1  B1  C1  D1\n2  K2  A2  B2  C2  D2\n3  K3  A3  B3  C3  D3",
      "text/html": "<div>\n<style scoped>\n    .dataframe tbody tr th:only-of-type {\n        vertical-align: middle;\n    }\n\n    .dataframe tbody tr th {\n        vertical-align: top;\n    }\n\n    .dataframe thead th {\n        text-align: right;\n    }\n</style>\n<table border=\"1\" class=\"dataframe\">\n  <thead>\n    <tr style=\"text-align: right;\">\n      <th></th>\n      <th>key</th>\n      <th>A</th>\n      <th>B</th>\n      <th>C</th>\n      <th>D</th>\n    </tr>\n  </thead>\n  <tbody>\n    <tr>\n      <th>0</th>\n      <td>K0</td>\n      <td>A0</td>\n      <td>B0</td>\n      <td>C0</td>\n      <td>D0</td>\n    </tr>\n    <tr>\n      <th>1</th>\n      <td>K1</td>\n      <td>A1</td>\n      <td>B1</td>\n      <td>C1</td>\n      <td>D1</td>\n    </tr>\n    <tr>\n      <th>2</th>\n      <td>K2</td>\n      <td>A2</td>\n      <td>B2</td>\n      <td>C2</td>\n      <td>D2</td>\n    </tr>\n    <tr>\n      <th>3</th>\n      <td>K3</td>\n      <td>A3</td>\n      <td>B3</td>\n      <td>C3</td>\n      <td>D3</td>\n    </tr>\n  </tbody>\n</table>\n</div>"
     },
     "metadata": {}
    }
   ],
   "execution_count": null
  },
  {
   "cell_type": "markdown",
   "source": "![](https://pandas.pydata.org/pandas-docs/stable/_images/merging_merge_on_key.png)",
   "metadata": {
    "tags": [],
    "cell_id": "00015-3e37e603-37ec-4031-85b2-e8221a2f807f",
    "deepnote_cell_type": "markdown"
   }
  },
  {
   "cell_type": "code",
   "metadata": {
    "tags": [],
    "cell_id": "00015-36235cd8-f129-47fc-a864-3a132fe666cc",
    "deepnote_to_be_reexecuted": false,
    "source_hash": "fe17df77",
    "execution_start": 1626055963757,
    "execution_millis": 103,
    "deepnote_cell_type": "code"
   },
   "source": "left = pd.DataFrame({\n        \"key1\": [\"K0\", \"K0\", \"K1\", \"K2\"],\n        \"key2\": [\"K0\", \"K1\", \"K0\", \"K1\"],\n        \"A\": [\"A0\", \"A1\", \"A2\", \"A3\"],\n        \"B\": [\"B0\", \"B1\", \"B2\", \"B3\"],\n})\nleft",
   "outputs": [
    {
     "output_type": "execute_result",
     "execution_count": 14,
     "data": {
      "application/vnd.deepnote.dataframe.v2+json": {
       "row_count": 4,
       "column_count": 4,
       "columns": [
        {
         "name": "key1",
         "dtype": "object",
         "stats": {
          "unique_count": 3,
          "nan_count": 0,
          "categories": [
           {
            "name": "K0",
            "count": 2
           },
           {
            "name": "K1",
            "count": 1
           },
           {
            "name": "K2",
            "count": 1
           }
          ]
         }
        },
        {
         "name": "key2",
         "dtype": "object",
         "stats": {
          "unique_count": 2,
          "nan_count": 0,
          "categories": [
           {
            "name": "K0",
            "count": 2
           },
           {
            "name": "K1",
            "count": 2
           }
          ]
         }
        },
        {
         "name": "A",
         "dtype": "object",
         "stats": {
          "unique_count": 4,
          "nan_count": 0,
          "categories": [
           {
            "name": "A0",
            "count": 1
           },
           {
            "name": "A1",
            "count": 1
           },
           {
            "name": "2 others",
            "count": 2
           }
          ]
         }
        },
        {
         "name": "B",
         "dtype": "object",
         "stats": {
          "unique_count": 4,
          "nan_count": 0,
          "categories": [
           {
            "name": "B0",
            "count": 1
           },
           {
            "name": "B1",
            "count": 1
           },
           {
            "name": "2 others",
            "count": 2
           }
          ]
         }
        },
        {
         "name": "_deepnote_index_column",
         "dtype": "int64"
        }
       ],
       "rows_top": [
        {
         "key1": "K0",
         "key2": "K0",
         "A": "A0",
         "B": "B0",
         "_deepnote_index_column": 0
        },
        {
         "key1": "K0",
         "key2": "K1",
         "A": "A1",
         "B": "B1",
         "_deepnote_index_column": 1
        },
        {
         "key1": "K1",
         "key2": "K0",
         "A": "A2",
         "B": "B2",
         "_deepnote_index_column": 2
        },
        {
         "key1": "K2",
         "key2": "K1",
         "A": "A3",
         "B": "B3",
         "_deepnote_index_column": 3
        }
       ],
       "rows_bottom": null
      },
      "text/plain": "  key1 key2   A   B\n0   K0   K0  A0  B0\n1   K0   K1  A1  B1\n2   K1   K0  A2  B2\n3   K2   K1  A3  B3",
      "text/html": "<div>\n<style scoped>\n    .dataframe tbody tr th:only-of-type {\n        vertical-align: middle;\n    }\n\n    .dataframe tbody tr th {\n        vertical-align: top;\n    }\n\n    .dataframe thead th {\n        text-align: right;\n    }\n</style>\n<table border=\"1\" class=\"dataframe\">\n  <thead>\n    <tr style=\"text-align: right;\">\n      <th></th>\n      <th>key1</th>\n      <th>key2</th>\n      <th>A</th>\n      <th>B</th>\n    </tr>\n  </thead>\n  <tbody>\n    <tr>\n      <th>0</th>\n      <td>K0</td>\n      <td>K0</td>\n      <td>A0</td>\n      <td>B0</td>\n    </tr>\n    <tr>\n      <th>1</th>\n      <td>K0</td>\n      <td>K1</td>\n      <td>A1</td>\n      <td>B1</td>\n    </tr>\n    <tr>\n      <th>2</th>\n      <td>K1</td>\n      <td>K0</td>\n      <td>A2</td>\n      <td>B2</td>\n    </tr>\n    <tr>\n      <th>3</th>\n      <td>K2</td>\n      <td>K1</td>\n      <td>A3</td>\n      <td>B3</td>\n    </tr>\n  </tbody>\n</table>\n</div>"
     },
     "metadata": {}
    }
   ],
   "execution_count": null
  },
  {
   "cell_type": "code",
   "metadata": {
    "tags": [],
    "cell_id": "00017-1fae1ca2-999a-4653-b755-6aaf5ff89e23",
    "deepnote_to_be_reexecuted": false,
    "source_hash": "d7351069",
    "execution_start": 1626055963798,
    "execution_millis": 0,
    "deepnote_cell_type": "code"
   },
   "source": "right = pd.DataFrame({\n     \"key1\": [\"K0\", \"K1\", \"K1\", \"K2\"],\n     \"key2\": [\"K0\", \"K0\", \"K0\", \"K0\"],\n     \"C\": [\"C0\", \"C1\", \"C2\", \"C3\"],\n     \"D\": [\"D0\", \"D1\", \"D2\", \"D3\"],\n})",
   "outputs": [],
   "execution_count": null
  },
  {
   "cell_type": "code",
   "metadata": {
    "tags": [],
    "cell_id": "00018-9372c63b-64c8-4a0e-b5a2-9e3d311db16d",
    "deepnote_to_be_reexecuted": false,
    "source_hash": "c6b648d",
    "execution_start": 1626055963817,
    "execution_millis": 9,
    "deepnote_cell_type": "code"
   },
   "source": "result = pd.merge(left,right,on=['key1','key2'])",
   "outputs": [],
   "execution_count": null
  },
  {
   "cell_type": "code",
   "metadata": {
    "tags": [],
    "cell_id": "00019-328976f4-99aa-48e7-a51a-dbf250327043",
    "deepnote_to_be_reexecuted": false,
    "source_hash": "bae0e1b5",
    "execution_start": 1626055963826,
    "execution_millis": 37,
    "deepnote_cell_type": "code"
   },
   "source": "result",
   "outputs": [
    {
     "output_type": "execute_result",
     "execution_count": 17,
     "data": {
      "application/vnd.deepnote.dataframe.v2+json": {
       "row_count": 3,
       "column_count": 6,
       "columns": [
        {
         "name": "key1",
         "dtype": "object",
         "stats": {
          "unique_count": 2,
          "nan_count": 0,
          "categories": [
           {
            "name": "K1",
            "count": 2
           },
           {
            "name": "K0",
            "count": 1
           }
          ]
         }
        },
        {
         "name": "key2",
         "dtype": "object",
         "stats": {
          "unique_count": 1,
          "nan_count": 0,
          "categories": [
           {
            "name": "K0",
            "count": 3
           }
          ]
         }
        },
        {
         "name": "A",
         "dtype": "object",
         "stats": {
          "unique_count": 2,
          "nan_count": 0,
          "categories": [
           {
            "name": "A2",
            "count": 2
           },
           {
            "name": "A0",
            "count": 1
           }
          ]
         }
        },
        {
         "name": "B",
         "dtype": "object",
         "stats": {
          "unique_count": 2,
          "nan_count": 0,
          "categories": [
           {
            "name": "B2",
            "count": 2
           },
           {
            "name": "B0",
            "count": 1
           }
          ]
         }
        },
        {
         "name": "C",
         "dtype": "object",
         "stats": {
          "unique_count": 3,
          "nan_count": 0,
          "categories": [
           {
            "name": "C0",
            "count": 1
           },
           {
            "name": "C1",
            "count": 1
           },
           {
            "name": "C2",
            "count": 1
           }
          ]
         }
        },
        {
         "name": "D",
         "dtype": "object",
         "stats": {
          "unique_count": 3,
          "nan_count": 0,
          "categories": [
           {
            "name": "D0",
            "count": 1
           },
           {
            "name": "D1",
            "count": 1
           },
           {
            "name": "D2",
            "count": 1
           }
          ]
         }
        },
        {
         "name": "_deepnote_index_column",
         "dtype": "int64"
        }
       ],
       "rows_top": [
        {
         "key1": "K0",
         "key2": "K0",
         "A": "A0",
         "B": "B0",
         "C": "C0",
         "D": "D0",
         "_deepnote_index_column": 0
        },
        {
         "key1": "K1",
         "key2": "K0",
         "A": "A2",
         "B": "B2",
         "C": "C1",
         "D": "D1",
         "_deepnote_index_column": 1
        },
        {
         "key1": "K1",
         "key2": "K0",
         "A": "A2",
         "B": "B2",
         "C": "C2",
         "D": "D2",
         "_deepnote_index_column": 2
        }
       ],
       "rows_bottom": null
      },
      "text/plain": "  key1 key2   A   B   C   D\n0   K0   K0  A0  B0  C0  D0\n1   K1   K0  A2  B2  C1  D1\n2   K1   K0  A2  B2  C2  D2",
      "text/html": "<div>\n<style scoped>\n    .dataframe tbody tr th:only-of-type {\n        vertical-align: middle;\n    }\n\n    .dataframe tbody tr th {\n        vertical-align: top;\n    }\n\n    .dataframe thead th {\n        text-align: right;\n    }\n</style>\n<table border=\"1\" class=\"dataframe\">\n  <thead>\n    <tr style=\"text-align: right;\">\n      <th></th>\n      <th>key1</th>\n      <th>key2</th>\n      <th>A</th>\n      <th>B</th>\n      <th>C</th>\n      <th>D</th>\n    </tr>\n  </thead>\n  <tbody>\n    <tr>\n      <th>0</th>\n      <td>K0</td>\n      <td>K0</td>\n      <td>A0</td>\n      <td>B0</td>\n      <td>C0</td>\n      <td>D0</td>\n    </tr>\n    <tr>\n      <th>1</th>\n      <td>K1</td>\n      <td>K0</td>\n      <td>A2</td>\n      <td>B2</td>\n      <td>C1</td>\n      <td>D1</td>\n    </tr>\n    <tr>\n      <th>2</th>\n      <td>K1</td>\n      <td>K0</td>\n      <td>A2</td>\n      <td>B2</td>\n      <td>C2</td>\n      <td>D2</td>\n    </tr>\n  </tbody>\n</table>\n</div>"
     },
     "metadata": {}
    }
   ],
   "execution_count": null
  },
  {
   "cell_type": "markdown",
   "source": "![](https://pandas.pydata.org/pandas-docs/stable/_images/merging_merge_on_key_multiple.png)",
   "metadata": {
    "tags": [],
    "cell_id": "00020-689e2687-178f-4e65-863f-9b05e879b55f",
    "deepnote_cell_type": "markdown"
   }
  },
  {
   "cell_type": "code",
   "metadata": {
    "tags": [],
    "cell_id": "00020-931d073c-408c-4194-8bb1-43dbde487cad",
    "deepnote_to_be_reexecuted": false,
    "source_hash": "47bd8d5d",
    "execution_start": 1626055963834,
    "execution_millis": 0,
    "deepnote_cell_type": "code"
   },
   "source": "result = pd.merge(left, right, how=\"left\", on=[\"key1\", \"key2\"])",
   "outputs": [],
   "execution_count": null
  },
  {
   "cell_type": "code",
   "metadata": {
    "tags": [],
    "cell_id": "00022-b0090fb7-91bc-4140-a514-2f27ee66f094",
    "deepnote_to_be_reexecuted": false,
    "source_hash": "bae0e1b5",
    "execution_start": 1626055963834,
    "execution_millis": 41,
    "deepnote_cell_type": "code"
   },
   "source": "result",
   "outputs": [
    {
     "output_type": "execute_result",
     "execution_count": 19,
     "data": {
      "application/vnd.deepnote.dataframe.v2+json": {
       "row_count": 5,
       "column_count": 6,
       "columns": [
        {
         "name": "key1",
         "dtype": "object",
         "stats": {
          "unique_count": 3,
          "nan_count": 0,
          "categories": [
           {
            "name": "K0",
            "count": 2
           },
           {
            "name": "K1",
            "count": 2
           },
           {
            "name": "K2",
            "count": 1
           }
          ]
         }
        },
        {
         "name": "key2",
         "dtype": "object",
         "stats": {
          "unique_count": 2,
          "nan_count": 0,
          "categories": [
           {
            "name": "K0",
            "count": 3
           },
           {
            "name": "K1",
            "count": 2
           }
          ]
         }
        },
        {
         "name": "A",
         "dtype": "object",
         "stats": {
          "unique_count": 4,
          "nan_count": 0,
          "categories": [
           {
            "name": "A2",
            "count": 2
           },
           {
            "name": "A0",
            "count": 1
           },
           {
            "name": "2 others",
            "count": 2
           }
          ]
         }
        },
        {
         "name": "B",
         "dtype": "object",
         "stats": {
          "unique_count": 4,
          "nan_count": 0,
          "categories": [
           {
            "name": "B2",
            "count": 2
           },
           {
            "name": "B0",
            "count": 1
           },
           {
            "name": "2 others",
            "count": 2
           }
          ]
         }
        },
        {
         "name": "C",
         "dtype": "object",
         "stats": {
          "unique_count": 3,
          "nan_count": 2,
          "categories": [
           {
            "name": "C0",
            "count": 1
           },
           {
            "name": "2 others",
            "count": 2
           },
           {
            "name": "Missing",
            "count": 2
           }
          ]
         }
        },
        {
         "name": "D",
         "dtype": "object",
         "stats": {
          "unique_count": 3,
          "nan_count": 2,
          "categories": [
           {
            "name": "D0",
            "count": 1
           },
           {
            "name": "2 others",
            "count": 2
           },
           {
            "name": "Missing",
            "count": 2
           }
          ]
         }
        },
        {
         "name": "_deepnote_index_column",
         "dtype": "int64"
        }
       ],
       "rows_top": [
        {
         "key1": "K0",
         "key2": "K0",
         "A": "A0",
         "B": "B0",
         "C": "C0",
         "D": "D0",
         "_deepnote_index_column": 0
        },
        {
         "key1": "K0",
         "key2": "K1",
         "A": "A1",
         "B": "B1",
         "C": "nan",
         "D": "nan",
         "_deepnote_index_column": 1
        },
        {
         "key1": "K1",
         "key2": "K0",
         "A": "A2",
         "B": "B2",
         "C": "C1",
         "D": "D1",
         "_deepnote_index_column": 2
        },
        {
         "key1": "K1",
         "key2": "K0",
         "A": "A2",
         "B": "B2",
         "C": "C2",
         "D": "D2",
         "_deepnote_index_column": 3
        },
        {
         "key1": "K2",
         "key2": "K1",
         "A": "A3",
         "B": "B3",
         "C": "nan",
         "D": "nan",
         "_deepnote_index_column": 4
        }
       ],
       "rows_bottom": null
      },
      "text/plain": "  key1 key2   A   B    C    D\n0   K0   K0  A0  B0   C0   D0\n1   K0   K1  A1  B1  NaN  NaN\n2   K1   K0  A2  B2   C1   D1\n3   K1   K0  A2  B2   C2   D2\n4   K2   K1  A3  B3  NaN  NaN",
      "text/html": "<div>\n<style scoped>\n    .dataframe tbody tr th:only-of-type {\n        vertical-align: middle;\n    }\n\n    .dataframe tbody tr th {\n        vertical-align: top;\n    }\n\n    .dataframe thead th {\n        text-align: right;\n    }\n</style>\n<table border=\"1\" class=\"dataframe\">\n  <thead>\n    <tr style=\"text-align: right;\">\n      <th></th>\n      <th>key1</th>\n      <th>key2</th>\n      <th>A</th>\n      <th>B</th>\n      <th>C</th>\n      <th>D</th>\n    </tr>\n  </thead>\n  <tbody>\n    <tr>\n      <th>0</th>\n      <td>K0</td>\n      <td>K0</td>\n      <td>A0</td>\n      <td>B0</td>\n      <td>C0</td>\n      <td>D0</td>\n    </tr>\n    <tr>\n      <th>1</th>\n      <td>K0</td>\n      <td>K1</td>\n      <td>A1</td>\n      <td>B1</td>\n      <td>NaN</td>\n      <td>NaN</td>\n    </tr>\n    <tr>\n      <th>2</th>\n      <td>K1</td>\n      <td>K0</td>\n      <td>A2</td>\n      <td>B2</td>\n      <td>C1</td>\n      <td>D1</td>\n    </tr>\n    <tr>\n      <th>3</th>\n      <td>K1</td>\n      <td>K0</td>\n      <td>A2</td>\n      <td>B2</td>\n      <td>C2</td>\n      <td>D2</td>\n    </tr>\n    <tr>\n      <th>4</th>\n      <td>K2</td>\n      <td>K1</td>\n      <td>A3</td>\n      <td>B3</td>\n      <td>NaN</td>\n      <td>NaN</td>\n    </tr>\n  </tbody>\n</table>\n</div>"
     },
     "metadata": {}
    }
   ],
   "execution_count": null
  },
  {
   "cell_type": "markdown",
   "source": "![](https://pandas.pydata.org/pandas-docs/stable/_images/merging_merge_on_key_left.png)",
   "metadata": {
    "tags": [],
    "cell_id": "00023-e41b6ae4-0502-4128-a024-60b18a36fa93",
    "deepnote_cell_type": "markdown"
   }
  },
  {
   "cell_type": "code",
   "metadata": {
    "tags": [],
    "cell_id": "00023-935f0cbf-26ae-4d70-a43b-7635c159fedc",
    "deepnote_to_be_reexecuted": false,
    "source_hash": "84715210",
    "execution_start": 1626055963872,
    "execution_millis": 11,
    "deepnote_cell_type": "code"
   },
   "source": "class display(object):\n    \"\"\"Display HTML representation of multiple objects\"\"\"\n    template = \"\"\"<div style=\"float: left; padding: 10px;\">\n    <p style='font-family:\"Courier New\", Courier, monospace'>{0}</p>{1}\n    </div>\"\"\"\n    def __init__(self, *args):\n        self.args = args\n        \n    def _repr_html_(self):\n        return '\\n'.join(self.template.format(a, eval(a)._repr_html_())\n                         for a in self.args)\n    \n    def __repr__(self):\n        return '\\n\\n'.join(a + '\\n' + repr(eval(a))\n                           for a in self.args)",
   "outputs": [],
   "execution_count": null
  },
  {
   "cell_type": "code",
   "metadata": {
    "tags": [],
    "cell_id": "00025-082a0425-f28c-4160-be86-cd37f2bf0624",
    "deepnote_to_be_reexecuted": false,
    "source_hash": "31c6aac3",
    "execution_start": 1626055963887,
    "execution_millis": 421,
    "deepnote_cell_type": "code"
   },
   "source": "pop = pd.read_csv('https://raw.githubusercontent.com/reddyprasade/DataSet-for-ML-and-Data-Science/master/DataSets/state-population.csv')\nareas = pd.read_csv('https://raw.githubusercontent.com/reddyprasade/DataSet-for-ML-and-Data-Science/master/DataSets/state-areas.csv')\nabbrevs = pd.read_csv('https://raw.githubusercontent.com/reddyprasade/DataSet-for-ML-and-Data-Science/master/DataSets/state-abbrevs.csv')\n\ndisplay('pop.head()', 'areas.head()', 'abbrevs.head()')",
   "outputs": [
    {
     "output_type": "execute_result",
     "execution_count": 21,
     "data": {
      "text/plain": "pop.head()\n  state/region     ages  year  population\n0           AL  under18  2012   1117489.0\n1           AL    total  2012   4817528.0\n2           AL  under18  2010   1130966.0\n3           AL    total  2010   4785570.0\n4           AL  under18  2011   1125763.0\n\nareas.head()\n        state  area (sq. mi)\n0     Alabama          52423\n1      Alaska         656425\n2     Arizona         114006\n3    Arkansas          53182\n4  California         163707\n\nabbrevs.head()\n        state abbreviation\n0     Alabama           AL\n1      Alaska           AK\n2     Arizona           AZ\n3    Arkansas           AR\n4  California           CA",
      "text/html": "<div style=\"float: left; padding: 10px;\">\n    <p style='font-family:\"Courier New\", Courier, monospace'>pop.head()</p><div>\n<style scoped>\n    .dataframe tbody tr th:only-of-type {\n        vertical-align: middle;\n    }\n\n    .dataframe tbody tr th {\n        vertical-align: top;\n    }\n\n    .dataframe thead th {\n        text-align: right;\n    }\n</style>\n<table border=\"1\" class=\"dataframe\">\n  <thead>\n    <tr style=\"text-align: right;\">\n      <th></th>\n      <th>state/region</th>\n      <th>ages</th>\n      <th>year</th>\n      <th>population</th>\n    </tr>\n  </thead>\n  <tbody>\n    <tr>\n      <th>0</th>\n      <td>AL</td>\n      <td>under18</td>\n      <td>2012</td>\n      <td>1117489.0</td>\n    </tr>\n    <tr>\n      <th>1</th>\n      <td>AL</td>\n      <td>total</td>\n      <td>2012</td>\n      <td>4817528.0</td>\n    </tr>\n    <tr>\n      <th>2</th>\n      <td>AL</td>\n      <td>under18</td>\n      <td>2010</td>\n      <td>1130966.0</td>\n    </tr>\n    <tr>\n      <th>3</th>\n      <td>AL</td>\n      <td>total</td>\n      <td>2010</td>\n      <td>4785570.0</td>\n    </tr>\n    <tr>\n      <th>4</th>\n      <td>AL</td>\n      <td>under18</td>\n      <td>2011</td>\n      <td>1125763.0</td>\n    </tr>\n  </tbody>\n</table>\n</div>\n    </div>\n<div style=\"float: left; padding: 10px;\">\n    <p style='font-family:\"Courier New\", Courier, monospace'>areas.head()</p><div>\n<style scoped>\n    .dataframe tbody tr th:only-of-type {\n        vertical-align: middle;\n    }\n\n    .dataframe tbody tr th {\n        vertical-align: top;\n    }\n\n    .dataframe thead th {\n        text-align: right;\n    }\n</style>\n<table border=\"1\" class=\"dataframe\">\n  <thead>\n    <tr style=\"text-align: right;\">\n      <th></th>\n      <th>state</th>\n      <th>area (sq. mi)</th>\n    </tr>\n  </thead>\n  <tbody>\n    <tr>\n      <th>0</th>\n      <td>Alabama</td>\n      <td>52423</td>\n    </tr>\n    <tr>\n      <th>1</th>\n      <td>Alaska</td>\n      <td>656425</td>\n    </tr>\n    <tr>\n      <th>2</th>\n      <td>Arizona</td>\n      <td>114006</td>\n    </tr>\n    <tr>\n      <th>3</th>\n      <td>Arkansas</td>\n      <td>53182</td>\n    </tr>\n    <tr>\n      <th>4</th>\n      <td>California</td>\n      <td>163707</td>\n    </tr>\n  </tbody>\n</table>\n</div>\n    </div>\n<div style=\"float: left; padding: 10px;\">\n    <p style='font-family:\"Courier New\", Courier, monospace'>abbrevs.head()</p><div>\n<style scoped>\n    .dataframe tbody tr th:only-of-type {\n        vertical-align: middle;\n    }\n\n    .dataframe tbody tr th {\n        vertical-align: top;\n    }\n\n    .dataframe thead th {\n        text-align: right;\n    }\n</style>\n<table border=\"1\" class=\"dataframe\">\n  <thead>\n    <tr style=\"text-align: right;\">\n      <th></th>\n      <th>state</th>\n      <th>abbreviation</th>\n    </tr>\n  </thead>\n  <tbody>\n    <tr>\n      <th>0</th>\n      <td>Alabama</td>\n      <td>AL</td>\n    </tr>\n    <tr>\n      <th>1</th>\n      <td>Alaska</td>\n      <td>AK</td>\n    </tr>\n    <tr>\n      <th>2</th>\n      <td>Arizona</td>\n      <td>AZ</td>\n    </tr>\n    <tr>\n      <th>3</th>\n      <td>Arkansas</td>\n      <td>AR</td>\n    </tr>\n    <tr>\n      <th>4</th>\n      <td>California</td>\n      <td>CA</td>\n    </tr>\n  </tbody>\n</table>\n</div>\n    </div>"
     },
     "metadata": {}
    }
   ],
   "execution_count": null
  },
  {
   "cell_type": "code",
   "metadata": {
    "tags": [],
    "cell_id": "00026-930cadff-851f-4947-9b8a-5e5adcebfeab",
    "deepnote_to_be_reexecuted": false,
    "source_hash": "8252c5ec",
    "execution_start": 1626055964306,
    "execution_millis": 18,
    "deepnote_cell_type": "code"
   },
   "source": "pop.shape,areas.shape,abbrevs.shape",
   "outputs": [
    {
     "output_type": "execute_result",
     "execution_count": 22,
     "data": {
      "text/plain": "((2544, 4), (52, 2), (51, 2))"
     },
     "metadata": {}
    }
   ],
   "execution_count": null
  },
  {
   "cell_type": "code",
   "metadata": {
    "tags": [],
    "cell_id": "00027-8c4cef33-2b6a-4360-afdd-4519d5258cf7",
    "deepnote_to_be_reexecuted": false,
    "source_hash": "7b74fd43",
    "execution_start": 1626055964319,
    "execution_millis": 25,
    "deepnote_cell_type": "code"
   },
   "source": "pop.isnull().sum()",
   "outputs": [
    {
     "output_type": "execute_result",
     "execution_count": 23,
     "data": {
      "text/plain": "state/region     0\nages             0\nyear             0\npopulation      20\ndtype: int64"
     },
     "metadata": {}
    }
   ],
   "execution_count": null
  },
  {
   "cell_type": "code",
   "metadata": {
    "tags": [],
    "cell_id": "00028-2ea9fcdf-a76d-4593-9a53-e20cbae7f9e9",
    "deepnote_to_be_reexecuted": false,
    "source_hash": "f5e13dfe",
    "execution_start": 1626055964338,
    "execution_millis": 17,
    "deepnote_cell_type": "code"
   },
   "source": "areas.isnull().sum()",
   "outputs": [
    {
     "output_type": "execute_result",
     "execution_count": 24,
     "data": {
      "text/plain": "state            0\narea (sq. mi)    0\ndtype: int64"
     },
     "metadata": {}
    }
   ],
   "execution_count": null
  },
  {
   "cell_type": "code",
   "metadata": {
    "tags": [],
    "cell_id": "00029-76897db2-c0e2-4d7f-b7ec-9871b85e3148",
    "deepnote_to_be_reexecuted": false,
    "source_hash": "7a75b361",
    "execution_start": 1626055964355,
    "execution_millis": 15,
    "deepnote_cell_type": "code"
   },
   "source": "abbrevs.isnull().sum()",
   "outputs": [
    {
     "output_type": "execute_result",
     "execution_count": 25,
     "data": {
      "text/plain": "state           0\nabbreviation    0\ndtype: int64"
     },
     "metadata": {}
    }
   ],
   "execution_count": null
  },
  {
   "cell_type": "code",
   "metadata": {
    "tags": [],
    "cell_id": "00030-a35201c8-f695-4925-b10e-7287a5c225bc",
    "deepnote_to_be_reexecuted": false,
    "source_hash": "97d5b7b",
    "execution_start": 1626055964372,
    "execution_millis": 52,
    "deepnote_cell_type": "code"
   },
   "source": "# merge is happend default == inner because we loos the information\nmerged  = pd.merge(pop,\n                    abbrevs,\n                    left_on=\"state/region\",\n                    right_on=\"abbreviation\",\n                    )\nmerged.head()",
   "outputs": [
    {
     "output_type": "execute_result",
     "execution_count": 26,
     "data": {
      "application/vnd.deepnote.dataframe.v2+json": {
       "row_count": 5,
       "column_count": 6,
       "columns": [
        {
         "name": "state/region",
         "dtype": "object",
         "stats": {
          "unique_count": 1,
          "nan_count": 0,
          "categories": [
           {
            "name": "AL",
            "count": 5
           }
          ]
         }
        },
        {
         "name": "ages",
         "dtype": "object",
         "stats": {
          "unique_count": 2,
          "nan_count": 0,
          "categories": [
           {
            "name": "under18",
            "count": 3
           },
           {
            "name": "total",
            "count": 2
           }
          ]
         }
        },
        {
         "name": "year",
         "dtype": "int64",
         "stats": {
          "unique_count": 3,
          "nan_count": 0,
          "min": "2010",
          "max": "2012",
          "histogram": [
           {
            "bin_start": 2010,
            "bin_end": 2010.2,
            "count": 2
           },
           {
            "bin_start": 2010.2,
            "bin_end": 2010.4,
            "count": 0
           },
           {
            "bin_start": 2010.4,
            "bin_end": 2010.6,
            "count": 0
           },
           {
            "bin_start": 2010.6,
            "bin_end": 2010.8,
            "count": 0
           },
           {
            "bin_start": 2010.8,
            "bin_end": 2011,
            "count": 0
           },
           {
            "bin_start": 2011,
            "bin_end": 2011.2,
            "count": 1
           },
           {
            "bin_start": 2011.2,
            "bin_end": 2011.4,
            "count": 0
           },
           {
            "bin_start": 2011.4,
            "bin_end": 2011.6,
            "count": 0
           },
           {
            "bin_start": 2011.6,
            "bin_end": 2011.8,
            "count": 0
           },
           {
            "bin_start": 2011.8,
            "bin_end": 2012,
            "count": 2
           }
          ]
         }
        },
        {
         "name": "population",
         "dtype": "float64",
         "stats": {
          "unique_count": 5,
          "nan_count": 0,
          "min": "1117489.0",
          "max": "4817528.0",
          "histogram": [
           {
            "bin_start": 1117489,
            "bin_end": 1487492.9,
            "count": 3
           },
           {
            "bin_start": 1487492.9,
            "bin_end": 1857496.8,
            "count": 0
           },
           {
            "bin_start": 1857496.8,
            "bin_end": 2227500.7,
            "count": 0
           },
           {
            "bin_start": 2227500.7,
            "bin_end": 2597504.6,
            "count": 0
           },
           {
            "bin_start": 2597504.6,
            "bin_end": 2967508.5,
            "count": 0
           },
           {
            "bin_start": 2967508.5,
            "bin_end": 3337512.4000000004,
            "count": 0
           },
           {
            "bin_start": 3337512.4000000004,
            "bin_end": 3707516.3000000003,
            "count": 0
           },
           {
            "bin_start": 3707516.3000000003,
            "bin_end": 4077520.2,
            "count": 0
           },
           {
            "bin_start": 4077520.2,
            "bin_end": 4447524.1,
            "count": 0
           },
           {
            "bin_start": 4447524.1,
            "bin_end": 4817528,
            "count": 2
           }
          ]
         }
        },
        {
         "name": "state",
         "dtype": "object",
         "stats": {
          "unique_count": 1,
          "nan_count": 0,
          "categories": [
           {
            "name": "Alabama",
            "count": 5
           }
          ]
         }
        },
        {
         "name": "abbreviation",
         "dtype": "object",
         "stats": {
          "unique_count": 1,
          "nan_count": 0,
          "categories": [
           {
            "name": "AL",
            "count": 5
           }
          ]
         }
        },
        {
         "name": "_deepnote_index_column",
         "dtype": "int64"
        }
       ],
       "rows_top": [
        {
         "state/region": "AL",
         "ages": "under18",
         "year": 2012,
         "population": 1117489,
         "state": "Alabama",
         "abbreviation": "AL",
         "_deepnote_index_column": 0
        },
        {
         "state/region": "AL",
         "ages": "total",
         "year": 2012,
         "population": 4817528,
         "state": "Alabama",
         "abbreviation": "AL",
         "_deepnote_index_column": 1
        },
        {
         "state/region": "AL",
         "ages": "under18",
         "year": 2010,
         "population": 1130966,
         "state": "Alabama",
         "abbreviation": "AL",
         "_deepnote_index_column": 2
        },
        {
         "state/region": "AL",
         "ages": "total",
         "year": 2010,
         "population": 4785570,
         "state": "Alabama",
         "abbreviation": "AL",
         "_deepnote_index_column": 3
        },
        {
         "state/region": "AL",
         "ages": "under18",
         "year": 2011,
         "population": 1125763,
         "state": "Alabama",
         "abbreviation": "AL",
         "_deepnote_index_column": 4
        }
       ],
       "rows_bottom": null
      },
      "text/plain": "  state/region     ages  year  population    state abbreviation\n0           AL  under18  2012   1117489.0  Alabama           AL\n1           AL    total  2012   4817528.0  Alabama           AL\n2           AL  under18  2010   1130966.0  Alabama           AL\n3           AL    total  2010   4785570.0  Alabama           AL\n4           AL  under18  2011   1125763.0  Alabama           AL",
      "text/html": "<div>\n<style scoped>\n    .dataframe tbody tr th:only-of-type {\n        vertical-align: middle;\n    }\n\n    .dataframe tbody tr th {\n        vertical-align: top;\n    }\n\n    .dataframe thead th {\n        text-align: right;\n    }\n</style>\n<table border=\"1\" class=\"dataframe\">\n  <thead>\n    <tr style=\"text-align: right;\">\n      <th></th>\n      <th>state/region</th>\n      <th>ages</th>\n      <th>year</th>\n      <th>population</th>\n      <th>state</th>\n      <th>abbreviation</th>\n    </tr>\n  </thead>\n  <tbody>\n    <tr>\n      <th>0</th>\n      <td>AL</td>\n      <td>under18</td>\n      <td>2012</td>\n      <td>1117489.0</td>\n      <td>Alabama</td>\n      <td>AL</td>\n    </tr>\n    <tr>\n      <th>1</th>\n      <td>AL</td>\n      <td>total</td>\n      <td>2012</td>\n      <td>4817528.0</td>\n      <td>Alabama</td>\n      <td>AL</td>\n    </tr>\n    <tr>\n      <th>2</th>\n      <td>AL</td>\n      <td>under18</td>\n      <td>2010</td>\n      <td>1130966.0</td>\n      <td>Alabama</td>\n      <td>AL</td>\n    </tr>\n    <tr>\n      <th>3</th>\n      <td>AL</td>\n      <td>total</td>\n      <td>2010</td>\n      <td>4785570.0</td>\n      <td>Alabama</td>\n      <td>AL</td>\n    </tr>\n    <tr>\n      <th>4</th>\n      <td>AL</td>\n      <td>under18</td>\n      <td>2011</td>\n      <td>1125763.0</td>\n      <td>Alabama</td>\n      <td>AL</td>\n    </tr>\n  </tbody>\n</table>\n</div>"
     },
     "metadata": {}
    }
   ],
   "execution_count": null
  },
  {
   "cell_type": "code",
   "metadata": {
    "tags": [],
    "cell_id": "00031-9ef9b5c2-e875-4af0-a4df-b89933923405",
    "deepnote_to_be_reexecuted": false,
    "source_hash": "309d457",
    "execution_start": 1626055964422,
    "execution_millis": 23,
    "deepnote_cell_type": "code"
   },
   "source": "merged.isnull().sum()",
   "outputs": [
    {
     "output_type": "execute_result",
     "execution_count": 27,
     "data": {
      "text/plain": "state/region    0\nages            0\nyear            0\npopulation      0\nstate           0\nabbreviation    0\ndtype: int64"
     },
     "metadata": {}
    }
   ],
   "execution_count": null
  },
  {
   "cell_type": "code",
   "metadata": {
    "tags": [],
    "cell_id": "00032-9018c3a6-d59d-41ef-a2d8-3afe54b3d880",
    "deepnote_to_be_reexecuted": false,
    "source_hash": "16c31688",
    "execution_start": 1626055964443,
    "execution_millis": 19,
    "deepnote_cell_type": "code"
   },
   "source": "merged.shape",
   "outputs": [
    {
     "output_type": "execute_result",
     "execution_count": 28,
     "data": {
      "text/plain": "(2448, 6)"
     },
     "metadata": {}
    }
   ],
   "execution_count": null
  },
  {
   "cell_type": "code",
   "metadata": {
    "tags": [],
    "cell_id": "00030-84a5668f-89f7-4cda-8b09-2551a08f1aef",
    "deepnote_to_be_reexecuted": false,
    "source_hash": "1d8e56ec",
    "execution_start": 1626055964458,
    "execution_millis": 54,
    "deepnote_cell_type": "code"
   },
   "source": "merged  = pd.merge(pop,\n                    abbrevs,\n                    left_on=\"state/region\",\n                    right_on=\"abbreviation\",\n                    how=\"outer\")\nmerged.head()",
   "outputs": [
    {
     "output_type": "execute_result",
     "execution_count": 29,
     "data": {
      "application/vnd.deepnote.dataframe.v2+json": {
       "row_count": 5,
       "column_count": 6,
       "columns": [
        {
         "name": "state/region",
         "dtype": "object",
         "stats": {
          "unique_count": 1,
          "nan_count": 0,
          "categories": [
           {
            "name": "AL",
            "count": 5
           }
          ]
         }
        },
        {
         "name": "ages",
         "dtype": "object",
         "stats": {
          "unique_count": 2,
          "nan_count": 0,
          "categories": [
           {
            "name": "under18",
            "count": 3
           },
           {
            "name": "total",
            "count": 2
           }
          ]
         }
        },
        {
         "name": "year",
         "dtype": "int64",
         "stats": {
          "unique_count": 3,
          "nan_count": 0,
          "min": "2010",
          "max": "2012",
          "histogram": [
           {
            "bin_start": 2010,
            "bin_end": 2010.2,
            "count": 2
           },
           {
            "bin_start": 2010.2,
            "bin_end": 2010.4,
            "count": 0
           },
           {
            "bin_start": 2010.4,
            "bin_end": 2010.6,
            "count": 0
           },
           {
            "bin_start": 2010.6,
            "bin_end": 2010.8,
            "count": 0
           },
           {
            "bin_start": 2010.8,
            "bin_end": 2011,
            "count": 0
           },
           {
            "bin_start": 2011,
            "bin_end": 2011.2,
            "count": 1
           },
           {
            "bin_start": 2011.2,
            "bin_end": 2011.4,
            "count": 0
           },
           {
            "bin_start": 2011.4,
            "bin_end": 2011.6,
            "count": 0
           },
           {
            "bin_start": 2011.6,
            "bin_end": 2011.8,
            "count": 0
           },
           {
            "bin_start": 2011.8,
            "bin_end": 2012,
            "count": 2
           }
          ]
         }
        },
        {
         "name": "population",
         "dtype": "float64",
         "stats": {
          "unique_count": 5,
          "nan_count": 0,
          "min": "1117489.0",
          "max": "4817528.0",
          "histogram": [
           {
            "bin_start": 1117489,
            "bin_end": 1487492.9,
            "count": 3
           },
           {
            "bin_start": 1487492.9,
            "bin_end": 1857496.8,
            "count": 0
           },
           {
            "bin_start": 1857496.8,
            "bin_end": 2227500.7,
            "count": 0
           },
           {
            "bin_start": 2227500.7,
            "bin_end": 2597504.6,
            "count": 0
           },
           {
            "bin_start": 2597504.6,
            "bin_end": 2967508.5,
            "count": 0
           },
           {
            "bin_start": 2967508.5,
            "bin_end": 3337512.4000000004,
            "count": 0
           },
           {
            "bin_start": 3337512.4000000004,
            "bin_end": 3707516.3000000003,
            "count": 0
           },
           {
            "bin_start": 3707516.3000000003,
            "bin_end": 4077520.2,
            "count": 0
           },
           {
            "bin_start": 4077520.2,
            "bin_end": 4447524.1,
            "count": 0
           },
           {
            "bin_start": 4447524.1,
            "bin_end": 4817528,
            "count": 2
           }
          ]
         }
        },
        {
         "name": "state",
         "dtype": "object",
         "stats": {
          "unique_count": 1,
          "nan_count": 0,
          "categories": [
           {
            "name": "Alabama",
            "count": 5
           }
          ]
         }
        },
        {
         "name": "abbreviation",
         "dtype": "object",
         "stats": {
          "unique_count": 1,
          "nan_count": 0,
          "categories": [
           {
            "name": "AL",
            "count": 5
           }
          ]
         }
        },
        {
         "name": "_deepnote_index_column",
         "dtype": "int64"
        }
       ],
       "rows_top": [
        {
         "state/region": "AL",
         "ages": "under18",
         "year": 2012,
         "population": 1117489,
         "state": "Alabama",
         "abbreviation": "AL",
         "_deepnote_index_column": 0
        },
        {
         "state/region": "AL",
         "ages": "total",
         "year": 2012,
         "population": 4817528,
         "state": "Alabama",
         "abbreviation": "AL",
         "_deepnote_index_column": 1
        },
        {
         "state/region": "AL",
         "ages": "under18",
         "year": 2010,
         "population": 1130966,
         "state": "Alabama",
         "abbreviation": "AL",
         "_deepnote_index_column": 2
        },
        {
         "state/region": "AL",
         "ages": "total",
         "year": 2010,
         "population": 4785570,
         "state": "Alabama",
         "abbreviation": "AL",
         "_deepnote_index_column": 3
        },
        {
         "state/region": "AL",
         "ages": "under18",
         "year": 2011,
         "population": 1125763,
         "state": "Alabama",
         "abbreviation": "AL",
         "_deepnote_index_column": 4
        }
       ],
       "rows_bottom": null
      },
      "text/plain": "  state/region     ages  year  population    state abbreviation\n0           AL  under18  2012   1117489.0  Alabama           AL\n1           AL    total  2012   4817528.0  Alabama           AL\n2           AL  under18  2010   1130966.0  Alabama           AL\n3           AL    total  2010   4785570.0  Alabama           AL\n4           AL  under18  2011   1125763.0  Alabama           AL",
      "text/html": "<div>\n<style scoped>\n    .dataframe tbody tr th:only-of-type {\n        vertical-align: middle;\n    }\n\n    .dataframe tbody tr th {\n        vertical-align: top;\n    }\n\n    .dataframe thead th {\n        text-align: right;\n    }\n</style>\n<table border=\"1\" class=\"dataframe\">\n  <thead>\n    <tr style=\"text-align: right;\">\n      <th></th>\n      <th>state/region</th>\n      <th>ages</th>\n      <th>year</th>\n      <th>population</th>\n      <th>state</th>\n      <th>abbreviation</th>\n    </tr>\n  </thead>\n  <tbody>\n    <tr>\n      <th>0</th>\n      <td>AL</td>\n      <td>under18</td>\n      <td>2012</td>\n      <td>1117489.0</td>\n      <td>Alabama</td>\n      <td>AL</td>\n    </tr>\n    <tr>\n      <th>1</th>\n      <td>AL</td>\n      <td>total</td>\n      <td>2012</td>\n      <td>4817528.0</td>\n      <td>Alabama</td>\n      <td>AL</td>\n    </tr>\n    <tr>\n      <th>2</th>\n      <td>AL</td>\n      <td>under18</td>\n      <td>2010</td>\n      <td>1130966.0</td>\n      <td>Alabama</td>\n      <td>AL</td>\n    </tr>\n    <tr>\n      <th>3</th>\n      <td>AL</td>\n      <td>total</td>\n      <td>2010</td>\n      <td>4785570.0</td>\n      <td>Alabama</td>\n      <td>AL</td>\n    </tr>\n    <tr>\n      <th>4</th>\n      <td>AL</td>\n      <td>under18</td>\n      <td>2011</td>\n      <td>1125763.0</td>\n      <td>Alabama</td>\n      <td>AL</td>\n    </tr>\n  </tbody>\n</table>\n</div>"
     },
     "metadata": {}
    }
   ],
   "execution_count": null
  },
  {
   "cell_type": "code",
   "metadata": {
    "tags": [],
    "cell_id": "00031-7a527896-f98d-4cd9-8838-39045c681cda",
    "deepnote_to_be_reexecuted": false,
    "source_hash": "309d457",
    "execution_start": 1626055964509,
    "execution_millis": 24,
    "deepnote_cell_type": "code"
   },
   "source": "merged.isnull().sum()",
   "outputs": [
    {
     "output_type": "execute_result",
     "execution_count": 30,
     "data": {
      "text/plain": "state/region     0\nages             0\nyear             0\npopulation      20\nstate           96\nabbreviation    96\ndtype: int64"
     },
     "metadata": {}
    }
   ],
   "execution_count": null
  },
  {
   "cell_type": "code",
   "metadata": {
    "tags": [],
    "cell_id": "00032-b5a376de-a054-4ca6-ab76-5cf8f4f1e7f5",
    "deepnote_to_be_reexecuted": false,
    "source_hash": "16c31688",
    "execution_start": 1626055964528,
    "execution_millis": 17,
    "deepnote_cell_type": "code"
   },
   "source": "merged.shape",
   "outputs": [
    {
     "output_type": "execute_result",
     "execution_count": 31,
     "data": {
      "text/plain": "(2544, 6)"
     },
     "metadata": {}
    }
   ],
   "execution_count": null
  },
  {
   "cell_type": "code",
   "metadata": {
    "tags": [],
    "cell_id": "00036-83e7c35b-b7c4-42ce-b13e-e391147097dc",
    "deepnote_to_be_reexecuted": false,
    "source_hash": "f33e6605",
    "execution_start": 1626055964542,
    "execution_millis": 51,
    "deepnote_cell_type": "code"
   },
   "source": "merged = merged.drop('abbreviation', 1) # drop duplicate info\nmerged.head()",
   "outputs": [
    {
     "output_type": "execute_result",
     "execution_count": 32,
     "data": {
      "application/vnd.deepnote.dataframe.v2+json": {
       "row_count": 5,
       "column_count": 5,
       "columns": [
        {
         "name": "state/region",
         "dtype": "object",
         "stats": {
          "unique_count": 1,
          "nan_count": 0,
          "categories": [
           {
            "name": "AL",
            "count": 5
           }
          ]
         }
        },
        {
         "name": "ages",
         "dtype": "object",
         "stats": {
          "unique_count": 2,
          "nan_count": 0,
          "categories": [
           {
            "name": "under18",
            "count": 3
           },
           {
            "name": "total",
            "count": 2
           }
          ]
         }
        },
        {
         "name": "year",
         "dtype": "int64",
         "stats": {
          "unique_count": 3,
          "nan_count": 0,
          "min": "2010",
          "max": "2012",
          "histogram": [
           {
            "bin_start": 2010,
            "bin_end": 2010.2,
            "count": 2
           },
           {
            "bin_start": 2010.2,
            "bin_end": 2010.4,
            "count": 0
           },
           {
            "bin_start": 2010.4,
            "bin_end": 2010.6,
            "count": 0
           },
           {
            "bin_start": 2010.6,
            "bin_end": 2010.8,
            "count": 0
           },
           {
            "bin_start": 2010.8,
            "bin_end": 2011,
            "count": 0
           },
           {
            "bin_start": 2011,
            "bin_end": 2011.2,
            "count": 1
           },
           {
            "bin_start": 2011.2,
            "bin_end": 2011.4,
            "count": 0
           },
           {
            "bin_start": 2011.4,
            "bin_end": 2011.6,
            "count": 0
           },
           {
            "bin_start": 2011.6,
            "bin_end": 2011.8,
            "count": 0
           },
           {
            "bin_start": 2011.8,
            "bin_end": 2012,
            "count": 2
           }
          ]
         }
        },
        {
         "name": "population",
         "dtype": "float64",
         "stats": {
          "unique_count": 5,
          "nan_count": 0,
          "min": "1117489.0",
          "max": "4817528.0",
          "histogram": [
           {
            "bin_start": 1117489,
            "bin_end": 1487492.9,
            "count": 3
           },
           {
            "bin_start": 1487492.9,
            "bin_end": 1857496.8,
            "count": 0
           },
           {
            "bin_start": 1857496.8,
            "bin_end": 2227500.7,
            "count": 0
           },
           {
            "bin_start": 2227500.7,
            "bin_end": 2597504.6,
            "count": 0
           },
           {
            "bin_start": 2597504.6,
            "bin_end": 2967508.5,
            "count": 0
           },
           {
            "bin_start": 2967508.5,
            "bin_end": 3337512.4000000004,
            "count": 0
           },
           {
            "bin_start": 3337512.4000000004,
            "bin_end": 3707516.3000000003,
            "count": 0
           },
           {
            "bin_start": 3707516.3000000003,
            "bin_end": 4077520.2,
            "count": 0
           },
           {
            "bin_start": 4077520.2,
            "bin_end": 4447524.1,
            "count": 0
           },
           {
            "bin_start": 4447524.1,
            "bin_end": 4817528,
            "count": 2
           }
          ]
         }
        },
        {
         "name": "state",
         "dtype": "object",
         "stats": {
          "unique_count": 1,
          "nan_count": 0,
          "categories": [
           {
            "name": "Alabama",
            "count": 5
           }
          ]
         }
        },
        {
         "name": "_deepnote_index_column",
         "dtype": "int64"
        }
       ],
       "rows_top": [
        {
         "state/region": "AL",
         "ages": "under18",
         "year": 2012,
         "population": 1117489,
         "state": "Alabama",
         "_deepnote_index_column": 0
        },
        {
         "state/region": "AL",
         "ages": "total",
         "year": 2012,
         "population": 4817528,
         "state": "Alabama",
         "_deepnote_index_column": 1
        },
        {
         "state/region": "AL",
         "ages": "under18",
         "year": 2010,
         "population": 1130966,
         "state": "Alabama",
         "_deepnote_index_column": 2
        },
        {
         "state/region": "AL",
         "ages": "total",
         "year": 2010,
         "population": 4785570,
         "state": "Alabama",
         "_deepnote_index_column": 3
        },
        {
         "state/region": "AL",
         "ages": "under18",
         "year": 2011,
         "population": 1125763,
         "state": "Alabama",
         "_deepnote_index_column": 4
        }
       ],
       "rows_bottom": null
      },
      "text/plain": "  state/region     ages  year  population    state\n0           AL  under18  2012   1117489.0  Alabama\n1           AL    total  2012   4817528.0  Alabama\n2           AL  under18  2010   1130966.0  Alabama\n3           AL    total  2010   4785570.0  Alabama\n4           AL  under18  2011   1125763.0  Alabama",
      "text/html": "<div>\n<style scoped>\n    .dataframe tbody tr th:only-of-type {\n        vertical-align: middle;\n    }\n\n    .dataframe tbody tr th {\n        vertical-align: top;\n    }\n\n    .dataframe thead th {\n        text-align: right;\n    }\n</style>\n<table border=\"1\" class=\"dataframe\">\n  <thead>\n    <tr style=\"text-align: right;\">\n      <th></th>\n      <th>state/region</th>\n      <th>ages</th>\n      <th>year</th>\n      <th>population</th>\n      <th>state</th>\n    </tr>\n  </thead>\n  <tbody>\n    <tr>\n      <th>0</th>\n      <td>AL</td>\n      <td>under18</td>\n      <td>2012</td>\n      <td>1117489.0</td>\n      <td>Alabama</td>\n    </tr>\n    <tr>\n      <th>1</th>\n      <td>AL</td>\n      <td>total</td>\n      <td>2012</td>\n      <td>4817528.0</td>\n      <td>Alabama</td>\n    </tr>\n    <tr>\n      <th>2</th>\n      <td>AL</td>\n      <td>under18</td>\n      <td>2010</td>\n      <td>1130966.0</td>\n      <td>Alabama</td>\n    </tr>\n    <tr>\n      <th>3</th>\n      <td>AL</td>\n      <td>total</td>\n      <td>2010</td>\n      <td>4785570.0</td>\n      <td>Alabama</td>\n    </tr>\n    <tr>\n      <th>4</th>\n      <td>AL</td>\n      <td>under18</td>\n      <td>2011</td>\n      <td>1125763.0</td>\n      <td>Alabama</td>\n    </tr>\n  </tbody>\n</table>\n</div>"
     },
     "metadata": {}
    }
   ],
   "execution_count": null
  },
  {
   "cell_type": "code",
   "metadata": {
    "tags": [],
    "cell_id": "00037-b2f580f7-9a67-494a-9077-800c2b4fb8d1",
    "deepnote_to_be_reexecuted": false,
    "source_hash": "2ff1d83f",
    "execution_start": 1626055964587,
    "execution_millis": 19,
    "deepnote_cell_type": "code"
   },
   "source": "\nmerged.isnull().any()",
   "outputs": [
    {
     "output_type": "execute_result",
     "execution_count": 33,
     "data": {
      "text/plain": "state/region    False\nages            False\nyear            False\npopulation       True\nstate            True\ndtype: bool"
     },
     "metadata": {}
    }
   ],
   "execution_count": null
  },
  {
   "cell_type": "code",
   "metadata": {
    "tags": [],
    "cell_id": "00038-9a6521e2-e141-4563-866c-b04dfb4dc3e2",
    "deepnote_to_be_reexecuted": false,
    "source_hash": "db71c019",
    "execution_start": 1626055964604,
    "execution_millis": 49,
    "deepnote_cell_type": "code"
   },
   "source": "merged[merged['population'].isnull()]",
   "outputs": [
    {
     "output_type": "execute_result",
     "execution_count": 34,
     "data": {
      "application/vnd.deepnote.dataframe.v2+json": {
       "row_count": 20,
       "column_count": 5,
       "columns": [
        {
         "name": "state/region",
         "dtype": "object",
         "stats": {
          "unique_count": 1,
          "nan_count": 0,
          "categories": [
           {
            "name": "PR",
            "count": 20
           }
          ]
         }
        },
        {
         "name": "ages",
         "dtype": "object",
         "stats": {
          "unique_count": 2,
          "nan_count": 0,
          "categories": [
           {
            "name": "under18",
            "count": 10
           },
           {
            "name": "total",
            "count": 10
           }
          ]
         }
        },
        {
         "name": "year",
         "dtype": "int64",
         "stats": {
          "unique_count": 10,
          "nan_count": 0,
          "min": "1990",
          "max": "1999",
          "histogram": [
           {
            "bin_start": 1990,
            "bin_end": 1990.9,
            "count": 2
           },
           {
            "bin_start": 1990.9,
            "bin_end": 1991.8,
            "count": 2
           },
           {
            "bin_start": 1991.8,
            "bin_end": 1992.7,
            "count": 2
           },
           {
            "bin_start": 1992.7,
            "bin_end": 1993.6,
            "count": 2
           },
           {
            "bin_start": 1993.6,
            "bin_end": 1994.5,
            "count": 2
           },
           {
            "bin_start": 1994.5,
            "bin_end": 1995.4,
            "count": 2
           },
           {
            "bin_start": 1995.4,
            "bin_end": 1996.3,
            "count": 2
           },
           {
            "bin_start": 1996.3,
            "bin_end": 1997.2,
            "count": 2
           },
           {
            "bin_start": 1997.2,
            "bin_end": 1998.1,
            "count": 2
           },
           {
            "bin_start": 1998.1,
            "bin_end": 1999,
            "count": 2
           }
          ]
         }
        },
        {
         "name": "population",
         "dtype": "float64",
         "stats": {
          "unique_count": 0,
          "nan_count": 20,
          "min": null,
          "max": null,
          "histogram": [
           {
            "bin_start": 0,
            "bin_end": 0.1,
            "count": 0
           },
           {
            "bin_start": 0.1,
            "bin_end": 0.2,
            "count": 0
           },
           {
            "bin_start": 0.2,
            "bin_end": 0.30000000000000004,
            "count": 0
           },
           {
            "bin_start": 0.30000000000000004,
            "bin_end": 0.4,
            "count": 0
           },
           {
            "bin_start": 0.4,
            "bin_end": 0.5,
            "count": 0
           },
           {
            "bin_start": 0.5,
            "bin_end": 0.6000000000000001,
            "count": 0
           },
           {
            "bin_start": 0.6000000000000001,
            "bin_end": 0.7000000000000001,
            "count": 0
           },
           {
            "bin_start": 0.7000000000000001,
            "bin_end": 0.8,
            "count": 0
           },
           {
            "bin_start": 0.8,
            "bin_end": 0.9,
            "count": 0
           },
           {
            "bin_start": 0.9,
            "bin_end": 1,
            "count": 0
           }
          ]
         }
        },
        {
         "name": "state",
         "dtype": "object",
         "stats": {
          "unique_count": 0,
          "nan_count": 20,
          "categories": [
           {
            "name": "Missing",
            "count": 20
           }
          ]
         }
        },
        {
         "name": "_deepnote_index_column",
         "dtype": "int64"
        }
       ],
       "rows_top": [
        {
         "state/region": "PR",
         "ages": "under18",
         "year": 1990,
         "population": "nan",
         "state": "nan",
         "_deepnote_index_column": 2448
        },
        {
         "state/region": "PR",
         "ages": "total",
         "year": 1990,
         "population": "nan",
         "state": "nan",
         "_deepnote_index_column": 2449
        },
        {
         "state/region": "PR",
         "ages": "total",
         "year": 1991,
         "population": "nan",
         "state": "nan",
         "_deepnote_index_column": 2450
        },
        {
         "state/region": "PR",
         "ages": "under18",
         "year": 1991,
         "population": "nan",
         "state": "nan",
         "_deepnote_index_column": 2451
        },
        {
         "state/region": "PR",
         "ages": "total",
         "year": 1993,
         "population": "nan",
         "state": "nan",
         "_deepnote_index_column": 2452
        },
        {
         "state/region": "PR",
         "ages": "under18",
         "year": 1993,
         "population": "nan",
         "state": "nan",
         "_deepnote_index_column": 2453
        },
        {
         "state/region": "PR",
         "ages": "under18",
         "year": 1992,
         "population": "nan",
         "state": "nan",
         "_deepnote_index_column": 2454
        },
        {
         "state/region": "PR",
         "ages": "total",
         "year": 1992,
         "population": "nan",
         "state": "nan",
         "_deepnote_index_column": 2455
        },
        {
         "state/region": "PR",
         "ages": "under18",
         "year": 1994,
         "population": "nan",
         "state": "nan",
         "_deepnote_index_column": 2456
        },
        {
         "state/region": "PR",
         "ages": "total",
         "year": 1994,
         "population": "nan",
         "state": "nan",
         "_deepnote_index_column": 2457
        },
        {
         "state/region": "PR",
         "ages": "total",
         "year": 1995,
         "population": "nan",
         "state": "nan",
         "_deepnote_index_column": 2458
        },
        {
         "state/region": "PR",
         "ages": "under18",
         "year": 1995,
         "population": "nan",
         "state": "nan",
         "_deepnote_index_column": 2459
        },
        {
         "state/region": "PR",
         "ages": "under18",
         "year": 1996,
         "population": "nan",
         "state": "nan",
         "_deepnote_index_column": 2460
        },
        {
         "state/region": "PR",
         "ages": "total",
         "year": 1996,
         "population": "nan",
         "state": "nan",
         "_deepnote_index_column": 2461
        },
        {
         "state/region": "PR",
         "ages": "under18",
         "year": 1998,
         "population": "nan",
         "state": "nan",
         "_deepnote_index_column": 2462
        },
        {
         "state/region": "PR",
         "ages": "total",
         "year": 1998,
         "population": "nan",
         "state": "nan",
         "_deepnote_index_column": 2463
        },
        {
         "state/region": "PR",
         "ages": "total",
         "year": 1997,
         "population": "nan",
         "state": "nan",
         "_deepnote_index_column": 2464
        },
        {
         "state/region": "PR",
         "ages": "under18",
         "year": 1997,
         "population": "nan",
         "state": "nan",
         "_deepnote_index_column": 2465
        },
        {
         "state/region": "PR",
         "ages": "total",
         "year": 1999,
         "population": "nan",
         "state": "nan",
         "_deepnote_index_column": 2466
        },
        {
         "state/region": "PR",
         "ages": "under18",
         "year": 1999,
         "population": "nan",
         "state": "nan",
         "_deepnote_index_column": 2467
        }
       ],
       "rows_bottom": null
      },
      "text/plain": "     state/region     ages  year  population state\n2448           PR  under18  1990         NaN   NaN\n2449           PR    total  1990         NaN   NaN\n2450           PR    total  1991         NaN   NaN\n2451           PR  under18  1991         NaN   NaN\n2452           PR    total  1993         NaN   NaN\n2453           PR  under18  1993         NaN   NaN\n2454           PR  under18  1992         NaN   NaN\n2455           PR    total  1992         NaN   NaN\n2456           PR  under18  1994         NaN   NaN\n2457           PR    total  1994         NaN   NaN\n2458           PR    total  1995         NaN   NaN\n2459           PR  under18  1995         NaN   NaN\n2460           PR  under18  1996         NaN   NaN\n2461           PR    total  1996         NaN   NaN\n2462           PR  under18  1998         NaN   NaN\n2463           PR    total  1998         NaN   NaN\n2464           PR    total  1997         NaN   NaN\n2465           PR  under18  1997         NaN   NaN\n2466           PR    total  1999         NaN   NaN\n2467           PR  under18  1999         NaN   NaN",
      "text/html": "<div>\n<style scoped>\n    .dataframe tbody tr th:only-of-type {\n        vertical-align: middle;\n    }\n\n    .dataframe tbody tr th {\n        vertical-align: top;\n    }\n\n    .dataframe thead th {\n        text-align: right;\n    }\n</style>\n<table border=\"1\" class=\"dataframe\">\n  <thead>\n    <tr style=\"text-align: right;\">\n      <th></th>\n      <th>state/region</th>\n      <th>ages</th>\n      <th>year</th>\n      <th>population</th>\n      <th>state</th>\n    </tr>\n  </thead>\n  <tbody>\n    <tr>\n      <th>2448</th>\n      <td>PR</td>\n      <td>under18</td>\n      <td>1990</td>\n      <td>NaN</td>\n      <td>NaN</td>\n    </tr>\n    <tr>\n      <th>2449</th>\n      <td>PR</td>\n      <td>total</td>\n      <td>1990</td>\n      <td>NaN</td>\n      <td>NaN</td>\n    </tr>\n    <tr>\n      <th>2450</th>\n      <td>PR</td>\n      <td>total</td>\n      <td>1991</td>\n      <td>NaN</td>\n      <td>NaN</td>\n    </tr>\n    <tr>\n      <th>2451</th>\n      <td>PR</td>\n      <td>under18</td>\n      <td>1991</td>\n      <td>NaN</td>\n      <td>NaN</td>\n    </tr>\n    <tr>\n      <th>2452</th>\n      <td>PR</td>\n      <td>total</td>\n      <td>1993</td>\n      <td>NaN</td>\n      <td>NaN</td>\n    </tr>\n    <tr>\n      <th>2453</th>\n      <td>PR</td>\n      <td>under18</td>\n      <td>1993</td>\n      <td>NaN</td>\n      <td>NaN</td>\n    </tr>\n    <tr>\n      <th>2454</th>\n      <td>PR</td>\n      <td>under18</td>\n      <td>1992</td>\n      <td>NaN</td>\n      <td>NaN</td>\n    </tr>\n    <tr>\n      <th>2455</th>\n      <td>PR</td>\n      <td>total</td>\n      <td>1992</td>\n      <td>NaN</td>\n      <td>NaN</td>\n    </tr>\n    <tr>\n      <th>2456</th>\n      <td>PR</td>\n      <td>under18</td>\n      <td>1994</td>\n      <td>NaN</td>\n      <td>NaN</td>\n    </tr>\n    <tr>\n      <th>2457</th>\n      <td>PR</td>\n      <td>total</td>\n      <td>1994</td>\n      <td>NaN</td>\n      <td>NaN</td>\n    </tr>\n    <tr>\n      <th>2458</th>\n      <td>PR</td>\n      <td>total</td>\n      <td>1995</td>\n      <td>NaN</td>\n      <td>NaN</td>\n    </tr>\n    <tr>\n      <th>2459</th>\n      <td>PR</td>\n      <td>under18</td>\n      <td>1995</td>\n      <td>NaN</td>\n      <td>NaN</td>\n    </tr>\n    <tr>\n      <th>2460</th>\n      <td>PR</td>\n      <td>under18</td>\n      <td>1996</td>\n      <td>NaN</td>\n      <td>NaN</td>\n    </tr>\n    <tr>\n      <th>2461</th>\n      <td>PR</td>\n      <td>total</td>\n      <td>1996</td>\n      <td>NaN</td>\n      <td>NaN</td>\n    </tr>\n    <tr>\n      <th>2462</th>\n      <td>PR</td>\n      <td>under18</td>\n      <td>1998</td>\n      <td>NaN</td>\n      <td>NaN</td>\n    </tr>\n    <tr>\n      <th>2463</th>\n      <td>PR</td>\n      <td>total</td>\n      <td>1998</td>\n      <td>NaN</td>\n      <td>NaN</td>\n    </tr>\n    <tr>\n      <th>2464</th>\n      <td>PR</td>\n      <td>total</td>\n      <td>1997</td>\n      <td>NaN</td>\n      <td>NaN</td>\n    </tr>\n    <tr>\n      <th>2465</th>\n      <td>PR</td>\n      <td>under18</td>\n      <td>1997</td>\n      <td>NaN</td>\n      <td>NaN</td>\n    </tr>\n    <tr>\n      <th>2466</th>\n      <td>PR</td>\n      <td>total</td>\n      <td>1999</td>\n      <td>NaN</td>\n      <td>NaN</td>\n    </tr>\n    <tr>\n      <th>2467</th>\n      <td>PR</td>\n      <td>under18</td>\n      <td>1999</td>\n      <td>NaN</td>\n      <td>NaN</td>\n    </tr>\n  </tbody>\n</table>\n</div>"
     },
     "metadata": {}
    }
   ],
   "execution_count": null
  },
  {
   "cell_type": "code",
   "metadata": {
    "tags": [],
    "cell_id": "00039-16cb3531-6a53-4242-8ba4-300238077461",
    "deepnote_to_be_reexecuted": false,
    "source_hash": "b71c214c",
    "execution_start": 1626055964651,
    "execution_millis": 58,
    "deepnote_cell_type": "code"
   },
   "source": "merged[merged['state'].isnull()]",
   "outputs": [
    {
     "output_type": "execute_result",
     "execution_count": 35,
     "data": {
      "application/vnd.deepnote.dataframe.v2+json": {
       "row_count": 96,
       "column_count": 5,
       "columns": [
        {
         "name": "state/region",
         "dtype": "object",
         "stats": {
          "unique_count": 2,
          "nan_count": 0,
          "categories": [
           {
            "name": "PR",
            "count": 48
           },
           {
            "name": "USA",
            "count": 48
           }
          ]
         }
        },
        {
         "name": "ages",
         "dtype": "object",
         "stats": {
          "unique_count": 2,
          "nan_count": 0,
          "categories": [
           {
            "name": "under18",
            "count": 48
           },
           {
            "name": "total",
            "count": 48
           }
          ]
         }
        },
        {
         "name": "year",
         "dtype": "int64",
         "stats": {
          "unique_count": 24,
          "nan_count": 0,
          "min": "1990",
          "max": "2013",
          "histogram": [
           {
            "bin_start": 1990,
            "bin_end": 1992.3,
            "count": 12
           },
           {
            "bin_start": 1992.3,
            "bin_end": 1994.6,
            "count": 8
           },
           {
            "bin_start": 1994.6,
            "bin_end": 1996.9,
            "count": 8
           },
           {
            "bin_start": 1996.9,
            "bin_end": 1999.2,
            "count": 12
           },
           {
            "bin_start": 1999.2,
            "bin_end": 2001.5,
            "count": 8
           },
           {
            "bin_start": 2001.5,
            "bin_end": 2003.8,
            "count": 8
           },
           {
            "bin_start": 2003.8,
            "bin_end": 2006.1,
            "count": 12
           },
           {
            "bin_start": 2006.1,
            "bin_end": 2008.4,
            "count": 8
           },
           {
            "bin_start": 2008.4,
            "bin_end": 2010.7,
            "count": 8
           },
           {
            "bin_start": 2010.7,
            "bin_end": 2013,
            "count": 12
           }
          ]
         }
        },
        {
         "name": "population",
         "dtype": "float64",
         "stats": {
          "unique_count": 76,
          "nan_count": 20,
          "min": "814068.0",
          "max": "316128839.0",
          "histogram": [
           {
            "bin_start": 814068,
            "bin_end": 32345545.1,
            "count": 28
           },
           {
            "bin_start": 32345545.1,
            "bin_end": 63877022.2,
            "count": 0
           },
           {
            "bin_start": 63877022.2,
            "bin_end": 95408499.30000001,
            "count": 24
           },
           {
            "bin_start": 95408499.30000001,
            "bin_end": 126939976.4,
            "count": 0
           },
           {
            "bin_start": 126939976.4,
            "bin_end": 158471453.5,
            "count": 0
           },
           {
            "bin_start": 158471453.5,
            "bin_end": 190002930.60000002,
            "count": 0
           },
           {
            "bin_start": 190002930.60000002,
            "bin_end": 221534407.70000002,
            "count": 0
           },
           {
            "bin_start": 221534407.70000002,
            "bin_end": 253065884.8,
            "count": 2
           },
           {
            "bin_start": 253065884.8,
            "bin_end": 284597361.90000004,
            "count": 9
           },
           {
            "bin_start": 284597361.90000004,
            "bin_end": 316128839,
            "count": 13
           }
          ]
         }
        },
        {
         "name": "state",
         "dtype": "object",
         "stats": {
          "unique_count": 0,
          "nan_count": 96,
          "categories": [
           {
            "name": "Missing",
            "count": 96
           }
          ]
         }
        },
        {
         "name": "_deepnote_index_column",
         "dtype": "int64"
        }
       ],
       "rows_top": [
        {
         "state/region": "PR",
         "ages": "under18",
         "year": 1990,
         "population": "nan",
         "state": "nan",
         "_deepnote_index_column": 2448
        },
        {
         "state/region": "PR",
         "ages": "total",
         "year": 1990,
         "population": "nan",
         "state": "nan",
         "_deepnote_index_column": 2449
        },
        {
         "state/region": "PR",
         "ages": "total",
         "year": 1991,
         "population": "nan",
         "state": "nan",
         "_deepnote_index_column": 2450
        },
        {
         "state/region": "PR",
         "ages": "under18",
         "year": 1991,
         "population": "nan",
         "state": "nan",
         "_deepnote_index_column": 2451
        },
        {
         "state/region": "PR",
         "ages": "total",
         "year": 1993,
         "population": "nan",
         "state": "nan",
         "_deepnote_index_column": 2452
        },
        {
         "state/region": "PR",
         "ages": "under18",
         "year": 1993,
         "population": "nan",
         "state": "nan",
         "_deepnote_index_column": 2453
        },
        {
         "state/region": "PR",
         "ages": "under18",
         "year": 1992,
         "population": "nan",
         "state": "nan",
         "_deepnote_index_column": 2454
        },
        {
         "state/region": "PR",
         "ages": "total",
         "year": 1992,
         "population": "nan",
         "state": "nan",
         "_deepnote_index_column": 2455
        },
        {
         "state/region": "PR",
         "ages": "under18",
         "year": 1994,
         "population": "nan",
         "state": "nan",
         "_deepnote_index_column": 2456
        },
        {
         "state/region": "PR",
         "ages": "total",
         "year": 1994,
         "population": "nan",
         "state": "nan",
         "_deepnote_index_column": 2457
        },
        {
         "state/region": "PR",
         "ages": "total",
         "year": 1995,
         "population": "nan",
         "state": "nan",
         "_deepnote_index_column": 2458
        },
        {
         "state/region": "PR",
         "ages": "under18",
         "year": 1995,
         "population": "nan",
         "state": "nan",
         "_deepnote_index_column": 2459
        },
        {
         "state/region": "PR",
         "ages": "under18",
         "year": 1996,
         "population": "nan",
         "state": "nan",
         "_deepnote_index_column": 2460
        },
        {
         "state/region": "PR",
         "ages": "total",
         "year": 1996,
         "population": "nan",
         "state": "nan",
         "_deepnote_index_column": 2461
        },
        {
         "state/region": "PR",
         "ages": "under18",
         "year": 1998,
         "population": "nan",
         "state": "nan",
         "_deepnote_index_column": 2462
        },
        {
         "state/region": "PR",
         "ages": "total",
         "year": 1998,
         "population": "nan",
         "state": "nan",
         "_deepnote_index_column": 2463
        },
        {
         "state/region": "PR",
         "ages": "total",
         "year": 1997,
         "population": "nan",
         "state": "nan",
         "_deepnote_index_column": 2464
        },
        {
         "state/region": "PR",
         "ages": "under18",
         "year": 1997,
         "population": "nan",
         "state": "nan",
         "_deepnote_index_column": 2465
        },
        {
         "state/region": "PR",
         "ages": "total",
         "year": 1999,
         "population": "nan",
         "state": "nan",
         "_deepnote_index_column": 2466
        },
        {
         "state/region": "PR",
         "ages": "under18",
         "year": 1999,
         "population": "nan",
         "state": "nan",
         "_deepnote_index_column": 2467
        },
        {
         "state/region": "PR",
         "ages": "total",
         "year": 2000,
         "population": 3810605,
         "state": "nan",
         "_deepnote_index_column": 2468
        },
        {
         "state/region": "PR",
         "ages": "under18",
         "year": 2000,
         "population": 1089063,
         "state": "nan",
         "_deepnote_index_column": 2469
        },
        {
         "state/region": "PR",
         "ages": "total",
         "year": 2001,
         "population": 3818774,
         "state": "nan",
         "_deepnote_index_column": 2470
        },
        {
         "state/region": "PR",
         "ages": "under18",
         "year": 2001,
         "population": 1077566,
         "state": "nan",
         "_deepnote_index_column": 2471
        },
        {
         "state/region": "PR",
         "ages": "total",
         "year": 2002,
         "population": 3823701,
         "state": "nan",
         "_deepnote_index_column": 2472
        },
        {
         "state/region": "PR",
         "ages": "under18",
         "year": 2002,
         "population": 1065051,
         "state": "nan",
         "_deepnote_index_column": 2473
        },
        {
         "state/region": "PR",
         "ages": "total",
         "year": 2004,
         "population": 3826878,
         "state": "nan",
         "_deepnote_index_column": 2474
        },
        {
         "state/region": "PR",
         "ages": "under18",
         "year": 2004,
         "population": 1035919,
         "state": "nan",
         "_deepnote_index_column": 2475
        },
        {
         "state/region": "PR",
         "ages": "total",
         "year": 2003,
         "population": 3826095,
         "state": "nan",
         "_deepnote_index_column": 2476
        },
        {
         "state/region": "PR",
         "ages": "under18",
         "year": 2003,
         "population": 1050615,
         "state": "nan",
         "_deepnote_index_column": 2477
        },
        {
         "state/region": "PR",
         "ages": "total",
         "year": 2005,
         "population": 3821362,
         "state": "nan",
         "_deepnote_index_column": 2478
        },
        {
         "state/region": "PR",
         "ages": "under18",
         "year": 2005,
         "population": 1019447,
         "state": "nan",
         "_deepnote_index_column": 2479
        },
        {
         "state/region": "PR",
         "ages": "total",
         "year": 2006,
         "population": 3805214,
         "state": "nan",
         "_deepnote_index_column": 2480
        },
        {
         "state/region": "PR",
         "ages": "under18",
         "year": 2006,
         "population": 998543,
         "state": "nan",
         "_deepnote_index_column": 2481
        },
        {
         "state/region": "PR",
         "ages": "total",
         "year": 2007,
         "population": 3782995,
         "state": "nan",
         "_deepnote_index_column": 2482
        },
        {
         "state/region": "PR",
         "ages": "under18",
         "year": 2007,
         "population": 973613,
         "state": "nan",
         "_deepnote_index_column": 2483
        },
        {
         "state/region": "PR",
         "ages": "total",
         "year": 2008,
         "population": 3760866,
         "state": "nan",
         "_deepnote_index_column": 2484
        },
        {
         "state/region": "PR",
         "ages": "under18",
         "year": 2008,
         "population": 945705,
         "state": "nan",
         "_deepnote_index_column": 2485
        },
        {
         "state/region": "PR",
         "ages": "under18",
         "year": 2013,
         "population": 814068,
         "state": "nan",
         "_deepnote_index_column": 2486
        },
        {
         "state/region": "PR",
         "ages": "total",
         "year": 2013,
         "population": 3615086,
         "state": "nan",
         "_deepnote_index_column": 2487
        },
        {
         "state/region": "PR",
         "ages": "total",
         "year": 2009,
         "population": 3740410,
         "state": "nan",
         "_deepnote_index_column": 2488
        },
        {
         "state/region": "PR",
         "ages": "under18",
         "year": 2009,
         "population": 920794,
         "state": "nan",
         "_deepnote_index_column": 2489
        },
        {
         "state/region": "PR",
         "ages": "total",
         "year": 2010,
         "population": 3721208,
         "state": "nan",
         "_deepnote_index_column": 2490
        },
        {
         "state/region": "PR",
         "ages": "under18",
         "year": 2010,
         "population": 896945,
         "state": "nan",
         "_deepnote_index_column": 2491
        },
        {
         "state/region": "PR",
         "ages": "under18",
         "year": 2011,
         "population": 869327,
         "state": "nan",
         "_deepnote_index_column": 2492
        },
        {
         "state/region": "PR",
         "ages": "total",
         "year": 2011,
         "population": 3686580,
         "state": "nan",
         "_deepnote_index_column": 2493
        },
        {
         "state/region": "PR",
         "ages": "under18",
         "year": 2012,
         "population": 841740,
         "state": "nan",
         "_deepnote_index_column": 2494
        },
        {
         "state/region": "PR",
         "ages": "total",
         "year": 2012,
         "population": 3651545,
         "state": "nan",
         "_deepnote_index_column": 2495
        },
        {
         "state/region": "USA",
         "ages": "under18",
         "year": 1990,
         "population": 64218512,
         "state": "nan",
         "_deepnote_index_column": 2496
        },
        {
         "state/region": "USA",
         "ages": "total",
         "year": 1990,
         "population": 249622814,
         "state": "nan",
         "_deepnote_index_column": 2497
        },
        {
         "state/region": "USA",
         "ages": "total",
         "year": 1991,
         "population": 252980942,
         "state": "nan",
         "_deepnote_index_column": 2498
        },
        {
         "state/region": "USA",
         "ages": "under18",
         "year": 1991,
         "population": 65313018,
         "state": "nan",
         "_deepnote_index_column": 2499
        },
        {
         "state/region": "USA",
         "ages": "under18",
         "year": 1992,
         "population": 66509177,
         "state": "nan",
         "_deepnote_index_column": 2500
        },
        {
         "state/region": "USA",
         "ages": "total",
         "year": 1992,
         "population": 256514231,
         "state": "nan",
         "_deepnote_index_column": 2501
        },
        {
         "state/region": "USA",
         "ages": "total",
         "year": 1993,
         "population": 259918595,
         "state": "nan",
         "_deepnote_index_column": 2502
        },
        {
         "state/region": "USA",
         "ages": "under18",
         "year": 1993,
         "population": 67594938,
         "state": "nan",
         "_deepnote_index_column": 2503
        },
        {
         "state/region": "USA",
         "ages": "under18",
         "year": 1994,
         "population": 68640936,
         "state": "nan",
         "_deepnote_index_column": 2504
        },
        {
         "state/region": "USA",
         "ages": "total",
         "year": 1994,
         "population": 263125826,
         "state": "nan",
         "_deepnote_index_column": 2505
        },
        {
         "state/region": "USA",
         "ages": "under18",
         "year": 1995,
         "population": 69473140,
         "state": "nan",
         "_deepnote_index_column": 2506
        },
        {
         "state/region": "USA",
         "ages": "under18",
         "year": 1996,
         "population": 70233512,
         "state": "nan",
         "_deepnote_index_column": 2507
        },
        {
         "state/region": "USA",
         "ages": "total",
         "year": 1995,
         "population": 266278403,
         "state": "nan",
         "_deepnote_index_column": 2508
        },
        {
         "state/region": "USA",
         "ages": "total",
         "year": 1996,
         "population": 269394291,
         "state": "nan",
         "_deepnote_index_column": 2509
        },
        {
         "state/region": "USA",
         "ages": "total",
         "year": 1997,
         "population": 272646932,
         "state": "nan",
         "_deepnote_index_column": 2510
        },
        {
         "state/region": "USA",
         "ages": "under18",
         "year": 1997,
         "population": 70920738,
         "state": "nan",
         "_deepnote_index_column": 2511
        },
        {
         "state/region": "USA",
         "ages": "under18",
         "year": 1998,
         "population": 71431406,
         "state": "nan",
         "_deepnote_index_column": 2512
        },
        {
         "state/region": "USA",
         "ages": "total",
         "year": 1998,
         "population": 275854116,
         "state": "nan",
         "_deepnote_index_column": 2513
        },
        {
         "state/region": "USA",
         "ages": "under18",
         "year": 1999,
         "population": 71946051,
         "state": "nan",
         "_deepnote_index_column": 2514
        },
        {
         "state/region": "USA",
         "ages": "total",
         "year": 2000,
         "population": 282162411,
         "state": "nan",
         "_deepnote_index_column": 2515
        },
        {
         "state/region": "USA",
         "ages": "under18",
         "year": 2000,
         "population": 72376189,
         "state": "nan",
         "_deepnote_index_column": 2516
        },
        {
         "state/region": "USA",
         "ages": "total",
         "year": 1999,
         "population": 279040181,
         "state": "nan",
         "_deepnote_index_column": 2517
        },
        {
         "state/region": "USA",
         "ages": "total",
         "year": 2001,
         "population": 284968955,
         "state": "nan",
         "_deepnote_index_column": 2518
        },
        {
         "state/region": "USA",
         "ages": "under18",
         "year": 2001,
         "population": 72671175,
         "state": "nan",
         "_deepnote_index_column": 2519
        },
        {
         "state/region": "USA",
         "ages": "total",
         "year": 2002,
         "population": 287625193,
         "state": "nan",
         "_deepnote_index_column": 2520
        },
        {
         "state/region": "USA",
         "ages": "under18",
         "year": 2002,
         "population": 72936457,
         "state": "nan",
         "_deepnote_index_column": 2521
        },
        {
         "state/region": "USA",
         "ages": "total",
         "year": 2003,
         "population": 290107933,
         "state": "nan",
         "_deepnote_index_column": 2522
        },
        {
         "state/region": "USA",
         "ages": "under18",
         "year": 2003,
         "population": 73100758,
         "state": "nan",
         "_deepnote_index_column": 2523
        },
        {
         "state/region": "USA",
         "ages": "total",
         "year": 2004,
         "population": 292805298,
         "state": "nan",
         "_deepnote_index_column": 2524
        },
        {
         "state/region": "USA",
         "ages": "under18",
         "year": 2004,
         "population": 73297735,
         "state": "nan",
         "_deepnote_index_column": 2525
        },
        {
         "state/region": "USA",
         "ages": "total",
         "year": 2005,
         "population": 295516599,
         "state": "nan",
         "_deepnote_index_column": 2526
        },
        {
         "state/region": "USA",
         "ages": "under18",
         "year": 2005,
         "population": 73523669,
         "state": "nan",
         "_deepnote_index_column": 2527
        },
        {
         "state/region": "USA",
         "ages": "total",
         "year": 2006,
         "population": 298379912,
         "state": "nan",
         "_deepnote_index_column": 2528
        },
        {
         "state/region": "USA",
         "ages": "under18",
         "year": 2006,
         "population": 73757714,
         "state": "nan",
         "_deepnote_index_column": 2529
        },
        {
         "state/region": "USA",
         "ages": "total",
         "year": 2007,
         "population": 301231207,
         "state": "nan",
         "_deepnote_index_column": 2530
        },
        {
         "state/region": "USA",
         "ages": "under18",
         "year": 2007,
         "population": 74019405,
         "state": "nan",
         "_deepnote_index_column": 2531
        },
        {
         "state/region": "USA",
         "ages": "total",
         "year": 2008,
         "population": 304093966,
         "state": "nan",
         "_deepnote_index_column": 2532
        },
        {
         "state/region": "USA",
         "ages": "under18",
         "year": 2008,
         "population": 74104602,
         "state": "nan",
         "_deepnote_index_column": 2533
        },
        {
         "state/region": "USA",
         "ages": "under18",
         "year": 2013,
         "population": 73585872,
         "state": "nan",
         "_deepnote_index_column": 2534
        },
        {
         "state/region": "USA",
         "ages": "total",
         "year": 2013,
         "population": 316128839,
         "state": "nan",
         "_deepnote_index_column": 2535
        },
        {
         "state/region": "USA",
         "ages": "total",
         "year": 2009,
         "population": 306771529,
         "state": "nan",
         "_deepnote_index_column": 2536
        },
        {
         "state/region": "USA",
         "ages": "under18",
         "year": 2009,
         "population": 74134167,
         "state": "nan",
         "_deepnote_index_column": 2537
        },
        {
         "state/region": "USA",
         "ages": "under18",
         "year": 2010,
         "population": 74119556,
         "state": "nan",
         "_deepnote_index_column": 2538
        },
        {
         "state/region": "USA",
         "ages": "total",
         "year": 2010,
         "population": 309326295,
         "state": "nan",
         "_deepnote_index_column": 2539
        },
        {
         "state/region": "USA",
         "ages": "under18",
         "year": 2011,
         "population": 73902222,
         "state": "nan",
         "_deepnote_index_column": 2540
        },
        {
         "state/region": "USA",
         "ages": "total",
         "year": 2011,
         "population": 311582564,
         "state": "nan",
         "_deepnote_index_column": 2541
        },
        {
         "state/region": "USA",
         "ages": "under18",
         "year": 2012,
         "population": 73708179,
         "state": "nan",
         "_deepnote_index_column": 2542
        },
        {
         "state/region": "USA",
         "ages": "total",
         "year": 2012,
         "population": 313873685,
         "state": "nan",
         "_deepnote_index_column": 2543
        }
       ],
       "rows_bottom": null
      },
      "text/plain": "     state/region     ages  year   population state\n2448           PR  under18  1990          NaN   NaN\n2449           PR    total  1990          NaN   NaN\n2450           PR    total  1991          NaN   NaN\n2451           PR  under18  1991          NaN   NaN\n2452           PR    total  1993          NaN   NaN\n...           ...      ...   ...          ...   ...\n2539          USA    total  2010  309326295.0   NaN\n2540          USA  under18  2011   73902222.0   NaN\n2541          USA    total  2011  311582564.0   NaN\n2542          USA  under18  2012   73708179.0   NaN\n2543          USA    total  2012  313873685.0   NaN\n\n[96 rows x 5 columns]",
      "text/html": "<div>\n<style scoped>\n    .dataframe tbody tr th:only-of-type {\n        vertical-align: middle;\n    }\n\n    .dataframe tbody tr th {\n        vertical-align: top;\n    }\n\n    .dataframe thead th {\n        text-align: right;\n    }\n</style>\n<table border=\"1\" class=\"dataframe\">\n  <thead>\n    <tr style=\"text-align: right;\">\n      <th></th>\n      <th>state/region</th>\n      <th>ages</th>\n      <th>year</th>\n      <th>population</th>\n      <th>state</th>\n    </tr>\n  </thead>\n  <tbody>\n    <tr>\n      <th>2448</th>\n      <td>PR</td>\n      <td>under18</td>\n      <td>1990</td>\n      <td>NaN</td>\n      <td>NaN</td>\n    </tr>\n    <tr>\n      <th>2449</th>\n      <td>PR</td>\n      <td>total</td>\n      <td>1990</td>\n      <td>NaN</td>\n      <td>NaN</td>\n    </tr>\n    <tr>\n      <th>2450</th>\n      <td>PR</td>\n      <td>total</td>\n      <td>1991</td>\n      <td>NaN</td>\n      <td>NaN</td>\n    </tr>\n    <tr>\n      <th>2451</th>\n      <td>PR</td>\n      <td>under18</td>\n      <td>1991</td>\n      <td>NaN</td>\n      <td>NaN</td>\n    </tr>\n    <tr>\n      <th>2452</th>\n      <td>PR</td>\n      <td>total</td>\n      <td>1993</td>\n      <td>NaN</td>\n      <td>NaN</td>\n    </tr>\n    <tr>\n      <th>...</th>\n      <td>...</td>\n      <td>...</td>\n      <td>...</td>\n      <td>...</td>\n      <td>...</td>\n    </tr>\n    <tr>\n      <th>2539</th>\n      <td>USA</td>\n      <td>total</td>\n      <td>2010</td>\n      <td>309326295.0</td>\n      <td>NaN</td>\n    </tr>\n    <tr>\n      <th>2540</th>\n      <td>USA</td>\n      <td>under18</td>\n      <td>2011</td>\n      <td>73902222.0</td>\n      <td>NaN</td>\n    </tr>\n    <tr>\n      <th>2541</th>\n      <td>USA</td>\n      <td>total</td>\n      <td>2011</td>\n      <td>311582564.0</td>\n      <td>NaN</td>\n    </tr>\n    <tr>\n      <th>2542</th>\n      <td>USA</td>\n      <td>under18</td>\n      <td>2012</td>\n      <td>73708179.0</td>\n      <td>NaN</td>\n    </tr>\n    <tr>\n      <th>2543</th>\n      <td>USA</td>\n      <td>total</td>\n      <td>2012</td>\n      <td>313873685.0</td>\n      <td>NaN</td>\n    </tr>\n  </tbody>\n</table>\n<p>96 rows × 5 columns</p>\n</div>"
     },
     "metadata": {}
    }
   ],
   "execution_count": null
  },
  {
   "cell_type": "code",
   "metadata": {
    "tags": [],
    "cell_id": "00040-77a64182-959a-4808-bc55-d4c6ad28673a",
    "deepnote_to_be_reexecuted": false,
    "source_hash": "da16835f",
    "execution_start": 1626056665814,
    "execution_millis": 14,
    "deepnote_cell_type": "code"
   },
   "source": "merged.loc[merged['state'].isnull(),\"state/region\"].unique()",
   "outputs": [
    {
     "output_type": "execute_result",
     "execution_count": 36,
     "data": {
      "text/plain": "array(['PR', 'USA'], dtype=object)"
     },
     "metadata": {}
    }
   ],
   "execution_count": null
  },
  {
   "cell_type": "code",
   "source": "merged.loc[merged['state/region']==\"PR\",'state']=\"Puerto Rico\"",
   "metadata": {
    "tags": [],
    "cell_id": "00041-7d4627b0-8c66-4f84-9df3-fa5213ec0550",
    "deepnote_to_be_reexecuted": false,
    "source_hash": "21bee9c2",
    "execution_start": 1626056764099,
    "execution_millis": 1,
    "deepnote_cell_type": "code"
   },
   "outputs": [],
   "execution_count": null
  },
  {
   "cell_type": "code",
   "source": "merged.loc[merged['state/region']==\"USA\",'state']=\"United States\"",
   "metadata": {
    "tags": [],
    "cell_id": "00042-6a956f6f-c013-4d7d-afe0-a6efb93cb84f",
    "deepnote_to_be_reexecuted": false,
    "source_hash": "a89720cb",
    "execution_start": 1626056834539,
    "execution_millis": 1,
    "deepnote_cell_type": "code"
   },
   "outputs": [],
   "execution_count": null
  },
  {
   "cell_type": "code",
   "source": "merged.isnull().sum()",
   "metadata": {
    "tags": [],
    "cell_id": "00043-a828a5de-2a3b-4ec5-8890-00a1f42998cf",
    "deepnote_to_be_reexecuted": false,
    "source_hash": "309d457",
    "execution_start": 1626056849318,
    "execution_millis": 15,
    "deepnote_cell_type": "code"
   },
   "outputs": [
    {
     "output_type": "execute_result",
     "execution_count": 39,
     "data": {
      "text/plain": "state/region     0\nages             0\nyear             0\npopulation      20\nstate            0\ndtype: int64"
     },
     "metadata": {}
    }
   ],
   "execution_count": null
  },
  {
   "cell_type": "code",
   "source": "merged.head()",
   "metadata": {
    "tags": [],
    "cell_id": "00044-c14d4ec2-90e9-4596-bd1c-abed6d0a8b4b",
    "deepnote_to_be_reexecuted": false,
    "source_hash": "46b00dd9",
    "execution_start": 1626057036792,
    "execution_millis": 79,
    "deepnote_cell_type": "code"
   },
   "outputs": [
    {
     "output_type": "execute_result",
     "execution_count": 43,
     "data": {
      "application/vnd.deepnote.dataframe.v2+json": {
       "row_count": 5,
       "column_count": 5,
       "columns": [
        {
         "name": "state/region",
         "dtype": "object",
         "stats": {
          "unique_count": 1,
          "nan_count": 0,
          "categories": [
           {
            "name": "AL",
            "count": 5
           }
          ]
         }
        },
        {
         "name": "ages",
         "dtype": "object",
         "stats": {
          "unique_count": 2,
          "nan_count": 0,
          "categories": [
           {
            "name": "under18",
            "count": 3
           },
           {
            "name": "total",
            "count": 2
           }
          ]
         }
        },
        {
         "name": "year",
         "dtype": "int64",
         "stats": {
          "unique_count": 3,
          "nan_count": 0,
          "min": "2010",
          "max": "2012",
          "histogram": [
           {
            "bin_start": 2010,
            "bin_end": 2010.2,
            "count": 2
           },
           {
            "bin_start": 2010.2,
            "bin_end": 2010.4,
            "count": 0
           },
           {
            "bin_start": 2010.4,
            "bin_end": 2010.6,
            "count": 0
           },
           {
            "bin_start": 2010.6,
            "bin_end": 2010.8,
            "count": 0
           },
           {
            "bin_start": 2010.8,
            "bin_end": 2011,
            "count": 0
           },
           {
            "bin_start": 2011,
            "bin_end": 2011.2,
            "count": 1
           },
           {
            "bin_start": 2011.2,
            "bin_end": 2011.4,
            "count": 0
           },
           {
            "bin_start": 2011.4,
            "bin_end": 2011.6,
            "count": 0
           },
           {
            "bin_start": 2011.6,
            "bin_end": 2011.8,
            "count": 0
           },
           {
            "bin_start": 2011.8,
            "bin_end": 2012,
            "count": 2
           }
          ]
         }
        },
        {
         "name": "population",
         "dtype": "float64",
         "stats": {
          "unique_count": 5,
          "nan_count": 0,
          "min": "1117489.0",
          "max": "4817528.0",
          "histogram": [
           {
            "bin_start": 1117489,
            "bin_end": 1487492.9,
            "count": 3
           },
           {
            "bin_start": 1487492.9,
            "bin_end": 1857496.8,
            "count": 0
           },
           {
            "bin_start": 1857496.8,
            "bin_end": 2227500.7,
            "count": 0
           },
           {
            "bin_start": 2227500.7,
            "bin_end": 2597504.6,
            "count": 0
           },
           {
            "bin_start": 2597504.6,
            "bin_end": 2967508.5,
            "count": 0
           },
           {
            "bin_start": 2967508.5,
            "bin_end": 3337512.4000000004,
            "count": 0
           },
           {
            "bin_start": 3337512.4000000004,
            "bin_end": 3707516.3000000003,
            "count": 0
           },
           {
            "bin_start": 3707516.3000000003,
            "bin_end": 4077520.2,
            "count": 0
           },
           {
            "bin_start": 4077520.2,
            "bin_end": 4447524.1,
            "count": 0
           },
           {
            "bin_start": 4447524.1,
            "bin_end": 4817528,
            "count": 2
           }
          ]
         }
        },
        {
         "name": "state",
         "dtype": "object",
         "stats": {
          "unique_count": 1,
          "nan_count": 0,
          "categories": [
           {
            "name": "Alabama",
            "count": 5
           }
          ]
         }
        },
        {
         "name": "_deepnote_index_column",
         "dtype": "int64"
        }
       ],
       "rows_top": [
        {
         "state/region": "AL",
         "ages": "under18",
         "year": 2012,
         "population": 1117489,
         "state": "Alabama",
         "_deepnote_index_column": 0
        },
        {
         "state/region": "AL",
         "ages": "total",
         "year": 2012,
         "population": 4817528,
         "state": "Alabama",
         "_deepnote_index_column": 1
        },
        {
         "state/region": "AL",
         "ages": "under18",
         "year": 2010,
         "population": 1130966,
         "state": "Alabama",
         "_deepnote_index_column": 2
        },
        {
         "state/region": "AL",
         "ages": "total",
         "year": 2010,
         "population": 4785570,
         "state": "Alabama",
         "_deepnote_index_column": 3
        },
        {
         "state/region": "AL",
         "ages": "under18",
         "year": 2011,
         "population": 1125763,
         "state": "Alabama",
         "_deepnote_index_column": 4
        }
       ],
       "rows_bottom": null
      },
      "text/plain": "  state/region     ages  year  population    state\n0           AL  under18  2012   1117489.0  Alabama\n1           AL    total  2012   4817528.0  Alabama\n2           AL  under18  2010   1130966.0  Alabama\n3           AL    total  2010   4785570.0  Alabama\n4           AL  under18  2011   1125763.0  Alabama",
      "text/html": "<div>\n<style scoped>\n    .dataframe tbody tr th:only-of-type {\n        vertical-align: middle;\n    }\n\n    .dataframe tbody tr th {\n        vertical-align: top;\n    }\n\n    .dataframe thead th {\n        text-align: right;\n    }\n</style>\n<table border=\"1\" class=\"dataframe\">\n  <thead>\n    <tr style=\"text-align: right;\">\n      <th></th>\n      <th>state/region</th>\n      <th>ages</th>\n      <th>year</th>\n      <th>population</th>\n      <th>state</th>\n    </tr>\n  </thead>\n  <tbody>\n    <tr>\n      <th>0</th>\n      <td>AL</td>\n      <td>under18</td>\n      <td>2012</td>\n      <td>1117489.0</td>\n      <td>Alabama</td>\n    </tr>\n    <tr>\n      <th>1</th>\n      <td>AL</td>\n      <td>total</td>\n      <td>2012</td>\n      <td>4817528.0</td>\n      <td>Alabama</td>\n    </tr>\n    <tr>\n      <th>2</th>\n      <td>AL</td>\n      <td>under18</td>\n      <td>2010</td>\n      <td>1130966.0</td>\n      <td>Alabama</td>\n    </tr>\n    <tr>\n      <th>3</th>\n      <td>AL</td>\n      <td>total</td>\n      <td>2010</td>\n      <td>4785570.0</td>\n      <td>Alabama</td>\n    </tr>\n    <tr>\n      <th>4</th>\n      <td>AL</td>\n      <td>under18</td>\n      <td>2011</td>\n      <td>1125763.0</td>\n      <td>Alabama</td>\n    </tr>\n  </tbody>\n</table>\n</div>"
     },
     "metadata": {}
    }
   ],
   "execution_count": null
  },
  {
   "cell_type": "code",
   "source": "areas.head()",
   "metadata": {
    "tags": [],
    "cell_id": "00045-f22c83ac-6732-4b7a-be67-832329f2399c",
    "deepnote_to_be_reexecuted": false,
    "source_hash": "ef02255",
    "execution_start": 1626057040668,
    "execution_millis": 42,
    "deepnote_cell_type": "code"
   },
   "outputs": [
    {
     "output_type": "execute_result",
     "execution_count": 44,
     "data": {
      "application/vnd.deepnote.dataframe.v2+json": {
       "row_count": 5,
       "column_count": 2,
       "columns": [
        {
         "name": "state",
         "dtype": "object",
         "stats": {
          "unique_count": 5,
          "nan_count": 0,
          "categories": [
           {
            "name": "Alabama",
            "count": 1
           },
           {
            "name": "Alaska",
            "count": 1
           },
           {
            "name": "3 others",
            "count": 3
           }
          ]
         }
        },
        {
         "name": "area (sq. mi)",
         "dtype": "int64",
         "stats": {
          "unique_count": 5,
          "nan_count": 0,
          "min": "52423",
          "max": "656425",
          "histogram": [
           {
            "bin_start": 52423,
            "bin_end": 112823.2,
            "count": 2
           },
           {
            "bin_start": 112823.2,
            "bin_end": 173223.4,
            "count": 2
           },
           {
            "bin_start": 173223.4,
            "bin_end": 233623.59999999998,
            "count": 0
           },
           {
            "bin_start": 233623.59999999998,
            "bin_end": 294023.8,
            "count": 0
           },
           {
            "bin_start": 294023.8,
            "bin_end": 354424,
            "count": 0
           },
           {
            "bin_start": 354424,
            "bin_end": 414824.19999999995,
            "count": 0
           },
           {
            "bin_start": 414824.19999999995,
            "bin_end": 475224.39999999997,
            "count": 0
           },
           {
            "bin_start": 475224.39999999997,
            "bin_end": 535624.6,
            "count": 0
           },
           {
            "bin_start": 535624.6,
            "bin_end": 596024.7999999999,
            "count": 0
           },
           {
            "bin_start": 596024.7999999999,
            "bin_end": 656425,
            "count": 1
           }
          ]
         }
        },
        {
         "name": "_deepnote_index_column",
         "dtype": "int64"
        }
       ],
       "rows_top": [
        {
         "state": "Alabama",
         "area (sq. mi)": 52423,
         "_deepnote_index_column": 0
        },
        {
         "state": "Alaska",
         "area (sq. mi)": 656425,
         "_deepnote_index_column": 1
        },
        {
         "state": "Arizona",
         "area (sq. mi)": 114006,
         "_deepnote_index_column": 2
        },
        {
         "state": "Arkansas",
         "area (sq. mi)": 53182,
         "_deepnote_index_column": 3
        },
        {
         "state": "California",
         "area (sq. mi)": 163707,
         "_deepnote_index_column": 4
        }
       ],
       "rows_bottom": null
      },
      "text/plain": "        state  area (sq. mi)\n0     Alabama          52423\n1      Alaska         656425\n2     Arizona         114006\n3    Arkansas          53182\n4  California         163707",
      "text/html": "<div>\n<style scoped>\n    .dataframe tbody tr th:only-of-type {\n        vertical-align: middle;\n    }\n\n    .dataframe tbody tr th {\n        vertical-align: top;\n    }\n\n    .dataframe thead th {\n        text-align: right;\n    }\n</style>\n<table border=\"1\" class=\"dataframe\">\n  <thead>\n    <tr style=\"text-align: right;\">\n      <th></th>\n      <th>state</th>\n      <th>area (sq. mi)</th>\n    </tr>\n  </thead>\n  <tbody>\n    <tr>\n      <th>0</th>\n      <td>Alabama</td>\n      <td>52423</td>\n    </tr>\n    <tr>\n      <th>1</th>\n      <td>Alaska</td>\n      <td>656425</td>\n    </tr>\n    <tr>\n      <th>2</th>\n      <td>Arizona</td>\n      <td>114006</td>\n    </tr>\n    <tr>\n      <th>3</th>\n      <td>Arkansas</td>\n      <td>53182</td>\n    </tr>\n    <tr>\n      <th>4</th>\n      <td>California</td>\n      <td>163707</td>\n    </tr>\n  </tbody>\n</table>\n</div>"
     },
     "metadata": {}
    }
   ],
   "execution_count": null
  },
  {
   "cell_type": "code",
   "source": "final_data = pd.merge(merged,areas,on=\"state\",how='left')",
   "metadata": {
    "tags": [],
    "cell_id": "00044-0177c963-ab78-4cfb-acf1-c146f665f386",
    "deepnote_to_be_reexecuted": false,
    "source_hash": "80e9d5ff",
    "execution_start": 1626057066637,
    "execution_millis": 12,
    "deepnote_cell_type": "code"
   },
   "outputs": [],
   "execution_count": null
  },
  {
   "cell_type": "code",
   "source": "final_data.head()",
   "metadata": {
    "tags": [],
    "cell_id": "00047-cb6542e9-5633-4ee9-8eb7-6525fa598981",
    "deepnote_to_be_reexecuted": false,
    "source_hash": "9da2c9b7",
    "execution_start": 1626057073059,
    "execution_millis": 64,
    "deepnote_cell_type": "code"
   },
   "outputs": [
    {
     "output_type": "execute_result",
     "execution_count": 46,
     "data": {
      "application/vnd.deepnote.dataframe.v2+json": {
       "row_count": 5,
       "column_count": 6,
       "columns": [
        {
         "name": "state/region",
         "dtype": "object",
         "stats": {
          "unique_count": 1,
          "nan_count": 0,
          "categories": [
           {
            "name": "AL",
            "count": 5
           }
          ]
         }
        },
        {
         "name": "ages",
         "dtype": "object",
         "stats": {
          "unique_count": 2,
          "nan_count": 0,
          "categories": [
           {
            "name": "under18",
            "count": 3
           },
           {
            "name": "total",
            "count": 2
           }
          ]
         }
        },
        {
         "name": "year",
         "dtype": "int64",
         "stats": {
          "unique_count": 3,
          "nan_count": 0,
          "min": "2010",
          "max": "2012",
          "histogram": [
           {
            "bin_start": 2010,
            "bin_end": 2010.2,
            "count": 2
           },
           {
            "bin_start": 2010.2,
            "bin_end": 2010.4,
            "count": 0
           },
           {
            "bin_start": 2010.4,
            "bin_end": 2010.6,
            "count": 0
           },
           {
            "bin_start": 2010.6,
            "bin_end": 2010.8,
            "count": 0
           },
           {
            "bin_start": 2010.8,
            "bin_end": 2011,
            "count": 0
           },
           {
            "bin_start": 2011,
            "bin_end": 2011.2,
            "count": 1
           },
           {
            "bin_start": 2011.2,
            "bin_end": 2011.4,
            "count": 0
           },
           {
            "bin_start": 2011.4,
            "bin_end": 2011.6,
            "count": 0
           },
           {
            "bin_start": 2011.6,
            "bin_end": 2011.8,
            "count": 0
           },
           {
            "bin_start": 2011.8,
            "bin_end": 2012,
            "count": 2
           }
          ]
         }
        },
        {
         "name": "population",
         "dtype": "float64",
         "stats": {
          "unique_count": 5,
          "nan_count": 0,
          "min": "1117489.0",
          "max": "4817528.0",
          "histogram": [
           {
            "bin_start": 1117489,
            "bin_end": 1487492.9,
            "count": 3
           },
           {
            "bin_start": 1487492.9,
            "bin_end": 1857496.8,
            "count": 0
           },
           {
            "bin_start": 1857496.8,
            "bin_end": 2227500.7,
            "count": 0
           },
           {
            "bin_start": 2227500.7,
            "bin_end": 2597504.6,
            "count": 0
           },
           {
            "bin_start": 2597504.6,
            "bin_end": 2967508.5,
            "count": 0
           },
           {
            "bin_start": 2967508.5,
            "bin_end": 3337512.4000000004,
            "count": 0
           },
           {
            "bin_start": 3337512.4000000004,
            "bin_end": 3707516.3000000003,
            "count": 0
           },
           {
            "bin_start": 3707516.3000000003,
            "bin_end": 4077520.2,
            "count": 0
           },
           {
            "bin_start": 4077520.2,
            "bin_end": 4447524.1,
            "count": 0
           },
           {
            "bin_start": 4447524.1,
            "bin_end": 4817528,
            "count": 2
           }
          ]
         }
        },
        {
         "name": "state",
         "dtype": "object",
         "stats": {
          "unique_count": 1,
          "nan_count": 0,
          "categories": [
           {
            "name": "Alabama",
            "count": 5
           }
          ]
         }
        },
        {
         "name": "area (sq. mi)",
         "dtype": "float64",
         "stats": {
          "unique_count": 1,
          "nan_count": 0,
          "min": "52423.0",
          "max": "52423.0",
          "histogram": [
           {
            "bin_start": 52422.5,
            "bin_end": 52422.6,
            "count": 0
           },
           {
            "bin_start": 52422.6,
            "bin_end": 52422.7,
            "count": 0
           },
           {
            "bin_start": 52422.7,
            "bin_end": 52422.8,
            "count": 0
           },
           {
            "bin_start": 52422.8,
            "bin_end": 52422.9,
            "count": 0
           },
           {
            "bin_start": 52422.9,
            "bin_end": 52423,
            "count": 0
           },
           {
            "bin_start": 52423,
            "bin_end": 52423.1,
            "count": 5
           },
           {
            "bin_start": 52423.1,
            "bin_end": 52423.2,
            "count": 0
           },
           {
            "bin_start": 52423.2,
            "bin_end": 52423.3,
            "count": 0
           },
           {
            "bin_start": 52423.3,
            "bin_end": 52423.4,
            "count": 0
           },
           {
            "bin_start": 52423.4,
            "bin_end": 52423.5,
            "count": 0
           }
          ]
         }
        },
        {
         "name": "_deepnote_index_column",
         "dtype": "int64"
        }
       ],
       "rows_top": [
        {
         "state/region": "AL",
         "ages": "under18",
         "year": 2012,
         "population": 1117489,
         "state": "Alabama",
         "area (sq. mi)": 52423,
         "_deepnote_index_column": 0
        },
        {
         "state/region": "AL",
         "ages": "total",
         "year": 2012,
         "population": 4817528,
         "state": "Alabama",
         "area (sq. mi)": 52423,
         "_deepnote_index_column": 1
        },
        {
         "state/region": "AL",
         "ages": "under18",
         "year": 2010,
         "population": 1130966,
         "state": "Alabama",
         "area (sq. mi)": 52423,
         "_deepnote_index_column": 2
        },
        {
         "state/region": "AL",
         "ages": "total",
         "year": 2010,
         "population": 4785570,
         "state": "Alabama",
         "area (sq. mi)": 52423,
         "_deepnote_index_column": 3
        },
        {
         "state/region": "AL",
         "ages": "under18",
         "year": 2011,
         "population": 1125763,
         "state": "Alabama",
         "area (sq. mi)": 52423,
         "_deepnote_index_column": 4
        }
       ],
       "rows_bottom": null
      },
      "text/plain": "  state/region     ages  year  population    state  area (sq. mi)\n0           AL  under18  2012   1117489.0  Alabama        52423.0\n1           AL    total  2012   4817528.0  Alabama        52423.0\n2           AL  under18  2010   1130966.0  Alabama        52423.0\n3           AL    total  2010   4785570.0  Alabama        52423.0\n4           AL  under18  2011   1125763.0  Alabama        52423.0",
      "text/html": "<div>\n<style scoped>\n    .dataframe tbody tr th:only-of-type {\n        vertical-align: middle;\n    }\n\n    .dataframe tbody tr th {\n        vertical-align: top;\n    }\n\n    .dataframe thead th {\n        text-align: right;\n    }\n</style>\n<table border=\"1\" class=\"dataframe\">\n  <thead>\n    <tr style=\"text-align: right;\">\n      <th></th>\n      <th>state/region</th>\n      <th>ages</th>\n      <th>year</th>\n      <th>population</th>\n      <th>state</th>\n      <th>area (sq. mi)</th>\n    </tr>\n  </thead>\n  <tbody>\n    <tr>\n      <th>0</th>\n      <td>AL</td>\n      <td>under18</td>\n      <td>2012</td>\n      <td>1117489.0</td>\n      <td>Alabama</td>\n      <td>52423.0</td>\n    </tr>\n    <tr>\n      <th>1</th>\n      <td>AL</td>\n      <td>total</td>\n      <td>2012</td>\n      <td>4817528.0</td>\n      <td>Alabama</td>\n      <td>52423.0</td>\n    </tr>\n    <tr>\n      <th>2</th>\n      <td>AL</td>\n      <td>under18</td>\n      <td>2010</td>\n      <td>1130966.0</td>\n      <td>Alabama</td>\n      <td>52423.0</td>\n    </tr>\n    <tr>\n      <th>3</th>\n      <td>AL</td>\n      <td>total</td>\n      <td>2010</td>\n      <td>4785570.0</td>\n      <td>Alabama</td>\n      <td>52423.0</td>\n    </tr>\n    <tr>\n      <th>4</th>\n      <td>AL</td>\n      <td>under18</td>\n      <td>2011</td>\n      <td>1125763.0</td>\n      <td>Alabama</td>\n      <td>52423.0</td>\n    </tr>\n  </tbody>\n</table>\n</div>"
     },
     "metadata": {}
    }
   ],
   "execution_count": null
  },
  {
   "cell_type": "code",
   "source": "final_data.isnull().sum()",
   "metadata": {
    "tags": [],
    "cell_id": "00048-70cb052b-2e41-4cf8-b2ef-cf610c1616bf",
    "deepnote_to_be_reexecuted": false,
    "source_hash": "fd60d2cb",
    "execution_start": 1626057094558,
    "execution_millis": 11,
    "deepnote_cell_type": "code"
   },
   "outputs": [
    {
     "output_type": "execute_result",
     "execution_count": 47,
     "data": {
      "text/plain": "state/region      0\nages              0\nyear              0\npopulation       20\nstate             0\narea (sq. mi)    48\ndtype: int64"
     },
     "metadata": {}
    }
   ],
   "execution_count": null
  },
  {
   "cell_type": "code",
   "source": "final_data.isnull().any()",
   "metadata": {
    "tags": [],
    "cell_id": "00049-4c3a83e1-9a3f-4d0e-86b6-87c9a955a260",
    "deepnote_to_be_reexecuted": false,
    "source_hash": "d1f9a9b5",
    "execution_start": 1626057127182,
    "execution_millis": 18,
    "deepnote_cell_type": "code"
   },
   "outputs": [
    {
     "output_type": "execute_result",
     "execution_count": 48,
     "data": {
      "text/plain": "state/region     False\nages             False\nyear             False\npopulation        True\nstate            False\narea (sq. mi)     True\ndtype: bool"
     },
     "metadata": {}
    }
   ],
   "execution_count": null
  },
  {
   "cell_type": "code",
   "source": "final_data['state'][final_data['area (sq. mi)'].isnull()].unique()",
   "metadata": {
    "tags": [],
    "cell_id": "00050-3dc53e2b-2c42-4242-9790-b283cbc9bb1a",
    "deepnote_to_be_reexecuted": false,
    "source_hash": "1db499e0",
    "execution_start": 1626057230627,
    "execution_millis": 15,
    "deepnote_cell_type": "code"
   },
   "outputs": [
    {
     "output_type": "execute_result",
     "execution_count": 49,
     "data": {
      "text/plain": "array(['United States'], dtype=object)"
     },
     "metadata": {}
    }
   ],
   "execution_count": null
  },
  {
   "cell_type": "code",
   "source": "final_data.dropna(inplace=True)\nfinal_data.head()",
   "metadata": {
    "tags": [],
    "cell_id": "00051-38f3b1bc-291a-41a7-bbf3-bcc4ed10d786",
    "deepnote_to_be_reexecuted": false,
    "source_hash": "f07cf1f6",
    "execution_start": 1626057488455,
    "execution_millis": 54,
    "deepnote_cell_type": "code"
   },
   "outputs": [
    {
     "output_type": "execute_result",
     "execution_count": 52,
     "data": {
      "application/vnd.deepnote.dataframe.v2+json": {
       "row_count": 5,
       "column_count": 6,
       "columns": [
        {
         "name": "state/region",
         "dtype": "object",
         "stats": {
          "unique_count": 1,
          "nan_count": 0,
          "categories": [
           {
            "name": "AL",
            "count": 5
           }
          ]
         }
        },
        {
         "name": "ages",
         "dtype": "object",
         "stats": {
          "unique_count": 2,
          "nan_count": 0,
          "categories": [
           {
            "name": "under18",
            "count": 3
           },
           {
            "name": "total",
            "count": 2
           }
          ]
         }
        },
        {
         "name": "year",
         "dtype": "int64",
         "stats": {
          "unique_count": 3,
          "nan_count": 0,
          "min": "2010",
          "max": "2012",
          "histogram": [
           {
            "bin_start": 2010,
            "bin_end": 2010.2,
            "count": 2
           },
           {
            "bin_start": 2010.2,
            "bin_end": 2010.4,
            "count": 0
           },
           {
            "bin_start": 2010.4,
            "bin_end": 2010.6,
            "count": 0
           },
           {
            "bin_start": 2010.6,
            "bin_end": 2010.8,
            "count": 0
           },
           {
            "bin_start": 2010.8,
            "bin_end": 2011,
            "count": 0
           },
           {
            "bin_start": 2011,
            "bin_end": 2011.2,
            "count": 1
           },
           {
            "bin_start": 2011.2,
            "bin_end": 2011.4,
            "count": 0
           },
           {
            "bin_start": 2011.4,
            "bin_end": 2011.6,
            "count": 0
           },
           {
            "bin_start": 2011.6,
            "bin_end": 2011.8,
            "count": 0
           },
           {
            "bin_start": 2011.8,
            "bin_end": 2012,
            "count": 2
           }
          ]
         }
        },
        {
         "name": "population",
         "dtype": "float64",
         "stats": {
          "unique_count": 5,
          "nan_count": 0,
          "min": "1117489.0",
          "max": "4817528.0",
          "histogram": [
           {
            "bin_start": 1117489,
            "bin_end": 1487492.9,
            "count": 3
           },
           {
            "bin_start": 1487492.9,
            "bin_end": 1857496.8,
            "count": 0
           },
           {
            "bin_start": 1857496.8,
            "bin_end": 2227500.7,
            "count": 0
           },
           {
            "bin_start": 2227500.7,
            "bin_end": 2597504.6,
            "count": 0
           },
           {
            "bin_start": 2597504.6,
            "bin_end": 2967508.5,
            "count": 0
           },
           {
            "bin_start": 2967508.5,
            "bin_end": 3337512.4000000004,
            "count": 0
           },
           {
            "bin_start": 3337512.4000000004,
            "bin_end": 3707516.3000000003,
            "count": 0
           },
           {
            "bin_start": 3707516.3000000003,
            "bin_end": 4077520.2,
            "count": 0
           },
           {
            "bin_start": 4077520.2,
            "bin_end": 4447524.1,
            "count": 0
           },
           {
            "bin_start": 4447524.1,
            "bin_end": 4817528,
            "count": 2
           }
          ]
         }
        },
        {
         "name": "state",
         "dtype": "object",
         "stats": {
          "unique_count": 1,
          "nan_count": 0,
          "categories": [
           {
            "name": "Alabama",
            "count": 5
           }
          ]
         }
        },
        {
         "name": "area (sq. mi)",
         "dtype": "float64",
         "stats": {
          "unique_count": 1,
          "nan_count": 0,
          "min": "52423.0",
          "max": "52423.0",
          "histogram": [
           {
            "bin_start": 52422.5,
            "bin_end": 52422.6,
            "count": 0
           },
           {
            "bin_start": 52422.6,
            "bin_end": 52422.7,
            "count": 0
           },
           {
            "bin_start": 52422.7,
            "bin_end": 52422.8,
            "count": 0
           },
           {
            "bin_start": 52422.8,
            "bin_end": 52422.9,
            "count": 0
           },
           {
            "bin_start": 52422.9,
            "bin_end": 52423,
            "count": 0
           },
           {
            "bin_start": 52423,
            "bin_end": 52423.1,
            "count": 5
           },
           {
            "bin_start": 52423.1,
            "bin_end": 52423.2,
            "count": 0
           },
           {
            "bin_start": 52423.2,
            "bin_end": 52423.3,
            "count": 0
           },
           {
            "bin_start": 52423.3,
            "bin_end": 52423.4,
            "count": 0
           },
           {
            "bin_start": 52423.4,
            "bin_end": 52423.5,
            "count": 0
           }
          ]
         }
        },
        {
         "name": "_deepnote_index_column",
         "dtype": "int64"
        }
       ],
       "rows_top": [
        {
         "state/region": "AL",
         "ages": "under18",
         "year": 2012,
         "population": 1117489,
         "state": "Alabama",
         "area (sq. mi)": 52423,
         "_deepnote_index_column": 0
        },
        {
         "state/region": "AL",
         "ages": "total",
         "year": 2012,
         "population": 4817528,
         "state": "Alabama",
         "area (sq. mi)": 52423,
         "_deepnote_index_column": 1
        },
        {
         "state/region": "AL",
         "ages": "under18",
         "year": 2010,
         "population": 1130966,
         "state": "Alabama",
         "area (sq. mi)": 52423,
         "_deepnote_index_column": 2
        },
        {
         "state/region": "AL",
         "ages": "total",
         "year": 2010,
         "population": 4785570,
         "state": "Alabama",
         "area (sq. mi)": 52423,
         "_deepnote_index_column": 3
        },
        {
         "state/region": "AL",
         "ages": "under18",
         "year": 2011,
         "population": 1125763,
         "state": "Alabama",
         "area (sq. mi)": 52423,
         "_deepnote_index_column": 4
        }
       ],
       "rows_bottom": null
      },
      "text/plain": "  state/region     ages  year  population    state  area (sq. mi)\n0           AL  under18  2012   1117489.0  Alabama        52423.0\n1           AL    total  2012   4817528.0  Alabama        52423.0\n2           AL  under18  2010   1130966.0  Alabama        52423.0\n3           AL    total  2010   4785570.0  Alabama        52423.0\n4           AL  under18  2011   1125763.0  Alabama        52423.0",
      "text/html": "<div>\n<style scoped>\n    .dataframe tbody tr th:only-of-type {\n        vertical-align: middle;\n    }\n\n    .dataframe tbody tr th {\n        vertical-align: top;\n    }\n\n    .dataframe thead th {\n        text-align: right;\n    }\n</style>\n<table border=\"1\" class=\"dataframe\">\n  <thead>\n    <tr style=\"text-align: right;\">\n      <th></th>\n      <th>state/region</th>\n      <th>ages</th>\n      <th>year</th>\n      <th>population</th>\n      <th>state</th>\n      <th>area (sq. mi)</th>\n    </tr>\n  </thead>\n  <tbody>\n    <tr>\n      <th>0</th>\n      <td>AL</td>\n      <td>under18</td>\n      <td>2012</td>\n      <td>1117489.0</td>\n      <td>Alabama</td>\n      <td>52423.0</td>\n    </tr>\n    <tr>\n      <th>1</th>\n      <td>AL</td>\n      <td>total</td>\n      <td>2012</td>\n      <td>4817528.0</td>\n      <td>Alabama</td>\n      <td>52423.0</td>\n    </tr>\n    <tr>\n      <th>2</th>\n      <td>AL</td>\n      <td>under18</td>\n      <td>2010</td>\n      <td>1130966.0</td>\n      <td>Alabama</td>\n      <td>52423.0</td>\n    </tr>\n    <tr>\n      <th>3</th>\n      <td>AL</td>\n      <td>total</td>\n      <td>2010</td>\n      <td>4785570.0</td>\n      <td>Alabama</td>\n      <td>52423.0</td>\n    </tr>\n    <tr>\n      <th>4</th>\n      <td>AL</td>\n      <td>under18</td>\n      <td>2011</td>\n      <td>1125763.0</td>\n      <td>Alabama</td>\n      <td>52423.0</td>\n    </tr>\n  </tbody>\n</table>\n</div>"
     },
     "metadata": {}
    }
   ],
   "execution_count": null
  },
  {
   "cell_type": "code",
   "source": "final_data.isnull().sum()",
   "metadata": {
    "tags": [],
    "cell_id": "00052-6c445000-9374-46ef-82fc-926a69e44d95",
    "deepnote_to_be_reexecuted": false,
    "source_hash": "fd60d2cb",
    "execution_start": 1626057495779,
    "execution_millis": 44,
    "deepnote_cell_type": "code"
   },
   "outputs": [
    {
     "output_type": "execute_result",
     "execution_count": 53,
     "data": {
      "text/plain": "state/region     0\nages             0\nyear             0\npopulation       0\nstate            0\narea (sq. mi)    0\ndtype: int64"
     },
     "metadata": {}
    }
   ],
   "execution_count": null
  },
  {
   "cell_type": "code",
   "source": "data2010 = final_data.query(\"year == 2010 & ages == 'total'\")",
   "metadata": {
    "tags": [],
    "cell_id": "00053-22fc6829-7387-485f-a236-2679918362dc",
    "deepnote_to_be_reexecuted": false,
    "source_hash": "ecc6730f",
    "execution_start": 1626057747585,
    "execution_millis": 8,
    "deepnote_cell_type": "code"
   },
   "outputs": [],
   "execution_count": null
  },
  {
   "cell_type": "code",
   "source": "data2010.head()",
   "metadata": {
    "tags": [],
    "cell_id": "00054-eca42e5d-68f2-4602-9708-ebce1f93c7ec",
    "deepnote_to_be_reexecuted": false,
    "source_hash": "5580f751",
    "execution_start": 1626057758314,
    "execution_millis": 45,
    "deepnote_cell_type": "code"
   },
   "outputs": [
    {
     "output_type": "execute_result",
     "execution_count": 56,
     "data": {
      "application/vnd.deepnote.dataframe.v2+json": {
       "row_count": 5,
       "column_count": 6,
       "columns": [
        {
         "name": "state/region",
         "dtype": "object",
         "stats": {
          "unique_count": 5,
          "nan_count": 0,
          "categories": [
           {
            "name": "AL",
            "count": 1
           },
           {
            "name": "AK",
            "count": 1
           },
           {
            "name": "3 others",
            "count": 3
           }
          ]
         }
        },
        {
         "name": "ages",
         "dtype": "object",
         "stats": {
          "unique_count": 1,
          "nan_count": 0,
          "categories": [
           {
            "name": "total",
            "count": 5
           }
          ]
         }
        },
        {
         "name": "year",
         "dtype": "int64",
         "stats": {
          "unique_count": 1,
          "nan_count": 0,
          "min": "2010",
          "max": "2010",
          "histogram": [
           {
            "bin_start": 2009.5,
            "bin_end": 2009.6,
            "count": 0
           },
           {
            "bin_start": 2009.6,
            "bin_end": 2009.7,
            "count": 0
           },
           {
            "bin_start": 2009.7,
            "bin_end": 2009.8,
            "count": 0
           },
           {
            "bin_start": 2009.8,
            "bin_end": 2009.9,
            "count": 0
           },
           {
            "bin_start": 2009.9,
            "bin_end": 2010,
            "count": 0
           },
           {
            "bin_start": 2010,
            "bin_end": 2010.1,
            "count": 5
           },
           {
            "bin_start": 2010.1,
            "bin_end": 2010.2,
            "count": 0
           },
           {
            "bin_start": 2010.2,
            "bin_end": 2010.3,
            "count": 0
           },
           {
            "bin_start": 2010.3,
            "bin_end": 2010.4,
            "count": 0
           },
           {
            "bin_start": 2010.4,
            "bin_end": 2010.5,
            "count": 0
           }
          ]
         }
        },
        {
         "name": "population",
         "dtype": "float64",
         "stats": {
          "unique_count": 5,
          "nan_count": 0,
          "min": "713868.0",
          "max": "37333601.0",
          "histogram": [
           {
            "bin_start": 713868,
            "bin_end": 4375841.3,
            "count": 2
           },
           {
            "bin_start": 4375841.3,
            "bin_end": 8037814.6,
            "count": 2
           },
           {
            "bin_start": 8037814.6,
            "bin_end": 11699787.899999999,
            "count": 0
           },
           {
            "bin_start": 11699787.899999999,
            "bin_end": 15361761.2,
            "count": 0
           },
           {
            "bin_start": 15361761.2,
            "bin_end": 19023734.5,
            "count": 0
           },
           {
            "bin_start": 19023734.5,
            "bin_end": 22685707.799999997,
            "count": 0
           },
           {
            "bin_start": 22685707.799999997,
            "bin_end": 26347681.099999998,
            "count": 0
           },
           {
            "bin_start": 26347681.099999998,
            "bin_end": 30009654.4,
            "count": 0
           },
           {
            "bin_start": 30009654.4,
            "bin_end": 33671627.7,
            "count": 0
           },
           {
            "bin_start": 33671627.7,
            "bin_end": 37333601,
            "count": 1
           }
          ]
         }
        },
        {
         "name": "state",
         "dtype": "object",
         "stats": {
          "unique_count": 5,
          "nan_count": 0,
          "categories": [
           {
            "name": "Alabama",
            "count": 1
           },
           {
            "name": "Alaska",
            "count": 1
           },
           {
            "name": "3 others",
            "count": 3
           }
          ]
         }
        },
        {
         "name": "area (sq. mi)",
         "dtype": "float64",
         "stats": {
          "unique_count": 5,
          "nan_count": 0,
          "min": "52423.0",
          "max": "656425.0",
          "histogram": [
           {
            "bin_start": 52423,
            "bin_end": 112823.2,
            "count": 2
           },
           {
            "bin_start": 112823.2,
            "bin_end": 173223.4,
            "count": 2
           },
           {
            "bin_start": 173223.4,
            "bin_end": 233623.59999999998,
            "count": 0
           },
           {
            "bin_start": 233623.59999999998,
            "bin_end": 294023.8,
            "count": 0
           },
           {
            "bin_start": 294023.8,
            "bin_end": 354424,
            "count": 0
           },
           {
            "bin_start": 354424,
            "bin_end": 414824.19999999995,
            "count": 0
           },
           {
            "bin_start": 414824.19999999995,
            "bin_end": 475224.39999999997,
            "count": 0
           },
           {
            "bin_start": 475224.39999999997,
            "bin_end": 535624.6,
            "count": 0
           },
           {
            "bin_start": 535624.6,
            "bin_end": 596024.7999999999,
            "count": 0
           },
           {
            "bin_start": 596024.7999999999,
            "bin_end": 656425,
            "count": 1
           }
          ]
         }
        },
        {
         "name": "_deepnote_index_column",
         "dtype": "int64"
        }
       ],
       "rows_top": [
        {
         "state/region": "AL",
         "ages": "total",
         "year": 2010,
         "population": 4785570,
         "state": "Alabama",
         "area (sq. mi)": 52423,
         "_deepnote_index_column": 3
        },
        {
         "state/region": "AK",
         "ages": "total",
         "year": 2010,
         "population": 713868,
         "state": "Alaska",
         "area (sq. mi)": 656425,
         "_deepnote_index_column": 91
        },
        {
         "state/region": "AZ",
         "ages": "total",
         "year": 2010,
         "population": 6408790,
         "state": "Arizona",
         "area (sq. mi)": 114006,
         "_deepnote_index_column": 101
        },
        {
         "state/region": "AR",
         "ages": "total",
         "year": 2010,
         "population": 2922280,
         "state": "Arkansas",
         "area (sq. mi)": 53182,
         "_deepnote_index_column": 189
        },
        {
         "state/region": "CA",
         "ages": "total",
         "year": 2010,
         "population": 37333601,
         "state": "California",
         "area (sq. mi)": 163707,
         "_deepnote_index_column": 197
        }
       ],
       "rows_bottom": null
      },
      "text/plain": "    state/region   ages  year  population       state  area (sq. mi)\n3             AL  total  2010   4785570.0     Alabama        52423.0\n91            AK  total  2010    713868.0      Alaska       656425.0\n101           AZ  total  2010   6408790.0     Arizona       114006.0\n189           AR  total  2010   2922280.0    Arkansas        53182.0\n197           CA  total  2010  37333601.0  California       163707.0",
      "text/html": "<div>\n<style scoped>\n    .dataframe tbody tr th:only-of-type {\n        vertical-align: middle;\n    }\n\n    .dataframe tbody tr th {\n        vertical-align: top;\n    }\n\n    .dataframe thead th {\n        text-align: right;\n    }\n</style>\n<table border=\"1\" class=\"dataframe\">\n  <thead>\n    <tr style=\"text-align: right;\">\n      <th></th>\n      <th>state/region</th>\n      <th>ages</th>\n      <th>year</th>\n      <th>population</th>\n      <th>state</th>\n      <th>area (sq. mi)</th>\n    </tr>\n  </thead>\n  <tbody>\n    <tr>\n      <th>3</th>\n      <td>AL</td>\n      <td>total</td>\n      <td>2010</td>\n      <td>4785570.0</td>\n      <td>Alabama</td>\n      <td>52423.0</td>\n    </tr>\n    <tr>\n      <th>91</th>\n      <td>AK</td>\n      <td>total</td>\n      <td>2010</td>\n      <td>713868.0</td>\n      <td>Alaska</td>\n      <td>656425.0</td>\n    </tr>\n    <tr>\n      <th>101</th>\n      <td>AZ</td>\n      <td>total</td>\n      <td>2010</td>\n      <td>6408790.0</td>\n      <td>Arizona</td>\n      <td>114006.0</td>\n    </tr>\n    <tr>\n      <th>189</th>\n      <td>AR</td>\n      <td>total</td>\n      <td>2010</td>\n      <td>2922280.0</td>\n      <td>Arkansas</td>\n      <td>53182.0</td>\n    </tr>\n    <tr>\n      <th>197</th>\n      <td>CA</td>\n      <td>total</td>\n      <td>2010</td>\n      <td>37333601.0</td>\n      <td>California</td>\n      <td>163707.0</td>\n    </tr>\n  </tbody>\n</table>\n</div>"
     },
     "metadata": {}
    }
   ],
   "execution_count": null
  },
  {
   "cell_type": "code",
   "source": "data2010.set_index(\"state\",inplace=True)",
   "metadata": {
    "tags": [],
    "cell_id": "00055-7d3b4844-e393-42f3-97e2-4d95a42913a5",
    "deepnote_to_be_reexecuted": false,
    "source_hash": "d3f6cb6e",
    "execution_start": 1626057795756,
    "execution_millis": 5,
    "deepnote_cell_type": "code"
   },
   "outputs": [],
   "execution_count": null
  },
  {
   "cell_type": "code",
   "source": "data2010.head(2)",
   "metadata": {
    "tags": [],
    "cell_id": "00057-940d1151-4e7d-4bc4-9f39-7dcb0548279c",
    "deepnote_to_be_reexecuted": false,
    "source_hash": "1ddbc1e9",
    "execution_start": 1626057835531,
    "execution_millis": 40,
    "deepnote_cell_type": "code"
   },
   "outputs": [
    {
     "output_type": "execute_result",
     "execution_count": 59,
     "data": {
      "application/vnd.deepnote.dataframe.v2+json": {
       "row_count": 2,
       "column_count": 5,
       "columns": [
        {
         "name": "state/region",
         "dtype": "object",
         "stats": {
          "unique_count": 2,
          "nan_count": 0,
          "categories": [
           {
            "name": "AL",
            "count": 1
           },
           {
            "name": "AK",
            "count": 1
           }
          ]
         }
        },
        {
         "name": "ages",
         "dtype": "object",
         "stats": {
          "unique_count": 1,
          "nan_count": 0,
          "categories": [
           {
            "name": "total",
            "count": 2
           }
          ]
         }
        },
        {
         "name": "year",
         "dtype": "int64",
         "stats": {
          "unique_count": 1,
          "nan_count": 0,
          "min": "2010",
          "max": "2010",
          "histogram": [
           {
            "bin_start": 2009.5,
            "bin_end": 2009.6,
            "count": 0
           },
           {
            "bin_start": 2009.6,
            "bin_end": 2009.7,
            "count": 0
           },
           {
            "bin_start": 2009.7,
            "bin_end": 2009.8,
            "count": 0
           },
           {
            "bin_start": 2009.8,
            "bin_end": 2009.9,
            "count": 0
           },
           {
            "bin_start": 2009.9,
            "bin_end": 2010,
            "count": 0
           },
           {
            "bin_start": 2010,
            "bin_end": 2010.1,
            "count": 2
           },
           {
            "bin_start": 2010.1,
            "bin_end": 2010.2,
            "count": 0
           },
           {
            "bin_start": 2010.2,
            "bin_end": 2010.3,
            "count": 0
           },
           {
            "bin_start": 2010.3,
            "bin_end": 2010.4,
            "count": 0
           },
           {
            "bin_start": 2010.4,
            "bin_end": 2010.5,
            "count": 0
           }
          ]
         }
        },
        {
         "name": "population",
         "dtype": "float64",
         "stats": {
          "unique_count": 2,
          "nan_count": 0,
          "min": "713868.0",
          "max": "4785570.0",
          "histogram": [
           {
            "bin_start": 713868,
            "bin_end": 1121038.2,
            "count": 1
           },
           {
            "bin_start": 1121038.2,
            "bin_end": 1528208.4,
            "count": 0
           },
           {
            "bin_start": 1528208.4,
            "bin_end": 1935378.6,
            "count": 0
           },
           {
            "bin_start": 1935378.6,
            "bin_end": 2342548.8,
            "count": 0
           },
           {
            "bin_start": 2342548.8,
            "bin_end": 2749719,
            "count": 0
           },
           {
            "bin_start": 2749719,
            "bin_end": 3156889.2,
            "count": 0
           },
           {
            "bin_start": 3156889.2,
            "bin_end": 3564059.4,
            "count": 0
           },
           {
            "bin_start": 3564059.4,
            "bin_end": 3971229.6,
            "count": 0
           },
           {
            "bin_start": 3971229.6,
            "bin_end": 4378399.800000001,
            "count": 0
           },
           {
            "bin_start": 4378399.800000001,
            "bin_end": 4785570,
            "count": 1
           }
          ]
         }
        },
        {
         "name": "area (sq. mi)",
         "dtype": "float64",
         "stats": {
          "unique_count": 2,
          "nan_count": 0,
          "min": "52423.0",
          "max": "656425.0",
          "histogram": [
           {
            "bin_start": 52423,
            "bin_end": 112823.2,
            "count": 1
           },
           {
            "bin_start": 112823.2,
            "bin_end": 173223.4,
            "count": 0
           },
           {
            "bin_start": 173223.4,
            "bin_end": 233623.59999999998,
            "count": 0
           },
           {
            "bin_start": 233623.59999999998,
            "bin_end": 294023.8,
            "count": 0
           },
           {
            "bin_start": 294023.8,
            "bin_end": 354424,
            "count": 0
           },
           {
            "bin_start": 354424,
            "bin_end": 414824.19999999995,
            "count": 0
           },
           {
            "bin_start": 414824.19999999995,
            "bin_end": 475224.39999999997,
            "count": 0
           },
           {
            "bin_start": 475224.39999999997,
            "bin_end": 535624.6,
            "count": 0
           },
           {
            "bin_start": 535624.6,
            "bin_end": 596024.7999999999,
            "count": 0
           },
           {
            "bin_start": 596024.7999999999,
            "bin_end": 656425,
            "count": 1
           }
          ]
         }
        },
        {
         "name": "_deepnote_index_column",
         "dtype": "object"
        }
       ],
       "rows_top": [
        {
         "state/region": "AL",
         "ages": "total",
         "year": 2010,
         "population": 4785570,
         "area (sq. mi)": 52423,
         "_deepnote_index_column": "Alabama"
        },
        {
         "state/region": "AK",
         "ages": "total",
         "year": 2010,
         "population": 713868,
         "area (sq. mi)": 656425,
         "_deepnote_index_column": "Alaska"
        }
       ],
       "rows_bottom": null
      },
      "text/plain": "        state/region   ages  year  population  area (sq. mi)\nstate                                                       \nAlabama           AL  total  2010   4785570.0        52423.0\nAlaska            AK  total  2010    713868.0       656425.0",
      "text/html": "<div>\n<style scoped>\n    .dataframe tbody tr th:only-of-type {\n        vertical-align: middle;\n    }\n\n    .dataframe tbody tr th {\n        vertical-align: top;\n    }\n\n    .dataframe thead th {\n        text-align: right;\n    }\n</style>\n<table border=\"1\" class=\"dataframe\">\n  <thead>\n    <tr style=\"text-align: right;\">\n      <th></th>\n      <th>state/region</th>\n      <th>ages</th>\n      <th>year</th>\n      <th>population</th>\n      <th>area (sq. mi)</th>\n    </tr>\n    <tr>\n      <th>state</th>\n      <th></th>\n      <th></th>\n      <th></th>\n      <th></th>\n      <th></th>\n    </tr>\n  </thead>\n  <tbody>\n    <tr>\n      <th>Alabama</th>\n      <td>AL</td>\n      <td>total</td>\n      <td>2010</td>\n      <td>4785570.0</td>\n      <td>52423.0</td>\n    </tr>\n    <tr>\n      <th>Alaska</th>\n      <td>AK</td>\n      <td>total</td>\n      <td>2010</td>\n      <td>713868.0</td>\n      <td>656425.0</td>\n    </tr>\n  </tbody>\n</table>\n</div>"
     },
     "metadata": {}
    }
   ],
   "execution_count": null
  },
  {
   "cell_type": "code",
   "source": "density  = data2010[\"population\"]/data2010['area (sq. mi)']",
   "metadata": {
    "tags": [],
    "cell_id": "00057-1b086c41-a80b-4b61-8ebd-16ffc7e9be5f",
    "deepnote_to_be_reexecuted": false,
    "source_hash": "19a97719",
    "execution_start": 1626057896503,
    "execution_millis": 1,
    "deepnote_cell_type": "code"
   },
   "outputs": [],
   "execution_count": null
  },
  {
   "cell_type": "code",
   "source": "density.sort_values(ascending=True, inplace=True)\ndensity.head()",
   "metadata": {
    "tags": [],
    "cell_id": "00058-1586f577-3cef-45cc-ac81-5682c0527a38",
    "deepnote_to_be_reexecuted": false,
    "source_hash": "48e6f94d",
    "execution_start": 1626057913472,
    "execution_millis": 9,
    "deepnote_cell_type": "code"
   },
   "outputs": [
    {
     "output_type": "execute_result",
     "execution_count": 63,
     "data": {
      "text/plain": "state\nAlaska           1.087509\nWyoming          5.768079\nMontana          6.736171\nNorth Dakota     9.537565\nSouth Dakota    10.583512\ndtype: float64"
     },
     "metadata": {}
    }
   ],
   "execution_count": null
  },
  {
   "cell_type": "code",
   "source": "final_data.to_csv(\"US_States_Data.csv\")",
   "metadata": {
    "tags": [],
    "cell_id": "00059-c1d395b3-71ce-40b2-8567-c37681adba08",
    "deepnote_to_be_reexecuted": false,
    "source_hash": "82031c4c",
    "execution_start": 1626057960881,
    "execution_millis": 22,
    "deepnote_cell_type": "code"
   },
   "outputs": [],
   "execution_count": null
  },
  {
   "cell_type": "code",
   "source": "",
   "metadata": {
    "tags": [],
    "cell_id": "00060-be68a709-548f-46b8-badf-b66dd240aa1d",
    "deepnote_cell_type": "code"
   },
   "outputs": [],
   "execution_count": null
  },
  {
   "cell_type": "markdown",
   "source": "<a style='text-decoration:none;line-height:16px;display:flex;color:#5B5B62;padding:10px;justify-content:end;' href='https://deepnote.com?utm_source=created-in-deepnote-cell&projectId=f5f90ba1-3290-463e-8fc6-44108f4fa21b' target=\"_blank\">\n<img alt='Created in deepnote.com' style='display:inline;max-height:16px;margin:0px;margin-right:7.5px;' src='data:image/svg+xml;base64,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' > </img>\nCreated in <span style='font-weight:600;margin-left:4px;'>Deepnote</span></a>",
   "metadata": {
    "tags": [],
    "created_in_deepnote_cell": true,
    "deepnote_cell_type": "markdown"
   }
  }
 ],
 "nbformat": 4,
 "nbformat_minor": 2,
 "metadata": {
  "orig_nbformat": 2,
  "deepnote": {
   "is_reactive": false
  },
  "deepnote_notebook_id": "5648f87e-197e-4be3-a639-201ed9d9c6ad",
  "deepnote_execution_queue": []
 }
}