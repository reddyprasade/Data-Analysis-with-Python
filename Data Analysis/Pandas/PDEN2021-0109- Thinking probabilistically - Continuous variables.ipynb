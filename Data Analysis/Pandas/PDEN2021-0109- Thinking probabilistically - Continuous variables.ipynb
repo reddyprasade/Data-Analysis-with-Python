{
  "cells":[
    {
      "cell_type":"markdown",
      "source":[
        "# Thinking probabilistically - Continuous variables\n",
        "<b>\n",
        "\n",
        "1. Probability density functions\n",
        "2. Introduction to the Normal distribution\n",
        "    1. The Normal PDF\n",
        "    2. The Normal CDF\n",
        "3. The Normal distribution: Properties and warnings\n",
        "4. Are the Belmont Stakes results Normally distributed?\n",
        "5. What are the chances of a horse matching or beating Secretariat's record?\n",
        "6. The Exponential distribution\n",
        "7. If you have a story, you can simulate it!\n",
        "8. Distribution of no-hitters and cycles\n",
        "\n",
        "<\/b>"
      ],
      "metadata":{
        
      }
    },
    {
      "cell_type":"markdown",
      "source":[
        "## Probability density functions\n",
        "- Continuous variables\n",
        "    - Quantities that can take any value, not just discrete values\n",
        "- Probability Density function (PDF)\n",
        "    - Continuous analog to the PMF\n",
        "    - Mathematical description of the relative likelihood of observing a value of a continuous variable\n",
        "\n",
        "\n",
        "## Introduction to the Normal distribution\n",
        "\n",
        "* Normal distribution: Describes a continuous variable whose PDF has a single symmetric peak.\n",
        "\n",
        "$$ \\begin{align} \\text{mean of a Normal distribution} & \\neq \\text{mean computed from data} \\\\ \\text{st. dev of a Normal distribution} & \\neq \\text{st. dev computed from data} \\end{align} $$"
      ],
      "metadata":{
        
      }
    },
    {
      "cell_type":"markdown",
      "source":[
        "### The Normal PDF: \n",
        "\n",
        "In this exercise, you will explore the Normal PDF and also learn a way to plot a PDF of a known distribution using hacker statistics. Specifically, you will plot a Normal PDF for various values of the variance."
      ],
      "metadata":{
        
      }
    },
    {
      "cell_type":"code",
      "source":[
        "import numpy as np\n",
        "import seaborn as sns\n",
        "import matplotlib.pyplot as plt\n",
        "import pandas as pd"
      ],
      "execution_count":null,
      "outputs":[
        
      ],
      "metadata":{
        
      }
    },
    {
      "cell_type":"code",
      "source":[
        "sns.set()"
      ],
      "execution_count":null,
      "outputs":[
        
      ],
      "metadata":{
        
      }
    },
    {
      "cell_type":"code",
      "source":[
        "# with stds of interest: samples_std1, samples_std3, stamples_std10\n",
        "samples_std1 = np.random.normal(20, 1, 100000)\n",
        "samples_std3 = np.random.normal(20, 3, 100000)\n",
        "samples_std10 = np.random.normal(20, 10, 100000)"
      ],
      "execution_count":null,
      "outputs":[
        
      ],
      "metadata":{
        
      }
    },
    {
      "cell_type":"code",
      "source":[
        "# make histogram\n",
        "plt.figure(figsize=(30,15))\n",
        "_ = plt.hist(samples_std1,histtype='step',density=True,bins=100)\n",
        "_ = plt.hist(samples_std3,histtype='step',density=True,bins=100)\n",
        "_ = plt.hist(samples_std10,histtype='step',density=True,bins=100)\n",
        "\n",
        "# Make a legends and set limits\n",
        "_ = plt.legend(('std = 1', 'std = 3', 'std = 10'))\n",
        "plt.ylim(-0.01, 0.42)"
      ],
      "execution_count":null,
      "outputs":[
        
      ],
      "metadata":{
        
      }
    },
    {
      "cell_type":"markdown",
      "source":[
        "### The Normal CDF\n",
        "\n",
        "Now that you have a feel for how the Normal PDF looks, let's consider its CDF. Using the samples you generated in the last exercise (in your namespace as samples_std1, samples_std3, and samples_std10), generate and plot the CDFs."
      ],
      "metadata":{
        
      }
    },
    {
      "cell_type":"code",
      "source":[
        "def ecdf(data):\n",
        "    \"\"\"Compute ECDF for a one-dimensional array of measurements.\"\"\"\n",
        "    # Number of data points: n\n",
        "    n = len(data)\n",
        "\n",
        "    # x-data for Ecdf \n",
        "    x = np.sort(data)\n",
        "\n",
        "    # y-data for the ecdf-y\n",
        "    y =np.arange(1,n+1)\/n\n",
        "\n",
        "    return x,y"
      ],
      "execution_count":null,
      "outputs":[
        
      ],
      "metadata":{
        
      }
    },
    {
      "cell_type":"code",
      "source":[
        "x_std1, y_std1 = ecdf(samples_std1)\n",
        "x_std3, y_std3 = ecdf(samples_std3)\n",
        "x_std10, y_std10 = ecdf(samples_std10)"
      ],
      "execution_count":null,
      "outputs":[
        
      ],
      "metadata":{
        
      }
    },
    {
      "cell_type":"code",
      "source":[
        "# Plot CDF\n",
        "_ = plt.plot(x_std1,y_std1,marker='.',linestyle=None)\n",
        "_ = plt.plot(x_std3,y_std3,marker='*',linestyle=None)\n",
        "_ = plt.plot(x_std10,y_std10,marker='o',linestyle=None)\n",
        "# Make a legend\n",
        "_ = plt.legend(('std = 1', 'std = 3', 'std = 10'), loc='lower right')"
      ],
      "execution_count":null,
      "outputs":[
        
      ],
      "metadata":{
        
      }
    },
    {
      "cell_type":"markdown",
      "source":[
        "![](https:\/\/upload.wikimedia.org\/wikipedia\/commons\/8\/88\/Logistic-curve.svg)"
      ],
      "metadata":{
        
      }
    },
    {
      "cell_type":"markdown",
      "source":[
        "### The Normal distribution: Properties and warnings\n",
        "**Are the Belmont Stakes results Normally distributed?**\n",
        "\n",
        "Since 1926, the Belmont Stakes is a 1.5 mile-long race of 3-year old thoroughbred horses. [Secretariat](https:\/\/en.wikipedia.org\/wiki\/Secretariat_(horse) ) ran the fastest Belmont Stakes in history in 1973. While that was the fastest year, 1970 was the slowest because of unusually wet and sloppy conditions. With these two outliers removed from the data set, compute the mean and standard deviation of the Belmont winners' times. Sample out of a Normal distribution with this mean and standard deviation using the ```np.random.normal()``` function and plot a CDF. Overlay the ECDF from the winning Belmont times. Are these close to Normally distributed?\n",
        "\n",
        "Note: Justin scraped the data concerning the Belmont Stakes from the [Belmont Wikipedia page](https:\/\/en.wikipedia.org\/wiki\/Belmont_Stakes)."
      ],
      "metadata":{
        
      }
    },
    {
      "cell_type":"code",
      "source":[
        "url = \"https:\/\/raw.githubusercontent.com\/reddyprasade\/Data-Analysis-with-Python\/main\/Statistics\/Data\/belmont.csv\""
      ],
      "execution_count":null,
      "outputs":[
        
      ],
      "metadata":{
        
      }
    },
    {
      "cell_type":"code",
      "source":[
        "df = pd.read_csv(url)\n",
        "df"
      ],
      "execution_count":null,
      "outputs":[
        
      ],
      "metadata":{
        
      }
    },
    {
      "cell_type":"code",
      "source":[
        "df.head()"
      ],
      "execution_count":null,
      "outputs":[
        
      ],
      "metadata":{
        
      }
    },
    {
      "cell_type":"code",
      "source":[
        "df.tail()"
      ],
      "execution_count":null,
      "outputs":[
        
      ],
      "metadata":{
        
      }
    },
    {
      "cell_type":"code",
      "source":[
        "df.info()"
      ],
      "execution_count":null,
      "outputs":[
        
      ],
      "metadata":{
        
      }
    },
    {
      "cell_type":"code",
      "source":[
        "df.describe()"
      ],
      "execution_count":null,
      "outputs":[
        
      ],
      "metadata":{
        
      }
    },
    {
      "cell_type":"code",
      "source":[
        "belmont_no_outliers = np.array([148.51, 146.65, 148.52, 150.7 , 150.42, 150.88, 151.57, 147.54,\n",
        "       149.65, 148.74, 147.86, 148.75, 147.5 , 148.26, 149.71, 146.56,\n",
        "       151.19, 147.88, 149.16, 148.82, 148.96, 152.02, 146.82, 149.97,\n",
        "       146.13, 148.1 , 147.2 , 146.  , 146.4 , 148.2 , 149.8 , 147.  ,\n",
        "       147.2 , 147.8 , 148.2 , 149.  , 149.8 , 148.6 , 146.8 , 149.6 ,\n",
        "       149.  , 148.2 , 149.2 , 148.  , 150.4 , 148.8 , 147.2 , 148.8 ,\n",
        "       149.6 , 148.4 , 148.4 , 150.2 , 148.8 , 149.2 , 149.2 , 148.4 ,\n",
        "       150.2 , 146.6 , 149.8 , 149.  , 150.8 , 148.6 , 150.2 , 149.  ,\n",
        "       148.6 , 150.2 , 148.2 , 149.4 , 150.8 , 150.2 , 152.2 , 148.2 ,\n",
        "       149.2 , 151.  , 149.6 , 149.6 , 149.4 , 148.6 , 150.  , 150.6 ,\n",
        "       149.2 , 152.6 , 152.8 , 149.6 , 151.6 , 152.8 , 153.2 , 152.4 ,\n",
        "       152.2 ])"
      ],
      "execution_count":null,
      "outputs":[
        
      ],
      "metadata":{
        
      }
    },
    {
      "cell_type":"code",
      "source":[
        "# Compute mean and standard deviation: mu, sigma\n",
        "mu = np.mean(belmont_no_outliers)\n",
        "sigma = np.std(belmont_no_outliers)"
      ],
      "execution_count":null,
      "outputs":[
        
      ],
      "metadata":{
        
      }
    },
    {
      "cell_type":"code",
      "source":[
        "# Sample out of a normal distribution with this mu and sigma: samples\n",
        "samples = np.random.normal(mu, sigma, size=10000)"
      ],
      "execution_count":null,
      "outputs":[
        
      ],
      "metadata":{
        
      }
    },
    {
      "cell_type":"code",
      "source":[
        "# Get the CDF of the samples and of the data\n",
        "x_theor, y_theor = ecdf(belmont_no_outliers) # orginal data\n",
        "\n",
        "x, y = ecdf(samples) # normal distribution with this mu and sigma: samples"
      ],
      "execution_count":null,
      "outputs":[
        
      ],
      "metadata":{
        
      }
    },
    {
      "cell_type":"code",
      "source":[
        "# Plot the CDFs\n",
        "plt.figure(figsize=(30,15))\n",
        "_ = plt.plot(x_theor, y_theor) # Orginal data\n",
        "_ = plt.plot(x, y, marker='.', linestyle='none') # Samples\n",
        "_ = plt.xlabel('Belmont winning time (sec.)')\n",
        "_ = plt.ylabel('CDF')\n",
        "#plt.legend()"
      ],
      "execution_count":null,
      "outputs":[
        
      ],
      "metadata":{
        
      }
    },
    {
      "cell_type":"markdown",
      "source":[
        "What are the chances of a horse matching or beating Secretariat's record?\n",
        "\n",
        "Assume that the Belmont winners' times are Normally distributed (with the 1970 and 1973 years removed), what is the probability that the winner of a given Belmont Stakes will run it as fast or faster than Secretariat?"
      ],
      "metadata":{
        
      }
    },
    {
      "cell_type":"code",
      "source":[
        "# Take a million samples out of the Normal distribution: samples\n",
        "samples = np.random.normal(mu,sigma,size=1000000)\n",
        "\n",
        "# Compute the fraction that are faster than 144 seconds: prob\n",
        "prob = np.sum(samples\/144)\/len(samples)\n",
        "# Print the result\n",
        "print('Probability of besting Secretariat:', prob)"
      ],
      "execution_count":null,
      "outputs":[
        
      ],
      "metadata":{
        
      }
    },
    {
      "cell_type":"markdown",
      "source":[
        "## The Exponential distribution\n",
        "- The **waiting time** between **arrivals** of a Poisson process is Exponentially distributed\n",
        "\n",
        "\n",
        "**If you have a story, you can simulate it!**\n",
        "\n",
        "- Sometimes, the story describing our probability distribution does not have a named distribution to go along with it. In these cases, fear not! You can always simulate it. We'll do that in this and the next exercise.\n",
        "\n",
        "- In earlier exercises, we looked at the rare event of no-hitters in Major League Baseball. Hitting the cycle is another rare baseball event. When a batter hits the cycle, he gets all four kinds of hits, a single, double, triple, and home run, in a single game. Like no-hitters, this can be modeled as a Poisson process, so the time between hits of the cycle are also Exponentially distributed.\n",
        "\n",
        "- How long must we wait to see both a no-hitter and then a batter hit the cycle? The idea is that we have to wait some time for the no-hitter, and then after the no-hitter, we have to wait for hitting the cycle. Stated another way, what is the total waiting time for the arrival of two different Poisson processes? The total waiting time is the time waited for the no-hitter, plus the time waited for the hitting the cycle.\n",
        "\n",
        "Now, you will write a function to sample out of the distribution described by this story."
      ],
      "metadata":{
        
      }
    },
    {
      "cell_type":"code",
      "source":[
        "def successive_poisson(tau1,tau2,size=1):\n",
        "    \"\"\"\n",
        "    We ahave Compute time for arrival Successive Poisson.\n",
        "    \"\"\"\n",
        "    # Draw samples out of first exponential distribution: t1\n",
        "    t1 = np.random.exponential(tau1,size)\n",
        "\n",
        "    # Draw samples out of Second exponential distribution: t2\n",
        "\n",
        "    t2 = np.random.exponential(tau2,size)\n",
        "\n",
        "    return t1,t2"
      ],
      "execution_count":null,
      "outputs":[
        
      ],
      "metadata":{
        
      }
    },
    {
      "cell_type":"markdown",
      "source":[
        "### Distribution of no-hitters and cycles\n",
        "Now, you'll use your sampling function to compute the waiting time to observe a no-hitter and hitting of the cycle. The mean waiting time for a no-hitter is 764 games, and the mean waiting time for hitting the cycle is 715 games."
      ],
      "metadata":{
        
      }
    },
    {
      "cell_type":"code",
      "source":[
        "# Draw samples of waiting times: waiting_times\n",
        "waiting_times = successive_poisson(764, 715, size=100000)\n",
        "\n",
        "# Make the histogram\n",
        "plt.figure(figsize=(30,15))\n",
        "_ = plt.hist(waiting_times,bins=100,histtype='step',density=True)\n",
        "\n",
        "\n",
        "# Label axes\n",
        "_ = plt.xlabel('waiting times')\n",
        "_ = plt.ylabel('PDF')"
      ],
      "execution_count":null,
      "outputs":[
        
      ],
      "metadata":{
        
      }
    }
  ],
  "metadata":{
    
  },
  "nbformat":4,
  "nbformat_minor":0
}