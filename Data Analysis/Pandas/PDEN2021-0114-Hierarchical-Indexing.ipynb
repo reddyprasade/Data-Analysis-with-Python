{
 "cells": [
  {
   "cell_type": "markdown",
   "source": "# Hierarchical Indexing\n\n* Hierarchical indexing is a method of creating structured group relationships in data.\n* These hierarchical indexes, or MultiIndexes, are highly flexible and offer a range of options when performing complex data queries.\n* A key stage in any data analysis procedure is to split the initial dataset into more meaningful groups, which can be achieved in Pandas using the DataFrame groupby() method.\n",
   "metadata": {
    "tags": [],
    "cell_id": "00000-c42be9d0-86af-466d-8d43-f2ab73441d06",
    "deepnote_cell_type": "markdown"
   }
  },
  {
   "cell_type": "code",
   "metadata": {
    "tags": [],
    "cell_id": "00000-05961967-27ca-41ef-9fd3-3235798b5b0b",
    "deepnote_to_be_reexecuted": false,
    "source_hash": "f6e180ab",
    "execution_start": 1625710552711,
    "execution_millis": 1631,
    "deepnote_cell_type": "code"
   },
   "source": "# Start writing code here...\nimport numpy as np\nimport pandas as pd\nimport seaborn as sns\nimport matplotlib.pyplot as plt",
   "outputs": [],
   "execution_count": null
  },
  {
   "cell_type": "markdown",
   "source": "## A Multiply Indexed Series\n* The bad Way Multiply Indexed \n* Good way for Multiply Indexed \n",
   "metadata": {
    "tags": [],
    "cell_id": "00002-1b747c15-f9ef-43e7-af1d-a2b7768c5533",
    "deepnote_cell_type": "markdown"
   }
  },
  {
   "cell_type": "markdown",
   "source": "### The Bad way",
   "metadata": {
    "tags": [],
    "cell_id": "00003-e6c812a8-b889-4bb7-abb2-7ceae252fcaf",
    "deepnote_cell_type": "text-cell-h3"
   }
  },
  {
   "cell_type": "code",
   "metadata": {
    "tags": [],
    "cell_id": "00004-afa36818-a600-49dd-b05c-83b3db70f7db",
    "deepnote_to_be_reexecuted": false,
    "source_hash": "67004f88",
    "execution_start": 1625710554352,
    "execution_millis": 3,
    "deepnote_cell_type": "code"
   },
   "source": "index = [('California', 2000), ('California', 2010),\n         ('New York', 2000), ('New York', 2010),\n         ('Texas', 2000), ('Texas', 2010)]\npopulations = [33871648, 37253956,\n               18976457, 19378102,\n               20851820, 25145561]",
   "outputs": [],
   "execution_count": null
  },
  {
   "cell_type": "code",
   "metadata": {
    "tags": [],
    "cell_id": "00004-7c42b24b-4e23-40ff-a322-8af2edb9c064",
    "deepnote_to_be_reexecuted": false,
    "source_hash": "ec1784cc",
    "execution_start": 1625710554367,
    "execution_millis": 9,
    "deepnote_cell_type": "code"
   },
   "source": "pop = pd.Series(populations,index=index)\npop",
   "outputs": [
    {
     "output_type": "execute_result",
     "execution_count": 3,
     "data": {
      "text/plain": "(California, 2000)    33871648\n(California, 2010)    37253956\n(New York, 2000)      18976457\n(New York, 2010)      19378102\n(Texas, 2000)         20851820\n(Texas, 2010)         25145561\ndtype: int64"
     },
     "metadata": {}
    }
   ],
   "execution_count": null
  },
  {
   "cell_type": "code",
   "metadata": {
    "tags": [],
    "cell_id": "00005-2e7b83e4-fb24-4463-824a-1062f1d23d52",
    "deepnote_to_be_reexecuted": false,
    "source_hash": "d1a46dba",
    "execution_start": 1625710554412,
    "execution_millis": 6,
    "deepnote_cell_type": "code"
   },
   "source": "pop[0] # default indexing",
   "outputs": [
    {
     "output_type": "execute_result",
     "execution_count": 4,
     "data": {
      "text/plain": "33871648"
     },
     "metadata": {}
    }
   ],
   "execution_count": null
  },
  {
   "cell_type": "code",
   "metadata": {
    "tags": [],
    "cell_id": "00006-f81958ff-ec1c-414d-af17-dc2897f3db41",
    "deepnote_to_be_reexecuted": false,
    "source_hash": "9a3ec98f",
    "execution_start": 1625710554413,
    "execution_millis": 5,
    "deepnote_cell_type": "code"
   },
   "source": "pop[('California', 2000)] # Indexing",
   "outputs": [
    {
     "output_type": "execute_result",
     "execution_count": 5,
     "data": {
      "text/plain": "33871648"
     },
     "metadata": {}
    }
   ],
   "execution_count": null
  },
  {
   "cell_type": "code",
   "metadata": {
    "tags": [],
    "cell_id": "00007-aeebc015-0c86-4e8a-9a74-712bcbaed516",
    "deepnote_to_be_reexecuted": false,
    "source_hash": "ab7cdbc1",
    "execution_start": 1625710554413,
    "execution_millis": 5,
    "deepnote_cell_type": "code"
   },
   "source": "pop[[i for i in pop.index if i[1] == 2010]]",
   "outputs": [
    {
     "output_type": "execute_result",
     "execution_count": 6,
     "data": {
      "text/plain": "(California, 2010)    37253956\n(New York, 2010)      19378102\n(Texas, 2010)         25145561\ndtype: int64"
     },
     "metadata": {}
    }
   ],
   "execution_count": null
  },
  {
   "cell_type": "markdown",
   "source": "### The Better Way: Pandas MultiIndex",
   "metadata": {
    "tags": [],
    "cell_id": "00009-e8831347-0524-41f3-a87b-66b9492daac4",
    "deepnote_cell_type": "text-cell-h3"
   }
  },
  {
   "cell_type": "code",
   "metadata": {
    "tags": [],
    "cell_id": "00008-5a9fe496-1707-41fd-a1bc-72581f2de9be",
    "deepnote_to_be_reexecuted": false,
    "source_hash": "cda1ecdf",
    "execution_start": 1625710554426,
    "execution_millis": 6,
    "deepnote_cell_type": "code"
   },
   "source": "index = pd.MultiIndex.from_tuples(index)\nindex",
   "outputs": [
    {
     "output_type": "execute_result",
     "execution_count": 7,
     "data": {
      "text/plain": "MultiIndex([('California', 2000),\n            ('California', 2010),\n            (  'New York', 2000),\n            (  'New York', 2010),\n            (     'Texas', 2000),\n            (     'Texas', 2010)],\n           )"
     },
     "metadata": {}
    }
   ],
   "execution_count": null
  },
  {
   "cell_type": "code",
   "metadata": {
    "tags": [],
    "cell_id": "00011-bfcd6c36-acbf-452c-9891-4903b90a70db",
    "deepnote_to_be_reexecuted": false,
    "source_hash": "308a929e",
    "execution_start": 1625710554469,
    "execution_millis": 0,
    "deepnote_cell_type": "code"
   },
   "source": "pop = pop.reindex(index)",
   "outputs": [],
   "execution_count": null
  },
  {
   "cell_type": "code",
   "metadata": {
    "tags": [],
    "cell_id": "00012-4d47ea6e-dc8c-4c0a-8501-dd6597cf2d4a",
    "deepnote_to_be_reexecuted": false,
    "source_hash": "6f603d6d",
    "execution_start": 1625710554470,
    "execution_millis": 5,
    "deepnote_cell_type": "code"
   },
   "source": "pop",
   "outputs": [
    {
     "output_type": "execute_result",
     "execution_count": 9,
     "data": {
      "text/plain": "California  2000    33871648\n            2010    37253956\nNew York    2000    18976457\n            2010    19378102\nTexas       2000    20851820\n            2010    25145561\ndtype: int64"
     },
     "metadata": {}
    }
   ],
   "execution_count": null
  },
  {
   "cell_type": "code",
   "metadata": {
    "tags": [],
    "cell_id": "00013-f5e6dd70-8864-4729-ab67-da79b80afea3",
    "deepnote_to_be_reexecuted": false,
    "source_hash": "a6305c46",
    "execution_start": 1625710554470,
    "execution_millis": 5,
    "deepnote_cell_type": "code"
   },
   "source": "pop[:,2000]",
   "outputs": [
    {
     "output_type": "execute_result",
     "execution_count": 10,
     "data": {
      "text/plain": "California    33871648\nNew York      18976457\nTexas         20851820\ndtype: int64"
     },
     "metadata": {}
    }
   ],
   "execution_count": null
  },
  {
   "cell_type": "code",
   "metadata": {
    "tags": [],
    "cell_id": "00014-7dcbbbf8-3f8a-4593-8661-be8f4f9febe5",
    "deepnote_to_be_reexecuted": false,
    "source_hash": "7b1e78d4",
    "execution_start": 1625710554472,
    "execution_millis": 7,
    "deepnote_cell_type": "code"
   },
   "source": "pop.ndim",
   "outputs": [
    {
     "output_type": "execute_result",
     "execution_count": 11,
     "data": {
      "text/plain": "1"
     },
     "metadata": {}
    }
   ],
   "execution_count": null
  },
  {
   "cell_type": "code",
   "metadata": {
    "tags": [],
    "cell_id": "00015-905a1791-33c5-4a12-893a-6e2c502ee0c9",
    "deepnote_to_be_reexecuted": false,
    "source_hash": "bf31e867",
    "execution_start": 1625710554522,
    "execution_millis": 49,
    "deepnote_cell_type": "code"
   },
   "source": "pop_df = pop.unstack() # method will quickly convert a multiply indexed\npop_df",
   "outputs": [
    {
     "output_type": "execute_result",
     "execution_count": 12,
     "data": {
      "application/vnd.deepnote.dataframe.v2+json": {
       "row_count": 3,
       "column_count": 2,
       "columns": [
        {
         "name": 2000,
         "dtype": "int64",
         "stats": {
          "unique_count": 3,
          "nan_count": 0,
          "min": "18976457",
          "max": "33871648",
          "histogram": [
           {
            "bin_start": 18976457,
            "bin_end": 20465976.1,
            "count": 1
           },
           {
            "bin_start": 20465976.1,
            "bin_end": 21955495.2,
            "count": 1
           },
           {
            "bin_start": 21955495.2,
            "bin_end": 23445014.3,
            "count": 0
           },
           {
            "bin_start": 23445014.3,
            "bin_end": 24934533.4,
            "count": 0
           },
           {
            "bin_start": 24934533.4,
            "bin_end": 26424052.5,
            "count": 0
           },
           {
            "bin_start": 26424052.5,
            "bin_end": 27913571.6,
            "count": 0
           },
           {
            "bin_start": 27913571.6,
            "bin_end": 29403090.700000003,
            "count": 0
           },
           {
            "bin_start": 29403090.700000003,
            "bin_end": 30892609.8,
            "count": 0
           },
           {
            "bin_start": 30892609.8,
            "bin_end": 32382128.9,
            "count": 0
           },
           {
            "bin_start": 32382128.9,
            "bin_end": 33871648,
            "count": 1
           }
          ]
         }
        },
        {
         "name": 2010,
         "dtype": "int64",
         "stats": {
          "unique_count": 3,
          "nan_count": 0,
          "min": "19378102",
          "max": "37253956",
          "histogram": [
           {
            "bin_start": 19378102,
            "bin_end": 21165687.4,
            "count": 1
           },
           {
            "bin_start": 21165687.4,
            "bin_end": 22953272.8,
            "count": 0
           },
           {
            "bin_start": 22953272.8,
            "bin_end": 24740858.2,
            "count": 0
           },
           {
            "bin_start": 24740858.2,
            "bin_end": 26528443.6,
            "count": 1
           },
           {
            "bin_start": 26528443.6,
            "bin_end": 28316029,
            "count": 0
           },
           {
            "bin_start": 28316029,
            "bin_end": 30103614.4,
            "count": 0
           },
           {
            "bin_start": 30103614.4,
            "bin_end": 31891199.799999997,
            "count": 0
           },
           {
            "bin_start": 31891199.799999997,
            "bin_end": 33678785.2,
            "count": 0
           },
           {
            "bin_start": 33678785.2,
            "bin_end": 35466370.6,
            "count": 0
           },
           {
            "bin_start": 35466370.6,
            "bin_end": 37253956,
            "count": 1
           }
          ]
         }
        },
        {
         "name": "_deepnote_index_column",
         "dtype": "object"
        }
       ],
       "rows_top": [
        {
         "2000": 33871648,
         "2010": 37253956,
         "_deepnote_index_column": "California"
        },
        {
         "2000": 18976457,
         "2010": 19378102,
         "_deepnote_index_column": "New York"
        },
        {
         "2000": 20851820,
         "2010": 25145561,
         "_deepnote_index_column": "Texas"
        }
       ],
       "rows_bottom": null
      },
      "text/plain": "                2000      2010\nCalifornia  33871648  37253956\nNew York    18976457  19378102\nTexas       20851820  25145561",
      "text/html": "<div>\n<style scoped>\n    .dataframe tbody tr th:only-of-type {\n        vertical-align: middle;\n    }\n\n    .dataframe tbody tr th {\n        vertical-align: top;\n    }\n\n    .dataframe thead th {\n        text-align: right;\n    }\n</style>\n<table border=\"1\" class=\"dataframe\">\n  <thead>\n    <tr style=\"text-align: right;\">\n      <th></th>\n      <th>2000</th>\n      <th>2010</th>\n    </tr>\n  </thead>\n  <tbody>\n    <tr>\n      <th>California</th>\n      <td>33871648</td>\n      <td>37253956</td>\n    </tr>\n    <tr>\n      <th>New York</th>\n      <td>18976457</td>\n      <td>19378102</td>\n    </tr>\n    <tr>\n      <th>Texas</th>\n      <td>20851820</td>\n      <td>25145561</td>\n    </tr>\n  </tbody>\n</table>\n</div>"
     },
     "metadata": {}
    }
   ],
   "execution_count": null
  },
  {
   "cell_type": "code",
   "metadata": {
    "tags": [],
    "cell_id": "00016-7b9cc705-872f-4fb8-81f8-bdf4cc0b3656",
    "deepnote_to_be_reexecuted": false,
    "source_hash": "59aa6369",
    "execution_start": 1625710554559,
    "execution_millis": 12,
    "deepnote_cell_type": "code"
   },
   "source": "pop_df.ndim",
   "outputs": [
    {
     "output_type": "execute_result",
     "execution_count": 13,
     "data": {
      "text/plain": "2"
     },
     "metadata": {}
    }
   ],
   "execution_count": null
  },
  {
   "cell_type": "code",
   "metadata": {
    "tags": [],
    "cell_id": "00017-35184600-c410-4472-8736-dddf71739260",
    "deepnote_to_be_reexecuted": false,
    "source_hash": "a7aa452d",
    "execution_start": 1625710554560,
    "execution_millis": 0,
    "deepnote_cell_type": "code"
   },
   "source": "pop_df_st = pop_df.stack() # Converting N dim to 1 Dim ",
   "outputs": [],
   "execution_count": null
  },
  {
   "cell_type": "code",
   "metadata": {
    "tags": [],
    "cell_id": "00018-3d024475-ff05-417e-b10e-b4041aabd2f4",
    "deepnote_to_be_reexecuted": false,
    "source_hash": "d74a80d4",
    "execution_start": 1625710554561,
    "execution_millis": 0,
    "deepnote_cell_type": "code"
   },
   "source": "pop_df_st.ndim",
   "outputs": [
    {
     "output_type": "execute_result",
     "execution_count": 15,
     "data": {
      "text/plain": "1"
     },
     "metadata": {}
    }
   ],
   "execution_count": null
  },
  {
   "cell_type": "code",
   "metadata": {
    "tags": [],
    "cell_id": "00019-98d4b3ee-905d-4f46-ad02-77c33cdfb5d6",
    "deepnote_to_be_reexecuted": false,
    "source_hash": "65f8c59b",
    "execution_start": 1625710554566,
    "execution_millis": 29,
    "deepnote_cell_type": "code"
   },
   "source": "pop_df = pd.DataFrame({'total': pop,\n                       'under18': [9267089, 9284094,\n                                   4687374, 4318033,\n                                   5906301, 6879014]})\npop_df",
   "outputs": [
    {
     "output_type": "execute_result",
     "execution_count": 16,
     "data": {
      "application/vnd.deepnote.dataframe.v2+json": {
       "row_count": 6,
       "column_count": 2,
       "columns": [
        {
         "name": "total",
         "dtype": "int64",
         "stats": {
          "unique_count": 6,
          "nan_count": 0,
          "min": "18976457",
          "max": "37253956",
          "histogram": [
           {
            "bin_start": 18976457,
            "bin_end": 20804206.9,
            "count": 2
           },
           {
            "bin_start": 20804206.9,
            "bin_end": 22631956.8,
            "count": 1
           },
           {
            "bin_start": 22631956.8,
            "bin_end": 24459706.7,
            "count": 0
           },
           {
            "bin_start": 24459706.7,
            "bin_end": 26287456.6,
            "count": 1
           },
           {
            "bin_start": 26287456.6,
            "bin_end": 28115206.5,
            "count": 0
           },
           {
            "bin_start": 28115206.5,
            "bin_end": 29942956.4,
            "count": 0
           },
           {
            "bin_start": 29942956.4,
            "bin_end": 31770706.299999997,
            "count": 0
           },
           {
            "bin_start": 31770706.299999997,
            "bin_end": 33598456.2,
            "count": 0
           },
           {
            "bin_start": 33598456.2,
            "bin_end": 35426206.1,
            "count": 1
           },
           {
            "bin_start": 35426206.1,
            "bin_end": 37253956,
            "count": 1
           }
          ]
         }
        },
        {
         "name": "under18",
         "dtype": "int64",
         "stats": {
          "unique_count": 6,
          "nan_count": 0,
          "min": "4318033",
          "max": "9284094",
          "histogram": [
           {
            "bin_start": 4318033,
            "bin_end": 4814639.1,
            "count": 2
           },
           {
            "bin_start": 4814639.1,
            "bin_end": 5311245.2,
            "count": 0
           },
           {
            "bin_start": 5311245.2,
            "bin_end": 5807851.3,
            "count": 0
           },
           {
            "bin_start": 5807851.3,
            "bin_end": 6304457.4,
            "count": 1
           },
           {
            "bin_start": 6304457.4,
            "bin_end": 6801063.5,
            "count": 0
           },
           {
            "bin_start": 6801063.5,
            "bin_end": 7297669.6,
            "count": 1
           },
           {
            "bin_start": 7297669.6,
            "bin_end": 7794275.699999999,
            "count": 0
           },
           {
            "bin_start": 7794275.699999999,
            "bin_end": 8290881.8,
            "count": 0
           },
           {
            "bin_start": 8290881.8,
            "bin_end": 8787487.899999999,
            "count": 0
           },
           {
            "bin_start": 8787487.899999999,
            "bin_end": 9284094,
            "count": 2
           }
          ]
         }
        },
        {
         "name": "_deepnote_index_column",
         "dtype": "object"
        }
       ],
       "rows_top": [
        {
         "total": 33871648,
         "under18": 9267089,
         "_deepnote_index_column": "('California', 2000)"
        },
        {
         "total": 37253956,
         "under18": 9284094,
         "_deepnote_index_column": "('California', 2010)"
        },
        {
         "total": 18976457,
         "under18": 4687374,
         "_deepnote_index_column": "('New York', 2000)"
        },
        {
         "total": 19378102,
         "under18": 4318033,
         "_deepnote_index_column": "('New York', 2010)"
        },
        {
         "total": 20851820,
         "under18": 5906301,
         "_deepnote_index_column": "('Texas', 2000)"
        },
        {
         "total": 25145561,
         "under18": 6879014,
         "_deepnote_index_column": "('Texas', 2010)"
        }
       ],
       "rows_bottom": null
      },
      "text/plain": "                    total  under18\nCalifornia 2000  33871648  9267089\n           2010  37253956  9284094\nNew York   2000  18976457  4687374\n           2010  19378102  4318033\nTexas      2000  20851820  5906301\n           2010  25145561  6879014",
      "text/html": "<div>\n<style scoped>\n    .dataframe tbody tr th:only-of-type {\n        vertical-align: middle;\n    }\n\n    .dataframe tbody tr th {\n        vertical-align: top;\n    }\n\n    .dataframe thead th {\n        text-align: right;\n    }\n</style>\n<table border=\"1\" class=\"dataframe\">\n  <thead>\n    <tr style=\"text-align: right;\">\n      <th></th>\n      <th></th>\n      <th>total</th>\n      <th>under18</th>\n    </tr>\n  </thead>\n  <tbody>\n    <tr>\n      <th rowspan=\"2\" valign=\"top\">California</th>\n      <th>2000</th>\n      <td>33871648</td>\n      <td>9267089</td>\n    </tr>\n    <tr>\n      <th>2010</th>\n      <td>37253956</td>\n      <td>9284094</td>\n    </tr>\n    <tr>\n      <th rowspan=\"2\" valign=\"top\">New York</th>\n      <th>2000</th>\n      <td>18976457</td>\n      <td>4687374</td>\n    </tr>\n    <tr>\n      <th>2010</th>\n      <td>19378102</td>\n      <td>4318033</td>\n    </tr>\n    <tr>\n      <th rowspan=\"2\" valign=\"top\">Texas</th>\n      <th>2000</th>\n      <td>20851820</td>\n      <td>5906301</td>\n    </tr>\n    <tr>\n      <th>2010</th>\n      <td>25145561</td>\n      <td>6879014</td>\n    </tr>\n  </tbody>\n</table>\n</div>"
     },
     "metadata": {}
    }
   ],
   "execution_count": null
  },
  {
   "cell_type": "code",
   "metadata": {
    "tags": [],
    "cell_id": "00020-3fa1402b-1990-4eb3-9351-9b036b292aaa",
    "deepnote_to_be_reexecuted": false,
    "source_hash": "9dd11223",
    "execution_start": 1625710554593,
    "execution_millis": 29,
    "deepnote_cell_type": "code"
   },
   "source": "f_u18 = pop_df['under18'] / pop_df['total']\nf_u18.unstack()",
   "outputs": [
    {
     "output_type": "execute_result",
     "execution_count": 17,
     "data": {
      "application/vnd.deepnote.dataframe.v2+json": {
       "row_count": 3,
       "column_count": 2,
       "columns": [
        {
         "name": 2000,
         "dtype": "float64",
         "stats": {
          "unique_count": 3,
          "nan_count": 0,
          "min": "0.24700996608587156",
          "max": "0.2832511023018614",
          "histogram": [
           {
            "bin_start": 0.24700996608587156,
            "bin_end": 0.25063407970747054,
            "count": 1
           },
           {
            "bin_start": 0.25063407970747054,
            "bin_end": 0.2542581933290695,
            "count": 0
           },
           {
            "bin_start": 0.2542581933290695,
            "bin_end": 0.2578823069506685,
            "count": 0
           },
           {
            "bin_start": 0.2578823069506685,
            "bin_end": 0.2615064205722675,
            "count": 0
           },
           {
            "bin_start": 0.2615064205722675,
            "bin_end": 0.26513053419386645,
            "count": 0
           },
           {
            "bin_start": 0.26513053419386645,
            "bin_end": 0.2687546478154655,
            "count": 0
           },
           {
            "bin_start": 0.2687546478154655,
            "bin_end": 0.27237876143706446,
            "count": 0
           },
           {
            "bin_start": 0.27237876143706446,
            "bin_end": 0.27600287505866344,
            "count": 1
           },
           {
            "bin_start": 0.27600287505866344,
            "bin_end": 0.2796269886802624,
            "count": 0
           },
           {
            "bin_start": 0.2796269886802624,
            "bin_end": 0.2832511023018614,
            "count": 1
           }
          ]
         }
        },
        {
         "name": 2010,
         "dtype": "float64",
         "stats": {
          "unique_count": 3,
          "nan_count": 0,
          "min": "0.2228305434660216",
          "max": "0.2735677283159441",
          "histogram": [
           {
            "bin_start": 0.2228305434660216,
            "bin_end": 0.22790426195101385,
            "count": 1
           },
           {
            "bin_start": 0.22790426195101385,
            "bin_end": 0.2329779804360061,
            "count": 0
           },
           {
            "bin_start": 0.2329779804360061,
            "bin_end": 0.23805169892099837,
            "count": 0
           },
           {
            "bin_start": 0.23805169892099837,
            "bin_end": 0.2431254174059906,
            "count": 0
           },
           {
            "bin_start": 0.2431254174059906,
            "bin_end": 0.24819913589098286,
            "count": 0
           },
           {
            "bin_start": 0.24819913589098286,
            "bin_end": 0.25327285437597513,
            "count": 1
           },
           {
            "bin_start": 0.25327285437597513,
            "bin_end": 0.25834657286096735,
            "count": 0
           },
           {
            "bin_start": 0.25834657286096735,
            "bin_end": 0.2634202913459596,
            "count": 0
           },
           {
            "bin_start": 0.2634202913459596,
            "bin_end": 0.26849400983095184,
            "count": 0
           },
           {
            "bin_start": 0.26849400983095184,
            "bin_end": 0.2735677283159441,
            "count": 1
           }
          ]
         }
        },
        {
         "name": "_deepnote_index_column",
         "dtype": "object"
        }
       ],
       "rows_top": [
        {
         "2000": 0.2735942756608713,
         "2010": 0.2492109562807236,
         "_deepnote_index_column": "California"
        },
        {
         "2000": 0.24700996608587156,
         "2010": 0.2228305434660216,
         "_deepnote_index_column": "New York"
        },
        {
         "2000": 0.2832511023018614,
         "2010": 0.2735677283159441,
         "_deepnote_index_column": "Texas"
        }
       ],
       "rows_bottom": null
      },
      "text/plain": "                2000      2010\nCalifornia  0.273594  0.249211\nNew York    0.247010  0.222831\nTexas       0.283251  0.273568",
      "text/html": "<div>\n<style scoped>\n    .dataframe tbody tr th:only-of-type {\n        vertical-align: middle;\n    }\n\n    .dataframe tbody tr th {\n        vertical-align: top;\n    }\n\n    .dataframe thead th {\n        text-align: right;\n    }\n</style>\n<table border=\"1\" class=\"dataframe\">\n  <thead>\n    <tr style=\"text-align: right;\">\n      <th></th>\n      <th>2000</th>\n      <th>2010</th>\n    </tr>\n  </thead>\n  <tbody>\n    <tr>\n      <th>California</th>\n      <td>0.273594</td>\n      <td>0.249211</td>\n    </tr>\n    <tr>\n      <th>New York</th>\n      <td>0.247010</td>\n      <td>0.222831</td>\n    </tr>\n    <tr>\n      <th>Texas</th>\n      <td>0.283251</td>\n      <td>0.273568</td>\n    </tr>\n  </tbody>\n</table>\n</div>"
     },
     "metadata": {}
    }
   ],
   "execution_count": null
  },
  {
   "cell_type": "code",
   "metadata": {
    "tags": [],
    "cell_id": "00021-563319e6-cacd-4667-8e06-d6357a7d9390",
    "deepnote_to_be_reexecuted": false,
    "source_hash": "8c1f7191",
    "execution_start": 1625710554633,
    "execution_millis": 7,
    "deepnote_cell_type": "code"
   },
   "source": "data = {('California', 2000): 33871648,\n        ('California', 2010): 37253956,\n        ('Texas', 2000): 20851820,\n        ('Texas', 2010): 25145561,\n        ('New York', 2000): 18976457,\n        ('New York', 2010): 19378102}\npd.Series(data)",
   "outputs": [
    {
     "output_type": "execute_result",
     "execution_count": 18,
     "data": {
      "text/plain": "California  2000    33871648\n            2010    37253956\nTexas       2000    20851820\n            2010    25145561\nNew York    2000    18976457\n            2010    19378102\ndtype: int64"
     },
     "metadata": {}
    }
   ],
   "execution_count": null
  },
  {
   "cell_type": "code",
   "metadata": {
    "tags": [],
    "cell_id": "00022-d782325a-7904-425c-9631-61c20c78782c",
    "deepnote_to_be_reexecuted": false,
    "source_hash": "395ed29c",
    "execution_start": 1625710554699,
    "execution_millis": 7,
    "deepnote_cell_type": "code"
   },
   "source": "pd.MultiIndex.from_tuples(data)",
   "outputs": [
    {
     "output_type": "execute_result",
     "execution_count": 19,
     "data": {
      "text/plain": "MultiIndex([('California', 2000),\n            ('California', 2010),\n            (     'Texas', 2000),\n            (     'Texas', 2010),\n            (  'New York', 2000),\n            (  'New York', 2010)],\n           )"
     },
     "metadata": {}
    }
   ],
   "execution_count": null
  },
  {
   "cell_type": "code",
   "metadata": {
    "tags": [],
    "cell_id": "00023-f4db4576-f323-4f07-9320-d9dce59a5fd7",
    "deepnote_to_be_reexecuted": false,
    "source_hash": "6f603d6d",
    "execution_start": 1625710554699,
    "execution_millis": 7,
    "deepnote_cell_type": "code"
   },
   "source": "pop",
   "outputs": [
    {
     "output_type": "execute_result",
     "execution_count": 20,
     "data": {
      "text/plain": "California  2000    33871648\n            2010    37253956\nNew York    2000    18976457\n            2010    19378102\nTexas       2000    20851820\n            2010    25145561\ndtype: int64"
     },
     "metadata": {}
    }
   ],
   "execution_count": null
  },
  {
   "cell_type": "code",
   "metadata": {
    "tags": [],
    "cell_id": "00024-4913b211-e2e7-434c-94cc-d4d462b3461d",
    "deepnote_to_be_reexecuted": false,
    "source_hash": "e3c47f69",
    "execution_start": 1625710554700,
    "execution_millis": 0,
    "deepnote_cell_type": "code"
   },
   "source": "pop.index.names = [\"State\",\"year\"]",
   "outputs": [],
   "execution_count": null
  },
  {
   "cell_type": "code",
   "metadata": {
    "tags": [],
    "cell_id": "00025-39989936-5975-4c8e-9af6-09671760e684",
    "deepnote_to_be_reexecuted": false,
    "source_hash": "6f603d6d",
    "execution_start": 1625710554704,
    "execution_millis": 17,
    "deepnote_cell_type": "code"
   },
   "source": "pop",
   "outputs": [
    {
     "output_type": "execute_result",
     "execution_count": 22,
     "data": {
      "text/plain": "State       year\nCalifornia  2000    33871648\n            2010    37253956\nNew York    2000    18976457\n            2010    19378102\nTexas       2000    20851820\n            2010    25145561\ndtype: int64"
     },
     "metadata": {}
    }
   ],
   "execution_count": null
  },
  {
   "cell_type": "code",
   "metadata": {
    "tags": [],
    "cell_id": "00028-27109674-5eed-4232-8f02-d20cff01d392",
    "deepnote_to_be_reexecuted": false,
    "source_hash": "fefa537d",
    "execution_start": 1625710554754,
    "execution_millis": 19,
    "deepnote_cell_type": "code"
   },
   "source": "# hierarchical indices and columns\nindex = pd.MultiIndex.from_product([[2013, 2014], [1, 2]],\n                                   names=['year', 'visit'])\ncolumns = pd.MultiIndex.from_product([['Raju', 'Rani', 'Reddy'], ['HG', 'Temp']],\n                                     names=['subject', 'type'])\n\n# mock some data\ndata = np.round(np.random.randn(4, 6), 1)\ndata[:, ::2] *= 10\ndata += 37\n\n# create the DataFrame\nhealth_data = pd.DataFrame(data, index=index, columns=columns)\nhealth_data",
   "outputs": [
    {
     "output_type": "execute_result",
     "execution_count": 23,
     "data": {
      "application/vnd.deepnote.dataframe.v2+json": {
       "row_count": 4,
       "column_count": 6,
       "columns": [
        {
         "name": [
          "Raju",
          "HG"
         ],
         "dtype": "float64",
         "stats": {
          "unique_count": 4,
          "nan_count": 0,
          "min": "21.0",
          "max": "53.0",
          "histogram": [
           {
            "bin_start": 21,
            "bin_end": 24.2,
            "count": 2
           },
           {
            "bin_start": 24.2,
            "bin_end": 27.4,
            "count": 0
           },
           {
            "bin_start": 27.4,
            "bin_end": 30.6,
            "count": 0
           },
           {
            "bin_start": 30.6,
            "bin_end": 33.8,
            "count": 0
           },
           {
            "bin_start": 33.8,
            "bin_end": 37,
            "count": 0
           },
           {
            "bin_start": 37,
            "bin_end": 40.2,
            "count": 0
           },
           {
            "bin_start": 40.2,
            "bin_end": 43.400000000000006,
            "count": 0
           },
           {
            "bin_start": 43.400000000000006,
            "bin_end": 46.6,
            "count": 0
           },
           {
            "bin_start": 46.6,
            "bin_end": 49.8,
            "count": 0
           },
           {
            "bin_start": 49.8,
            "bin_end": 53,
            "count": 2
           }
          ]
         }
        },
        {
         "name": [
          "Raju",
          "Temp"
         ],
         "dtype": "float64",
         "stats": {
          "unique_count": 4,
          "nan_count": 0,
          "min": "36.7",
          "max": "37.4",
          "histogram": [
           {
            "bin_start": 36.7,
            "bin_end": 36.77,
            "count": 1
           },
           {
            "bin_start": 36.77,
            "bin_end": 36.84,
            "count": 0
           },
           {
            "bin_start": 36.84,
            "bin_end": 36.910000000000004,
            "count": 0
           },
           {
            "bin_start": 36.910000000000004,
            "bin_end": 36.980000000000004,
            "count": 0
           },
           {
            "bin_start": 36.980000000000004,
            "bin_end": 37.05,
            "count": 0
           },
           {
            "bin_start": 37.05,
            "bin_end": 37.12,
            "count": 0
           },
           {
            "bin_start": 37.12,
            "bin_end": 37.19,
            "count": 0
           },
           {
            "bin_start": 37.19,
            "bin_end": 37.26,
            "count": 1
           },
           {
            "bin_start": 37.26,
            "bin_end": 37.33,
            "count": 1
           },
           {
            "bin_start": 37.33,
            "bin_end": 37.4,
            "count": 1
           }
          ]
         }
        },
        {
         "name": [
          "Rani",
          "HG"
         ],
         "dtype": "float64",
         "stats": {
          "unique_count": 4,
          "nan_count": 0,
          "min": "19.0",
          "max": "40.0",
          "histogram": [
           {
            "bin_start": 19,
            "bin_end": 21.1,
            "count": 2
           },
           {
            "bin_start": 21.1,
            "bin_end": 23.2,
            "count": 0
           },
           {
            "bin_start": 23.2,
            "bin_end": 25.3,
            "count": 0
           },
           {
            "bin_start": 25.3,
            "bin_end": 27.4,
            "count": 0
           },
           {
            "bin_start": 27.4,
            "bin_end": 29.5,
            "count": 0
           },
           {
            "bin_start": 29.5,
            "bin_end": 31.6,
            "count": 0
           },
           {
            "bin_start": 31.6,
            "bin_end": 33.7,
            "count": 0
           },
           {
            "bin_start": 33.7,
            "bin_end": 35.8,
            "count": 1
           },
           {
            "bin_start": 35.8,
            "bin_end": 37.900000000000006,
            "count": 0
           },
           {
            "bin_start": 37.900000000000006,
            "bin_end": 40,
            "count": 1
           }
          ]
         }
        },
        {
         "name": [
          "Rani",
          "Temp"
         ],
         "dtype": "float64",
         "stats": {
          "unique_count": 4,
          "nan_count": 0,
          "min": "35.7",
          "max": "37.5",
          "histogram": [
           {
            "bin_start": 35.7,
            "bin_end": 35.88,
            "count": 1
           },
           {
            "bin_start": 35.88,
            "bin_end": 36.06,
            "count": 0
           },
           {
            "bin_start": 36.06,
            "bin_end": 36.24,
            "count": 0
           },
           {
            "bin_start": 36.24,
            "bin_end": 36.42,
            "count": 0
           },
           {
            "bin_start": 36.42,
            "bin_end": 36.6,
            "count": 0
           },
           {
            "bin_start": 36.6,
            "bin_end": 36.78,
            "count": 0
           },
           {
            "bin_start": 36.78,
            "bin_end": 36.96,
            "count": 0
           },
           {
            "bin_start": 36.96,
            "bin_end": 37.14,
            "count": 1
           },
           {
            "bin_start": 37.14,
            "bin_end": 37.32,
            "count": 1
           },
           {
            "bin_start": 37.32,
            "bin_end": 37.5,
            "count": 1
           }
          ]
         }
        },
        {
         "name": [
          "Reddy",
          "HG"
         ],
         "dtype": "float64",
         "stats": {
          "unique_count": 4,
          "nan_count": 0,
          "min": "29.0",
          "max": "37.0",
          "histogram": [
           {
            "bin_start": 29,
            "bin_end": 29.8,
            "count": 1
           },
           {
            "bin_start": 29.8,
            "bin_end": 30.6,
            "count": 0
           },
           {
            "bin_start": 30.6,
            "bin_end": 31.4,
            "count": 0
           },
           {
            "bin_start": 31.4,
            "bin_end": 32.2,
            "count": 1
           },
           {
            "bin_start": 32.2,
            "bin_end": 33,
            "count": 0
           },
           {
            "bin_start": 33,
            "bin_end": 33.8,
            "count": 0
           },
           {
            "bin_start": 33.8,
            "bin_end": 34.6,
            "count": 0
           },
           {
            "bin_start": 34.6,
            "bin_end": 35.4,
            "count": 1
           },
           {
            "bin_start": 35.4,
            "bin_end": 36.2,
            "count": 0
           },
           {
            "bin_start": 36.2,
            "bin_end": 37,
            "count": 1
           }
          ]
         }
        },
        {
         "name": [
          "Reddy",
          "Temp"
         ],
         "dtype": "float64",
         "stats": {
          "unique_count": 4,
          "nan_count": 0,
          "min": "35.7",
          "max": "37.6",
          "histogram": [
           {
            "bin_start": 35.7,
            "bin_end": 35.89,
            "count": 1
           },
           {
            "bin_start": 35.89,
            "bin_end": 36.080000000000005,
            "count": 0
           },
           {
            "bin_start": 36.080000000000005,
            "bin_end": 36.27,
            "count": 0
           },
           {
            "bin_start": 36.27,
            "bin_end": 36.46,
            "count": 1
           },
           {
            "bin_start": 36.46,
            "bin_end": 36.650000000000006,
            "count": 0
           },
           {
            "bin_start": 36.650000000000006,
            "bin_end": 36.84,
            "count": 0
           },
           {
            "bin_start": 36.84,
            "bin_end": 37.03,
            "count": 0
           },
           {
            "bin_start": 37.03,
            "bin_end": 37.22,
            "count": 1
           },
           {
            "bin_start": 37.22,
            "bin_end": 37.410000000000004,
            "count": 0
           },
           {
            "bin_start": 37.410000000000004,
            "bin_end": 37.6,
            "count": 1
           }
          ]
         }
        },
        {
         "name": "_deepnote_index_column",
         "dtype": "object"
        }
       ],
       "rows_top": [
        {
         "('Raju', 'HG')": 50,
         "('Raju', 'Temp')": 36.7,
         "('Rani', 'HG')": 19,
         "('Rani', 'Temp')": 35.7,
         "('Reddy', 'HG')": 35,
         "('Reddy', 'Temp')": 37.6,
         "_deepnote_index_column": "(2013, 1)"
        },
        {
         "('Raju', 'HG')": 23,
         "('Raju', 'Temp')": 37.2,
         "('Rani', 'HG')": 40,
         "('Rani', 'Temp')": 37.1,
         "('Reddy', 'HG')": 37,
         "('Reddy', 'Temp')": 35.7,
         "_deepnote_index_column": "(2013, 2)"
        },
        {
         "('Raju', 'HG')": 21,
         "('Raju', 'Temp')": 37.4,
         "('Rani', 'HG')": 21,
         "('Rani', 'Temp')": 37.5,
         "('Reddy', 'HG')": 29,
         "('Reddy', 'Temp')": 37.1,
         "_deepnote_index_column": "(2014, 1)"
        },
        {
         "('Raju', 'HG')": 53,
         "('Raju', 'Temp')": 37.3,
         "('Rani', 'HG')": 34,
         "('Rani', 'Temp')": 37.2,
         "('Reddy', 'HG')": 32,
         "('Reddy', 'Temp')": 36.4,
         "_deepnote_index_column": "(2014, 2)"
        }
       ],
       "rows_bottom": null
      },
      "text/plain": "subject     Raju        Rani       Reddy      \ntype          HG  Temp    HG  Temp    HG  Temp\nyear visit                                    \n2013 1      50.0  36.7  19.0  35.7  35.0  37.6\n     2      23.0  37.2  40.0  37.1  37.0  35.7\n2014 1      21.0  37.4  21.0  37.5  29.0  37.1\n     2      53.0  37.3  34.0  37.2  32.0  36.4",
      "text/html": "<div>\n<style scoped>\n    .dataframe tbody tr th:only-of-type {\n        vertical-align: middle;\n    }\n\n    .dataframe tbody tr th {\n        vertical-align: top;\n    }\n\n    .dataframe thead tr th {\n        text-align: left;\n    }\n\n    .dataframe thead tr:last-of-type th {\n        text-align: right;\n    }\n</style>\n<table border=\"1\" class=\"dataframe\">\n  <thead>\n    <tr>\n      <th></th>\n      <th>subject</th>\n      <th colspan=\"2\" halign=\"left\">Raju</th>\n      <th colspan=\"2\" halign=\"left\">Rani</th>\n      <th colspan=\"2\" halign=\"left\">Reddy</th>\n    </tr>\n    <tr>\n      <th></th>\n      <th>type</th>\n      <th>HG</th>\n      <th>Temp</th>\n      <th>HG</th>\n      <th>Temp</th>\n      <th>HG</th>\n      <th>Temp</th>\n    </tr>\n    <tr>\n      <th>year</th>\n      <th>visit</th>\n      <th></th>\n      <th></th>\n      <th></th>\n      <th></th>\n      <th></th>\n      <th></th>\n    </tr>\n  </thead>\n  <tbody>\n    <tr>\n      <th rowspan=\"2\" valign=\"top\">2013</th>\n      <th>1</th>\n      <td>50.0</td>\n      <td>36.7</td>\n      <td>19.0</td>\n      <td>35.7</td>\n      <td>35.0</td>\n      <td>37.6</td>\n    </tr>\n    <tr>\n      <th>2</th>\n      <td>23.0</td>\n      <td>37.2</td>\n      <td>40.0</td>\n      <td>37.1</td>\n      <td>37.0</td>\n      <td>35.7</td>\n    </tr>\n    <tr>\n      <th rowspan=\"2\" valign=\"top\">2014</th>\n      <th>1</th>\n      <td>21.0</td>\n      <td>37.4</td>\n      <td>21.0</td>\n      <td>37.5</td>\n      <td>29.0</td>\n      <td>37.1</td>\n    </tr>\n    <tr>\n      <th>2</th>\n      <td>53.0</td>\n      <td>37.3</td>\n      <td>34.0</td>\n      <td>37.2</td>\n      <td>32.0</td>\n      <td>36.4</td>\n    </tr>\n  </tbody>\n</table>\n</div>"
     },
     "metadata": {}
    }
   ],
   "execution_count": null
  },
  {
   "cell_type": "code",
   "metadata": {
    "tags": [],
    "cell_id": "00033-03a18560-95ae-4717-a8b4-3d63e36b0c1b",
    "deepnote_to_be_reexecuted": false,
    "source_hash": "129f7d41",
    "execution_start": 1625710554771,
    "execution_millis": 27,
    "deepnote_cell_type": "code"
   },
   "source": "health_data['Raju']",
   "outputs": [
    {
     "output_type": "execute_result",
     "execution_count": 24,
     "data": {
      "application/vnd.deepnote.dataframe.v2+json": {
       "row_count": 4,
       "column_count": 2,
       "columns": [
        {
         "name": "HG",
         "dtype": "float64",
         "stats": {
          "unique_count": 4,
          "nan_count": 0,
          "min": "21.0",
          "max": "53.0",
          "histogram": [
           {
            "bin_start": 21,
            "bin_end": 24.2,
            "count": 2
           },
           {
            "bin_start": 24.2,
            "bin_end": 27.4,
            "count": 0
           },
           {
            "bin_start": 27.4,
            "bin_end": 30.6,
            "count": 0
           },
           {
            "bin_start": 30.6,
            "bin_end": 33.8,
            "count": 0
           },
           {
            "bin_start": 33.8,
            "bin_end": 37,
            "count": 0
           },
           {
            "bin_start": 37,
            "bin_end": 40.2,
            "count": 0
           },
           {
            "bin_start": 40.2,
            "bin_end": 43.400000000000006,
            "count": 0
           },
           {
            "bin_start": 43.400000000000006,
            "bin_end": 46.6,
            "count": 0
           },
           {
            "bin_start": 46.6,
            "bin_end": 49.8,
            "count": 0
           },
           {
            "bin_start": 49.8,
            "bin_end": 53,
            "count": 2
           }
          ]
         }
        },
        {
         "name": "Temp",
         "dtype": "float64",
         "stats": {
          "unique_count": 4,
          "nan_count": 0,
          "min": "36.7",
          "max": "37.4",
          "histogram": [
           {
            "bin_start": 36.7,
            "bin_end": 36.77,
            "count": 1
           },
           {
            "bin_start": 36.77,
            "bin_end": 36.84,
            "count": 0
           },
           {
            "bin_start": 36.84,
            "bin_end": 36.910000000000004,
            "count": 0
           },
           {
            "bin_start": 36.910000000000004,
            "bin_end": 36.980000000000004,
            "count": 0
           },
           {
            "bin_start": 36.980000000000004,
            "bin_end": 37.05,
            "count": 0
           },
           {
            "bin_start": 37.05,
            "bin_end": 37.12,
            "count": 0
           },
           {
            "bin_start": 37.12,
            "bin_end": 37.19,
            "count": 0
           },
           {
            "bin_start": 37.19,
            "bin_end": 37.26,
            "count": 1
           },
           {
            "bin_start": 37.26,
            "bin_end": 37.33,
            "count": 1
           },
           {
            "bin_start": 37.33,
            "bin_end": 37.4,
            "count": 1
           }
          ]
         }
        },
        {
         "name": "_deepnote_index_column",
         "dtype": "object"
        }
       ],
       "rows_top": [
        {
         "HG": 50,
         "Temp": 36.7,
         "_deepnote_index_column": "(2013, 1)"
        },
        {
         "HG": 23,
         "Temp": 37.2,
         "_deepnote_index_column": "(2013, 2)"
        },
        {
         "HG": 21,
         "Temp": 37.4,
         "_deepnote_index_column": "(2014, 1)"
        },
        {
         "HG": 53,
         "Temp": 37.3,
         "_deepnote_index_column": "(2014, 2)"
        }
       ],
       "rows_bottom": null
      },
      "text/plain": "type          HG  Temp\nyear visit            \n2013 1      50.0  36.7\n     2      23.0  37.2\n2014 1      21.0  37.4\n     2      53.0  37.3",
      "text/html": "<div>\n<style scoped>\n    .dataframe tbody tr th:only-of-type {\n        vertical-align: middle;\n    }\n\n    .dataframe tbody tr th {\n        vertical-align: top;\n    }\n\n    .dataframe thead th {\n        text-align: right;\n    }\n</style>\n<table border=\"1\" class=\"dataframe\">\n  <thead>\n    <tr style=\"text-align: right;\">\n      <th></th>\n      <th>type</th>\n      <th>HG</th>\n      <th>Temp</th>\n    </tr>\n    <tr>\n      <th>year</th>\n      <th>visit</th>\n      <th></th>\n      <th></th>\n    </tr>\n  </thead>\n  <tbody>\n    <tr>\n      <th rowspan=\"2\" valign=\"top\">2013</th>\n      <th>1</th>\n      <td>50.0</td>\n      <td>36.7</td>\n    </tr>\n    <tr>\n      <th>2</th>\n      <td>23.0</td>\n      <td>37.2</td>\n    </tr>\n    <tr>\n      <th rowspan=\"2\" valign=\"top\">2014</th>\n      <th>1</th>\n      <td>21.0</td>\n      <td>37.4</td>\n    </tr>\n    <tr>\n      <th>2</th>\n      <td>53.0</td>\n      <td>37.3</td>\n    </tr>\n  </tbody>\n</table>\n</div>"
     },
     "metadata": {}
    }
   ],
   "execution_count": null
  },
  {
   "cell_type": "markdown",
   "source": "# MultiIndex from frame",
   "metadata": {
    "tags": [],
    "cell_id": "00028-b2cf2a52-0778-412e-b63a-e2432b0e8850",
    "deepnote_cell_type": "markdown"
   }
  },
  {
   "cell_type": "code",
   "metadata": {
    "tags": [],
    "cell_id": "00028-a6da4a91-1737-43cd-bc9c-09499267ddbd",
    "deepnote_to_be_reexecuted": false,
    "source_hash": "a4ce756d",
    "execution_start": 1625710654457,
    "execution_millis": 8,
    "deepnote_cell_type": "code"
   },
   "source": "df = pd.DataFrame([['HI', 'Temp'], ['HI', 'Precip'],\n                    [\"NJ\",\"Temp\"],[\"NJ\",\"Perecip\"]],\n                    columns=['a','b'])\ndf",
   "outputs": [
    {
     "output_type": "execute_result",
     "execution_count": 27,
     "data": {
      "application/vnd.deepnote.dataframe.v2+json": {
       "row_count": 4,
       "column_count": 2,
       "columns": [
        {
         "name": "a",
         "dtype": "object",
         "stats": {
          "unique_count": 2,
          "nan_count": 0,
          "categories": [
           {
            "name": "HI",
            "count": 2
           },
           {
            "name": "NJ",
            "count": 2
           }
          ]
         }
        },
        {
         "name": "b",
         "dtype": "object",
         "stats": {
          "unique_count": 3,
          "nan_count": 0,
          "categories": [
           {
            "name": "Temp",
            "count": 2
           },
           {
            "name": "Precip",
            "count": 1
           },
           {
            "name": "Perecip",
            "count": 1
           }
          ]
         }
        },
        {
         "name": "_deepnote_index_column",
         "dtype": "int64"
        }
       ],
       "rows_top": [
        {
         "a": "HI",
         "b": "Temp",
         "_deepnote_index_column": 0
        },
        {
         "a": "HI",
         "b": "Precip",
         "_deepnote_index_column": 1
        },
        {
         "a": "NJ",
         "b": "Temp",
         "_deepnote_index_column": 2
        },
        {
         "a": "NJ",
         "b": "Perecip",
         "_deepnote_index_column": 3
        }
       ],
       "rows_bottom": null
      },
      "text/plain": "    a        b\n0  HI     Temp\n1  HI   Precip\n2  NJ     Temp\n3  NJ  Perecip",
      "text/html": "<div>\n<style scoped>\n    .dataframe tbody tr th:only-of-type {\n        vertical-align: middle;\n    }\n\n    .dataframe tbody tr th {\n        vertical-align: top;\n    }\n\n    .dataframe thead th {\n        text-align: right;\n    }\n</style>\n<table border=\"1\" class=\"dataframe\">\n  <thead>\n    <tr style=\"text-align: right;\">\n      <th></th>\n      <th>a</th>\n      <th>b</th>\n    </tr>\n  </thead>\n  <tbody>\n    <tr>\n      <th>0</th>\n      <td>HI</td>\n      <td>Temp</td>\n    </tr>\n    <tr>\n      <th>1</th>\n      <td>HI</td>\n      <td>Precip</td>\n    </tr>\n    <tr>\n      <th>2</th>\n      <td>NJ</td>\n      <td>Temp</td>\n    </tr>\n    <tr>\n      <th>3</th>\n      <td>NJ</td>\n      <td>Perecip</td>\n    </tr>\n  </tbody>\n</table>\n</div>"
     },
     "metadata": {}
    }
   ],
   "execution_count": null
  },
  {
   "cell_type": "code",
   "source": "pd.MultiIndex.from_frame(df)",
   "metadata": {
    "tags": [],
    "cell_id": "00030-17198131-b074-4c89-a97d-7dd6caf025e3",
    "deepnote_to_be_reexecuted": false,
    "source_hash": "67b40056",
    "execution_start": 1625710673046,
    "execution_millis": 4,
    "deepnote_cell_type": "code"
   },
   "outputs": [
    {
     "output_type": "execute_result",
     "execution_count": 28,
     "data": {
      "text/plain": "MultiIndex([('HI',    'Temp'),\n            ('HI',  'Precip'),\n            ('NJ',    'Temp'),\n            ('NJ', 'Perecip')],\n           names=['a', 'b'])"
     },
     "metadata": {}
    }
   ],
   "execution_count": null
  },
  {
   "cell_type": "code",
   "source": "pd.MultiIndex.from_frame(df, names=['state', 'observation'])x`",
   "metadata": {
    "tags": [],
    "cell_id": "00031-ec413b9b-ead5-42a8-8264-4fc2b6554863",
    "deepnote_to_be_reexecuted": false,
    "source_hash": "c6180eeb",
    "execution_start": 1625710695053,
    "execution_millis": 18,
    "deepnote_cell_type": "code"
   },
   "outputs": [
    {
     "output_type": "execute_result",
     "execution_count": 29,
     "data": {
      "text/plain": "MultiIndex([('HI',    'Temp'),\n            ('HI',  'Precip'),\n            ('NJ',    'Temp'),\n            ('NJ', 'Perecip')],\n           names=['state', 'observation'])"
     },
     "metadata": {}
    }
   ],
   "execution_count": null
  },
  {
   "cell_type": "code",
   "source": "mi = pd.MultiIndex.from_arrays([[1,2],[3,4],[5,6]],names=[\"x\",\"y\",\"z\"])\nmi",
   "metadata": {
    "tags": [],
    "cell_id": "00032-75f89b84-3e71-47e3-bd83-49b1f83edd8d",
    "deepnote_to_be_reexecuted": false,
    "source_hash": "8e069d27",
    "execution_start": 1625710903966,
    "execution_millis": 10,
    "deepnote_cell_type": "code"
   },
   "outputs": [
    {
     "output_type": "execute_result",
     "execution_count": 33,
     "data": {
      "text/plain": "MultiIndex([(1, 3, 5),\n            (2, 4, 6)],\n           names=['x', 'y', 'z'])"
     },
     "metadata": {}
    }
   ],
   "execution_count": null
  },
  {
   "cell_type": "code",
   "source": "mi.names",
   "metadata": {
    "tags": [],
    "cell_id": "00033-02e3de7c-87bc-46f0-9be2-7d90a3d92cc7",
    "deepnote_to_be_reexecuted": false,
    "source_hash": "3661f3f7",
    "execution_start": 1625710910698,
    "execution_millis": 11,
    "deepnote_cell_type": "code"
   },
   "outputs": [
    {
     "output_type": "execute_result",
     "execution_count": 34,
     "data": {
      "text/plain": "FrozenList(['x', 'y', 'z'])"
     },
     "metadata": {}
    }
   ],
   "execution_count": null
  },
  {
   "cell_type": "code",
   "source": "mi.levels",
   "metadata": {
    "tags": [],
    "cell_id": "00034-bd22816f-adb4-4f83-92ff-fa30873e16e1",
    "deepnote_to_be_reexecuted": false,
    "source_hash": "e121e298",
    "execution_start": 1625710926228,
    "execution_millis": 11,
    "deepnote_cell_type": "code"
   },
   "outputs": [
    {
     "output_type": "execute_result",
     "execution_count": 35,
     "data": {
      "text/plain": "FrozenList([[1, 2], [3, 4], [5, 6]])"
     },
     "metadata": {}
    }
   ],
   "execution_count": null
  },
  {
   "cell_type": "code",
   "source": "mi.codes",
   "metadata": {
    "tags": [],
    "cell_id": "00035-7f85aafe-883a-4cf6-bd5f-a10833f32d44",
    "deepnote_to_be_reexecuted": false,
    "source_hash": "3e25647d",
    "execution_start": 1625710954254,
    "execution_millis": 10,
    "deepnote_cell_type": "code"
   },
   "outputs": [
    {
     "output_type": "execute_result",
     "execution_count": 36,
     "data": {
      "text/plain": "FrozenList([[0, 1], [0, 1], [0, 1]])"
     },
     "metadata": {}
    }
   ],
   "execution_count": null
  },
  {
   "cell_type": "code",
   "source": "mi.nlevels",
   "metadata": {
    "tags": [],
    "cell_id": "00036-4b60d2b6-5593-4807-8a73-84dbf4796939",
    "deepnote_to_be_reexecuted": false,
    "source_hash": "88167824",
    "execution_start": 1625710972934,
    "execution_millis": 11,
    "deepnote_cell_type": "code"
   },
   "outputs": [
    {
     "output_type": "execute_result",
     "execution_count": 37,
     "data": {
      "text/plain": "3"
     },
     "metadata": {}
    }
   ],
   "execution_count": null
  },
  {
   "cell_type": "code",
   "source": "mi.levshape",
   "metadata": {
    "tags": [],
    "cell_id": "00037-ea4a52dc-bb8a-4f67-8ab9-53e25aa1e543",
    "deepnote_to_be_reexecuted": false,
    "source_hash": "ab5dd5ce",
    "execution_start": 1625710981964,
    "execution_millis": 9,
    "deepnote_cell_type": "code"
   },
   "outputs": [
    {
     "output_type": "execute_result",
     "execution_count": 38,
     "data": {
      "text/plain": "(2, 2, 2)"
     },
     "metadata": {}
    }
   ],
   "execution_count": null
  },
  {
   "cell_type": "code",
   "source": "mi.dtype",
   "metadata": {
    "tags": [],
    "cell_id": "00038-fb1f9f09-24d1-495e-a95b-f1c6415205e1",
    "deepnote_to_be_reexecuted": false,
    "source_hash": "7bd684c3",
    "execution_start": 1625710989623,
    "execution_millis": 10,
    "deepnote_cell_type": "code"
   },
   "outputs": [
    {
     "output_type": "execute_result",
     "execution_count": 39,
     "data": {
      "text/plain": "dtype('O')"
     },
     "metadata": {}
    }
   ],
   "execution_count": null
  },
  {
   "cell_type": "code",
   "source": "idx = pd.MultiIndex.from_tuples([\n    (1,\"one\"),\n    (1, \"two\"),\n    (2, \"one\"),\n    (2, \"two\"),\n     (3, \"one\"),\n      (3, \"two\")\n\n],names = [\"number\",'char'])",
   "metadata": {
    "tags": [],
    "cell_id": "00039-1e5a3f49-3c0f-4463-abb1-0c42de069dee",
    "deepnote_to_be_reexecuted": false,
    "source_hash": "43d58f50",
    "execution_start": 1625711106585,
    "execution_millis": 4,
    "deepnote_cell_type": "code"
   },
   "outputs": [],
   "execution_count": null
  },
  {
   "cell_type": "code",
   "source": "idx",
   "metadata": {
    "tags": [],
    "cell_id": "00040-1c74a7c4-44bf-4c11-8666-3558bb0e6fcb",
    "deepnote_to_be_reexecuted": false,
    "source_hash": "5e8eb419",
    "execution_start": 1625711111294,
    "execution_millis": 10,
    "deepnote_cell_type": "code"
   },
   "outputs": [
    {
     "output_type": "execute_result",
     "execution_count": 41,
     "data": {
      "text/plain": "MultiIndex([(1, 'one'),\n            (1, 'two'),\n            (2, 'one'),\n            (2, 'two'),\n            (3, 'one'),\n            (3, 'two')],\n           names=['number', 'char'])"
     },
     "metadata": {}
    }
   ],
   "execution_count": null
  },
  {
   "cell_type": "code",
   "source": "idx.set_levels([['a', 'b', 'c'], [1, 2]])",
   "metadata": {
    "tags": [],
    "cell_id": "00041-011a9a8d-24b1-4843-aadc-47af814ddc3a",
    "deepnote_to_be_reexecuted": false,
    "source_hash": "9ae04b1d",
    "execution_start": 1625711135575,
    "execution_millis": 6,
    "deepnote_cell_type": "code"
   },
   "outputs": [
    {
     "output_type": "execute_result",
     "execution_count": 42,
     "data": {
      "text/plain": "MultiIndex([('a', 1),\n            ('a', 2),\n            ('b', 1),\n            ('b', 2),\n            ('c', 1),\n            ('c', 2)],\n           names=['number', 'char'])"
     },
     "metadata": {}
    }
   ],
   "execution_count": null
  },
  {
   "cell_type": "code",
   "source": "idx.set_levels(['a', 'b', 'c'], level=0)",
   "metadata": {
    "tags": [],
    "cell_id": "00042-317965aa-7bb7-4683-a27b-554cad948601",
    "deepnote_to_be_reexecuted": false,
    "source_hash": "80cb2ee2",
    "execution_start": 1625711173112,
    "execution_millis": 10,
    "deepnote_cell_type": "code"
   },
   "outputs": [
    {
     "output_type": "execute_result",
     "execution_count": 43,
     "data": {
      "text/plain": "MultiIndex([('a', 'one'),\n            ('a', 'two'),\n            ('b', 'one'),\n            ('b', 'two'),\n            ('c', 'one'),\n            ('c', 'two')],\n           names=['number', 'char'])"
     },
     "metadata": {}
    }
   ],
   "execution_count": null
  },
  {
   "cell_type": "code",
   "source": "idx.set_levels(['a', 'b'], level='bar')",
   "metadata": {
    "tags": [],
    "cell_id": "00043-e43040a5-20c8-4c2d-aee2-70f0b5979c03",
    "deepnote_to_be_reexecuted": false,
    "source_hash": "cc77eafb",
    "execution_start": 1625711195934,
    "execution_millis": 822,
    "deepnote_cell_type": "code"
   },
   "outputs": [
    {
     "output_type": "error",
     "ename": "KeyError",
     "evalue": "'Level bar not found'",
     "traceback": [
      "\u001b[0;31m---------------------------------------------------------------------------\u001b[0m",
      "\u001b[0;31mValueError\u001b[0m                                Traceback (most recent call last)",
      "\u001b[0;32m/shared-libs/python3.7/py/lib/python3.7/site-packages/pandas/core/indexes/multi.py\u001b[0m in \u001b[0;36m_get_level_number\u001b[0;34m(self, level)\u001b[0m\n\u001b[1;32m   1526\u001b[0m         \u001b[0;32mtry\u001b[0m\u001b[0;34m:\u001b[0m\u001b[0;34m\u001b[0m\u001b[0;34m\u001b[0m\u001b[0m\n\u001b[0;32m-> 1527\u001b[0;31m             \u001b[0mlevel\u001b[0m \u001b[0;34m=\u001b[0m \u001b[0mself\u001b[0m\u001b[0;34m.\u001b[0m\u001b[0mnames\u001b[0m\u001b[0;34m.\u001b[0m\u001b[0mindex\u001b[0m\u001b[0;34m(\u001b[0m\u001b[0mlevel\u001b[0m\u001b[0;34m)\u001b[0m\u001b[0;34m\u001b[0m\u001b[0;34m\u001b[0m\u001b[0m\n\u001b[0m\u001b[1;32m   1528\u001b[0m         \u001b[0;32mexcept\u001b[0m \u001b[0mValueError\u001b[0m \u001b[0;32mas\u001b[0m \u001b[0merr\u001b[0m\u001b[0;34m:\u001b[0m\u001b[0;34m\u001b[0m\u001b[0;34m\u001b[0m\u001b[0m\n",
      "\u001b[0;31mValueError\u001b[0m: 'bar' is not in list",
      "\nThe above exception was the direct cause of the following exception:\n",
      "\u001b[0;31mKeyError\u001b[0m                                  Traceback (most recent call last)",
      "\u001b[0;32m<ipython-input-44-e14fc99dd883>\u001b[0m in \u001b[0;36m<module>\u001b[0;34m\u001b[0m\n\u001b[0;32m----> 1\u001b[0;31m \u001b[0midx\u001b[0m\u001b[0;34m.\u001b[0m\u001b[0mset_levels\u001b[0m\u001b[0;34m(\u001b[0m\u001b[0;34m[\u001b[0m\u001b[0;34m'a'\u001b[0m\u001b[0;34m,\u001b[0m \u001b[0;34m'b'\u001b[0m\u001b[0;34m]\u001b[0m\u001b[0;34m,\u001b[0m \u001b[0mlevel\u001b[0m\u001b[0;34m=\u001b[0m\u001b[0;34m'bar'\u001b[0m\u001b[0;34m)\u001b[0m\u001b[0;34m\u001b[0m\u001b[0;34m\u001b[0m\u001b[0m\n\u001b[0m",
      "\u001b[0;32m/shared-libs/python3.7/py/lib/python3.7/site-packages/pandas/core/indexes/multi.py\u001b[0m in \u001b[0;36mset_levels\u001b[0;34m(self, levels, level, inplace, verify_integrity)\u001b[0m\n\u001b[1;32m    885\u001b[0m         \u001b[0midx\u001b[0m\u001b[0;34m.\u001b[0m\u001b[0m_reset_identity\u001b[0m\u001b[0;34m(\u001b[0m\u001b[0;34m)\u001b[0m\u001b[0;34m\u001b[0m\u001b[0;34m\u001b[0m\u001b[0m\n\u001b[1;32m    886\u001b[0m         idx._set_levels(\n\u001b[0;32m--> 887\u001b[0;31m             \u001b[0mlevels\u001b[0m\u001b[0;34m,\u001b[0m \u001b[0mlevel\u001b[0m\u001b[0;34m=\u001b[0m\u001b[0mlevel\u001b[0m\u001b[0;34m,\u001b[0m \u001b[0mvalidate\u001b[0m\u001b[0;34m=\u001b[0m\u001b[0;32mTrue\u001b[0m\u001b[0;34m,\u001b[0m \u001b[0mverify_integrity\u001b[0m\u001b[0;34m=\u001b[0m\u001b[0mverify_integrity\u001b[0m\u001b[0;34m\u001b[0m\u001b[0;34m\u001b[0m\u001b[0m\n\u001b[0m\u001b[1;32m    888\u001b[0m         )\n\u001b[1;32m    889\u001b[0m         \u001b[0;32mif\u001b[0m \u001b[0;32mnot\u001b[0m \u001b[0minplace\u001b[0m\u001b[0;34m:\u001b[0m\u001b[0;34m\u001b[0m\u001b[0;34m\u001b[0m\u001b[0m\n",
      "\u001b[0;32m/shared-libs/python3.7/py/lib/python3.7/site-packages/pandas/core/indexes/multi.py\u001b[0m in \u001b[0;36m_set_levels\u001b[0;34m(self, levels, level, copy, validate, verify_integrity)\u001b[0m\n\u001b[1;32m    754\u001b[0m             )\n\u001b[1;32m    755\u001b[0m         \u001b[0;32melse\u001b[0m\u001b[0;34m:\u001b[0m\u001b[0;34m\u001b[0m\u001b[0;34m\u001b[0m\u001b[0m\n\u001b[0;32m--> 756\u001b[0;31m             \u001b[0mlevel_numbers\u001b[0m \u001b[0;34m=\u001b[0m \u001b[0;34m[\u001b[0m\u001b[0mself\u001b[0m\u001b[0;34m.\u001b[0m\u001b[0m_get_level_number\u001b[0m\u001b[0;34m(\u001b[0m\u001b[0mlev\u001b[0m\u001b[0;34m)\u001b[0m \u001b[0;32mfor\u001b[0m \u001b[0mlev\u001b[0m \u001b[0;32min\u001b[0m \u001b[0mlevel\u001b[0m\u001b[0;34m]\u001b[0m\u001b[0;34m\u001b[0m\u001b[0;34m\u001b[0m\u001b[0m\n\u001b[0m\u001b[1;32m    757\u001b[0m             \u001b[0mnew_levels_list\u001b[0m \u001b[0;34m=\u001b[0m \u001b[0mlist\u001b[0m\u001b[0;34m(\u001b[0m\u001b[0mself\u001b[0m\u001b[0;34m.\u001b[0m\u001b[0m_levels\u001b[0m\u001b[0;34m)\u001b[0m\u001b[0;34m\u001b[0m\u001b[0;34m\u001b[0m\u001b[0m\n\u001b[1;32m    758\u001b[0m             \u001b[0;32mfor\u001b[0m \u001b[0mlev_num\u001b[0m\u001b[0;34m,\u001b[0m \u001b[0mlev\u001b[0m \u001b[0;32min\u001b[0m \u001b[0mzip\u001b[0m\u001b[0;34m(\u001b[0m\u001b[0mlevel_numbers\u001b[0m\u001b[0;34m,\u001b[0m \u001b[0mlevels\u001b[0m\u001b[0;34m)\u001b[0m\u001b[0;34m:\u001b[0m\u001b[0;34m\u001b[0m\u001b[0;34m\u001b[0m\u001b[0m\n",
      "\u001b[0;32m/shared-libs/python3.7/py/lib/python3.7/site-packages/pandas/core/indexes/multi.py\u001b[0m in \u001b[0;36m<listcomp>\u001b[0;34m(.0)\u001b[0m\n\u001b[1;32m    754\u001b[0m             )\n\u001b[1;32m    755\u001b[0m         \u001b[0;32melse\u001b[0m\u001b[0;34m:\u001b[0m\u001b[0;34m\u001b[0m\u001b[0;34m\u001b[0m\u001b[0m\n\u001b[0;32m--> 756\u001b[0;31m             \u001b[0mlevel_numbers\u001b[0m \u001b[0;34m=\u001b[0m \u001b[0;34m[\u001b[0m\u001b[0mself\u001b[0m\u001b[0;34m.\u001b[0m\u001b[0m_get_level_number\u001b[0m\u001b[0;34m(\u001b[0m\u001b[0mlev\u001b[0m\u001b[0;34m)\u001b[0m \u001b[0;32mfor\u001b[0m \u001b[0mlev\u001b[0m \u001b[0;32min\u001b[0m \u001b[0mlevel\u001b[0m\u001b[0;34m]\u001b[0m\u001b[0;34m\u001b[0m\u001b[0;34m\u001b[0m\u001b[0m\n\u001b[0m\u001b[1;32m    757\u001b[0m             \u001b[0mnew_levels_list\u001b[0m \u001b[0;34m=\u001b[0m \u001b[0mlist\u001b[0m\u001b[0;34m(\u001b[0m\u001b[0mself\u001b[0m\u001b[0;34m.\u001b[0m\u001b[0m_levels\u001b[0m\u001b[0;34m)\u001b[0m\u001b[0;34m\u001b[0m\u001b[0;34m\u001b[0m\u001b[0m\n\u001b[1;32m    758\u001b[0m             \u001b[0;32mfor\u001b[0m \u001b[0mlev_num\u001b[0m\u001b[0;34m,\u001b[0m \u001b[0mlev\u001b[0m \u001b[0;32min\u001b[0m \u001b[0mzip\u001b[0m\u001b[0;34m(\u001b[0m\u001b[0mlevel_numbers\u001b[0m\u001b[0;34m,\u001b[0m \u001b[0mlevels\u001b[0m\u001b[0;34m)\u001b[0m\u001b[0;34m:\u001b[0m\u001b[0;34m\u001b[0m\u001b[0;34m\u001b[0m\u001b[0m\n",
      "\u001b[0;32m/shared-libs/python3.7/py/lib/python3.7/site-packages/pandas/core/indexes/multi.py\u001b[0m in \u001b[0;36m_get_level_number\u001b[0;34m(self, level)\u001b[0m\n\u001b[1;32m   1528\u001b[0m         \u001b[0;32mexcept\u001b[0m \u001b[0mValueError\u001b[0m \u001b[0;32mas\u001b[0m \u001b[0merr\u001b[0m\u001b[0;34m:\u001b[0m\u001b[0;34m\u001b[0m\u001b[0;34m\u001b[0m\u001b[0m\n\u001b[1;32m   1529\u001b[0m             \u001b[0;32mif\u001b[0m \u001b[0;32mnot\u001b[0m \u001b[0mis_integer\u001b[0m\u001b[0;34m(\u001b[0m\u001b[0mlevel\u001b[0m\u001b[0;34m)\u001b[0m\u001b[0;34m:\u001b[0m\u001b[0;34m\u001b[0m\u001b[0;34m\u001b[0m\u001b[0m\n\u001b[0;32m-> 1530\u001b[0;31m                 \u001b[0;32mraise\u001b[0m \u001b[0mKeyError\u001b[0m\u001b[0;34m(\u001b[0m\u001b[0;34mf\"Level {level} not found\"\u001b[0m\u001b[0;34m)\u001b[0m \u001b[0;32mfrom\u001b[0m \u001b[0merr\u001b[0m\u001b[0;34m\u001b[0m\u001b[0;34m\u001b[0m\u001b[0m\n\u001b[0m\u001b[1;32m   1531\u001b[0m             \u001b[0;32melif\u001b[0m \u001b[0mlevel\u001b[0m \u001b[0;34m<\u001b[0m \u001b[0;36m0\u001b[0m\u001b[0;34m:\u001b[0m\u001b[0;34m\u001b[0m\u001b[0;34m\u001b[0m\u001b[0m\n\u001b[1;32m   1532\u001b[0m                 \u001b[0mlevel\u001b[0m \u001b[0;34m+=\u001b[0m \u001b[0mself\u001b[0m\u001b[0;34m.\u001b[0m\u001b[0mnlevels\u001b[0m\u001b[0;34m\u001b[0m\u001b[0;34m\u001b[0m\u001b[0m\n",
      "\u001b[0;31mKeyError\u001b[0m: 'Level bar not found'"
     ]
    }
   ],
   "execution_count": null
  },
  {
   "cell_type": "code",
   "source": "raw_data = {\"regiment\": [\"Nighthawks\", \"Nighthawks\", \"Nighthawks\", \"Nighthawks\",\n                             \"Dragoons\", \"Dragoons\", \"Dragoons\", \"Dragoons\", \"Scouts\",\n                             \"Scouts\", \"Scouts\", \"Scouts\"],\n                \"company\": [\"1st\", \"1st\", \"2nd\", \"2nd\", \"1st\", \"1st\", \"2nd\",\n                            \"2nd\",\"1st\", \"1st\", \"2nd\", \"2nd\"],\n                \"Rating_Score\": [4, 24, 94, 25, 4, 24, 24, 31, 2, 3, 2, 3],\n                \"Public_Score\": [25, 94, 31, 2, 70, 25, 4, 24, 31, 2, 3, 4]}\nraw_data",
   "metadata": {
    "tags": [],
    "cell_id": "00045-33566149-2ec6-4d8c-a643-5d35aac426d2",
    "deepnote_to_be_reexecuted": false,
    "source_hash": "761962df",
    "execution_start": 1625711455666,
    "execution_millis": 7,
    "deepnote_cell_type": "code"
   },
   "outputs": [
    {
     "output_type": "execute_result",
     "execution_count": 46,
     "data": {
      "text/plain": "{'regiment': ['Nighthawks',\n  'Nighthawks',\n  'Nighthawks',\n  'Nighthawks',\n  'Dragoons',\n  'Dragoons',\n  'Dragoons',\n  'Dragoons',\n  'Scouts',\n  'Scouts',\n  'Scouts',\n  'Scouts'],\n 'company': ['1st',\n  '1st',\n  '2nd',\n  '2nd',\n  '1st',\n  '1st',\n  '2nd',\n  '2nd',\n  '1st',\n  '1st',\n  '2nd',\n  '2nd'],\n 'Rating_Score': [4, 24, 94, 25, 4, 24, 24, 31, 2, 3, 2, 3],\n 'Public_Score': [25, 94, 31, 2, 70, 25, 4, 24, 31, 2, 3, 4]}"
     },
     "metadata": {}
    }
   ],
   "execution_count": null
  },
  {
   "cell_type": "code",
   "source": "df = pd.DataFrame(raw_data, columns = [\"regiment\", \"company\",\"Rating_Score\", \"Public_Score\"])\ndf",
   "metadata": {
    "tags": [],
    "cell_id": "00045-19a54700-daff-4aaa-be14-a8bbda482653",
    "deepnote_to_be_reexecuted": false,
    "source_hash": "e86a21c5",
    "execution_start": 1625711510297,
    "execution_millis": 22,
    "deepnote_cell_type": "code"
   },
   "outputs": [
    {
     "output_type": "execute_result",
     "execution_count": 47,
     "data": {
      "application/vnd.deepnote.dataframe.v2+json": {
       "row_count": 12,
       "column_count": 4,
       "columns": [
        {
         "name": "regiment",
         "dtype": "object",
         "stats": {
          "unique_count": 3,
          "nan_count": 0,
          "categories": [
           {
            "name": "Nighthawks",
            "count": 4
           },
           {
            "name": "Dragoons",
            "count": 4
           },
           {
            "name": "Scouts",
            "count": 4
           }
          ]
         }
        },
        {
         "name": "company",
         "dtype": "object",
         "stats": {
          "unique_count": 2,
          "nan_count": 0,
          "categories": [
           {
            "name": "1st",
            "count": 6
           },
           {
            "name": "2nd",
            "count": 6
           }
          ]
         }
        },
        {
         "name": "Rating_Score",
         "dtype": "int64",
         "stats": {
          "unique_count": 7,
          "nan_count": 0,
          "min": "2",
          "max": "94",
          "histogram": [
           {
            "bin_start": 2,
            "bin_end": 11.2,
            "count": 6
           },
           {
            "bin_start": 11.2,
            "bin_end": 20.4,
            "count": 0
           },
           {
            "bin_start": 20.4,
            "bin_end": 29.599999999999998,
            "count": 4
           },
           {
            "bin_start": 29.599999999999998,
            "bin_end": 38.8,
            "count": 1
           },
           {
            "bin_start": 38.8,
            "bin_end": 48,
            "count": 0
           },
           {
            "bin_start": 48,
            "bin_end": 57.199999999999996,
            "count": 0
           },
           {
            "bin_start": 57.199999999999996,
            "bin_end": 66.39999999999999,
            "count": 0
           },
           {
            "bin_start": 66.39999999999999,
            "bin_end": 75.6,
            "count": 0
           },
           {
            "bin_start": 75.6,
            "bin_end": 84.8,
            "count": 0
           },
           {
            "bin_start": 84.8,
            "bin_end": 94,
            "count": 1
           }
          ]
         }
        },
        {
         "name": "Public_Score",
         "dtype": "int64",
         "stats": {
          "unique_count": 8,
          "nan_count": 0,
          "min": "2",
          "max": "94",
          "histogram": [
           {
            "bin_start": 2,
            "bin_end": 11.2,
            "count": 5
           },
           {
            "bin_start": 11.2,
            "bin_end": 20.4,
            "count": 0
           },
           {
            "bin_start": 20.4,
            "bin_end": 29.599999999999998,
            "count": 3
           },
           {
            "bin_start": 29.599999999999998,
            "bin_end": 38.8,
            "count": 2
           },
           {
            "bin_start": 38.8,
            "bin_end": 48,
            "count": 0
           },
           {
            "bin_start": 48,
            "bin_end": 57.199999999999996,
            "count": 0
           },
           {
            "bin_start": 57.199999999999996,
            "bin_end": 66.39999999999999,
            "count": 0
           },
           {
            "bin_start": 66.39999999999999,
            "bin_end": 75.6,
            "count": 1
           },
           {
            "bin_start": 75.6,
            "bin_end": 84.8,
            "count": 0
           },
           {
            "bin_start": 84.8,
            "bin_end": 94,
            "count": 1
           }
          ]
         }
        },
        {
         "name": "_deepnote_index_column",
         "dtype": "int64"
        }
       ],
       "rows_top": [
        {
         "regiment": "Nighthawks",
         "company": "1st",
         "Rating_Score": 4,
         "Public_Score": 25,
         "_deepnote_index_column": 0
        },
        {
         "regiment": "Nighthawks",
         "company": "1st",
         "Rating_Score": 24,
         "Public_Score": 94,
         "_deepnote_index_column": 1
        },
        {
         "regiment": "Nighthawks",
         "company": "2nd",
         "Rating_Score": 94,
         "Public_Score": 31,
         "_deepnote_index_column": 2
        },
        {
         "regiment": "Nighthawks",
         "company": "2nd",
         "Rating_Score": 25,
         "Public_Score": 2,
         "_deepnote_index_column": 3
        },
        {
         "regiment": "Dragoons",
         "company": "1st",
         "Rating_Score": 4,
         "Public_Score": 70,
         "_deepnote_index_column": 4
        },
        {
         "regiment": "Dragoons",
         "company": "1st",
         "Rating_Score": 24,
         "Public_Score": 25,
         "_deepnote_index_column": 5
        },
        {
         "regiment": "Dragoons",
         "company": "2nd",
         "Rating_Score": 24,
         "Public_Score": 4,
         "_deepnote_index_column": 6
        },
        {
         "regiment": "Dragoons",
         "company": "2nd",
         "Rating_Score": 31,
         "Public_Score": 24,
         "_deepnote_index_column": 7
        },
        {
         "regiment": "Scouts",
         "company": "1st",
         "Rating_Score": 2,
         "Public_Score": 31,
         "_deepnote_index_column": 8
        },
        {
         "regiment": "Scouts",
         "company": "1st",
         "Rating_Score": 3,
         "Public_Score": 2,
         "_deepnote_index_column": 9
        },
        {
         "regiment": "Scouts",
         "company": "2nd",
         "Rating_Score": 2,
         "Public_Score": 3,
         "_deepnote_index_column": 10
        },
        {
         "regiment": "Scouts",
         "company": "2nd",
         "Rating_Score": 3,
         "Public_Score": 4,
         "_deepnote_index_column": 11
        }
       ],
       "rows_bottom": null
      },
      "text/plain": "      regiment company  Rating_Score  Public_Score\n0   Nighthawks     1st             4            25\n1   Nighthawks     1st            24            94\n2   Nighthawks     2nd            94            31\n3   Nighthawks     2nd            25             2\n4     Dragoons     1st             4            70\n5     Dragoons     1st            24            25\n6     Dragoons     2nd            24             4\n7     Dragoons     2nd            31            24\n8       Scouts     1st             2            31\n9       Scouts     1st             3             2\n10      Scouts     2nd             2             3\n11      Scouts     2nd             3             4",
      "text/html": "<div>\n<style scoped>\n    .dataframe tbody tr th:only-of-type {\n        vertical-align: middle;\n    }\n\n    .dataframe tbody tr th {\n        vertical-align: top;\n    }\n\n    .dataframe thead th {\n        text-align: right;\n    }\n</style>\n<table border=\"1\" class=\"dataframe\">\n  <thead>\n    <tr style=\"text-align: right;\">\n      <th></th>\n      <th>regiment</th>\n      <th>company</th>\n      <th>Rating_Score</th>\n      <th>Public_Score</th>\n    </tr>\n  </thead>\n  <tbody>\n    <tr>\n      <th>0</th>\n      <td>Nighthawks</td>\n      <td>1st</td>\n      <td>4</td>\n      <td>25</td>\n    </tr>\n    <tr>\n      <th>1</th>\n      <td>Nighthawks</td>\n      <td>1st</td>\n      <td>24</td>\n      <td>94</td>\n    </tr>\n    <tr>\n      <th>2</th>\n      <td>Nighthawks</td>\n      <td>2nd</td>\n      <td>94</td>\n      <td>31</td>\n    </tr>\n    <tr>\n      <th>3</th>\n      <td>Nighthawks</td>\n      <td>2nd</td>\n      <td>25</td>\n      <td>2</td>\n    </tr>\n    <tr>\n      <th>4</th>\n      <td>Dragoons</td>\n      <td>1st</td>\n      <td>4</td>\n      <td>70</td>\n    </tr>\n    <tr>\n      <th>5</th>\n      <td>Dragoons</td>\n      <td>1st</td>\n      <td>24</td>\n      <td>25</td>\n    </tr>\n    <tr>\n      <th>6</th>\n      <td>Dragoons</td>\n      <td>2nd</td>\n      <td>24</td>\n      <td>4</td>\n    </tr>\n    <tr>\n      <th>7</th>\n      <td>Dragoons</td>\n      <td>2nd</td>\n      <td>31</td>\n      <td>24</td>\n    </tr>\n    <tr>\n      <th>8</th>\n      <td>Scouts</td>\n      <td>1st</td>\n      <td>2</td>\n      <td>31</td>\n    </tr>\n    <tr>\n      <th>9</th>\n      <td>Scouts</td>\n      <td>1st</td>\n      <td>3</td>\n      <td>2</td>\n    </tr>\n    <tr>\n      <th>10</th>\n      <td>Scouts</td>\n      <td>2nd</td>\n      <td>2</td>\n      <td>3</td>\n    </tr>\n    <tr>\n      <th>11</th>\n      <td>Scouts</td>\n      <td>2nd</td>\n      <td>3</td>\n      <td>4</td>\n    </tr>\n  </tbody>\n</table>\n</div>"
     },
     "metadata": {}
    }
   ],
   "execution_count": null
  },
  {
   "cell_type": "code",
   "source": "df = df.set_index([\"regiment\",\"company\"])\ndf",
   "metadata": {
    "tags": [],
    "cell_id": "00046-c5e1a281-a991-4c8e-9e10-da794de3eb4f",
    "deepnote_to_be_reexecuted": false,
    "source_hash": "883f2c34",
    "execution_start": 1625711600998,
    "execution_millis": 6,
    "deepnote_cell_type": "code"
   },
   "outputs": [
    {
     "output_type": "execute_result",
     "execution_count": 49,
     "data": {
      "application/vnd.deepnote.dataframe.v2+json": {
       "row_count": 12,
       "column_count": 2,
       "columns": [
        {
         "name": "Rating_Score",
         "dtype": "int64",
         "stats": {
          "unique_count": 7,
          "nan_count": 0,
          "min": "2",
          "max": "94",
          "histogram": [
           {
            "bin_start": 2,
            "bin_end": 11.2,
            "count": 6
           },
           {
            "bin_start": 11.2,
            "bin_end": 20.4,
            "count": 0
           },
           {
            "bin_start": 20.4,
            "bin_end": 29.599999999999998,
            "count": 4
           },
           {
            "bin_start": 29.599999999999998,
            "bin_end": 38.8,
            "count": 1
           },
           {
            "bin_start": 38.8,
            "bin_end": 48,
            "count": 0
           },
           {
            "bin_start": 48,
            "bin_end": 57.199999999999996,
            "count": 0
           },
           {
            "bin_start": 57.199999999999996,
            "bin_end": 66.39999999999999,
            "count": 0
           },
           {
            "bin_start": 66.39999999999999,
            "bin_end": 75.6,
            "count": 0
           },
           {
            "bin_start": 75.6,
            "bin_end": 84.8,
            "count": 0
           },
           {
            "bin_start": 84.8,
            "bin_end": 94,
            "count": 1
           }
          ]
         }
        },
        {
         "name": "Public_Score",
         "dtype": "int64",
         "stats": {
          "unique_count": 8,
          "nan_count": 0,
          "min": "2",
          "max": "94",
          "histogram": [
           {
            "bin_start": 2,
            "bin_end": 11.2,
            "count": 5
           },
           {
            "bin_start": 11.2,
            "bin_end": 20.4,
            "count": 0
           },
           {
            "bin_start": 20.4,
            "bin_end": 29.599999999999998,
            "count": 3
           },
           {
            "bin_start": 29.599999999999998,
            "bin_end": 38.8,
            "count": 2
           },
           {
            "bin_start": 38.8,
            "bin_end": 48,
            "count": 0
           },
           {
            "bin_start": 48,
            "bin_end": 57.199999999999996,
            "count": 0
           },
           {
            "bin_start": 57.199999999999996,
            "bin_end": 66.39999999999999,
            "count": 0
           },
           {
            "bin_start": 66.39999999999999,
            "bin_end": 75.6,
            "count": 1
           },
           {
            "bin_start": 75.6,
            "bin_end": 84.8,
            "count": 0
           },
           {
            "bin_start": 84.8,
            "bin_end": 94,
            "count": 1
           }
          ]
         }
        },
        {
         "name": "_deepnote_index_column",
         "dtype": "object"
        }
       ],
       "rows_top": [
        {
         "Rating_Score": "4",
         "Public_Score": "25",
         "_deepnote_index_column": "('Nighthawks', '1st')"
        },
        {
         "Rating_Score": "24",
         "Public_Score": "94",
         "_deepnote_index_column": "('Nighthawks', '1st')"
        },
        {
         "Rating_Score": "94",
         "Public_Score": "31",
         "_deepnote_index_column": "('Nighthawks', '2nd')"
        },
        {
         "Rating_Score": "25",
         "Public_Score": "2",
         "_deepnote_index_column": "('Nighthawks', '2nd')"
        },
        {
         "Rating_Score": "4",
         "Public_Score": "70",
         "_deepnote_index_column": "('Dragoons', '1st')"
        },
        {
         "Rating_Score": "24",
         "Public_Score": "25",
         "_deepnote_index_column": "('Dragoons', '1st')"
        },
        {
         "Rating_Score": "24",
         "Public_Score": "4",
         "_deepnote_index_column": "('Dragoons', '2nd')"
        },
        {
         "Rating_Score": "31",
         "Public_Score": "24",
         "_deepnote_index_column": "('Dragoons', '2nd')"
        },
        {
         "Rating_Score": "2",
         "Public_Score": "31",
         "_deepnote_index_column": "('Scouts', '1st')"
        },
        {
         "Rating_Score": "3",
         "Public_Score": "2",
         "_deepnote_index_column": "('Scouts', '1st')"
        },
        {
         "Rating_Score": "2",
         "Public_Score": "3",
         "_deepnote_index_column": "('Scouts', '2nd')"
        },
        {
         "Rating_Score": "3",
         "Public_Score": "4",
         "_deepnote_index_column": "('Scouts', '2nd')"
        }
       ],
       "rows_bottom": null
      },
      "text/plain": "                    Rating_Score  Public_Score\nregiment   company                            \nNighthawks 1st                 4            25\n           1st                24            94\n           2nd                94            31\n           2nd                25             2\nDragoons   1st                 4            70\n           1st                24            25\n           2nd                24             4\n           2nd                31            24\nScouts     1st                 2            31\n           1st                 3             2\n           2nd                 2             3\n           2nd                 3             4",
      "text/html": "<div>\n<style scoped>\n    .dataframe tbody tr th:only-of-type {\n        vertical-align: middle;\n    }\n\n    .dataframe tbody tr th {\n        vertical-align: top;\n    }\n\n    .dataframe thead th {\n        text-align: right;\n    }\n</style>\n<table border=\"1\" class=\"dataframe\">\n  <thead>\n    <tr style=\"text-align: right;\">\n      <th></th>\n      <th></th>\n      <th>Rating_Score</th>\n      <th>Public_Score</th>\n    </tr>\n    <tr>\n      <th>regiment</th>\n      <th>company</th>\n      <th></th>\n      <th></th>\n    </tr>\n  </thead>\n  <tbody>\n    <tr>\n      <th rowspan=\"4\" valign=\"top\">Nighthawks</th>\n      <th>1st</th>\n      <td>4</td>\n      <td>25</td>\n    </tr>\n    <tr>\n      <th>1st</th>\n      <td>24</td>\n      <td>94</td>\n    </tr>\n    <tr>\n      <th>2nd</th>\n      <td>94</td>\n      <td>31</td>\n    </tr>\n    <tr>\n      <th>2nd</th>\n      <td>25</td>\n      <td>2</td>\n    </tr>\n    <tr>\n      <th rowspan=\"4\" valign=\"top\">Dragoons</th>\n      <th>1st</th>\n      <td>4</td>\n      <td>70</td>\n    </tr>\n    <tr>\n      <th>1st</th>\n      <td>24</td>\n      <td>25</td>\n    </tr>\n    <tr>\n      <th>2nd</th>\n      <td>24</td>\n      <td>4</td>\n    </tr>\n    <tr>\n      <th>2nd</th>\n      <td>31</td>\n      <td>24</td>\n    </tr>\n    <tr>\n      <th rowspan=\"4\" valign=\"top\">Scouts</th>\n      <th>1st</th>\n      <td>2</td>\n      <td>31</td>\n    </tr>\n    <tr>\n      <th>1st</th>\n      <td>3</td>\n      <td>2</td>\n    </tr>\n    <tr>\n      <th>2nd</th>\n      <td>2</td>\n      <td>3</td>\n    </tr>\n    <tr>\n      <th>2nd</th>\n      <td>3</td>\n      <td>4</td>\n    </tr>\n  </tbody>\n</table>\n</div>"
     },
     "metadata": {}
    }
   ],
   "execution_count": null
  },
  {
   "cell_type": "code",
   "source": "df.index",
   "metadata": {
    "tags": [],
    "cell_id": "00047-f9ff5d7a-fef8-47c1-bc79-36bf9f5eac59",
    "deepnote_to_be_reexecuted": false,
    "source_hash": "651ad380",
    "execution_start": 1625711633021,
    "execution_millis": 28,
    "deepnote_cell_type": "code"
   },
   "outputs": [
    {
     "output_type": "execute_result",
     "execution_count": 50,
     "data": {
      "text/plain": "MultiIndex([('Nighthawks', '1st'),\n            ('Nighthawks', '1st'),\n            ('Nighthawks', '2nd'),\n            ('Nighthawks', '2nd'),\n            (  'Dragoons', '1st'),\n            (  'Dragoons', '1st'),\n            (  'Dragoons', '2nd'),\n            (  'Dragoons', '2nd'),\n            (    'Scouts', '1st'),\n            (    'Scouts', '1st'),\n            (    'Scouts', '2nd'),\n            (    'Scouts', '2nd')],\n           names=['regiment', 'company'])"
     },
     "metadata": {}
    }
   ],
   "execution_count": null
  },
  {
   "cell_type": "code",
   "source": "df.swaplevel(\"regiment\", \"company\")",
   "metadata": {
    "tags": [],
    "cell_id": "00048-ec189c76-cfec-4ba6-ba8c-1554ed1a3fb4",
    "deepnote_to_be_reexecuted": false,
    "source_hash": "d775a24f",
    "execution_start": 1625711658406,
    "execution_millis": 12,
    "deepnote_cell_type": "code"
   },
   "outputs": [
    {
     "output_type": "execute_result",
     "execution_count": 51,
     "data": {
      "application/vnd.deepnote.dataframe.v2+json": {
       "row_count": 12,
       "column_count": 2,
       "columns": [
        {
         "name": "Rating_Score",
         "dtype": "int64",
         "stats": {
          "unique_count": 7,
          "nan_count": 0,
          "min": "2",
          "max": "94",
          "histogram": [
           {
            "bin_start": 2,
            "bin_end": 11.2,
            "count": 6
           },
           {
            "bin_start": 11.2,
            "bin_end": 20.4,
            "count": 0
           },
           {
            "bin_start": 20.4,
            "bin_end": 29.599999999999998,
            "count": 4
           },
           {
            "bin_start": 29.599999999999998,
            "bin_end": 38.8,
            "count": 1
           },
           {
            "bin_start": 38.8,
            "bin_end": 48,
            "count": 0
           },
           {
            "bin_start": 48,
            "bin_end": 57.199999999999996,
            "count": 0
           },
           {
            "bin_start": 57.199999999999996,
            "bin_end": 66.39999999999999,
            "count": 0
           },
           {
            "bin_start": 66.39999999999999,
            "bin_end": 75.6,
            "count": 0
           },
           {
            "bin_start": 75.6,
            "bin_end": 84.8,
            "count": 0
           },
           {
            "bin_start": 84.8,
            "bin_end": 94,
            "count": 1
           }
          ]
         }
        },
        {
         "name": "Public_Score",
         "dtype": "int64",
         "stats": {
          "unique_count": 8,
          "nan_count": 0,
          "min": "2",
          "max": "94",
          "histogram": [
           {
            "bin_start": 2,
            "bin_end": 11.2,
            "count": 5
           },
           {
            "bin_start": 11.2,
            "bin_end": 20.4,
            "count": 0
           },
           {
            "bin_start": 20.4,
            "bin_end": 29.599999999999998,
            "count": 3
           },
           {
            "bin_start": 29.599999999999998,
            "bin_end": 38.8,
            "count": 2
           },
           {
            "bin_start": 38.8,
            "bin_end": 48,
            "count": 0
           },
           {
            "bin_start": 48,
            "bin_end": 57.199999999999996,
            "count": 0
           },
           {
            "bin_start": 57.199999999999996,
            "bin_end": 66.39999999999999,
            "count": 0
           },
           {
            "bin_start": 66.39999999999999,
            "bin_end": 75.6,
            "count": 1
           },
           {
            "bin_start": 75.6,
            "bin_end": 84.8,
            "count": 0
           },
           {
            "bin_start": 84.8,
            "bin_end": 94,
            "count": 1
           }
          ]
         }
        },
        {
         "name": "_deepnote_index_column",
         "dtype": "object"
        }
       ],
       "rows_top": [
        {
         "Rating_Score": "4",
         "Public_Score": "25",
         "_deepnote_index_column": "('1st', 'Nighthawks')"
        },
        {
         "Rating_Score": "24",
         "Public_Score": "94",
         "_deepnote_index_column": "('1st', 'Nighthawks')"
        },
        {
         "Rating_Score": "94",
         "Public_Score": "31",
         "_deepnote_index_column": "('2nd', 'Nighthawks')"
        },
        {
         "Rating_Score": "25",
         "Public_Score": "2",
         "_deepnote_index_column": "('2nd', 'Nighthawks')"
        },
        {
         "Rating_Score": "4",
         "Public_Score": "70",
         "_deepnote_index_column": "('1st', 'Dragoons')"
        },
        {
         "Rating_Score": "24",
         "Public_Score": "25",
         "_deepnote_index_column": "('1st', 'Dragoons')"
        },
        {
         "Rating_Score": "24",
         "Public_Score": "4",
         "_deepnote_index_column": "('2nd', 'Dragoons')"
        },
        {
         "Rating_Score": "31",
         "Public_Score": "24",
         "_deepnote_index_column": "('2nd', 'Dragoons')"
        },
        {
         "Rating_Score": "2",
         "Public_Score": "31",
         "_deepnote_index_column": "('1st', 'Scouts')"
        },
        {
         "Rating_Score": "3",
         "Public_Score": "2",
         "_deepnote_index_column": "('1st', 'Scouts')"
        },
        {
         "Rating_Score": "2",
         "Public_Score": "3",
         "_deepnote_index_column": "('2nd', 'Scouts')"
        },
        {
         "Rating_Score": "3",
         "Public_Score": "4",
         "_deepnote_index_column": "('2nd', 'Scouts')"
        }
       ],
       "rows_bottom": null
      },
      "text/plain": "                    Rating_Score  Public_Score\ncompany regiment                              \n1st     Nighthawks             4            25\n        Nighthawks            24            94\n2nd     Nighthawks            94            31\n        Nighthawks            25             2\n1st     Dragoons               4            70\n        Dragoons              24            25\n2nd     Dragoons              24             4\n        Dragoons              31            24\n1st     Scouts                 2            31\n        Scouts                 3             2\n2nd     Scouts                 2             3\n        Scouts                 3             4",
      "text/html": "<div>\n<style scoped>\n    .dataframe tbody tr th:only-of-type {\n        vertical-align: middle;\n    }\n\n    .dataframe tbody tr th {\n        vertical-align: top;\n    }\n\n    .dataframe thead th {\n        text-align: right;\n    }\n</style>\n<table border=\"1\" class=\"dataframe\">\n  <thead>\n    <tr style=\"text-align: right;\">\n      <th></th>\n      <th></th>\n      <th>Rating_Score</th>\n      <th>Public_Score</th>\n    </tr>\n    <tr>\n      <th>company</th>\n      <th>regiment</th>\n      <th></th>\n      <th></th>\n    </tr>\n  </thead>\n  <tbody>\n    <tr>\n      <th rowspan=\"2\" valign=\"top\">1st</th>\n      <th>Nighthawks</th>\n      <td>4</td>\n      <td>25</td>\n    </tr>\n    <tr>\n      <th>Nighthawks</th>\n      <td>24</td>\n      <td>94</td>\n    </tr>\n    <tr>\n      <th rowspan=\"2\" valign=\"top\">2nd</th>\n      <th>Nighthawks</th>\n      <td>94</td>\n      <td>31</td>\n    </tr>\n    <tr>\n      <th>Nighthawks</th>\n      <td>25</td>\n      <td>2</td>\n    </tr>\n    <tr>\n      <th rowspan=\"2\" valign=\"top\">1st</th>\n      <th>Dragoons</th>\n      <td>4</td>\n      <td>70</td>\n    </tr>\n    <tr>\n      <th>Dragoons</th>\n      <td>24</td>\n      <td>25</td>\n    </tr>\n    <tr>\n      <th rowspan=\"2\" valign=\"top\">2nd</th>\n      <th>Dragoons</th>\n      <td>24</td>\n      <td>4</td>\n    </tr>\n    <tr>\n      <th>Dragoons</th>\n      <td>31</td>\n      <td>24</td>\n    </tr>\n    <tr>\n      <th rowspan=\"2\" valign=\"top\">1st</th>\n      <th>Scouts</th>\n      <td>2</td>\n      <td>31</td>\n    </tr>\n    <tr>\n      <th>Scouts</th>\n      <td>3</td>\n      <td>2</td>\n    </tr>\n    <tr>\n      <th rowspan=\"2\" valign=\"top\">2nd</th>\n      <th>Scouts</th>\n      <td>2</td>\n      <td>3</td>\n    </tr>\n    <tr>\n      <th>Scouts</th>\n      <td>3</td>\n      <td>4</td>\n    </tr>\n  </tbody>\n</table>\n</div>"
     },
     "metadata": {}
    }
   ],
   "execution_count": null
  },
  {
   "cell_type": "code",
   "source": "print(df.sum(level=\"regiment\"))",
   "metadata": {
    "tags": [],
    "cell_id": "00049-fade1a4b-523e-4e5e-90ad-198af09a8426",
    "deepnote_to_be_reexecuted": false,
    "source_hash": "3c3c8724",
    "execution_start": 1625711687824,
    "execution_millis": 8,
    "deepnote_cell_type": "code"
   },
   "outputs": [
    {
     "name": "stdout",
     "text": "            Rating_Score  Public_Score\nregiment                              \nNighthawks           147           152\nDragoons              83           123\nScouts                10            40\n",
     "output_type": "stream"
    }
   ],
   "execution_count": null
  },
  {
   "cell_type": "code",
   "source": "df.sort_index()",
   "metadata": {
    "tags": [],
    "cell_id": "00050-14f52adc-3ba1-4f1e-b9c4-db5760d49556",
    "deepnote_to_be_reexecuted": false,
    "source_hash": "ae8f8191",
    "execution_start": 1625711719531,
    "execution_millis": 11,
    "deepnote_cell_type": "code"
   },
   "outputs": [
    {
     "output_type": "execute_result",
     "execution_count": 53,
     "data": {
      "application/vnd.deepnote.dataframe.v2+json": {
       "row_count": 12,
       "column_count": 2,
       "columns": [
        {
         "name": "Rating_Score",
         "dtype": "int64",
         "stats": {
          "unique_count": 7,
          "nan_count": 0,
          "min": "2",
          "max": "94",
          "histogram": [
           {
            "bin_start": 2,
            "bin_end": 11.2,
            "count": 6
           },
           {
            "bin_start": 11.2,
            "bin_end": 20.4,
            "count": 0
           },
           {
            "bin_start": 20.4,
            "bin_end": 29.599999999999998,
            "count": 4
           },
           {
            "bin_start": 29.599999999999998,
            "bin_end": 38.8,
            "count": 1
           },
           {
            "bin_start": 38.8,
            "bin_end": 48,
            "count": 0
           },
           {
            "bin_start": 48,
            "bin_end": 57.199999999999996,
            "count": 0
           },
           {
            "bin_start": 57.199999999999996,
            "bin_end": 66.39999999999999,
            "count": 0
           },
           {
            "bin_start": 66.39999999999999,
            "bin_end": 75.6,
            "count": 0
           },
           {
            "bin_start": 75.6,
            "bin_end": 84.8,
            "count": 0
           },
           {
            "bin_start": 84.8,
            "bin_end": 94,
            "count": 1
           }
          ]
         }
        },
        {
         "name": "Public_Score",
         "dtype": "int64",
         "stats": {
          "unique_count": 8,
          "nan_count": 0,
          "min": "2",
          "max": "94",
          "histogram": [
           {
            "bin_start": 2,
            "bin_end": 11.2,
            "count": 5
           },
           {
            "bin_start": 11.2,
            "bin_end": 20.4,
            "count": 0
           },
           {
            "bin_start": 20.4,
            "bin_end": 29.599999999999998,
            "count": 3
           },
           {
            "bin_start": 29.599999999999998,
            "bin_end": 38.8,
            "count": 2
           },
           {
            "bin_start": 38.8,
            "bin_end": 48,
            "count": 0
           },
           {
            "bin_start": 48,
            "bin_end": 57.199999999999996,
            "count": 0
           },
           {
            "bin_start": 57.199999999999996,
            "bin_end": 66.39999999999999,
            "count": 0
           },
           {
            "bin_start": 66.39999999999999,
            "bin_end": 75.6,
            "count": 1
           },
           {
            "bin_start": 75.6,
            "bin_end": 84.8,
            "count": 0
           },
           {
            "bin_start": 84.8,
            "bin_end": 94,
            "count": 1
           }
          ]
         }
        },
        {
         "name": "_deepnote_index_column",
         "dtype": "object"
        }
       ],
       "rows_top": [
        {
         "Rating_Score": "4",
         "Public_Score": "70",
         "_deepnote_index_column": "('Dragoons', '1st')"
        },
        {
         "Rating_Score": "24",
         "Public_Score": "25",
         "_deepnote_index_column": "('Dragoons', '1st')"
        },
        {
         "Rating_Score": "24",
         "Public_Score": "4",
         "_deepnote_index_column": "('Dragoons', '2nd')"
        },
        {
         "Rating_Score": "31",
         "Public_Score": "24",
         "_deepnote_index_column": "('Dragoons', '2nd')"
        },
        {
         "Rating_Score": "4",
         "Public_Score": "25",
         "_deepnote_index_column": "('Nighthawks', '1st')"
        },
        {
         "Rating_Score": "24",
         "Public_Score": "94",
         "_deepnote_index_column": "('Nighthawks', '1st')"
        },
        {
         "Rating_Score": "94",
         "Public_Score": "31",
         "_deepnote_index_column": "('Nighthawks', '2nd')"
        },
        {
         "Rating_Score": "25",
         "Public_Score": "2",
         "_deepnote_index_column": "('Nighthawks', '2nd')"
        },
        {
         "Rating_Score": "2",
         "Public_Score": "31",
         "_deepnote_index_column": "('Scouts', '1st')"
        },
        {
         "Rating_Score": "3",
         "Public_Score": "2",
         "_deepnote_index_column": "('Scouts', '1st')"
        },
        {
         "Rating_Score": "2",
         "Public_Score": "3",
         "_deepnote_index_column": "('Scouts', '2nd')"
        },
        {
         "Rating_Score": "3",
         "Public_Score": "4",
         "_deepnote_index_column": "('Scouts', '2nd')"
        }
       ],
       "rows_bottom": null
      },
      "text/plain": "                    Rating_Score  Public_Score\nregiment   company                            \nDragoons   1st                 4            70\n           1st                24            25\n           2nd                24             4\n           2nd                31            24\nNighthawks 1st                 4            25\n           1st                24            94\n           2nd                94            31\n           2nd                25             2\nScouts     1st                 2            31\n           1st                 3             2\n           2nd                 2             3\n           2nd                 3             4",
      "text/html": "<div>\n<style scoped>\n    .dataframe tbody tr th:only-of-type {\n        vertical-align: middle;\n    }\n\n    .dataframe tbody tr th {\n        vertical-align: top;\n    }\n\n    .dataframe thead th {\n        text-align: right;\n    }\n</style>\n<table border=\"1\" class=\"dataframe\">\n  <thead>\n    <tr style=\"text-align: right;\">\n      <th></th>\n      <th></th>\n      <th>Rating_Score</th>\n      <th>Public_Score</th>\n    </tr>\n    <tr>\n      <th>regiment</th>\n      <th>company</th>\n      <th></th>\n      <th></th>\n    </tr>\n  </thead>\n  <tbody>\n    <tr>\n      <th rowspan=\"4\" valign=\"top\">Dragoons</th>\n      <th>1st</th>\n      <td>4</td>\n      <td>70</td>\n    </tr>\n    <tr>\n      <th>1st</th>\n      <td>24</td>\n      <td>25</td>\n    </tr>\n    <tr>\n      <th>2nd</th>\n      <td>24</td>\n      <td>4</td>\n    </tr>\n    <tr>\n      <th>2nd</th>\n      <td>31</td>\n      <td>24</td>\n    </tr>\n    <tr>\n      <th rowspan=\"4\" valign=\"top\">Nighthawks</th>\n      <th>1st</th>\n      <td>4</td>\n      <td>25</td>\n    </tr>\n    <tr>\n      <th>1st</th>\n      <td>24</td>\n      <td>94</td>\n    </tr>\n    <tr>\n      <th>2nd</th>\n      <td>94</td>\n      <td>31</td>\n    </tr>\n    <tr>\n      <th>2nd</th>\n      <td>25</td>\n      <td>2</td>\n    </tr>\n    <tr>\n      <th rowspan=\"4\" valign=\"top\">Scouts</th>\n      <th>1st</th>\n      <td>2</td>\n      <td>31</td>\n    </tr>\n    <tr>\n      <th>1st</th>\n      <td>3</td>\n      <td>2</td>\n    </tr>\n    <tr>\n      <th>2nd</th>\n      <td>2</td>\n      <td>3</td>\n    </tr>\n    <tr>\n      <th>2nd</th>\n      <td>3</td>\n      <td>4</td>\n    </tr>\n  </tbody>\n</table>\n</div>"
     },
     "metadata": {}
    }
   ],
   "execution_count": null
  },
  {
   "cell_type": "code",
   "source": "",
   "metadata": {
    "tags": [],
    "cell_id": "00051-e6b4d818-d84e-4c84-bfea-ee14862af435",
    "deepnote_cell_type": "code"
   },
   "outputs": [],
   "execution_count": null
  },
  {
   "cell_type": "markdown",
   "source": "<a style='text-decoration:none;line-height:16px;display:flex;color:#5B5B62;padding:10px;justify-content:end;' href='https://deepnote.com?utm_source=created-in-deepnote-cell&projectId=f5f90ba1-3290-463e-8fc6-44108f4fa21b' target=\"_blank\">\n<img alt='Created in deepnote.com' style='display:inline;max-height:16px;margin:0px;margin-right:7.5px;' src='data:image/svg+xml;base64,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' > </img>\nCreated in <span style='font-weight:600;margin-left:4px;'>Deepnote</span></a>",
   "metadata": {
    "tags": [],
    "created_in_deepnote_cell": true,
    "deepnote_cell_type": "markdown"
   }
  }
 ],
 "nbformat": 4,
 "nbformat_minor": 2,
 "metadata": {
  "orig_nbformat": 2,
  "deepnote": {
   "is_reactive": false
  },
  "deepnote_notebook_id": "e8921249-edf5-4a0e-bd6d-295086efa2b4",
  "deepnote_execution_queue": []
 }
}