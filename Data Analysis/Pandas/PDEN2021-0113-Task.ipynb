{
 "cells": [
  {
   "cell_type": "code",
   "metadata": {
    "tags": [],
    "cell_id": "00000-67c897b9-e7e2-42ac-8074-f3950535fcce",
    "deepnote_to_be_reexecuted": false,
    "source_hash": "f9817f72",
    "execution_start": 1625544004744,
    "execution_millis": 7,
    "deepnote_cell_type": "code"
   },
   "source": "import os\nimport sys\nimport json\nimport re\nfrom collections import Counter",
   "outputs": [],
   "execution_count": null
  },
  {
   "cell_type": "code",
   "metadata": {
    "tags": [],
    "cell_id": "00001-8eb831dd-8096-46b9-a1cb-8b84d5821f97",
    "deepnote_to_be_reexecuted": false,
    "source_hash": "4fc81572",
    "execution_start": 1625544004757,
    "execution_millis": 3,
    "deepnote_cell_type": "code"
   },
   "source": "today = []\nyesterday = []\nsmaller_list_t = []\nsmaller_list_y = []",
   "outputs": [],
   "execution_count": null
  },
  {
   "cell_type": "code",
   "metadata": {
    "tags": [],
    "cell_id": "00002-ee7b9d83-3f7c-4e5e-a543-cb2d81458402",
    "deepnote_to_be_reexecuted": false,
    "source_hash": "5a9856fa",
    "execution_start": 1625544008876,
    "execution_millis": 8,
    "deepnote_cell_type": "code"
   },
   "source": "def getJSON(file,day):\n    with open(file,'r+') as fp:\n        for line in fp:\n            day.append(json.loads(line))\n    return day",
   "outputs": [],
   "execution_count": null
  },
  {
   "cell_type": "code",
   "metadata": {
    "tags": [],
    "cell_id": "00003-aa0e5255-2b1a-4df8-9e1c-28df7564144e",
    "deepnote_to_be_reexecuted": false,
    "source_hash": "1e243f98",
    "execution_start": 1625544009763,
    "execution_millis": 2733,
    "deepnote_cell_type": "code"
   },
   "source": "list_today = getJSON(\"today.json\",today)\nlist_yesterday = getJSON(\"yesterday.json\",yesterday)",
   "outputs": [],
   "execution_count": null
  },
  {
   "cell_type": "code",
   "metadata": {
    "tags": [],
    "cell_id": "00004-05f81666-ab66-4ae4-a0e8-62b51e179758",
    "deepnote_to_be_reexecuted": false,
    "source_hash": "d8fcc4d9",
    "execution_start": 1625544012500,
    "execution_millis": 19,
    "deepnote_cell_type": "code"
   },
   "source": "list_today[-1]",
   "outputs": [
    {
     "output_type": "execute_result",
     "execution_count": 5,
     "data": {
      "text/plain": "{'category': 'Personal Care',\n 'crawl_date': '20180727',\n 'subcategory': 'Facial Care',\n 'title': 'Skinfix Foaming Clay Cleanser - 3.4 oz',\n 'mrp': '0',\n 'urlh': 'aa3fa70f50464106e33618852a7fa015b19881a7',\n 'http_status': '200',\n 'pack_size': '3.4 oz',\n 'available_price': '14.99'}"
     },
     "metadata": {}
    }
   ],
   "execution_count": null
  },
  {
   "cell_type": "code",
   "metadata": {
    "tags": [],
    "cell_id": "00009-6cd098be-335a-4a25-811a-c6a1c38d43ba",
    "deepnote_to_be_reexecuted": false,
    "source_hash": "5f27f9c2",
    "execution_start": 1625544013623,
    "execution_millis": 1,
    "deepnote_cell_type": "code"
   },
   "source": "today, yesterday, urlh_today, urlh_yesterday, categories_today, categories_yesterday = ([] for i in range(6))",
   "outputs": [],
   "execution_count": null
  },
  {
   "cell_type": "code",
   "metadata": {
    "tags": [],
    "cell_id": "00010-95e9409b-c1a9-41b6-975f-4f2c4399ba61",
    "deepnote_to_be_reexecuted": false,
    "source_hash": "b7da2d6a",
    "execution_start": 1625544014521,
    "execution_millis": 2,
    "deepnote_cell_type": "code"
   },
   "source": "subcat_today, subcat_yesterday = [], []",
   "outputs": [],
   "execution_count": null
  },
  {
   "cell_type": "code",
   "metadata": {
    "tags": [],
    "cell_id": "00011-1fed9ce8-cb18-4eca-aa24-77d40fc0c34b",
    "deepnote_to_be_reexecuted": false,
    "source_hash": "e4386701",
    "execution_start": 1625544015527,
    "execution_millis": 2588,
    "deepnote_cell_type": "code"
   },
   "source": "list_today = getJSON('today.json', today)\nlist_yesterday = getJSON('yesterday.json', yesterday)",
   "outputs": [],
   "execution_count": null
  },
  {
   "cell_type": "code",
   "metadata": {
    "tags": [],
    "cell_id": "00011-77133d2f-f132-4fac-b096-3421b015aa41",
    "deepnote_to_be_reexecuted": false,
    "source_hash": "53c7c8e0",
    "execution_start": 1625544018128,
    "execution_millis": 113,
    "deepnote_cell_type": "code"
   },
   "source": "for item  in list_today:\n    urlh_today.append(item['urlh'])\n    categories_today.append(item['category'])\n    subcat_today.append(item['subcategory'])",
   "outputs": [],
   "execution_count": null
  },
  {
   "cell_type": "code",
   "metadata": {
    "tags": [],
    "cell_id": "00011-309b58ab-2a4b-4195-843c-f029be7d6b0f",
    "deepnote_to_be_reexecuted": false,
    "source_hash": "374df9e0",
    "execution_start": 1625544018283,
    "execution_millis": 81,
    "deepnote_cell_type": "code"
   },
   "source": "for item in list_yesterday:\n    urlh_yesterday.append(item['urlh'])\n    categories_yesterday.append(item['category'])\n    subcat_yesterday.append(item['subcategory'])\n",
   "outputs": [],
   "execution_count": null
  },
  {
   "cell_type": "markdown",
   "source": "Questions:\n------------------------------------------------------------------------------------------------------------------\n\nGiven two JSON files (yesterday.json, today.json), write a small analytics program to perform the following:\n\n1. Number of URLH which are overlapping (Common) in two files.\n",
   "metadata": {
    "tags": [],
    "cell_id": "00000-d5053b43-8e2d-453f-953e-14b025d5e0cd",
    "deepnote_cell_type": "markdown"
   }
  },
  {
   "cell_type": "code",
   "metadata": {
    "tags": [],
    "cell_id": "00000-c6ef5f1d-5b2c-4cdf-81a2-c65e2f462652",
    "deepnote_to_be_reexecuted": false,
    "source_hash": "d89dd6cb",
    "execution_start": 1625544019906,
    "execution_millis": 51,
    "deepnote_cell_type": "code"
   },
   "source": "# Start writing code here...\n\noverlapping_urlh = list(set(urlh_today).intersection(urlh_yesterday))\n\n\nprint(\"Number of URLH which are overlapping in both the files is:\",len(overlapping_urlh))",
   "outputs": [
    {
     "name": "stdout",
     "text": "Number of URLH which are overlapping in both the files is: 129673\n",
     "output_type": "stream"
    }
   ],
   "execution_count": null
  },
  {
   "cell_type": "markdown",
   "source": "\n2. For all the URLH which are overlapping, calculate the price difference (wrt available_price) if there is any between yesterday's and today's crawls (scraped data). There might be duplicate URLHs in which case you can choose the first valid (with http_status 200) record.\n\n",
   "metadata": {
    "tags": [],
    "cell_id": "00002-999c661d-6528-4b3b-98b9-6c48c53e00ba",
    "deepnote_cell_type": "markdown"
   }
  },
  {
   "cell_type": "code",
   "metadata": {
    "tags": [],
    "cell_id": "00018-c388cee3-5cb2-45c8-9852-fef8452ff4d3",
    "deepnote_to_be_reexecuted": false,
    "source_hash": "70c08cf8",
    "execution_start": 1625544021628,
    "execution_millis": 1,
    "deepnote_cell_type": "code"
   },
   "source": "status_list_today = []\nstatus_list_yesterday = [] # All http_status Codes are 200 only ",
   "outputs": [],
   "execution_count": null
  },
  {
   "cell_type": "code",
   "metadata": {
    "tags": [],
    "cell_id": "00018-19afd30e-631a-47d9-8d4c-05fc236790ff",
    "deepnote_to_be_reexecuted": false,
    "source_hash": "8caae5a4",
    "execution_start": 1625544022378,
    "execution_millis": 67,
    "deepnote_cell_type": "code"
   },
   "source": "for i in range(len(list_today)):\n    if list_today[i]['http_status']== \"200\":\n        status_list_today.append(list_today[i])",
   "outputs": [],
   "execution_count": null
  },
  {
   "cell_type": "code",
   "metadata": {
    "tags": [],
    "cell_id": "00019-958660c4-a670-417a-8054-e1849dba0e6f",
    "deepnote_to_be_reexecuted": false,
    "source_hash": "2a8d7ba8",
    "execution_start": 1625544023231,
    "execution_millis": 62,
    "deepnote_cell_type": "code"
   },
   "source": "for j in range(len(list_yesterday)):\n    if list_yesterday[j]['http_status'] == \"200\":\n        status_list_yesterday.append(list_yesterday[j])",
   "outputs": [],
   "execution_count": null
  },
  {
   "cell_type": "code",
   "metadata": {
    "tags": [],
    "cell_id": "00020-2b58e889-476f-4ea6-9ca9-25b5732a156a",
    "deepnote_to_be_reexecuted": false,
    "source_hash": "2ddd70fc",
    "execution_start": 1625544024353,
    "execution_millis": 0,
    "deepnote_cell_type": "code"
   },
   "source": "set_overlapped_urlh  = set(overlapping_urlh) # http_status Code [200,202,201,............]",
   "outputs": [],
   "execution_count": null
  },
  {
   "cell_type": "code",
   "metadata": {
    "tags": [],
    "cell_id": "00019-b9dbcea5-c4ba-491d-bd93-243e5c3c1c3b",
    "deepnote_to_be_reexecuted": false,
    "source_hash": "410a4248",
    "execution_start": 1625544025101,
    "execution_millis": 76,
    "deepnote_cell_type": "code"
   },
   "source": "today_urlh=[]\nyesterday_urlh=[]\nfor i in status_list_today:\n    today_urlh.append(i['urlh'])\n\nfor i in status_list_yesterday:\n    yesterday_urlh.append(i['urlh'])",
   "outputs": [],
   "execution_count": null
  },
  {
   "cell_type": "code",
   "metadata": {
    "tags": [],
    "cell_id": "00018-f24dd46c-25b2-4100-97e4-3bdf581571b1",
    "deepnote_to_be_reexecuted": false,
    "source_hash": "3b6180d1",
    "execution_start": 1625544025928,
    "execution_millis": 11,
    "deepnote_cell_type": "code"
   },
   "source": "overlapped_urlh = list(set(today_urlh).intersection(yesterday_urlh))",
   "outputs": [],
   "execution_count": null
  },
  {
   "cell_type": "code",
   "metadata": {
    "tags": [],
    "cell_id": "00018-b18bea37-7bbd-4dab-8b8f-672e057bfb30",
    "deepnote_to_be_reexecuted": false,
    "source_hash": "95fbafe3",
    "execution_start": 1625544027145,
    "execution_millis": 1587943,
    "deepnote_cell_type": "code"
   },
   "source": "# here i have only overlapped urlheaders with http_status=200\n#now selecting the data by using overlapped urlh:\n\nupdated_today_list=[]\nupdated_yesterday_list=[]\nfor i in status_list_today:\n    for j in overlapped_urlh:\n        if i['urlh']==j:\n            updated_today_list.append(i)\n\nfor i in status_list_yesterday:\n    for j in overlapped_urlh:\n        if i['urlh']==j:\n            updated_yesterday_list.append(i)",
   "outputs": [
    {
     "output_type": "error",
     "ename": "KeyboardInterrupt",
     "evalue": "",
     "traceback": [
      "\u001b[0;31m---------------------------------------------------------------------------\u001b[0m",
      "\u001b[0;31mKeyboardInterrupt\u001b[0m                         Traceback (most recent call last)",
      "\u001b[0;32m<ipython-input-18-de01d9a92e74>\u001b[0m in \u001b[0;36m<module>\u001b[0;34m\u001b[0m\n\u001b[1;32m      6\u001b[0m \u001b[0;32mfor\u001b[0m \u001b[0mi\u001b[0m \u001b[0;32min\u001b[0m \u001b[0mstatus_list_today\u001b[0m\u001b[0;34m:\u001b[0m\u001b[0;34m\u001b[0m\u001b[0;34m\u001b[0m\u001b[0m\n\u001b[1;32m      7\u001b[0m     \u001b[0;32mfor\u001b[0m \u001b[0mj\u001b[0m \u001b[0;32min\u001b[0m \u001b[0moverlapped_urlh\u001b[0m\u001b[0;34m:\u001b[0m\u001b[0;34m\u001b[0m\u001b[0;34m\u001b[0m\u001b[0m\n\u001b[0;32m----> 8\u001b[0;31m         \u001b[0;32mif\u001b[0m \u001b[0mi\u001b[0m\u001b[0;34m[\u001b[0m\u001b[0;34m'urlh'\u001b[0m\u001b[0;34m]\u001b[0m\u001b[0;34m==\u001b[0m\u001b[0mj\u001b[0m\u001b[0;34m:\u001b[0m\u001b[0;34m\u001b[0m\u001b[0;34m\u001b[0m\u001b[0m\n\u001b[0m\u001b[1;32m      9\u001b[0m             \u001b[0mupdated_today_list\u001b[0m\u001b[0;34m.\u001b[0m\u001b[0mappend\u001b[0m\u001b[0;34m(\u001b[0m\u001b[0mi\u001b[0m\u001b[0;34m)\u001b[0m\u001b[0;34m\u001b[0m\u001b[0;34m\u001b[0m\u001b[0m\n\u001b[1;32m     10\u001b[0m \u001b[0;34m\u001b[0m\u001b[0m\n",
      "\u001b[0;31mKeyboardInterrupt\u001b[0m: "
     ]
    }
   ],
   "execution_count": null
  },
  {
   "cell_type": "code",
   "metadata": {
    "tags": [],
    "cell_id": "00019-57e4926d-aeff-4db4-b5ae-2172cd0b01f9",
    "deepnote_to_be_reexecuted": false,
    "source_hash": "32dfc614",
    "execution_start": 1625543140327,
    "execution_millis": 4,
    "deepnote_cell_type": "code"
   },
   "source": "dict_={}\nfor i in updated_today_list:\n    for j in updated_yesterday_list:\n        if i['urlh']==j['urlh']:\n            price_diff=i['Availabale_price']-j['Available_price']\n            print(f'price diff for urlh {i[urlh]} from todays available prime and yesterdays availabale priece is: ',price_diff)\n            dict_[i[urlh]]=price_diff",
   "outputs": [],
   "execution_count": null
  },
  {
   "cell_type": "markdown",
   "source": "# or",
   "metadata": {
    "tags": [],
    "cell_id": "00021-8b33230b-2b9a-4098-93ff-3698a1c59f21",
    "deepnote_cell_type": "text-cell-h1"
   }
  },
  {
   "cell_type": "code",
   "metadata": {
    "tags": [],
    "cell_id": "00021-52384988-b463-44b1-afb8-1a448f6d94a0",
    "deepnote_to_be_reexecuted": false,
    "source_hash": "8be22c63",
    "execution_start": 1625542187505,
    "execution_millis": 13623,
    "deepnote_cell_type": "code"
   },
   "source": "for line_t in status_list_today[0:10000]:\n    for line_y in status_list_yesterday[0:10000]:\n        if line_t['urlh'] == line_y['urlh'] and line_t['urlh'] in set_overlapped_urlh:\n            temp1 = line_t['available_price']\n            temp2 = line_y['available_price']\n            if temp1 != None and temp2 != None:\n                temp1 = float(temp1)  \n                temp2 = float(temp2)\n                if (type(temp1) == 'int' or type(temp1 == 'float')) and (type(temp2) == 'int' or type(temp2 == 'float')):\n                    if temp1 != temp2:\n                        print(\"%.2f\" %abs(temp1-temp2))                        \n                        set_overlapped_urlh.remove(line_t['urlh'])\n            break",
   "outputs": [
    {
     "name": "stdout",
     "text": "0.30\n0.50\n0.56\n0.60\n1.00\n0.30\n0.60\n0.20\n0.20\n0.80\n0.30\n0.30\n0.30\n0.20\n0.26\n0.20\n0.20\n0.60\n0.60\n0.60\n1.00\n0.14\n0.06\n0.06\n0.06\n0.80\n0.50\n0.10\n0.10\n0.40\n0.24\n0.40\n0.10\n0.14\n0.24\n0.30\n0.30\n5.00\n0.20\n0.50\n0.50\n0.30\n0.50\n",
     "output_type": "stream"
    }
   ],
   "execution_count": null
  },
  {
   "cell_type": "markdown",
   "source": "3. Number of Unique categories in both files.\n",
   "metadata": {
    "tags": [],
    "cell_id": "00004-bce82321-8006-4958-985a-dc7fe2c93140",
    "deepnote_cell_type": "markdown"
   }
  },
  {
   "cell_type": "code",
   "metadata": {
    "tags": [],
    "cell_id": "00005-8d84f7b5-b069-4c86-b409-87b3f4d39d68",
    "deepnote_to_be_reexecuted": false,
    "source_hash": "f6040e6c",
    "execution_start": 1625539937806,
    "execution_millis": 5,
    "deepnote_cell_type": "code"
   },
   "source": "categories_unique  = list(set(categories_today).intersection(categories_yesterday))\n\nprint(\"Number of URLH which are Unique Caegories in both the files is:\",len(categories_unique))",
   "outputs": [
    {
     "name": "stdout",
     "text": "Number of URLH which are Unique Caegories in both the files is: 50\n",
     "output_type": "stream"
    }
   ],
   "execution_count": null
  },
  {
   "cell_type": "markdown",
   "source": "4. Display List of categories which is not overlapping (Common) from two given files.\n\n",
   "metadata": {
    "tags": [],
    "cell_id": "00006-e3c15f3c-3c4c-4f1f-aeb1-844a133173b6",
    "deepnote_cell_type": "markdown"
   }
  },
  {
   "cell_type": "code",
   "metadata": {
    "tags": [],
    "cell_id": "00007-69f45f46-39b5-462c-bee5-ac454f7b53f8",
    "deepnote_to_be_reexecuted": false,
    "source_hash": "3caf4644",
    "execution_start": 1625539974327,
    "execution_millis": 20,
    "deepnote_cell_type": "code"
   },
   "source": "categories_total = categories_today + categories_yesterday\nprint(\"List of categories which is not overlapping: \", list(set(categories_total).difference(categories_unique)))",
   "outputs": [
    {
     "name": "stdout",
     "text": "List of categories which is not overlapping:  []\n",
     "output_type": "stream"
    }
   ],
   "execution_count": null
  },
  {
   "cell_type": "code",
   "metadata": {
    "tags": [],
    "cell_id": "00022-53e89294-ebc6-4b5c-a5c3-b349d153e4c9",
    "deepnote_to_be_reexecuted": false,
    "source_hash": "34b78e87",
    "execution_start": 1625540576719,
    "execution_millis": 2,
    "deepnote_cell_type": "code"
   },
   "source": "subcat_set = set(subcat_today).intersection(subcat_yesterday)\nsubcat_total = subcat_today + subcat_yesterday",
   "outputs": [],
   "execution_count": null
  },
  {
   "cell_type": "code",
   "metadata": {
    "tags": [],
    "cell_id": "00023-ff858ead-9ad4-4fca-8843-6d1ef170b985",
    "deepnote_to_be_reexecuted": false,
    "source_hash": "991d4e04",
    "execution_start": 1625540598890,
    "execution_millis": 1,
    "deepnote_cell_type": "code"
   },
   "source": "list_total = list_today+list_yesterday",
   "outputs": [],
   "execution_count": null
  },
  {
   "cell_type": "code",
   "metadata": {
    "tags": [],
    "cell_id": "00024-d915474c-bf4a-4e75-aa50-7c7d947686f1",
    "deepnote_to_be_reexecuted": false,
    "source_hash": "fc6acd75",
    "execution_start": 1625540643955,
    "execution_millis": 3,
    "deepnote_cell_type": "code"
   },
   "source": "subcat_dict = Counter(subcat_total)",
   "outputs": [],
   "execution_count": null
  },
  {
   "cell_type": "markdown",
   "source": "5. Generate the stats with count of urlh for all taxonomies (taxonomy is concatenation of category and subcategory separated by \" > \") for today's file.\n\nEg:\n* Cat1 > Subcat1: 3500\n* Cat1 > Subcat2: 2000\n* Cat2 > Subcat3: 8900\n",
   "metadata": {
    "tags": [],
    "cell_id": "00008-98366661-c2fe-4de0-8dce-f17ff2a3a202",
    "deepnote_cell_type": "markdown"
   }
  },
  {
   "cell_type": "code",
   "metadata": {
    "tags": [],
    "cell_id": "00009-8b005ade-ef1e-4ef2-a3be-a196410b21bb",
    "deepnote_to_be_reexecuted": false,
    "source_hash": "b61b7bed",
    "execution_start": 1625540980499,
    "execution_millis": 324,
    "deepnote_cell_type": "code"
   },
   "source": "# All Taxonomies\n\nfor line in list_total:\n    if line['category'] in categories_unique and line['subcategory'] in subcat_set:\n        print(line['category']+\">\"+line['subcategory']+\":\"+str(subcat_dict[line['subcategory']]))\n        subcat_set.remove(line['subcategory'])",
   "outputs": [
    {
     "name": "stdout",
     "text": "Household>Trash Bags & Liners:348\nHousehold>Paper Goods:1197\nHousehold>Laundry:2095\nHousehold>Kitchen Supplies:2312\nHousehold>Plates, Bowls, Cups & Flatware:996\nHousehold>Food Storage:1257\nHousehold>Dish Detergents:782\nHousehold>Cleaning Products:3070\nHousehold>Air Fresheners & Candles:1790\nPets>Dog Food & Care:3085\nPets>Cat Food & Care:2563\nBabies>Baby Accessories:543\nBabies>Baby First Aid & Vitamins:488\nBabies>Diapers & Wipes:1272\nBabies>Baby Food & Formula:2639\nBabies>Baby Bath & Body Care:700\nPersonal Care>Adult Care:134\nPersonal Care>Foot Care:277\nPersonal Care>Family Planning:517\nPersonal Care>Aromatherapy:65\nPersonal Care>Clothing:68\nPersonal Care>Protein & Meal Replacements:1450\nPersonal Care>Vitamins & Supplements:8464\nPersonal Care>Stress & Sleep Aids:517\nPersonal Care>Cold, Flu & Allergy:2434\nPersonal Care>Digestion:2285\nPersonal Care>Muscles, Joints & Pain Relief:1968\nPersonal Care>Cleanses & Detoxes:56\nPersonal Care>Hair Care:8712\nPersonal Care>Hand Care:487\nPersonal Care>First Aid:2347\nPersonal Care>Beauty:11379\nPersonal Care>Feminine Care:2227\nPersonal Care>Eye & Ear Care:1311\nPersonal Care>Oral Hygiene:3954\nPersonal Care>Shave Needs:1539\nPersonal Care>Body Lotions & Soap:4844\nPersonal Care>Deodorants:1757\nPersonal Care>Facial Care:3290\nBreakfast>Breakfast Bars & Pastries:783\nBreakfast>Granola:692\nBreakfast>Hot Cereal & Pancake Mixes:1114\nBreakfast>Cereal:2289\nInternational>Indian Foods:297\nInternational>Latino Foods:960\nInternational>Asian Foods:1887\nDry Goods & Pasta>Baking Supplies:2\nDry Goods & Pasta>Whole & Ground Seeds:6\nDry Goods & Pasta>Spices & Seasoning:14\nDry Goods & Pasta>Grains, Rice & Dried Goods:1215\nDry Goods & Pasta>Instant Foods:2082\nDry Goods & Pasta>Pasta Sauce:1426\nDry Goods & Pasta>Fresh Pasta:366\nDry Goods & Pasta>Dry Pasta:1510\nBulk>Bulk Granola & Cereals:59\nBulk>Bulk Spices & Seasonings:266\nBulk>Bulk Containers:10\nBulk>Bulk Home & Personal Care:6\nBulk>Bulk Soup Mix:21\nBulk>Bulk Pasta:22\nBulk>Other Bulk:92\nBulk>Bulk Sugar & Sweeteners:28\nBulk>Bulk Candies & Chocolates:154\nBulk>Bulk Nuts & Seeds:485\nBulk>Bulk Flours & Powders:279\nBulk>Bulk Tea & Coffee:337\nBulk>Bulk Trail Mix & Snack Mix:122\nBulk>Bulk Dried Fruits & Vegetables:166\nBulk>Bulk Spreads Butter, Honey, Syrup:38\nBulk>Bulk Grains, Rice & Dried Beans:391\nCanned Goods>Soup, Broth & Bouillon:3185\nCanned Goods>Canned Meat & Seafood:1272\nCanned Goods>Canned Meals & Beans:1594\nCanned Goods>Canned & Jarred Vegetables:1897\nCanned Goods>Canned Fruit & Applesauce:1087\nPantry>Baking Supplies & Decor:1493\nPantry>Baking Ingredients:2315\nPantry>Spices & Seasonings:3955\nPantry>Doughs, Gelatins & Bake Mixes:1664\nPantry>Preserved Dips & Spreads:1261\nPantry>Marinades & Meat Preparation:1781\nPantry>Pickled Goods & Olives:1568\nPantry>Oils & Vinegars:1902\nPantry>Salad Dressing & Toppings:2369\nPantry>Spreads:1949\nPantry>Honeys, Syrups & Nectars:930\nPantry>Condiments:2942\nMeat & Seafood>Hot Dogs, Bacon & Sausage:1832\nMeat & Seafood>Seafood:134\nMeat & Seafood>Poultry:92\nMeat & Seafood>Meat:403\nBakery>Bakery Desserts:2097\nBakery>Breakfast Bakery:1018\nBakery>Buns & Rolls:835\nBakery>Tortillas & Flat Bread:797\nBakery>Bread:2389\nFrozen>Frozen Juice:324\nFrozen>Ice Cream & Ice:5015\nFrozen>Frozen Dessert:595\nFrozen>Frozen Vegan & Vegetarian:756\nFrozen>Frozen Meat & Seafood:961\nFrozen>Frozen Produce:1413\nFrozen>Frozen Breads & Doughs:226\nFrozen>Frozen Pizza:1187\nFrozen>Frozen Meals:3909\nFrozen>Frozen Appetizers & Sides:1370\nFrozen>Frozen Breakfast:955\nBeverages>Cocoa & Drink Mixes:990\nBeverages>Water, Seltzer & Sparkling Water:2422\nBeverages>Soft Drinks:3134\nBeverages>Energy & Sports Drinks:1963\nBeverages>Juice & Nectars:4447\nBeverages>Tea:3756\nBeverages>Coffee:4171\nBeverages>Refrigerated:2377\nSnacks>Ice Cream Toppings:381\nSnacks>Fruit & Vegetable Snacks:928\nSnacks>Mint & Gum:999\nSnacks>Trail Mix & Snack Mix:507\nSnacks>Popcorn & Jerky:1538\nSnacks>Nuts, Seeds & Dried Fruit:2806\nSnacks>Energy & Granola Bars:3413\nSnacks>Crackers:2640\nSnacks>Cookies & Cakes:3304\nSnacks>Chips & Pretzels:3920\nSnacks>Candy & Chocolate:6143\nDeli>Fresh Dips & Tapenades:835\nDeli>Specialty Cheeses:1912\nDeli>Deli Meat:167\nDeli>Prepared Meals:2553\nDeli>Prepared Soups & Salads:884\nDairy & Eggs>Tofu & Meat Alternatives:354\nDairy & Eggs>Refrigerated Pudding & Desserts:373\nDairy & Eggs>Dairy Alternatives:230\nDairy & Eggs>Other Creams & Cheeses:834\nDairy & Eggs>Butter:578\nDairy & Eggs>Cream:825\nDairy & Eggs>Milk:1415\nDairy & Eggs>Eggs:358\nDairy & Eggs>Packaged Cheese:3207\nDairy & Eggs>Yogurt:3631\nProduce>Fresh Herbs:286\nProduce>Packaged Vegetables & Fruits:1984\nProduce>Fresh Fruits:1444\nProduce>Fresh Vegetables:2359\nHoliday Favorites>Candles & Kitchenwares:19\nHoliday Favorites>Holiday Pantry:44\nHoliday Favorites>Desserts & Bakery:12\nHoliday Favorites>Beverages:6\nHoliday Favorites>Cheese & Appetizers:22\nHoliday Favorites>Produce:65\nHoliday Favorites>Sides & Salads:6\nHoliday Favorites>Entrees:10\nPets>Small Animal Care:303\nInternational>More International Foods:43\nInternational>Kosher Foods:357\nDeli>Lunch Meat:1664\nHousehold>More Household:7819\nMeat & Seafood>Packaged Seafood:434\nMeat & Seafood>Packaged Poultry:608\nMeat & Seafood>Packaged Meat:1261\nMeat & Seafood>Seafood Counter:325\nMeat & Seafood>Poultry Counter:325\nMeat & Seafood>Meat Counter:794\nDairy & Eggs>Soy & Lactose-Free:1119\nHousehold>Garden:116\nAllergy & Cold Essentials>Essentials:65\nAllergy & Cold Essentials>Cough & Cold Medicine:57\nAllergy & Cold Essentials>Pain & Fever:59\nAllergy & Cold Essentials>Allergy:104\nChristmas>Christmas:10788\nAlcohol>Spirits:10\nAlcohol>Rosés:52\nAlcohol>Cocktail Mixes:30\nAlcohol>Specialty Wines & Champagnes:90\nAlcohol>White Wines:126\nAlcohol>Red Wines:448\nAlcohol>Beers & Coolers:394\nPersonal Care>Oils & Tinctures:104\nPersonal Care>Soap:598\nPersonal Care>Skin Care:500\nBulk>Bulk Spices & Seasoning:10\nBulk>Bulk Grains, Rice & Dried Goods:114\nDeli>Newly Added:10\nFood>Cheese:3\nFood>Nuts:26\nFood>Chocolate, Candy & Mints:16\nFood>Chips, Puffs & Pretzels:2\nGlassware & Accessories>Wine Storage & Transport:10\nGlassware & Accessories>Other Glassware:28\nGlassware & Accessories>Spirits Glassware:28\nGlassware & Accessories>Beer Glassware:12\nGlassware & Accessories>Wine Glassware:72\nGlassware & Accessories>Wine Accessories:66\nGlassware & Accessories>Bar Tools:50\nCoolers & Malt Beverages>Flavored Malt Beverages:118\nCoolers & Malt Beverages>Wine Coolers:12\nCider>Other Fruit Cider:160\nCider>Perry (Pear Cider):44\nCider>Apple Cider:235\nVariety Packs>Variety Packs:48\nVariety Packs>Gift Sets:28\nSeasonal/Special Release Beer>Special Release:159\nSeasonal/Special Release Beer>Seasonal:273\nSpecialty Style Beer>Chili Beer:4\nSpecialty Style Beer>Cream Ale:6\nSpecialty Style Beer>Specialty Beer:110\nSpecialty Style Beer>Shandy/Radler:28\nSpecialty Style Beer>Herbed/Spiced Beer:42\nSpecialty Style Beer>Fruit Beer:74\nSpecialty Style Beer>American Wild Ale:16\nGift Baskets & Sets>Gift Baskets:6\nReady to Drink>Manhattans & Bourbon Drinks:2\nReady to Drink>Cosmopolitan:2\nReady to Drink>Mojito:4\nReady to Drink>Other:461\nReady to Drink>Unique Cocktails:26\nReady to Drink>Shots:18\nReady to Drink>Margaritas:46\nReady to Drink>Lemonades & Citrus Drinks:23\nReady to Drink>Daiquiris & Rum Drinks:24\nReady to Drink>Chocolate & Cream Drinks:14\nLiqueurs/Cordials/Schnapps>Coconut:8\nLiqueurs/Cordials/Schnapps>Unique Flavors:26\nLiqueurs/Cordials/Schnapps>Nuts & Amaretto:74\nLiqueurs/Cordials/Schnapps>Herbal & Spice:223\nLiqueurs/Cordials/Schnapps>Fruit Blends:123\nLiqueurs/Cordials/Schnapps>Fruit:126\nLiqueurs/Cordials/Schnapps>Citrus & Triple Sec:147\nLiqueurs/Cordials/Schnapps>Chocolate; Sweets & Candy:98\nBrandy & Cognac>Pisco:4\nBrandy & Cognac>Eau de Vie:6\nBrandy & Cognac>Grappa:14\nBrandy & Cognac>Flavored Brandy:42\nBrandy & Cognac>Cognac:176\nBrandy & Cognac>Calvados:22\nBrandy & Cognac>Brandy:114\nBrandy & Cognac>Armagnac:14\nScotch>Single Malt:204\nScotch>Blended Scotch:184\nBourbon>Small Batch Bourbon:279\nRum>Spiced Rum:104\nRum>Silver Rum:85\nRum>Gold Rum:45\nRum>Flavored Rum:132\nRum>Dark Rum:32\nRum>Cachaca:13\nRum>Aged Rum:140\nTequila>Reposado:144\nTequila>Gold:24\nTequila>Flavored Tequila:30\nTequila>Extra Anejo:12\nTequila>Blanco/Silver:190\nTequila>Anejo:115\nSake & Plum Wine>Sake:81\nSake & Plum Wine>Plum Wine:12\nFruit Wine>Sangria:54\nDessert & Fortified Wine>Madeira:4\nDessert & Fortified Wine>Marsala:6\nDessert & Fortified Wine>Chocolate Wine:6\nDessert & Fortified Wine>White Blend Dessert Wine:12\nDessert & Fortified Wine>Other Dessert & Fortified Wines:22\nDessert & Fortified Wine>Vermouth:69\nDessert & Fortified Wine>Sherry:44\nDessert & Fortified Wine>Riesling:208\nDessert & Fortified Wine>Red Blend Dessert Wine:14\nDessert & Fortified Wine>Port:144\nDessert & Fortified Wine>Muscat/Muscadine:20\nDessert & Fortified Wine>Mead:54\nDessert & Fortified Wine>Ice Wine:16\nDessert & Fortified Wine>Fruit-Based Dessert Wine:16\nDessert & Fortified Wine>Bordeaux Blend:483\nDessert & Fortified Wine>Aperitif:50\nAmerican Whiskey>Whiskey:452\nAmerican Whiskey>Tennessee Whiskey:62\nAmerican Whiskey>Rye Whiskey:151\nMixers, Water & Soda>Sports Drinks:2\nMixers, Water & Soda>Syrups:3\nMixers, Water & Soda>Seltzer Water:7\nMixers, Water & Soda>Soda:10\nMixers, Water & Soda>Water:80\nMixers, Water & Soda>Tonic Water:23\nMixers, Water & Soda>Sparkling Cider:17\nMixers, Water & Soda>Cocktail Rimmers:2\nMixers, Water & Soda>Juice:18\nMixers, Water & Soda>Club Soda:9\nMixers, Water & Soda>Bitters:17\nChampagne & Sparkling Wine>Sparkling Wine:331\nChampagne & Sparkling Wine>Sparkling Red Wine:90\nChampagne & Sparkling Wine>Prosecco:82\nChampagne & Sparkling Wine>Muscat/Moscato:141\nChampagne & Sparkling Wine>Flavored Sparkling Wine:68\nChampagne & Sparkling Wine>Champagne:214\nChampagne & Sparkling Wine>Cava:76\nAle Beer>Wheat Ale:198\nAle Beer>Strong Ale & Barley Wine:107\nAle Beer>Stout:169\nAle Beer>Porter:76\nAle Beer>Pale Ale:222\nAle Beer>Brown Ale:48\nAle Beer>Blond Ale:115\nAle Beer>Belgian-Style Ale:281\nAle Beer>Amber/Red Ale:120\nAle Beer>IPA (India Pale Ale):772\nVodka>Flavored Vodka:523\nVodka>Vodka:649\nLager Beer>Japanese Rice Lager:9\nLager Beer>Other Dark Lager:51\nLager Beer>Other Pale Lager:48\nLager Beer>Euro Pale Lager:83\nLager Beer>Czech & German Pilsner:152\nLager Beer>Bock/Doppelbock/Maibock:21\nLager Beer>Amber/Red Lager:32\nLager Beer>American All-Malt Lager:32\nLager Beer>American-Style Lager:214\nLager Beer>Light Lager:117\nWhite Wine>Pinot Blanc:8\nWhite Wine>Trebbiano/Ugni Blanc:8\nWhite Wine>Other White Wines:112\nWhite Wine>White Blend:133\nWhite Wine>Viognier:31\nWhite Wine>Torrontes:10\nWhite Wine>Rhone Blend:214\nWhite Wine>Gruner Veltliner:18\nWhite Wine>Gewurztraminer:32\nWhite Wine>Garganega:12\nWhite Wine>Chenin Blanc:35\nWhite Wine>Albarino:20\nWhite Wine>Pinot Grigio/Pinot Gris:152\nWhite Wine>Sauvignon Blanc:177\nWhite Wine>Chardonnay:813\nRed Wine>Other Red Wines:155\nRed Wine>Zinfandel:186\nRed Wine>Tempranillo:186\nRed Wine>Syrah/Shiraz:295\nRed Wine>Sangiovese:325\nRed Wine>Petite Sirah:34\nRed Wine>Nebbiolo:88\nRed Wine>Mourvedre/Monastrell:14\nRed Wine>Montepulciano:32\nRed Wine>Merlot:374\nRed Wine>Malbec:170\nRed Wine>Grenache:64\nRed Wine>Gamay:44\nRed Wine>Corvina:42\nRed Wine>Carmenere:22\nRed Wine>Cabernet Franc:48\nRed Wine>Barbera:36\nRed Wine>Red Blend:726\nRed Wine>Pinot Noir:622\nRed Wine>Cabernet Sauvignon:1309\nGrocery>Sugar & Sugar Substitutes:2\nGrocery>Pasta & Pasta Sauce:24\nGrocery>Frozen:55\nGrocery>Bars:4\nGrocery>Bakery & Bread:2\nHousehold>Books & Magazines:2\nPersonal Care>Medical Supplies/Aid:86\nPersonal Care>Sun Care:24\n",
     "output_type": "stream"
    }
   ],
   "execution_count": null
  },
  {
   "cell_type": "markdown",
   "source": "6. Generate a new file where mrp is normalized. If there is a 0 or a non-float value or the key doesn't exist, make it \"NA\".\n",
   "metadata": {
    "tags": [],
    "cell_id": "00010-263b06ad-f0c2-46b6-bfe4-d0a1f113e794",
    "deepnote_cell_type": "markdown"
   }
  },
  {
   "cell_type": "code",
   "metadata": {
    "tags": [],
    "cell_id": "00033-62d3f556-7e0b-495d-a784-9a458e318d58",
    "deepnote_to_be_reexecuted": false,
    "source_hash": "c6b1d037",
    "execution_start": 1625541976098,
    "execution_millis": 2,
    "deepnote_cell_type": "code"
   },
   "source": "for line in list_today[0:10]:\n    try:\n        if (line['mrp']==\"0\") or (re.match(\"^\\d+?\\.\\d+?$\",line['mrp'])is None) or (line[\"mrp\"] == None):\n            line['mrp']=\"NA\"\n    except TypeError:\n        line['mrp']=\"NA\"\n    smaller_list_t.append(line)",
   "outputs": [],
   "execution_count": null
  },
  {
   "cell_type": "code",
   "metadata": {
    "tags": [],
    "cell_id": "00034-18152cf2-ca52-4dc1-ae3a-c5fa079c9507",
    "deepnote_to_be_reexecuted": false,
    "source_hash": "ed01c378",
    "execution_start": 1625542000142,
    "execution_millis": 6,
    "deepnote_cell_type": "code"
   },
   "source": "for line in list_yesterday[0:10]:\n    try:\n            if (line[\"mrp\"] == \"0\") or (re.match(\"^\\d+?\\.\\d+?$\", line[\"mrp\"]) is None) or (line[\"mrp\"] == None):\n                    line[\"mrp\"] = \"NA\"\n    except TypeError:\n            line[\"mrp\"] = \"NA\"\n    smaller_list_y.append(line)",
   "outputs": [],
   "execution_count": null
  },
  {
   "cell_type": "code",
   "metadata": {
    "tags": [],
    "cell_id": "00007-d7c8c51d-be41-4651-ab23-79e6f3b168cf",
    "deepnote_to_be_reexecuted": false,
    "source_hash": "50e7568a",
    "execution_start": 1625539059118,
    "execution_millis": 0,
    "deepnote_cell_type": "code"
   },
   "source": "open(\"nmrp_today.json\", 'a').close()\nopen(\"nmrp_yesterday.json\", 'a').close()",
   "outputs": [],
   "execution_count": null
  },
  {
   "cell_type": "code",
   "metadata": {
    "tags": [],
    "cell_id": "00008-5dde2fa9-b2cb-49e4-aeff-f133191d9198",
    "deepnote_to_be_reexecuted": false,
    "source_hash": "9f3f81a9",
    "execution_start": 1625539162106,
    "execution_millis": 8,
    "deepnote_cell_type": "code"
   },
   "source": "with open(\"nmrp_today.json\",'w') as f:\n    json.dump(smaller_list_t,f)\n\nwith open(\"nmrp_yesterday.json\",'w') as f:\n    json.dump(smaller_list_y,f)",
   "outputs": [],
   "execution_count": null
  },
  {
   "cell_type": "markdown",
   "source": "7. Display the title and price of 10 items having least price.\n\nEg:\n* Title1 --> its price\n* Title2 --> its price\nupto 10\n",
   "metadata": {
    "tags": [],
    "cell_id": "00012-a4910bbb-852e-4e8b-b60c-66189a2692b0",
    "deepnote_cell_type": "markdown"
   }
  },
  {
   "cell_type": "code",
   "metadata": {
    "tags": [],
    "cell_id": "00038-ce3c7e11-c1f2-459b-993d-649c7deb3da2",
    "deepnote_to_be_reexecuted": false,
    "source_hash": "acf13393",
    "execution_start": 1625545917507,
    "execution_millis": 45,
    "deepnote_cell_type": "code"
   },
   "source": "",
   "outputs": [
    {
     "output_type": "error",
     "ename": "ValueError",
     "evalue": "invalid literal for int() with base 10: '5.99'",
     "traceback": [
      "\u001b[0;31m---------------------------------------------------------------------------\u001b[0m",
      "\u001b[0;31mValueError\u001b[0m                                Traceback (most recent call last)",
      "\u001b[0;32m<ipython-input-26-1ae93490abbc>\u001b[0m in \u001b[0;36m<module>\u001b[0;34m\u001b[0m\n\u001b[1;32m      2\u001b[0m \u001b[0;32mfor\u001b[0m \u001b[0mi\u001b[0m \u001b[0;32min\u001b[0m \u001b[0mlist_today\u001b[0m\u001b[0;34m:\u001b[0m\u001b[0;34m\u001b[0m\u001b[0;34m\u001b[0m\u001b[0m\n\u001b[1;32m      3\u001b[0m     \u001b[0mprices\u001b[0m\u001b[0;34m.\u001b[0m\u001b[0mappend\u001b[0m\u001b[0;34m(\u001b[0m\u001b[0mi\u001b[0m\u001b[0;34m[\u001b[0m\u001b[0;34m'available_price'\u001b[0m\u001b[0;34m]\u001b[0m\u001b[0;34m)\u001b[0m\u001b[0;34m\u001b[0m\u001b[0;34m\u001b[0m\u001b[0m\n\u001b[0;32m----> 4\u001b[0;31m \u001b[0mprices\u001b[0m\u001b[0;34m=\u001b[0m\u001b[0;34m[\u001b[0m\u001b[0mint\u001b[0m\u001b[0;34m(\u001b[0m\u001b[0mi\u001b[0m\u001b[0;34m)\u001b[0m \u001b[0;32mfor\u001b[0m \u001b[0mi\u001b[0m \u001b[0;32min\u001b[0m \u001b[0mprices\u001b[0m\u001b[0;34m]\u001b[0m\u001b[0;34m\u001b[0m\u001b[0;34m\u001b[0m\u001b[0m\n\u001b[0m\u001b[1;32m      5\u001b[0m \u001b[0mprices\u001b[0m\u001b[0;34m.\u001b[0m\u001b[0msort\u001b[0m\u001b[0;34m(\u001b[0m\u001b[0;34m)\u001b[0m\u001b[0;34m\u001b[0m\u001b[0;34m\u001b[0m\u001b[0m\n\u001b[1;32m      6\u001b[0m \u001b[0mmax_10\u001b[0m\u001b[0;34m=\u001b[0m\u001b[0mprices\u001b[0m\u001b[0;34m[\u001b[0m\u001b[0mlen\u001b[0m\u001b[0;34m(\u001b[0m\u001b[0mprices\u001b[0m\u001b[0;34m)\u001b[0m\u001b[0;34m-\u001b[0m\u001b[0;36m10\u001b[0m\u001b[0;34m:\u001b[0m\u001b[0mlen\u001b[0m\u001b[0;34m(\u001b[0m\u001b[0mprices\u001b[0m\u001b[0;34m)\u001b[0m\u001b[0;34m]\u001b[0m\u001b[0;34m\u001b[0m\u001b[0;34m\u001b[0m\u001b[0m\n",
      "\u001b[0;32m<ipython-input-26-1ae93490abbc>\u001b[0m in \u001b[0;36m<listcomp>\u001b[0;34m(.0)\u001b[0m\n\u001b[1;32m      2\u001b[0m \u001b[0;32mfor\u001b[0m \u001b[0mi\u001b[0m \u001b[0;32min\u001b[0m \u001b[0mlist_today\u001b[0m\u001b[0;34m:\u001b[0m\u001b[0;34m\u001b[0m\u001b[0;34m\u001b[0m\u001b[0m\n\u001b[1;32m      3\u001b[0m     \u001b[0mprices\u001b[0m\u001b[0;34m.\u001b[0m\u001b[0mappend\u001b[0m\u001b[0;34m(\u001b[0m\u001b[0mi\u001b[0m\u001b[0;34m[\u001b[0m\u001b[0;34m'available_price'\u001b[0m\u001b[0;34m]\u001b[0m\u001b[0;34m)\u001b[0m\u001b[0;34m\u001b[0m\u001b[0;34m\u001b[0m\u001b[0m\n\u001b[0;32m----> 4\u001b[0;31m \u001b[0mprices\u001b[0m\u001b[0;34m=\u001b[0m\u001b[0;34m[\u001b[0m\u001b[0mint\u001b[0m\u001b[0;34m(\u001b[0m\u001b[0mi\u001b[0m\u001b[0;34m)\u001b[0m \u001b[0;32mfor\u001b[0m \u001b[0mi\u001b[0m \u001b[0;32min\u001b[0m \u001b[0mprices\u001b[0m\u001b[0;34m]\u001b[0m\u001b[0;34m\u001b[0m\u001b[0;34m\u001b[0m\u001b[0m\n\u001b[0m\u001b[1;32m      5\u001b[0m \u001b[0mprices\u001b[0m\u001b[0;34m.\u001b[0m\u001b[0msort\u001b[0m\u001b[0;34m(\u001b[0m\u001b[0;34m)\u001b[0m\u001b[0;34m\u001b[0m\u001b[0;34m\u001b[0m\u001b[0m\n\u001b[1;32m      6\u001b[0m \u001b[0mmax_10\u001b[0m\u001b[0;34m=\u001b[0m\u001b[0mprices\u001b[0m\u001b[0;34m[\u001b[0m\u001b[0mlen\u001b[0m\u001b[0;34m(\u001b[0m\u001b[0mprices\u001b[0m\u001b[0;34m)\u001b[0m\u001b[0;34m-\u001b[0m\u001b[0;36m10\u001b[0m\u001b[0;34m:\u001b[0m\u001b[0mlen\u001b[0m\u001b[0;34m(\u001b[0m\u001b[0mprices\u001b[0m\u001b[0;34m)\u001b[0m\u001b[0;34m]\u001b[0m\u001b[0;34m\u001b[0m\u001b[0;34m\u001b[0m\u001b[0m\n",
      "\u001b[0;31mValueError\u001b[0m: invalid literal for int() with base 10: '5.99'"
     ]
    }
   ],
   "execution_count": null
  },
  {
   "cell_type": "code",
   "metadata": {
    "tags": [],
    "cell_id": "00039-3bf1d373-ab2e-42cd-a3f7-065ac961a720",
    "deepnote_to_be_reexecuted": false,
    "source_hash": "18b8ca71",
    "execution_start": 1625545873614,
    "execution_millis": 14,
    "deepnote_cell_type": "code"
   },
   "source": "prices=[]\nfor i in list_today:\n    prices.append(i['available_price'])\nprices=[int(i) for i in prices]\nprices.sort()\nmax_10=prices[len(prices)-10:len(prices)]\nmin_10=prices[:10]\n# Title with max prices:\n\nfor i in max_10:\n    for j in today_list:\n        if j['price']==str(i):\n            print(\"Title\",j['title'],\"--> Price: \",i)\n# Title with max prices:\nfor i in min_10:\n    for j in today_list:\n        if j['price']==str(i):\n            print(\"Title\",j['title'],\"--> Price: \",i)",
   "outputs": [
    {
     "output_type": "error",
     "ename": "NameError",
     "evalue": "name 'max_10' is not defined",
     "traceback": [
      "\u001b[0;31m---------------------------------------------------------------------------\u001b[0m",
      "\u001b[0;31mNameError\u001b[0m                                 Traceback (most recent call last)",
      "\u001b[0;32m<ipython-input-24-f9aebebe5d6c>\u001b[0m in \u001b[0;36m<module>\u001b[0;34m\u001b[0m\n\u001b[1;32m      1\u001b[0m \u001b[0;31m# Title with max prices:\u001b[0m\u001b[0;34m\u001b[0m\u001b[0;34m\u001b[0m\u001b[0;34m\u001b[0m\u001b[0m\n\u001b[0;32m----> 2\u001b[0;31m \u001b[0;32mfor\u001b[0m \u001b[0mi\u001b[0m \u001b[0;32min\u001b[0m \u001b[0mmax_10\u001b[0m\u001b[0;34m:\u001b[0m\u001b[0;34m\u001b[0m\u001b[0;34m\u001b[0m\u001b[0m\n\u001b[0m\u001b[1;32m      3\u001b[0m     \u001b[0;32mfor\u001b[0m \u001b[0mj\u001b[0m \u001b[0;32min\u001b[0m \u001b[0mtoday_list\u001b[0m\u001b[0;34m:\u001b[0m\u001b[0;34m\u001b[0m\u001b[0;34m\u001b[0m\u001b[0m\n\u001b[1;32m      4\u001b[0m         \u001b[0;32mif\u001b[0m \u001b[0mj\u001b[0m\u001b[0;34m[\u001b[0m\u001b[0;34m'price'\u001b[0m\u001b[0;34m]\u001b[0m\u001b[0;34m==\u001b[0m\u001b[0mstr\u001b[0m\u001b[0;34m(\u001b[0m\u001b[0mi\u001b[0m\u001b[0;34m)\u001b[0m\u001b[0;34m:\u001b[0m\u001b[0;34m\u001b[0m\u001b[0;34m\u001b[0m\u001b[0m\n\u001b[1;32m      5\u001b[0m             \u001b[0mprint\u001b[0m\u001b[0;34m(\u001b[0m\u001b[0;34m\"Title\"\u001b[0m\u001b[0;34m,\u001b[0m\u001b[0mj\u001b[0m\u001b[0;34m[\u001b[0m\u001b[0;34m'title'\u001b[0m\u001b[0;34m]\u001b[0m\u001b[0;34m,\u001b[0m\u001b[0;34m\"--> Price: \"\u001b[0m\u001b[0;34m,\u001b[0m\u001b[0mi\u001b[0m\u001b[0;34m)\u001b[0m\u001b[0;34m\u001b[0m\u001b[0;34m\u001b[0m\u001b[0m\n",
      "\u001b[0;31mNameError\u001b[0m: name 'max_10' is not defined"
     ]
    }
   ],
   "execution_count": null
  },
  {
   "cell_type": "markdown",
   "source": "8. Display the top 5 subcategory having highest items.",
   "metadata": {
    "tags": [],
    "cell_id": "00015-2eba27d2-e251-44e4-8634-1d594c9a61a5",
    "deepnote_cell_type": "markdown"
   }
  },
  {
   "cell_type": "code",
   "metadata": {
    "tags": [],
    "cell_id": "00038-c0366bd1-402c-4316-9209-2e4015e9c794",
    "deepnote_cell_type": "code"
   },
   "source": "",
   "outputs": [],
   "execution_count": null
  },
  {
   "cell_type": "markdown",
   "source": "9. Display stats of how many items have failed status (http_status other than 200 is to be considered as failure).\n\nEg:\n\n* http_status     count\n* 500             23\n* 404             12",
   "metadata": {
    "tags": [],
    "cell_id": "00017-83d42e51-8c20-46f5-8a6d-a08155aaafbd",
    "deepnote_cell_type": "markdown"
   }
  },
  {
   "cell_type": "code",
   "metadata": {
    "tags": [],
    "cell_id": "00040-5ada3288-6ac2-4658-b85b-d9f90ce718da",
    "deepnote_to_be_reexecuted": false,
    "source_hash": "b623e53d",
    "execution_start": 1625542485690,
    "execution_millis": 0,
    "deepnote_cell_type": "code"
   },
   "source": "",
   "outputs": [],
   "execution_count": null
  },
  {
   "cell_type": "markdown",
   "source": "",
   "metadata": {
    "tags": [],
    "cell_id": "00018-1926562d-467b-4646-b8b4-ca5a00f98b06",
    "deepnote_cell_type": "markdown"
   }
  },
  {
   "cell_type": "markdown",
   "source": "<a style='text-decoration:none;line-height:16px;display:flex;color:#5B5B62;padding:10px;justify-content:end;' href='https://deepnote.com?utm_source=created-in-deepnote-cell&projectId=f5f90ba1-3290-463e-8fc6-44108f4fa21b' target=\"_blank\">\n<img alt='Created in deepnote.com' style='display:inline;max-height:16px;margin:0px;margin-right:7.5px;' src='data:image/svg+xml;base64,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' > </img>\nCreated in <span style='font-weight:600;margin-left:4px;'>Deepnote</span></a>",
   "metadata": {
    "tags": [],
    "created_in_deepnote_cell": true,
    "deepnote_cell_type": "markdown"
   }
  }
 ],
 "nbformat": 4,
 "nbformat_minor": 2,
 "metadata": {
  "orig_nbformat": 2,
  "deepnote": {
   "is_reactive": false
  },
  "deepnote_notebook_id": "dd417ae4-8468-46a5-b3cf-f657dcd7e276",
  "deepnote_execution_queue": []
 }
}