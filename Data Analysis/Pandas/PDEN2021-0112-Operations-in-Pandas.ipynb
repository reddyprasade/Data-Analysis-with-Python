{
 "cells": [
  {
   "cell_type": "markdown",
   "source": "## Operating on Numerical Data in Pandas\n\n* One of the essential pieces of NumPy is the ability to perform quick element-wise operations, both with basic arithmetic (addition, subtraction, multiplication, etc.) and with more sophisticated operations (trigonometric functions, exponential and logarithmic functions, etc.)\n",
   "metadata": {
    "tags": [],
    "cell_id": "00000-9dceb881-de3a-48f9-a6d7-cb8e6d8d5b04",
    "deepnote_cell_type": "markdown"
   }
  },
  {
   "cell_type": "code",
   "metadata": {
    "tags": [],
    "cell_id": "00000-16e2c382-1825-4c96-95bb-eb2de0eb289c",
    "deepnote_to_be_reexecuted": false,
    "source_hash": "a6dfcd75",
    "execution_start": 1625452232960,
    "execution_millis": 208,
    "deepnote_cell_type": "code"
   },
   "source": "# Start writing code here...\nimport pandas as pd\nimport numpy as np\nimport matplotlib.pyplot as plt",
   "execution_count": null,
   "outputs": []
  },
  {
   "cell_type": "code",
   "metadata": {
    "tags": [],
    "cell_id": "00002-7ada1a85-9429-4d2b-93c5-63aa1879afd5",
    "deepnote_to_be_reexecuted": false,
    "source_hash": "1dadd27d",
    "execution_start": 1625452245206,
    "execution_millis": 14,
    "deepnote_cell_type": "code"
   },
   "source": "rng = np.random.RandomState(42)\nser = pd.Series(rng.randint(0, 10, 4))\nser",
   "execution_count": null,
   "outputs": [
    {
     "output_type": "execute_result",
     "execution_count": 2,
     "data": {
      "text/plain": "0    6\n1    3\n2    7\n3    4\ndtype: int64"
     },
     "metadata": {}
    }
   ]
  },
  {
   "cell_type": "code",
   "metadata": {
    "tags": [],
    "cell_id": "00003-c289f242-fb89-4f7e-a857-11873e75f77a",
    "deepnote_to_be_reexecuted": false,
    "source_hash": "2177bda6",
    "execution_start": 1625452266541,
    "execution_millis": 31,
    "deepnote_cell_type": "code"
   },
   "source": "df = pd.DataFrame(rng.randint(0, 10, (3, 4)),\n                  columns=['A', 'B', 'C', 'D'])\ndf",
   "execution_count": null,
   "outputs": [
    {
     "output_type": "execute_result",
     "execution_count": 3,
     "data": {
      "application/vnd.deepnote.dataframe.v2+json": {
       "row_count": 3,
       "column_count": 4,
       "columns": [
        {
         "name": "A",
         "dtype": "int64",
         "stats": {
          "unique_count": 2,
          "nan_count": 0,
          "min": "6",
          "max": "7",
          "histogram": [
           {
            "bin_start": 6,
            "bin_end": 6.1,
            "count": 1
           },
           {
            "bin_start": 6.1,
            "bin_end": 6.2,
            "count": 0
           },
           {
            "bin_start": 6.2,
            "bin_end": 6.3,
            "count": 0
           },
           {
            "bin_start": 6.3,
            "bin_end": 6.4,
            "count": 0
           },
           {
            "bin_start": 6.4,
            "bin_end": 6.5,
            "count": 0
           },
           {
            "bin_start": 6.5,
            "bin_end": 6.6,
            "count": 0
           },
           {
            "bin_start": 6.6,
            "bin_end": 6.7,
            "count": 0
           },
           {
            "bin_start": 6.7,
            "bin_end": 6.8,
            "count": 0
           },
           {
            "bin_start": 6.8,
            "bin_end": 6.9,
            "count": 0
           },
           {
            "bin_start": 6.9,
            "bin_end": 7,
            "count": 2
           }
          ]
         }
        },
        {
         "name": "B",
         "dtype": "int64",
         "stats": {
          "unique_count": 3,
          "nan_count": 0,
          "min": "2",
          "max": "9",
          "histogram": [
           {
            "bin_start": 2,
            "bin_end": 2.7,
            "count": 1
           },
           {
            "bin_start": 2.7,
            "bin_end": 3.4,
            "count": 0
           },
           {
            "bin_start": 3.4,
            "bin_end": 4.1,
            "count": 1
           },
           {
            "bin_start": 4.1,
            "bin_end": 4.8,
            "count": 0
           },
           {
            "bin_start": 4.8,
            "bin_end": 5.5,
            "count": 0
           },
           {
            "bin_start": 5.5,
            "bin_end": 6.199999999999999,
            "count": 0
           },
           {
            "bin_start": 6.199999999999999,
            "bin_end": 6.8999999999999995,
            "count": 0
           },
           {
            "bin_start": 6.8999999999999995,
            "bin_end": 7.6,
            "count": 0
           },
           {
            "bin_start": 7.6,
            "bin_end": 8.3,
            "count": 0
           },
           {
            "bin_start": 8.3,
            "bin_end": 9,
            "count": 1
           }
          ]
         }
        },
        {
         "name": "C",
         "dtype": "int64",
         "stats": {
          "unique_count": 3,
          "nan_count": 0,
          "min": "2",
          "max": "5",
          "histogram": [
           {
            "bin_start": 2,
            "bin_end": 2.3,
            "count": 1
           },
           {
            "bin_start": 2.3,
            "bin_end": 2.6,
            "count": 0
           },
           {
            "bin_start": 2.6,
            "bin_end": 2.9,
            "count": 0
           },
           {
            "bin_start": 2.9,
            "bin_end": 3.2,
            "count": 1
           },
           {
            "bin_start": 3.2,
            "bin_end": 3.5,
            "count": 0
           },
           {
            "bin_start": 3.5,
            "bin_end": 3.8,
            "count": 0
           },
           {
            "bin_start": 3.8,
            "bin_end": 4.1,
            "count": 0
           },
           {
            "bin_start": 4.1,
            "bin_end": 4.4,
            "count": 0
           },
           {
            "bin_start": 4.4,
            "bin_end": 4.699999999999999,
            "count": 0
           },
           {
            "bin_start": 4.699999999999999,
            "bin_end": 5,
            "count": 1
           }
          ]
         }
        },
        {
         "name": "D",
         "dtype": "int64",
         "stats": {
          "unique_count": 3,
          "nan_count": 0,
          "min": "4",
          "max": "7",
          "histogram": [
           {
            "bin_start": 4,
            "bin_end": 4.3,
            "count": 1
           },
           {
            "bin_start": 4.3,
            "bin_end": 4.6,
            "count": 0
           },
           {
            "bin_start": 4.6,
            "bin_end": 4.9,
            "count": 0
           },
           {
            "bin_start": 4.9,
            "bin_end": 5.2,
            "count": 0
           },
           {
            "bin_start": 5.2,
            "bin_end": 5.5,
            "count": 0
           },
           {
            "bin_start": 5.5,
            "bin_end": 5.8,
            "count": 0
           },
           {
            "bin_start": 5.8,
            "bin_end": 6.1,
            "count": 1
           },
           {
            "bin_start": 6.1,
            "bin_end": 6.4,
            "count": 0
           },
           {
            "bin_start": 6.4,
            "bin_end": 6.699999999999999,
            "count": 0
           },
           {
            "bin_start": 6.699999999999999,
            "bin_end": 7,
            "count": 1
           }
          ]
         }
        },
        {
         "name": "_deepnote_index_column",
         "dtype": "int64"
        }
       ],
       "rows_top": [
        {
         "A": 6,
         "B": 9,
         "C": 2,
         "D": 6,
         "_deepnote_index_column": 0
        },
        {
         "A": 7,
         "B": 4,
         "C": 3,
         "D": 7,
         "_deepnote_index_column": 1
        },
        {
         "A": 7,
         "B": 2,
         "C": 5,
         "D": 4,
         "_deepnote_index_column": 2
        }
       ],
       "rows_bottom": null
      },
      "text/plain": "   A  B  C  D\n0  6  9  2  6\n1  7  4  3  7\n2  7  2  5  4",
      "text/html": "<div>\n<style scoped>\n    .dataframe tbody tr th:only-of-type {\n        vertical-align: middle;\n    }\n\n    .dataframe tbody tr th {\n        vertical-align: top;\n    }\n\n    .dataframe thead th {\n        text-align: right;\n    }\n</style>\n<table border=\"1\" class=\"dataframe\">\n  <thead>\n    <tr style=\"text-align: right;\">\n      <th></th>\n      <th>A</th>\n      <th>B</th>\n      <th>C</th>\n      <th>D</th>\n    </tr>\n  </thead>\n  <tbody>\n    <tr>\n      <th>0</th>\n      <td>6</td>\n      <td>9</td>\n      <td>2</td>\n      <td>6</td>\n    </tr>\n    <tr>\n      <th>1</th>\n      <td>7</td>\n      <td>4</td>\n      <td>3</td>\n      <td>7</td>\n    </tr>\n    <tr>\n      <th>2</th>\n      <td>7</td>\n      <td>2</td>\n      <td>5</td>\n      <td>4</td>\n    </tr>\n  </tbody>\n</table>\n</div>"
     },
     "metadata": {}
    }
   ]
  },
  {
   "cell_type": "markdown",
   "source": "If we apply a NumPy ufunc on either of these objects, the result will be another Pandas object with the indices preserved:",
   "metadata": {
    "tags": [],
    "cell_id": "00004-b9e9815a-839b-4a09-9e12-1194a1491636",
    "deepnote_cell_type": "markdown"
   }
  },
  {
   "cell_type": "code",
   "metadata": {
    "tags": [],
    "cell_id": "00004-c4718530-44e8-418e-85eb-4606aca8a53a",
    "deepnote_to_be_reexecuted": false,
    "source_hash": "c766afe2",
    "execution_start": 1625452306600,
    "execution_millis": 6,
    "deepnote_cell_type": "code"
   },
   "source": "np.exp(ser)",
   "execution_count": null,
   "outputs": [
    {
     "output_type": "execute_result",
     "execution_count": 4,
     "data": {
      "text/plain": "0     403.428793\n1      20.085537\n2    1096.633158\n3      54.598150\ndtype: float64"
     },
     "metadata": {}
    }
   ]
  },
  {
   "cell_type": "code",
   "metadata": {
    "tags": [],
    "cell_id": "00006-486737cc-ed60-4707-853c-568bc89ec786",
    "deepnote_to_be_reexecuted": false,
    "source_hash": "3c29b031",
    "execution_start": 1625452326065,
    "execution_millis": 29,
    "deepnote_cell_type": "code"
   },
   "source": "np.sin(df*np.pi/4)",
   "execution_count": null,
   "outputs": [
    {
     "output_type": "execute_result",
     "execution_count": 5,
     "data": {
      "application/vnd.deepnote.dataframe.v2+json": {
       "row_count": 3,
       "column_count": 4,
       "columns": [
        {
         "name": "A",
         "dtype": "float64",
         "stats": {
          "unique_count": 2,
          "nan_count": 0,
          "min": "-1.0",
          "max": "-0.7071067811865477",
          "histogram": [
           {
            "bin_start": -1,
            "bin_end": -0.9707106781186547,
            "count": 1
           },
           {
            "bin_start": -0.9707106781186547,
            "bin_end": -0.9414213562373095,
            "count": 0
           },
           {
            "bin_start": -0.9414213562373095,
            "bin_end": -0.9121320343559642,
            "count": 0
           },
           {
            "bin_start": -0.9121320343559642,
            "bin_end": -0.8828427124746191,
            "count": 0
           },
           {
            "bin_start": -0.8828427124746191,
            "bin_end": -0.8535533905932738,
            "count": 0
           },
           {
            "bin_start": -0.8535533905932738,
            "bin_end": -0.8242640687119286,
            "count": 0
           },
           {
            "bin_start": -0.8242640687119286,
            "bin_end": -0.7949747468305833,
            "count": 0
           },
           {
            "bin_start": -0.7949747468305833,
            "bin_end": -0.7656854249492382,
            "count": 0
           },
           {
            "bin_start": -0.7656854249492382,
            "bin_end": -0.7363961030678929,
            "count": 0
           },
           {
            "bin_start": -0.7363961030678929,
            "bin_end": -0.7071067811865477,
            "count": 2
           }
          ]
         }
        },
        {
         "name": "B",
         "dtype": "float64",
         "stats": {
          "unique_count": 3,
          "nan_count": 0,
          "min": "1.2246467991473532e-16",
          "max": "1.0",
          "histogram": [
           {
            "bin_start": 1.2246467991473532e-16,
            "bin_end": 0.10000000000000012,
            "count": 1
           },
           {
            "bin_start": 0.10000000000000012,
            "bin_end": 0.2000000000000001,
            "count": 0
           },
           {
            "bin_start": 0.2000000000000001,
            "bin_end": 0.3000000000000001,
            "count": 0
           },
           {
            "bin_start": 0.3000000000000001,
            "bin_end": 0.4000000000000001,
            "count": 0
           },
           {
            "bin_start": 0.4000000000000001,
            "bin_end": 0.5000000000000001,
            "count": 0
           },
           {
            "bin_start": 0.5000000000000001,
            "bin_end": 0.6000000000000001,
            "count": 0
           },
           {
            "bin_start": 0.6000000000000001,
            "bin_end": 0.7000000000000001,
            "count": 0
           },
           {
            "bin_start": 0.7000000000000001,
            "bin_end": 0.8,
            "count": 1
           },
           {
            "bin_start": 0.8,
            "bin_end": 0.9,
            "count": 0
           },
           {
            "bin_start": 0.9,
            "bin_end": 1,
            "count": 1
           }
          ]
         }
        },
        {
         "name": "C",
         "dtype": "float64",
         "stats": {
          "unique_count": 3,
          "nan_count": 0,
          "min": "-0.7071067811865475",
          "max": "1.0",
          "histogram": [
           {
            "bin_start": -0.7071067811865475,
            "bin_end": -0.5363961030678928,
            "count": 1
           },
           {
            "bin_start": -0.5363961030678928,
            "bin_end": -0.36568542494923795,
            "count": 0
           },
           {
            "bin_start": -0.36568542494923795,
            "bin_end": -0.19497474683058313,
            "count": 0
           },
           {
            "bin_start": -0.19497474683058313,
            "bin_end": -0.024264068711928433,
            "count": 0
           },
           {
            "bin_start": -0.024264068711928433,
            "bin_end": 0.14644660940672627,
            "count": 0
           },
           {
            "bin_start": 0.14644660940672627,
            "bin_end": 0.3171572875253812,
            "count": 0
           },
           {
            "bin_start": 0.3171572875253812,
            "bin_end": 0.4878679656440359,
            "count": 0
           },
           {
            "bin_start": 0.4878679656440359,
            "bin_end": 0.6585786437626906,
            "count": 0
           },
           {
            "bin_start": 0.6585786437626906,
            "bin_end": 0.8292893218813453,
            "count": 1
           },
           {
            "bin_start": 0.8292893218813453,
            "bin_end": 1,
            "count": 1
           }
          ]
         }
        },
        {
         "name": "D",
         "dtype": "float64",
         "stats": {
          "unique_count": 3,
          "nan_count": 0,
          "min": "-1.0",
          "max": "1.2246467991473532e-16",
          "histogram": [
           {
            "bin_start": -1,
            "bin_end": -0.9,
            "count": 1
           },
           {
            "bin_start": -0.9,
            "bin_end": -0.7999999999999999,
            "count": 0
           },
           {
            "bin_start": -0.7999999999999999,
            "bin_end": -0.7,
            "count": 1
           },
           {
            "bin_start": -0.7,
            "bin_end": -0.5999999999999999,
            "count": 0
           },
           {
            "bin_start": -0.5999999999999999,
            "bin_end": -0.4999999999999999,
            "count": 0
           },
           {
            "bin_start": -0.4999999999999999,
            "bin_end": -0.3999999999999999,
            "count": 0
           },
           {
            "bin_start": -0.3999999999999999,
            "bin_end": -0.2999999999999998,
            "count": 0
           },
           {
            "bin_start": -0.2999999999999998,
            "bin_end": -0.19999999999999984,
            "count": 0
           },
           {
            "bin_start": -0.19999999999999984,
            "bin_end": -0.09999999999999987,
            "count": 0
           },
           {
            "bin_start": -0.09999999999999987,
            "bin_end": 1.2246467991473532e-16,
            "count": 1
           }
          ]
         }
        },
        {
         "name": "_deepnote_index_column",
         "dtype": "int64"
        }
       ],
       "rows_top": [
        {
         "A": -1,
         "B": 0.7071067811865474,
         "C": 1,
         "D": -1,
         "_deepnote_index_column": 0
        },
        {
         "A": -0.7071067811865477,
         "B": 1.2246467991473532e-16,
         "C": 0.7071067811865476,
         "D": -0.7071067811865477,
         "_deepnote_index_column": 1
        },
        {
         "A": -0.7071067811865477,
         "B": 1,
         "C": -0.7071067811865475,
         "D": 1.2246467991473532e-16,
         "_deepnote_index_column": 2
        }
       ],
       "rows_bottom": null
      },
      "text/plain": "          A             B         C             D\n0 -1.000000  7.071068e-01  1.000000 -1.000000e+00\n1 -0.707107  1.224647e-16  0.707107 -7.071068e-01\n2 -0.707107  1.000000e+00 -0.707107  1.224647e-16",
      "text/html": "<div>\n<style scoped>\n    .dataframe tbody tr th:only-of-type {\n        vertical-align: middle;\n    }\n\n    .dataframe tbody tr th {\n        vertical-align: top;\n    }\n\n    .dataframe thead th {\n        text-align: right;\n    }\n</style>\n<table border=\"1\" class=\"dataframe\">\n  <thead>\n    <tr style=\"text-align: right;\">\n      <th></th>\n      <th>A</th>\n      <th>B</th>\n      <th>C</th>\n      <th>D</th>\n    </tr>\n  </thead>\n  <tbody>\n    <tr>\n      <th>0</th>\n      <td>-1.000000</td>\n      <td>7.071068e-01</td>\n      <td>1.000000</td>\n      <td>-1.000000e+00</td>\n    </tr>\n    <tr>\n      <th>1</th>\n      <td>-0.707107</td>\n      <td>1.224647e-16</td>\n      <td>0.707107</td>\n      <td>-7.071068e-01</td>\n    </tr>\n    <tr>\n      <th>2</th>\n      <td>-0.707107</td>\n      <td>1.000000e+00</td>\n      <td>-0.707107</td>\n      <td>1.224647e-16</td>\n    </tr>\n  </tbody>\n</table>\n</div>"
     },
     "metadata": {}
    }
   ]
  },
  {
   "cell_type": "markdown",
   "source": "### Index alignment in Series\n\nAs an example, suppose we are combining two different data sources, and find only the top three US states by *area* and the top three US states by *population*:",
   "metadata": {
    "tags": [],
    "cell_id": "00007-720a59e3-73f9-4cef-92b4-c796e6b14efb",
    "deepnote_cell_type": "markdown"
   }
  },
  {
   "cell_type": "code",
   "metadata": {
    "tags": [],
    "cell_id": "00007-563d0c9a-d17a-47f4-b73c-84366c64d35a",
    "deepnote_to_be_reexecuted": false,
    "source_hash": "242f7759",
    "execution_start": 1625452389241,
    "execution_millis": 6,
    "deepnote_cell_type": "code"
   },
   "source": "area = pd.Series({'Alaska': 1723337, 'Texas': 695662,\n                  'California': 423967}, name='area')\narea",
   "execution_count": null,
   "outputs": [
    {
     "output_type": "execute_result",
     "execution_count": 6,
     "data": {
      "text/plain": "Alaska        1723337\nTexas          695662\nCalifornia     423967\nName: area, dtype: int64"
     },
     "metadata": {}
    }
   ]
  },
  {
   "cell_type": "code",
   "metadata": {
    "tags": [],
    "cell_id": "00009-50eff18f-b8fc-4c14-a853-678718ce822b",
    "deepnote_to_be_reexecuted": false,
    "source_hash": "a55ce33e",
    "execution_start": 1625452401262,
    "execution_millis": 3,
    "deepnote_cell_type": "code"
   },
   "source": "population = pd.Series({'California': 38332521, 'Texas': 26448193,\n                        'New York': 19651127}, name='population')",
   "execution_count": null,
   "outputs": []
  },
  {
   "cell_type": "code",
   "metadata": {
    "tags": [],
    "cell_id": "00010-5dd98132-28d6-4a69-96c9-6b74f501e19e",
    "deepnote_to_be_reexecuted": false,
    "source_hash": "8e947e7c",
    "execution_start": 1625452425992,
    "execution_millis": 8,
    "deepnote_cell_type": "code"
   },
   "source": "area/population",
   "execution_count": null,
   "outputs": [
    {
     "output_type": "execute_result",
     "execution_count": 8,
     "data": {
      "text/plain": "Alaska             NaN\nCalifornia    0.011060\nNew York           NaN\nTexas         0.026303\ndtype: float64"
     },
     "metadata": {}
    }
   ]
  },
  {
   "cell_type": "code",
   "metadata": {
    "tags": [],
    "cell_id": "00011-37f55a48-55bb-4ca3-bc72-064675fc0285",
    "deepnote_to_be_reexecuted": false,
    "source_hash": "1811b30e",
    "execution_start": 1625452442122,
    "execution_millis": 10,
    "deepnote_cell_type": "code"
   },
   "source": "area.index | population.index",
   "execution_count": null,
   "outputs": [
    {
     "name": "stderr",
     "text": "/shared-libs/python3.7/py-core/lib/python3.7/site-packages/ipykernel_launcher.py:1: FutureWarning: Index.__or__ operating as a set operation is deprecated, in the future this will be a logical operation matching Series.__or__.  Use index.union(other) instead\n  \"\"\"Entry point for launching an IPython kernel.\n",
     "output_type": "stream"
    },
    {
     "output_type": "execute_result",
     "execution_count": 9,
     "data": {
      "text/plain": "Index(['Alaska', 'California', 'New York', 'Texas'], dtype='object')"
     },
     "metadata": {}
    }
   ]
  },
  {
   "cell_type": "code",
   "metadata": {
    "tags": [],
    "cell_id": "00012-600ccfac-863c-44d9-8693-d18c2b911573",
    "deepnote_to_be_reexecuted": false,
    "source_hash": "3d59ca1f",
    "execution_start": 1625452537729,
    "execution_millis": 1,
    "deepnote_cell_type": "code"
   },
   "source": "A = pd.Series([2, 4, 6], index=[0, 1, 2])\nB = pd.Series([1, 3, 5], index=[1, 2, 3])",
   "execution_count": null,
   "outputs": []
  },
  {
   "cell_type": "code",
   "metadata": {
    "tags": [],
    "cell_id": "00013-46066740-4064-4dac-bf8e-889619942c51",
    "deepnote_to_be_reexecuted": false,
    "source_hash": "d12c9a80",
    "execution_start": 1625452542160,
    "execution_millis": 5,
    "deepnote_cell_type": "code"
   },
   "source": "A",
   "execution_count": null,
   "outputs": [
    {
     "output_type": "execute_result",
     "execution_count": 13,
     "data": {
      "text/plain": "0    2\n1    4\n2    6\ndtype: int64"
     },
     "metadata": {}
    }
   ]
  },
  {
   "cell_type": "code",
   "metadata": {
    "tags": [],
    "cell_id": "00014-250e3068-9dff-4339-87a7-f5f62e2cbd04",
    "deepnote_to_be_reexecuted": false,
    "source_hash": "ddbccdce",
    "execution_start": 1625452545981,
    "execution_millis": 8,
    "deepnote_cell_type": "code"
   },
   "source": "B",
   "execution_count": null,
   "outputs": [
    {
     "output_type": "execute_result",
     "execution_count": 14,
     "data": {
      "text/plain": "1    1\n2    3\n3    5\ndtype: int64"
     },
     "metadata": {}
    }
   ]
  },
  {
   "cell_type": "code",
   "metadata": {
    "tags": [],
    "cell_id": "00013-f1a3e8c4-985f-47bd-a714-46b7dbc46ed4",
    "deepnote_to_be_reexecuted": false,
    "source_hash": "a8d38bc1",
    "execution_start": 1625452526492,
    "execution_millis": 10,
    "deepnote_cell_type": "code"
   },
   "source": "A.add(B,fill_value=0)",
   "execution_count": null,
   "outputs": [
    {
     "output_type": "execute_result",
     "execution_count": 11,
     "data": {
      "text/plain": "0    2.0\n1    5.0\n2    9.0\n3    5.0\ndtype: float64"
     },
     "metadata": {}
    }
   ]
  },
  {
   "cell_type": "code",
   "metadata": {
    "tags": [],
    "cell_id": "00014-ef9d4da2-1490-4b0e-b8b2-944a451b79bf",
    "deepnote_to_be_reexecuted": false,
    "source_hash": "745aaa81",
    "execution_start": 1625452600646,
    "execution_millis": 5,
    "deepnote_cell_type": "code"
   },
   "source": "A = pd.DataFrame(rng.randint(0, 20, (2, 2)),\n                 columns=list('AB'))\nA",
   "execution_count": null,
   "outputs": [
    {
     "output_type": "execute_result",
     "execution_count": 16,
     "data": {
      "application/vnd.deepnote.dataframe.v2+json": {
       "row_count": 2,
       "column_count": 2,
       "columns": [
        {
         "name": "A",
         "dtype": "int64",
         "stats": {
          "unique_count": 2,
          "nan_count": 0,
          "min": "1",
          "max": "5",
          "histogram": [
           {
            "bin_start": 1,
            "bin_end": 1.4,
            "count": 1
           },
           {
            "bin_start": 1.4,
            "bin_end": 1.8,
            "count": 0
           },
           {
            "bin_start": 1.8,
            "bin_end": 2.2,
            "count": 0
           },
           {
            "bin_start": 2.2,
            "bin_end": 2.6,
            "count": 0
           },
           {
            "bin_start": 2.6,
            "bin_end": 3,
            "count": 0
           },
           {
            "bin_start": 3,
            "bin_end": 3.4000000000000004,
            "count": 0
           },
           {
            "bin_start": 3.4000000000000004,
            "bin_end": 3.8000000000000003,
            "count": 0
           },
           {
            "bin_start": 3.8000000000000003,
            "bin_end": 4.2,
            "count": 0
           },
           {
            "bin_start": 4.2,
            "bin_end": 4.6,
            "count": 0
           },
           {
            "bin_start": 4.6,
            "bin_end": 5,
            "count": 1
           }
          ]
         }
        },
        {
         "name": "B",
         "dtype": "int64",
         "stats": {
          "unique_count": 2,
          "nan_count": 0,
          "min": "1",
          "max": "11",
          "histogram": [
           {
            "bin_start": 1,
            "bin_end": 2,
            "count": 1
           },
           {
            "bin_start": 2,
            "bin_end": 3,
            "count": 0
           },
           {
            "bin_start": 3,
            "bin_end": 4,
            "count": 0
           },
           {
            "bin_start": 4,
            "bin_end": 5,
            "count": 0
           },
           {
            "bin_start": 5,
            "bin_end": 6,
            "count": 0
           },
           {
            "bin_start": 6,
            "bin_end": 7,
            "count": 0
           },
           {
            "bin_start": 7,
            "bin_end": 8,
            "count": 0
           },
           {
            "bin_start": 8,
            "bin_end": 9,
            "count": 0
           },
           {
            "bin_start": 9,
            "bin_end": 10,
            "count": 0
           },
           {
            "bin_start": 10,
            "bin_end": 11,
            "count": 1
           }
          ]
         }
        },
        {
         "name": "_deepnote_index_column",
         "dtype": "int64"
        }
       ],
       "rows_top": [
        {
         "A": 1,
         "B": 11,
         "_deepnote_index_column": 0
        },
        {
         "A": 5,
         "B": 1,
         "_deepnote_index_column": 1
        }
       ],
       "rows_bottom": null
      },
      "text/plain": "   A   B\n0  1  11\n1  5   1",
      "text/html": "<div>\n<style scoped>\n    .dataframe tbody tr th:only-of-type {\n        vertical-align: middle;\n    }\n\n    .dataframe tbody tr th {\n        vertical-align: top;\n    }\n\n    .dataframe thead th {\n        text-align: right;\n    }\n</style>\n<table border=\"1\" class=\"dataframe\">\n  <thead>\n    <tr style=\"text-align: right;\">\n      <th></th>\n      <th>A</th>\n      <th>B</th>\n    </tr>\n  </thead>\n  <tbody>\n    <tr>\n      <th>0</th>\n      <td>1</td>\n      <td>11</td>\n    </tr>\n    <tr>\n      <th>1</th>\n      <td>5</td>\n      <td>1</td>\n    </tr>\n  </tbody>\n</table>\n</div>"
     },
     "metadata": {}
    }
   ]
  },
  {
   "cell_type": "code",
   "metadata": {
    "tags": [],
    "cell_id": "00017-d4336e9e-f42e-4923-b1f5-2afb217a29ee",
    "deepnote_to_be_reexecuted": false,
    "source_hash": "f5ba8e34",
    "execution_start": 1625452614237,
    "execution_millis": 16,
    "deepnote_cell_type": "code"
   },
   "source": "B = pd.DataFrame(rng.randint(0, 10, (3, 3)),\n                 columns=list('BAC'))\nB",
   "execution_count": null,
   "outputs": [
    {
     "output_type": "execute_result",
     "execution_count": 17,
     "data": {
      "application/vnd.deepnote.dataframe.v2+json": {
       "row_count": 3,
       "column_count": 3,
       "columns": [
        {
         "name": "B",
         "dtype": "int64",
         "stats": {
          "unique_count": 3,
          "nan_count": 0,
          "min": "4",
          "max": "9",
          "histogram": [
           {
            "bin_start": 4,
            "bin_end": 4.5,
            "count": 1
           },
           {
            "bin_start": 4.5,
            "bin_end": 5,
            "count": 0
           },
           {
            "bin_start": 5,
            "bin_end": 5.5,
            "count": 1
           },
           {
            "bin_start": 5.5,
            "bin_end": 6,
            "count": 0
           },
           {
            "bin_start": 6,
            "bin_end": 6.5,
            "count": 0
           },
           {
            "bin_start": 6.5,
            "bin_end": 7,
            "count": 0
           },
           {
            "bin_start": 7,
            "bin_end": 7.5,
            "count": 0
           },
           {
            "bin_start": 7.5,
            "bin_end": 8,
            "count": 0
           },
           {
            "bin_start": 8,
            "bin_end": 8.5,
            "count": 0
           },
           {
            "bin_start": 8.5,
            "bin_end": 9,
            "count": 1
           }
          ]
         }
        },
        {
         "name": "A",
         "dtype": "int64",
         "stats": {
          "unique_count": 3,
          "nan_count": 0,
          "min": "0",
          "max": "8",
          "histogram": [
           {
            "bin_start": 0,
            "bin_end": 0.8,
            "count": 1
           },
           {
            "bin_start": 0.8,
            "bin_end": 1.6,
            "count": 0
           },
           {
            "bin_start": 1.6,
            "bin_end": 2.4000000000000004,
            "count": 1
           },
           {
            "bin_start": 2.4000000000000004,
            "bin_end": 3.2,
            "count": 0
           },
           {
            "bin_start": 3.2,
            "bin_end": 4,
            "count": 0
           },
           {
            "bin_start": 4,
            "bin_end": 4.800000000000001,
            "count": 0
           },
           {
            "bin_start": 4.800000000000001,
            "bin_end": 5.6000000000000005,
            "count": 0
           },
           {
            "bin_start": 5.6000000000000005,
            "bin_end": 6.4,
            "count": 0
           },
           {
            "bin_start": 6.4,
            "bin_end": 7.2,
            "count": 0
           },
           {
            "bin_start": 7.2,
            "bin_end": 8,
            "count": 1
           }
          ]
         }
        },
        {
         "name": "C",
         "dtype": "int64",
         "stats": {
          "unique_count": 3,
          "nan_count": 0,
          "min": "0",
          "max": "9",
          "histogram": [
           {
            "bin_start": 0,
            "bin_end": 0.9,
            "count": 1
           },
           {
            "bin_start": 0.9,
            "bin_end": 1.8,
            "count": 0
           },
           {
            "bin_start": 1.8,
            "bin_end": 2.7,
            "count": 0
           },
           {
            "bin_start": 2.7,
            "bin_end": 3.6,
            "count": 0
           },
           {
            "bin_start": 3.6,
            "bin_end": 4.5,
            "count": 0
           },
           {
            "bin_start": 4.5,
            "bin_end": 5.4,
            "count": 0
           },
           {
            "bin_start": 5.4,
            "bin_end": 6.3,
            "count": 1
           },
           {
            "bin_start": 6.3,
            "bin_end": 7.2,
            "count": 0
           },
           {
            "bin_start": 7.2,
            "bin_end": 8.1,
            "count": 0
           },
           {
            "bin_start": 8.1,
            "bin_end": 9,
            "count": 1
           }
          ]
         }
        },
        {
         "name": "_deepnote_index_column",
         "dtype": "int64"
        }
       ],
       "rows_top": [
        {
         "B": 4,
         "A": 0,
         "C": 9,
         "_deepnote_index_column": 0
        },
        {
         "B": 5,
         "A": 8,
         "C": 0,
         "_deepnote_index_column": 1
        },
        {
         "B": 9,
         "A": 2,
         "C": 6,
         "_deepnote_index_column": 2
        }
       ],
       "rows_bottom": null
      },
      "text/plain": "   B  A  C\n0  4  0  9\n1  5  8  0\n2  9  2  6",
      "text/html": "<div>\n<style scoped>\n    .dataframe tbody tr th:only-of-type {\n        vertical-align: middle;\n    }\n\n    .dataframe tbody tr th {\n        vertical-align: top;\n    }\n\n    .dataframe thead th {\n        text-align: right;\n    }\n</style>\n<table border=\"1\" class=\"dataframe\">\n  <thead>\n    <tr style=\"text-align: right;\">\n      <th></th>\n      <th>B</th>\n      <th>A</th>\n      <th>C</th>\n    </tr>\n  </thead>\n  <tbody>\n    <tr>\n      <th>0</th>\n      <td>4</td>\n      <td>0</td>\n      <td>9</td>\n    </tr>\n    <tr>\n      <th>1</th>\n      <td>5</td>\n      <td>8</td>\n      <td>0</td>\n    </tr>\n    <tr>\n      <th>2</th>\n      <td>9</td>\n      <td>2</td>\n      <td>6</td>\n    </tr>\n  </tbody>\n</table>\n</div>"
     },
     "metadata": {}
    }
   ]
  },
  {
   "cell_type": "code",
   "metadata": {
    "tags": [],
    "cell_id": "00018-19b40f3d-329d-47ba-8d9f-ab98204e226c",
    "deepnote_to_be_reexecuted": false,
    "source_hash": "f4c5d7b2",
    "execution_start": 1625452639204,
    "execution_millis": 8,
    "deepnote_cell_type": "code"
   },
   "source": "A + B",
   "execution_count": null,
   "outputs": [
    {
     "output_type": "execute_result",
     "execution_count": 18,
     "data": {
      "application/vnd.deepnote.dataframe.v2+json": {
       "row_count": 3,
       "column_count": 3,
       "columns": [
        {
         "name": "A",
         "dtype": "float64",
         "stats": {
          "unique_count": 2,
          "nan_count": 1,
          "min": "1.0",
          "max": "13.0",
          "histogram": [
           {
            "bin_start": 1,
            "bin_end": 2.2,
            "count": 1
           },
           {
            "bin_start": 2.2,
            "bin_end": 3.4,
            "count": 0
           },
           {
            "bin_start": 3.4,
            "bin_end": 4.6,
            "count": 0
           },
           {
            "bin_start": 4.6,
            "bin_end": 5.8,
            "count": 0
           },
           {
            "bin_start": 5.8,
            "bin_end": 7,
            "count": 0
           },
           {
            "bin_start": 7,
            "bin_end": 8.2,
            "count": 0
           },
           {
            "bin_start": 8.2,
            "bin_end": 9.4,
            "count": 0
           },
           {
            "bin_start": 9.4,
            "bin_end": 10.6,
            "count": 0
           },
           {
            "bin_start": 10.6,
            "bin_end": 11.799999999999999,
            "count": 0
           },
           {
            "bin_start": 11.799999999999999,
            "bin_end": 13,
            "count": 1
           }
          ]
         }
        },
        {
         "name": "B",
         "dtype": "float64",
         "stats": {
          "unique_count": 2,
          "nan_count": 1,
          "min": "6.0",
          "max": "15.0",
          "histogram": [
           {
            "bin_start": 6,
            "bin_end": 6.9,
            "count": 1
           },
           {
            "bin_start": 6.9,
            "bin_end": 7.8,
            "count": 0
           },
           {
            "bin_start": 7.8,
            "bin_end": 8.7,
            "count": 0
           },
           {
            "bin_start": 8.7,
            "bin_end": 9.6,
            "count": 0
           },
           {
            "bin_start": 9.6,
            "bin_end": 10.5,
            "count": 0
           },
           {
            "bin_start": 10.5,
            "bin_end": 11.4,
            "count": 0
           },
           {
            "bin_start": 11.4,
            "bin_end": 12.3,
            "count": 0
           },
           {
            "bin_start": 12.3,
            "bin_end": 13.2,
            "count": 0
           },
           {
            "bin_start": 13.2,
            "bin_end": 14.1,
            "count": 0
           },
           {
            "bin_start": 14.1,
            "bin_end": 15,
            "count": 1
           }
          ]
         }
        },
        {
         "name": "C",
         "dtype": "float64",
         "stats": {
          "unique_count": 0,
          "nan_count": 3,
          "min": null,
          "max": null,
          "histogram": [
           {
            "bin_start": 0,
            "bin_end": 0.1,
            "count": 0
           },
           {
            "bin_start": 0.1,
            "bin_end": 0.2,
            "count": 0
           },
           {
            "bin_start": 0.2,
            "bin_end": 0.30000000000000004,
            "count": 0
           },
           {
            "bin_start": 0.30000000000000004,
            "bin_end": 0.4,
            "count": 0
           },
           {
            "bin_start": 0.4,
            "bin_end": 0.5,
            "count": 0
           },
           {
            "bin_start": 0.5,
            "bin_end": 0.6000000000000001,
            "count": 0
           },
           {
            "bin_start": 0.6000000000000001,
            "bin_end": 0.7000000000000001,
            "count": 0
           },
           {
            "bin_start": 0.7000000000000001,
            "bin_end": 0.8,
            "count": 0
           },
           {
            "bin_start": 0.8,
            "bin_end": 0.9,
            "count": 0
           },
           {
            "bin_start": 0.9,
            "bin_end": 1,
            "count": 0
           }
          ]
         }
        },
        {
         "name": "_deepnote_index_column",
         "dtype": "int64"
        }
       ],
       "rows_top": [
        {
         "A": 1,
         "B": 15,
         "C": "nan",
         "_deepnote_index_column": 0
        },
        {
         "A": 13,
         "B": 6,
         "C": "nan",
         "_deepnote_index_column": 1
        },
        {
         "A": "nan",
         "B": "nan",
         "C": "nan",
         "_deepnote_index_column": 2
        }
       ],
       "rows_bottom": null
      },
      "text/plain": "      A     B   C\n0   1.0  15.0 NaN\n1  13.0   6.0 NaN\n2   NaN   NaN NaN",
      "text/html": "<div>\n<style scoped>\n    .dataframe tbody tr th:only-of-type {\n        vertical-align: middle;\n    }\n\n    .dataframe tbody tr th {\n        vertical-align: top;\n    }\n\n    .dataframe thead th {\n        text-align: right;\n    }\n</style>\n<table border=\"1\" class=\"dataframe\">\n  <thead>\n    <tr style=\"text-align: right;\">\n      <th></th>\n      <th>A</th>\n      <th>B</th>\n      <th>C</th>\n    </tr>\n  </thead>\n  <tbody>\n    <tr>\n      <th>0</th>\n      <td>1.0</td>\n      <td>15.0</td>\n      <td>NaN</td>\n    </tr>\n    <tr>\n      <th>1</th>\n      <td>13.0</td>\n      <td>6.0</td>\n      <td>NaN</td>\n    </tr>\n    <tr>\n      <th>2</th>\n      <td>NaN</td>\n      <td>NaN</td>\n      <td>NaN</td>\n    </tr>\n  </tbody>\n</table>\n</div>"
     },
     "metadata": {}
    }
   ]
  },
  {
   "cell_type": "code",
   "metadata": {
    "tags": [],
    "cell_id": "00019-5307698a-1525-4a8c-adfe-b3a72fbc6738",
    "deepnote_to_be_reexecuted": false,
    "source_hash": "a5beb8e2",
    "execution_start": 1625452677891,
    "execution_millis": 8,
    "deepnote_cell_type": "code"
   },
   "source": "A.stack()",
   "execution_count": null,
   "outputs": [
    {
     "output_type": "execute_result",
     "execution_count": 20,
     "data": {
      "text/plain": "0  A     1\n   B    11\n1  A     5\n   B     1\ndtype: int64"
     },
     "metadata": {}
    }
   ]
  },
  {
   "cell_type": "code",
   "metadata": {
    "tags": [],
    "cell_id": "00019-66ef2e8e-e9fe-4379-99db-cad1e07eafe3",
    "deepnote_to_be_reexecuted": false,
    "source_hash": "244d5683",
    "execution_start": 1625452664287,
    "execution_millis": 6,
    "deepnote_cell_type": "code"
   },
   "source": "fill = A.stack().mean()\nfill",
   "execution_count": null,
   "outputs": [
    {
     "output_type": "execute_result",
     "execution_count": 19,
     "data": {
      "text/plain": "4.5"
     },
     "metadata": {}
    }
   ]
  },
  {
   "cell_type": "code",
   "metadata": {
    "tags": [],
    "cell_id": "00020-d59dc3f3-4e6d-438f-afee-627743db4e05",
    "deepnote_to_be_reexecuted": false,
    "source_hash": "17d0e9a9",
    "execution_start": 1625452744486,
    "execution_millis": 12,
    "deepnote_cell_type": "code"
   },
   "source": "A.add(B,fill_value=fill)",
   "execution_count": null,
   "outputs": [
    {
     "output_type": "execute_result",
     "execution_count": 21,
     "data": {
      "application/vnd.deepnote.dataframe.v2+json": {
       "row_count": 3,
       "column_count": 3,
       "columns": [
        {
         "name": "A",
         "dtype": "float64",
         "stats": {
          "unique_count": 3,
          "nan_count": 0,
          "min": "1.0",
          "max": "13.0",
          "histogram": [
           {
            "bin_start": 1,
            "bin_end": 2.2,
            "count": 1
           },
           {
            "bin_start": 2.2,
            "bin_end": 3.4,
            "count": 0
           },
           {
            "bin_start": 3.4,
            "bin_end": 4.6,
            "count": 0
           },
           {
            "bin_start": 4.6,
            "bin_end": 5.8,
            "count": 0
           },
           {
            "bin_start": 5.8,
            "bin_end": 7,
            "count": 1
           },
           {
            "bin_start": 7,
            "bin_end": 8.2,
            "count": 0
           },
           {
            "bin_start": 8.2,
            "bin_end": 9.4,
            "count": 0
           },
           {
            "bin_start": 9.4,
            "bin_end": 10.6,
            "count": 0
           },
           {
            "bin_start": 10.6,
            "bin_end": 11.799999999999999,
            "count": 0
           },
           {
            "bin_start": 11.799999999999999,
            "bin_end": 13,
            "count": 1
           }
          ]
         }
        },
        {
         "name": "B",
         "dtype": "float64",
         "stats": {
          "unique_count": 3,
          "nan_count": 0,
          "min": "6.0",
          "max": "15.0",
          "histogram": [
           {
            "bin_start": 6,
            "bin_end": 6.9,
            "count": 1
           },
           {
            "bin_start": 6.9,
            "bin_end": 7.8,
            "count": 0
           },
           {
            "bin_start": 7.8,
            "bin_end": 8.7,
            "count": 0
           },
           {
            "bin_start": 8.7,
            "bin_end": 9.6,
            "count": 0
           },
           {
            "bin_start": 9.6,
            "bin_end": 10.5,
            "count": 0
           },
           {
            "bin_start": 10.5,
            "bin_end": 11.4,
            "count": 0
           },
           {
            "bin_start": 11.4,
            "bin_end": 12.3,
            "count": 0
           },
           {
            "bin_start": 12.3,
            "bin_end": 13.2,
            "count": 0
           },
           {
            "bin_start": 13.2,
            "bin_end": 14.1,
            "count": 1
           },
           {
            "bin_start": 14.1,
            "bin_end": 15,
            "count": 1
           }
          ]
         }
        },
        {
         "name": "C",
         "dtype": "float64",
         "stats": {
          "unique_count": 3,
          "nan_count": 0,
          "min": "4.5",
          "max": "13.5",
          "histogram": [
           {
            "bin_start": 4.5,
            "bin_end": 5.4,
            "count": 1
           },
           {
            "bin_start": 5.4,
            "bin_end": 6.3,
            "count": 0
           },
           {
            "bin_start": 6.3,
            "bin_end": 7.2,
            "count": 0
           },
           {
            "bin_start": 7.2,
            "bin_end": 8.1,
            "count": 0
           },
           {
            "bin_start": 8.1,
            "bin_end": 9,
            "count": 0
           },
           {
            "bin_start": 9,
            "bin_end": 9.9,
            "count": 0
           },
           {
            "bin_start": 9.9,
            "bin_end": 10.8,
            "count": 1
           },
           {
            "bin_start": 10.8,
            "bin_end": 11.7,
            "count": 0
           },
           {
            "bin_start": 11.7,
            "bin_end": 12.6,
            "count": 0
           },
           {
            "bin_start": 12.6,
            "bin_end": 13.5,
            "count": 1
           }
          ]
         }
        },
        {
         "name": "_deepnote_index_column",
         "dtype": "int64"
        }
       ],
       "rows_top": [
        {
         "A": 1,
         "B": 15,
         "C": 13.5,
         "_deepnote_index_column": 0
        },
        {
         "A": 13,
         "B": 6,
         "C": 4.5,
         "_deepnote_index_column": 1
        },
        {
         "A": 6.5,
         "B": 13.5,
         "C": 10.5,
         "_deepnote_index_column": 2
        }
       ],
       "rows_bottom": null
      },
      "text/plain": "      A     B     C\n0   1.0  15.0  13.5\n1  13.0   6.0   4.5\n2   6.5  13.5  10.5",
      "text/html": "<div>\n<style scoped>\n    .dataframe tbody tr th:only-of-type {\n        vertical-align: middle;\n    }\n\n    .dataframe tbody tr th {\n        vertical-align: top;\n    }\n\n    .dataframe thead th {\n        text-align: right;\n    }\n</style>\n<table border=\"1\" class=\"dataframe\">\n  <thead>\n    <tr style=\"text-align: right;\">\n      <th></th>\n      <th>A</th>\n      <th>B</th>\n      <th>C</th>\n    </tr>\n  </thead>\n  <tbody>\n    <tr>\n      <th>0</th>\n      <td>1.0</td>\n      <td>15.0</td>\n      <td>13.5</td>\n    </tr>\n    <tr>\n      <th>1</th>\n      <td>13.0</td>\n      <td>6.0</td>\n      <td>4.5</td>\n    </tr>\n    <tr>\n      <th>2</th>\n      <td>6.5</td>\n      <td>13.5</td>\n      <td>10.5</td>\n    </tr>\n  </tbody>\n</table>\n</div>"
     },
     "metadata": {}
    }
   ]
  },
  {
   "cell_type": "markdown",
   "source": "The following table lists Python operators and their equivalent Pandas object methods:\n\n| Python Operator | Pandas Method(s)                      |\n|-----------------|---------------------------------------|\n| ``+``           | ``add()``                             |\n| ``-``           | ``sub()``, ``subtract()``             |\n| ``*``           | ``mul()``, ``multiply()``             |\n| ``/``           | ``truediv()``, ``div()``, ``divide()``|\n| ``//``          | ``floordiv()``                        |\n| ``%``           | ``mod()``                             |\n| ``**``          | ``pow()``                             |\n",
   "metadata": {
    "tags": [],
    "cell_id": "00022-b9dee311-7012-4c69-8d9f-5d0284055850",
    "deepnote_cell_type": "markdown"
   }
  },
  {
   "cell_type": "code",
   "metadata": {
    "tags": [],
    "cell_id": "00024-0bd78c4f-6e45-419a-ba62-27d7ec7e63c7",
    "deepnote_to_be_reexecuted": false,
    "source_hash": "bcf66ce3",
    "execution_start": 1625452917172,
    "execution_millis": 9,
    "deepnote_cell_type": "code"
   },
   "source": "A = rng.randint(0,10,size=(3,4))\nA",
   "execution_count": null,
   "outputs": [
    {
     "output_type": "execute_result",
     "execution_count": 26,
     "data": {
      "text/plain": "array([[3, 8, 2, 4],\n       [2, 6, 4, 8],\n       [6, 1, 3, 8]])"
     },
     "metadata": {}
    }
   ]
  },
  {
   "cell_type": "code",
   "metadata": {
    "tags": [],
    "cell_id": "00024-cb5adb57-4f86-46b6-8a25-dbb37c199015",
    "deepnote_to_be_reexecuted": false,
    "source_hash": "f2ae1a96",
    "execution_start": 1625452927450,
    "execution_millis": 6,
    "deepnote_cell_type": "code"
   },
   "source": "A[0]",
   "execution_count": null,
   "outputs": [
    {
     "output_type": "execute_result",
     "execution_count": 27,
     "data": {
      "text/plain": "array([3, 8, 2, 4])"
     },
     "metadata": {}
    }
   ]
  },
  {
   "cell_type": "code",
   "metadata": {
    "tags": [],
    "cell_id": "00025-bd8e48ce-ad61-4b27-ad85-4c99d5cb8c39",
    "deepnote_to_be_reexecuted": false,
    "source_hash": "de077175",
    "execution_start": 1625452934133,
    "execution_millis": 13,
    "deepnote_cell_type": "code"
   },
   "source": "A-A[0]",
   "execution_count": null,
   "outputs": [
    {
     "output_type": "execute_result",
     "execution_count": 28,
     "data": {
      "text/plain": "array([[ 0,  0,  0,  0],\n       [-1, -2,  2,  4],\n       [ 3, -7,  1,  4]])"
     },
     "metadata": {}
    }
   ]
  },
  {
   "cell_type": "code",
   "metadata": {
    "tags": [],
    "cell_id": "00026-46acaccb-029c-4f7f-b6d0-95c8a54ea1aa",
    "deepnote_to_be_reexecuted": false,
    "source_hash": "5c26902",
    "execution_start": 1625452972170,
    "execution_millis": 12,
    "deepnote_cell_type": "code"
   },
   "source": "df = pd.DataFrame(A, columns=list('QRST'))\ndf",
   "execution_count": null,
   "outputs": [
    {
     "output_type": "execute_result",
     "execution_count": 29,
     "data": {
      "application/vnd.deepnote.dataframe.v2+json": {
       "row_count": 3,
       "column_count": 4,
       "columns": [
        {
         "name": "Q",
         "dtype": "int64",
         "stats": {
          "unique_count": 3,
          "nan_count": 0,
          "min": "2",
          "max": "6",
          "histogram": [
           {
            "bin_start": 2,
            "bin_end": 2.4,
            "count": 1
           },
           {
            "bin_start": 2.4,
            "bin_end": 2.8,
            "count": 0
           },
           {
            "bin_start": 2.8,
            "bin_end": 3.2,
            "count": 1
           },
           {
            "bin_start": 3.2,
            "bin_end": 3.6,
            "count": 0
           },
           {
            "bin_start": 3.6,
            "bin_end": 4,
            "count": 0
           },
           {
            "bin_start": 4,
            "bin_end": 4.4,
            "count": 0
           },
           {
            "bin_start": 4.4,
            "bin_end": 4.800000000000001,
            "count": 0
           },
           {
            "bin_start": 4.800000000000001,
            "bin_end": 5.2,
            "count": 0
           },
           {
            "bin_start": 5.2,
            "bin_end": 5.6,
            "count": 0
           },
           {
            "bin_start": 5.6,
            "bin_end": 6,
            "count": 1
           }
          ]
         }
        },
        {
         "name": "R",
         "dtype": "int64",
         "stats": {
          "unique_count": 3,
          "nan_count": 0,
          "min": "1",
          "max": "8",
          "histogram": [
           {
            "bin_start": 1,
            "bin_end": 1.7,
            "count": 1
           },
           {
            "bin_start": 1.7,
            "bin_end": 2.4,
            "count": 0
           },
           {
            "bin_start": 2.4,
            "bin_end": 3.0999999999999996,
            "count": 0
           },
           {
            "bin_start": 3.0999999999999996,
            "bin_end": 3.8,
            "count": 0
           },
           {
            "bin_start": 3.8,
            "bin_end": 4.5,
            "count": 0
           },
           {
            "bin_start": 4.5,
            "bin_end": 5.199999999999999,
            "count": 0
           },
           {
            "bin_start": 5.199999999999999,
            "bin_end": 5.8999999999999995,
            "count": 0
           },
           {
            "bin_start": 5.8999999999999995,
            "bin_end": 6.6,
            "count": 1
           },
           {
            "bin_start": 6.6,
            "bin_end": 7.3,
            "count": 0
           },
           {
            "bin_start": 7.3,
            "bin_end": 8,
            "count": 1
           }
          ]
         }
        },
        {
         "name": "S",
         "dtype": "int64",
         "stats": {
          "unique_count": 3,
          "nan_count": 0,
          "min": "2",
          "max": "4",
          "histogram": [
           {
            "bin_start": 2,
            "bin_end": 2.2,
            "count": 1
           },
           {
            "bin_start": 2.2,
            "bin_end": 2.4,
            "count": 0
           },
           {
            "bin_start": 2.4,
            "bin_end": 2.6,
            "count": 0
           },
           {
            "bin_start": 2.6,
            "bin_end": 2.8,
            "count": 0
           },
           {
            "bin_start": 2.8,
            "bin_end": 3,
            "count": 0
           },
           {
            "bin_start": 3,
            "bin_end": 3.2,
            "count": 1
           },
           {
            "bin_start": 3.2,
            "bin_end": 3.4000000000000004,
            "count": 0
           },
           {
            "bin_start": 3.4000000000000004,
            "bin_end": 3.6,
            "count": 0
           },
           {
            "bin_start": 3.6,
            "bin_end": 3.8,
            "count": 0
           },
           {
            "bin_start": 3.8,
            "bin_end": 4,
            "count": 1
           }
          ]
         }
        },
        {
         "name": "T",
         "dtype": "int64",
         "stats": {
          "unique_count": 2,
          "nan_count": 0,
          "min": "4",
          "max": "8",
          "histogram": [
           {
            "bin_start": 4,
            "bin_end": 4.4,
            "count": 1
           },
           {
            "bin_start": 4.4,
            "bin_end": 4.8,
            "count": 0
           },
           {
            "bin_start": 4.8,
            "bin_end": 5.2,
            "count": 0
           },
           {
            "bin_start": 5.2,
            "bin_end": 5.6,
            "count": 0
           },
           {
            "bin_start": 5.6,
            "bin_end": 6,
            "count": 0
           },
           {
            "bin_start": 6,
            "bin_end": 6.4,
            "count": 0
           },
           {
            "bin_start": 6.4,
            "bin_end": 6.800000000000001,
            "count": 0
           },
           {
            "bin_start": 6.800000000000001,
            "bin_end": 7.2,
            "count": 0
           },
           {
            "bin_start": 7.2,
            "bin_end": 7.6,
            "count": 0
           },
           {
            "bin_start": 7.6,
            "bin_end": 8,
            "count": 2
           }
          ]
         }
        },
        {
         "name": "_deepnote_index_column",
         "dtype": "int64"
        }
       ],
       "rows_top": [
        {
         "Q": 3,
         "R": 8,
         "S": 2,
         "T": 4,
         "_deepnote_index_column": 0
        },
        {
         "Q": 2,
         "R": 6,
         "S": 4,
         "T": 8,
         "_deepnote_index_column": 1
        },
        {
         "Q": 6,
         "R": 1,
         "S": 3,
         "T": 8,
         "_deepnote_index_column": 2
        }
       ],
       "rows_bottom": null
      },
      "text/plain": "   Q  R  S  T\n0  3  8  2  4\n1  2  6  4  8\n2  6  1  3  8",
      "text/html": "<div>\n<style scoped>\n    .dataframe tbody tr th:only-of-type {\n        vertical-align: middle;\n    }\n\n    .dataframe tbody tr th {\n        vertical-align: top;\n    }\n\n    .dataframe thead th {\n        text-align: right;\n    }\n</style>\n<table border=\"1\" class=\"dataframe\">\n  <thead>\n    <tr style=\"text-align: right;\">\n      <th></th>\n      <th>Q</th>\n      <th>R</th>\n      <th>S</th>\n      <th>T</th>\n    </tr>\n  </thead>\n  <tbody>\n    <tr>\n      <th>0</th>\n      <td>3</td>\n      <td>8</td>\n      <td>2</td>\n      <td>4</td>\n    </tr>\n    <tr>\n      <th>1</th>\n      <td>2</td>\n      <td>6</td>\n      <td>4</td>\n      <td>8</td>\n    </tr>\n    <tr>\n      <th>2</th>\n      <td>6</td>\n      <td>1</td>\n      <td>3</td>\n      <td>8</td>\n    </tr>\n  </tbody>\n</table>\n</div>"
     },
     "metadata": {}
    }
   ]
  },
  {
   "cell_type": "code",
   "metadata": {
    "tags": [],
    "cell_id": "00027-f29a3a1a-94eb-4f01-89e5-cadd32fd8946",
    "deepnote_to_be_reexecuted": false,
    "source_hash": "75b3ebf5",
    "execution_start": 1625453003392,
    "execution_millis": 8,
    "deepnote_cell_type": "code"
   },
   "source": "df-df.iloc[0] # convention similarly operates row-wise",
   "execution_count": null,
   "outputs": [
    {
     "output_type": "execute_result",
     "execution_count": 30,
     "data": {
      "application/vnd.deepnote.dataframe.v2+json": {
       "row_count": 3,
       "column_count": 4,
       "columns": [
        {
         "name": "Q",
         "dtype": "int64",
         "stats": {
          "unique_count": 3,
          "nan_count": 0,
          "min": "-1",
          "max": "3",
          "histogram": [
           {
            "bin_start": -1,
            "bin_end": -0.6,
            "count": 1
           },
           {
            "bin_start": -0.6,
            "bin_end": -0.19999999999999996,
            "count": 0
           },
           {
            "bin_start": -0.19999999999999996,
            "bin_end": 0.20000000000000018,
            "count": 1
           },
           {
            "bin_start": 0.20000000000000018,
            "bin_end": 0.6000000000000001,
            "count": 0
           },
           {
            "bin_start": 0.6000000000000001,
            "bin_end": 1,
            "count": 0
           },
           {
            "bin_start": 1,
            "bin_end": 1.4000000000000004,
            "count": 0
           },
           {
            "bin_start": 1.4000000000000004,
            "bin_end": 1.8000000000000003,
            "count": 0
           },
           {
            "bin_start": 1.8000000000000003,
            "bin_end": 2.2,
            "count": 0
           },
           {
            "bin_start": 2.2,
            "bin_end": 2.6,
            "count": 0
           },
           {
            "bin_start": 2.6,
            "bin_end": 3,
            "count": 1
           }
          ]
         }
        },
        {
         "name": "R",
         "dtype": "int64",
         "stats": {
          "unique_count": 3,
          "nan_count": 0,
          "min": "-7",
          "max": "0",
          "histogram": [
           {
            "bin_start": -7,
            "bin_end": -6.3,
            "count": 1
           },
           {
            "bin_start": -6.3,
            "bin_end": -5.6,
            "count": 0
           },
           {
            "bin_start": -5.6,
            "bin_end": -4.9,
            "count": 0
           },
           {
            "bin_start": -4.9,
            "bin_end": -4.2,
            "count": 0
           },
           {
            "bin_start": -4.2,
            "bin_end": -3.5,
            "count": 0
           },
           {
            "bin_start": -3.5,
            "bin_end": -2.8000000000000007,
            "count": 0
           },
           {
            "bin_start": -2.8000000000000007,
            "bin_end": -2.1000000000000005,
            "count": 0
           },
           {
            "bin_start": -2.1000000000000005,
            "bin_end": -1.4000000000000004,
            "count": 1
           },
           {
            "bin_start": -1.4000000000000004,
            "bin_end": -0.7000000000000002,
            "count": 0
           },
           {
            "bin_start": -0.7000000000000002,
            "bin_end": 0,
            "count": 1
           }
          ]
         }
        },
        {
         "name": "S",
         "dtype": "int64",
         "stats": {
          "unique_count": 3,
          "nan_count": 0,
          "min": "0",
          "max": "2",
          "histogram": [
           {
            "bin_start": 0,
            "bin_end": 0.2,
            "count": 1
           },
           {
            "bin_start": 0.2,
            "bin_end": 0.4,
            "count": 0
           },
           {
            "bin_start": 0.4,
            "bin_end": 0.6000000000000001,
            "count": 0
           },
           {
            "bin_start": 0.6000000000000001,
            "bin_end": 0.8,
            "count": 0
           },
           {
            "bin_start": 0.8,
            "bin_end": 1,
            "count": 0
           },
           {
            "bin_start": 1,
            "bin_end": 1.2000000000000002,
            "count": 1
           },
           {
            "bin_start": 1.2000000000000002,
            "bin_end": 1.4000000000000001,
            "count": 0
           },
           {
            "bin_start": 1.4000000000000001,
            "bin_end": 1.6,
            "count": 0
           },
           {
            "bin_start": 1.6,
            "bin_end": 1.8,
            "count": 0
           },
           {
            "bin_start": 1.8,
            "bin_end": 2,
            "count": 1
           }
          ]
         }
        },
        {
         "name": "T",
         "dtype": "int64",
         "stats": {
          "unique_count": 2,
          "nan_count": 0,
          "min": "0",
          "max": "4",
          "histogram": [
           {
            "bin_start": 0,
            "bin_end": 0.4,
            "count": 1
           },
           {
            "bin_start": 0.4,
            "bin_end": 0.8,
            "count": 0
           },
           {
            "bin_start": 0.8,
            "bin_end": 1.2000000000000002,
            "count": 0
           },
           {
            "bin_start": 1.2000000000000002,
            "bin_end": 1.6,
            "count": 0
           },
           {
            "bin_start": 1.6,
            "bin_end": 2,
            "count": 0
           },
           {
            "bin_start": 2,
            "bin_end": 2.4000000000000004,
            "count": 0
           },
           {
            "bin_start": 2.4000000000000004,
            "bin_end": 2.8000000000000003,
            "count": 0
           },
           {
            "bin_start": 2.8000000000000003,
            "bin_end": 3.2,
            "count": 0
           },
           {
            "bin_start": 3.2,
            "bin_end": 3.6,
            "count": 0
           },
           {
            "bin_start": 3.6,
            "bin_end": 4,
            "count": 2
           }
          ]
         }
        },
        {
         "name": "_deepnote_index_column",
         "dtype": "int64"
        }
       ],
       "rows_top": [
        {
         "Q": 0,
         "R": 0,
         "S": 0,
         "T": 0,
         "_deepnote_index_column": 0
        },
        {
         "Q": -1,
         "R": -2,
         "S": 2,
         "T": 4,
         "_deepnote_index_column": 1
        },
        {
         "Q": 3,
         "R": -7,
         "S": 1,
         "T": 4,
         "_deepnote_index_column": 2
        }
       ],
       "rows_bottom": null
      },
      "text/plain": "   Q  R  S  T\n0  0  0  0  0\n1 -1 -2  2  4\n2  3 -7  1  4",
      "text/html": "<div>\n<style scoped>\n    .dataframe tbody tr th:only-of-type {\n        vertical-align: middle;\n    }\n\n    .dataframe tbody tr th {\n        vertical-align: top;\n    }\n\n    .dataframe thead th {\n        text-align: right;\n    }\n</style>\n<table border=\"1\" class=\"dataframe\">\n  <thead>\n    <tr style=\"text-align: right;\">\n      <th></th>\n      <th>Q</th>\n      <th>R</th>\n      <th>S</th>\n      <th>T</th>\n    </tr>\n  </thead>\n  <tbody>\n    <tr>\n      <th>0</th>\n      <td>0</td>\n      <td>0</td>\n      <td>0</td>\n      <td>0</td>\n    </tr>\n    <tr>\n      <th>1</th>\n      <td>-1</td>\n      <td>-2</td>\n      <td>2</td>\n      <td>4</td>\n    </tr>\n    <tr>\n      <th>2</th>\n      <td>3</td>\n      <td>-7</td>\n      <td>1</td>\n      <td>4</td>\n    </tr>\n  </tbody>\n</table>\n</div>"
     },
     "metadata": {}
    }
   ]
  },
  {
   "cell_type": "code",
   "metadata": {
    "tags": [],
    "cell_id": "00028-dc65a808-de41-4389-9ece-f8f89323c6ee",
    "deepnote_to_be_reexecuted": false,
    "source_hash": "e0a28e60",
    "execution_start": 1625453028839,
    "execution_millis": 7,
    "deepnote_cell_type": "code"
   },
   "source": "df.subtract(df[\"R\"],axis=0)",
   "execution_count": null,
   "outputs": [
    {
     "output_type": "execute_result",
     "execution_count": 31,
     "data": {
      "application/vnd.deepnote.dataframe.v2+json": {
       "row_count": 3,
       "column_count": 4,
       "columns": [
        {
         "name": "Q",
         "dtype": "int64",
         "stats": {
          "unique_count": 3,
          "nan_count": 0,
          "min": "-5",
          "max": "5",
          "histogram": [
           {
            "bin_start": -5,
            "bin_end": -4,
            "count": 1
           },
           {
            "bin_start": -4,
            "bin_end": -3,
            "count": 1
           },
           {
            "bin_start": -3,
            "bin_end": -2,
            "count": 0
           },
           {
            "bin_start": -2,
            "bin_end": -1,
            "count": 0
           },
           {
            "bin_start": -1,
            "bin_end": 0,
            "count": 0
           },
           {
            "bin_start": 0,
            "bin_end": 1,
            "count": 0
           },
           {
            "bin_start": 1,
            "bin_end": 2,
            "count": 0
           },
           {
            "bin_start": 2,
            "bin_end": 3,
            "count": 0
           },
           {
            "bin_start": 3,
            "bin_end": 4,
            "count": 0
           },
           {
            "bin_start": 4,
            "bin_end": 5,
            "count": 1
           }
          ]
         }
        },
        {
         "name": "R",
         "dtype": "int64",
         "stats": {
          "unique_count": 1,
          "nan_count": 0,
          "min": "0",
          "max": "0",
          "histogram": [
           {
            "bin_start": -0.5,
            "bin_end": -0.4,
            "count": 0
           },
           {
            "bin_start": -0.4,
            "bin_end": -0.3,
            "count": 0
           },
           {
            "bin_start": -0.3,
            "bin_end": -0.19999999999999996,
            "count": 0
           },
           {
            "bin_start": -0.19999999999999996,
            "bin_end": -0.09999999999999998,
            "count": 0
           },
           {
            "bin_start": -0.09999999999999998,
            "bin_end": 0,
            "count": 0
           },
           {
            "bin_start": 0,
            "bin_end": 0.10000000000000009,
            "count": 3
           },
           {
            "bin_start": 0.10000000000000009,
            "bin_end": 0.20000000000000007,
            "count": 0
           },
           {
            "bin_start": 0.20000000000000007,
            "bin_end": 0.30000000000000004,
            "count": 0
           },
           {
            "bin_start": 0.30000000000000004,
            "bin_end": 0.4,
            "count": 0
           },
           {
            "bin_start": 0.4,
            "bin_end": 0.5,
            "count": 0
           }
          ]
         }
        },
        {
         "name": "S",
         "dtype": "int64",
         "stats": {
          "unique_count": 3,
          "nan_count": 0,
          "min": "-6",
          "max": "2",
          "histogram": [
           {
            "bin_start": -6,
            "bin_end": -5.2,
            "count": 1
           },
           {
            "bin_start": -5.2,
            "bin_end": -4.4,
            "count": 0
           },
           {
            "bin_start": -4.4,
            "bin_end": -3.5999999999999996,
            "count": 0
           },
           {
            "bin_start": -3.5999999999999996,
            "bin_end": -2.8,
            "count": 0
           },
           {
            "bin_start": -2.8,
            "bin_end": -2,
            "count": 0
           },
           {
            "bin_start": -2,
            "bin_end": -1.1999999999999993,
            "count": 1
           },
           {
            "bin_start": -1.1999999999999993,
            "bin_end": -0.39999999999999947,
            "count": 0
           },
           {
            "bin_start": -0.39999999999999947,
            "bin_end": 0.40000000000000036,
            "count": 0
           },
           {
            "bin_start": 0.40000000000000036,
            "bin_end": 1.2000000000000002,
            "count": 0
           },
           {
            "bin_start": 1.2000000000000002,
            "bin_end": 2,
            "count": 1
           }
          ]
         }
        },
        {
         "name": "T",
         "dtype": "int64",
         "stats": {
          "unique_count": 3,
          "nan_count": 0,
          "min": "-4",
          "max": "7",
          "histogram": [
           {
            "bin_start": -4,
            "bin_end": -2.9,
            "count": 1
           },
           {
            "bin_start": -2.9,
            "bin_end": -1.7999999999999998,
            "count": 0
           },
           {
            "bin_start": -1.7999999999999998,
            "bin_end": -0.6999999999999997,
            "count": 0
           },
           {
            "bin_start": -0.6999999999999997,
            "bin_end": 0.40000000000000036,
            "count": 0
           },
           {
            "bin_start": 0.40000000000000036,
            "bin_end": 1.5,
            "count": 0
           },
           {
            "bin_start": 1.5,
            "bin_end": 2.6000000000000005,
            "count": 1
           },
           {
            "bin_start": 2.6000000000000005,
            "bin_end": 3.700000000000001,
            "count": 0
           },
           {
            "bin_start": 3.700000000000001,
            "bin_end": 4.800000000000001,
            "count": 0
           },
           {
            "bin_start": 4.800000000000001,
            "bin_end": 5.9,
            "count": 0
           },
           {
            "bin_start": 5.9,
            "bin_end": 7,
            "count": 1
           }
          ]
         }
        },
        {
         "name": "_deepnote_index_column",
         "dtype": "int64"
        }
       ],
       "rows_top": [
        {
         "Q": -5,
         "R": 0,
         "S": -6,
         "T": -4,
         "_deepnote_index_column": 0
        },
        {
         "Q": -4,
         "R": 0,
         "S": -2,
         "T": 2,
         "_deepnote_index_column": 1
        },
        {
         "Q": 5,
         "R": 0,
         "S": 2,
         "T": 7,
         "_deepnote_index_column": 2
        }
       ],
       "rows_bottom": null
      },
      "text/plain": "   Q  R  S  T\n0 -5  0 -6 -4\n1 -4  0 -2  2\n2  5  0  2  7",
      "text/html": "<div>\n<style scoped>\n    .dataframe tbody tr th:only-of-type {\n        vertical-align: middle;\n    }\n\n    .dataframe tbody tr th {\n        vertical-align: top;\n    }\n\n    .dataframe thead th {\n        text-align: right;\n    }\n</style>\n<table border=\"1\" class=\"dataframe\">\n  <thead>\n    <tr style=\"text-align: right;\">\n      <th></th>\n      <th>Q</th>\n      <th>R</th>\n      <th>S</th>\n      <th>T</th>\n    </tr>\n  </thead>\n  <tbody>\n    <tr>\n      <th>0</th>\n      <td>-5</td>\n      <td>0</td>\n      <td>-6</td>\n      <td>-4</td>\n    </tr>\n    <tr>\n      <th>1</th>\n      <td>-4</td>\n      <td>0</td>\n      <td>-2</td>\n      <td>2</td>\n    </tr>\n    <tr>\n      <th>2</th>\n      <td>5</td>\n      <td>0</td>\n      <td>2</td>\n      <td>7</td>\n    </tr>\n  </tbody>\n</table>\n</div>"
     },
     "metadata": {}
    }
   ]
  },
  {
   "cell_type": "code",
   "metadata": {
    "tags": [],
    "cell_id": "00029-9d76b270-0047-46c0-bea3-ce97ce754068",
    "deepnote_to_be_reexecuted": false,
    "source_hash": "c46c1017",
    "execution_start": 1625453039744,
    "execution_millis": 11,
    "deepnote_cell_type": "code"
   },
   "source": "halfrow = df.iloc[0, ::2]\nhalfrow",
   "execution_count": null,
   "outputs": [
    {
     "output_type": "execute_result",
     "execution_count": 32,
     "data": {
      "text/plain": "Q    3\nS    2\nName: 0, dtype: int64"
     },
     "metadata": {}
    }
   ]
  },
  {
   "cell_type": "code",
   "metadata": {
    "tags": [],
    "cell_id": "00030-2c496f58-4c6c-41c7-b085-6dce720b60a1",
    "deepnote_to_be_reexecuted": false,
    "source_hash": "db30ba02",
    "execution_start": 1625453053486,
    "execution_millis": 9,
    "deepnote_cell_type": "code"
   },
   "source": "df-halfrow",
   "execution_count": null,
   "outputs": [
    {
     "output_type": "execute_result",
     "execution_count": 33,
     "data": {
      "application/vnd.deepnote.dataframe.v2+json": {
       "row_count": 3,
       "column_count": 4,
       "columns": [
        {
         "name": "Q",
         "dtype": "float64",
         "stats": {
          "unique_count": 3,
          "nan_count": 0,
          "min": "-1.0",
          "max": "3.0",
          "histogram": [
           {
            "bin_start": -1,
            "bin_end": -0.6,
            "count": 1
           },
           {
            "bin_start": -0.6,
            "bin_end": -0.19999999999999996,
            "count": 0
           },
           {
            "bin_start": -0.19999999999999996,
            "bin_end": 0.20000000000000018,
            "count": 1
           },
           {
            "bin_start": 0.20000000000000018,
            "bin_end": 0.6000000000000001,
            "count": 0
           },
           {
            "bin_start": 0.6000000000000001,
            "bin_end": 1,
            "count": 0
           },
           {
            "bin_start": 1,
            "bin_end": 1.4000000000000004,
            "count": 0
           },
           {
            "bin_start": 1.4000000000000004,
            "bin_end": 1.8000000000000003,
            "count": 0
           },
           {
            "bin_start": 1.8000000000000003,
            "bin_end": 2.2,
            "count": 0
           },
           {
            "bin_start": 2.2,
            "bin_end": 2.6,
            "count": 0
           },
           {
            "bin_start": 2.6,
            "bin_end": 3,
            "count": 1
           }
          ]
         }
        },
        {
         "name": "R",
         "dtype": "float64",
         "stats": {
          "unique_count": 0,
          "nan_count": 3,
          "min": null,
          "max": null,
          "histogram": [
           {
            "bin_start": 0,
            "bin_end": 0.1,
            "count": 0
           },
           {
            "bin_start": 0.1,
            "bin_end": 0.2,
            "count": 0
           },
           {
            "bin_start": 0.2,
            "bin_end": 0.30000000000000004,
            "count": 0
           },
           {
            "bin_start": 0.30000000000000004,
            "bin_end": 0.4,
            "count": 0
           },
           {
            "bin_start": 0.4,
            "bin_end": 0.5,
            "count": 0
           },
           {
            "bin_start": 0.5,
            "bin_end": 0.6000000000000001,
            "count": 0
           },
           {
            "bin_start": 0.6000000000000001,
            "bin_end": 0.7000000000000001,
            "count": 0
           },
           {
            "bin_start": 0.7000000000000001,
            "bin_end": 0.8,
            "count": 0
           },
           {
            "bin_start": 0.8,
            "bin_end": 0.9,
            "count": 0
           },
           {
            "bin_start": 0.9,
            "bin_end": 1,
            "count": 0
           }
          ]
         }
        },
        {
         "name": "S",
         "dtype": "float64",
         "stats": {
          "unique_count": 3,
          "nan_count": 0,
          "min": "0.0",
          "max": "2.0",
          "histogram": [
           {
            "bin_start": 0,
            "bin_end": 0.2,
            "count": 1
           },
           {
            "bin_start": 0.2,
            "bin_end": 0.4,
            "count": 0
           },
           {
            "bin_start": 0.4,
            "bin_end": 0.6000000000000001,
            "count": 0
           },
           {
            "bin_start": 0.6000000000000001,
            "bin_end": 0.8,
            "count": 0
           },
           {
            "bin_start": 0.8,
            "bin_end": 1,
            "count": 0
           },
           {
            "bin_start": 1,
            "bin_end": 1.2000000000000002,
            "count": 1
           },
           {
            "bin_start": 1.2000000000000002,
            "bin_end": 1.4000000000000001,
            "count": 0
           },
           {
            "bin_start": 1.4000000000000001,
            "bin_end": 1.6,
            "count": 0
           },
           {
            "bin_start": 1.6,
            "bin_end": 1.8,
            "count": 0
           },
           {
            "bin_start": 1.8,
            "bin_end": 2,
            "count": 1
           }
          ]
         }
        },
        {
         "name": "T",
         "dtype": "float64",
         "stats": {
          "unique_count": 0,
          "nan_count": 3,
          "min": null,
          "max": null,
          "histogram": [
           {
            "bin_start": 0,
            "bin_end": 0.1,
            "count": 0
           },
           {
            "bin_start": 0.1,
            "bin_end": 0.2,
            "count": 0
           },
           {
            "bin_start": 0.2,
            "bin_end": 0.30000000000000004,
            "count": 0
           },
           {
            "bin_start": 0.30000000000000004,
            "bin_end": 0.4,
            "count": 0
           },
           {
            "bin_start": 0.4,
            "bin_end": 0.5,
            "count": 0
           },
           {
            "bin_start": 0.5,
            "bin_end": 0.6000000000000001,
            "count": 0
           },
           {
            "bin_start": 0.6000000000000001,
            "bin_end": 0.7000000000000001,
            "count": 0
           },
           {
            "bin_start": 0.7000000000000001,
            "bin_end": 0.8,
            "count": 0
           },
           {
            "bin_start": 0.8,
            "bin_end": 0.9,
            "count": 0
           },
           {
            "bin_start": 0.9,
            "bin_end": 1,
            "count": 0
           }
          ]
         }
        },
        {
         "name": "_deepnote_index_column",
         "dtype": "int64"
        }
       ],
       "rows_top": [
        {
         "Q": 0,
         "R": "nan",
         "S": 0,
         "T": "nan",
         "_deepnote_index_column": 0
        },
        {
         "Q": -1,
         "R": "nan",
         "S": 2,
         "T": "nan",
         "_deepnote_index_column": 1
        },
        {
         "Q": 3,
         "R": "nan",
         "S": 1,
         "T": "nan",
         "_deepnote_index_column": 2
        }
       ],
       "rows_bottom": null
      },
      "text/plain": "     Q   R    S   T\n0  0.0 NaN  0.0 NaN\n1 -1.0 NaN  2.0 NaN\n2  3.0 NaN  1.0 NaN",
      "text/html": "<div>\n<style scoped>\n    .dataframe tbody tr th:only-of-type {\n        vertical-align: middle;\n    }\n\n    .dataframe tbody tr th {\n        vertical-align: top;\n    }\n\n    .dataframe thead th {\n        text-align: right;\n    }\n</style>\n<table border=\"1\" class=\"dataframe\">\n  <thead>\n    <tr style=\"text-align: right;\">\n      <th></th>\n      <th>Q</th>\n      <th>R</th>\n      <th>S</th>\n      <th>T</th>\n    </tr>\n  </thead>\n  <tbody>\n    <tr>\n      <th>0</th>\n      <td>0.0</td>\n      <td>NaN</td>\n      <td>0.0</td>\n      <td>NaN</td>\n    </tr>\n    <tr>\n      <th>1</th>\n      <td>-1.0</td>\n      <td>NaN</td>\n      <td>2.0</td>\n      <td>NaN</td>\n    </tr>\n    <tr>\n      <th>2</th>\n      <td>3.0</td>\n      <td>NaN</td>\n      <td>1.0</td>\n      <td>NaN</td>\n    </tr>\n  </tbody>\n</table>\n</div>"
     },
     "metadata": {}
    }
   ]
  },
  {
   "cell_type": "markdown",
   "source": "## Operating on Numerical Data in Pandas\n\nOne strength of Python is its relative ease in handling and manipulating string data.\nPandas builds on this and provides a comprehensive set of *vectorized string operations* that become an essential piece of the type of munging required when working with (read: cleaning up) real-world data.\nIn this section, we'll walk through some of the Pandas string operations, and then take a look at using them to partially clean up a very messy dataset of recipes collected from the Internet.",
   "metadata": {
    "tags": [],
    "cell_id": "00031-b896b1e7-3df7-4706-8a9b-4f98a72704b5",
    "deepnote_cell_type": "markdown"
   }
  },
  {
   "cell_type": "code",
   "metadata": {
    "tags": [],
    "cell_id": "00031-a92cf8af-7659-47d1-b1ae-0e536b385ccd",
    "deepnote_to_be_reexecuted": false,
    "source_hash": "ef8316ec",
    "execution_start": 1625453140394,
    "execution_millis": 5,
    "deepnote_cell_type": "code"
   },
   "source": "x = np.array([2, 3, 5, 7, 11, 13])\nx * 2",
   "execution_count": null,
   "outputs": [
    {
     "output_type": "execute_result",
     "execution_count": 34,
     "data": {
      "text/plain": "array([ 4,  6, 10, 14, 22, 26])"
     },
     "metadata": {}
    }
   ]
  },
  {
   "cell_type": "code",
   "metadata": {
    "tags": [],
    "cell_id": "00033-3f5213e2-e7c4-407f-819f-6c43e94813e6",
    "deepnote_to_be_reexecuted": false,
    "source_hash": "61449adb",
    "execution_start": 1625453188006,
    "execution_millis": 11,
    "deepnote_cell_type": "code"
   },
   "source": "data = [\"Reddy\",'Prasade','ClientoClarify','python',\"MARY\"]\ndata",
   "execution_count": null,
   "outputs": [
    {
     "output_type": "execute_result",
     "execution_count": 37,
     "data": {
      "text/plain": "['Reddy', 'Prasade', 'ClientoClarify', 'python', 'MARY']"
     },
     "metadata": {}
    }
   ]
  },
  {
   "cell_type": "code",
   "metadata": {
    "tags": [],
    "cell_id": "00034-df78789e-287d-417b-a435-d1224f665b77",
    "deepnote_to_be_reexecuted": false,
    "source_hash": "442ae27e",
    "execution_start": 1625453211458,
    "execution_millis": 12,
    "deepnote_cell_type": "code"
   },
   "source": "[s.capitalize() for s in data]",
   "execution_count": null,
   "outputs": [
    {
     "output_type": "execute_result",
     "execution_count": 38,
     "data": {
      "text/plain": "['Reddy', 'Prasade', 'Clientoclarify', 'Python', 'Mary']"
     },
     "metadata": {}
    }
   ]
  },
  {
   "cell_type": "code",
   "metadata": {
    "tags": [],
    "cell_id": "00035-c2b7e2d5-b60c-42da-bcb2-90b51840016e",
    "deepnote_to_be_reexecuted": false,
    "source_hash": "35ecd4bc",
    "execution_start": 1625453251232,
    "execution_millis": 9,
    "deepnote_cell_type": "code"
   },
   "source": "names = pd.Series(data)\nnames",
   "execution_count": null,
   "outputs": [
    {
     "output_type": "execute_result",
     "execution_count": 39,
     "data": {
      "text/plain": "0             Reddy\n1           Prasade\n2    ClientoClarify\n3            python\n4              MARY\ndtype: object"
     },
     "metadata": {}
    }
   ]
  },
  {
   "cell_type": "code",
   "metadata": {
    "tags": [],
    "cell_id": "00036-d0dd5429-fdc2-4246-aef2-73b44b9fb232",
    "deepnote_to_be_reexecuted": false,
    "source_hash": "476f5c39",
    "execution_start": 1625453266929,
    "execution_millis": 8,
    "deepnote_cell_type": "code"
   },
   "source": "names.str.capitalize()",
   "execution_count": null,
   "outputs": [
    {
     "output_type": "execute_result",
     "execution_count": 40,
     "data": {
      "text/plain": "0             Reddy\n1           Prasade\n2    Clientoclarify\n3            Python\n4              Mary\ndtype: object"
     },
     "metadata": {}
    }
   ]
  },
  {
   "cell_type": "code",
   "metadata": {
    "tags": [],
    "cell_id": "00037-8621dee4-2f74-4070-9505-7c5c8169c87d",
    "deepnote_to_be_reexecuted": false,
    "source_hash": "260f303c",
    "execution_start": 1625453298890,
    "execution_millis": 0,
    "deepnote_cell_type": "code"
   },
   "source": "monte = pd.Series(['Graham Chapman', 'John Cleese', 'Terry Gilliam',\n                   'Eric Idle', 'Terry Jones', 'Michael Palin'])",
   "execution_count": null,
   "outputs": []
  },
  {
   "cell_type": "code",
   "metadata": {
    "tags": [],
    "cell_id": "00038-67ee76d1-9205-46aa-be55-c222e8e082d1",
    "deepnote_to_be_reexecuted": false,
    "source_hash": "9dee27d2",
    "execution_start": 1625453315574,
    "execution_millis": 8,
    "deepnote_cell_type": "code"
   },
   "source": "monte.str.lower()",
   "execution_count": null,
   "outputs": [
    {
     "output_type": "execute_result",
     "execution_count": 42,
     "data": {
      "text/plain": "0    graham chapman\n1       john cleese\n2     terry gilliam\n3         eric idle\n4       terry jones\n5     michael palin\ndtype: object"
     },
     "metadata": {}
    }
   ]
  },
  {
   "cell_type": "code",
   "metadata": {
    "tags": [],
    "cell_id": "00039-050d6e89-bf1f-4dbc-8729-19397291d6f0",
    "deepnote_to_be_reexecuted": false,
    "source_hash": "fb7c4acf",
    "execution_start": 1625453332574,
    "execution_millis": 0,
    "deepnote_cell_type": "code"
   },
   "source": "monte.str.len()",
   "execution_count": null,
   "outputs": [
    {
     "output_type": "execute_result",
     "execution_count": 43,
     "data": {
      "text/plain": "0    14\n1    11\n2    13\n3     9\n4    11\n5    13\ndtype: int64"
     },
     "metadata": {}
    }
   ]
  },
  {
   "cell_type": "code",
   "metadata": {
    "tags": [],
    "cell_id": "00040-e7eb55d3-6877-4339-b90e-3263eb576310",
    "deepnote_to_be_reexecuted": false,
    "source_hash": "4cf15772",
    "execution_start": 1625453344805,
    "execution_millis": 7,
    "deepnote_cell_type": "code"
   },
   "source": "monte.str.startswith('T')",
   "execution_count": null,
   "outputs": [
    {
     "output_type": "execute_result",
     "execution_count": 44,
     "data": {
      "text/plain": "0    False\n1    False\n2     True\n3    False\n4     True\n5    False\ndtype: bool"
     },
     "metadata": {}
    }
   ]
  },
  {
   "cell_type": "markdown",
   "source": "# Apply Regulare Expression On String Data:\n\n### Methods using regular expressions\n\nIn addition, there are several methods that accept regular expressions to examine the content of each string element, and follow some of the API conventions of Python's built-in ``re`` module:\n\n| Method | Description |\n|--------|-------------|\n| ``match()`` | Call ``re.match()`` on each element, returning a boolean. |\n| ``extract()`` | Call ``re.match()`` on each element, returning matched groups as strings.|\n| ``findall()`` | Call ``re.findall()`` on each element |\n| ``replace()`` | Replace occurrences of pattern with some other string|\n| ``contains()`` | Call ``re.search()`` on each element, returning a boolean |\n| ``count()`` | Count occurrences of pattern|\n| ``split()``   | Equivalent to ``str.split()``, but accepts regexps |\n| ``rsplit()`` | Equivalent to ``str.rsplit()``, but accepts regexps |",
   "metadata": {
    "tags": [],
    "cell_id": "00041-1332e0ad-9ea3-4729-8222-8cce798b59ae",
    "deepnote_cell_type": "markdown"
   }
  },
  {
   "cell_type": "code",
   "metadata": {
    "tags": [],
    "cell_id": "00041-f0350a5c-cbfc-4f1e-8bb0-565e196ec4da",
    "deepnote_to_be_reexecuted": false,
    "source_hash": "a79a6507",
    "execution_start": 1625453536470,
    "execution_millis": 12,
    "deepnote_cell_type": "code"
   },
   "source": "monte.str.match('[A-Z]')",
   "execution_count": null,
   "outputs": [
    {
     "output_type": "execute_result",
     "execution_count": 46,
     "data": {
      "text/plain": "0    True\n1    True\n2    True\n3    True\n4    True\n5    True\ndtype: bool"
     },
     "metadata": {}
    }
   ]
  },
  {
   "cell_type": "code",
   "metadata": {
    "tags": [],
    "cell_id": "00043-3e95d2c1-e932-4d34-88be-6f3266d0ec76",
    "deepnote_to_be_reexecuted": false,
    "source_hash": "d2ba3b6a",
    "execution_start": 1625453596886,
    "execution_millis": 11,
    "deepnote_cell_type": "code"
   },
   "source": "monte.str.extract(\"([A-Za-z]+)\",expand=True)",
   "execution_count": null,
   "outputs": [
    {
     "output_type": "execute_result",
     "execution_count": 49,
     "data": {
      "application/vnd.deepnote.dataframe.v2+json": {
       "row_count": 6,
       "column_count": 1,
       "columns": [
        {
         "name": 0,
         "dtype": "object",
         "stats": {
          "unique_count": 5,
          "nan_count": 0,
          "categories": [
           {
            "name": "Terry",
            "count": 2
           },
           {
            "name": "Graham",
            "count": 1
           },
           {
            "name": "3 others",
            "count": 3
           }
          ]
         }
        },
        {
         "name": "_deepnote_index_column",
         "dtype": "int64"
        }
       ],
       "rows_top": [
        {
         "0": "Graham",
         "_deepnote_index_column": 0
        },
        {
         "0": "John",
         "_deepnote_index_column": 1
        },
        {
         "0": "Terry",
         "_deepnote_index_column": 2
        },
        {
         "0": "Eric",
         "_deepnote_index_column": 3
        },
        {
         "0": "Terry",
         "_deepnote_index_column": 4
        },
        {
         "0": "Michael",
         "_deepnote_index_column": 5
        }
       ],
       "rows_bottom": null
      },
      "text/plain": "         0\n0   Graham\n1     John\n2    Terry\n3     Eric\n4    Terry\n5  Michael",
      "text/html": "<div>\n<style scoped>\n    .dataframe tbody tr th:only-of-type {\n        vertical-align: middle;\n    }\n\n    .dataframe tbody tr th {\n        vertical-align: top;\n    }\n\n    .dataframe thead th {\n        text-align: right;\n    }\n</style>\n<table border=\"1\" class=\"dataframe\">\n  <thead>\n    <tr style=\"text-align: right;\">\n      <th></th>\n      <th>0</th>\n    </tr>\n  </thead>\n  <tbody>\n    <tr>\n      <th>0</th>\n      <td>Graham</td>\n    </tr>\n    <tr>\n      <th>1</th>\n      <td>John</td>\n    </tr>\n    <tr>\n      <th>2</th>\n      <td>Terry</td>\n    </tr>\n    <tr>\n      <th>3</th>\n      <td>Eric</td>\n    </tr>\n    <tr>\n      <th>4</th>\n      <td>Terry</td>\n    </tr>\n    <tr>\n      <th>5</th>\n      <td>Michael</td>\n    </tr>\n  </tbody>\n</table>\n</div>"
     },
     "metadata": {}
    }
   ]
  },
  {
   "cell_type": "code",
   "metadata": {
    "tags": [],
    "cell_id": "00044-849d4f1e-427f-4196-80f1-d6c15ee2b8b7",
    "deepnote_to_be_reexecuted": false,
    "source_hash": "167e187f",
    "execution_start": 1625453624490,
    "execution_millis": 9,
    "deepnote_cell_type": "code"
   },
   "source": "monte.str.findall(r'^[^AEIOU].*[^aeiou]$')",
   "execution_count": null,
   "outputs": [
    {
     "output_type": "execute_result",
     "execution_count": 50,
     "data": {
      "text/plain": "0    [Graham Chapman]\n1                  []\n2     [Terry Gilliam]\n3                  []\n4       [Terry Jones]\n5     [Michael Palin]\ndtype: object"
     },
     "metadata": {}
    }
   ]
  },
  {
   "cell_type": "code",
   "metadata": {
    "tags": [],
    "cell_id": "00045-c1ab113b-2e72-4bd5-b6d8-040a59c80704",
    "deepnote_to_be_reexecuted": false,
    "source_hash": "2cd9c9bc",
    "execution_start": 1625453653576,
    "execution_millis": 9,
    "deepnote_cell_type": "code"
   },
   "source": "monte.str[0]",
   "execution_count": null,
   "outputs": [
    {
     "output_type": "execute_result",
     "execution_count": 51,
     "data": {
      "text/plain": "0    G\n1    J\n2    T\n3    E\n4    T\n5    M\ndtype: object"
     },
     "metadata": {}
    }
   ]
  },
  {
   "cell_type": "code",
   "metadata": {
    "tags": [],
    "cell_id": "00046-e659ef40-781a-4f1a-a85c-f57dd45e45f5",
    "deepnote_to_be_reexecuted": false,
    "source_hash": "f7f91e00",
    "execution_start": 1625453667504,
    "execution_millis": 19,
    "deepnote_cell_type": "code"
   },
   "source": "monte.str[0:5]",
   "execution_count": null,
   "outputs": [
    {
     "output_type": "execute_result",
     "execution_count": 52,
     "data": {
      "text/plain": "0    Graha\n1    John \n2    Terry\n3    Eric \n4    Terry\n5    Micha\ndtype: object"
     },
     "metadata": {}
    }
   ]
  },
  {
   "cell_type": "code",
   "metadata": {
    "tags": [],
    "cell_id": "00047-508de4c3-2d56-4a2a-a503-76dbe6cad333",
    "deepnote_to_be_reexecuted": false,
    "source_hash": "db1881a1",
    "execution_start": 1625453677468,
    "execution_millis": 7,
    "deepnote_cell_type": "code"
   },
   "source": "monte.str.split().str.get(-1)",
   "execution_count": null,
   "outputs": [
    {
     "output_type": "execute_result",
     "execution_count": 53,
     "data": {
      "text/plain": "0    Chapman\n1     Cleese\n2    Gilliam\n3       Idle\n4      Jones\n5      Palin\ndtype: object"
     },
     "metadata": {}
    }
   ]
  },
  {
   "cell_type": "code",
   "metadata": {
    "tags": [],
    "cell_id": "00048-6786c360-398e-4c8c-b29d-a6639fd9bf63",
    "deepnote_cell_type": "code"
   },
   "source": "",
   "execution_count": null,
   "outputs": []
  },
  {
   "cell_type": "markdown",
   "source": "<a style='text-decoration:none;line-height:16px;display:flex;color:#5B5B62;padding:10px;justify-content:end;' href='https://deepnote.com?utm_source=created-in-deepnote-cell&projectId=f5f90ba1-3290-463e-8fc6-44108f4fa21b' target=\"_blank\">\n<img alt='Created in deepnote.com' style='display:inline;max-height:16px;margin:0px;margin-right:7.5px;' src='data:image/svg+xml;base64,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' > </img>\nCreated in <span style='font-weight:600;margin-left:4px;'>Deepnote</span></a>",
   "metadata": {
    "tags": [],
    "created_in_deepnote_cell": true,
    "deepnote_cell_type": "markdown"
   }
  }
 ],
 "nbformat": 4,
 "nbformat_minor": 2,
 "metadata": {
  "orig_nbformat": 2,
  "deepnote": {
   "is_reactive": false
  },
  "deepnote_notebook_id": "95999b95-3868-4154-b1b3-6432d84112a0",
  "deepnote_execution_queue": []
 }
}