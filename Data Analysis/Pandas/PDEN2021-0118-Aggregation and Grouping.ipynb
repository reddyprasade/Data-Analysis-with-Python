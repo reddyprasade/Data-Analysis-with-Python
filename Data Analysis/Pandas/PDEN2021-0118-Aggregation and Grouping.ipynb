{
 "cells": [
  {
   "cell_type": "markdown",
   "source": "## Aggregation and Grouping",
   "metadata": {
    "tags": [],
    "cell_id": "00000-bcff0aec-f4ee-4c48-9c84-ca737218884d",
    "deepnote_cell_type": "markdown"
   }
  },
  {
   "cell_type": "markdown",
   "source": "## Aggregate\n* Aggregate using one or more operations over the specified axis\n* The aggregation operations are always performed over an axis, either the `index (default)` or the `column axis`.\n* This behavior is different from numpy aggregation functions (mean, median, prod, sum, std,var), where the default is to compute the aggregation of the flattened array, e.g., **numpy.mean(arr_2d)** as opposed to **numpy.mean(arr_2d, axis=0)**.\n",
   "metadata": {
    "tags": [],
    "cell_id": "00001-ec57935b-251e-404c-ae62-ba24b454d104",
    "deepnote_cell_type": "markdown"
   }
  },
  {
   "cell_type": "code",
   "metadata": {
    "tags": [],
    "cell_id": "00000-d4ad3a9f-fece-4f40-b309-eee3453e593c",
    "deepnote_to_be_reexecuted": false,
    "source_hash": "8a46aeb6",
    "execution_start": 1626401654331,
    "execution_millis": 0,
    "deepnote_cell_type": "code"
   },
   "source": "# Start writing code here...\nimport numpy as np\nimport pandas as pd",
   "execution_count": null,
   "outputs": []
  },
  {
   "cell_type": "code",
   "metadata": {
    "tags": [],
    "cell_id": "00003-066e5681-c4a9-45c1-b75a-5ce938bcc08f",
    "deepnote_to_be_reexecuted": false,
    "source_hash": "a689b62a",
    "execution_start": 1626401654332,
    "execution_millis": 0,
    "deepnote_cell_type": "code"
   },
   "source": "df = pd.DataFrame([[1,2,3,4],\n                    [4,5,6],\n                    [7,8,9],\n                    [np.nan,np.nan,np.nan]\n                ])",
   "execution_count": null,
   "outputs": []
  },
  {
   "cell_type": "code",
   "metadata": {
    "tags": [],
    "cell_id": "00004-7c525b6e-e0ae-4ad1-bab7-a7d0eadc9776",
    "deepnote_to_be_reexecuted": false,
    "source_hash": "60ff9ade",
    "execution_start": 1626401654332,
    "execution_millis": 1,
    "deepnote_cell_type": "code"
   },
   "source": "df.columns = ['A','B','C','D']",
   "execution_count": null,
   "outputs": []
  },
  {
   "cell_type": "code",
   "metadata": {
    "tags": [],
    "cell_id": "00005-4beba8a4-2cf8-49ca-ad6f-ffcb83d01bea",
    "deepnote_to_be_reexecuted": false,
    "source_hash": "f804c160",
    "execution_start": 1626401654403,
    "execution_millis": 6,
    "deepnote_cell_type": "code"
   },
   "source": "df",
   "execution_count": null,
   "outputs": [
    {
     "output_type": "execute_result",
     "execution_count": 4,
     "data": {
      "application/vnd.deepnote.dataframe.v2+json": {
       "row_count": 4,
       "column_count": 4,
       "columns": [
        {
         "name": "A",
         "dtype": "float64",
         "stats": {
          "unique_count": 3,
          "nan_count": 1,
          "min": "1.0",
          "max": "7.0",
          "histogram": [
           {
            "bin_start": 1,
            "bin_end": 1.6,
            "count": 1
           },
           {
            "bin_start": 1.6,
            "bin_end": 2.2,
            "count": 0
           },
           {
            "bin_start": 2.2,
            "bin_end": 2.8,
            "count": 0
           },
           {
            "bin_start": 2.8,
            "bin_end": 3.4,
            "count": 0
           },
           {
            "bin_start": 3.4,
            "bin_end": 4,
            "count": 0
           },
           {
            "bin_start": 4,
            "bin_end": 4.6,
            "count": 1
           },
           {
            "bin_start": 4.6,
            "bin_end": 5.2,
            "count": 0
           },
           {
            "bin_start": 5.2,
            "bin_end": 5.8,
            "count": 0
           },
           {
            "bin_start": 5.8,
            "bin_end": 6.3999999999999995,
            "count": 0
           },
           {
            "bin_start": 6.3999999999999995,
            "bin_end": 7,
            "count": 1
           }
          ]
         }
        },
        {
         "name": "B",
         "dtype": "float64",
         "stats": {
          "unique_count": 3,
          "nan_count": 1,
          "min": "2.0",
          "max": "8.0",
          "histogram": [
           {
            "bin_start": 2,
            "bin_end": 2.6,
            "count": 1
           },
           {
            "bin_start": 2.6,
            "bin_end": 3.2,
            "count": 0
           },
           {
            "bin_start": 3.2,
            "bin_end": 3.8,
            "count": 0
           },
           {
            "bin_start": 3.8,
            "bin_end": 4.4,
            "count": 0
           },
           {
            "bin_start": 4.4,
            "bin_end": 5,
            "count": 0
           },
           {
            "bin_start": 5,
            "bin_end": 5.6,
            "count": 1
           },
           {
            "bin_start": 5.6,
            "bin_end": 6.2,
            "count": 0
           },
           {
            "bin_start": 6.2,
            "bin_end": 6.8,
            "count": 0
           },
           {
            "bin_start": 6.8,
            "bin_end": 7.3999999999999995,
            "count": 0
           },
           {
            "bin_start": 7.3999999999999995,
            "bin_end": 8,
            "count": 1
           }
          ]
         }
        },
        {
         "name": "C",
         "dtype": "float64",
         "stats": {
          "unique_count": 3,
          "nan_count": 1,
          "min": "3.0",
          "max": "9.0",
          "histogram": [
           {
            "bin_start": 3,
            "bin_end": 3.6,
            "count": 1
           },
           {
            "bin_start": 3.6,
            "bin_end": 4.2,
            "count": 0
           },
           {
            "bin_start": 4.2,
            "bin_end": 4.8,
            "count": 0
           },
           {
            "bin_start": 4.8,
            "bin_end": 5.4,
            "count": 0
           },
           {
            "bin_start": 5.4,
            "bin_end": 6,
            "count": 0
           },
           {
            "bin_start": 6,
            "bin_end": 6.6,
            "count": 1
           },
           {
            "bin_start": 6.6,
            "bin_end": 7.2,
            "count": 0
           },
           {
            "bin_start": 7.2,
            "bin_end": 7.8,
            "count": 0
           },
           {
            "bin_start": 7.8,
            "bin_end": 8.399999999999999,
            "count": 0
           },
           {
            "bin_start": 8.399999999999999,
            "bin_end": 9,
            "count": 1
           }
          ]
         }
        },
        {
         "name": "D",
         "dtype": "float64",
         "stats": {
          "unique_count": 1,
          "nan_count": 3,
          "min": "4.0",
          "max": "4.0",
          "histogram": [
           {
            "bin_start": 3.5,
            "bin_end": 3.6,
            "count": 0
           },
           {
            "bin_start": 3.6,
            "bin_end": 3.7,
            "count": 0
           },
           {
            "bin_start": 3.7,
            "bin_end": 3.8,
            "count": 0
           },
           {
            "bin_start": 3.8,
            "bin_end": 3.9,
            "count": 0
           },
           {
            "bin_start": 3.9,
            "bin_end": 4,
            "count": 0
           },
           {
            "bin_start": 4,
            "bin_end": 4.1,
            "count": 1
           },
           {
            "bin_start": 4.1,
            "bin_end": 4.2,
            "count": 0
           },
           {
            "bin_start": 4.2,
            "bin_end": 4.3,
            "count": 0
           },
           {
            "bin_start": 4.3,
            "bin_end": 4.4,
            "count": 0
           },
           {
            "bin_start": 4.4,
            "bin_end": 4.5,
            "count": 0
           }
          ]
         }
        },
        {
         "name": "_deepnote_index_column",
         "dtype": "int64"
        }
       ],
       "rows_top": [
        {
         "A": 1,
         "B": 2,
         "C": 3,
         "D": 4,
         "_deepnote_index_column": 0
        },
        {
         "A": 4,
         "B": 5,
         "C": 6,
         "D": "nan",
         "_deepnote_index_column": 1
        },
        {
         "A": 7,
         "B": 8,
         "C": 9,
         "D": "nan",
         "_deepnote_index_column": 2
        },
        {
         "A": "nan",
         "B": "nan",
         "C": "nan",
         "D": "nan",
         "_deepnote_index_column": 3
        }
       ],
       "rows_bottom": null
      },
      "text/plain": "     A    B    C    D\n0  1.0  2.0  3.0  4.0\n1  4.0  5.0  6.0  NaN\n2  7.0  8.0  9.0  NaN\n3  NaN  NaN  NaN  NaN",
      "text/html": "<div>\n<style scoped>\n    .dataframe tbody tr th:only-of-type {\n        vertical-align: middle;\n    }\n\n    .dataframe tbody tr th {\n        vertical-align: top;\n    }\n\n    .dataframe thead th {\n        text-align: right;\n    }\n</style>\n<table border=\"1\" class=\"dataframe\">\n  <thead>\n    <tr style=\"text-align: right;\">\n      <th></th>\n      <th>A</th>\n      <th>B</th>\n      <th>C</th>\n      <th>D</th>\n    </tr>\n  </thead>\n  <tbody>\n    <tr>\n      <th>0</th>\n      <td>1.0</td>\n      <td>2.0</td>\n      <td>3.0</td>\n      <td>4.0</td>\n    </tr>\n    <tr>\n      <th>1</th>\n      <td>4.0</td>\n      <td>5.0</td>\n      <td>6.0</td>\n      <td>NaN</td>\n    </tr>\n    <tr>\n      <th>2</th>\n      <td>7.0</td>\n      <td>8.0</td>\n      <td>9.0</td>\n      <td>NaN</td>\n    </tr>\n    <tr>\n      <th>3</th>\n      <td>NaN</td>\n      <td>NaN</td>\n      <td>NaN</td>\n      <td>NaN</td>\n    </tr>\n  </tbody>\n</table>\n</div>"
     },
     "metadata": {}
    }
   ]
  },
  {
   "cell_type": "code",
   "metadata": {
    "tags": [],
    "cell_id": "00006-8b15a1a1-65b8-4865-82de-a6eed95f4f1c",
    "deepnote_to_be_reexecuted": false,
    "source_hash": "bb906eb7",
    "execution_start": 1626401654448,
    "execution_millis": 4,
    "deepnote_cell_type": "code"
   },
   "source": "df.agg(['sum','min']) ",
   "execution_count": null,
   "outputs": [
    {
     "output_type": "execute_result",
     "execution_count": 5,
     "data": {
      "application/vnd.deepnote.dataframe.v2+json": {
       "row_count": 2,
       "column_count": 4,
       "columns": [
        {
         "name": "A",
         "dtype": "float64",
         "stats": {
          "unique_count": 2,
          "nan_count": 0,
          "min": "1.0",
          "max": "12.0",
          "histogram": [
           {
            "bin_start": 1,
            "bin_end": 2.1,
            "count": 1
           },
           {
            "bin_start": 2.1,
            "bin_end": 3.2,
            "count": 0
           },
           {
            "bin_start": 3.2,
            "bin_end": 4.300000000000001,
            "count": 0
           },
           {
            "bin_start": 4.300000000000001,
            "bin_end": 5.4,
            "count": 0
           },
           {
            "bin_start": 5.4,
            "bin_end": 6.5,
            "count": 0
           },
           {
            "bin_start": 6.5,
            "bin_end": 7.6000000000000005,
            "count": 0
           },
           {
            "bin_start": 7.6000000000000005,
            "bin_end": 8.700000000000001,
            "count": 0
           },
           {
            "bin_start": 8.700000000000001,
            "bin_end": 9.8,
            "count": 0
           },
           {
            "bin_start": 9.8,
            "bin_end": 10.9,
            "count": 0
           },
           {
            "bin_start": 10.9,
            "bin_end": 12,
            "count": 1
           }
          ]
         }
        },
        {
         "name": "B",
         "dtype": "float64",
         "stats": {
          "unique_count": 2,
          "nan_count": 0,
          "min": "2.0",
          "max": "15.0",
          "histogram": [
           {
            "bin_start": 2,
            "bin_end": 3.3,
            "count": 1
           },
           {
            "bin_start": 3.3,
            "bin_end": 4.6,
            "count": 0
           },
           {
            "bin_start": 4.6,
            "bin_end": 5.9,
            "count": 0
           },
           {
            "bin_start": 5.9,
            "bin_end": 7.2,
            "count": 0
           },
           {
            "bin_start": 7.2,
            "bin_end": 8.5,
            "count": 0
           },
           {
            "bin_start": 8.5,
            "bin_end": 9.8,
            "count": 0
           },
           {
            "bin_start": 9.8,
            "bin_end": 11.1,
            "count": 0
           },
           {
            "bin_start": 11.1,
            "bin_end": 12.4,
            "count": 0
           },
           {
            "bin_start": 12.4,
            "bin_end": 13.700000000000001,
            "count": 0
           },
           {
            "bin_start": 13.700000000000001,
            "bin_end": 15,
            "count": 1
           }
          ]
         }
        },
        {
         "name": "C",
         "dtype": "float64",
         "stats": {
          "unique_count": 2,
          "nan_count": 0,
          "min": "3.0",
          "max": "18.0",
          "histogram": [
           {
            "bin_start": 3,
            "bin_end": 4.5,
            "count": 1
           },
           {
            "bin_start": 4.5,
            "bin_end": 6,
            "count": 0
           },
           {
            "bin_start": 6,
            "bin_end": 7.5,
            "count": 0
           },
           {
            "bin_start": 7.5,
            "bin_end": 9,
            "count": 0
           },
           {
            "bin_start": 9,
            "bin_end": 10.5,
            "count": 0
           },
           {
            "bin_start": 10.5,
            "bin_end": 12,
            "count": 0
           },
           {
            "bin_start": 12,
            "bin_end": 13.5,
            "count": 0
           },
           {
            "bin_start": 13.5,
            "bin_end": 15,
            "count": 0
           },
           {
            "bin_start": 15,
            "bin_end": 16.5,
            "count": 0
           },
           {
            "bin_start": 16.5,
            "bin_end": 18,
            "count": 1
           }
          ]
         }
        },
        {
         "name": "D",
         "dtype": "float64",
         "stats": {
          "unique_count": 1,
          "nan_count": 0,
          "min": "4.0",
          "max": "4.0",
          "histogram": [
           {
            "bin_start": 3.5,
            "bin_end": 3.6,
            "count": 0
           },
           {
            "bin_start": 3.6,
            "bin_end": 3.7,
            "count": 0
           },
           {
            "bin_start": 3.7,
            "bin_end": 3.8,
            "count": 0
           },
           {
            "bin_start": 3.8,
            "bin_end": 3.9,
            "count": 0
           },
           {
            "bin_start": 3.9,
            "bin_end": 4,
            "count": 0
           },
           {
            "bin_start": 4,
            "bin_end": 4.1,
            "count": 2
           },
           {
            "bin_start": 4.1,
            "bin_end": 4.2,
            "count": 0
           },
           {
            "bin_start": 4.2,
            "bin_end": 4.3,
            "count": 0
           },
           {
            "bin_start": 4.3,
            "bin_end": 4.4,
            "count": 0
           },
           {
            "bin_start": 4.4,
            "bin_end": 4.5,
            "count": 0
           }
          ]
         }
        },
        {
         "name": "_deepnote_index_column",
         "dtype": "object"
        }
       ],
       "rows_top": [
        {
         "A": 12,
         "B": 15,
         "C": 18,
         "D": 4,
         "_deepnote_index_column": "sum"
        },
        {
         "A": 1,
         "B": 2,
         "C": 3,
         "D": 4,
         "_deepnote_index_column": "min"
        }
       ],
       "rows_bottom": null
      },
      "text/plain": "        A     B     C    D\nsum  12.0  15.0  18.0  4.0\nmin   1.0   2.0   3.0  4.0",
      "text/html": "<div>\n<style scoped>\n    .dataframe tbody tr th:only-of-type {\n        vertical-align: middle;\n    }\n\n    .dataframe tbody tr th {\n        vertical-align: top;\n    }\n\n    .dataframe thead th {\n        text-align: right;\n    }\n</style>\n<table border=\"1\" class=\"dataframe\">\n  <thead>\n    <tr style=\"text-align: right;\">\n      <th></th>\n      <th>A</th>\n      <th>B</th>\n      <th>C</th>\n      <th>D</th>\n    </tr>\n  </thead>\n  <tbody>\n    <tr>\n      <th>sum</th>\n      <td>12.0</td>\n      <td>15.0</td>\n      <td>18.0</td>\n      <td>4.0</td>\n    </tr>\n    <tr>\n      <th>min</th>\n      <td>1.0</td>\n      <td>2.0</td>\n      <td>3.0</td>\n      <td>4.0</td>\n    </tr>\n  </tbody>\n</table>\n</div>"
     },
     "metadata": {}
    }
   ]
  },
  {
   "cell_type": "code",
   "metadata": {
    "tags": [],
    "cell_id": "00007-7ba7c1c9-df28-414e-96ac-4a750fb48e12",
    "deepnote_to_be_reexecuted": false,
    "source_hash": "6a34eeed",
    "execution_start": 1626401654449,
    "execution_millis": 47,
    "deepnote_cell_type": "code"
   },
   "source": "df.aggregate(['sum','max'])",
   "execution_count": null,
   "outputs": [
    {
     "output_type": "execute_result",
     "execution_count": 6,
     "data": {
      "application/vnd.deepnote.dataframe.v2+json": {
       "row_count": 2,
       "column_count": 4,
       "columns": [
        {
         "name": "A",
         "dtype": "float64",
         "stats": {
          "unique_count": 2,
          "nan_count": 0,
          "min": "7.0",
          "max": "12.0",
          "histogram": [
           {
            "bin_start": 7,
            "bin_end": 7.5,
            "count": 1
           },
           {
            "bin_start": 7.5,
            "bin_end": 8,
            "count": 0
           },
           {
            "bin_start": 8,
            "bin_end": 8.5,
            "count": 0
           },
           {
            "bin_start": 8.5,
            "bin_end": 9,
            "count": 0
           },
           {
            "bin_start": 9,
            "bin_end": 9.5,
            "count": 0
           },
           {
            "bin_start": 9.5,
            "bin_end": 10,
            "count": 0
           },
           {
            "bin_start": 10,
            "bin_end": 10.5,
            "count": 0
           },
           {
            "bin_start": 10.5,
            "bin_end": 11,
            "count": 0
           },
           {
            "bin_start": 11,
            "bin_end": 11.5,
            "count": 0
           },
           {
            "bin_start": 11.5,
            "bin_end": 12,
            "count": 1
           }
          ]
         }
        },
        {
         "name": "B",
         "dtype": "float64",
         "stats": {
          "unique_count": 2,
          "nan_count": 0,
          "min": "8.0",
          "max": "15.0",
          "histogram": [
           {
            "bin_start": 8,
            "bin_end": 8.7,
            "count": 1
           },
           {
            "bin_start": 8.7,
            "bin_end": 9.4,
            "count": 0
           },
           {
            "bin_start": 9.4,
            "bin_end": 10.1,
            "count": 0
           },
           {
            "bin_start": 10.1,
            "bin_end": 10.8,
            "count": 0
           },
           {
            "bin_start": 10.8,
            "bin_end": 11.5,
            "count": 0
           },
           {
            "bin_start": 11.5,
            "bin_end": 12.2,
            "count": 0
           },
           {
            "bin_start": 12.2,
            "bin_end": 12.899999999999999,
            "count": 0
           },
           {
            "bin_start": 12.899999999999999,
            "bin_end": 13.6,
            "count": 0
           },
           {
            "bin_start": 13.6,
            "bin_end": 14.3,
            "count": 0
           },
           {
            "bin_start": 14.3,
            "bin_end": 15,
            "count": 1
           }
          ]
         }
        },
        {
         "name": "C",
         "dtype": "float64",
         "stats": {
          "unique_count": 2,
          "nan_count": 0,
          "min": "9.0",
          "max": "18.0",
          "histogram": [
           {
            "bin_start": 9,
            "bin_end": 9.9,
            "count": 1
           },
           {
            "bin_start": 9.9,
            "bin_end": 10.8,
            "count": 0
           },
           {
            "bin_start": 10.8,
            "bin_end": 11.7,
            "count": 0
           },
           {
            "bin_start": 11.7,
            "bin_end": 12.6,
            "count": 0
           },
           {
            "bin_start": 12.6,
            "bin_end": 13.5,
            "count": 0
           },
           {
            "bin_start": 13.5,
            "bin_end": 14.4,
            "count": 0
           },
           {
            "bin_start": 14.4,
            "bin_end": 15.3,
            "count": 0
           },
           {
            "bin_start": 15.3,
            "bin_end": 16.2,
            "count": 0
           },
           {
            "bin_start": 16.2,
            "bin_end": 17.1,
            "count": 0
           },
           {
            "bin_start": 17.1,
            "bin_end": 18,
            "count": 1
           }
          ]
         }
        },
        {
         "name": "D",
         "dtype": "float64",
         "stats": {
          "unique_count": 1,
          "nan_count": 0,
          "min": "4.0",
          "max": "4.0",
          "histogram": [
           {
            "bin_start": 3.5,
            "bin_end": 3.6,
            "count": 0
           },
           {
            "bin_start": 3.6,
            "bin_end": 3.7,
            "count": 0
           },
           {
            "bin_start": 3.7,
            "bin_end": 3.8,
            "count": 0
           },
           {
            "bin_start": 3.8,
            "bin_end": 3.9,
            "count": 0
           },
           {
            "bin_start": 3.9,
            "bin_end": 4,
            "count": 0
           },
           {
            "bin_start": 4,
            "bin_end": 4.1,
            "count": 2
           },
           {
            "bin_start": 4.1,
            "bin_end": 4.2,
            "count": 0
           },
           {
            "bin_start": 4.2,
            "bin_end": 4.3,
            "count": 0
           },
           {
            "bin_start": 4.3,
            "bin_end": 4.4,
            "count": 0
           },
           {
            "bin_start": 4.4,
            "bin_end": 4.5,
            "count": 0
           }
          ]
         }
        },
        {
         "name": "_deepnote_index_column",
         "dtype": "object"
        }
       ],
       "rows_top": [
        {
         "A": 12,
         "B": 15,
         "C": 18,
         "D": 4,
         "_deepnote_index_column": "sum"
        },
        {
         "A": 7,
         "B": 8,
         "C": 9,
         "D": 4,
         "_deepnote_index_column": "max"
        }
       ],
       "rows_bottom": null
      },
      "text/plain": "        A     B     C    D\nsum  12.0  15.0  18.0  4.0\nmax   7.0   8.0   9.0  4.0",
      "text/html": "<div>\n<style scoped>\n    .dataframe tbody tr th:only-of-type {\n        vertical-align: middle;\n    }\n\n    .dataframe tbody tr th {\n        vertical-align: top;\n    }\n\n    .dataframe thead th {\n        text-align: right;\n    }\n</style>\n<table border=\"1\" class=\"dataframe\">\n  <thead>\n    <tr style=\"text-align: right;\">\n      <th></th>\n      <th>A</th>\n      <th>B</th>\n      <th>C</th>\n      <th>D</th>\n    </tr>\n  </thead>\n  <tbody>\n    <tr>\n      <th>sum</th>\n      <td>12.0</td>\n      <td>15.0</td>\n      <td>18.0</td>\n      <td>4.0</td>\n    </tr>\n    <tr>\n      <th>max</th>\n      <td>7.0</td>\n      <td>8.0</td>\n      <td>9.0</td>\n      <td>4.0</td>\n    </tr>\n  </tbody>\n</table>\n</div>"
     },
     "metadata": {}
    }
   ]
  },
  {
   "cell_type": "code",
   "metadata": {
    "tags": [],
    "cell_id": "00008-c023eaad-dadf-4f47-a595-309269a969d4",
    "deepnote_to_be_reexecuted": false,
    "source_hash": "e733e5f8",
    "execution_start": 1626401654494,
    "execution_millis": 11,
    "deepnote_cell_type": "code"
   },
   "source": "df.agg({\"A\":['sum','min'],\n        'B':['min','max']\n        })",
   "execution_count": null,
   "outputs": [
    {
     "output_type": "execute_result",
     "execution_count": 7,
     "data": {
      "application/vnd.deepnote.dataframe.v2+json": {
       "row_count": 3,
       "column_count": 2,
       "columns": [
        {
         "name": "A",
         "dtype": "float64",
         "stats": {
          "unique_count": 2,
          "nan_count": 1,
          "min": "1.0",
          "max": "12.0",
          "histogram": [
           {
            "bin_start": 1,
            "bin_end": 2.1,
            "count": 1
           },
           {
            "bin_start": 2.1,
            "bin_end": 3.2,
            "count": 0
           },
           {
            "bin_start": 3.2,
            "bin_end": 4.300000000000001,
            "count": 0
           },
           {
            "bin_start": 4.300000000000001,
            "bin_end": 5.4,
            "count": 0
           },
           {
            "bin_start": 5.4,
            "bin_end": 6.5,
            "count": 0
           },
           {
            "bin_start": 6.5,
            "bin_end": 7.6000000000000005,
            "count": 0
           },
           {
            "bin_start": 7.6000000000000005,
            "bin_end": 8.700000000000001,
            "count": 0
           },
           {
            "bin_start": 8.700000000000001,
            "bin_end": 9.8,
            "count": 0
           },
           {
            "bin_start": 9.8,
            "bin_end": 10.9,
            "count": 0
           },
           {
            "bin_start": 10.9,
            "bin_end": 12,
            "count": 1
           }
          ]
         }
        },
        {
         "name": "B",
         "dtype": "float64",
         "stats": {
          "unique_count": 2,
          "nan_count": 1,
          "min": "2.0",
          "max": "8.0",
          "histogram": [
           {
            "bin_start": 2,
            "bin_end": 2.6,
            "count": 1
           },
           {
            "bin_start": 2.6,
            "bin_end": 3.2,
            "count": 0
           },
           {
            "bin_start": 3.2,
            "bin_end": 3.8,
            "count": 0
           },
           {
            "bin_start": 3.8,
            "bin_end": 4.4,
            "count": 0
           },
           {
            "bin_start": 4.4,
            "bin_end": 5,
            "count": 0
           },
           {
            "bin_start": 5,
            "bin_end": 5.6,
            "count": 0
           },
           {
            "bin_start": 5.6,
            "bin_end": 6.2,
            "count": 0
           },
           {
            "bin_start": 6.2,
            "bin_end": 6.8,
            "count": 0
           },
           {
            "bin_start": 6.8,
            "bin_end": 7.3999999999999995,
            "count": 0
           },
           {
            "bin_start": 7.3999999999999995,
            "bin_end": 8,
            "count": 1
           }
          ]
         }
        },
        {
         "name": "_deepnote_index_column",
         "dtype": "object"
        }
       ],
       "rows_top": [
        {
         "A": 12,
         "B": "nan",
         "_deepnote_index_column": "sum"
        },
        {
         "A": 1,
         "B": 2,
         "_deepnote_index_column": "min"
        },
        {
         "A": "nan",
         "B": 8,
         "_deepnote_index_column": "max"
        }
       ],
       "rows_bottom": null
      },
      "text/plain": "        A    B\nsum  12.0  NaN\nmin   1.0  2.0\nmax   NaN  8.0",
      "text/html": "<div>\n<style scoped>\n    .dataframe tbody tr th:only-of-type {\n        vertical-align: middle;\n    }\n\n    .dataframe tbody tr th {\n        vertical-align: top;\n    }\n\n    .dataframe thead th {\n        text-align: right;\n    }\n</style>\n<table border=\"1\" class=\"dataframe\">\n  <thead>\n    <tr style=\"text-align: right;\">\n      <th></th>\n      <th>A</th>\n      <th>B</th>\n    </tr>\n  </thead>\n  <tbody>\n    <tr>\n      <th>sum</th>\n      <td>12.0</td>\n      <td>NaN</td>\n    </tr>\n    <tr>\n      <th>min</th>\n      <td>1.0</td>\n      <td>2.0</td>\n    </tr>\n    <tr>\n      <th>max</th>\n      <td>NaN</td>\n      <td>8.0</td>\n    </tr>\n  </tbody>\n</table>\n</div>"
     },
     "metadata": {}
    }
   ]
  },
  {
   "cell_type": "code",
   "metadata": {
    "tags": [],
    "cell_id": "00009-9ffa26cd-6a41-4028-a925-f8f825be91ca",
    "deepnote_to_be_reexecuted": false,
    "source_hash": "cb862467",
    "execution_start": 1626401654543,
    "execution_millis": 5,
    "deepnote_cell_type": "code"
   },
   "source": "df.agg(x=('A',max),y=('B',\"min\"),z= ('C',np.mean))",
   "execution_count": null,
   "outputs": [
    {
     "output_type": "execute_result",
     "execution_count": 8,
     "data": {
      "application/vnd.deepnote.dataframe.v2+json": {
       "row_count": 3,
       "column_count": 3,
       "columns": [
        {
         "name": "A",
         "dtype": "float64",
         "stats": {
          "unique_count": 1,
          "nan_count": 2,
          "min": "7.0",
          "max": "7.0",
          "histogram": [
           {
            "bin_start": 6.5,
            "bin_end": 6.6,
            "count": 0
           },
           {
            "bin_start": 6.6,
            "bin_end": 6.7,
            "count": 0
           },
           {
            "bin_start": 6.7,
            "bin_end": 6.8,
            "count": 0
           },
           {
            "bin_start": 6.8,
            "bin_end": 6.9,
            "count": 0
           },
           {
            "bin_start": 6.9,
            "bin_end": 7,
            "count": 0
           },
           {
            "bin_start": 7,
            "bin_end": 7.1,
            "count": 1
           },
           {
            "bin_start": 7.1,
            "bin_end": 7.2,
            "count": 0
           },
           {
            "bin_start": 7.2,
            "bin_end": 7.3,
            "count": 0
           },
           {
            "bin_start": 7.3,
            "bin_end": 7.4,
            "count": 0
           },
           {
            "bin_start": 7.4,
            "bin_end": 7.5,
            "count": 0
           }
          ]
         }
        },
        {
         "name": "B",
         "dtype": "float64",
         "stats": {
          "unique_count": 1,
          "nan_count": 2,
          "min": "2.0",
          "max": "2.0",
          "histogram": [
           {
            "bin_start": 1.5,
            "bin_end": 1.6,
            "count": 0
           },
           {
            "bin_start": 1.6,
            "bin_end": 1.7,
            "count": 0
           },
           {
            "bin_start": 1.7,
            "bin_end": 1.8,
            "count": 0
           },
           {
            "bin_start": 1.8,
            "bin_end": 1.9,
            "count": 0
           },
           {
            "bin_start": 1.9,
            "bin_end": 2,
            "count": 0
           },
           {
            "bin_start": 2,
            "bin_end": 2.1,
            "count": 1
           },
           {
            "bin_start": 2.1,
            "bin_end": 2.2,
            "count": 0
           },
           {
            "bin_start": 2.2,
            "bin_end": 2.3,
            "count": 0
           },
           {
            "bin_start": 2.3,
            "bin_end": 2.4,
            "count": 0
           },
           {
            "bin_start": 2.4,
            "bin_end": 2.5,
            "count": 0
           }
          ]
         }
        },
        {
         "name": "C",
         "dtype": "float64",
         "stats": {
          "unique_count": 1,
          "nan_count": 2,
          "min": "6.0",
          "max": "6.0",
          "histogram": [
           {
            "bin_start": 5.5,
            "bin_end": 5.6,
            "count": 0
           },
           {
            "bin_start": 5.6,
            "bin_end": 5.7,
            "count": 0
           },
           {
            "bin_start": 5.7,
            "bin_end": 5.8,
            "count": 0
           },
           {
            "bin_start": 5.8,
            "bin_end": 5.9,
            "count": 0
           },
           {
            "bin_start": 5.9,
            "bin_end": 6,
            "count": 0
           },
           {
            "bin_start": 6,
            "bin_end": 6.1,
            "count": 1
           },
           {
            "bin_start": 6.1,
            "bin_end": 6.2,
            "count": 0
           },
           {
            "bin_start": 6.2,
            "bin_end": 6.3,
            "count": 0
           },
           {
            "bin_start": 6.3,
            "bin_end": 6.4,
            "count": 0
           },
           {
            "bin_start": 6.4,
            "bin_end": 6.5,
            "count": 0
           }
          ]
         }
        },
        {
         "name": "_deepnote_index_column",
         "dtype": "object"
        }
       ],
       "rows_top": [
        {
         "A": 7,
         "B": "nan",
         "C": "nan",
         "_deepnote_index_column": "x"
        },
        {
         "A": "nan",
         "B": 2,
         "C": "nan",
         "_deepnote_index_column": "y"
        },
        {
         "A": "nan",
         "B": "nan",
         "C": 6,
         "_deepnote_index_column": "z"
        }
       ],
       "rows_bottom": null
      },
      "text/plain": "     A    B    C\nx  7.0  NaN  NaN\ny  NaN  2.0  NaN\nz  NaN  NaN  6.0",
      "text/html": "<div>\n<style scoped>\n    .dataframe tbody tr th:only-of-type {\n        vertical-align: middle;\n    }\n\n    .dataframe tbody tr th {\n        vertical-align: top;\n    }\n\n    .dataframe thead th {\n        text-align: right;\n    }\n</style>\n<table border=\"1\" class=\"dataframe\">\n  <thead>\n    <tr style=\"text-align: right;\">\n      <th></th>\n      <th>A</th>\n      <th>B</th>\n      <th>C</th>\n    </tr>\n  </thead>\n  <tbody>\n    <tr>\n      <th>x</th>\n      <td>7.0</td>\n      <td>NaN</td>\n      <td>NaN</td>\n    </tr>\n    <tr>\n      <th>y</th>\n      <td>NaN</td>\n      <td>2.0</td>\n      <td>NaN</td>\n    </tr>\n    <tr>\n      <th>z</th>\n      <td>NaN</td>\n      <td>NaN</td>\n      <td>6.0</td>\n    </tr>\n  </tbody>\n</table>\n</div>"
     },
     "metadata": {}
    }
   ]
  },
  {
   "cell_type": "code",
   "metadata": {
    "tags": [],
    "cell_id": "00010-53c932bf-9c3a-436d-87d9-ac4746a559f5",
    "deepnote_to_be_reexecuted": false,
    "source_hash": "54b52b0",
    "execution_start": 1626401654588,
    "execution_millis": 6,
    "deepnote_cell_type": "code"
   },
   "source": "df.agg(\"mean\",axis=\"columns\")",
   "execution_count": null,
   "outputs": [
    {
     "output_type": "execute_result",
     "execution_count": 9,
     "data": {
      "text/plain": "0    2.5\n1    5.0\n2    8.0\n3    NaN\ndtype: float64"
     },
     "metadata": {}
    }
   ]
  },
  {
   "cell_type": "code",
   "metadata": {
    "tags": [],
    "cell_id": "00011-f62f8482-a5c6-4837-9fd1-343b406c678b",
    "deepnote_to_be_reexecuted": false,
    "source_hash": "24f52a99",
    "execution_start": 1626401654588,
    "execution_millis": 2216,
    "deepnote_cell_type": "code"
   },
   "source": "import seaborn as sns\nplanets = sns.load_dataset('planets')\nplanets",
   "execution_count": null,
   "outputs": [
    {
     "output_type": "execute_result",
     "execution_count": 10,
     "data": {
      "application/vnd.deepnote.dataframe.v2+json": {
       "row_count": 1035,
       "column_count": 6,
       "columns": [
        {
         "name": "method",
         "dtype": "object",
         "stats": {
          "unique_count": 10,
          "nan_count": 0,
          "categories": [
           {
            "name": "Radial Velocity",
            "count": 553
           },
           {
            "name": "Transit",
            "count": 397
           },
           {
            "name": "8 others",
            "count": 85
           }
          ]
         }
        },
        {
         "name": "number",
         "dtype": "int64",
         "stats": {
          "unique_count": 7,
          "nan_count": 0,
          "min": "1",
          "max": "7",
          "histogram": [
           {
            "bin_start": 1,
            "bin_end": 1.6,
            "count": 595
           },
           {
            "bin_start": 1.6,
            "bin_end": 2.2,
            "count": 259
           },
           {
            "bin_start": 2.2,
            "bin_end": 2.8,
            "count": 0
           },
           {
            "bin_start": 2.8,
            "bin_end": 3.4,
            "count": 88
           },
           {
            "bin_start": 3.4,
            "bin_end": 4,
            "count": 0
           },
           {
            "bin_start": 4,
            "bin_end": 4.6,
            "count": 32
           },
           {
            "bin_start": 4.6,
            "bin_end": 5.2,
            "count": 30
           },
           {
            "bin_start": 5.2,
            "bin_end": 5.8,
            "count": 0
           },
           {
            "bin_start": 5.8,
            "bin_end": 6.3999999999999995,
            "count": 24
           },
           {
            "bin_start": 6.3999999999999995,
            "bin_end": 7,
            "count": 7
           }
          ]
         }
        },
        {
         "name": "orbital_period",
         "dtype": "float64",
         "stats": {
          "unique_count": 988,
          "nan_count": 43,
          "min": "0.09070629",
          "max": "730000.0",
          "histogram": [
           {
            "bin_start": 0.09070629,
            "bin_end": 73000.081635661,
            "count": 989
           },
           {
            "bin_start": 73000.081635661,
            "bin_end": 146000.07256503202,
            "count": 0
           },
           {
            "bin_start": 146000.07256503202,
            "bin_end": 219000.06349440303,
            "count": 1
           },
           {
            "bin_start": 219000.06349440303,
            "bin_end": 292000.054423774,
            "count": 0
           },
           {
            "bin_start": 292000.054423774,
            "bin_end": 365000.045353145,
            "count": 1
           },
           {
            "bin_start": 365000.045353145,
            "bin_end": 438000.036282516,
            "count": 0
           },
           {
            "bin_start": 438000.036282516,
            "bin_end": 511000.02721188706,
            "count": 0
           },
           {
            "bin_start": 511000.02721188706,
            "bin_end": 584000.018141258,
            "count": 0
           },
           {
            "bin_start": 584000.018141258,
            "bin_end": 657000.009070629,
            "count": 0
           },
           {
            "bin_start": 657000.009070629,
            "bin_end": 730000,
            "count": 1
           }
          ]
         }
        },
        {
         "name": "mass",
         "dtype": "float64",
         "stats": {
          "unique_count": 381,
          "nan_count": 522,
          "min": "0.0036",
          "max": "25.0",
          "histogram": [
           {
            "bin_start": 0.0036,
            "bin_end": 2.5032400000000004,
            "count": 358
           },
           {
            "bin_start": 2.5032400000000004,
            "bin_end": 5.00288,
            "count": 70
           },
           {
            "bin_start": 5.00288,
            "bin_end": 7.5025200000000005,
            "count": 34
           },
           {
            "bin_start": 7.5025200000000005,
            "bin_end": 10.002160000000002,
            "count": 21
           },
           {
            "bin_start": 10.002160000000002,
            "bin_end": 12.501800000000001,
            "count": 12
           },
           {
            "bin_start": 12.501800000000001,
            "bin_end": 15.001440000000002,
            "count": 7
           },
           {
            "bin_start": 15.001440000000002,
            "bin_end": 17.50108,
            "count": 3
           },
           {
            "bin_start": 17.50108,
            "bin_end": 20.00072,
            "count": 5
           },
           {
            "bin_start": 20.00072,
            "bin_end": 22.50036,
            "count": 2
           },
           {
            "bin_start": 22.50036,
            "bin_end": 25,
            "count": 1
           }
          ]
         }
        },
        {
         "name": "distance",
         "dtype": "float64",
         "stats": {
          "unique_count": 552,
          "nan_count": 227,
          "min": "1.35",
          "max": "8500.0",
          "histogram": [
           {
            "bin_start": 1.35,
            "bin_end": 851.215,
            "count": 753
           },
           {
            "bin_start": 851.215,
            "bin_end": 1701.08,
            "count": 33
           },
           {
            "bin_start": 1701.08,
            "bin_end": 2550.945,
            "count": 10
           },
           {
            "bin_start": 2550.945,
            "bin_end": 3400.81,
            "count": 4
           },
           {
            "bin_start": 3400.81,
            "bin_end": 4250.675,
            "count": 3
           },
           {
            "bin_start": 4250.675,
            "bin_end": 5100.540000000001,
            "count": 1
           },
           {
            "bin_start": 5100.540000000001,
            "bin_end": 5950.405000000001,
            "count": 0
           },
           {
            "bin_start": 5950.405000000001,
            "bin_end": 6800.27,
            "count": 0
           },
           {
            "bin_start": 6800.27,
            "bin_end": 7650.135,
            "count": 1
           },
           {
            "bin_start": 7650.135,
            "bin_end": 8500,
            "count": 3
           }
          ]
         }
        },
        {
         "name": "year",
         "dtype": "int64",
         "stats": {
          "unique_count": 23,
          "nan_count": 0,
          "min": "1989",
          "max": "2014",
          "histogram": [
           {
            "bin_start": 1989,
            "bin_end": 1991.5,
            "count": 1
           },
           {
            "bin_start": 1991.5,
            "bin_end": 1994,
            "count": 2
           },
           {
            "bin_start": 1994,
            "bin_end": 1996.5,
            "count": 8
           },
           {
            "bin_start": 1996.5,
            "bin_end": 1999,
            "count": 6
           },
           {
            "bin_start": 1999,
            "bin_end": 2001.5,
            "count": 43
           },
           {
            "bin_start": 2001.5,
            "bin_end": 2004,
            "count": 57
           },
           {
            "bin_start": 2004,
            "bin_end": 2006.5,
            "count": 96
           },
           {
            "bin_start": 2006.5,
            "bin_end": 2009,
            "count": 127
           },
           {
            "bin_start": 2009,
            "bin_end": 2011.5,
            "count": 385
           },
           {
            "bin_start": 2011.5,
            "bin_end": 2014,
            "count": 310
           }
          ]
         }
        },
        {
         "name": "_deepnote_index_column",
         "dtype": "int64"
        }
       ],
       "rows_top": [
        {
         "method": "Radial Velocity",
         "number": 1,
         "orbital_period": 269.3,
         "mass": 7.1,
         "distance": 77.4,
         "year": 2006,
         "_deepnote_index_column": 0
        },
        {
         "method": "Radial Velocity",
         "number": 1,
         "orbital_period": 874.774,
         "mass": 2.21,
         "distance": 56.95,
         "year": 2008,
         "_deepnote_index_column": 1
        },
        {
         "method": "Radial Velocity",
         "number": 1,
         "orbital_period": 763,
         "mass": 2.6,
         "distance": 19.84,
         "year": 2011,
         "_deepnote_index_column": 2
        },
        {
         "method": "Radial Velocity",
         "number": 1,
         "orbital_period": 326.03,
         "mass": 19.4,
         "distance": 110.62,
         "year": 2007,
         "_deepnote_index_column": 3
        },
        {
         "method": "Radial Velocity",
         "number": 1,
         "orbital_period": 516.22,
         "mass": 10.5,
         "distance": 119.47,
         "year": 2009,
         "_deepnote_index_column": 4
        },
        {
         "method": "Radial Velocity",
         "number": 1,
         "orbital_period": 185.84,
         "mass": 4.8,
         "distance": 76.39,
         "year": 2008,
         "_deepnote_index_column": 5
        },
        {
         "method": "Radial Velocity",
         "number": 1,
         "orbital_period": 1773.4,
         "mass": 4.64,
         "distance": 18.15,
         "year": 2002,
         "_deepnote_index_column": 6
        },
        {
         "method": "Radial Velocity",
         "number": 1,
         "orbital_period": 798.5,
         "mass": "nan",
         "distance": 21.41,
         "year": 1996,
         "_deepnote_index_column": 7
        },
        {
         "method": "Radial Velocity",
         "number": 1,
         "orbital_period": 993.3,
         "mass": 10.3,
         "distance": 73.1,
         "year": 2008,
         "_deepnote_index_column": 8
        },
        {
         "method": "Radial Velocity",
         "number": 2,
         "orbital_period": 452.8,
         "mass": 1.99,
         "distance": 74.79,
         "year": 2010,
         "_deepnote_index_column": 9
        },
        {
         "method": "Radial Velocity",
         "number": 2,
         "orbital_period": 883,
         "mass": 0.86,
         "distance": 74.79,
         "year": 2010,
         "_deepnote_index_column": 10
        },
        {
         "method": "Radial Velocity",
         "number": 1,
         "orbital_period": 335.1,
         "mass": 9.88,
         "distance": 39.43,
         "year": 2009,
         "_deepnote_index_column": 11
        },
        {
         "method": "Radial Velocity",
         "number": 1,
         "orbital_period": 479.1,
         "mass": 3.88,
         "distance": 97.28,
         "year": 2008,
         "_deepnote_index_column": 12
        },
        {
         "method": "Radial Velocity",
         "number": 3,
         "orbital_period": 1078,
         "mass": 2.53,
         "distance": 14.08,
         "year": 1996,
         "_deepnote_index_column": 13
        },
        {
         "method": "Radial Velocity",
         "number": 3,
         "orbital_period": 2391,
         "mass": 0.54,
         "distance": 14.08,
         "year": 2001,
         "_deepnote_index_column": 14
        },
        {
         "method": "Radial Velocity",
         "number": 3,
         "orbital_period": 14002,
         "mass": 1.64,
         "distance": 14.08,
         "year": 2009,
         "_deepnote_index_column": 15
        },
        {
         "method": "Radial Velocity",
         "number": 1,
         "orbital_period": 4.230785,
         "mass": 0.472,
         "distance": 15.36,
         "year": 1995,
         "_deepnote_index_column": 16
        },
        {
         "method": "Radial Velocity",
         "number": 5,
         "orbital_period": 14.651,
         "mass": 0.8,
         "distance": 12.53,
         "year": 1996,
         "_deepnote_index_column": 17
        },
        {
         "method": "Radial Velocity",
         "number": 5,
         "orbital_period": 44.38,
         "mass": 0.165,
         "distance": 12.53,
         "year": 2004,
         "_deepnote_index_column": 18
        },
        {
         "method": "Radial Velocity",
         "number": 5,
         "orbital_period": 4909,
         "mass": 3.53,
         "distance": 12.53,
         "year": 2002,
         "_deepnote_index_column": 19
        },
        {
         "method": "Radial Velocity",
         "number": 5,
         "orbital_period": 0.73654,
         "mass": "nan",
         "distance": 12.53,
         "year": 2011,
         "_deepnote_index_column": 20
        },
        {
         "method": "Radial Velocity",
         "number": 5,
         "orbital_period": 261.2,
         "mass": 0.172,
         "distance": 12.53,
         "year": 2007,
         "_deepnote_index_column": 21
        },
        {
         "method": "Radial Velocity",
         "number": 3,
         "orbital_period": 4.215,
         "mass": 0.016,
         "distance": 8.52,
         "year": 2009,
         "_deepnote_index_column": 22
        },
        {
         "method": "Radial Velocity",
         "number": 3,
         "orbital_period": 38.021,
         "mass": 0.057,
         "distance": 8.52,
         "year": 2009,
         "_deepnote_index_column": 23
        },
        {
         "method": "Radial Velocity",
         "number": 3,
         "orbital_period": 123.01,
         "mass": 0.072,
         "distance": 8.52,
         "year": 2009,
         "_deepnote_index_column": 24
        },
        {
         "method": "Radial Velocity",
         "number": 1,
         "orbital_period": 116.6884,
         "mass": "nan",
         "distance": 18.11,
         "year": 1996,
         "_deepnote_index_column": 25
        },
        {
         "method": "Radial Velocity",
         "number": 1,
         "orbital_period": 691.9,
         "mass": "nan",
         "distance": 81.5,
         "year": 2012,
         "_deepnote_index_column": 26
        },
        {
         "method": "Radial Velocity",
         "number": 1,
         "orbital_period": 952.7,
         "mass": 5.3,
         "distance": 97.18,
         "year": 2008,
         "_deepnote_index_column": 27
        },
        {
         "method": "Radial Velocity",
         "number": 1,
         "orbital_period": 181.4,
         "mass": 3.2,
         "distance": 45.52,
         "year": 2013,
         "_deepnote_index_column": 28
        },
        {
         "method": "Imaging",
         "number": 1,
         "orbital_period": "nan",
         "mass": "nan",
         "distance": 45.52,
         "year": 2005,
         "_deepnote_index_column": 29
        },
        {
         "method": "Imaging",
         "number": 1,
         "orbital_period": "nan",
         "mass": "nan",
         "distance": 165,
         "year": 2007,
         "_deepnote_index_column": 30
        },
        {
         "method": "Imaging",
         "number": 1,
         "orbital_period": "nan",
         "mass": "nan",
         "distance": 140,
         "year": 2004,
         "_deepnote_index_column": 31
        },
        {
         "method": "Eclipse Timing Variations",
         "number": 1,
         "orbital_period": 10220,
         "mass": 6.05,
         "distance": "nan",
         "year": 2009,
         "_deepnote_index_column": 32
        },
        {
         "method": "Imaging",
         "number": 1,
         "orbital_period": "nan",
         "mass": "nan",
         "distance": "nan",
         "year": 2008,
         "_deepnote_index_column": 33
        },
        {
         "method": "Imaging",
         "number": 1,
         "orbital_period": "nan",
         "mass": "nan",
         "distance": 145,
         "year": 2013,
         "_deepnote_index_column": 34
        },
        {
         "method": "Imaging",
         "number": 1,
         "orbital_period": "nan",
         "mass": "nan",
         "distance": 139,
         "year": 2004,
         "_deepnote_index_column": 35
        },
        {
         "method": "Imaging",
         "number": 1,
         "orbital_period": "nan",
         "mass": "nan",
         "distance": 18.39,
         "year": 2006,
         "_deepnote_index_column": 36
        },
        {
         "method": "Eclipse Timing Variations",
         "number": 2,
         "orbital_period": 5767,
         "mass": "nan",
         "distance": 130.72,
         "year": 2008,
         "_deepnote_index_column": 37
        },
        {
         "method": "Eclipse Timing Variations",
         "number": 2,
         "orbital_period": 3321,
         "mass": "nan",
         "distance": 130.72,
         "year": 2008,
         "_deepnote_index_column": 38
        },
        {
         "method": "Eclipse Timing Variations",
         "number": 2,
         "orbital_period": 5573.55,
         "mass": "nan",
         "distance": 500,
         "year": 2010,
         "_deepnote_index_column": 39
        },
        {
         "method": "Eclipse Timing Variations",
         "number": 2,
         "orbital_period": 2883.5,
         "mass": "nan",
         "distance": 500,
         "year": 2010,
         "_deepnote_index_column": 40
        },
        {
         "method": "Eclipse Timing Variations",
         "number": 1,
         "orbital_period": 2900,
         "mass": "nan",
         "distance": "nan",
         "year": 2011,
         "_deepnote_index_column": 41
        },
        {
         "method": "Eclipse Timing Variations",
         "number": 1,
         "orbital_period": 4343.5,
         "mass": 4.2,
         "distance": "nan",
         "year": 2012,
         "_deepnote_index_column": 42
        },
        {
         "method": "Eclipse Timing Variations",
         "number": 2,
         "orbital_period": 5840,
         "mass": "nan",
         "distance": "nan",
         "year": 2011,
         "_deepnote_index_column": 43
        },
        {
         "method": "Eclipse Timing Variations",
         "number": 2,
         "orbital_period": 1916.25,
         "mass": "nan",
         "distance": "nan",
         "year": 2011,
         "_deepnote_index_column": 44
        },
        {
         "method": "Radial Velocity",
         "number": 1,
         "orbital_period": 380.8,
         "mass": 1.8,
         "distance": 20.21,
         "year": 2010,
         "_deepnote_index_column": 45
        },
        {
         "method": "Radial Velocity",
         "number": 1,
         "orbital_period": 3.2357,
         "mass": 0.0036,
         "distance": 1.35,
         "year": 2012,
         "_deepnote_index_column": 46
        },
        {
         "method": "Imaging",
         "number": 1,
         "orbital_period": 6000,
         "mass": "nan",
         "distance": 19.28,
         "year": 2008,
         "_deepnote_index_column": 47
        },
        {
         "method": "Radial Velocity",
         "number": 1,
         "orbital_period": 2502,
         "mass": 1.55,
         "distance": 3.22,
         "year": 2000,
         "_deepnote_index_column": 48
        },
        {
         "method": "Radial Velocity",
         "number": 1,
         "orbital_period": 417.9,
         "mass": "nan",
         "distance": 70.42,
         "year": 2012,
         "_deepnote_index_column": 49
        },
        {
         "method": "Radial Velocity",
         "number": 1,
         "orbital_period": 594.9,
         "mass": 7.6,
         "distance": 47.53,
         "year": 2006,
         "_deepnote_index_column": 50
        },
        {
         "method": "Radial Velocity",
         "number": 1,
         "orbital_period": 428.5,
         "mass": 8.78,
         "distance": 38.52,
         "year": 2009,
         "_deepnote_index_column": 51
        },
        {
         "method": "Radial Velocity",
         "number": 1,
         "orbital_period": 903.3,
         "mass": 1.85,
         "distance": 13.79,
         "year": 2003,
         "_deepnote_index_column": 52
        },
        {
         "method": "Radial Velocity",
         "number": 1,
         "orbital_period": 1251,
         "mass": "nan",
         "distance": 31.12,
         "year": 2007,
         "_deepnote_index_column": 53
        },
        {
         "method": "Imaging",
         "number": 1,
         "orbital_period": "nan",
         "mass": "nan",
         "distance": 52.03,
         "year": 2012,
         "_deepnote_index_column": 54
        },
        {
         "method": "Radial Velocity",
         "number": 1,
         "orbital_period": 136.75,
         "mass": 2.8,
         "distance": 62.66,
         "year": 2007,
         "_deepnote_index_column": 55
        },
        {
         "method": "Radial Velocity",
         "number": 2,
         "orbital_period": 530.32,
         "mass": "nan",
         "distance": 46.84,
         "year": 2012,
         "_deepnote_index_column": 56
        },
        {
         "method": "Radial Velocity",
         "number": 2,
         "orbital_period": 3186,
         "mass": "nan",
         "distance": 46.84,
         "year": 2012,
         "_deepnote_index_column": 57
        },
        {
         "method": "Radial Velocity",
         "number": 1,
         "orbital_period": 277.02,
         "mass": 1.7,
         "distance": 80.64,
         "year": 2013,
         "_deepnote_index_column": 58
        },
        {
         "method": "Radial Velocity",
         "number": 1,
         "orbital_period": 187.83,
         "mass": "nan",
         "distance": 84.03,
         "year": 2012,
         "_deepnote_index_column": 59
        },
        {
         "method": "Radial Velocity",
         "number": 1,
         "orbital_period": 1630,
         "mass": "nan",
         "distance": 56.31,
         "year": 2012,
         "_deepnote_index_column": 60
        },
        {
         "method": "Radial Velocity",
         "number": 1,
         "orbital_period": 39.845,
         "mass": 1.04,
         "distance": 17.43,
         "year": 1997,
         "_deepnote_index_column": 61
        },
        {
         "method": "Radial Velocity",
         "number": 1,
         "orbital_period": 3.3135,
         "mass": 3.9,
         "distance": 15.6,
         "year": 1996,
         "_deepnote_index_column": 62
        },
        {
         "method": "Radial Velocity",
         "number": 1,
         "orbital_period": 305.5,
         "mass": 20.6,
         "distance": 92.51,
         "year": 2013,
         "_deepnote_index_column": 63
        },
        {
         "method": "Radial Velocity",
         "number": 4,
         "orbital_period": 4.617033,
         "mass": 0.6876,
         "distance": 13.47,
         "year": 1996,
         "_deepnote_index_column": 64
        },
        {
         "method": "Radial Velocity",
         "number": 4,
         "orbital_period": 241.258,
         "mass": 1.981,
         "distance": 13.47,
         "year": 1999,
         "_deepnote_index_column": 65
        },
        {
         "method": "Radial Velocity",
         "number": 4,
         "orbital_period": 1276.46,
         "mass": 4.132,
         "distance": 13.47,
         "year": 1999,
         "_deepnote_index_column": 66
        },
        {
         "method": "Radial Velocity",
         "number": 4,
         "orbital_period": 3848.86,
         "mass": 1.059,
         "distance": 13.47,
         "year": 2010,
         "_deepnote_index_column": 67
        },
        {
         "method": "Imaging",
         "number": 1,
         "orbital_period": 318280,
         "mass": "nan",
         "distance": 7.69,
         "year": 2008,
         "_deepnote_index_column": 68
        },
        {
         "method": "Imaging",
         "number": 1,
         "orbital_period": "nan",
         "mass": "nan",
         "distance": 145,
         "year": 2008,
         "_deepnote_index_column": 69
        },
        {
         "method": "Imaging",
         "number": 1,
         "orbital_period": "nan",
         "mass": "nan",
         "distance": 36,
         "year": 2013,
         "_deepnote_index_column": 70
        },
        {
         "method": "Imaging",
         "number": 1,
         "orbital_period": "nan",
         "mass": "nan",
         "distance": 140,
         "year": 2010,
         "_deepnote_index_column": 71
        },
        {
         "method": "Imaging",
         "number": 1,
         "orbital_period": 4639.15,
         "mass": "nan",
         "distance": 12.21,
         "year": 2009,
         "_deepnote_index_column": 72
        },
        {
         "method": "Imaging",
         "number": 1,
         "orbital_period": "nan",
         "mass": "nan",
         "distance": 52.4,
         "year": 2004,
         "_deepnote_index_column": 73
        },
        {
         "method": "Imaging",
         "number": 1,
         "orbital_period": 7336.5,
         "mass": "nan",
         "distance": 25,
         "year": 2009,
         "_deepnote_index_column": 74
        },
        {
         "method": "Imaging",
         "number": 1,
         "orbital_period": 8679.7,
         "mass": "nan",
         "distance": 26.67,
         "year": 2009,
         "_deepnote_index_column": 75
        },
        {
         "method": "Radial Velocity",
         "number": 1,
         "orbital_period": 655.6,
         "mass": 5.1,
         "distance": 37.54,
         "year": 2008,
         "_deepnote_index_column": 76
        },
        {
         "method": "Radial Velocity",
         "number": 1,
         "orbital_period": 714.3,
         "mass": 10.6,
         "distance": "nan",
         "year": 2007,
         "_deepnote_index_column": 77
        },
        {
         "method": "Radial Velocity",
         "number": 1,
         "orbital_period": 3.48777,
         "mass": "nan",
         "distance": 80,
         "year": 2000,
         "_deepnote_index_column": 78
        },
        {
         "method": "Radial Velocity",
         "number": 2,
         "orbital_period": 5.6,
         "mass": 0.045,
         "distance": 42.09,
         "year": 2009,
         "_deepnote_index_column": 79
        },
        {
         "method": "Radial Velocity",
         "number": 2,
         "orbital_period": 237.6,
         "mass": 0.33,
         "distance": 42.09,
         "year": 2009,
         "_deepnote_index_column": 80
        },
        {
         "method": "Radial Velocity",
         "number": 2,
         "orbital_period": 3.8728,
         "mass": 0.027,
         "distance": 20.1,
         "year": 2013,
         "_deepnote_index_column": 81
        },
        {
         "method": "Radial Velocity",
         "number": 2,
         "orbital_period": 125.94,
         "mass": 0.17,
         "distance": 20.1,
         "year": 2013,
         "_deepnote_index_column": 82
        }
       ],
       "rows_bottom": [
        {
         "method": "Transit",
         "number": 1,
         "orbital_period": 1.796,
         "mass": "nan",
         "distance": 8500,
         "year": 2006,
         "_deepnote_index_column": 952
        },
        {
         "method": "Transit",
         "number": 1,
         "orbital_period": 3.030065,
         "mass": "nan",
         "distance": 152.3,
         "year": 2004,
         "_deepnote_index_column": 953
        },
        {
         "method": "Transit",
         "number": 1,
         "orbital_period": 1.30618581,
         "mass": "nan",
         "distance": 228,
         "year": 2007,
         "_deepnote_index_column": 954
        },
        {
         "method": "Transit",
         "number": 1,
         "orbital_period": 3.553945,
         "mass": "nan",
         "distance": 492,
         "year": 2007,
         "_deepnote_index_column": 955
        },
        {
         "method": "Transit",
         "number": 1,
         "orbital_period": 1.4822446,
         "mass": "nan",
         "distance": 360,
         "year": 2011,
         "_deepnote_index_column": 956
        },
        {
         "method": "Imaging",
         "number": 1,
         "orbital_period": "nan",
         "mass": "nan",
         "distance": "nan",
         "year": 2008,
         "_deepnote_index_column": 957
        },
        {
         "method": "Pulsation Timing Variations",
         "number": 1,
         "orbital_period": 1170,
         "mass": "nan",
         "distance": "nan",
         "year": 2007,
         "_deepnote_index_column": 958
        },
        {
         "method": "Transit",
         "number": 1,
         "orbital_period": 2.5199449,
         "mass": "nan",
         "distance": 408,
         "year": 2007,
         "_deepnote_index_column": 959
        },
        {
         "method": "Transit",
         "number": 1,
         "orbital_period": 2.152226,
         "mass": "nan",
         "distance": 147,
         "year": 2007,
         "_deepnote_index_column": 960
        },
        {
         "method": "Transit",
         "number": 1,
         "orbital_period": 1.846835,
         "mass": "nan",
         "distance": 220,
         "year": 2007,
         "_deepnote_index_column": 961
        },
        {
         "method": "Transit",
         "number": 1,
         "orbital_period": 1.33823187,
         "mass": "nan",
         "distance": 300,
         "year": 2007,
         "_deepnote_index_column": 962
        },
        {
         "method": "Transit",
         "number": 1,
         "orbital_period": 1.62843142,
         "mass": "nan",
         "distance": 300,
         "year": 2008,
         "_deepnote_index_column": 963
        },
        {
         "method": "Transit",
         "number": 1,
         "orbital_period": 3.361006,
         "mass": "nan",
         "distance": "nan",
         "year": 2009,
         "_deepnote_index_column": 964
        },
        {
         "method": "Transit",
         "number": 1,
         "orbital_period": 4.954658,
         "mass": "nan",
         "distance": 140,
         "year": 2008,
         "_deepnote_index_column": 965
        },
        {
         "method": "Transit",
         "number": 1,
         "orbital_period": 8.158715,
         "mass": "nan",
         "distance": 87,
         "year": 2010,
         "_deepnote_index_column": 966
        },
        {
         "method": "Transit",
         "number": 1,
         "orbital_period": 3.0927616,
         "mass": "nan",
         "distance": 90,
         "year": 2008,
         "_deepnote_index_column": 967
        },
        {
         "method": "Transit",
         "number": 1,
         "orbital_period": 3.7224747,
         "mass": "nan",
         "distance": 121.7,
         "year": 2008,
         "_deepnote_index_column": 968
        },
        {
         "method": "Transit",
         "number": 1,
         "orbital_period": 1.091423,
         "mass": "nan",
         "distance": "nan",
         "year": 2008,
         "_deepnote_index_column": 969
        },
        {
         "method": "Transit",
         "number": 1,
         "orbital_period": 4.353011,
         "mass": "nan",
         "distance": 155,
         "year": 2009,
         "_deepnote_index_column": 970
        },
        {
         "method": "Transit",
         "number": 1,
         "orbital_period": 2.243752,
         "mass": "nan",
         "distance": 160,
         "year": 2008,
         "_deepnote_index_column": 971
        },
        {
         "method": "Transit",
         "number": 1,
         "orbital_period": 3.7520656,
         "mass": "nan",
         "distance": "nan",
         "year": 2009,
         "_deepnote_index_column": 972
        },
        {
         "method": "Transit",
         "number": 1,
         "orbital_period": 3.1186009,
         "mass": "nan",
         "distance": "nan",
         "year": 2009,
         "_deepnote_index_column": 973
        },
        {
         "method": "Transit",
         "number": 1,
         "orbital_period": 3.7354417,
         "mass": "nan",
         "distance": 400,
         "year": 2009,
         "_deepnote_index_column": 974
        },
        {
         "method": "Transit",
         "number": 1,
         "orbital_period": 0.94145299,
         "mass": "nan",
         "distance": 105.49,
         "year": 2009,
         "_deepnote_index_column": 975
        },
        {
         "method": "Transit",
         "number": 1,
         "orbital_period": 0.78884,
         "mass": "nan",
         "distance": 250,
         "year": 2009,
         "_deepnote_index_column": 976
        },
        {
         "method": "Transit",
         "number": 1,
         "orbital_period": 4.322482,
         "mass": "nan",
         "distance": 242,
         "year": 2010,
         "_deepnote_index_column": 977
        },
        {
         "method": "Transit",
         "number": 1,
         "orbital_period": 3.5327313,
         "mass": "nan",
         "distance": 300,
         "year": 2010,
         "_deepnote_index_column": 978
        },
        {
         "method": "Transit",
         "number": 1,
         "orbital_period": 2.9444256,
         "mass": "nan",
         "distance": "nan",
         "year": 2010,
         "_deepnote_index_column": 979
        },
        {
         "method": "Transit",
         "number": 1,
         "orbital_period": 2.34121242,
         "mass": "nan",
         "distance": "nan",
         "year": 2010,
         "_deepnote_index_column": 980
        },
        {
         "method": "Transit",
         "number": 1,
         "orbital_period": 3.764825,
         "mass": "nan",
         "distance": "nan",
         "year": 2010,
         "_deepnote_index_column": 981
        },
        {
         "method": "Transit",
         "number": 1,
         "orbital_period": 2.7566004,
         "mass": "nan",
         "distance": 250,
         "year": 2010,
         "_deepnote_index_column": 982
        },
        {
         "method": "Transit",
         "number": 1,
         "orbital_period": 3.408821,
         "mass": "nan",
         "distance": "nan",
         "year": 2010,
         "_deepnote_index_column": 983
        },
        {
         "method": "Transit",
         "number": 1,
         "orbital_period": 3.922727,
         "mass": "nan",
         "distance": 70,
         "year": 2010,
         "_deepnote_index_column": 984
        },
        {
         "method": "Transit",
         "number": 1,
         "orbital_period": 3.4059096,
         "mass": "nan",
         "distance": 360,
         "year": 2010,
         "_deepnote_index_column": 985
        },
        {
         "method": "Transit",
         "number": 1,
         "orbital_period": 2.718659,
         "mass": "nan",
         "distance": "nan",
         "year": 2010,
         "_deepnote_index_column": 986
        },
        {
         "method": "Transit",
         "number": 1,
         "orbital_period": 1.2198669,
         "mass": "nan",
         "distance": 116.14,
         "year": 2010,
         "_deepnote_index_column": 987
        },
        {
         "method": "Transit",
         "number": 1,
         "orbital_period": 4.3176782,
         "mass": "nan",
         "distance": 120,
         "year": 2010,
         "_deepnote_index_column": 988
        },
        {
         "method": "Transit",
         "number": 1,
         "orbital_period": 3.161575,
         "mass": "nan",
         "distance": "nan",
         "year": 2011,
         "_deepnote_index_column": 989
        },
        {
         "method": "Transit",
         "number": 1,
         "orbital_period": 1.5373653,
         "mass": "nan",
         "distance": 450,
         "year": 2011,
         "_deepnote_index_column": 990
        },
        {
         "method": "Transit",
         "number": 1,
         "orbital_period": 3.577469,
         "mass": "nan",
         "distance": 343,
         "year": 2010,
         "_deepnote_index_column": 991
        },
        {
         "method": "Transit",
         "number": 1,
         "orbital_period": 6.871815,
         "mass": "nan",
         "distance": 110,
         "year": 2010,
         "_deepnote_index_column": 992
        },
        {
         "method": "Transit",
         "number": 1,
         "orbital_period": 4.055259,
         "mass": "nan",
         "distance": 230,
         "year": 2011,
         "_deepnote_index_column": 993
        },
        {
         "method": "Transit",
         "number": 1,
         "orbital_period": 3.052401,
         "mass": "nan",
         "distance": 180,
         "year": 2010,
         "_deepnote_index_column": 994
        },
        {
         "method": "Transit",
         "number": 1,
         "orbital_period": 4.9816872,
         "mass": "nan",
         "distance": 160,
         "year": 2012,
         "_deepnote_index_column": 995
        },
        {
         "method": "Transit",
         "number": 1,
         "orbital_period": 0.813475,
         "mass": "nan",
         "distance": 80,
         "year": 2011,
         "_deepnote_index_column": 996
        },
        {
         "method": "Transit",
         "number": 1,
         "orbital_period": 2.4238039,
         "mass": "nan",
         "distance": "nan",
         "year": 2011,
         "_deepnote_index_column": 997
        },
        {
         "method": "Transit",
         "number": 1,
         "orbital_period": 3.1260876,
         "mass": "nan",
         "distance": "nan",
         "year": 2011,
         "_deepnote_index_column": 998
        },
        {
         "method": "Transit",
         "number": 1,
         "orbital_period": 1.43037,
         "mass": "nan",
         "distance": "nan",
         "year": 2011,
         "_deepnote_index_column": 999
        },
        {
         "method": "Transit",
         "number": 1,
         "orbital_period": 4.1591399,
         "mass": "nan",
         "distance": 200,
         "year": 2012,
         "_deepnote_index_column": 1000
        },
        {
         "method": "Transit",
         "number": 1,
         "orbital_period": 2.143634,
         "mass": "nan",
         "distance": "nan",
         "year": 2011,
         "_deepnote_index_column": 1001
        },
        {
         "method": "Transit",
         "number": 1,
         "orbital_period": 2.7817387,
         "mass": "nan",
         "distance": 170,
         "year": 2012,
         "_deepnote_index_column": 1002
        },
        {
         "method": "Transit",
         "number": 1,
         "orbital_period": 1.9550959,
         "mass": "nan",
         "distance": 230,
         "year": 2011,
         "_deepnote_index_column": 1003
        },
        {
         "method": "Transit",
         "number": 1,
         "orbital_period": 1.7497798,
         "mass": "nan",
         "distance": 140,
         "year": 2012,
         "_deepnote_index_column": 1004
        },
        {
         "method": "Transit",
         "number": 1,
         "orbital_period": 3.6936411,
         "mass": "nan",
         "distance": 200,
         "year": 2012,
         "_deepnote_index_column": 1005
        },
        {
         "method": "Transit",
         "number": 1,
         "orbital_period": 4.465633,
         "mass": "nan",
         "distance": 330,
         "year": 2012,
         "_deepnote_index_column": 1006
        },
        {
         "method": "Transit",
         "number": 1,
         "orbital_period": 4.617101,
         "mass": "nan",
         "distance": 255,
         "year": 2012,
         "_deepnote_index_column": 1007
        },
        {
         "method": "Transit",
         "number": 1,
         "orbital_period": 2.838971,
         "mass": "nan",
         "distance": 455,
         "year": 2012,
         "_deepnote_index_column": 1008
        },
        {
         "method": "Transit",
         "number": 1,
         "orbital_period": 5.01718,
         "mass": "nan",
         "distance": 300,
         "year": 2012,
         "_deepnote_index_column": 1009
        },
        {
         "method": "Transit",
         "number": 1,
         "orbital_period": 7.919585,
         "mass": "nan",
         "distance": 125,
         "year": 2012,
         "_deepnote_index_column": 1010
        },
        {
         "method": "Transit",
         "number": 1,
         "orbital_period": 4.3050011,
         "mass": "nan",
         "distance": 400,
         "year": 2012,
         "_deepnote_index_column": 1011
        },
        {
         "method": "Transit",
         "number": 1,
         "orbital_period": 3.8559,
         "mass": "nan",
         "distance": 480,
         "year": 2012,
         "_deepnote_index_column": 1012
        },
        {
         "method": "Transit",
         "number": 1,
         "orbital_period": 4.411953,
         "mass": "nan",
         "distance": 160,
         "year": 2012,
         "_deepnote_index_column": 1013
        },
        {
         "method": "Transit",
         "number": 1,
         "orbital_period": 4.37809,
         "mass": "nan",
         "distance": 330,
         "year": 2012,
         "_deepnote_index_column": 1014
        },
        {
         "method": "Transit",
         "number": 1,
         "orbital_period": 1.5732918,
         "mass": "nan",
         "distance": 350,
         "year": 2012,
         "_deepnote_index_column": 1015
        },
        {
         "method": "Transit",
         "number": 1,
         "orbital_period": 2.3114243,
         "mass": "nan",
         "distance": 310,
         "year": 2013,
         "_deepnote_index_column": 1016
        },
        {
         "method": "Transit",
         "number": 1,
         "orbital_period": 4.086052,
         "mass": "nan",
         "distance": 380,
         "year": 2012,
         "_deepnote_index_column": 1017
        },
        {
         "method": "Transit",
         "number": 1,
         "orbital_period": 4.61442,
         "mass": "nan",
         "distance": 225,
         "year": 2012,
         "_deepnote_index_column": 1018
        },
        {
         "method": "Transit",
         "number": 1,
         "orbital_period": 2.9036747,
         "mass": "nan",
         "distance": 345,
         "year": 2012,
         "_deepnote_index_column": 1019
        },
        {
         "method": "Transit",
         "number": 1,
         "orbital_period": 2.2167421,
         "mass": "nan",
         "distance": 340,
         "year": 2012,
         "_deepnote_index_column": 1020
        },
        {
         "method": "Transit",
         "number": 1,
         "orbital_period": 2.484193,
         "mass": "nan",
         "distance": 260,
         "year": 2013,
         "_deepnote_index_column": 1021
        },
        {
         "method": "Transit",
         "number": 1,
         "orbital_period": 1.3600309,
         "mass": "nan",
         "distance": 93,
         "year": 2012,
         "_deepnote_index_column": 1022
        },
        {
         "method": "Transit",
         "number": 1,
         "orbital_period": 2.17517632,
         "mass": "nan",
         "distance": 550,
         "year": 2012,
         "_deepnote_index_column": 1023
        },
        {
         "method": "Transit",
         "number": 1,
         "orbital_period": 3.6623866,
         "mass": "nan",
         "distance": 240,
         "year": 2012,
         "_deepnote_index_column": 1024
        },
        {
         "method": "Transit",
         "number": 1,
         "orbital_period": 3.0678504,
         "mass": "nan",
         "distance": 60,
         "year": 2012,
         "_deepnote_index_column": 1025
        },
        {
         "method": "Transit",
         "number": 1,
         "orbital_period": 0.925542,
         "mass": "nan",
         "distance": 470,
         "year": 2014,
         "_deepnote_index_column": 1026
        },
        {
         "method": "Imaging",
         "number": 1,
         "orbital_period": "nan",
         "mass": "nan",
         "distance": 19.2,
         "year": 2011,
         "_deepnote_index_column": 1027
        },
        {
         "method": "Transit",
         "number": 1,
         "orbital_period": 3.352057,
         "mass": "nan",
         "distance": 3200,
         "year": 2012,
         "_deepnote_index_column": 1028
        },
        {
         "method": "Imaging",
         "number": 1,
         "orbital_period": "nan",
         "mass": "nan",
         "distance": 10.1,
         "year": 2012,
         "_deepnote_index_column": 1029
        },
        {
         "method": "Transit",
         "number": 1,
         "orbital_period": 3.94150685,
         "mass": "nan",
         "distance": 172,
         "year": 2006,
         "_deepnote_index_column": 1030
        },
        {
         "method": "Transit",
         "number": 1,
         "orbital_period": 2.615864,
         "mass": "nan",
         "distance": 148,
         "year": 2007,
         "_deepnote_index_column": 1031
        },
        {
         "method": "Transit",
         "number": 1,
         "orbital_period": 3.1915239,
         "mass": "nan",
         "distance": 174,
         "year": 2007,
         "_deepnote_index_column": 1032
        },
        {
         "method": "Transit",
         "number": 1,
         "orbital_period": 4.1250828,
         "mass": "nan",
         "distance": 293,
         "year": 2008,
         "_deepnote_index_column": 1033
        },
        {
         "method": "Transit",
         "number": 1,
         "orbital_period": 4.187757,
         "mass": "nan",
         "distance": 260,
         "year": 2008,
         "_deepnote_index_column": 1034
        }
       ]
      },
      "text/plain": "               method  number  orbital_period   mass  distance  year\n0     Radial Velocity       1      269.300000   7.10     77.40  2006\n1     Radial Velocity       1      874.774000   2.21     56.95  2008\n2     Radial Velocity       1      763.000000   2.60     19.84  2011\n3     Radial Velocity       1      326.030000  19.40    110.62  2007\n4     Radial Velocity       1      516.220000  10.50    119.47  2009\n...               ...     ...             ...    ...       ...   ...\n1030          Transit       1        3.941507    NaN    172.00  2006\n1031          Transit       1        2.615864    NaN    148.00  2007\n1032          Transit       1        3.191524    NaN    174.00  2007\n1033          Transit       1        4.125083    NaN    293.00  2008\n1034          Transit       1        4.187757    NaN    260.00  2008\n\n[1035 rows x 6 columns]",
      "text/html": "<div>\n<style scoped>\n    .dataframe tbody tr th:only-of-type {\n        vertical-align: middle;\n    }\n\n    .dataframe tbody tr th {\n        vertical-align: top;\n    }\n\n    .dataframe thead th {\n        text-align: right;\n    }\n</style>\n<table border=\"1\" class=\"dataframe\">\n  <thead>\n    <tr style=\"text-align: right;\">\n      <th></th>\n      <th>method</th>\n      <th>number</th>\n      <th>orbital_period</th>\n      <th>mass</th>\n      <th>distance</th>\n      <th>year</th>\n    </tr>\n  </thead>\n  <tbody>\n    <tr>\n      <th>0</th>\n      <td>Radial Velocity</td>\n      <td>1</td>\n      <td>269.300000</td>\n      <td>7.10</td>\n      <td>77.40</td>\n      <td>2006</td>\n    </tr>\n    <tr>\n      <th>1</th>\n      <td>Radial Velocity</td>\n      <td>1</td>\n      <td>874.774000</td>\n      <td>2.21</td>\n      <td>56.95</td>\n      <td>2008</td>\n    </tr>\n    <tr>\n      <th>2</th>\n      <td>Radial Velocity</td>\n      <td>1</td>\n      <td>763.000000</td>\n      <td>2.60</td>\n      <td>19.84</td>\n      <td>2011</td>\n    </tr>\n    <tr>\n      <th>3</th>\n      <td>Radial Velocity</td>\n      <td>1</td>\n      <td>326.030000</td>\n      <td>19.40</td>\n      <td>110.62</td>\n      <td>2007</td>\n    </tr>\n    <tr>\n      <th>4</th>\n      <td>Radial Velocity</td>\n      <td>1</td>\n      <td>516.220000</td>\n      <td>10.50</td>\n      <td>119.47</td>\n      <td>2009</td>\n    </tr>\n    <tr>\n      <th>...</th>\n      <td>...</td>\n      <td>...</td>\n      <td>...</td>\n      <td>...</td>\n      <td>...</td>\n      <td>...</td>\n    </tr>\n    <tr>\n      <th>1030</th>\n      <td>Transit</td>\n      <td>1</td>\n      <td>3.941507</td>\n      <td>NaN</td>\n      <td>172.00</td>\n      <td>2006</td>\n    </tr>\n    <tr>\n      <th>1031</th>\n      <td>Transit</td>\n      <td>1</td>\n      <td>2.615864</td>\n      <td>NaN</td>\n      <td>148.00</td>\n      <td>2007</td>\n    </tr>\n    <tr>\n      <th>1032</th>\n      <td>Transit</td>\n      <td>1</td>\n      <td>3.191524</td>\n      <td>NaN</td>\n      <td>174.00</td>\n      <td>2007</td>\n    </tr>\n    <tr>\n      <th>1033</th>\n      <td>Transit</td>\n      <td>1</td>\n      <td>4.125083</td>\n      <td>NaN</td>\n      <td>293.00</td>\n      <td>2008</td>\n    </tr>\n    <tr>\n      <th>1034</th>\n      <td>Transit</td>\n      <td>1</td>\n      <td>4.187757</td>\n      <td>NaN</td>\n      <td>260.00</td>\n      <td>2008</td>\n    </tr>\n  </tbody>\n</table>\n<p>1035 rows × 6 columns</p>\n</div>"
     },
     "metadata": {}
    }
   ]
  },
  {
   "cell_type": "code",
   "metadata": {
    "tags": [],
    "cell_id": "00012-8dac2f17-d8ee-4215-bcc8-b0323d592c6c",
    "deepnote_to_be_reexecuted": false,
    "source_hash": "2b2e4a96",
    "execution_start": 1626401656808,
    "execution_millis": 57,
    "deepnote_cell_type": "code"
   },
   "source": "planets.dropna().describe()",
   "execution_count": null,
   "outputs": [
    {
     "output_type": "execute_result",
     "execution_count": 11,
     "data": {
      "application/vnd.deepnote.dataframe.v2+json": {
       "row_count": 8,
       "column_count": 5,
       "columns": [
        {
         "name": "number",
         "dtype": "float64",
         "stats": {
          "unique_count": 6,
          "nan_count": 0,
          "min": "1.0",
          "max": "498.0",
          "histogram": [
           {
            "bin_start": 1,
            "bin_end": 50.7,
            "count": 7
           },
           {
            "bin_start": 50.7,
            "bin_end": 100.4,
            "count": 0
           },
           {
            "bin_start": 100.4,
            "bin_end": 150.10000000000002,
            "count": 0
           },
           {
            "bin_start": 150.10000000000002,
            "bin_end": 199.8,
            "count": 0
           },
           {
            "bin_start": 199.8,
            "bin_end": 249.5,
            "count": 0
           },
           {
            "bin_start": 249.5,
            "bin_end": 299.20000000000005,
            "count": 0
           },
           {
            "bin_start": 299.20000000000005,
            "bin_end": 348.90000000000003,
            "count": 0
           },
           {
            "bin_start": 348.90000000000003,
            "bin_end": 398.6,
            "count": 0
           },
           {
            "bin_start": 398.6,
            "bin_end": 448.3,
            "count": 0
           },
           {
            "bin_start": 448.3,
            "bin_end": 498,
            "count": 1
           }
          ]
         }
        },
        {
         "name": "orbital_period",
         "dtype": "float64",
         "stats": {
          "unique_count": 8,
          "nan_count": 0,
          "min": "1.3283",
          "max": "17337.5",
          "histogram": [
           {
            "bin_start": 1.3283,
            "bin_end": 1734.94547,
            "count": 7
           },
           {
            "bin_start": 1734.94547,
            "bin_end": 3468.56264,
            "count": 0
           },
           {
            "bin_start": 3468.56264,
            "bin_end": 5202.1798100000005,
            "count": 0
           },
           {
            "bin_start": 5202.1798100000005,
            "bin_end": 6935.79698,
            "count": 0
           },
           {
            "bin_start": 6935.79698,
            "bin_end": 8669.414149999999,
            "count": 0
           },
           {
            "bin_start": 8669.414149999999,
            "bin_end": 10403.03132,
            "count": 0
           },
           {
            "bin_start": 10403.03132,
            "bin_end": 12136.64849,
            "count": 0
           },
           {
            "bin_start": 12136.64849,
            "bin_end": 13870.26566,
            "count": 0
           },
           {
            "bin_start": 13870.26566,
            "bin_end": 15603.882829999999,
            "count": 0
           },
           {
            "bin_start": 15603.882829999999,
            "bin_end": 17337.5,
            "count": 1
           }
          ]
         }
        },
        {
         "name": "mass",
         "dtype": "float64",
         "stats": {
          "unique_count": 8,
          "nan_count": 0,
          "min": "0.0036",
          "max": "498.0",
          "histogram": [
           {
            "bin_start": 0.0036,
            "bin_end": 49.803239999999995,
            "count": 7
           },
           {
            "bin_start": 49.803239999999995,
            "bin_end": 99.60288,
            "count": 0
           },
           {
            "bin_start": 99.60288,
            "bin_end": 149.40251999999998,
            "count": 0
           },
           {
            "bin_start": 149.40251999999998,
            "bin_end": 199.20216,
            "count": 0
           },
           {
            "bin_start": 199.20216,
            "bin_end": 249.0018,
            "count": 0
           },
           {
            "bin_start": 249.0018,
            "bin_end": 298.80143999999996,
            "count": 0
           },
           {
            "bin_start": 298.80143999999996,
            "bin_end": 348.60107999999997,
            "count": 0
           },
           {
            "bin_start": 348.60107999999997,
            "bin_end": 398.40072,
            "count": 0
           },
           {
            "bin_start": 398.40072,
            "bin_end": 448.20036,
            "count": 0
           },
           {
            "bin_start": 448.20036,
            "bin_end": 498,
            "count": 1
           }
          ]
         }
        },
        {
         "name": "distance",
         "dtype": "float64",
         "stats": {
          "unique_count": 8,
          "nan_count": 0,
          "min": "1.35",
          "max": "498.0",
          "histogram": [
           {
            "bin_start": 1.35,
            "bin_end": 51.015,
            "count": 4
           },
           {
            "bin_start": 51.015,
            "bin_end": 100.67999999999999,
            "count": 2
           },
           {
            "bin_start": 100.67999999999999,
            "bin_end": 150.345,
            "count": 0
           },
           {
            "bin_start": 150.345,
            "bin_end": 200.01,
            "count": 0
           },
           {
            "bin_start": 200.01,
            "bin_end": 249.67499999999998,
            "count": 0
           },
           {
            "bin_start": 249.67499999999998,
            "bin_end": 299.34000000000003,
            "count": 0
           },
           {
            "bin_start": 299.34000000000003,
            "bin_end": 349.005,
            "count": 0
           },
           {
            "bin_start": 349.005,
            "bin_end": 398.67,
            "count": 1
           },
           {
            "bin_start": 398.67,
            "bin_end": 448.33500000000004,
            "count": 0
           },
           {
            "bin_start": 448.33500000000004,
            "bin_end": 498,
            "count": 1
           }
          ]
         }
        },
        {
         "name": "year",
         "dtype": "float64",
         "stats": {
          "unique_count": 8,
          "nan_count": 0,
          "min": "4.167283737326258",
          "max": "2014.0",
          "histogram": [
           {
            "bin_start": 4.167283737326258,
            "bin_end": 205.15055536359364,
            "count": 1
           },
           {
            "bin_start": 205.15055536359364,
            "bin_end": 406.133826989861,
            "count": 0
           },
           {
            "bin_start": 406.133826989861,
            "bin_end": 607.1170986161283,
            "count": 1
           },
           {
            "bin_start": 607.1170986161283,
            "bin_end": 808.1003702423957,
            "count": 0
           },
           {
            "bin_start": 808.1003702423957,
            "bin_end": 1009.0836418686631,
            "count": 0
           },
           {
            "bin_start": 1009.0836418686631,
            "bin_end": 1210.0669134949303,
            "count": 0
           },
           {
            "bin_start": 1210.0669134949303,
            "bin_end": 1411.0501851211977,
            "count": 0
           },
           {
            "bin_start": 1411.0501851211977,
            "bin_end": 1612.0334567474652,
            "count": 0
           },
           {
            "bin_start": 1612.0334567474652,
            "bin_end": 1813.0167283737326,
            "count": 0
           },
           {
            "bin_start": 1813.0167283737326,
            "bin_end": 2014,
            "count": 6
           }
          ]
         }
        },
        {
         "name": "_deepnote_index_column",
         "dtype": "object"
        }
       ],
       "rows_top": [
        {
         "number": 498,
         "orbital_period": 498,
         "mass": 498,
         "distance": 498,
         "year": 498,
         "_deepnote_index_column": "count"
        },
        {
         "number": 1.7349397590361446,
         "orbital_period": 835.778670671486,
         "mass": 2.5093200401606426,
         "distance": 52.068212851405626,
         "year": 2007.3775100401606,
         "_deepnote_index_column": "mean"
        },
        {
         "number": 1.175720206686954,
         "orbital_period": 1469.128258538889,
         "mass": 3.636274322194173,
         "distance": 46.59604096941084,
         "year": 4.167283737326258,
         "_deepnote_index_column": "std"
        },
        {
         "number": 1,
         "orbital_period": 1.3283,
         "mass": 0.0036,
         "distance": 1.35,
         "year": 1989,
         "_deepnote_index_column": "min"
        },
        {
         "number": 1,
         "orbital_period": 38.27225,
         "mass": 0.2125,
         "distance": 24.497499999999995,
         "year": 2005,
         "_deepnote_index_column": "25%"
        },
        {
         "number": 1,
         "orbital_period": 357,
         "mass": 1.245,
         "distance": 39.94,
         "year": 2009,
         "_deepnote_index_column": "50%"
        },
        {
         "number": 2,
         "orbital_period": 999.6000000000001,
         "mass": 2.8675,
         "distance": 59.3325,
         "year": 2011,
         "_deepnote_index_column": "75%"
        },
        {
         "number": 6,
         "orbital_period": 17337.5,
         "mass": 25,
         "distance": 354,
         "year": 2014,
         "_deepnote_index_column": "max"
        }
       ],
       "rows_bottom": null
      },
      "text/plain": "          number  orbital_period        mass    distance         year\ncount  498.00000      498.000000  498.000000  498.000000   498.000000\nmean     1.73494      835.778671    2.509320   52.068213  2007.377510\nstd      1.17572     1469.128259    3.636274   46.596041     4.167284\nmin      1.00000        1.328300    0.003600    1.350000  1989.000000\n25%      1.00000       38.272250    0.212500   24.497500  2005.000000\n50%      1.00000      357.000000    1.245000   39.940000  2009.000000\n75%      2.00000      999.600000    2.867500   59.332500  2011.000000\nmax      6.00000    17337.500000   25.000000  354.000000  2014.000000",
      "text/html": "<div>\n<style scoped>\n    .dataframe tbody tr th:only-of-type {\n        vertical-align: middle;\n    }\n\n    .dataframe tbody tr th {\n        vertical-align: top;\n    }\n\n    .dataframe thead th {\n        text-align: right;\n    }\n</style>\n<table border=\"1\" class=\"dataframe\">\n  <thead>\n    <tr style=\"text-align: right;\">\n      <th></th>\n      <th>number</th>\n      <th>orbital_period</th>\n      <th>mass</th>\n      <th>distance</th>\n      <th>year</th>\n    </tr>\n  </thead>\n  <tbody>\n    <tr>\n      <th>count</th>\n      <td>498.00000</td>\n      <td>498.000000</td>\n      <td>498.000000</td>\n      <td>498.000000</td>\n      <td>498.000000</td>\n    </tr>\n    <tr>\n      <th>mean</th>\n      <td>1.73494</td>\n      <td>835.778671</td>\n      <td>2.509320</td>\n      <td>52.068213</td>\n      <td>2007.377510</td>\n    </tr>\n    <tr>\n      <th>std</th>\n      <td>1.17572</td>\n      <td>1469.128259</td>\n      <td>3.636274</td>\n      <td>46.596041</td>\n      <td>4.167284</td>\n    </tr>\n    <tr>\n      <th>min</th>\n      <td>1.00000</td>\n      <td>1.328300</td>\n      <td>0.003600</td>\n      <td>1.350000</td>\n      <td>1989.000000</td>\n    </tr>\n    <tr>\n      <th>25%</th>\n      <td>1.00000</td>\n      <td>38.272250</td>\n      <td>0.212500</td>\n      <td>24.497500</td>\n      <td>2005.000000</td>\n    </tr>\n    <tr>\n      <th>50%</th>\n      <td>1.00000</td>\n      <td>357.000000</td>\n      <td>1.245000</td>\n      <td>39.940000</td>\n      <td>2009.000000</td>\n    </tr>\n    <tr>\n      <th>75%</th>\n      <td>2.00000</td>\n      <td>999.600000</td>\n      <td>2.867500</td>\n      <td>59.332500</td>\n      <td>2011.000000</td>\n    </tr>\n    <tr>\n      <th>max</th>\n      <td>6.00000</td>\n      <td>17337.500000</td>\n      <td>25.000000</td>\n      <td>354.000000</td>\n      <td>2014.000000</td>\n    </tr>\n  </tbody>\n</table>\n</div>"
     },
     "metadata": {}
    }
   ]
  },
  {
   "cell_type": "markdown",
   "source": "The following table summarizes some other built-in Pandas aggregations:\n\n| Aggregation              | Description                     |\n|--------------------------|---------------------------------|\n| ``count()``              | Total number of items           |\n| ``first()``, ``last()``  | First and last item             |\n| ``mean()``, ``median()`` | Mean and median                 |\n| ``min()``, ``max()``     | Minimum and maximum             |\n| ``std()``, ``var()``     | Standard deviation and variance |\n| ``mad()``                | Mean absolute deviation         |\n| ``prod()``               | Product of all items            |\n| ``sum()``                | Sum of all items                |\n\nThese are all methods of ``DataFrame`` and ``Series`` objects.",
   "metadata": {
    "tags": [],
    "cell_id": "00013-63dc9eab-905a-465f-bcc1-8cbd29ca3cd2",
    "deepnote_cell_type": "markdown"
   }
  },
  {
   "cell_type": "markdown",
   "source": "|Function Name      |   NaN-safe Version  | Description                                   |\n|-------------------|---------------------|-----------------------------------------------|\n| ``np.sum``        | ``np.nansum``       | Compute sum of elements                       |\n| ``np.prod``       | ``np.nanprod``      | Compute product of elements                   |\n| ``np.mean``       | ``np.nanmean``      | Compute mean of elements                      |\n| ``np.std``        | ``np.nanstd``       | Compute standard deviation                    |\n| ``np.var``        | ``np.nanvar``       | Compute variance                              |\n| ``np.min``        | ``np.nanmin``       | Find minimum value                            |\n| ``np.max``        | ``np.nanmax``       | Find maximum value                            |\n| ``np.argmin``     | ``np.nanargmin``    | Find index of minimum value                   |\n| ``np.argmax``     | ``np.nanargmax``    | Find index of maximum value                   |\n| ``np.median``     | ``np.nanmedian``    | Compute median of elements                    |\n| ``np.percentile`` | ``np.nanpercentile``| Compute rank-based statistics of elements     |\n| ``np.any``        | N/A                 | Evaluate whether any elements are true        |\n| ``np.all``        | N/A                 | Evaluate whether all elements are true        |\n\nWe will see these aggregates often throughout the rest of the book.",
   "metadata": {
    "tags": [],
    "cell_id": "00014-59d9de65-26c7-4bd4-b3d2-909472df18e9",
    "deepnote_cell_type": "markdown"
   }
  },
  {
   "cell_type": "code",
   "metadata": {
    "tags": [],
    "cell_id": "00013-a3c4023a-9902-4794-bd81-686ca1bdb8c7",
    "deepnote_to_be_reexecuted": false,
    "source_hash": "86390bbb",
    "execution_start": 1626401656885,
    "execution_millis": 17,
    "deepnote_cell_type": "code"
   },
   "source": "planets.agg({'orbital_period':['min','max',np.mean,np.var,np.median,np.std,'prod']})",
   "execution_count": null,
   "outputs": [
    {
     "output_type": "execute_result",
     "execution_count": 12,
     "data": {
      "application/vnd.deepnote.dataframe.v2+json": {
       "row_count": 7,
       "column_count": 1,
       "columns": [
        {
         "name": "orbital_period",
         "dtype": "float64",
         "stats": {
          "unique_count": 7,
          "nan_count": 0,
          "min": "0.09070629",
          "max": "inf",
          "histogram": [
           {
            "bin_start": 0.09070629,
            "bin_end": 67676608.95505475,
            "count": 5
           },
           {
            "bin_start": 67676608.95505475,
            "bin_end": 135353217.8194032,
            "count": 0
           },
           {
            "bin_start": 135353217.8194032,
            "bin_end": 203029826.68375164,
            "count": 0
           },
           {
            "bin_start": 203029826.68375164,
            "bin_end": 270706435.5481001,
            "count": 0
           },
           {
            "bin_start": 270706435.5481001,
            "bin_end": 338383044.4124486,
            "count": 0
           },
           {
            "bin_start": 338383044.4124486,
            "bin_end": 406059653.276797,
            "count": 0
           },
           {
            "bin_start": 406059653.276797,
            "bin_end": 473736262.14114547,
            "count": 0
           },
           {
            "bin_start": 473736262.14114547,
            "bin_end": 541412871.005494,
            "count": 0
           },
           {
            "bin_start": 541412871.005494,
            "bin_end": 609089479.8698424,
            "count": 0
           },
           {
            "bin_start": 609089479.8698424,
            "bin_end": 676766088.734191,
            "count": 1
           }
          ]
         }
        },
        {
         "name": "_deepnote_index_column",
         "dtype": "object"
        }
       ],
       "rows_top": [
        {
         "orbital_period": 0.09070629,
         "_deepnote_index_column": "min"
        },
        {
         "orbital_period": 730000,
         "_deepnote_index_column": "max"
        },
        {
         "orbital_period": 2002.9175960947582,
         "_deepnote_index_column": "mean"
        },
        {
         "orbital_period": 676766088.734191,
         "_deepnote_index_column": "var"
        },
        {
         "orbital_period": 39.9795,
         "_deepnote_index_column": "median"
        },
        {
         "orbital_period": 26014.728304062508,
         "_deepnote_index_column": "std"
        },
        {
         "orbital_period": "inf",
         "_deepnote_index_column": "prod"
        }
       ],
       "rows_bottom": null
      },
      "text/plain": "        orbital_period\nmin       9.070629e-02\nmax       7.300000e+05\nmean      2.002918e+03\nvar       6.767661e+08\nmedian    3.997950e+01\nstd       2.601473e+04\nprod               inf",
      "text/html": "<div>\n<style scoped>\n    .dataframe tbody tr th:only-of-type {\n        vertical-align: middle;\n    }\n\n    .dataframe tbody tr th {\n        vertical-align: top;\n    }\n\n    .dataframe thead th {\n        text-align: right;\n    }\n</style>\n<table border=\"1\" class=\"dataframe\">\n  <thead>\n    <tr style=\"text-align: right;\">\n      <th></th>\n      <th>orbital_period</th>\n    </tr>\n  </thead>\n  <tbody>\n    <tr>\n      <th>min</th>\n      <td>9.070629e-02</td>\n    </tr>\n    <tr>\n      <th>max</th>\n      <td>7.300000e+05</td>\n    </tr>\n    <tr>\n      <th>mean</th>\n      <td>2.002918e+03</td>\n    </tr>\n    <tr>\n      <th>var</th>\n      <td>6.767661e+08</td>\n    </tr>\n    <tr>\n      <th>median</th>\n      <td>3.997950e+01</td>\n    </tr>\n    <tr>\n      <th>std</th>\n      <td>2.601473e+04</td>\n    </tr>\n    <tr>\n      <th>prod</th>\n      <td>inf</td>\n    </tr>\n  </tbody>\n</table>\n</div>"
     },
     "metadata": {}
    }
   ]
  },
  {
   "cell_type": "markdown",
   "source": "## Grouping\n\n* By “group by” we are referring to a process involving one or more of the following steps:\n\n    * **Splitting** the data into groups based on some criteria\n    * **Applying** a function to each group independently\n    * **Combining** the results into a data structure",
   "metadata": {
    "tags": [],
    "cell_id": "00016-b74f928a-fab8-4169-9b33-b0f85080109f",
    "deepnote_cell_type": "markdown"
   }
  },
  {
   "cell_type": "code",
   "metadata": {
    "tags": [],
    "cell_id": "00015-0fb945c5-b7fd-48f0-b6f7-4542a11f1800",
    "deepnote_to_be_reexecuted": false,
    "source_hash": "b29a2746",
    "execution_start": 1626401656894,
    "execution_millis": 4,
    "deepnote_cell_type": "code"
   },
   "source": "df = pd.DataFrame({'Raju':['Accountent','Business','Business','Accountent','Accountent','Business','Accountent','Accountent'],\n                    \"Rani\":[\"one\", \"one\", \"two\", \"three\", \"two\", \"two\", \"one\", \"three\"],\n                    \"A\":np.random.randn(8),\n                    \"B\":np.random.randn(8)             \n                \n                })",
   "execution_count": null,
   "outputs": []
  },
  {
   "cell_type": "code",
   "metadata": {
    "tags": [],
    "cell_id": "00018-f466eaae-1b8b-4c56-88d4-9bc60fc1a82e",
    "deepnote_to_be_reexecuted": false,
    "source_hash": "f804c160",
    "execution_start": 1626401656962,
    "execution_millis": 7,
    "deepnote_cell_type": "code"
   },
   "source": "df",
   "execution_count": null,
   "outputs": [
    {
     "output_type": "execute_result",
     "execution_count": 14,
     "data": {
      "application/vnd.deepnote.dataframe.v2+json": {
       "row_count": 8,
       "column_count": 4,
       "columns": [
        {
         "name": "Raju",
         "dtype": "object",
         "stats": {
          "unique_count": 2,
          "nan_count": 0,
          "categories": [
           {
            "name": "Accountent",
            "count": 5
           },
           {
            "name": "Business",
            "count": 3
           }
          ]
         }
        },
        {
         "name": "Rani",
         "dtype": "object",
         "stats": {
          "unique_count": 3,
          "nan_count": 0,
          "categories": [
           {
            "name": "one",
            "count": 3
           },
           {
            "name": "two",
            "count": 3
           },
           {
            "name": "three",
            "count": 2
           }
          ]
         }
        },
        {
         "name": "A",
         "dtype": "float64",
         "stats": {
          "unique_count": 8,
          "nan_count": 0,
          "min": "-1.5754245455185398",
          "max": "1.5769821658423935",
          "histogram": [
           {
            "bin_start": -1.5754245455185398,
            "bin_end": -1.2601838743824465,
            "count": 1
           },
           {
            "bin_start": -1.2601838743824465,
            "bin_end": -0.9449432032463532,
            "count": 0
           },
           {
            "bin_start": -0.9449432032463532,
            "bin_end": -0.6297025321102598,
            "count": 2
           },
           {
            "bin_start": -0.6297025321102598,
            "bin_end": -0.3144618609741665,
            "count": 2
           },
           {
            "bin_start": -0.3144618609741665,
            "bin_end": 0.000778810161926824,
            "count": 0
           },
           {
            "bin_start": 0.000778810161926824,
            "bin_end": 0.31601948129802016,
            "count": 1
           },
           {
            "bin_start": 0.31601948129802016,
            "bin_end": 0.6312601524341133,
            "count": 1
           },
           {
            "bin_start": 0.6312601524341133,
            "bin_end": 0.9465008235702068,
            "count": 0
           },
           {
            "bin_start": 0.9465008235702068,
            "bin_end": 1.2617414947063004,
            "count": 0
           },
           {
            "bin_start": 1.2617414947063004,
            "bin_end": 1.5769821658423935,
            "count": 1
           }
          ]
         }
        },
        {
         "name": "B",
         "dtype": "float64",
         "stats": {
          "unique_count": 8,
          "nan_count": 0,
          "min": "-1.2432808121464145",
          "max": "1.6254144220682836",
          "histogram": [
           {
            "bin_start": -1.2432808121464145,
            "bin_end": -0.9564112887249447,
            "count": 1
           },
           {
            "bin_start": -0.9564112887249447,
            "bin_end": -0.6695417653034749,
            "count": 0
           },
           {
            "bin_start": -0.6695417653034749,
            "bin_end": -0.382672241882005,
            "count": 2
           },
           {
            "bin_start": -0.382672241882005,
            "bin_end": -0.09580271846053523,
            "count": 3
           },
           {
            "bin_start": -0.09580271846053523,
            "bin_end": 0.19106680496093453,
            "count": 0
           },
           {
            "bin_start": 0.19106680496093453,
            "bin_end": 0.4779363283824045,
            "count": 0
           },
           {
            "bin_start": 0.4779363283824045,
            "bin_end": 0.7648058518038741,
            "count": 1
           },
           {
            "bin_start": 0.7648058518038741,
            "bin_end": 1.051675375225344,
            "count": 0
           },
           {
            "bin_start": 1.051675375225344,
            "bin_end": 1.338544898646814,
            "count": 0
           },
           {
            "bin_start": 1.338544898646814,
            "bin_end": 1.6254144220682836,
            "count": 1
           }
          ]
         }
        },
        {
         "name": "_deepnote_index_column",
         "dtype": "int64"
        }
       ],
       "rows_top": [
        {
         "Raju": "Accountent",
         "Rani": "one",
         "A": 0.2838306679480606,
         "B": -0.2758590418999987,
         "_deepnote_index_column": 0
        },
        {
         "Raju": "Business",
         "Rani": "one",
         "A": -0.7333218488829986,
         "B": -1.2432808121464145,
         "_deepnote_index_column": 1
        },
        {
         "Raju": "Business",
         "Rani": "two",
         "A": -1.5754245455185398,
         "B": 1.6254144220682836,
         "_deepnote_index_column": 2
        },
        {
         "Raju": "Accountent",
         "Rani": "three",
         "A": 0.4768356649884203,
         "B": -0.19753073471910826,
         "_deepnote_index_column": 3
        },
        {
         "Raju": "Accountent",
         "Rani": "two",
         "A": 1.5769821658423935,
         "B": -0.5257203619256621,
         "_deepnote_index_column": 4
        },
        {
         "Raju": "Business",
         "Rani": "two",
         "A": -0.5511172811775302,
         "B": -0.4830143877864094,
         "_deepnote_index_column": 5
        },
        {
         "Raju": "Accountent",
         "Rani": "one",
         "A": -0.4247459963925162,
         "B": 0.5870007527873701,
         "_deepnote_index_column": 6
        },
        {
         "Raju": "Accountent",
         "Rani": "three",
         "A": -0.7905476594716301,
         "B": -0.32858023098601075,
         "_deepnote_index_column": 7
        }
       ],
       "rows_bottom": null
      },
      "text/plain": "         Raju   Rani         A         B\n0  Accountent    one  0.283831 -0.275859\n1    Business    one -0.733322 -1.243281\n2    Business    two -1.575425  1.625414\n3  Accountent  three  0.476836 -0.197531\n4  Accountent    two  1.576982 -0.525720\n5    Business    two -0.551117 -0.483014\n6  Accountent    one -0.424746  0.587001\n7  Accountent  three -0.790548 -0.328580",
      "text/html": "<div>\n<style scoped>\n    .dataframe tbody tr th:only-of-type {\n        vertical-align: middle;\n    }\n\n    .dataframe tbody tr th {\n        vertical-align: top;\n    }\n\n    .dataframe thead th {\n        text-align: right;\n    }\n</style>\n<table border=\"1\" class=\"dataframe\">\n  <thead>\n    <tr style=\"text-align: right;\">\n      <th></th>\n      <th>Raju</th>\n      <th>Rani</th>\n      <th>A</th>\n      <th>B</th>\n    </tr>\n  </thead>\n  <tbody>\n    <tr>\n      <th>0</th>\n      <td>Accountent</td>\n      <td>one</td>\n      <td>0.283831</td>\n      <td>-0.275859</td>\n    </tr>\n    <tr>\n      <th>1</th>\n      <td>Business</td>\n      <td>one</td>\n      <td>-0.733322</td>\n      <td>-1.243281</td>\n    </tr>\n    <tr>\n      <th>2</th>\n      <td>Business</td>\n      <td>two</td>\n      <td>-1.575425</td>\n      <td>1.625414</td>\n    </tr>\n    <tr>\n      <th>3</th>\n      <td>Accountent</td>\n      <td>three</td>\n      <td>0.476836</td>\n      <td>-0.197531</td>\n    </tr>\n    <tr>\n      <th>4</th>\n      <td>Accountent</td>\n      <td>two</td>\n      <td>1.576982</td>\n      <td>-0.525720</td>\n    </tr>\n    <tr>\n      <th>5</th>\n      <td>Business</td>\n      <td>two</td>\n      <td>-0.551117</td>\n      <td>-0.483014</td>\n    </tr>\n    <tr>\n      <th>6</th>\n      <td>Accountent</td>\n      <td>one</td>\n      <td>-0.424746</td>\n      <td>0.587001</td>\n    </tr>\n    <tr>\n      <th>7</th>\n      <td>Accountent</td>\n      <td>three</td>\n      <td>-0.790548</td>\n      <td>-0.328580</td>\n    </tr>\n  </tbody>\n</table>\n</div>"
     },
     "metadata": {}
    }
   ]
  },
  {
   "cell_type": "code",
   "metadata": {
    "tags": [],
    "cell_id": "00019-3fa1997e-0d60-46b3-93d6-22811102baba",
    "deepnote_to_be_reexecuted": false,
    "source_hash": "f7736e66",
    "execution_start": 1626401656963,
    "execution_millis": 12,
    "deepnote_cell_type": "code"
   },
   "source": "df.groupby('Raju').sum()",
   "execution_count": null,
   "outputs": [
    {
     "output_type": "execute_result",
     "execution_count": 15,
     "data": {
      "application/vnd.deepnote.dataframe.v2+json": {
       "row_count": 2,
       "column_count": 2,
       "columns": [
        {
         "name": "A",
         "dtype": "float64",
         "stats": {
          "unique_count": 2,
          "nan_count": 0,
          "min": "-2.8598636755790685",
          "max": "1.122354842914728",
          "histogram": [
           {
            "bin_start": -2.8598636755790685,
            "bin_end": -2.4616418237296886,
            "count": 1
           },
           {
            "bin_start": -2.4616418237296886,
            "bin_end": -2.0634199718803092,
            "count": 0
           },
           {
            "bin_start": -2.0634199718803092,
            "bin_end": -1.6651981200309294,
            "count": 0
           },
           {
            "bin_start": -1.6651981200309294,
            "bin_end": -1.2669762681815497,
            "count": 0
           },
           {
            "bin_start": -1.2669762681815497,
            "bin_end": -0.8687544163321701,
            "count": 0
           },
           {
            "bin_start": -0.8687544163321701,
            "bin_end": -0.47053256448279024,
            "count": 0
           },
           {
            "bin_start": -0.47053256448279024,
            "bin_end": -0.07231071263341082,
            "count": 0
           },
           {
            "bin_start": -0.07231071263341082,
            "bin_end": 0.32591113921596904,
            "count": 0
           },
           {
            "bin_start": 0.32591113921596904,
            "bin_end": 0.7241329910653489,
            "count": 0
           },
           {
            "bin_start": 0.7241329910653489,
            "bin_end": 1.122354842914728,
            "count": 1
           }
          ]
         }
        },
        {
         "name": "B",
         "dtype": "float64",
         "stats": {
          "unique_count": 2,
          "nan_count": 0,
          "min": "-0.7406896167434097",
          "max": "-0.10088077786454036",
          "histogram": [
           {
            "bin_start": -0.7406896167434097,
            "bin_end": -0.6767087328555228,
            "count": 1
           },
           {
            "bin_start": -0.6767087328555228,
            "bin_end": -0.6127278489676358,
            "count": 0
           },
           {
            "bin_start": -0.6127278489676358,
            "bin_end": -0.5487469650797488,
            "count": 0
           },
           {
            "bin_start": -0.5487469650797488,
            "bin_end": -0.48476608119186193,
            "count": 0
           },
           {
            "bin_start": -0.48476608119186193,
            "bin_end": -0.420785197303975,
            "count": 0
           },
           {
            "bin_start": -0.420785197303975,
            "bin_end": -0.35680431341608804,
            "count": 0
           },
           {
            "bin_start": -0.35680431341608804,
            "bin_end": -0.29282342952820106,
            "count": 0
           },
           {
            "bin_start": -0.29282342952820106,
            "bin_end": -0.22884254564031414,
            "count": 0
           },
           {
            "bin_start": -0.22884254564031414,
            "bin_end": -0.16486166175242722,
            "count": 0
           },
           {
            "bin_start": -0.16486166175242722,
            "bin_end": -0.10088077786454036,
            "count": 1
           }
          ]
         }
        },
        {
         "name": "_deepnote_index_column",
         "dtype": "object"
        }
       ],
       "rows_top": [
        {
         "A": 1.122354842914728,
         "B": -0.7406896167434097,
         "_deepnote_index_column": "Accountent"
        },
        {
         "A": -2.8598636755790685,
         "B": -0.10088077786454036,
         "_deepnote_index_column": "Business"
        }
       ],
       "rows_bottom": null
      },
      "text/plain": "                   A         B\nRaju                          \nAccountent  1.122355 -0.740690\nBusiness   -2.859864 -0.100881",
      "text/html": "<div>\n<style scoped>\n    .dataframe tbody tr th:only-of-type {\n        vertical-align: middle;\n    }\n\n    .dataframe tbody tr th {\n        vertical-align: top;\n    }\n\n    .dataframe thead th {\n        text-align: right;\n    }\n</style>\n<table border=\"1\" class=\"dataframe\">\n  <thead>\n    <tr style=\"text-align: right;\">\n      <th></th>\n      <th>A</th>\n      <th>B</th>\n    </tr>\n    <tr>\n      <th>Raju</th>\n      <th></th>\n      <th></th>\n    </tr>\n  </thead>\n  <tbody>\n    <tr>\n      <th>Accountent</th>\n      <td>1.122355</td>\n      <td>-0.740690</td>\n    </tr>\n    <tr>\n      <th>Business</th>\n      <td>-2.859864</td>\n      <td>-0.100881</td>\n    </tr>\n  </tbody>\n</table>\n</div>"
     },
     "metadata": {}
    }
   ]
  },
  {
   "cell_type": "code",
   "metadata": {
    "tags": [],
    "cell_id": "00020-6bd29937-8ff3-41db-9805-47fb038e0209",
    "deepnote_to_be_reexecuted": false,
    "source_hash": "f1623ab0",
    "execution_start": 1626401656977,
    "execution_millis": 26,
    "deepnote_cell_type": "code"
   },
   "source": "df.groupby(['Raju','Rani']).sum()",
   "execution_count": null,
   "outputs": [
    {
     "output_type": "execute_result",
     "execution_count": 16,
     "data": {
      "application/vnd.deepnote.dataframe.v2+json": {
       "row_count": 5,
       "column_count": 2,
       "columns": [
        {
         "name": "A",
         "dtype": "float64",
         "stats": {
          "unique_count": 5,
          "nan_count": 0,
          "min": "-2.1265418266960703",
          "max": "1.5769821658423935",
          "histogram": [
           {
            "bin_start": -2.1265418266960703,
            "bin_end": -1.7561894274422238,
            "count": 1
           },
           {
            "bin_start": -1.7561894274422238,
            "bin_end": -1.3858370281883776,
            "count": 0
           },
           {
            "bin_start": -1.3858370281883776,
            "bin_end": -1.0154846289345314,
            "count": 0
           },
           {
            "bin_start": -1.0154846289345314,
            "bin_end": -0.645132229680685,
            "count": 1
           },
           {
            "bin_start": -0.645132229680685,
            "bin_end": -0.2747798304268385,
            "count": 1
           },
           {
            "bin_start": -0.2747798304268385,
            "bin_end": 0.09557256882700749,
            "count": 1
           },
           {
            "bin_start": 0.09557256882700749,
            "bin_end": 0.46592496808085393,
            "count": 0
           },
           {
            "bin_start": 0.46592496808085393,
            "bin_end": 0.8362773673347004,
            "count": 0
           },
           {
            "bin_start": 0.8362773673347004,
            "bin_end": 1.2066297665885468,
            "count": 0
           },
           {
            "bin_start": 1.2066297665885468,
            "bin_end": 1.5769821658423935,
            "count": 1
           }
          ]
         }
        },
        {
         "name": "B",
         "dtype": "float64",
         "stats": {
          "unique_count": 5,
          "nan_count": 0,
          "min": "-1.2432808121464145",
          "max": "1.142400034281874",
          "histogram": [
           {
            "bin_start": -1.2432808121464145,
            "bin_end": -1.0047127275035856,
            "count": 1
           },
           {
            "bin_start": -1.0047127275035856,
            "bin_end": -0.7661446428607568,
            "count": 0
           },
           {
            "bin_start": -0.7661446428607568,
            "bin_end": -0.5275765582179279,
            "count": 0
           },
           {
            "bin_start": -0.5275765582179279,
            "bin_end": -0.28900847357509907,
            "count": 2
           },
           {
            "bin_start": -0.28900847357509907,
            "bin_end": -0.05044038893227021,
            "count": 0
           },
           {
            "bin_start": -0.05044038893227021,
            "bin_end": 0.18812769571055865,
            "count": 0
           },
           {
            "bin_start": 0.18812769571055865,
            "bin_end": 0.4266957803533875,
            "count": 1
           },
           {
            "bin_start": 0.4266957803533875,
            "bin_end": 0.6652638649962164,
            "count": 0
           },
           {
            "bin_start": 0.6652638649962164,
            "bin_end": 0.903831949639045,
            "count": 0
           },
           {
            "bin_start": 0.903831949639045,
            "bin_end": 1.142400034281874,
            "count": 1
           }
          ]
         }
        },
        {
         "name": "_deepnote_index_column",
         "dtype": "object"
        }
       ],
       "rows_top": [
        {
         "A": -0.1409153284444556,
         "B": 0.31114171088737136,
         "_deepnote_index_column": "('Accountent', 'one')"
        },
        {
         "A": -0.3137119944832098,
         "B": -0.5261109657051191,
         "_deepnote_index_column": "('Accountent', 'three')"
        },
        {
         "A": 1.5769821658423935,
         "B": -0.5257203619256621,
         "_deepnote_index_column": "('Accountent', 'two')"
        },
        {
         "A": -0.7333218488829986,
         "B": -1.2432808121464145,
         "_deepnote_index_column": "('Business', 'one')"
        },
        {
         "A": -2.1265418266960703,
         "B": 1.142400034281874,
         "_deepnote_index_column": "('Business', 'two')"
        }
       ],
       "rows_bottom": null
      },
      "text/plain": "                         A         B\nRaju       Rani                     \nAccountent one   -0.140915  0.311142\n           three -0.313712 -0.526111\n           two    1.576982 -0.525720\nBusiness   one   -0.733322 -1.243281\n           two   -2.126542  1.142400",
      "text/html": "<div>\n<style scoped>\n    .dataframe tbody tr th:only-of-type {\n        vertical-align: middle;\n    }\n\n    .dataframe tbody tr th {\n        vertical-align: top;\n    }\n\n    .dataframe thead th {\n        text-align: right;\n    }\n</style>\n<table border=\"1\" class=\"dataframe\">\n  <thead>\n    <tr style=\"text-align: right;\">\n      <th></th>\n      <th></th>\n      <th>A</th>\n      <th>B</th>\n    </tr>\n    <tr>\n      <th>Raju</th>\n      <th>Rani</th>\n      <th></th>\n      <th></th>\n    </tr>\n  </thead>\n  <tbody>\n    <tr>\n      <th rowspan=\"3\" valign=\"top\">Accountent</th>\n      <th>one</th>\n      <td>-0.140915</td>\n      <td>0.311142</td>\n    </tr>\n    <tr>\n      <th>three</th>\n      <td>-0.313712</td>\n      <td>-0.526111</td>\n    </tr>\n    <tr>\n      <th>two</th>\n      <td>1.576982</td>\n      <td>-0.525720</td>\n    </tr>\n    <tr>\n      <th rowspan=\"2\" valign=\"top\">Business</th>\n      <th>one</th>\n      <td>-0.733322</td>\n      <td>-1.243281</td>\n    </tr>\n    <tr>\n      <th>two</th>\n      <td>-2.126542</td>\n      <td>1.142400</td>\n    </tr>\n  </tbody>\n</table>\n</div>"
     },
     "metadata": {}
    }
   ]
  },
  {
   "cell_type": "markdown",
   "source": "Out of these, the split step is the most straightforward. In fact, in many situations we may wish to split the data set into groups and do something with those groups. In the apply step, we might wish to do one of the following:\n\n\n* **Aggregation:** compute a summary statistic (or statistics) for each group. Some examples:\n    * Compute group sums or means.\n    * Compute group sizes / counts.\n* **Transformation:** perform some group-specific computations and return a like-indexed object. Some examples:\n    * Standardize data (zscore) within a group.\n    * Filling NAs within groups with a value derived from each group.\n\n* **Filtration:** discard some groups, according to a group-wise computation that evaluates True or False. Some examples:\n    * Discard data that belongs to groups with only a few members.\n    * Filter out data based on the group sum or mean.\n\n\nSome combination of the above: GroupBy will examine the results of the apply step and try to return a sensibly combined result if it doesn’t fit into either of the above two categories.\n",
   "metadata": {
    "tags": [],
    "cell_id": "00021-661ddb2e-ef42-4a53-99c0-cf5bfc5829b8",
    "deepnote_cell_type": "markdown"
   }
  },
  {
   "cell_type": "code",
   "metadata": {
    "tags": [],
    "cell_id": "00021-b2895032-4ee5-4eef-b09b-3aa532ad8ab6",
    "deepnote_to_be_reexecuted": false,
    "source_hash": "863d25b4",
    "execution_start": 1626401657008,
    "execution_millis": 4,
    "deepnote_cell_type": "code"
   },
   "source": "df = pd.DataFrame([\n\t\t\t(\"bird\", \"Falconiformes\", 389.0),\n\t\t\t(\"bird\", \"Psittaciformes\", 24.0),\n\t\t\t(\"mammal\", \"Carnivora\", 80.2),\n\t\t\t(\"mammal\", \"Primates\", np.nan),\n\t\t\t(\"mammal\", \"Carnivora\", 58),\n\t\t],\n\t\tindex=[\"falcon\", \"parrot\", \"lion\", \"monkey\", \"leopard\"],\n\t\tcolumns=(\"class\", \"order\", \"max_speed\"))",
   "execution_count": null,
   "outputs": []
  },
  {
   "cell_type": "code",
   "metadata": {
    "tags": [],
    "cell_id": "00023-9b3abeb7-5ea5-4813-a15f-9b4eba21dffd",
    "deepnote_to_be_reexecuted": false,
    "source_hash": "f804c160",
    "execution_start": 1626401657016,
    "execution_millis": 29,
    "deepnote_cell_type": "code"
   },
   "source": "df",
   "execution_count": null,
   "outputs": [
    {
     "output_type": "execute_result",
     "execution_count": 18,
     "data": {
      "application/vnd.deepnote.dataframe.v2+json": {
       "row_count": 5,
       "column_count": 3,
       "columns": [
        {
         "name": "class",
         "dtype": "object",
         "stats": {
          "unique_count": 2,
          "nan_count": 0,
          "categories": [
           {
            "name": "mammal",
            "count": 3
           },
           {
            "name": "bird",
            "count": 2
           }
          ]
         }
        },
        {
         "name": "order",
         "dtype": "object",
         "stats": {
          "unique_count": 4,
          "nan_count": 0,
          "categories": [
           {
            "name": "Carnivora",
            "count": 2
           },
           {
            "name": "Falconiformes",
            "count": 1
           },
           {
            "name": "2 others",
            "count": 2
           }
          ]
         }
        },
        {
         "name": "max_speed",
         "dtype": "float64",
         "stats": {
          "unique_count": 4,
          "nan_count": 1,
          "min": "24.0",
          "max": "389.0",
          "histogram": [
           {
            "bin_start": 24,
            "bin_end": 60.5,
            "count": 2
           },
           {
            "bin_start": 60.5,
            "bin_end": 97,
            "count": 1
           },
           {
            "bin_start": 97,
            "bin_end": 133.5,
            "count": 0
           },
           {
            "bin_start": 133.5,
            "bin_end": 170,
            "count": 0
           },
           {
            "bin_start": 170,
            "bin_end": 206.5,
            "count": 0
           },
           {
            "bin_start": 206.5,
            "bin_end": 243,
            "count": 0
           },
           {
            "bin_start": 243,
            "bin_end": 279.5,
            "count": 0
           },
           {
            "bin_start": 279.5,
            "bin_end": 316,
            "count": 0
           },
           {
            "bin_start": 316,
            "bin_end": 352.5,
            "count": 0
           },
           {
            "bin_start": 352.5,
            "bin_end": 389,
            "count": 1
           }
          ]
         }
        },
        {
         "name": "_deepnote_index_column",
         "dtype": "object"
        }
       ],
       "rows_top": [
        {
         "class": "bird",
         "order": "Falconiformes",
         "max_speed": 389,
         "_deepnote_index_column": "falcon"
        },
        {
         "class": "bird",
         "order": "Psittaciformes",
         "max_speed": 24,
         "_deepnote_index_column": "parrot"
        },
        {
         "class": "mammal",
         "order": "Carnivora",
         "max_speed": 80.2,
         "_deepnote_index_column": "lion"
        },
        {
         "class": "mammal",
         "order": "Primates",
         "max_speed": "nan",
         "_deepnote_index_column": "monkey"
        },
        {
         "class": "mammal",
         "order": "Carnivora",
         "max_speed": 58,
         "_deepnote_index_column": "leopard"
        }
       ],
       "rows_bottom": null
      },
      "text/plain": "          class           order  max_speed\nfalcon     bird   Falconiformes      389.0\nparrot     bird  Psittaciformes       24.0\nlion     mammal       Carnivora       80.2\nmonkey   mammal        Primates        NaN\nleopard  mammal       Carnivora       58.0",
      "text/html": "<div>\n<style scoped>\n    .dataframe tbody tr th:only-of-type {\n        vertical-align: middle;\n    }\n\n    .dataframe tbody tr th {\n        vertical-align: top;\n    }\n\n    .dataframe thead th {\n        text-align: right;\n    }\n</style>\n<table border=\"1\" class=\"dataframe\">\n  <thead>\n    <tr style=\"text-align: right;\">\n      <th></th>\n      <th>class</th>\n      <th>order</th>\n      <th>max_speed</th>\n    </tr>\n  </thead>\n  <tbody>\n    <tr>\n      <th>falcon</th>\n      <td>bird</td>\n      <td>Falconiformes</td>\n      <td>389.0</td>\n    </tr>\n    <tr>\n      <th>parrot</th>\n      <td>bird</td>\n      <td>Psittaciformes</td>\n      <td>24.0</td>\n    </tr>\n    <tr>\n      <th>lion</th>\n      <td>mammal</td>\n      <td>Carnivora</td>\n      <td>80.2</td>\n    </tr>\n    <tr>\n      <th>monkey</th>\n      <td>mammal</td>\n      <td>Primates</td>\n      <td>NaN</td>\n    </tr>\n    <tr>\n      <th>leopard</th>\n      <td>mammal</td>\n      <td>Carnivora</td>\n      <td>58.0</td>\n    </tr>\n  </tbody>\n</table>\n</div>"
     },
     "metadata": {}
    }
   ]
  },
  {
   "cell_type": "code",
   "metadata": {
    "tags": [],
    "cell_id": "00024-ab726144-8e22-45b1-9714-7654ee4c8a14",
    "deepnote_to_be_reexecuted": false,
    "source_hash": "66f3cb8b",
    "execution_start": 1626401657049,
    "execution_millis": 7,
    "deepnote_cell_type": "code"
   },
   "source": "grouped  = df.groupby('class')\ngrouped\n\n\n# bird\n    \n# mammal",
   "execution_count": null,
   "outputs": [
    {
     "output_type": "execute_result",
     "execution_count": 19,
     "data": {
      "text/plain": "<pandas.core.groupby.generic.DataFrameGroupBy object at 0x7f37576f2e50>"
     },
     "metadata": {}
    }
   ]
  },
  {
   "cell_type": "code",
   "metadata": {
    "tags": [],
    "cell_id": "00025-2001a094-8553-45c7-9789-4148fc59651c",
    "deepnote_to_be_reexecuted": false,
    "source_hash": "4f5c361f",
    "execution_start": 1626401657104,
    "execution_millis": 168575128,
    "deepnote_cell_type": "code"
   },
   "source": "grouped = df.groupby(\"order\", axis=\"columns\")",
   "execution_count": null,
   "outputs": []
  },
  {
   "cell_type": "code",
   "metadata": {
    "tags": [],
    "cell_id": "00026-59b6b4be-d092-451e-9a42-56975bb8a2c4",
    "deepnote_to_be_reexecuted": false,
    "source_hash": "bad9b104",
    "execution_start": 1626401657104,
    "execution_millis": 1,
    "deepnote_cell_type": "code"
   },
   "source": "grouped = df.groupby([\"class\", \"order\"])\ngrouped",
   "execution_count": null,
   "outputs": [
    {
     "output_type": "execute_result",
     "execution_count": 21,
     "data": {
      "text/plain": "<pandas.core.groupby.generic.DataFrameGroupBy object at 0x7f37576f84d0>"
     },
     "metadata": {}
    }
   ]
  },
  {
   "cell_type": "code",
   "metadata": {
    "tags": [],
    "cell_id": "00027-d2e3d337-cbc4-4078-a55d-714d61aa55cc",
    "deepnote_to_be_reexecuted": false,
    "source_hash": "c9d9268b",
    "execution_start": 1626401942678,
    "execution_millis": 10,
    "deepnote_cell_type": "code"
   },
   "source": "df2 = pd.DataFrame({\"X\": [\"B\", \"B\", \"A\", \"A\"], \"Y\": [1, 2, 3, 4]})\ndf2",
   "execution_count": null,
   "outputs": [
    {
     "output_type": "execute_result",
     "execution_count": 22,
     "data": {
      "application/vnd.deepnote.dataframe.v2+json": {
       "row_count": 4,
       "column_count": 2,
       "columns": [
        {
         "name": "X",
         "dtype": "object",
         "stats": {
          "unique_count": 2,
          "nan_count": 0,
          "categories": [
           {
            "name": "B",
            "count": 2
           },
           {
            "name": "A",
            "count": 2
           }
          ]
         }
        },
        {
         "name": "Y",
         "dtype": "int64",
         "stats": {
          "unique_count": 4,
          "nan_count": 0,
          "min": "1",
          "max": "4",
          "histogram": [
           {
            "bin_start": 1,
            "bin_end": 1.3,
            "count": 1
           },
           {
            "bin_start": 1.3,
            "bin_end": 1.6,
            "count": 0
           },
           {
            "bin_start": 1.6,
            "bin_end": 1.9,
            "count": 0
           },
           {
            "bin_start": 1.9,
            "bin_end": 2.2,
            "count": 1
           },
           {
            "bin_start": 2.2,
            "bin_end": 2.5,
            "count": 0
           },
           {
            "bin_start": 2.5,
            "bin_end": 2.8,
            "count": 0
           },
           {
            "bin_start": 2.8,
            "bin_end": 3.1,
            "count": 1
           },
           {
            "bin_start": 3.1,
            "bin_end": 3.4,
            "count": 0
           },
           {
            "bin_start": 3.4,
            "bin_end": 3.6999999999999997,
            "count": 0
           },
           {
            "bin_start": 3.6999999999999997,
            "bin_end": 4,
            "count": 1
           }
          ]
         }
        },
        {
         "name": "_deepnote_index_column",
         "dtype": "int64"
        }
       ],
       "rows_top": [
        {
         "X": "B",
         "Y": 1,
         "_deepnote_index_column": 0
        },
        {
         "X": "B",
         "Y": 2,
         "_deepnote_index_column": 1
        },
        {
         "X": "A",
         "Y": 3,
         "_deepnote_index_column": 2
        },
        {
         "X": "A",
         "Y": 4,
         "_deepnote_index_column": 3
        }
       ],
       "rows_bottom": null
      },
      "text/plain": "   X  Y\n0  B  1\n1  B  2\n2  A  3\n3  A  4",
      "text/html": "<div>\n<style scoped>\n    .dataframe tbody tr th:only-of-type {\n        vertical-align: middle;\n    }\n\n    .dataframe tbody tr th {\n        vertical-align: top;\n    }\n\n    .dataframe thead th {\n        text-align: right;\n    }\n</style>\n<table border=\"1\" class=\"dataframe\">\n  <thead>\n    <tr style=\"text-align: right;\">\n      <th></th>\n      <th>X</th>\n      <th>Y</th>\n    </tr>\n  </thead>\n  <tbody>\n    <tr>\n      <th>0</th>\n      <td>B</td>\n      <td>1</td>\n    </tr>\n    <tr>\n      <th>1</th>\n      <td>B</td>\n      <td>2</td>\n    </tr>\n    <tr>\n      <th>2</th>\n      <td>A</td>\n      <td>3</td>\n    </tr>\n    <tr>\n      <th>3</th>\n      <td>A</td>\n      <td>4</td>\n    </tr>\n  </tbody>\n</table>\n</div>"
     },
     "metadata": {}
    }
   ]
  },
  {
   "cell_type": "code",
   "metadata": {
    "tags": [],
    "cell_id": "00028-859b527b-f61f-4f0c-8970-a135b145f034",
    "deepnote_to_be_reexecuted": false,
    "source_hash": "10f5c2e",
    "execution_start": 1626402011188,
    "execution_millis": 5,
    "deepnote_cell_type": "code"
   },
   "source": "df2.groupby(['X']).sum() # By Default sort is True",
   "execution_count": null,
   "outputs": [
    {
     "output_type": "execute_result",
     "execution_count": 24,
     "data": {
      "application/vnd.deepnote.dataframe.v2+json": {
       "row_count": 2,
       "column_count": 1,
       "columns": [
        {
         "name": "Y",
         "dtype": "int64",
         "stats": {
          "unique_count": 2,
          "nan_count": 0,
          "min": "3",
          "max": "7",
          "histogram": [
           {
            "bin_start": 3,
            "bin_end": 3.4,
            "count": 1
           },
           {
            "bin_start": 3.4,
            "bin_end": 3.8,
            "count": 0
           },
           {
            "bin_start": 3.8,
            "bin_end": 4.2,
            "count": 0
           },
           {
            "bin_start": 4.2,
            "bin_end": 4.6,
            "count": 0
           },
           {
            "bin_start": 4.6,
            "bin_end": 5,
            "count": 0
           },
           {
            "bin_start": 5,
            "bin_end": 5.4,
            "count": 0
           },
           {
            "bin_start": 5.4,
            "bin_end": 5.800000000000001,
            "count": 0
           },
           {
            "bin_start": 5.800000000000001,
            "bin_end": 6.2,
            "count": 0
           },
           {
            "bin_start": 6.2,
            "bin_end": 6.6,
            "count": 0
           },
           {
            "bin_start": 6.6,
            "bin_end": 7,
            "count": 1
           }
          ]
         }
        },
        {
         "name": "_deepnote_index_column",
         "dtype": "object"
        }
       ],
       "rows_top": [
        {
         "Y": 7,
         "_deepnote_index_column": "A"
        },
        {
         "Y": 3,
         "_deepnote_index_column": "B"
        }
       ],
       "rows_bottom": null
      },
      "text/plain": "   Y\nX   \nA  7\nB  3",
      "text/html": "<div>\n<style scoped>\n    .dataframe tbody tr th:only-of-type {\n        vertical-align: middle;\n    }\n\n    .dataframe tbody tr th {\n        vertical-align: top;\n    }\n\n    .dataframe thead th {\n        text-align: right;\n    }\n</style>\n<table border=\"1\" class=\"dataframe\">\n  <thead>\n    <tr style=\"text-align: right;\">\n      <th></th>\n      <th>Y</th>\n    </tr>\n    <tr>\n      <th>X</th>\n      <th></th>\n    </tr>\n  </thead>\n  <tbody>\n    <tr>\n      <th>A</th>\n      <td>7</td>\n    </tr>\n    <tr>\n      <th>B</th>\n      <td>3</td>\n    </tr>\n  </tbody>\n</table>\n</div>"
     },
     "metadata": {}
    }
   ]
  },
  {
   "cell_type": "code",
   "metadata": {
    "tags": [],
    "cell_id": "00029-ead2b835-7c98-4d13-bee3-de072be79b67",
    "deepnote_to_be_reexecuted": false,
    "source_hash": "c4c612d6",
    "execution_start": 1626402105907,
    "execution_millis": 5,
    "deepnote_cell_type": "code"
   },
   "source": "df2.groupby(['X'],sort=False).sum()",
   "execution_count": null,
   "outputs": [
    {
     "output_type": "execute_result",
     "execution_count": 26,
     "data": {
      "application/vnd.deepnote.dataframe.v2+json": {
       "row_count": 2,
       "column_count": 1,
       "columns": [
        {
         "name": "Y",
         "dtype": "int64",
         "stats": {
          "unique_count": 2,
          "nan_count": 0,
          "min": "3",
          "max": "7",
          "histogram": [
           {
            "bin_start": 3,
            "bin_end": 3.4,
            "count": 1
           },
           {
            "bin_start": 3.4,
            "bin_end": 3.8,
            "count": 0
           },
           {
            "bin_start": 3.8,
            "bin_end": 4.2,
            "count": 0
           },
           {
            "bin_start": 4.2,
            "bin_end": 4.6,
            "count": 0
           },
           {
            "bin_start": 4.6,
            "bin_end": 5,
            "count": 0
           },
           {
            "bin_start": 5,
            "bin_end": 5.4,
            "count": 0
           },
           {
            "bin_start": 5.4,
            "bin_end": 5.800000000000001,
            "count": 0
           },
           {
            "bin_start": 5.800000000000001,
            "bin_end": 6.2,
            "count": 0
           },
           {
            "bin_start": 6.2,
            "bin_end": 6.6,
            "count": 0
           },
           {
            "bin_start": 6.6,
            "bin_end": 7,
            "count": 1
           }
          ]
         }
        },
        {
         "name": "_deepnote_index_column",
         "dtype": "object"
        }
       ],
       "rows_top": [
        {
         "Y": 3,
         "_deepnote_index_column": "B"
        },
        {
         "Y": 7,
         "_deepnote_index_column": "A"
        }
       ],
       "rows_bottom": null
      },
      "text/plain": "   Y\nX   \nB  3\nA  7",
      "text/html": "<div>\n<style scoped>\n    .dataframe tbody tr th:only-of-type {\n        vertical-align: middle;\n    }\n\n    .dataframe tbody tr th {\n        vertical-align: top;\n    }\n\n    .dataframe thead th {\n        text-align: right;\n    }\n</style>\n<table border=\"1\" class=\"dataframe\">\n  <thead>\n    <tr style=\"text-align: right;\">\n      <th></th>\n      <th>Y</th>\n    </tr>\n    <tr>\n      <th>X</th>\n      <th></th>\n    </tr>\n  </thead>\n  <tbody>\n    <tr>\n      <th>B</th>\n      <td>3</td>\n    </tr>\n    <tr>\n      <th>A</th>\n      <td>7</td>\n    </tr>\n  </tbody>\n</table>\n</div>"
     },
     "metadata": {}
    }
   ]
  },
  {
   "cell_type": "code",
   "metadata": {
    "tags": [],
    "cell_id": "00030-90208e1b-fe6c-43ed-8bcc-77aef2902bd5",
    "deepnote_to_be_reexecuted": false,
    "source_hash": "8087858c",
    "execution_start": 1626402148967,
    "execution_millis": 9,
    "deepnote_cell_type": "code"
   },
   "source": "df3 = pd.DataFrame({\"X\": [\"A\", \"B\", \"A\", \"B\"], \"Y\": [1, 4, 3, 2]})\ndf3",
   "execution_count": null,
   "outputs": [
    {
     "output_type": "execute_result",
     "execution_count": 27,
     "data": {
      "application/vnd.deepnote.dataframe.v2+json": {
       "row_count": 4,
       "column_count": 2,
       "columns": [
        {
         "name": "X",
         "dtype": "object",
         "stats": {
          "unique_count": 2,
          "nan_count": 0,
          "categories": [
           {
            "name": "A",
            "count": 2
           },
           {
            "name": "B",
            "count": 2
           }
          ]
         }
        },
        {
         "name": "Y",
         "dtype": "int64",
         "stats": {
          "unique_count": 4,
          "nan_count": 0,
          "min": "1",
          "max": "4",
          "histogram": [
           {
            "bin_start": 1,
            "bin_end": 1.3,
            "count": 1
           },
           {
            "bin_start": 1.3,
            "bin_end": 1.6,
            "count": 0
           },
           {
            "bin_start": 1.6,
            "bin_end": 1.9,
            "count": 0
           },
           {
            "bin_start": 1.9,
            "bin_end": 2.2,
            "count": 1
           },
           {
            "bin_start": 2.2,
            "bin_end": 2.5,
            "count": 0
           },
           {
            "bin_start": 2.5,
            "bin_end": 2.8,
            "count": 0
           },
           {
            "bin_start": 2.8,
            "bin_end": 3.1,
            "count": 1
           },
           {
            "bin_start": 3.1,
            "bin_end": 3.4,
            "count": 0
           },
           {
            "bin_start": 3.4,
            "bin_end": 3.6999999999999997,
            "count": 0
           },
           {
            "bin_start": 3.6999999999999997,
            "bin_end": 4,
            "count": 1
           }
          ]
         }
        },
        {
         "name": "_deepnote_index_column",
         "dtype": "int64"
        }
       ],
       "rows_top": [
        {
         "X": "A",
         "Y": 1,
         "_deepnote_index_column": 0
        },
        {
         "X": "B",
         "Y": 4,
         "_deepnote_index_column": 1
        },
        {
         "X": "A",
         "Y": 3,
         "_deepnote_index_column": 2
        },
        {
         "X": "B",
         "Y": 2,
         "_deepnote_index_column": 3
        }
       ],
       "rows_bottom": null
      },
      "text/plain": "   X  Y\n0  A  1\n1  B  4\n2  A  3\n3  B  2",
      "text/html": "<div>\n<style scoped>\n    .dataframe tbody tr th:only-of-type {\n        vertical-align: middle;\n    }\n\n    .dataframe tbody tr th {\n        vertical-align: top;\n    }\n\n    .dataframe thead th {\n        text-align: right;\n    }\n</style>\n<table border=\"1\" class=\"dataframe\">\n  <thead>\n    <tr style=\"text-align: right;\">\n      <th></th>\n      <th>X</th>\n      <th>Y</th>\n    </tr>\n  </thead>\n  <tbody>\n    <tr>\n      <th>0</th>\n      <td>A</td>\n      <td>1</td>\n    </tr>\n    <tr>\n      <th>1</th>\n      <td>B</td>\n      <td>4</td>\n    </tr>\n    <tr>\n      <th>2</th>\n      <td>A</td>\n      <td>3</td>\n    </tr>\n    <tr>\n      <th>3</th>\n      <td>B</td>\n      <td>2</td>\n    </tr>\n  </tbody>\n</table>\n</div>"
     },
     "metadata": {}
    }
   ]
  },
  {
   "cell_type": "code",
   "metadata": {
    "tags": [],
    "cell_id": "00031-8cd74523-5f23-40d6-82aa-91787257b3a3",
    "deepnote_to_be_reexecuted": false,
    "source_hash": "36c43713",
    "execution_start": 1626402263783,
    "execution_millis": 9,
    "deepnote_cell_type": "code"
   },
   "source": "df3.groupby(['X']).get_group('A') ",
   "execution_count": null,
   "outputs": [
    {
     "output_type": "execute_result",
     "execution_count": 28,
     "data": {
      "application/vnd.deepnote.dataframe.v2+json": {
       "row_count": 2,
       "column_count": 2,
       "columns": [
        {
         "name": "X",
         "dtype": "object",
         "stats": {
          "unique_count": 1,
          "nan_count": 0,
          "categories": [
           {
            "name": "A",
            "count": 2
           }
          ]
         }
        },
        {
         "name": "Y",
         "dtype": "int64",
         "stats": {
          "unique_count": 2,
          "nan_count": 0,
          "min": "1",
          "max": "3",
          "histogram": [
           {
            "bin_start": 1,
            "bin_end": 1.2,
            "count": 1
           },
           {
            "bin_start": 1.2,
            "bin_end": 1.4,
            "count": 0
           },
           {
            "bin_start": 1.4,
            "bin_end": 1.6,
            "count": 0
           },
           {
            "bin_start": 1.6,
            "bin_end": 1.8,
            "count": 0
           },
           {
            "bin_start": 1.8,
            "bin_end": 2,
            "count": 0
           },
           {
            "bin_start": 2,
            "bin_end": 2.2,
            "count": 0
           },
           {
            "bin_start": 2.2,
            "bin_end": 2.4000000000000004,
            "count": 0
           },
           {
            "bin_start": 2.4000000000000004,
            "bin_end": 2.6,
            "count": 0
           },
           {
            "bin_start": 2.6,
            "bin_end": 2.8,
            "count": 0
           },
           {
            "bin_start": 2.8,
            "bin_end": 3,
            "count": 1
           }
          ]
         }
        },
        {
         "name": "_deepnote_index_column",
         "dtype": "int64"
        }
       ],
       "rows_top": [
        {
         "X": "A",
         "Y": 1,
         "_deepnote_index_column": 0
        },
        {
         "X": "A",
         "Y": 3,
         "_deepnote_index_column": 2
        }
       ],
       "rows_bottom": null
      },
      "text/plain": "   X  Y\n0  A  1\n2  A  3",
      "text/html": "<div>\n<style scoped>\n    .dataframe tbody tr th:only-of-type {\n        vertical-align: middle;\n    }\n\n    .dataframe tbody tr th {\n        vertical-align: top;\n    }\n\n    .dataframe thead th {\n        text-align: right;\n    }\n</style>\n<table border=\"1\" class=\"dataframe\">\n  <thead>\n    <tr style=\"text-align: right;\">\n      <th></th>\n      <th>X</th>\n      <th>Y</th>\n    </tr>\n  </thead>\n  <tbody>\n    <tr>\n      <th>0</th>\n      <td>A</td>\n      <td>1</td>\n    </tr>\n    <tr>\n      <th>2</th>\n      <td>A</td>\n      <td>3</td>\n    </tr>\n  </tbody>\n</table>\n</div>"
     },
     "metadata": {}
    }
   ]
  },
  {
   "cell_type": "code",
   "metadata": {
    "tags": [],
    "cell_id": "00032-fd05b904-fa5d-423b-a230-9b2c0e20d48f",
    "deepnote_to_be_reexecuted": false,
    "source_hash": "c43996d9",
    "execution_start": 1626402298135,
    "execution_millis": 6,
    "deepnote_cell_type": "code"
   },
   "source": "df3.groupby(['X']).get_group('B') ",
   "execution_count": null,
   "outputs": [
    {
     "output_type": "execute_result",
     "execution_count": 29,
     "data": {
      "application/vnd.deepnote.dataframe.v2+json": {
       "row_count": 2,
       "column_count": 2,
       "columns": [
        {
         "name": "X",
         "dtype": "object",
         "stats": {
          "unique_count": 1,
          "nan_count": 0,
          "categories": [
           {
            "name": "B",
            "count": 2
           }
          ]
         }
        },
        {
         "name": "Y",
         "dtype": "int64",
         "stats": {
          "unique_count": 2,
          "nan_count": 0,
          "min": "2",
          "max": "4",
          "histogram": [
           {
            "bin_start": 2,
            "bin_end": 2.2,
            "count": 1
           },
           {
            "bin_start": 2.2,
            "bin_end": 2.4,
            "count": 0
           },
           {
            "bin_start": 2.4,
            "bin_end": 2.6,
            "count": 0
           },
           {
            "bin_start": 2.6,
            "bin_end": 2.8,
            "count": 0
           },
           {
            "bin_start": 2.8,
            "bin_end": 3,
            "count": 0
           },
           {
            "bin_start": 3,
            "bin_end": 3.2,
            "count": 0
           },
           {
            "bin_start": 3.2,
            "bin_end": 3.4000000000000004,
            "count": 0
           },
           {
            "bin_start": 3.4000000000000004,
            "bin_end": 3.6,
            "count": 0
           },
           {
            "bin_start": 3.6,
            "bin_end": 3.8,
            "count": 0
           },
           {
            "bin_start": 3.8,
            "bin_end": 4,
            "count": 1
           }
          ]
         }
        },
        {
         "name": "_deepnote_index_column",
         "dtype": "int64"
        }
       ],
       "rows_top": [
        {
         "X": "B",
         "Y": 4,
         "_deepnote_index_column": 1
        },
        {
         "X": "B",
         "Y": 2,
         "_deepnote_index_column": 3
        }
       ],
       "rows_bottom": null
      },
      "text/plain": "   X  Y\n1  B  4\n3  B  2",
      "text/html": "<div>\n<style scoped>\n    .dataframe tbody tr th:only-of-type {\n        vertical-align: middle;\n    }\n\n    .dataframe tbody tr th {\n        vertical-align: top;\n    }\n\n    .dataframe thead th {\n        text-align: right;\n    }\n</style>\n<table border=\"1\" class=\"dataframe\">\n  <thead>\n    <tr style=\"text-align: right;\">\n      <th></th>\n      <th>X</th>\n      <th>Y</th>\n    </tr>\n  </thead>\n  <tbody>\n    <tr>\n      <th>1</th>\n      <td>B</td>\n      <td>4</td>\n    </tr>\n    <tr>\n      <th>3</th>\n      <td>B</td>\n      <td>2</td>\n    </tr>\n  </tbody>\n</table>\n</div>"
     },
     "metadata": {}
    }
   ]
  },
  {
   "cell_type": "code",
   "metadata": {
    "tags": [],
    "cell_id": "00033-abd39a1d-4320-4498-9586-9f1e31aad911",
    "deepnote_to_be_reexecuted": false,
    "source_hash": "62d9230b",
    "execution_start": 1626402321662,
    "execution_millis": 7,
    "deepnote_cell_type": "code"
   },
   "source": "df_list = [[1, 2, 3], [1, None, 4], [2, 1, 3], [1, 2, 2]]\ndf_list",
   "execution_count": null,
   "outputs": [
    {
     "output_type": "execute_result",
     "execution_count": 30,
     "data": {
      "text/plain": "[[1, 2, 3], [1, None, 4], [2, 1, 3], [1, 2, 2]]"
     },
     "metadata": {}
    }
   ]
  },
  {
   "cell_type": "code",
   "metadata": {
    "tags": [],
    "cell_id": "00034-26ab8d79-0882-426d-b764-41c512631b16",
    "deepnote_to_be_reexecuted": false,
    "source_hash": "443c481d",
    "execution_start": 1626402328995,
    "execution_millis": 11,
    "deepnote_cell_type": "code"
   },
   "source": "df_dropna = pd.DataFrame(df_list, columns=[\"a\", \"b\", \"c\"])\ndf_dropna",
   "execution_count": null,
   "outputs": [
    {
     "output_type": "execute_result",
     "execution_count": 31,
     "data": {
      "application/vnd.deepnote.dataframe.v2+json": {
       "row_count": 4,
       "column_count": 3,
       "columns": [
        {
         "name": "a",
         "dtype": "int64",
         "stats": {
          "unique_count": 2,
          "nan_count": 0,
          "min": "1",
          "max": "2",
          "histogram": [
           {
            "bin_start": 1,
            "bin_end": 1.1,
            "count": 3
           },
           {
            "bin_start": 1.1,
            "bin_end": 1.2,
            "count": 0
           },
           {
            "bin_start": 1.2,
            "bin_end": 1.3,
            "count": 0
           },
           {
            "bin_start": 1.3,
            "bin_end": 1.4,
            "count": 0
           },
           {
            "bin_start": 1.4,
            "bin_end": 1.5,
            "count": 0
           },
           {
            "bin_start": 1.5,
            "bin_end": 1.6,
            "count": 0
           },
           {
            "bin_start": 1.6,
            "bin_end": 1.7000000000000002,
            "count": 0
           },
           {
            "bin_start": 1.7000000000000002,
            "bin_end": 1.8,
            "count": 0
           },
           {
            "bin_start": 1.8,
            "bin_end": 1.9,
            "count": 0
           },
           {
            "bin_start": 1.9,
            "bin_end": 2,
            "count": 1
           }
          ]
         }
        },
        {
         "name": "b",
         "dtype": "float64",
         "stats": {
          "unique_count": 2,
          "nan_count": 1,
          "min": "1.0",
          "max": "2.0",
          "histogram": [
           {
            "bin_start": 1,
            "bin_end": 1.1,
            "count": 1
           },
           {
            "bin_start": 1.1,
            "bin_end": 1.2,
            "count": 0
           },
           {
            "bin_start": 1.2,
            "bin_end": 1.3,
            "count": 0
           },
           {
            "bin_start": 1.3,
            "bin_end": 1.4,
            "count": 0
           },
           {
            "bin_start": 1.4,
            "bin_end": 1.5,
            "count": 0
           },
           {
            "bin_start": 1.5,
            "bin_end": 1.6,
            "count": 0
           },
           {
            "bin_start": 1.6,
            "bin_end": 1.7000000000000002,
            "count": 0
           },
           {
            "bin_start": 1.7000000000000002,
            "bin_end": 1.8,
            "count": 0
           },
           {
            "bin_start": 1.8,
            "bin_end": 1.9,
            "count": 0
           },
           {
            "bin_start": 1.9,
            "bin_end": 2,
            "count": 2
           }
          ]
         }
        },
        {
         "name": "c",
         "dtype": "int64",
         "stats": {
          "unique_count": 3,
          "nan_count": 0,
          "min": "2",
          "max": "4",
          "histogram": [
           {
            "bin_start": 2,
            "bin_end": 2.2,
            "count": 1
           },
           {
            "bin_start": 2.2,
            "bin_end": 2.4,
            "count": 0
           },
           {
            "bin_start": 2.4,
            "bin_end": 2.6,
            "count": 0
           },
           {
            "bin_start": 2.6,
            "bin_end": 2.8,
            "count": 0
           },
           {
            "bin_start": 2.8,
            "bin_end": 3,
            "count": 0
           },
           {
            "bin_start": 3,
            "bin_end": 3.2,
            "count": 2
           },
           {
            "bin_start": 3.2,
            "bin_end": 3.4000000000000004,
            "count": 0
           },
           {
            "bin_start": 3.4000000000000004,
            "bin_end": 3.6,
            "count": 0
           },
           {
            "bin_start": 3.6,
            "bin_end": 3.8,
            "count": 0
           },
           {
            "bin_start": 3.8,
            "bin_end": 4,
            "count": 1
           }
          ]
         }
        },
        {
         "name": "_deepnote_index_column",
         "dtype": "int64"
        }
       ],
       "rows_top": [
        {
         "a": 1,
         "b": 2,
         "c": 3,
         "_deepnote_index_column": 0
        },
        {
         "a": 1,
         "b": "nan",
         "c": 4,
         "_deepnote_index_column": 1
        },
        {
         "a": 2,
         "b": 1,
         "c": 3,
         "_deepnote_index_column": 2
        },
        {
         "a": 1,
         "b": 2,
         "c": 2,
         "_deepnote_index_column": 3
        }
       ],
       "rows_bottom": null
      },
      "text/plain": "   a    b  c\n0  1  2.0  3\n1  1  NaN  4\n2  2  1.0  3\n3  1  2.0  2",
      "text/html": "<div>\n<style scoped>\n    .dataframe tbody tr th:only-of-type {\n        vertical-align: middle;\n    }\n\n    .dataframe tbody tr th {\n        vertical-align: top;\n    }\n\n    .dataframe thead th {\n        text-align: right;\n    }\n</style>\n<table border=\"1\" class=\"dataframe\">\n  <thead>\n    <tr style=\"text-align: right;\">\n      <th></th>\n      <th>a</th>\n      <th>b</th>\n      <th>c</th>\n    </tr>\n  </thead>\n  <tbody>\n    <tr>\n      <th>0</th>\n      <td>1</td>\n      <td>2.0</td>\n      <td>3</td>\n    </tr>\n    <tr>\n      <th>1</th>\n      <td>1</td>\n      <td>NaN</td>\n      <td>4</td>\n    </tr>\n    <tr>\n      <th>2</th>\n      <td>2</td>\n      <td>1.0</td>\n      <td>3</td>\n    </tr>\n    <tr>\n      <th>3</th>\n      <td>1</td>\n      <td>2.0</td>\n      <td>2</td>\n    </tr>\n  </tbody>\n</table>\n</div>"
     },
     "metadata": {}
    }
   ]
  },
  {
   "cell_type": "code",
   "metadata": {
    "tags": [],
    "cell_id": "00035-ea27a97b-2a26-4aee-b3c6-606772ca14f2",
    "deepnote_to_be_reexecuted": false,
    "source_hash": "1785eade",
    "execution_start": 1626402424111,
    "execution_millis": 35,
    "deepnote_cell_type": "code"
   },
   "source": "df_dropna.groupby(by=['b'],\n                dropna=True).sum()",
   "execution_count": null,
   "outputs": [
    {
     "output_type": "execute_result",
     "execution_count": 33,
     "data": {
      "application/vnd.deepnote.dataframe.v2+json": {
       "row_count": 2,
       "column_count": 2,
       "columns": [
        {
         "name": "a",
         "dtype": "int64",
         "stats": {
          "unique_count": 1,
          "nan_count": 0,
          "min": "2",
          "max": "2",
          "histogram": [
           {
            "bin_start": 1.5,
            "bin_end": 1.6,
            "count": 0
           },
           {
            "bin_start": 1.6,
            "bin_end": 1.7,
            "count": 0
           },
           {
            "bin_start": 1.7,
            "bin_end": 1.8,
            "count": 0
           },
           {
            "bin_start": 1.8,
            "bin_end": 1.9,
            "count": 0
           },
           {
            "bin_start": 1.9,
            "bin_end": 2,
            "count": 0
           },
           {
            "bin_start": 2,
            "bin_end": 2.1,
            "count": 2
           },
           {
            "bin_start": 2.1,
            "bin_end": 2.2,
            "count": 0
           },
           {
            "bin_start": 2.2,
            "bin_end": 2.3,
            "count": 0
           },
           {
            "bin_start": 2.3,
            "bin_end": 2.4,
            "count": 0
           },
           {
            "bin_start": 2.4,
            "bin_end": 2.5,
            "count": 0
           }
          ]
         }
        },
        {
         "name": "c",
         "dtype": "int64",
         "stats": {
          "unique_count": 2,
          "nan_count": 0,
          "min": "3",
          "max": "5",
          "histogram": [
           {
            "bin_start": 3,
            "bin_end": 3.2,
            "count": 1
           },
           {
            "bin_start": 3.2,
            "bin_end": 3.4,
            "count": 0
           },
           {
            "bin_start": 3.4,
            "bin_end": 3.6,
            "count": 0
           },
           {
            "bin_start": 3.6,
            "bin_end": 3.8,
            "count": 0
           },
           {
            "bin_start": 3.8,
            "bin_end": 4,
            "count": 0
           },
           {
            "bin_start": 4,
            "bin_end": 4.2,
            "count": 0
           },
           {
            "bin_start": 4.2,
            "bin_end": 4.4,
            "count": 0
           },
           {
            "bin_start": 4.4,
            "bin_end": 4.6,
            "count": 0
           },
           {
            "bin_start": 4.6,
            "bin_end": 4.8,
            "count": 0
           },
           {
            "bin_start": 4.8,
            "bin_end": 5,
            "count": 1
           }
          ]
         }
        },
        {
         "name": "_deepnote_index_column",
         "dtype": "float64"
        }
       ],
       "rows_top": [
        {
         "a": 2,
         "c": 3,
         "_deepnote_index_column": 1
        },
        {
         "a": 2,
         "c": 5,
         "_deepnote_index_column": 2
        }
       ],
       "rows_bottom": null
      },
      "text/plain": "     a  c\nb        \n1.0  2  3\n2.0  2  5",
      "text/html": "<div>\n<style scoped>\n    .dataframe tbody tr th:only-of-type {\n        vertical-align: middle;\n    }\n\n    .dataframe tbody tr th {\n        vertical-align: top;\n    }\n\n    .dataframe thead th {\n        text-align: right;\n    }\n</style>\n<table border=\"1\" class=\"dataframe\">\n  <thead>\n    <tr style=\"text-align: right;\">\n      <th></th>\n      <th>a</th>\n      <th>c</th>\n    </tr>\n    <tr>\n      <th>b</th>\n      <th></th>\n      <th></th>\n    </tr>\n  </thead>\n  <tbody>\n    <tr>\n      <th>1.0</th>\n      <td>2</td>\n      <td>3</td>\n    </tr>\n    <tr>\n      <th>2.0</th>\n      <td>2</td>\n      <td>5</td>\n    </tr>\n  </tbody>\n</table>\n</div>"
     },
     "metadata": {}
    }
   ]
  },
  {
   "cell_type": "code",
   "metadata": {
    "tags": [],
    "cell_id": "00036-89ab18c2-915f-4b31-8761-5bcb67a79879",
    "deepnote_to_be_reexecuted": false,
    "source_hash": "5d9e2dc9",
    "execution_start": 1626402467224,
    "execution_millis": 13,
    "deepnote_cell_type": "code"
   },
   "source": "df_dropna.groupby(by=['b'],\n                dropna=False).sum()",
   "execution_count": null,
   "outputs": [
    {
     "output_type": "execute_result",
     "execution_count": 34,
     "data": {
      "application/vnd.deepnote.dataframe.v2+json": {
       "row_count": 3,
       "column_count": 2,
       "columns": [
        {
         "name": "a",
         "dtype": "int64",
         "stats": {
          "unique_count": 2,
          "nan_count": 0,
          "min": "1",
          "max": "2",
          "histogram": [
           {
            "bin_start": 1,
            "bin_end": 1.1,
            "count": 1
           },
           {
            "bin_start": 1.1,
            "bin_end": 1.2,
            "count": 0
           },
           {
            "bin_start": 1.2,
            "bin_end": 1.3,
            "count": 0
           },
           {
            "bin_start": 1.3,
            "bin_end": 1.4,
            "count": 0
           },
           {
            "bin_start": 1.4,
            "bin_end": 1.5,
            "count": 0
           },
           {
            "bin_start": 1.5,
            "bin_end": 1.6,
            "count": 0
           },
           {
            "bin_start": 1.6,
            "bin_end": 1.7000000000000002,
            "count": 0
           },
           {
            "bin_start": 1.7000000000000002,
            "bin_end": 1.8,
            "count": 0
           },
           {
            "bin_start": 1.8,
            "bin_end": 1.9,
            "count": 0
           },
           {
            "bin_start": 1.9,
            "bin_end": 2,
            "count": 2
           }
          ]
         }
        },
        {
         "name": "c",
         "dtype": "int64",
         "stats": {
          "unique_count": 3,
          "nan_count": 0,
          "min": "3",
          "max": "5",
          "histogram": [
           {
            "bin_start": 3,
            "bin_end": 3.2,
            "count": 1
           },
           {
            "bin_start": 3.2,
            "bin_end": 3.4,
            "count": 0
           },
           {
            "bin_start": 3.4,
            "bin_end": 3.6,
            "count": 0
           },
           {
            "bin_start": 3.6,
            "bin_end": 3.8,
            "count": 0
           },
           {
            "bin_start": 3.8,
            "bin_end": 4,
            "count": 0
           },
           {
            "bin_start": 4,
            "bin_end": 4.2,
            "count": 1
           },
           {
            "bin_start": 4.2,
            "bin_end": 4.4,
            "count": 0
           },
           {
            "bin_start": 4.4,
            "bin_end": 4.6,
            "count": 0
           },
           {
            "bin_start": 4.6,
            "bin_end": 4.8,
            "count": 0
           },
           {
            "bin_start": 4.8,
            "bin_end": 5,
            "count": 1
           }
          ]
         }
        },
        {
         "name": "_deepnote_index_column",
         "dtype": "float64"
        }
       ],
       "rows_top": [
        {
         "a": 2,
         "c": 3,
         "_deepnote_index_column": 1
        },
        {
         "a": 2,
         "c": 5,
         "_deepnote_index_column": 2
        },
        {
         "a": 1,
         "c": 4,
         "_deepnote_index_column": "nan"
        }
       ],
       "rows_bottom": null
      },
      "text/plain": "     a  c\nb        \n1.0  2  3\n2.0  2  5\nNaN  1  4",
      "text/html": "<div>\n<style scoped>\n    .dataframe tbody tr th:only-of-type {\n        vertical-align: middle;\n    }\n\n    .dataframe tbody tr th {\n        vertical-align: top;\n    }\n\n    .dataframe thead th {\n        text-align: right;\n    }\n</style>\n<table border=\"1\" class=\"dataframe\">\n  <thead>\n    <tr style=\"text-align: right;\">\n      <th></th>\n      <th>a</th>\n      <th>c</th>\n    </tr>\n    <tr>\n      <th>b</th>\n      <th></th>\n      <th></th>\n    </tr>\n  </thead>\n  <tbody>\n    <tr>\n      <th>1.0</th>\n      <td>2</td>\n      <td>3</td>\n    </tr>\n    <tr>\n      <th>2.0</th>\n      <td>2</td>\n      <td>5</td>\n    </tr>\n    <tr>\n      <th>NaN</th>\n      <td>1</td>\n      <td>4</td>\n    </tr>\n  </tbody>\n</table>\n</div>"
     },
     "metadata": {}
    }
   ]
  },
  {
   "cell_type": "code",
   "metadata": {
    "tags": [],
    "cell_id": "00037-f4731105-980e-4a68-b00c-2190d1b78f70",
    "deepnote_to_be_reexecuted": false,
    "source_hash": "52430027",
    "execution_start": 1626402522811,
    "execution_millis": 8,
    "deepnote_cell_type": "code"
   },
   "source": "df.dtypes",
   "execution_count": null,
   "outputs": [
    {
     "output_type": "execute_result",
     "execution_count": 35,
     "data": {
      "text/plain": "class         object\norder         object\nmax_speed    float64\ndtype: object"
     },
     "metadata": {}
    }
   ]
  },
  {
   "cell_type": "code",
   "metadata": {
    "tags": [],
    "cell_id": "00038-a4e380c0-4e1f-4bfe-94db-631dd31f98c0",
    "deepnote_to_be_reexecuted": false,
    "source_hash": "25e6f7fe",
    "execution_start": 1626402562129,
    "execution_millis": 10,
    "deepnote_cell_type": "code"
   },
   "source": "df.groupby(\"class\").groups",
   "execution_count": null,
   "outputs": [
    {
     "output_type": "execute_result",
     "execution_count": 36,
     "data": {
      "text/plain": "{'bird': ['falcon', 'parrot'], 'mammal': ['lion', 'monkey', 'leopard']}"
     },
     "metadata": {}
    }
   ]
  },
  {
   "cell_type": "code",
   "metadata": {
    "tags": [],
    "cell_id": "00039-1e597909-981a-48c7-8ba2-3c774512cf5e",
    "deepnote_to_be_reexecuted": false,
    "source_hash": "9ccaa2b0",
    "execution_start": 1626402728043,
    "execution_millis": 1,
    "deepnote_cell_type": "code"
   },
   "source": "arrays = [\n    [\"bar\", \"bar\", \"baz\", \"baz\", \"foo\", \"foo\", \"qux\", \"qux\"],\n    [\"one\", \"two\", \"one\", \"two\", \"one\", \"two\", \"one\", \"two\"],\n        ]",
   "execution_count": null,
   "outputs": []
  },
  {
   "cell_type": "code",
   "metadata": {
    "tags": [],
    "cell_id": "00040-d26feddc-1a53-49f7-9760-de4c32421069",
    "deepnote_to_be_reexecuted": false,
    "source_hash": "1796e803",
    "execution_start": 1626402734590,
    "execution_millis": 5,
    "deepnote_cell_type": "code"
   },
   "source": "index = pd.MultiIndex.from_arrays(arrays, names=[\"first\", \"second\"])",
   "execution_count": null,
   "outputs": []
  },
  {
   "cell_type": "code",
   "metadata": {
    "tags": [],
    "cell_id": "00041-9787c309-5868-4275-b07e-60aaa60df742",
    "deepnote_to_be_reexecuted": false,
    "source_hash": "ff5658b6",
    "execution_start": 1626402742157,
    "execution_millis": 11,
    "deepnote_cell_type": "code"
   },
   "source": "df = pd.DataFrame({\"A\": [1, 1, 1, 1, 2, 2, 3, 3], \"B\": np.arange(8)}, index=index)\ndf",
   "execution_count": null,
   "outputs": [
    {
     "output_type": "execute_result",
     "execution_count": 40,
     "data": {
      "application/vnd.deepnote.dataframe.v2+json": {
       "row_count": 8,
       "column_count": 2,
       "columns": [
        {
         "name": "A",
         "dtype": "int64",
         "stats": {
          "unique_count": 3,
          "nan_count": 0,
          "min": "1",
          "max": "3",
          "histogram": [
           {
            "bin_start": 1,
            "bin_end": 1.2,
            "count": 4
           },
           {
            "bin_start": 1.2,
            "bin_end": 1.4,
            "count": 0
           },
           {
            "bin_start": 1.4,
            "bin_end": 1.6,
            "count": 0
           },
           {
            "bin_start": 1.6,
            "bin_end": 1.8,
            "count": 0
           },
           {
            "bin_start": 1.8,
            "bin_end": 2,
            "count": 0
           },
           {
            "bin_start": 2,
            "bin_end": 2.2,
            "count": 2
           },
           {
            "bin_start": 2.2,
            "bin_end": 2.4000000000000004,
            "count": 0
           },
           {
            "bin_start": 2.4000000000000004,
            "bin_end": 2.6,
            "count": 0
           },
           {
            "bin_start": 2.6,
            "bin_end": 2.8,
            "count": 0
           },
           {
            "bin_start": 2.8,
            "bin_end": 3,
            "count": 2
           }
          ]
         }
        },
        {
         "name": "B",
         "dtype": "int64",
         "stats": {
          "unique_count": 8,
          "nan_count": 0,
          "min": "0",
          "max": "7",
          "histogram": [
           {
            "bin_start": 0,
            "bin_end": 0.7,
            "count": 1
           },
           {
            "bin_start": 0.7,
            "bin_end": 1.4,
            "count": 1
           },
           {
            "bin_start": 1.4,
            "bin_end": 2.0999999999999996,
            "count": 1
           },
           {
            "bin_start": 2.0999999999999996,
            "bin_end": 2.8,
            "count": 0
           },
           {
            "bin_start": 2.8,
            "bin_end": 3.5,
            "count": 1
           },
           {
            "bin_start": 3.5,
            "bin_end": 4.199999999999999,
            "count": 1
           },
           {
            "bin_start": 4.199999999999999,
            "bin_end": 4.8999999999999995,
            "count": 0
           },
           {
            "bin_start": 4.8999999999999995,
            "bin_end": 5.6,
            "count": 1
           },
           {
            "bin_start": 5.6,
            "bin_end": 6.3,
            "count": 1
           },
           {
            "bin_start": 6.3,
            "bin_end": 7,
            "count": 1
           }
          ]
         }
        },
        {
         "name": "_deepnote_index_column",
         "dtype": "object"
        }
       ],
       "rows_top": [
        {
         "A": 1,
         "B": 0,
         "_deepnote_index_column": "('bar', 'one')"
        },
        {
         "A": 1,
         "B": 1,
         "_deepnote_index_column": "('bar', 'two')"
        },
        {
         "A": 1,
         "B": 2,
         "_deepnote_index_column": "('baz', 'one')"
        },
        {
         "A": 1,
         "B": 3,
         "_deepnote_index_column": "('baz', 'two')"
        },
        {
         "A": 2,
         "B": 4,
         "_deepnote_index_column": "('foo', 'one')"
        },
        {
         "A": 2,
         "B": 5,
         "_deepnote_index_column": "('foo', 'two')"
        },
        {
         "A": 3,
         "B": 6,
         "_deepnote_index_column": "('qux', 'one')"
        },
        {
         "A": 3,
         "B": 7,
         "_deepnote_index_column": "('qux', 'two')"
        }
       ],
       "rows_bottom": null
      },
      "text/plain": "              A  B\nfirst second      \nbar   one     1  0\n      two     1  1\nbaz   one     1  2\n      two     1  3\nfoo   one     2  4\n      two     2  5\nqux   one     3  6\n      two     3  7",
      "text/html": "<div>\n<style scoped>\n    .dataframe tbody tr th:only-of-type {\n        vertical-align: middle;\n    }\n\n    .dataframe tbody tr th {\n        vertical-align: top;\n    }\n\n    .dataframe thead th {\n        text-align: right;\n    }\n</style>\n<table border=\"1\" class=\"dataframe\">\n  <thead>\n    <tr style=\"text-align: right;\">\n      <th></th>\n      <th></th>\n      <th>A</th>\n      <th>B</th>\n    </tr>\n    <tr>\n      <th>first</th>\n      <th>second</th>\n      <th></th>\n      <th></th>\n    </tr>\n  </thead>\n  <tbody>\n    <tr>\n      <th rowspan=\"2\" valign=\"top\">bar</th>\n      <th>one</th>\n      <td>1</td>\n      <td>0</td>\n    </tr>\n    <tr>\n      <th>two</th>\n      <td>1</td>\n      <td>1</td>\n    </tr>\n    <tr>\n      <th rowspan=\"2\" valign=\"top\">baz</th>\n      <th>one</th>\n      <td>1</td>\n      <td>2</td>\n    </tr>\n    <tr>\n      <th>two</th>\n      <td>1</td>\n      <td>3</td>\n    </tr>\n    <tr>\n      <th rowspan=\"2\" valign=\"top\">foo</th>\n      <th>one</th>\n      <td>2</td>\n      <td>4</td>\n    </tr>\n    <tr>\n      <th>two</th>\n      <td>2</td>\n      <td>5</td>\n    </tr>\n    <tr>\n      <th rowspan=\"2\" valign=\"top\">qux</th>\n      <th>one</th>\n      <td>3</td>\n      <td>6</td>\n    </tr>\n    <tr>\n      <th>two</th>\n      <td>3</td>\n      <td>7</td>\n    </tr>\n  </tbody>\n</table>\n</div>"
     },
     "metadata": {}
    }
   ]
  },
  {
   "cell_type": "code",
   "metadata": {
    "tags": [],
    "cell_id": "00042-601b0d60-eb03-4ce1-abf2-982c4bbc00d8",
    "deepnote_to_be_reexecuted": false,
    "source_hash": "78386d70",
    "execution_start": 1626402762362,
    "execution_millis": 13,
    "deepnote_cell_type": "code"
   },
   "source": "df.groupby([pd.Grouper(level=1), \"A\"]).sum()",
   "execution_count": null,
   "outputs": [
    {
     "output_type": "execute_result",
     "execution_count": 41,
     "data": {
      "application/vnd.deepnote.dataframe.v2+json": {
       "row_count": 6,
       "column_count": 1,
       "columns": [
        {
         "name": "B",
         "dtype": "int64",
         "stats": {
          "unique_count": 5,
          "nan_count": 0,
          "min": "2",
          "max": "7",
          "histogram": [
           {
            "bin_start": 2,
            "bin_end": 2.5,
            "count": 1
           },
           {
            "bin_start": 2.5,
            "bin_end": 3,
            "count": 0
           },
           {
            "bin_start": 3,
            "bin_end": 3.5,
            "count": 0
           },
           {
            "bin_start": 3.5,
            "bin_end": 4,
            "count": 0
           },
           {
            "bin_start": 4,
            "bin_end": 4.5,
            "count": 2
           },
           {
            "bin_start": 4.5,
            "bin_end": 5,
            "count": 0
           },
           {
            "bin_start": 5,
            "bin_end": 5.5,
            "count": 1
           },
           {
            "bin_start": 5.5,
            "bin_end": 6,
            "count": 0
           },
           {
            "bin_start": 6,
            "bin_end": 6.5,
            "count": 1
           },
           {
            "bin_start": 6.5,
            "bin_end": 7,
            "count": 1
           }
          ]
         }
        },
        {
         "name": "_deepnote_index_column",
         "dtype": "object"
        }
       ],
       "rows_top": [
        {
         "B": 2,
         "_deepnote_index_column": "('one', 1)"
        },
        {
         "B": 4,
         "_deepnote_index_column": "('one', 2)"
        },
        {
         "B": 6,
         "_deepnote_index_column": "('one', 3)"
        },
        {
         "B": 4,
         "_deepnote_index_column": "('two', 1)"
        },
        {
         "B": 5,
         "_deepnote_index_column": "('two', 2)"
        },
        {
         "B": 7,
         "_deepnote_index_column": "('two', 3)"
        }
       ],
       "rows_bottom": null
      },
      "text/plain": "          B\nsecond A   \none    1  2\n       2  4\n       3  6\ntwo    1  4\n       2  5\n       3  7",
      "text/html": "<div>\n<style scoped>\n    .dataframe tbody tr th:only-of-type {\n        vertical-align: middle;\n    }\n\n    .dataframe tbody tr th {\n        vertical-align: top;\n    }\n\n    .dataframe thead th {\n        text-align: right;\n    }\n</style>\n<table border=\"1\" class=\"dataframe\">\n  <thead>\n    <tr style=\"text-align: right;\">\n      <th></th>\n      <th></th>\n      <th>B</th>\n    </tr>\n    <tr>\n      <th>second</th>\n      <th>A</th>\n      <th></th>\n    </tr>\n  </thead>\n  <tbody>\n    <tr>\n      <th rowspan=\"3\" valign=\"top\">one</th>\n      <th>1</th>\n      <td>2</td>\n    </tr>\n    <tr>\n      <th>2</th>\n      <td>4</td>\n    </tr>\n    <tr>\n      <th>3</th>\n      <td>6</td>\n    </tr>\n    <tr>\n      <th rowspan=\"3\" valign=\"top\">two</th>\n      <th>1</th>\n      <td>4</td>\n    </tr>\n    <tr>\n      <th>2</th>\n      <td>5</td>\n    </tr>\n    <tr>\n      <th>3</th>\n      <td>7</td>\n    </tr>\n  </tbody>\n</table>\n</div>"
     },
     "metadata": {}
    }
   ]
  },
  {
   "cell_type": "code",
   "metadata": {
    "tags": [],
    "cell_id": "00043-659fd87c-e78d-4df5-becd-4dd2b8b8d2dd",
    "deepnote_to_be_reexecuted": false,
    "source_hash": "7d5ebba3",
    "execution_start": 1626402802504,
    "execution_millis": 8,
    "deepnote_cell_type": "code"
   },
   "source": "df.groupby([pd.Grouper(level=\"second\"), \"A\"]).sum()",
   "execution_count": null,
   "outputs": [
    {
     "output_type": "execute_result",
     "execution_count": 42,
     "data": {
      "application/vnd.deepnote.dataframe.v2+json": {
       "row_count": 6,
       "column_count": 1,
       "columns": [
        {
         "name": "B",
         "dtype": "int64",
         "stats": {
          "unique_count": 5,
          "nan_count": 0,
          "min": "2",
          "max": "7",
          "histogram": [
           {
            "bin_start": 2,
            "bin_end": 2.5,
            "count": 1
           },
           {
            "bin_start": 2.5,
            "bin_end": 3,
            "count": 0
           },
           {
            "bin_start": 3,
            "bin_end": 3.5,
            "count": 0
           },
           {
            "bin_start": 3.5,
            "bin_end": 4,
            "count": 0
           },
           {
            "bin_start": 4,
            "bin_end": 4.5,
            "count": 2
           },
           {
            "bin_start": 4.5,
            "bin_end": 5,
            "count": 0
           },
           {
            "bin_start": 5,
            "bin_end": 5.5,
            "count": 1
           },
           {
            "bin_start": 5.5,
            "bin_end": 6,
            "count": 0
           },
           {
            "bin_start": 6,
            "bin_end": 6.5,
            "count": 1
           },
           {
            "bin_start": 6.5,
            "bin_end": 7,
            "count": 1
           }
          ]
         }
        },
        {
         "name": "_deepnote_index_column",
         "dtype": "object"
        }
       ],
       "rows_top": [
        {
         "B": 2,
         "_deepnote_index_column": "('one', 1)"
        },
        {
         "B": 4,
         "_deepnote_index_column": "('one', 2)"
        },
        {
         "B": 6,
         "_deepnote_index_column": "('one', 3)"
        },
        {
         "B": 4,
         "_deepnote_index_column": "('two', 1)"
        },
        {
         "B": 5,
         "_deepnote_index_column": "('two', 2)"
        },
        {
         "B": 7,
         "_deepnote_index_column": "('two', 3)"
        }
       ],
       "rows_bottom": null
      },
      "text/plain": "          B\nsecond A   \none    1  2\n       2  4\n       3  6\ntwo    1  4\n       2  5\n       3  7",
      "text/html": "<div>\n<style scoped>\n    .dataframe tbody tr th:only-of-type {\n        vertical-align: middle;\n    }\n\n    .dataframe tbody tr th {\n        vertical-align: top;\n    }\n\n    .dataframe thead th {\n        text-align: right;\n    }\n</style>\n<table border=\"1\" class=\"dataframe\">\n  <thead>\n    <tr style=\"text-align: right;\">\n      <th></th>\n      <th></th>\n      <th>B</th>\n    </tr>\n    <tr>\n      <th>second</th>\n      <th>A</th>\n      <th></th>\n    </tr>\n  </thead>\n  <tbody>\n    <tr>\n      <th rowspan=\"3\" valign=\"top\">one</th>\n      <th>1</th>\n      <td>2</td>\n    </tr>\n    <tr>\n      <th>2</th>\n      <td>4</td>\n    </tr>\n    <tr>\n      <th>3</th>\n      <td>6</td>\n    </tr>\n    <tr>\n      <th rowspan=\"3\" valign=\"top\">two</th>\n      <th>1</th>\n      <td>4</td>\n    </tr>\n    <tr>\n      <th>2</th>\n      <td>5</td>\n    </tr>\n    <tr>\n      <th>3</th>\n      <td>7</td>\n    </tr>\n  </tbody>\n</table>\n</div>"
     },
     "metadata": {}
    }
   ]
  },
  {
   "cell_type": "code",
   "metadata": {
    "tags": [],
    "cell_id": "00044-c946702d-3a6d-45c0-b831-7ac931bfdb6a",
    "deepnote_to_be_reexecuted": false,
    "source_hash": "21e6bd02",
    "execution_start": 1626402838346,
    "execution_millis": 12,
    "deepnote_cell_type": "code"
   },
   "source": "df.groupby([\"second\", \"A\"]).sum()",
   "execution_count": null,
   "outputs": [
    {
     "output_type": "execute_result",
     "execution_count": 43,
     "data": {
      "application/vnd.deepnote.dataframe.v2+json": {
       "row_count": 6,
       "column_count": 1,
       "columns": [
        {
         "name": "B",
         "dtype": "int64",
         "stats": {
          "unique_count": 5,
          "nan_count": 0,
          "min": "2",
          "max": "7",
          "histogram": [
           {
            "bin_start": 2,
            "bin_end": 2.5,
            "count": 1
           },
           {
            "bin_start": 2.5,
            "bin_end": 3,
            "count": 0
           },
           {
            "bin_start": 3,
            "bin_end": 3.5,
            "count": 0
           },
           {
            "bin_start": 3.5,
            "bin_end": 4,
            "count": 0
           },
           {
            "bin_start": 4,
            "bin_end": 4.5,
            "count": 2
           },
           {
            "bin_start": 4.5,
            "bin_end": 5,
            "count": 0
           },
           {
            "bin_start": 5,
            "bin_end": 5.5,
            "count": 1
           },
           {
            "bin_start": 5.5,
            "bin_end": 6,
            "count": 0
           },
           {
            "bin_start": 6,
            "bin_end": 6.5,
            "count": 1
           },
           {
            "bin_start": 6.5,
            "bin_end": 7,
            "count": 1
           }
          ]
         }
        },
        {
         "name": "_deepnote_index_column",
         "dtype": "object"
        }
       ],
       "rows_top": [
        {
         "B": 2,
         "_deepnote_index_column": "('one', 1)"
        },
        {
         "B": 4,
         "_deepnote_index_column": "('one', 2)"
        },
        {
         "B": 6,
         "_deepnote_index_column": "('one', 3)"
        },
        {
         "B": 4,
         "_deepnote_index_column": "('two', 1)"
        },
        {
         "B": 5,
         "_deepnote_index_column": "('two', 2)"
        },
        {
         "B": 7,
         "_deepnote_index_column": "('two', 3)"
        }
       ],
       "rows_bottom": null
      },
      "text/plain": "          B\nsecond A   \none    1  2\n       2  4\n       3  6\ntwo    1  4\n       2  5\n       3  7",
      "text/html": "<div>\n<style scoped>\n    .dataframe tbody tr th:only-of-type {\n        vertical-align: middle;\n    }\n\n    .dataframe tbody tr th {\n        vertical-align: top;\n    }\n\n    .dataframe thead th {\n        text-align: right;\n    }\n</style>\n<table border=\"1\" class=\"dataframe\">\n  <thead>\n    <tr style=\"text-align: right;\">\n      <th></th>\n      <th></th>\n      <th>B</th>\n    </tr>\n    <tr>\n      <th>second</th>\n      <th>A</th>\n      <th></th>\n    </tr>\n  </thead>\n  <tbody>\n    <tr>\n      <th rowspan=\"3\" valign=\"top\">one</th>\n      <th>1</th>\n      <td>2</td>\n    </tr>\n    <tr>\n      <th>2</th>\n      <td>4</td>\n    </tr>\n    <tr>\n      <th>3</th>\n      <td>6</td>\n    </tr>\n    <tr>\n      <th rowspan=\"3\" valign=\"top\">two</th>\n      <th>1</th>\n      <td>4</td>\n    </tr>\n    <tr>\n      <th>2</th>\n      <td>5</td>\n    </tr>\n    <tr>\n      <th>3</th>\n      <td>7</td>\n    </tr>\n  </tbody>\n</table>\n</div>"
     },
     "metadata": {}
    }
   ]
  },
  {
   "cell_type": "code",
   "metadata": {
    "tags": [],
    "cell_id": "00045-53d91594-cbf8-4108-81f4-bf347b4c1c87",
    "deepnote_to_be_reexecuted": false,
    "source_hash": "2a25c385",
    "execution_start": 1626402957891,
    "execution_millis": 6,
    "deepnote_cell_type": "code"
   },
   "source": "grouped = df.groupby('A')\n\nfor name,group in grouped:\n    print(name)\n    print(\"*\"*15)\n    print(group)\n",
   "execution_count": null,
   "outputs": [
    {
     "name": "stdout",
     "text": "1\n***************\n              A  B\nfirst second      \nbar   one     1  0\n      two     1  1\nbaz   one     1  2\n      two     1  3\n2\n***************\n              A  B\nfirst second      \nfoo   one     2  4\n      two     2  5\n3\n***************\n              A  B\nfirst second      \nqux   one     3  6\n      two     3  7\n",
     "output_type": "stream"
    }
   ]
  },
  {
   "cell_type": "code",
   "metadata": {
    "tags": [],
    "cell_id": "00046-e84afdfd-b0a3-4367-be51-0f63a435bcdf",
    "deepnote_to_be_reexecuted": false,
    "source_hash": "3ee53681",
    "execution_start": 1626403077183,
    "execution_millis": 13,
    "deepnote_cell_type": "code"
   },
   "source": "grouped = df.groupby([\"A\", \"B\"])\ngrouped.agg(np.sum)",
   "execution_count": null,
   "outputs": [
    {
     "output_type": "execute_result",
     "execution_count": 48,
     "data": {
      "application/vnd.deepnote.dataframe.v2+json": {
       "row_count": 8,
       "column_count": 0,
       "columns": [
        {
         "name": "_deepnote_index_column",
         "dtype": "object"
        }
       ],
       "rows_top": [
        {
         "_deepnote_index_column": "(1, 0)"
        },
        {
         "_deepnote_index_column": "(1, 1)"
        },
        {
         "_deepnote_index_column": "(1, 2)"
        },
        {
         "_deepnote_index_column": "(1, 3)"
        },
        {
         "_deepnote_index_column": "(2, 4)"
        },
        {
         "_deepnote_index_column": "(2, 5)"
        },
        {
         "_deepnote_index_column": "(3, 6)"
        },
        {
         "_deepnote_index_column": "(3, 7)"
        }
       ],
       "rows_bottom": null
      },
      "text/plain": "Empty DataFrame\nColumns: []\nIndex: [(1, 0), (1, 1), (1, 2), (1, 3), (2, 4), (2, 5), (3, 6), (3, 7)]",
      "text/html": "<div>\n<style scoped>\n    .dataframe tbody tr th:only-of-type {\n        vertical-align: middle;\n    }\n\n    .dataframe tbody tr th {\n        vertical-align: top;\n    }\n\n    .dataframe thead th {\n        text-align: right;\n    }\n</style>\n<table border=\"1\" class=\"dataframe\">\n  <thead>\n    <tr style=\"text-align: right;\">\n      <th></th>\n      <th></th>\n    </tr>\n    <tr>\n      <th>A</th>\n      <th>B</th>\n    </tr>\n  </thead>\n  <tbody>\n    <tr>\n      <th rowspan=\"4\" valign=\"top\">1</th>\n      <th>0</th>\n    </tr>\n    <tr>\n      <th>1</th>\n    </tr>\n    <tr>\n      <th>2</th>\n    </tr>\n    <tr>\n      <th>3</th>\n    </tr>\n    <tr>\n      <th rowspan=\"2\" valign=\"top\">2</th>\n      <th>4</th>\n    </tr>\n    <tr>\n      <th>5</th>\n    </tr>\n    <tr>\n      <th rowspan=\"2\" valign=\"top\">3</th>\n      <th>6</th>\n    </tr>\n    <tr>\n      <th>7</th>\n    </tr>\n  </tbody>\n</table>\n</div>"
     },
     "metadata": {}
    }
   ]
  },
  {
   "cell_type": "code",
   "metadata": {
    "tags": [],
    "cell_id": "00047-76740fb8-b9df-45db-ae20-ad14a27cbe7b",
    "deepnote_to_be_reexecuted": false,
    "source_hash": "75b75273",
    "execution_start": 1626403519111,
    "execution_millis": 10,
    "deepnote_cell_type": "code"
   },
   "source": "rng = np.random.RandomState(0)\ndf = pd.DataFrame({'key': ['A', 'B', 'C', 'A', 'B', 'C'],\n                   'data1': range(6),\n                   'data2': rng.randint(0, 10, 6)},\n                   columns = ['key', 'data1', 'data2'])\ndf",
   "execution_count": null,
   "outputs": [
    {
     "output_type": "execute_result",
     "execution_count": 49,
     "data": {
      "application/vnd.deepnote.dataframe.v2+json": {
       "row_count": 6,
       "column_count": 3,
       "columns": [
        {
         "name": "key",
         "dtype": "object",
         "stats": {
          "unique_count": 3,
          "nan_count": 0,
          "categories": [
           {
            "name": "A",
            "count": 2
           },
           {
            "name": "B",
            "count": 2
           },
           {
            "name": "C",
            "count": 2
           }
          ]
         }
        },
        {
         "name": "data1",
         "dtype": "int64",
         "stats": {
          "unique_count": 6,
          "nan_count": 0,
          "min": "0",
          "max": "5",
          "histogram": [
           {
            "bin_start": 0,
            "bin_end": 0.5,
            "count": 1
           },
           {
            "bin_start": 0.5,
            "bin_end": 1,
            "count": 0
           },
           {
            "bin_start": 1,
            "bin_end": 1.5,
            "count": 1
           },
           {
            "bin_start": 1.5,
            "bin_end": 2,
            "count": 0
           },
           {
            "bin_start": 2,
            "bin_end": 2.5,
            "count": 1
           },
           {
            "bin_start": 2.5,
            "bin_end": 3,
            "count": 0
           },
           {
            "bin_start": 3,
            "bin_end": 3.5,
            "count": 1
           },
           {
            "bin_start": 3.5,
            "bin_end": 4,
            "count": 0
           },
           {
            "bin_start": 4,
            "bin_end": 4.5,
            "count": 1
           },
           {
            "bin_start": 4.5,
            "bin_end": 5,
            "count": 1
           }
          ]
         }
        },
        {
         "name": "data2",
         "dtype": "int64",
         "stats": {
          "unique_count": 5,
          "nan_count": 0,
          "min": "0",
          "max": "9",
          "histogram": [
           {
            "bin_start": 0,
            "bin_end": 0.9,
            "count": 1
           },
           {
            "bin_start": 0.9,
            "bin_end": 1.8,
            "count": 0
           },
           {
            "bin_start": 1.8,
            "bin_end": 2.7,
            "count": 0
           },
           {
            "bin_start": 2.7,
            "bin_end": 3.6,
            "count": 2
           },
           {
            "bin_start": 3.6,
            "bin_end": 4.5,
            "count": 0
           },
           {
            "bin_start": 4.5,
            "bin_end": 5.4,
            "count": 1
           },
           {
            "bin_start": 5.4,
            "bin_end": 6.3,
            "count": 0
           },
           {
            "bin_start": 6.3,
            "bin_end": 7.2,
            "count": 1
           },
           {
            "bin_start": 7.2,
            "bin_end": 8.1,
            "count": 0
           },
           {
            "bin_start": 8.1,
            "bin_end": 9,
            "count": 1
           }
          ]
         }
        },
        {
         "name": "_deepnote_index_column",
         "dtype": "int64"
        }
       ],
       "rows_top": [
        {
         "key": "A",
         "data1": 0,
         "data2": 5,
         "_deepnote_index_column": 0
        },
        {
         "key": "B",
         "data1": 1,
         "data2": 0,
         "_deepnote_index_column": 1
        },
        {
         "key": "C",
         "data1": 2,
         "data2": 3,
         "_deepnote_index_column": 2
        },
        {
         "key": "A",
         "data1": 3,
         "data2": 3,
         "_deepnote_index_column": 3
        },
        {
         "key": "B",
         "data1": 4,
         "data2": 7,
         "_deepnote_index_column": 4
        },
        {
         "key": "C",
         "data1": 5,
         "data2": 9,
         "_deepnote_index_column": 5
        }
       ],
       "rows_bottom": null
      },
      "text/plain": "  key  data1  data2\n0   A      0      5\n1   B      1      0\n2   C      2      3\n3   A      3      3\n4   B      4      7\n5   C      5      9",
      "text/html": "<div>\n<style scoped>\n    .dataframe tbody tr th:only-of-type {\n        vertical-align: middle;\n    }\n\n    .dataframe tbody tr th {\n        vertical-align: top;\n    }\n\n    .dataframe thead th {\n        text-align: right;\n    }\n</style>\n<table border=\"1\" class=\"dataframe\">\n  <thead>\n    <tr style=\"text-align: right;\">\n      <th></th>\n      <th>key</th>\n      <th>data1</th>\n      <th>data2</th>\n    </tr>\n  </thead>\n  <tbody>\n    <tr>\n      <th>0</th>\n      <td>A</td>\n      <td>0</td>\n      <td>5</td>\n    </tr>\n    <tr>\n      <th>1</th>\n      <td>B</td>\n      <td>1</td>\n      <td>0</td>\n    </tr>\n    <tr>\n      <th>2</th>\n      <td>C</td>\n      <td>2</td>\n      <td>3</td>\n    </tr>\n    <tr>\n      <th>3</th>\n      <td>A</td>\n      <td>3</td>\n      <td>3</td>\n    </tr>\n    <tr>\n      <th>4</th>\n      <td>B</td>\n      <td>4</td>\n      <td>7</td>\n    </tr>\n    <tr>\n      <th>5</th>\n      <td>C</td>\n      <td>5</td>\n      <td>9</td>\n    </tr>\n  </tbody>\n</table>\n</div>"
     },
     "metadata": {}
    }
   ]
  },
  {
   "cell_type": "code",
   "metadata": {
    "tags": [],
    "cell_id": "00048-15bd9493-c8a4-4048-9589-8ba74e1ac4e0",
    "deepnote_to_be_reexecuted": false,
    "source_hash": "14354e51",
    "execution_start": 1626403699876,
    "execution_millis": 6,
    "deepnote_cell_type": "code"
   },
   "source": "df.groupby('key').aggregate(['min',max,np.mean])",
   "execution_count": null,
   "outputs": [
    {
     "output_type": "execute_result",
     "execution_count": 51,
     "data": {
      "application/vnd.deepnote.dataframe.v2+json": {
       "row_count": 3,
       "column_count": 6,
       "columns": [
        {
         "name": [
          "data1",
          "min"
         ],
         "dtype": "int64",
         "stats": {
          "unique_count": 3,
          "nan_count": 0,
          "min": "0",
          "max": "2",
          "histogram": [
           {
            "bin_start": 0,
            "bin_end": 0.2,
            "count": 1
           },
           {
            "bin_start": 0.2,
            "bin_end": 0.4,
            "count": 0
           },
           {
            "bin_start": 0.4,
            "bin_end": 0.6000000000000001,
            "count": 0
           },
           {
            "bin_start": 0.6000000000000001,
            "bin_end": 0.8,
            "count": 0
           },
           {
            "bin_start": 0.8,
            "bin_end": 1,
            "count": 0
           },
           {
            "bin_start": 1,
            "bin_end": 1.2000000000000002,
            "count": 1
           },
           {
            "bin_start": 1.2000000000000002,
            "bin_end": 1.4000000000000001,
            "count": 0
           },
           {
            "bin_start": 1.4000000000000001,
            "bin_end": 1.6,
            "count": 0
           },
           {
            "bin_start": 1.6,
            "bin_end": 1.8,
            "count": 0
           },
           {
            "bin_start": 1.8,
            "bin_end": 2,
            "count": 1
           }
          ]
         }
        },
        {
         "name": [
          "data1",
          "max"
         ],
         "dtype": "int64",
         "stats": {
          "unique_count": 3,
          "nan_count": 0,
          "min": "3",
          "max": "5",
          "histogram": [
           {
            "bin_start": 3,
            "bin_end": 3.2,
            "count": 1
           },
           {
            "bin_start": 3.2,
            "bin_end": 3.4,
            "count": 0
           },
           {
            "bin_start": 3.4,
            "bin_end": 3.6,
            "count": 0
           },
           {
            "bin_start": 3.6,
            "bin_end": 3.8,
            "count": 0
           },
           {
            "bin_start": 3.8,
            "bin_end": 4,
            "count": 0
           },
           {
            "bin_start": 4,
            "bin_end": 4.2,
            "count": 1
           },
           {
            "bin_start": 4.2,
            "bin_end": 4.4,
            "count": 0
           },
           {
            "bin_start": 4.4,
            "bin_end": 4.6,
            "count": 0
           },
           {
            "bin_start": 4.6,
            "bin_end": 4.8,
            "count": 0
           },
           {
            "bin_start": 4.8,
            "bin_end": 5,
            "count": 1
           }
          ]
         }
        },
        {
         "name": [
          "data1",
          "mean"
         ],
         "dtype": "float64",
         "stats": {
          "unique_count": 3,
          "nan_count": 0,
          "min": "1.5",
          "max": "3.5",
          "histogram": [
           {
            "bin_start": 1.5,
            "bin_end": 1.7,
            "count": 1
           },
           {
            "bin_start": 1.7,
            "bin_end": 1.9,
            "count": 0
           },
           {
            "bin_start": 1.9,
            "bin_end": 2.1,
            "count": 0
           },
           {
            "bin_start": 2.1,
            "bin_end": 2.3,
            "count": 0
           },
           {
            "bin_start": 2.3,
            "bin_end": 2.5,
            "count": 0
           },
           {
            "bin_start": 2.5,
            "bin_end": 2.7,
            "count": 1
           },
           {
            "bin_start": 2.7,
            "bin_end": 2.9000000000000004,
            "count": 0
           },
           {
            "bin_start": 2.9000000000000004,
            "bin_end": 3.1,
            "count": 0
           },
           {
            "bin_start": 3.1,
            "bin_end": 3.3,
            "count": 0
           },
           {
            "bin_start": 3.3,
            "bin_end": 3.5,
            "count": 1
           }
          ]
         }
        },
        {
         "name": [
          "data2",
          "min"
         ],
         "dtype": "int64",
         "stats": {
          "unique_count": 2,
          "nan_count": 0,
          "min": "0",
          "max": "3",
          "histogram": [
           {
            "bin_start": 0,
            "bin_end": 0.3,
            "count": 1
           },
           {
            "bin_start": 0.3,
            "bin_end": 0.6,
            "count": 0
           },
           {
            "bin_start": 0.6,
            "bin_end": 0.8999999999999999,
            "count": 0
           },
           {
            "bin_start": 0.8999999999999999,
            "bin_end": 1.2,
            "count": 0
           },
           {
            "bin_start": 1.2,
            "bin_end": 1.5,
            "count": 0
           },
           {
            "bin_start": 1.5,
            "bin_end": 1.7999999999999998,
            "count": 0
           },
           {
            "bin_start": 1.7999999999999998,
            "bin_end": 2.1,
            "count": 0
           },
           {
            "bin_start": 2.1,
            "bin_end": 2.4,
            "count": 0
           },
           {
            "bin_start": 2.4,
            "bin_end": 2.6999999999999997,
            "count": 0
           },
           {
            "bin_start": 2.6999999999999997,
            "bin_end": 3,
            "count": 2
           }
          ]
         }
        },
        {
         "name": [
          "data2",
          "max"
         ],
         "dtype": "int64",
         "stats": {
          "unique_count": 3,
          "nan_count": 0,
          "min": "5",
          "max": "9",
          "histogram": [
           {
            "bin_start": 5,
            "bin_end": 5.4,
            "count": 1
           },
           {
            "bin_start": 5.4,
            "bin_end": 5.8,
            "count": 0
           },
           {
            "bin_start": 5.8,
            "bin_end": 6.2,
            "count": 0
           },
           {
            "bin_start": 6.2,
            "bin_end": 6.6,
            "count": 0
           },
           {
            "bin_start": 6.6,
            "bin_end": 7,
            "count": 0
           },
           {
            "bin_start": 7,
            "bin_end": 7.4,
            "count": 1
           },
           {
            "bin_start": 7.4,
            "bin_end": 7.800000000000001,
            "count": 0
           },
           {
            "bin_start": 7.800000000000001,
            "bin_end": 8.2,
            "count": 0
           },
           {
            "bin_start": 8.2,
            "bin_end": 8.6,
            "count": 0
           },
           {
            "bin_start": 8.6,
            "bin_end": 9,
            "count": 1
           }
          ]
         }
        },
        {
         "name": [
          "data2",
          "mean"
         ],
         "dtype": "float64",
         "stats": {
          "unique_count": 3,
          "nan_count": 0,
          "min": "3.5",
          "max": "6.0",
          "histogram": [
           {
            "bin_start": 3.5,
            "bin_end": 3.75,
            "count": 1
           },
           {
            "bin_start": 3.75,
            "bin_end": 4,
            "count": 0
           },
           {
            "bin_start": 4,
            "bin_end": 4.25,
            "count": 1
           },
           {
            "bin_start": 4.25,
            "bin_end": 4.5,
            "count": 0
           },
           {
            "bin_start": 4.5,
            "bin_end": 4.75,
            "count": 0
           },
           {
            "bin_start": 4.75,
            "bin_end": 5,
            "count": 0
           },
           {
            "bin_start": 5,
            "bin_end": 5.25,
            "count": 0
           },
           {
            "bin_start": 5.25,
            "bin_end": 5.5,
            "count": 0
           },
           {
            "bin_start": 5.5,
            "bin_end": 5.75,
            "count": 0
           },
           {
            "bin_start": 5.75,
            "bin_end": 6,
            "count": 1
           }
          ]
         }
        },
        {
         "name": "_deepnote_index_column",
         "dtype": "object"
        }
       ],
       "rows_top": [
        {
         "('data1', 'min')": 0,
         "('data1', 'max')": 3,
         "('data1', 'mean')": 1.5,
         "('data2', 'min')": 3,
         "('data2', 'max')": 5,
         "('data2', 'mean')": 4,
         "_deepnote_index_column": "A"
        },
        {
         "('data1', 'min')": 1,
         "('data1', 'max')": 4,
         "('data1', 'mean')": 2.5,
         "('data2', 'min')": 0,
         "('data2', 'max')": 7,
         "('data2', 'mean')": 3.5,
         "_deepnote_index_column": "B"
        },
        {
         "('data1', 'min')": 2,
         "('data1', 'max')": 5,
         "('data1', 'mean')": 3.5,
         "('data2', 'min')": 3,
         "('data2', 'max')": 9,
         "('data2', 'mean')": 6,
         "_deepnote_index_column": "C"
        }
       ],
       "rows_bottom": null
      },
      "text/plain": "    data1          data2         \n      min max mean   min max mean\nkey                              \nA       0   3  1.5     3   5  4.0\nB       1   4  2.5     0   7  3.5\nC       2   5  3.5     3   9  6.0",
      "text/html": "<div>\n<style scoped>\n    .dataframe tbody tr th:only-of-type {\n        vertical-align: middle;\n    }\n\n    .dataframe tbody tr th {\n        vertical-align: top;\n    }\n\n    .dataframe thead tr th {\n        text-align: left;\n    }\n\n    .dataframe thead tr:last-of-type th {\n        text-align: right;\n    }\n</style>\n<table border=\"1\" class=\"dataframe\">\n  <thead>\n    <tr>\n      <th></th>\n      <th colspan=\"3\" halign=\"left\">data1</th>\n      <th colspan=\"3\" halign=\"left\">data2</th>\n    </tr>\n    <tr>\n      <th></th>\n      <th>min</th>\n      <th>max</th>\n      <th>mean</th>\n      <th>min</th>\n      <th>max</th>\n      <th>mean</th>\n    </tr>\n    <tr>\n      <th>key</th>\n      <th></th>\n      <th></th>\n      <th></th>\n      <th></th>\n      <th></th>\n      <th></th>\n    </tr>\n  </thead>\n  <tbody>\n    <tr>\n      <th>A</th>\n      <td>0</td>\n      <td>3</td>\n      <td>1.5</td>\n      <td>3</td>\n      <td>5</td>\n      <td>4.0</td>\n    </tr>\n    <tr>\n      <th>B</th>\n      <td>1</td>\n      <td>4</td>\n      <td>2.5</td>\n      <td>0</td>\n      <td>7</td>\n      <td>3.5</td>\n    </tr>\n    <tr>\n      <th>C</th>\n      <td>2</td>\n      <td>5</td>\n      <td>3.5</td>\n      <td>3</td>\n      <td>9</td>\n      <td>6.0</td>\n    </tr>\n  </tbody>\n</table>\n</div>"
     },
     "metadata": {}
    }
   ]
  },
  {
   "cell_type": "code",
   "metadata": {
    "tags": [],
    "cell_id": "00049-db0dca7d-0461-4207-be0f-e98351d71bd5",
    "deepnote_to_be_reexecuted": false,
    "source_hash": "6e95bd08",
    "execution_start": 1626403748752,
    "execution_millis": 16,
    "deepnote_cell_type": "code"
   },
   "source": "df.groupby('key').aggregate({'data1': 'min',\n                             'data2': 'max'})",
   "execution_count": null,
   "outputs": [
    {
     "output_type": "execute_result",
     "execution_count": 52,
     "data": {
      "application/vnd.deepnote.dataframe.v2+json": {
       "row_count": 3,
       "column_count": 2,
       "columns": [
        {
         "name": "data1",
         "dtype": "int64",
         "stats": {
          "unique_count": 3,
          "nan_count": 0,
          "min": "0",
          "max": "2",
          "histogram": [
           {
            "bin_start": 0,
            "bin_end": 0.2,
            "count": 1
           },
           {
            "bin_start": 0.2,
            "bin_end": 0.4,
            "count": 0
           },
           {
            "bin_start": 0.4,
            "bin_end": 0.6000000000000001,
            "count": 0
           },
           {
            "bin_start": 0.6000000000000001,
            "bin_end": 0.8,
            "count": 0
           },
           {
            "bin_start": 0.8,
            "bin_end": 1,
            "count": 0
           },
           {
            "bin_start": 1,
            "bin_end": 1.2000000000000002,
            "count": 1
           },
           {
            "bin_start": 1.2000000000000002,
            "bin_end": 1.4000000000000001,
            "count": 0
           },
           {
            "bin_start": 1.4000000000000001,
            "bin_end": 1.6,
            "count": 0
           },
           {
            "bin_start": 1.6,
            "bin_end": 1.8,
            "count": 0
           },
           {
            "bin_start": 1.8,
            "bin_end": 2,
            "count": 1
           }
          ]
         }
        },
        {
         "name": "data2",
         "dtype": "int64",
         "stats": {
          "unique_count": 3,
          "nan_count": 0,
          "min": "5",
          "max": "9",
          "histogram": [
           {
            "bin_start": 5,
            "bin_end": 5.4,
            "count": 1
           },
           {
            "bin_start": 5.4,
            "bin_end": 5.8,
            "count": 0
           },
           {
            "bin_start": 5.8,
            "bin_end": 6.2,
            "count": 0
           },
           {
            "bin_start": 6.2,
            "bin_end": 6.6,
            "count": 0
           },
           {
            "bin_start": 6.6,
            "bin_end": 7,
            "count": 0
           },
           {
            "bin_start": 7,
            "bin_end": 7.4,
            "count": 1
           },
           {
            "bin_start": 7.4,
            "bin_end": 7.800000000000001,
            "count": 0
           },
           {
            "bin_start": 7.800000000000001,
            "bin_end": 8.2,
            "count": 0
           },
           {
            "bin_start": 8.2,
            "bin_end": 8.6,
            "count": 0
           },
           {
            "bin_start": 8.6,
            "bin_end": 9,
            "count": 1
           }
          ]
         }
        },
        {
         "name": "_deepnote_index_column",
         "dtype": "object"
        }
       ],
       "rows_top": [
        {
         "data1": 0,
         "data2": 5,
         "_deepnote_index_column": "A"
        },
        {
         "data1": 1,
         "data2": 7,
         "_deepnote_index_column": "B"
        },
        {
         "data1": 2,
         "data2": 9,
         "_deepnote_index_column": "C"
        }
       ],
       "rows_bottom": null
      },
      "text/plain": "     data1  data2\nkey              \nA        0      5\nB        1      7\nC        2      9",
      "text/html": "<div>\n<style scoped>\n    .dataframe tbody tr th:only-of-type {\n        vertical-align: middle;\n    }\n\n    .dataframe tbody tr th {\n        vertical-align: top;\n    }\n\n    .dataframe thead th {\n        text-align: right;\n    }\n</style>\n<table border=\"1\" class=\"dataframe\">\n  <thead>\n    <tr style=\"text-align: right;\">\n      <th></th>\n      <th>data1</th>\n      <th>data2</th>\n    </tr>\n    <tr>\n      <th>key</th>\n      <th></th>\n      <th></th>\n    </tr>\n  </thead>\n  <tbody>\n    <tr>\n      <th>A</th>\n      <td>0</td>\n      <td>5</td>\n    </tr>\n    <tr>\n      <th>B</th>\n      <td>1</td>\n      <td>7</td>\n    </tr>\n    <tr>\n      <th>C</th>\n      <td>2</td>\n      <td>9</td>\n    </tr>\n  </tbody>\n</table>\n</div>"
     },
     "metadata": {}
    }
   ]
  },
  {
   "cell_type": "markdown",
   "source": "## Filtering",
   "metadata": {
    "tags": [],
    "cell_id": "00050-e4a5d931-35cd-4dec-8eea-6bf702474db4",
    "deepnote_cell_type": "markdown"
   }
  },
  {
   "cell_type": "code",
   "metadata": {
    "tags": [],
    "cell_id": "00050-59a11178-f256-4a12-8d95-090269d2f4ff",
    "deepnote_to_be_reexecuted": false,
    "source_hash": "a7cdfde2",
    "execution_start": 1626403818930,
    "execution_millis": 3,
    "deepnote_cell_type": "code"
   },
   "source": "def filter_func(x):\n    return x['data2'].std()>4  # T/F",
   "execution_count": null,
   "outputs": []
  },
  {
   "cell_type": "code",
   "metadata": {
    "tags": [],
    "cell_id": "00052-9dc5859d-a8cf-4471-b14d-7d83bb554c7c",
    "deepnote_to_be_reexecuted": false,
    "source_hash": "a684f8be",
    "execution_start": 1626403829841,
    "execution_millis": 15,
    "deepnote_cell_type": "code"
   },
   "source": "df.groupby('key').std()",
   "execution_count": null,
   "outputs": [
    {
     "output_type": "execute_result",
     "execution_count": 54,
     "data": {
      "application/vnd.deepnote.dataframe.v2+json": {
       "row_count": 3,
       "column_count": 2,
       "columns": [
        {
         "name": "data1",
         "dtype": "float64",
         "stats": {
          "unique_count": 1,
          "nan_count": 0,
          "min": "2.1213203435596424",
          "max": "2.1213203435596424",
          "histogram": [
           {
            "bin_start": 1.6213203435596424,
            "bin_end": 1.7213203435596425,
            "count": 0
           },
           {
            "bin_start": 1.7213203435596425,
            "bin_end": 1.8213203435596423,
            "count": 0
           },
           {
            "bin_start": 1.8213203435596423,
            "bin_end": 1.9213203435596424,
            "count": 0
           },
           {
            "bin_start": 1.9213203435596424,
            "bin_end": 2.0213203435596423,
            "count": 0
           },
           {
            "bin_start": 2.0213203435596423,
            "bin_end": 2.1213203435596424,
            "count": 0
           },
           {
            "bin_start": 2.1213203435596424,
            "bin_end": 2.2213203435596425,
            "count": 3
           },
           {
            "bin_start": 2.2213203435596425,
            "bin_end": 2.3213203435596426,
            "count": 0
           },
           {
            "bin_start": 2.3213203435596426,
            "bin_end": 2.4213203435596427,
            "count": 0
           },
           {
            "bin_start": 2.4213203435596427,
            "bin_end": 2.5213203435596423,
            "count": 0
           },
           {
            "bin_start": 2.5213203435596423,
            "bin_end": 2.6213203435596424,
            "count": 0
           }
          ]
         }
        },
        {
         "name": "data2",
         "dtype": "float64",
         "stats": {
          "unique_count": 3,
          "nan_count": 0,
          "min": "1.4142135623730951",
          "max": "4.949747468305833",
          "histogram": [
           {
            "bin_start": 1.4142135623730951,
            "bin_end": 1.7677669529663689,
            "count": 1
           },
           {
            "bin_start": 1.7677669529663689,
            "bin_end": 2.121320343559643,
            "count": 0
           },
           {
            "bin_start": 2.121320343559643,
            "bin_end": 2.474873734152917,
            "count": 0
           },
           {
            "bin_start": 2.474873734152917,
            "bin_end": 2.8284271247461903,
            "count": 0
           },
           {
            "bin_start": 2.8284271247461903,
            "bin_end": 3.181980515339464,
            "count": 0
           },
           {
            "bin_start": 3.181980515339464,
            "bin_end": 3.5355339059327378,
            "count": 0
           },
           {
            "bin_start": 3.5355339059327378,
            "bin_end": 3.8890872965260117,
            "count": 0
           },
           {
            "bin_start": 3.8890872965260117,
            "bin_end": 4.242640687119286,
            "count": 1
           },
           {
            "bin_start": 4.242640687119286,
            "bin_end": 4.59619407771256,
            "count": 0
           },
           {
            "bin_start": 4.59619407771256,
            "bin_end": 4.949747468305833,
            "count": 1
           }
          ]
         }
        },
        {
         "name": "_deepnote_index_column",
         "dtype": "object"
        }
       ],
       "rows_top": [
        {
         "data1": 2.1213203435596424,
         "data2": 1.4142135623730951,
         "_deepnote_index_column": "A"
        },
        {
         "data1": 2.1213203435596424,
         "data2": 4.949747468305833,
         "_deepnote_index_column": "B"
        },
        {
         "data1": 2.1213203435596424,
         "data2": 4.242640687119285,
         "_deepnote_index_column": "C"
        }
       ],
       "rows_bottom": null
      },
      "text/plain": "       data1     data2\nkey                   \nA    2.12132  1.414214\nB    2.12132  4.949747\nC    2.12132  4.242641",
      "text/html": "<div>\n<style scoped>\n    .dataframe tbody tr th:only-of-type {\n        vertical-align: middle;\n    }\n\n    .dataframe tbody tr th {\n        vertical-align: top;\n    }\n\n    .dataframe thead th {\n        text-align: right;\n    }\n</style>\n<table border=\"1\" class=\"dataframe\">\n  <thead>\n    <tr style=\"text-align: right;\">\n      <th></th>\n      <th>data1</th>\n      <th>data2</th>\n    </tr>\n    <tr>\n      <th>key</th>\n      <th></th>\n      <th></th>\n    </tr>\n  </thead>\n  <tbody>\n    <tr>\n      <th>A</th>\n      <td>2.12132</td>\n      <td>1.414214</td>\n    </tr>\n    <tr>\n      <th>B</th>\n      <td>2.12132</td>\n      <td>4.949747</td>\n    </tr>\n    <tr>\n      <th>C</th>\n      <td>2.12132</td>\n      <td>4.242641</td>\n    </tr>\n  </tbody>\n</table>\n</div>"
     },
     "metadata": {}
    }
   ]
  },
  {
   "cell_type": "code",
   "metadata": {
    "tags": [],
    "cell_id": "00053-721550ce-7f30-4ec6-bfbf-c9eef7b62c01",
    "deepnote_to_be_reexecuted": false,
    "source_hash": "c8cff96f",
    "execution_start": 1626403959907,
    "execution_millis": 11,
    "deepnote_cell_type": "code"
   },
   "source": "df.groupby('key').filter(filter_func)",
   "execution_count": null,
   "outputs": [
    {
     "output_type": "execute_result",
     "execution_count": 55,
     "data": {
      "application/vnd.deepnote.dataframe.v2+json": {
       "row_count": 4,
       "column_count": 3,
       "columns": [
        {
         "name": "key",
         "dtype": "object",
         "stats": {
          "unique_count": 2,
          "nan_count": 0,
          "categories": [
           {
            "name": "B",
            "count": 2
           },
           {
            "name": "C",
            "count": 2
           }
          ]
         }
        },
        {
         "name": "data1",
         "dtype": "int64",
         "stats": {
          "unique_count": 4,
          "nan_count": 0,
          "min": "1",
          "max": "5",
          "histogram": [
           {
            "bin_start": 1,
            "bin_end": 1.4,
            "count": 1
           },
           {
            "bin_start": 1.4,
            "bin_end": 1.8,
            "count": 0
           },
           {
            "bin_start": 1.8,
            "bin_end": 2.2,
            "count": 1
           },
           {
            "bin_start": 2.2,
            "bin_end": 2.6,
            "count": 0
           },
           {
            "bin_start": 2.6,
            "bin_end": 3,
            "count": 0
           },
           {
            "bin_start": 3,
            "bin_end": 3.4000000000000004,
            "count": 0
           },
           {
            "bin_start": 3.4000000000000004,
            "bin_end": 3.8000000000000003,
            "count": 0
           },
           {
            "bin_start": 3.8000000000000003,
            "bin_end": 4.2,
            "count": 1
           },
           {
            "bin_start": 4.2,
            "bin_end": 4.6,
            "count": 0
           },
           {
            "bin_start": 4.6,
            "bin_end": 5,
            "count": 1
           }
          ]
         }
        },
        {
         "name": "data2",
         "dtype": "int64",
         "stats": {
          "unique_count": 4,
          "nan_count": 0,
          "min": "0",
          "max": "9",
          "histogram": [
           {
            "bin_start": 0,
            "bin_end": 0.9,
            "count": 1
           },
           {
            "bin_start": 0.9,
            "bin_end": 1.8,
            "count": 0
           },
           {
            "bin_start": 1.8,
            "bin_end": 2.7,
            "count": 0
           },
           {
            "bin_start": 2.7,
            "bin_end": 3.6,
            "count": 1
           },
           {
            "bin_start": 3.6,
            "bin_end": 4.5,
            "count": 0
           },
           {
            "bin_start": 4.5,
            "bin_end": 5.4,
            "count": 0
           },
           {
            "bin_start": 5.4,
            "bin_end": 6.3,
            "count": 0
           },
           {
            "bin_start": 6.3,
            "bin_end": 7.2,
            "count": 1
           },
           {
            "bin_start": 7.2,
            "bin_end": 8.1,
            "count": 0
           },
           {
            "bin_start": 8.1,
            "bin_end": 9,
            "count": 1
           }
          ]
         }
        },
        {
         "name": "_deepnote_index_column",
         "dtype": "int64"
        }
       ],
       "rows_top": [
        {
         "key": "B",
         "data1": 1,
         "data2": 0,
         "_deepnote_index_column": 1
        },
        {
         "key": "C",
         "data1": 2,
         "data2": 3,
         "_deepnote_index_column": 2
        },
        {
         "key": "B",
         "data1": 4,
         "data2": 7,
         "_deepnote_index_column": 4
        },
        {
         "key": "C",
         "data1": 5,
         "data2": 9,
         "_deepnote_index_column": 5
        }
       ],
       "rows_bottom": null
      },
      "text/plain": "  key  data1  data2\n1   B      1      0\n2   C      2      3\n4   B      4      7\n5   C      5      9",
      "text/html": "<div>\n<style scoped>\n    .dataframe tbody tr th:only-of-type {\n        vertical-align: middle;\n    }\n\n    .dataframe tbody tr th {\n        vertical-align: top;\n    }\n\n    .dataframe thead th {\n        text-align: right;\n    }\n</style>\n<table border=\"1\" class=\"dataframe\">\n  <thead>\n    <tr style=\"text-align: right;\">\n      <th></th>\n      <th>key</th>\n      <th>data1</th>\n      <th>data2</th>\n    </tr>\n  </thead>\n  <tbody>\n    <tr>\n      <th>1</th>\n      <td>B</td>\n      <td>1</td>\n      <td>0</td>\n    </tr>\n    <tr>\n      <th>2</th>\n      <td>C</td>\n      <td>2</td>\n      <td>3</td>\n    </tr>\n    <tr>\n      <th>4</th>\n      <td>B</td>\n      <td>4</td>\n      <td>7</td>\n    </tr>\n    <tr>\n      <th>5</th>\n      <td>C</td>\n      <td>5</td>\n      <td>9</td>\n    </tr>\n  </tbody>\n</table>\n</div>"
     },
     "metadata": {}
    }
   ]
  },
  {
   "cell_type": "markdown",
   "source": "### Transformation",
   "metadata": {
    "tags": [],
    "cell_id": "00054-fe51d4d7-dbfb-4135-b592-c67259537d09",
    "deepnote_cell_type": "markdown"
   }
  },
  {
   "cell_type": "code",
   "metadata": {
    "tags": [],
    "cell_id": "00054-30c38f50-4324-48f8-98e8-f57d5cc52bad",
    "deepnote_to_be_reexecuted": false,
    "source_hash": "1c8f8f9a",
    "execution_start": 1626404408595,
    "execution_millis": 39,
    "deepnote_cell_type": "code"
   },
   "source": "df.groupby('key').transform(lambda x:x-x.mean())",
   "execution_count": null,
   "outputs": [
    {
     "output_type": "execute_result",
     "execution_count": 56,
     "data": {
      "application/vnd.deepnote.dataframe.v2+json": {
       "row_count": 6,
       "column_count": 2,
       "columns": [
        {
         "name": "data1",
         "dtype": "float64",
         "stats": {
          "unique_count": 2,
          "nan_count": 0,
          "min": "-1.5",
          "max": "1.5",
          "histogram": [
           {
            "bin_start": -1.5,
            "bin_end": -1.2,
            "count": 3
           },
           {
            "bin_start": -1.2,
            "bin_end": -0.9,
            "count": 0
           },
           {
            "bin_start": -0.9,
            "bin_end": -0.6000000000000001,
            "count": 0
           },
           {
            "bin_start": -0.6000000000000001,
            "bin_end": -0.30000000000000004,
            "count": 0
           },
           {
            "bin_start": -0.30000000000000004,
            "bin_end": 0,
            "count": 0
           },
           {
            "bin_start": 0,
            "bin_end": 0.2999999999999998,
            "count": 0
           },
           {
            "bin_start": 0.2999999999999998,
            "bin_end": 0.6000000000000001,
            "count": 0
           },
           {
            "bin_start": 0.6000000000000001,
            "bin_end": 0.8999999999999999,
            "count": 0
           },
           {
            "bin_start": 0.8999999999999999,
            "bin_end": 1.1999999999999997,
            "count": 0
           },
           {
            "bin_start": 1.1999999999999997,
            "bin_end": 1.5,
            "count": 3
           }
          ]
         }
        },
        {
         "name": "data2",
         "dtype": "float64",
         "stats": {
          "unique_count": 6,
          "nan_count": 0,
          "min": "-3.5",
          "max": "3.5",
          "histogram": [
           {
            "bin_start": -3.5,
            "bin_end": -2.8,
            "count": 2
           },
           {
            "bin_start": -2.8,
            "bin_end": -2.1,
            "count": 0
           },
           {
            "bin_start": -2.1,
            "bin_end": -1.4000000000000004,
            "count": 0
           },
           {
            "bin_start": -1.4000000000000004,
            "bin_end": -0.7000000000000002,
            "count": 1
           },
           {
            "bin_start": -0.7000000000000002,
            "bin_end": 0,
            "count": 0
           },
           {
            "bin_start": 0,
            "bin_end": 0.6999999999999993,
            "count": 0
           },
           {
            "bin_start": 0.6999999999999993,
            "bin_end": 1.3999999999999995,
            "count": 1
           },
           {
            "bin_start": 1.3999999999999995,
            "bin_end": 2.0999999999999996,
            "count": 0
           },
           {
            "bin_start": 2.0999999999999996,
            "bin_end": 2.8,
            "count": 0
           },
           {
            "bin_start": 2.8,
            "bin_end": 3.5,
            "count": 2
           }
          ]
         }
        },
        {
         "name": "_deepnote_index_column",
         "dtype": "int64"
        }
       ],
       "rows_top": [
        {
         "data1": -1.5,
         "data2": 1,
         "_deepnote_index_column": 0
        },
        {
         "data1": -1.5,
         "data2": -3.5,
         "_deepnote_index_column": 1
        },
        {
         "data1": -1.5,
         "data2": -3,
         "_deepnote_index_column": 2
        },
        {
         "data1": 1.5,
         "data2": -1,
         "_deepnote_index_column": 3
        },
        {
         "data1": 1.5,
         "data2": 3.5,
         "_deepnote_index_column": 4
        },
        {
         "data1": 1.5,
         "data2": 3,
         "_deepnote_index_column": 5
        }
       ],
       "rows_bottom": null
      },
      "text/plain": "   data1  data2\n0   -1.5    1.0\n1   -1.5   -3.5\n2   -1.5   -3.0\n3    1.5   -1.0\n4    1.5    3.5\n5    1.5    3.0",
      "text/html": "<div>\n<style scoped>\n    .dataframe tbody tr th:only-of-type {\n        vertical-align: middle;\n    }\n\n    .dataframe tbody tr th {\n        vertical-align: top;\n    }\n\n    .dataframe thead th {\n        text-align: right;\n    }\n</style>\n<table border=\"1\" class=\"dataframe\">\n  <thead>\n    <tr style=\"text-align: right;\">\n      <th></th>\n      <th>data1</th>\n      <th>data2</th>\n    </tr>\n  </thead>\n  <tbody>\n    <tr>\n      <th>0</th>\n      <td>-1.5</td>\n      <td>1.0</td>\n    </tr>\n    <tr>\n      <th>1</th>\n      <td>-1.5</td>\n      <td>-3.5</td>\n    </tr>\n    <tr>\n      <th>2</th>\n      <td>-1.5</td>\n      <td>-3.0</td>\n    </tr>\n    <tr>\n      <th>3</th>\n      <td>1.5</td>\n      <td>-1.0</td>\n    </tr>\n    <tr>\n      <th>4</th>\n      <td>1.5</td>\n      <td>3.5</td>\n    </tr>\n    <tr>\n      <th>5</th>\n      <td>1.5</td>\n      <td>3.0</td>\n    </tr>\n  </tbody>\n</table>\n</div>"
     },
     "metadata": {}
    }
   ]
  },
  {
   "cell_type": "markdown",
   "source": "## apply",
   "metadata": {
    "tags": [],
    "cell_id": "00056-331fe899-2eeb-4705-b942-99549fe3d0b7",
    "deepnote_cell_type": "markdown"
   }
  },
  {
   "cell_type": "code",
   "metadata": {
    "tags": [],
    "cell_id": "00056-679a4fac-a0fd-4f7b-9957-ff4a9c938f07",
    "deepnote_to_be_reexecuted": false,
    "source_hash": "5a3d24a1",
    "execution_start": 1626404491358,
    "execution_millis": 4,
    "deepnote_cell_type": "code"
   },
   "source": "def norm_by_data2(x):\n    x['data1'] /=  x['data2'].sum()\n    return x",
   "execution_count": null,
   "outputs": []
  },
  {
   "cell_type": "code",
   "metadata": {
    "tags": [],
    "cell_id": "00058-ea1ca516-8dc1-4d31-8208-2307a641c85c",
    "deepnote_to_be_reexecuted": false,
    "source_hash": "58f129db",
    "execution_start": 1626404511462,
    "execution_millis": 39,
    "deepnote_cell_type": "code"
   },
   "source": "df.groupby('key').apply(norm_by_data2)",
   "execution_count": null,
   "outputs": [
    {
     "output_type": "execute_result",
     "execution_count": 58,
     "data": {
      "application/vnd.deepnote.dataframe.v2+json": {
       "row_count": 6,
       "column_count": 3,
       "columns": [
        {
         "name": "key",
         "dtype": "object",
         "stats": {
          "unique_count": 3,
          "nan_count": 0,
          "categories": [
           {
            "name": "A",
            "count": 2
           },
           {
            "name": "B",
            "count": 2
           },
           {
            "name": "C",
            "count": 2
           }
          ]
         }
        },
        {
         "name": "data1",
         "dtype": "float64",
         "stats": {
          "unique_count": 6,
          "nan_count": 0,
          "min": "0.0",
          "max": "0.5714285714285714",
          "histogram": [
           {
            "bin_start": 0,
            "bin_end": 0.05714285714285714,
            "count": 1
           },
           {
            "bin_start": 0.05714285714285714,
            "bin_end": 0.11428571428571428,
            "count": 0
           },
           {
            "bin_start": 0.11428571428571428,
            "bin_end": 0.17142857142857143,
            "count": 2
           },
           {
            "bin_start": 0.17142857142857143,
            "bin_end": 0.22857142857142856,
            "count": 0
           },
           {
            "bin_start": 0.22857142857142856,
            "bin_end": 0.2857142857142857,
            "count": 0
           },
           {
            "bin_start": 0.2857142857142857,
            "bin_end": 0.34285714285714286,
            "count": 0
           },
           {
            "bin_start": 0.34285714285714286,
            "bin_end": 0.39999999999999997,
            "count": 1
           },
           {
            "bin_start": 0.39999999999999997,
            "bin_end": 0.45714285714285713,
            "count": 1
           },
           {
            "bin_start": 0.45714285714285713,
            "bin_end": 0.5142857142857142,
            "count": 0
           },
           {
            "bin_start": 0.5142857142857142,
            "bin_end": 0.5714285714285714,
            "count": 1
           }
          ]
         }
        },
        {
         "name": "data2",
         "dtype": "int64",
         "stats": {
          "unique_count": 5,
          "nan_count": 0,
          "min": "0",
          "max": "9",
          "histogram": [
           {
            "bin_start": 0,
            "bin_end": 0.9,
            "count": 1
           },
           {
            "bin_start": 0.9,
            "bin_end": 1.8,
            "count": 0
           },
           {
            "bin_start": 1.8,
            "bin_end": 2.7,
            "count": 0
           },
           {
            "bin_start": 2.7,
            "bin_end": 3.6,
            "count": 2
           },
           {
            "bin_start": 3.6,
            "bin_end": 4.5,
            "count": 0
           },
           {
            "bin_start": 4.5,
            "bin_end": 5.4,
            "count": 1
           },
           {
            "bin_start": 5.4,
            "bin_end": 6.3,
            "count": 0
           },
           {
            "bin_start": 6.3,
            "bin_end": 7.2,
            "count": 1
           },
           {
            "bin_start": 7.2,
            "bin_end": 8.1,
            "count": 0
           },
           {
            "bin_start": 8.1,
            "bin_end": 9,
            "count": 1
           }
          ]
         }
        },
        {
         "name": "_deepnote_index_column",
         "dtype": "int64"
        }
       ],
       "rows_top": [
        {
         "key": "A",
         "data1": 0,
         "data2": 5,
         "_deepnote_index_column": 0
        },
        {
         "key": "B",
         "data1": 0.14285714285714285,
         "data2": 0,
         "_deepnote_index_column": 1
        },
        {
         "key": "C",
         "data1": 0.16666666666666666,
         "data2": 3,
         "_deepnote_index_column": 2
        },
        {
         "key": "A",
         "data1": 0.375,
         "data2": 3,
         "_deepnote_index_column": 3
        },
        {
         "key": "B",
         "data1": 0.5714285714285714,
         "data2": 7,
         "_deepnote_index_column": 4
        },
        {
         "key": "C",
         "data1": 0.4166666666666667,
         "data2": 9,
         "_deepnote_index_column": 5
        }
       ],
       "rows_bottom": null
      },
      "text/plain": "  key     data1  data2\n0   A  0.000000      5\n1   B  0.142857      0\n2   C  0.166667      3\n3   A  0.375000      3\n4   B  0.571429      7\n5   C  0.416667      9",
      "text/html": "<div>\n<style scoped>\n    .dataframe tbody tr th:only-of-type {\n        vertical-align: middle;\n    }\n\n    .dataframe tbody tr th {\n        vertical-align: top;\n    }\n\n    .dataframe thead th {\n        text-align: right;\n    }\n</style>\n<table border=\"1\" class=\"dataframe\">\n  <thead>\n    <tr style=\"text-align: right;\">\n      <th></th>\n      <th>key</th>\n      <th>data1</th>\n      <th>data2</th>\n    </tr>\n  </thead>\n  <tbody>\n    <tr>\n      <th>0</th>\n      <td>A</td>\n      <td>0.000000</td>\n      <td>5</td>\n    </tr>\n    <tr>\n      <th>1</th>\n      <td>B</td>\n      <td>0.142857</td>\n      <td>0</td>\n    </tr>\n    <tr>\n      <th>2</th>\n      <td>C</td>\n      <td>0.166667</td>\n      <td>3</td>\n    </tr>\n    <tr>\n      <th>3</th>\n      <td>A</td>\n      <td>0.375000</td>\n      <td>3</td>\n    </tr>\n    <tr>\n      <th>4</th>\n      <td>B</td>\n      <td>0.571429</td>\n      <td>7</td>\n    </tr>\n    <tr>\n      <th>5</th>\n      <td>C</td>\n      <td>0.416667</td>\n      <td>9</td>\n    </tr>\n  </tbody>\n</table>\n</div>"
     },
     "metadata": {}
    }
   ]
  },
  {
   "cell_type": "code",
   "metadata": {
    "tags": [],
    "cell_id": "00059-8012e33b-31ba-409f-be92-a7e1593f86b3",
    "deepnote_to_be_reexecuted": false,
    "source_hash": "b1d3a319",
    "execution_start": 1626404579142,
    "execution_millis": 2,
    "deepnote_cell_type": "code"
   },
   "source": "url = \"https://raw.githubusercontent.com/reddyprasade/Data-Analysis-with-Python/main/Statistics/Data/zoo.csv\"",
   "execution_count": null,
   "outputs": []
  },
  {
   "cell_type": "code",
   "metadata": {
    "tags": [],
    "cell_id": "00060-d6140b0e-7457-400c-9c69-b3f4f28cf080",
    "deepnote_to_be_reexecuted": false,
    "source_hash": "4f83caf9",
    "execution_start": 1626404605170,
    "execution_millis": 143,
    "deepnote_cell_type": "code"
   },
   "source": "zoo = pd.read_csv(url, delimiter = ',')\nzoo",
   "execution_count": null,
   "outputs": [
    {
     "output_type": "execute_result",
     "execution_count": 61,
     "data": {
      "application/vnd.deepnote.dataframe.v2+json": {
       "row_count": 22,
       "column_count": 3,
       "columns": [
        {
         "name": "animal",
         "dtype": "object",
         "stats": {
          "unique_count": 5,
          "nan_count": 0,
          "categories": [
           {
            "name": "zebra",
            "count": 7
           },
           {
            "name": "tiger",
            "count": 5
           },
           {
            "name": "3 others",
            "count": 10
           }
          ]
         }
        },
        {
         "name": "uniq_id",
         "dtype": "int64",
         "stats": {
          "unique_count": 22,
          "nan_count": 0,
          "min": "1001",
          "max": "1022",
          "histogram": [
           {
            "bin_start": 1001,
            "bin_end": 1003.1,
            "count": 3
           },
           {
            "bin_start": 1003.1,
            "bin_end": 1005.2,
            "count": 2
           },
           {
            "bin_start": 1005.2,
            "bin_end": 1007.3,
            "count": 2
           },
           {
            "bin_start": 1007.3,
            "bin_end": 1009.4,
            "count": 2
           },
           {
            "bin_start": 1009.4,
            "bin_end": 1011.5,
            "count": 2
           },
           {
            "bin_start": 1011.5,
            "bin_end": 1013.6,
            "count": 2
           },
           {
            "bin_start": 1013.6,
            "bin_end": 1015.7,
            "count": 2
           },
           {
            "bin_start": 1015.7,
            "bin_end": 1017.8,
            "count": 2
           },
           {
            "bin_start": 1017.8,
            "bin_end": 1019.9,
            "count": 2
           },
           {
            "bin_start": 1019.9,
            "bin_end": 1022,
            "count": 3
           }
          ]
         }
        },
        {
         "name": "water_need",
         "dtype": "int64",
         "stats": {
          "unique_count": 18,
          "nan_count": 0,
          "min": "80",
          "max": "600",
          "histogram": [
           {
            "bin_start": 80,
            "bin_end": 132,
            "count": 2
           },
           {
            "bin_start": 132,
            "bin_end": 184,
            "count": 0
           },
           {
            "bin_start": 184,
            "bin_end": 236,
            "count": 4
           },
           {
            "bin_start": 236,
            "bin_end": 288,
            "count": 1
           },
           {
            "bin_start": 288,
            "bin_end": 340,
            "count": 5
           },
           {
            "bin_start": 340,
            "bin_end": 392,
            "count": 1
           },
           {
            "bin_start": 392,
            "bin_end": 444,
            "count": 4
           },
           {
            "bin_start": 444,
            "bin_end": 496,
            "count": 0
           },
           {
            "bin_start": 496,
            "bin_end": 548,
            "count": 2
           },
           {
            "bin_start": 548,
            "bin_end": 600,
            "count": 3
           }
          ]
         }
        },
        {
         "name": "_deepnote_index_column",
         "dtype": "int64"
        }
       ],
       "rows_top": [
        {
         "animal": "elephant",
         "uniq_id": 1001,
         "water_need": 500,
         "_deepnote_index_column": 0
        },
        {
         "animal": "elephant",
         "uniq_id": 1002,
         "water_need": 600,
         "_deepnote_index_column": 1
        },
        {
         "animal": "elephant",
         "uniq_id": 1003,
         "water_need": 550,
         "_deepnote_index_column": 2
        },
        {
         "animal": "tiger",
         "uniq_id": 1004,
         "water_need": 300,
         "_deepnote_index_column": 3
        },
        {
         "animal": "tiger",
         "uniq_id": 1005,
         "water_need": 320,
         "_deepnote_index_column": 4
        },
        {
         "animal": "tiger",
         "uniq_id": 1006,
         "water_need": 330,
         "_deepnote_index_column": 5
        },
        {
         "animal": "tiger",
         "uniq_id": 1007,
         "water_need": 290,
         "_deepnote_index_column": 6
        },
        {
         "animal": "tiger",
         "uniq_id": 1008,
         "water_need": 310,
         "_deepnote_index_column": 7
        },
        {
         "animal": "zebra",
         "uniq_id": 1009,
         "water_need": 200,
         "_deepnote_index_column": 8
        },
        {
         "animal": "zebra",
         "uniq_id": 1010,
         "water_need": 220,
         "_deepnote_index_column": 9
        },
        {
         "animal": "zebra",
         "uniq_id": 1011,
         "water_need": 240,
         "_deepnote_index_column": 10
        },
        {
         "animal": "zebra",
         "uniq_id": 1012,
         "water_need": 230,
         "_deepnote_index_column": 11
        },
        {
         "animal": "zebra",
         "uniq_id": 1013,
         "water_need": 220,
         "_deepnote_index_column": 12
        },
        {
         "animal": "zebra",
         "uniq_id": 1014,
         "water_need": 100,
         "_deepnote_index_column": 13
        },
        {
         "animal": "zebra",
         "uniq_id": 1015,
         "water_need": 80,
         "_deepnote_index_column": 14
        },
        {
         "animal": "lion",
         "uniq_id": 1016,
         "water_need": 420,
         "_deepnote_index_column": 15
        },
        {
         "animal": "lion",
         "uniq_id": 1017,
         "water_need": 600,
         "_deepnote_index_column": 16
        },
        {
         "animal": "lion",
         "uniq_id": 1018,
         "water_need": 500,
         "_deepnote_index_column": 17
        },
        {
         "animal": "lion",
         "uniq_id": 1019,
         "water_need": 390,
         "_deepnote_index_column": 18
        },
        {
         "animal": "kangaroo",
         "uniq_id": 1020,
         "water_need": 410,
         "_deepnote_index_column": 19
        },
        {
         "animal": "kangaroo",
         "uniq_id": 1021,
         "water_need": 430,
         "_deepnote_index_column": 20
        },
        {
         "animal": "kangaroo",
         "uniq_id": 1022,
         "water_need": 410,
         "_deepnote_index_column": 21
        }
       ],
       "rows_bottom": null
      },
      "text/plain": "      animal  uniq_id  water_need\n0   elephant     1001         500\n1   elephant     1002         600\n2   elephant     1003         550\n3      tiger     1004         300\n4      tiger     1005         320\n5      tiger     1006         330\n6      tiger     1007         290\n7      tiger     1008         310\n8      zebra     1009         200\n9      zebra     1010         220\n10     zebra     1011         240\n11     zebra     1012         230\n12     zebra     1013         220\n13     zebra     1014         100\n14     zebra     1015          80\n15      lion     1016         420\n16      lion     1017         600\n17      lion     1018         500\n18      lion     1019         390\n19  kangaroo     1020         410\n20  kangaroo     1021         430\n21  kangaroo     1022         410",
      "text/html": "<div>\n<style scoped>\n    .dataframe tbody tr th:only-of-type {\n        vertical-align: middle;\n    }\n\n    .dataframe tbody tr th {\n        vertical-align: top;\n    }\n\n    .dataframe thead th {\n        text-align: right;\n    }\n</style>\n<table border=\"1\" class=\"dataframe\">\n  <thead>\n    <tr style=\"text-align: right;\">\n      <th></th>\n      <th>animal</th>\n      <th>uniq_id</th>\n      <th>water_need</th>\n    </tr>\n  </thead>\n  <tbody>\n    <tr>\n      <th>0</th>\n      <td>elephant</td>\n      <td>1001</td>\n      <td>500</td>\n    </tr>\n    <tr>\n      <th>1</th>\n      <td>elephant</td>\n      <td>1002</td>\n      <td>600</td>\n    </tr>\n    <tr>\n      <th>2</th>\n      <td>elephant</td>\n      <td>1003</td>\n      <td>550</td>\n    </tr>\n    <tr>\n      <th>3</th>\n      <td>tiger</td>\n      <td>1004</td>\n      <td>300</td>\n    </tr>\n    <tr>\n      <th>4</th>\n      <td>tiger</td>\n      <td>1005</td>\n      <td>320</td>\n    </tr>\n    <tr>\n      <th>5</th>\n      <td>tiger</td>\n      <td>1006</td>\n      <td>330</td>\n    </tr>\n    <tr>\n      <th>6</th>\n      <td>tiger</td>\n      <td>1007</td>\n      <td>290</td>\n    </tr>\n    <tr>\n      <th>7</th>\n      <td>tiger</td>\n      <td>1008</td>\n      <td>310</td>\n    </tr>\n    <tr>\n      <th>8</th>\n      <td>zebra</td>\n      <td>1009</td>\n      <td>200</td>\n    </tr>\n    <tr>\n      <th>9</th>\n      <td>zebra</td>\n      <td>1010</td>\n      <td>220</td>\n    </tr>\n    <tr>\n      <th>10</th>\n      <td>zebra</td>\n      <td>1011</td>\n      <td>240</td>\n    </tr>\n    <tr>\n      <th>11</th>\n      <td>zebra</td>\n      <td>1012</td>\n      <td>230</td>\n    </tr>\n    <tr>\n      <th>12</th>\n      <td>zebra</td>\n      <td>1013</td>\n      <td>220</td>\n    </tr>\n    <tr>\n      <th>13</th>\n      <td>zebra</td>\n      <td>1014</td>\n      <td>100</td>\n    </tr>\n    <tr>\n      <th>14</th>\n      <td>zebra</td>\n      <td>1015</td>\n      <td>80</td>\n    </tr>\n    <tr>\n      <th>15</th>\n      <td>lion</td>\n      <td>1016</td>\n      <td>420</td>\n    </tr>\n    <tr>\n      <th>16</th>\n      <td>lion</td>\n      <td>1017</td>\n      <td>600</td>\n    </tr>\n    <tr>\n      <th>17</th>\n      <td>lion</td>\n      <td>1018</td>\n      <td>500</td>\n    </tr>\n    <tr>\n      <th>18</th>\n      <td>lion</td>\n      <td>1019</td>\n      <td>390</td>\n    </tr>\n    <tr>\n      <th>19</th>\n      <td>kangaroo</td>\n      <td>1020</td>\n      <td>410</td>\n    </tr>\n    <tr>\n      <th>20</th>\n      <td>kangaroo</td>\n      <td>1021</td>\n      <td>430</td>\n    </tr>\n    <tr>\n      <th>21</th>\n      <td>kangaroo</td>\n      <td>1022</td>\n      <td>410</td>\n    </tr>\n  </tbody>\n</table>\n</div>"
     },
     "metadata": {}
    }
   ]
  },
  {
   "cell_type": "code",
   "metadata": {
    "tags": [],
    "cell_id": "00061-f66b9218-138f-4b86-bfc1-fc63ac9e082e",
    "deepnote_to_be_reexecuted": false,
    "source_hash": "89cc262a",
    "execution_start": 1626404646028,
    "execution_millis": 8,
    "deepnote_cell_type": "code"
   },
   "source": "zoo.count()",
   "execution_count": null,
   "outputs": [
    {
     "output_type": "execute_result",
     "execution_count": 62,
     "data": {
      "text/plain": "animal        22\nuniq_id       22\nwater_need    22\ndtype: int64"
     },
     "metadata": {}
    }
   ]
  },
  {
   "cell_type": "code",
   "metadata": {
    "tags": [],
    "cell_id": "00062-74c5a8fe-576d-410e-af85-2634b2716a03",
    "deepnote_to_be_reexecuted": false,
    "source_hash": "8bf62224",
    "execution_start": 1626404696852,
    "execution_millis": 8,
    "deepnote_cell_type": "code"
   },
   "source": "zoo[['animal']].count()",
   "execution_count": null,
   "outputs": [
    {
     "output_type": "execute_result",
     "execution_count": 65,
     "data": {
      "text/plain": "animal    22\ndtype: int64"
     },
     "metadata": {}
    }
   ]
  },
  {
   "cell_type": "code",
   "metadata": {
    "tags": [],
    "cell_id": "00063-24d7a048-ad5a-4d68-b7c8-ebab3a2d36cb",
    "deepnote_to_be_reexecuted": false,
    "source_hash": "d5b0f310",
    "execution_start": 1626404719459,
    "execution_millis": 12,
    "deepnote_cell_type": "code"
   },
   "source": "zoo.water_need.sum()",
   "execution_count": null,
   "outputs": [
    {
     "output_type": "execute_result",
     "execution_count": 66,
     "data": {
      "text/plain": "7650"
     },
     "metadata": {}
    }
   ]
  },
  {
   "cell_type": "code",
   "metadata": {
    "tags": [],
    "cell_id": "00064-5ba8c63c-9b1e-4474-9b65-066786f292a3",
    "deepnote_to_be_reexecuted": false,
    "source_hash": "a2465ea7",
    "execution_start": 1626404737743,
    "execution_millis": 9,
    "deepnote_cell_type": "code"
   },
   "source": "zoo.sum()",
   "execution_count": null,
   "outputs": [
    {
     "output_type": "execute_result",
     "execution_count": 67,
     "data": {
      "text/plain": "animal        elephantelephantelephanttigertigertigertigerti...\nuniq_id                                                   22253\nwater_need                                                 7650\ndtype: object"
     },
     "metadata": {}
    }
   ]
  },
  {
   "cell_type": "code",
   "metadata": {
    "tags": [],
    "cell_id": "00065-525d2805-1504-4266-8da4-8dc9ba451c3b",
    "deepnote_to_be_reexecuted": false,
    "source_hash": "4d644fa6",
    "execution_start": 1626404791790,
    "execution_millis": 21,
    "deepnote_cell_type": "code"
   },
   "source": "zoo.groupby('animal').mean()",
   "execution_count": null,
   "outputs": [
    {
     "output_type": "execute_result",
     "execution_count": 68,
     "data": {
      "application/vnd.deepnote.dataframe.v2+json": {
       "row_count": 5,
       "column_count": 2,
       "columns": [
        {
         "name": "uniq_id",
         "dtype": "float64",
         "stats": {
          "unique_count": 5,
          "nan_count": 0,
          "min": "1002.0",
          "max": "1021.0",
          "histogram": [
           {
            "bin_start": 1002,
            "bin_end": 1003.9,
            "count": 1
           },
           {
            "bin_start": 1003.9,
            "bin_end": 1005.8,
            "count": 0
           },
           {
            "bin_start": 1005.8,
            "bin_end": 1007.7,
            "count": 1
           },
           {
            "bin_start": 1007.7,
            "bin_end": 1009.6,
            "count": 0
           },
           {
            "bin_start": 1009.6,
            "bin_end": 1011.5,
            "count": 0
           },
           {
            "bin_start": 1011.5,
            "bin_end": 1013.4,
            "count": 1
           },
           {
            "bin_start": 1013.4,
            "bin_end": 1015.3,
            "count": 0
           },
           {
            "bin_start": 1015.3,
            "bin_end": 1017.2,
            "count": 0
           },
           {
            "bin_start": 1017.2,
            "bin_end": 1019.1,
            "count": 1
           },
           {
            "bin_start": 1019.1,
            "bin_end": 1021,
            "count": 1
           }
          ]
         }
        },
        {
         "name": "water_need",
         "dtype": "float64",
         "stats": {
          "unique_count": 5,
          "nan_count": 0,
          "min": "184.28571428571428",
          "max": "550.0",
          "histogram": [
           {
            "bin_start": 184.28571428571428,
            "bin_end": 220.85714285714283,
            "count": 1
           },
           {
            "bin_start": 220.85714285714283,
            "bin_end": 257.42857142857144,
            "count": 0
           },
           {
            "bin_start": 257.42857142857144,
            "bin_end": 294,
            "count": 0
           },
           {
            "bin_start": 294,
            "bin_end": 330.57142857142856,
            "count": 1
           },
           {
            "bin_start": 330.57142857142856,
            "bin_end": 367.1428571428571,
            "count": 0
           },
           {
            "bin_start": 367.1428571428571,
            "bin_end": 403.71428571428567,
            "count": 0
           },
           {
            "bin_start": 403.71428571428567,
            "bin_end": 440.2857142857143,
            "count": 1
           },
           {
            "bin_start": 440.2857142857143,
            "bin_end": 476.85714285714283,
            "count": 0
           },
           {
            "bin_start": 476.85714285714283,
            "bin_end": 513.4285714285713,
            "count": 1
           },
           {
            "bin_start": 513.4285714285713,
            "bin_end": 550,
            "count": 1
           }
          ]
         }
        },
        {
         "name": "_deepnote_index_column",
         "dtype": "object"
        }
       ],
       "rows_top": [
        {
         "uniq_id": 1002,
         "water_need": 550,
         "_deepnote_index_column": "elephant"
        },
        {
         "uniq_id": 1021,
         "water_need": 416.6666666666667,
         "_deepnote_index_column": "kangaroo"
        },
        {
         "uniq_id": 1017.5,
         "water_need": 477.5,
         "_deepnote_index_column": "lion"
        },
        {
         "uniq_id": 1006,
         "water_need": 310,
         "_deepnote_index_column": "tiger"
        },
        {
         "uniq_id": 1012,
         "water_need": 184.28571428571428,
         "_deepnote_index_column": "zebra"
        }
       ],
       "rows_bottom": null
      },
      "text/plain": "          uniq_id  water_need\nanimal                       \nelephant   1002.0  550.000000\nkangaroo   1021.0  416.666667\nlion       1017.5  477.500000\ntiger      1006.0  310.000000\nzebra      1012.0  184.285714",
      "text/html": "<div>\n<style scoped>\n    .dataframe tbody tr th:only-of-type {\n        vertical-align: middle;\n    }\n\n    .dataframe tbody tr th {\n        vertical-align: top;\n    }\n\n    .dataframe thead th {\n        text-align: right;\n    }\n</style>\n<table border=\"1\" class=\"dataframe\">\n  <thead>\n    <tr style=\"text-align: right;\">\n      <th></th>\n      <th>uniq_id</th>\n      <th>water_need</th>\n    </tr>\n    <tr>\n      <th>animal</th>\n      <th></th>\n      <th></th>\n    </tr>\n  </thead>\n  <tbody>\n    <tr>\n      <th>elephant</th>\n      <td>1002.0</td>\n      <td>550.000000</td>\n    </tr>\n    <tr>\n      <th>kangaroo</th>\n      <td>1021.0</td>\n      <td>416.666667</td>\n    </tr>\n    <tr>\n      <th>lion</th>\n      <td>1017.5</td>\n      <td>477.500000</td>\n    </tr>\n    <tr>\n      <th>tiger</th>\n      <td>1006.0</td>\n      <td>310.000000</td>\n    </tr>\n    <tr>\n      <th>zebra</th>\n      <td>1012.0</td>\n      <td>184.285714</td>\n    </tr>\n  </tbody>\n</table>\n</div>"
     },
     "metadata": {}
    }
   ]
  },
  {
   "cell_type": "code",
   "metadata": {
    "tags": [],
    "cell_id": "00066-2e493a99-d5dd-45eb-b8b4-a655ddc44e6d",
    "deepnote_to_be_reexecuted": false,
    "source_hash": "5b607e4a",
    "execution_start": 1626404950656,
    "execution_millis": 14,
    "deepnote_cell_type": "code"
   },
   "source": "# This returns a DataFrame object.\nzoo.groupby('animal').mean()[['water_need']]",
   "execution_count": null,
   "outputs": [
    {
     "output_type": "execute_result",
     "execution_count": 69,
     "data": {
      "application/vnd.deepnote.dataframe.v2+json": {
       "row_count": 5,
       "column_count": 1,
       "columns": [
        {
         "name": "water_need",
         "dtype": "float64",
         "stats": {
          "unique_count": 5,
          "nan_count": 0,
          "min": "184.28571428571428",
          "max": "550.0",
          "histogram": [
           {
            "bin_start": 184.28571428571428,
            "bin_end": 220.85714285714283,
            "count": 1
           },
           {
            "bin_start": 220.85714285714283,
            "bin_end": 257.42857142857144,
            "count": 0
           },
           {
            "bin_start": 257.42857142857144,
            "bin_end": 294,
            "count": 0
           },
           {
            "bin_start": 294,
            "bin_end": 330.57142857142856,
            "count": 1
           },
           {
            "bin_start": 330.57142857142856,
            "bin_end": 367.1428571428571,
            "count": 0
           },
           {
            "bin_start": 367.1428571428571,
            "bin_end": 403.71428571428567,
            "count": 0
           },
           {
            "bin_start": 403.71428571428567,
            "bin_end": 440.2857142857143,
            "count": 1
           },
           {
            "bin_start": 440.2857142857143,
            "bin_end": 476.85714285714283,
            "count": 0
           },
           {
            "bin_start": 476.85714285714283,
            "bin_end": 513.4285714285713,
            "count": 1
           },
           {
            "bin_start": 513.4285714285713,
            "bin_end": 550,
            "count": 1
           }
          ]
         }
        },
        {
         "name": "_deepnote_index_column",
         "dtype": "object"
        }
       ],
       "rows_top": [
        {
         "water_need": 550,
         "_deepnote_index_column": "elephant"
        },
        {
         "water_need": 416.6666666666667,
         "_deepnote_index_column": "kangaroo"
        },
        {
         "water_need": 477.5,
         "_deepnote_index_column": "lion"
        },
        {
         "water_need": 310,
         "_deepnote_index_column": "tiger"
        },
        {
         "water_need": 184.28571428571428,
         "_deepnote_index_column": "zebra"
        }
       ],
       "rows_bottom": null
      },
      "text/plain": "          water_need\nanimal              \nelephant  550.000000\nkangaroo  416.666667\nlion      477.500000\ntiger     310.000000\nzebra     184.285714",
      "text/html": "<div>\n<style scoped>\n    .dataframe tbody tr th:only-of-type {\n        vertical-align: middle;\n    }\n\n    .dataframe tbody tr th {\n        vertical-align: top;\n    }\n\n    .dataframe thead th {\n        text-align: right;\n    }\n</style>\n<table border=\"1\" class=\"dataframe\">\n  <thead>\n    <tr style=\"text-align: right;\">\n      <th></th>\n      <th>water_need</th>\n    </tr>\n    <tr>\n      <th>animal</th>\n      <th></th>\n    </tr>\n  </thead>\n  <tbody>\n    <tr>\n      <th>elephant</th>\n      <td>550.000000</td>\n    </tr>\n    <tr>\n      <th>kangaroo</th>\n      <td>416.666667</td>\n    </tr>\n    <tr>\n      <th>lion</th>\n      <td>477.500000</td>\n    </tr>\n    <tr>\n      <th>tiger</th>\n      <td>310.000000</td>\n    </tr>\n    <tr>\n      <th>zebra</th>\n      <td>184.285714</td>\n    </tr>\n  </tbody>\n</table>\n</div>"
     },
     "metadata": {}
    }
   ]
  },
  {
   "cell_type": "code",
   "metadata": {
    "tags": [],
    "cell_id": "00067-2a538c4a-2e2a-4313-ad5d-dbb58c1135b2",
    "deepnote_to_be_reexecuted": false,
    "source_hash": "a87cdc67",
    "execution_start": 1626405015918,
    "execution_millis": 11,
    "deepnote_cell_type": "code"
   },
   "source": "# This returns a Series object.\nzoo.groupby('animal').mean().water_need",
   "execution_count": null,
   "outputs": [
    {
     "output_type": "execute_result",
     "execution_count": 70,
     "data": {
      "text/plain": "animal\nelephant    550.000000\nkangaroo    416.666667\nlion        477.500000\ntiger       310.000000\nzebra       184.285714\nName: water_need, dtype: float64"
     },
     "metadata": {}
    }
   ]
  },
  {
   "cell_type": "code",
   "metadata": {
    "tags": [],
    "cell_id": "00068-045fc282-e18d-4ced-b38c-bc4122945aaf",
    "deepnote_cell_type": "code"
   },
   "source": "",
   "execution_count": null,
   "outputs": []
  },
  {
   "cell_type": "markdown",
   "source": "<a style='text-decoration:none;line-height:16px;display:flex;color:#5B5B62;padding:10px;justify-content:end;' href='https://deepnote.com?utm_source=created-in-deepnote-cell&projectId=f5f90ba1-3290-463e-8fc6-44108f4fa21b' target=\"_blank\">\n<img alt='Created in deepnote.com' style='display:inline;max-height:16px;margin:0px;margin-right:7.5px;' src='data:image/svg+xml;base64,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' > </img>\nCreated in <span style='font-weight:600;margin-left:4px;'>Deepnote</span></a>",
   "metadata": {
    "tags": [],
    "created_in_deepnote_cell": true,
    "deepnote_cell_type": "markdown"
   }
  }
 ],
 "nbformat": 4,
 "nbformat_minor": 2,
 "metadata": {
  "orig_nbformat": 2,
  "deepnote": {
   "is_reactive": false
  },
  "deepnote_notebook_id": "742fa63e-9786-49f5-ba4f-9b488d508cbf",
  "deepnote_execution_queue": []
 }
}