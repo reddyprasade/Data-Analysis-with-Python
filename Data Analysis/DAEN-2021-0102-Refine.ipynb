{
 "cells": [
  {
   "cell_type": "markdown",
   "source": "# 2. Refine the Data\n \n> \"Data is messy\"\n\n- **Missing** e.g. Check for missing or incomplete data\n- **Quality** e.g. Check for duplicates, accuracy, unusual data\n- **Parse** e.g. extract year and month from date\n- **Convert** e.g. free text to coded value\n- **Derive** e.g. gender from title\n- **Calculate** e.g. percentages, proportion\n- **Remove** e.g. remove redundant data\n- **Merge** e.g. first and surname for full name\n- **Aggregate** e.g. rollup by year, cluster by area\n- **Filter** e.g. exclude based on location\n- **Sample** e.g. extract a representative data\n- **Summary** e.g. show summary stats like mean",
   "metadata": {
    "cell_id": "00000-dd6455b3-6043-430a-9853-9ebf053f10c9",
    "deepnote_cell_type": "markdown"
   }
  },
  {
   "cell_type": "code",
   "metadata": {
    "collapsed": true,
    "cell_id": "00001-350f7650-8b73-4ce4-a389-a0e6d322a3f2",
    "deepnote_to_be_reexecuted": false,
    "source_hash": "7025c96b",
    "execution_start": 1624846614580,
    "deepnote_cell_type": "code"
   },
   "source": "# Load the libraries\nimport numpy as np\nimport pandas as pd",
   "execution_count": 1,
   "outputs": []
  },
  {
   "cell_type": "code",
   "metadata": {
    "collapsed": true,
    "cell_id": "00002-f253c268-7d7f-4d32-aacc-b5f6aeda272b",
    "deepnote_to_be_reexecuted": false,
    "source_hash": "d9cdf2ca",
    "execution_start": 1624846655201,
    "execution_millis": 177,
    "deepnote_cell_type": "code"
   },
   "source": "# Load the data again!\ndf = pd.read_csv(\"https://raw.githubusercontent.com/reddyprasade/Data-Analysis-with-Python/main/Statistics/Data/Weed_Price.csv\", parse_dates=[-1])",
   "execution_count": 3,
   "outputs": []
  },
  {
   "cell_type": "code",
   "source": "df",
   "metadata": {
    "tags": [],
    "cell_id": "00003-574c0bee-f7b3-4b05-a372-18539c83c166",
    "deepnote_to_be_reexecuted": false,
    "source_hash": "f804c160",
    "execution_start": 1624846664002,
    "execution_millis": 80,
    "deepnote_cell_type": "code"
   },
   "outputs": [
    {
     "output_type": "execute_result",
     "execution_count": 4,
     "data": {
      "application/vnd.deepnote.dataframe.v2+json": {
       "row_count": 22899,
       "column_count": 8,
       "columns": [
        {
         "name": "State",
         "dtype": "object",
         "stats": {
          "unique_count": 51,
          "nan_count": 0,
          "categories": [
           {
            "name": "Alabama",
            "count": 449
           },
           {
            "name": "Alaska",
            "count": 449
           },
           {
            "name": "49 others",
            "count": 22001
           }
          ]
         }
        },
        {
         "name": "HighQ",
         "dtype": "float64",
         "stats": {
          "unique_count": 6943,
          "nan_count": 0,
          "min": "202.02",
          "max": "415.7",
          "histogram": [
           {
            "bin_start": 202.02,
            "bin_end": 223.388,
            "count": 449
           },
           {
            "bin_start": 223.388,
            "bin_end": 244.756,
            "count": 1026
           },
           {
            "bin_start": 244.756,
            "bin_end": 266.124,
            "count": 562
           },
           {
            "bin_start": 266.124,
            "bin_end": 287.492,
            "count": 1347
           },
           {
            "bin_start": 287.492,
            "bin_end": 308.86,
            "count": 2679
           },
           {
            "bin_start": 308.86,
            "bin_end": 330.228,
            "count": 1635
           },
           {
            "bin_start": 330.228,
            "bin_end": 351.596,
            "count": 7315
           },
           {
            "bin_start": 351.596,
            "bin_end": 372.964,
            "count": 6465
           },
           {
            "bin_start": 372.964,
            "bin_end": 394.332,
            "count": 1119
           },
           {
            "bin_start": 394.332,
            "bin_end": 415.7,
            "count": 302
           }
          ]
         }
        },
        {
         "name": "HighQN",
         "dtype": "int64",
         "stats": {
          "unique_count": 6402,
          "nan_count": 0,
          "min": "93",
          "max": "18492",
          "histogram": [
           {
            "bin_start": 93,
            "bin_end": 1932.9,
            "count": 13489
           },
           {
            "bin_start": 1932.9,
            "bin_end": 3772.8,
            "count": 5666
           },
           {
            "bin_start": 3772.8,
            "bin_end": 5612.700000000001,
            "count": 1804
           },
           {
            "bin_start": 5612.700000000001,
            "bin_end": 7452.6,
            "count": 771
           },
           {
            "bin_start": 7452.6,
            "bin_end": 9292.5,
            "count": 602
           },
           {
            "bin_start": 9292.5,
            "bin_end": 11132.400000000001,
            "count": 118
           },
           {
            "bin_start": 11132.400000000001,
            "bin_end": 12972.300000000001,
            "count": 63
           },
           {
            "bin_start": 12972.300000000001,
            "bin_end": 14812.2,
            "count": 142
           },
           {
            "bin_start": 14812.2,
            "bin_end": 16652.100000000002,
            "count": 176
           },
           {
            "bin_start": 16652.100000000002,
            "bin_end": 18492,
            "count": 68
           }
          ]
         }
        },
        {
         "name": "MedQ",
         "dtype": "float64",
         "stats": {
          "unique_count": 7776,
          "nan_count": 0,
          "min": "144.85",
          "max": "379.0",
          "histogram": [
           {
            "bin_start": 144.85,
            "bin_end": 168.265,
            "count": 449
           },
           {
            "bin_start": 168.265,
            "bin_end": 191.68,
            "count": 1859
           },
           {
            "bin_start": 191.68,
            "bin_end": 215.095,
            "count": 3227
           },
           {
            "bin_start": 215.095,
            "bin_end": 238.51,
            "count": 4239
           },
           {
            "bin_start": 238.51,
            "bin_end": 261.92499999999995,
            "count": 4738
           },
           {
            "bin_start": 261.92499999999995,
            "bin_end": 285.34000000000003,
            "count": 4022
           },
           {
            "bin_start": 285.34000000000003,
            "bin_end": 308.755,
            "count": 2645
           },
           {
            "bin_start": 308.755,
            "bin_end": 332.16999999999996,
            "count": 423
           },
           {
            "bin_start": 332.16999999999996,
            "bin_end": 355.585,
            "count": 845
           },
           {
            "bin_start": 355.585,
            "bin_end": 379,
            "count": 452
           }
          ]
         }
        },
        {
         "name": "MedQN",
         "dtype": "int64"
        },
        {
         "name": "LowQ",
         "dtype": "float64"
        },
        {
         "name": "LowQN",
         "dtype": "int64"
        },
        {
         "name": "date",
         "dtype": "datetime64[ns]"
        },
        {
         "name": "_deepnote_index_column",
         "dtype": "int64"
        }
       ],
       "rows_top": [
        {
         "State": "Alabama",
         "HighQ": 339.06,
         "HighQN": 1042,
         "MedQ": 198.64,
         "MedQN": 933,
         "LowQ": 149.49,
         "LowQN": 123,
         "date": "2014-01-01T00:00:00.000000",
         "_deepnote_index_column": 0
        },
        {
         "State": "Alaska",
         "HighQ": 288.75,
         "HighQN": 252,
         "MedQ": 260.6,
         "MedQN": 297,
         "LowQ": 388.58,
         "LowQN": 26,
         "date": "2014-01-01T00:00:00.000000",
         "_deepnote_index_column": 1
        },
        {
         "State": "Arizona",
         "HighQ": 303.31,
         "HighQN": 1941,
         "MedQ": 209.35,
         "MedQN": 1625,
         "LowQ": 189.45,
         "LowQN": 222,
         "date": "2014-01-01T00:00:00.000000",
         "_deepnote_index_column": 2
        },
        {
         "State": "Arkansas",
         "HighQ": 361.85,
         "HighQN": 576,
         "MedQ": 185.62,
         "MedQN": 544,
         "LowQ": 125.87,
         "LowQN": 112,
         "date": "2014-01-01T00:00:00.000000",
         "_deepnote_index_column": 3
        },
        {
         "State": "California",
         "HighQ": 248.78,
         "HighQN": 12096,
         "MedQ": 193.56,
         "MedQN": 12812,
         "LowQ": 192.92,
         "LowQN": 778,
         "date": "2014-01-01T00:00:00.000000",
         "_deepnote_index_column": 4
        },
        {
         "State": "Colorado",
         "HighQ": 236.31,
         "HighQN": 2161,
         "MedQ": 195.29,
         "MedQN": 1728,
         "LowQ": 213.5,
         "LowQN": 128,
         "date": "2014-01-01T00:00:00.000000",
         "_deepnote_index_column": 5
        },
        {
         "State": "Connecticut",
         "HighQ": 347.9,
         "HighQN": 1294,
         "MedQ": 273.97,
         "MedQN": 1316,
         "LowQ": 257.36,
         "LowQN": 91,
         "date": "2014-01-01T00:00:00.000000",
         "_deepnote_index_column": 6
        },
        {
         "State": "Delaware",
         "HighQ": 373.18,
         "HighQN": 347,
         "MedQ": 226.25,
         "MedQN": 273,
         "LowQ": 199.88,
         "LowQN": 34,
         "date": "2014-01-01T00:00:00.000000",
         "_deepnote_index_column": 7
        },
        {
         "State": "District of Columbia",
         "HighQ": 352.26,
         "HighQN": 433,
         "MedQ": 295.67,
         "MedQN": 349,
         "LowQ": 213.72,
         "LowQN": 39,
         "date": "2014-01-01T00:00:00.000000",
         "_deepnote_index_column": 8
        },
        {
         "State": "Florida",
         "HighQ": 306.43,
         "HighQN": 6506,
         "MedQ": 220.03,
         "MedQN": 5237,
         "LowQ": 158.26,
         "LowQN": 514,
         "date": "2014-01-01T00:00:00.000000",
         "_deepnote_index_column": 9
        },
        {
         "State": "Georgia",
         "HighQ": 332.21,
         "HighQN": 3099,
         "MedQ": 213.52,
         "MedQN": 2269,
         "LowQ": 153.45,
         "LowQN": 229,
         "date": "2014-01-01T00:00:00.000000",
         "_deepnote_index_column": 10
        },
        {
         "State": "Hawaii",
         "HighQ": 310.96,
         "HighQN": 328,
         "MedQ": 270.38,
         "MedQN": 350,
         "LowQ": 160.46,
         "LowQN": 25,
         "date": "2014-01-01T00:00:00.000000",
         "_deepnote_index_column": 11
        },
        {
         "State": "Idaho",
         "HighQ": 276.05,
         "HighQN": 315,
         "MedQ": 254.96,
         "MedQN": 445,
         "LowQ": 132.61,
         "LowQN": 20,
         "date": "2014-01-01T00:00:00.000000",
         "_deepnote_index_column": 12
        },
        {
         "State": "Illinois",
         "HighQ": 359.74,
         "HighQN": 4008,
         "MedQ": 287.23,
         "MedQN": 3644,
         "LowQ": 181.25,
         "LowQN": 329,
         "date": "2014-01-01T00:00:00.000000",
         "_deepnote_index_column": 13
        },
        {
         "State": "Indiana",
         "HighQ": 336.8,
         "HighQN": 1665,
         "MedQ": 206.24,
         "MedQN": 1446,
         "LowQ": 154.05,
         "LowQN": 248,
         "date": "2014-01-01T00:00:00.000000",
         "_deepnote_index_column": 14
        },
        {
         "State": "Iowa",
         "HighQ": 371.7,
         "HighQN": 697,
         "MedQ": 292.34,
         "MedQN": 649,
         "LowQ": 252.24,
         "LowQN": 103,
         "date": "2014-01-01T00:00:00.000000",
         "_deepnote_index_column": 15
        },
        {
         "State": "Kansas",
         "HighQ": 353.51,
         "HighQN": 838,
         "MedQ": 260.97,
         "MedQN": 628,
         "LowQ": 124.27,
         "LowQN": 109,
         "date": "2014-01-01T00:00:00.000000",
         "_deepnote_index_column": 16
        },
        {
         "State": "Kentucky",
         "HighQ": 337.33,
         "HighQN": 1013,
         "MedQ": 183.17,
         "MedQN": 986,
         "LowQ": 120.31,
         "LowQN": 132,
         "date": "2014-01-01T00:00:00.000000",
         "_deepnote_index_column": 17
        },
        {
         "State": "Louisiana",
         "HighQ": 377.71,
         "HighQN": 1071,
         "MedQ": 243.26,
         "MedQN": 864,
         "LowQ": 153.73,
         "LowQN": 224,
         "date": "2014-01-01T00:00:00.000000",
         "_deepnote_index_column": 18
        },
        {
         "State": "Maine",
         "HighQ": 321.1,
         "HighQN": 450,
         "MedQ": 259.18,
         "MedQN": 425,
         "LowQ": 214.8,
         "LowQN": 52,
         "date": "2014-01-01T00:00:00.000000",
         "_deepnote_index_column": 19
        },
        {
         "State": "Montana",
         "HighQ": 279.73,
         "HighQN": 585,
         "MedQ": 257.98,
         "MedQN": 258,
         "LowQ": 734.65,
         "LowQN": 22,
         "date": "2014-01-01T00:00:00.000000",
         "_deepnote_index_column": 20
        },
        {
         "State": "Nebraska",
         "HighQ": 352.64,
         "HighQN": 508,
         "MedQ": 247.03,
         "MedQN": 510,
         "LowQ": 142.99,
         "LowQN": 62,
         "date": "2014-01-01T00:00:00.000000",
         "_deepnote_index_column": 21
        },
        {
         "State": "Nevada",
         "HighQ": 269.61,
         "HighQN": 899,
         "MedQ": 218.67,
         "MedQN": 928,
         "LowQ": 231.08,
         "LowQN": 61,
         "date": "2014-01-01T00:00:00.000000",
         "_deepnote_index_column": 22
        },
        {
         "State": "New Hampshire",
         "HighQ": 366.47,
         "HighQN": 422,
         "MedQ": 289.81,
         "MedQN": 441,
         "LowQ": 561.05,
         "LowQN": 38,
         "date": "2014-01-01T00:00:00.000000",
         "_deepnote_index_column": 23
        },
        {
         "State": "New Jersey",
         "HighQ": 354.91,
         "HighQN": 2244,
         "MedQ": 294.39,
         "MedQN": 2799,
         "LowQ": 225.62,
         "LowQN": 185,
         "date": "2014-01-01T00:00:00.000000",
         "_deepnote_index_column": 24
        },
        {
         "State": "New Mexico",
         "HighQ": 293.86,
         "HighQN": 565,
         "MedQ": 216.55,
         "MedQN": 434,
         "LowQ": 63.7,
         "LowQN": 42,
         "date": "2014-01-01T00:00:00.000000",
         "_deepnote_index_column": 25
        },
        {
         "State": "New York",
         "HighQ": 351.98,
         "HighQN": 5800,
         "MedQ": 268.88,
         "MedQN": 5824,
         "LowQ": 190.38,
         "LowQN": 482,
         "date": "2014-01-01T00:00:00.000000",
         "_deepnote_index_column": 26
        },
        {
         "State": "North Carolina",
         "HighQ": 355.88,
         "HighQN": 2775,
         "MedQ": 247.26,
         "MedQN": 1911,
         "LowQ": 152.09,
         "LowQN": 226,
         "date": "2014-01-01T00:00:00.000000",
         "_deepnote_index_column": 27
        },
        {
         "State": "North Dakota",
         "HighQ": 412.84,
         "HighQN": 137,
         "MedQ": 361.95,
         "MedQN": 200,
         "LowQ": 269.55,
         "LowQN": 13,
         "date": "2014-01-01T00:00:00.000000",
         "_deepnote_index_column": 28
        },
        {
         "State": "Ohio",
         "HighQ": 336.63,
         "HighQN": 3050,
         "MedQ": 212.44,
         "MedQN": 2817,
         "LowQ": 168.87,
         "LowQN": 399,
         "date": "2014-01-01T00:00:00.000000",
         "_deepnote_index_column": 29
        },
        {
         "State": "Oklahoma",
         "HighQ": 364.57,
         "HighQN": 754,
         "MedQ": 228.12,
         "MedQN": 664,
         "LowQ": 121.6,
         "LowQN": 131,
         "date": "2014-01-01T00:00:00.000000",
         "_deepnote_index_column": 30
        },
        {
         "State": "Oregon",
         "HighQ": 213.49,
         "HighQN": 1612,
         "MedQ": 188.55,
         "MedQN": 1336,
         "LowQ": 175.87,
         "LowQN": 61,
         "date": "2014-01-01T00:00:00.000000",
         "_deepnote_index_column": 31
        },
        {
         "State": "Maryland",
         "HighQ": 380.03,
         "HighQN": 1963,
         "MedQ": 248.71,
         "MedQN": 1546,
         "LowQ": 196.59,
         "LowQN": 152,
         "date": "2014-01-01T00:00:00.000000",
         "_deepnote_index_column": 32
        },
        {
         "State": "Massachusetts",
         "HighQ": 354.84,
         "HighQN": 2878,
         "MedQ": 297.28,
         "MedQN": 2467,
         "LowQ": 217.89,
         "LowQN": 219,
         "date": "2014-01-01T00:00:00.000000",
         "_deepnote_index_column": 33
        },
        {
         "State": "Michigan",
         "HighQ": 299.36,
         "HighQN": 3048,
         "MedQ": 277.63,
         "MedQN": 2529,
         "LowQ": 227.48,
         "LowQN": 230,
         "date": "2014-01-01T00:00:00.000000",
         "_deepnote_index_column": 34
        },
        {
         "State": "Minnesota",
         "HighQ": 371.18,
         "HighQN": 1712,
         "MedQ": 280.57,
         "MedQN": 1532,
         "LowQ": 183.29,
         "LowQN": 101,
         "date": "2014-01-01T00:00:00.000000",
         "_deepnote_index_column": 35
        },
        {
         "State": "Mississippi",
         "HighQ": 340.28,
         "HighQN": 410,
         "MedQ": 150.02,
         "MedQN": 350,
         "LowQ": 137.29,
         "LowQN": 95,
         "date": "2014-01-01T00:00:00.000000",
         "_deepnote_index_column": 36
        },
        {
         "State": "Missouri",
         "HighQ": 371.57,
         "HighQN": 1559,
         "MedQ": 241.63,
         "MedQN": 1287,
         "LowQ": 153.48,
         "LowQN": 204,
         "date": "2014-01-01T00:00:00.000000",
         "_deepnote_index_column": 37
        },
        {
         "State": "Pennsylvania",
         "HighQ": 372.68,
         "HighQN": 3829,
         "MedQ": 266.44,
         "MedQN": 3205,
         "LowQ": 194.12,
         "LowQN": 364,
         "date": "2014-01-01T00:00:00.000000",
         "_deepnote_index_column": 38
        },
        {
         "State": "Rhode Island",
         "HighQ": 335.29,
         "HighQN": 529,
         "MedQ": 262.07,
         "MedQN": 360,
         "LowQ": 207.93,
         "LowQN": 33,
         "date": "2014-01-01T00:00:00.000000",
         "_deepnote_index_column": 39
        },
        {
         "State": "South Carolina",
         "HighQ": 349.42,
         "HighQN": 1153,
         "MedQ": 201.99,
         "MedQN": 902,
         "LowQ": 176.93,
         "LowQN": 119,
         "date": "2014-01-01T00:00:00.000000",
         "_deepnote_index_column": 40
        },
        {
         "State": "South Dakota",
         "HighQ": 387.8,
         "HighQN": 161,
         "MedQ": 362.7,
         "MedQN": 167,
         "LowQ": 125.68,
         "LowQN": 20,
         "date": "2014-01-01T00:00:00.000000",
         "_deepnote_index_column": 41
        },
        {
         "State": "Tennessee",
         "HighQ": 359.75,
         "HighQN": 1546,
         "MedQ": 223.62,
         "MedQN": 1220,
         "LowQ": 200.59,
         "LowQN": 147,
         "date": "2014-01-01T00:00:00.000000",
         "_deepnote_index_column": 42
        },
        {
         "State": "Texas",
         "HighQ": 343.33,
         "HighQN": 5985,
         "MedQ": 235.87,
         "MedQN": 5631,
         "LowQ": 141.96,
         "LowQN": 850,
         "date": "2014-01-01T00:00:00.000000",
         "_deepnote_index_column": 43
        },
        {
         "State": "Utah",
         "HighQ": 291.54,
         "HighQN": 684,
         "MedQ": 233.11,
         "MedQN": 664,
         "LowQ": 169.84,
         "LowQN": 42,
         "date": "2014-01-01T00:00:00.000000",
         "_deepnote_index_column": 44
        },
        {
         "State": "Vermont",
         "HighQ": 379.88,
         "HighQN": 277,
         "MedQ": 323.31,
         "MedQN": 224,
         "LowQ": 187.06,
         "LowQN": 24,
         "date": "2014-01-01T00:00:00.000000",
         "_deepnote_index_column": 45
        },
        {
         "State": "Virginia",
         "HighQ": 374.01,
         "HighQN": 2472,
         "MedQ": 288.44,
         "MedQN": 1959,
         "LowQ": 223.02,
         "LowQN": 202,
         "date": "2014-01-01T00:00:00.000000",
         "_deepnote_index_column": 46
        },
        {
         "State": "Washington",
         "HighQ": 236.03,
         "HighQN": 2351,
         "MedQ": 192.06,
         "MedQN": 2345,
         "LowQ": 148.33,
         "LowQN": 108,
         "date": "2014-01-01T00:00:00.000000",
         "_deepnote_index_column": 47
        },
        {
         "State": "West Virginia",
         "HighQ": 360.8,
         "HighQN": 350,
         "MedQ": 197.75,
         "MedQN": 367,
         "LowQ": 158.25,
         "LowQN": 40,
         "date": "2014-01-01T00:00:00.000000",
         "_deepnote_index_column": 48
        },
        {
         "State": "Wisconsin",
         "HighQ": 357.99,
         "HighQN": 1623,
         "MedQ": 267.95,
         "MedQN": 1368,
         "LowQ": 229.91,
         "LowQN": 125,
         "date": "2014-01-01T00:00:00.000000",
         "_deepnote_index_column": 49
        },
        {
         "State": "Wyoming",
         "HighQ": 355.9,
         "HighQN": 93,
         "MedQ": 378.95,
         "MedQN": 134,
         "LowQ": 161.3,
         "LowQN": 11,
         "date": "2014-01-01T00:00:00.000000",
         "_deepnote_index_column": 50
        },
        {
         "State": "Alabama",
         "HighQ": 337.54,
         "HighQN": 1539,
         "MedQ": 208.24,
         "MedQN": 1463,
         "LowQ": "nan",
         "LowQN": 182,
         "date": "2015-01-01T00:00:00.000000",
         "_deepnote_index_column": 51
        },
        {
         "State": "Alaska",
         "HighQ": 303.02,
         "HighQN": 350,
         "MedQ": 270.45,
         "MedQN": 475,
         "LowQ": "nan",
         "LowQN": 37,
         "date": "2015-01-01T00:00:00.000000",
         "_deepnote_index_column": 52
        },
        {
         "State": "Arizona",
         "HighQ": 298.51,
         "HighQN": 2638,
         "MedQ": 209.43,
         "MedQN": 2426,
         "LowQ": "nan",
         "LowQN": 306,
         "date": "2015-01-01T00:00:00.000000",
         "_deepnote_index_column": 53
        },
        {
         "State": "Arkansas",
         "HighQ": 341.68,
         "HighQN": 846,
         "MedQ": 207.2,
         "MedQN": 836,
         "LowQ": "nan",
         "LowQN": 145,
         "date": "2015-01-01T00:00:00.000000",
         "_deepnote_index_column": 54
        },
        {
         "State": "California",
         "HighQ": 243.96,
         "HighQN": 16512,
         "MedQ": 189.35,
         "MedQN": 19151,
         "LowQ": "nan",
         "LowQN": 1096,
         "date": "2015-01-01T00:00:00.000000",
         "_deepnote_index_column": 55
        },
        {
         "State": "Colorado",
         "HighQ": 243.72,
         "HighQN": 3148,
         "MedQ": 195.11,
         "MedQN": 2877,
         "LowQ": "nan",
         "LowQN": 178,
         "date": "2015-01-01T00:00:00.000000",
         "_deepnote_index_column": 56
        },
        {
         "State": "Connecticut",
         "HighQ": 337.26,
         "HighQN": 1835,
         "MedQ": 267.99,
         "MedQN": 2069,
         "LowQ": "nan",
         "LowQN": 126,
         "date": "2015-01-01T00:00:00.000000",
         "_deepnote_index_column": 57
        },
        {
         "State": "Delaware",
         "HighQ": 364.19,
         "HighQN": 490,
         "MedQ": 234.72,
         "MedQN": 431,
         "LowQ": "nan",
         "LowQN": 41,
         "date": "2015-01-01T00:00:00.000000",
         "_deepnote_index_column": 58
        },
        {
         "State": "District of Columbia",
         "HighQ": 348.66,
         "HighQN": 657,
         "MedQ": 281.93,
         "MedQN": 578,
         "LowQ": "nan",
         "LowQN": 49,
         "date": "2015-01-01T00:00:00.000000",
         "_deepnote_index_column": 59
        },
        {
         "State": "Florida",
         "HighQ": 300.88,
         "HighQN": 9369,
         "MedQ": 217.05,
         "MedQN": 8166,
         "LowQ": "nan",
         "LowQN": 695,
         "date": "2015-01-01T00:00:00.000000",
         "_deepnote_index_column": 60
        },
        {
         "State": "Georgia",
         "HighQ": 324.3,
         "HighQN": 4422,
         "MedQ": 217.17,
         "MedQN": 3467,
         "LowQ": "nan",
         "LowQN": 303,
         "date": "2015-01-01T00:00:00.000000",
         "_deepnote_index_column": 61
        }
       ],
       "rows_bottom": [
        {
         "State": "Rhode Island",
         "HighQ": 335.29,
         "HighQN": 529,
         "MedQ": 262.07,
         "MedQN": 360,
         "LowQ": 207.93,
         "LowQN": 33,
         "date": "2013-12-31T00:00:00.000000",
         "_deepnote_index_column": 22836
        },
        {
         "State": "South Carolina",
         "HighQ": 349.42,
         "HighQN": 1153,
         "MedQ": 201.99,
         "MedQN": 901,
         "LowQ": 176.93,
         "LowQN": 119,
         "date": "2013-12-31T00:00:00.000000",
         "_deepnote_index_column": 22837
        },
        {
         "State": "South Dakota",
         "HighQ": 387.8,
         "HighQN": 161,
         "MedQ": 366.8,
         "MedQN": 166,
         "LowQ": 125.68,
         "LowQN": 20,
         "date": "2013-12-31T00:00:00.000000",
         "_deepnote_index_column": 22838
        },
        {
         "State": "Tennessee",
         "HighQ": 359.75,
         "HighQN": 1546,
         "MedQ": 223.73,
         "MedQN": 1219,
         "LowQ": 200.59,
         "LowQN": 147,
         "date": "2013-12-31T00:00:00.000000",
         "_deepnote_index_column": 22839
        },
        {
         "State": "Texas",
         "HighQ": 343.34,
         "HighQN": 5981,
         "MedQ": 235.92,
         "MedQN": 5626,
         "LowQ": 142.09,
         "LowQN": 849,
         "date": "2013-12-31T00:00:00.000000",
         "_deepnote_index_column": 22840
        },
        {
         "State": "Utah",
         "HighQ": 291.54,
         "HighQN": 684,
         "MedQ": 232.73,
         "MedQN": 663,
         "LowQ": 169.84,
         "LowQN": 42,
         "date": "2013-12-31T00:00:00.000000",
         "_deepnote_index_column": 22841
        },
        {
         "State": "Vermont",
         "HighQ": 379.88,
         "HighQN": 277,
         "MedQ": 323.31,
         "MedQN": 224,
         "LowQ": 187.06,
         "LowQN": 24,
         "date": "2013-12-31T00:00:00.000000",
         "_deepnote_index_column": 22842
        },
        {
         "State": "Virginia",
         "HighQ": 373.98,
         "HighQN": 2468,
         "MedQ": 288.34,
         "MedQN": 1958,
         "LowQ": 221.99,
         "LowQN": 201,
         "date": "2013-12-31T00:00:00.000000",
         "_deepnote_index_column": 22843
        },
        {
         "State": "Washington",
         "HighQ": 236.13,
         "HighQN": 2345,
         "MedQ": 192.11,
         "MedQN": 2342,
         "LowQ": 148.33,
         "LowQN": 108,
         "date": "2013-12-31T00:00:00.000000",
         "_deepnote_index_column": 22844
        },
        {
         "State": "West Virginia",
         "HighQ": 360.98,
         "HighQN": 349,
         "MedQ": 197.75,
         "MedQN": 367,
         "LowQ": 158.25,
         "LowQN": 40,
         "date": "2013-12-31T00:00:00.000000",
         "_deepnote_index_column": 22845
        },
        {
         "State": "Wisconsin",
         "HighQ": 357.83,
         "HighQN": 1621,
         "MedQ": 267.85,
         "MedQN": 1367,
         "LowQ": 229.91,
         "LowQN": 125,
         "date": "2013-12-31T00:00:00.000000",
         "_deepnote_index_column": 22846
        },
        {
         "State": "Wyoming",
         "HighQ": 355.9,
         "HighQN": 93,
         "MedQ": 378.95,
         "MedQN": 134,
         "LowQ": 161.3,
         "LowQN": 11,
         "date": "2013-12-31T00:00:00.000000",
         "_deepnote_index_column": 22847
        },
        {
         "State": "Alabama",
         "HighQ": 337.54,
         "HighQN": 1539,
         "MedQ": 208.15,
         "MedQN": 1460,
         "LowQ": "nan",
         "LowQN": 182,
         "date": "2014-12-31T00:00:00.000000",
         "_deepnote_index_column": 22848
        },
        {
         "State": "Alaska",
         "HighQ": 303.02,
         "HighQN": 350,
         "MedQ": 270.45,
         "MedQN": 475,
         "LowQ": "nan",
         "LowQN": 37,
         "date": "2014-12-31T00:00:00.000000",
         "_deepnote_index_column": 22849
        },
        {
         "State": "Arizona",
         "HighQ": 298.51,
         "HighQN": 2638,
         "MedQ": 209.46,
         "MedQN": 2425,
         "LowQ": "nan",
         "LowQN": 305,
         "date": "2014-12-31T00:00:00.000000",
         "_deepnote_index_column": 22850
        },
        {
         "State": "Arkansas",
         "HighQ": 341.68,
         "HighQN": 846,
         "MedQ": 207.54,
         "MedQN": 833,
         "LowQ": "nan",
         "LowQN": 145,
         "date": "2014-12-31T00:00:00.000000",
         "_deepnote_index_column": 22851
        },
        {
         "State": "California",
         "HighQ": 243.96,
         "HighQN": 16501,
         "MedQ": 189.38,
         "MedQN": 19140,
         "LowQ": "nan",
         "LowQN": 1094,
         "date": "2014-12-31T00:00:00.000000",
         "_deepnote_index_column": 22852
        },
        {
         "State": "Colorado",
         "HighQ": 243.69,
         "HighQN": 3144,
         "MedQ": 195.05,
         "MedQN": 2873,
         "LowQ": "nan",
         "LowQN": 178,
         "date": "2014-12-31T00:00:00.000000",
         "_deepnote_index_column": 22853
        },
        {
         "State": "Connecticut",
         "HighQ": 337.28,
         "HighQN": 1834,
         "MedQ": 267.92,
         "MedQN": 2067,
         "LowQ": "nan",
         "LowQN": 126,
         "date": "2014-12-31T00:00:00.000000",
         "_deepnote_index_column": 22854
        },
        {
         "State": "Delaware",
         "HighQ": 364.19,
         "HighQN": 490,
         "MedQ": 234.72,
         "MedQN": 431,
         "LowQ": "nan",
         "LowQN": 41,
         "date": "2014-12-31T00:00:00.000000",
         "_deepnote_index_column": 22855
        },
        {
         "State": "District of Columbia",
         "HighQ": 348.66,
         "HighQN": 657,
         "MedQ": 282.32,
         "MedQN": 577,
         "LowQ": "nan",
         "LowQN": 49,
         "date": "2014-12-31T00:00:00.000000",
         "_deepnote_index_column": 22856
        },
        {
         "State": "Florida",
         "HighQ": 300.92,
         "HighQN": 9364,
         "MedQ": 217.04,
         "MedQN": 8156,
         "LowQ": "nan",
         "LowQN": 695,
         "date": "2014-12-31T00:00:00.000000",
         "_deepnote_index_column": 22857
        },
        {
         "State": "Georgia",
         "HighQ": 324.27,
         "HighQN": 4421,
         "MedQ": 217.32,
         "MedQN": 3461,
         "LowQ": "nan",
         "LowQN": 303,
         "date": "2014-12-31T00:00:00.000000",
         "_deepnote_index_column": 22858
        },
        {
         "State": "Hawaii",
         "HighQ": 307.64,
         "HighQN": 452,
         "MedQ": 263.45,
         "MedQN": 522,
         "LowQ": "nan",
         "LowQN": 30,
         "date": "2014-12-31T00:00:00.000000",
         "_deepnote_index_column": 22859
        },
        {
         "State": "Idaho",
         "HighQ": 274.37,
         "HighQN": 449,
         "MedQ": 245.14,
         "MedQN": 672,
         "LowQ": "nan",
         "LowQN": 35,
         "date": "2014-12-31T00:00:00.000000",
         "_deepnote_index_column": 22860
        },
        {
         "State": "Illinois",
         "HighQ": 353.98,
         "HighQN": 5621,
         "MedQ": 282.67,
         "MedQN": 5523,
         "LowQ": "nan",
         "LowQN": 450,
         "date": "2014-12-31T00:00:00.000000",
         "_deepnote_index_column": 22861
        },
        {
         "State": "Indiana",
         "HighQ": 332.48,
         "HighQN": 2385,
         "MedQ": 214.49,
         "MedQN": 2244,
         "LowQ": "nan",
         "LowQN": 326,
         "date": "2014-12-31T00:00:00.000000",
         "_deepnote_index_column": 22862
        },
        {
         "State": "Iowa",
         "HighQ": 364.92,
         "HighQN": 975,
         "MedQ": 289.22,
         "MedQN": 1043,
         "LowQ": "nan",
         "LowQN": 122,
         "date": "2014-12-31T00:00:00.000000",
         "_deepnote_index_column": 22863
        },
        {
         "State": "Kansas",
         "HighQ": 350.29,
         "HighQN": 1159,
         "MedQ": 260.7,
         "MedQN": 999,
         "LowQ": "nan",
         "LowQN": 138,
         "date": "2014-12-31T00:00:00.000000",
         "_deepnote_index_column": 22864
        },
        {
         "State": "Kentucky",
         "HighQ": 338.76,
         "HighQN": 1489,
         "MedQ": 173.9,
         "MedQN": 1506,
         "LowQ": "nan",
         "LowQN": 180,
         "date": "2014-12-31T00:00:00.000000",
         "_deepnote_index_column": 22865
        },
        {
         "State": "Louisiana",
         "HighQ": 361.51,
         "HighQN": 1521,
         "MedQ": 240.89,
         "MedQN": 1349,
         "LowQ": "nan",
         "LowQN": 317,
         "date": "2014-12-31T00:00:00.000000",
         "_deepnote_index_column": 22866
        },
        {
         "State": "Maine",
         "HighQ": 312.3,
         "HighQN": 620,
         "MedQ": 234.89,
         "MedQN": 657,
         "LowQ": "nan",
         "LowQN": 61,
         "date": "2014-12-31T00:00:00.000000",
         "_deepnote_index_column": 22867
        },
        {
         "State": "Montana",
         "HighQ": 265.49,
         "HighQN": 737,
         "MedQ": 241.42,
         "MedQN": 364,
         "LowQ": "nan",
         "LowQN": 32,
         "date": "2014-12-31T00:00:00.000000",
         "_deepnote_index_column": 22868
        },
        {
         "State": "Nebraska",
         "HighQ": 335.65,
         "HighQN": 695,
         "MedQ": 246.11,
         "MedQN": 722,
         "LowQ": "nan",
         "LowQN": 76,
         "date": "2014-12-31T00:00:00.000000",
         "_deepnote_index_column": 22869
        },
        {
         "State": "Nevada",
         "HighQ": 266.33,
         "HighQN": 1235,
         "MedQ": 226.59,
         "MedQN": 1431,
         "LowQ": "nan",
         "LowQN": 78,
         "date": "2014-12-31T00:00:00.000000",
         "_deepnote_index_column": 22870
        },
        {
         "State": "New Hampshire",
         "HighQ": 353.87,
         "HighQN": 599,
         "MedQ": 289.07,
         "MedQN": 658,
         "LowQ": "nan",
         "LowQN": 51,
         "date": "2014-12-31T00:00:00.000000",
         "_deepnote_index_column": 22871
        },
        {
         "State": "New Jersey",
         "HighQ": 345.36,
         "HighQN": 3056,
         "MedQ": 286.58,
         "MedQN": 4190,
         "LowQ": "nan",
         "LowQN": 256,
         "date": "2014-12-31T00:00:00.000000",
         "_deepnote_index_column": 22872
        },
        {
         "State": "New Mexico",
         "HighQ": 289.2,
         "HighQN": 798,
         "MedQ": 219.5,
         "MedQN": 664,
         "LowQ": "nan",
         "LowQN": 68,
         "date": "2014-12-31T00:00:00.000000",
         "_deepnote_index_column": 22873
        },
        {
         "State": "New York",
         "HighQ": 343.89,
         "HighQN": 7831,
         "MedQ": 263.71,
         "MedQN": 8703,
         "LowQ": "nan",
         "LowQN": 616,
         "date": "2014-12-31T00:00:00.000000",
         "_deepnote_index_column": 22874
        },
        {
         "State": "North Carolina",
         "HighQ": 345.28,
         "HighQN": 4108,
         "MedQ": 245.87,
         "MedQN": 3030,
         "LowQ": "nan",
         "LowQN": 314,
         "date": "2014-12-31T00:00:00.000000",
         "_deepnote_index_column": 22875
        },
        {
         "State": "North Dakota",
         "HighQ": 393.94,
         "HighQN": 213,
         "MedQ": 339.6,
         "MedQN": 327,
         "LowQ": "nan",
         "LowQN": 23,
         "date": "2014-12-31T00:00:00.000000",
         "_deepnote_index_column": 22876
        },
        {
         "State": "Ohio",
         "HighQ": 332.7,
         "HighQN": 4240,
         "MedQ": 218.9,
         "MedQN": 4264,
         "LowQ": "nan",
         "LowQN": 550,
         "date": "2014-12-31T00:00:00.000000",
         "_deepnote_index_column": 22877
        },
        {
         "State": "Oklahoma",
         "HighQ": 354.61,
         "HighQN": 1115,
         "MedQ": 237.92,
         "MedQN": 1072,
         "LowQ": "nan",
         "LowQN": 195,
         "date": "2014-12-31T00:00:00.000000",
         "_deepnote_index_column": 22878
        },
        {
         "State": "Oregon",
         "HighQ": 205.8,
         "HighQN": 2178,
         "MedQ": 180.87,
         "MedQN": 2016,
         "LowQ": "nan",
         "LowQN": 95,
         "date": "2014-12-31T00:00:00.000000",
         "_deepnote_index_column": 22879
        },
        {
         "State": "Maryland",
         "HighQ": 366.04,
         "HighQN": 2860,
         "MedQ": 255.77,
         "MedQN": 2460,
         "LowQ": "nan",
         "LowQN": 193,
         "date": "2014-12-31T00:00:00.000000",
         "_deepnote_index_column": 22880
        },
        {
         "State": "Massachusetts",
         "HighQ": 345.66,
         "HighQN": 3999,
         "MedQ": 285.96,
         "MedQN": 3781,
         "LowQ": "nan",
         "LowQN": 289,
         "date": "2014-12-31T00:00:00.000000",
         "_deepnote_index_column": 22881
        },
        {
         "State": "Michigan",
         "HighQ": 288.1,
         "HighQN": 3988,
         "MedQ": 270.75,
         "MedQN": 3725,
         "LowQ": "nan",
         "LowQN": 295,
         "date": "2014-12-31T00:00:00.000000",
         "_deepnote_index_column": 22882
        },
        {
         "State": "Minnesota",
         "HighQ": 351.6,
         "HighQN": 2364,
         "MedQ": 272.98,
         "MedQN": 2465,
         "LowQ": "nan",
         "LowQN": 128,
         "date": "2014-12-31T00:00:00.000000",
         "_deepnote_index_column": 22883
        },
        {
         "State": "Mississippi",
         "HighQ": 334.7,
         "HighQN": 611,
         "MedQ": 150.39,
         "MedQN": 549,
         "LowQ": "nan",
         "LowQN": 143,
         "date": "2014-12-31T00:00:00.000000",
         "_deepnote_index_column": 22884
        },
        {
         "State": "Missouri",
         "HighQ": 351.55,
         "HighQN": 2216,
         "MedQ": 245.14,
         "MedQN": 2111,
         "LowQ": "nan",
         "LowQN": 299,
         "date": "2014-12-31T00:00:00.000000",
         "_deepnote_index_column": 22885
        },
        {
         "State": "Pennsylvania",
         "HighQ": 363.15,
         "HighQN": 5516,
         "MedQ": 269.63,
         "MedQN": 4973,
         "LowQ": "nan",
         "LowQN": 503,
         "date": "2014-12-31T00:00:00.000000",
         "_deepnote_index_column": 22886
        },
        {
         "State": "Rhode Island",
         "HighQ": 317.15,
         "HighQN": 721,
         "MedQ": 259.16,
         "MedQN": 559,
         "LowQ": "nan",
         "LowQN": 47,
         "date": "2014-12-31T00:00:00.000000",
         "_deepnote_index_column": 22887
        },
        {
         "State": "South Carolina",
         "HighQ": 336.98,
         "HighQN": 1683,
         "MedQ": 205.78,
         "MedQN": 1412,
         "LowQ": "nan",
         "LowQN": 163,
         "date": "2014-12-31T00:00:00.000000",
         "_deepnote_index_column": 22888
        },
        {
         "State": "South Dakota",
         "HighQ": 357.05,
         "HighQN": 222,
         "MedQ": 348.81,
         "MedQN": 256,
         "LowQ": "nan",
         "LowQN": 25,
         "date": "2014-12-31T00:00:00.000000",
         "_deepnote_index_column": 22889
        },
        {
         "State": "Tennessee",
         "HighQ": 348.95,
         "HighQN": 2241,
         "MedQ": 225.56,
         "MedQN": 1910,
         "LowQ": "nan",
         "LowQN": 219,
         "date": "2014-12-31T00:00:00.000000",
         "_deepnote_index_column": 22890
        },
        {
         "State": "Texas",
         "HighQ": 334.18,
         "HighQN": 8236,
         "MedQ": 233.58,
         "MedQN": 8573,
         "LowQ": "nan",
         "LowQN": 1147,
         "date": "2014-12-31T00:00:00.000000",
         "_deepnote_index_column": 22891
        },
        {
         "State": "Utah",
         "HighQ": 290.42,
         "HighQN": 959,
         "MedQ": 238.08,
         "MedQN": 1055,
         "LowQ": "nan",
         "LowQN": 62,
         "date": "2014-12-31T00:00:00.000000",
         "_deepnote_index_column": 22892
        },
        {
         "State": "Vermont",
         "HighQ": 371.23,
         "HighQN": 357,
         "MedQ": 308.86,
         "MedQN": 367,
         "LowQ": "nan",
         "LowQN": 32,
         "date": "2014-12-31T00:00:00.000000",
         "_deepnote_index_column": 22893
        },
        {
         "State": "Virginia",
         "HighQ": 364.98,
         "HighQN": 3513,
         "MedQ": 293.12,
         "MedQN": 3079,
         "LowQ": "nan",
         "LowQN": 284,
         "date": "2014-12-31T00:00:00.000000",
         "_deepnote_index_column": 22894
        },
        {
         "State": "Washington",
         "HighQ": 233.05,
         "HighQN": 3337,
         "MedQ": 189.92,
         "MedQN": 3562,
         "LowQ": "nan",
         "LowQN": 160,
         "date": "2014-12-31T00:00:00.000000",
         "_deepnote_index_column": 22895
        },
        {
         "State": "West Virginia",
         "HighQ": 359.35,
         "HighQN": 551,
         "MedQ": 224.03,
         "MedQN": 545,
         "LowQ": "nan",
         "LowQN": 60,
         "date": "2014-12-31T00:00:00.000000",
         "_deepnote_index_column": 22896
        },
        {
         "State": "Wisconsin",
         "HighQ": 350.52,
         "HighQN": 2244,
         "MedQ": 272.71,
         "MedQN": 2221,
         "LowQ": "nan",
         "LowQN": 167,
         "date": "2014-12-31T00:00:00.000000",
         "_deepnote_index_column": 22897
        },
        {
         "State": "Wyoming",
         "HighQ": 322.27,
         "HighQN": 131,
         "MedQ": 351.86,
         "MedQN": 197,
         "LowQ": "nan",
         "LowQN": 12,
         "date": "2014-12-31T00:00:00.000000",
         "_deepnote_index_column": 22898
        }
       ]
      },
      "text/plain": "               State   HighQ  HighQN    MedQ  MedQN    LowQ  LowQN       date\n0            Alabama  339.06    1042  198.64    933  149.49    123 2014-01-01\n1             Alaska  288.75     252  260.60    297  388.58     26 2014-01-01\n2            Arizona  303.31    1941  209.35   1625  189.45    222 2014-01-01\n3           Arkansas  361.85     576  185.62    544  125.87    112 2014-01-01\n4         California  248.78   12096  193.56  12812  192.92    778 2014-01-01\n...              ...     ...     ...     ...    ...     ...    ...        ...\n22894       Virginia  364.98    3513  293.12   3079     NaN    284 2014-12-31\n22895     Washington  233.05    3337  189.92   3562     NaN    160 2014-12-31\n22896  West Virginia  359.35     551  224.03    545     NaN     60 2014-12-31\n22897      Wisconsin  350.52    2244  272.71   2221     NaN    167 2014-12-31\n22898        Wyoming  322.27     131  351.86    197     NaN     12 2014-12-31\n\n[22899 rows x 8 columns]",
      "text/html": "<div>\n<style scoped>\n    .dataframe tbody tr th:only-of-type {\n        vertical-align: middle;\n    }\n\n    .dataframe tbody tr th {\n        vertical-align: top;\n    }\n\n    .dataframe thead th {\n        text-align: right;\n    }\n</style>\n<table border=\"1\" class=\"dataframe\">\n  <thead>\n    <tr style=\"text-align: right;\">\n      <th></th>\n      <th>State</th>\n      <th>HighQ</th>\n      <th>HighQN</th>\n      <th>MedQ</th>\n      <th>MedQN</th>\n      <th>LowQ</th>\n      <th>LowQN</th>\n      <th>date</th>\n    </tr>\n  </thead>\n  <tbody>\n    <tr>\n      <th>0</th>\n      <td>Alabama</td>\n      <td>339.06</td>\n      <td>1042</td>\n      <td>198.64</td>\n      <td>933</td>\n      <td>149.49</td>\n      <td>123</td>\n      <td>2014-01-01</td>\n    </tr>\n    <tr>\n      <th>1</th>\n      <td>Alaska</td>\n      <td>288.75</td>\n      <td>252</td>\n      <td>260.60</td>\n      <td>297</td>\n      <td>388.58</td>\n      <td>26</td>\n      <td>2014-01-01</td>\n    </tr>\n    <tr>\n      <th>2</th>\n      <td>Arizona</td>\n      <td>303.31</td>\n      <td>1941</td>\n      <td>209.35</td>\n      <td>1625</td>\n      <td>189.45</td>\n      <td>222</td>\n      <td>2014-01-01</td>\n    </tr>\n    <tr>\n      <th>3</th>\n      <td>Arkansas</td>\n      <td>361.85</td>\n      <td>576</td>\n      <td>185.62</td>\n      <td>544</td>\n      <td>125.87</td>\n      <td>112</td>\n      <td>2014-01-01</td>\n    </tr>\n    <tr>\n      <th>4</th>\n      <td>California</td>\n      <td>248.78</td>\n      <td>12096</td>\n      <td>193.56</td>\n      <td>12812</td>\n      <td>192.92</td>\n      <td>778</td>\n      <td>2014-01-01</td>\n    </tr>\n    <tr>\n      <th>...</th>\n      <td>...</td>\n      <td>...</td>\n      <td>...</td>\n      <td>...</td>\n      <td>...</td>\n      <td>...</td>\n      <td>...</td>\n      <td>...</td>\n    </tr>\n    <tr>\n      <th>22894</th>\n      <td>Virginia</td>\n      <td>364.98</td>\n      <td>3513</td>\n      <td>293.12</td>\n      <td>3079</td>\n      <td>NaN</td>\n      <td>284</td>\n      <td>2014-12-31</td>\n    </tr>\n    <tr>\n      <th>22895</th>\n      <td>Washington</td>\n      <td>233.05</td>\n      <td>3337</td>\n      <td>189.92</td>\n      <td>3562</td>\n      <td>NaN</td>\n      <td>160</td>\n      <td>2014-12-31</td>\n    </tr>\n    <tr>\n      <th>22896</th>\n      <td>West Virginia</td>\n      <td>359.35</td>\n      <td>551</td>\n      <td>224.03</td>\n      <td>545</td>\n      <td>NaN</td>\n      <td>60</td>\n      <td>2014-12-31</td>\n    </tr>\n    <tr>\n      <th>22897</th>\n      <td>Wisconsin</td>\n      <td>350.52</td>\n      <td>2244</td>\n      <td>272.71</td>\n      <td>2221</td>\n      <td>NaN</td>\n      <td>167</td>\n      <td>2014-12-31</td>\n    </tr>\n    <tr>\n      <th>22898</th>\n      <td>Wyoming</td>\n      <td>322.27</td>\n      <td>131</td>\n      <td>351.86</td>\n      <td>197</td>\n      <td>NaN</td>\n      <td>12</td>\n      <td>2014-12-31</td>\n    </tr>\n  </tbody>\n</table>\n<p>22899 rows × 8 columns</p>\n</div>"
     },
     "metadata": {}
    }
   ],
   "execution_count": 4
  },
  {
   "cell_type": "markdown",
   "source": "## 2.1 Missing Data\n\nBy “missing” data we simply mean null or “not present for whatever reason”. Lets see if we can find the missing data in our data set either because it exists and was not collected or it never existed",
   "metadata": {
    "cell_id": "00003-df895d34-96b5-45f1-ab59-625a5e7a09c6",
    "deepnote_cell_type": "markdown"
   }
  },
  {
   "cell_type": "code",
   "metadata": {
    "collapsed": false,
    "cell_id": "00004-d8ca62f6-693d-4b9f-9bf0-82f4965829e9",
    "deepnote_to_be_reexecuted": false,
    "source_hash": "442e9ffc",
    "execution_start": 1624846751944,
    "execution_millis": 8,
    "deepnote_cell_type": "code"
   },
   "source": "# Lets start the count to seeing about missing data\ndf.count()",
   "execution_count": 5,
   "outputs": [
    {
     "output_type": "execute_result",
     "execution_count": 5,
     "data": {
      "text/plain": "State     22899\nHighQ     22899\nHighQN    22899\nMedQ      22899\nMedQN     22899\nLowQ      12342\nLowQN     22899\ndate      22899\ndtype: int64"
     },
     "metadata": {}
    }
   ]
  },
  {
   "cell_type": "code",
   "source": "df.isnull().sum()",
   "metadata": {
    "tags": [],
    "cell_id": "00006-220e58c1-f5b9-4bb0-a85c-6f2e59200fd2",
    "deepnote_to_be_reexecuted": false,
    "source_hash": "f3dd26da",
    "execution_start": 1624846795077,
    "execution_millis": 16,
    "deepnote_cell_type": "code"
   },
   "outputs": [
    {
     "output_type": "execute_result",
     "execution_count": 7,
     "data": {
      "text/plain": "State         0\nHighQ         0\nHighQN        0\nMedQ          0\nMedQN         0\nLowQ      10557\nLowQN         0\ndate          0\ndtype: int64"
     },
     "metadata": {}
    }
   ],
   "execution_count": 7
  },
  {
   "cell_type": "code",
   "metadata": {
    "collapsed": false,
    "cell_id": "00005-3c51feab-9b15-480e-b45c-5c429afe28cf",
    "deepnote_to_be_reexecuted": false,
    "source_hash": "dfa3e403",
    "execution_start": 1624846774465,
    "execution_millis": 5,
    "deepnote_cell_type": "code"
   },
   "source": "df['LowQ'].isnull().sum()",
   "execution_count": 6,
   "outputs": [
    {
     "output_type": "execute_result",
     "execution_count": 6,
     "data": {
      "text/plain": "10557"
     },
     "metadata": {}
    }
   ]
  },
  {
   "cell_type": "code",
   "metadata": {
    "collapsed": false,
    "cell_id": "00006-a8e32e87-dfa7-4807-968f-2c9c11c4ca55",
    "deepnote_to_be_reexecuted": false,
    "source_hash": "30828cf1",
    "execution_start": 1624846861389,
    "execution_millis": 52,
    "deepnote_cell_type": "code"
   },
   "source": "# We can see the bottom rows which have NaN values\ndf.tail()",
   "execution_count": 8,
   "outputs": [
    {
     "output_type": "execute_result",
     "execution_count": 8,
     "data": {
      "application/vnd.deepnote.dataframe.v2+json": {
       "row_count": 5,
       "column_count": 8,
       "columns": [
        {
         "name": "State",
         "dtype": "object",
         "stats": {
          "unique_count": 5,
          "nan_count": 0,
          "categories": [
           {
            "name": "Virginia",
            "count": 1
           },
           {
            "name": "Washington",
            "count": 1
           },
           {
            "name": "3 others",
            "count": 3
           }
          ]
         }
        },
        {
         "name": "HighQ",
         "dtype": "float64",
         "stats": {
          "unique_count": 5,
          "nan_count": 0,
          "min": "233.05",
          "max": "364.98",
          "histogram": [
           {
            "bin_start": 233.05,
            "bin_end": 246.24300000000002,
            "count": 1
           },
           {
            "bin_start": 246.24300000000002,
            "bin_end": 259.43600000000004,
            "count": 0
           },
           {
            "bin_start": 259.43600000000004,
            "bin_end": 272.629,
            "count": 0
           },
           {
            "bin_start": 272.629,
            "bin_end": 285.822,
            "count": 0
           },
           {
            "bin_start": 285.822,
            "bin_end": 299.015,
            "count": 0
           },
           {
            "bin_start": 299.015,
            "bin_end": 312.208,
            "count": 0
           },
           {
            "bin_start": 312.208,
            "bin_end": 325.401,
            "count": 1
           },
           {
            "bin_start": 325.401,
            "bin_end": 338.59400000000005,
            "count": 0
           },
           {
            "bin_start": 338.59400000000005,
            "bin_end": 351.78700000000003,
            "count": 1
           },
           {
            "bin_start": 351.78700000000003,
            "bin_end": 364.98,
            "count": 2
           }
          ]
         }
        },
        {
         "name": "HighQN",
         "dtype": "int64",
         "stats": {
          "unique_count": 5,
          "nan_count": 0,
          "min": "131",
          "max": "3513",
          "histogram": [
           {
            "bin_start": 131,
            "bin_end": 469.2,
            "count": 1
           },
           {
            "bin_start": 469.2,
            "bin_end": 807.4,
            "count": 1
           },
           {
            "bin_start": 807.4,
            "bin_end": 1145.6,
            "count": 0
           },
           {
            "bin_start": 1145.6,
            "bin_end": 1483.8,
            "count": 0
           },
           {
            "bin_start": 1483.8,
            "bin_end": 1822,
            "count": 0
           },
           {
            "bin_start": 1822,
            "bin_end": 2160.2,
            "count": 0
           },
           {
            "bin_start": 2160.2,
            "bin_end": 2498.4,
            "count": 1
           },
           {
            "bin_start": 2498.4,
            "bin_end": 2836.6,
            "count": 0
           },
           {
            "bin_start": 2836.6,
            "bin_end": 3174.7999999999997,
            "count": 0
           },
           {
            "bin_start": 3174.7999999999997,
            "bin_end": 3513,
            "count": 2
           }
          ]
         }
        },
        {
         "name": "MedQ",
         "dtype": "float64",
         "stats": {
          "unique_count": 5,
          "nan_count": 0,
          "min": "189.92",
          "max": "351.86",
          "histogram": [
           {
            "bin_start": 189.92,
            "bin_end": 206.11399999999998,
            "count": 1
           },
           {
            "bin_start": 206.11399999999998,
            "bin_end": 222.308,
            "count": 0
           },
           {
            "bin_start": 222.308,
            "bin_end": 238.502,
            "count": 1
           },
           {
            "bin_start": 238.502,
            "bin_end": 254.696,
            "count": 0
           },
           {
            "bin_start": 254.696,
            "bin_end": 270.89,
            "count": 0
           },
           {
            "bin_start": 270.89,
            "bin_end": 287.084,
            "count": 1
           },
           {
            "bin_start": 287.084,
            "bin_end": 303.278,
            "count": 1
           },
           {
            "bin_start": 303.278,
            "bin_end": 319.472,
            "count": 0
           },
           {
            "bin_start": 319.472,
            "bin_end": 335.66600000000005,
            "count": 0
           },
           {
            "bin_start": 335.66600000000005,
            "bin_end": 351.86,
            "count": 1
           }
          ]
         }
        },
        {
         "name": "MedQN",
         "dtype": "int64",
         "stats": {
          "unique_count": 5,
          "nan_count": 0,
          "min": "197",
          "max": "3562",
          "histogram": [
           {
            "bin_start": 197,
            "bin_end": 533.5,
            "count": 1
           },
           {
            "bin_start": 533.5,
            "bin_end": 870,
            "count": 1
           },
           {
            "bin_start": 870,
            "bin_end": 1206.5,
            "count": 0
           },
           {
            "bin_start": 1206.5,
            "bin_end": 1543,
            "count": 0
           },
           {
            "bin_start": 1543,
            "bin_end": 1879.5,
            "count": 0
           },
           {
            "bin_start": 1879.5,
            "bin_end": 2216,
            "count": 0
           },
           {
            "bin_start": 2216,
            "bin_end": 2552.5,
            "count": 1
           },
           {
            "bin_start": 2552.5,
            "bin_end": 2889,
            "count": 0
           },
           {
            "bin_start": 2889,
            "bin_end": 3225.5,
            "count": 1
           },
           {
            "bin_start": 3225.5,
            "bin_end": 3562,
            "count": 1
           }
          ]
         }
        },
        {
         "name": "LowQ",
         "dtype": "float64",
         "stats": {
          "unique_count": 0,
          "nan_count": 5,
          "min": null,
          "max": null,
          "histogram": [
           {
            "bin_start": 0,
            "bin_end": 0.1,
            "count": 0
           },
           {
            "bin_start": 0.1,
            "bin_end": 0.2,
            "count": 0
           },
           {
            "bin_start": 0.2,
            "bin_end": 0.30000000000000004,
            "count": 0
           },
           {
            "bin_start": 0.30000000000000004,
            "bin_end": 0.4,
            "count": 0
           },
           {
            "bin_start": 0.4,
            "bin_end": 0.5,
            "count": 0
           },
           {
            "bin_start": 0.5,
            "bin_end": 0.6000000000000001,
            "count": 0
           },
           {
            "bin_start": 0.6000000000000001,
            "bin_end": 0.7000000000000001,
            "count": 0
           },
           {
            "bin_start": 0.7000000000000001,
            "bin_end": 0.8,
            "count": 0
           },
           {
            "bin_start": 0.8,
            "bin_end": 0.9,
            "count": 0
           },
           {
            "bin_start": 0.9,
            "bin_end": 1,
            "count": 0
           }
          ]
         }
        },
        {
         "name": "LowQN",
         "dtype": "int64",
         "stats": {
          "unique_count": 5,
          "nan_count": 0,
          "min": "12",
          "max": "284",
          "histogram": [
           {
            "bin_start": 12,
            "bin_end": 39.2,
            "count": 1
           },
           {
            "bin_start": 39.2,
            "bin_end": 66.4,
            "count": 1
           },
           {
            "bin_start": 66.4,
            "bin_end": 93.6,
            "count": 0
           },
           {
            "bin_start": 93.6,
            "bin_end": 120.8,
            "count": 0
           },
           {
            "bin_start": 120.8,
            "bin_end": 148,
            "count": 0
           },
           {
            "bin_start": 148,
            "bin_end": 175.2,
            "count": 2
           },
           {
            "bin_start": 175.2,
            "bin_end": 202.4,
            "count": 0
           },
           {
            "bin_start": 202.4,
            "bin_end": 229.6,
            "count": 0
           },
           {
            "bin_start": 229.6,
            "bin_end": 256.79999999999995,
            "count": 0
           },
           {
            "bin_start": 256.79999999999995,
            "bin_end": 284,
            "count": 1
           }
          ]
         }
        },
        {
         "name": "date",
         "dtype": "datetime64[ns]",
         "stats": {
          "unique_count": 1,
          "nan_count": 0,
          "min": "2014-12-31 00:00:00",
          "max": "2014-12-31 00:00:00",
          "histogram": null
         }
        },
        {
         "name": "_deepnote_index_column",
         "dtype": "int64"
        }
       ],
       "rows_top": [
        {
         "State": "Virginia",
         "HighQ": 364.98,
         "HighQN": 3513,
         "MedQ": 293.12,
         "MedQN": 3079,
         "LowQ": "nan",
         "LowQN": 284,
         "date": "2014-12-31T00:00:00.000000",
         "_deepnote_index_column": 22894
        },
        {
         "State": "Washington",
         "HighQ": 233.05,
         "HighQN": 3337,
         "MedQ": 189.92,
         "MedQN": 3562,
         "LowQ": "nan",
         "LowQN": 160,
         "date": "2014-12-31T00:00:00.000000",
         "_deepnote_index_column": 22895
        },
        {
         "State": "West Virginia",
         "HighQ": 359.35,
         "HighQN": 551,
         "MedQ": 224.03,
         "MedQN": 545,
         "LowQ": "nan",
         "LowQN": 60,
         "date": "2014-12-31T00:00:00.000000",
         "_deepnote_index_column": 22896
        },
        {
         "State": "Wisconsin",
         "HighQ": 350.52,
         "HighQN": 2244,
         "MedQ": 272.71,
         "MedQN": 2221,
         "LowQ": "nan",
         "LowQN": 167,
         "date": "2014-12-31T00:00:00.000000",
         "_deepnote_index_column": 22897
        },
        {
         "State": "Wyoming",
         "HighQ": 322.27,
         "HighQN": 131,
         "MedQ": 351.86,
         "MedQN": 197,
         "LowQ": "nan",
         "LowQN": 12,
         "date": "2014-12-31T00:00:00.000000",
         "_deepnote_index_column": 22898
        }
       ],
       "rows_bottom": null
      },
      "text/plain": "               State   HighQ  HighQN    MedQ  MedQN  LowQ  LowQN       date\n22894       Virginia  364.98    3513  293.12   3079   NaN    284 2014-12-31\n22895     Washington  233.05    3337  189.92   3562   NaN    160 2014-12-31\n22896  West Virginia  359.35     551  224.03    545   NaN     60 2014-12-31\n22897      Wisconsin  350.52    2244  272.71   2221   NaN    167 2014-12-31\n22898        Wyoming  322.27     131  351.86    197   NaN     12 2014-12-31",
      "text/html": "<div>\n<style scoped>\n    .dataframe tbody tr th:only-of-type {\n        vertical-align: middle;\n    }\n\n    .dataframe tbody tr th {\n        vertical-align: top;\n    }\n\n    .dataframe thead th {\n        text-align: right;\n    }\n</style>\n<table border=\"1\" class=\"dataframe\">\n  <thead>\n    <tr style=\"text-align: right;\">\n      <th></th>\n      <th>State</th>\n      <th>HighQ</th>\n      <th>HighQN</th>\n      <th>MedQ</th>\n      <th>MedQN</th>\n      <th>LowQ</th>\n      <th>LowQN</th>\n      <th>date</th>\n    </tr>\n  </thead>\n  <tbody>\n    <tr>\n      <th>22894</th>\n      <td>Virginia</td>\n      <td>364.98</td>\n      <td>3513</td>\n      <td>293.12</td>\n      <td>3079</td>\n      <td>NaN</td>\n      <td>284</td>\n      <td>2014-12-31</td>\n    </tr>\n    <tr>\n      <th>22895</th>\n      <td>Washington</td>\n      <td>233.05</td>\n      <td>3337</td>\n      <td>189.92</td>\n      <td>3562</td>\n      <td>NaN</td>\n      <td>160</td>\n      <td>2014-12-31</td>\n    </tr>\n    <tr>\n      <th>22896</th>\n      <td>West Virginia</td>\n      <td>359.35</td>\n      <td>551</td>\n      <td>224.03</td>\n      <td>545</td>\n      <td>NaN</td>\n      <td>60</td>\n      <td>2014-12-31</td>\n    </tr>\n    <tr>\n      <th>22897</th>\n      <td>Wisconsin</td>\n      <td>350.52</td>\n      <td>2244</td>\n      <td>272.71</td>\n      <td>2221</td>\n      <td>NaN</td>\n      <td>167</td>\n      <td>2014-12-31</td>\n    </tr>\n    <tr>\n      <th>22898</th>\n      <td>Wyoming</td>\n      <td>322.27</td>\n      <td>131</td>\n      <td>351.86</td>\n      <td>197</td>\n      <td>NaN</td>\n      <td>12</td>\n      <td>2014-12-31</td>\n    </tr>\n  </tbody>\n</table>\n</div>"
     },
     "metadata": {}
    }
   ]
  },
  {
   "cell_type": "markdown",
   "source": "**Pandas will represent missing value by NaN**\n\nWhat can we do this with missing value?\n- Drop these rows / columns? Use `.dropna(how='any')`\n- Fill with a dummy value? Use `.fillna(value=dummy)`\n- Impute the cell with the most recent value? Use `.fillna(method='ffill')`\n- Interpolate the amount in a linear fashion? Use `.interpolate()`\n\nWe use the `inplace = True` operator to avoid making a copy of the dataframe and changing the dataframe itself",
   "metadata": {
    "cell_id": "00007-a0dcf6dc-9054-4c30-86ab-dc2350c52bdb",
    "deepnote_cell_type": "markdown"
   }
  },
  {
   "cell_type": "code",
   "metadata": {
    "collapsed": false,
    "cell_id": "00008-f55ce9fd-8947-42f9-bcc4-48aebc941e0e",
    "deepnote_to_be_reexecuted": false,
    "source_hash": "ea90426e",
    "execution_start": 1624847275699,
    "execution_millis": 1,
    "deepnote_cell_type": "code"
   },
   "source": "# Lets sort this data frame by State and Date\ndf.sort_values(by=['State','date'], inplace=True)",
   "execution_count": 13,
   "outputs": []
  },
  {
   "cell_type": "code",
   "metadata": {
    "collapsed": true,
    "cell_id": "00009-085840b5-7d62-4a9d-97d6-3dcf48c550bd",
    "deepnote_to_be_reexecuted": false,
    "source_hash": "4a448d77",
    "execution_start": 1624847291035,
    "execution_millis": 5,
    "deepnote_cell_type": "code"
   },
   "source": "# Lets fill the missing value with last available value\ndf.fillna(method = \"ffill\", inplace=True)",
   "execution_count": 14,
   "outputs": []
  },
  {
   "cell_type": "code",
   "metadata": {
    "collapsed": false,
    "cell_id": "00010-a839cb52-d0ba-4ab9-a89c-76bc67774585",
    "deepnote_to_be_reexecuted": false,
    "source_hash": "f3fd67c8",
    "execution_start": 1624847292328,
    "execution_millis": 13,
    "deepnote_cell_type": "code"
   },
   "source": "df.count()",
   "execution_count": 15,
   "outputs": [
    {
     "output_type": "execute_result",
     "execution_count": 15,
     "data": {
      "text/plain": "State     22899\nHighQ     22899\nHighQN    22899\nMedQ      22899\nMedQN     22899\nLowQ      22899\nLowQN     22899\ndate      22899\ndtype: int64"
     },
     "metadata": {}
    }
   ]
  },
  {
   "cell_type": "code",
   "source": "df.tail()",
   "metadata": {
    "tags": [],
    "cell_id": "00013-6018d6ec-b6ec-4572-800a-02947bec7380",
    "deepnote_to_be_reexecuted": false,
    "source_hash": "838c0c28",
    "execution_start": 1624847309081,
    "execution_millis": 18,
    "deepnote_cell_type": "code"
   },
   "outputs": [
    {
     "output_type": "execute_result",
     "execution_count": 16,
     "data": {
      "application/vnd.deepnote.dataframe.v2+json": {
       "row_count": 5,
       "column_count": 8,
       "columns": [
        {
         "name": "State",
         "dtype": "object",
         "stats": {
          "unique_count": 1,
          "nan_count": 0,
          "categories": [
           {
            "name": "Wyoming",
            "count": 5
           }
          ]
         }
        },
        {
         "name": "HighQ",
         "dtype": "float64",
         "stats": {
          "unique_count": 1,
          "nan_count": 0,
          "min": "313.72",
          "max": "313.72",
          "histogram": [
           {
            "bin_start": 313.22,
            "bin_end": 313.32000000000005,
            "count": 0
           },
           {
            "bin_start": 313.32000000000005,
            "bin_end": 313.42,
            "count": 0
           },
           {
            "bin_start": 313.42,
            "bin_end": 313.52000000000004,
            "count": 0
           },
           {
            "bin_start": 313.52000000000004,
            "bin_end": 313.62,
            "count": 0
           },
           {
            "bin_start": 313.62,
            "bin_end": 313.72,
            "count": 0
           },
           {
            "bin_start": 313.72,
            "bin_end": 313.82000000000005,
            "count": 5
           },
           {
            "bin_start": 313.82000000000005,
            "bin_end": 313.92,
            "count": 0
           },
           {
            "bin_start": 313.92,
            "bin_end": 314.02000000000004,
            "count": 0
           },
           {
            "bin_start": 314.02000000000004,
            "bin_end": 314.12,
            "count": 0
           },
           {
            "bin_start": 314.12,
            "bin_end": 314.22,
            "count": 0
           }
          ]
         }
        },
        {
         "name": "HighQN",
         "dtype": "int64",
         "stats": {
          "unique_count": 1,
          "nan_count": 0,
          "min": "148",
          "max": "148",
          "histogram": [
           {
            "bin_start": 147.5,
            "bin_end": 147.6,
            "count": 0
           },
           {
            "bin_start": 147.6,
            "bin_end": 147.7,
            "count": 0
           },
           {
            "bin_start": 147.7,
            "bin_end": 147.8,
            "count": 0
           },
           {
            "bin_start": 147.8,
            "bin_end": 147.9,
            "count": 0
           },
           {
            "bin_start": 147.9,
            "bin_end": 148,
            "count": 0
           },
           {
            "bin_start": 148,
            "bin_end": 148.1,
            "count": 5
           },
           {
            "bin_start": 148.1,
            "bin_end": 148.2,
            "count": 0
           },
           {
            "bin_start": 148.2,
            "bin_end": 148.3,
            "count": 0
           },
           {
            "bin_start": 148.3,
            "bin_end": 148.4,
            "count": 0
           },
           {
            "bin_start": 148.4,
            "bin_end": 148.5,
            "count": 0
           }
          ]
         }
        },
        {
         "name": "MedQ",
         "dtype": "float64",
         "stats": {
          "unique_count": 1,
          "nan_count": 0,
          "min": "317.38",
          "max": "317.38",
          "histogram": [
           {
            "bin_start": 316.88,
            "bin_end": 316.98,
            "count": 0
           },
           {
            "bin_start": 316.98,
            "bin_end": 317.08,
            "count": 0
           },
           {
            "bin_start": 317.08,
            "bin_end": 317.18,
            "count": 0
           },
           {
            "bin_start": 317.18,
            "bin_end": 317.28,
            "count": 0
           },
           {
            "bin_start": 317.28,
            "bin_end": 317.38,
            "count": 0
           },
           {
            "bin_start": 317.38,
            "bin_end": 317.48,
            "count": 5
           },
           {
            "bin_start": 317.48,
            "bin_end": 317.58,
            "count": 0
           },
           {
            "bin_start": 317.58,
            "bin_end": 317.68,
            "count": 0
           },
           {
            "bin_start": 317.68,
            "bin_end": 317.78,
            "count": 0
           },
           {
            "bin_start": 317.78,
            "bin_end": 317.88,
            "count": 0
           }
          ]
         }
        },
        {
         "name": "MedQN",
         "dtype": "int64",
         "stats": {
          "unique_count": 1,
          "nan_count": 0,
          "min": "226",
          "max": "226",
          "histogram": [
           {
            "bin_start": 225.5,
            "bin_end": 225.6,
            "count": 0
           },
           {
            "bin_start": 225.6,
            "bin_end": 225.7,
            "count": 0
           },
           {
            "bin_start": 225.7,
            "bin_end": 225.8,
            "count": 0
           },
           {
            "bin_start": 225.8,
            "bin_end": 225.9,
            "count": 0
           },
           {
            "bin_start": 225.9,
            "bin_end": 226,
            "count": 0
           },
           {
            "bin_start": 226,
            "bin_end": 226.1,
            "count": 5
           },
           {
            "bin_start": 226.1,
            "bin_end": 226.2,
            "count": 0
           },
           {
            "bin_start": 226.2,
            "bin_end": 226.3,
            "count": 0
           },
           {
            "bin_start": 226.3,
            "bin_end": 226.4,
            "count": 0
           },
           {
            "bin_start": 226.4,
            "bin_end": 226.5,
            "count": 0
           }
          ]
         }
        },
        {
         "name": "LowQ",
         "dtype": "float64",
         "stats": {
          "unique_count": 1,
          "nan_count": 0,
          "min": "161.3",
          "max": "161.3",
          "histogram": [
           {
            "bin_start": 160.8,
            "bin_end": 160.9,
            "count": 0
           },
           {
            "bin_start": 160.9,
            "bin_end": 161,
            "count": 0
           },
           {
            "bin_start": 161,
            "bin_end": 161.10000000000002,
            "count": 0
           },
           {
            "bin_start": 161.10000000000002,
            "bin_end": 161.20000000000002,
            "count": 0
           },
           {
            "bin_start": 161.20000000000002,
            "bin_end": 161.3,
            "count": 0
           },
           {
            "bin_start": 161.3,
            "bin_end": 161.4,
            "count": 5
           },
           {
            "bin_start": 161.4,
            "bin_end": 161.5,
            "count": 0
           },
           {
            "bin_start": 161.5,
            "bin_end": 161.60000000000002,
            "count": 0
           },
           {
            "bin_start": 161.60000000000002,
            "bin_end": 161.70000000000002,
            "count": 0
           },
           {
            "bin_start": 161.70000000000002,
            "bin_end": 161.8,
            "count": 0
           }
          ]
         }
        },
        {
         "name": "LowQN",
         "dtype": "int64",
         "stats": {
          "unique_count": 1,
          "nan_count": 0,
          "min": "13",
          "max": "13",
          "histogram": [
           {
            "bin_start": 12.5,
            "bin_end": 12.6,
            "count": 0
           },
           {
            "bin_start": 12.6,
            "bin_end": 12.7,
            "count": 0
           },
           {
            "bin_start": 12.7,
            "bin_end": 12.8,
            "count": 0
           },
           {
            "bin_start": 12.8,
            "bin_end": 12.9,
            "count": 0
           },
           {
            "bin_start": 12.9,
            "bin_end": 13,
            "count": 0
           },
           {
            "bin_start": 13,
            "bin_end": 13.1,
            "count": 5
           },
           {
            "bin_start": 13.1,
            "bin_end": 13.2,
            "count": 0
           },
           {
            "bin_start": 13.2,
            "bin_end": 13.3,
            "count": 0
           },
           {
            "bin_start": 13.3,
            "bin_end": 13.4,
            "count": 0
           },
           {
            "bin_start": 13.4,
            "bin_end": 13.5,
            "count": 0
           }
          ]
         }
        },
        {
         "name": "date",
         "dtype": "datetime64[ns]",
         "stats": {
          "unique_count": 5,
          "nan_count": 0,
          "min": "2015-06-07 00:00:00",
          "max": "2015-06-11 00:00:00",
          "histogram": [
           {
            "bin_start": 1433635200000000000,
            "bin_end": 1433669760000000000,
            "count": 1
           },
           {
            "bin_start": 1433669760000000000,
            "bin_end": 1433704320000000000,
            "count": 0
           },
           {
            "bin_start": 1433704320000000000,
            "bin_end": 1433738880000000000,
            "count": 1
           },
           {
            "bin_start": 1433738880000000000,
            "bin_end": 1433773440000000000,
            "count": 0
           },
           {
            "bin_start": 1433773440000000000,
            "bin_end": 1433808000000000000,
            "count": 0
           },
           {
            "bin_start": 1433808000000000000,
            "bin_end": 1433842560000000000,
            "count": 1
           },
           {
            "bin_start": 1433842560000000000,
            "bin_end": 1433877120000000000,
            "count": 0
           },
           {
            "bin_start": 1433877120000000000,
            "bin_end": 1433911680000000000,
            "count": 1
           },
           {
            "bin_start": 1433911680000000000,
            "bin_end": 1433946240000000000,
            "count": 0
           },
           {
            "bin_start": 1433946240000000000,
            "bin_end": 1433980800000000000,
            "count": 1
           }
          ]
         }
        },
        {
         "name": "_deepnote_index_column",
         "dtype": "int64"
        }
       ],
       "rows_top": [
        {
         "State": "Wyoming",
         "HighQ": 313.72,
         "HighQN": 148,
         "MedQ": 317.38,
         "MedQN": 226,
         "LowQ": 161.3,
         "LowQN": 13,
         "date": "2015-06-07T00:00:00.000000",
         "_deepnote_index_column": 4997
        },
        {
         "State": "Wyoming",
         "HighQ": 313.72,
         "HighQN": 148,
         "MedQ": 317.38,
         "MedQN": 226,
         "LowQ": 161.3,
         "LowQN": 13,
         "date": "2015-06-08T00:00:00.000000",
         "_deepnote_index_column": 5762
        },
        {
         "State": "Wyoming",
         "HighQ": 313.72,
         "HighQN": 148,
         "MedQ": 317.38,
         "MedQN": 226,
         "LowQ": 161.3,
         "LowQN": 13,
         "date": "2015-06-09T00:00:00.000000",
         "_deepnote_index_column": 6527
        },
        {
         "State": "Wyoming",
         "HighQ": 313.72,
         "HighQN": 148,
         "MedQ": 317.38,
         "MedQN": 226,
         "LowQ": 161.3,
         "LowQN": 13,
         "date": "2015-06-10T00:00:00.000000",
         "_deepnote_index_column": 7343
        },
        {
         "State": "Wyoming",
         "HighQ": 313.72,
         "HighQN": 148,
         "MedQ": 317.38,
         "MedQN": 226,
         "LowQ": 161.3,
         "LowQN": 13,
         "date": "2015-06-11T00:00:00.000000",
         "_deepnote_index_column": 8159
        }
       ],
       "rows_bottom": null
      },
      "text/plain": "        State   HighQ  HighQN    MedQ  MedQN   LowQ  LowQN       date\n4997  Wyoming  313.72     148  317.38    226  161.3     13 2015-06-07\n5762  Wyoming  313.72     148  317.38    226  161.3     13 2015-06-08\n6527  Wyoming  313.72     148  317.38    226  161.3     13 2015-06-09\n7343  Wyoming  313.72     148  317.38    226  161.3     13 2015-06-10\n8159  Wyoming  313.72     148  317.38    226  161.3     13 2015-06-11",
      "text/html": "<div>\n<style scoped>\n    .dataframe tbody tr th:only-of-type {\n        vertical-align: middle;\n    }\n\n    .dataframe tbody tr th {\n        vertical-align: top;\n    }\n\n    .dataframe thead th {\n        text-align: right;\n    }\n</style>\n<table border=\"1\" class=\"dataframe\">\n  <thead>\n    <tr style=\"text-align: right;\">\n      <th></th>\n      <th>State</th>\n      <th>HighQ</th>\n      <th>HighQN</th>\n      <th>MedQ</th>\n      <th>MedQN</th>\n      <th>LowQ</th>\n      <th>LowQN</th>\n      <th>date</th>\n    </tr>\n  </thead>\n  <tbody>\n    <tr>\n      <th>4997</th>\n      <td>Wyoming</td>\n      <td>313.72</td>\n      <td>148</td>\n      <td>317.38</td>\n      <td>226</td>\n      <td>161.3</td>\n      <td>13</td>\n      <td>2015-06-07</td>\n    </tr>\n    <tr>\n      <th>5762</th>\n      <td>Wyoming</td>\n      <td>313.72</td>\n      <td>148</td>\n      <td>317.38</td>\n      <td>226</td>\n      <td>161.3</td>\n      <td>13</td>\n      <td>2015-06-08</td>\n    </tr>\n    <tr>\n      <th>6527</th>\n      <td>Wyoming</td>\n      <td>313.72</td>\n      <td>148</td>\n      <td>317.38</td>\n      <td>226</td>\n      <td>161.3</td>\n      <td>13</td>\n      <td>2015-06-09</td>\n    </tr>\n    <tr>\n      <th>7343</th>\n      <td>Wyoming</td>\n      <td>313.72</td>\n      <td>148</td>\n      <td>317.38</td>\n      <td>226</td>\n      <td>161.3</td>\n      <td>13</td>\n      <td>2015-06-10</td>\n    </tr>\n    <tr>\n      <th>8159</th>\n      <td>Wyoming</td>\n      <td>313.72</td>\n      <td>148</td>\n      <td>317.38</td>\n      <td>226</td>\n      <td>161.3</td>\n      <td>13</td>\n      <td>2015-06-11</td>\n    </tr>\n  </tbody>\n</table>\n</div>"
     },
     "metadata": {}
    }
   ],
   "execution_count": 16
  },
  {
   "cell_type": "markdown",
   "source": "### Exercise\n\nFill the missing value with a backward fill.",
   "metadata": {
    "cell_id": "00011-2a551852-c9e4-4f29-beb6-004f6bf6cebd",
    "deepnote_cell_type": "markdown"
   }
  },
  {
   "cell_type": "code",
   "metadata": {
    "collapsed": true,
    "cell_id": "00012-ea466514-5e05-4cfd-89f2-21bceb397437",
    "deepnote_cell_type": "code"
   },
   "source": "",
   "execution_count": null,
   "outputs": []
  },
  {
   "cell_type": "markdown",
   "source": "Fill the missing values with the mean for the column.",
   "metadata": {
    "cell_id": "00013-bc178340-fb80-4553-a6bf-6525656c5764",
    "deepnote_cell_type": "markdown"
   }
  },
  {
   "cell_type": "code",
   "metadata": {
    "collapsed": false,
    "cell_id": "00014-d81cc5ab-656a-4b42-a09d-6f65b9cccc71",
    "deepnote_cell_type": "code"
   },
   "source": "",
   "execution_count": null,
   "outputs": []
  },
  {
   "cell_type": "markdown",
   "source": "## 2.2 Quality of the Data \n\nLets check for completeness.\n\n**Say, do we have data on each date for all the 51 states?**",
   "metadata": {
    "cell_id": "00015-39bbb893-7ccd-41cf-bbe5-5460e021ace5",
    "deepnote_cell_type": "markdown"
   }
  },
  {
   "cell_type": "code",
   "metadata": {
    "collapsed": false,
    "cell_id": "00016-2dda2ac4-0a87-4ebc-bb83-657e50d8ac05",
    "deepnote_to_be_reexecuted": false,
    "source_hash": "3aa8f7e5",
    "execution_start": 1624847355807,
    "execution_millis": 6,
    "deepnote_cell_type": "code"
   },
   "source": "df[\"State\"].value_counts()",
   "execution_count": 17,
   "outputs": [
    {
     "output_type": "execute_result",
     "execution_count": 17,
     "data": {
      "text/plain": "Texas                   449\nNew Mexico              449\nKansas                  449\nSouth Dakota            449\nGeorgia                 449\nNorth Carolina          449\nIllinois                449\nWest Virginia           449\nNew York                449\nTennessee               449\nSouth Carolina          449\nNorth Dakota            449\nMaryland                449\nNebraska                449\nWashington              449\nOklahoma                449\nPennsylvania            449\nArkansas                449\nNew Jersey              449\nRhode Island            449\nVermont                 449\nArizona                 449\nWisconsin               449\nMinnesota               449\nMaine                   449\nKentucky                449\nWyoming                 449\nDelaware                449\nIowa                    449\nVirginia                449\nLouisiana               449\nConnecticut             449\nNevada                  449\nOhio                    449\nCalifornia              449\nNew Hampshire           449\nAlabama                 449\nColorado                449\nMontana                 449\nOregon                  449\nUtah                    449\nMissouri                449\nMississippi             449\nHawaii                  449\nDistrict of Columbia    449\nIndiana                 449\nMassachusetts           449\nFlorida                 449\nIdaho                   449\nMichigan                449\nAlaska                  449\nName: State, dtype: int64"
     },
     "metadata": {}
    }
   ]
  },
  {
   "cell_type": "markdown",
   "source": "**Lets check the dates and see if they are all continuous**",
   "metadata": {
    "cell_id": "00017-7bb5e37d-c8d0-4c6e-9da1-bf8ea4e8280b",
    "deepnote_cell_type": "markdown"
   }
  },
  {
   "cell_type": "code",
   "metadata": {
    "collapsed": false,
    "cell_id": "00018-ab5abd83-3bdd-4221-b92f-e69c2bc21e0c",
    "deepnote_to_be_reexecuted": false,
    "source_hash": "38baeb04",
    "execution_start": 1624847409479,
    "execution_millis": 1,
    "deepnote_cell_type": "code"
   },
   "source": "df1 = df[df.State=='California'].copy()\ndf2 = df[df.State=='California'].copy()",
   "execution_count": 18,
   "outputs": []
  },
  {
   "cell_type": "code",
   "metadata": {
    "collapsed": false,
    "cell_id": "00019-01ec8ae4-f9d6-45a3-bc93-987047cc8c62",
    "deepnote_to_be_reexecuted": false,
    "source_hash": "effe9690",
    "execution_start": 1624847410433,
    "execution_millis": 7,
    "deepnote_cell_type": "code"
   },
   "source": "df1.shape",
   "execution_count": 19,
   "outputs": [
    {
     "output_type": "execute_result",
     "execution_count": 19,
     "data": {
      "text/plain": "(449, 8)"
     },
     "metadata": {}
    }
   ]
  },
  {
   "cell_type": "code",
   "metadata": {
    "collapsed": false,
    "cell_id": "00020-ddb8546b-12d0-4632-be0b-5a0525f6bef0",
    "deepnote_to_be_reexecuted": false,
    "source_hash": "9f3c2829",
    "execution_start": 1624847453296,
    "execution_millis": 11,
    "deepnote_cell_type": "code"
   },
   "source": "print(\"Earliest Date:\",df1.date.min(), \"\\n\", \"Latest Date:\",df1.date.max(), \"\\n\",  \\\n\"Number of days in between them:\", df1.date.max() - df1.date.min() )",
   "execution_count": 20,
   "outputs": [
    {
     "name": "stdout",
     "text": "Earliest Date: 2013-12-27 00:00:00 \n Latest Date: 2015-06-11 00:00:00 \n Number of days in between them: 531 days 00:00:00\n",
     "output_type": "stream"
    }
   ]
  },
  {
   "cell_type": "code",
   "metadata": {
    "collapsed": false,
    "cell_id": "00021-848ad20e-ca7e-47ff-a401-5656136eebfc",
    "deepnote_to_be_reexecuted": false,
    "source_hash": "e6c7e07f",
    "execution_start": 1624847478667,
    "execution_millis": 11,
    "deepnote_cell_type": "code"
   },
   "source": "df1.groupby(['date']).size()",
   "execution_count": 21,
   "outputs": [
    {
     "output_type": "execute_result",
     "execution_count": 21,
     "data": {
      "text/plain": "date\n2013-12-27    1\n2013-12-28    1\n2013-12-29    1\n2013-12-30    1\n2013-12-31    1\n             ..\n2015-06-07    1\n2015-06-08    1\n2015-06-09    1\n2015-06-10    1\n2015-06-11    1\nLength: 449, dtype: int64"
     },
     "metadata": {}
    }
   ]
  },
  {
   "cell_type": "code",
   "metadata": {
    "collapsed": false,
    "cell_id": "00022-fd5f27d6-413a-4d03-a45d-f18aa2120c4d",
    "deepnote_to_be_reexecuted": false,
    "source_hash": "759b9225",
    "execution_start": 1624847488292,
    "execution_millis": 3,
    "deepnote_cell_type": "code"
   },
   "source": "df1.set_index(\"date\", inplace=True)\ndf2.set_index(\"date\", inplace=True)",
   "execution_count": 22,
   "outputs": []
  },
  {
   "cell_type": "code",
   "metadata": {
    "collapsed": false,
    "cell_id": "00023-4681d013-93ab-440a-b8e1-db54a7d646d0",
    "deepnote_to_be_reexecuted": false,
    "source_hash": "8b6b7132",
    "execution_start": 1624847502847,
    "execution_millis": 2,
    "deepnote_cell_type": "code"
   },
   "source": "idx = pd.date_range(df1.index.min(), df1.index.max())",
   "execution_count": 23,
   "outputs": []
  },
  {
   "cell_type": "code",
   "metadata": {
    "collapsed": false,
    "cell_id": "00024-1d8826cb-8093-4be3-a447-a5a37ec58a62",
    "deepnote_to_be_reexecuted": false,
    "source_hash": "5e8eb419",
    "execution_start": 1624847503499,
    "execution_millis": 11,
    "deepnote_cell_type": "code"
   },
   "source": "idx",
   "execution_count": 24,
   "outputs": [
    {
     "output_type": "execute_result",
     "execution_count": 24,
     "data": {
      "text/plain": "DatetimeIndex(['2013-12-27', '2013-12-28', '2013-12-29', '2013-12-30',\n               '2013-12-31', '2014-01-01', '2014-01-02', '2014-01-03',\n               '2014-01-04', '2014-01-05',\n               ...\n               '2015-06-02', '2015-06-03', '2015-06-04', '2015-06-05',\n               '2015-06-06', '2015-06-07', '2015-06-08', '2015-06-09',\n               '2015-06-10', '2015-06-11'],\n              dtype='datetime64[ns]', length=532, freq='D')"
     },
     "metadata": {}
    }
   ]
  },
  {
   "cell_type": "code",
   "metadata": {
    "collapsed": false,
    "cell_id": "00025-f6851a65-8d90-4e59-b6a8-f6521657358f",
    "deepnote_to_be_reexecuted": false,
    "source_hash": "2970dba2",
    "execution_start": 1624847531510,
    "execution_millis": 1,
    "deepnote_cell_type": "code"
   },
   "source": "df1 = df1.reindex(idx, fill_value=0)",
   "execution_count": 25,
   "outputs": []
  },
  {
   "cell_type": "code",
   "metadata": {
    "collapsed": false,
    "cell_id": "00026-a4e046ab-6cb8-4b43-bc3a-ccecf2152192",
    "deepnote_to_be_reexecuted": false,
    "source_hash": "effe9690",
    "execution_start": 1624847532083,
    "execution_millis": 1,
    "deepnote_cell_type": "code"
   },
   "source": "df1.shape",
   "execution_count": 26,
   "outputs": [
    {
     "output_type": "execute_result",
     "execution_count": 26,
     "data": {
      "text/plain": "(532, 7)"
     },
     "metadata": {}
    }
   ]
  },
  {
   "cell_type": "markdown",
   "source": "**Exercise** Show the list of dates that were missing. *Hint* Leverage df2. Both df1 and df2 have `date` as index",
   "metadata": {
    "cell_id": "00027-e1c45f3e-41b6-40bf-a29f-3324919fe5b3",
    "deepnote_cell_type": "markdown"
   }
  },
  {
   "cell_type": "code",
   "metadata": {
    "collapsed": true,
    "cell_id": "00028-5026d52c-22ec-4a37-89c2-6365257a5421",
    "deepnote_cell_type": "code"
   },
   "source": "",
   "execution_count": null,
   "outputs": []
  },
  {
   "cell_type": "markdown",
   "source": "## 2.3  Parse the Data\n\nLets see if we can get the year, month, week and weekdays from the date. Pandas has got good built in functionality for timeseries data using the DatetimeIndex method ",
   "metadata": {
    "cell_id": "00029-f7d310b7-b2de-4fc8-bc16-28ceed279117",
    "deepnote_cell_type": "markdown"
   }
  },
  {
   "cell_type": "code",
   "metadata": {
    "collapsed": false,
    "cell_id": "00030-26c5f0f5-6e17-415e-b1c1-50d703ea439b",
    "deepnote_to_be_reexecuted": false,
    "source_hash": "a56769ac",
    "execution_start": 1624847651963,
    "execution_millis": 8,
    "deepnote_cell_type": "code"
   },
   "source": "df['year'] = pd.DatetimeIndex(df['date']).year\ndf['month'] = pd.DatetimeIndex(df['date']).month\ndf['week'] = pd.DatetimeIndex(df['date']).week\ndf['weekday'] = pd.DatetimeIndex(df['date']).weekday",
   "execution_count": 27,
   "outputs": [
    {
     "name": "stderr",
     "text": "/shared-libs/python3.7/py-core/lib/python3.7/site-packages/ipykernel_launcher.py:3: FutureWarning: weekofyear and week have been deprecated, please use DatetimeIndex.isocalendar().week instead, which returns a Series.  To exactly reproduce the behavior of week and weekofyear and return an Index, you may call pd.Int64Index(idx.isocalendar().week)\n  This is separate from the ipykernel package so we can avoid doing imports until\n",
     "output_type": "stream"
    }
   ]
  },
  {
   "cell_type": "code",
   "metadata": {
    "collapsed": false,
    "cell_id": "00031-69cf8301-c839-4147-b033-ceb16fa98eae",
    "deepnote_to_be_reexecuted": false,
    "source_hash": "52430027",
    "execution_start": 1624847656955,
    "execution_millis": 8,
    "deepnote_cell_type": "code"
   },
   "source": "df.dtypes",
   "execution_count": 28,
   "outputs": [
    {
     "output_type": "execute_result",
     "execution_count": 28,
     "data": {
      "text/plain": "State              object\nHighQ             float64\nHighQN              int64\nMedQ              float64\nMedQN               int64\nLowQ              float64\nLowQN               int64\ndate       datetime64[ns]\nyear                int64\nmonth               int64\nweek                int64\nweekday             int64\ndtype: object"
     },
     "metadata": {}
    }
   ]
  },
  {
   "cell_type": "code",
   "metadata": {
    "collapsed": false,
    "cell_id": "00032-28815c47-5304-4ea1-a8f5-db5808840e2c",
    "deepnote_cell_type": "code"
   },
   "source": "df.tail()",
   "execution_count": 21,
   "outputs": [
    {
     "data": {
      "text/html": "<div>\n<table border=\"1\" class=\"dataframe\">\n  <thead>\n    <tr style=\"text-align: right;\">\n      <th></th>\n      <th>State</th>\n      <th>HighQ</th>\n      <th>HighQN</th>\n      <th>MedQ</th>\n      <th>MedQN</th>\n      <th>LowQ</th>\n      <th>LowQN</th>\n      <th>date</th>\n      <th>year</th>\n      <th>month</th>\n      <th>week</th>\n      <th>weekday</th>\n    </tr>\n  </thead>\n  <tbody>\n    <tr>\n      <th>4997</th>\n      <td>Wyoming</td>\n      <td>313.72</td>\n      <td>148</td>\n      <td>317.38</td>\n      <td>226</td>\n      <td>161.3</td>\n      <td>13</td>\n      <td>2015-06-07</td>\n      <td>2015</td>\n      <td>6</td>\n      <td>23</td>\n      <td>6</td>\n    </tr>\n    <tr>\n      <th>5762</th>\n      <td>Wyoming</td>\n      <td>313.72</td>\n      <td>148</td>\n      <td>317.38</td>\n      <td>226</td>\n      <td>161.3</td>\n      <td>13</td>\n      <td>2015-06-08</td>\n      <td>2015</td>\n      <td>6</td>\n      <td>24</td>\n      <td>0</td>\n    </tr>\n    <tr>\n      <th>6527</th>\n      <td>Wyoming</td>\n      <td>313.72</td>\n      <td>148</td>\n      <td>317.38</td>\n      <td>226</td>\n      <td>161.3</td>\n      <td>13</td>\n      <td>2015-06-09</td>\n      <td>2015</td>\n      <td>6</td>\n      <td>24</td>\n      <td>1</td>\n    </tr>\n    <tr>\n      <th>7343</th>\n      <td>Wyoming</td>\n      <td>313.72</td>\n      <td>148</td>\n      <td>317.38</td>\n      <td>226</td>\n      <td>161.3</td>\n      <td>13</td>\n      <td>2015-06-10</td>\n      <td>2015</td>\n      <td>6</td>\n      <td>24</td>\n      <td>2</td>\n    </tr>\n    <tr>\n      <th>8159</th>\n      <td>Wyoming</td>\n      <td>313.72</td>\n      <td>148</td>\n      <td>317.38</td>\n      <td>226</td>\n      <td>161.3</td>\n      <td>13</td>\n      <td>2015-06-11</td>\n      <td>2015</td>\n      <td>6</td>\n      <td>24</td>\n      <td>3</td>\n    </tr>\n  </tbody>\n</table>\n</div>",
      "text/plain": "        State   HighQ  HighQN    MedQ  MedQN   LowQ  LowQN       date  year  \\\n4997  Wyoming  313.72     148  317.38    226  161.3     13 2015-06-07  2015   \n5762  Wyoming  313.72     148  317.38    226  161.3     13 2015-06-08  2015   \n6527  Wyoming  313.72     148  317.38    226  161.3     13 2015-06-09  2015   \n7343  Wyoming  313.72     148  317.38    226  161.3     13 2015-06-10  2015   \n8159  Wyoming  313.72     148  317.38    226  161.3     13 2015-06-11  2015   \n\n      month  week  weekday  \n4997      6    23        6  \n5762      6    24        0  \n6527      6    24        1  \n7343      6    24        2  \n8159      6    24        3  "
     },
     "execution_count": 21,
     "metadata": {},
     "output_type": "execute_result"
    }
   ]
  },
  {
   "cell_type": "code",
   "metadata": {
    "collapsed": false,
    "cell_id": "00033-059fc727-4902-4703-8d3a-b2a4f2de3d07",
    "deepnote_to_be_reexecuted": false,
    "source_hash": "286ab4cd",
    "execution_start": 1624847695011,
    "execution_millis": 7,
    "deepnote_cell_type": "code"
   },
   "source": "df['year'].value_counts()",
   "execution_count": 29,
   "outputs": [
    {
     "output_type": "execute_result",
     "execution_count": 29,
     "data": {
      "text/plain": "2014    18564\n2015     4080\n2013      255\nName: year, dtype: int64"
     },
     "metadata": {}
    }
   ]
  },
  {
   "cell_type": "code",
   "metadata": {
    "collapsed": false,
    "cell_id": "00034-9cce2ce7-2a86-4ef1-9dc4-d79d1b76e490",
    "deepnote_cell_type": "code"
   },
   "source": "df['month'].value_counts()",
   "execution_count": 23,
   "outputs": [
    {
     "data": {
      "text/plain": "1     3162\n5     2703\n2     2244\n6     2091\n12    1836\n10    1581\n7     1581\n3     1581\n11    1530\n9     1530\n8     1530\n4     1530\ndtype: int64"
     },
     "execution_count": 23,
     "metadata": {},
     "output_type": "execute_result"
    }
   ]
  },
  {
   "cell_type": "code",
   "metadata": {
    "collapsed": false,
    "cell_id": "00035-fff33eca-c15d-4741-8928-cbb8d3595379",
    "deepnote_to_be_reexecuted": false,
    "source_hash": "b1e3d0b",
    "execution_start": 1624847797392,
    "execution_millis": 8,
    "deepnote_cell_type": "code"
   },
   "source": "df[\"weekday\"].value_counts()",
   "execution_count": 30,
   "outputs": [
    {
     "output_type": "execute_result",
     "execution_count": 30,
     "data": {
      "text/plain": "0    3315\n6    3315\n1    3264\n2    3264\n3    3264\n4    3264\n5    3213\nName: weekday, dtype: int64"
     },
     "metadata": {}
    }
   ]
  },
  {
   "cell_type": "code",
   "source": "# Wrtie a code for find the For weekend ",
   "metadata": {
    "tags": [],
    "cell_id": "00039-e32229e5-b4e2-45d4-8e13-6c3aa4966689",
    "deepnote_to_be_reexecuted": false,
    "source_hash": "ae81c844",
    "execution_start": 1624847848499,
    "execution_millis": 0,
    "deepnote_cell_type": "code"
   },
   "outputs": [],
   "execution_count": 31
  },
  {
   "cell_type": "markdown",
   "source": "## 2.4 Aggregate the Data\n\nTo aggregate, we typically use the “group by” function, which involves the following steps\n\n- Splitting the data into groups based on some criteria\n- Applying a function to each group independently\n- Combining the results into a data structure",
   "metadata": {
    "cell_id": "00036-1e05d3a0-443a-4bc6-8c39-8ce4651d80ad",
    "deepnote_cell_type": "markdown"
   }
  },
  {
   "cell_type": "code",
   "metadata": {
    "collapsed": true,
    "cell_id": "00037-812f5884-b532-4425-a57c-d28022ec59eb",
    "deepnote_to_be_reexecuted": false,
    "source_hash": "569a7c1b",
    "execution_start": 1624848187403,
    "execution_millis": 4,
    "deepnote_cell_type": "code"
   },
   "source": "df_mean = df.groupby(\"State\", as_index=False).mean()",
   "execution_count": 32,
   "outputs": []
  },
  {
   "cell_type": "code",
   "source": "df_mean",
   "metadata": {
    "tags": [],
    "cell_id": "00042-95eed3cb-cd1e-4947-8068-55fd1e4b8b98",
    "deepnote_to_be_reexecuted": false,
    "source_hash": "a32256c4",
    "execution_start": 1624848193717,
    "execution_millis": 62,
    "deepnote_cell_type": "code"
   },
   "outputs": [
    {
     "output_type": "execute_result",
     "execution_count": 33,
     "data": {
      "application/vnd.deepnote.dataframe.v2+json": {
       "row_count": 51,
       "column_count": 11,
       "columns": [
        {
         "name": "State",
         "dtype": "object",
         "stats": {
          "unique_count": 51,
          "nan_count": 0,
          "categories": [
           {
            "name": "Alabama",
            "count": 1
           },
           {
            "name": "Alaska",
            "count": 1
           },
           {
            "name": "49 others",
            "count": 49
           }
          ]
         }
        },
        {
         "name": "HighQ",
         "dtype": "float64",
         "stats": {
          "unique_count": 51,
          "nan_count": 0,
          "min": "208.4962360801785",
          "max": "398.6687527839638",
          "histogram": [
           {
            "bin_start": 208.4962360801785,
            "bin_end": 227.51348775055703,
            "count": 1
           },
           {
            "bin_start": 227.51348775055703,
            "bin_end": 246.53073942093556,
            "count": 3
           },
           {
            "bin_start": 246.53073942093556,
            "bin_end": 265.5479910913141,
            "count": 0
           },
           {
            "bin_start": 265.5479910913141,
            "bin_end": 284.5652427616926,
            "count": 3
           },
           {
            "bin_start": 284.5652427616926,
            "bin_end": 303.58249443207114,
            "count": 6
           },
           {
            "bin_start": 303.58249443207114,
            "bin_end": 322.59974610244967,
            "count": 2
           },
           {
            "bin_start": 322.59974610244967,
            "bin_end": 341.6169977728282,
            "count": 10
           },
           {
            "bin_start": 341.6169977728282,
            "bin_end": 360.6342494432067,
            "count": 16
           },
           {
            "bin_start": 360.6342494432067,
            "bin_end": 379.65150111358525,
            "count": 9
           },
           {
            "bin_start": 379.65150111358525,
            "bin_end": 398.6687527839638,
            "count": 1
           }
          ]
         }
        },
        {
         "name": "HighQN",
         "dtype": "float64",
         "stats": {
          "unique_count": 51,
          "nan_count": 0,
          "min": "115.4988864142539",
          "max": "14947.073496659243",
          "histogram": [
           {
            "bin_start": 115.4988864142539,
            "bin_end": 1598.6563474387528,
            "count": 27
           },
           {
            "bin_start": 1598.6563474387528,
            "bin_end": 3081.8138084632515,
            "count": 12
           },
           {
            "bin_start": 3081.8138084632515,
            "bin_end": 4564.971269487751,
            "count": 6
           },
           {
            "bin_start": 4564.971269487751,
            "bin_end": 6048.12873051225,
            "count": 2
           },
           {
            "bin_start": 6048.12873051225,
            "bin_end": 7531.286191536748,
            "count": 2
           },
           {
            "bin_start": 7531.286191536748,
            "bin_end": 9014.443652561247,
            "count": 1
           },
           {
            "bin_start": 9014.443652561247,
            "bin_end": 10497.601113585746,
            "count": 0
           },
           {
            "bin_start": 10497.601113585746,
            "bin_end": 11980.758574610245,
            "count": 0
           },
           {
            "bin_start": 11980.758574610245,
            "bin_end": 13463.916035634744,
            "count": 0
           },
           {
            "bin_start": 13463.916035634744,
            "bin_end": 14947.073496659243,
            "count": 1
           }
          ]
         }
        },
        {
         "name": "MedQ",
         "dtype": "float64",
         "stats": {
          "unique_count": 51,
          "nan_count": 0,
          "min": "148.2316035634744",
          "max": "358.5348329621371",
          "histogram": [
           {
            "bin_start": 148.2316035634744,
            "bin_end": 169.26192650334067,
            "count": 1
           },
           {
            "bin_start": 169.26192650334067,
            "bin_end": 190.29224944320694,
            "count": 3
           },
           {
            "bin_start": 190.29224944320694,
            "bin_end": 211.32257238307324,
            "count": 7
           },
           {
            "bin_start": 211.32257238307324,
            "bin_end": 232.3528953229395,
            "count": 8
           },
           {
            "bin_start": 232.3528953229395,
            "bin_end": 253.38321826280577,
            "count": 10
           },
           {
            "bin_start": 253.38321826280577,
            "bin_end": 274.41354120267204,
            "count": 10
           },
           {
            "bin_start": 274.41354120267204,
            "bin_end": 295.4438641425383,
            "count": 8
           },
           {
            "bin_start": 295.4438641425383,
            "bin_end": 316.47418708240457,
            "count": 1
           },
           {
            "bin_start": 316.47418708240457,
            "bin_end": 337.50451002227084,
            "count": 0
           },
           {
            "bin_start": 337.50451002227084,
            "bin_end": 358.5348329621371,
            "count": 3
           }
          ]
         }
        },
        {
         "name": "MedQN",
         "dtype": "float64",
         "stats": {
          "unique_count": 51,
          "nan_count": 0,
          "min": "169.73719376391983",
          "max": "16769.821826280622",
          "histogram": [
           {
            "bin_start": 169.73719376391983,
            "bin_end": 1829.7456570155903,
            "count": 31
           },
           {
            "bin_start": 1829.7456570155903,
            "bin_end": 3489.754120267261,
            "count": 12
           },
           {
            "bin_start": 3489.754120267261,
            "bin_end": 5149.762583518932,
            "count": 4
           },
           {
            "bin_start": 5149.762583518932,
            "bin_end": 6809.771046770602,
            "count": 0
           },
           {
            "bin_start": 6809.771046770602,
            "bin_end": 8469.779510022272,
            "count": 3
           },
           {
            "bin_start": 8469.779510022272,
            "bin_end": 10129.787973273944,
            "count": 0
           },
           {
            "bin_start": 10129.787973273944,
            "bin_end": 11789.796436525614,
            "count": 0
           },
           {
            "bin_start": 11789.796436525614,
            "bin_end": 13449.804899777284,
            "count": 0
           },
           {
            "bin_start": 13449.804899777284,
            "bin_end": 15109.813363028954,
            "count": 0
           },
           {
            "bin_start": 15109.813363028954,
            "bin_end": 16769.821826280622,
            "count": 1
           }
          ]
         }
        },
        {
         "name": "LowQ",
         "dtype": "float64",
         "stats": {
          "unique_count": 51,
          "nan_count": 0,
          "min": "87.3402449888641",
          "max": "629.3343429844102",
          "histogram": [
           {
            "bin_start": 87.3402449888641,
            "bin_end": 141.53965478841872,
            "count": 8
           },
           {
            "bin_start": 141.53965478841872,
            "bin_end": 195.7390645879733,
            "count": 24
           },
           {
            "bin_start": 195.7390645879733,
            "bin_end": 249.93847438752792,
            "count": 12
           },
           {
            "bin_start": 249.93847438752792,
            "bin_end": 304.13788418708253,
            "count": 3
           },
           {
            "bin_start": 304.13788418708253,
            "bin_end": 358.3372939866372,
            "count": 1
           },
           {
            "bin_start": 358.3372939866372,
            "bin_end": 412.53670378619177,
            "count": 1
           },
           {
            "bin_start": 412.53670378619177,
            "bin_end": 466.73611358574635,
            "count": 0
           },
           {
            "bin_start": 466.73611358574635,
            "bin_end": 520.9355233853009,
            "count": 0
           },
           {
            "bin_start": 520.9355233853009,
            "bin_end": 575.1349331848555,
            "count": 0
           },
           {
            "bin_start": 575.1349331848555,
            "bin_end": 629.3343429844102,
            "count": 2
           }
          ]
         }
        },
        {
         "name": "LowQN",
         "dtype": "float64",
         "stats": {
          "unique_count": 51,
          "nan_count": 0,
          "min": "11.739420935412026",
          "max": "1051.9510022271716",
          "histogram": [
           {
            "bin_start": 11.739420935412026,
            "bin_end": 115.76057906458799,
            "count": 21
           },
           {
            "bin_start": 115.76057906458799,
            "bin_end": 219.78173719376395,
            "count": 13
           },
           {
            "bin_start": 219.78173719376395,
            "bin_end": 323.8028953229399,
            "count": 10
           },
           {
            "bin_start": 323.8028953229399,
            "bin_end": 427.82405345211583,
            "count": 1
           },
           {
            "bin_start": 427.82405345211583,
            "bin_end": 531.8452115812918,
            "count": 2
           },
           {
            "bin_start": 531.8452115812918,
            "bin_end": 635.8663697104678,
            "count": 2
           },
           {
            "bin_start": 635.8663697104678,
            "bin_end": 739.8875278396437,
            "count": 0
           },
           {
            "bin_start": 739.8875278396437,
            "bin_end": 843.9086859688197,
            "count": 0
           },
           {
            "bin_start": 843.9086859688197,
            "bin_end": 947.9298440979957,
            "count": 0
           },
           {
            "bin_start": 947.9298440979957,
            "bin_end": 1051.9510022271716,
            "count": 2
           }
          ]
         }
        },
        {
         "name": "year",
         "dtype": "float64",
         "stats": {
          "unique_count": 1,
          "nan_count": 0,
          "min": "2014.1670378619153",
          "max": "2014.1670378619153",
          "histogram": [
           {
            "bin_start": 2013.6670378619153,
            "bin_end": 2013.7670378619152,
            "count": 0
           },
           {
            "bin_start": 2013.7670378619152,
            "bin_end": 2013.8670378619154,
            "count": 0
           },
           {
            "bin_start": 2013.8670378619154,
            "bin_end": 2013.9670378619153,
            "count": 0
           },
           {
            "bin_start": 2013.9670378619153,
            "bin_end": 2014.0670378619154,
            "count": 0
           },
           {
            "bin_start": 2014.0670378619154,
            "bin_end": 2014.1670378619153,
            "count": 0
           },
           {
            "bin_start": 2014.1670378619153,
            "bin_end": 2014.2670378619152,
            "count": 51
           },
           {
            "bin_start": 2014.2670378619152,
            "bin_end": 2014.3670378619154,
            "count": 0
           },
           {
            "bin_start": 2014.3670378619154,
            "bin_end": 2014.4670378619153,
            "count": 0
           },
           {
            "bin_start": 2014.4670378619153,
            "bin_end": 2014.5670378619154,
            "count": 0
           },
           {
            "bin_start": 2014.5670378619154,
            "bin_end": 2014.6670378619153,
            "count": 0
           }
          ]
         }
        },
        {
         "name": "month",
         "dtype": "float64",
         "stats": {
          "unique_count": 1,
          "nan_count": 0,
          "min": "5.953229398663697",
          "max": "5.953229398663697",
          "histogram": [
           {
            "bin_start": 5.453229398663697,
            "bin_end": 5.553229398663697,
            "count": 0
           },
           {
            "bin_start": 5.553229398663697,
            "bin_end": 5.653229398663697,
            "count": 0
           },
           {
            "bin_start": 5.653229398663697,
            "bin_end": 5.753229398663697,
            "count": 0
           },
           {
            "bin_start": 5.753229398663697,
            "bin_end": 5.853229398663697,
            "count": 0
           },
           {
            "bin_start": 5.853229398663697,
            "bin_end": 5.953229398663697,
            "count": 0
           },
           {
            "bin_start": 5.953229398663697,
            "bin_end": 6.053229398663698,
            "count": 51
           },
           {
            "bin_start": 6.053229398663698,
            "bin_end": 6.153229398663697,
            "count": 0
           },
           {
            "bin_start": 6.153229398663697,
            "bin_end": 6.253229398663697,
            "count": 0
           },
           {
            "bin_start": 6.253229398663697,
            "bin_end": 6.353229398663697,
            "count": 0
           },
           {
            "bin_start": 6.353229398663697,
            "bin_end": 6.453229398663697,
            "count": 0
           }
          ]
         }
        },
        {
         "name": "week",
         "dtype": "float64",
         "stats": {
          "unique_count": 1,
          "nan_count": 0,
          "min": "23.812917594654788",
          "max": "23.812917594654788",
          "histogram": [
           {
            "bin_start": 23.312917594654788,
            "bin_end": 23.41291759465479,
            "count": 0
           },
           {
            "bin_start": 23.41291759465479,
            "bin_end": 23.512917594654787,
            "count": 0
           },
           {
            "bin_start": 23.512917594654787,
            "bin_end": 23.61291759465479,
            "count": 0
           },
           {
            "bin_start": 23.61291759465479,
            "bin_end": 23.712917594654787,
            "count": 0
           },
           {
            "bin_start": 23.712917594654787,
            "bin_end": 23.812917594654788,
            "count": 0
           },
           {
            "bin_start": 23.812917594654788,
            "bin_end": 23.91291759465479,
            "count": 51
           },
           {
            "bin_start": 23.91291759465479,
            "bin_end": 24.012917594654787,
            "count": 0
           },
           {
            "bin_start": 24.012917594654787,
            "bin_end": 24.11291759465479,
            "count": 0
           },
           {
            "bin_start": 24.11291759465479,
            "bin_end": 24.212917594654787,
            "count": 0
           },
           {
            "bin_start": 24.212917594654787,
            "bin_end": 24.312917594654788,
            "count": 0
           }
          ]
         }
        },
        {
         "name": "weekday",
         "dtype": "float64",
         "stats": {
          "unique_count": 1,
          "nan_count": 0,
          "min": "2.9955456570155903",
          "max": "2.9955456570155903",
          "histogram": [
           {
            "bin_start": 2.4955456570155903,
            "bin_end": 2.5955456570155904,
            "count": 0
           },
           {
            "bin_start": 2.5955456570155904,
            "bin_end": 2.6955456570155905,
            "count": 0
           },
           {
            "bin_start": 2.6955456570155905,
            "bin_end": 2.79554565701559,
            "count": 0
           },
           {
            "bin_start": 2.79554565701559,
            "bin_end": 2.89554565701559,
            "count": 0
           },
           {
            "bin_start": 2.89554565701559,
            "bin_end": 2.9955456570155903,
            "count": 0
           },
           {
            "bin_start": 2.9955456570155903,
            "bin_end": 3.0955456570155904,
            "count": 51
           },
           {
            "bin_start": 3.0955456570155904,
            "bin_end": 3.1955456570155905,
            "count": 0
           },
           {
            "bin_start": 3.1955456570155905,
            "bin_end": 3.29554565701559,
            "count": 0
           },
           {
            "bin_start": 3.29554565701559,
            "bin_end": 3.39554565701559,
            "count": 0
           },
           {
            "bin_start": 3.39554565701559,
            "bin_end": 3.4955456570155903,
            "count": 0
           }
          ]
         }
        },
        {
         "name": "_deepnote_index_column",
         "dtype": "int64"
        }
       ],
       "rows_top": [
        {
         "State": "Alabama",
         "HighQ": 339.56184855233914,
         "HighQN": 1379.4142538975502,
         "MedQ": 204.60616926503332,
         "MedQN": 1270.3518930957684,
         "LowQ": 145.97850779510173,
         "LowQN": 161.14922048997772,
         "year": 2014.1670378619153,
         "month": 5.953229398663697,
         "week": 23.812917594654788,
         "weekday": 2.9955456570155903,
         "_deepnote_index_column": 0
        },
        {
         "State": "Alaska",
         "HighQ": 291.4820044543429,
         "HighQN": 321.24498886414256,
         "MedQ": 262.0463919821825,
         "MedQN": 407.91759465478845,
         "LowQ": 394.6539643652535,
         "LowQN": 32.334075723830736,
         "year": 2014.1670378619153,
         "month": 5.953229398663697,
         "week": 23.812917594654788,
         "weekday": 2.9955456570155903,
         "_deepnote_index_column": 1
        },
        {
         "State": "Arizona",
         "HighQ": 300.6674832962139,
         "HighQN": 2392.4654788418707,
         "MedQ": 209.36534521158114,
         "MedQN": 2137.41425389755,
         "LowQ": 188.5001336302889,
         "LowQN": 279.0066815144766,
         "year": 2014.1670378619153,
         "month": 5.953229398663697,
         "week": 23.812917594654788,
         "weekday": 2.9955456570155903,
         "_deepnote_index_column": 2
        },
        {
         "State": "Arkansas",
         "HighQ": 348.05614699331875,
         "HighQN": 751.988864142539,
         "MedQ": 190.41465478841857,
         "MedQN": 724.6837416481069,
         "LowQ": 126.77126948774998,
         "LowQN": 135.90200445434297,
         "year": 2014.1670378619153,
         "month": 5.953229398663697,
         "week": 23.812917594654788,
         "weekday": 2.9955456570155903,
         "_deepnote_index_column": 3
        },
        {
         "State": "California",
         "HighQ": 245.3761247216035,
         "HighQN": 14947.073496659243,
         "MedQ": 191.2689086859689,
         "MedQN": 16769.821826280622,
         "LowQ": 189.78358574610345,
         "LowQN": 976.2984409799554,
         "year": 2014.1670378619153,
         "month": 5.953229398663697,
         "week": 23.812917594654788,
         "weekday": 2.9955456570155903,
         "_deepnote_index_column": 4
        },
        {
         "State": "Colorado",
         "HighQ": 238.91870824053464,
         "HighQN": 2816.218262806236,
         "MedQ": 196.53251670378617,
         "MedQN": 2457.512249443207,
         "LowQ": 226.78111358574705,
         "LowQN": 165.34966592427617,
         "year": 2014.1670378619153,
         "month": 5.953229398663697,
         "week": 23.812917594654788,
         "weekday": 2.9955456570155903,
         "_deepnote_index_column": 5
        },
        {
         "State": "Connecticut",
         "HighQ": 341.6940757238305,
         "HighQN": 1625.120267260579,
         "MedQ": 271.32389755011087,
         "MedQN": 1777.227171492205,
         "LowQ": 251.6257238307371,
         "LowQN": 110.22939866369711,
         "year": 2014.1670378619153,
         "month": 5.953229398663697,
         "week": 23.812917594654788,
         "weekday": 2.9955456570155903,
         "_deepnote_index_column": 6
        },
        {
         "State": "Delaware",
         "HighQ": 366.78184855233843,
         "HighQN": 440.97104677060133,
         "MedQ": 231.2303118040087,
         "MedQN": 372.5879732739421,
         "LowQ": 204.96024498886467,
         "LowQN": 39.17594654788419,
         "year": 2014.1670378619153,
         "month": 5.953229398663697,
         "week": 23.812917594654788,
         "weekday": 2.9955456570155903,
         "_deepnote_index_column": 7
        },
        {
         "State": "District of Columbia",
         "HighQ": 348.1774164810685,
         "HighQN": 575.0913140311804,
         "MedQ": 288.2513140311807,
         "MedQN": 494.65033407572383,
         "LowQ": 210.22536748329742,
         "LowQN": 46.58351893095768,
         "year": 2014.1670378619153,
         "month": 5.953229398663697,
         "week": 23.812917594654788,
         "weekday": 2.9955456570155903,
         "_deepnote_index_column": 8
        },
        {
         "State": "Florida",
         "HighQ": 302.5703118040087,
         "HighQN": 8415.03118040089,
         "MedQ": 217.88256124721602,
         "MedQN": 7127.216035634744,
         "LowQ": 152.28545657015562,
         "LowQN": 632.0779510022272,
         "year": 2014.1670378619153,
         "month": 5.953229398663697,
         "week": 23.812917594654788,
         "weekday": 2.9955456570155903,
         "_deepnote_index_column": 9
        },
        {
         "State": "Georgia",
         "HighQ": 326.6596436525612,
         "HighQN": 3975.084632516704,
         "MedQ": 215.94363028953268,
         "MedQN": 3030.489977728285,
         "LowQ": 148.03545657015587,
         "LowQN": 278.0044543429844,
         "year": 2014.1670378619153,
         "month": 5.953229398663697,
         "week": 23.812917594654788,
         "weekday": 2.9955456570155903,
         "_deepnote_index_column": 10
        },
        {
         "State": "Hawaii",
         "HighQ": 309.9189309576843,
         "HighQN": 408.6859688195991,
         "MedQ": 268.73815144766144,
         "MedQN": 460.37861915367483,
         "LowQ": 170.38378619153744,
         "LowQN": 28.5456570155902,
         "year": 2014.1670378619153,
         "month": 5.953229398663697,
         "week": 23.812917594654788,
         "weekday": 2.9955456570155903,
         "_deepnote_index_column": 11
        },
        {
         "State": "Idaho",
         "HighQ": 275.63937639198207,
         "HighQN": 395.16258351893094,
         "MedQ": 249.82242761692686,
         "MedQN": 588.3452115812918,
         "LowQ": 150.82788418708165,
         "LowQN": 30.732739420935413,
         "year": 2014.1670378619153,
         "month": 5.953229398663697,
         "week": 23.812917594654788,
         "weekday": 2.9955456570155903,
         "_deepnote_index_column": 12
        },
        {
         "State": "Illinois",
         "HighQ": 355.4633407572381,
         "HighQN": 5049.405345211581,
         "MedQ": 284.18008908685965,
         "MedQN": 4807.879732739421,
         "LowQ": 189.70080178173686,
         "LowQN": 410.34075723830733,
         "year": 2014.1670378619153,
         "month": 5.953229398663697,
         "week": 23.812917594654788,
         "weekday": 2.9955456570155903,
         "_deepnote_index_column": 13
        },
        {
         "State": "Indiana",
         "HighQ": 333.1911135857462,
         "HighQN": 2133.6213808463253,
         "MedQ": 211.9895100222718,
         "MedQN": 1958.271714922049,
         "LowQ": 157.27581291759313,
         "LowQN": 297.90423162583517,
         "year": 2014.1670378619153,
         "month": 5.953229398663697,
         "week": 23.812917594654788,
         "weekday": 2.9955456570155903,
         "_deepnote_index_column": 14
        },
        {
         "State": "Iowa",
         "HighQ": 367.09579064587945,
         "HighQN": 870.6391982182628,
         "MedQ": 289.9455233853001,
         "MedQN": 890.7706013363029,
         "LowQ": 248.9203118040103,
         "LowQN": 113.9086859688196,
         "year": 2014.1670378619153,
         "month": 5.953229398663697,
         "week": 23.812917594654788,
         "weekday": 2.9955456570155903,
         "_deepnote_index_column": 15
        },
        {
         "State": "Kansas",
         "HighQ": 350.8191982182628,
         "HighQN": 1043.3095768374164,
         "MedQ": 261.2430734966593,
         "MedQN": 867.9955456570156,
         "LowQ": 120.90496659242882,
         "LowQN": 128.4075723830735,
         "year": 2014.1670378619153,
         "month": 5.953229398663697,
         "week": 23.812917594654788,
         "weekday": 2.9955456570155903,
         "_deepnote_index_column": 16
        },
        {
         "State": "Kentucky",
         "HighQ": 338.8551670378623,
         "HighQN": 1317.2628062360802,
         "MedQ": 179.93376391982187,
         "MedQN": 1312.0133630289533,
         "LowQ": 123.76643652561164,
         "LowQN": 164.0890868596882,
         "year": 2014.1670378619153,
         "month": 5.953229398663697,
         "week": 23.812917594654788,
         "weekday": 2.9955456570155903,
         "_deepnote_index_column": 17
        },
        {
         "State": "Louisiana",
         "HighQ": 366.83253897550145,
         "HighQN": 1374.498886414254,
         "MedQ": 243.1178841870823,
         "MedQN": 1182.968819599109,
         "LowQ": 145.5336080178182,
         "LowQN": 287.8641425389755,
         "year": 2014.1670378619153,
         "month": 5.953229398663697,
         "week": 23.812917594654788,
         "weekday": 2.9955456570155903,
         "_deepnote_index_column": 18
        },
        {
         "State": "Maine",
         "HighQ": 315.3900890868601,
         "HighQN": 556.2672605790646,
         "MedQ": 248.4381737193766,
         "MedQN": 572.9955456570156,
         "LowQ": 257.85957683741464,
         "LowQN": 58.96881959910913,
         "year": 2014.1670378619153,
         "month": 5.953229398663697,
         "week": 23.812917594654788,
         "weekday": 2.9955456570155903,
         "_deepnote_index_column": 19
        },
        {
         "State": "Maryland",
         "HighQ": 370.9851670378627,
         "HighQN": 2536.0267260579067,
         "MedQ": 254.1404454342983,
         "MedQN": 2124.583518930958,
         "LowQ": 188.72129175946466,
         "LowQN": 179.6347438752784,
         "year": 2014.1670378619153,
         "month": 5.953229398663697,
         "week": 23.812917594654788,
         "weekday": 2.9955456570155903,
         "_deepnote_index_column": 20
        },
        {
         "State": "Massachusetts",
         "HighQ": 349.01164810690415,
         "HighQN": 3602.238307349666,
         "MedQ": 290.1978841870824,
         "MedQN": 3277.69710467706,
         "LowQ": 221.39314031180496,
         "LowQN": 263.5412026726058,
         "year": 2014.1670378619153,
         "month": 5.953229398663697,
         "week": 23.812917594654788,
         "weekday": 2.9955456570155903,
         "_deepnote_index_column": 21
        },
        {
         "State": "Michigan",
         "HighQ": 292.0905122494431,
         "HighQN": 3663.207126948775,
         "MedQ": 273.35233853006685,
         "MedQN": 3285.2048997772827,
         "LowQ": 257.8015144766155,
         "LowQN": 270.75501113585744,
         "year": 2014.1670378619153,
         "month": 5.953229398663697,
         "week": 23.812917594654788,
         "weekday": 2.9955456570155903,
         "_deepnote_index_column": 22
        },
        {
         "State": "Minnesota",
         "HighQ": 358.24327394209337,
         "HighQN": 2137.5367483296213,
         "MedQ": 275.85006681514466,
         "MedQN": 2130.5790645879733,
         "LowQ": 183.26267260579166,
         "LowQN": 116.65256124721604,
         "year": 2014.1670378619153,
         "month": 5.953229398663697,
         "week": 23.812917594654788,
         "weekday": 2.9955456570155903,
         "_deepnote_index_column": 23
        },
        {
         "State": "Mississippi",
         "HighQ": 337.5592873051219,
         "HighQN": 545.8485523385301,
         "MedQ": 148.2316035634744,
         "MedQN": 482.63919821826283,
         "LowQ": 143.48868596881871,
         "LowQN": 129.64365256124722,
         "year": 2014.1670378619153,
         "month": 5.953229398663697,
         "week": 23.812917594654788,
         "weekday": 2.9955456570155903,
         "_deepnote_index_column": 24
        },
        {
         "State": "Missouri",
         "HighQ": 359.2766369710466,
         "HighQN": 1989.7126948775056,
         "MedQ": 244.81220489977736,
         "MedQN": 1810.4209354120267,
         "LowQ": 146.85919821826207,
         "LowQN": 265.5857461024499,
         "year": 2014.1670378619153,
         "month": 5.953229398663697,
         "week": 23.812917594654788,
         "weekday": 2.9955456570155903,
         "_deepnote_index_column": 25
        },
        {
         "State": "Montana",
         "HighQ": 267.83173719376396,
         "HighQN": 679.7015590200446,
         "MedQ": 248.3985523385304,
         "MedQN": 334.3207126948775,
         "LowQ": 619.2020489977699,
         "LowQN": 28.398663697104677,
         "year": 2014.1670378619153,
         "month": 5.953229398663697,
         "week": 23.812917594654788,
         "weekday": 2.9955456570155903,
         "_deepnote_index_column": 26
        },
        {
         "State": "Nebraska",
         "HighQ": 341.5593541202675,
         "HighQN": 633.706013363029,
         "MedQ": 248.160645879733,
         "MedQN": 643.7461024498887,
         "LowQ": 135.80935412026827,
         "LowQN": 71.65256124721604,
         "year": 2014.1670378619153,
         "month": 5.953229398663697,
         "week": 23.812917594654788,
         "weekday": 2.9955456570155903,
         "_deepnote_index_column": 27
        },
        {
         "State": "Nevada",
         "HighQ": 267.8201113585748,
         "HighQN": 1115.924276169265,
         "MedQ": 226.21741648106894,
         "MedQN": 1242.5167037861916,
         "LowQ": 238.33389755010936,
         "LowQN": 72.83518930957683,
         "year": 2014.1670378619153,
         "month": 5.953229398663697,
         "week": 23.812917594654788,
         "weekday": 2.9955456570155903,
         "_deepnote_index_column": 28
        },
        {
         "State": "New Hampshire",
         "HighQ": 359.476035634743,
         "HighQN": 533.1559020044543,
         "MedQ": 290.1077505567928,
         "MedQN": 578.7305122494432,
         "LowQ": 629.3343429844102,
         "LowQN": 46.16035634743875,
         "year": 2014.1670378619153,
         "month": 5.953229398663697,
         "week": 23.812917594654788,
         "weekday": 2.9955456570155903,
         "_deepnote_index_column": 29
        },
        {
         "State": "New Jersey",
         "HighQ": 349.321692650334,
         "HighQN": 2759.781737193764,
         "MedQ": 288.72701559020044,
         "MedQN": 3676.209354120267,
         "LowQ": 226.79452115812833,
         "LowQN": 233.51447661469933,
         "year": 2014.1670378619153,
         "month": 5.953229398663697,
         "week": 23.812917594654788,
         "weekday": 2.9955456570155903,
         "_deepnote_index_column": 30
        },
        {
         "State": "New Mexico",
         "HighQ": 289.5625389755012,
         "HighQN": 708.0556792873051,
         "MedQ": 209.24224944320736,
         "MedQN": 575.347438752784,
         "LowQ": 87.3402449888641,
         "LowQN": 56.512249443207125,
         "year": 2014.1670378619153,
         "month": 5.953229398663697,
         "week": 23.812917594654788,
         "weekday": 2.9955456570155903,
         "_deepnote_index_column": 31
        },
        {
         "State": "New York",
         "HighQ": 346.9127616926502,
         "HighQN": 7102.532293986637,
         "MedQ": 265.3769487750556,
         "MedQN": 7642.09131403118,
         "LowQ": 204.57639198218294,
         "LowQN": 568.1291759465479,
         "year": 2014.1670378619153,
         "month": 5.953229398663697,
         "week": 23.812917594654788,
         "weekday": 2.9955456570155903,
         "_deepnote_index_column": 32
        },
        {
         "State": "North Carolina",
         "HighQ": 349.47503340757214,
         "HighQN": 3626.0601336302893,
         "MedQ": 245.6992204899782,
         "MedQN": 2617.051224944321,
         "LowQ": 151.09155902004363,
         "LowQN": 282.0066815144766,
         "year": 2014.1670378619153,
         "month": 5.953229398663697,
         "week": 23.812917594654788,
         "weekday": 2.9955456570155903,
         "_deepnote_index_column": 33
        },
        {
         "State": "North Dakota",
         "HighQ": 398.6687527839638,
         "HighQN": 186.10690423162583,
         "MedQ": 349.06668151447695,
         "MedQN": 279.1336302895323,
         "LowQ": 335.1400445434291,
         "LowQN": 20.265033407572382,
         "year": 2014.1670378619153,
         "month": 5.953229398663697,
         "week": 23.812917594654788,
         "weekday": 2.9955456570155903,
         "_deepnote_index_column": 34
        },
        {
         "State": "Ohio",
         "HighQ": 334.55465478841865,
         "HighQN": 3824.501113585746,
         "MedQ": 216.95316258351875,
         "MedQN": 3764.425389755011,
         "LowQ": 165.22973273942242,
         "LowQN": 495.06904231625833,
         "year": 2014.1670378619153,
         "month": 5.953229398663697,
         "week": 23.812917594654788,
         "weekday": 2.9955456570155903,
         "_deepnote_index_column": 35
        },
        {
         "State": "Oklahoma",
         "HighQ": 361.57314031180437,
         "HighQN": 971.0334075723831,
         "MedQ": 233.82200445434296,
         "MedQN": 926.4387527839643,
         "LowQ": 121.14149220489908,
         "LowQN": 170.7260579064588,
         "year": 2014.1670378619153,
         "month": 5.953229398663697,
         "week": 23.812917594654788,
         "weekday": 2.9955456570155903,
         "_deepnote_index_column": 36
        },
        {
         "State": "Oregon",
         "HighQ": 208.4962360801785,
         "HighQN": 1979.6124721603564,
         "MedQ": 183.88986636971046,
         "MedQN": 1752.988864142539,
         "LowQ": 173.51425389754922,
         "LowQN": 83.06458797327394,
         "year": 2014.1670378619153,
         "month": 5.953229398663697,
         "week": 23.812917594654788,
         "weekday": 2.9955456570155903,
         "_deepnote_index_column": 37
        },
        {
         "State": "Pennsylvania",
         "HighQ": 366.1256792873054,
         "HighQN": 4921.144766146993,
         "MedQ": 267.89133630289535,
         "MedQN": 4328.220489977728,
         "LowQ": 193.0592873051228,
         "LowQN": 457.0311804008909,
         "year": 2014.1670378619153,
         "month": 5.953229398663697,
         "week": 23.812917594654788,
         "weekday": 2.9955456570155903,
         "_deepnote_index_column": 38
        },
        {
         "State": "Rhode Island",
         "HighQ": 323.8383518930961,
         "HighQN": 647.8552338530067,
         "MedQ": 258.17229398663676,
         "MedQN": 478.84409799554567,
         "LowQ": 204.9320489977737,
         "LowQN": 40.52338530066815,
         "year": 2014.1670378619153,
         "month": 5.953229398663697,
         "week": 23.812917594654788,
         "weekday": 2.9955456570155903,
         "_deepnote_index_column": 39
        },
        {
         "State": "South Carolina",
         "HighQ": 341.6929175946547,
         "HighQN": 1496.837416481069,
         "MedQ": 203.33977728285063,
         "MedQN": 1221.7550111358576,
         "LowQ": 184.85135857461168,
         "LowQN": 149.4476614699332,
         "year": 2014.1670378619153,
         "month": 5.953229398663697,
         "week": 23.812917594654788,
         "weekday": 2.9955456570155903,
         "_deepnote_index_column": 40
        },
        {
         "State": "South Dakota",
         "HighQ": 375.8184855233856,
         "HighQN": 198.75278396436525,
         "MedQ": 351.9448106904231,
         "MedQN": 223.39420935412028,
         "LowQ": 124.14374164810751,
         "LowQN": 23.111358574610247,
         "year": 2014.1670378619153,
         "month": 5.953229398663697,
         "week": 23.812917594654788,
         "weekday": 2.9955456570155903,
         "_deepnote_index_column": 41
        },
        {
         "State": "Tennessee",
         "HighQ": 352.75300668151436,
         "HighQN": 1996.9265033407573,
         "MedQ": 225.80886414253897,
         "MedQN": 1661.2538975501113,
         "LowQ": 187.53910913140328,
         "LowQN": 194.4075723830735,
         "year": 2014.1670378619153,
         "month": 5.953229398663697,
         "week": 23.812917594654788,
         "weekday": 2.9955456570155903,
         "_deepnote_index_column": 42
        },
        {
         "State": "Texas",
         "HighQ": 337.1052115812918,
         "HighQN": 7471.391982182628,
         "MedQ": 233.5368374164813,
         "MedQN": 7547.712694877506,
         "LowQ": 143.6289532293997,
         "LowQN": 1051.9510022271716,
         "year": 2014.1670378619153,
         "month": 5.953229398663697,
         "week": 23.812917594654788,
         "weekday": 2.9955456570155903,
         "_deepnote_index_column": 43
        },
        {
         "State": "Utah",
         "HighQ": 289.5960579064588,
         "HighQN": 858.1269487750557,
         "MedQ": 237.3718930957685,
         "MedQN": 920.8351893095769,
         "LowQ": 200.07075723830866,
         "LowQN": 55.906458797327396,
         "year": 2014.1670378619153,
         "month": 5.953229398663697,
         "week": 23.812917594654788,
         "weekday": 2.9955456570155903,
         "_deepnote_index_column": 44
        },
        {
         "State": "Vermont",
         "HighQ": 374.25044543429857,
         "HighQN": 330.33853006681517,
         "MedQ": 315.5475501113593,
         "MedQN": 314.260579064588,
         "LowQ": 190.1351893095764,
         "LowQN": 28.238307349665924,
         "year": 2014.1670378619153,
         "month": 5.953229398663697,
         "week": 23.812917594654788,
         "weekday": 2.9955456570155903,
         "_deepnote_index_column": 45
        },
        {
         "State": "Virginia",
         "HighQ": 368.1469933184852,
         "HighQN": 3122.2449888641427,
         "MedQ": 290.4080846325166,
         "MedQN": 2668.5812917594653,
         "LowQ": 224.29939866369585,
         "LowQN": 256.2850779510022,
         "year": 2014.1670378619153,
         "month": 5.953229398663697,
         "week": 23.812917594654788,
         "weekday": 2.9955456570155903,
         "_deepnote_index_column": 46
        },
        {
         "State": "Washington",
         "HighQ": 233.38781737193753,
         "HighQN": 2967.556792873051,
         "MedQ": 189.92498886414248,
         "MedQN": 3103.37416481069,
         "LowQ": 140.11601336302851,
         "LowQN": 139.5523385300668,
         "year": 2014.1670378619153,
         "month": 5.953229398663697,
         "week": 23.812917594654788,
         "weekday": 2.9955456570155903,
         "_deepnote_index_column": 47
        },
        {
         "State": "West Virginia",
         "HighQ": 357.39456570155846,
         "HighQN": 486.5478841870824,
         "MedQ": 215.88380846325143,
         "MedQN": 480.5991091314031,
         "LowQ": 150.9457906458807,
         "LowQN": 52.46770601336303,
         "year": 2014.1670378619153,
         "month": 5.953229398663697,
         "week": 23.812917594654788,
         "weekday": 2.9955456570155903,
         "_deepnote_index_column": 48
        },
        {
         "State": "Wisconsin",
         "HighQ": 353.0525167037862,
         "HighQN": 2015.4053452115813,
         "MedQ": 271.6481737193763,
         "MedQN": 1896.4432071269487,
         "LowQ": 245.99864142539104,
         "LowQN": 151.34743875278397,
         "year": 2014.1670378619153,
         "month": 5.953229398663697,
         "week": 23.812917594654788,
         "weekday": 2.9955456570155903,
         "_deepnote_index_column": 49
        },
        {
         "State": "Wyoming",
         "HighQ": 339.02077951002263,
         "HighQN": 115.4988864142539,
         "MedQ": 358.5348329621371,
         "MedQN": 169.73719376391983,
         "LowQ": 161.30000000000135,
         "LowQN": 11.739420935412026,
         "year": 2014.1670378619153,
         "month": 5.953229398663697,
         "week": 23.812917594654788,
         "weekday": 2.9955456570155903,
         "_deepnote_index_column": 50
        }
       ],
       "rows_bottom": null
      },
      "text/plain": "                   State       HighQ        HighQN        MedQ         MedQN  \\\n0                Alabama  339.561849   1379.414254  204.606169   1270.351893   \n1                 Alaska  291.482004    321.244989  262.046392    407.917595   \n2                Arizona  300.667483   2392.465479  209.365345   2137.414254   \n3               Arkansas  348.056147    751.988864  190.414655    724.683742   \n4             California  245.376125  14947.073497  191.268909  16769.821826   \n5               Colorado  238.918708   2816.218263  196.532517   2457.512249   \n6            Connecticut  341.694076   1625.120267  271.323898   1777.227171   \n7               Delaware  366.781849    440.971047  231.230312    372.587973   \n8   District of Columbia  348.177416    575.091314  288.251314    494.650334   \n9                Florida  302.570312   8415.031180  217.882561   7127.216036   \n10               Georgia  326.659644   3975.084633  215.943630   3030.489978   \n11                Hawaii  309.918931    408.685969  268.738151    460.378619   \n12                 Idaho  275.639376    395.162584  249.822428    588.345212   \n13              Illinois  355.463341   5049.405345  284.180089   4807.879733   \n14               Indiana  333.191114   2133.621381  211.989510   1958.271715   \n15                  Iowa  367.095791    870.639198  289.945523    890.770601   \n16                Kansas  350.819198   1043.309577  261.243073    867.995546   \n17              Kentucky  338.855167   1317.262806  179.933764   1312.013363   \n18             Louisiana  366.832539   1374.498886  243.117884   1182.968820   \n19                 Maine  315.390089    556.267261  248.438174    572.995546   \n20              Maryland  370.985167   2536.026726  254.140445   2124.583519   \n21         Massachusetts  349.011648   3602.238307  290.197884   3277.697105   \n22              Michigan  292.090512   3663.207127  273.352339   3285.204900   \n23             Minnesota  358.243274   2137.536748  275.850067   2130.579065   \n24           Mississippi  337.559287    545.848552  148.231604    482.639198   \n25              Missouri  359.276637   1989.712695  244.812205   1810.420935   \n26               Montana  267.831737    679.701559  248.398552    334.320713   \n27              Nebraska  341.559354    633.706013  248.160646    643.746102   \n28                Nevada  267.820111   1115.924276  226.217416   1242.516704   \n29         New Hampshire  359.476036    533.155902  290.107751    578.730512   \n30            New Jersey  349.321693   2759.781737  288.727016   3676.209354   \n31            New Mexico  289.562539    708.055679  209.242249    575.347439   \n32              New York  346.912762   7102.532294  265.376949   7642.091314   \n33        North Carolina  349.475033   3626.060134  245.699220   2617.051225   \n34          North Dakota  398.668753    186.106904  349.066682    279.133630   \n35                  Ohio  334.554655   3824.501114  216.953163   3764.425390   \n36              Oklahoma  361.573140    971.033408  233.822004    926.438753   \n37                Oregon  208.496236   1979.612472  183.889866   1752.988864   \n38          Pennsylvania  366.125679   4921.144766  267.891336   4328.220490   \n39          Rhode Island  323.838352    647.855234  258.172294    478.844098   \n40        South Carolina  341.692918   1496.837416  203.339777   1221.755011   \n41          South Dakota  375.818486    198.752784  351.944811    223.394209   \n42             Tennessee  352.753007   1996.926503  225.808864   1661.253898   \n43                 Texas  337.105212   7471.391982  233.536837   7547.712695   \n44                  Utah  289.596058    858.126949  237.371893    920.835189   \n45               Vermont  374.250445    330.338530  315.547550    314.260579   \n46              Virginia  368.146993   3122.244989  290.408085   2668.581292   \n47            Washington  233.387817   2967.556793  189.924989   3103.374165   \n48         West Virginia  357.394566    486.547884  215.883808    480.599109   \n49             Wisconsin  353.052517   2015.405345  271.648174   1896.443207   \n50               Wyoming  339.020780    115.498886  358.534833    169.737194   \n\n          LowQ        LowQN         year     month       week   weekday  \n0   145.978508   161.149220  2014.167038  5.953229  23.812918  2.995546  \n1   394.653964    32.334076  2014.167038  5.953229  23.812918  2.995546  \n2   188.500134   279.006682  2014.167038  5.953229  23.812918  2.995546  \n3   126.771269   135.902004  2014.167038  5.953229  23.812918  2.995546  \n4   189.783586   976.298441  2014.167038  5.953229  23.812918  2.995546  \n5   226.781114   165.349666  2014.167038  5.953229  23.812918  2.995546  \n6   251.625724   110.229399  2014.167038  5.953229  23.812918  2.995546  \n7   204.960245    39.175947  2014.167038  5.953229  23.812918  2.995546  \n8   210.225367    46.583519  2014.167038  5.953229  23.812918  2.995546  \n9   152.285457   632.077951  2014.167038  5.953229  23.812918  2.995546  \n10  148.035457   278.004454  2014.167038  5.953229  23.812918  2.995546  \n11  170.383786    28.545657  2014.167038  5.953229  23.812918  2.995546  \n12  150.827884    30.732739  2014.167038  5.953229  23.812918  2.995546  \n13  189.700802   410.340757  2014.167038  5.953229  23.812918  2.995546  \n14  157.275813   297.904232  2014.167038  5.953229  23.812918  2.995546  \n15  248.920312   113.908686  2014.167038  5.953229  23.812918  2.995546  \n16  120.904967   128.407572  2014.167038  5.953229  23.812918  2.995546  \n17  123.766437   164.089087  2014.167038  5.953229  23.812918  2.995546  \n18  145.533608   287.864143  2014.167038  5.953229  23.812918  2.995546  \n19  257.859577    58.968820  2014.167038  5.953229  23.812918  2.995546  \n20  188.721292   179.634744  2014.167038  5.953229  23.812918  2.995546  \n21  221.393140   263.541203  2014.167038  5.953229  23.812918  2.995546  \n22  257.801514   270.755011  2014.167038  5.953229  23.812918  2.995546  \n23  183.262673   116.652561  2014.167038  5.953229  23.812918  2.995546  \n24  143.488686   129.643653  2014.167038  5.953229  23.812918  2.995546  \n25  146.859198   265.585746  2014.167038  5.953229  23.812918  2.995546  \n26  619.202049    28.398664  2014.167038  5.953229  23.812918  2.995546  \n27  135.809354    71.652561  2014.167038  5.953229  23.812918  2.995546  \n28  238.333898    72.835189  2014.167038  5.953229  23.812918  2.995546  \n29  629.334343    46.160356  2014.167038  5.953229  23.812918  2.995546  \n30  226.794521   233.514477  2014.167038  5.953229  23.812918  2.995546  \n31   87.340245    56.512249  2014.167038  5.953229  23.812918  2.995546  \n32  204.576392   568.129176  2014.167038  5.953229  23.812918  2.995546  \n33  151.091559   282.006682  2014.167038  5.953229  23.812918  2.995546  \n34  335.140045    20.265033  2014.167038  5.953229  23.812918  2.995546  \n35  165.229733   495.069042  2014.167038  5.953229  23.812918  2.995546  \n36  121.141492   170.726058  2014.167038  5.953229  23.812918  2.995546  \n37  173.514254    83.064588  2014.167038  5.953229  23.812918  2.995546  \n38  193.059287   457.031180  2014.167038  5.953229  23.812918  2.995546  \n39  204.932049    40.523385  2014.167038  5.953229  23.812918  2.995546  \n40  184.851359   149.447661  2014.167038  5.953229  23.812918  2.995546  \n41  124.143742    23.111359  2014.167038  5.953229  23.812918  2.995546  \n42  187.539109   194.407572  2014.167038  5.953229  23.812918  2.995546  \n43  143.628953  1051.951002  2014.167038  5.953229  23.812918  2.995546  \n44  200.070757    55.906459  2014.167038  5.953229  23.812918  2.995546  \n45  190.135189    28.238307  2014.167038  5.953229  23.812918  2.995546  \n46  224.299399   256.285078  2014.167038  5.953229  23.812918  2.995546  \n47  140.116013   139.552339  2014.167038  5.953229  23.812918  2.995546  \n48  150.945791    52.467706  2014.167038  5.953229  23.812918  2.995546  \n49  245.998641   151.347439  2014.167038  5.953229  23.812918  2.995546  \n50  161.300000    11.739421  2014.167038  5.953229  23.812918  2.995546  ",
      "text/html": "<div>\n<style scoped>\n    .dataframe tbody tr th:only-of-type {\n        vertical-align: middle;\n    }\n\n    .dataframe tbody tr th {\n        vertical-align: top;\n    }\n\n    .dataframe thead th {\n        text-align: right;\n    }\n</style>\n<table border=\"1\" class=\"dataframe\">\n  <thead>\n    <tr style=\"text-align: right;\">\n      <th></th>\n      <th>State</th>\n      <th>HighQ</th>\n      <th>HighQN</th>\n      <th>MedQ</th>\n      <th>MedQN</th>\n      <th>LowQ</th>\n      <th>LowQN</th>\n      <th>year</th>\n      <th>month</th>\n      <th>week</th>\n      <th>weekday</th>\n    </tr>\n  </thead>\n  <tbody>\n    <tr>\n      <th>0</th>\n      <td>Alabama</td>\n      <td>339.561849</td>\n      <td>1379.414254</td>\n      <td>204.606169</td>\n      <td>1270.351893</td>\n      <td>145.978508</td>\n      <td>161.149220</td>\n      <td>2014.167038</td>\n      <td>5.953229</td>\n      <td>23.812918</td>\n      <td>2.995546</td>\n    </tr>\n    <tr>\n      <th>1</th>\n      <td>Alaska</td>\n      <td>291.482004</td>\n      <td>321.244989</td>\n      <td>262.046392</td>\n      <td>407.917595</td>\n      <td>394.653964</td>\n      <td>32.334076</td>\n      <td>2014.167038</td>\n      <td>5.953229</td>\n      <td>23.812918</td>\n      <td>2.995546</td>\n    </tr>\n    <tr>\n      <th>2</th>\n      <td>Arizona</td>\n      <td>300.667483</td>\n      <td>2392.465479</td>\n      <td>209.365345</td>\n      <td>2137.414254</td>\n      <td>188.500134</td>\n      <td>279.006682</td>\n      <td>2014.167038</td>\n      <td>5.953229</td>\n      <td>23.812918</td>\n      <td>2.995546</td>\n    </tr>\n    <tr>\n      <th>3</th>\n      <td>Arkansas</td>\n      <td>348.056147</td>\n      <td>751.988864</td>\n      <td>190.414655</td>\n      <td>724.683742</td>\n      <td>126.771269</td>\n      <td>135.902004</td>\n      <td>2014.167038</td>\n      <td>5.953229</td>\n      <td>23.812918</td>\n      <td>2.995546</td>\n    </tr>\n    <tr>\n      <th>4</th>\n      <td>California</td>\n      <td>245.376125</td>\n      <td>14947.073497</td>\n      <td>191.268909</td>\n      <td>16769.821826</td>\n      <td>189.783586</td>\n      <td>976.298441</td>\n      <td>2014.167038</td>\n      <td>5.953229</td>\n      <td>23.812918</td>\n      <td>2.995546</td>\n    </tr>\n    <tr>\n      <th>5</th>\n      <td>Colorado</td>\n      <td>238.918708</td>\n      <td>2816.218263</td>\n      <td>196.532517</td>\n      <td>2457.512249</td>\n      <td>226.781114</td>\n      <td>165.349666</td>\n      <td>2014.167038</td>\n      <td>5.953229</td>\n      <td>23.812918</td>\n      <td>2.995546</td>\n    </tr>\n    <tr>\n      <th>6</th>\n      <td>Connecticut</td>\n      <td>341.694076</td>\n      <td>1625.120267</td>\n      <td>271.323898</td>\n      <td>1777.227171</td>\n      <td>251.625724</td>\n      <td>110.229399</td>\n      <td>2014.167038</td>\n      <td>5.953229</td>\n      <td>23.812918</td>\n      <td>2.995546</td>\n    </tr>\n    <tr>\n      <th>7</th>\n      <td>Delaware</td>\n      <td>366.781849</td>\n      <td>440.971047</td>\n      <td>231.230312</td>\n      <td>372.587973</td>\n      <td>204.960245</td>\n      <td>39.175947</td>\n      <td>2014.167038</td>\n      <td>5.953229</td>\n      <td>23.812918</td>\n      <td>2.995546</td>\n    </tr>\n    <tr>\n      <th>8</th>\n      <td>District of Columbia</td>\n      <td>348.177416</td>\n      <td>575.091314</td>\n      <td>288.251314</td>\n      <td>494.650334</td>\n      <td>210.225367</td>\n      <td>46.583519</td>\n      <td>2014.167038</td>\n      <td>5.953229</td>\n      <td>23.812918</td>\n      <td>2.995546</td>\n    </tr>\n    <tr>\n      <th>9</th>\n      <td>Florida</td>\n      <td>302.570312</td>\n      <td>8415.031180</td>\n      <td>217.882561</td>\n      <td>7127.216036</td>\n      <td>152.285457</td>\n      <td>632.077951</td>\n      <td>2014.167038</td>\n      <td>5.953229</td>\n      <td>23.812918</td>\n      <td>2.995546</td>\n    </tr>\n    <tr>\n      <th>10</th>\n      <td>Georgia</td>\n      <td>326.659644</td>\n      <td>3975.084633</td>\n      <td>215.943630</td>\n      <td>3030.489978</td>\n      <td>148.035457</td>\n      <td>278.004454</td>\n      <td>2014.167038</td>\n      <td>5.953229</td>\n      <td>23.812918</td>\n      <td>2.995546</td>\n    </tr>\n    <tr>\n      <th>11</th>\n      <td>Hawaii</td>\n      <td>309.918931</td>\n      <td>408.685969</td>\n      <td>268.738151</td>\n      <td>460.378619</td>\n      <td>170.383786</td>\n      <td>28.545657</td>\n      <td>2014.167038</td>\n      <td>5.953229</td>\n      <td>23.812918</td>\n      <td>2.995546</td>\n    </tr>\n    <tr>\n      <th>12</th>\n      <td>Idaho</td>\n      <td>275.639376</td>\n      <td>395.162584</td>\n      <td>249.822428</td>\n      <td>588.345212</td>\n      <td>150.827884</td>\n      <td>30.732739</td>\n      <td>2014.167038</td>\n      <td>5.953229</td>\n      <td>23.812918</td>\n      <td>2.995546</td>\n    </tr>\n    <tr>\n      <th>13</th>\n      <td>Illinois</td>\n      <td>355.463341</td>\n      <td>5049.405345</td>\n      <td>284.180089</td>\n      <td>4807.879733</td>\n      <td>189.700802</td>\n      <td>410.340757</td>\n      <td>2014.167038</td>\n      <td>5.953229</td>\n      <td>23.812918</td>\n      <td>2.995546</td>\n    </tr>\n    <tr>\n      <th>14</th>\n      <td>Indiana</td>\n      <td>333.191114</td>\n      <td>2133.621381</td>\n      <td>211.989510</td>\n      <td>1958.271715</td>\n      <td>157.275813</td>\n      <td>297.904232</td>\n      <td>2014.167038</td>\n      <td>5.953229</td>\n      <td>23.812918</td>\n      <td>2.995546</td>\n    </tr>\n    <tr>\n      <th>15</th>\n      <td>Iowa</td>\n      <td>367.095791</td>\n      <td>870.639198</td>\n      <td>289.945523</td>\n      <td>890.770601</td>\n      <td>248.920312</td>\n      <td>113.908686</td>\n      <td>2014.167038</td>\n      <td>5.953229</td>\n      <td>23.812918</td>\n      <td>2.995546</td>\n    </tr>\n    <tr>\n      <th>16</th>\n      <td>Kansas</td>\n      <td>350.819198</td>\n      <td>1043.309577</td>\n      <td>261.243073</td>\n      <td>867.995546</td>\n      <td>120.904967</td>\n      <td>128.407572</td>\n      <td>2014.167038</td>\n      <td>5.953229</td>\n      <td>23.812918</td>\n      <td>2.995546</td>\n    </tr>\n    <tr>\n      <th>17</th>\n      <td>Kentucky</td>\n      <td>338.855167</td>\n      <td>1317.262806</td>\n      <td>179.933764</td>\n      <td>1312.013363</td>\n      <td>123.766437</td>\n      <td>164.089087</td>\n      <td>2014.167038</td>\n      <td>5.953229</td>\n      <td>23.812918</td>\n      <td>2.995546</td>\n    </tr>\n    <tr>\n      <th>18</th>\n      <td>Louisiana</td>\n      <td>366.832539</td>\n      <td>1374.498886</td>\n      <td>243.117884</td>\n      <td>1182.968820</td>\n      <td>145.533608</td>\n      <td>287.864143</td>\n      <td>2014.167038</td>\n      <td>5.953229</td>\n      <td>23.812918</td>\n      <td>2.995546</td>\n    </tr>\n    <tr>\n      <th>19</th>\n      <td>Maine</td>\n      <td>315.390089</td>\n      <td>556.267261</td>\n      <td>248.438174</td>\n      <td>572.995546</td>\n      <td>257.859577</td>\n      <td>58.968820</td>\n      <td>2014.167038</td>\n      <td>5.953229</td>\n      <td>23.812918</td>\n      <td>2.995546</td>\n    </tr>\n    <tr>\n      <th>20</th>\n      <td>Maryland</td>\n      <td>370.985167</td>\n      <td>2536.026726</td>\n      <td>254.140445</td>\n      <td>2124.583519</td>\n      <td>188.721292</td>\n      <td>179.634744</td>\n      <td>2014.167038</td>\n      <td>5.953229</td>\n      <td>23.812918</td>\n      <td>2.995546</td>\n    </tr>\n    <tr>\n      <th>21</th>\n      <td>Massachusetts</td>\n      <td>349.011648</td>\n      <td>3602.238307</td>\n      <td>290.197884</td>\n      <td>3277.697105</td>\n      <td>221.393140</td>\n      <td>263.541203</td>\n      <td>2014.167038</td>\n      <td>5.953229</td>\n      <td>23.812918</td>\n      <td>2.995546</td>\n    </tr>\n    <tr>\n      <th>22</th>\n      <td>Michigan</td>\n      <td>292.090512</td>\n      <td>3663.207127</td>\n      <td>273.352339</td>\n      <td>3285.204900</td>\n      <td>257.801514</td>\n      <td>270.755011</td>\n      <td>2014.167038</td>\n      <td>5.953229</td>\n      <td>23.812918</td>\n      <td>2.995546</td>\n    </tr>\n    <tr>\n      <th>23</th>\n      <td>Minnesota</td>\n      <td>358.243274</td>\n      <td>2137.536748</td>\n      <td>275.850067</td>\n      <td>2130.579065</td>\n      <td>183.262673</td>\n      <td>116.652561</td>\n      <td>2014.167038</td>\n      <td>5.953229</td>\n      <td>23.812918</td>\n      <td>2.995546</td>\n    </tr>\n    <tr>\n      <th>24</th>\n      <td>Mississippi</td>\n      <td>337.559287</td>\n      <td>545.848552</td>\n      <td>148.231604</td>\n      <td>482.639198</td>\n      <td>143.488686</td>\n      <td>129.643653</td>\n      <td>2014.167038</td>\n      <td>5.953229</td>\n      <td>23.812918</td>\n      <td>2.995546</td>\n    </tr>\n    <tr>\n      <th>25</th>\n      <td>Missouri</td>\n      <td>359.276637</td>\n      <td>1989.712695</td>\n      <td>244.812205</td>\n      <td>1810.420935</td>\n      <td>146.859198</td>\n      <td>265.585746</td>\n      <td>2014.167038</td>\n      <td>5.953229</td>\n      <td>23.812918</td>\n      <td>2.995546</td>\n    </tr>\n    <tr>\n      <th>26</th>\n      <td>Montana</td>\n      <td>267.831737</td>\n      <td>679.701559</td>\n      <td>248.398552</td>\n      <td>334.320713</td>\n      <td>619.202049</td>\n      <td>28.398664</td>\n      <td>2014.167038</td>\n      <td>5.953229</td>\n      <td>23.812918</td>\n      <td>2.995546</td>\n    </tr>\n    <tr>\n      <th>27</th>\n      <td>Nebraska</td>\n      <td>341.559354</td>\n      <td>633.706013</td>\n      <td>248.160646</td>\n      <td>643.746102</td>\n      <td>135.809354</td>\n      <td>71.652561</td>\n      <td>2014.167038</td>\n      <td>5.953229</td>\n      <td>23.812918</td>\n      <td>2.995546</td>\n    </tr>\n    <tr>\n      <th>28</th>\n      <td>Nevada</td>\n      <td>267.820111</td>\n      <td>1115.924276</td>\n      <td>226.217416</td>\n      <td>1242.516704</td>\n      <td>238.333898</td>\n      <td>72.835189</td>\n      <td>2014.167038</td>\n      <td>5.953229</td>\n      <td>23.812918</td>\n      <td>2.995546</td>\n    </tr>\n    <tr>\n      <th>29</th>\n      <td>New Hampshire</td>\n      <td>359.476036</td>\n      <td>533.155902</td>\n      <td>290.107751</td>\n      <td>578.730512</td>\n      <td>629.334343</td>\n      <td>46.160356</td>\n      <td>2014.167038</td>\n      <td>5.953229</td>\n      <td>23.812918</td>\n      <td>2.995546</td>\n    </tr>\n    <tr>\n      <th>30</th>\n      <td>New Jersey</td>\n      <td>349.321693</td>\n      <td>2759.781737</td>\n      <td>288.727016</td>\n      <td>3676.209354</td>\n      <td>226.794521</td>\n      <td>233.514477</td>\n      <td>2014.167038</td>\n      <td>5.953229</td>\n      <td>23.812918</td>\n      <td>2.995546</td>\n    </tr>\n    <tr>\n      <th>31</th>\n      <td>New Mexico</td>\n      <td>289.562539</td>\n      <td>708.055679</td>\n      <td>209.242249</td>\n      <td>575.347439</td>\n      <td>87.340245</td>\n      <td>56.512249</td>\n      <td>2014.167038</td>\n      <td>5.953229</td>\n      <td>23.812918</td>\n      <td>2.995546</td>\n    </tr>\n    <tr>\n      <th>32</th>\n      <td>New York</td>\n      <td>346.912762</td>\n      <td>7102.532294</td>\n      <td>265.376949</td>\n      <td>7642.091314</td>\n      <td>204.576392</td>\n      <td>568.129176</td>\n      <td>2014.167038</td>\n      <td>5.953229</td>\n      <td>23.812918</td>\n      <td>2.995546</td>\n    </tr>\n    <tr>\n      <th>33</th>\n      <td>North Carolina</td>\n      <td>349.475033</td>\n      <td>3626.060134</td>\n      <td>245.699220</td>\n      <td>2617.051225</td>\n      <td>151.091559</td>\n      <td>282.006682</td>\n      <td>2014.167038</td>\n      <td>5.953229</td>\n      <td>23.812918</td>\n      <td>2.995546</td>\n    </tr>\n    <tr>\n      <th>34</th>\n      <td>North Dakota</td>\n      <td>398.668753</td>\n      <td>186.106904</td>\n      <td>349.066682</td>\n      <td>279.133630</td>\n      <td>335.140045</td>\n      <td>20.265033</td>\n      <td>2014.167038</td>\n      <td>5.953229</td>\n      <td>23.812918</td>\n      <td>2.995546</td>\n    </tr>\n    <tr>\n      <th>35</th>\n      <td>Ohio</td>\n      <td>334.554655</td>\n      <td>3824.501114</td>\n      <td>216.953163</td>\n      <td>3764.425390</td>\n      <td>165.229733</td>\n      <td>495.069042</td>\n      <td>2014.167038</td>\n      <td>5.953229</td>\n      <td>23.812918</td>\n      <td>2.995546</td>\n    </tr>\n    <tr>\n      <th>36</th>\n      <td>Oklahoma</td>\n      <td>361.573140</td>\n      <td>971.033408</td>\n      <td>233.822004</td>\n      <td>926.438753</td>\n      <td>121.141492</td>\n      <td>170.726058</td>\n      <td>2014.167038</td>\n      <td>5.953229</td>\n      <td>23.812918</td>\n      <td>2.995546</td>\n    </tr>\n    <tr>\n      <th>37</th>\n      <td>Oregon</td>\n      <td>208.496236</td>\n      <td>1979.612472</td>\n      <td>183.889866</td>\n      <td>1752.988864</td>\n      <td>173.514254</td>\n      <td>83.064588</td>\n      <td>2014.167038</td>\n      <td>5.953229</td>\n      <td>23.812918</td>\n      <td>2.995546</td>\n    </tr>\n    <tr>\n      <th>38</th>\n      <td>Pennsylvania</td>\n      <td>366.125679</td>\n      <td>4921.144766</td>\n      <td>267.891336</td>\n      <td>4328.220490</td>\n      <td>193.059287</td>\n      <td>457.031180</td>\n      <td>2014.167038</td>\n      <td>5.953229</td>\n      <td>23.812918</td>\n      <td>2.995546</td>\n    </tr>\n    <tr>\n      <th>39</th>\n      <td>Rhode Island</td>\n      <td>323.838352</td>\n      <td>647.855234</td>\n      <td>258.172294</td>\n      <td>478.844098</td>\n      <td>204.932049</td>\n      <td>40.523385</td>\n      <td>2014.167038</td>\n      <td>5.953229</td>\n      <td>23.812918</td>\n      <td>2.995546</td>\n    </tr>\n    <tr>\n      <th>40</th>\n      <td>South Carolina</td>\n      <td>341.692918</td>\n      <td>1496.837416</td>\n      <td>203.339777</td>\n      <td>1221.755011</td>\n      <td>184.851359</td>\n      <td>149.447661</td>\n      <td>2014.167038</td>\n      <td>5.953229</td>\n      <td>23.812918</td>\n      <td>2.995546</td>\n    </tr>\n    <tr>\n      <th>41</th>\n      <td>South Dakota</td>\n      <td>375.818486</td>\n      <td>198.752784</td>\n      <td>351.944811</td>\n      <td>223.394209</td>\n      <td>124.143742</td>\n      <td>23.111359</td>\n      <td>2014.167038</td>\n      <td>5.953229</td>\n      <td>23.812918</td>\n      <td>2.995546</td>\n    </tr>\n    <tr>\n      <th>42</th>\n      <td>Tennessee</td>\n      <td>352.753007</td>\n      <td>1996.926503</td>\n      <td>225.808864</td>\n      <td>1661.253898</td>\n      <td>187.539109</td>\n      <td>194.407572</td>\n      <td>2014.167038</td>\n      <td>5.953229</td>\n      <td>23.812918</td>\n      <td>2.995546</td>\n    </tr>\n    <tr>\n      <th>43</th>\n      <td>Texas</td>\n      <td>337.105212</td>\n      <td>7471.391982</td>\n      <td>233.536837</td>\n      <td>7547.712695</td>\n      <td>143.628953</td>\n      <td>1051.951002</td>\n      <td>2014.167038</td>\n      <td>5.953229</td>\n      <td>23.812918</td>\n      <td>2.995546</td>\n    </tr>\n    <tr>\n      <th>44</th>\n      <td>Utah</td>\n      <td>289.596058</td>\n      <td>858.126949</td>\n      <td>237.371893</td>\n      <td>920.835189</td>\n      <td>200.070757</td>\n      <td>55.906459</td>\n      <td>2014.167038</td>\n      <td>5.953229</td>\n      <td>23.812918</td>\n      <td>2.995546</td>\n    </tr>\n    <tr>\n      <th>45</th>\n      <td>Vermont</td>\n      <td>374.250445</td>\n      <td>330.338530</td>\n      <td>315.547550</td>\n      <td>314.260579</td>\n      <td>190.135189</td>\n      <td>28.238307</td>\n      <td>2014.167038</td>\n      <td>5.953229</td>\n      <td>23.812918</td>\n      <td>2.995546</td>\n    </tr>\n    <tr>\n      <th>46</th>\n      <td>Virginia</td>\n      <td>368.146993</td>\n      <td>3122.244989</td>\n      <td>290.408085</td>\n      <td>2668.581292</td>\n      <td>224.299399</td>\n      <td>256.285078</td>\n      <td>2014.167038</td>\n      <td>5.953229</td>\n      <td>23.812918</td>\n      <td>2.995546</td>\n    </tr>\n    <tr>\n      <th>47</th>\n      <td>Washington</td>\n      <td>233.387817</td>\n      <td>2967.556793</td>\n      <td>189.924989</td>\n      <td>3103.374165</td>\n      <td>140.116013</td>\n      <td>139.552339</td>\n      <td>2014.167038</td>\n      <td>5.953229</td>\n      <td>23.812918</td>\n      <td>2.995546</td>\n    </tr>\n    <tr>\n      <th>48</th>\n      <td>West Virginia</td>\n      <td>357.394566</td>\n      <td>486.547884</td>\n      <td>215.883808</td>\n      <td>480.599109</td>\n      <td>150.945791</td>\n      <td>52.467706</td>\n      <td>2014.167038</td>\n      <td>5.953229</td>\n      <td>23.812918</td>\n      <td>2.995546</td>\n    </tr>\n    <tr>\n      <th>49</th>\n      <td>Wisconsin</td>\n      <td>353.052517</td>\n      <td>2015.405345</td>\n      <td>271.648174</td>\n      <td>1896.443207</td>\n      <td>245.998641</td>\n      <td>151.347439</td>\n      <td>2014.167038</td>\n      <td>5.953229</td>\n      <td>23.812918</td>\n      <td>2.995546</td>\n    </tr>\n    <tr>\n      <th>50</th>\n      <td>Wyoming</td>\n      <td>339.020780</td>\n      <td>115.498886</td>\n      <td>358.534833</td>\n      <td>169.737194</td>\n      <td>161.300000</td>\n      <td>11.739421</td>\n      <td>2014.167038</td>\n      <td>5.953229</td>\n      <td>23.812918</td>\n      <td>2.995546</td>\n    </tr>\n  </tbody>\n</table>\n</div>"
     },
     "metadata": {}
    }
   ],
   "execution_count": 33
  },
  {
   "cell_type": "code",
   "metadata": {
    "collapsed": false,
    "cell_id": "00038-ab311f28-f8f2-4e48-a442-a40e6c2dd5d2",
    "deepnote_cell_type": "code"
   },
   "source": "df_mean.shape",
   "execution_count": 26,
   "outputs": [
    {
     "data": {
      "text/plain": "(51, 11)"
     },
     "execution_count": 26,
     "metadata": {},
     "output_type": "execute_result"
    }
   ]
  },
  {
   "cell_type": "code",
   "metadata": {
    "collapsed": false,
    "cell_id": "00039-42a3047c-8827-4113-9fe8-8c9201b65665",
    "deepnote_to_be_reexecuted": false,
    "source_hash": "7bdd3457",
    "execution_start": 1624848307859,
    "execution_millis": 53,
    "deepnote_cell_type": "code"
   },
   "source": "df_mean.head()",
   "execution_count": 34,
   "outputs": [
    {
     "output_type": "execute_result",
     "execution_count": 34,
     "data": {
      "application/vnd.deepnote.dataframe.v2+json": {
       "row_count": 5,
       "column_count": 11,
       "columns": [
        {
         "name": "State",
         "dtype": "object",
         "stats": {
          "unique_count": 5,
          "nan_count": 0,
          "categories": [
           {
            "name": "Alabama",
            "count": 1
           },
           {
            "name": "Alaska",
            "count": 1
           },
           {
            "name": "3 others",
            "count": 3
           }
          ]
         }
        },
        {
         "name": "HighQ",
         "dtype": "float64",
         "stats": {
          "unique_count": 5,
          "nan_count": 0,
          "min": "245.3761247216035",
          "max": "348.05614699331875",
          "histogram": [
           {
            "bin_start": 245.3761247216035,
            "bin_end": 255.64412694877504,
            "count": 1
           },
           {
            "bin_start": 255.64412694877504,
            "bin_end": 265.9121291759466,
            "count": 0
           },
           {
            "bin_start": 265.9121291759466,
            "bin_end": 276.1801314031181,
            "count": 0
           },
           {
            "bin_start": 276.1801314031181,
            "bin_end": 286.4481336302896,
            "count": 0
           },
           {
            "bin_start": 286.4481336302896,
            "bin_end": 296.71613585746115,
            "count": 1
           },
           {
            "bin_start": 296.71613585746115,
            "bin_end": 306.98413808463266,
            "count": 1
           },
           {
            "bin_start": 306.98413808463266,
            "bin_end": 317.25214031180417,
            "count": 0
           },
           {
            "bin_start": 317.25214031180417,
            "bin_end": 327.52014253897573,
            "count": 0
           },
           {
            "bin_start": 327.52014253897573,
            "bin_end": 337.78814476614724,
            "count": 0
           },
           {
            "bin_start": 337.78814476614724,
            "bin_end": 348.05614699331875,
            "count": 2
           }
          ]
         }
        },
        {
         "name": "HighQN",
         "dtype": "float64",
         "stats": {
          "unique_count": 5,
          "nan_count": 0,
          "min": "321.24498886414256",
          "max": "14947.073496659243",
          "histogram": [
           {
            "bin_start": 321.24498886414256,
            "bin_end": 1783.8278396436526,
            "count": 3
           },
           {
            "bin_start": 1783.8278396436526,
            "bin_end": 3246.4106904231626,
            "count": 1
           },
           {
            "bin_start": 3246.4106904231626,
            "bin_end": 4708.993541202672,
            "count": 0
           },
           {
            "bin_start": 4708.993541202672,
            "bin_end": 6171.576391982182,
            "count": 0
           },
           {
            "bin_start": 6171.576391982182,
            "bin_end": 7634.159242761692,
            "count": 0
           },
           {
            "bin_start": 7634.159242761692,
            "bin_end": 9096.742093541201,
            "count": 0
           },
           {
            "bin_start": 9096.742093541201,
            "bin_end": 10559.324944320711,
            "count": 0
           },
           {
            "bin_start": 10559.324944320711,
            "bin_end": 12021.907795100222,
            "count": 0
           },
           {
            "bin_start": 12021.907795100222,
            "bin_end": 13484.490645879732,
            "count": 0
           },
           {
            "bin_start": 13484.490645879732,
            "bin_end": 14947.073496659243,
            "count": 1
           }
          ]
         }
        },
        {
         "name": "MedQ",
         "dtype": "float64",
         "stats": {
          "unique_count": 5,
          "nan_count": 0,
          "min": "190.41465478841857",
          "max": "262.0463919821825",
          "histogram": [
           {
            "bin_start": 190.41465478841857,
            "bin_end": 197.57782850779498,
            "count": 2
           },
           {
            "bin_start": 197.57782850779498,
            "bin_end": 204.74100222717135,
            "count": 1
           },
           {
            "bin_start": 204.74100222717135,
            "bin_end": 211.90417594654775,
            "count": 1
           },
           {
            "bin_start": 211.90417594654775,
            "bin_end": 219.06734966592416,
            "count": 0
           },
           {
            "bin_start": 219.06734966592416,
            "bin_end": 226.23052338530056,
            "count": 0
           },
           {
            "bin_start": 226.23052338530056,
            "bin_end": 233.39369710467693,
            "count": 0
           },
           {
            "bin_start": 233.39369710467693,
            "bin_end": 240.55687082405333,
            "count": 0
           },
           {
            "bin_start": 240.55687082405333,
            "bin_end": 247.7200445434297,
            "count": 0
           },
           {
            "bin_start": 247.7200445434297,
            "bin_end": 254.8832182628061,
            "count": 0
           },
           {
            "bin_start": 254.8832182628061,
            "bin_end": 262.0463919821825,
            "count": 1
           }
          ]
         }
        },
        {
         "name": "MedQN",
         "dtype": "float64",
         "stats": {
          "unique_count": 5,
          "nan_count": 0,
          "min": "407.91759465478845",
          "max": "16769.821826280622",
          "histogram": [
           {
            "bin_start": 407.91759465478845,
            "bin_end": 2044.108017817372,
            "count": 3
           },
           {
            "bin_start": 2044.108017817372,
            "bin_end": 3680.2984409799556,
            "count": 1
           },
           {
            "bin_start": 3680.2984409799556,
            "bin_end": 5316.48886414254,
            "count": 0
           },
           {
            "bin_start": 5316.48886414254,
            "bin_end": 6952.679287305123,
            "count": 0
           },
           {
            "bin_start": 6952.679287305123,
            "bin_end": 8588.869710467705,
            "count": 0
           },
           {
            "bin_start": 8588.869710467705,
            "bin_end": 10225.06013363029,
            "count": 0
           },
           {
            "bin_start": 10225.06013363029,
            "bin_end": 11861.250556792875,
            "count": 0
           },
           {
            "bin_start": 11861.250556792875,
            "bin_end": 13497.440979955456,
            "count": 0
           },
           {
            "bin_start": 13497.440979955456,
            "bin_end": 15133.63140311804,
            "count": 0
           },
           {
            "bin_start": 15133.63140311804,
            "bin_end": 16769.821826280622,
            "count": 1
           }
          ]
         }
        },
        {
         "name": "LowQ",
         "dtype": "float64",
         "stats": {
          "unique_count": 5,
          "nan_count": 0,
          "min": "126.77126948774998",
          "max": "394.6539643652535",
          "histogram": [
           {
            "bin_start": 126.77126948774998,
            "bin_end": 153.55953897550032,
            "count": 2
           },
           {
            "bin_start": 153.55953897550032,
            "bin_end": 180.3478084632507,
            "count": 0
           },
           {
            "bin_start": 180.3478084632507,
            "bin_end": 207.13607795100103,
            "count": 2
           },
           {
            "bin_start": 207.13607795100103,
            "bin_end": 233.9243474387514,
            "count": 0
           },
           {
            "bin_start": 233.9243474387514,
            "bin_end": 260.7126169265017,
            "count": 0
           },
           {
            "bin_start": 260.7126169265017,
            "bin_end": 287.5008864142521,
            "count": 0
           },
           {
            "bin_start": 287.5008864142521,
            "bin_end": 314.28915590200245,
            "count": 0
           },
           {
            "bin_start": 314.28915590200245,
            "bin_end": 341.07742538975276,
            "count": 0
           },
           {
            "bin_start": 341.07742538975276,
            "bin_end": 367.86569487750313,
            "count": 0
           },
           {
            "bin_start": 367.86569487750313,
            "bin_end": 394.6539643652535,
            "count": 1
           }
          ]
         }
        },
        {
         "name": "LowQN",
         "dtype": "float64",
         "stats": {
          "unique_count": 5,
          "nan_count": 0,
          "min": "32.334075723830736",
          "max": "976.2984409799554",
          "histogram": [
           {
            "bin_start": 32.334075723830736,
            "bin_end": 126.73051224944321,
            "count": 1
           },
           {
            "bin_start": 126.73051224944321,
            "bin_end": 221.12694877505567,
            "count": 2
           },
           {
            "bin_start": 221.12694877505567,
            "bin_end": 315.52338530066817,
            "count": 1
           },
           {
            "bin_start": 315.52338530066817,
            "bin_end": 409.9198218262806,
            "count": 0
           },
           {
            "bin_start": 409.9198218262806,
            "bin_end": 504.31625835189305,
            "count": 0
           },
           {
            "bin_start": 504.31625835189305,
            "bin_end": 598.7126948775057,
            "count": 0
           },
           {
            "bin_start": 598.7126948775057,
            "bin_end": 693.1091314031181,
            "count": 0
           },
           {
            "bin_start": 693.1091314031181,
            "bin_end": 787.5055679287306,
            "count": 0
           },
           {
            "bin_start": 787.5055679287306,
            "bin_end": 881.902004454343,
            "count": 0
           },
           {
            "bin_start": 881.902004454343,
            "bin_end": 976.2984409799554,
            "count": 1
           }
          ]
         }
        },
        {
         "name": "year",
         "dtype": "float64",
         "stats": {
          "unique_count": 1,
          "nan_count": 0,
          "min": "2014.1670378619153",
          "max": "2014.1670378619153",
          "histogram": [
           {
            "bin_start": 2013.6670378619153,
            "bin_end": 2013.7670378619152,
            "count": 0
           },
           {
            "bin_start": 2013.7670378619152,
            "bin_end": 2013.8670378619154,
            "count": 0
           },
           {
            "bin_start": 2013.8670378619154,
            "bin_end": 2013.9670378619153,
            "count": 0
           },
           {
            "bin_start": 2013.9670378619153,
            "bin_end": 2014.0670378619154,
            "count": 0
           },
           {
            "bin_start": 2014.0670378619154,
            "bin_end": 2014.1670378619153,
            "count": 0
           },
           {
            "bin_start": 2014.1670378619153,
            "bin_end": 2014.2670378619152,
            "count": 5
           },
           {
            "bin_start": 2014.2670378619152,
            "bin_end": 2014.3670378619154,
            "count": 0
           },
           {
            "bin_start": 2014.3670378619154,
            "bin_end": 2014.4670378619153,
            "count": 0
           },
           {
            "bin_start": 2014.4670378619153,
            "bin_end": 2014.5670378619154,
            "count": 0
           },
           {
            "bin_start": 2014.5670378619154,
            "bin_end": 2014.6670378619153,
            "count": 0
           }
          ]
         }
        },
        {
         "name": "month",
         "dtype": "float64",
         "stats": {
          "unique_count": 1,
          "nan_count": 0,
          "min": "5.953229398663697",
          "max": "5.953229398663697",
          "histogram": [
           {
            "bin_start": 5.453229398663697,
            "bin_end": 5.553229398663697,
            "count": 0
           },
           {
            "bin_start": 5.553229398663697,
            "bin_end": 5.653229398663697,
            "count": 0
           },
           {
            "bin_start": 5.653229398663697,
            "bin_end": 5.753229398663697,
            "count": 0
           },
           {
            "bin_start": 5.753229398663697,
            "bin_end": 5.853229398663697,
            "count": 0
           },
           {
            "bin_start": 5.853229398663697,
            "bin_end": 5.953229398663697,
            "count": 0
           },
           {
            "bin_start": 5.953229398663697,
            "bin_end": 6.053229398663698,
            "count": 5
           },
           {
            "bin_start": 6.053229398663698,
            "bin_end": 6.153229398663697,
            "count": 0
           },
           {
            "bin_start": 6.153229398663697,
            "bin_end": 6.253229398663697,
            "count": 0
           },
           {
            "bin_start": 6.253229398663697,
            "bin_end": 6.353229398663697,
            "count": 0
           },
           {
            "bin_start": 6.353229398663697,
            "bin_end": 6.453229398663697,
            "count": 0
           }
          ]
         }
        },
        {
         "name": "week",
         "dtype": "float64",
         "stats": {
          "unique_count": 1,
          "nan_count": 0,
          "min": "23.812917594654788",
          "max": "23.812917594654788",
          "histogram": [
           {
            "bin_start": 23.312917594654788,
            "bin_end": 23.41291759465479,
            "count": 0
           },
           {
            "bin_start": 23.41291759465479,
            "bin_end": 23.512917594654787,
            "count": 0
           },
           {
            "bin_start": 23.512917594654787,
            "bin_end": 23.61291759465479,
            "count": 0
           },
           {
            "bin_start": 23.61291759465479,
            "bin_end": 23.712917594654787,
            "count": 0
           },
           {
            "bin_start": 23.712917594654787,
            "bin_end": 23.812917594654788,
            "count": 0
           },
           {
            "bin_start": 23.812917594654788,
            "bin_end": 23.91291759465479,
            "count": 5
           },
           {
            "bin_start": 23.91291759465479,
            "bin_end": 24.012917594654787,
            "count": 0
           },
           {
            "bin_start": 24.012917594654787,
            "bin_end": 24.11291759465479,
            "count": 0
           },
           {
            "bin_start": 24.11291759465479,
            "bin_end": 24.212917594654787,
            "count": 0
           },
           {
            "bin_start": 24.212917594654787,
            "bin_end": 24.312917594654788,
            "count": 0
           }
          ]
         }
        },
        {
         "name": "weekday",
         "dtype": "float64",
         "stats": {
          "unique_count": 1,
          "nan_count": 0,
          "min": "2.9955456570155903",
          "max": "2.9955456570155903",
          "histogram": [
           {
            "bin_start": 2.4955456570155903,
            "bin_end": 2.5955456570155904,
            "count": 0
           },
           {
            "bin_start": 2.5955456570155904,
            "bin_end": 2.6955456570155905,
            "count": 0
           },
           {
            "bin_start": 2.6955456570155905,
            "bin_end": 2.79554565701559,
            "count": 0
           },
           {
            "bin_start": 2.79554565701559,
            "bin_end": 2.89554565701559,
            "count": 0
           },
           {
            "bin_start": 2.89554565701559,
            "bin_end": 2.9955456570155903,
            "count": 0
           },
           {
            "bin_start": 2.9955456570155903,
            "bin_end": 3.0955456570155904,
            "count": 5
           },
           {
            "bin_start": 3.0955456570155904,
            "bin_end": 3.1955456570155905,
            "count": 0
           },
           {
            "bin_start": 3.1955456570155905,
            "bin_end": 3.29554565701559,
            "count": 0
           },
           {
            "bin_start": 3.29554565701559,
            "bin_end": 3.39554565701559,
            "count": 0
           },
           {
            "bin_start": 3.39554565701559,
            "bin_end": 3.4955456570155903,
            "count": 0
           }
          ]
         }
        },
        {
         "name": "_deepnote_index_column",
         "dtype": "int64"
        }
       ],
       "rows_top": [
        {
         "State": "Alabama",
         "HighQ": 339.56184855233914,
         "HighQN": 1379.4142538975502,
         "MedQ": 204.60616926503332,
         "MedQN": 1270.3518930957684,
         "LowQ": 145.97850779510173,
         "LowQN": 161.14922048997772,
         "year": 2014.1670378619153,
         "month": 5.953229398663697,
         "week": 23.812917594654788,
         "weekday": 2.9955456570155903,
         "_deepnote_index_column": 0
        },
        {
         "State": "Alaska",
         "HighQ": 291.4820044543429,
         "HighQN": 321.24498886414256,
         "MedQ": 262.0463919821825,
         "MedQN": 407.91759465478845,
         "LowQ": 394.6539643652535,
         "LowQN": 32.334075723830736,
         "year": 2014.1670378619153,
         "month": 5.953229398663697,
         "week": 23.812917594654788,
         "weekday": 2.9955456570155903,
         "_deepnote_index_column": 1
        },
        {
         "State": "Arizona",
         "HighQ": 300.6674832962139,
         "HighQN": 2392.4654788418707,
         "MedQ": 209.36534521158114,
         "MedQN": 2137.41425389755,
         "LowQ": 188.5001336302889,
         "LowQN": 279.0066815144766,
         "year": 2014.1670378619153,
         "month": 5.953229398663697,
         "week": 23.812917594654788,
         "weekday": 2.9955456570155903,
         "_deepnote_index_column": 2
        },
        {
         "State": "Arkansas",
         "HighQ": 348.05614699331875,
         "HighQN": 751.988864142539,
         "MedQ": 190.41465478841857,
         "MedQN": 724.6837416481069,
         "LowQ": 126.77126948774998,
         "LowQN": 135.90200445434297,
         "year": 2014.1670378619153,
         "month": 5.953229398663697,
         "week": 23.812917594654788,
         "weekday": 2.9955456570155903,
         "_deepnote_index_column": 3
        },
        {
         "State": "California",
         "HighQ": 245.3761247216035,
         "HighQN": 14947.073496659243,
         "MedQ": 191.2689086859689,
         "MedQN": 16769.821826280622,
         "LowQ": 189.78358574610345,
         "LowQN": 976.2984409799554,
         "year": 2014.1670378619153,
         "month": 5.953229398663697,
         "week": 23.812917594654788,
         "weekday": 2.9955456570155903,
         "_deepnote_index_column": 4
        }
       ],
       "rows_bottom": null
      },
      "text/plain": "        State       HighQ        HighQN        MedQ         MedQN        LowQ  \\\n0     Alabama  339.561849   1379.414254  204.606169   1270.351893  145.978508   \n1      Alaska  291.482004    321.244989  262.046392    407.917595  394.653964   \n2     Arizona  300.667483   2392.465479  209.365345   2137.414254  188.500134   \n3    Arkansas  348.056147    751.988864  190.414655    724.683742  126.771269   \n4  California  245.376125  14947.073497  191.268909  16769.821826  189.783586   \n\n        LowQN         year     month       week   weekday  \n0  161.149220  2014.167038  5.953229  23.812918  2.995546  \n1   32.334076  2014.167038  5.953229  23.812918  2.995546  \n2  279.006682  2014.167038  5.953229  23.812918  2.995546  \n3  135.902004  2014.167038  5.953229  23.812918  2.995546  \n4  976.298441  2014.167038  5.953229  23.812918  2.995546  ",
      "text/html": "<div>\n<style scoped>\n    .dataframe tbody tr th:only-of-type {\n        vertical-align: middle;\n    }\n\n    .dataframe tbody tr th {\n        vertical-align: top;\n    }\n\n    .dataframe thead th {\n        text-align: right;\n    }\n</style>\n<table border=\"1\" class=\"dataframe\">\n  <thead>\n    <tr style=\"text-align: right;\">\n      <th></th>\n      <th>State</th>\n      <th>HighQ</th>\n      <th>HighQN</th>\n      <th>MedQ</th>\n      <th>MedQN</th>\n      <th>LowQ</th>\n      <th>LowQN</th>\n      <th>year</th>\n      <th>month</th>\n      <th>week</th>\n      <th>weekday</th>\n    </tr>\n  </thead>\n  <tbody>\n    <tr>\n      <th>0</th>\n      <td>Alabama</td>\n      <td>339.561849</td>\n      <td>1379.414254</td>\n      <td>204.606169</td>\n      <td>1270.351893</td>\n      <td>145.978508</td>\n      <td>161.149220</td>\n      <td>2014.167038</td>\n      <td>5.953229</td>\n      <td>23.812918</td>\n      <td>2.995546</td>\n    </tr>\n    <tr>\n      <th>1</th>\n      <td>Alaska</td>\n      <td>291.482004</td>\n      <td>321.244989</td>\n      <td>262.046392</td>\n      <td>407.917595</td>\n      <td>394.653964</td>\n      <td>32.334076</td>\n      <td>2014.167038</td>\n      <td>5.953229</td>\n      <td>23.812918</td>\n      <td>2.995546</td>\n    </tr>\n    <tr>\n      <th>2</th>\n      <td>Arizona</td>\n      <td>300.667483</td>\n      <td>2392.465479</td>\n      <td>209.365345</td>\n      <td>2137.414254</td>\n      <td>188.500134</td>\n      <td>279.006682</td>\n      <td>2014.167038</td>\n      <td>5.953229</td>\n      <td>23.812918</td>\n      <td>2.995546</td>\n    </tr>\n    <tr>\n      <th>3</th>\n      <td>Arkansas</td>\n      <td>348.056147</td>\n      <td>751.988864</td>\n      <td>190.414655</td>\n      <td>724.683742</td>\n      <td>126.771269</td>\n      <td>135.902004</td>\n      <td>2014.167038</td>\n      <td>5.953229</td>\n      <td>23.812918</td>\n      <td>2.995546</td>\n    </tr>\n    <tr>\n      <th>4</th>\n      <td>California</td>\n      <td>245.376125</td>\n      <td>14947.073497</td>\n      <td>191.268909</td>\n      <td>16769.821826</td>\n      <td>189.783586</td>\n      <td>976.298441</td>\n      <td>2014.167038</td>\n      <td>5.953229</td>\n      <td>23.812918</td>\n      <td>2.995546</td>\n    </tr>\n  </tbody>\n</table>\n</div>"
     },
     "metadata": {}
    }
   ]
  },
  {
   "cell_type": "markdown",
   "source": "Pivot Table",
   "metadata": {
    "cell_id": "00040-90543d54-f287-41db-bee6-2deeffcb0b6a",
    "deepnote_cell_type": "markdown"
   }
  },
  {
   "cell_type": "code",
   "metadata": {
    "collapsed": false,
    "cell_id": "00041-4892f98e-a7db-4b6d-aaf9-59eb7c9e7731",
    "deepnote_cell_type": "code"
   },
   "source": "df.head()",
   "execution_count": 28,
   "outputs": [
    {
     "data": {
      "text/html": "<div>\n<table border=\"1\" class=\"dataframe\">\n  <thead>\n    <tr style=\"text-align: right;\">\n      <th></th>\n      <th>State</th>\n      <th>HighQ</th>\n      <th>HighQN</th>\n      <th>MedQ</th>\n      <th>MedQN</th>\n      <th>LowQ</th>\n      <th>LowQN</th>\n      <th>date</th>\n      <th>year</th>\n      <th>month</th>\n      <th>week</th>\n      <th>weekday</th>\n    </tr>\n  </thead>\n  <tbody>\n    <tr>\n      <th>20094</th>\n      <td>Alabama</td>\n      <td>339.65</td>\n      <td>1033</td>\n      <td>198.04</td>\n      <td>926</td>\n      <td>147.15</td>\n      <td>122</td>\n      <td>2013-12-27</td>\n      <td>2013</td>\n      <td>12</td>\n      <td>52</td>\n      <td>4</td>\n    </tr>\n    <tr>\n      <th>20859</th>\n      <td>Alabama</td>\n      <td>339.65</td>\n      <td>1033</td>\n      <td>198.04</td>\n      <td>926</td>\n      <td>147.15</td>\n      <td>122</td>\n      <td>2013-12-28</td>\n      <td>2013</td>\n      <td>12</td>\n      <td>52</td>\n      <td>5</td>\n    </tr>\n    <tr>\n      <th>21573</th>\n      <td>Alabama</td>\n      <td>339.75</td>\n      <td>1036</td>\n      <td>198.26</td>\n      <td>929</td>\n      <td>149.49</td>\n      <td>123</td>\n      <td>2013-12-29</td>\n      <td>2013</td>\n      <td>12</td>\n      <td>52</td>\n      <td>6</td>\n    </tr>\n    <tr>\n      <th>22287</th>\n      <td>Alabama</td>\n      <td>339.75</td>\n      <td>1036</td>\n      <td>198.81</td>\n      <td>930</td>\n      <td>149.49</td>\n      <td>123</td>\n      <td>2013-12-30</td>\n      <td>2013</td>\n      <td>12</td>\n      <td>1</td>\n      <td>0</td>\n    </tr>\n    <tr>\n      <th>22797</th>\n      <td>Alabama</td>\n      <td>339.42</td>\n      <td>1040</td>\n      <td>198.68</td>\n      <td>932</td>\n      <td>149.49</td>\n      <td>123</td>\n      <td>2013-12-31</td>\n      <td>2013</td>\n      <td>12</td>\n      <td>1</td>\n      <td>1</td>\n    </tr>\n  </tbody>\n</table>\n</div>",
      "text/plain": "         State   HighQ  HighQN    MedQ  MedQN    LowQ  LowQN       date  year  \\\n20094  Alabama  339.65    1033  198.04    926  147.15    122 2013-12-27  2013   \n20859  Alabama  339.65    1033  198.04    926  147.15    122 2013-12-28  2013   \n21573  Alabama  339.75    1036  198.26    929  149.49    123 2013-12-29  2013   \n22287  Alabama  339.75    1036  198.81    930  149.49    123 2013-12-30  2013   \n22797  Alabama  339.42    1040  198.68    932  149.49    123 2013-12-31  2013   \n\n       month  week  weekday  \n20094     12    52        4  \n20859     12    52        5  \n21573     12    52        6  \n22287     12     1        0  \n22797     12     1        1  "
     },
     "execution_count": 28,
     "metadata": {},
     "output_type": "execute_result"
    }
   ]
  },
  {
   "cell_type": "code",
   "metadata": {
    "collapsed": false,
    "cell_id": "00042-9bc61e9d-a0c5-45c1-aa17-2f433363fd03",
    "deepnote_cell_type": "code"
   },
   "source": "pd.pivot_table(df, values='HighQ', index=['State'], columns=[\"weekday\"] )",
   "execution_count": 29,
   "outputs": [
    {
     "data": {
      "text/html": "<div>\n<table border=\"1\" class=\"dataframe\">\n  <thead>\n    <tr style=\"text-align: right;\">\n      <th>weekday</th>\n      <th>0</th>\n      <th>1</th>\n      <th>2</th>\n      <th>3</th>\n      <th>4</th>\n      <th>5</th>\n      <th>6</th>\n    </tr>\n    <tr>\n      <th>State</th>\n      <th></th>\n      <th></th>\n      <th></th>\n      <th></th>\n      <th></th>\n      <th></th>\n      <th></th>\n    </tr>\n  </thead>\n  <tbody>\n    <tr>\n      <th>Alabama</th>\n      <td>339.556308</td>\n      <td>339.577656</td>\n      <td>339.559375</td>\n      <td>339.552500</td>\n      <td>339.577969</td>\n      <td>339.568254</td>\n      <td>339.541385</td>\n    </tr>\n    <tr>\n      <th>Alaska</th>\n      <td>291.463231</td>\n      <td>291.384687</td>\n      <td>291.390000</td>\n      <td>291.597500</td>\n      <td>291.506406</td>\n      <td>291.596032</td>\n      <td>291.438923</td>\n    </tr>\n    <tr>\n      <th>Arizona</th>\n      <td>300.612000</td>\n      <td>300.653906</td>\n      <td>300.643750</td>\n      <td>300.655000</td>\n      <td>300.751562</td>\n      <td>300.715873</td>\n      <td>300.642308</td>\n    </tr>\n    <tr>\n      <th>Arkansas</th>\n      <td>347.930462</td>\n      <td>348.011250</td>\n      <td>348.017656</td>\n      <td>347.934844</td>\n      <td>348.278281</td>\n      <td>348.235238</td>\n      <td>347.991077</td>\n    </tr>\n    <tr>\n      <th>California</th>\n      <td>245.348923</td>\n      <td>245.364375</td>\n      <td>245.359219</td>\n      <td>245.342813</td>\n      <td>245.434219</td>\n      <td>245.425556</td>\n      <td>245.359231</td>\n    </tr>\n    <tr>\n      <th>Colorado</th>\n      <td>238.948462</td>\n      <td>238.885938</td>\n      <td>238.889844</td>\n      <td>238.977187</td>\n      <td>238.885937</td>\n      <td>238.897619</td>\n      <td>238.944769</td>\n    </tr>\n    <tr>\n      <th>Connecticut</th>\n      <td>341.624615</td>\n      <td>341.682812</td>\n      <td>341.633750</td>\n      <td>341.616406</td>\n      <td>341.832656</td>\n      <td>341.819683</td>\n      <td>341.652308</td>\n    </tr>\n    <tr>\n      <th>Delaware</th>\n      <td>366.712769</td>\n      <td>366.748750</td>\n      <td>366.705937</td>\n      <td>366.659375</td>\n      <td>366.962344</td>\n      <td>366.937143</td>\n      <td>366.750615</td>\n    </tr>\n    <tr>\n      <th>District of Columbia</th>\n      <td>348.205385</td>\n      <td>348.055000</td>\n      <td>348.132656</td>\n      <td>348.145625</td>\n      <td>348.213594</td>\n      <td>348.277778</td>\n      <td>348.212462</td>\n    </tr>\n    <tr>\n      <th>Florida</th>\n      <td>302.548923</td>\n      <td>302.577031</td>\n      <td>302.529688</td>\n      <td>302.510781</td>\n      <td>302.638437</td>\n      <td>302.648095</td>\n      <td>302.541231</td>\n    </tr>\n    <tr>\n      <th>Georgia</th>\n      <td>326.588308</td>\n      <td>326.635937</td>\n      <td>326.594219</td>\n      <td>326.579687</td>\n      <td>326.805000</td>\n      <td>326.784762</td>\n      <td>326.633077</td>\n    </tr>\n    <tr>\n      <th>Hawaii</th>\n      <td>309.940615</td>\n      <td>309.895312</td>\n      <td>309.855156</td>\n      <td>309.818750</td>\n      <td>309.934062</td>\n      <td>310.033016</td>\n      <td>309.956462</td>\n    </tr>\n    <tr>\n      <th>Idaho</th>\n      <td>275.642615</td>\n      <td>275.627656</td>\n      <td>275.609844</td>\n      <td>275.653437</td>\n      <td>275.671250</td>\n      <td>275.654444</td>\n      <td>275.616923</td>\n    </tr>\n    <tr>\n      <th>Illinois</th>\n      <td>355.406769</td>\n      <td>355.460313</td>\n      <td>355.442031</td>\n      <td>355.427188</td>\n      <td>355.580625</td>\n      <td>355.502540</td>\n      <td>355.426000</td>\n    </tr>\n    <tr>\n      <th>Indiana</th>\n      <td>333.147077</td>\n      <td>333.184531</td>\n      <td>333.187344</td>\n      <td>333.145781</td>\n      <td>333.257031</td>\n      <td>333.253333</td>\n      <td>333.164769</td>\n    </tr>\n    <tr>\n      <th>Iowa</th>\n      <td>367.059692</td>\n      <td>367.086094</td>\n      <td>367.071563</td>\n      <td>367.055625</td>\n      <td>367.175781</td>\n      <td>367.173175</td>\n      <td>367.051077</td>\n    </tr>\n    <tr>\n      <th>Kansas</th>\n      <td>350.760615</td>\n      <td>350.785469</td>\n      <td>350.765938</td>\n      <td>350.778438</td>\n      <td>350.928906</td>\n      <td>350.903492</td>\n      <td>350.813846</td>\n    </tr>\n    <tr>\n      <th>Kentucky</th>\n      <td>338.906615</td>\n      <td>338.857812</td>\n      <td>338.846719</td>\n      <td>338.874062</td>\n      <td>338.796719</td>\n      <td>338.799048</td>\n      <td>338.902769</td>\n    </tr>\n    <tr>\n      <th>Louisiana</th>\n      <td>366.743385</td>\n      <td>366.816562</td>\n      <td>366.761094</td>\n      <td>366.733437</td>\n      <td>367.016406</td>\n      <td>366.960159</td>\n      <td>366.800615</td>\n    </tr>\n    <tr>\n      <th>Maine</th>\n      <td>315.272615</td>\n      <td>315.392812</td>\n      <td>315.384844</td>\n      <td>315.330156</td>\n      <td>315.570469</td>\n      <td>315.523333</td>\n      <td>315.262308</td>\n    </tr>\n    <tr>\n      <th>Maryland</th>\n      <td>370.884308</td>\n      <td>370.970469</td>\n      <td>370.912187</td>\n      <td>370.899219</td>\n      <td>371.160937</td>\n      <td>371.162063</td>\n      <td>370.912462</td>\n    </tr>\n    <tr>\n      <th>Massachusetts</th>\n      <td>348.942462</td>\n      <td>348.995625</td>\n      <td>348.968750</td>\n      <td>348.945625</td>\n      <td>349.156562</td>\n      <td>349.100952</td>\n      <td>348.974615</td>\n    </tr>\n    <tr>\n      <th>Michigan</th>\n      <td>292.022462</td>\n      <td>292.080312</td>\n      <td>292.044531</td>\n      <td>292.004844</td>\n      <td>292.229844</td>\n      <td>292.199841</td>\n      <td>292.055077</td>\n    </tr>\n    <tr>\n      <th>Minnesota</th>\n      <td>358.104154</td>\n      <td>358.228437</td>\n      <td>358.188594</td>\n      <td>358.052969</td>\n      <td>358.507969</td>\n      <td>358.471587</td>\n      <td>358.156308</td>\n    </tr>\n    <tr>\n      <th>Mississippi</th>\n      <td>337.535385</td>\n      <td>337.479062</td>\n      <td>337.495469</td>\n      <td>337.532656</td>\n      <td>337.615937</td>\n      <td>337.660635</td>\n      <td>337.597231</td>\n    </tr>\n    <tr>\n      <th>Missouri</th>\n      <td>359.098923</td>\n      <td>359.278594</td>\n      <td>359.273594</td>\n      <td>359.264844</td>\n      <td>359.418438</td>\n      <td>359.434921</td>\n      <td>359.174000</td>\n    </tr>\n    <tr>\n      <th>Montana</th>\n      <td>267.832615</td>\n      <td>267.860625</td>\n      <td>267.713125</td>\n      <td>267.700937</td>\n      <td>267.930781</td>\n      <td>267.934444</td>\n      <td>267.850923</td>\n    </tr>\n    <tr>\n      <th>Nebraska</th>\n      <td>341.441692</td>\n      <td>341.522187</td>\n      <td>341.490000</td>\n      <td>341.479375</td>\n      <td>341.768438</td>\n      <td>341.713968</td>\n      <td>341.504923</td>\n    </tr>\n    <tr>\n      <th>Nevada</th>\n      <td>267.794769</td>\n      <td>267.827969</td>\n      <td>267.823594</td>\n      <td>267.811875</td>\n      <td>267.866875</td>\n      <td>267.824286</td>\n      <td>267.792308</td>\n    </tr>\n    <tr>\n      <th>New Hampshire</th>\n      <td>359.469846</td>\n      <td>359.543906</td>\n      <td>359.519844</td>\n      <td>359.362656</td>\n      <td>359.595469</td>\n      <td>359.512222</td>\n      <td>359.331231</td>\n    </tr>\n    <tr>\n      <th>New Jersey</th>\n      <td>349.260769</td>\n      <td>349.313594</td>\n      <td>349.299219</td>\n      <td>349.272969</td>\n      <td>349.435469</td>\n      <td>349.396667</td>\n      <td>349.276000</td>\n    </tr>\n    <tr>\n      <th>New Mexico</th>\n      <td>289.536769</td>\n      <td>289.511719</td>\n      <td>289.499531</td>\n      <td>289.470156</td>\n      <td>289.670937</td>\n      <td>289.685714</td>\n      <td>289.565231</td>\n    </tr>\n    <tr>\n      <th>New York</th>\n      <td>346.877692</td>\n      <td>346.907031</td>\n      <td>346.866406</td>\n      <td>346.831875</td>\n      <td>347.027344</td>\n      <td>346.995079</td>\n      <td>346.886154</td>\n    </tr>\n    <tr>\n      <th>North Carolina</th>\n      <td>349.413846</td>\n      <td>349.476719</td>\n      <td>349.435625</td>\n      <td>349.406563</td>\n      <td>349.585156</td>\n      <td>349.565873</td>\n      <td>349.444308</td>\n    </tr>\n    <tr>\n      <th>North Dakota</th>\n      <td>398.349692</td>\n      <td>398.576562</td>\n      <td>398.677656</td>\n      <td>398.550000</td>\n      <td>399.090469</td>\n      <td>398.785079</td>\n      <td>398.658769</td>\n    </tr>\n    <tr>\n      <th>Ohio</th>\n      <td>334.526615</td>\n      <td>334.546562</td>\n      <td>334.536406</td>\n      <td>334.532969</td>\n      <td>334.615938</td>\n      <td>334.592063</td>\n      <td>334.533385</td>\n    </tr>\n    <tr>\n      <th>Oklahoma</th>\n      <td>361.417077</td>\n      <td>361.645625</td>\n      <td>361.615313</td>\n      <td>361.597656</td>\n      <td>361.753437</td>\n      <td>361.598730</td>\n      <td>361.389846</td>\n    </tr>\n    <tr>\n      <th>Oregon</th>\n      <td>208.461385</td>\n      <td>208.474844</td>\n      <td>208.454063</td>\n      <td>208.422344</td>\n      <td>208.604688</td>\n      <td>208.579048</td>\n      <td>208.479385</td>\n    </tr>\n    <tr>\n      <th>Pennsylvania</th>\n      <td>366.067231</td>\n      <td>366.102969</td>\n      <td>366.094375</td>\n      <td>366.060469</td>\n      <td>366.253125</td>\n      <td>366.222857</td>\n      <td>366.081846</td>\n    </tr>\n    <tr>\n      <th>Rhode Island</th>\n      <td>323.733077</td>\n      <td>323.828281</td>\n      <td>323.801094</td>\n      <td>323.756094</td>\n      <td>323.998594</td>\n      <td>323.951746</td>\n      <td>323.803538</td>\n    </tr>\n    <tr>\n      <th>South Carolina</th>\n      <td>341.612154</td>\n      <td>341.686094</td>\n      <td>341.656250</td>\n      <td>341.641094</td>\n      <td>341.837500</td>\n      <td>341.803651</td>\n      <td>341.617846</td>\n    </tr>\n    <tr>\n      <th>South Dakota</th>\n      <td>375.626615</td>\n      <td>375.828125</td>\n      <td>375.830937</td>\n      <td>375.837500</td>\n      <td>375.946875</td>\n      <td>376.010159</td>\n      <td>375.657692</td>\n    </tr>\n    <tr>\n      <th>Tennessee</th>\n      <td>352.678000</td>\n      <td>352.730469</td>\n      <td>352.711094</td>\n      <td>352.707344</td>\n      <td>352.871250</td>\n      <td>352.868730</td>\n      <td>352.707846</td>\n    </tr>\n    <tr>\n      <th>Texas</th>\n      <td>337.034154</td>\n      <td>337.069687</td>\n      <td>337.037969</td>\n      <td>337.023750</td>\n      <td>337.267656</td>\n      <td>337.235714</td>\n      <td>337.071231</td>\n    </tr>\n    <tr>\n      <th>Utah</th>\n      <td>289.552308</td>\n      <td>289.597500</td>\n      <td>289.586094</td>\n      <td>289.567344</td>\n      <td>289.634687</td>\n      <td>289.671905</td>\n      <td>289.564923</td>\n    </tr>\n    <tr>\n      <th>Vermont</th>\n      <td>374.172462</td>\n      <td>374.250312</td>\n      <td>374.204844</td>\n      <td>374.181250</td>\n      <td>374.395156</td>\n      <td>374.335556</td>\n      <td>374.216615</td>\n    </tr>\n    <tr>\n      <th>Virginia</th>\n      <td>368.084308</td>\n      <td>368.120781</td>\n      <td>368.112813</td>\n      <td>368.087969</td>\n      <td>368.264375</td>\n      <td>368.245238</td>\n      <td>368.116462</td>\n    </tr>\n    <tr>\n      <th>Washington</th>\n      <td>233.381231</td>\n      <td>233.377969</td>\n      <td>233.361875</td>\n      <td>233.363594</td>\n      <td>233.422500</td>\n      <td>233.426032</td>\n      <td>233.382308</td>\n    </tr>\n    <tr>\n      <th>West Virginia</th>\n      <td>357.408000</td>\n      <td>357.428906</td>\n      <td>357.368125</td>\n      <td>357.330156</td>\n      <td>357.395938</td>\n      <td>357.424444</td>\n      <td>357.406462</td>\n    </tr>\n    <tr>\n      <th>Wisconsin</th>\n      <td>352.981077</td>\n      <td>353.050313</td>\n      <td>353.040469</td>\n      <td>353.000938</td>\n      <td>353.160000</td>\n      <td>353.141905</td>\n      <td>352.996308</td>\n    </tr>\n    <tr>\n      <th>Wyoming</th>\n      <td>338.837538</td>\n      <td>339.090625</td>\n      <td>339.045781</td>\n      <td>338.932969</td>\n      <td>339.260469</td>\n      <td>339.072698</td>\n      <td>338.910769</td>\n    </tr>\n  </tbody>\n</table>\n</div>",
      "text/plain": "weekday                        0           1           2           3  \\\nState                                                                  \nAlabama               339.556308  339.577656  339.559375  339.552500   \nAlaska                291.463231  291.384687  291.390000  291.597500   \nArizona               300.612000  300.653906  300.643750  300.655000   \nArkansas              347.930462  348.011250  348.017656  347.934844   \nCalifornia            245.348923  245.364375  245.359219  245.342813   \nColorado              238.948462  238.885938  238.889844  238.977187   \nConnecticut           341.624615  341.682812  341.633750  341.616406   \nDelaware              366.712769  366.748750  366.705937  366.659375   \nDistrict of Columbia  348.205385  348.055000  348.132656  348.145625   \nFlorida               302.548923  302.577031  302.529688  302.510781   \nGeorgia               326.588308  326.635937  326.594219  326.579687   \nHawaii                309.940615  309.895312  309.855156  309.818750   \nIdaho                 275.642615  275.627656  275.609844  275.653437   \nIllinois              355.406769  355.460313  355.442031  355.427188   \nIndiana               333.147077  333.184531  333.187344  333.145781   \nIowa                  367.059692  367.086094  367.071563  367.055625   \nKansas                350.760615  350.785469  350.765938  350.778438   \nKentucky              338.906615  338.857812  338.846719  338.874062   \nLouisiana             366.743385  366.816562  366.761094  366.733437   \nMaine                 315.272615  315.392812  315.384844  315.330156   \nMaryland              370.884308  370.970469  370.912187  370.899219   \nMassachusetts         348.942462  348.995625  348.968750  348.945625   \nMichigan              292.022462  292.080312  292.044531  292.004844   \nMinnesota             358.104154  358.228437  358.188594  358.052969   \nMississippi           337.535385  337.479062  337.495469  337.532656   \nMissouri              359.098923  359.278594  359.273594  359.264844   \nMontana               267.832615  267.860625  267.713125  267.700937   \nNebraska              341.441692  341.522187  341.490000  341.479375   \nNevada                267.794769  267.827969  267.823594  267.811875   \nNew Hampshire         359.469846  359.543906  359.519844  359.362656   \nNew Jersey            349.260769  349.313594  349.299219  349.272969   \nNew Mexico            289.536769  289.511719  289.499531  289.470156   \nNew York              346.877692  346.907031  346.866406  346.831875   \nNorth Carolina        349.413846  349.476719  349.435625  349.406563   \nNorth Dakota          398.349692  398.576562  398.677656  398.550000   \nOhio                  334.526615  334.546562  334.536406  334.532969   \nOklahoma              361.417077  361.645625  361.615313  361.597656   \nOregon                208.461385  208.474844  208.454063  208.422344   \nPennsylvania          366.067231  366.102969  366.094375  366.060469   \nRhode Island          323.733077  323.828281  323.801094  323.756094   \nSouth Carolina        341.612154  341.686094  341.656250  341.641094   \nSouth Dakota          375.626615  375.828125  375.830937  375.837500   \nTennessee             352.678000  352.730469  352.711094  352.707344   \nTexas                 337.034154  337.069687  337.037969  337.023750   \nUtah                  289.552308  289.597500  289.586094  289.567344   \nVermont               374.172462  374.250312  374.204844  374.181250   \nVirginia              368.084308  368.120781  368.112813  368.087969   \nWashington            233.381231  233.377969  233.361875  233.363594   \nWest Virginia         357.408000  357.428906  357.368125  357.330156   \nWisconsin             352.981077  353.050313  353.040469  353.000938   \nWyoming               338.837538  339.090625  339.045781  338.932969   \n\nweekday                        4           5           6  \nState                                                     \nAlabama               339.577969  339.568254  339.541385  \nAlaska                291.506406  291.596032  291.438923  \nArizona               300.751562  300.715873  300.642308  \nArkansas              348.278281  348.235238  347.991077  \nCalifornia            245.434219  245.425556  245.359231  \nColorado              238.885937  238.897619  238.944769  \nConnecticut           341.832656  341.819683  341.652308  \nDelaware              366.962344  366.937143  366.750615  \nDistrict of Columbia  348.213594  348.277778  348.212462  \nFlorida               302.638437  302.648095  302.541231  \nGeorgia               326.805000  326.784762  326.633077  \nHawaii                309.934062  310.033016  309.956462  \nIdaho                 275.671250  275.654444  275.616923  \nIllinois              355.580625  355.502540  355.426000  \nIndiana               333.257031  333.253333  333.164769  \nIowa                  367.175781  367.173175  367.051077  \nKansas                350.928906  350.903492  350.813846  \nKentucky              338.796719  338.799048  338.902769  \nLouisiana             367.016406  366.960159  366.800615  \nMaine                 315.570469  315.523333  315.262308  \nMaryland              371.160937  371.162063  370.912462  \nMassachusetts         349.156562  349.100952  348.974615  \nMichigan              292.229844  292.199841  292.055077  \nMinnesota             358.507969  358.471587  358.156308  \nMississippi           337.615937  337.660635  337.597231  \nMissouri              359.418438  359.434921  359.174000  \nMontana               267.930781  267.934444  267.850923  \nNebraska              341.768438  341.713968  341.504923  \nNevada                267.866875  267.824286  267.792308  \nNew Hampshire         359.595469  359.512222  359.331231  \nNew Jersey            349.435469  349.396667  349.276000  \nNew Mexico            289.670937  289.685714  289.565231  \nNew York              347.027344  346.995079  346.886154  \nNorth Carolina        349.585156  349.565873  349.444308  \nNorth Dakota          399.090469  398.785079  398.658769  \nOhio                  334.615938  334.592063  334.533385  \nOklahoma              361.753437  361.598730  361.389846  \nOregon                208.604688  208.579048  208.479385  \nPennsylvania          366.253125  366.222857  366.081846  \nRhode Island          323.998594  323.951746  323.803538  \nSouth Carolina        341.837500  341.803651  341.617846  \nSouth Dakota          375.946875  376.010159  375.657692  \nTennessee             352.871250  352.868730  352.707846  \nTexas                 337.267656  337.235714  337.071231  \nUtah                  289.634687  289.671905  289.564923  \nVermont               374.395156  374.335556  374.216615  \nVirginia              368.264375  368.245238  368.116462  \nWashington            233.422500  233.426032  233.382308  \nWest Virginia         357.395938  357.424444  357.406462  \nWisconsin             353.160000  353.141905  352.996308  \nWyoming               339.260469  339.072698  338.910769  "
     },
     "execution_count": 29,
     "metadata": {},
     "output_type": "execute_result"
    }
   ]
  },
  {
   "cell_type": "markdown",
   "source": "**Exercise** Get a cross tabulation: for each state, for each month, get the prices for the weekday as shown in the output ",
   "metadata": {
    "cell_id": "00043-87a2fa6f-6de9-40b1-a6f8-6e01f9976d4c",
    "deepnote_cell_type": "markdown"
   }
  },
  {
   "cell_type": "code",
   "metadata": {
    "collapsed": false,
    "cell_id": "00044-ff88255d-0a11-4e19-b9a0-5b61bfb49aec",
    "deepnote_cell_type": "code"
   },
   "source": "",
   "execution_count": null,
   "outputs": []
  },
  {
   "cell_type": "markdown",
   "source": "## 2.5 Derive the Data\n\nLets us load the demographic dataset and create a new column for others in the population",
   "metadata": {
    "cell_id": "00045-5f125fb6-b00f-4e3f-af04-198d3cd2005c",
    "deepnote_cell_type": "markdown"
   }
  },
  {
   "cell_type": "code",
   "metadata": {
    "collapsed": false,
    "cell_id": "00046-dd270177-87c8-4fb0-bc22-9111fb2539fa",
    "deepnote_to_be_reexecuted": false,
    "source_hash": "693d3a1b",
    "execution_start": 1624848484019,
    "execution_millis": 69,
    "deepnote_cell_type": "code"
   },
   "source": "df_demo = pd.read_csv(\"https://raw.githubusercontent.com/reddyprasade/Data-Analysis-with-Python/main/Statistics/Data/Demographics_State.csv\")",
   "execution_count": 35,
   "outputs": []
  },
  {
   "cell_type": "code",
   "metadata": {
    "collapsed": false,
    "cell_id": "00047-46a8dce4-2880-438d-aca0-4ac4eecc7d94",
    "deepnote_to_be_reexecuted": false,
    "source_hash": "25ae697c",
    "execution_start": 1624848484429,
    "execution_millis": 28,
    "deepnote_cell_type": "code"
   },
   "source": "df_demo.head()",
   "execution_count": 36,
   "outputs": [
    {
     "output_type": "execute_result",
     "execution_count": 36,
     "data": {
      "application/vnd.deepnote.dataframe.v2+json": {
       "row_count": 5,
       "column_count": 9,
       "columns": [
        {
         "name": "region",
         "dtype": "object",
         "stats": {
          "unique_count": 5,
          "nan_count": 0,
          "categories": [
           {
            "name": "alabama",
            "count": 1
           },
           {
            "name": "alaska",
            "count": 1
           },
           {
            "name": "3 others",
            "count": 3
           }
          ]
         }
        },
        {
         "name": "total_population",
         "dtype": "int64",
         "stats": {
          "unique_count": 5,
          "nan_count": 0,
          "min": "720316",
          "max": "37659181",
          "histogram": [
           {
            "bin_start": 720316,
            "bin_end": 4414202.5,
            "count": 2
           },
           {
            "bin_start": 4414202.5,
            "bin_end": 8108089,
            "count": 2
           },
           {
            "bin_start": 8108089,
            "bin_end": 11801975.5,
            "count": 0
           },
           {
            "bin_start": 11801975.5,
            "bin_end": 15495862,
            "count": 0
           },
           {
            "bin_start": 15495862,
            "bin_end": 19189748.5,
            "count": 0
           },
           {
            "bin_start": 19189748.5,
            "bin_end": 22883635,
            "count": 0
           },
           {
            "bin_start": 22883635,
            "bin_end": 26577521.5,
            "count": 0
           },
           {
            "bin_start": 26577521.5,
            "bin_end": 30271408,
            "count": 0
           },
           {
            "bin_start": 30271408,
            "bin_end": 33965294.5,
            "count": 0
           },
           {
            "bin_start": 33965294.5,
            "bin_end": 37659181,
            "count": 1
           }
          ]
         }
        },
        {
         "name": "percent_white",
         "dtype": "int64",
         "stats": {
          "unique_count": 5,
          "nan_count": 0,
          "min": "40",
          "max": "74",
          "histogram": [
           {
            "bin_start": 40,
            "bin_end": 43.4,
            "count": 1
           },
           {
            "bin_start": 43.4,
            "bin_end": 46.8,
            "count": 0
           },
           {
            "bin_start": 46.8,
            "bin_end": 50.2,
            "count": 0
           },
           {
            "bin_start": 50.2,
            "bin_end": 53.6,
            "count": 0
           },
           {
            "bin_start": 53.6,
            "bin_end": 57,
            "count": 0
           },
           {
            "bin_start": 57,
            "bin_end": 60.4,
            "count": 1
           },
           {
            "bin_start": 60.4,
            "bin_end": 63.8,
            "count": 1
           },
           {
            "bin_start": 63.8,
            "bin_end": 67.2,
            "count": 1
           },
           {
            "bin_start": 67.2,
            "bin_end": 70.6,
            "count": 0
           },
           {
            "bin_start": 70.6,
            "bin_end": 74,
            "count": 1
           }
          ]
         }
        },
        {
         "name": "percent_black",
         "dtype": "int64",
         "stats": {
          "unique_count": 5,
          "nan_count": 0,
          "min": "3",
          "max": "26",
          "histogram": [
           {
            "bin_start": 3,
            "bin_end": 5.3,
            "count": 2
           },
           {
            "bin_start": 5.3,
            "bin_end": 7.6,
            "count": 1
           },
           {
            "bin_start": 7.6,
            "bin_end": 9.899999999999999,
            "count": 0
           },
           {
            "bin_start": 9.899999999999999,
            "bin_end": 12.2,
            "count": 0
           },
           {
            "bin_start": 12.2,
            "bin_end": 14.5,
            "count": 0
           },
           {
            "bin_start": 14.5,
            "bin_end": 16.799999999999997,
            "count": 1
           },
           {
            "bin_start": 16.799999999999997,
            "bin_end": 19.099999999999998,
            "count": 0
           },
           {
            "bin_start": 19.099999999999998,
            "bin_end": 21.4,
            "count": 0
           },
           {
            "bin_start": 21.4,
            "bin_end": 23.7,
            "count": 0
           },
           {
            "bin_start": 23.7,
            "bin_end": 26,
            "count": 1
           }
          ]
         }
        },
        {
         "name": "percent_asian",
         "dtype": "int64",
         "stats": {
          "unique_count": 4,
          "nan_count": 0,
          "min": "1",
          "max": "13",
          "histogram": [
           {
            "bin_start": 1,
            "bin_end": 2.2,
            "count": 2
           },
           {
            "bin_start": 2.2,
            "bin_end": 3.4,
            "count": 1
           },
           {
            "bin_start": 3.4,
            "bin_end": 4.6,
            "count": 0
           },
           {
            "bin_start": 4.6,
            "bin_end": 5.8,
            "count": 1
           },
           {
            "bin_start": 5.8,
            "bin_end": 7,
            "count": 0
           },
           {
            "bin_start": 7,
            "bin_end": 8.2,
            "count": 0
           },
           {
            "bin_start": 8.2,
            "bin_end": 9.4,
            "count": 0
           },
           {
            "bin_start": 9.4,
            "bin_end": 10.6,
            "count": 0
           },
           {
            "bin_start": 10.6,
            "bin_end": 11.799999999999999,
            "count": 0
           },
           {
            "bin_start": 11.799999999999999,
            "bin_end": 13,
            "count": 1
           }
          ]
         }
        },
        {
         "name": "percent_hispanic",
         "dtype": "int64",
         "stats": {
          "unique_count": 5,
          "nan_count": 0,
          "min": "4",
          "max": "38",
          "histogram": [
           {
            "bin_start": 4,
            "bin_end": 7.4,
            "count": 3
           },
           {
            "bin_start": 7.4,
            "bin_end": 10.8,
            "count": 0
           },
           {
            "bin_start": 10.8,
            "bin_end": 14.2,
            "count": 0
           },
           {
            "bin_start": 14.2,
            "bin_end": 17.6,
            "count": 0
           },
           {
            "bin_start": 17.6,
            "bin_end": 21,
            "count": 0
           },
           {
            "bin_start": 21,
            "bin_end": 24.4,
            "count": 0
           },
           {
            "bin_start": 24.4,
            "bin_end": 27.8,
            "count": 0
           },
           {
            "bin_start": 27.8,
            "bin_end": 31.2,
            "count": 1
           },
           {
            "bin_start": 31.2,
            "bin_end": 34.599999999999994,
            "count": 0
           },
           {
            "bin_start": 34.599999999999994,
            "bin_end": 38,
            "count": 1
           }
          ]
         }
        },
        {
         "name": "per_capita_income",
         "dtype": "int64",
         "stats": {
          "unique_count": 5,
          "nan_count": 0,
          "min": "22170",
          "max": "32651",
          "histogram": [
           {
            "bin_start": 22170,
            "bin_end": 23218.1,
            "count": 1
           },
           {
            "bin_start": 23218.1,
            "bin_end": 24266.2,
            "count": 1
           },
           {
            "bin_start": 24266.2,
            "bin_end": 25314.3,
            "count": 0
           },
           {
            "bin_start": 25314.3,
            "bin_end": 26362.4,
            "count": 1
           },
           {
            "bin_start": 26362.4,
            "bin_end": 27410.5,
            "count": 0
           },
           {
            "bin_start": 27410.5,
            "bin_end": 28458.6,
            "count": 0
           },
           {
            "bin_start": 28458.6,
            "bin_end": 29506.699999999997,
            "count": 0
           },
           {
            "bin_start": 29506.699999999997,
            "bin_end": 30554.8,
            "count": 1
           },
           {
            "bin_start": 30554.8,
            "bin_end": 31602.9,
            "count": 0
           },
           {
            "bin_start": 31602.9,
            "bin_end": 32651,
            "count": 1
           }
          ]
         }
        },
        {
         "name": "median_rent",
         "dtype": "int64",
         "stats": {
          "unique_count": 5,
          "nan_count": 0,
          "min": "480",
          "max": "1119",
          "histogram": [
           {
            "bin_start": 480,
            "bin_end": 543.9,
            "count": 2
           },
           {
            "bin_start": 543.9,
            "bin_end": 607.8,
            "count": 0
           },
           {
            "bin_start": 607.8,
            "bin_end": 671.7,
            "count": 0
           },
           {
            "bin_start": 671.7,
            "bin_end": 735.6,
            "count": 0
           },
           {
            "bin_start": 735.6,
            "bin_end": 799.5,
            "count": 1
           },
           {
            "bin_start": 799.5,
            "bin_end": 863.4,
            "count": 0
           },
           {
            "bin_start": 863.4,
            "bin_end": 927.3,
            "count": 0
           },
           {
            "bin_start": 927.3,
            "bin_end": 991.2,
            "count": 1
           },
           {
            "bin_start": 991.2,
            "bin_end": 1055.1,
            "count": 0
           },
           {
            "bin_start": 1055.1,
            "bin_end": 1119,
            "count": 1
           }
          ]
         }
        },
        {
         "name": "median_age",
         "dtype": "float64",
         "stats": {
          "unique_count": 5,
          "nan_count": 0,
          "min": "33.6",
          "max": "38.1",
          "histogram": [
           {
            "bin_start": 33.6,
            "bin_end": 34.050000000000004,
            "count": 1
           },
           {
            "bin_start": 34.050000000000004,
            "bin_end": 34.5,
            "count": 0
           },
           {
            "bin_start": 34.5,
            "bin_end": 34.95,
            "count": 0
           },
           {
            "bin_start": 34.95,
            "bin_end": 35.4,
            "count": 0
           },
           {
            "bin_start": 35.4,
            "bin_end": 35.85,
            "count": 1
           },
           {
            "bin_start": 35.85,
            "bin_end": 36.300000000000004,
            "count": 1
           },
           {
            "bin_start": 36.300000000000004,
            "bin_end": 36.75,
            "count": 0
           },
           {
            "bin_start": 36.75,
            "bin_end": 37.2,
            "count": 0
           },
           {
            "bin_start": 37.2,
            "bin_end": 37.65,
            "count": 1
           },
           {
            "bin_start": 37.65,
            "bin_end": 38.1,
            "count": 1
           }
          ]
         }
        },
        {
         "name": "_deepnote_index_column",
         "dtype": "int64"
        }
       ],
       "rows_top": [
        {
         "region": "alabama",
         "total_population": 4799277,
         "percent_white": 67,
         "percent_black": 26,
         "percent_asian": 1,
         "percent_hispanic": 4,
         "per_capita_income": 23680,
         "median_rent": 501,
         "median_age": 38.1,
         "_deepnote_index_column": 0
        },
        {
         "region": "alaska",
         "total_population": 720316,
         "percent_white": 63,
         "percent_black": 3,
         "percent_asian": 5,
         "percent_hispanic": 6,
         "per_capita_income": 32651,
         "median_rent": 978,
         "median_age": 33.6,
         "_deepnote_index_column": 1
        },
        {
         "region": "arizona",
         "total_population": 6479703,
         "percent_white": 57,
         "percent_black": 4,
         "percent_asian": 3,
         "percent_hispanic": 30,
         "per_capita_income": 25358,
         "median_rent": 747,
         "median_age": 36.3,
         "_deepnote_index_column": 2
        },
        {
         "region": "arkansas",
         "total_population": 2933369,
         "percent_white": 74,
         "percent_black": 15,
         "percent_asian": 1,
         "percent_hispanic": 7,
         "per_capita_income": 22170,
         "median_rent": 480,
         "median_age": 37.5,
         "_deepnote_index_column": 3
        },
        {
         "region": "california",
         "total_population": 37659181,
         "percent_white": 40,
         "percent_black": 6,
         "percent_asian": 13,
         "percent_hispanic": 38,
         "per_capita_income": 29527,
         "median_rent": 1119,
         "median_age": 35.4,
         "_deepnote_index_column": 4
        }
       ],
       "rows_bottom": null
      },
      "text/plain": "       region  total_population  percent_white  percent_black  percent_asian  \\\n0     alabama           4799277             67             26              1   \n1      alaska            720316             63              3              5   \n2     arizona           6479703             57              4              3   \n3    arkansas           2933369             74             15              1   \n4  california          37659181             40              6             13   \n\n   percent_hispanic  per_capita_income  median_rent  median_age  \n0                 4              23680          501        38.1  \n1                 6              32651          978        33.6  \n2                30              25358          747        36.3  \n3                 7              22170          480        37.5  \n4                38              29527         1119        35.4  ",
      "text/html": "<div>\n<style scoped>\n    .dataframe tbody tr th:only-of-type {\n        vertical-align: middle;\n    }\n\n    .dataframe tbody tr th {\n        vertical-align: top;\n    }\n\n    .dataframe thead th {\n        text-align: right;\n    }\n</style>\n<table border=\"1\" class=\"dataframe\">\n  <thead>\n    <tr style=\"text-align: right;\">\n      <th></th>\n      <th>region</th>\n      <th>total_population</th>\n      <th>percent_white</th>\n      <th>percent_black</th>\n      <th>percent_asian</th>\n      <th>percent_hispanic</th>\n      <th>per_capita_income</th>\n      <th>median_rent</th>\n      <th>median_age</th>\n    </tr>\n  </thead>\n  <tbody>\n    <tr>\n      <th>0</th>\n      <td>alabama</td>\n      <td>4799277</td>\n      <td>67</td>\n      <td>26</td>\n      <td>1</td>\n      <td>4</td>\n      <td>23680</td>\n      <td>501</td>\n      <td>38.1</td>\n    </tr>\n    <tr>\n      <th>1</th>\n      <td>alaska</td>\n      <td>720316</td>\n      <td>63</td>\n      <td>3</td>\n      <td>5</td>\n      <td>6</td>\n      <td>32651</td>\n      <td>978</td>\n      <td>33.6</td>\n    </tr>\n    <tr>\n      <th>2</th>\n      <td>arizona</td>\n      <td>6479703</td>\n      <td>57</td>\n      <td>4</td>\n      <td>3</td>\n      <td>30</td>\n      <td>25358</td>\n      <td>747</td>\n      <td>36.3</td>\n    </tr>\n    <tr>\n      <th>3</th>\n      <td>arkansas</td>\n      <td>2933369</td>\n      <td>74</td>\n      <td>15</td>\n      <td>1</td>\n      <td>7</td>\n      <td>22170</td>\n      <td>480</td>\n      <td>37.5</td>\n    </tr>\n    <tr>\n      <th>4</th>\n      <td>california</td>\n      <td>37659181</td>\n      <td>40</td>\n      <td>6</td>\n      <td>13</td>\n      <td>38</td>\n      <td>29527</td>\n      <td>1119</td>\n      <td>35.4</td>\n    </tr>\n  </tbody>\n</table>\n</div>"
     },
     "metadata": {}
    }
   ]
  },
  {
   "cell_type": "code",
   "metadata": {
    "collapsed": false,
    "cell_id": "00048-ff544ec6-d826-4fee-94c7-d0f4149022de",
    "deepnote_to_be_reexecuted": false,
    "source_hash": "42492d54",
    "execution_start": 1624848556723,
    "execution_millis": 1,
    "deepnote_cell_type": "code"
   },
   "source": "df_demo[\"percent_other\"] = 100 - df_demo[\"percent_white\"] - df_demo[\"percent_black\"] - df_demo[\"percent_asian\"] - df_demo[\"percent_hispanic\"]",
   "execution_count": 37,
   "outputs": []
  },
  {
   "cell_type": "code",
   "metadata": {
    "collapsed": false,
    "cell_id": "00049-12df25b8-d171-4c07-92af-0c0cd3be3616",
    "deepnote_to_be_reexecuted": false,
    "source_hash": "25ae697c",
    "execution_start": 1624848557676,
    "execution_millis": 11,
    "deepnote_cell_type": "code"
   },
   "source": "df_demo.head()",
   "execution_count": 38,
   "outputs": [
    {
     "output_type": "execute_result",
     "execution_count": 38,
     "data": {
      "application/vnd.deepnote.dataframe.v2+json": {
       "row_count": 5,
       "column_count": 10,
       "columns": [
        {
         "name": "region",
         "dtype": "object",
         "stats": {
          "unique_count": 5,
          "nan_count": 0,
          "categories": [
           {
            "name": "alabama",
            "count": 1
           },
           {
            "name": "alaska",
            "count": 1
           },
           {
            "name": "3 others",
            "count": 3
           }
          ]
         }
        },
        {
         "name": "total_population",
         "dtype": "int64",
         "stats": {
          "unique_count": 5,
          "nan_count": 0,
          "min": "720316",
          "max": "37659181",
          "histogram": [
           {
            "bin_start": 720316,
            "bin_end": 4414202.5,
            "count": 2
           },
           {
            "bin_start": 4414202.5,
            "bin_end": 8108089,
            "count": 2
           },
           {
            "bin_start": 8108089,
            "bin_end": 11801975.5,
            "count": 0
           },
           {
            "bin_start": 11801975.5,
            "bin_end": 15495862,
            "count": 0
           },
           {
            "bin_start": 15495862,
            "bin_end": 19189748.5,
            "count": 0
           },
           {
            "bin_start": 19189748.5,
            "bin_end": 22883635,
            "count": 0
           },
           {
            "bin_start": 22883635,
            "bin_end": 26577521.5,
            "count": 0
           },
           {
            "bin_start": 26577521.5,
            "bin_end": 30271408,
            "count": 0
           },
           {
            "bin_start": 30271408,
            "bin_end": 33965294.5,
            "count": 0
           },
           {
            "bin_start": 33965294.5,
            "bin_end": 37659181,
            "count": 1
           }
          ]
         }
        },
        {
         "name": "percent_white",
         "dtype": "int64",
         "stats": {
          "unique_count": 5,
          "nan_count": 0,
          "min": "40",
          "max": "74",
          "histogram": [
           {
            "bin_start": 40,
            "bin_end": 43.4,
            "count": 1
           },
           {
            "bin_start": 43.4,
            "bin_end": 46.8,
            "count": 0
           },
           {
            "bin_start": 46.8,
            "bin_end": 50.2,
            "count": 0
           },
           {
            "bin_start": 50.2,
            "bin_end": 53.6,
            "count": 0
           },
           {
            "bin_start": 53.6,
            "bin_end": 57,
            "count": 0
           },
           {
            "bin_start": 57,
            "bin_end": 60.4,
            "count": 1
           },
           {
            "bin_start": 60.4,
            "bin_end": 63.8,
            "count": 1
           },
           {
            "bin_start": 63.8,
            "bin_end": 67.2,
            "count": 1
           },
           {
            "bin_start": 67.2,
            "bin_end": 70.6,
            "count": 0
           },
           {
            "bin_start": 70.6,
            "bin_end": 74,
            "count": 1
           }
          ]
         }
        },
        {
         "name": "percent_black",
         "dtype": "int64",
         "stats": {
          "unique_count": 5,
          "nan_count": 0,
          "min": "3",
          "max": "26",
          "histogram": [
           {
            "bin_start": 3,
            "bin_end": 5.3,
            "count": 2
           },
           {
            "bin_start": 5.3,
            "bin_end": 7.6,
            "count": 1
           },
           {
            "bin_start": 7.6,
            "bin_end": 9.899999999999999,
            "count": 0
           },
           {
            "bin_start": 9.899999999999999,
            "bin_end": 12.2,
            "count": 0
           },
           {
            "bin_start": 12.2,
            "bin_end": 14.5,
            "count": 0
           },
           {
            "bin_start": 14.5,
            "bin_end": 16.799999999999997,
            "count": 1
           },
           {
            "bin_start": 16.799999999999997,
            "bin_end": 19.099999999999998,
            "count": 0
           },
           {
            "bin_start": 19.099999999999998,
            "bin_end": 21.4,
            "count": 0
           },
           {
            "bin_start": 21.4,
            "bin_end": 23.7,
            "count": 0
           },
           {
            "bin_start": 23.7,
            "bin_end": 26,
            "count": 1
           }
          ]
         }
        },
        {
         "name": "percent_asian",
         "dtype": "int64",
         "stats": {
          "unique_count": 4,
          "nan_count": 0,
          "min": "1",
          "max": "13",
          "histogram": [
           {
            "bin_start": 1,
            "bin_end": 2.2,
            "count": 2
           },
           {
            "bin_start": 2.2,
            "bin_end": 3.4,
            "count": 1
           },
           {
            "bin_start": 3.4,
            "bin_end": 4.6,
            "count": 0
           },
           {
            "bin_start": 4.6,
            "bin_end": 5.8,
            "count": 1
           },
           {
            "bin_start": 5.8,
            "bin_end": 7,
            "count": 0
           },
           {
            "bin_start": 7,
            "bin_end": 8.2,
            "count": 0
           },
           {
            "bin_start": 8.2,
            "bin_end": 9.4,
            "count": 0
           },
           {
            "bin_start": 9.4,
            "bin_end": 10.6,
            "count": 0
           },
           {
            "bin_start": 10.6,
            "bin_end": 11.799999999999999,
            "count": 0
           },
           {
            "bin_start": 11.799999999999999,
            "bin_end": 13,
            "count": 1
           }
          ]
         }
        },
        {
         "name": "percent_hispanic",
         "dtype": "int64",
         "stats": {
          "unique_count": 5,
          "nan_count": 0,
          "min": "4",
          "max": "38",
          "histogram": [
           {
            "bin_start": 4,
            "bin_end": 7.4,
            "count": 3
           },
           {
            "bin_start": 7.4,
            "bin_end": 10.8,
            "count": 0
           },
           {
            "bin_start": 10.8,
            "bin_end": 14.2,
            "count": 0
           },
           {
            "bin_start": 14.2,
            "bin_end": 17.6,
            "count": 0
           },
           {
            "bin_start": 17.6,
            "bin_end": 21,
            "count": 0
           },
           {
            "bin_start": 21,
            "bin_end": 24.4,
            "count": 0
           },
           {
            "bin_start": 24.4,
            "bin_end": 27.8,
            "count": 0
           },
           {
            "bin_start": 27.8,
            "bin_end": 31.2,
            "count": 1
           },
           {
            "bin_start": 31.2,
            "bin_end": 34.599999999999994,
            "count": 0
           },
           {
            "bin_start": 34.599999999999994,
            "bin_end": 38,
            "count": 1
           }
          ]
         }
        },
        {
         "name": "per_capita_income",
         "dtype": "int64",
         "stats": {
          "unique_count": 5,
          "nan_count": 0,
          "min": "22170",
          "max": "32651",
          "histogram": [
           {
            "bin_start": 22170,
            "bin_end": 23218.1,
            "count": 1
           },
           {
            "bin_start": 23218.1,
            "bin_end": 24266.2,
            "count": 1
           },
           {
            "bin_start": 24266.2,
            "bin_end": 25314.3,
            "count": 0
           },
           {
            "bin_start": 25314.3,
            "bin_end": 26362.4,
            "count": 1
           },
           {
            "bin_start": 26362.4,
            "bin_end": 27410.5,
            "count": 0
           },
           {
            "bin_start": 27410.5,
            "bin_end": 28458.6,
            "count": 0
           },
           {
            "bin_start": 28458.6,
            "bin_end": 29506.699999999997,
            "count": 0
           },
           {
            "bin_start": 29506.699999999997,
            "bin_end": 30554.8,
            "count": 1
           },
           {
            "bin_start": 30554.8,
            "bin_end": 31602.9,
            "count": 0
           },
           {
            "bin_start": 31602.9,
            "bin_end": 32651,
            "count": 1
           }
          ]
         }
        },
        {
         "name": "median_rent",
         "dtype": "int64",
         "stats": {
          "unique_count": 5,
          "nan_count": 0,
          "min": "480",
          "max": "1119",
          "histogram": [
           {
            "bin_start": 480,
            "bin_end": 543.9,
            "count": 2
           },
           {
            "bin_start": 543.9,
            "bin_end": 607.8,
            "count": 0
           },
           {
            "bin_start": 607.8,
            "bin_end": 671.7,
            "count": 0
           },
           {
            "bin_start": 671.7,
            "bin_end": 735.6,
            "count": 0
           },
           {
            "bin_start": 735.6,
            "bin_end": 799.5,
            "count": 1
           },
           {
            "bin_start": 799.5,
            "bin_end": 863.4,
            "count": 0
           },
           {
            "bin_start": 863.4,
            "bin_end": 927.3,
            "count": 0
           },
           {
            "bin_start": 927.3,
            "bin_end": 991.2,
            "count": 1
           },
           {
            "bin_start": 991.2,
            "bin_end": 1055.1,
            "count": 0
           },
           {
            "bin_start": 1055.1,
            "bin_end": 1119,
            "count": 1
           }
          ]
         }
        },
        {
         "name": "median_age",
         "dtype": "float64",
         "stats": {
          "unique_count": 5,
          "nan_count": 0,
          "min": "33.6",
          "max": "38.1",
          "histogram": [
           {
            "bin_start": 33.6,
            "bin_end": 34.050000000000004,
            "count": 1
           },
           {
            "bin_start": 34.050000000000004,
            "bin_end": 34.5,
            "count": 0
           },
           {
            "bin_start": 34.5,
            "bin_end": 34.95,
            "count": 0
           },
           {
            "bin_start": 34.95,
            "bin_end": 35.4,
            "count": 0
           },
           {
            "bin_start": 35.4,
            "bin_end": 35.85,
            "count": 1
           },
           {
            "bin_start": 35.85,
            "bin_end": 36.300000000000004,
            "count": 1
           },
           {
            "bin_start": 36.300000000000004,
            "bin_end": 36.75,
            "count": 0
           },
           {
            "bin_start": 36.75,
            "bin_end": 37.2,
            "count": 0
           },
           {
            "bin_start": 37.2,
            "bin_end": 37.65,
            "count": 1
           },
           {
            "bin_start": 37.65,
            "bin_end": 38.1,
            "count": 1
           }
          ]
         }
        },
        {
         "name": "percent_other",
         "dtype": "int64",
         "stats": {
          "unique_count": 4,
          "nan_count": 0,
          "min": "2",
          "max": "23",
          "histogram": [
           {
            "bin_start": 2,
            "bin_end": 4.1,
            "count": 3
           },
           {
            "bin_start": 4.1,
            "bin_end": 6.2,
            "count": 1
           },
           {
            "bin_start": 6.2,
            "bin_end": 8.3,
            "count": 0
           },
           {
            "bin_start": 8.3,
            "bin_end": 10.4,
            "count": 0
           },
           {
            "bin_start": 10.4,
            "bin_end": 12.5,
            "count": 0
           },
           {
            "bin_start": 12.5,
            "bin_end": 14.600000000000001,
            "count": 0
           },
           {
            "bin_start": 14.600000000000001,
            "bin_end": 16.700000000000003,
            "count": 0
           },
           {
            "bin_start": 16.700000000000003,
            "bin_end": 18.8,
            "count": 0
           },
           {
            "bin_start": 18.8,
            "bin_end": 20.900000000000002,
            "count": 0
           },
           {
            "bin_start": 20.900000000000002,
            "bin_end": 23,
            "count": 1
           }
          ]
         }
        },
        {
         "name": "_deepnote_index_column",
         "dtype": "int64"
        }
       ],
       "rows_top": [
        {
         "region": "alabama",
         "total_population": 4799277,
         "percent_white": 67,
         "percent_black": 26,
         "percent_asian": 1,
         "percent_hispanic": 4,
         "per_capita_income": 23680,
         "median_rent": 501,
         "median_age": 38.1,
         "percent_other": 2,
         "_deepnote_index_column": 0
        },
        {
         "region": "alaska",
         "total_population": 720316,
         "percent_white": 63,
         "percent_black": 3,
         "percent_asian": 5,
         "percent_hispanic": 6,
         "per_capita_income": 32651,
         "median_rent": 978,
         "median_age": 33.6,
         "percent_other": 23,
         "_deepnote_index_column": 1
        },
        {
         "region": "arizona",
         "total_population": 6479703,
         "percent_white": 57,
         "percent_black": 4,
         "percent_asian": 3,
         "percent_hispanic": 30,
         "per_capita_income": 25358,
         "median_rent": 747,
         "median_age": 36.3,
         "percent_other": 6,
         "_deepnote_index_column": 2
        },
        {
         "region": "arkansas",
         "total_population": 2933369,
         "percent_white": 74,
         "percent_black": 15,
         "percent_asian": 1,
         "percent_hispanic": 7,
         "per_capita_income": 22170,
         "median_rent": 480,
         "median_age": 37.5,
         "percent_other": 3,
         "_deepnote_index_column": 3
        },
        {
         "region": "california",
         "total_population": 37659181,
         "percent_white": 40,
         "percent_black": 6,
         "percent_asian": 13,
         "percent_hispanic": 38,
         "per_capita_income": 29527,
         "median_rent": 1119,
         "median_age": 35.4,
         "percent_other": 3,
         "_deepnote_index_column": 4
        }
       ],
       "rows_bottom": null
      },
      "text/plain": "       region  total_population  percent_white  percent_black  percent_asian  \\\n0     alabama           4799277             67             26              1   \n1      alaska            720316             63              3              5   \n2     arizona           6479703             57              4              3   \n3    arkansas           2933369             74             15              1   \n4  california          37659181             40              6             13   \n\n   percent_hispanic  per_capita_income  median_rent  median_age  percent_other  \n0                 4              23680          501        38.1              2  \n1                 6              32651          978        33.6             23  \n2                30              25358          747        36.3              6  \n3                 7              22170          480        37.5              3  \n4                38              29527         1119        35.4              3  ",
      "text/html": "<div>\n<style scoped>\n    .dataframe tbody tr th:only-of-type {\n        vertical-align: middle;\n    }\n\n    .dataframe tbody tr th {\n        vertical-align: top;\n    }\n\n    .dataframe thead th {\n        text-align: right;\n    }\n</style>\n<table border=\"1\" class=\"dataframe\">\n  <thead>\n    <tr style=\"text-align: right;\">\n      <th></th>\n      <th>region</th>\n      <th>total_population</th>\n      <th>percent_white</th>\n      <th>percent_black</th>\n      <th>percent_asian</th>\n      <th>percent_hispanic</th>\n      <th>per_capita_income</th>\n      <th>median_rent</th>\n      <th>median_age</th>\n      <th>percent_other</th>\n    </tr>\n  </thead>\n  <tbody>\n    <tr>\n      <th>0</th>\n      <td>alabama</td>\n      <td>4799277</td>\n      <td>67</td>\n      <td>26</td>\n      <td>1</td>\n      <td>4</td>\n      <td>23680</td>\n      <td>501</td>\n      <td>38.1</td>\n      <td>2</td>\n    </tr>\n    <tr>\n      <th>1</th>\n      <td>alaska</td>\n      <td>720316</td>\n      <td>63</td>\n      <td>3</td>\n      <td>5</td>\n      <td>6</td>\n      <td>32651</td>\n      <td>978</td>\n      <td>33.6</td>\n      <td>23</td>\n    </tr>\n    <tr>\n      <th>2</th>\n      <td>arizona</td>\n      <td>6479703</td>\n      <td>57</td>\n      <td>4</td>\n      <td>3</td>\n      <td>30</td>\n      <td>25358</td>\n      <td>747</td>\n      <td>36.3</td>\n      <td>6</td>\n    </tr>\n    <tr>\n      <th>3</th>\n      <td>arkansas</td>\n      <td>2933369</td>\n      <td>74</td>\n      <td>15</td>\n      <td>1</td>\n      <td>7</td>\n      <td>22170</td>\n      <td>480</td>\n      <td>37.5</td>\n      <td>3</td>\n    </tr>\n    <tr>\n      <th>4</th>\n      <td>california</td>\n      <td>37659181</td>\n      <td>40</td>\n      <td>6</td>\n      <td>13</td>\n      <td>38</td>\n      <td>29527</td>\n      <td>1119</td>\n      <td>35.4</td>\n      <td>3</td>\n    </tr>\n  </tbody>\n</table>\n</div>"
     },
     "metadata": {}
    }
   ]
  },
  {
   "cell_type": "markdown",
   "source": "**Exercise** Express median rent as a proportion of california's median rent (Compute it as a new column)",
   "metadata": {
    "cell_id": "00050-b1a9df10-85a8-4aab-85ac-557a1b93a6ff",
    "deepnote_cell_type": "markdown"
   }
  },
  {
   "cell_type": "code",
   "metadata": {
    "collapsed": true,
    "cell_id": "00051-874fa602-a91c-4a25-8385-1350ea41002b",
    "deepnote_cell_type": "code"
   },
   "source": "",
   "execution_count": null,
   "outputs": []
  },
  {
   "cell_type": "markdown",
   "source": "## 2.6 Merge the Data \n\nLets merge the demographic dataset with the price dataset",
   "metadata": {
    "cell_id": "00052-19d689fc-0e48-4cce-ac92-0f24971e2812",
    "deepnote_cell_type": "markdown"
   }
  },
  {
   "cell_type": "code",
   "metadata": {
    "collapsed": true,
    "cell_id": "00053-d3b9c7ea-0ae9-4ba4-a534-4e94ff951bd9",
    "deepnote_to_be_reexecuted": false,
    "source_hash": "59d91031",
    "execution_start": 1624848616535,
    "execution_millis": 1,
    "deepnote_cell_type": "code"
   },
   "source": "# Let us change the column name region to State\ndf_demo = df_demo.rename(columns={'region':'State'})",
   "execution_count": 39,
   "outputs": []
  },
  {
   "cell_type": "code",
   "metadata": {
    "collapsed": false,
    "cell_id": "00054-e6ce2b55-6998-4922-bc33-af9d32085115",
    "deepnote_to_be_reexecuted": false,
    "source_hash": "25ae697c",
    "execution_start": 1624848617048,
    "execution_millis": 17,
    "deepnote_cell_type": "code"
   },
   "source": "df_demo.head()",
   "execution_count": 40,
   "outputs": [
    {
     "output_type": "execute_result",
     "execution_count": 40,
     "data": {
      "application/vnd.deepnote.dataframe.v2+json": {
       "row_count": 5,
       "column_count": 10,
       "columns": [
        {
         "name": "State",
         "dtype": "object",
         "stats": {
          "unique_count": 5,
          "nan_count": 0,
          "categories": [
           {
            "name": "alabama",
            "count": 1
           },
           {
            "name": "alaska",
            "count": 1
           },
           {
            "name": "3 others",
            "count": 3
           }
          ]
         }
        },
        {
         "name": "total_population",
         "dtype": "int64",
         "stats": {
          "unique_count": 5,
          "nan_count": 0,
          "min": "720316",
          "max": "37659181",
          "histogram": [
           {
            "bin_start": 720316,
            "bin_end": 4414202.5,
            "count": 2
           },
           {
            "bin_start": 4414202.5,
            "bin_end": 8108089,
            "count": 2
           },
           {
            "bin_start": 8108089,
            "bin_end": 11801975.5,
            "count": 0
           },
           {
            "bin_start": 11801975.5,
            "bin_end": 15495862,
            "count": 0
           },
           {
            "bin_start": 15495862,
            "bin_end": 19189748.5,
            "count": 0
           },
           {
            "bin_start": 19189748.5,
            "bin_end": 22883635,
            "count": 0
           },
           {
            "bin_start": 22883635,
            "bin_end": 26577521.5,
            "count": 0
           },
           {
            "bin_start": 26577521.5,
            "bin_end": 30271408,
            "count": 0
           },
           {
            "bin_start": 30271408,
            "bin_end": 33965294.5,
            "count": 0
           },
           {
            "bin_start": 33965294.5,
            "bin_end": 37659181,
            "count": 1
           }
          ]
         }
        },
        {
         "name": "percent_white",
         "dtype": "int64",
         "stats": {
          "unique_count": 5,
          "nan_count": 0,
          "min": "40",
          "max": "74",
          "histogram": [
           {
            "bin_start": 40,
            "bin_end": 43.4,
            "count": 1
           },
           {
            "bin_start": 43.4,
            "bin_end": 46.8,
            "count": 0
           },
           {
            "bin_start": 46.8,
            "bin_end": 50.2,
            "count": 0
           },
           {
            "bin_start": 50.2,
            "bin_end": 53.6,
            "count": 0
           },
           {
            "bin_start": 53.6,
            "bin_end": 57,
            "count": 0
           },
           {
            "bin_start": 57,
            "bin_end": 60.4,
            "count": 1
           },
           {
            "bin_start": 60.4,
            "bin_end": 63.8,
            "count": 1
           },
           {
            "bin_start": 63.8,
            "bin_end": 67.2,
            "count": 1
           },
           {
            "bin_start": 67.2,
            "bin_end": 70.6,
            "count": 0
           },
           {
            "bin_start": 70.6,
            "bin_end": 74,
            "count": 1
           }
          ]
         }
        },
        {
         "name": "percent_black",
         "dtype": "int64",
         "stats": {
          "unique_count": 5,
          "nan_count": 0,
          "min": "3",
          "max": "26",
          "histogram": [
           {
            "bin_start": 3,
            "bin_end": 5.3,
            "count": 2
           },
           {
            "bin_start": 5.3,
            "bin_end": 7.6,
            "count": 1
           },
           {
            "bin_start": 7.6,
            "bin_end": 9.899999999999999,
            "count": 0
           },
           {
            "bin_start": 9.899999999999999,
            "bin_end": 12.2,
            "count": 0
           },
           {
            "bin_start": 12.2,
            "bin_end": 14.5,
            "count": 0
           },
           {
            "bin_start": 14.5,
            "bin_end": 16.799999999999997,
            "count": 1
           },
           {
            "bin_start": 16.799999999999997,
            "bin_end": 19.099999999999998,
            "count": 0
           },
           {
            "bin_start": 19.099999999999998,
            "bin_end": 21.4,
            "count": 0
           },
           {
            "bin_start": 21.4,
            "bin_end": 23.7,
            "count": 0
           },
           {
            "bin_start": 23.7,
            "bin_end": 26,
            "count": 1
           }
          ]
         }
        },
        {
         "name": "percent_asian",
         "dtype": "int64",
         "stats": {
          "unique_count": 4,
          "nan_count": 0,
          "min": "1",
          "max": "13",
          "histogram": [
           {
            "bin_start": 1,
            "bin_end": 2.2,
            "count": 2
           },
           {
            "bin_start": 2.2,
            "bin_end": 3.4,
            "count": 1
           },
           {
            "bin_start": 3.4,
            "bin_end": 4.6,
            "count": 0
           },
           {
            "bin_start": 4.6,
            "bin_end": 5.8,
            "count": 1
           },
           {
            "bin_start": 5.8,
            "bin_end": 7,
            "count": 0
           },
           {
            "bin_start": 7,
            "bin_end": 8.2,
            "count": 0
           },
           {
            "bin_start": 8.2,
            "bin_end": 9.4,
            "count": 0
           },
           {
            "bin_start": 9.4,
            "bin_end": 10.6,
            "count": 0
           },
           {
            "bin_start": 10.6,
            "bin_end": 11.799999999999999,
            "count": 0
           },
           {
            "bin_start": 11.799999999999999,
            "bin_end": 13,
            "count": 1
           }
          ]
         }
        },
        {
         "name": "percent_hispanic",
         "dtype": "int64",
         "stats": {
          "unique_count": 5,
          "nan_count": 0,
          "min": "4",
          "max": "38",
          "histogram": [
           {
            "bin_start": 4,
            "bin_end": 7.4,
            "count": 3
           },
           {
            "bin_start": 7.4,
            "bin_end": 10.8,
            "count": 0
           },
           {
            "bin_start": 10.8,
            "bin_end": 14.2,
            "count": 0
           },
           {
            "bin_start": 14.2,
            "bin_end": 17.6,
            "count": 0
           },
           {
            "bin_start": 17.6,
            "bin_end": 21,
            "count": 0
           },
           {
            "bin_start": 21,
            "bin_end": 24.4,
            "count": 0
           },
           {
            "bin_start": 24.4,
            "bin_end": 27.8,
            "count": 0
           },
           {
            "bin_start": 27.8,
            "bin_end": 31.2,
            "count": 1
           },
           {
            "bin_start": 31.2,
            "bin_end": 34.599999999999994,
            "count": 0
           },
           {
            "bin_start": 34.599999999999994,
            "bin_end": 38,
            "count": 1
           }
          ]
         }
        },
        {
         "name": "per_capita_income",
         "dtype": "int64",
         "stats": {
          "unique_count": 5,
          "nan_count": 0,
          "min": "22170",
          "max": "32651",
          "histogram": [
           {
            "bin_start": 22170,
            "bin_end": 23218.1,
            "count": 1
           },
           {
            "bin_start": 23218.1,
            "bin_end": 24266.2,
            "count": 1
           },
           {
            "bin_start": 24266.2,
            "bin_end": 25314.3,
            "count": 0
           },
           {
            "bin_start": 25314.3,
            "bin_end": 26362.4,
            "count": 1
           },
           {
            "bin_start": 26362.4,
            "bin_end": 27410.5,
            "count": 0
           },
           {
            "bin_start": 27410.5,
            "bin_end": 28458.6,
            "count": 0
           },
           {
            "bin_start": 28458.6,
            "bin_end": 29506.699999999997,
            "count": 0
           },
           {
            "bin_start": 29506.699999999997,
            "bin_end": 30554.8,
            "count": 1
           },
           {
            "bin_start": 30554.8,
            "bin_end": 31602.9,
            "count": 0
           },
           {
            "bin_start": 31602.9,
            "bin_end": 32651,
            "count": 1
           }
          ]
         }
        },
        {
         "name": "median_rent",
         "dtype": "int64",
         "stats": {
          "unique_count": 5,
          "nan_count": 0,
          "min": "480",
          "max": "1119",
          "histogram": [
           {
            "bin_start": 480,
            "bin_end": 543.9,
            "count": 2
           },
           {
            "bin_start": 543.9,
            "bin_end": 607.8,
            "count": 0
           },
           {
            "bin_start": 607.8,
            "bin_end": 671.7,
            "count": 0
           },
           {
            "bin_start": 671.7,
            "bin_end": 735.6,
            "count": 0
           },
           {
            "bin_start": 735.6,
            "bin_end": 799.5,
            "count": 1
           },
           {
            "bin_start": 799.5,
            "bin_end": 863.4,
            "count": 0
           },
           {
            "bin_start": 863.4,
            "bin_end": 927.3,
            "count": 0
           },
           {
            "bin_start": 927.3,
            "bin_end": 991.2,
            "count": 1
           },
           {
            "bin_start": 991.2,
            "bin_end": 1055.1,
            "count": 0
           },
           {
            "bin_start": 1055.1,
            "bin_end": 1119,
            "count": 1
           }
          ]
         }
        },
        {
         "name": "median_age",
         "dtype": "float64",
         "stats": {
          "unique_count": 5,
          "nan_count": 0,
          "min": "33.6",
          "max": "38.1",
          "histogram": [
           {
            "bin_start": 33.6,
            "bin_end": 34.050000000000004,
            "count": 1
           },
           {
            "bin_start": 34.050000000000004,
            "bin_end": 34.5,
            "count": 0
           },
           {
            "bin_start": 34.5,
            "bin_end": 34.95,
            "count": 0
           },
           {
            "bin_start": 34.95,
            "bin_end": 35.4,
            "count": 0
           },
           {
            "bin_start": 35.4,
            "bin_end": 35.85,
            "count": 1
           },
           {
            "bin_start": 35.85,
            "bin_end": 36.300000000000004,
            "count": 1
           },
           {
            "bin_start": 36.300000000000004,
            "bin_end": 36.75,
            "count": 0
           },
           {
            "bin_start": 36.75,
            "bin_end": 37.2,
            "count": 0
           },
           {
            "bin_start": 37.2,
            "bin_end": 37.65,
            "count": 1
           },
           {
            "bin_start": 37.65,
            "bin_end": 38.1,
            "count": 1
           }
          ]
         }
        },
        {
         "name": "percent_other",
         "dtype": "int64",
         "stats": {
          "unique_count": 4,
          "nan_count": 0,
          "min": "2",
          "max": "23",
          "histogram": [
           {
            "bin_start": 2,
            "bin_end": 4.1,
            "count": 3
           },
           {
            "bin_start": 4.1,
            "bin_end": 6.2,
            "count": 1
           },
           {
            "bin_start": 6.2,
            "bin_end": 8.3,
            "count": 0
           },
           {
            "bin_start": 8.3,
            "bin_end": 10.4,
            "count": 0
           },
           {
            "bin_start": 10.4,
            "bin_end": 12.5,
            "count": 0
           },
           {
            "bin_start": 12.5,
            "bin_end": 14.600000000000001,
            "count": 0
           },
           {
            "bin_start": 14.600000000000001,
            "bin_end": 16.700000000000003,
            "count": 0
           },
           {
            "bin_start": 16.700000000000003,
            "bin_end": 18.8,
            "count": 0
           },
           {
            "bin_start": 18.8,
            "bin_end": 20.900000000000002,
            "count": 0
           },
           {
            "bin_start": 20.900000000000002,
            "bin_end": 23,
            "count": 1
           }
          ]
         }
        },
        {
         "name": "_deepnote_index_column",
         "dtype": "int64"
        }
       ],
       "rows_top": [
        {
         "State": "alabama",
         "total_population": 4799277,
         "percent_white": 67,
         "percent_black": 26,
         "percent_asian": 1,
         "percent_hispanic": 4,
         "per_capita_income": 23680,
         "median_rent": 501,
         "median_age": 38.1,
         "percent_other": 2,
         "_deepnote_index_column": 0
        },
        {
         "State": "alaska",
         "total_population": 720316,
         "percent_white": 63,
         "percent_black": 3,
         "percent_asian": 5,
         "percent_hispanic": 6,
         "per_capita_income": 32651,
         "median_rent": 978,
         "median_age": 33.6,
         "percent_other": 23,
         "_deepnote_index_column": 1
        },
        {
         "State": "arizona",
         "total_population": 6479703,
         "percent_white": 57,
         "percent_black": 4,
         "percent_asian": 3,
         "percent_hispanic": 30,
         "per_capita_income": 25358,
         "median_rent": 747,
         "median_age": 36.3,
         "percent_other": 6,
         "_deepnote_index_column": 2
        },
        {
         "State": "arkansas",
         "total_population": 2933369,
         "percent_white": 74,
         "percent_black": 15,
         "percent_asian": 1,
         "percent_hispanic": 7,
         "per_capita_income": 22170,
         "median_rent": 480,
         "median_age": 37.5,
         "percent_other": 3,
         "_deepnote_index_column": 3
        },
        {
         "State": "california",
         "total_population": 37659181,
         "percent_white": 40,
         "percent_black": 6,
         "percent_asian": 13,
         "percent_hispanic": 38,
         "per_capita_income": 29527,
         "median_rent": 1119,
         "median_age": 35.4,
         "percent_other": 3,
         "_deepnote_index_column": 4
        }
       ],
       "rows_bottom": null
      },
      "text/plain": "        State  total_population  percent_white  percent_black  percent_asian  \\\n0     alabama           4799277             67             26              1   \n1      alaska            720316             63              3              5   \n2     arizona           6479703             57              4              3   \n3    arkansas           2933369             74             15              1   \n4  california          37659181             40              6             13   \n\n   percent_hispanic  per_capita_income  median_rent  median_age  percent_other  \n0                 4              23680          501        38.1              2  \n1                 6              32651          978        33.6             23  \n2                30              25358          747        36.3              6  \n3                 7              22170          480        37.5              3  \n4                38              29527         1119        35.4              3  ",
      "text/html": "<div>\n<style scoped>\n    .dataframe tbody tr th:only-of-type {\n        vertical-align: middle;\n    }\n\n    .dataframe tbody tr th {\n        vertical-align: top;\n    }\n\n    .dataframe thead th {\n        text-align: right;\n    }\n</style>\n<table border=\"1\" class=\"dataframe\">\n  <thead>\n    <tr style=\"text-align: right;\">\n      <th></th>\n      <th>State</th>\n      <th>total_population</th>\n      <th>percent_white</th>\n      <th>percent_black</th>\n      <th>percent_asian</th>\n      <th>percent_hispanic</th>\n      <th>per_capita_income</th>\n      <th>median_rent</th>\n      <th>median_age</th>\n      <th>percent_other</th>\n    </tr>\n  </thead>\n  <tbody>\n    <tr>\n      <th>0</th>\n      <td>alabama</td>\n      <td>4799277</td>\n      <td>67</td>\n      <td>26</td>\n      <td>1</td>\n      <td>4</td>\n      <td>23680</td>\n      <td>501</td>\n      <td>38.1</td>\n      <td>2</td>\n    </tr>\n    <tr>\n      <th>1</th>\n      <td>alaska</td>\n      <td>720316</td>\n      <td>63</td>\n      <td>3</td>\n      <td>5</td>\n      <td>6</td>\n      <td>32651</td>\n      <td>978</td>\n      <td>33.6</td>\n      <td>23</td>\n    </tr>\n    <tr>\n      <th>2</th>\n      <td>arizona</td>\n      <td>6479703</td>\n      <td>57</td>\n      <td>4</td>\n      <td>3</td>\n      <td>30</td>\n      <td>25358</td>\n      <td>747</td>\n      <td>36.3</td>\n      <td>6</td>\n    </tr>\n    <tr>\n      <th>3</th>\n      <td>arkansas</td>\n      <td>2933369</td>\n      <td>74</td>\n      <td>15</td>\n      <td>1</td>\n      <td>7</td>\n      <td>22170</td>\n      <td>480</td>\n      <td>37.5</td>\n      <td>3</td>\n    </tr>\n    <tr>\n      <th>4</th>\n      <td>california</td>\n      <td>37659181</td>\n      <td>40</td>\n      <td>6</td>\n      <td>13</td>\n      <td>38</td>\n      <td>29527</td>\n      <td>1119</td>\n      <td>35.4</td>\n      <td>3</td>\n    </tr>\n  </tbody>\n</table>\n</div>"
     },
     "metadata": {}
    }
   ]
  },
  {
   "cell_type": "code",
   "metadata": {
    "collapsed": false,
    "cell_id": "00055-f0456ee4-ee94-4d83-a66f-b802dbd5a972",
    "deepnote_to_be_reexecuted": false,
    "source_hash": "19d87a1e",
    "execution_start": 1624848658795,
    "execution_millis": 9,
    "deepnote_cell_type": "code"
   },
   "source": "# We can now merge Demographic and Price mean data into one single data frame\ndf_merge = pd.merge(df_mean, df_demo, how='inner', on='State')\ndf_merge.head()",
   "execution_count": 41,
   "outputs": [
    {
     "output_type": "execute_result",
     "execution_count": 41,
     "data": {
      "application/vnd.deepnote.dataframe.v2+json": {
       "row_count": 0,
       "column_count": 20,
       "columns": [
        {
         "name": "State",
         "dtype": "object",
         "stats": {
          "unique_count": 0,
          "nan_count": 0,
          "categories": []
         }
        },
        {
         "name": "HighQ",
         "dtype": "float64",
         "stats": {
          "unique_count": 0,
          "nan_count": 0,
          "min": null,
          "max": null,
          "histogram": [
           {
            "bin_start": 0,
            "bin_end": 0.1,
            "count": 0
           },
           {
            "bin_start": 0.1,
            "bin_end": 0.2,
            "count": 0
           },
           {
            "bin_start": 0.2,
            "bin_end": 0.30000000000000004,
            "count": 0
           },
           {
            "bin_start": 0.30000000000000004,
            "bin_end": 0.4,
            "count": 0
           },
           {
            "bin_start": 0.4,
            "bin_end": 0.5,
            "count": 0
           },
           {
            "bin_start": 0.5,
            "bin_end": 0.6000000000000001,
            "count": 0
           },
           {
            "bin_start": 0.6000000000000001,
            "bin_end": 0.7000000000000001,
            "count": 0
           },
           {
            "bin_start": 0.7000000000000001,
            "bin_end": 0.8,
            "count": 0
           },
           {
            "bin_start": 0.8,
            "bin_end": 0.9,
            "count": 0
           },
           {
            "bin_start": 0.9,
            "bin_end": 1,
            "count": 0
           }
          ]
         }
        },
        {
         "name": "HighQN",
         "dtype": "float64",
         "stats": {
          "unique_count": 0,
          "nan_count": 0,
          "min": null,
          "max": null,
          "histogram": [
           {
            "bin_start": 0,
            "bin_end": 0.1,
            "count": 0
           },
           {
            "bin_start": 0.1,
            "bin_end": 0.2,
            "count": 0
           },
           {
            "bin_start": 0.2,
            "bin_end": 0.30000000000000004,
            "count": 0
           },
           {
            "bin_start": 0.30000000000000004,
            "bin_end": 0.4,
            "count": 0
           },
           {
            "bin_start": 0.4,
            "bin_end": 0.5,
            "count": 0
           },
           {
            "bin_start": 0.5,
            "bin_end": 0.6000000000000001,
            "count": 0
           },
           {
            "bin_start": 0.6000000000000001,
            "bin_end": 0.7000000000000001,
            "count": 0
           },
           {
            "bin_start": 0.7000000000000001,
            "bin_end": 0.8,
            "count": 0
           },
           {
            "bin_start": 0.8,
            "bin_end": 0.9,
            "count": 0
           },
           {
            "bin_start": 0.9,
            "bin_end": 1,
            "count": 0
           }
          ]
         }
        },
        {
         "name": "MedQ",
         "dtype": "float64",
         "stats": {
          "unique_count": 0,
          "nan_count": 0,
          "min": null,
          "max": null,
          "histogram": [
           {
            "bin_start": 0,
            "bin_end": 0.1,
            "count": 0
           },
           {
            "bin_start": 0.1,
            "bin_end": 0.2,
            "count": 0
           },
           {
            "bin_start": 0.2,
            "bin_end": 0.30000000000000004,
            "count": 0
           },
           {
            "bin_start": 0.30000000000000004,
            "bin_end": 0.4,
            "count": 0
           },
           {
            "bin_start": 0.4,
            "bin_end": 0.5,
            "count": 0
           },
           {
            "bin_start": 0.5,
            "bin_end": 0.6000000000000001,
            "count": 0
           },
           {
            "bin_start": 0.6000000000000001,
            "bin_end": 0.7000000000000001,
            "count": 0
           },
           {
            "bin_start": 0.7000000000000001,
            "bin_end": 0.8,
            "count": 0
           },
           {
            "bin_start": 0.8,
            "bin_end": 0.9,
            "count": 0
           },
           {
            "bin_start": 0.9,
            "bin_end": 1,
            "count": 0
           }
          ]
         }
        },
        {
         "name": "MedQN",
         "dtype": "float64",
         "stats": {
          "unique_count": 0,
          "nan_count": 0,
          "min": null,
          "max": null,
          "histogram": [
           {
            "bin_start": 0,
            "bin_end": 0.1,
            "count": 0
           },
           {
            "bin_start": 0.1,
            "bin_end": 0.2,
            "count": 0
           },
           {
            "bin_start": 0.2,
            "bin_end": 0.30000000000000004,
            "count": 0
           },
           {
            "bin_start": 0.30000000000000004,
            "bin_end": 0.4,
            "count": 0
           },
           {
            "bin_start": 0.4,
            "bin_end": 0.5,
            "count": 0
           },
           {
            "bin_start": 0.5,
            "bin_end": 0.6000000000000001,
            "count": 0
           },
           {
            "bin_start": 0.6000000000000001,
            "bin_end": 0.7000000000000001,
            "count": 0
           },
           {
            "bin_start": 0.7000000000000001,
            "bin_end": 0.8,
            "count": 0
           },
           {
            "bin_start": 0.8,
            "bin_end": 0.9,
            "count": 0
           },
           {
            "bin_start": 0.9,
            "bin_end": 1,
            "count": 0
           }
          ]
         }
        },
        {
         "name": "LowQ",
         "dtype": "float64",
         "stats": {
          "unique_count": 0,
          "nan_count": 0,
          "min": null,
          "max": null,
          "histogram": [
           {
            "bin_start": 0,
            "bin_end": 0.1,
            "count": 0
           },
           {
            "bin_start": 0.1,
            "bin_end": 0.2,
            "count": 0
           },
           {
            "bin_start": 0.2,
            "bin_end": 0.30000000000000004,
            "count": 0
           },
           {
            "bin_start": 0.30000000000000004,
            "bin_end": 0.4,
            "count": 0
           },
           {
            "bin_start": 0.4,
            "bin_end": 0.5,
            "count": 0
           },
           {
            "bin_start": 0.5,
            "bin_end": 0.6000000000000001,
            "count": 0
           },
           {
            "bin_start": 0.6000000000000001,
            "bin_end": 0.7000000000000001,
            "count": 0
           },
           {
            "bin_start": 0.7000000000000001,
            "bin_end": 0.8,
            "count": 0
           },
           {
            "bin_start": 0.8,
            "bin_end": 0.9,
            "count": 0
           },
           {
            "bin_start": 0.9,
            "bin_end": 1,
            "count": 0
           }
          ]
         }
        },
        {
         "name": "LowQN",
         "dtype": "float64",
         "stats": {
          "unique_count": 0,
          "nan_count": 0,
          "min": null,
          "max": null,
          "histogram": [
           {
            "bin_start": 0,
            "bin_end": 0.1,
            "count": 0
           },
           {
            "bin_start": 0.1,
            "bin_end": 0.2,
            "count": 0
           },
           {
            "bin_start": 0.2,
            "bin_end": 0.30000000000000004,
            "count": 0
           },
           {
            "bin_start": 0.30000000000000004,
            "bin_end": 0.4,
            "count": 0
           },
           {
            "bin_start": 0.4,
            "bin_end": 0.5,
            "count": 0
           },
           {
            "bin_start": 0.5,
            "bin_end": 0.6000000000000001,
            "count": 0
           },
           {
            "bin_start": 0.6000000000000001,
            "bin_end": 0.7000000000000001,
            "count": 0
           },
           {
            "bin_start": 0.7000000000000001,
            "bin_end": 0.8,
            "count": 0
           },
           {
            "bin_start": 0.8,
            "bin_end": 0.9,
            "count": 0
           },
           {
            "bin_start": 0.9,
            "bin_end": 1,
            "count": 0
           }
          ]
         }
        },
        {
         "name": "year",
         "dtype": "float64",
         "stats": {
          "unique_count": 0,
          "nan_count": 0,
          "min": null,
          "max": null,
          "histogram": [
           {
            "bin_start": 0,
            "bin_end": 0.1,
            "count": 0
           },
           {
            "bin_start": 0.1,
            "bin_end": 0.2,
            "count": 0
           },
           {
            "bin_start": 0.2,
            "bin_end": 0.30000000000000004,
            "count": 0
           },
           {
            "bin_start": 0.30000000000000004,
            "bin_end": 0.4,
            "count": 0
           },
           {
            "bin_start": 0.4,
            "bin_end": 0.5,
            "count": 0
           },
           {
            "bin_start": 0.5,
            "bin_end": 0.6000000000000001,
            "count": 0
           },
           {
            "bin_start": 0.6000000000000001,
            "bin_end": 0.7000000000000001,
            "count": 0
           },
           {
            "bin_start": 0.7000000000000001,
            "bin_end": 0.8,
            "count": 0
           },
           {
            "bin_start": 0.8,
            "bin_end": 0.9,
            "count": 0
           },
           {
            "bin_start": 0.9,
            "bin_end": 1,
            "count": 0
           }
          ]
         }
        },
        {
         "name": "month",
         "dtype": "float64",
         "stats": {
          "unique_count": 0,
          "nan_count": 0,
          "min": null,
          "max": null,
          "histogram": [
           {
            "bin_start": 0,
            "bin_end": 0.1,
            "count": 0
           },
           {
            "bin_start": 0.1,
            "bin_end": 0.2,
            "count": 0
           },
           {
            "bin_start": 0.2,
            "bin_end": 0.30000000000000004,
            "count": 0
           },
           {
            "bin_start": 0.30000000000000004,
            "bin_end": 0.4,
            "count": 0
           },
           {
            "bin_start": 0.4,
            "bin_end": 0.5,
            "count": 0
           },
           {
            "bin_start": 0.5,
            "bin_end": 0.6000000000000001,
            "count": 0
           },
           {
            "bin_start": 0.6000000000000001,
            "bin_end": 0.7000000000000001,
            "count": 0
           },
           {
            "bin_start": 0.7000000000000001,
            "bin_end": 0.8,
            "count": 0
           },
           {
            "bin_start": 0.8,
            "bin_end": 0.9,
            "count": 0
           },
           {
            "bin_start": 0.9,
            "bin_end": 1,
            "count": 0
           }
          ]
         }
        },
        {
         "name": "week",
         "dtype": "float64",
         "stats": {
          "unique_count": 0,
          "nan_count": 0,
          "min": null,
          "max": null,
          "histogram": [
           {
            "bin_start": 0,
            "bin_end": 0.1,
            "count": 0
           },
           {
            "bin_start": 0.1,
            "bin_end": 0.2,
            "count": 0
           },
           {
            "bin_start": 0.2,
            "bin_end": 0.30000000000000004,
            "count": 0
           },
           {
            "bin_start": 0.30000000000000004,
            "bin_end": 0.4,
            "count": 0
           },
           {
            "bin_start": 0.4,
            "bin_end": 0.5,
            "count": 0
           },
           {
            "bin_start": 0.5,
            "bin_end": 0.6000000000000001,
            "count": 0
           },
           {
            "bin_start": 0.6000000000000001,
            "bin_end": 0.7000000000000001,
            "count": 0
           },
           {
            "bin_start": 0.7000000000000001,
            "bin_end": 0.8,
            "count": 0
           },
           {
            "bin_start": 0.8,
            "bin_end": 0.9,
            "count": 0
           },
           {
            "bin_start": 0.9,
            "bin_end": 1,
            "count": 0
           }
          ]
         }
        },
        {
         "name": "weekday",
         "dtype": "float64",
         "stats": {
          "unique_count": 0,
          "nan_count": 0,
          "min": null,
          "max": null,
          "histogram": [
           {
            "bin_start": 0,
            "bin_end": 0.1,
            "count": 0
           },
           {
            "bin_start": 0.1,
            "bin_end": 0.2,
            "count": 0
           },
           {
            "bin_start": 0.2,
            "bin_end": 0.30000000000000004,
            "count": 0
           },
           {
            "bin_start": 0.30000000000000004,
            "bin_end": 0.4,
            "count": 0
           },
           {
            "bin_start": 0.4,
            "bin_end": 0.5,
            "count": 0
           },
           {
            "bin_start": 0.5,
            "bin_end": 0.6000000000000001,
            "count": 0
           },
           {
            "bin_start": 0.6000000000000001,
            "bin_end": 0.7000000000000001,
            "count": 0
           },
           {
            "bin_start": 0.7000000000000001,
            "bin_end": 0.8,
            "count": 0
           },
           {
            "bin_start": 0.8,
            "bin_end": 0.9,
            "count": 0
           },
           {
            "bin_start": 0.9,
            "bin_end": 1,
            "count": 0
           }
          ]
         }
        },
        {
         "name": "total_population",
         "dtype": "int64",
         "stats": {
          "unique_count": 0,
          "nan_count": 0,
          "min": null,
          "max": null,
          "histogram": [
           {
            "bin_start": 0,
            "bin_end": 0.1,
            "count": 0
           },
           {
            "bin_start": 0.1,
            "bin_end": 0.2,
            "count": 0
           },
           {
            "bin_start": 0.2,
            "bin_end": 0.30000000000000004,
            "count": 0
           },
           {
            "bin_start": 0.30000000000000004,
            "bin_end": 0.4,
            "count": 0
           },
           {
            "bin_start": 0.4,
            "bin_end": 0.5,
            "count": 0
           },
           {
            "bin_start": 0.5,
            "bin_end": 0.6000000000000001,
            "count": 0
           },
           {
            "bin_start": 0.6000000000000001,
            "bin_end": 0.7000000000000001,
            "count": 0
           },
           {
            "bin_start": 0.7000000000000001,
            "bin_end": 0.8,
            "count": 0
           },
           {
            "bin_start": 0.8,
            "bin_end": 0.9,
            "count": 0
           },
           {
            "bin_start": 0.9,
            "bin_end": 1,
            "count": 0
           }
          ]
         }
        },
        {
         "name": "percent_white",
         "dtype": "int64",
         "stats": {
          "unique_count": 0,
          "nan_count": 0,
          "min": null,
          "max": null,
          "histogram": [
           {
            "bin_start": 0,
            "bin_end": 0.1,
            "count": 0
           },
           {
            "bin_start": 0.1,
            "bin_end": 0.2,
            "count": 0
           },
           {
            "bin_start": 0.2,
            "bin_end": 0.30000000000000004,
            "count": 0
           },
           {
            "bin_start": 0.30000000000000004,
            "bin_end": 0.4,
            "count": 0
           },
           {
            "bin_start": 0.4,
            "bin_end": 0.5,
            "count": 0
           },
           {
            "bin_start": 0.5,
            "bin_end": 0.6000000000000001,
            "count": 0
           },
           {
            "bin_start": 0.6000000000000001,
            "bin_end": 0.7000000000000001,
            "count": 0
           },
           {
            "bin_start": 0.7000000000000001,
            "bin_end": 0.8,
            "count": 0
           },
           {
            "bin_start": 0.8,
            "bin_end": 0.9,
            "count": 0
           },
           {
            "bin_start": 0.9,
            "bin_end": 1,
            "count": 0
           }
          ]
         }
        },
        {
         "name": "percent_black",
         "dtype": "int64",
         "stats": {
          "unique_count": 0,
          "nan_count": 0,
          "min": null,
          "max": null,
          "histogram": [
           {
            "bin_start": 0,
            "bin_end": 0.1,
            "count": 0
           },
           {
            "bin_start": 0.1,
            "bin_end": 0.2,
            "count": 0
           },
           {
            "bin_start": 0.2,
            "bin_end": 0.30000000000000004,
            "count": 0
           },
           {
            "bin_start": 0.30000000000000004,
            "bin_end": 0.4,
            "count": 0
           },
           {
            "bin_start": 0.4,
            "bin_end": 0.5,
            "count": 0
           },
           {
            "bin_start": 0.5,
            "bin_end": 0.6000000000000001,
            "count": 0
           },
           {
            "bin_start": 0.6000000000000001,
            "bin_end": 0.7000000000000001,
            "count": 0
           },
           {
            "bin_start": 0.7000000000000001,
            "bin_end": 0.8,
            "count": 0
           },
           {
            "bin_start": 0.8,
            "bin_end": 0.9,
            "count": 0
           },
           {
            "bin_start": 0.9,
            "bin_end": 1,
            "count": 0
           }
          ]
         }
        },
        {
         "name": "percent_asian",
         "dtype": "int64",
         "stats": {
          "unique_count": 0,
          "nan_count": 0,
          "min": null,
          "max": null,
          "histogram": [
           {
            "bin_start": 0,
            "bin_end": 0.1,
            "count": 0
           },
           {
            "bin_start": 0.1,
            "bin_end": 0.2,
            "count": 0
           },
           {
            "bin_start": 0.2,
            "bin_end": 0.30000000000000004,
            "count": 0
           },
           {
            "bin_start": 0.30000000000000004,
            "bin_end": 0.4,
            "count": 0
           },
           {
            "bin_start": 0.4,
            "bin_end": 0.5,
            "count": 0
           },
           {
            "bin_start": 0.5,
            "bin_end": 0.6000000000000001,
            "count": 0
           },
           {
            "bin_start": 0.6000000000000001,
            "bin_end": 0.7000000000000001,
            "count": 0
           },
           {
            "bin_start": 0.7000000000000001,
            "bin_end": 0.8,
            "count": 0
           },
           {
            "bin_start": 0.8,
            "bin_end": 0.9,
            "count": 0
           },
           {
            "bin_start": 0.9,
            "bin_end": 1,
            "count": 0
           }
          ]
         }
        },
        {
         "name": "percent_hispanic",
         "dtype": "int64",
         "stats": {
          "unique_count": 0,
          "nan_count": 0,
          "min": null,
          "max": null,
          "histogram": [
           {
            "bin_start": 0,
            "bin_end": 0.1,
            "count": 0
           },
           {
            "bin_start": 0.1,
            "bin_end": 0.2,
            "count": 0
           },
           {
            "bin_start": 0.2,
            "bin_end": 0.30000000000000004,
            "count": 0
           },
           {
            "bin_start": 0.30000000000000004,
            "bin_end": 0.4,
            "count": 0
           },
           {
            "bin_start": 0.4,
            "bin_end": 0.5,
            "count": 0
           },
           {
            "bin_start": 0.5,
            "bin_end": 0.6000000000000001,
            "count": 0
           },
           {
            "bin_start": 0.6000000000000001,
            "bin_end": 0.7000000000000001,
            "count": 0
           },
           {
            "bin_start": 0.7000000000000001,
            "bin_end": 0.8,
            "count": 0
           },
           {
            "bin_start": 0.8,
            "bin_end": 0.9,
            "count": 0
           },
           {
            "bin_start": 0.9,
            "bin_end": 1,
            "count": 0
           }
          ]
         }
        },
        {
         "name": "per_capita_income",
         "dtype": "int64",
         "stats": {
          "unique_count": 0,
          "nan_count": 0,
          "min": null,
          "max": null,
          "histogram": [
           {
            "bin_start": 0,
            "bin_end": 0.1,
            "count": 0
           },
           {
            "bin_start": 0.1,
            "bin_end": 0.2,
            "count": 0
           },
           {
            "bin_start": 0.2,
            "bin_end": 0.30000000000000004,
            "count": 0
           },
           {
            "bin_start": 0.30000000000000004,
            "bin_end": 0.4,
            "count": 0
           },
           {
            "bin_start": 0.4,
            "bin_end": 0.5,
            "count": 0
           },
           {
            "bin_start": 0.5,
            "bin_end": 0.6000000000000001,
            "count": 0
           },
           {
            "bin_start": 0.6000000000000001,
            "bin_end": 0.7000000000000001,
            "count": 0
           },
           {
            "bin_start": 0.7000000000000001,
            "bin_end": 0.8,
            "count": 0
           },
           {
            "bin_start": 0.8,
            "bin_end": 0.9,
            "count": 0
           },
           {
            "bin_start": 0.9,
            "bin_end": 1,
            "count": 0
           }
          ]
         }
        },
        {
         "name": "median_rent",
         "dtype": "int64",
         "stats": {
          "unique_count": 0,
          "nan_count": 0,
          "min": null,
          "max": null,
          "histogram": [
           {
            "bin_start": 0,
            "bin_end": 0.1,
            "count": 0
           },
           {
            "bin_start": 0.1,
            "bin_end": 0.2,
            "count": 0
           },
           {
            "bin_start": 0.2,
            "bin_end": 0.30000000000000004,
            "count": 0
           },
           {
            "bin_start": 0.30000000000000004,
            "bin_end": 0.4,
            "count": 0
           },
           {
            "bin_start": 0.4,
            "bin_end": 0.5,
            "count": 0
           },
           {
            "bin_start": 0.5,
            "bin_end": 0.6000000000000001,
            "count": 0
           },
           {
            "bin_start": 0.6000000000000001,
            "bin_end": 0.7000000000000001,
            "count": 0
           },
           {
            "bin_start": 0.7000000000000001,
            "bin_end": 0.8,
            "count": 0
           },
           {
            "bin_start": 0.8,
            "bin_end": 0.9,
            "count": 0
           },
           {
            "bin_start": 0.9,
            "bin_end": 1,
            "count": 0
           }
          ]
         }
        },
        {
         "name": "median_age",
         "dtype": "float64",
         "stats": {
          "unique_count": 0,
          "nan_count": 0,
          "min": null,
          "max": null,
          "histogram": [
           {
            "bin_start": 0,
            "bin_end": 0.1,
            "count": 0
           },
           {
            "bin_start": 0.1,
            "bin_end": 0.2,
            "count": 0
           },
           {
            "bin_start": 0.2,
            "bin_end": 0.30000000000000004,
            "count": 0
           },
           {
            "bin_start": 0.30000000000000004,
            "bin_end": 0.4,
            "count": 0
           },
           {
            "bin_start": 0.4,
            "bin_end": 0.5,
            "count": 0
           },
           {
            "bin_start": 0.5,
            "bin_end": 0.6000000000000001,
            "count": 0
           },
           {
            "bin_start": 0.6000000000000001,
            "bin_end": 0.7000000000000001,
            "count": 0
           },
           {
            "bin_start": 0.7000000000000001,
            "bin_end": 0.8,
            "count": 0
           },
           {
            "bin_start": 0.8,
            "bin_end": 0.9,
            "count": 0
           },
           {
            "bin_start": 0.9,
            "bin_end": 1,
            "count": 0
           }
          ]
         }
        },
        {
         "name": "percent_other",
         "dtype": "int64",
         "stats": {
          "unique_count": 0,
          "nan_count": 0,
          "min": null,
          "max": null,
          "histogram": [
           {
            "bin_start": 0,
            "bin_end": 0.1,
            "count": 0
           },
           {
            "bin_start": 0.1,
            "bin_end": 0.2,
            "count": 0
           },
           {
            "bin_start": 0.2,
            "bin_end": 0.30000000000000004,
            "count": 0
           },
           {
            "bin_start": 0.30000000000000004,
            "bin_end": 0.4,
            "count": 0
           },
           {
            "bin_start": 0.4,
            "bin_end": 0.5,
            "count": 0
           },
           {
            "bin_start": 0.5,
            "bin_end": 0.6000000000000001,
            "count": 0
           },
           {
            "bin_start": 0.6000000000000001,
            "bin_end": 0.7000000000000001,
            "count": 0
           },
           {
            "bin_start": 0.7000000000000001,
            "bin_end": 0.8,
            "count": 0
           },
           {
            "bin_start": 0.8,
            "bin_end": 0.9,
            "count": 0
           },
           {
            "bin_start": 0.9,
            "bin_end": 1,
            "count": 0
           }
          ]
         }
        },
        {
         "name": "_deepnote_index_column",
         "dtype": "object"
        }
       ],
       "rows_top": [],
       "rows_bottom": null
      },
      "text/plain": "Empty DataFrame\nColumns: [State, HighQ, HighQN, MedQ, MedQN, LowQ, LowQN, year, month, week, weekday, total_population, percent_white, percent_black, percent_asian, percent_hispanic, per_capita_income, median_rent, median_age, percent_other]\nIndex: []",
      "text/html": "<div>\n<style scoped>\n    .dataframe tbody tr th:only-of-type {\n        vertical-align: middle;\n    }\n\n    .dataframe tbody tr th {\n        vertical-align: top;\n    }\n\n    .dataframe thead th {\n        text-align: right;\n    }\n</style>\n<table border=\"1\" class=\"dataframe\">\n  <thead>\n    <tr style=\"text-align: right;\">\n      <th></th>\n      <th>State</th>\n      <th>HighQ</th>\n      <th>HighQN</th>\n      <th>MedQ</th>\n      <th>MedQN</th>\n      <th>LowQ</th>\n      <th>LowQN</th>\n      <th>year</th>\n      <th>month</th>\n      <th>week</th>\n      <th>weekday</th>\n      <th>total_population</th>\n      <th>percent_white</th>\n      <th>percent_black</th>\n      <th>percent_asian</th>\n      <th>percent_hispanic</th>\n      <th>per_capita_income</th>\n      <th>median_rent</th>\n      <th>median_age</th>\n      <th>percent_other</th>\n    </tr>\n  </thead>\n  <tbody>\n  </tbody>\n</table>\n</div>"
     },
     "metadata": {}
    }
   ]
  },
  {
   "cell_type": "markdown",
   "source": "What happened? Why is there no data in the dataframe?",
   "metadata": {
    "cell_id": "00056-a407f539-7a75-4e4e-bf9e-30db5657f24c",
    "deepnote_cell_type": "markdown"
   }
  },
  {
   "cell_type": "code",
   "metadata": {
    "collapsed": true,
    "cell_id": "00057-c413585d-e00d-4741-be28-6a699763079d",
    "deepnote_to_be_reexecuted": false,
    "source_hash": "f0b780bc",
    "execution_start": 1624848705219,
    "execution_millis": 1,
    "deepnote_cell_type": "code"
   },
   "source": "# Change the State in df_mean to lower case\ndf_mean['State'] = df_mean['State'].str.lower()",
   "execution_count": 42,
   "outputs": []
  },
  {
   "cell_type": "code",
   "metadata": {
    "collapsed": false,
    "cell_id": "00058-be3507f0-552a-43ed-9047-f6e1fd3fc84e",
    "deepnote_to_be_reexecuted": false,
    "source_hash": "7bdd3457",
    "execution_start": 1624848706196,
    "execution_millis": 12,
    "deepnote_cell_type": "code"
   },
   "source": "df_mean.head()",
   "execution_count": 43,
   "outputs": [
    {
     "output_type": "execute_result",
     "execution_count": 43,
     "data": {
      "application/vnd.deepnote.dataframe.v2+json": {
       "row_count": 5,
       "column_count": 11,
       "columns": [
        {
         "name": "State",
         "dtype": "object",
         "stats": {
          "unique_count": 5,
          "nan_count": 0,
          "categories": [
           {
            "name": "alabama",
            "count": 1
           },
           {
            "name": "alaska",
            "count": 1
           },
           {
            "name": "3 others",
            "count": 3
           }
          ]
         }
        },
        {
         "name": "HighQ",
         "dtype": "float64",
         "stats": {
          "unique_count": 5,
          "nan_count": 0,
          "min": "245.3761247216035",
          "max": "348.05614699331875",
          "histogram": [
           {
            "bin_start": 245.3761247216035,
            "bin_end": 255.64412694877504,
            "count": 1
           },
           {
            "bin_start": 255.64412694877504,
            "bin_end": 265.9121291759466,
            "count": 0
           },
           {
            "bin_start": 265.9121291759466,
            "bin_end": 276.1801314031181,
            "count": 0
           },
           {
            "bin_start": 276.1801314031181,
            "bin_end": 286.4481336302896,
            "count": 0
           },
           {
            "bin_start": 286.4481336302896,
            "bin_end": 296.71613585746115,
            "count": 1
           },
           {
            "bin_start": 296.71613585746115,
            "bin_end": 306.98413808463266,
            "count": 1
           },
           {
            "bin_start": 306.98413808463266,
            "bin_end": 317.25214031180417,
            "count": 0
           },
           {
            "bin_start": 317.25214031180417,
            "bin_end": 327.52014253897573,
            "count": 0
           },
           {
            "bin_start": 327.52014253897573,
            "bin_end": 337.78814476614724,
            "count": 0
           },
           {
            "bin_start": 337.78814476614724,
            "bin_end": 348.05614699331875,
            "count": 2
           }
          ]
         }
        },
        {
         "name": "HighQN",
         "dtype": "float64",
         "stats": {
          "unique_count": 5,
          "nan_count": 0,
          "min": "321.24498886414256",
          "max": "14947.073496659243",
          "histogram": [
           {
            "bin_start": 321.24498886414256,
            "bin_end": 1783.8278396436526,
            "count": 3
           },
           {
            "bin_start": 1783.8278396436526,
            "bin_end": 3246.4106904231626,
            "count": 1
           },
           {
            "bin_start": 3246.4106904231626,
            "bin_end": 4708.993541202672,
            "count": 0
           },
           {
            "bin_start": 4708.993541202672,
            "bin_end": 6171.576391982182,
            "count": 0
           },
           {
            "bin_start": 6171.576391982182,
            "bin_end": 7634.159242761692,
            "count": 0
           },
           {
            "bin_start": 7634.159242761692,
            "bin_end": 9096.742093541201,
            "count": 0
           },
           {
            "bin_start": 9096.742093541201,
            "bin_end": 10559.324944320711,
            "count": 0
           },
           {
            "bin_start": 10559.324944320711,
            "bin_end": 12021.907795100222,
            "count": 0
           },
           {
            "bin_start": 12021.907795100222,
            "bin_end": 13484.490645879732,
            "count": 0
           },
           {
            "bin_start": 13484.490645879732,
            "bin_end": 14947.073496659243,
            "count": 1
           }
          ]
         }
        },
        {
         "name": "MedQ",
         "dtype": "float64",
         "stats": {
          "unique_count": 5,
          "nan_count": 0,
          "min": "190.41465478841857",
          "max": "262.0463919821825",
          "histogram": [
           {
            "bin_start": 190.41465478841857,
            "bin_end": 197.57782850779498,
            "count": 2
           },
           {
            "bin_start": 197.57782850779498,
            "bin_end": 204.74100222717135,
            "count": 1
           },
           {
            "bin_start": 204.74100222717135,
            "bin_end": 211.90417594654775,
            "count": 1
           },
           {
            "bin_start": 211.90417594654775,
            "bin_end": 219.06734966592416,
            "count": 0
           },
           {
            "bin_start": 219.06734966592416,
            "bin_end": 226.23052338530056,
            "count": 0
           },
           {
            "bin_start": 226.23052338530056,
            "bin_end": 233.39369710467693,
            "count": 0
           },
           {
            "bin_start": 233.39369710467693,
            "bin_end": 240.55687082405333,
            "count": 0
           },
           {
            "bin_start": 240.55687082405333,
            "bin_end": 247.7200445434297,
            "count": 0
           },
           {
            "bin_start": 247.7200445434297,
            "bin_end": 254.8832182628061,
            "count": 0
           },
           {
            "bin_start": 254.8832182628061,
            "bin_end": 262.0463919821825,
            "count": 1
           }
          ]
         }
        },
        {
         "name": "MedQN",
         "dtype": "float64",
         "stats": {
          "unique_count": 5,
          "nan_count": 0,
          "min": "407.91759465478845",
          "max": "16769.821826280622",
          "histogram": [
           {
            "bin_start": 407.91759465478845,
            "bin_end": 2044.108017817372,
            "count": 3
           },
           {
            "bin_start": 2044.108017817372,
            "bin_end": 3680.2984409799556,
            "count": 1
           },
           {
            "bin_start": 3680.2984409799556,
            "bin_end": 5316.48886414254,
            "count": 0
           },
           {
            "bin_start": 5316.48886414254,
            "bin_end": 6952.679287305123,
            "count": 0
           },
           {
            "bin_start": 6952.679287305123,
            "bin_end": 8588.869710467705,
            "count": 0
           },
           {
            "bin_start": 8588.869710467705,
            "bin_end": 10225.06013363029,
            "count": 0
           },
           {
            "bin_start": 10225.06013363029,
            "bin_end": 11861.250556792875,
            "count": 0
           },
           {
            "bin_start": 11861.250556792875,
            "bin_end": 13497.440979955456,
            "count": 0
           },
           {
            "bin_start": 13497.440979955456,
            "bin_end": 15133.63140311804,
            "count": 0
           },
           {
            "bin_start": 15133.63140311804,
            "bin_end": 16769.821826280622,
            "count": 1
           }
          ]
         }
        },
        {
         "name": "LowQ",
         "dtype": "float64",
         "stats": {
          "unique_count": 5,
          "nan_count": 0,
          "min": "126.77126948774998",
          "max": "394.6539643652535",
          "histogram": [
           {
            "bin_start": 126.77126948774998,
            "bin_end": 153.55953897550032,
            "count": 2
           },
           {
            "bin_start": 153.55953897550032,
            "bin_end": 180.3478084632507,
            "count": 0
           },
           {
            "bin_start": 180.3478084632507,
            "bin_end": 207.13607795100103,
            "count": 2
           },
           {
            "bin_start": 207.13607795100103,
            "bin_end": 233.9243474387514,
            "count": 0
           },
           {
            "bin_start": 233.9243474387514,
            "bin_end": 260.7126169265017,
            "count": 0
           },
           {
            "bin_start": 260.7126169265017,
            "bin_end": 287.5008864142521,
            "count": 0
           },
           {
            "bin_start": 287.5008864142521,
            "bin_end": 314.28915590200245,
            "count": 0
           },
           {
            "bin_start": 314.28915590200245,
            "bin_end": 341.07742538975276,
            "count": 0
           },
           {
            "bin_start": 341.07742538975276,
            "bin_end": 367.86569487750313,
            "count": 0
           },
           {
            "bin_start": 367.86569487750313,
            "bin_end": 394.6539643652535,
            "count": 1
           }
          ]
         }
        },
        {
         "name": "LowQN",
         "dtype": "float64",
         "stats": {
          "unique_count": 5,
          "nan_count": 0,
          "min": "32.334075723830736",
          "max": "976.2984409799554",
          "histogram": [
           {
            "bin_start": 32.334075723830736,
            "bin_end": 126.73051224944321,
            "count": 1
           },
           {
            "bin_start": 126.73051224944321,
            "bin_end": 221.12694877505567,
            "count": 2
           },
           {
            "bin_start": 221.12694877505567,
            "bin_end": 315.52338530066817,
            "count": 1
           },
           {
            "bin_start": 315.52338530066817,
            "bin_end": 409.9198218262806,
            "count": 0
           },
           {
            "bin_start": 409.9198218262806,
            "bin_end": 504.31625835189305,
            "count": 0
           },
           {
            "bin_start": 504.31625835189305,
            "bin_end": 598.7126948775057,
            "count": 0
           },
           {
            "bin_start": 598.7126948775057,
            "bin_end": 693.1091314031181,
            "count": 0
           },
           {
            "bin_start": 693.1091314031181,
            "bin_end": 787.5055679287306,
            "count": 0
           },
           {
            "bin_start": 787.5055679287306,
            "bin_end": 881.902004454343,
            "count": 0
           },
           {
            "bin_start": 881.902004454343,
            "bin_end": 976.2984409799554,
            "count": 1
           }
          ]
         }
        },
        {
         "name": "year",
         "dtype": "float64",
         "stats": {
          "unique_count": 1,
          "nan_count": 0,
          "min": "2014.1670378619153",
          "max": "2014.1670378619153",
          "histogram": [
           {
            "bin_start": 2013.6670378619153,
            "bin_end": 2013.7670378619152,
            "count": 0
           },
           {
            "bin_start": 2013.7670378619152,
            "bin_end": 2013.8670378619154,
            "count": 0
           },
           {
            "bin_start": 2013.8670378619154,
            "bin_end": 2013.9670378619153,
            "count": 0
           },
           {
            "bin_start": 2013.9670378619153,
            "bin_end": 2014.0670378619154,
            "count": 0
           },
           {
            "bin_start": 2014.0670378619154,
            "bin_end": 2014.1670378619153,
            "count": 0
           },
           {
            "bin_start": 2014.1670378619153,
            "bin_end": 2014.2670378619152,
            "count": 5
           },
           {
            "bin_start": 2014.2670378619152,
            "bin_end": 2014.3670378619154,
            "count": 0
           },
           {
            "bin_start": 2014.3670378619154,
            "bin_end": 2014.4670378619153,
            "count": 0
           },
           {
            "bin_start": 2014.4670378619153,
            "bin_end": 2014.5670378619154,
            "count": 0
           },
           {
            "bin_start": 2014.5670378619154,
            "bin_end": 2014.6670378619153,
            "count": 0
           }
          ]
         }
        },
        {
         "name": "month",
         "dtype": "float64",
         "stats": {
          "unique_count": 1,
          "nan_count": 0,
          "min": "5.953229398663697",
          "max": "5.953229398663697",
          "histogram": [
           {
            "bin_start": 5.453229398663697,
            "bin_end": 5.553229398663697,
            "count": 0
           },
           {
            "bin_start": 5.553229398663697,
            "bin_end": 5.653229398663697,
            "count": 0
           },
           {
            "bin_start": 5.653229398663697,
            "bin_end": 5.753229398663697,
            "count": 0
           },
           {
            "bin_start": 5.753229398663697,
            "bin_end": 5.853229398663697,
            "count": 0
           },
           {
            "bin_start": 5.853229398663697,
            "bin_end": 5.953229398663697,
            "count": 0
           },
           {
            "bin_start": 5.953229398663697,
            "bin_end": 6.053229398663698,
            "count": 5
           },
           {
            "bin_start": 6.053229398663698,
            "bin_end": 6.153229398663697,
            "count": 0
           },
           {
            "bin_start": 6.153229398663697,
            "bin_end": 6.253229398663697,
            "count": 0
           },
           {
            "bin_start": 6.253229398663697,
            "bin_end": 6.353229398663697,
            "count": 0
           },
           {
            "bin_start": 6.353229398663697,
            "bin_end": 6.453229398663697,
            "count": 0
           }
          ]
         }
        },
        {
         "name": "week",
         "dtype": "float64",
         "stats": {
          "unique_count": 1,
          "nan_count": 0,
          "min": "23.812917594654788",
          "max": "23.812917594654788",
          "histogram": [
           {
            "bin_start": 23.312917594654788,
            "bin_end": 23.41291759465479,
            "count": 0
           },
           {
            "bin_start": 23.41291759465479,
            "bin_end": 23.512917594654787,
            "count": 0
           },
           {
            "bin_start": 23.512917594654787,
            "bin_end": 23.61291759465479,
            "count": 0
           },
           {
            "bin_start": 23.61291759465479,
            "bin_end": 23.712917594654787,
            "count": 0
           },
           {
            "bin_start": 23.712917594654787,
            "bin_end": 23.812917594654788,
            "count": 0
           },
           {
            "bin_start": 23.812917594654788,
            "bin_end": 23.91291759465479,
            "count": 5
           },
           {
            "bin_start": 23.91291759465479,
            "bin_end": 24.012917594654787,
            "count": 0
           },
           {
            "bin_start": 24.012917594654787,
            "bin_end": 24.11291759465479,
            "count": 0
           },
           {
            "bin_start": 24.11291759465479,
            "bin_end": 24.212917594654787,
            "count": 0
           },
           {
            "bin_start": 24.212917594654787,
            "bin_end": 24.312917594654788,
            "count": 0
           }
          ]
         }
        },
        {
         "name": "weekday",
         "dtype": "float64",
         "stats": {
          "unique_count": 1,
          "nan_count": 0,
          "min": "2.9955456570155903",
          "max": "2.9955456570155903",
          "histogram": [
           {
            "bin_start": 2.4955456570155903,
            "bin_end": 2.5955456570155904,
            "count": 0
           },
           {
            "bin_start": 2.5955456570155904,
            "bin_end": 2.6955456570155905,
            "count": 0
           },
           {
            "bin_start": 2.6955456570155905,
            "bin_end": 2.79554565701559,
            "count": 0
           },
           {
            "bin_start": 2.79554565701559,
            "bin_end": 2.89554565701559,
            "count": 0
           },
           {
            "bin_start": 2.89554565701559,
            "bin_end": 2.9955456570155903,
            "count": 0
           },
           {
            "bin_start": 2.9955456570155903,
            "bin_end": 3.0955456570155904,
            "count": 5
           },
           {
            "bin_start": 3.0955456570155904,
            "bin_end": 3.1955456570155905,
            "count": 0
           },
           {
            "bin_start": 3.1955456570155905,
            "bin_end": 3.29554565701559,
            "count": 0
           },
           {
            "bin_start": 3.29554565701559,
            "bin_end": 3.39554565701559,
            "count": 0
           },
           {
            "bin_start": 3.39554565701559,
            "bin_end": 3.4955456570155903,
            "count": 0
           }
          ]
         }
        },
        {
         "name": "_deepnote_index_column",
         "dtype": "int64"
        }
       ],
       "rows_top": [
        {
         "State": "alabama",
         "HighQ": 339.56184855233914,
         "HighQN": 1379.4142538975502,
         "MedQ": 204.60616926503332,
         "MedQN": 1270.3518930957684,
         "LowQ": 145.97850779510173,
         "LowQN": 161.14922048997772,
         "year": 2014.1670378619153,
         "month": 5.953229398663697,
         "week": 23.812917594654788,
         "weekday": 2.9955456570155903,
         "_deepnote_index_column": 0
        },
        {
         "State": "alaska",
         "HighQ": 291.4820044543429,
         "HighQN": 321.24498886414256,
         "MedQ": 262.0463919821825,
         "MedQN": 407.91759465478845,
         "LowQ": 394.6539643652535,
         "LowQN": 32.334075723830736,
         "year": 2014.1670378619153,
         "month": 5.953229398663697,
         "week": 23.812917594654788,
         "weekday": 2.9955456570155903,
         "_deepnote_index_column": 1
        },
        {
         "State": "arizona",
         "HighQ": 300.6674832962139,
         "HighQN": 2392.4654788418707,
         "MedQ": 209.36534521158114,
         "MedQN": 2137.41425389755,
         "LowQ": 188.5001336302889,
         "LowQN": 279.0066815144766,
         "year": 2014.1670378619153,
         "month": 5.953229398663697,
         "week": 23.812917594654788,
         "weekday": 2.9955456570155903,
         "_deepnote_index_column": 2
        },
        {
         "State": "arkansas",
         "HighQ": 348.05614699331875,
         "HighQN": 751.988864142539,
         "MedQ": 190.41465478841857,
         "MedQN": 724.6837416481069,
         "LowQ": 126.77126948774998,
         "LowQN": 135.90200445434297,
         "year": 2014.1670378619153,
         "month": 5.953229398663697,
         "week": 23.812917594654788,
         "weekday": 2.9955456570155903,
         "_deepnote_index_column": 3
        },
        {
         "State": "california",
         "HighQ": 245.3761247216035,
         "HighQN": 14947.073496659243,
         "MedQ": 191.2689086859689,
         "MedQN": 16769.821826280622,
         "LowQ": 189.78358574610345,
         "LowQN": 976.2984409799554,
         "year": 2014.1670378619153,
         "month": 5.953229398663697,
         "week": 23.812917594654788,
         "weekday": 2.9955456570155903,
         "_deepnote_index_column": 4
        }
       ],
       "rows_bottom": null
      },
      "text/plain": "        State       HighQ        HighQN        MedQ         MedQN        LowQ  \\\n0     alabama  339.561849   1379.414254  204.606169   1270.351893  145.978508   \n1      alaska  291.482004    321.244989  262.046392    407.917595  394.653964   \n2     arizona  300.667483   2392.465479  209.365345   2137.414254  188.500134   \n3    arkansas  348.056147    751.988864  190.414655    724.683742  126.771269   \n4  california  245.376125  14947.073497  191.268909  16769.821826  189.783586   \n\n        LowQN         year     month       week   weekday  \n0  161.149220  2014.167038  5.953229  23.812918  2.995546  \n1   32.334076  2014.167038  5.953229  23.812918  2.995546  \n2  279.006682  2014.167038  5.953229  23.812918  2.995546  \n3  135.902004  2014.167038  5.953229  23.812918  2.995546  \n4  976.298441  2014.167038  5.953229  23.812918  2.995546  ",
      "text/html": "<div>\n<style scoped>\n    .dataframe tbody tr th:only-of-type {\n        vertical-align: middle;\n    }\n\n    .dataframe tbody tr th {\n        vertical-align: top;\n    }\n\n    .dataframe thead th {\n        text-align: right;\n    }\n</style>\n<table border=\"1\" class=\"dataframe\">\n  <thead>\n    <tr style=\"text-align: right;\">\n      <th></th>\n      <th>State</th>\n      <th>HighQ</th>\n      <th>HighQN</th>\n      <th>MedQ</th>\n      <th>MedQN</th>\n      <th>LowQ</th>\n      <th>LowQN</th>\n      <th>year</th>\n      <th>month</th>\n      <th>week</th>\n      <th>weekday</th>\n    </tr>\n  </thead>\n  <tbody>\n    <tr>\n      <th>0</th>\n      <td>alabama</td>\n      <td>339.561849</td>\n      <td>1379.414254</td>\n      <td>204.606169</td>\n      <td>1270.351893</td>\n      <td>145.978508</td>\n      <td>161.149220</td>\n      <td>2014.167038</td>\n      <td>5.953229</td>\n      <td>23.812918</td>\n      <td>2.995546</td>\n    </tr>\n    <tr>\n      <th>1</th>\n      <td>alaska</td>\n      <td>291.482004</td>\n      <td>321.244989</td>\n      <td>262.046392</td>\n      <td>407.917595</td>\n      <td>394.653964</td>\n      <td>32.334076</td>\n      <td>2014.167038</td>\n      <td>5.953229</td>\n      <td>23.812918</td>\n      <td>2.995546</td>\n    </tr>\n    <tr>\n      <th>2</th>\n      <td>arizona</td>\n      <td>300.667483</td>\n      <td>2392.465479</td>\n      <td>209.365345</td>\n      <td>2137.414254</td>\n      <td>188.500134</td>\n      <td>279.006682</td>\n      <td>2014.167038</td>\n      <td>5.953229</td>\n      <td>23.812918</td>\n      <td>2.995546</td>\n    </tr>\n    <tr>\n      <th>3</th>\n      <td>arkansas</td>\n      <td>348.056147</td>\n      <td>751.988864</td>\n      <td>190.414655</td>\n      <td>724.683742</td>\n      <td>126.771269</td>\n      <td>135.902004</td>\n      <td>2014.167038</td>\n      <td>5.953229</td>\n      <td>23.812918</td>\n      <td>2.995546</td>\n    </tr>\n    <tr>\n      <th>4</th>\n      <td>california</td>\n      <td>245.376125</td>\n      <td>14947.073497</td>\n      <td>191.268909</td>\n      <td>16769.821826</td>\n      <td>189.783586</td>\n      <td>976.298441</td>\n      <td>2014.167038</td>\n      <td>5.953229</td>\n      <td>23.812918</td>\n      <td>2.995546</td>\n    </tr>\n  </tbody>\n</table>\n</div>"
     },
     "metadata": {}
    }
   ]
  },
  {
   "cell_type": "code",
   "metadata": {
    "collapsed": false,
    "cell_id": "00059-239ce105-6a2c-4dc8-adf1-3c50aaab1cb3",
    "deepnote_to_be_reexecuted": false,
    "source_hash": "a4fda6d6",
    "execution_start": 1624848713270,
    "execution_millis": 2,
    "deepnote_cell_type": "code"
   },
   "source": "# We can now merge Demographic and Price mean data into one single data frame\ndf_merge = pd.merge(df_mean, df_demo, how='inner', on='State')",
   "execution_count": 44,
   "outputs": []
  },
  {
   "cell_type": "code",
   "metadata": {
    "collapsed": false,
    "scrolled": false,
    "cell_id": "00060-8680c95c-f7f4-4d13-afb1-08ec3cafd2f1",
    "deepnote_to_be_reexecuted": false,
    "source_hash": "f94a2264",
    "execution_start": 1624848715539,
    "execution_millis": 20,
    "deepnote_cell_type": "code"
   },
   "source": "df_merge.head()",
   "execution_count": 45,
   "outputs": [
    {
     "output_type": "execute_result",
     "execution_count": 45,
     "data": {
      "application/vnd.deepnote.dataframe.v2+json": {
       "row_count": 5,
       "column_count": 20,
       "columns": [
        {
         "name": "State",
         "dtype": "object",
         "stats": {
          "unique_count": 5,
          "nan_count": 0,
          "categories": [
           {
            "name": "alabama",
            "count": 1
           },
           {
            "name": "alaska",
            "count": 1
           },
           {
            "name": "3 others",
            "count": 3
           }
          ]
         }
        },
        {
         "name": "HighQ",
         "dtype": "float64",
         "stats": {
          "unique_count": 5,
          "nan_count": 0,
          "min": "245.3761247216035",
          "max": "348.05614699331875",
          "histogram": [
           {
            "bin_start": 245.3761247216035,
            "bin_end": 255.64412694877504,
            "count": 1
           },
           {
            "bin_start": 255.64412694877504,
            "bin_end": 265.9121291759466,
            "count": 0
           },
           {
            "bin_start": 265.9121291759466,
            "bin_end": 276.1801314031181,
            "count": 0
           },
           {
            "bin_start": 276.1801314031181,
            "bin_end": 286.4481336302896,
            "count": 0
           },
           {
            "bin_start": 286.4481336302896,
            "bin_end": 296.71613585746115,
            "count": 1
           },
           {
            "bin_start": 296.71613585746115,
            "bin_end": 306.98413808463266,
            "count": 1
           },
           {
            "bin_start": 306.98413808463266,
            "bin_end": 317.25214031180417,
            "count": 0
           },
           {
            "bin_start": 317.25214031180417,
            "bin_end": 327.52014253897573,
            "count": 0
           },
           {
            "bin_start": 327.52014253897573,
            "bin_end": 337.78814476614724,
            "count": 0
           },
           {
            "bin_start": 337.78814476614724,
            "bin_end": 348.05614699331875,
            "count": 2
           }
          ]
         }
        },
        {
         "name": "HighQN",
         "dtype": "float64",
         "stats": {
          "unique_count": 5,
          "nan_count": 0,
          "min": "321.24498886414256",
          "max": "14947.073496659243",
          "histogram": [
           {
            "bin_start": 321.24498886414256,
            "bin_end": 1783.8278396436526,
            "count": 3
           },
           {
            "bin_start": 1783.8278396436526,
            "bin_end": 3246.4106904231626,
            "count": 1
           },
           {
            "bin_start": 3246.4106904231626,
            "bin_end": 4708.993541202672,
            "count": 0
           },
           {
            "bin_start": 4708.993541202672,
            "bin_end": 6171.576391982182,
            "count": 0
           },
           {
            "bin_start": 6171.576391982182,
            "bin_end": 7634.159242761692,
            "count": 0
           },
           {
            "bin_start": 7634.159242761692,
            "bin_end": 9096.742093541201,
            "count": 0
           },
           {
            "bin_start": 9096.742093541201,
            "bin_end": 10559.324944320711,
            "count": 0
           },
           {
            "bin_start": 10559.324944320711,
            "bin_end": 12021.907795100222,
            "count": 0
           },
           {
            "bin_start": 12021.907795100222,
            "bin_end": 13484.490645879732,
            "count": 0
           },
           {
            "bin_start": 13484.490645879732,
            "bin_end": 14947.073496659243,
            "count": 1
           }
          ]
         }
        },
        {
         "name": "MedQ",
         "dtype": "float64",
         "stats": {
          "unique_count": 5,
          "nan_count": 0,
          "min": "190.41465478841857",
          "max": "262.0463919821825",
          "histogram": [
           {
            "bin_start": 190.41465478841857,
            "bin_end": 197.57782850779498,
            "count": 2
           },
           {
            "bin_start": 197.57782850779498,
            "bin_end": 204.74100222717135,
            "count": 1
           },
           {
            "bin_start": 204.74100222717135,
            "bin_end": 211.90417594654775,
            "count": 1
           },
           {
            "bin_start": 211.90417594654775,
            "bin_end": 219.06734966592416,
            "count": 0
           },
           {
            "bin_start": 219.06734966592416,
            "bin_end": 226.23052338530056,
            "count": 0
           },
           {
            "bin_start": 226.23052338530056,
            "bin_end": 233.39369710467693,
            "count": 0
           },
           {
            "bin_start": 233.39369710467693,
            "bin_end": 240.55687082405333,
            "count": 0
           },
           {
            "bin_start": 240.55687082405333,
            "bin_end": 247.7200445434297,
            "count": 0
           },
           {
            "bin_start": 247.7200445434297,
            "bin_end": 254.8832182628061,
            "count": 0
           },
           {
            "bin_start": 254.8832182628061,
            "bin_end": 262.0463919821825,
            "count": 1
           }
          ]
         }
        },
        {
         "name": "MedQN",
         "dtype": "float64",
         "stats": {
          "unique_count": 5,
          "nan_count": 0,
          "min": "407.91759465478845",
          "max": "16769.821826280622",
          "histogram": [
           {
            "bin_start": 407.91759465478845,
            "bin_end": 2044.108017817372,
            "count": 3
           },
           {
            "bin_start": 2044.108017817372,
            "bin_end": 3680.2984409799556,
            "count": 1
           },
           {
            "bin_start": 3680.2984409799556,
            "bin_end": 5316.48886414254,
            "count": 0
           },
           {
            "bin_start": 5316.48886414254,
            "bin_end": 6952.679287305123,
            "count": 0
           },
           {
            "bin_start": 6952.679287305123,
            "bin_end": 8588.869710467705,
            "count": 0
           },
           {
            "bin_start": 8588.869710467705,
            "bin_end": 10225.06013363029,
            "count": 0
           },
           {
            "bin_start": 10225.06013363029,
            "bin_end": 11861.250556792875,
            "count": 0
           },
           {
            "bin_start": 11861.250556792875,
            "bin_end": 13497.440979955456,
            "count": 0
           },
           {
            "bin_start": 13497.440979955456,
            "bin_end": 15133.63140311804,
            "count": 0
           },
           {
            "bin_start": 15133.63140311804,
            "bin_end": 16769.821826280622,
            "count": 1
           }
          ]
         }
        },
        {
         "name": "LowQ",
         "dtype": "float64",
         "stats": {
          "unique_count": 5,
          "nan_count": 0,
          "min": "126.77126948774998",
          "max": "394.6539643652535",
          "histogram": [
           {
            "bin_start": 126.77126948774998,
            "bin_end": 153.55953897550032,
            "count": 2
           },
           {
            "bin_start": 153.55953897550032,
            "bin_end": 180.3478084632507,
            "count": 0
           },
           {
            "bin_start": 180.3478084632507,
            "bin_end": 207.13607795100103,
            "count": 2
           },
           {
            "bin_start": 207.13607795100103,
            "bin_end": 233.9243474387514,
            "count": 0
           },
           {
            "bin_start": 233.9243474387514,
            "bin_end": 260.7126169265017,
            "count": 0
           },
           {
            "bin_start": 260.7126169265017,
            "bin_end": 287.5008864142521,
            "count": 0
           },
           {
            "bin_start": 287.5008864142521,
            "bin_end": 314.28915590200245,
            "count": 0
           },
           {
            "bin_start": 314.28915590200245,
            "bin_end": 341.07742538975276,
            "count": 0
           },
           {
            "bin_start": 341.07742538975276,
            "bin_end": 367.86569487750313,
            "count": 0
           },
           {
            "bin_start": 367.86569487750313,
            "bin_end": 394.6539643652535,
            "count": 1
           }
          ]
         }
        },
        {
         "name": "LowQN",
         "dtype": "float64",
         "stats": {
          "unique_count": 5,
          "nan_count": 0,
          "min": "32.334075723830736",
          "max": "976.2984409799554",
          "histogram": [
           {
            "bin_start": 32.334075723830736,
            "bin_end": 126.73051224944321,
            "count": 1
           },
           {
            "bin_start": 126.73051224944321,
            "bin_end": 221.12694877505567,
            "count": 2
           },
           {
            "bin_start": 221.12694877505567,
            "bin_end": 315.52338530066817,
            "count": 1
           },
           {
            "bin_start": 315.52338530066817,
            "bin_end": 409.9198218262806,
            "count": 0
           },
           {
            "bin_start": 409.9198218262806,
            "bin_end": 504.31625835189305,
            "count": 0
           },
           {
            "bin_start": 504.31625835189305,
            "bin_end": 598.7126948775057,
            "count": 0
           },
           {
            "bin_start": 598.7126948775057,
            "bin_end": 693.1091314031181,
            "count": 0
           },
           {
            "bin_start": 693.1091314031181,
            "bin_end": 787.5055679287306,
            "count": 0
           },
           {
            "bin_start": 787.5055679287306,
            "bin_end": 881.902004454343,
            "count": 0
           },
           {
            "bin_start": 881.902004454343,
            "bin_end": 976.2984409799554,
            "count": 1
           }
          ]
         }
        },
        {
         "name": "year",
         "dtype": "float64",
         "stats": {
          "unique_count": 1,
          "nan_count": 0,
          "min": "2014.1670378619153",
          "max": "2014.1670378619153",
          "histogram": [
           {
            "bin_start": 2013.6670378619153,
            "bin_end": 2013.7670378619152,
            "count": 0
           },
           {
            "bin_start": 2013.7670378619152,
            "bin_end": 2013.8670378619154,
            "count": 0
           },
           {
            "bin_start": 2013.8670378619154,
            "bin_end": 2013.9670378619153,
            "count": 0
           },
           {
            "bin_start": 2013.9670378619153,
            "bin_end": 2014.0670378619154,
            "count": 0
           },
           {
            "bin_start": 2014.0670378619154,
            "bin_end": 2014.1670378619153,
            "count": 0
           },
           {
            "bin_start": 2014.1670378619153,
            "bin_end": 2014.2670378619152,
            "count": 5
           },
           {
            "bin_start": 2014.2670378619152,
            "bin_end": 2014.3670378619154,
            "count": 0
           },
           {
            "bin_start": 2014.3670378619154,
            "bin_end": 2014.4670378619153,
            "count": 0
           },
           {
            "bin_start": 2014.4670378619153,
            "bin_end": 2014.5670378619154,
            "count": 0
           },
           {
            "bin_start": 2014.5670378619154,
            "bin_end": 2014.6670378619153,
            "count": 0
           }
          ]
         }
        },
        {
         "name": "month",
         "dtype": "float64",
         "stats": {
          "unique_count": 1,
          "nan_count": 0,
          "min": "5.953229398663697",
          "max": "5.953229398663697",
          "histogram": [
           {
            "bin_start": 5.453229398663697,
            "bin_end": 5.553229398663697,
            "count": 0
           },
           {
            "bin_start": 5.553229398663697,
            "bin_end": 5.653229398663697,
            "count": 0
           },
           {
            "bin_start": 5.653229398663697,
            "bin_end": 5.753229398663697,
            "count": 0
           },
           {
            "bin_start": 5.753229398663697,
            "bin_end": 5.853229398663697,
            "count": 0
           },
           {
            "bin_start": 5.853229398663697,
            "bin_end": 5.953229398663697,
            "count": 0
           },
           {
            "bin_start": 5.953229398663697,
            "bin_end": 6.053229398663698,
            "count": 5
           },
           {
            "bin_start": 6.053229398663698,
            "bin_end": 6.153229398663697,
            "count": 0
           },
           {
            "bin_start": 6.153229398663697,
            "bin_end": 6.253229398663697,
            "count": 0
           },
           {
            "bin_start": 6.253229398663697,
            "bin_end": 6.353229398663697,
            "count": 0
           },
           {
            "bin_start": 6.353229398663697,
            "bin_end": 6.453229398663697,
            "count": 0
           }
          ]
         }
        },
        {
         "name": "week",
         "dtype": "float64",
         "stats": {
          "unique_count": 1,
          "nan_count": 0,
          "min": "23.812917594654788",
          "max": "23.812917594654788",
          "histogram": [
           {
            "bin_start": 23.312917594654788,
            "bin_end": 23.41291759465479,
            "count": 0
           },
           {
            "bin_start": 23.41291759465479,
            "bin_end": 23.512917594654787,
            "count": 0
           },
           {
            "bin_start": 23.512917594654787,
            "bin_end": 23.61291759465479,
            "count": 0
           },
           {
            "bin_start": 23.61291759465479,
            "bin_end": 23.712917594654787,
            "count": 0
           },
           {
            "bin_start": 23.712917594654787,
            "bin_end": 23.812917594654788,
            "count": 0
           },
           {
            "bin_start": 23.812917594654788,
            "bin_end": 23.91291759465479,
            "count": 5
           },
           {
            "bin_start": 23.91291759465479,
            "bin_end": 24.012917594654787,
            "count": 0
           },
           {
            "bin_start": 24.012917594654787,
            "bin_end": 24.11291759465479,
            "count": 0
           },
           {
            "bin_start": 24.11291759465479,
            "bin_end": 24.212917594654787,
            "count": 0
           },
           {
            "bin_start": 24.212917594654787,
            "bin_end": 24.312917594654788,
            "count": 0
           }
          ]
         }
        },
        {
         "name": "weekday",
         "dtype": "float64",
         "stats": {
          "unique_count": 1,
          "nan_count": 0,
          "min": "2.9955456570155903",
          "max": "2.9955456570155903",
          "histogram": [
           {
            "bin_start": 2.4955456570155903,
            "bin_end": 2.5955456570155904,
            "count": 0
           },
           {
            "bin_start": 2.5955456570155904,
            "bin_end": 2.6955456570155905,
            "count": 0
           },
           {
            "bin_start": 2.6955456570155905,
            "bin_end": 2.79554565701559,
            "count": 0
           },
           {
            "bin_start": 2.79554565701559,
            "bin_end": 2.89554565701559,
            "count": 0
           },
           {
            "bin_start": 2.89554565701559,
            "bin_end": 2.9955456570155903,
            "count": 0
           },
           {
            "bin_start": 2.9955456570155903,
            "bin_end": 3.0955456570155904,
            "count": 5
           },
           {
            "bin_start": 3.0955456570155904,
            "bin_end": 3.1955456570155905,
            "count": 0
           },
           {
            "bin_start": 3.1955456570155905,
            "bin_end": 3.29554565701559,
            "count": 0
           },
           {
            "bin_start": 3.29554565701559,
            "bin_end": 3.39554565701559,
            "count": 0
           },
           {
            "bin_start": 3.39554565701559,
            "bin_end": 3.4955456570155903,
            "count": 0
           }
          ]
         }
        },
        {
         "name": "total_population",
         "dtype": "int64",
         "stats": {
          "unique_count": 5,
          "nan_count": 0,
          "min": "720316",
          "max": "37659181",
          "histogram": [
           {
            "bin_start": 720316,
            "bin_end": 4414202.5,
            "count": 2
           },
           {
            "bin_start": 4414202.5,
            "bin_end": 8108089,
            "count": 2
           },
           {
            "bin_start": 8108089,
            "bin_end": 11801975.5,
            "count": 0
           },
           {
            "bin_start": 11801975.5,
            "bin_end": 15495862,
            "count": 0
           },
           {
            "bin_start": 15495862,
            "bin_end": 19189748.5,
            "count": 0
           },
           {
            "bin_start": 19189748.5,
            "bin_end": 22883635,
            "count": 0
           },
           {
            "bin_start": 22883635,
            "bin_end": 26577521.5,
            "count": 0
           },
           {
            "bin_start": 26577521.5,
            "bin_end": 30271408,
            "count": 0
           },
           {
            "bin_start": 30271408,
            "bin_end": 33965294.5,
            "count": 0
           },
           {
            "bin_start": 33965294.5,
            "bin_end": 37659181,
            "count": 1
           }
          ]
         }
        },
        {
         "name": "percent_white",
         "dtype": "int64",
         "stats": {
          "unique_count": 5,
          "nan_count": 0,
          "min": "40",
          "max": "74",
          "histogram": [
           {
            "bin_start": 40,
            "bin_end": 43.4,
            "count": 1
           },
           {
            "bin_start": 43.4,
            "bin_end": 46.8,
            "count": 0
           },
           {
            "bin_start": 46.8,
            "bin_end": 50.2,
            "count": 0
           },
           {
            "bin_start": 50.2,
            "bin_end": 53.6,
            "count": 0
           },
           {
            "bin_start": 53.6,
            "bin_end": 57,
            "count": 0
           },
           {
            "bin_start": 57,
            "bin_end": 60.4,
            "count": 1
           },
           {
            "bin_start": 60.4,
            "bin_end": 63.8,
            "count": 1
           },
           {
            "bin_start": 63.8,
            "bin_end": 67.2,
            "count": 1
           },
           {
            "bin_start": 67.2,
            "bin_end": 70.6,
            "count": 0
           },
           {
            "bin_start": 70.6,
            "bin_end": 74,
            "count": 1
           }
          ]
         }
        },
        {
         "name": "percent_black",
         "dtype": "int64",
         "stats": {
          "unique_count": 5,
          "nan_count": 0,
          "min": "3",
          "max": "26",
          "histogram": [
           {
            "bin_start": 3,
            "bin_end": 5.3,
            "count": 2
           },
           {
            "bin_start": 5.3,
            "bin_end": 7.6,
            "count": 1
           },
           {
            "bin_start": 7.6,
            "bin_end": 9.899999999999999,
            "count": 0
           },
           {
            "bin_start": 9.899999999999999,
            "bin_end": 12.2,
            "count": 0
           },
           {
            "bin_start": 12.2,
            "bin_end": 14.5,
            "count": 0
           },
           {
            "bin_start": 14.5,
            "bin_end": 16.799999999999997,
            "count": 1
           },
           {
            "bin_start": 16.799999999999997,
            "bin_end": 19.099999999999998,
            "count": 0
           },
           {
            "bin_start": 19.099999999999998,
            "bin_end": 21.4,
            "count": 0
           },
           {
            "bin_start": 21.4,
            "bin_end": 23.7,
            "count": 0
           },
           {
            "bin_start": 23.7,
            "bin_end": 26,
            "count": 1
           }
          ]
         }
        },
        {
         "name": "percent_asian",
         "dtype": "int64",
         "stats": {
          "unique_count": 4,
          "nan_count": 0,
          "min": "1",
          "max": "13",
          "histogram": [
           {
            "bin_start": 1,
            "bin_end": 2.2,
            "count": 2
           },
           {
            "bin_start": 2.2,
            "bin_end": 3.4,
            "count": 1
           },
           {
            "bin_start": 3.4,
            "bin_end": 4.6,
            "count": 0
           },
           {
            "bin_start": 4.6,
            "bin_end": 5.8,
            "count": 1
           },
           {
            "bin_start": 5.8,
            "bin_end": 7,
            "count": 0
           },
           {
            "bin_start": 7,
            "bin_end": 8.2,
            "count": 0
           },
           {
            "bin_start": 8.2,
            "bin_end": 9.4,
            "count": 0
           },
           {
            "bin_start": 9.4,
            "bin_end": 10.6,
            "count": 0
           },
           {
            "bin_start": 10.6,
            "bin_end": 11.799999999999999,
            "count": 0
           },
           {
            "bin_start": 11.799999999999999,
            "bin_end": 13,
            "count": 1
           }
          ]
         }
        },
        {
         "name": "percent_hispanic",
         "dtype": "int64",
         "stats": {
          "unique_count": 5,
          "nan_count": 0,
          "min": "4",
          "max": "38",
          "histogram": [
           {
            "bin_start": 4,
            "bin_end": 7.4,
            "count": 3
           },
           {
            "bin_start": 7.4,
            "bin_end": 10.8,
            "count": 0
           },
           {
            "bin_start": 10.8,
            "bin_end": 14.2,
            "count": 0
           },
           {
            "bin_start": 14.2,
            "bin_end": 17.6,
            "count": 0
           },
           {
            "bin_start": 17.6,
            "bin_end": 21,
            "count": 0
           },
           {
            "bin_start": 21,
            "bin_end": 24.4,
            "count": 0
           },
           {
            "bin_start": 24.4,
            "bin_end": 27.8,
            "count": 0
           },
           {
            "bin_start": 27.8,
            "bin_end": 31.2,
            "count": 1
           },
           {
            "bin_start": 31.2,
            "bin_end": 34.599999999999994,
            "count": 0
           },
           {
            "bin_start": 34.599999999999994,
            "bin_end": 38,
            "count": 1
           }
          ]
         }
        },
        {
         "name": "per_capita_income",
         "dtype": "int64",
         "stats": {
          "unique_count": 5,
          "nan_count": 0,
          "min": "22170",
          "max": "32651",
          "histogram": [
           {
            "bin_start": 22170,
            "bin_end": 23218.1,
            "count": 1
           },
           {
            "bin_start": 23218.1,
            "bin_end": 24266.2,
            "count": 1
           },
           {
            "bin_start": 24266.2,
            "bin_end": 25314.3,
            "count": 0
           },
           {
            "bin_start": 25314.3,
            "bin_end": 26362.4,
            "count": 1
           },
           {
            "bin_start": 26362.4,
            "bin_end": 27410.5,
            "count": 0
           },
           {
            "bin_start": 27410.5,
            "bin_end": 28458.6,
            "count": 0
           },
           {
            "bin_start": 28458.6,
            "bin_end": 29506.699999999997,
            "count": 0
           },
           {
            "bin_start": 29506.699999999997,
            "bin_end": 30554.8,
            "count": 1
           },
           {
            "bin_start": 30554.8,
            "bin_end": 31602.9,
            "count": 0
           },
           {
            "bin_start": 31602.9,
            "bin_end": 32651,
            "count": 1
           }
          ]
         }
        },
        {
         "name": "median_rent",
         "dtype": "int64",
         "stats": {
          "unique_count": 5,
          "nan_count": 0,
          "min": "480",
          "max": "1119",
          "histogram": [
           {
            "bin_start": 480,
            "bin_end": 543.9,
            "count": 2
           },
           {
            "bin_start": 543.9,
            "bin_end": 607.8,
            "count": 0
           },
           {
            "bin_start": 607.8,
            "bin_end": 671.7,
            "count": 0
           },
           {
            "bin_start": 671.7,
            "bin_end": 735.6,
            "count": 0
           },
           {
            "bin_start": 735.6,
            "bin_end": 799.5,
            "count": 1
           },
           {
            "bin_start": 799.5,
            "bin_end": 863.4,
            "count": 0
           },
           {
            "bin_start": 863.4,
            "bin_end": 927.3,
            "count": 0
           },
           {
            "bin_start": 927.3,
            "bin_end": 991.2,
            "count": 1
           },
           {
            "bin_start": 991.2,
            "bin_end": 1055.1,
            "count": 0
           },
           {
            "bin_start": 1055.1,
            "bin_end": 1119,
            "count": 1
           }
          ]
         }
        },
        {
         "name": "median_age",
         "dtype": "float64",
         "stats": {
          "unique_count": 5,
          "nan_count": 0,
          "min": "33.6",
          "max": "38.1",
          "histogram": [
           {
            "bin_start": 33.6,
            "bin_end": 34.050000000000004,
            "count": 1
           },
           {
            "bin_start": 34.050000000000004,
            "bin_end": 34.5,
            "count": 0
           },
           {
            "bin_start": 34.5,
            "bin_end": 34.95,
            "count": 0
           },
           {
            "bin_start": 34.95,
            "bin_end": 35.4,
            "count": 0
           },
           {
            "bin_start": 35.4,
            "bin_end": 35.85,
            "count": 1
           },
           {
            "bin_start": 35.85,
            "bin_end": 36.300000000000004,
            "count": 1
           },
           {
            "bin_start": 36.300000000000004,
            "bin_end": 36.75,
            "count": 0
           },
           {
            "bin_start": 36.75,
            "bin_end": 37.2,
            "count": 0
           },
           {
            "bin_start": 37.2,
            "bin_end": 37.65,
            "count": 1
           },
           {
            "bin_start": 37.65,
            "bin_end": 38.1,
            "count": 1
           }
          ]
         }
        },
        {
         "name": "percent_other",
         "dtype": "int64",
         "stats": {
          "unique_count": 4,
          "nan_count": 0,
          "min": "2",
          "max": "23",
          "histogram": [
           {
            "bin_start": 2,
            "bin_end": 4.1,
            "count": 3
           },
           {
            "bin_start": 4.1,
            "bin_end": 6.2,
            "count": 1
           },
           {
            "bin_start": 6.2,
            "bin_end": 8.3,
            "count": 0
           },
           {
            "bin_start": 8.3,
            "bin_end": 10.4,
            "count": 0
           },
           {
            "bin_start": 10.4,
            "bin_end": 12.5,
            "count": 0
           },
           {
            "bin_start": 12.5,
            "bin_end": 14.600000000000001,
            "count": 0
           },
           {
            "bin_start": 14.600000000000001,
            "bin_end": 16.700000000000003,
            "count": 0
           },
           {
            "bin_start": 16.700000000000003,
            "bin_end": 18.8,
            "count": 0
           },
           {
            "bin_start": 18.8,
            "bin_end": 20.900000000000002,
            "count": 0
           },
           {
            "bin_start": 20.900000000000002,
            "bin_end": 23,
            "count": 1
           }
          ]
         }
        },
        {
         "name": "_deepnote_index_column",
         "dtype": "int64"
        }
       ],
       "rows_top": [
        {
         "State": "alabama",
         "HighQ": 339.56184855233914,
         "HighQN": 1379.4142538975502,
         "MedQ": 204.60616926503332,
         "MedQN": 1270.3518930957684,
         "LowQ": 145.97850779510173,
         "LowQN": 161.14922048997772,
         "year": 2014.1670378619153,
         "month": 5.953229398663697,
         "week": 23.812917594654788,
         "weekday": 2.9955456570155903,
         "total_population": 4799277,
         "percent_white": 67,
         "percent_black": 26,
         "percent_asian": 1,
         "percent_hispanic": 4,
         "per_capita_income": 23680,
         "median_rent": 501,
         "median_age": 38.1,
         "percent_other": 2,
         "_deepnote_index_column": 0
        },
        {
         "State": "alaska",
         "HighQ": 291.4820044543429,
         "HighQN": 321.24498886414256,
         "MedQ": 262.0463919821825,
         "MedQN": 407.91759465478845,
         "LowQ": 394.6539643652535,
         "LowQN": 32.334075723830736,
         "year": 2014.1670378619153,
         "month": 5.953229398663697,
         "week": 23.812917594654788,
         "weekday": 2.9955456570155903,
         "total_population": 720316,
         "percent_white": 63,
         "percent_black": 3,
         "percent_asian": 5,
         "percent_hispanic": 6,
         "per_capita_income": 32651,
         "median_rent": 978,
         "median_age": 33.6,
         "percent_other": 23,
         "_deepnote_index_column": 1
        },
        {
         "State": "arizona",
         "HighQ": 300.6674832962139,
         "HighQN": 2392.4654788418707,
         "MedQ": 209.36534521158114,
         "MedQN": 2137.41425389755,
         "LowQ": 188.5001336302889,
         "LowQN": 279.0066815144766,
         "year": 2014.1670378619153,
         "month": 5.953229398663697,
         "week": 23.812917594654788,
         "weekday": 2.9955456570155903,
         "total_population": 6479703,
         "percent_white": 57,
         "percent_black": 4,
         "percent_asian": 3,
         "percent_hispanic": 30,
         "per_capita_income": 25358,
         "median_rent": 747,
         "median_age": 36.3,
         "percent_other": 6,
         "_deepnote_index_column": 2
        },
        {
         "State": "arkansas",
         "HighQ": 348.05614699331875,
         "HighQN": 751.988864142539,
         "MedQ": 190.41465478841857,
         "MedQN": 724.6837416481069,
         "LowQ": 126.77126948774998,
         "LowQN": 135.90200445434297,
         "year": 2014.1670378619153,
         "month": 5.953229398663697,
         "week": 23.812917594654788,
         "weekday": 2.9955456570155903,
         "total_population": 2933369,
         "percent_white": 74,
         "percent_black": 15,
         "percent_asian": 1,
         "percent_hispanic": 7,
         "per_capita_income": 22170,
         "median_rent": 480,
         "median_age": 37.5,
         "percent_other": 3,
         "_deepnote_index_column": 3
        },
        {
         "State": "california",
         "HighQ": 245.3761247216035,
         "HighQN": 14947.073496659243,
         "MedQ": 191.2689086859689,
         "MedQN": 16769.821826280622,
         "LowQ": 189.78358574610345,
         "LowQN": 976.2984409799554,
         "year": 2014.1670378619153,
         "month": 5.953229398663697,
         "week": 23.812917594654788,
         "weekday": 2.9955456570155903,
         "total_population": 37659181,
         "percent_white": 40,
         "percent_black": 6,
         "percent_asian": 13,
         "percent_hispanic": 38,
         "per_capita_income": 29527,
         "median_rent": 1119,
         "median_age": 35.4,
         "percent_other": 3,
         "_deepnote_index_column": 4
        }
       ],
       "rows_bottom": null
      },
      "text/plain": "        State       HighQ        HighQN        MedQ         MedQN        LowQ  \\\n0     alabama  339.561849   1379.414254  204.606169   1270.351893  145.978508   \n1      alaska  291.482004    321.244989  262.046392    407.917595  394.653964   \n2     arizona  300.667483   2392.465479  209.365345   2137.414254  188.500134   \n3    arkansas  348.056147    751.988864  190.414655    724.683742  126.771269   \n4  california  245.376125  14947.073497  191.268909  16769.821826  189.783586   \n\n        LowQN         year     month       week   weekday  total_population  \\\n0  161.149220  2014.167038  5.953229  23.812918  2.995546           4799277   \n1   32.334076  2014.167038  5.953229  23.812918  2.995546            720316   \n2  279.006682  2014.167038  5.953229  23.812918  2.995546           6479703   \n3  135.902004  2014.167038  5.953229  23.812918  2.995546           2933369   \n4  976.298441  2014.167038  5.953229  23.812918  2.995546          37659181   \n\n   percent_white  percent_black  percent_asian  percent_hispanic  \\\n0             67             26              1                 4   \n1             63              3              5                 6   \n2             57              4              3                30   \n3             74             15              1                 7   \n4             40              6             13                38   \n\n   per_capita_income  median_rent  median_age  percent_other  \n0              23680          501        38.1              2  \n1              32651          978        33.6             23  \n2              25358          747        36.3              6  \n3              22170          480        37.5              3  \n4              29527         1119        35.4              3  ",
      "text/html": "<div>\n<style scoped>\n    .dataframe tbody tr th:only-of-type {\n        vertical-align: middle;\n    }\n\n    .dataframe tbody tr th {\n        vertical-align: top;\n    }\n\n    .dataframe thead th {\n        text-align: right;\n    }\n</style>\n<table border=\"1\" class=\"dataframe\">\n  <thead>\n    <tr style=\"text-align: right;\">\n      <th></th>\n      <th>State</th>\n      <th>HighQ</th>\n      <th>HighQN</th>\n      <th>MedQ</th>\n      <th>MedQN</th>\n      <th>LowQ</th>\n      <th>LowQN</th>\n      <th>year</th>\n      <th>month</th>\n      <th>week</th>\n      <th>weekday</th>\n      <th>total_population</th>\n      <th>percent_white</th>\n      <th>percent_black</th>\n      <th>percent_asian</th>\n      <th>percent_hispanic</th>\n      <th>per_capita_income</th>\n      <th>median_rent</th>\n      <th>median_age</th>\n      <th>percent_other</th>\n    </tr>\n  </thead>\n  <tbody>\n    <tr>\n      <th>0</th>\n      <td>alabama</td>\n      <td>339.561849</td>\n      <td>1379.414254</td>\n      <td>204.606169</td>\n      <td>1270.351893</td>\n      <td>145.978508</td>\n      <td>161.149220</td>\n      <td>2014.167038</td>\n      <td>5.953229</td>\n      <td>23.812918</td>\n      <td>2.995546</td>\n      <td>4799277</td>\n      <td>67</td>\n      <td>26</td>\n      <td>1</td>\n      <td>4</td>\n      <td>23680</td>\n      <td>501</td>\n      <td>38.1</td>\n      <td>2</td>\n    </tr>\n    <tr>\n      <th>1</th>\n      <td>alaska</td>\n      <td>291.482004</td>\n      <td>321.244989</td>\n      <td>262.046392</td>\n      <td>407.917595</td>\n      <td>394.653964</td>\n      <td>32.334076</td>\n      <td>2014.167038</td>\n      <td>5.953229</td>\n      <td>23.812918</td>\n      <td>2.995546</td>\n      <td>720316</td>\n      <td>63</td>\n      <td>3</td>\n      <td>5</td>\n      <td>6</td>\n      <td>32651</td>\n      <td>978</td>\n      <td>33.6</td>\n      <td>23</td>\n    </tr>\n    <tr>\n      <th>2</th>\n      <td>arizona</td>\n      <td>300.667483</td>\n      <td>2392.465479</td>\n      <td>209.365345</td>\n      <td>2137.414254</td>\n      <td>188.500134</td>\n      <td>279.006682</td>\n      <td>2014.167038</td>\n      <td>5.953229</td>\n      <td>23.812918</td>\n      <td>2.995546</td>\n      <td>6479703</td>\n      <td>57</td>\n      <td>4</td>\n      <td>3</td>\n      <td>30</td>\n      <td>25358</td>\n      <td>747</td>\n      <td>36.3</td>\n      <td>6</td>\n    </tr>\n    <tr>\n      <th>3</th>\n      <td>arkansas</td>\n      <td>348.056147</td>\n      <td>751.988864</td>\n      <td>190.414655</td>\n      <td>724.683742</td>\n      <td>126.771269</td>\n      <td>135.902004</td>\n      <td>2014.167038</td>\n      <td>5.953229</td>\n      <td>23.812918</td>\n      <td>2.995546</td>\n      <td>2933369</td>\n      <td>74</td>\n      <td>15</td>\n      <td>1</td>\n      <td>7</td>\n      <td>22170</td>\n      <td>480</td>\n      <td>37.5</td>\n      <td>3</td>\n    </tr>\n    <tr>\n      <th>4</th>\n      <td>california</td>\n      <td>245.376125</td>\n      <td>14947.073497</td>\n      <td>191.268909</td>\n      <td>16769.821826</td>\n      <td>189.783586</td>\n      <td>976.298441</td>\n      <td>2014.167038</td>\n      <td>5.953229</td>\n      <td>23.812918</td>\n      <td>2.995546</td>\n      <td>37659181</td>\n      <td>40</td>\n      <td>6</td>\n      <td>13</td>\n      <td>38</td>\n      <td>29527</td>\n      <td>1119</td>\n      <td>35.4</td>\n      <td>3</td>\n    </tr>\n  </tbody>\n</table>\n</div>"
     },
     "metadata": {}
    }
   ]
  },
  {
   "cell_type": "markdown",
   "source": "## 2.7 Filter the Data\n\nLets start by filtering the data \n- by location\n- by Year\n- by location & Year",
   "metadata": {
    "cell_id": "00061-61372470-fa49-4f51-b6fc-7ce1079114f5",
    "deepnote_cell_type": "markdown"
   }
  },
  {
   "cell_type": "code",
   "metadata": {
    "collapsed": false,
    "cell_id": "00062-ee9e4cf6-e91d-4fb3-82cf-8fb436841dec",
    "deepnote_to_be_reexecuted": false,
    "source_hash": "941dd1d5",
    "execution_start": 1624848867743,
    "execution_millis": 1,
    "deepnote_cell_type": "code"
   },
   "source": "# Filter data for location California\ndf_cal = df[df[\"State\"] == \"California\"]",
   "execution_count": 46,
   "outputs": []
  },
  {
   "cell_type": "code",
   "metadata": {
    "collapsed": false,
    "cell_id": "00063-a1624cab-58f6-4f9d-92e2-dd9e3dae096d",
    "deepnote_to_be_reexecuted": false,
    "source_hash": "e1384a00",
    "execution_start": 1624848868778,
    "execution_millis": 14,
    "deepnote_cell_type": "code"
   },
   "source": "df_cal.shape",
   "execution_count": 47,
   "outputs": [
    {
     "output_type": "execute_result",
     "execution_count": 47,
     "data": {
      "text/plain": "(449, 12)"
     },
     "metadata": {}
    }
   ]
  },
  {
   "cell_type": "code",
   "metadata": {
    "collapsed": false,
    "cell_id": "00064-b18c8dcd-85e9-497e-a7e3-ab7c7ac90e74",
    "deepnote_to_be_reexecuted": false,
    "source_hash": "fba72255",
    "execution_start": 1624848881383,
    "execution_millis": 7,
    "deepnote_cell_type": "code"
   },
   "source": "# Filter data for year\ndf_2014 = df[df[\"year\"] == 2014]",
   "execution_count": 48,
   "outputs": []
  },
  {
   "cell_type": "code",
   "metadata": {
    "collapsed": false,
    "cell_id": "00065-b19adf43-2799-48ca-a3ce-5202712a220b",
    "deepnote_to_be_reexecuted": false,
    "source_hash": "6791e590",
    "execution_start": 1624848882269,
    "execution_millis": 23,
    "deepnote_cell_type": "code"
   },
   "source": "df_2014.shape",
   "execution_count": 49,
   "outputs": [
    {
     "output_type": "execute_result",
     "execution_count": 49,
     "data": {
      "text/plain": "(18564, 12)"
     },
     "metadata": {}
    }
   ]
  },
  {
   "cell_type": "code",
   "metadata": {
    "collapsed": false,
    "cell_id": "00066-d1dcfdb8-0116-42fd-9365-ad5f0fc52de4",
    "deepnote_to_be_reexecuted": false,
    "source_hash": "cfe09d9b",
    "execution_start": 1624848931487,
    "execution_millis": 1,
    "deepnote_cell_type": "code"
   },
   "source": "df_cal_2014 = df[(df[\"year\"] == 2014) & (df[\"State\"] == \"California\")]",
   "execution_count": 50,
   "outputs": []
  },
  {
   "cell_type": "code",
   "metadata": {
    "collapsed": false,
    "cell_id": "00067-f85a4201-69ea-4d1c-8ac7-f8c8ae6b2d61",
    "deepnote_to_be_reexecuted": false,
    "source_hash": "e7d84eb4",
    "execution_start": 1624848933157,
    "execution_millis": 8,
    "deepnote_cell_type": "code"
   },
   "source": "df_cal_2014.shape",
   "execution_count": 51,
   "outputs": [
    {
     "output_type": "execute_result",
     "execution_count": 51,
     "data": {
      "text/plain": "(364, 12)"
     },
     "metadata": {}
    }
   ]
  },
  {
   "cell_type": "code",
   "metadata": {
    "collapsed": false,
    "cell_id": "00068-d3d35d17-9c62-4840-ac2b-5fa86a1c9dcd",
    "deepnote_to_be_reexecuted": false,
    "source_hash": "6cb5d57f",
    "execution_start": 1624848956440,
    "execution_millis": 44,
    "deepnote_cell_type": "code"
   },
   "source": "df_cal_2014.head()",
   "execution_count": 52,
   "outputs": [
    {
     "output_type": "execute_result",
     "execution_count": 52,
     "data": {
      "application/vnd.deepnote.dataframe.v2+json": {
       "row_count": 5,
       "column_count": 12,
       "columns": [
        {
         "name": "State",
         "dtype": "object",
         "stats": {
          "unique_count": 1,
          "nan_count": 0,
          "categories": [
           {
            "name": "California",
            "count": 5
           }
          ]
         }
        },
        {
         "name": "HighQ",
         "dtype": "float64",
         "stats": {
          "unique_count": 4,
          "nan_count": 0,
          "min": "248.65",
          "max": "248.78",
          "histogram": [
           {
            "bin_start": 248.65,
            "bin_end": 248.663,
            "count": 1
           },
           {
            "bin_start": 248.663,
            "bin_end": 248.67600000000002,
            "count": 2
           },
           {
            "bin_start": 248.67600000000002,
            "bin_end": 248.689,
            "count": 1
           },
           {
            "bin_start": 248.689,
            "bin_end": 248.702,
            "count": 0
           },
           {
            "bin_start": 248.702,
            "bin_end": 248.715,
            "count": 0
           },
           {
            "bin_start": 248.715,
            "bin_end": 248.728,
            "count": 0
           },
           {
            "bin_start": 248.728,
            "bin_end": 248.741,
            "count": 0
           },
           {
            "bin_start": 248.741,
            "bin_end": 248.754,
            "count": 0
           },
           {
            "bin_start": 248.754,
            "bin_end": 248.767,
            "count": 0
           },
           {
            "bin_start": 248.767,
            "bin_end": 248.78,
            "count": 1
           }
          ]
         }
        },
        {
         "name": "HighQN",
         "dtype": "int64",
         "stats": {
          "unique_count": 5,
          "nan_count": 0,
          "min": "12096",
          "max": "12176",
          "histogram": [
           {
            "bin_start": 12096,
            "bin_end": 12104,
            "count": 1
           },
           {
            "bin_start": 12104,
            "bin_end": 12112,
            "count": 0
           },
           {
            "bin_start": 12112,
            "bin_end": 12120,
            "count": 0
           },
           {
            "bin_start": 12120,
            "bin_end": 12128,
            "count": 1
           },
           {
            "bin_start": 12128,
            "bin_end": 12136,
            "count": 0
           },
           {
            "bin_start": 12136,
            "bin_end": 12144,
            "count": 1
           },
           {
            "bin_start": 12144,
            "bin_end": 12152,
            "count": 0
           },
           {
            "bin_start": 12152,
            "bin_end": 12160,
            "count": 1
           },
           {
            "bin_start": 12160,
            "bin_end": 12168,
            "count": 0
           },
           {
            "bin_start": 12168,
            "bin_end": 12176,
            "count": 1
           }
          ]
         }
        },
        {
         "name": "MedQ",
         "dtype": "float64",
         "stats": {
          "unique_count": 4,
          "nan_count": 0,
          "min": "193.56",
          "max": "193.63",
          "histogram": [
           {
            "bin_start": 193.56,
            "bin_end": 193.567,
            "count": 2
           },
           {
            "bin_start": 193.567,
            "bin_end": 193.574,
            "count": 1
           },
           {
            "bin_start": 193.574,
            "bin_end": 193.581,
            "count": 0
           },
           {
            "bin_start": 193.581,
            "bin_end": 193.588,
            "count": 0
           },
           {
            "bin_start": 193.588,
            "bin_end": 193.595,
            "count": 1
           },
           {
            "bin_start": 193.595,
            "bin_end": 193.602,
            "count": 0
           },
           {
            "bin_start": 193.602,
            "bin_end": 193.609,
            "count": 0
           },
           {
            "bin_start": 193.609,
            "bin_end": 193.61599999999999,
            "count": 0
           },
           {
            "bin_start": 193.61599999999999,
            "bin_end": 193.623,
            "count": 0
           },
           {
            "bin_start": 193.623,
            "bin_end": 193.63,
            "count": 1
           }
          ]
         }
        },
        {
         "name": "MedQN",
         "dtype": "int64",
         "stats": {
          "unique_count": 5,
          "nan_count": 0,
          "min": "12812",
          "max": "12902",
          "histogram": [
           {
            "bin_start": 12812,
            "bin_end": 12821,
            "count": 1
           },
           {
            "bin_start": 12821,
            "bin_end": 12830,
            "count": 0
           },
           {
            "bin_start": 12830,
            "bin_end": 12839,
            "count": 1
           },
           {
            "bin_start": 12839,
            "bin_end": 12848,
            "count": 0
           },
           {
            "bin_start": 12848,
            "bin_end": 12857,
            "count": 1
           },
           {
            "bin_start": 12857,
            "bin_end": 12866,
            "count": 0
           },
           {
            "bin_start": 12866,
            "bin_end": 12875,
            "count": 0
           },
           {
            "bin_start": 12875,
            "bin_end": 12884,
            "count": 0
           },
           {
            "bin_start": 12884,
            "bin_end": 12893,
            "count": 1
           },
           {
            "bin_start": 12893,
            "bin_end": 12902,
            "count": 1
           }
          ]
         }
        },
        {
         "name": "LowQ",
         "dtype": "float64",
         "stats": {
          "unique_count": 3,
          "nan_count": 0,
          "min": "192.67",
          "max": "192.92",
          "histogram": [
           {
            "bin_start": 192.67,
            "bin_end": 192.695,
            "count": 3
           },
           {
            "bin_start": 192.695,
            "bin_end": 192.72,
            "count": 0
           },
           {
            "bin_start": 192.72,
            "bin_end": 192.74499999999998,
            "count": 0
           },
           {
            "bin_start": 192.74499999999998,
            "bin_end": 192.76999999999998,
            "count": 0
           },
           {
            "bin_start": 192.76999999999998,
            "bin_end": 192.795,
            "count": 0
           },
           {
            "bin_start": 192.795,
            "bin_end": 192.82,
            "count": 1
           },
           {
            "bin_start": 192.82,
            "bin_end": 192.845,
            "count": 0
           },
           {
            "bin_start": 192.845,
            "bin_end": 192.86999999999998,
            "count": 0
           },
           {
            "bin_start": 192.86999999999998,
            "bin_end": 192.89499999999998,
            "count": 0
           },
           {
            "bin_start": 192.89499999999998,
            "bin_end": 192.92,
            "count": 1
           }
          ]
         }
        },
        {
         "name": "LowQN",
         "dtype": "int64",
         "stats": {
          "unique_count": 3,
          "nan_count": 0,
          "min": "778",
          "max": "782",
          "histogram": [
           {
            "bin_start": 778,
            "bin_end": 778.4,
            "count": 1
           },
           {
            "bin_start": 778.4,
            "bin_end": 778.8,
            "count": 0
           },
           {
            "bin_start": 778.8,
            "bin_end": 779.2,
            "count": 1
           },
           {
            "bin_start": 779.2,
            "bin_end": 779.6,
            "count": 0
           },
           {
            "bin_start": 779.6,
            "bin_end": 780,
            "count": 0
           },
           {
            "bin_start": 780,
            "bin_end": 780.4,
            "count": 0
           },
           {
            "bin_start": 780.4,
            "bin_end": 780.8,
            "count": 0
           },
           {
            "bin_start": 780.8,
            "bin_end": 781.2,
            "count": 0
           },
           {
            "bin_start": 781.2,
            "bin_end": 781.6,
            "count": 0
           },
           {
            "bin_start": 781.6,
            "bin_end": 782,
            "count": 3
           }
          ]
         }
        },
        {
         "name": "date",
         "dtype": "datetime64[ns]",
         "stats": {
          "unique_count": 5,
          "nan_count": 0,
          "min": "2014-01-01 00:00:00",
          "max": "2014-01-05 00:00:00",
          "histogram": [
           {
            "bin_start": 1388534400000000000,
            "bin_end": 1388568960000000000,
            "count": 1
           },
           {
            "bin_start": 1388568960000000000,
            "bin_end": 1388603520000000000,
            "count": 0
           },
           {
            "bin_start": 1388603520000000000,
            "bin_end": 1388638080000000000,
            "count": 1
           },
           {
            "bin_start": 1388638080000000000,
            "bin_end": 1388672640000000000,
            "count": 0
           },
           {
            "bin_start": 1388672640000000000,
            "bin_end": 1388707200000000000,
            "count": 0
           },
           {
            "bin_start": 1388707200000000000,
            "bin_end": 1388741760000000000,
            "count": 1
           },
           {
            "bin_start": 1388741760000000000,
            "bin_end": 1388776320000000000,
            "count": 0
           },
           {
            "bin_start": 1388776320000000000,
            "bin_end": 1388810880000000000,
            "count": 1
           },
           {
            "bin_start": 1388810880000000000,
            "bin_end": 1388845440000000000,
            "count": 0
           },
           {
            "bin_start": 1388845440000000000,
            "bin_end": 1388880000000000000,
            "count": 1
           }
          ]
         }
        },
        {
         "name": "year",
         "dtype": "int64",
         "stats": {
          "unique_count": 1,
          "nan_count": 0,
          "min": "2014",
          "max": "2014",
          "histogram": [
           {
            "bin_start": 2013.5,
            "bin_end": 2013.6,
            "count": 0
           },
           {
            "bin_start": 2013.6,
            "bin_end": 2013.7,
            "count": 0
           },
           {
            "bin_start": 2013.7,
            "bin_end": 2013.8,
            "count": 0
           },
           {
            "bin_start": 2013.8,
            "bin_end": 2013.9,
            "count": 0
           },
           {
            "bin_start": 2013.9,
            "bin_end": 2014,
            "count": 0
           },
           {
            "bin_start": 2014,
            "bin_end": 2014.1,
            "count": 5
           },
           {
            "bin_start": 2014.1,
            "bin_end": 2014.2,
            "count": 0
           },
           {
            "bin_start": 2014.2,
            "bin_end": 2014.3,
            "count": 0
           },
           {
            "bin_start": 2014.3,
            "bin_end": 2014.4,
            "count": 0
           },
           {
            "bin_start": 2014.4,
            "bin_end": 2014.5,
            "count": 0
           }
          ]
         }
        },
        {
         "name": "month",
         "dtype": "int64",
         "stats": {
          "unique_count": 1,
          "nan_count": 0,
          "min": "1",
          "max": "1",
          "histogram": [
           {
            "bin_start": 0.5,
            "bin_end": 0.6,
            "count": 0
           },
           {
            "bin_start": 0.6,
            "bin_end": 0.7,
            "count": 0
           },
           {
            "bin_start": 0.7,
            "bin_end": 0.8,
            "count": 0
           },
           {
            "bin_start": 0.8,
            "bin_end": 0.9,
            "count": 0
           },
           {
            "bin_start": 0.9,
            "bin_end": 1,
            "count": 0
           },
           {
            "bin_start": 1,
            "bin_end": 1.1,
            "count": 5
           },
           {
            "bin_start": 1.1,
            "bin_end": 1.2000000000000002,
            "count": 0
           },
           {
            "bin_start": 1.2000000000000002,
            "bin_end": 1.3,
            "count": 0
           },
           {
            "bin_start": 1.3,
            "bin_end": 1.4,
            "count": 0
           },
           {
            "bin_start": 1.4,
            "bin_end": 1.5,
            "count": 0
           }
          ]
         }
        },
        {
         "name": "week",
         "dtype": "int64",
         "stats": {
          "unique_count": 1,
          "nan_count": 0,
          "min": "1",
          "max": "1",
          "histogram": [
           {
            "bin_start": 0.5,
            "bin_end": 0.6,
            "count": 0
           },
           {
            "bin_start": 0.6,
            "bin_end": 0.7,
            "count": 0
           },
           {
            "bin_start": 0.7,
            "bin_end": 0.8,
            "count": 0
           },
           {
            "bin_start": 0.8,
            "bin_end": 0.9,
            "count": 0
           },
           {
            "bin_start": 0.9,
            "bin_end": 1,
            "count": 0
           },
           {
            "bin_start": 1,
            "bin_end": 1.1,
            "count": 5
           },
           {
            "bin_start": 1.1,
            "bin_end": 1.2000000000000002,
            "count": 0
           },
           {
            "bin_start": 1.2000000000000002,
            "bin_end": 1.3,
            "count": 0
           },
           {
            "bin_start": 1.3,
            "bin_end": 1.4,
            "count": 0
           },
           {
            "bin_start": 1.4,
            "bin_end": 1.5,
            "count": 0
           }
          ]
         }
        },
        {
         "name": "weekday",
         "dtype": "int64",
         "stats": {
          "unique_count": 5,
          "nan_count": 0,
          "min": "2",
          "max": "6",
          "histogram": [
           {
            "bin_start": 2,
            "bin_end": 2.4,
            "count": 1
           },
           {
            "bin_start": 2.4,
            "bin_end": 2.8,
            "count": 0
           },
           {
            "bin_start": 2.8,
            "bin_end": 3.2,
            "count": 1
           },
           {
            "bin_start": 3.2,
            "bin_end": 3.6,
            "count": 0
           },
           {
            "bin_start": 3.6,
            "bin_end": 4,
            "count": 0
           },
           {
            "bin_start": 4,
            "bin_end": 4.4,
            "count": 1
           },
           {
            "bin_start": 4.4,
            "bin_end": 4.800000000000001,
            "count": 0
           },
           {
            "bin_start": 4.800000000000001,
            "bin_end": 5.2,
            "count": 1
           },
           {
            "bin_start": 5.2,
            "bin_end": 5.6,
            "count": 0
           },
           {
            "bin_start": 5.6,
            "bin_end": 6,
            "count": 1
           }
          ]
         }
        },
        {
         "name": "_deepnote_index_column",
         "dtype": "int64"
        }
       ],
       "rows_top": [
        {
         "State": "California",
         "HighQ": 248.78,
         "HighQN": 12096,
         "MedQ": 193.56,
         "MedQN": 12812,
         "LowQ": 192.92,
         "LowQN": 778,
         "date": "2014-01-01T00:00:00.000000",
         "year": 2014,
         "month": 1,
         "week": 1,
         "weekday": 2,
         "_deepnote_index_column": 4
        },
        {
         "State": "California",
         "HighQ": 248.67,
         "HighQN": 12125,
         "MedQ": 193.56,
         "MedQN": 12836,
         "LowQ": 192.8,
         "LowQN": 779,
         "date": "2014-01-02T00:00:00.000000",
         "year": 2014,
         "month": 1,
         "week": 1,
         "weekday": 3,
         "_deepnote_index_column": 769
        },
        {
         "State": "California",
         "HighQ": 248.67,
         "HighQN": 12141,
         "MedQ": 193.57,
         "MedQN": 12853,
         "LowQ": 192.67,
         "LowQN": 782,
         "date": "2014-01-03T00:00:00.000000",
         "year": 2014,
         "month": 1,
         "week": 1,
         "weekday": 4,
         "_deepnote_index_column": 1483
        },
        {
         "State": "California",
         "HighQ": 248.65,
         "HighQN": 12155,
         "MedQ": 193.59,
         "MedQN": 12884,
         "LowQ": 192.67,
         "LowQN": 782,
         "date": "2014-01-04T00:00:00.000000",
         "year": 2014,
         "month": 1,
         "week": 1,
         "weekday": 5,
         "_deepnote_index_column": 2248
        },
        {
         "State": "California",
         "HighQ": 248.68,
         "HighQN": 12176,
         "MedQ": 193.63,
         "MedQN": 12902,
         "LowQ": 192.67,
         "LowQN": 782,
         "date": "2014-01-05T00:00:00.000000",
         "year": 2014,
         "month": 1,
         "week": 1,
         "weekday": 6,
         "_deepnote_index_column": 3013
        }
       ],
       "rows_bottom": null
      },
      "text/plain": "           State   HighQ  HighQN    MedQ  MedQN    LowQ  LowQN       date  \\\n4     California  248.78   12096  193.56  12812  192.92    778 2014-01-01   \n769   California  248.67   12125  193.56  12836  192.80    779 2014-01-02   \n1483  California  248.67   12141  193.57  12853  192.67    782 2014-01-03   \n2248  California  248.65   12155  193.59  12884  192.67    782 2014-01-04   \n3013  California  248.68   12176  193.63  12902  192.67    782 2014-01-05   \n\n      year  month  week  weekday  \n4     2014      1     1        2  \n769   2014      1     1        3  \n1483  2014      1     1        4  \n2248  2014      1     1        5  \n3013  2014      1     1        6  ",
      "text/html": "<div>\n<style scoped>\n    .dataframe tbody tr th:only-of-type {\n        vertical-align: middle;\n    }\n\n    .dataframe tbody tr th {\n        vertical-align: top;\n    }\n\n    .dataframe thead th {\n        text-align: right;\n    }\n</style>\n<table border=\"1\" class=\"dataframe\">\n  <thead>\n    <tr style=\"text-align: right;\">\n      <th></th>\n      <th>State</th>\n      <th>HighQ</th>\n      <th>HighQN</th>\n      <th>MedQ</th>\n      <th>MedQN</th>\n      <th>LowQ</th>\n      <th>LowQN</th>\n      <th>date</th>\n      <th>year</th>\n      <th>month</th>\n      <th>week</th>\n      <th>weekday</th>\n    </tr>\n  </thead>\n  <tbody>\n    <tr>\n      <th>4</th>\n      <td>California</td>\n      <td>248.78</td>\n      <td>12096</td>\n      <td>193.56</td>\n      <td>12812</td>\n      <td>192.92</td>\n      <td>778</td>\n      <td>2014-01-01</td>\n      <td>2014</td>\n      <td>1</td>\n      <td>1</td>\n      <td>2</td>\n    </tr>\n    <tr>\n      <th>769</th>\n      <td>California</td>\n      <td>248.67</td>\n      <td>12125</td>\n      <td>193.56</td>\n      <td>12836</td>\n      <td>192.80</td>\n      <td>779</td>\n      <td>2014-01-02</td>\n      <td>2014</td>\n      <td>1</td>\n      <td>1</td>\n      <td>3</td>\n    </tr>\n    <tr>\n      <th>1483</th>\n      <td>California</td>\n      <td>248.67</td>\n      <td>12141</td>\n      <td>193.57</td>\n      <td>12853</td>\n      <td>192.67</td>\n      <td>782</td>\n      <td>2014-01-03</td>\n      <td>2014</td>\n      <td>1</td>\n      <td>1</td>\n      <td>4</td>\n    </tr>\n    <tr>\n      <th>2248</th>\n      <td>California</td>\n      <td>248.65</td>\n      <td>12155</td>\n      <td>193.59</td>\n      <td>12884</td>\n      <td>192.67</td>\n      <td>782</td>\n      <td>2014-01-04</td>\n      <td>2014</td>\n      <td>1</td>\n      <td>1</td>\n      <td>5</td>\n    </tr>\n    <tr>\n      <th>3013</th>\n      <td>California</td>\n      <td>248.68</td>\n      <td>12176</td>\n      <td>193.63</td>\n      <td>12902</td>\n      <td>192.67</td>\n      <td>782</td>\n      <td>2014-01-05</td>\n      <td>2014</td>\n      <td>1</td>\n      <td>1</td>\n      <td>6</td>\n    </tr>\n  </tbody>\n</table>\n</div>"
     },
     "metadata": {}
    }
   ]
  },
  {
   "cell_type": "markdown",
   "source": "**Exercise** Find the % of hispanic population for the state with max white population (use `df_demo`)",
   "metadata": {
    "cell_id": "00069-49b2e90b-287b-48b3-8d3e-5e9cd652b273",
    "deepnote_cell_type": "markdown"
   }
  },
  {
   "cell_type": "code",
   "metadata": {
    "collapsed": false,
    "cell_id": "00070-f5b8c584-b9c1-4bf0-9fda-b22605577c10",
    "deepnote_cell_type": "code"
   },
   "source": "",
   "execution_count": null,
   "outputs": []
  },
  {
   "cell_type": "markdown",
   "source": "## 2.8 Summarise the Data\n\nWe can use the describe function to get the summary stats for each column in the data frame",
   "metadata": {
    "cell_id": "00071-83cd8e86-7daa-4b4c-9a30-204333af2493",
    "deepnote_cell_type": "markdown"
   }
  },
  {
   "cell_type": "code",
   "metadata": {
    "collapsed": false,
    "cell_id": "00072-fd2e90da-4037-4903-9d6e-4f2c4991304d",
    "deepnote_to_be_reexecuted": false,
    "source_hash": "f88152d9",
    "execution_start": 1624848978416,
    "execution_millis": 80,
    "deepnote_cell_type": "code"
   },
   "source": "df.describe()",
   "execution_count": 53,
   "outputs": [
    {
     "output_type": "execute_result",
     "execution_count": 53,
     "data": {
      "application/vnd.deepnote.dataframe.v2+json": {
       "row_count": 8,
       "column_count": 10,
       "columns": [
        {
         "name": "HighQ",
         "dtype": "float64",
         "stats": {
          "unique_count": 8,
          "nan_count": 0,
          "min": "41.17316698012693",
          "max": "22899.0",
          "histogram": [
           {
            "bin_start": 41.17316698012693,
            "bin_end": 2326.955850282114,
            "count": 7
           },
           {
            "bin_start": 2326.955850282114,
            "bin_end": 4612.738533584101,
            "count": 0
           },
           {
            "bin_start": 4612.738533584101,
            "bin_end": 6898.521216886088,
            "count": 0
           },
           {
            "bin_start": 6898.521216886088,
            "bin_end": 9184.303900188075,
            "count": 0
           },
           {
            "bin_start": 9184.303900188075,
            "bin_end": 11470.086583490061,
            "count": 0
           },
           {
            "bin_start": 11470.086583490061,
            "bin_end": 13755.86926679205,
            "count": 0
           },
           {
            "bin_start": 13755.86926679205,
            "bin_end": 16041.651950094038,
            "count": 0
           },
           {
            "bin_start": 16041.651950094038,
            "bin_end": 18327.434633396024,
            "count": 0
           },
           {
            "bin_start": 18327.434633396024,
            "bin_end": 20613.21731669801,
            "count": 0
           },
           {
            "bin_start": 20613.21731669801,
            "bin_end": 22899,
            "count": 1
           }
          ]
         }
        },
        {
         "name": "HighQN",
         "dtype": "float64",
         "stats": {
          "unique_count": 8,
          "nan_count": 0,
          "min": "93.0",
          "max": "22899.0",
          "histogram": [
           {
            "bin_start": 93,
            "bin_end": 2373.6,
            "count": 4
           },
           {
            "bin_start": 2373.6,
            "bin_end": 4654.2,
            "count": 2
           },
           {
            "bin_start": 4654.2,
            "bin_end": 6934.799999999999,
            "count": 0
           },
           {
            "bin_start": 6934.799999999999,
            "bin_end": 9215.4,
            "count": 0
           },
           {
            "bin_start": 9215.4,
            "bin_end": 11496,
            "count": 0
           },
           {
            "bin_start": 11496,
            "bin_end": 13776.599999999999,
            "count": 0
           },
           {
            "bin_start": 13776.599999999999,
            "bin_end": 16057.199999999999,
            "count": 0
           },
           {
            "bin_start": 16057.199999999999,
            "bin_end": 18337.8,
            "count": 0
           },
           {
            "bin_start": 18337.8,
            "bin_end": 20618.399999999998,
            "count": 1
           },
           {
            "bin_start": 20618.399999999998,
            "bin_end": 22899,
            "count": 1
           }
          ]
         }
        },
        {
         "name": "MedQ",
         "dtype": "float64",
         "stats": {
          "unique_count": 8,
          "nan_count": 0,
          "min": "44.27601499604603",
          "max": "22899.0",
          "histogram": [
           {
            "bin_start": 44.27601499604603,
            "bin_end": 2329.7484134964416,
            "count": 7
           },
           {
            "bin_start": 2329.7484134964416,
            "bin_end": 4615.220811996837,
            "count": 0
           },
           {
            "bin_start": 4615.220811996837,
            "bin_end": 6900.693210497233,
            "count": 0
           },
           {
            "bin_start": 6900.693210497233,
            "bin_end": 9186.16560899763,
            "count": 0
           },
           {
            "bin_start": 9186.16560899763,
            "bin_end": 11471.638007498024,
            "count": 0
           },
           {
            "bin_start": 11471.638007498024,
            "bin_end": 13757.11040599842,
            "count": 0
           },
           {
            "bin_start": 13757.11040599842,
            "bin_end": 16042.582804498817,
            "count": 0
           },
           {
            "bin_start": 16042.582804498817,
            "bin_end": 18328.05520299921,
            "count": 0
           },
           {
            "bin_start": 18328.05520299921,
            "bin_end": 20613.527601499605,
            "count": 0
           },
           {
            "bin_start": 20613.527601499605,
            "bin_end": 22899,
            "count": 1
           }
          ]
         }
        },
        {
         "name": "MedQN",
         "dtype": "float64",
         "stats": {
          "unique_count": 8,
          "nan_count": 0,
          "min": "134.0",
          "max": "22899.0",
          "histogram": [
           {
            "bin_start": 134,
            "bin_end": 2410.5,
            "count": 4
           },
           {
            "bin_start": 2410.5,
            "bin_end": 4687,
            "count": 2
           },
           {
            "bin_start": 4687,
            "bin_end": 6963.5,
            "count": 0
           },
           {
            "bin_start": 6963.5,
            "bin_end": 9240,
            "count": 0
           },
           {
            "bin_start": 9240,
            "bin_end": 11516.5,
            "count": 0
           },
           {
            "bin_start": 11516.5,
            "bin_end": 13793,
            "count": 0
           },
           {
            "bin_start": 13793,
            "bin_end": 16069.5,
            "count": 0
           },
           {
            "bin_start": 16069.5,
            "bin_end": 18346,
            "count": 0
           },
           {
            "bin_start": 18346,
            "bin_end": 20622.5,
            "count": 0
           },
           {
            "bin_start": 20622.5,
            "bin_end": 22899,
            "count": 2
           }
          ]
         }
        },
        {
         "name": "LowQ",
         "dtype": "float64",
         "stats": {
          "unique_count": 8,
          "nan_count": 0,
          "min": "63.7",
          "max": "22899.0",
          "histogram": [
           {
            "bin_start": 63.7,
            "bin_end": 2347.2299999999996,
            "count": 7
           },
           {
            "bin_start": 2347.2299999999996,
            "bin_end": 4630.759999999999,
            "count": 0
           },
           {
            "bin_start": 4630.759999999999,
            "bin_end": 6914.289999999999,
            "count": 0
           },
           {
            "bin_start": 6914.289999999999,
            "bin_end": 9197.82,
            "count": 0
           },
           {
            "bin_start": 9197.82,
            "bin_end": 11481.349999999999,
            "count": 0
           },
           {
            "bin_start": 11481.349999999999,
            "bin_end": 13764.88,
            "count": 0
           },
           {
            "bin_start": 13764.88,
            "bin_end": 16048.41,
            "count": 0
           },
           {
            "bin_start": 16048.41,
            "bin_end": 18331.94,
            "count": 0
           },
           {
            "bin_start": 18331.94,
            "bin_end": 20615.469999999998,
            "count": 0
           },
           {
            "bin_start": 20615.469999999998,
            "bin_end": 22899,
            "count": 1
           }
          ]
         }
        },
        {
         "name": "LowQN",
         "dtype": "float64",
         "stats": {
          "unique_count": 8,
          "nan_count": 0,
          "min": "11.0",
          "max": "22899.0",
          "histogram": [
           {
            "bin_start": 11,
            "bin_end": 2299.8,
            "count": 7
           },
           {
            "bin_start": 2299.8,
            "bin_end": 4588.6,
            "count": 0
           },
           {
            "bin_start": 4588.6,
            "bin_end": 6877.400000000001,
            "count": 0
           },
           {
            "bin_start": 6877.400000000001,
            "bin_end": 9166.2,
            "count": 0
           },
           {
            "bin_start": 9166.2,
            "bin_end": 11455,
            "count": 0
           },
           {
            "bin_start": 11455,
            "bin_end": 13743.800000000001,
            "count": 0
           },
           {
            "bin_start": 13743.800000000001,
            "bin_end": 16032.600000000002,
            "count": 0
           },
           {
            "bin_start": 16032.600000000002,
            "bin_end": 18321.4,
            "count": 0
           },
           {
            "bin_start": 18321.4,
            "bin_end": 20610.2,
            "count": 0
           },
           {
            "bin_start": 20610.2,
            "bin_end": 22899,
            "count": 1
           }
          ]
         }
        },
        {
         "name": "year",
         "dtype": "float64",
         "stats": {
          "unique_count": 6,
          "nan_count": 0,
          "min": "0.401764829870652",
          "max": "22899.0",
          "histogram": [
           {
            "bin_start": 0.401764829870652,
            "bin_end": 2290.2615883468834,
            "count": 7
           },
           {
            "bin_start": 2290.2615883468834,
            "bin_end": 4580.121411863896,
            "count": 0
           },
           {
            "bin_start": 4580.121411863896,
            "bin_end": 6869.981235380909,
            "count": 0
           },
           {
            "bin_start": 6869.981235380909,
            "bin_end": 9159.841058897922,
            "count": 0
           },
           {
            "bin_start": 9159.841058897922,
            "bin_end": 11449.700882414936,
            "count": 0
           },
           {
            "bin_start": 11449.700882414936,
            "bin_end": 13739.560705931948,
            "count": 0
           },
           {
            "bin_start": 13739.560705931948,
            "bin_end": 16029.42052944896,
            "count": 0
           },
           {
            "bin_start": 16029.42052944896,
            "bin_end": 18319.280352965976,
            "count": 0
           },
           {
            "bin_start": 18319.280352965976,
            "bin_end": 20609.14017648299,
            "count": 0
           },
           {
            "bin_start": 20609.14017648299,
            "bin_end": 22899,
            "count": 1
           }
          ]
         }
        },
        {
         "name": "month",
         "dtype": "float64",
         "stats": {
          "unique_count": 8,
          "nan_count": 0,
          "min": "1.0",
          "max": "22899.0",
          "histogram": [
           {
            "bin_start": 1,
            "bin_end": 2290.8,
            "count": 7
           },
           {
            "bin_start": 2290.8,
            "bin_end": 4580.6,
            "count": 0
           },
           {
            "bin_start": 4580.6,
            "bin_end": 6870.400000000001,
            "count": 0
           },
           {
            "bin_start": 6870.400000000001,
            "bin_end": 9160.2,
            "count": 0
           },
           {
            "bin_start": 9160.2,
            "bin_end": 11450,
            "count": 0
           },
           {
            "bin_start": 11450,
            "bin_end": 13739.800000000001,
            "count": 0
           },
           {
            "bin_start": 13739.800000000001,
            "bin_end": 16029.600000000002,
            "count": 0
           },
           {
            "bin_start": 16029.600000000002,
            "bin_end": 18319.4,
            "count": 0
           },
           {
            "bin_start": 18319.4,
            "bin_end": 20609.2,
            "count": 0
           },
           {
            "bin_start": 20609.2,
            "bin_end": 22899,
            "count": 1
           }
          ]
         }
        },
        {
         "name": "week",
         "dtype": "float64",
         "stats": {
          "unique_count": 8,
          "nan_count": 0,
          "min": "1.0",
          "max": "22899.0",
          "histogram": [
           {
            "bin_start": 1,
            "bin_end": 2290.8,
            "count": 7
           },
           {
            "bin_start": 2290.8,
            "bin_end": 4580.6,
            "count": 0
           },
           {
            "bin_start": 4580.6,
            "bin_end": 6870.400000000001,
            "count": 0
           },
           {
            "bin_start": 6870.400000000001,
            "bin_end": 9160.2,
            "count": 0
           },
           {
            "bin_start": 9160.2,
            "bin_end": 11450,
            "count": 0
           },
           {
            "bin_start": 11450,
            "bin_end": 13739.800000000001,
            "count": 0
           },
           {
            "bin_start": 13739.800000000001,
            "bin_end": 16029.600000000002,
            "count": 0
           },
           {
            "bin_start": 16029.600000000002,
            "bin_end": 18319.4,
            "count": 0
           },
           {
            "bin_start": 18319.4,
            "bin_end": 20609.2,
            "count": 0
           },
           {
            "bin_start": 20609.2,
            "bin_end": 22899,
            "count": 1
           }
          ]
         }
        },
        {
         "name": "weekday",
         "dtype": "float64",
         "stats": {
          "unique_count": 8,
          "nan_count": 0,
          "min": "0.0",
          "max": "22899.0",
          "histogram": [
           {
            "bin_start": 0,
            "bin_end": 2289.9,
            "count": 7
           },
           {
            "bin_start": 2289.9,
            "bin_end": 4579.8,
            "count": 0
           },
           {
            "bin_start": 4579.8,
            "bin_end": 6869.700000000001,
            "count": 0
           },
           {
            "bin_start": 6869.700000000001,
            "bin_end": 9159.6,
            "count": 0
           },
           {
            "bin_start": 9159.6,
            "bin_end": 11449.5,
            "count": 0
           },
           {
            "bin_start": 11449.5,
            "bin_end": 13739.400000000001,
            "count": 0
           },
           {
            "bin_start": 13739.400000000001,
            "bin_end": 16029.300000000001,
            "count": 0
           },
           {
            "bin_start": 16029.300000000001,
            "bin_end": 18319.2,
            "count": 0
           },
           {
            "bin_start": 18319.2,
            "bin_end": 20609.100000000002,
            "count": 0
           },
           {
            "bin_start": 20609.100000000002,
            "bin_end": 22899,
            "count": 1
           }
          ]
         }
        },
        {
         "name": "_deepnote_index_column",
         "dtype": "object"
        }
       ],
       "rows_top": [
        {
         "HighQ": 22899,
         "HighQN": 22899,
         "MedQ": 22899,
         "MedQN": 22899,
         "LowQ": 22899,
         "LowQN": 22899,
         "year": 22899,
         "month": 22899,
         "week": 22899,
         "weekday": 22899,
         "_deepnote_index_column": "count"
        },
        {
         "HighQ": 329.75985414210226,
         "HighQN": 2274.74365692825,
         "MedQ": 247.61830603956503,
         "MedQN": 2183.7378051443293,
         "LowQ": 203.62409188174158,
         "LowQN": 202.8044892790078,
         "year": 2014.1670378619153,
         "month": 5.953229398663697,
         "week": 23.812917594654788,
         "weekday": 2.9955456570155903,
         "_deepnote_index_column": "mean"
        },
        {
         "HighQ": 41.17316698012693,
         "HighQN": 2641.936586010884,
         "MedQ": 44.27601499604603,
         "MedQN": 2789.90262636351,
         "LowQ": 101.48426523972934,
         "LowQN": 220.53198684833197,
         "year": 0.401764829870652,
         "month": 3.5530548826748913,
         "week": 15.426017922763602,
         "weekday": 2.0055990459906727,
         "_deepnote_index_column": "std"
        },
        {
         "HighQ": 202.02,
         "HighQN": 93,
         "MedQ": 144.85,
         "MedQN": 134,
         "LowQ": 63.7,
         "LowQN": 11,
         "year": 2013,
         "month": 1,
         "week": 1,
         "weekday": 0,
         "_deepnote_index_column": "min"
        },
        {
         "HighQ": 303.78,
         "HighQN": 597,
         "MedQ": 215.775,
         "MedQN": 548,
         "LowQ": 145.81,
         "LowQN": 51,
         "year": 2014,
         "month": 3,
         "week": 9,
         "weekday": 1,
         "_deepnote_index_column": "25%"
        },
        {
         "HighQ": 342.31,
         "HighQN": 1420,
         "MedQ": 245.8,
         "MedQN": 1320,
         "LowQ": 185.78,
         "LowQN": 139,
         "year": 2014,
         "month": 6,
         "week": 22,
         "weekday": 3,
         "_deepnote_index_column": "50%"
        },
        {
         "HighQ": 356.55,
         "HighQN": 2958,
         "MedQ": 274.155,
         "MedQN": 2673,
         "LowQ": 222.94,
         "LowQN": 263,
         "year": 2014,
         "month": 9,
         "week": 37,
         "weekday": 5,
         "_deepnote_index_column": "75%"
        },
        {
         "HighQ": 415.7,
         "HighQN": 18492,
         "MedQ": 379,
         "MedQN": 22027,
         "LowQ": 734.65,
         "LowQN": 1287,
         "year": 2015,
         "month": 12,
         "week": 52,
         "weekday": 6,
         "_deepnote_index_column": "max"
        }
       ],
       "rows_bottom": null
      },
      "text/plain": "              HighQ        HighQN          MedQ         MedQN          LowQ  \\\ncount  22899.000000  22899.000000  22899.000000  22899.000000  22899.000000   \nmean     329.759854   2274.743657    247.618306   2183.737805    203.624092   \nstd       41.173167   2641.936586     44.276015   2789.902626    101.484265   \nmin      202.020000     93.000000    144.850000    134.000000     63.700000   \n25%      303.780000    597.000000    215.775000    548.000000    145.810000   \n50%      342.310000   1420.000000    245.800000   1320.000000    185.780000   \n75%      356.550000   2958.000000    274.155000   2673.000000    222.940000   \nmax      415.700000  18492.000000    379.000000  22027.000000    734.650000   \n\n              LowQN          year         month          week       weekday  \ncount  22899.000000  22899.000000  22899.000000  22899.000000  22899.000000  \nmean     202.804489   2014.167038      5.953229     23.812918      2.995546  \nstd      220.531987      0.401765      3.553055     15.426018      2.005599  \nmin       11.000000   2013.000000      1.000000      1.000000      0.000000  \n25%       51.000000   2014.000000      3.000000      9.000000      1.000000  \n50%      139.000000   2014.000000      6.000000     22.000000      3.000000  \n75%      263.000000   2014.000000      9.000000     37.000000      5.000000  \nmax     1287.000000   2015.000000     12.000000     52.000000      6.000000  ",
      "text/html": "<div>\n<style scoped>\n    .dataframe tbody tr th:only-of-type {\n        vertical-align: middle;\n    }\n\n    .dataframe tbody tr th {\n        vertical-align: top;\n    }\n\n    .dataframe thead th {\n        text-align: right;\n    }\n</style>\n<table border=\"1\" class=\"dataframe\">\n  <thead>\n    <tr style=\"text-align: right;\">\n      <th></th>\n      <th>HighQ</th>\n      <th>HighQN</th>\n      <th>MedQ</th>\n      <th>MedQN</th>\n      <th>LowQ</th>\n      <th>LowQN</th>\n      <th>year</th>\n      <th>month</th>\n      <th>week</th>\n      <th>weekday</th>\n    </tr>\n  </thead>\n  <tbody>\n    <tr>\n      <th>count</th>\n      <td>22899.000000</td>\n      <td>22899.000000</td>\n      <td>22899.000000</td>\n      <td>22899.000000</td>\n      <td>22899.000000</td>\n      <td>22899.000000</td>\n      <td>22899.000000</td>\n      <td>22899.000000</td>\n      <td>22899.000000</td>\n      <td>22899.000000</td>\n    </tr>\n    <tr>\n      <th>mean</th>\n      <td>329.759854</td>\n      <td>2274.743657</td>\n      <td>247.618306</td>\n      <td>2183.737805</td>\n      <td>203.624092</td>\n      <td>202.804489</td>\n      <td>2014.167038</td>\n      <td>5.953229</td>\n      <td>23.812918</td>\n      <td>2.995546</td>\n    </tr>\n    <tr>\n      <th>std</th>\n      <td>41.173167</td>\n      <td>2641.936586</td>\n      <td>44.276015</td>\n      <td>2789.902626</td>\n      <td>101.484265</td>\n      <td>220.531987</td>\n      <td>0.401765</td>\n      <td>3.553055</td>\n      <td>15.426018</td>\n      <td>2.005599</td>\n    </tr>\n    <tr>\n      <th>min</th>\n      <td>202.020000</td>\n      <td>93.000000</td>\n      <td>144.850000</td>\n      <td>134.000000</td>\n      <td>63.700000</td>\n      <td>11.000000</td>\n      <td>2013.000000</td>\n      <td>1.000000</td>\n      <td>1.000000</td>\n      <td>0.000000</td>\n    </tr>\n    <tr>\n      <th>25%</th>\n      <td>303.780000</td>\n      <td>597.000000</td>\n      <td>215.775000</td>\n      <td>548.000000</td>\n      <td>145.810000</td>\n      <td>51.000000</td>\n      <td>2014.000000</td>\n      <td>3.000000</td>\n      <td>9.000000</td>\n      <td>1.000000</td>\n    </tr>\n    <tr>\n      <th>50%</th>\n      <td>342.310000</td>\n      <td>1420.000000</td>\n      <td>245.800000</td>\n      <td>1320.000000</td>\n      <td>185.780000</td>\n      <td>139.000000</td>\n      <td>2014.000000</td>\n      <td>6.000000</td>\n      <td>22.000000</td>\n      <td>3.000000</td>\n    </tr>\n    <tr>\n      <th>75%</th>\n      <td>356.550000</td>\n      <td>2958.000000</td>\n      <td>274.155000</td>\n      <td>2673.000000</td>\n      <td>222.940000</td>\n      <td>263.000000</td>\n      <td>2014.000000</td>\n      <td>9.000000</td>\n      <td>37.000000</td>\n      <td>5.000000</td>\n    </tr>\n    <tr>\n      <th>max</th>\n      <td>415.700000</td>\n      <td>18492.000000</td>\n      <td>379.000000</td>\n      <td>22027.000000</td>\n      <td>734.650000</td>\n      <td>1287.000000</td>\n      <td>2015.000000</td>\n      <td>12.000000</td>\n      <td>52.000000</td>\n      <td>6.000000</td>\n    </tr>\n  </tbody>\n</table>\n</div>"
     },
     "metadata": {}
    }
   ]
  },
  {
   "cell_type": "markdown",
   "source": "We can also use convenience functions like sum(), count(), mean() etc. to calculate these",
   "metadata": {
    "cell_id": "00073-08eb575f-d9f0-4066-b52c-06ec02b6999e",
    "deepnote_cell_type": "markdown"
   }
  },
  {
   "cell_type": "code",
   "metadata": {
    "collapsed": false,
    "cell_id": "00074-2e760d0b-d17d-4920-a1ae-9f5dcc67730e",
    "deepnote_to_be_reexecuted": false,
    "source_hash": "7b8ce5eb",
    "execution_start": 1624848983229,
    "execution_millis": 13,
    "deepnote_cell_type": "code"
   },
   "source": "df.HighQ.mean()",
   "execution_count": 54,
   "outputs": [
    {
     "output_type": "execute_result",
     "execution_count": 54,
     "data": {
      "text/plain": "329.75985414210226"
     },
     "metadata": {}
    }
   ]
  },
  {
   "cell_type": "code",
   "metadata": {
    "collapsed": false,
    "cell_id": "00075-b6913885-6258-46e1-86a5-9e1411e70b03",
    "deepnote_to_be_reexecuted": false,
    "source_hash": "b19eb3a8",
    "execution_start": 1624848985113,
    "execution_millis": 11,
    "deepnote_cell_type": "code"
   },
   "source": "# Lets do this the hard way\ndf.HighQ.sum()",
   "execution_count": 55,
   "outputs": [
    {
     "output_type": "execute_result",
     "execution_count": 55,
     "data": {
      "text/plain": "7551170.899999999"
     },
     "metadata": {}
    }
   ]
  },
  {
   "cell_type": "code",
   "metadata": {
    "collapsed": false,
    "cell_id": "00076-f3f774a6-2c7c-42f7-b364-d6b43d6a2c3d",
    "deepnote_to_be_reexecuted": false,
    "source_hash": "77de9104",
    "execution_start": 1624848986075,
    "execution_millis": 16,
    "deepnote_cell_type": "code"
   },
   "source": "df.HighQ.count()",
   "execution_count": 56,
   "outputs": [
    {
     "output_type": "execute_result",
     "execution_count": 56,
     "data": {
      "text/plain": "22899"
     },
     "metadata": {}
    }
   ]
  },
  {
   "cell_type": "code",
   "metadata": {
    "collapsed": false,
    "cell_id": "00077-98c7b1fe-c076-4301-b873-640202078d28",
    "deepnote_to_be_reexecuted": false,
    "source_hash": "9e2d805a",
    "execution_start": 1624848987792,
    "execution_millis": 8,
    "deepnote_cell_type": "code"
   },
   "source": "df.HighQ.sum()/df.HighQ.count()",
   "execution_count": 57,
   "outputs": [
    {
     "output_type": "execute_result",
     "execution_count": 57,
     "data": {
      "text/plain": "329.75985414210226"
     },
     "metadata": {}
    }
   ]
  },
  {
   "cell_type": "code",
   "metadata": {
    "collapsed": false,
    "cell_id": "00078-85ec9b96-5ed4-4ea9-8575-4d52cb7785f6",
    "deepnote_to_be_reexecuted": false,
    "source_hash": "1790c853",
    "execution_start": 1624848991807,
    "execution_millis": 10,
    "deepnote_cell_type": "code"
   },
   "source": "df.HighQ.median()",
   "execution_count": 58,
   "outputs": [
    {
     "output_type": "execute_result",
     "execution_count": 58,
     "data": {
      "text/plain": "342.31"
     },
     "metadata": {}
    }
   ]
  },
  {
   "cell_type": "code",
   "source": "df.info()",
   "metadata": {
    "tags": [],
    "cell_id": "00084-fb88cd38-aa24-4877-916e-f5cd27764fd4",
    "deepnote_to_be_reexecuted": false,
    "source_hash": "de1e323c",
    "execution_start": 1624848999825,
    "execution_millis": 16,
    "deepnote_cell_type": "code"
   },
   "outputs": [
    {
     "name": "stdout",
     "text": "<class 'pandas.core.frame.DataFrame'>\nInt64Index: 22899 entries, 20094 to 8159\nData columns (total 12 columns):\n #   Column   Non-Null Count  Dtype         \n---  ------   --------------  -----         \n 0   State    22899 non-null  object        \n 1   HighQ    22899 non-null  float64       \n 2   HighQN   22899 non-null  int64         \n 3   MedQ     22899 non-null  float64       \n 4   MedQN    22899 non-null  int64         \n 5   LowQ     22899 non-null  float64       \n 6   LowQN    22899 non-null  int64         \n 7   date     22899 non-null  datetime64[ns]\n 8   year     22899 non-null  int64         \n 9   month    22899 non-null  int64         \n 10  week     22899 non-null  int64         \n 11  weekday  22899 non-null  int64         \ndtypes: datetime64[ns](1), float64(3), int64(7), object(1)\nmemory usage: 2.3+ MB\n",
     "output_type": "stream"
    }
   ],
   "execution_count": 59
  },
  {
   "cell_type": "code",
   "source": "df.head()",
   "metadata": {
    "tags": [],
    "cell_id": "00085-96250cbe-f52a-463f-9df6-a67544bebedd",
    "deepnote_to_be_reexecuted": false,
    "source_hash": "c085b6ba",
    "execution_start": 1624849008414,
    "execution_millis": 44,
    "deepnote_cell_type": "code"
   },
   "outputs": [
    {
     "output_type": "execute_result",
     "execution_count": 60,
     "data": {
      "application/vnd.deepnote.dataframe.v2+json": {
       "row_count": 5,
       "column_count": 12,
       "columns": [
        {
         "name": "State",
         "dtype": "object",
         "stats": {
          "unique_count": 1,
          "nan_count": 0,
          "categories": [
           {
            "name": "Alabama",
            "count": 5
           }
          ]
         }
        },
        {
         "name": "HighQ",
         "dtype": "float64",
         "stats": {
          "unique_count": 3,
          "nan_count": 0,
          "min": "339.42",
          "max": "339.75",
          "histogram": [
           {
            "bin_start": 339.42,
            "bin_end": 339.45300000000003,
            "count": 1
           },
           {
            "bin_start": 339.45300000000003,
            "bin_end": 339.486,
            "count": 0
           },
           {
            "bin_start": 339.486,
            "bin_end": 339.519,
            "count": 0
           },
           {
            "bin_start": 339.519,
            "bin_end": 339.552,
            "count": 0
           },
           {
            "bin_start": 339.552,
            "bin_end": 339.58500000000004,
            "count": 0
           },
           {
            "bin_start": 339.58500000000004,
            "bin_end": 339.618,
            "count": 0
           },
           {
            "bin_start": 339.618,
            "bin_end": 339.651,
            "count": 2
           },
           {
            "bin_start": 339.651,
            "bin_end": 339.684,
            "count": 0
           },
           {
            "bin_start": 339.684,
            "bin_end": 339.717,
            "count": 0
           },
           {
            "bin_start": 339.717,
            "bin_end": 339.75,
            "count": 2
           }
          ]
         }
        },
        {
         "name": "HighQN",
         "dtype": "int64",
         "stats": {
          "unique_count": 3,
          "nan_count": 0,
          "min": "1033",
          "max": "1040",
          "histogram": [
           {
            "bin_start": 1033,
            "bin_end": 1033.7,
            "count": 2
           },
           {
            "bin_start": 1033.7,
            "bin_end": 1034.4,
            "count": 0
           },
           {
            "bin_start": 1034.4,
            "bin_end": 1035.1,
            "count": 0
           },
           {
            "bin_start": 1035.1,
            "bin_end": 1035.8,
            "count": 0
           },
           {
            "bin_start": 1035.8,
            "bin_end": 1036.5,
            "count": 2
           },
           {
            "bin_start": 1036.5,
            "bin_end": 1037.2,
            "count": 0
           },
           {
            "bin_start": 1037.2,
            "bin_end": 1037.9,
            "count": 0
           },
           {
            "bin_start": 1037.9,
            "bin_end": 1038.6,
            "count": 0
           },
           {
            "bin_start": 1038.6,
            "bin_end": 1039.3,
            "count": 0
           },
           {
            "bin_start": 1039.3,
            "bin_end": 1040,
            "count": 1
           }
          ]
         }
        },
        {
         "name": "MedQ",
         "dtype": "float64",
         "stats": {
          "unique_count": 4,
          "nan_count": 0,
          "min": "198.04",
          "max": "198.81",
          "histogram": [
           {
            "bin_start": 198.04,
            "bin_end": 198.117,
            "count": 2
           },
           {
            "bin_start": 198.117,
            "bin_end": 198.194,
            "count": 0
           },
           {
            "bin_start": 198.194,
            "bin_end": 198.271,
            "count": 1
           },
           {
            "bin_start": 198.271,
            "bin_end": 198.34799999999998,
            "count": 0
           },
           {
            "bin_start": 198.34799999999998,
            "bin_end": 198.425,
            "count": 0
           },
           {
            "bin_start": 198.425,
            "bin_end": 198.502,
            "count": 0
           },
           {
            "bin_start": 198.502,
            "bin_end": 198.579,
            "count": 0
           },
           {
            "bin_start": 198.579,
            "bin_end": 198.656,
            "count": 0
           },
           {
            "bin_start": 198.656,
            "bin_end": 198.733,
            "count": 1
           },
           {
            "bin_start": 198.733,
            "bin_end": 198.81,
            "count": 1
           }
          ]
         }
        },
        {
         "name": "MedQN",
         "dtype": "int64",
         "stats": {
          "unique_count": 4,
          "nan_count": 0,
          "min": "926",
          "max": "932",
          "histogram": [
           {
            "bin_start": 926,
            "bin_end": 926.6,
            "count": 2
           },
           {
            "bin_start": 926.6,
            "bin_end": 927.2,
            "count": 0
           },
           {
            "bin_start": 927.2,
            "bin_end": 927.8,
            "count": 0
           },
           {
            "bin_start": 927.8,
            "bin_end": 928.4,
            "count": 0
           },
           {
            "bin_start": 928.4,
            "bin_end": 929,
            "count": 0
           },
           {
            "bin_start": 929,
            "bin_end": 929.6,
            "count": 1
           },
           {
            "bin_start": 929.6,
            "bin_end": 930.2,
            "count": 1
           },
           {
            "bin_start": 930.2,
            "bin_end": 930.8,
            "count": 0
           },
           {
            "bin_start": 930.8,
            "bin_end": 931.4,
            "count": 0
           },
           {
            "bin_start": 931.4,
            "bin_end": 932,
            "count": 1
           }
          ]
         }
        },
        {
         "name": "LowQ",
         "dtype": "float64",
         "stats": {
          "unique_count": 2,
          "nan_count": 0,
          "min": "147.15",
          "max": "149.49",
          "histogram": [
           {
            "bin_start": 147.15,
            "bin_end": 147.38400000000001,
            "count": 2
           },
           {
            "bin_start": 147.38400000000001,
            "bin_end": 147.618,
            "count": 0
           },
           {
            "bin_start": 147.618,
            "bin_end": 147.852,
            "count": 0
           },
           {
            "bin_start": 147.852,
            "bin_end": 148.086,
            "count": 0
           },
           {
            "bin_start": 148.086,
            "bin_end": 148.32,
            "count": 0
           },
           {
            "bin_start": 148.32,
            "bin_end": 148.554,
            "count": 0
           },
           {
            "bin_start": 148.554,
            "bin_end": 148.788,
            "count": 0
           },
           {
            "bin_start": 148.788,
            "bin_end": 149.02200000000002,
            "count": 0
           },
           {
            "bin_start": 149.02200000000002,
            "bin_end": 149.256,
            "count": 0
           },
           {
            "bin_start": 149.256,
            "bin_end": 149.49,
            "count": 3
           }
          ]
         }
        },
        {
         "name": "LowQN",
         "dtype": "int64",
         "stats": {
          "unique_count": 2,
          "nan_count": 0,
          "min": "122",
          "max": "123",
          "histogram": [
           {
            "bin_start": 122,
            "bin_end": 122.1,
            "count": 2
           },
           {
            "bin_start": 122.1,
            "bin_end": 122.2,
            "count": 0
           },
           {
            "bin_start": 122.2,
            "bin_end": 122.3,
            "count": 0
           },
           {
            "bin_start": 122.3,
            "bin_end": 122.4,
            "count": 0
           },
           {
            "bin_start": 122.4,
            "bin_end": 122.5,
            "count": 0
           },
           {
            "bin_start": 122.5,
            "bin_end": 122.6,
            "count": 0
           },
           {
            "bin_start": 122.6,
            "bin_end": 122.7,
            "count": 0
           },
           {
            "bin_start": 122.7,
            "bin_end": 122.8,
            "count": 0
           },
           {
            "bin_start": 122.8,
            "bin_end": 122.9,
            "count": 0
           },
           {
            "bin_start": 122.9,
            "bin_end": 123,
            "count": 3
           }
          ]
         }
        },
        {
         "name": "date",
         "dtype": "datetime64[ns]",
         "stats": {
          "unique_count": 5,
          "nan_count": 0,
          "min": "2013-12-27 00:00:00",
          "max": "2013-12-31 00:00:00",
          "histogram": [
           {
            "bin_start": 1388102400000000000,
            "bin_end": 1388136960000000000,
            "count": 1
           },
           {
            "bin_start": 1388136960000000000,
            "bin_end": 1388171520000000000,
            "count": 0
           },
           {
            "bin_start": 1388171520000000000,
            "bin_end": 1388206080000000000,
            "count": 1
           },
           {
            "bin_start": 1388206080000000000,
            "bin_end": 1388240640000000000,
            "count": 0
           },
           {
            "bin_start": 1388240640000000000,
            "bin_end": 1388275200000000000,
            "count": 0
           },
           {
            "bin_start": 1388275200000000000,
            "bin_end": 1388309760000000000,
            "count": 1
           },
           {
            "bin_start": 1388309760000000000,
            "bin_end": 1388344320000000000,
            "count": 0
           },
           {
            "bin_start": 1388344320000000000,
            "bin_end": 1388378880000000000,
            "count": 1
           },
           {
            "bin_start": 1388378880000000000,
            "bin_end": 1388413440000000000,
            "count": 0
           },
           {
            "bin_start": 1388413440000000000,
            "bin_end": 1388448000000000000,
            "count": 1
           }
          ]
         }
        },
        {
         "name": "year",
         "dtype": "int64",
         "stats": {
          "unique_count": 1,
          "nan_count": 0,
          "min": "2013",
          "max": "2013",
          "histogram": [
           {
            "bin_start": 2012.5,
            "bin_end": 2012.6,
            "count": 0
           },
           {
            "bin_start": 2012.6,
            "bin_end": 2012.7,
            "count": 0
           },
           {
            "bin_start": 2012.7,
            "bin_end": 2012.8,
            "count": 0
           },
           {
            "bin_start": 2012.8,
            "bin_end": 2012.9,
            "count": 0
           },
           {
            "bin_start": 2012.9,
            "bin_end": 2013,
            "count": 0
           },
           {
            "bin_start": 2013,
            "bin_end": 2013.1,
            "count": 5
           },
           {
            "bin_start": 2013.1,
            "bin_end": 2013.2,
            "count": 0
           },
           {
            "bin_start": 2013.2,
            "bin_end": 2013.3,
            "count": 0
           },
           {
            "bin_start": 2013.3,
            "bin_end": 2013.4,
            "count": 0
           },
           {
            "bin_start": 2013.4,
            "bin_end": 2013.5,
            "count": 0
           }
          ]
         }
        },
        {
         "name": "month",
         "dtype": "int64",
         "stats": {
          "unique_count": 1,
          "nan_count": 0,
          "min": "12",
          "max": "12",
          "histogram": [
           {
            "bin_start": 11.5,
            "bin_end": 11.6,
            "count": 0
           },
           {
            "bin_start": 11.6,
            "bin_end": 11.7,
            "count": 0
           },
           {
            "bin_start": 11.7,
            "bin_end": 11.8,
            "count": 0
           },
           {
            "bin_start": 11.8,
            "bin_end": 11.9,
            "count": 0
           },
           {
            "bin_start": 11.9,
            "bin_end": 12,
            "count": 0
           },
           {
            "bin_start": 12,
            "bin_end": 12.1,
            "count": 5
           },
           {
            "bin_start": 12.1,
            "bin_end": 12.2,
            "count": 0
           },
           {
            "bin_start": 12.2,
            "bin_end": 12.3,
            "count": 0
           },
           {
            "bin_start": 12.3,
            "bin_end": 12.4,
            "count": 0
           },
           {
            "bin_start": 12.4,
            "bin_end": 12.5,
            "count": 0
           }
          ]
         }
        },
        {
         "name": "week",
         "dtype": "int64",
         "stats": {
          "unique_count": 2,
          "nan_count": 0,
          "min": "1",
          "max": "52",
          "histogram": [
           {
            "bin_start": 1,
            "bin_end": 6.1,
            "count": 2
           },
           {
            "bin_start": 6.1,
            "bin_end": 11.2,
            "count": 0
           },
           {
            "bin_start": 11.2,
            "bin_end": 16.299999999999997,
            "count": 0
           },
           {
            "bin_start": 16.299999999999997,
            "bin_end": 21.4,
            "count": 0
           },
           {
            "bin_start": 21.4,
            "bin_end": 26.5,
            "count": 0
           },
           {
            "bin_start": 26.5,
            "bin_end": 31.599999999999998,
            "count": 0
           },
           {
            "bin_start": 31.599999999999998,
            "bin_end": 36.699999999999996,
            "count": 0
           },
           {
            "bin_start": 36.699999999999996,
            "bin_end": 41.8,
            "count": 0
           },
           {
            "bin_start": 41.8,
            "bin_end": 46.9,
            "count": 0
           },
           {
            "bin_start": 46.9,
            "bin_end": 52,
            "count": 3
           }
          ]
         }
        },
        {
         "name": "weekday",
         "dtype": "int64",
         "stats": {
          "unique_count": 5,
          "nan_count": 0,
          "min": "0",
          "max": "6",
          "histogram": [
           {
            "bin_start": 0,
            "bin_end": 0.6,
            "count": 1
           },
           {
            "bin_start": 0.6,
            "bin_end": 1.2,
            "count": 1
           },
           {
            "bin_start": 1.2,
            "bin_end": 1.7999999999999998,
            "count": 0
           },
           {
            "bin_start": 1.7999999999999998,
            "bin_end": 2.4,
            "count": 0
           },
           {
            "bin_start": 2.4,
            "bin_end": 3,
            "count": 0
           },
           {
            "bin_start": 3,
            "bin_end": 3.5999999999999996,
            "count": 0
           },
           {
            "bin_start": 3.5999999999999996,
            "bin_end": 4.2,
            "count": 1
           },
           {
            "bin_start": 4.2,
            "bin_end": 4.8,
            "count": 0
           },
           {
            "bin_start": 4.8,
            "bin_end": 5.3999999999999995,
            "count": 1
           },
           {
            "bin_start": 5.3999999999999995,
            "bin_end": 6,
            "count": 1
           }
          ]
         }
        },
        {
         "name": "_deepnote_index_column",
         "dtype": "int64"
        }
       ],
       "rows_top": [
        {
         "State": "Alabama",
         "HighQ": 339.65,
         "HighQN": 1033,
         "MedQ": 198.04,
         "MedQN": 926,
         "LowQ": 147.15,
         "LowQN": 122,
         "date": "2013-12-27T00:00:00.000000",
         "year": 2013,
         "month": 12,
         "week": 52,
         "weekday": 4,
         "_deepnote_index_column": 20094
        },
        {
         "State": "Alabama",
         "HighQ": 339.65,
         "HighQN": 1033,
         "MedQ": 198.04,
         "MedQN": 926,
         "LowQ": 147.15,
         "LowQN": 122,
         "date": "2013-12-28T00:00:00.000000",
         "year": 2013,
         "month": 12,
         "week": 52,
         "weekday": 5,
         "_deepnote_index_column": 20859
        },
        {
         "State": "Alabama",
         "HighQ": 339.75,
         "HighQN": 1036,
         "MedQ": 198.26,
         "MedQN": 929,
         "LowQ": 149.49,
         "LowQN": 123,
         "date": "2013-12-29T00:00:00.000000",
         "year": 2013,
         "month": 12,
         "week": 52,
         "weekday": 6,
         "_deepnote_index_column": 21573
        },
        {
         "State": "Alabama",
         "HighQ": 339.75,
         "HighQN": 1036,
         "MedQ": 198.81,
         "MedQN": 930,
         "LowQ": 149.49,
         "LowQN": 123,
         "date": "2013-12-30T00:00:00.000000",
         "year": 2013,
         "month": 12,
         "week": 1,
         "weekday": 0,
         "_deepnote_index_column": 22287
        },
        {
         "State": "Alabama",
         "HighQ": 339.42,
         "HighQN": 1040,
         "MedQ": 198.68,
         "MedQN": 932,
         "LowQ": 149.49,
         "LowQN": 123,
         "date": "2013-12-31T00:00:00.000000",
         "year": 2013,
         "month": 12,
         "week": 1,
         "weekday": 1,
         "_deepnote_index_column": 22797
        }
       ],
       "rows_bottom": null
      },
      "text/plain": "         State   HighQ  HighQN    MedQ  MedQN    LowQ  LowQN       date  year  \\\n20094  Alabama  339.65    1033  198.04    926  147.15    122 2013-12-27  2013   \n20859  Alabama  339.65    1033  198.04    926  147.15    122 2013-12-28  2013   \n21573  Alabama  339.75    1036  198.26    929  149.49    123 2013-12-29  2013   \n22287  Alabama  339.75    1036  198.81    930  149.49    123 2013-12-30  2013   \n22797  Alabama  339.42    1040  198.68    932  149.49    123 2013-12-31  2013   \n\n       month  week  weekday  \n20094     12    52        4  \n20859     12    52        5  \n21573     12    52        6  \n22287     12     1        0  \n22797     12     1        1  ",
      "text/html": "<div>\n<style scoped>\n    .dataframe tbody tr th:only-of-type {\n        vertical-align: middle;\n    }\n\n    .dataframe tbody tr th {\n        vertical-align: top;\n    }\n\n    .dataframe thead th {\n        text-align: right;\n    }\n</style>\n<table border=\"1\" class=\"dataframe\">\n  <thead>\n    <tr style=\"text-align: right;\">\n      <th></th>\n      <th>State</th>\n      <th>HighQ</th>\n      <th>HighQN</th>\n      <th>MedQ</th>\n      <th>MedQN</th>\n      <th>LowQ</th>\n      <th>LowQN</th>\n      <th>date</th>\n      <th>year</th>\n      <th>month</th>\n      <th>week</th>\n      <th>weekday</th>\n    </tr>\n  </thead>\n  <tbody>\n    <tr>\n      <th>20094</th>\n      <td>Alabama</td>\n      <td>339.65</td>\n      <td>1033</td>\n      <td>198.04</td>\n      <td>926</td>\n      <td>147.15</td>\n      <td>122</td>\n      <td>2013-12-27</td>\n      <td>2013</td>\n      <td>12</td>\n      <td>52</td>\n      <td>4</td>\n    </tr>\n    <tr>\n      <th>20859</th>\n      <td>Alabama</td>\n      <td>339.65</td>\n      <td>1033</td>\n      <td>198.04</td>\n      <td>926</td>\n      <td>147.15</td>\n      <td>122</td>\n      <td>2013-12-28</td>\n      <td>2013</td>\n      <td>12</td>\n      <td>52</td>\n      <td>5</td>\n    </tr>\n    <tr>\n      <th>21573</th>\n      <td>Alabama</td>\n      <td>339.75</td>\n      <td>1036</td>\n      <td>198.26</td>\n      <td>929</td>\n      <td>149.49</td>\n      <td>123</td>\n      <td>2013-12-29</td>\n      <td>2013</td>\n      <td>12</td>\n      <td>52</td>\n      <td>6</td>\n    </tr>\n    <tr>\n      <th>22287</th>\n      <td>Alabama</td>\n      <td>339.75</td>\n      <td>1036</td>\n      <td>198.81</td>\n      <td>930</td>\n      <td>149.49</td>\n      <td>123</td>\n      <td>2013-12-30</td>\n      <td>2013</td>\n      <td>12</td>\n      <td>1</td>\n      <td>0</td>\n    </tr>\n    <tr>\n      <th>22797</th>\n      <td>Alabama</td>\n      <td>339.42</td>\n      <td>1040</td>\n      <td>198.68</td>\n      <td>932</td>\n      <td>149.49</td>\n      <td>123</td>\n      <td>2013-12-31</td>\n      <td>2013</td>\n      <td>12</td>\n      <td>1</td>\n      <td>1</td>\n    </tr>\n  </tbody>\n</table>\n</div>"
     },
     "metadata": {}
    }
   ],
   "execution_count": 60
  },
  {
   "cell_type": "code",
   "source": "df.tail()",
   "metadata": {
    "tags": [],
    "cell_id": "00086-448ce48d-b923-4bf7-a3ec-a85e482adfe2",
    "deepnote_to_be_reexecuted": false,
    "source_hash": "838c0c28",
    "execution_start": 1624849020299,
    "execution_millis": 9,
    "deepnote_cell_type": "code"
   },
   "outputs": [
    {
     "output_type": "execute_result",
     "execution_count": 61,
     "data": {
      "application/vnd.deepnote.dataframe.v2+json": {
       "row_count": 5,
       "column_count": 12,
       "columns": [
        {
         "name": "State",
         "dtype": "object",
         "stats": {
          "unique_count": 1,
          "nan_count": 0,
          "categories": [
           {
            "name": "Wyoming",
            "count": 5
           }
          ]
         }
        },
        {
         "name": "HighQ",
         "dtype": "float64",
         "stats": {
          "unique_count": 1,
          "nan_count": 0,
          "min": "313.72",
          "max": "313.72",
          "histogram": [
           {
            "bin_start": 313.22,
            "bin_end": 313.32000000000005,
            "count": 0
           },
           {
            "bin_start": 313.32000000000005,
            "bin_end": 313.42,
            "count": 0
           },
           {
            "bin_start": 313.42,
            "bin_end": 313.52000000000004,
            "count": 0
           },
           {
            "bin_start": 313.52000000000004,
            "bin_end": 313.62,
            "count": 0
           },
           {
            "bin_start": 313.62,
            "bin_end": 313.72,
            "count": 0
           },
           {
            "bin_start": 313.72,
            "bin_end": 313.82000000000005,
            "count": 5
           },
           {
            "bin_start": 313.82000000000005,
            "bin_end": 313.92,
            "count": 0
           },
           {
            "bin_start": 313.92,
            "bin_end": 314.02000000000004,
            "count": 0
           },
           {
            "bin_start": 314.02000000000004,
            "bin_end": 314.12,
            "count": 0
           },
           {
            "bin_start": 314.12,
            "bin_end": 314.22,
            "count": 0
           }
          ]
         }
        },
        {
         "name": "HighQN",
         "dtype": "int64",
         "stats": {
          "unique_count": 1,
          "nan_count": 0,
          "min": "148",
          "max": "148",
          "histogram": [
           {
            "bin_start": 147.5,
            "bin_end": 147.6,
            "count": 0
           },
           {
            "bin_start": 147.6,
            "bin_end": 147.7,
            "count": 0
           },
           {
            "bin_start": 147.7,
            "bin_end": 147.8,
            "count": 0
           },
           {
            "bin_start": 147.8,
            "bin_end": 147.9,
            "count": 0
           },
           {
            "bin_start": 147.9,
            "bin_end": 148,
            "count": 0
           },
           {
            "bin_start": 148,
            "bin_end": 148.1,
            "count": 5
           },
           {
            "bin_start": 148.1,
            "bin_end": 148.2,
            "count": 0
           },
           {
            "bin_start": 148.2,
            "bin_end": 148.3,
            "count": 0
           },
           {
            "bin_start": 148.3,
            "bin_end": 148.4,
            "count": 0
           },
           {
            "bin_start": 148.4,
            "bin_end": 148.5,
            "count": 0
           }
          ]
         }
        },
        {
         "name": "MedQ",
         "dtype": "float64",
         "stats": {
          "unique_count": 1,
          "nan_count": 0,
          "min": "317.38",
          "max": "317.38",
          "histogram": [
           {
            "bin_start": 316.88,
            "bin_end": 316.98,
            "count": 0
           },
           {
            "bin_start": 316.98,
            "bin_end": 317.08,
            "count": 0
           },
           {
            "bin_start": 317.08,
            "bin_end": 317.18,
            "count": 0
           },
           {
            "bin_start": 317.18,
            "bin_end": 317.28,
            "count": 0
           },
           {
            "bin_start": 317.28,
            "bin_end": 317.38,
            "count": 0
           },
           {
            "bin_start": 317.38,
            "bin_end": 317.48,
            "count": 5
           },
           {
            "bin_start": 317.48,
            "bin_end": 317.58,
            "count": 0
           },
           {
            "bin_start": 317.58,
            "bin_end": 317.68,
            "count": 0
           },
           {
            "bin_start": 317.68,
            "bin_end": 317.78,
            "count": 0
           },
           {
            "bin_start": 317.78,
            "bin_end": 317.88,
            "count": 0
           }
          ]
         }
        },
        {
         "name": "MedQN",
         "dtype": "int64",
         "stats": {
          "unique_count": 1,
          "nan_count": 0,
          "min": "226",
          "max": "226",
          "histogram": [
           {
            "bin_start": 225.5,
            "bin_end": 225.6,
            "count": 0
           },
           {
            "bin_start": 225.6,
            "bin_end": 225.7,
            "count": 0
           },
           {
            "bin_start": 225.7,
            "bin_end": 225.8,
            "count": 0
           },
           {
            "bin_start": 225.8,
            "bin_end": 225.9,
            "count": 0
           },
           {
            "bin_start": 225.9,
            "bin_end": 226,
            "count": 0
           },
           {
            "bin_start": 226,
            "bin_end": 226.1,
            "count": 5
           },
           {
            "bin_start": 226.1,
            "bin_end": 226.2,
            "count": 0
           },
           {
            "bin_start": 226.2,
            "bin_end": 226.3,
            "count": 0
           },
           {
            "bin_start": 226.3,
            "bin_end": 226.4,
            "count": 0
           },
           {
            "bin_start": 226.4,
            "bin_end": 226.5,
            "count": 0
           }
          ]
         }
        },
        {
         "name": "LowQ",
         "dtype": "float64",
         "stats": {
          "unique_count": 1,
          "nan_count": 0,
          "min": "161.3",
          "max": "161.3",
          "histogram": [
           {
            "bin_start": 160.8,
            "bin_end": 160.9,
            "count": 0
           },
           {
            "bin_start": 160.9,
            "bin_end": 161,
            "count": 0
           },
           {
            "bin_start": 161,
            "bin_end": 161.10000000000002,
            "count": 0
           },
           {
            "bin_start": 161.10000000000002,
            "bin_end": 161.20000000000002,
            "count": 0
           },
           {
            "bin_start": 161.20000000000002,
            "bin_end": 161.3,
            "count": 0
           },
           {
            "bin_start": 161.3,
            "bin_end": 161.4,
            "count": 5
           },
           {
            "bin_start": 161.4,
            "bin_end": 161.5,
            "count": 0
           },
           {
            "bin_start": 161.5,
            "bin_end": 161.60000000000002,
            "count": 0
           },
           {
            "bin_start": 161.60000000000002,
            "bin_end": 161.70000000000002,
            "count": 0
           },
           {
            "bin_start": 161.70000000000002,
            "bin_end": 161.8,
            "count": 0
           }
          ]
         }
        },
        {
         "name": "LowQN",
         "dtype": "int64",
         "stats": {
          "unique_count": 1,
          "nan_count": 0,
          "min": "13",
          "max": "13",
          "histogram": [
           {
            "bin_start": 12.5,
            "bin_end": 12.6,
            "count": 0
           },
           {
            "bin_start": 12.6,
            "bin_end": 12.7,
            "count": 0
           },
           {
            "bin_start": 12.7,
            "bin_end": 12.8,
            "count": 0
           },
           {
            "bin_start": 12.8,
            "bin_end": 12.9,
            "count": 0
           },
           {
            "bin_start": 12.9,
            "bin_end": 13,
            "count": 0
           },
           {
            "bin_start": 13,
            "bin_end": 13.1,
            "count": 5
           },
           {
            "bin_start": 13.1,
            "bin_end": 13.2,
            "count": 0
           },
           {
            "bin_start": 13.2,
            "bin_end": 13.3,
            "count": 0
           },
           {
            "bin_start": 13.3,
            "bin_end": 13.4,
            "count": 0
           },
           {
            "bin_start": 13.4,
            "bin_end": 13.5,
            "count": 0
           }
          ]
         }
        },
        {
         "name": "date",
         "dtype": "datetime64[ns]",
         "stats": {
          "unique_count": 5,
          "nan_count": 0,
          "min": "2015-06-07 00:00:00",
          "max": "2015-06-11 00:00:00",
          "histogram": [
           {
            "bin_start": 1433635200000000000,
            "bin_end": 1433669760000000000,
            "count": 1
           },
           {
            "bin_start": 1433669760000000000,
            "bin_end": 1433704320000000000,
            "count": 0
           },
           {
            "bin_start": 1433704320000000000,
            "bin_end": 1433738880000000000,
            "count": 1
           },
           {
            "bin_start": 1433738880000000000,
            "bin_end": 1433773440000000000,
            "count": 0
           },
           {
            "bin_start": 1433773440000000000,
            "bin_end": 1433808000000000000,
            "count": 0
           },
           {
            "bin_start": 1433808000000000000,
            "bin_end": 1433842560000000000,
            "count": 1
           },
           {
            "bin_start": 1433842560000000000,
            "bin_end": 1433877120000000000,
            "count": 0
           },
           {
            "bin_start": 1433877120000000000,
            "bin_end": 1433911680000000000,
            "count": 1
           },
           {
            "bin_start": 1433911680000000000,
            "bin_end": 1433946240000000000,
            "count": 0
           },
           {
            "bin_start": 1433946240000000000,
            "bin_end": 1433980800000000000,
            "count": 1
           }
          ]
         }
        },
        {
         "name": "year",
         "dtype": "int64",
         "stats": {
          "unique_count": 1,
          "nan_count": 0,
          "min": "2015",
          "max": "2015",
          "histogram": [
           {
            "bin_start": 2014.5,
            "bin_end": 2014.6,
            "count": 0
           },
           {
            "bin_start": 2014.6,
            "bin_end": 2014.7,
            "count": 0
           },
           {
            "bin_start": 2014.7,
            "bin_end": 2014.8,
            "count": 0
           },
           {
            "bin_start": 2014.8,
            "bin_end": 2014.9,
            "count": 0
           },
           {
            "bin_start": 2014.9,
            "bin_end": 2015,
            "count": 0
           },
           {
            "bin_start": 2015,
            "bin_end": 2015.1,
            "count": 5
           },
           {
            "bin_start": 2015.1,
            "bin_end": 2015.2,
            "count": 0
           },
           {
            "bin_start": 2015.2,
            "bin_end": 2015.3,
            "count": 0
           },
           {
            "bin_start": 2015.3,
            "bin_end": 2015.4,
            "count": 0
           },
           {
            "bin_start": 2015.4,
            "bin_end": 2015.5,
            "count": 0
           }
          ]
         }
        },
        {
         "name": "month",
         "dtype": "int64",
         "stats": {
          "unique_count": 1,
          "nan_count": 0,
          "min": "6",
          "max": "6",
          "histogram": [
           {
            "bin_start": 5.5,
            "bin_end": 5.6,
            "count": 0
           },
           {
            "bin_start": 5.6,
            "bin_end": 5.7,
            "count": 0
           },
           {
            "bin_start": 5.7,
            "bin_end": 5.8,
            "count": 0
           },
           {
            "bin_start": 5.8,
            "bin_end": 5.9,
            "count": 0
           },
           {
            "bin_start": 5.9,
            "bin_end": 6,
            "count": 0
           },
           {
            "bin_start": 6,
            "bin_end": 6.1,
            "count": 5
           },
           {
            "bin_start": 6.1,
            "bin_end": 6.2,
            "count": 0
           },
           {
            "bin_start": 6.2,
            "bin_end": 6.3,
            "count": 0
           },
           {
            "bin_start": 6.3,
            "bin_end": 6.4,
            "count": 0
           },
           {
            "bin_start": 6.4,
            "bin_end": 6.5,
            "count": 0
           }
          ]
         }
        },
        {
         "name": "week",
         "dtype": "int64",
         "stats": {
          "unique_count": 2,
          "nan_count": 0,
          "min": "23",
          "max": "24",
          "histogram": [
           {
            "bin_start": 23,
            "bin_end": 23.1,
            "count": 1
           },
           {
            "bin_start": 23.1,
            "bin_end": 23.2,
            "count": 0
           },
           {
            "bin_start": 23.2,
            "bin_end": 23.3,
            "count": 0
           },
           {
            "bin_start": 23.3,
            "bin_end": 23.4,
            "count": 0
           },
           {
            "bin_start": 23.4,
            "bin_end": 23.5,
            "count": 0
           },
           {
            "bin_start": 23.5,
            "bin_end": 23.6,
            "count": 0
           },
           {
            "bin_start": 23.6,
            "bin_end": 23.7,
            "count": 0
           },
           {
            "bin_start": 23.7,
            "bin_end": 23.8,
            "count": 0
           },
           {
            "bin_start": 23.8,
            "bin_end": 23.9,
            "count": 0
           },
           {
            "bin_start": 23.9,
            "bin_end": 24,
            "count": 4
           }
          ]
         }
        },
        {
         "name": "weekday",
         "dtype": "int64",
         "stats": {
          "unique_count": 5,
          "nan_count": 0,
          "min": "0",
          "max": "6",
          "histogram": [
           {
            "bin_start": 0,
            "bin_end": 0.6,
            "count": 1
           },
           {
            "bin_start": 0.6,
            "bin_end": 1.2,
            "count": 1
           },
           {
            "bin_start": 1.2,
            "bin_end": 1.7999999999999998,
            "count": 0
           },
           {
            "bin_start": 1.7999999999999998,
            "bin_end": 2.4,
            "count": 1
           },
           {
            "bin_start": 2.4,
            "bin_end": 3,
            "count": 0
           },
           {
            "bin_start": 3,
            "bin_end": 3.5999999999999996,
            "count": 1
           },
           {
            "bin_start": 3.5999999999999996,
            "bin_end": 4.2,
            "count": 0
           },
           {
            "bin_start": 4.2,
            "bin_end": 4.8,
            "count": 0
           },
           {
            "bin_start": 4.8,
            "bin_end": 5.3999999999999995,
            "count": 0
           },
           {
            "bin_start": 5.3999999999999995,
            "bin_end": 6,
            "count": 1
           }
          ]
         }
        },
        {
         "name": "_deepnote_index_column",
         "dtype": "int64"
        }
       ],
       "rows_top": [
        {
         "State": "Wyoming",
         "HighQ": 313.72,
         "HighQN": 148,
         "MedQ": 317.38,
         "MedQN": 226,
         "LowQ": 161.3,
         "LowQN": 13,
         "date": "2015-06-07T00:00:00.000000",
         "year": 2015,
         "month": 6,
         "week": 23,
         "weekday": 6,
         "_deepnote_index_column": 4997
        },
        {
         "State": "Wyoming",
         "HighQ": 313.72,
         "HighQN": 148,
         "MedQ": 317.38,
         "MedQN": 226,
         "LowQ": 161.3,
         "LowQN": 13,
         "date": "2015-06-08T00:00:00.000000",
         "year": 2015,
         "month": 6,
         "week": 24,
         "weekday": 0,
         "_deepnote_index_column": 5762
        },
        {
         "State": "Wyoming",
         "HighQ": 313.72,
         "HighQN": 148,
         "MedQ": 317.38,
         "MedQN": 226,
         "LowQ": 161.3,
         "LowQN": 13,
         "date": "2015-06-09T00:00:00.000000",
         "year": 2015,
         "month": 6,
         "week": 24,
         "weekday": 1,
         "_deepnote_index_column": 6527
        },
        {
         "State": "Wyoming",
         "HighQ": 313.72,
         "HighQN": 148,
         "MedQ": 317.38,
         "MedQN": 226,
         "LowQ": 161.3,
         "LowQN": 13,
         "date": "2015-06-10T00:00:00.000000",
         "year": 2015,
         "month": 6,
         "week": 24,
         "weekday": 2,
         "_deepnote_index_column": 7343
        },
        {
         "State": "Wyoming",
         "HighQ": 313.72,
         "HighQN": 148,
         "MedQ": 317.38,
         "MedQN": 226,
         "LowQ": 161.3,
         "LowQN": 13,
         "date": "2015-06-11T00:00:00.000000",
         "year": 2015,
         "month": 6,
         "week": 24,
         "weekday": 3,
         "_deepnote_index_column": 8159
        }
       ],
       "rows_bottom": null
      },
      "text/plain": "        State   HighQ  HighQN    MedQ  MedQN   LowQ  LowQN       date  year  \\\n4997  Wyoming  313.72     148  317.38    226  161.3     13 2015-06-07  2015   \n5762  Wyoming  313.72     148  317.38    226  161.3     13 2015-06-08  2015   \n6527  Wyoming  313.72     148  317.38    226  161.3     13 2015-06-09  2015   \n7343  Wyoming  313.72     148  317.38    226  161.3     13 2015-06-10  2015   \n8159  Wyoming  313.72     148  317.38    226  161.3     13 2015-06-11  2015   \n\n      month  week  weekday  \n4997      6    23        6  \n5762      6    24        0  \n6527      6    24        1  \n7343      6    24        2  \n8159      6    24        3  ",
      "text/html": "<div>\n<style scoped>\n    .dataframe tbody tr th:only-of-type {\n        vertical-align: middle;\n    }\n\n    .dataframe tbody tr th {\n        vertical-align: top;\n    }\n\n    .dataframe thead th {\n        text-align: right;\n    }\n</style>\n<table border=\"1\" class=\"dataframe\">\n  <thead>\n    <tr style=\"text-align: right;\">\n      <th></th>\n      <th>State</th>\n      <th>HighQ</th>\n      <th>HighQN</th>\n      <th>MedQ</th>\n      <th>MedQN</th>\n      <th>LowQ</th>\n      <th>LowQN</th>\n      <th>date</th>\n      <th>year</th>\n      <th>month</th>\n      <th>week</th>\n      <th>weekday</th>\n    </tr>\n  </thead>\n  <tbody>\n    <tr>\n      <th>4997</th>\n      <td>Wyoming</td>\n      <td>313.72</td>\n      <td>148</td>\n      <td>317.38</td>\n      <td>226</td>\n      <td>161.3</td>\n      <td>13</td>\n      <td>2015-06-07</td>\n      <td>2015</td>\n      <td>6</td>\n      <td>23</td>\n      <td>6</td>\n    </tr>\n    <tr>\n      <th>5762</th>\n      <td>Wyoming</td>\n      <td>313.72</td>\n      <td>148</td>\n      <td>317.38</td>\n      <td>226</td>\n      <td>161.3</td>\n      <td>13</td>\n      <td>2015-06-08</td>\n      <td>2015</td>\n      <td>6</td>\n      <td>24</td>\n      <td>0</td>\n    </tr>\n    <tr>\n      <th>6527</th>\n      <td>Wyoming</td>\n      <td>313.72</td>\n      <td>148</td>\n      <td>317.38</td>\n      <td>226</td>\n      <td>161.3</td>\n      <td>13</td>\n      <td>2015-06-09</td>\n      <td>2015</td>\n      <td>6</td>\n      <td>24</td>\n      <td>1</td>\n    </tr>\n    <tr>\n      <th>7343</th>\n      <td>Wyoming</td>\n      <td>313.72</td>\n      <td>148</td>\n      <td>317.38</td>\n      <td>226</td>\n      <td>161.3</td>\n      <td>13</td>\n      <td>2015-06-10</td>\n      <td>2015</td>\n      <td>6</td>\n      <td>24</td>\n      <td>2</td>\n    </tr>\n    <tr>\n      <th>8159</th>\n      <td>Wyoming</td>\n      <td>313.72</td>\n      <td>148</td>\n      <td>317.38</td>\n      <td>226</td>\n      <td>161.3</td>\n      <td>13</td>\n      <td>2015-06-11</td>\n      <td>2015</td>\n      <td>6</td>\n      <td>24</td>\n      <td>3</td>\n    </tr>\n  </tbody>\n</table>\n</div>"
     },
     "metadata": {}
    }
   ],
   "execution_count": 61
  },
  {
   "cell_type": "markdown",
   "source": "## 2.9 Sample the Data",
   "metadata": {
    "cell_id": "00079-6a3f3401-3427-48df-8927-d241445e5df2",
    "deepnote_cell_type": "markdown"
   }
  },
  {
   "cell_type": "code",
   "metadata": {
    "collapsed": true,
    "cell_id": "00080-984b3cba-0fe5-45cc-93b2-cfbb2489a476",
    "deepnote_to_be_reexecuted": false,
    "source_hash": "551e22ce",
    "execution_start": 1624849027275,
    "execution_millis": 53,
    "deepnote_cell_type": "code"
   },
   "source": "?df.sample",
   "execution_count": 62,
   "outputs": []
  },
  {
   "cell_type": "code",
   "metadata": {
    "collapsed": false,
    "cell_id": "00081-54c658ea-ba46-4658-a998-117b546b27d3",
    "deepnote_to_be_reexecuted": false,
    "source_hash": "d2246864",
    "execution_start": 1624849050944,
    "execution_millis": 0,
    "deepnote_cell_type": "code"
   },
   "source": "df_ca_sample = df[df.State=='California'].sample(n = 50, replace = True, random_state=123)",
   "execution_count": 63,
   "outputs": []
  },
  {
   "cell_type": "code",
   "metadata": {
    "collapsed": false,
    "cell_id": "00082-8f8d65a5-924e-41e7-9e36-98cae8b928a9",
    "deepnote_to_be_reexecuted": false,
    "source_hash": "ad7cddc0",
    "execution_start": 1624849055213,
    "execution_millis": 13,
    "deepnote_cell_type": "code"
   },
   "source": "df_ca_sample.duplicated()",
   "execution_count": 64,
   "outputs": [
    {
     "output_type": "execute_result",
     "execution_count": 64,
     "data": {
      "text/plain": "20914    False\n10051    False\n11428    False\n2503     False\n11275    False\n9235     False\n14590    False\n8725     False\n21118    False\n15967    False\n21322    False\n7399     False\n1024     False\n13927    False\n1075     False\n8572     False\n7042     False\n20200    False\n17599    False\n6583     False\n12499    False\n6991     False\n1432     False\n20047    False\n5104     False\n10357    False\n1024      True\n16987    False\n3217     False\n21475    False\n2911     False\n21577    False\n2197     False\n2350     False\n11428     True\n15304    False\n8572      True\n5716     False\n15508    False\n7960     False\n17956    False\n3268     False\n8521     False\n8419     False\n18364    False\n15814    False\n12244    False\n20608    False\n17497    False\n9949     False\ndtype: bool"
     },
     "metadata": {}
    }
   ]
  },
  {
   "cell_type": "code",
   "metadata": {
    "collapsed": false,
    "cell_id": "00083-f4e5aec6-61b8-444c-94ad-208745ec95fe",
    "deepnote_to_be_reexecuted": false,
    "source_hash": "ddd0a6a3",
    "execution_start": 1624849073663,
    "execution_millis": 49,
    "deepnote_cell_type": "code"
   },
   "source": "df_ca_sample.loc[8572]",
   "execution_count": 65,
   "outputs": [
    {
     "output_type": "execute_result",
     "execution_count": 65,
     "data": {
      "application/vnd.deepnote.dataframe.v2+json": {
       "row_count": 2,
       "column_count": 12,
       "columns": [
        {
         "name": "State",
         "dtype": "object",
         "stats": {
          "unique_count": 1,
          "nan_count": 0,
          "categories": [
           {
            "name": "California",
            "count": 2
           }
          ]
         }
        },
        {
         "name": "HighQ",
         "dtype": "float64",
         "stats": {
          "unique_count": 1,
          "nan_count": 0,
          "min": "248.26",
          "max": "248.26",
          "histogram": [
           {
            "bin_start": 247.76,
            "bin_end": 247.85999999999999,
            "count": 0
           },
           {
            "bin_start": 247.85999999999999,
            "bin_end": 247.95999999999998,
            "count": 0
           },
           {
            "bin_start": 247.95999999999998,
            "bin_end": 248.06,
            "count": 0
           },
           {
            "bin_start": 248.06,
            "bin_end": 248.16,
            "count": 0
           },
           {
            "bin_start": 248.16,
            "bin_end": 248.26,
            "count": 0
           },
           {
            "bin_start": 248.26,
            "bin_end": 248.35999999999999,
            "count": 2
           },
           {
            "bin_start": 248.35999999999999,
            "bin_end": 248.45999999999998,
            "count": 0
           },
           {
            "bin_start": 248.45999999999998,
            "bin_end": 248.56,
            "count": 0
           },
           {
            "bin_start": 248.56,
            "bin_end": 248.66,
            "count": 0
           },
           {
            "bin_start": 248.66,
            "bin_end": 248.76,
            "count": 0
           }
          ]
         }
        },
        {
         "name": "HighQN",
         "dtype": "int64",
         "stats": {
          "unique_count": 1,
          "nan_count": 0,
          "min": "12753",
          "max": "12753",
          "histogram": [
           {
            "bin_start": 12752.5,
            "bin_end": 12752.6,
            "count": 0
           },
           {
            "bin_start": 12752.6,
            "bin_end": 12752.7,
            "count": 0
           },
           {
            "bin_start": 12752.7,
            "bin_end": 12752.8,
            "count": 0
           },
           {
            "bin_start": 12752.8,
            "bin_end": 12752.9,
            "count": 0
           },
           {
            "bin_start": 12752.9,
            "bin_end": 12753,
            "count": 0
           },
           {
            "bin_start": 12753,
            "bin_end": 12753.1,
            "count": 2
           },
           {
            "bin_start": 12753.1,
            "bin_end": 12753.2,
            "count": 0
           },
           {
            "bin_start": 12753.2,
            "bin_end": 12753.3,
            "count": 0
           },
           {
            "bin_start": 12753.3,
            "bin_end": 12753.4,
            "count": 0
           },
           {
            "bin_start": 12753.4,
            "bin_end": 12753.5,
            "count": 0
           }
          ]
         }
        },
        {
         "name": "MedQ",
         "dtype": "float64",
         "stats": {
          "unique_count": 1,
          "nan_count": 0,
          "min": "192.89",
          "max": "192.89",
          "histogram": [
           {
            "bin_start": 192.39,
            "bin_end": 192.48999999999998,
            "count": 0
           },
           {
            "bin_start": 192.48999999999998,
            "bin_end": 192.58999999999997,
            "count": 0
           },
           {
            "bin_start": 192.58999999999997,
            "bin_end": 192.69,
            "count": 0
           },
           {
            "bin_start": 192.69,
            "bin_end": 192.79,
            "count": 0
           },
           {
            "bin_start": 192.79,
            "bin_end": 192.89,
            "count": 0
           },
           {
            "bin_start": 192.89,
            "bin_end": 192.98999999999998,
            "count": 2
           },
           {
            "bin_start": 192.98999999999998,
            "bin_end": 193.08999999999997,
            "count": 0
           },
           {
            "bin_start": 193.08999999999997,
            "bin_end": 193.19,
            "count": 0
           },
           {
            "bin_start": 193.19,
            "bin_end": 193.29,
            "count": 0
           },
           {
            "bin_start": 193.29,
            "bin_end": 193.39,
            "count": 0
           }
          ]
         }
        },
        {
         "name": "MedQN",
         "dtype": "int64",
         "stats": {
          "unique_count": 1,
          "nan_count": 0,
          "min": "13618",
          "max": "13618",
          "histogram": [
           {
            "bin_start": 13617.5,
            "bin_end": 13617.6,
            "count": 0
           },
           {
            "bin_start": 13617.6,
            "bin_end": 13617.7,
            "count": 0
           },
           {
            "bin_start": 13617.7,
            "bin_end": 13617.8,
            "count": 0
           },
           {
            "bin_start": 13617.8,
            "bin_end": 13617.9,
            "count": 0
           },
           {
            "bin_start": 13617.9,
            "bin_end": 13618,
            "count": 0
           },
           {
            "bin_start": 13618,
            "bin_end": 13618.1,
            "count": 2
           },
           {
            "bin_start": 13618.1,
            "bin_end": 13618.2,
            "count": 0
           },
           {
            "bin_start": 13618.2,
            "bin_end": 13618.3,
            "count": 0
           },
           {
            "bin_start": 13618.3,
            "bin_end": 13618.4,
            "count": 0
           },
           {
            "bin_start": 13618.4,
            "bin_end": 13618.5,
            "count": 0
           }
          ]
         }
        },
        {
         "name": "LowQ",
         "dtype": "float64",
         "stats": {
          "unique_count": 1,
          "nan_count": 0,
          "min": "191.0",
          "max": "191.0",
          "histogram": [
           {
            "bin_start": 190.5,
            "bin_end": 190.6,
            "count": 0
           },
           {
            "bin_start": 190.6,
            "bin_end": 190.7,
            "count": 0
           },
           {
            "bin_start": 190.7,
            "bin_end": 190.8,
            "count": 0
           },
           {
            "bin_start": 190.8,
            "bin_end": 190.9,
            "count": 0
           },
           {
            "bin_start": 190.9,
            "bin_end": 191,
            "count": 0
           },
           {
            "bin_start": 191,
            "bin_end": 191.1,
            "count": 2
           },
           {
            "bin_start": 191.1,
            "bin_end": 191.2,
            "count": 0
           },
           {
            "bin_start": 191.2,
            "bin_end": 191.3,
            "count": 0
           },
           {
            "bin_start": 191.3,
            "bin_end": 191.4,
            "count": 0
           },
           {
            "bin_start": 191.4,
            "bin_end": 191.5,
            "count": 0
           }
          ]
         }
        },
        {
         "name": "LowQN",
         "dtype": "int64",
         "stats": {
          "unique_count": 1,
          "nan_count": 0,
          "min": "818",
          "max": "818",
          "histogram": [
           {
            "bin_start": 817.5,
            "bin_end": 817.6,
            "count": 0
           },
           {
            "bin_start": 817.6,
            "bin_end": 817.7,
            "count": 0
           },
           {
            "bin_start": 817.7,
            "bin_end": 817.8,
            "count": 0
           },
           {
            "bin_start": 817.8,
            "bin_end": 817.9,
            "count": 0
           },
           {
            "bin_start": 817.9,
            "bin_end": 818,
            "count": 0
           },
           {
            "bin_start": 818,
            "bin_end": 818.1,
            "count": 2
           },
           {
            "bin_start": 818.1,
            "bin_end": 818.2,
            "count": 0
           },
           {
            "bin_start": 818.2,
            "bin_end": 818.3,
            "count": 0
           },
           {
            "bin_start": 818.3,
            "bin_end": 818.4,
            "count": 0
           },
           {
            "bin_start": 818.4,
            "bin_end": 818.5,
            "count": 0
           }
          ]
         }
        },
        {
         "name": "date",
         "dtype": "datetime64[ns]",
         "stats": {
          "unique_count": 1,
          "nan_count": 0,
          "min": "2014-02-12 00:00:00",
          "max": "2014-02-12 00:00:00",
          "histogram": null
         }
        },
        {
         "name": "year",
         "dtype": "int64",
         "stats": {
          "unique_count": 1,
          "nan_count": 0,
          "min": "2014",
          "max": "2014",
          "histogram": [
           {
            "bin_start": 2013.5,
            "bin_end": 2013.6,
            "count": 0
           },
           {
            "bin_start": 2013.6,
            "bin_end": 2013.7,
            "count": 0
           },
           {
            "bin_start": 2013.7,
            "bin_end": 2013.8,
            "count": 0
           },
           {
            "bin_start": 2013.8,
            "bin_end": 2013.9,
            "count": 0
           },
           {
            "bin_start": 2013.9,
            "bin_end": 2014,
            "count": 0
           },
           {
            "bin_start": 2014,
            "bin_end": 2014.1,
            "count": 2
           },
           {
            "bin_start": 2014.1,
            "bin_end": 2014.2,
            "count": 0
           },
           {
            "bin_start": 2014.2,
            "bin_end": 2014.3,
            "count": 0
           },
           {
            "bin_start": 2014.3,
            "bin_end": 2014.4,
            "count": 0
           },
           {
            "bin_start": 2014.4,
            "bin_end": 2014.5,
            "count": 0
           }
          ]
         }
        },
        {
         "name": "month",
         "dtype": "int64",
         "stats": {
          "unique_count": 1,
          "nan_count": 0,
          "min": "2",
          "max": "2",
          "histogram": [
           {
            "bin_start": 1.5,
            "bin_end": 1.6,
            "count": 0
           },
           {
            "bin_start": 1.6,
            "bin_end": 1.7,
            "count": 0
           },
           {
            "bin_start": 1.7,
            "bin_end": 1.8,
            "count": 0
           },
           {
            "bin_start": 1.8,
            "bin_end": 1.9,
            "count": 0
           },
           {
            "bin_start": 1.9,
            "bin_end": 2,
            "count": 0
           },
           {
            "bin_start": 2,
            "bin_end": 2.1,
            "count": 2
           },
           {
            "bin_start": 2.1,
            "bin_end": 2.2,
            "count": 0
           },
           {
            "bin_start": 2.2,
            "bin_end": 2.3,
            "count": 0
           },
           {
            "bin_start": 2.3,
            "bin_end": 2.4,
            "count": 0
           },
           {
            "bin_start": 2.4,
            "bin_end": 2.5,
            "count": 0
           }
          ]
         }
        },
        {
         "name": "week",
         "dtype": "int64",
         "stats": {
          "unique_count": 1,
          "nan_count": 0,
          "min": "7",
          "max": "7",
          "histogram": [
           {
            "bin_start": 6.5,
            "bin_end": 6.6,
            "count": 0
           },
           {
            "bin_start": 6.6,
            "bin_end": 6.7,
            "count": 0
           },
           {
            "bin_start": 6.7,
            "bin_end": 6.8,
            "count": 0
           },
           {
            "bin_start": 6.8,
            "bin_end": 6.9,
            "count": 0
           },
           {
            "bin_start": 6.9,
            "bin_end": 7,
            "count": 0
           },
           {
            "bin_start": 7,
            "bin_end": 7.1,
            "count": 2
           },
           {
            "bin_start": 7.1,
            "bin_end": 7.2,
            "count": 0
           },
           {
            "bin_start": 7.2,
            "bin_end": 7.3,
            "count": 0
           },
           {
            "bin_start": 7.3,
            "bin_end": 7.4,
            "count": 0
           },
           {
            "bin_start": 7.4,
            "bin_end": 7.5,
            "count": 0
           }
          ]
         }
        },
        {
         "name": "weekday",
         "dtype": "int64",
         "stats": {
          "unique_count": 1,
          "nan_count": 0,
          "min": "2",
          "max": "2",
          "histogram": [
           {
            "bin_start": 1.5,
            "bin_end": 1.6,
            "count": 0
           },
           {
            "bin_start": 1.6,
            "bin_end": 1.7,
            "count": 0
           },
           {
            "bin_start": 1.7,
            "bin_end": 1.8,
            "count": 0
           },
           {
            "bin_start": 1.8,
            "bin_end": 1.9,
            "count": 0
           },
           {
            "bin_start": 1.9,
            "bin_end": 2,
            "count": 0
           },
           {
            "bin_start": 2,
            "bin_end": 2.1,
            "count": 2
           },
           {
            "bin_start": 2.1,
            "bin_end": 2.2,
            "count": 0
           },
           {
            "bin_start": 2.2,
            "bin_end": 2.3,
            "count": 0
           },
           {
            "bin_start": 2.3,
            "bin_end": 2.4,
            "count": 0
           },
           {
            "bin_start": 2.4,
            "bin_end": 2.5,
            "count": 0
           }
          ]
         }
        },
        {
         "name": "_deepnote_index_column",
         "dtype": "int64"
        }
       ],
       "rows_top": [
        {
         "State": "California",
         "HighQ": "248.26",
         "HighQN": "12753",
         "MedQ": "192.89",
         "MedQN": "13618",
         "LowQ": "191.0",
         "LowQN": "818",
         "date": "2014-02-12 00:00:00",
         "year": "2014",
         "month": "2",
         "week": "7",
         "weekday": "2",
         "_deepnote_index_column": "8572"
        },
        {
         "State": "California",
         "HighQ": "248.26",
         "HighQN": "12753",
         "MedQ": "192.89",
         "MedQN": "13618",
         "LowQ": "191.0",
         "LowQN": "818",
         "date": "2014-02-12 00:00:00",
         "year": "2014",
         "month": "2",
         "week": "7",
         "weekday": "2",
         "_deepnote_index_column": "8572"
        }
       ],
       "rows_bottom": null
      },
      "text/plain": "           State   HighQ  HighQN    MedQ  MedQN   LowQ  LowQN       date  \\\n8572  California  248.26   12753  192.89  13618  191.0    818 2014-02-12   \n8572  California  248.26   12753  192.89  13618  191.0    818 2014-02-12   \n\n      year  month  week  weekday  \n8572  2014      2     7        2  \n8572  2014      2     7        2  ",
      "text/html": "<div>\n<style scoped>\n    .dataframe tbody tr th:only-of-type {\n        vertical-align: middle;\n    }\n\n    .dataframe tbody tr th {\n        vertical-align: top;\n    }\n\n    .dataframe thead th {\n        text-align: right;\n    }\n</style>\n<table border=\"1\" class=\"dataframe\">\n  <thead>\n    <tr style=\"text-align: right;\">\n      <th></th>\n      <th>State</th>\n      <th>HighQ</th>\n      <th>HighQN</th>\n      <th>MedQ</th>\n      <th>MedQN</th>\n      <th>LowQ</th>\n      <th>LowQN</th>\n      <th>date</th>\n      <th>year</th>\n      <th>month</th>\n      <th>week</th>\n      <th>weekday</th>\n    </tr>\n  </thead>\n  <tbody>\n    <tr>\n      <th>8572</th>\n      <td>California</td>\n      <td>248.26</td>\n      <td>12753</td>\n      <td>192.89</td>\n      <td>13618</td>\n      <td>191.0</td>\n      <td>818</td>\n      <td>2014-02-12</td>\n      <td>2014</td>\n      <td>2</td>\n      <td>7</td>\n      <td>2</td>\n    </tr>\n    <tr>\n      <th>8572</th>\n      <td>California</td>\n      <td>248.26</td>\n      <td>12753</td>\n      <td>192.89</td>\n      <td>13618</td>\n      <td>191.0</td>\n      <td>818</td>\n      <td>2014-02-12</td>\n      <td>2014</td>\n      <td>2</td>\n      <td>7</td>\n      <td>2</td>\n    </tr>\n  </tbody>\n</table>\n</div>"
     },
     "metadata": {}
    }
   ]
  },
  {
   "cell_type": "markdown",
   "source": "## 2.10 Quirks in Pandas",
   "metadata": {
    "cell_id": "00084-d868dc59-87e4-403a-93ae-717bc10c459b",
    "deepnote_cell_type": "markdown"
   }
  },
  {
   "cell_type": "code",
   "metadata": {
    "collapsed": false,
    "cell_id": "00085-59c33618-9d5f-47a6-bc66-18a245f87187",
    "deepnote_to_be_reexecuted": false,
    "source_hash": "b620f5d8",
    "execution_start": 1624849101256,
    "execution_millis": 0,
    "deepnote_cell_type": "code"
   },
   "source": "df_ca_sample.iat[0, 0] = \"Cal\"",
   "execution_count": 66,
   "outputs": []
  },
  {
   "cell_type": "code",
   "metadata": {
    "collapsed": false,
    "cell_id": "00086-d32ff70d-3f70-4ce1-ba7f-294255c62c3b",
    "deepnote_to_be_reexecuted": false,
    "source_hash": "1ba6817e",
    "execution_start": 1624849105271,
    "execution_millis": 10,
    "deepnote_cell_type": "code"
   },
   "source": "df_ca_sample.head()",
   "execution_count": 67,
   "outputs": [
    {
     "output_type": "execute_result",
     "execution_count": 67,
     "data": {
      "application/vnd.deepnote.dataframe.v2+json": {
       "row_count": 5,
       "column_count": 12,
       "columns": [
        {
         "name": "State",
         "dtype": "object",
         "stats": {
          "unique_count": 2,
          "nan_count": 0,
          "categories": [
           {
            "name": "California",
            "count": 4
           },
           {
            "name": "Cal",
            "count": 1
           }
          ]
         }
        },
        {
         "name": "HighQ",
         "dtype": "float64",
         "stats": {
          "unique_count": 5,
          "nan_count": 0,
          "min": "243.6",
          "max": "246.53",
          "histogram": [
           {
            "bin_start": 243.6,
            "bin_end": 243.893,
            "count": 1
           },
           {
            "bin_start": 243.893,
            "bin_end": 244.186,
            "count": 1
           },
           {
            "bin_start": 244.186,
            "bin_end": 244.47899999999998,
            "count": 0
           },
           {
            "bin_start": 244.47899999999998,
            "bin_end": 244.772,
            "count": 1
           },
           {
            "bin_start": 244.772,
            "bin_end": 245.065,
            "count": 0
           },
           {
            "bin_start": 245.065,
            "bin_end": 245.358,
            "count": 1
           },
           {
            "bin_start": 245.358,
            "bin_end": 245.651,
            "count": 0
           },
           {
            "bin_start": 245.651,
            "bin_end": 245.944,
            "count": 0
           },
           {
            "bin_start": 245.944,
            "bin_end": 246.237,
            "count": 0
           },
           {
            "bin_start": 246.237,
            "bin_end": 246.53,
            "count": 1
           }
          ]
         }
        },
        {
         "name": "HighQN",
         "dtype": "int64",
         "stats": {
          "unique_count": 5,
          "nan_count": 0,
          "min": "13435",
          "max": "16664",
          "histogram": [
           {
            "bin_start": 13435,
            "bin_end": 13757.9,
            "count": 1
           },
           {
            "bin_start": 13757.9,
            "bin_end": 14080.8,
            "count": 0
           },
           {
            "bin_start": 14080.8,
            "bin_end": 14403.7,
            "count": 0
           },
           {
            "bin_start": 14403.7,
            "bin_end": 14726.6,
            "count": 0
           },
           {
            "bin_start": 14726.6,
            "bin_end": 15049.5,
            "count": 0
           },
           {
            "bin_start": 15049.5,
            "bin_end": 15372.4,
            "count": 1
           },
           {
            "bin_start": 15372.4,
            "bin_end": 15695.3,
            "count": 0
           },
           {
            "bin_start": 15695.3,
            "bin_end": 16018.2,
            "count": 1
           },
           {
            "bin_start": 16018.2,
            "bin_end": 16341.1,
            "count": 0
           },
           {
            "bin_start": 16341.1,
            "bin_end": 16664,
            "count": 2
           }
          ]
         }
        },
        {
         "name": "MedQ",
         "dtype": "float64",
         "stats": {
          "unique_count": 5,
          "nan_count": 0,
          "min": "189.19",
          "max": "192.83",
          "histogram": [
           {
            "bin_start": 189.19,
            "bin_end": 189.554,
            "count": 2
           },
           {
            "bin_start": 189.554,
            "bin_end": 189.918,
            "count": 0
           },
           {
            "bin_start": 189.918,
            "bin_end": 190.282,
            "count": 0
           },
           {
            "bin_start": 190.282,
            "bin_end": 190.64600000000002,
            "count": 1
           },
           {
            "bin_start": 190.64600000000002,
            "bin_end": 191.01,
            "count": 0
           },
           {
            "bin_start": 191.01,
            "bin_end": 191.374,
            "count": 0
           },
           {
            "bin_start": 191.374,
            "bin_end": 191.738,
            "count": 1
           },
           {
            "bin_start": 191.738,
            "bin_end": 192.102,
            "count": 0
           },
           {
            "bin_start": 192.102,
            "bin_end": 192.466,
            "count": 0
           },
           {
            "bin_start": 192.466,
            "bin_end": 192.83,
            "count": 1
           }
          ]
         }
        },
        {
         "name": "MedQN",
         "dtype": "int64",
         "stats": {
          "unique_count": 5,
          "nan_count": 0,
          "min": "14590",
          "max": "19416",
          "histogram": [
           {
            "bin_start": 14590,
            "bin_end": 15072.6,
            "count": 1
           },
           {
            "bin_start": 15072.6,
            "bin_end": 15555.2,
            "count": 0
           },
           {
            "bin_start": 15555.2,
            "bin_end": 16037.8,
            "count": 0
           },
           {
            "bin_start": 16037.8,
            "bin_end": 16520.4,
            "count": 0
           },
           {
            "bin_start": 16520.4,
            "bin_end": 17003,
            "count": 1
           },
           {
            "bin_start": 17003,
            "bin_end": 17485.6,
            "count": 0
           },
           {
            "bin_start": 17485.6,
            "bin_end": 17968.2,
            "count": 0
           },
           {
            "bin_start": 17968.2,
            "bin_end": 18450.8,
            "count": 1
           },
           {
            "bin_start": 18450.8,
            "bin_end": 18933.4,
            "count": 0
           },
           {
            "bin_start": 18933.4,
            "bin_end": 19416,
            "count": 2
           }
          ]
         }
        },
        {
         "name": "LowQ",
         "dtype": "float64",
         "stats": {
          "unique_count": 3,
          "nan_count": 0,
          "min": "187.94",
          "max": "191.62",
          "histogram": [
           {
            "bin_start": 187.94,
            "bin_end": 188.308,
            "count": 1
           },
           {
            "bin_start": 188.308,
            "bin_end": 188.676,
            "count": 3
           },
           {
            "bin_start": 188.676,
            "bin_end": 189.044,
            "count": 0
           },
           {
            "bin_start": 189.044,
            "bin_end": 189.412,
            "count": 0
           },
           {
            "bin_start": 189.412,
            "bin_end": 189.78,
            "count": 0
           },
           {
            "bin_start": 189.78,
            "bin_end": 190.148,
            "count": 0
           },
           {
            "bin_start": 190.148,
            "bin_end": 190.516,
            "count": 0
           },
           {
            "bin_start": 190.516,
            "bin_end": 190.88400000000001,
            "count": 0
           },
           {
            "bin_start": 190.88400000000001,
            "bin_end": 191.252,
            "count": 0
           },
           {
            "bin_start": 191.252,
            "bin_end": 191.62,
            "count": 1
           }
          ]
         }
        },
        {
         "name": "LowQN",
         "dtype": "int64",
         "stats": {
          "unique_count": 5,
          "nan_count": 0,
          "min": "866",
          "max": "1109",
          "histogram": [
           {
            "bin_start": 866,
            "bin_end": 890.3,
            "count": 1
           },
           {
            "bin_start": 890.3,
            "bin_end": 914.6,
            "count": 0
           },
           {
            "bin_start": 914.6,
            "bin_end": 938.9,
            "count": 0
           },
           {
            "bin_start": 938.9,
            "bin_end": 963.2,
            "count": 0
           },
           {
            "bin_start": 963.2,
            "bin_end": 987.5,
            "count": 0
           },
           {
            "bin_start": 987.5,
            "bin_end": 1011.8,
            "count": 1
           },
           {
            "bin_start": 1011.8,
            "bin_end": 1036.1,
            "count": 0
           },
           {
            "bin_start": 1036.1,
            "bin_end": 1060.4,
            "count": 1
           },
           {
            "bin_start": 1060.4,
            "bin_end": 1084.7,
            "count": 0
           },
           {
            "bin_start": 1084.7,
            "bin_end": 1109,
            "count": 2
           }
          ]
         }
        },
        {
         "name": "date",
         "dtype": "datetime64[ns]",
         "stats": {
          "unique_count": 5,
          "nan_count": 0,
          "min": "2014-04-04 00:00:00",
          "max": "2015-01-14 00:00:00",
          "histogram": [
           {
            "bin_start": 1396569600000000000,
            "bin_end": 1399032000000000000,
            "count": 1
           },
           {
            "bin_start": 1399032000000000000,
            "bin_end": 1401494400000000000,
            "count": 0
           },
           {
            "bin_start": 1401494400000000000,
            "bin_end": 1403956800000000000,
            "count": 0
           },
           {
            "bin_start": 1403956800000000000,
            "bin_end": 1406419200000000000,
            "count": 0
           },
           {
            "bin_start": 1406419200000000000,
            "bin_end": 1408881600000000000,
            "count": 1
           },
           {
            "bin_start": 1408881600000000000,
            "bin_end": 1411344000000000000,
            "count": 0
           },
           {
            "bin_start": 1411344000000000000,
            "bin_end": 1413806400000000000,
            "count": 0
           },
           {
            "bin_start": 1413806400000000000,
            "bin_end": 1416268800000000000,
            "count": 1
           },
           {
            "bin_start": 1416268800000000000,
            "bin_end": 1418731200000000000,
            "count": 0
           },
           {
            "bin_start": 1418731200000000000,
            "bin_end": 1421193600000000000,
            "count": 2
           }
          ]
         }
        },
        {
         "name": "year",
         "dtype": "int64",
         "stats": {
          "unique_count": 2,
          "nan_count": 0,
          "min": "2014",
          "max": "2015",
          "histogram": [
           {
            "bin_start": 2014,
            "bin_end": 2014.1,
            "count": 4
           },
           {
            "bin_start": 2014.1,
            "bin_end": 2014.2,
            "count": 0
           },
           {
            "bin_start": 2014.2,
            "bin_end": 2014.3,
            "count": 0
           },
           {
            "bin_start": 2014.3,
            "bin_end": 2014.4,
            "count": 0
           },
           {
            "bin_start": 2014.4,
            "bin_end": 2014.5,
            "count": 0
           },
           {
            "bin_start": 2014.5,
            "bin_end": 2014.6,
            "count": 0
           },
           {
            "bin_start": 2014.6,
            "bin_end": 2014.7,
            "count": 0
           },
           {
            "bin_start": 2014.7,
            "bin_end": 2014.8,
            "count": 0
           },
           {
            "bin_start": 2014.8,
            "bin_end": 2014.9,
            "count": 0
           },
           {
            "bin_start": 2014.9,
            "bin_end": 2015,
            "count": 1
           }
          ]
         }
        },
        {
         "name": "month",
         "dtype": "int64",
         "stats": {
          "unique_count": 5,
          "nan_count": 0,
          "min": "1",
          "max": "12",
          "histogram": [
           {
            "bin_start": 1,
            "bin_end": 2.1,
            "count": 1
           },
           {
            "bin_start": 2.1,
            "bin_end": 3.2,
            "count": 0
           },
           {
            "bin_start": 3.2,
            "bin_end": 4.300000000000001,
            "count": 1
           },
           {
            "bin_start": 4.300000000000001,
            "bin_end": 5.4,
            "count": 0
           },
           {
            "bin_start": 5.4,
            "bin_end": 6.5,
            "count": 0
           },
           {
            "bin_start": 6.5,
            "bin_end": 7.6000000000000005,
            "count": 0
           },
           {
            "bin_start": 7.6000000000000005,
            "bin_end": 8.700000000000001,
            "count": 1
           },
           {
            "bin_start": 8.700000000000001,
            "bin_end": 9.8,
            "count": 0
           },
           {
            "bin_start": 9.8,
            "bin_end": 10.9,
            "count": 0
           },
           {
            "bin_start": 10.9,
            "bin_end": 12,
            "count": 2
           }
          ]
         }
        },
        {
         "name": "week",
         "dtype": "int64",
         "stats": {
          "unique_count": 5,
          "nan_count": 0,
          "min": "3",
          "max": "52",
          "histogram": [
           {
            "bin_start": 3,
            "bin_end": 7.9,
            "count": 1
           },
           {
            "bin_start": 7.9,
            "bin_end": 12.8,
            "count": 0
           },
           {
            "bin_start": 12.8,
            "bin_end": 17.700000000000003,
            "count": 1
           },
           {
            "bin_start": 17.700000000000003,
            "bin_end": 22.6,
            "count": 0
           },
           {
            "bin_start": 22.6,
            "bin_end": 27.5,
            "count": 0
           },
           {
            "bin_start": 27.5,
            "bin_end": 32.400000000000006,
            "count": 0
           },
           {
            "bin_start": 32.400000000000006,
            "bin_end": 37.300000000000004,
            "count": 1
           },
           {
            "bin_start": 37.300000000000004,
            "bin_end": 42.2,
            "count": 0
           },
           {
            "bin_start": 42.2,
            "bin_end": 47.1,
            "count": 1
           },
           {
            "bin_start": 47.1,
            "bin_end": 52,
            "count": 1
           }
          ]
         }
        },
        {
         "name": "weekday",
         "dtype": "int64",
         "stats": {
          "unique_count": 4,
          "nan_count": 0,
          "min": "2",
          "max": "6",
          "histogram": [
           {
            "bin_start": 2,
            "bin_end": 2.4,
            "count": 1
           },
           {
            "bin_start": 2.4,
            "bin_end": 2.8,
            "count": 0
           },
           {
            "bin_start": 2.8,
            "bin_end": 3.2,
            "count": 0
           },
           {
            "bin_start": 3.2,
            "bin_end": 3.6,
            "count": 0
           },
           {
            "bin_start": 3.6,
            "bin_end": 4,
            "count": 0
           },
           {
            "bin_start": 4,
            "bin_end": 4.4,
            "count": 2
           },
           {
            "bin_start": 4.4,
            "bin_end": 4.800000000000001,
            "count": 0
           },
           {
            "bin_start": 4.800000000000001,
            "bin_end": 5.2,
            "count": 1
           },
           {
            "bin_start": 5.2,
            "bin_end": 5.6,
            "count": 0
           },
           {
            "bin_start": 5.6,
            "bin_end": 6,
            "count": 1
           }
          ]
         }
        },
        {
         "name": "_deepnote_index_column",
         "dtype": "int64"
        }
       ],
       "rows_top": [
        {
         "State": "Cal",
         "HighQ": 244.05,
         "HighQN": 16474,
         "MedQ": 189.42,
         "MedQN": 19085,
         "LowQ": 188.6,
         "LowQN": 1093,
         "date": "2014-12-28T00:00:00.000000",
         "year": 2014,
         "month": 12,
         "week": 52,
         "weekday": 6,
         "_deepnote_index_column": 20914
        },
        {
         "State": "California",
         "HighQ": 243.6,
         "HighQN": 16664,
         "MedQ": 189.19,
         "MedQN": 19416,
         "LowQ": 188.6,
         "LowQN": 1109,
         "date": "2015-01-14T00:00:00.000000",
         "year": 2015,
         "month": 1,
         "week": 3,
         "weekday": 2,
         "_deepnote_index_column": 10051
        },
        {
         "State": "California",
         "HighQ": 244.75,
         "HighQN": 15893,
         "MedQ": 190.43,
         "MedQN": 18113,
         "LowQ": 188.6,
         "LowQN": 1042,
         "date": "2014-11-15T00:00:00.000000",
         "year": 2014,
         "month": 11,
         "week": 46,
         "weekday": 5,
         "_deepnote_index_column": 11428
        },
        {
         "State": "California",
         "HighQ": 246.53,
         "HighQN": 13435,
         "MedQ": 192.83,
         "MedQN": 14590,
         "LowQ": 191.62,
         "LowQN": 866,
         "date": "2014-04-04T00:00:00.000000",
         "year": 2014,
         "month": 4,
         "week": 14,
         "weekday": 4,
         "_deepnote_index_column": 2503
        },
        {
         "State": "California",
         "HighQ": 245.27,
         "HighQN": 15108,
         "MedQ": 191.6,
         "MedQN": 16881,
         "LowQ": 187.94,
         "LowQN": 989,
         "date": "2014-08-15T00:00:00.000000",
         "year": 2014,
         "month": 8,
         "week": 33,
         "weekday": 4,
         "_deepnote_index_column": 11275
        }
       ],
       "rows_bottom": null
      },
      "text/plain": "            State   HighQ  HighQN    MedQ  MedQN    LowQ  LowQN       date  \\\n20914         Cal  244.05   16474  189.42  19085  188.60   1093 2014-12-28   \n10051  California  243.60   16664  189.19  19416  188.60   1109 2015-01-14   \n11428  California  244.75   15893  190.43  18113  188.60   1042 2014-11-15   \n2503   California  246.53   13435  192.83  14590  191.62    866 2014-04-04   \n11275  California  245.27   15108  191.60  16881  187.94    989 2014-08-15   \n\n       year  month  week  weekday  \n20914  2014     12    52        6  \n10051  2015      1     3        2  \n11428  2014     11    46        5  \n2503   2014      4    14        4  \n11275  2014      8    33        4  ",
      "text/html": "<div>\n<style scoped>\n    .dataframe tbody tr th:only-of-type {\n        vertical-align: middle;\n    }\n\n    .dataframe tbody tr th {\n        vertical-align: top;\n    }\n\n    .dataframe thead th {\n        text-align: right;\n    }\n</style>\n<table border=\"1\" class=\"dataframe\">\n  <thead>\n    <tr style=\"text-align: right;\">\n      <th></th>\n      <th>State</th>\n      <th>HighQ</th>\n      <th>HighQN</th>\n      <th>MedQ</th>\n      <th>MedQN</th>\n      <th>LowQ</th>\n      <th>LowQN</th>\n      <th>date</th>\n      <th>year</th>\n      <th>month</th>\n      <th>week</th>\n      <th>weekday</th>\n    </tr>\n  </thead>\n  <tbody>\n    <tr>\n      <th>20914</th>\n      <td>Cal</td>\n      <td>244.05</td>\n      <td>16474</td>\n      <td>189.42</td>\n      <td>19085</td>\n      <td>188.60</td>\n      <td>1093</td>\n      <td>2014-12-28</td>\n      <td>2014</td>\n      <td>12</td>\n      <td>52</td>\n      <td>6</td>\n    </tr>\n    <tr>\n      <th>10051</th>\n      <td>California</td>\n      <td>243.60</td>\n      <td>16664</td>\n      <td>189.19</td>\n      <td>19416</td>\n      <td>188.60</td>\n      <td>1109</td>\n      <td>2015-01-14</td>\n      <td>2015</td>\n      <td>1</td>\n      <td>3</td>\n      <td>2</td>\n    </tr>\n    <tr>\n      <th>11428</th>\n      <td>California</td>\n      <td>244.75</td>\n      <td>15893</td>\n      <td>190.43</td>\n      <td>18113</td>\n      <td>188.60</td>\n      <td>1042</td>\n      <td>2014-11-15</td>\n      <td>2014</td>\n      <td>11</td>\n      <td>46</td>\n      <td>5</td>\n    </tr>\n    <tr>\n      <th>2503</th>\n      <td>California</td>\n      <td>246.53</td>\n      <td>13435</td>\n      <td>192.83</td>\n      <td>14590</td>\n      <td>191.62</td>\n      <td>866</td>\n      <td>2014-04-04</td>\n      <td>2014</td>\n      <td>4</td>\n      <td>14</td>\n      <td>4</td>\n    </tr>\n    <tr>\n      <th>11275</th>\n      <td>California</td>\n      <td>245.27</td>\n      <td>15108</td>\n      <td>191.60</td>\n      <td>16881</td>\n      <td>187.94</td>\n      <td>989</td>\n      <td>2014-08-15</td>\n      <td>2014</td>\n      <td>8</td>\n      <td>33</td>\n      <td>4</td>\n    </tr>\n  </tbody>\n</table>\n</div>"
     },
     "metadata": {}
    }
   ]
  },
  {
   "cell_type": "markdown",
   "source": "But changes when you copy",
   "metadata": {
    "cell_id": "00087-15f0af39-b871-4ee7-b251-0934feaa1cd7",
    "deepnote_cell_type": "markdown"
   }
  },
  {
   "cell_type": "code",
   "metadata": {
    "collapsed": true,
    "cell_id": "00088-1c728b03-7c85-41b9-9167-ae30255746fb",
    "deepnote_to_be_reexecuted": false,
    "source_hash": "2b14f3ee",
    "execution_start": 1624849125140,
    "execution_millis": 5,
    "deepnote_cell_type": "code"
   },
   "source": "df_ca_sample2 = df_ca_sample",
   "execution_count": 68,
   "outputs": []
  },
  {
   "cell_type": "code",
   "metadata": {
    "collapsed": false,
    "cell_id": "00089-ce0f080c-c1a0-467f-b783-560ccf4a903d",
    "deepnote_to_be_reexecuted": false,
    "source_hash": "bfa5b817",
    "execution_start": 1624849137313,
    "execution_millis": 12,
    "deepnote_cell_type": "code"
   },
   "source": "df_ca_sample2.iat[0, 0] = \"CA\"\ndf_ca_sample2.head()",
   "execution_count": 69,
   "outputs": [
    {
     "output_type": "execute_result",
     "execution_count": 69,
     "data": {
      "application/vnd.deepnote.dataframe.v2+json": {
       "row_count": 5,
       "column_count": 12,
       "columns": [
        {
         "name": "State",
         "dtype": "object",
         "stats": {
          "unique_count": 2,
          "nan_count": 0,
          "categories": [
           {
            "name": "California",
            "count": 4
           },
           {
            "name": "CA",
            "count": 1
           }
          ]
         }
        },
        {
         "name": "HighQ",
         "dtype": "float64",
         "stats": {
          "unique_count": 5,
          "nan_count": 0,
          "min": "243.6",
          "max": "246.53",
          "histogram": [
           {
            "bin_start": 243.6,
            "bin_end": 243.893,
            "count": 1
           },
           {
            "bin_start": 243.893,
            "bin_end": 244.186,
            "count": 1
           },
           {
            "bin_start": 244.186,
            "bin_end": 244.47899999999998,
            "count": 0
           },
           {
            "bin_start": 244.47899999999998,
            "bin_end": 244.772,
            "count": 1
           },
           {
            "bin_start": 244.772,
            "bin_end": 245.065,
            "count": 0
           },
           {
            "bin_start": 245.065,
            "bin_end": 245.358,
            "count": 1
           },
           {
            "bin_start": 245.358,
            "bin_end": 245.651,
            "count": 0
           },
           {
            "bin_start": 245.651,
            "bin_end": 245.944,
            "count": 0
           },
           {
            "bin_start": 245.944,
            "bin_end": 246.237,
            "count": 0
           },
           {
            "bin_start": 246.237,
            "bin_end": 246.53,
            "count": 1
           }
          ]
         }
        },
        {
         "name": "HighQN",
         "dtype": "int64",
         "stats": {
          "unique_count": 5,
          "nan_count": 0,
          "min": "13435",
          "max": "16664",
          "histogram": [
           {
            "bin_start": 13435,
            "bin_end": 13757.9,
            "count": 1
           },
           {
            "bin_start": 13757.9,
            "bin_end": 14080.8,
            "count": 0
           },
           {
            "bin_start": 14080.8,
            "bin_end": 14403.7,
            "count": 0
           },
           {
            "bin_start": 14403.7,
            "bin_end": 14726.6,
            "count": 0
           },
           {
            "bin_start": 14726.6,
            "bin_end": 15049.5,
            "count": 0
           },
           {
            "bin_start": 15049.5,
            "bin_end": 15372.4,
            "count": 1
           },
           {
            "bin_start": 15372.4,
            "bin_end": 15695.3,
            "count": 0
           },
           {
            "bin_start": 15695.3,
            "bin_end": 16018.2,
            "count": 1
           },
           {
            "bin_start": 16018.2,
            "bin_end": 16341.1,
            "count": 0
           },
           {
            "bin_start": 16341.1,
            "bin_end": 16664,
            "count": 2
           }
          ]
         }
        },
        {
         "name": "MedQ",
         "dtype": "float64",
         "stats": {
          "unique_count": 5,
          "nan_count": 0,
          "min": "189.19",
          "max": "192.83",
          "histogram": [
           {
            "bin_start": 189.19,
            "bin_end": 189.554,
            "count": 2
           },
           {
            "bin_start": 189.554,
            "bin_end": 189.918,
            "count": 0
           },
           {
            "bin_start": 189.918,
            "bin_end": 190.282,
            "count": 0
           },
           {
            "bin_start": 190.282,
            "bin_end": 190.64600000000002,
            "count": 1
           },
           {
            "bin_start": 190.64600000000002,
            "bin_end": 191.01,
            "count": 0
           },
           {
            "bin_start": 191.01,
            "bin_end": 191.374,
            "count": 0
           },
           {
            "bin_start": 191.374,
            "bin_end": 191.738,
            "count": 1
           },
           {
            "bin_start": 191.738,
            "bin_end": 192.102,
            "count": 0
           },
           {
            "bin_start": 192.102,
            "bin_end": 192.466,
            "count": 0
           },
           {
            "bin_start": 192.466,
            "bin_end": 192.83,
            "count": 1
           }
          ]
         }
        },
        {
         "name": "MedQN",
         "dtype": "int64",
         "stats": {
          "unique_count": 5,
          "nan_count": 0,
          "min": "14590",
          "max": "19416",
          "histogram": [
           {
            "bin_start": 14590,
            "bin_end": 15072.6,
            "count": 1
           },
           {
            "bin_start": 15072.6,
            "bin_end": 15555.2,
            "count": 0
           },
           {
            "bin_start": 15555.2,
            "bin_end": 16037.8,
            "count": 0
           },
           {
            "bin_start": 16037.8,
            "bin_end": 16520.4,
            "count": 0
           },
           {
            "bin_start": 16520.4,
            "bin_end": 17003,
            "count": 1
           },
           {
            "bin_start": 17003,
            "bin_end": 17485.6,
            "count": 0
           },
           {
            "bin_start": 17485.6,
            "bin_end": 17968.2,
            "count": 0
           },
           {
            "bin_start": 17968.2,
            "bin_end": 18450.8,
            "count": 1
           },
           {
            "bin_start": 18450.8,
            "bin_end": 18933.4,
            "count": 0
           },
           {
            "bin_start": 18933.4,
            "bin_end": 19416,
            "count": 2
           }
          ]
         }
        },
        {
         "name": "LowQ",
         "dtype": "float64",
         "stats": {
          "unique_count": 3,
          "nan_count": 0,
          "min": "187.94",
          "max": "191.62",
          "histogram": [
           {
            "bin_start": 187.94,
            "bin_end": 188.308,
            "count": 1
           },
           {
            "bin_start": 188.308,
            "bin_end": 188.676,
            "count": 3
           },
           {
            "bin_start": 188.676,
            "bin_end": 189.044,
            "count": 0
           },
           {
            "bin_start": 189.044,
            "bin_end": 189.412,
            "count": 0
           },
           {
            "bin_start": 189.412,
            "bin_end": 189.78,
            "count": 0
           },
           {
            "bin_start": 189.78,
            "bin_end": 190.148,
            "count": 0
           },
           {
            "bin_start": 190.148,
            "bin_end": 190.516,
            "count": 0
           },
           {
            "bin_start": 190.516,
            "bin_end": 190.88400000000001,
            "count": 0
           },
           {
            "bin_start": 190.88400000000001,
            "bin_end": 191.252,
            "count": 0
           },
           {
            "bin_start": 191.252,
            "bin_end": 191.62,
            "count": 1
           }
          ]
         }
        },
        {
         "name": "LowQN",
         "dtype": "int64",
         "stats": {
          "unique_count": 5,
          "nan_count": 0,
          "min": "866",
          "max": "1109",
          "histogram": [
           {
            "bin_start": 866,
            "bin_end": 890.3,
            "count": 1
           },
           {
            "bin_start": 890.3,
            "bin_end": 914.6,
            "count": 0
           },
           {
            "bin_start": 914.6,
            "bin_end": 938.9,
            "count": 0
           },
           {
            "bin_start": 938.9,
            "bin_end": 963.2,
            "count": 0
           },
           {
            "bin_start": 963.2,
            "bin_end": 987.5,
            "count": 0
           },
           {
            "bin_start": 987.5,
            "bin_end": 1011.8,
            "count": 1
           },
           {
            "bin_start": 1011.8,
            "bin_end": 1036.1,
            "count": 0
           },
           {
            "bin_start": 1036.1,
            "bin_end": 1060.4,
            "count": 1
           },
           {
            "bin_start": 1060.4,
            "bin_end": 1084.7,
            "count": 0
           },
           {
            "bin_start": 1084.7,
            "bin_end": 1109,
            "count": 2
           }
          ]
         }
        },
        {
         "name": "date",
         "dtype": "datetime64[ns]",
         "stats": {
          "unique_count": 5,
          "nan_count": 0,
          "min": "2014-04-04 00:00:00",
          "max": "2015-01-14 00:00:00",
          "histogram": [
           {
            "bin_start": 1396569600000000000,
            "bin_end": 1399032000000000000,
            "count": 1
           },
           {
            "bin_start": 1399032000000000000,
            "bin_end": 1401494400000000000,
            "count": 0
           },
           {
            "bin_start": 1401494400000000000,
            "bin_end": 1403956800000000000,
            "count": 0
           },
           {
            "bin_start": 1403956800000000000,
            "bin_end": 1406419200000000000,
            "count": 0
           },
           {
            "bin_start": 1406419200000000000,
            "bin_end": 1408881600000000000,
            "count": 1
           },
           {
            "bin_start": 1408881600000000000,
            "bin_end": 1411344000000000000,
            "count": 0
           },
           {
            "bin_start": 1411344000000000000,
            "bin_end": 1413806400000000000,
            "count": 0
           },
           {
            "bin_start": 1413806400000000000,
            "bin_end": 1416268800000000000,
            "count": 1
           },
           {
            "bin_start": 1416268800000000000,
            "bin_end": 1418731200000000000,
            "count": 0
           },
           {
            "bin_start": 1418731200000000000,
            "bin_end": 1421193600000000000,
            "count": 2
           }
          ]
         }
        },
        {
         "name": "year",
         "dtype": "int64",
         "stats": {
          "unique_count": 2,
          "nan_count": 0,
          "min": "2014",
          "max": "2015",
          "histogram": [
           {
            "bin_start": 2014,
            "bin_end": 2014.1,
            "count": 4
           },
           {
            "bin_start": 2014.1,
            "bin_end": 2014.2,
            "count": 0
           },
           {
            "bin_start": 2014.2,
            "bin_end": 2014.3,
            "count": 0
           },
           {
            "bin_start": 2014.3,
            "bin_end": 2014.4,
            "count": 0
           },
           {
            "bin_start": 2014.4,
            "bin_end": 2014.5,
            "count": 0
           },
           {
            "bin_start": 2014.5,
            "bin_end": 2014.6,
            "count": 0
           },
           {
            "bin_start": 2014.6,
            "bin_end": 2014.7,
            "count": 0
           },
           {
            "bin_start": 2014.7,
            "bin_end": 2014.8,
            "count": 0
           },
           {
            "bin_start": 2014.8,
            "bin_end": 2014.9,
            "count": 0
           },
           {
            "bin_start": 2014.9,
            "bin_end": 2015,
            "count": 1
           }
          ]
         }
        },
        {
         "name": "month",
         "dtype": "int64",
         "stats": {
          "unique_count": 5,
          "nan_count": 0,
          "min": "1",
          "max": "12",
          "histogram": [
           {
            "bin_start": 1,
            "bin_end": 2.1,
            "count": 1
           },
           {
            "bin_start": 2.1,
            "bin_end": 3.2,
            "count": 0
           },
           {
            "bin_start": 3.2,
            "bin_end": 4.300000000000001,
            "count": 1
           },
           {
            "bin_start": 4.300000000000001,
            "bin_end": 5.4,
            "count": 0
           },
           {
            "bin_start": 5.4,
            "bin_end": 6.5,
            "count": 0
           },
           {
            "bin_start": 6.5,
            "bin_end": 7.6000000000000005,
            "count": 0
           },
           {
            "bin_start": 7.6000000000000005,
            "bin_end": 8.700000000000001,
            "count": 1
           },
           {
            "bin_start": 8.700000000000001,
            "bin_end": 9.8,
            "count": 0
           },
           {
            "bin_start": 9.8,
            "bin_end": 10.9,
            "count": 0
           },
           {
            "bin_start": 10.9,
            "bin_end": 12,
            "count": 2
           }
          ]
         }
        },
        {
         "name": "week",
         "dtype": "int64",
         "stats": {
          "unique_count": 5,
          "nan_count": 0,
          "min": "3",
          "max": "52",
          "histogram": [
           {
            "bin_start": 3,
            "bin_end": 7.9,
            "count": 1
           },
           {
            "bin_start": 7.9,
            "bin_end": 12.8,
            "count": 0
           },
           {
            "bin_start": 12.8,
            "bin_end": 17.700000000000003,
            "count": 1
           },
           {
            "bin_start": 17.700000000000003,
            "bin_end": 22.6,
            "count": 0
           },
           {
            "bin_start": 22.6,
            "bin_end": 27.5,
            "count": 0
           },
           {
            "bin_start": 27.5,
            "bin_end": 32.400000000000006,
            "count": 0
           },
           {
            "bin_start": 32.400000000000006,
            "bin_end": 37.300000000000004,
            "count": 1
           },
           {
            "bin_start": 37.300000000000004,
            "bin_end": 42.2,
            "count": 0
           },
           {
            "bin_start": 42.2,
            "bin_end": 47.1,
            "count": 1
           },
           {
            "bin_start": 47.1,
            "bin_end": 52,
            "count": 1
           }
          ]
         }
        },
        {
         "name": "weekday",
         "dtype": "int64",
         "stats": {
          "unique_count": 4,
          "nan_count": 0,
          "min": "2",
          "max": "6",
          "histogram": [
           {
            "bin_start": 2,
            "bin_end": 2.4,
            "count": 1
           },
           {
            "bin_start": 2.4,
            "bin_end": 2.8,
            "count": 0
           },
           {
            "bin_start": 2.8,
            "bin_end": 3.2,
            "count": 0
           },
           {
            "bin_start": 3.2,
            "bin_end": 3.6,
            "count": 0
           },
           {
            "bin_start": 3.6,
            "bin_end": 4,
            "count": 0
           },
           {
            "bin_start": 4,
            "bin_end": 4.4,
            "count": 2
           },
           {
            "bin_start": 4.4,
            "bin_end": 4.800000000000001,
            "count": 0
           },
           {
            "bin_start": 4.800000000000001,
            "bin_end": 5.2,
            "count": 1
           },
           {
            "bin_start": 5.2,
            "bin_end": 5.6,
            "count": 0
           },
           {
            "bin_start": 5.6,
            "bin_end": 6,
            "count": 1
           }
          ]
         }
        },
        {
         "name": "_deepnote_index_column",
         "dtype": "int64"
        }
       ],
       "rows_top": [
        {
         "State": "CA",
         "HighQ": 244.05,
         "HighQN": 16474,
         "MedQ": 189.42,
         "MedQN": 19085,
         "LowQ": 188.6,
         "LowQN": 1093,
         "date": "2014-12-28T00:00:00.000000",
         "year": 2014,
         "month": 12,
         "week": 52,
         "weekday": 6,
         "_deepnote_index_column": 20914
        },
        {
         "State": "California",
         "HighQ": 243.6,
         "HighQN": 16664,
         "MedQ": 189.19,
         "MedQN": 19416,
         "LowQ": 188.6,
         "LowQN": 1109,
         "date": "2015-01-14T00:00:00.000000",
         "year": 2015,
         "month": 1,
         "week": 3,
         "weekday": 2,
         "_deepnote_index_column": 10051
        },
        {
         "State": "California",
         "HighQ": 244.75,
         "HighQN": 15893,
         "MedQ": 190.43,
         "MedQN": 18113,
         "LowQ": 188.6,
         "LowQN": 1042,
         "date": "2014-11-15T00:00:00.000000",
         "year": 2014,
         "month": 11,
         "week": 46,
         "weekday": 5,
         "_deepnote_index_column": 11428
        },
        {
         "State": "California",
         "HighQ": 246.53,
         "HighQN": 13435,
         "MedQ": 192.83,
         "MedQN": 14590,
         "LowQ": 191.62,
         "LowQN": 866,
         "date": "2014-04-04T00:00:00.000000",
         "year": 2014,
         "month": 4,
         "week": 14,
         "weekday": 4,
         "_deepnote_index_column": 2503
        },
        {
         "State": "California",
         "HighQ": 245.27,
         "HighQN": 15108,
         "MedQ": 191.6,
         "MedQN": 16881,
         "LowQ": 187.94,
         "LowQN": 989,
         "date": "2014-08-15T00:00:00.000000",
         "year": 2014,
         "month": 8,
         "week": 33,
         "weekday": 4,
         "_deepnote_index_column": 11275
        }
       ],
       "rows_bottom": null
      },
      "text/plain": "            State   HighQ  HighQN    MedQ  MedQN    LowQ  LowQN       date  \\\n20914          CA  244.05   16474  189.42  19085  188.60   1093 2014-12-28   \n10051  California  243.60   16664  189.19  19416  188.60   1109 2015-01-14   \n11428  California  244.75   15893  190.43  18113  188.60   1042 2014-11-15   \n2503   California  246.53   13435  192.83  14590  191.62    866 2014-04-04   \n11275  California  245.27   15108  191.60  16881  187.94    989 2014-08-15   \n\n       year  month  week  weekday  \n20914  2014     12    52        6  \n10051  2015      1     3        2  \n11428  2014     11    46        5  \n2503   2014      4    14        4  \n11275  2014      8    33        4  ",
      "text/html": "<div>\n<style scoped>\n    .dataframe tbody tr th:only-of-type {\n        vertical-align: middle;\n    }\n\n    .dataframe tbody tr th {\n        vertical-align: top;\n    }\n\n    .dataframe thead th {\n        text-align: right;\n    }\n</style>\n<table border=\"1\" class=\"dataframe\">\n  <thead>\n    <tr style=\"text-align: right;\">\n      <th></th>\n      <th>State</th>\n      <th>HighQ</th>\n      <th>HighQN</th>\n      <th>MedQ</th>\n      <th>MedQN</th>\n      <th>LowQ</th>\n      <th>LowQN</th>\n      <th>date</th>\n      <th>year</th>\n      <th>month</th>\n      <th>week</th>\n      <th>weekday</th>\n    </tr>\n  </thead>\n  <tbody>\n    <tr>\n      <th>20914</th>\n      <td>CA</td>\n      <td>244.05</td>\n      <td>16474</td>\n      <td>189.42</td>\n      <td>19085</td>\n      <td>188.60</td>\n      <td>1093</td>\n      <td>2014-12-28</td>\n      <td>2014</td>\n      <td>12</td>\n      <td>52</td>\n      <td>6</td>\n    </tr>\n    <tr>\n      <th>10051</th>\n      <td>California</td>\n      <td>243.60</td>\n      <td>16664</td>\n      <td>189.19</td>\n      <td>19416</td>\n      <td>188.60</td>\n      <td>1109</td>\n      <td>2015-01-14</td>\n      <td>2015</td>\n      <td>1</td>\n      <td>3</td>\n      <td>2</td>\n    </tr>\n    <tr>\n      <th>11428</th>\n      <td>California</td>\n      <td>244.75</td>\n      <td>15893</td>\n      <td>190.43</td>\n      <td>18113</td>\n      <td>188.60</td>\n      <td>1042</td>\n      <td>2014-11-15</td>\n      <td>2014</td>\n      <td>11</td>\n      <td>46</td>\n      <td>5</td>\n    </tr>\n    <tr>\n      <th>2503</th>\n      <td>California</td>\n      <td>246.53</td>\n      <td>13435</td>\n      <td>192.83</td>\n      <td>14590</td>\n      <td>191.62</td>\n      <td>866</td>\n      <td>2014-04-04</td>\n      <td>2014</td>\n      <td>4</td>\n      <td>14</td>\n      <td>4</td>\n    </tr>\n    <tr>\n      <th>11275</th>\n      <td>California</td>\n      <td>245.27</td>\n      <td>15108</td>\n      <td>191.60</td>\n      <td>16881</td>\n      <td>187.94</td>\n      <td>989</td>\n      <td>2014-08-15</td>\n      <td>2014</td>\n      <td>8</td>\n      <td>33</td>\n      <td>4</td>\n    </tr>\n  </tbody>\n</table>\n</div>"
     },
     "metadata": {}
    }
   ]
  },
  {
   "cell_type": "code",
   "metadata": {
    "collapsed": false,
    "cell_id": "00090-680d4e40-9d58-446d-8f18-c917d5f342d3",
    "deepnote_to_be_reexecuted": false,
    "source_hash": "1ba6817e",
    "execution_start": 1624849146693,
    "execution_millis": 43,
    "deepnote_cell_type": "code"
   },
   "source": "df_ca_sample.head()",
   "execution_count": 70,
   "outputs": [
    {
     "output_type": "execute_result",
     "execution_count": 70,
     "data": {
      "application/vnd.deepnote.dataframe.v2+json": {
       "row_count": 5,
       "column_count": 12,
       "columns": [
        {
         "name": "State",
         "dtype": "object",
         "stats": {
          "unique_count": 2,
          "nan_count": 0,
          "categories": [
           {
            "name": "California",
            "count": 4
           },
           {
            "name": "CA",
            "count": 1
           }
          ]
         }
        },
        {
         "name": "HighQ",
         "dtype": "float64",
         "stats": {
          "unique_count": 5,
          "nan_count": 0,
          "min": "243.6",
          "max": "246.53",
          "histogram": [
           {
            "bin_start": 243.6,
            "bin_end": 243.893,
            "count": 1
           },
           {
            "bin_start": 243.893,
            "bin_end": 244.186,
            "count": 1
           },
           {
            "bin_start": 244.186,
            "bin_end": 244.47899999999998,
            "count": 0
           },
           {
            "bin_start": 244.47899999999998,
            "bin_end": 244.772,
            "count": 1
           },
           {
            "bin_start": 244.772,
            "bin_end": 245.065,
            "count": 0
           },
           {
            "bin_start": 245.065,
            "bin_end": 245.358,
            "count": 1
           },
           {
            "bin_start": 245.358,
            "bin_end": 245.651,
            "count": 0
           },
           {
            "bin_start": 245.651,
            "bin_end": 245.944,
            "count": 0
           },
           {
            "bin_start": 245.944,
            "bin_end": 246.237,
            "count": 0
           },
           {
            "bin_start": 246.237,
            "bin_end": 246.53,
            "count": 1
           }
          ]
         }
        },
        {
         "name": "HighQN",
         "dtype": "int64",
         "stats": {
          "unique_count": 5,
          "nan_count": 0,
          "min": "13435",
          "max": "16664",
          "histogram": [
           {
            "bin_start": 13435,
            "bin_end": 13757.9,
            "count": 1
           },
           {
            "bin_start": 13757.9,
            "bin_end": 14080.8,
            "count": 0
           },
           {
            "bin_start": 14080.8,
            "bin_end": 14403.7,
            "count": 0
           },
           {
            "bin_start": 14403.7,
            "bin_end": 14726.6,
            "count": 0
           },
           {
            "bin_start": 14726.6,
            "bin_end": 15049.5,
            "count": 0
           },
           {
            "bin_start": 15049.5,
            "bin_end": 15372.4,
            "count": 1
           },
           {
            "bin_start": 15372.4,
            "bin_end": 15695.3,
            "count": 0
           },
           {
            "bin_start": 15695.3,
            "bin_end": 16018.2,
            "count": 1
           },
           {
            "bin_start": 16018.2,
            "bin_end": 16341.1,
            "count": 0
           },
           {
            "bin_start": 16341.1,
            "bin_end": 16664,
            "count": 2
           }
          ]
         }
        },
        {
         "name": "MedQ",
         "dtype": "float64",
         "stats": {
          "unique_count": 5,
          "nan_count": 0,
          "min": "189.19",
          "max": "192.83",
          "histogram": [
           {
            "bin_start": 189.19,
            "bin_end": 189.554,
            "count": 2
           },
           {
            "bin_start": 189.554,
            "bin_end": 189.918,
            "count": 0
           },
           {
            "bin_start": 189.918,
            "bin_end": 190.282,
            "count": 0
           },
           {
            "bin_start": 190.282,
            "bin_end": 190.64600000000002,
            "count": 1
           },
           {
            "bin_start": 190.64600000000002,
            "bin_end": 191.01,
            "count": 0
           },
           {
            "bin_start": 191.01,
            "bin_end": 191.374,
            "count": 0
           },
           {
            "bin_start": 191.374,
            "bin_end": 191.738,
            "count": 1
           },
           {
            "bin_start": 191.738,
            "bin_end": 192.102,
            "count": 0
           },
           {
            "bin_start": 192.102,
            "bin_end": 192.466,
            "count": 0
           },
           {
            "bin_start": 192.466,
            "bin_end": 192.83,
            "count": 1
           }
          ]
         }
        },
        {
         "name": "MedQN",
         "dtype": "int64",
         "stats": {
          "unique_count": 5,
          "nan_count": 0,
          "min": "14590",
          "max": "19416",
          "histogram": [
           {
            "bin_start": 14590,
            "bin_end": 15072.6,
            "count": 1
           },
           {
            "bin_start": 15072.6,
            "bin_end": 15555.2,
            "count": 0
           },
           {
            "bin_start": 15555.2,
            "bin_end": 16037.8,
            "count": 0
           },
           {
            "bin_start": 16037.8,
            "bin_end": 16520.4,
            "count": 0
           },
           {
            "bin_start": 16520.4,
            "bin_end": 17003,
            "count": 1
           },
           {
            "bin_start": 17003,
            "bin_end": 17485.6,
            "count": 0
           },
           {
            "bin_start": 17485.6,
            "bin_end": 17968.2,
            "count": 0
           },
           {
            "bin_start": 17968.2,
            "bin_end": 18450.8,
            "count": 1
           },
           {
            "bin_start": 18450.8,
            "bin_end": 18933.4,
            "count": 0
           },
           {
            "bin_start": 18933.4,
            "bin_end": 19416,
            "count": 2
           }
          ]
         }
        },
        {
         "name": "LowQ",
         "dtype": "float64",
         "stats": {
          "unique_count": 3,
          "nan_count": 0,
          "min": "187.94",
          "max": "191.62",
          "histogram": [
           {
            "bin_start": 187.94,
            "bin_end": 188.308,
            "count": 1
           },
           {
            "bin_start": 188.308,
            "bin_end": 188.676,
            "count": 3
           },
           {
            "bin_start": 188.676,
            "bin_end": 189.044,
            "count": 0
           },
           {
            "bin_start": 189.044,
            "bin_end": 189.412,
            "count": 0
           },
           {
            "bin_start": 189.412,
            "bin_end": 189.78,
            "count": 0
           },
           {
            "bin_start": 189.78,
            "bin_end": 190.148,
            "count": 0
           },
           {
            "bin_start": 190.148,
            "bin_end": 190.516,
            "count": 0
           },
           {
            "bin_start": 190.516,
            "bin_end": 190.88400000000001,
            "count": 0
           },
           {
            "bin_start": 190.88400000000001,
            "bin_end": 191.252,
            "count": 0
           },
           {
            "bin_start": 191.252,
            "bin_end": 191.62,
            "count": 1
           }
          ]
         }
        },
        {
         "name": "LowQN",
         "dtype": "int64",
         "stats": {
          "unique_count": 5,
          "nan_count": 0,
          "min": "866",
          "max": "1109",
          "histogram": [
           {
            "bin_start": 866,
            "bin_end": 890.3,
            "count": 1
           },
           {
            "bin_start": 890.3,
            "bin_end": 914.6,
            "count": 0
           },
           {
            "bin_start": 914.6,
            "bin_end": 938.9,
            "count": 0
           },
           {
            "bin_start": 938.9,
            "bin_end": 963.2,
            "count": 0
           },
           {
            "bin_start": 963.2,
            "bin_end": 987.5,
            "count": 0
           },
           {
            "bin_start": 987.5,
            "bin_end": 1011.8,
            "count": 1
           },
           {
            "bin_start": 1011.8,
            "bin_end": 1036.1,
            "count": 0
           },
           {
            "bin_start": 1036.1,
            "bin_end": 1060.4,
            "count": 1
           },
           {
            "bin_start": 1060.4,
            "bin_end": 1084.7,
            "count": 0
           },
           {
            "bin_start": 1084.7,
            "bin_end": 1109,
            "count": 2
           }
          ]
         }
        },
        {
         "name": "date",
         "dtype": "datetime64[ns]",
         "stats": {
          "unique_count": 5,
          "nan_count": 0,
          "min": "2014-04-04 00:00:00",
          "max": "2015-01-14 00:00:00",
          "histogram": [
           {
            "bin_start": 1396569600000000000,
            "bin_end": 1399032000000000000,
            "count": 1
           },
           {
            "bin_start": 1399032000000000000,
            "bin_end": 1401494400000000000,
            "count": 0
           },
           {
            "bin_start": 1401494400000000000,
            "bin_end": 1403956800000000000,
            "count": 0
           },
           {
            "bin_start": 1403956800000000000,
            "bin_end": 1406419200000000000,
            "count": 0
           },
           {
            "bin_start": 1406419200000000000,
            "bin_end": 1408881600000000000,
            "count": 1
           },
           {
            "bin_start": 1408881600000000000,
            "bin_end": 1411344000000000000,
            "count": 0
           },
           {
            "bin_start": 1411344000000000000,
            "bin_end": 1413806400000000000,
            "count": 0
           },
           {
            "bin_start": 1413806400000000000,
            "bin_end": 1416268800000000000,
            "count": 1
           },
           {
            "bin_start": 1416268800000000000,
            "bin_end": 1418731200000000000,
            "count": 0
           },
           {
            "bin_start": 1418731200000000000,
            "bin_end": 1421193600000000000,
            "count": 2
           }
          ]
         }
        },
        {
         "name": "year",
         "dtype": "int64",
         "stats": {
          "unique_count": 2,
          "nan_count": 0,
          "min": "2014",
          "max": "2015",
          "histogram": [
           {
            "bin_start": 2014,
            "bin_end": 2014.1,
            "count": 4
           },
           {
            "bin_start": 2014.1,
            "bin_end": 2014.2,
            "count": 0
           },
           {
            "bin_start": 2014.2,
            "bin_end": 2014.3,
            "count": 0
           },
           {
            "bin_start": 2014.3,
            "bin_end": 2014.4,
            "count": 0
           },
           {
            "bin_start": 2014.4,
            "bin_end": 2014.5,
            "count": 0
           },
           {
            "bin_start": 2014.5,
            "bin_end": 2014.6,
            "count": 0
           },
           {
            "bin_start": 2014.6,
            "bin_end": 2014.7,
            "count": 0
           },
           {
            "bin_start": 2014.7,
            "bin_end": 2014.8,
            "count": 0
           },
           {
            "bin_start": 2014.8,
            "bin_end": 2014.9,
            "count": 0
           },
           {
            "bin_start": 2014.9,
            "bin_end": 2015,
            "count": 1
           }
          ]
         }
        },
        {
         "name": "month",
         "dtype": "int64",
         "stats": {
          "unique_count": 5,
          "nan_count": 0,
          "min": "1",
          "max": "12",
          "histogram": [
           {
            "bin_start": 1,
            "bin_end": 2.1,
            "count": 1
           },
           {
            "bin_start": 2.1,
            "bin_end": 3.2,
            "count": 0
           },
           {
            "bin_start": 3.2,
            "bin_end": 4.300000000000001,
            "count": 1
           },
           {
            "bin_start": 4.300000000000001,
            "bin_end": 5.4,
            "count": 0
           },
           {
            "bin_start": 5.4,
            "bin_end": 6.5,
            "count": 0
           },
           {
            "bin_start": 6.5,
            "bin_end": 7.6000000000000005,
            "count": 0
           },
           {
            "bin_start": 7.6000000000000005,
            "bin_end": 8.700000000000001,
            "count": 1
           },
           {
            "bin_start": 8.700000000000001,
            "bin_end": 9.8,
            "count": 0
           },
           {
            "bin_start": 9.8,
            "bin_end": 10.9,
            "count": 0
           },
           {
            "bin_start": 10.9,
            "bin_end": 12,
            "count": 2
           }
          ]
         }
        },
        {
         "name": "week",
         "dtype": "int64",
         "stats": {
          "unique_count": 5,
          "nan_count": 0,
          "min": "3",
          "max": "52",
          "histogram": [
           {
            "bin_start": 3,
            "bin_end": 7.9,
            "count": 1
           },
           {
            "bin_start": 7.9,
            "bin_end": 12.8,
            "count": 0
           },
           {
            "bin_start": 12.8,
            "bin_end": 17.700000000000003,
            "count": 1
           },
           {
            "bin_start": 17.700000000000003,
            "bin_end": 22.6,
            "count": 0
           },
           {
            "bin_start": 22.6,
            "bin_end": 27.5,
            "count": 0
           },
           {
            "bin_start": 27.5,
            "bin_end": 32.400000000000006,
            "count": 0
           },
           {
            "bin_start": 32.400000000000006,
            "bin_end": 37.300000000000004,
            "count": 1
           },
           {
            "bin_start": 37.300000000000004,
            "bin_end": 42.2,
            "count": 0
           },
           {
            "bin_start": 42.2,
            "bin_end": 47.1,
            "count": 1
           },
           {
            "bin_start": 47.1,
            "bin_end": 52,
            "count": 1
           }
          ]
         }
        },
        {
         "name": "weekday",
         "dtype": "int64",
         "stats": {
          "unique_count": 4,
          "nan_count": 0,
          "min": "2",
          "max": "6",
          "histogram": [
           {
            "bin_start": 2,
            "bin_end": 2.4,
            "count": 1
           },
           {
            "bin_start": 2.4,
            "bin_end": 2.8,
            "count": 0
           },
           {
            "bin_start": 2.8,
            "bin_end": 3.2,
            "count": 0
           },
           {
            "bin_start": 3.2,
            "bin_end": 3.6,
            "count": 0
           },
           {
            "bin_start": 3.6,
            "bin_end": 4,
            "count": 0
           },
           {
            "bin_start": 4,
            "bin_end": 4.4,
            "count": 2
           },
           {
            "bin_start": 4.4,
            "bin_end": 4.800000000000001,
            "count": 0
           },
           {
            "bin_start": 4.800000000000001,
            "bin_end": 5.2,
            "count": 1
           },
           {
            "bin_start": 5.2,
            "bin_end": 5.6,
            "count": 0
           },
           {
            "bin_start": 5.6,
            "bin_end": 6,
            "count": 1
           }
          ]
         }
        },
        {
         "name": "_deepnote_index_column",
         "dtype": "int64"
        }
       ],
       "rows_top": [
        {
         "State": "CA",
         "HighQ": 244.05,
         "HighQN": 16474,
         "MedQ": 189.42,
         "MedQN": 19085,
         "LowQ": 188.6,
         "LowQN": 1093,
         "date": "2014-12-28T00:00:00.000000",
         "year": 2014,
         "month": 12,
         "week": 52,
         "weekday": 6,
         "_deepnote_index_column": 20914
        },
        {
         "State": "California",
         "HighQ": 243.6,
         "HighQN": 16664,
         "MedQ": 189.19,
         "MedQN": 19416,
         "LowQ": 188.6,
         "LowQN": 1109,
         "date": "2015-01-14T00:00:00.000000",
         "year": 2015,
         "month": 1,
         "week": 3,
         "weekday": 2,
         "_deepnote_index_column": 10051
        },
        {
         "State": "California",
         "HighQ": 244.75,
         "HighQN": 15893,
         "MedQ": 190.43,
         "MedQN": 18113,
         "LowQ": 188.6,
         "LowQN": 1042,
         "date": "2014-11-15T00:00:00.000000",
         "year": 2014,
         "month": 11,
         "week": 46,
         "weekday": 5,
         "_deepnote_index_column": 11428
        },
        {
         "State": "California",
         "HighQ": 246.53,
         "HighQN": 13435,
         "MedQ": 192.83,
         "MedQN": 14590,
         "LowQ": 191.62,
         "LowQN": 866,
         "date": "2014-04-04T00:00:00.000000",
         "year": 2014,
         "month": 4,
         "week": 14,
         "weekday": 4,
         "_deepnote_index_column": 2503
        },
        {
         "State": "California",
         "HighQ": 245.27,
         "HighQN": 15108,
         "MedQ": 191.6,
         "MedQN": 16881,
         "LowQ": 187.94,
         "LowQN": 989,
         "date": "2014-08-15T00:00:00.000000",
         "year": 2014,
         "month": 8,
         "week": 33,
         "weekday": 4,
         "_deepnote_index_column": 11275
        }
       ],
       "rows_bottom": null
      },
      "text/plain": "            State   HighQ  HighQN    MedQ  MedQN    LowQ  LowQN       date  \\\n20914          CA  244.05   16474  189.42  19085  188.60   1093 2014-12-28   \n10051  California  243.60   16664  189.19  19416  188.60   1109 2015-01-14   \n11428  California  244.75   15893  190.43  18113  188.60   1042 2014-11-15   \n2503   California  246.53   13435  192.83  14590  191.62    866 2014-04-04   \n11275  California  245.27   15108  191.60  16881  187.94    989 2014-08-15   \n\n       year  month  week  weekday  \n20914  2014     12    52        6  \n10051  2015      1     3        2  \n11428  2014     11    46        5  \n2503   2014      4    14        4  \n11275  2014      8    33        4  ",
      "text/html": "<div>\n<style scoped>\n    .dataframe tbody tr th:only-of-type {\n        vertical-align: middle;\n    }\n\n    .dataframe tbody tr th {\n        vertical-align: top;\n    }\n\n    .dataframe thead th {\n        text-align: right;\n    }\n</style>\n<table border=\"1\" class=\"dataframe\">\n  <thead>\n    <tr style=\"text-align: right;\">\n      <th></th>\n      <th>State</th>\n      <th>HighQ</th>\n      <th>HighQN</th>\n      <th>MedQ</th>\n      <th>MedQN</th>\n      <th>LowQ</th>\n      <th>LowQN</th>\n      <th>date</th>\n      <th>year</th>\n      <th>month</th>\n      <th>week</th>\n      <th>weekday</th>\n    </tr>\n  </thead>\n  <tbody>\n    <tr>\n      <th>20914</th>\n      <td>CA</td>\n      <td>244.05</td>\n      <td>16474</td>\n      <td>189.42</td>\n      <td>19085</td>\n      <td>188.60</td>\n      <td>1093</td>\n      <td>2014-12-28</td>\n      <td>2014</td>\n      <td>12</td>\n      <td>52</td>\n      <td>6</td>\n    </tr>\n    <tr>\n      <th>10051</th>\n      <td>California</td>\n      <td>243.60</td>\n      <td>16664</td>\n      <td>189.19</td>\n      <td>19416</td>\n      <td>188.60</td>\n      <td>1109</td>\n      <td>2015-01-14</td>\n      <td>2015</td>\n      <td>1</td>\n      <td>3</td>\n      <td>2</td>\n    </tr>\n    <tr>\n      <th>11428</th>\n      <td>California</td>\n      <td>244.75</td>\n      <td>15893</td>\n      <td>190.43</td>\n      <td>18113</td>\n      <td>188.60</td>\n      <td>1042</td>\n      <td>2014-11-15</td>\n      <td>2014</td>\n      <td>11</td>\n      <td>46</td>\n      <td>5</td>\n    </tr>\n    <tr>\n      <th>2503</th>\n      <td>California</td>\n      <td>246.53</td>\n      <td>13435</td>\n      <td>192.83</td>\n      <td>14590</td>\n      <td>191.62</td>\n      <td>866</td>\n      <td>2014-04-04</td>\n      <td>2014</td>\n      <td>4</td>\n      <td>14</td>\n      <td>4</td>\n    </tr>\n    <tr>\n      <th>11275</th>\n      <td>California</td>\n      <td>245.27</td>\n      <td>15108</td>\n      <td>191.60</td>\n      <td>16881</td>\n      <td>187.94</td>\n      <td>989</td>\n      <td>2014-08-15</td>\n      <td>2014</td>\n      <td>8</td>\n      <td>33</td>\n      <td>4</td>\n    </tr>\n  </tbody>\n</table>\n</div>"
     },
     "metadata": {}
    }
   ]
  },
  {
   "cell_type": "markdown",
   "source": "Fix the issue",
   "metadata": {
    "cell_id": "00091-2a805836-4127-44a4-aa82-f78801233753",
    "deepnote_cell_type": "markdown"
   }
  },
  {
   "cell_type": "code",
   "metadata": {
    "collapsed": true,
    "cell_id": "00092-1450d1d2-304b-4df2-b72d-4e44bd60154e",
    "deepnote_to_be_reexecuted": false,
    "source_hash": "b4b17f32",
    "execution_start": 1624849166512,
    "execution_millis": 3,
    "deepnote_cell_type": "code"
   },
   "source": "df_ca_sample3 = df_ca_sample2.copy()",
   "execution_count": 73,
   "outputs": []
  },
  {
   "cell_type": "code",
   "metadata": {
    "collapsed": false,
    "cell_id": "00093-3e4e1fe7-1c79-4077-8830-ff2cb48a4787",
    "deepnote_to_be_reexecuted": false,
    "source_hash": "ec15f904",
    "execution_start": 1624849167459,
    "execution_millis": 61,
    "deepnote_cell_type": "code"
   },
   "source": "df_ca_sample3.head()",
   "execution_count": 74,
   "outputs": [
    {
     "output_type": "execute_result",
     "execution_count": 74,
     "data": {
      "application/vnd.deepnote.dataframe.v2+json": {
       "row_count": 5,
       "column_count": 12,
       "columns": [
        {
         "name": "State",
         "dtype": "object",
         "stats": {
          "unique_count": 2,
          "nan_count": 0,
          "categories": [
           {
            "name": "California",
            "count": 4
           },
           {
            "name": "CA",
            "count": 1
           }
          ]
         }
        },
        {
         "name": "HighQ",
         "dtype": "float64",
         "stats": {
          "unique_count": 5,
          "nan_count": 0,
          "min": "243.6",
          "max": "246.53",
          "histogram": [
           {
            "bin_start": 243.6,
            "bin_end": 243.893,
            "count": 1
           },
           {
            "bin_start": 243.893,
            "bin_end": 244.186,
            "count": 1
           },
           {
            "bin_start": 244.186,
            "bin_end": 244.47899999999998,
            "count": 0
           },
           {
            "bin_start": 244.47899999999998,
            "bin_end": 244.772,
            "count": 1
           },
           {
            "bin_start": 244.772,
            "bin_end": 245.065,
            "count": 0
           },
           {
            "bin_start": 245.065,
            "bin_end": 245.358,
            "count": 1
           },
           {
            "bin_start": 245.358,
            "bin_end": 245.651,
            "count": 0
           },
           {
            "bin_start": 245.651,
            "bin_end": 245.944,
            "count": 0
           },
           {
            "bin_start": 245.944,
            "bin_end": 246.237,
            "count": 0
           },
           {
            "bin_start": 246.237,
            "bin_end": 246.53,
            "count": 1
           }
          ]
         }
        },
        {
         "name": "HighQN",
         "dtype": "int64",
         "stats": {
          "unique_count": 5,
          "nan_count": 0,
          "min": "13435",
          "max": "16664",
          "histogram": [
           {
            "bin_start": 13435,
            "bin_end": 13757.9,
            "count": 1
           },
           {
            "bin_start": 13757.9,
            "bin_end": 14080.8,
            "count": 0
           },
           {
            "bin_start": 14080.8,
            "bin_end": 14403.7,
            "count": 0
           },
           {
            "bin_start": 14403.7,
            "bin_end": 14726.6,
            "count": 0
           },
           {
            "bin_start": 14726.6,
            "bin_end": 15049.5,
            "count": 0
           },
           {
            "bin_start": 15049.5,
            "bin_end": 15372.4,
            "count": 1
           },
           {
            "bin_start": 15372.4,
            "bin_end": 15695.3,
            "count": 0
           },
           {
            "bin_start": 15695.3,
            "bin_end": 16018.2,
            "count": 1
           },
           {
            "bin_start": 16018.2,
            "bin_end": 16341.1,
            "count": 0
           },
           {
            "bin_start": 16341.1,
            "bin_end": 16664,
            "count": 2
           }
          ]
         }
        },
        {
         "name": "MedQ",
         "dtype": "float64",
         "stats": {
          "unique_count": 5,
          "nan_count": 0,
          "min": "189.19",
          "max": "192.83",
          "histogram": [
           {
            "bin_start": 189.19,
            "bin_end": 189.554,
            "count": 2
           },
           {
            "bin_start": 189.554,
            "bin_end": 189.918,
            "count": 0
           },
           {
            "bin_start": 189.918,
            "bin_end": 190.282,
            "count": 0
           },
           {
            "bin_start": 190.282,
            "bin_end": 190.64600000000002,
            "count": 1
           },
           {
            "bin_start": 190.64600000000002,
            "bin_end": 191.01,
            "count": 0
           },
           {
            "bin_start": 191.01,
            "bin_end": 191.374,
            "count": 0
           },
           {
            "bin_start": 191.374,
            "bin_end": 191.738,
            "count": 1
           },
           {
            "bin_start": 191.738,
            "bin_end": 192.102,
            "count": 0
           },
           {
            "bin_start": 192.102,
            "bin_end": 192.466,
            "count": 0
           },
           {
            "bin_start": 192.466,
            "bin_end": 192.83,
            "count": 1
           }
          ]
         }
        },
        {
         "name": "MedQN",
         "dtype": "int64",
         "stats": {
          "unique_count": 5,
          "nan_count": 0,
          "min": "14590",
          "max": "19416",
          "histogram": [
           {
            "bin_start": 14590,
            "bin_end": 15072.6,
            "count": 1
           },
           {
            "bin_start": 15072.6,
            "bin_end": 15555.2,
            "count": 0
           },
           {
            "bin_start": 15555.2,
            "bin_end": 16037.8,
            "count": 0
           },
           {
            "bin_start": 16037.8,
            "bin_end": 16520.4,
            "count": 0
           },
           {
            "bin_start": 16520.4,
            "bin_end": 17003,
            "count": 1
           },
           {
            "bin_start": 17003,
            "bin_end": 17485.6,
            "count": 0
           },
           {
            "bin_start": 17485.6,
            "bin_end": 17968.2,
            "count": 0
           },
           {
            "bin_start": 17968.2,
            "bin_end": 18450.8,
            "count": 1
           },
           {
            "bin_start": 18450.8,
            "bin_end": 18933.4,
            "count": 0
           },
           {
            "bin_start": 18933.4,
            "bin_end": 19416,
            "count": 2
           }
          ]
         }
        },
        {
         "name": "LowQ",
         "dtype": "float64",
         "stats": {
          "unique_count": 3,
          "nan_count": 0,
          "min": "187.94",
          "max": "191.62",
          "histogram": [
           {
            "bin_start": 187.94,
            "bin_end": 188.308,
            "count": 1
           },
           {
            "bin_start": 188.308,
            "bin_end": 188.676,
            "count": 3
           },
           {
            "bin_start": 188.676,
            "bin_end": 189.044,
            "count": 0
           },
           {
            "bin_start": 189.044,
            "bin_end": 189.412,
            "count": 0
           },
           {
            "bin_start": 189.412,
            "bin_end": 189.78,
            "count": 0
           },
           {
            "bin_start": 189.78,
            "bin_end": 190.148,
            "count": 0
           },
           {
            "bin_start": 190.148,
            "bin_end": 190.516,
            "count": 0
           },
           {
            "bin_start": 190.516,
            "bin_end": 190.88400000000001,
            "count": 0
           },
           {
            "bin_start": 190.88400000000001,
            "bin_end": 191.252,
            "count": 0
           },
           {
            "bin_start": 191.252,
            "bin_end": 191.62,
            "count": 1
           }
          ]
         }
        },
        {
         "name": "LowQN",
         "dtype": "int64",
         "stats": {
          "unique_count": 5,
          "nan_count": 0,
          "min": "866",
          "max": "1109",
          "histogram": [
           {
            "bin_start": 866,
            "bin_end": 890.3,
            "count": 1
           },
           {
            "bin_start": 890.3,
            "bin_end": 914.6,
            "count": 0
           },
           {
            "bin_start": 914.6,
            "bin_end": 938.9,
            "count": 0
           },
           {
            "bin_start": 938.9,
            "bin_end": 963.2,
            "count": 0
           },
           {
            "bin_start": 963.2,
            "bin_end": 987.5,
            "count": 0
           },
           {
            "bin_start": 987.5,
            "bin_end": 1011.8,
            "count": 1
           },
           {
            "bin_start": 1011.8,
            "bin_end": 1036.1,
            "count": 0
           },
           {
            "bin_start": 1036.1,
            "bin_end": 1060.4,
            "count": 1
           },
           {
            "bin_start": 1060.4,
            "bin_end": 1084.7,
            "count": 0
           },
           {
            "bin_start": 1084.7,
            "bin_end": 1109,
            "count": 2
           }
          ]
         }
        },
        {
         "name": "date",
         "dtype": "datetime64[ns]",
         "stats": {
          "unique_count": 5,
          "nan_count": 0,
          "min": "2014-04-04 00:00:00",
          "max": "2015-01-14 00:00:00",
          "histogram": [
           {
            "bin_start": 1396569600000000000,
            "bin_end": 1399032000000000000,
            "count": 1
           },
           {
            "bin_start": 1399032000000000000,
            "bin_end": 1401494400000000000,
            "count": 0
           },
           {
            "bin_start": 1401494400000000000,
            "bin_end": 1403956800000000000,
            "count": 0
           },
           {
            "bin_start": 1403956800000000000,
            "bin_end": 1406419200000000000,
            "count": 0
           },
           {
            "bin_start": 1406419200000000000,
            "bin_end": 1408881600000000000,
            "count": 1
           },
           {
            "bin_start": 1408881600000000000,
            "bin_end": 1411344000000000000,
            "count": 0
           },
           {
            "bin_start": 1411344000000000000,
            "bin_end": 1413806400000000000,
            "count": 0
           },
           {
            "bin_start": 1413806400000000000,
            "bin_end": 1416268800000000000,
            "count": 1
           },
           {
            "bin_start": 1416268800000000000,
            "bin_end": 1418731200000000000,
            "count": 0
           },
           {
            "bin_start": 1418731200000000000,
            "bin_end": 1421193600000000000,
            "count": 2
           }
          ]
         }
        },
        {
         "name": "year",
         "dtype": "int64",
         "stats": {
          "unique_count": 2,
          "nan_count": 0,
          "min": "2014",
          "max": "2015",
          "histogram": [
           {
            "bin_start": 2014,
            "bin_end": 2014.1,
            "count": 4
           },
           {
            "bin_start": 2014.1,
            "bin_end": 2014.2,
            "count": 0
           },
           {
            "bin_start": 2014.2,
            "bin_end": 2014.3,
            "count": 0
           },
           {
            "bin_start": 2014.3,
            "bin_end": 2014.4,
            "count": 0
           },
           {
            "bin_start": 2014.4,
            "bin_end": 2014.5,
            "count": 0
           },
           {
            "bin_start": 2014.5,
            "bin_end": 2014.6,
            "count": 0
           },
           {
            "bin_start": 2014.6,
            "bin_end": 2014.7,
            "count": 0
           },
           {
            "bin_start": 2014.7,
            "bin_end": 2014.8,
            "count": 0
           },
           {
            "bin_start": 2014.8,
            "bin_end": 2014.9,
            "count": 0
           },
           {
            "bin_start": 2014.9,
            "bin_end": 2015,
            "count": 1
           }
          ]
         }
        },
        {
         "name": "month",
         "dtype": "int64",
         "stats": {
          "unique_count": 5,
          "nan_count": 0,
          "min": "1",
          "max": "12",
          "histogram": [
           {
            "bin_start": 1,
            "bin_end": 2.1,
            "count": 1
           },
           {
            "bin_start": 2.1,
            "bin_end": 3.2,
            "count": 0
           },
           {
            "bin_start": 3.2,
            "bin_end": 4.300000000000001,
            "count": 1
           },
           {
            "bin_start": 4.300000000000001,
            "bin_end": 5.4,
            "count": 0
           },
           {
            "bin_start": 5.4,
            "bin_end": 6.5,
            "count": 0
           },
           {
            "bin_start": 6.5,
            "bin_end": 7.6000000000000005,
            "count": 0
           },
           {
            "bin_start": 7.6000000000000005,
            "bin_end": 8.700000000000001,
            "count": 1
           },
           {
            "bin_start": 8.700000000000001,
            "bin_end": 9.8,
            "count": 0
           },
           {
            "bin_start": 9.8,
            "bin_end": 10.9,
            "count": 0
           },
           {
            "bin_start": 10.9,
            "bin_end": 12,
            "count": 2
           }
          ]
         }
        },
        {
         "name": "week",
         "dtype": "int64",
         "stats": {
          "unique_count": 5,
          "nan_count": 0,
          "min": "3",
          "max": "52",
          "histogram": [
           {
            "bin_start": 3,
            "bin_end": 7.9,
            "count": 1
           },
           {
            "bin_start": 7.9,
            "bin_end": 12.8,
            "count": 0
           },
           {
            "bin_start": 12.8,
            "bin_end": 17.700000000000003,
            "count": 1
           },
           {
            "bin_start": 17.700000000000003,
            "bin_end": 22.6,
            "count": 0
           },
           {
            "bin_start": 22.6,
            "bin_end": 27.5,
            "count": 0
           },
           {
            "bin_start": 27.5,
            "bin_end": 32.400000000000006,
            "count": 0
           },
           {
            "bin_start": 32.400000000000006,
            "bin_end": 37.300000000000004,
            "count": 1
           },
           {
            "bin_start": 37.300000000000004,
            "bin_end": 42.2,
            "count": 0
           },
           {
            "bin_start": 42.2,
            "bin_end": 47.1,
            "count": 1
           },
           {
            "bin_start": 47.1,
            "bin_end": 52,
            "count": 1
           }
          ]
         }
        },
        {
         "name": "weekday",
         "dtype": "int64",
         "stats": {
          "unique_count": 4,
          "nan_count": 0,
          "min": "2",
          "max": "6",
          "histogram": [
           {
            "bin_start": 2,
            "bin_end": 2.4,
            "count": 1
           },
           {
            "bin_start": 2.4,
            "bin_end": 2.8,
            "count": 0
           },
           {
            "bin_start": 2.8,
            "bin_end": 3.2,
            "count": 0
           },
           {
            "bin_start": 3.2,
            "bin_end": 3.6,
            "count": 0
           },
           {
            "bin_start": 3.6,
            "bin_end": 4,
            "count": 0
           },
           {
            "bin_start": 4,
            "bin_end": 4.4,
            "count": 2
           },
           {
            "bin_start": 4.4,
            "bin_end": 4.800000000000001,
            "count": 0
           },
           {
            "bin_start": 4.800000000000001,
            "bin_end": 5.2,
            "count": 1
           },
           {
            "bin_start": 5.2,
            "bin_end": 5.6,
            "count": 0
           },
           {
            "bin_start": 5.6,
            "bin_end": 6,
            "count": 1
           }
          ]
         }
        },
        {
         "name": "_deepnote_index_column",
         "dtype": "int64"
        }
       ],
       "rows_top": [
        {
         "State": "CA",
         "HighQ": 244.05,
         "HighQN": 16474,
         "MedQ": 189.42,
         "MedQN": 19085,
         "LowQ": 188.6,
         "LowQN": 1093,
         "date": "2014-12-28T00:00:00.000000",
         "year": 2014,
         "month": 12,
         "week": 52,
         "weekday": 6,
         "_deepnote_index_column": 20914
        },
        {
         "State": "California",
         "HighQ": 243.6,
         "HighQN": 16664,
         "MedQ": 189.19,
         "MedQN": 19416,
         "LowQ": 188.6,
         "LowQN": 1109,
         "date": "2015-01-14T00:00:00.000000",
         "year": 2015,
         "month": 1,
         "week": 3,
         "weekday": 2,
         "_deepnote_index_column": 10051
        },
        {
         "State": "California",
         "HighQ": 244.75,
         "HighQN": 15893,
         "MedQ": 190.43,
         "MedQN": 18113,
         "LowQ": 188.6,
         "LowQN": 1042,
         "date": "2014-11-15T00:00:00.000000",
         "year": 2014,
         "month": 11,
         "week": 46,
         "weekday": 5,
         "_deepnote_index_column": 11428
        },
        {
         "State": "California",
         "HighQ": 246.53,
         "HighQN": 13435,
         "MedQ": 192.83,
         "MedQN": 14590,
         "LowQ": 191.62,
         "LowQN": 866,
         "date": "2014-04-04T00:00:00.000000",
         "year": 2014,
         "month": 4,
         "week": 14,
         "weekday": 4,
         "_deepnote_index_column": 2503
        },
        {
         "State": "California",
         "HighQ": 245.27,
         "HighQN": 15108,
         "MedQ": 191.6,
         "MedQN": 16881,
         "LowQ": 187.94,
         "LowQN": 989,
         "date": "2014-08-15T00:00:00.000000",
         "year": 2014,
         "month": 8,
         "week": 33,
         "weekday": 4,
         "_deepnote_index_column": 11275
        }
       ],
       "rows_bottom": null
      },
      "text/plain": "            State   HighQ  HighQN    MedQ  MedQN    LowQ  LowQN       date  \\\n20914          CA  244.05   16474  189.42  19085  188.60   1093 2014-12-28   \n10051  California  243.60   16664  189.19  19416  188.60   1109 2015-01-14   \n11428  California  244.75   15893  190.43  18113  188.60   1042 2014-11-15   \n2503   California  246.53   13435  192.83  14590  191.62    866 2014-04-04   \n11275  California  245.27   15108  191.60  16881  187.94    989 2014-08-15   \n\n       year  month  week  weekday  \n20914  2014     12    52        6  \n10051  2015      1     3        2  \n11428  2014     11    46        5  \n2503   2014      4    14        4  \n11275  2014      8    33        4  ",
      "text/html": "<div>\n<style scoped>\n    .dataframe tbody tr th:only-of-type {\n        vertical-align: middle;\n    }\n\n    .dataframe tbody tr th {\n        vertical-align: top;\n    }\n\n    .dataframe thead th {\n        text-align: right;\n    }\n</style>\n<table border=\"1\" class=\"dataframe\">\n  <thead>\n    <tr style=\"text-align: right;\">\n      <th></th>\n      <th>State</th>\n      <th>HighQ</th>\n      <th>HighQN</th>\n      <th>MedQ</th>\n      <th>MedQN</th>\n      <th>LowQ</th>\n      <th>LowQN</th>\n      <th>date</th>\n      <th>year</th>\n      <th>month</th>\n      <th>week</th>\n      <th>weekday</th>\n    </tr>\n  </thead>\n  <tbody>\n    <tr>\n      <th>20914</th>\n      <td>CA</td>\n      <td>244.05</td>\n      <td>16474</td>\n      <td>189.42</td>\n      <td>19085</td>\n      <td>188.60</td>\n      <td>1093</td>\n      <td>2014-12-28</td>\n      <td>2014</td>\n      <td>12</td>\n      <td>52</td>\n      <td>6</td>\n    </tr>\n    <tr>\n      <th>10051</th>\n      <td>California</td>\n      <td>243.60</td>\n      <td>16664</td>\n      <td>189.19</td>\n      <td>19416</td>\n      <td>188.60</td>\n      <td>1109</td>\n      <td>2015-01-14</td>\n      <td>2015</td>\n      <td>1</td>\n      <td>3</td>\n      <td>2</td>\n    </tr>\n    <tr>\n      <th>11428</th>\n      <td>California</td>\n      <td>244.75</td>\n      <td>15893</td>\n      <td>190.43</td>\n      <td>18113</td>\n      <td>188.60</td>\n      <td>1042</td>\n      <td>2014-11-15</td>\n      <td>2014</td>\n      <td>11</td>\n      <td>46</td>\n      <td>5</td>\n    </tr>\n    <tr>\n      <th>2503</th>\n      <td>California</td>\n      <td>246.53</td>\n      <td>13435</td>\n      <td>192.83</td>\n      <td>14590</td>\n      <td>191.62</td>\n      <td>866</td>\n      <td>2014-04-04</td>\n      <td>2014</td>\n      <td>4</td>\n      <td>14</td>\n      <td>4</td>\n    </tr>\n    <tr>\n      <th>11275</th>\n      <td>California</td>\n      <td>245.27</td>\n      <td>15108</td>\n      <td>191.60</td>\n      <td>16881</td>\n      <td>187.94</td>\n      <td>989</td>\n      <td>2014-08-15</td>\n      <td>2014</td>\n      <td>8</td>\n      <td>33</td>\n      <td>4</td>\n    </tr>\n  </tbody>\n</table>\n</div>"
     },
     "metadata": {}
    }
   ]
  },
  {
   "cell_type": "code",
   "metadata": {
    "collapsed": false,
    "cell_id": "00094-d608ecd0-fc00-4fcb-82ef-aaf7c5de7ea9",
    "deepnote_to_be_reexecuted": false,
    "source_hash": "f79fef7",
    "execution_start": 1624849167970,
    "execution_millis": 14,
    "deepnote_cell_type": "code"
   },
   "source": "df_ca_sample3.iat[0, 0] = \"CALIFORNIA\"\ndf_ca_sample3.head()",
   "execution_count": 75,
   "outputs": [
    {
     "output_type": "execute_result",
     "execution_count": 75,
     "data": {
      "application/vnd.deepnote.dataframe.v2+json": {
       "row_count": 5,
       "column_count": 12,
       "columns": [
        {
         "name": "State",
         "dtype": "object",
         "stats": {
          "unique_count": 2,
          "nan_count": 0,
          "categories": [
           {
            "name": "California",
            "count": 4
           },
           {
            "name": "CALIFORNIA",
            "count": 1
           }
          ]
         }
        },
        {
         "name": "HighQ",
         "dtype": "float64",
         "stats": {
          "unique_count": 5,
          "nan_count": 0,
          "min": "243.6",
          "max": "246.53",
          "histogram": [
           {
            "bin_start": 243.6,
            "bin_end": 243.893,
            "count": 1
           },
           {
            "bin_start": 243.893,
            "bin_end": 244.186,
            "count": 1
           },
           {
            "bin_start": 244.186,
            "bin_end": 244.47899999999998,
            "count": 0
           },
           {
            "bin_start": 244.47899999999998,
            "bin_end": 244.772,
            "count": 1
           },
           {
            "bin_start": 244.772,
            "bin_end": 245.065,
            "count": 0
           },
           {
            "bin_start": 245.065,
            "bin_end": 245.358,
            "count": 1
           },
           {
            "bin_start": 245.358,
            "bin_end": 245.651,
            "count": 0
           },
           {
            "bin_start": 245.651,
            "bin_end": 245.944,
            "count": 0
           },
           {
            "bin_start": 245.944,
            "bin_end": 246.237,
            "count": 0
           },
           {
            "bin_start": 246.237,
            "bin_end": 246.53,
            "count": 1
           }
          ]
         }
        },
        {
         "name": "HighQN",
         "dtype": "int64",
         "stats": {
          "unique_count": 5,
          "nan_count": 0,
          "min": "13435",
          "max": "16664",
          "histogram": [
           {
            "bin_start": 13435,
            "bin_end": 13757.9,
            "count": 1
           },
           {
            "bin_start": 13757.9,
            "bin_end": 14080.8,
            "count": 0
           },
           {
            "bin_start": 14080.8,
            "bin_end": 14403.7,
            "count": 0
           },
           {
            "bin_start": 14403.7,
            "bin_end": 14726.6,
            "count": 0
           },
           {
            "bin_start": 14726.6,
            "bin_end": 15049.5,
            "count": 0
           },
           {
            "bin_start": 15049.5,
            "bin_end": 15372.4,
            "count": 1
           },
           {
            "bin_start": 15372.4,
            "bin_end": 15695.3,
            "count": 0
           },
           {
            "bin_start": 15695.3,
            "bin_end": 16018.2,
            "count": 1
           },
           {
            "bin_start": 16018.2,
            "bin_end": 16341.1,
            "count": 0
           },
           {
            "bin_start": 16341.1,
            "bin_end": 16664,
            "count": 2
           }
          ]
         }
        },
        {
         "name": "MedQ",
         "dtype": "float64",
         "stats": {
          "unique_count": 5,
          "nan_count": 0,
          "min": "189.19",
          "max": "192.83",
          "histogram": [
           {
            "bin_start": 189.19,
            "bin_end": 189.554,
            "count": 2
           },
           {
            "bin_start": 189.554,
            "bin_end": 189.918,
            "count": 0
           },
           {
            "bin_start": 189.918,
            "bin_end": 190.282,
            "count": 0
           },
           {
            "bin_start": 190.282,
            "bin_end": 190.64600000000002,
            "count": 1
           },
           {
            "bin_start": 190.64600000000002,
            "bin_end": 191.01,
            "count": 0
           },
           {
            "bin_start": 191.01,
            "bin_end": 191.374,
            "count": 0
           },
           {
            "bin_start": 191.374,
            "bin_end": 191.738,
            "count": 1
           },
           {
            "bin_start": 191.738,
            "bin_end": 192.102,
            "count": 0
           },
           {
            "bin_start": 192.102,
            "bin_end": 192.466,
            "count": 0
           },
           {
            "bin_start": 192.466,
            "bin_end": 192.83,
            "count": 1
           }
          ]
         }
        },
        {
         "name": "MedQN",
         "dtype": "int64",
         "stats": {
          "unique_count": 5,
          "nan_count": 0,
          "min": "14590",
          "max": "19416",
          "histogram": [
           {
            "bin_start": 14590,
            "bin_end": 15072.6,
            "count": 1
           },
           {
            "bin_start": 15072.6,
            "bin_end": 15555.2,
            "count": 0
           },
           {
            "bin_start": 15555.2,
            "bin_end": 16037.8,
            "count": 0
           },
           {
            "bin_start": 16037.8,
            "bin_end": 16520.4,
            "count": 0
           },
           {
            "bin_start": 16520.4,
            "bin_end": 17003,
            "count": 1
           },
           {
            "bin_start": 17003,
            "bin_end": 17485.6,
            "count": 0
           },
           {
            "bin_start": 17485.6,
            "bin_end": 17968.2,
            "count": 0
           },
           {
            "bin_start": 17968.2,
            "bin_end": 18450.8,
            "count": 1
           },
           {
            "bin_start": 18450.8,
            "bin_end": 18933.4,
            "count": 0
           },
           {
            "bin_start": 18933.4,
            "bin_end": 19416,
            "count": 2
           }
          ]
         }
        },
        {
         "name": "LowQ",
         "dtype": "float64",
         "stats": {
          "unique_count": 3,
          "nan_count": 0,
          "min": "187.94",
          "max": "191.62",
          "histogram": [
           {
            "bin_start": 187.94,
            "bin_end": 188.308,
            "count": 1
           },
           {
            "bin_start": 188.308,
            "bin_end": 188.676,
            "count": 3
           },
           {
            "bin_start": 188.676,
            "bin_end": 189.044,
            "count": 0
           },
           {
            "bin_start": 189.044,
            "bin_end": 189.412,
            "count": 0
           },
           {
            "bin_start": 189.412,
            "bin_end": 189.78,
            "count": 0
           },
           {
            "bin_start": 189.78,
            "bin_end": 190.148,
            "count": 0
           },
           {
            "bin_start": 190.148,
            "bin_end": 190.516,
            "count": 0
           },
           {
            "bin_start": 190.516,
            "bin_end": 190.88400000000001,
            "count": 0
           },
           {
            "bin_start": 190.88400000000001,
            "bin_end": 191.252,
            "count": 0
           },
           {
            "bin_start": 191.252,
            "bin_end": 191.62,
            "count": 1
           }
          ]
         }
        },
        {
         "name": "LowQN",
         "dtype": "int64",
         "stats": {
          "unique_count": 5,
          "nan_count": 0,
          "min": "866",
          "max": "1109",
          "histogram": [
           {
            "bin_start": 866,
            "bin_end": 890.3,
            "count": 1
           },
           {
            "bin_start": 890.3,
            "bin_end": 914.6,
            "count": 0
           },
           {
            "bin_start": 914.6,
            "bin_end": 938.9,
            "count": 0
           },
           {
            "bin_start": 938.9,
            "bin_end": 963.2,
            "count": 0
           },
           {
            "bin_start": 963.2,
            "bin_end": 987.5,
            "count": 0
           },
           {
            "bin_start": 987.5,
            "bin_end": 1011.8,
            "count": 1
           },
           {
            "bin_start": 1011.8,
            "bin_end": 1036.1,
            "count": 0
           },
           {
            "bin_start": 1036.1,
            "bin_end": 1060.4,
            "count": 1
           },
           {
            "bin_start": 1060.4,
            "bin_end": 1084.7,
            "count": 0
           },
           {
            "bin_start": 1084.7,
            "bin_end": 1109,
            "count": 2
           }
          ]
         }
        },
        {
         "name": "date",
         "dtype": "datetime64[ns]",
         "stats": {
          "unique_count": 5,
          "nan_count": 0,
          "min": "2014-04-04 00:00:00",
          "max": "2015-01-14 00:00:00",
          "histogram": [
           {
            "bin_start": 1396569600000000000,
            "bin_end": 1399032000000000000,
            "count": 1
           },
           {
            "bin_start": 1399032000000000000,
            "bin_end": 1401494400000000000,
            "count": 0
           },
           {
            "bin_start": 1401494400000000000,
            "bin_end": 1403956800000000000,
            "count": 0
           },
           {
            "bin_start": 1403956800000000000,
            "bin_end": 1406419200000000000,
            "count": 0
           },
           {
            "bin_start": 1406419200000000000,
            "bin_end": 1408881600000000000,
            "count": 1
           },
           {
            "bin_start": 1408881600000000000,
            "bin_end": 1411344000000000000,
            "count": 0
           },
           {
            "bin_start": 1411344000000000000,
            "bin_end": 1413806400000000000,
            "count": 0
           },
           {
            "bin_start": 1413806400000000000,
            "bin_end": 1416268800000000000,
            "count": 1
           },
           {
            "bin_start": 1416268800000000000,
            "bin_end": 1418731200000000000,
            "count": 0
           },
           {
            "bin_start": 1418731200000000000,
            "bin_end": 1421193600000000000,
            "count": 2
           }
          ]
         }
        },
        {
         "name": "year",
         "dtype": "int64",
         "stats": {
          "unique_count": 2,
          "nan_count": 0,
          "min": "2014",
          "max": "2015",
          "histogram": [
           {
            "bin_start": 2014,
            "bin_end": 2014.1,
            "count": 4
           },
           {
            "bin_start": 2014.1,
            "bin_end": 2014.2,
            "count": 0
           },
           {
            "bin_start": 2014.2,
            "bin_end": 2014.3,
            "count": 0
           },
           {
            "bin_start": 2014.3,
            "bin_end": 2014.4,
            "count": 0
           },
           {
            "bin_start": 2014.4,
            "bin_end": 2014.5,
            "count": 0
           },
           {
            "bin_start": 2014.5,
            "bin_end": 2014.6,
            "count": 0
           },
           {
            "bin_start": 2014.6,
            "bin_end": 2014.7,
            "count": 0
           },
           {
            "bin_start": 2014.7,
            "bin_end": 2014.8,
            "count": 0
           },
           {
            "bin_start": 2014.8,
            "bin_end": 2014.9,
            "count": 0
           },
           {
            "bin_start": 2014.9,
            "bin_end": 2015,
            "count": 1
           }
          ]
         }
        },
        {
         "name": "month",
         "dtype": "int64",
         "stats": {
          "unique_count": 5,
          "nan_count": 0,
          "min": "1",
          "max": "12",
          "histogram": [
           {
            "bin_start": 1,
            "bin_end": 2.1,
            "count": 1
           },
           {
            "bin_start": 2.1,
            "bin_end": 3.2,
            "count": 0
           },
           {
            "bin_start": 3.2,
            "bin_end": 4.300000000000001,
            "count": 1
           },
           {
            "bin_start": 4.300000000000001,
            "bin_end": 5.4,
            "count": 0
           },
           {
            "bin_start": 5.4,
            "bin_end": 6.5,
            "count": 0
           },
           {
            "bin_start": 6.5,
            "bin_end": 7.6000000000000005,
            "count": 0
           },
           {
            "bin_start": 7.6000000000000005,
            "bin_end": 8.700000000000001,
            "count": 1
           },
           {
            "bin_start": 8.700000000000001,
            "bin_end": 9.8,
            "count": 0
           },
           {
            "bin_start": 9.8,
            "bin_end": 10.9,
            "count": 0
           },
           {
            "bin_start": 10.9,
            "bin_end": 12,
            "count": 2
           }
          ]
         }
        },
        {
         "name": "week",
         "dtype": "int64",
         "stats": {
          "unique_count": 5,
          "nan_count": 0,
          "min": "3",
          "max": "52",
          "histogram": [
           {
            "bin_start": 3,
            "bin_end": 7.9,
            "count": 1
           },
           {
            "bin_start": 7.9,
            "bin_end": 12.8,
            "count": 0
           },
           {
            "bin_start": 12.8,
            "bin_end": 17.700000000000003,
            "count": 1
           },
           {
            "bin_start": 17.700000000000003,
            "bin_end": 22.6,
            "count": 0
           },
           {
            "bin_start": 22.6,
            "bin_end": 27.5,
            "count": 0
           },
           {
            "bin_start": 27.5,
            "bin_end": 32.400000000000006,
            "count": 0
           },
           {
            "bin_start": 32.400000000000006,
            "bin_end": 37.300000000000004,
            "count": 1
           },
           {
            "bin_start": 37.300000000000004,
            "bin_end": 42.2,
            "count": 0
           },
           {
            "bin_start": 42.2,
            "bin_end": 47.1,
            "count": 1
           },
           {
            "bin_start": 47.1,
            "bin_end": 52,
            "count": 1
           }
          ]
         }
        },
        {
         "name": "weekday",
         "dtype": "int64",
         "stats": {
          "unique_count": 4,
          "nan_count": 0,
          "min": "2",
          "max": "6",
          "histogram": [
           {
            "bin_start": 2,
            "bin_end": 2.4,
            "count": 1
           },
           {
            "bin_start": 2.4,
            "bin_end": 2.8,
            "count": 0
           },
           {
            "bin_start": 2.8,
            "bin_end": 3.2,
            "count": 0
           },
           {
            "bin_start": 3.2,
            "bin_end": 3.6,
            "count": 0
           },
           {
            "bin_start": 3.6,
            "bin_end": 4,
            "count": 0
           },
           {
            "bin_start": 4,
            "bin_end": 4.4,
            "count": 2
           },
           {
            "bin_start": 4.4,
            "bin_end": 4.800000000000001,
            "count": 0
           },
           {
            "bin_start": 4.800000000000001,
            "bin_end": 5.2,
            "count": 1
           },
           {
            "bin_start": 5.2,
            "bin_end": 5.6,
            "count": 0
           },
           {
            "bin_start": 5.6,
            "bin_end": 6,
            "count": 1
           }
          ]
         }
        },
        {
         "name": "_deepnote_index_column",
         "dtype": "int64"
        }
       ],
       "rows_top": [
        {
         "State": "CALIFORNIA",
         "HighQ": 244.05,
         "HighQN": 16474,
         "MedQ": 189.42,
         "MedQN": 19085,
         "LowQ": 188.6,
         "LowQN": 1093,
         "date": "2014-12-28T00:00:00.000000",
         "year": 2014,
         "month": 12,
         "week": 52,
         "weekday": 6,
         "_deepnote_index_column": 20914
        },
        {
         "State": "California",
         "HighQ": 243.6,
         "HighQN": 16664,
         "MedQ": 189.19,
         "MedQN": 19416,
         "LowQ": 188.6,
         "LowQN": 1109,
         "date": "2015-01-14T00:00:00.000000",
         "year": 2015,
         "month": 1,
         "week": 3,
         "weekday": 2,
         "_deepnote_index_column": 10051
        },
        {
         "State": "California",
         "HighQ": 244.75,
         "HighQN": 15893,
         "MedQ": 190.43,
         "MedQN": 18113,
         "LowQ": 188.6,
         "LowQN": 1042,
         "date": "2014-11-15T00:00:00.000000",
         "year": 2014,
         "month": 11,
         "week": 46,
         "weekday": 5,
         "_deepnote_index_column": 11428
        },
        {
         "State": "California",
         "HighQ": 246.53,
         "HighQN": 13435,
         "MedQ": 192.83,
         "MedQN": 14590,
         "LowQ": 191.62,
         "LowQN": 866,
         "date": "2014-04-04T00:00:00.000000",
         "year": 2014,
         "month": 4,
         "week": 14,
         "weekday": 4,
         "_deepnote_index_column": 2503
        },
        {
         "State": "California",
         "HighQ": 245.27,
         "HighQN": 15108,
         "MedQ": 191.6,
         "MedQN": 16881,
         "LowQ": 187.94,
         "LowQN": 989,
         "date": "2014-08-15T00:00:00.000000",
         "year": 2014,
         "month": 8,
         "week": 33,
         "weekday": 4,
         "_deepnote_index_column": 11275
        }
       ],
       "rows_bottom": null
      },
      "text/plain": "            State   HighQ  HighQN    MedQ  MedQN    LowQ  LowQN       date  \\\n20914  CALIFORNIA  244.05   16474  189.42  19085  188.60   1093 2014-12-28   \n10051  California  243.60   16664  189.19  19416  188.60   1109 2015-01-14   \n11428  California  244.75   15893  190.43  18113  188.60   1042 2014-11-15   \n2503   California  246.53   13435  192.83  14590  191.62    866 2014-04-04   \n11275  California  245.27   15108  191.60  16881  187.94    989 2014-08-15   \n\n       year  month  week  weekday  \n20914  2014     12    52        6  \n10051  2015      1     3        2  \n11428  2014     11    46        5  \n2503   2014      4    14        4  \n11275  2014      8    33        4  ",
      "text/html": "<div>\n<style scoped>\n    .dataframe tbody tr th:only-of-type {\n        vertical-align: middle;\n    }\n\n    .dataframe tbody tr th {\n        vertical-align: top;\n    }\n\n    .dataframe thead th {\n        text-align: right;\n    }\n</style>\n<table border=\"1\" class=\"dataframe\">\n  <thead>\n    <tr style=\"text-align: right;\">\n      <th></th>\n      <th>State</th>\n      <th>HighQ</th>\n      <th>HighQN</th>\n      <th>MedQ</th>\n      <th>MedQN</th>\n      <th>LowQ</th>\n      <th>LowQN</th>\n      <th>date</th>\n      <th>year</th>\n      <th>month</th>\n      <th>week</th>\n      <th>weekday</th>\n    </tr>\n  </thead>\n  <tbody>\n    <tr>\n      <th>20914</th>\n      <td>CALIFORNIA</td>\n      <td>244.05</td>\n      <td>16474</td>\n      <td>189.42</td>\n      <td>19085</td>\n      <td>188.60</td>\n      <td>1093</td>\n      <td>2014-12-28</td>\n      <td>2014</td>\n      <td>12</td>\n      <td>52</td>\n      <td>6</td>\n    </tr>\n    <tr>\n      <th>10051</th>\n      <td>California</td>\n      <td>243.60</td>\n      <td>16664</td>\n      <td>189.19</td>\n      <td>19416</td>\n      <td>188.60</td>\n      <td>1109</td>\n      <td>2015-01-14</td>\n      <td>2015</td>\n      <td>1</td>\n      <td>3</td>\n      <td>2</td>\n    </tr>\n    <tr>\n      <th>11428</th>\n      <td>California</td>\n      <td>244.75</td>\n      <td>15893</td>\n      <td>190.43</td>\n      <td>18113</td>\n      <td>188.60</td>\n      <td>1042</td>\n      <td>2014-11-15</td>\n      <td>2014</td>\n      <td>11</td>\n      <td>46</td>\n      <td>5</td>\n    </tr>\n    <tr>\n      <th>2503</th>\n      <td>California</td>\n      <td>246.53</td>\n      <td>13435</td>\n      <td>192.83</td>\n      <td>14590</td>\n      <td>191.62</td>\n      <td>866</td>\n      <td>2014-04-04</td>\n      <td>2014</td>\n      <td>4</td>\n      <td>14</td>\n      <td>4</td>\n    </tr>\n    <tr>\n      <th>11275</th>\n      <td>California</td>\n      <td>245.27</td>\n      <td>15108</td>\n      <td>191.60</td>\n      <td>16881</td>\n      <td>187.94</td>\n      <td>989</td>\n      <td>2014-08-15</td>\n      <td>2014</td>\n      <td>8</td>\n      <td>33</td>\n      <td>4</td>\n    </tr>\n  </tbody>\n</table>\n</div>"
     },
     "metadata": {}
    }
   ]
  },
  {
   "cell_type": "code",
   "metadata": {
    "collapsed": false,
    "cell_id": "00095-a7e1e6d8-907c-4d2d-a5d3-cb5860eb7676",
    "deepnote_to_be_reexecuted": false,
    "source_hash": "b808e9b",
    "execution_start": 1624849169356,
    "execution_millis": 11,
    "deepnote_cell_type": "code"
   },
   "source": "df_ca_sample2.head()",
   "execution_count": 76,
   "outputs": [
    {
     "output_type": "execute_result",
     "execution_count": 76,
     "data": {
      "application/vnd.deepnote.dataframe.v2+json": {
       "row_count": 5,
       "column_count": 12,
       "columns": [
        {
         "name": "State",
         "dtype": "object",
         "stats": {
          "unique_count": 2,
          "nan_count": 0,
          "categories": [
           {
            "name": "California",
            "count": 4
           },
           {
            "name": "CA",
            "count": 1
           }
          ]
         }
        },
        {
         "name": "HighQ",
         "dtype": "float64",
         "stats": {
          "unique_count": 5,
          "nan_count": 0,
          "min": "243.6",
          "max": "246.53",
          "histogram": [
           {
            "bin_start": 243.6,
            "bin_end": 243.893,
            "count": 1
           },
           {
            "bin_start": 243.893,
            "bin_end": 244.186,
            "count": 1
           },
           {
            "bin_start": 244.186,
            "bin_end": 244.47899999999998,
            "count": 0
           },
           {
            "bin_start": 244.47899999999998,
            "bin_end": 244.772,
            "count": 1
           },
           {
            "bin_start": 244.772,
            "bin_end": 245.065,
            "count": 0
           },
           {
            "bin_start": 245.065,
            "bin_end": 245.358,
            "count": 1
           },
           {
            "bin_start": 245.358,
            "bin_end": 245.651,
            "count": 0
           },
           {
            "bin_start": 245.651,
            "bin_end": 245.944,
            "count": 0
           },
           {
            "bin_start": 245.944,
            "bin_end": 246.237,
            "count": 0
           },
           {
            "bin_start": 246.237,
            "bin_end": 246.53,
            "count": 1
           }
          ]
         }
        },
        {
         "name": "HighQN",
         "dtype": "int64",
         "stats": {
          "unique_count": 5,
          "nan_count": 0,
          "min": "13435",
          "max": "16664",
          "histogram": [
           {
            "bin_start": 13435,
            "bin_end": 13757.9,
            "count": 1
           },
           {
            "bin_start": 13757.9,
            "bin_end": 14080.8,
            "count": 0
           },
           {
            "bin_start": 14080.8,
            "bin_end": 14403.7,
            "count": 0
           },
           {
            "bin_start": 14403.7,
            "bin_end": 14726.6,
            "count": 0
           },
           {
            "bin_start": 14726.6,
            "bin_end": 15049.5,
            "count": 0
           },
           {
            "bin_start": 15049.5,
            "bin_end": 15372.4,
            "count": 1
           },
           {
            "bin_start": 15372.4,
            "bin_end": 15695.3,
            "count": 0
           },
           {
            "bin_start": 15695.3,
            "bin_end": 16018.2,
            "count": 1
           },
           {
            "bin_start": 16018.2,
            "bin_end": 16341.1,
            "count": 0
           },
           {
            "bin_start": 16341.1,
            "bin_end": 16664,
            "count": 2
           }
          ]
         }
        },
        {
         "name": "MedQ",
         "dtype": "float64",
         "stats": {
          "unique_count": 5,
          "nan_count": 0,
          "min": "189.19",
          "max": "192.83",
          "histogram": [
           {
            "bin_start": 189.19,
            "bin_end": 189.554,
            "count": 2
           },
           {
            "bin_start": 189.554,
            "bin_end": 189.918,
            "count": 0
           },
           {
            "bin_start": 189.918,
            "bin_end": 190.282,
            "count": 0
           },
           {
            "bin_start": 190.282,
            "bin_end": 190.64600000000002,
            "count": 1
           },
           {
            "bin_start": 190.64600000000002,
            "bin_end": 191.01,
            "count": 0
           },
           {
            "bin_start": 191.01,
            "bin_end": 191.374,
            "count": 0
           },
           {
            "bin_start": 191.374,
            "bin_end": 191.738,
            "count": 1
           },
           {
            "bin_start": 191.738,
            "bin_end": 192.102,
            "count": 0
           },
           {
            "bin_start": 192.102,
            "bin_end": 192.466,
            "count": 0
           },
           {
            "bin_start": 192.466,
            "bin_end": 192.83,
            "count": 1
           }
          ]
         }
        },
        {
         "name": "MedQN",
         "dtype": "int64",
         "stats": {
          "unique_count": 5,
          "nan_count": 0,
          "min": "14590",
          "max": "19416",
          "histogram": [
           {
            "bin_start": 14590,
            "bin_end": 15072.6,
            "count": 1
           },
           {
            "bin_start": 15072.6,
            "bin_end": 15555.2,
            "count": 0
           },
           {
            "bin_start": 15555.2,
            "bin_end": 16037.8,
            "count": 0
           },
           {
            "bin_start": 16037.8,
            "bin_end": 16520.4,
            "count": 0
           },
           {
            "bin_start": 16520.4,
            "bin_end": 17003,
            "count": 1
           },
           {
            "bin_start": 17003,
            "bin_end": 17485.6,
            "count": 0
           },
           {
            "bin_start": 17485.6,
            "bin_end": 17968.2,
            "count": 0
           },
           {
            "bin_start": 17968.2,
            "bin_end": 18450.8,
            "count": 1
           },
           {
            "bin_start": 18450.8,
            "bin_end": 18933.4,
            "count": 0
           },
           {
            "bin_start": 18933.4,
            "bin_end": 19416,
            "count": 2
           }
          ]
         }
        },
        {
         "name": "LowQ",
         "dtype": "float64",
         "stats": {
          "unique_count": 3,
          "nan_count": 0,
          "min": "187.94",
          "max": "191.62",
          "histogram": [
           {
            "bin_start": 187.94,
            "bin_end": 188.308,
            "count": 1
           },
           {
            "bin_start": 188.308,
            "bin_end": 188.676,
            "count": 3
           },
           {
            "bin_start": 188.676,
            "bin_end": 189.044,
            "count": 0
           },
           {
            "bin_start": 189.044,
            "bin_end": 189.412,
            "count": 0
           },
           {
            "bin_start": 189.412,
            "bin_end": 189.78,
            "count": 0
           },
           {
            "bin_start": 189.78,
            "bin_end": 190.148,
            "count": 0
           },
           {
            "bin_start": 190.148,
            "bin_end": 190.516,
            "count": 0
           },
           {
            "bin_start": 190.516,
            "bin_end": 190.88400000000001,
            "count": 0
           },
           {
            "bin_start": 190.88400000000001,
            "bin_end": 191.252,
            "count": 0
           },
           {
            "bin_start": 191.252,
            "bin_end": 191.62,
            "count": 1
           }
          ]
         }
        },
        {
         "name": "LowQN",
         "dtype": "int64",
         "stats": {
          "unique_count": 5,
          "nan_count": 0,
          "min": "866",
          "max": "1109",
          "histogram": [
           {
            "bin_start": 866,
            "bin_end": 890.3,
            "count": 1
           },
           {
            "bin_start": 890.3,
            "bin_end": 914.6,
            "count": 0
           },
           {
            "bin_start": 914.6,
            "bin_end": 938.9,
            "count": 0
           },
           {
            "bin_start": 938.9,
            "bin_end": 963.2,
            "count": 0
           },
           {
            "bin_start": 963.2,
            "bin_end": 987.5,
            "count": 0
           },
           {
            "bin_start": 987.5,
            "bin_end": 1011.8,
            "count": 1
           },
           {
            "bin_start": 1011.8,
            "bin_end": 1036.1,
            "count": 0
           },
           {
            "bin_start": 1036.1,
            "bin_end": 1060.4,
            "count": 1
           },
           {
            "bin_start": 1060.4,
            "bin_end": 1084.7,
            "count": 0
           },
           {
            "bin_start": 1084.7,
            "bin_end": 1109,
            "count": 2
           }
          ]
         }
        },
        {
         "name": "date",
         "dtype": "datetime64[ns]",
         "stats": {
          "unique_count": 5,
          "nan_count": 0,
          "min": "2014-04-04 00:00:00",
          "max": "2015-01-14 00:00:00",
          "histogram": [
           {
            "bin_start": 1396569600000000000,
            "bin_end": 1399032000000000000,
            "count": 1
           },
           {
            "bin_start": 1399032000000000000,
            "bin_end": 1401494400000000000,
            "count": 0
           },
           {
            "bin_start": 1401494400000000000,
            "bin_end": 1403956800000000000,
            "count": 0
           },
           {
            "bin_start": 1403956800000000000,
            "bin_end": 1406419200000000000,
            "count": 0
           },
           {
            "bin_start": 1406419200000000000,
            "bin_end": 1408881600000000000,
            "count": 1
           },
           {
            "bin_start": 1408881600000000000,
            "bin_end": 1411344000000000000,
            "count": 0
           },
           {
            "bin_start": 1411344000000000000,
            "bin_end": 1413806400000000000,
            "count": 0
           },
           {
            "bin_start": 1413806400000000000,
            "bin_end": 1416268800000000000,
            "count": 1
           },
           {
            "bin_start": 1416268800000000000,
            "bin_end": 1418731200000000000,
            "count": 0
           },
           {
            "bin_start": 1418731200000000000,
            "bin_end": 1421193600000000000,
            "count": 2
           }
          ]
         }
        },
        {
         "name": "year",
         "dtype": "int64",
         "stats": {
          "unique_count": 2,
          "nan_count": 0,
          "min": "2014",
          "max": "2015",
          "histogram": [
           {
            "bin_start": 2014,
            "bin_end": 2014.1,
            "count": 4
           },
           {
            "bin_start": 2014.1,
            "bin_end": 2014.2,
            "count": 0
           },
           {
            "bin_start": 2014.2,
            "bin_end": 2014.3,
            "count": 0
           },
           {
            "bin_start": 2014.3,
            "bin_end": 2014.4,
            "count": 0
           },
           {
            "bin_start": 2014.4,
            "bin_end": 2014.5,
            "count": 0
           },
           {
            "bin_start": 2014.5,
            "bin_end": 2014.6,
            "count": 0
           },
           {
            "bin_start": 2014.6,
            "bin_end": 2014.7,
            "count": 0
           },
           {
            "bin_start": 2014.7,
            "bin_end": 2014.8,
            "count": 0
           },
           {
            "bin_start": 2014.8,
            "bin_end": 2014.9,
            "count": 0
           },
           {
            "bin_start": 2014.9,
            "bin_end": 2015,
            "count": 1
           }
          ]
         }
        },
        {
         "name": "month",
         "dtype": "int64",
         "stats": {
          "unique_count": 5,
          "nan_count": 0,
          "min": "1",
          "max": "12",
          "histogram": [
           {
            "bin_start": 1,
            "bin_end": 2.1,
            "count": 1
           },
           {
            "bin_start": 2.1,
            "bin_end": 3.2,
            "count": 0
           },
           {
            "bin_start": 3.2,
            "bin_end": 4.300000000000001,
            "count": 1
           },
           {
            "bin_start": 4.300000000000001,
            "bin_end": 5.4,
            "count": 0
           },
           {
            "bin_start": 5.4,
            "bin_end": 6.5,
            "count": 0
           },
           {
            "bin_start": 6.5,
            "bin_end": 7.6000000000000005,
            "count": 0
           },
           {
            "bin_start": 7.6000000000000005,
            "bin_end": 8.700000000000001,
            "count": 1
           },
           {
            "bin_start": 8.700000000000001,
            "bin_end": 9.8,
            "count": 0
           },
           {
            "bin_start": 9.8,
            "bin_end": 10.9,
            "count": 0
           },
           {
            "bin_start": 10.9,
            "bin_end": 12,
            "count": 2
           }
          ]
         }
        },
        {
         "name": "week",
         "dtype": "int64",
         "stats": {
          "unique_count": 5,
          "nan_count": 0,
          "min": "3",
          "max": "52",
          "histogram": [
           {
            "bin_start": 3,
            "bin_end": 7.9,
            "count": 1
           },
           {
            "bin_start": 7.9,
            "bin_end": 12.8,
            "count": 0
           },
           {
            "bin_start": 12.8,
            "bin_end": 17.700000000000003,
            "count": 1
           },
           {
            "bin_start": 17.700000000000003,
            "bin_end": 22.6,
            "count": 0
           },
           {
            "bin_start": 22.6,
            "bin_end": 27.5,
            "count": 0
           },
           {
            "bin_start": 27.5,
            "bin_end": 32.400000000000006,
            "count": 0
           },
           {
            "bin_start": 32.400000000000006,
            "bin_end": 37.300000000000004,
            "count": 1
           },
           {
            "bin_start": 37.300000000000004,
            "bin_end": 42.2,
            "count": 0
           },
           {
            "bin_start": 42.2,
            "bin_end": 47.1,
            "count": 1
           },
           {
            "bin_start": 47.1,
            "bin_end": 52,
            "count": 1
           }
          ]
         }
        },
        {
         "name": "weekday",
         "dtype": "int64",
         "stats": {
          "unique_count": 4,
          "nan_count": 0,
          "min": "2",
          "max": "6",
          "histogram": [
           {
            "bin_start": 2,
            "bin_end": 2.4,
            "count": 1
           },
           {
            "bin_start": 2.4,
            "bin_end": 2.8,
            "count": 0
           },
           {
            "bin_start": 2.8,
            "bin_end": 3.2,
            "count": 0
           },
           {
            "bin_start": 3.2,
            "bin_end": 3.6,
            "count": 0
           },
           {
            "bin_start": 3.6,
            "bin_end": 4,
            "count": 0
           },
           {
            "bin_start": 4,
            "bin_end": 4.4,
            "count": 2
           },
           {
            "bin_start": 4.4,
            "bin_end": 4.800000000000001,
            "count": 0
           },
           {
            "bin_start": 4.800000000000001,
            "bin_end": 5.2,
            "count": 1
           },
           {
            "bin_start": 5.2,
            "bin_end": 5.6,
            "count": 0
           },
           {
            "bin_start": 5.6,
            "bin_end": 6,
            "count": 1
           }
          ]
         }
        },
        {
         "name": "_deepnote_index_column",
         "dtype": "int64"
        }
       ],
       "rows_top": [
        {
         "State": "CA",
         "HighQ": 244.05,
         "HighQN": 16474,
         "MedQ": 189.42,
         "MedQN": 19085,
         "LowQ": 188.6,
         "LowQN": 1093,
         "date": "2014-12-28T00:00:00.000000",
         "year": 2014,
         "month": 12,
         "week": 52,
         "weekday": 6,
         "_deepnote_index_column": 20914
        },
        {
         "State": "California",
         "HighQ": 243.6,
         "HighQN": 16664,
         "MedQ": 189.19,
         "MedQN": 19416,
         "LowQ": 188.6,
         "LowQN": 1109,
         "date": "2015-01-14T00:00:00.000000",
         "year": 2015,
         "month": 1,
         "week": 3,
         "weekday": 2,
         "_deepnote_index_column": 10051
        },
        {
         "State": "California",
         "HighQ": 244.75,
         "HighQN": 15893,
         "MedQ": 190.43,
         "MedQN": 18113,
         "LowQ": 188.6,
         "LowQN": 1042,
         "date": "2014-11-15T00:00:00.000000",
         "year": 2014,
         "month": 11,
         "week": 46,
         "weekday": 5,
         "_deepnote_index_column": 11428
        },
        {
         "State": "California",
         "HighQ": 246.53,
         "HighQN": 13435,
         "MedQ": 192.83,
         "MedQN": 14590,
         "LowQ": 191.62,
         "LowQN": 866,
         "date": "2014-04-04T00:00:00.000000",
         "year": 2014,
         "month": 4,
         "week": 14,
         "weekday": 4,
         "_deepnote_index_column": 2503
        },
        {
         "State": "California",
         "HighQ": 245.27,
         "HighQN": 15108,
         "MedQ": 191.6,
         "MedQN": 16881,
         "LowQ": 187.94,
         "LowQN": 989,
         "date": "2014-08-15T00:00:00.000000",
         "year": 2014,
         "month": 8,
         "week": 33,
         "weekday": 4,
         "_deepnote_index_column": 11275
        }
       ],
       "rows_bottom": null
      },
      "text/plain": "            State   HighQ  HighQN    MedQ  MedQN    LowQ  LowQN       date  \\\n20914          CA  244.05   16474  189.42  19085  188.60   1093 2014-12-28   \n10051  California  243.60   16664  189.19  19416  188.60   1109 2015-01-14   \n11428  California  244.75   15893  190.43  18113  188.60   1042 2014-11-15   \n2503   California  246.53   13435  192.83  14590  191.62    866 2014-04-04   \n11275  California  245.27   15108  191.60  16881  187.94    989 2014-08-15   \n\n       year  month  week  weekday  \n20914  2014     12    52        6  \n10051  2015      1     3        2  \n11428  2014     11    46        5  \n2503   2014      4    14        4  \n11275  2014      8    33        4  ",
      "text/html": "<div>\n<style scoped>\n    .dataframe tbody tr th:only-of-type {\n        vertical-align: middle;\n    }\n\n    .dataframe tbody tr th {\n        vertical-align: top;\n    }\n\n    .dataframe thead th {\n        text-align: right;\n    }\n</style>\n<table border=\"1\" class=\"dataframe\">\n  <thead>\n    <tr style=\"text-align: right;\">\n      <th></th>\n      <th>State</th>\n      <th>HighQ</th>\n      <th>HighQN</th>\n      <th>MedQ</th>\n      <th>MedQN</th>\n      <th>LowQ</th>\n      <th>LowQN</th>\n      <th>date</th>\n      <th>year</th>\n      <th>month</th>\n      <th>week</th>\n      <th>weekday</th>\n    </tr>\n  </thead>\n  <tbody>\n    <tr>\n      <th>20914</th>\n      <td>CA</td>\n      <td>244.05</td>\n      <td>16474</td>\n      <td>189.42</td>\n      <td>19085</td>\n      <td>188.60</td>\n      <td>1093</td>\n      <td>2014-12-28</td>\n      <td>2014</td>\n      <td>12</td>\n      <td>52</td>\n      <td>6</td>\n    </tr>\n    <tr>\n      <th>10051</th>\n      <td>California</td>\n      <td>243.60</td>\n      <td>16664</td>\n      <td>189.19</td>\n      <td>19416</td>\n      <td>188.60</td>\n      <td>1109</td>\n      <td>2015-01-14</td>\n      <td>2015</td>\n      <td>1</td>\n      <td>3</td>\n      <td>2</td>\n    </tr>\n    <tr>\n      <th>11428</th>\n      <td>California</td>\n      <td>244.75</td>\n      <td>15893</td>\n      <td>190.43</td>\n      <td>18113</td>\n      <td>188.60</td>\n      <td>1042</td>\n      <td>2014-11-15</td>\n      <td>2014</td>\n      <td>11</td>\n      <td>46</td>\n      <td>5</td>\n    </tr>\n    <tr>\n      <th>2503</th>\n      <td>California</td>\n      <td>246.53</td>\n      <td>13435</td>\n      <td>192.83</td>\n      <td>14590</td>\n      <td>191.62</td>\n      <td>866</td>\n      <td>2014-04-04</td>\n      <td>2014</td>\n      <td>4</td>\n      <td>14</td>\n      <td>4</td>\n    </tr>\n    <tr>\n      <th>11275</th>\n      <td>California</td>\n      <td>245.27</td>\n      <td>15108</td>\n      <td>191.60</td>\n      <td>16881</td>\n      <td>187.94</td>\n      <td>989</td>\n      <td>2014-08-15</td>\n      <td>2014</td>\n      <td>8</td>\n      <td>33</td>\n      <td>4</td>\n    </tr>\n  </tbody>\n</table>\n</div>"
     },
     "metadata": {}
    }
   ]
  },
  {
   "cell_type": "code",
   "metadata": {
    "collapsed": true,
    "cell_id": "00096-4a188aaa-ba10-4c36-b29e-384087cce4c6",
    "deepnote_cell_type": "code"
   },
   "source": "",
   "execution_count": null,
   "outputs": []
  },
  {
   "cell_type": "markdown",
   "source": "<a style='text-decoration:none;line-height:16px;display:flex;color:#5B5B62;padding:10px;justify-content:end;' href='https://deepnote.com?utm_source=created-in-deepnote-cell&projectId=f5f90ba1-3290-463e-8fc6-44108f4fa21b' target=\"_blank\">\n<img alt='Created in deepnote.com' style='display:inline;max-height:16px;margin:0px;margin-right:7.5px;' src='data:image/svg+xml;base64,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' > </img>\nCreated in <span style='font-weight:600;margin-left:4px;'>Deepnote</span></a>",
   "metadata": {
    "tags": [],
    "created_in_deepnote_cell": true,
    "deepnote_cell_type": "markdown"
   }
  }
 ],
 "nbformat": 4,
 "nbformat_minor": 0,
 "metadata": {
  "kernelspec": {
   "display_name": "Python 2",
   "language": "python",
   "name": "python2"
  },
  "language_info": {
   "codemirror_mode": {
    "name": "ipython",
    "version": 2
   },
   "file_extension": ".py",
   "mimetype": "text/x-python",
   "name": "python",
   "nbconvert_exporter": "python",
   "pygments_lexer": "ipython2",
   "version": "2.7.10"
  },
  "deepnote_notebook_id": "556d94f8-5fe6-42ec-aa3a-20a98c4cfb3e",
  "deepnote": {},
  "deepnote_execution_queue": []
 }
}